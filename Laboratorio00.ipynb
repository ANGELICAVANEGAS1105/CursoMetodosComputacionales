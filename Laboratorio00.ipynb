{
  "nbformat": 4,
  "nbformat_minor": 0,
  "metadata": {
    "colab": {
      "name": "Laboratorio00.ipynb",
      "provenance": [],
      "collapsed_sections": [],
      "authorship_tag": "ABX9TyObR00TNTXWAjueD+4i/V6v",
      "include_colab_link": true
    },
    "kernelspec": {
      "name": "python3",
      "display_name": "Python 3"
    },
    "language_info": {
      "name": "python"
    }
  },
  "cells": [
    {
      "cell_type": "markdown",
      "metadata": {
        "id": "view-in-github",
        "colab_type": "text"
      },
      "source": [
        "<a href=\"https://colab.research.google.com/github/josemgiraldo/Metodos_Computacionales_taller/blob/main/Laboratorio00.ipynb\" target=\"_parent\"><img src=\"https://colab.research.google.com/assets/colab-badge.svg\" alt=\"Open In Colab\"/></a>"
      ]
    },
    {
      "cell_type": "markdown",
      "source": [
        "#TALLER 00"
      ],
      "metadata": {
        "id": "123O9UvqOCmv"
      }
    },
    {
      "cell_type": "markdown",
      "source": [
        "##1) Factorial ejecutado a través de una lista de todos los enteros hasta n. "
      ],
      "metadata": {
        "id": "Yaufo21oOPgw"
      }
    },
    {
      "cell_type": "code",
      "execution_count": null,
      "metadata": {
        "id": "Jw63-kwwCRxy"
      },
      "outputs": [],
      "source": [
        "def fac(n):\n",
        "  '''\n",
        "  calcula el fatorial de un número\n",
        "  Inputs:\n",
        "    n = variable tipo entero\n",
        "  Output:\n",
        "    Factorial de n\n",
        "  '''\n",
        "  if n == 0 :\n",
        "    return 1\n",
        "  elif n < 0:\n",
        "    return print('Error')\n",
        "  else: \n",
        "    a=1\n",
        "    l=list(range(2,n+1))\n",
        "    for i in range(len(l)):\n",
        "      a=a*l[i]\n",
        "    return a"
      ]
    },
    {
      "cell_type": "markdown",
      "source": [
        "##Otra implementación del factorial de forma recursiva."
      ],
      "metadata": {
        "id": "Mi54xLOEOik2"
      }
    },
    {
      "cell_type": "code",
      "source": [
        "def fac_rec(n):\n",
        "  '''\n",
        "  calcula el fatorial de un número\n",
        "  Inputs:\n",
        "    n = variable tipo entero\n",
        "  Output:\n",
        "    Factorial de n\n",
        "  '''\n",
        "  if n == 1 or n == 0:\n",
        "    return 1\n",
        "  else:\n",
        "    return n*fac_rec(n-1)"
      ],
      "metadata": {
        "id": "FOqUjBb3IvsG"
      },
      "execution_count": null,
      "outputs": []
    },
    {
      "cell_type": "markdown",
      "source": [
        "#2) Clasificación de números"
      ],
      "metadata": {
        "id": "xWowIYv-PE5A"
      }
    },
    {
      "cell_type": "code",
      "source": [
        "a=11\n",
        "b=23\n",
        "\n",
        "def defectivo(n):\n",
        "  '''\n",
        "  Retorna si el número ingresado es defectivo\n",
        "  Inputs: \n",
        "    n = variable tipo entero\n",
        "  Output:\n",
        "    Variale lógica que indica si el número es defectivo\n",
        "  '''\n",
        "  l=list(range(1,n))\n",
        "  div=[]\n",
        "  for i in l:\n",
        "    if n%i == 0:\n",
        "      div.append(i)\n",
        "  if sum(div) < n:\n",
        "     return True\n",
        "  else:\n",
        "    return False\n",
        "\n",
        "def abundante(n):\n",
        "  '''\n",
        "  Retorna si el número ingresado es abundante\n",
        "  Inputs: \n",
        "    n = variable tipo entero\n",
        "  Output:\n",
        "    Variale lógica que indica si el número es abundante\n",
        "  '''\n",
        "  l=list(range(1,n))\n",
        "  div=[]\n",
        "  for i in l:\n",
        "    if n%i == 0:\n",
        "      div.append(i)\n",
        "  if sum(div) > n:\n",
        "     return True\n",
        "  else:\n",
        "    return False  \n",
        "\n",
        "def amigos(n,m):\n",
        "  amigos=False\n",
        "  l1=list(range(1,n))\n",
        "  l2=list(range(1,m))\n",
        "  div1=[]\n",
        "  div2=[]\n",
        "  for i in l1:\n",
        "    if n%i == 0:\n",
        "      div1.append(i)\n",
        "  for j in l2:\n",
        "    if m%j == 0:\n",
        "      div2.append(j)\n",
        "  if sum(div1)==m and sum(div2)==n:\n",
        "    amigos = True\n",
        "  return amigos\n",
        "\n",
        "def perfecto(n):\n",
        "  perfecto = False\n",
        "  l=list(range(1,n))\n",
        "  div=[]\n",
        "  for i in l:\n",
        "    if n%i == 0:\n",
        "      div.append(i)\n",
        "  if sum(div) == n:\n",
        "    perfecto=True\n",
        "  return perfecto\n",
        "\n",
        "def primo(n):\n",
        "  '''\n",
        "  Retorna si el número ingresado es o no primo\n",
        "  Inputs: \n",
        "    n = variable tipo entero\n",
        "  Output:\n",
        "    Variale lógica que indica si el número es primo\n",
        "    '''\n",
        "  primo = True\n",
        "  l=list(range(2,int(n/2)+1))\n",
        "  for i in range(len(l)):\n",
        "    if n%l[i] == 0:\n",
        "      primo =False\n",
        "  return primo\n",
        "\n",
        "def clase_numero(n,m):\n",
        "  if amigos(n,m):\n",
        "    print(n,'y',m,'son amigos')\n",
        "  if abundante(n): print(n,'es abundante')\n",
        "  if abundante(m): print(m,'es abundante')\n",
        "  if defectivo(n): print(n,'es defectivo')\n",
        "  if defectivo(m): print(m,'es defectivo')\n",
        "  if perfecto(n): print(n,'es perfecto')\n",
        "  if perfecto(m): print(m,'es perfecto')\n",
        "  if primo(n): print(n,'es primo')\n",
        "  if primo(m): print(m,'es primo')"
      ],
      "metadata": {
        "id": "D-9ufJT9PBHE"
      },
      "execution_count": 27,
      "outputs": []
    },
    {
      "cell_type": "markdown",
      "source": [
        "# 3) Palindromo"
      ],
      "metadata": {
        "id": "EHRhCHBwUOE1"
      }
    },
    {
      "cell_type": "code",
      "source": [
        "def palindromo(n):\n",
        "  c=str(n) #Se transforma el número en cadena\n",
        "  p = True #Se define un booleano como verdadero\n",
        "  a=-1; b=0 #Se crean variables para recorrer la cadena desde puntos distintos\n",
        "  while b < int(len(c)/2):\n",
        "    if c[a] != c[b]:\n",
        "      p = False #Si hay un par que no cumple para el loop\n",
        "      break \n",
        "    a -=1; b+=1 # a recorre la cadena en reversa y b hacia adelante\n",
        "  return p"
      ],
      "metadata": {
        "id": "RgGQttlUbgIc"
      },
      "execution_count": 20,
      "outputs": []
    },
    {
      "cell_type": "markdown",
      "source": [
        "# 4) Lector de cadenas de caracteres"
      ],
      "metadata": {
        "id": "DC9bf8POw_n4"
      }
    },
    {
      "cell_type": "code",
      "source": [
        "cadena='arbol' # Cadena a analizar\n",
        "\n",
        "vocales=['a','e','i','o','u'] # lista con todas las vocales\n",
        "\n",
        "l=[] # Lista vacía para almacenar cada letra de la cadena\n",
        "\n",
        "for i in cadena:\n",
        "  l.append(i)\n",
        "\n",
        "v = False #Booleano que indica si la letra del medio es vocal o no\n",
        "\n",
        "n_v=0 #Variable para contar el número de vocales inicializado en 0 \n",
        "\n",
        "cadena_inv='' #Variable tipo cadena vacía para invertir la original\n",
        "\n",
        "# Para ver si la letra del medio es vocal\n",
        "\n",
        "h=len(l)\n",
        "\n",
        "if h % 2 == 0: # Si el número de letras es par se puede decir que hay dos \n",
        "  if l[int(h/2)] or l[int(h/2)-1] in vocales: # letras en la mitad\n",
        "    v = True # así que tomamos cualquiera para cambiar el booleano\n",
        "else:\n",
        "  if l[int(h/2)] in vocales: #Si el número de letras es impar\n",
        "    v = True # solo nos interesa la de la mitad\n",
        "\n",
        "# Para contar el número de vocales\n",
        "\n",
        "for i in cadena:\n",
        "  if i in vocales:\n",
        "    n_v += 1\n",
        "\n",
        "# Para contar el número de consonantes solo se resta a la cantidad de\n",
        "# total de letras el número de vocales\n",
        "\n",
        "n_c=len(l)-n_v   \n",
        "\n",
        "# Para invertir la cadena\n",
        "\n",
        "l_inv=l[::-1] # Se invierte la lista \n",
        "\n",
        "for j in l_inv: # Se suman los caracteres de a uno\n",
        "  cadena_inv += j\n",
        "\n",
        "respuesta=[v,n_v,n_c,cadena_inv]\n",
        "\n",
        "print(respuesta)"
      ],
      "metadata": {
        "id": "ptRH-szTpWwi",
        "colab": {
          "base_uri": "https://localhost:8080/"
        },
        "outputId": "a245fc16-56dd-484f-884b-a3d18147cb26"
      },
      "execution_count": null,
      "outputs": [
        {
          "output_type": "stream",
          "name": "stdout",
          "text": [
            "[False, 2, 3, 'lobra']\n"
          ]
        }
      ]
    },
    {
      "cell_type": "markdown",
      "source": [
        "# 5) n-ésimo término de sucesión de Fibonacci"
      ],
      "metadata": {
        "id": "3hdeZMKK17O4"
      }
    },
    {
      "cell_type": "code",
      "source": [
        "def fibonacci(n):\n",
        "  if n==0 or n==1:\n",
        "    return 1\n",
        "  else:\n",
        "    return fibonacci(n-1) + fibonacci(n-2)\n"
      ],
      "metadata": {
        "id": "LVOhKZh0KxEL"
      },
      "execution_count": 25,
      "outputs": []
    },
    {
      "cell_type": "markdown",
      "source": [
        "# 6) Ordenar arreglo de números"
      ],
      "metadata": {
        "id": "CS0mJG5CMSm5"
      }
    },
    {
      "cell_type": "code",
      "source": [
        "v = [22, 32, 42, 12, 22, 31, 41, 11, 12, 232, 24, 12, 22]\n",
        "nv = []\n",
        "\n",
        "while v:\n",
        "    min = v[0]  \n",
        "    for i in v: \n",
        "        if i < min:\n",
        "            min = i\n",
        "    nv.append(min)\n",
        "    v.remove(min)    \n",
        "\n",
        "print(nv)"
      ],
      "metadata": {
        "colab": {
          "base_uri": "https://localhost:8080/"
        },
        "id": "eoZ2tVvpQrLa",
        "outputId": "e6ddb209-7303-40f8-dfa8-0b9b0526662f"
      },
      "execution_count": 26,
      "outputs": [
        {
          "output_type": "stream",
          "name": "stdout",
          "text": [
            "[11, 12, 12, 12, 22, 22, 22, 24, 31, 32, 41, 42, 232]\n"
          ]
        }
      ]
    }
  ]
}