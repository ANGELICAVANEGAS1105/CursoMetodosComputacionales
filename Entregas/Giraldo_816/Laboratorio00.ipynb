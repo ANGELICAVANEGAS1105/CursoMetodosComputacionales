{
  "nbformat": 4,
  "nbformat_minor": 0,
  "metadata": {
    "colab": {
      "name": "Laboratorio00.ipynb",
      "provenance": []
    },
    "kernelspec": {
      "name": "python3",
      "display_name": "Python 3"
    },
    "language_info": {
      "name": "python"
    }
  },
  "cells": [
    {
      "cell_type": "code",
      "execution_count": 36,
      "metadata": {
        "id": "Jw63-kwwCRxy"
      },
      "outputs": [],
      "source": [
        "def fac(n):\n",
        "  '''\n",
        "  calcula el fatorial de un número\n",
        "  Inputs:\n",
        "    n = variable tipo entero\n",
        "  Output:\n",
        "    Factorial de n\n",
        "  '''\n",
        "  if n == 0 :\n",
        "    return 1\n",
        "  elif n < 0:\n",
        "    return print('Error')\n",
        "  else: \n",
        "    a=1\n",
        "    l=list(range(2,n+1))\n",
        "    for i in range(len(l)):\n",
        "      a=a*l[i]\n",
        "    return a"
      ]
    },
    {
      "cell_type": "code",
      "source": [
        "fac(9)"
      ],
      "metadata": {
        "colab": {
          "base_uri": "https://localhost:8080/"
        },
        "id": "1MldL3OvEAe3",
        "outputId": "4b6bcc52-0177-48fa-e4e2-36bba0666887"
      },
      "execution_count": 37,
      "outputs": [
        {
          "output_type": "execute_result",
          "data": {
            "text/plain": [
              "362880"
            ]
          },
          "metadata": {},
          "execution_count": 37
        }
      ]
    },
    {
      "cell_type": "code",
      "source": [
        "def fac2(n):\n",
        "  if n == 1 or n == 0:\n",
        "    return 1\n",
        "  else:\n",
        "    return n*fac2(n-1)"
      ],
      "metadata": {
        "id": "FOqUjBb3IvsG"
      },
      "execution_count": 43,
      "outputs": []
    },
    {
      "cell_type": "code",
      "source": [
        "fac2(9)"
      ],
      "metadata": {
        "colab": {
          "base_uri": "https://localhost:8080/"
        },
        "id": "WcjqGEsIJiHV",
        "outputId": "6a940501-4b68-4aa2-c923-d59ce9300bd0"
      },
      "execution_count": 44,
      "outputs": [
        {
          "output_type": "execute_result",
          "data": {
            "text/plain": [
              "362880"
            ]
          },
          "metadata": {},
          "execution_count": 44
        }
      ]
    },
    {
      "cell_type": "code",
      "source": [
        "fac2(0)"
      ],
      "metadata": {
        "colab": {
          "base_uri": "https://localhost:8080/"
        },
        "id": "SbmT4nWvMoiG",
        "outputId": "31178807-08ce-4ff1-a6ad-3a0c2f98ab70"
      },
      "execution_count": 45,
      "outputs": [
        {
          "output_type": "execute_result",
          "data": {
            "text/plain": [
              "1"
            ]
          },
          "metadata": {},
          "execution_count": 45
        }
      ]
    },
    {
      "cell_type": "code",
      "source": [
        ""
      ],
      "metadata": {
        "id": "P31prlyiNxBd"
      },
      "execution_count": null,
      "outputs": []
    }
  ]
}