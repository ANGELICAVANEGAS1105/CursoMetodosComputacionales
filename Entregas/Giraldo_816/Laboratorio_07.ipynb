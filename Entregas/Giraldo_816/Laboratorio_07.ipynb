{
  "nbformat": 4,
  "nbformat_minor": 0,
  "metadata": {
    "colab": {
      "provenance": []
    },
    "kernelspec": {
      "name": "python3",
      "display_name": "Python 3"
    },
    "language_info": {
      "name": "python"
    }
  },
  "cells": [
    {
      "cell_type": "code",
      "execution_count": 3,
      "metadata": {
        "id": "tCN6Pj3Su3hW"
      },
      "outputs": [],
      "source": [
        "from sympy.interactive.session import init_printing\n",
        "import numpy as np\n",
        "import pandas as pd\n",
        "import sympy as sy\n",
        "import matplotlib.pyplot as plt\n",
        "from scipy import interpolate\n",
        "from scipy import integrate"
      ]
    },
    {
      "cell_type": "markdown",
      "source": [
        "# 1) Circuito RLC\n",
        "\n",
        "$$\\epsilon(t)=L\\frac{di}{dt}+Ri $$"
      ],
      "metadata": {
        "id": "XAHF-Nb-vL9z"
      }
    },
    {
      "cell_type": "code",
      "source": [
        "t = np.array([1.00, 1.01, 1.02, 1.03, 1.04]) #s\n",
        "i = np.array([3.10, 3.12, 3.14, 3.18, 3.24]) #A\n",
        "L = 0.98 #H\n",
        "R = 0.142 #ohms\n",
        "\n",
        "tabla=pd.DataFrame({'t':t,'i':i})\n",
        "tabla"
      ],
      "metadata": {
        "colab": {
          "base_uri": "https://localhost:8080/",
          "height": 206
        },
        "id": "6exDN6o8vCWx",
        "outputId": "934fb26b-90ef-4dc8-90e3-bf1110a2d665"
      },
      "execution_count": 4,
      "outputs": [
        {
          "output_type": "execute_result",
          "data": {
            "text/plain": [
              "      t     i\n",
              "0  1.00  3.10\n",
              "1  1.01  3.12\n",
              "2  1.02  3.14\n",
              "3  1.03  3.18\n",
              "4  1.04  3.24"
            ],
            "text/html": [
              "\n",
              "  <div id=\"df-c8d91032-ffad-4f71-9d1c-3eb3be7d7945\">\n",
              "    <div class=\"colab-df-container\">\n",
              "      <div>\n",
              "<style scoped>\n",
              "    .dataframe tbody tr th:only-of-type {\n",
              "        vertical-align: middle;\n",
              "    }\n",
              "\n",
              "    .dataframe tbody tr th {\n",
              "        vertical-align: top;\n",
              "    }\n",
              "\n",
              "    .dataframe thead th {\n",
              "        text-align: right;\n",
              "    }\n",
              "</style>\n",
              "<table border=\"1\" class=\"dataframe\">\n",
              "  <thead>\n",
              "    <tr style=\"text-align: right;\">\n",
              "      <th></th>\n",
              "      <th>t</th>\n",
              "      <th>i</th>\n",
              "    </tr>\n",
              "  </thead>\n",
              "  <tbody>\n",
              "    <tr>\n",
              "      <th>0</th>\n",
              "      <td>1.00</td>\n",
              "      <td>3.10</td>\n",
              "    </tr>\n",
              "    <tr>\n",
              "      <th>1</th>\n",
              "      <td>1.01</td>\n",
              "      <td>3.12</td>\n",
              "    </tr>\n",
              "    <tr>\n",
              "      <th>2</th>\n",
              "      <td>1.02</td>\n",
              "      <td>3.14</td>\n",
              "    </tr>\n",
              "    <tr>\n",
              "      <th>3</th>\n",
              "      <td>1.03</td>\n",
              "      <td>3.18</td>\n",
              "    </tr>\n",
              "    <tr>\n",
              "      <th>4</th>\n",
              "      <td>1.04</td>\n",
              "      <td>3.24</td>\n",
              "    </tr>\n",
              "  </tbody>\n",
              "</table>\n",
              "</div>\n",
              "      <button class=\"colab-df-convert\" onclick=\"convertToInteractive('df-c8d91032-ffad-4f71-9d1c-3eb3be7d7945')\"\n",
              "              title=\"Convert this dataframe to an interactive table.\"\n",
              "              style=\"display:none;\">\n",
              "        \n",
              "  <svg xmlns=\"http://www.w3.org/2000/svg\" height=\"24px\"viewBox=\"0 0 24 24\"\n",
              "       width=\"24px\">\n",
              "    <path d=\"M0 0h24v24H0V0z\" fill=\"none\"/>\n",
              "    <path d=\"M18.56 5.44l.94 2.06.94-2.06 2.06-.94-2.06-.94-.94-2.06-.94 2.06-2.06.94zm-11 1L8.5 8.5l.94-2.06 2.06-.94-2.06-.94L8.5 2.5l-.94 2.06-2.06.94zm10 10l.94 2.06.94-2.06 2.06-.94-2.06-.94-.94-2.06-.94 2.06-2.06.94z\"/><path d=\"M17.41 7.96l-1.37-1.37c-.4-.4-.92-.59-1.43-.59-.52 0-1.04.2-1.43.59L10.3 9.45l-7.72 7.72c-.78.78-.78 2.05 0 2.83L4 21.41c.39.39.9.59 1.41.59.51 0 1.02-.2 1.41-.59l7.78-7.78 2.81-2.81c.8-.78.8-2.07 0-2.86zM5.41 20L4 18.59l7.72-7.72 1.47 1.35L5.41 20z\"/>\n",
              "  </svg>\n",
              "      </button>\n",
              "      \n",
              "  <style>\n",
              "    .colab-df-container {\n",
              "      display:flex;\n",
              "      flex-wrap:wrap;\n",
              "      gap: 12px;\n",
              "    }\n",
              "\n",
              "    .colab-df-convert {\n",
              "      background-color: #E8F0FE;\n",
              "      border: none;\n",
              "      border-radius: 50%;\n",
              "      cursor: pointer;\n",
              "      display: none;\n",
              "      fill: #1967D2;\n",
              "      height: 32px;\n",
              "      padding: 0 0 0 0;\n",
              "      width: 32px;\n",
              "    }\n",
              "\n",
              "    .colab-df-convert:hover {\n",
              "      background-color: #E2EBFA;\n",
              "      box-shadow: 0px 1px 2px rgba(60, 64, 67, 0.3), 0px 1px 3px 1px rgba(60, 64, 67, 0.15);\n",
              "      fill: #174EA6;\n",
              "    }\n",
              "\n",
              "    [theme=dark] .colab-df-convert {\n",
              "      background-color: #3B4455;\n",
              "      fill: #D2E3FC;\n",
              "    }\n",
              "\n",
              "    [theme=dark] .colab-df-convert:hover {\n",
              "      background-color: #434B5C;\n",
              "      box-shadow: 0px 1px 3px 1px rgba(0, 0, 0, 0.15);\n",
              "      filter: drop-shadow(0px 1px 2px rgba(0, 0, 0, 0.3));\n",
              "      fill: #FFFFFF;\n",
              "    }\n",
              "  </style>\n",
              "\n",
              "      <script>\n",
              "        const buttonEl =\n",
              "          document.querySelector('#df-c8d91032-ffad-4f71-9d1c-3eb3be7d7945 button.colab-df-convert');\n",
              "        buttonEl.style.display =\n",
              "          google.colab.kernel.accessAllowed ? 'block' : 'none';\n",
              "\n",
              "        async function convertToInteractive(key) {\n",
              "          const element = document.querySelector('#df-c8d91032-ffad-4f71-9d1c-3eb3be7d7945');\n",
              "          const dataTable =\n",
              "            await google.colab.kernel.invokeFunction('convertToInteractive',\n",
              "                                                     [key], {});\n",
              "          if (!dataTable) return;\n",
              "\n",
              "          const docLinkHtml = 'Like what you see? Visit the ' +\n",
              "            '<a target=\"_blank\" href=https://colab.research.google.com/notebooks/data_table.ipynb>data table notebook</a>'\n",
              "            + ' to learn more about interactive tables.';\n",
              "          element.innerHTML = '';\n",
              "          dataTable['output_type'] = 'display_data';\n",
              "          await google.colab.output.renderOutput(dataTable, element);\n",
              "          const docLink = document.createElement('div');\n",
              "          docLink.innerHTML = docLinkHtml;\n",
              "          element.appendChild(docLink);\n",
              "        }\n",
              "      </script>\n",
              "    </div>\n",
              "  </div>\n",
              "  "
            ]
          },
          "metadata": {},
          "execution_count": 4
        }
      ]
    },
    {
      "cell_type": "code",
      "source": [
        "il=interpolate.lagrange(t,i)"
      ],
      "metadata": {
        "id": "AFuGFJdZvnlA"
      },
      "execution_count": 5,
      "outputs": []
    },
    {
      "cell_type": "code",
      "source": [
        "def der(f,x0,h=1e-10):\n",
        "  return (f(x0+h)-f(x0))/h\n",
        "\n",
        "ia=np.linspace(0,1,100)\n",
        "\n",
        "ϵ= lambda ia:L*der(il,ia)+R*ia\n",
        "\n",
        "plt.figure(figsize=(20,10))\n",
        "plt.plot(ia,ϵ(ia),'o-r')\n",
        "plt.show()\n",
        "\n",
        "ϵ(1)"
      ],
      "metadata": {
        "colab": {
          "base_uri": "https://localhost:8080/",
          "height": 609
        },
        "id": "brJeDEp0v5s4",
        "outputId": "d9c350e4-15d7-4a52-8e15-6e24be519352"
      },
      "execution_count": 6,
      "outputs": [
        {
          "output_type": "display_data",
          "data": {
            "text/plain": [
              "<Figure size 1440x720 with 1 Axes>"
            ],
            "image/png": "[encoded data removed]"
          },
          "metadata": {
            "needs_background": "light"
          }
        },
        {
          "output_type": "execute_result",
          "data": {
            "text/plain": [
              "3.4220016924738883"
            ]
          },
          "metadata": {},
          "execution_count": 6
        }
      ]
    },
    {
      "cell_type": "markdown",
      "source": [
        "# 1) Parte 2\n",
        "## Métodos"
      ],
      "metadata": {
        "id": "AxJjAY3JyEWt"
      }
    },
    {
      "cell_type": "markdown",
      "source": [
        "## Regla del trapecio.\n",
        "\n",
        "1. Se genera un arreglo de n intervalos entre los límites de la integral.\n",
        "2. Se evalúa la función en ambos extremos de cada intervalo.\n",
        "3. Se calcula el área de cada trapecio con:\n",
        "$$A=\\frac{h}{2}(B+b)$$  \n",
        "\n",
        "4. El valor de la integral definida es la suma del área de cada trapecio."
      ],
      "metadata": {
        "id": "FKiLa8yByLT4"
      }
    },
    {
      "cell_type": "markdown",
      "source": [
        "## Regla de Simpson.\n",
        "\n",
        "1. Se hace una interpolación de Lagrange en n puntos sobre la función.\n",
        "2. Se calcula la integral del polinomio resultado de la interpolación.\n",
        "3. Este valor se puede aproximar al valor de la inegral con cierta cota de error.\n"
      ],
      "metadata": {
        "id": "dP7uxBrsEb-J"
      }
    },
    {
      "cell_type": "markdown",
      "source": [
        "## Método de Cuadratura\n",
        "\n",
        "1. Se genera un areglo de n intervalos entre los límites de la integral.  \n",
        "2. Se calcula la altura promedio del rectángulo por:\n",
        "\n",
        "$$h=\\frac{f(x_2)-f(x_1)}{2}$$\n",
        "\n",
        "3. Se calcula al área de cada rectángulo.\n",
        "4. El valor de la integral definida es la suma del área de cada rectángulo."
      ],
      "metadata": {
        "id": "xFV3ue-dGJlH"
      }
    },
    {
      "cell_type": "markdown",
      "source": [
        "## Integrales definidas\n",
        "$$\\int_{0}^{\\pi/2} \\frac{1}{\\sqrt{\\tan{x}}} \\mathrm{d}x$$"
      ],
      "metadata": {
        "id": "9V6NTC66H2Au"
      }
    },
    {
      "cell_type": "code",
      "source": [
        "g1 = lambda x: 1/np.sqrt(np.tan(x))\n",
        "i1 = np.linspace(0.01,np.pi/2,10000)\n",
        "a1=integrate.quad(g1,0,np.pi/2)[0] # Cuadratura\n",
        "b1=integrate.trapz(g1(i1),i1) # Trapecio\n",
        "c1=integrate.simps(g1(i1),i1) # Simpson\n",
        "a1,b1,c1"
      ],
      "metadata": {
        "id": "_Z-NvUKXwpjg",
        "colab": {
          "base_uri": "https://localhost:8080/"
        },
        "outputId": "4b7cbf86-2c8b-4ada-f850-46cdc3534197"
      },
      "execution_count": 21,
      "outputs": [
        {
          "output_type": "execute_result",
          "data": {
            "text/plain": [
              "(2.2214414690792026, 2.0214427456011403, 2.0214419045632375)"
            ]
          },
          "metadata": {},
          "execution_count": 21
        }
      ]
    },
    {
      "cell_type": "markdown",
      "source": [
        "$$\\int_{-\\infty}^{\\infty} \\! \\frac{1}{1+x^2} \\mathrm{d}x$$"
      ],
      "metadata": {
        "id": "H78Cag6GJu4N"
      }
    },
    {
      "cell_type": "code",
      "source": [
        "g2 = lambda x: 1/(1+x**2)\n",
        "i2=np.linspace(-1000,1000,10000)\n",
        "a2=integrate.quad(g2,np.NINF,np.inf)[0]\n",
        "b2=integrate.trapz(g2(i2),i2)\n",
        "c2=integrate.simps(g2(i2),i2)\n",
        "a2,b2,c2"
      ],
      "metadata": {
        "colab": {
          "base_uri": "https://localhost:8080/"
        },
        "id": "N-X1EQL3IwNB",
        "outputId": "0485056f-c748-43ef-f870-542fc8b1d04b"
      },
      "execution_count": 31,
      "outputs": [
        {
          "output_type": "execute_result",
          "data": {
            "text/plain": [
              "(3.141592653589793, 3.1395926542429824, 3.1395926542563215)"
            ]
          },
          "metadata": {},
          "execution_count": 31
        }
      ]
    },
    {
      "cell_type": "markdown",
      "source": [
        "$$\\int_{0}^{\\pi/4}\\int_{\\sin{x}}^{\\cos{x}} \\! (2y\\sin{x}+\\cos^2{x})\\mathrm{d}x\\mathrm{d}y$$"
      ],
      "metadata": {
        "id": "vaO_yy_aK8Ck"
      }
    },
    {
      "cell_type": "code",
      "source": [
        "xi=np.linspace(0,np.pi/4,100)\n",
        "yi=np.zeros(len(xi))\n",
        "for i in range(len(yi)):\n",
        "  g3=lambda y: 2*y*np.sin(xi[i])+np.cos(xi[i])**2\n",
        "  yi[i]=integrate.quad(g3,np.sin(xi[i]),np.cos(xi[i]))[0]\n",
        "\n",
        "b3=integrate.trapz(yi,xi)\n",
        "c3=integrate.simps(yi,xi)\n",
        "\n",
        "b3,c3"
      ],
      "metadata": {
        "colab": {
          "base_uri": "https://localhost:8080/"
        },
        "id": "3zWOd-58J4OF",
        "outputId": "3e04a728-cf94-48bb-9826-c7a23e69c069"
      },
      "execution_count": 33,
      "outputs": [
        {
          "output_type": "execute_result",
          "data": {
            "text/plain": [
              "(0.5118335093392186, 0.5118445718953842)"
            ]
          },
          "metadata": {},
          "execution_count": 33
        }
      ]
    },
    {
      "cell_type": "markdown",
      "source": [
        "$$\\int_{e}^{2e}{\\frac{1}{\\ln{x}}}\\mathrm{d}x$$"
      ],
      "metadata": {
        "id": "FJYzNLtBL278"
      }
    },
    {
      "cell_type": "code",
      "source": [
        "g4=lambda x: 1/np.log(x)\n",
        "i3=np.linspace(np.e,2*np.e,1000)\n",
        "a4=integrate.quad(g4,np.e,2*np.e)[0]\n",
        "b4=integrate.trapz(g4(i3),i3)\n",
        "c4=integrate.simps(g4(i3),i3)\n",
        "a4,b4,c4"
      ],
      "metadata": {
        "colab": {
          "base_uri": "https://localhost:8080/"
        },
        "id": "fCqV4lPbLpRp",
        "outputId": "0951440e-8094-4afa-cbe4-1671bd055f3c"
      },
      "execution_count": 39,
      "outputs": [
        {
          "output_type": "execute_result",
          "data": {
            "text/plain": [
              "(2.0038105616240243, 2.003810749013251, 2.0038105619858713)"
            ]
          },
          "metadata": {},
          "execution_count": 39
        }
      ]
    },
    {
      "cell_type": "markdown",
      "source": [
        "## Integrales elípticas"
      ],
      "metadata": {
        "id": "DBhQyfV_M8Kj"
      }
    },
    {
      "cell_type": "markdown",
      "source": [
        "###1)\n",
        "\n",
        "$$K(m)=\\int_0^{\\pi/2}\\frac{\\mathrm{d}\\phi}{\\sqrt{1-m\\sin^2\\phi}}$$"
      ],
      "metadata": {
        "id": "jOpjdxMRNTN0"
      }
    },
    {
      "cell_type": "code",
      "source": [
        "a0=1.3862944\n",
        "b0=.5\n",
        "a1=.1119723\n",
        "b1=.2113478\n",
        "a2=.00725296\n",
        "b2=.0288729\n",
        "ϵ=3e-5"
      ],
      "metadata": {
        "id": "CPyT5EVEPaoF"
      },
      "execution_count": 42,
      "outputs": []
    },
    {
      "cell_type": "code",
      "source": [
        "mi=np.linspace(0.01,0.99,100)\n",
        "ϕi=np.linspace(0.01,np.pi/2,100)\n",
        "K=np.zeros(len(mi))\n",
        "apr=np.zeros(len(mi))\n",
        "dif=np.zeros(len(mi))\n",
        "\n",
        "for i in range(len(mi)):\n",
        "\n",
        "  m1=1-mi[i]\n",
        "\n",
        "  k=lambda ϕ: 1/np.sqrt(1-mi[i]*np.sin(ϕ)**2)\n",
        "\n",
        "  K[i]=integrate.simps(k(ϕi),ϕi)\n",
        "\n",
        "  apr[i]=a0+a1*m1+a2*m1-(b0+b1*m1+b2*m1**2)*np.log(m1)+ϵ\n",
        "\n",
        "  dif[i]=abs(K[i]-apr[i])\n",
        "\n",
        "dfK=pd.DataFrame({'m':mi,'K(m)':K,'Aproximación':apr,'Diferencia':dif})\n",
        "dfK"
      ],
      "metadata": {
        "colab": {
          "base_uri": "https://localhost:8080/",
          "height": 424
        },
        "id": "pNmFu6PiMhNY",
        "outputId": "76eb994c-a6a6-46f5-bcbf-b6344c9263c5"
      },
      "execution_count": 57,
      "outputs": [
        {
          "output_type": "execute_result",
          "data": {
            "text/plain": [
              "           m      K(m)  Aproximación  Diferencia\n",
              "0   0.010000  1.564746      1.511770    0.052976\n",
              "1   0.019899  1.568699      1.517948    0.050751\n",
              "2   0.029798  1.572698      1.524148    0.048551\n",
              "3   0.039697  1.576743      1.530370    0.046374\n",
              "4   0.049596  1.580835      1.536615    0.044221\n",
              "..       ...       ...           ...         ...\n",
              "95  0.950404  2.902231      2.925860    0.023629\n",
              "96  0.960303  3.009776      3.031514    0.021738\n",
              "97  0.970202  3.149137      3.168750    0.019614\n",
              "98  0.980101  3.346569      3.363759    0.017190\n",
              "99  0.990000  3.685479      3.699848    0.014369\n",
              "\n",
              "[100 rows x 4 columns]"
            ],
            "text/html": [
              "\n",
              "  <div id=\"df-a3969ede-c770-4e57-b779-504ee5b86f1d\">\n",
              "    <div class=\"colab-df-container\">\n",
              "      <div>\n",
              "<style scoped>\n",
              "    .dataframe tbody tr th:only-of-type {\n",
              "        vertical-align: middle;\n",
              "    }\n",
              "\n",
              "    .dataframe tbody tr th {\n",
              "        vertical-align: top;\n",
              "    }\n",
              "\n",
              "    .dataframe thead th {\n",
              "        text-align: right;\n",
              "    }\n",
              "</style>\n",
              "<table border=\"1\" class=\"dataframe\">\n",
              "  <thead>\n",
              "    <tr style=\"text-align: right;\">\n",
              "      <th></th>\n",
              "      <th>m</th>\n",
              "      <th>K(m)</th>\n",
              "      <th>Aproximación</th>\n",
              "      <th>Diferencia</th>\n",
              "    </tr>\n",
              "  </thead>\n",
              "  <tbody>\n",
              "    <tr>\n",
              "      <th>0</th>\n",
              "      <td>0.010000</td>\n",
              "      <td>1.564746</td>\n",
              "      <td>1.511770</td>\n",
              "      <td>0.052976</td>\n",
              "    </tr>\n",
              "    <tr>\n",
              "      <th>1</th>\n",
              "      <td>0.019899</td>\n",
              "      <td>1.568699</td>\n",
              "      <td>1.517948</td>\n",
              "      <td>0.050751</td>\n",
              "    </tr>\n",
              "    <tr>\n",
              "      <th>2</th>\n",
              "      <td>0.029798</td>\n",
              "      <td>1.572698</td>\n",
              "      <td>1.524148</td>\n",
              "      <td>0.048551</td>\n",
              "    </tr>\n",
              "    <tr>\n",
              "      <th>3</th>\n",
              "      <td>0.039697</td>\n",
              "      <td>1.576743</td>\n",
              "      <td>1.530370</td>\n",
              "      <td>0.046374</td>\n",
              "    </tr>\n",
              "    <tr>\n",
              "      <th>4</th>\n",
              "      <td>0.049596</td>\n",
              "      <td>1.580835</td>\n",
              "      <td>1.536615</td>\n",
              "      <td>0.044221</td>\n",
              "    </tr>\n",
              "    <tr>\n",
              "      <th>...</th>\n",
              "      <td>...</td>\n",
              "      <td>...</td>\n",
              "      <td>...</td>\n",
              "      <td>...</td>\n",
              "    </tr>\n",
              "    <tr>\n",
              "      <th>95</th>\n",
              "      <td>0.950404</td>\n",
              "      <td>2.902231</td>\n",
              "      <td>2.925860</td>\n",
              "      <td>0.023629</td>\n",
              "    </tr>\n",
              "    <tr>\n",
              "      <th>96</th>\n",
              "      <td>0.960303</td>\n",
              "      <td>3.009776</td>\n",
              "      <td>3.031514</td>\n",
              "      <td>0.021738</td>\n",
              "    </tr>\n",
              "    <tr>\n",
              "      <th>97</th>\n",
              "      <td>0.970202</td>\n",
              "      <td>3.149137</td>\n",
              "      <td>3.168750</td>\n",
              "      <td>0.019614</td>\n",
              "    </tr>\n",
              "    <tr>\n",
              "      <th>98</th>\n",
              "      <td>0.980101</td>\n",
              "      <td>3.346569</td>\n",
              "      <td>3.363759</td>\n",
              "      <td>0.017190</td>\n",
              "    </tr>\n",
              "    <tr>\n",
              "      <th>99</th>\n",
              "      <td>0.990000</td>\n",
              "      <td>3.685479</td>\n",
              "      <td>3.699848</td>\n",
              "      <td>0.014369</td>\n",
              "    </tr>\n",
              "  </tbody>\n",
              "</table>\n",
              "<p>100 rows × 4 columns</p>\n",
              "</div>\n",
              "      <button class=\"colab-df-convert\" onclick=\"convertToInteractive('df-a3969ede-c770-4e57-b779-504ee5b86f1d')\"\n",
              "              title=\"Convert this dataframe to an interactive table.\"\n",
              "              style=\"display:none;\">\n",
              "        \n",
              "  <svg xmlns=\"http://www.w3.org/2000/svg\" height=\"24px\"viewBox=\"0 0 24 24\"\n",
              "       width=\"24px\">\n",
              "    <path d=\"M0 0h24v24H0V0z\" fill=\"none\"/>\n",
              "    <path d=\"M18.56 5.44l.94 2.06.94-2.06 2.06-.94-2.06-.94-.94-2.06-.94 2.06-2.06.94zm-11 1L8.5 8.5l.94-2.06 2.06-.94-2.06-.94L8.5 2.5l-.94 2.06-2.06.94zm10 10l.94 2.06.94-2.06 2.06-.94-2.06-.94-.94-2.06-.94 2.06-2.06.94z\"/><path d=\"M17.41 7.96l-1.37-1.37c-.4-.4-.92-.59-1.43-.59-.52 0-1.04.2-1.43.59L10.3 9.45l-7.72 7.72c-.78.78-.78 2.05 0 2.83L4 21.41c.39.39.9.59 1.41.59.51 0 1.02-.2 1.41-.59l7.78-7.78 2.81-2.81c.8-.78.8-2.07 0-2.86zM5.41 20L4 18.59l7.72-7.72 1.47 1.35L5.41 20z\"/>\n",
              "  </svg>\n",
              "      </button>\n",
              "      \n",
              "  <style>\n",
              "    .colab-df-container {\n",
              "      display:flex;\n",
              "      flex-wrap:wrap;\n",
              "      gap: 12px;\n",
              "    }\n",
              "\n",
              "    .colab-df-convert {\n",
              "      background-color: #E8F0FE;\n",
              "      border: none;\n",
              "      border-radius: 50%;\n",
              "      cursor: pointer;\n",
              "      display: none;\n",
              "      fill: #1967D2;\n",
              "      height: 32px;\n",
              "      padding: 0 0 0 0;\n",
              "      width: 32px;\n",
              "    }\n",
              "\n",
              "    .colab-df-convert:hover {\n",
              "      background-color: #E2EBFA;\n",
              "      box-shadow: 0px 1px 2px rgba(60, 64, 67, 0.3), 0px 1px 3px 1px rgba(60, 64, 67, 0.15);\n",
              "      fill: #174EA6;\n",
              "    }\n",
              "\n",
              "    [theme=dark] .colab-df-convert {\n",
              "      background-color: #3B4455;\n",
              "      fill: #D2E3FC;\n",
              "    }\n",
              "\n",
              "    [theme=dark] .colab-df-convert:hover {\n",
              "      background-color: #434B5C;\n",
              "      box-shadow: 0px 1px 3px 1px rgba(0, 0, 0, 0.15);\n",
              "      filter: drop-shadow(0px 1px 2px rgba(0, 0, 0, 0.3));\n",
              "      fill: #FFFFFF;\n",
              "    }\n",
              "  </style>\n",
              "\n",
              "      <script>\n",
              "        const buttonEl =\n",
              "          document.querySelector('#df-a3969ede-c770-4e57-b779-504ee5b86f1d button.colab-df-convert');\n",
              "        buttonEl.style.display =\n",
              "          google.colab.kernel.accessAllowed ? 'block' : 'none';\n",
              "\n",
              "        async function convertToInteractive(key) {\n",
              "          const element = document.querySelector('#df-a3969ede-c770-4e57-b779-504ee5b86f1d');\n",
              "          const dataTable =\n",
              "            await google.colab.kernel.invokeFunction('convertToInteractive',\n",
              "                                                     [key], {});\n",
              "          if (!dataTable) return;\n",
              "\n",
              "          const docLinkHtml = 'Like what you see? Visit the ' +\n",
              "            '<a target=\"_blank\" href=https://colab.research.google.com/notebooks/data_table.ipynb>data table notebook</a>'\n",
              "            + ' to learn more about interactive tables.';\n",
              "          element.innerHTML = '';\n",
              "          dataTable['output_type'] = 'display_data';\n",
              "          await google.colab.output.renderOutput(dataTable, element);\n",
              "          const docLink = document.createElement('div');\n",
              "          docLink.innerHTML = docLinkHtml;\n",
              "          element.appendChild(docLink);\n",
              "        }\n",
              "      </script>\n",
              "    </div>\n",
              "  </div>\n",
              "  "
            ]
          },
          "metadata": {},
          "execution_count": 57
        }
      ]
    },
    {
      "cell_type": "code",
      "source": [
        "plt.figure(figsize=(20,10))\n",
        "plt.title('K vs m',size=20)\n",
        "plt.xlabel('$m$',size=15)\n",
        "plt.ylabel('$K(m)$',size=15)\n",
        "plt.plot(mi,K,'or')\n",
        "plt.show()"
      ],
      "metadata": {
        "colab": {
          "base_uri": "https://localhost:8080/",
          "height": 632
        },
        "id": "pE9Zb7_IP92J",
        "outputId": "4ca305a1-e2df-4b7b-ff28-6bb2289c797e"
      },
      "execution_count": 54,
      "outputs": [
        {
          "output_type": "display_data",
          "data": {
            "text/plain": [
              "<Figure size 1440x720 with 1 Axes>"
            ],
            "image/png": "[encoded data removed]"
          },
          "metadata": {
            "needs_background": "light"
          }
        }
      ]
    },
    {
      "cell_type": "markdown",
      "source": [
        "### 2)\n",
        "$$A_{\\phi}(r,{\\theta})=\\frac{\\mu_0}{4\\pi}\\frac{4Ia}{\\sqrt{a^2+r^2+2ar\\sin{\\theta}}}(\\frac{(2-k^2)K(k)-2E(k)}{k^2})$$  \n",
        "$$k^2=\\frac{4ar\\sin\\theta}{a^2+r^2+2ar\\sin\\theta}$$  \n",
        "$$E(k)=\\int_0^{\\pi/2}\\sqrt{1-k^2\\sin^2{\\phi}}\\mathrm{d}\\phi$$  \n",
        "$$K(k)=\\int_0^{\\pi/2}\\frac{\\mathrm{d}\\phi}{\\sqrt{1-k^2\\sin^2{\\phi}}}$$"
      ],
      "metadata": {
        "id": "FxCtF9sxR2y1"
      }
    },
    {
      "cell_type": "code",
      "source": [
        "a = I = cons = 1 "
      ],
      "metadata": {
        "id": "Or8TpuDzShaD"
      },
      "execution_count": 58,
      "outputs": []
    },
    {
      "cell_type": "markdown",
      "source": [
        "### Para $r$=1.1"
      ],
      "metadata": {
        "id": "ZN1VRaxpSW-z"
      }
    },
    {
      "cell_type": "code",
      "source": [
        "r = 1.1\n",
        "θ = np.linspace(.001,np.pi-.01,100)\n",
        "\n",
        "def k21(θ):\n",
        "  return (4*a*r*np.sin(θ))/(a**2+r**2+2*a*r*np.sin(θ))\n",
        "\n",
        "k21=k21(θ)\n",
        "\n",
        "ϕ = np.linspace(0,np.pi/2,100)\n",
        "\n",
        "E = np.zeros(len(θ)); K = np.zeros(len(θ))\n",
        "\n",
        "for i in range(len(E)):\n",
        "  f1 = lambda ϕ: np.sqrt(1-k21[i]*np.sin(ϕ))\n",
        "  f2 = lambda ϕ: 1/np.sqrt(1-k21[i]*np.sin(ϕ))\n",
        "  E[i] = integrate.simps(f1(ϕ),ϕ)\n",
        "  K[i] = integrate.simps(f2(ϕ),ϕ)\n",
        "\n",
        "A = cons*(4*I*a)/(np.sqrt(a**2+r**2+2*a*r*np.sin(θ)))*((2-k21)*K-2*E)/k21\n",
        "\n",
        "plt.figure(figsize=(20,10))\n",
        "plt.title('Aφ(r = 1.1, θ) vs. θ',size=20)\n",
        "plt.xlabel('θ', size=15)\n",
        "plt.ylabel('Aφ', size=15)\n",
        "plt.plot(θ,A,'ok')\n",
        "plt.show()"
      ],
      "metadata": {
        "colab": {
          "base_uri": "https://localhost:8080/",
          "height": 632
        },
        "id": "jFDdpQ35QTr3",
        "outputId": "7cb2ce1b-95b6-4bac-a909-16f06e47d11a"
      },
      "execution_count": 66,
      "outputs": [
        {
          "output_type": "display_data",
          "data": {
            "text/plain": [
              "<Figure size 1440x720 with 1 Axes>"
            ],
            "image/png": "[encoded data removed]"
          },
          "metadata": {
            "needs_background": "light"
          }
        }
      ]
    },
    {
      "cell_type": "markdown",
      "source": [
        "### Para $\\theta$=$\\frac{\\pi}{3}$"
      ],
      "metadata": {
        "id": "jdPfJud6Tksw"
      }
    },
    {
      "cell_type": "code",
      "source": [
        "r2 = np.linspace(0.001,10,100)\n",
        "θ2 = np.pi/3\n",
        "\n",
        "def k22(r):\n",
        "  return (4*a*r*np.sin(θ))/(a**2+r**2+2*a*r*np.sin(θ))\n",
        "\n",
        "k22=k22(r2)\n",
        "\n",
        "E2 = np.zeros(len(θ)); K2 = np.zeros(len(θ))\n",
        "\n",
        "for i in range(len(E2)):\n",
        "  f1 = lambda ϕ: np.sqrt(1-k22[i]*np.sin(ϕ))\n",
        "  f2 = lambda ϕ: 1/np.sqrt(1-k22[i]*np.sin(ϕ))\n",
        "  E2[i] = integrate.simps(f1(ϕ),ϕ)\n",
        "  K2[i] = integrate.simps(f2(ϕ),ϕ)\n",
        "\n",
        "A2 = cons*(4*I*a)/(np.sqrt(a**2+r2**2+2*a*r2*np.sin(θ2)))*((2-k21)*K-2*E)/k21\n",
        "\n",
        "plt.figure(figsize=(20,10))\n",
        "plt.title('Aφ(r, θ = π∕3) vs. r',size=20)\n",
        "plt.xlabel('r', size=15)\n",
        "plt.ylabel('Aφ', size=15)\n",
        "plt.plot(r2,A2,'om')\n",
        "plt.show()"
      ],
      "metadata": {
        "colab": {
          "base_uri": "https://localhost:8080/",
          "height": 632
        },
        "id": "CYURrI_zSppx",
        "outputId": "7c435188-db56-4d61-df87-e69a5cd897d9"
      },
      "execution_count": 70,
      "outputs": [
        {
          "output_type": "display_data",
          "data": {
            "text/plain": [
              "<Figure size 1440x720 with 1 Axes>"
            ],
            "image/png": "[encoded data removed]"
          },
          "metadata": {
            "needs_background": "light"
          }
        }
      ]
    },
    {
      "cell_type": "markdown",
      "source": [
        "## Exponencial\n",
        "\n",
        "$$\\int_0^1{e^{-t}}\\mathrm{d}t$$"
      ],
      "metadata": {
        "id": "rGh1av-fUgoc"
      }
    },
    {
      "cell_type": "code",
      "source": [
        "fe = lambda x: np.exp(-x)\n",
        "ie = np.linspace(0,1,1000)\n",
        "cs=integrate.simps(fe(ie),ie)"
      ],
      "metadata": {
        "id": "6DsbNJK6UK6s"
      },
      "execution_count": 74,
      "outputs": []
    },
    {
      "cell_type": "code",
      "source": [
        "def cuadratura(f,a,b,n):\n",
        "   \n",
        "    x=np.linspace(a,b,n+1)\n",
        "    y=f(x)\n",
        "\n",
        "    return 0.5*((x[1:]-x[:-1])*(y[1:]+y[:-1])).sum()\n",
        "\n",
        "ce=cuadratura(fe,0,1,100)"
      ],
      "metadata": {
        "id": "Yp6ICGoDVdJW"
      },
      "execution_count": 73,
      "outputs": []
    },
    {
      "cell_type": "code",
      "source": [
        "def trapecio(f,a,b,n):\n",
        "  \n",
        "  x=np.linspace(a,b,n+1)\n",
        "  y=f(x)\n",
        "\n",
        "  h=x[1]-x[0]\n",
        "  \n",
        "  return h/2*(y[1:]+y[:-1]).sum()\n",
        "\n",
        "te=trapecio(fe,0,1,100)"
      ],
      "metadata": {
        "id": "GQ8NOCSPVuzx"
      },
      "execution_count": 75,
      "outputs": []
    },
    {
      "cell_type": "code",
      "source": [
        "def simpson(f,a,b,n=10):\n",
        "\n",
        "  x=np.linspace(a,b,n)\n",
        "  y=f(x)\n",
        "\n",
        "  y1= interpolate.lagrange(x,y)\n",
        "\n",
        "  return cuadratura(y1,a,b,n)\n",
        "\n",
        "se=simpson(fe,0,1)"
      ],
      "metadata": {
        "id": "gWaGKSD8WBzc"
      },
      "execution_count": 77,
      "outputs": []
    },
    {
      "cell_type": "code",
      "source": [
        "met=['Cuadratura','Trapecio','Simpson']\n",
        "val=np.array([ce,te,se])\n",
        "error=abs(cs-val)\n",
        "\n",
        "dfe=pd.DataFrame({'Método':met,'Valor':val,'Error':error})\n",
        "dfe"
      ],
      "metadata": {
        "colab": {
          "base_uri": "https://localhost:8080/",
          "height": 143
        },
        "id": "fvnWw8hvWUHF",
        "outputId": "b6e62416-7f99-4976-85b5-e41ddf65ed7b"
      },
      "execution_count": 83,
      "outputs": [
        {
          "output_type": "execute_result",
          "data": {
            "text/plain": [
              "       Método     Valor     Error\n",
              "0  Cuadratura  0.632126  0.000005\n",
              "1    Trapecio  0.632126  0.000005\n",
              "2     Simpson  0.632647  0.000527"
            ],
            "text/html": [
              "\n",
              "  <div id=\"df-7a5cfded-2954-4767-aeac-60d0ef898a72\">\n",
              "    <div class=\"colab-df-container\">\n",
              "      <div>\n",
              "<style scoped>\n",
              "    .dataframe tbody tr th:only-of-type {\n",
              "        vertical-align: middle;\n",
              "    }\n",
              "\n",
              "    .dataframe tbody tr th {\n",
              "        vertical-align: top;\n",
              "    }\n",
              "\n",
              "    .dataframe thead th {\n",
              "        text-align: right;\n",
              "    }\n",
              "</style>\n",
              "<table border=\"1\" class=\"dataframe\">\n",
              "  <thead>\n",
              "    <tr style=\"text-align: right;\">\n",
              "      <th></th>\n",
              "      <th>Método</th>\n",
              "      <th>Valor</th>\n",
              "      <th>Error</th>\n",
              "    </tr>\n",
              "  </thead>\n",
              "  <tbody>\n",
              "    <tr>\n",
              "      <th>0</th>\n",
              "      <td>Cuadratura</td>\n",
              "      <td>0.632126</td>\n",
              "      <td>0.000005</td>\n",
              "    </tr>\n",
              "    <tr>\n",
              "      <th>1</th>\n",
              "      <td>Trapecio</td>\n",
              "      <td>0.632126</td>\n",
              "      <td>0.000005</td>\n",
              "    </tr>\n",
              "    <tr>\n",
              "      <th>2</th>\n",
              "      <td>Simpson</td>\n",
              "      <td>0.632647</td>\n",
              "      <td>0.000527</td>\n",
              "    </tr>\n",
              "  </tbody>\n",
              "</table>\n",
              "</div>\n",
              "      <button class=\"colab-df-convert\" onclick=\"convertToInteractive('df-7a5cfded-2954-4767-aeac-60d0ef898a72')\"\n",
              "              title=\"Convert this dataframe to an interactive table.\"\n",
              "              style=\"display:none;\">\n",
              "        \n",
              "  <svg xmlns=\"http://www.w3.org/2000/svg\" height=\"24px\"viewBox=\"0 0 24 24\"\n",
              "       width=\"24px\">\n",
              "    <path d=\"M0 0h24v24H0V0z\" fill=\"none\"/>\n",
              "    <path d=\"M18.56 5.44l.94 2.06.94-2.06 2.06-.94-2.06-.94-.94-2.06-.94 2.06-2.06.94zm-11 1L8.5 8.5l.94-2.06 2.06-.94-2.06-.94L8.5 2.5l-.94 2.06-2.06.94zm10 10l.94 2.06.94-2.06 2.06-.94-2.06-.94-.94-2.06-.94 2.06-2.06.94z\"/><path d=\"M17.41 7.96l-1.37-1.37c-.4-.4-.92-.59-1.43-.59-.52 0-1.04.2-1.43.59L10.3 9.45l-7.72 7.72c-.78.78-.78 2.05 0 2.83L4 21.41c.39.39.9.59 1.41.59.51 0 1.02-.2 1.41-.59l7.78-7.78 2.81-2.81c.8-.78.8-2.07 0-2.86zM5.41 20L4 18.59l7.72-7.72 1.47 1.35L5.41 20z\"/>\n",
              "  </svg>\n",
              "      </button>\n",
              "      \n",
              "  <style>\n",
              "    .colab-df-container {\n",
              "      display:flex;\n",
              "      flex-wrap:wrap;\n",
              "      gap: 12px;\n",
              "    }\n",
              "\n",
              "    .colab-df-convert {\n",
              "      background-color: #E8F0FE;\n",
              "      border: none;\n",
              "      border-radius: 50%;\n",
              "      cursor: pointer;\n",
              "      display: none;\n",
              "      fill: #1967D2;\n",
              "      height: 32px;\n",
              "      padding: 0 0 0 0;\n",
              "      width: 32px;\n",
              "    }\n",
              "\n",
              "    .colab-df-convert:hover {\n",
              "      background-color: #E2EBFA;\n",
              "      box-shadow: 0px 1px 2px rgba(60, 64, 67, 0.3), 0px 1px 3px 1px rgba(60, 64, 67, 0.15);\n",
              "      fill: #174EA6;\n",
              "    }\n",
              "\n",
              "    [theme=dark] .colab-df-convert {\n",
              "      background-color: #3B4455;\n",
              "      fill: #D2E3FC;\n",
              "    }\n",
              "\n",
              "    [theme=dark] .colab-df-convert:hover {\n",
              "      background-color: #434B5C;\n",
              "      box-shadow: 0px 1px 3px 1px rgba(0, 0, 0, 0.15);\n",
              "      filter: drop-shadow(0px 1px 2px rgba(0, 0, 0, 0.3));\n",
              "      fill: #FFFFFF;\n",
              "    }\n",
              "  </style>\n",
              "\n",
              "      <script>\n",
              "        const buttonEl =\n",
              "          document.querySelector('#df-7a5cfded-2954-4767-aeac-60d0ef898a72 button.colab-df-convert');\n",
              "        buttonEl.style.display =\n",
              "          google.colab.kernel.accessAllowed ? 'block' : 'none';\n",
              "\n",
              "        async function convertToInteractive(key) {\n",
              "          const element = document.querySelector('#df-7a5cfded-2954-4767-aeac-60d0ef898a72');\n",
              "          const dataTable =\n",
              "            await google.colab.kernel.invokeFunction('convertToInteractive',\n",
              "                                                     [key], {});\n",
              "          if (!dataTable) return;\n",
              "\n",
              "          const docLinkHtml = 'Like what you see? Visit the ' +\n",
              "            '<a target=\"_blank\" href=https://colab.research.google.com/notebooks/data_table.ipynb>data table notebook</a>'\n",
              "            + ' to learn more about interactive tables.';\n",
              "          element.innerHTML = '';\n",
              "          dataTable['output_type'] = 'display_data';\n",
              "          await google.colab.output.renderOutput(dataTable, element);\n",
              "          const docLink = document.createElement('div');\n",
              "          docLink.innerHTML = docLinkHtml;\n",
              "          element.appendChild(docLink);\n",
              "        }\n",
              "      </script>\n",
              "    </div>\n",
              "  </div>\n",
              "  "
            ]
          },
          "metadata": {},
          "execution_count": 83
        }
      ]
    }
  ]
}