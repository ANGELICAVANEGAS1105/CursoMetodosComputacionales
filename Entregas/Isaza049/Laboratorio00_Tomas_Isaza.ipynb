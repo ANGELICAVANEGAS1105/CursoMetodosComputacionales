{
  "nbformat": 4,
  "nbformat_minor": 0,
  "metadata": {
    "colab": {
      "name": "Laboratorio00_Tomas_Isaza.ipynb",
      "provenance": [],
      "collapsed_sections": []
    },
    "kernelspec": {
      "name": "python3",
      "display_name": "Python 3"
    },
    "language_info": {
      "name": "python"
    }
  },
  "cells": [
    {
      "cell_type": "code",
      "execution_count": null,
      "metadata": {
        "id": "QiFSw9CFinKF"
      },
      "outputs": [],
      "source": [
        "#Tomás Isaza Roldán\n",
        "#Documento 1036951049\n",
        "#Laboratorio00 métodos computacionales "
      ]
    },
    {
      "cell_type": "code",
      "source": [
        "#Primer punto\n",
        "def fact(n):        \n",
        "    fact=1\n",
        "    for i in range(1,n+1):\n",
        "        fact*= i\n",
        "    print(fact)\n",
        "fact(11)"
      ],
      "metadata": {
        "colab": {
          "base_uri": "https://localhost:8080/"
        },
        "id": "xwQtgpmmmozG",
        "outputId": "3390b22d-898c-43c6-d87a-524de2aa06ec"
      },
      "execution_count": null,
      "outputs": [
        {
          "output_type": "stream",
          "name": "stdout",
          "text": [
            "39916800\n"
          ]
        }
      ]
    },
    {
      "cell_type": "code",
      "source": [
        "#Segundo punto\n",
        "a=int(input())\n",
        "b=int(input())\n",
        "l=[]\n",
        "ll=[]\n",
        "l_d=[]\n",
        "ll_d=[]\n",
        "\n",
        "for i in range(a-1,0,-1):\n",
        "  l.append(i)\n",
        "for j in range(b-1,0,-1):\n",
        "  ll.append(j)\n",
        "\n",
        "for k in l: \n",
        "  if a%k==0: l_d.append(k)\n",
        "for n in ll: \n",
        "  if b%n==0: ll_d.append(n)\n",
        "\n",
        "s=0\n",
        "x=0\n",
        "for r in l_d:\n",
        "  s+=r\n",
        "  if s==a and r!=l_d[-1]: print(\"a es un numero semiperfecto\")\n",
        "  if s==a and r==l_d[-1]: print(\"a es un numero perfecto\")\n",
        "  if s==b: print(\"a es un numero amigo de b\")  \n",
        "for u in ll_d:\n",
        "  x+=u\n",
        "  if x==b and u!=ll_d[-1]: print(\"b es un numero semiperfecto\")\n",
        "  if x==b and u==ll_d[-1]: print(\"b es un numero perfecto\")\n",
        "if s<a: print(\"a es un numero defectivo\")  \n",
        "if s>a: print(\"a es un numero abundante\")  \n",
        "if l_d==[1]: print(\"a es un numero primo\")\n",
        "if x<b: print(\"b es un numero defectivo\")  \n",
        "if x>b: print(\"b es un numero abundante\")  \n",
        "if ll_d==[1]: print(\"b es un numero primo\")"
      ],
      "metadata": {
        "colab": {
          "base_uri": "https://localhost:8080/"
        },
        "id": "bQfUURKrm_sa",
        "outputId": "667e16c8-76db-47a1-a57a-2ee5d6460f1c"
      },
      "execution_count": null,
      "outputs": [
        {
          "output_type": "stream",
          "name": "stdout",
          "text": [
            "18\n",
            "29\n",
            "a es un numero semiperfecto\n",
            "a es un numero abundante\n",
            "b es un numero defectivo\n",
            "b es un numero primo\n"
          ]
        }
      ]
    },
    {
      "cell_type": "code",
      "source": [
        "#Tercer punto \n",
        "def pal(a):\n",
        "  l=[]\n",
        "  b=str(a)\n",
        "  for i in range(len(b)):\n",
        "    for j in range(len(b)):\n",
        "      if b[i]==b[j]: l.append(j) \n",
        "    \n",
        "  #print(l) \n",
        "      \n",
        "  if l[0:len(l)//2]==l[-len(l)//2:]: print(\"numero palindromo\")\n",
        "  if l[0:len(l)//3]==l[len(l)//3:-len(l)//3]==l[-len(l)//3:]: print(\"numero palindromo\")\n",
        "  else: print(\"numero no palindromo\")\n",
        "pal(123466716123466716123466716)"
      ],
      "metadata": {
        "colab": {
          "base_uri": "https://localhost:8080/"
        },
        "id": "yoFZgWwsnPSa",
        "outputId": "f13de1af-fdda-4e46-e132-94305ef8d135"
      },
      "execution_count": null,
      "outputs": [
        {
          "output_type": "stream",
          "name": "stdout",
          "text": [
            "numero palindromo\n"
          ]
        }
      ]
    },
    {
      "cell_type": "code",
      "source": [
        "#Cuarto punto\n",
        "vocals=[\"a\",\"e\",\"i\",\"o\",\"u\"]\n",
        "consonants=[\"c\",\"d\",\"f\",\"g\",\"h\",\"j\",\"k\",\"l\",\"m\",\"n\",\"p\",\"q\",\"r\",\"s\",\"t\",\"v\",\"w\",\"x\",\"y\",\"z\"]\n",
        "z1=[]\n",
        "z2=[]\n",
        "v=[]\n",
        "c=[]\n",
        "result=[]\n",
        "def cad(s=''):\n",
        "  e= list(s)\n",
        "  n=len(e) \n",
        "  z1=s[:n//2]\n",
        "  z2=s[-n//2:]\n",
        "  if n%2==0: \n",
        "    if z1[-1] in vocals or z2[0] in vocals: result.append(\"True\")\n",
        "    else: result.append(\"False\")\n",
        "  if n%2!=0: \n",
        "    if z2[0] in vocals: result.append(\"True\")\n",
        "    else: result.append(\"False\")\n",
        "  s=list(s)\n",
        "  for i in vocals: \n",
        "    k=s.count(i)\n",
        "    v.append(k)\n",
        "    p=sum(v)\n",
        "  result.append(p)\n",
        "  for j in consonants: \n",
        "    t=s.count(j)\n",
        "    c.append(t)\n",
        "    q=sum(c)\n",
        "  result.append(q)\n",
        "  w= \"\".join(reversed(s))\n",
        "  result.append(w)\n",
        "  print(result) \n",
        "\n",
        "cad(\"australopitecus\")"
      ],
      "metadata": {
        "colab": {
          "base_uri": "https://localhost:8080/"
        },
        "id": "WDrKSxF2ng9f",
        "outputId": "1535041f-0c39-4c51-c293-16d9ddc2d6fe"
      },
      "execution_count": null,
      "outputs": [
        {
          "output_type": "stream",
          "name": "stdout",
          "text": [
            "['True', 7, 8, 'sucetipolartsua']\n"
          ]
        }
      ]
    },
    {
      "cell_type": "code",
      "source": [
        "#Quinto punto\n",
        "def fibo(n):\n",
        "  if n==0:\n",
        "    return 0\n",
        "  if n==1:\n",
        "    return 1 \n",
        "  return fibo(n-1) + fibo(n-2) \n",
        "fibo(9)      "
      ],
      "metadata": {
        "colab": {
          "base_uri": "https://localhost:8080/"
        },
        "id": "jcER5Dovnorx",
        "outputId": "fff6639f-0489-4fe9-81c0-30b0fca31225"
      },
      "execution_count": null,
      "outputs": [
        {
          "output_type": "execute_result",
          "data": {
            "text/plain": [
              "34"
            ]
          },
          "metadata": {},
          "execution_count": 7
        }
      ]
    },
    {
      "cell_type": "code",
      "source": [
        "#Sexto punto\n",
        "numeros=[4,9,6,2,2,14,15,49,50,2,1,9,6,4,7,6,2,1,3,7]\n",
        "num=[]\n",
        "def org(x):\n",
        "  x2=set(x)\n",
        "  for i in x2:\n",
        "    c=x.count(i) \n",
        "    for j in range(c):\n",
        "      num.append(i)\n",
        "  print(num)    \n",
        "org(numeros)"
      ],
      "metadata": {
        "colab": {
          "base_uri": "https://localhost:8080/"
        },
        "id": "ATQVx1y7n-WV",
        "outputId": "268e92ec-8186-4b8e-f95e-75e46b9bd156"
      },
      "execution_count": null,
      "outputs": [
        {
          "output_type": "stream",
          "name": "stdout",
          "text": [
            "[1, 1, 2, 2, 2, 2, 3, 4, 4, 6, 6, 6, 7, 7, 9, 9, 14, 15, 49, 50]\n"
          ]
        }
      ]
    }
  ]
}