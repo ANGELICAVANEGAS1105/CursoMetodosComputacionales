{
  "nbformat": 4,
  "nbformat_minor": 0,
  "metadata": {
    "colab": {
      "name": "Lab_04_Tomas_Isaza (1).ipynb",
      "provenance": [],
      "collapsed_sections": []
    },
    "kernelspec": {
      "name": "python3",
      "display_name": "Python 3"
    },
    "language_info": {
      "name": "python"
    }
  },
  "cells": [
    {
      "cell_type": "code",
      "execution_count": null,
      "metadata": {
        "id": "fAotr9KxZLg4"
      },
      "outputs": [],
      "source": [
        "import numpy as np                             #Importamos librerias\n",
        "import pandas as pd\n",
        "import os\n",
        "import matplotlib.pylab as plt"
      ]
    },
    {
      "cell_type": "code",
      "source": [
        "!git clone https://github.com/hernansalinas/Metodos_Computacionales_taller.git"
      ],
      "metadata": {
        "colab": {
          "base_uri": "https://localhost:8080/"
        },
        "id": "da7JPyzKaqcm",
        "outputId": "8a2c9191-ff01-49f3-ee8f-e8ea2e2c19f9"
      },
      "execution_count": null,
      "outputs": [
        {
          "output_type": "stream",
          "name": "stdout",
          "text": [
            "fatal: destination path 'Metodos_Computacionales_taller' already exists and is not an empty directory.\n"
          ]
        }
      ]
    },
    {
      "cell_type": "code",
      "source": [
        "!ls"
      ],
      "metadata": {
        "colab": {
          "base_uri": "https://localhost:8080/"
        },
        "id": "DWmunFgObBaR",
        "outputId": "f4a73907-f74e-4267-96fa-d076e0199613"
      },
      "execution_count": null,
      "outputs": [
        {
          "output_type": "stream",
          "name": "stdout",
          "text": [
            "Metodos_Computacionales_taller\tsample_data\n"
          ]
        }
      ]
    },
    {
      "cell_type": "code",
      "source": [
        "path = os.getcwd()\n",
        "path"
      ],
      "metadata": {
        "colab": {
          "base_uri": "https://localhost:8080/",
          "height": 35
        },
        "id": "953LBPydbbFD",
        "outputId": "d5684389-7d45-4164-a0b6-0ba8f428d5d0"
      },
      "execution_count": null,
      "outputs": [
        {
          "output_type": "execute_result",
          "data": {
            "text/plain": [
              "'/content'"
            ],
            "application/vnd.google.colaboratory.intrinsic+json": {
              "type": "string"
            }
          },
          "metadata": {},
          "execution_count": 135
        }
      ]
    },
    {
      "cell_type": "code",
      "source": [
        "path = os.getcwd()                    #Cargamos el archivo que vamos a usar\n",
        "df = pd.read_csv(f\"{path}/Metodos_Computacionales_taller/Asignaciones/Laboratorios/dataset/Temperature_Bogota_Barcelona.csv\")"
      ],
      "metadata": {
        "id": "tP6zcfHrblRi"
      },
      "execution_count": null,
      "outputs": []
    },
    {
      "cell_type": "code",
      "source": [
        "a=df.copy()                           #Hacemos una copia del archivo para editarlo"
      ],
      "metadata": {
        "id": "PcyQWnuFg-rt"
      },
      "execution_count": null,
      "outputs": []
    },
    {
      "cell_type": "code",
      "source": [
        "del a[\"Unnamed: 0\"]                   #Eliminamos las columnas que no vamos a utilizar\n",
        "del a[\"Month\"]      \n",
        "del a[\"Day\"]"
      ],
      "metadata": {
        "id": "iBN39eI5fO7D"
      },
      "execution_count": null,
      "outputs": []
    },
    {
      "cell_type": "code",
      "source": [
        "l=[]                                  #Iteramos sobre los elementos de la colunma de temperatura para obtener una lista con la temperatura en Celcius\n",
        "for i in range(0,52):\n",
        "  s=round(a.iloc[i].AvgTemperature,6)\n",
        "  s2=round((s-32)/1.8,5)\n",
        "  l.append(s2)"
      ],
      "metadata": {
        "id": "tyhyPzhZiZw_"
      },
      "execution_count": null,
      "outputs": []
    },
    {
      "cell_type": "code",
      "source": [
        "a[\"AvgTempCelcius\"] = l               #Anadimos la columna al dataframe"
      ],
      "metadata": {
        "id": "cx9ZKpJVmM3w"
      },
      "execution_count": null,
      "outputs": []
    },
    {
      "cell_type": "code",
      "source": [
        "c=a.sort_values(by=['City','Year'], ascending=[False,True])       #Ordenamos los valores \"City\" y \"Year\" estos ultimos de forma ascendente"
      ],
      "metadata": {
        "id": "7JS7-ysNikcQ"
      },
      "execution_count": null,
      "outputs": []
    },
    {
      "cell_type": "code",
      "source": [
        "a2 = c.reset_index()                                              #Reseteamos los indices los cuales se desorganizaron, anadiendo unos nuevos indices"
      ],
      "metadata": {
        "id": "1OqsICOQsD2b"
      },
      "execution_count": null,
      "outputs": []
    },
    {
      "cell_type": "code",
      "source": [
        "del a2[\"index\"]                                                   #Eliminamos la columna de indices antiguos"
      ],
      "metadata": {
        "id": "u83mpNdvxZpw"
      },
      "execution_count": null,
      "outputs": []
    },
    {
      "cell_type": "code",
      "source": [
        "a2"
      ],
      "metadata": {
        "colab": {
          "base_uri": "https://localhost:8080/",
          "height": 1000
        },
        "id": "xbhiShz-26U6",
        "outputId": "bf5b7410-8ab8-4b01-849f-011e6713dcdf"
      },
      "execution_count": null,
      "outputs": [
        {
          "output_type": "execute_result",
          "data": {
            "text/plain": [
              "    Year       City  AvgTemperature  AvgTempCelcius\n",
              "0   1995     Bogota       54.963014        12.75723\n",
              "1   1996     Bogota       55.083333        12.82407\n",
              "2   1997     Bogota       56.231507        13.46195\n",
              "3   1998     Bogota       49.642466         9.80137\n",
              "4   1999     Bogota       52.231781        11.23988\n",
              "5   2000     Bogota       54.918579        12.73254\n",
              "6   2001     Bogota       55.416164        13.00898\n",
              "7   2002     Bogota       54.686849        12.60381\n",
              "8   2003     Bogota       54.973425        12.76301\n",
              "9   2004     Bogota       55.598087        13.11005\n",
              "10  2005     Bogota       56.010685        13.33927\n",
              "11  2006     Bogota       55.415890        13.00883\n",
              "12  2007     Bogota       54.667671        12.59315\n",
              "13  2008     Bogota       51.011475        10.56193\n",
              "14  2009     Bogota       56.073151        13.37397\n",
              "15  2010     Bogota       56.933699        13.85205\n",
              "16  2011     Bogota       56.803562        13.77976\n",
              "17  2012     Bogota       56.354645        13.53036\n",
              "18  2013     Bogota       56.840274        13.80015\n",
              "19  2014     Bogota       56.435616        13.57534\n",
              "20  2015     Bogota       56.621038        13.67835\n",
              "21  2016     Bogota       56.113388        13.39633\n",
              "22  2017     Bogota       57.110411        13.95023\n",
              "23  2018     Bogota       54.839726        12.68874\n",
              "24  2019     Bogota       55.087671        12.82648\n",
              "25  2020     Bogota       58.070149        14.48342\n",
              "26  1995  Barcelona       62.019178        16.67732\n",
              "27  1996  Barcelona       61.125956        16.18109\n",
              "28  1997  Barcelona       62.612329        17.00685\n",
              "29  1998  Barcelona       60.273973        15.70776\n",
              "30  1999  Barcelona       61.204658        16.22481\n",
              "31  2000  Barcelona       60.069399        15.59411\n",
              "32  2001  Barcelona       59.279452        15.15525\n",
              "33  2002  Barcelona       58.044110        14.46895\n",
              "34  2003  Barcelona       63.139452        17.29970\n",
              "35  2004  Barcelona       62.875137        17.15285\n",
              "36  2005  Barcelona       62.041918        16.68995\n",
              "37  2006  Barcelona       61.985479        16.65860\n",
              "38  2007  Barcelona       60.556164        15.86454\n",
              "39  2008  Barcelona       59.651913        15.36217\n",
              "40  2009  Barcelona       61.552055        16.41781\n",
              "41  2010  Barcelona       60.667945        15.92664\n",
              "42  2011  Barcelona       62.834795        17.13044\n",
              "43  2012  Barcelona       63.032240        17.24013\n",
              "44  2013  Barcelona       62.246575        16.80365\n",
              "45  2014  Barcelona       62.437260        16.90959\n",
              "46  2015  Barcelona       61.795082        16.55282\n",
              "47  2016  Barcelona       60.800820        16.00046\n",
              "48  2017  Barcelona       62.514795        16.95266\n",
              "49  2018  Barcelona       61.391507        16.32862\n",
              "50  2019  Barcelona       59.719178        15.39954\n",
              "51  2020  Barcelona       55.437313        13.02073"
            ],
            "text/html": [
              "\n",
              "  <div id=\"df-57f12cbb-d705-412f-a4d0-9b09b2966dd3\">\n",
              "    <div class=\"colab-df-container\">\n",
              "      <div>\n",
              "<style scoped>\n",
              "    .dataframe tbody tr th:only-of-type {\n",
              "        vertical-align: middle;\n",
              "    }\n",
              "\n",
              "    .dataframe tbody tr th {\n",
              "        vertical-align: top;\n",
              "    }\n",
              "\n",
              "    .dataframe thead th {\n",
              "        text-align: right;\n",
              "    }\n",
              "</style>\n",
              "<table border=\"1\" class=\"dataframe\">\n",
              "  <thead>\n",
              "    <tr style=\"text-align: right;\">\n",
              "      <th></th>\n",
              "      <th>Year</th>\n",
              "      <th>City</th>\n",
              "      <th>AvgTemperature</th>\n",
              "      <th>AvgTempCelcius</th>\n",
              "    </tr>\n",
              "  </thead>\n",
              "  <tbody>\n",
              "    <tr>\n",
              "      <th>0</th>\n",
              "      <td>1995</td>\n",
              "      <td>Bogota</td>\n",
              "      <td>54.963014</td>\n",
              "      <td>12.75723</td>\n",
              "    </tr>\n",
              "    <tr>\n",
              "      <th>1</th>\n",
              "      <td>1996</td>\n",
              "      <td>Bogota</td>\n",
              "      <td>55.083333</td>\n",
              "      <td>12.82407</td>\n",
              "    </tr>\n",
              "    <tr>\n",
              "      <th>2</th>\n",
              "      <td>1997</td>\n",
              "      <td>Bogota</td>\n",
              "      <td>56.231507</td>\n",
              "      <td>13.46195</td>\n",
              "    </tr>\n",
              "    <tr>\n",
              "      <th>3</th>\n",
              "      <td>1998</td>\n",
              "      <td>Bogota</td>\n",
              "      <td>49.642466</td>\n",
              "      <td>9.80137</td>\n",
              "    </tr>\n",
              "    <tr>\n",
              "      <th>4</th>\n",
              "      <td>1999</td>\n",
              "      <td>Bogota</td>\n",
              "      <td>52.231781</td>\n",
              "      <td>11.23988</td>\n",
              "    </tr>\n",
              "    <tr>\n",
              "      <th>5</th>\n",
              "      <td>2000</td>\n",
              "      <td>Bogota</td>\n",
              "      <td>54.918579</td>\n",
              "      <td>12.73254</td>\n",
              "    </tr>\n",
              "    <tr>\n",
              "      <th>6</th>\n",
              "      <td>2001</td>\n",
              "      <td>Bogota</td>\n",
              "      <td>55.416164</td>\n",
              "      <td>13.00898</td>\n",
              "    </tr>\n",
              "    <tr>\n",
              "      <th>7</th>\n",
              "      <td>2002</td>\n",
              "      <td>Bogota</td>\n",
              "      <td>54.686849</td>\n",
              "      <td>12.60381</td>\n",
              "    </tr>\n",
              "    <tr>\n",
              "      <th>8</th>\n",
              "      <td>2003</td>\n",
              "      <td>Bogota</td>\n",
              "      <td>54.973425</td>\n",
              "      <td>12.76301</td>\n",
              "    </tr>\n",
              "    <tr>\n",
              "      <th>9</th>\n",
              "      <td>2004</td>\n",
              "      <td>Bogota</td>\n",
              "      <td>55.598087</td>\n",
              "      <td>13.11005</td>\n",
              "    </tr>\n",
              "    <tr>\n",
              "      <th>10</th>\n",
              "      <td>2005</td>\n",
              "      <td>Bogota</td>\n",
              "      <td>56.010685</td>\n",
              "      <td>13.33927</td>\n",
              "    </tr>\n",
              "    <tr>\n",
              "      <th>11</th>\n",
              "      <td>2006</td>\n",
              "      <td>Bogota</td>\n",
              "      <td>55.415890</td>\n",
              "      <td>13.00883</td>\n",
              "    </tr>\n",
              "    <tr>\n",
              "      <th>12</th>\n",
              "      <td>2007</td>\n",
              "      <td>Bogota</td>\n",
              "      <td>54.667671</td>\n",
              "      <td>12.59315</td>\n",
              "    </tr>\n",
              "    <tr>\n",
              "      <th>13</th>\n",
              "      <td>2008</td>\n",
              "      <td>Bogota</td>\n",
              "      <td>51.011475</td>\n",
              "      <td>10.56193</td>\n",
              "    </tr>\n",
              "    <tr>\n",
              "      <th>14</th>\n",
              "      <td>2009</td>\n",
              "      <td>Bogota</td>\n",
              "      <td>56.073151</td>\n",
              "      <td>13.37397</td>\n",
              "    </tr>\n",
              "    <tr>\n",
              "      <th>15</th>\n",
              "      <td>2010</td>\n",
              "      <td>Bogota</td>\n",
              "      <td>56.933699</td>\n",
              "      <td>13.85205</td>\n",
              "    </tr>\n",
              "    <tr>\n",
              "      <th>16</th>\n",
              "      <td>2011</td>\n",
              "      <td>Bogota</td>\n",
              "      <td>56.803562</td>\n",
              "      <td>13.77976</td>\n",
              "    </tr>\n",
              "    <tr>\n",
              "      <th>17</th>\n",
              "      <td>2012</td>\n",
              "      <td>Bogota</td>\n",
              "      <td>56.354645</td>\n",
              "      <td>13.53036</td>\n",
              "    </tr>\n",
              "    <tr>\n",
              "      <th>18</th>\n",
              "      <td>2013</td>\n",
              "      <td>Bogota</td>\n",
              "      <td>56.840274</td>\n",
              "      <td>13.80015</td>\n",
              "    </tr>\n",
              "    <tr>\n",
              "      <th>19</th>\n",
              "      <td>2014</td>\n",
              "      <td>Bogota</td>\n",
              "      <td>56.435616</td>\n",
              "      <td>13.57534</td>\n",
              "    </tr>\n",
              "    <tr>\n",
              "      <th>20</th>\n",
              "      <td>2015</td>\n",
              "      <td>Bogota</td>\n",
              "      <td>56.621038</td>\n",
              "      <td>13.67835</td>\n",
              "    </tr>\n",
              "    <tr>\n",
              "      <th>21</th>\n",
              "      <td>2016</td>\n",
              "      <td>Bogota</td>\n",
              "      <td>56.113388</td>\n",
              "      <td>13.39633</td>\n",
              "    </tr>\n",
              "    <tr>\n",
              "      <th>22</th>\n",
              "      <td>2017</td>\n",
              "      <td>Bogota</td>\n",
              "      <td>57.110411</td>\n",
              "      <td>13.95023</td>\n",
              "    </tr>\n",
              "    <tr>\n",
              "      <th>23</th>\n",
              "      <td>2018</td>\n",
              "      <td>Bogota</td>\n",
              "      <td>54.839726</td>\n",
              "      <td>12.68874</td>\n",
              "    </tr>\n",
              "    <tr>\n",
              "      <th>24</th>\n",
              "      <td>2019</td>\n",
              "      <td>Bogota</td>\n",
              "      <td>55.087671</td>\n",
              "      <td>12.82648</td>\n",
              "    </tr>\n",
              "    <tr>\n",
              "      <th>25</th>\n",
              "      <td>2020</td>\n",
              "      <td>Bogota</td>\n",
              "      <td>58.070149</td>\n",
              "      <td>14.48342</td>\n",
              "    </tr>\n",
              "    <tr>\n",
              "      <th>26</th>\n",
              "      <td>1995</td>\n",
              "      <td>Barcelona</td>\n",
              "      <td>62.019178</td>\n",
              "      <td>16.67732</td>\n",
              "    </tr>\n",
              "    <tr>\n",
              "      <th>27</th>\n",
              "      <td>1996</td>\n",
              "      <td>Barcelona</td>\n",
              "      <td>61.125956</td>\n",
              "      <td>16.18109</td>\n",
              "    </tr>\n",
              "    <tr>\n",
              "      <th>28</th>\n",
              "      <td>1997</td>\n",
              "      <td>Barcelona</td>\n",
              "      <td>62.612329</td>\n",
              "      <td>17.00685</td>\n",
              "    </tr>\n",
              "    <tr>\n",
              "      <th>29</th>\n",
              "      <td>1998</td>\n",
              "      <td>Barcelona</td>\n",
              "      <td>60.273973</td>\n",
              "      <td>15.70776</td>\n",
              "    </tr>\n",
              "    <tr>\n",
              "      <th>30</th>\n",
              "      <td>1999</td>\n",
              "      <td>Barcelona</td>\n",
              "      <td>61.204658</td>\n",
              "      <td>16.22481</td>\n",
              "    </tr>\n",
              "    <tr>\n",
              "      <th>31</th>\n",
              "      <td>2000</td>\n",
              "      <td>Barcelona</td>\n",
              "      <td>60.069399</td>\n",
              "      <td>15.59411</td>\n",
              "    </tr>\n",
              "    <tr>\n",
              "      <th>32</th>\n",
              "      <td>2001</td>\n",
              "      <td>Barcelona</td>\n",
              "      <td>59.279452</td>\n",
              "      <td>15.15525</td>\n",
              "    </tr>\n",
              "    <tr>\n",
              "      <th>33</th>\n",
              "      <td>2002</td>\n",
              "      <td>Barcelona</td>\n",
              "      <td>58.044110</td>\n",
              "      <td>14.46895</td>\n",
              "    </tr>\n",
              "    <tr>\n",
              "      <th>34</th>\n",
              "      <td>2003</td>\n",
              "      <td>Barcelona</td>\n",
              "      <td>63.139452</td>\n",
              "      <td>17.29970</td>\n",
              "    </tr>\n",
              "    <tr>\n",
              "      <th>35</th>\n",
              "      <td>2004</td>\n",
              "      <td>Barcelona</td>\n",
              "      <td>62.875137</td>\n",
              "      <td>17.15285</td>\n",
              "    </tr>\n",
              "    <tr>\n",
              "      <th>36</th>\n",
              "      <td>2005</td>\n",
              "      <td>Barcelona</td>\n",
              "      <td>62.041918</td>\n",
              "      <td>16.68995</td>\n",
              "    </tr>\n",
              "    <tr>\n",
              "      <th>37</th>\n",
              "      <td>2006</td>\n",
              "      <td>Barcelona</td>\n",
              "      <td>61.985479</td>\n",
              "      <td>16.65860</td>\n",
              "    </tr>\n",
              "    <tr>\n",
              "      <th>38</th>\n",
              "      <td>2007</td>\n",
              "      <td>Barcelona</td>\n",
              "      <td>60.556164</td>\n",
              "      <td>15.86454</td>\n",
              "    </tr>\n",
              "    <tr>\n",
              "      <th>39</th>\n",
              "      <td>2008</td>\n",
              "      <td>Barcelona</td>\n",
              "      <td>59.651913</td>\n",
              "      <td>15.36217</td>\n",
              "    </tr>\n",
              "    <tr>\n",
              "      <th>40</th>\n",
              "      <td>2009</td>\n",
              "      <td>Barcelona</td>\n",
              "      <td>61.552055</td>\n",
              "      <td>16.41781</td>\n",
              "    </tr>\n",
              "    <tr>\n",
              "      <th>41</th>\n",
              "      <td>2010</td>\n",
              "      <td>Barcelona</td>\n",
              "      <td>60.667945</td>\n",
              "      <td>15.92664</td>\n",
              "    </tr>\n",
              "    <tr>\n",
              "      <th>42</th>\n",
              "      <td>2011</td>\n",
              "      <td>Barcelona</td>\n",
              "      <td>62.834795</td>\n",
              "      <td>17.13044</td>\n",
              "    </tr>\n",
              "    <tr>\n",
              "      <th>43</th>\n",
              "      <td>2012</td>\n",
              "      <td>Barcelona</td>\n",
              "      <td>63.032240</td>\n",
              "      <td>17.24013</td>\n",
              "    </tr>\n",
              "    <tr>\n",
              "      <th>44</th>\n",
              "      <td>2013</td>\n",
              "      <td>Barcelona</td>\n",
              "      <td>62.246575</td>\n",
              "      <td>16.80365</td>\n",
              "    </tr>\n",
              "    <tr>\n",
              "      <th>45</th>\n",
              "      <td>2014</td>\n",
              "      <td>Barcelona</td>\n",
              "      <td>62.437260</td>\n",
              "      <td>16.90959</td>\n",
              "    </tr>\n",
              "    <tr>\n",
              "      <th>46</th>\n",
              "      <td>2015</td>\n",
              "      <td>Barcelona</td>\n",
              "      <td>61.795082</td>\n",
              "      <td>16.55282</td>\n",
              "    </tr>\n",
              "    <tr>\n",
              "      <th>47</th>\n",
              "      <td>2016</td>\n",
              "      <td>Barcelona</td>\n",
              "      <td>60.800820</td>\n",
              "      <td>16.00046</td>\n",
              "    </tr>\n",
              "    <tr>\n",
              "      <th>48</th>\n",
              "      <td>2017</td>\n",
              "      <td>Barcelona</td>\n",
              "      <td>62.514795</td>\n",
              "      <td>16.95266</td>\n",
              "    </tr>\n",
              "    <tr>\n",
              "      <th>49</th>\n",
              "      <td>2018</td>\n",
              "      <td>Barcelona</td>\n",
              "      <td>61.391507</td>\n",
              "      <td>16.32862</td>\n",
              "    </tr>\n",
              "    <tr>\n",
              "      <th>50</th>\n",
              "      <td>2019</td>\n",
              "      <td>Barcelona</td>\n",
              "      <td>59.719178</td>\n",
              "      <td>15.39954</td>\n",
              "    </tr>\n",
              "    <tr>\n",
              "      <th>51</th>\n",
              "      <td>2020</td>\n",
              "      <td>Barcelona</td>\n",
              "      <td>55.437313</td>\n",
              "      <td>13.02073</td>\n",
              "    </tr>\n",
              "  </tbody>\n",
              "</table>\n",
              "</div>\n",
              "      <button class=\"colab-df-convert\" onclick=\"convertToInteractive('df-57f12cbb-d705-412f-a4d0-9b09b2966dd3')\"\n",
              "              title=\"Convert this dataframe to an interactive table.\"\n",
              "              style=\"display:none;\">\n",
              "        \n",
              "  <svg xmlns=\"http://www.w3.org/2000/svg\" height=\"24px\"viewBox=\"0 0 24 24\"\n",
              "       width=\"24px\">\n",
              "    <path d=\"M0 0h24v24H0V0z\" fill=\"none\"/>\n",
              "    <path d=\"M18.56 5.44l.94 2.06.94-2.06 2.06-.94-2.06-.94-.94-2.06-.94 2.06-2.06.94zm-11 1L8.5 8.5l.94-2.06 2.06-.94-2.06-.94L8.5 2.5l-.94 2.06-2.06.94zm10 10l.94 2.06.94-2.06 2.06-.94-2.06-.94-.94-2.06-.94 2.06-2.06.94z\"/><path d=\"M17.41 7.96l-1.37-1.37c-.4-.4-.92-.59-1.43-.59-.52 0-1.04.2-1.43.59L10.3 9.45l-7.72 7.72c-.78.78-.78 2.05 0 2.83L4 21.41c.39.39.9.59 1.41.59.51 0 1.02-.2 1.41-.59l7.78-7.78 2.81-2.81c.8-.78.8-2.07 0-2.86zM5.41 20L4 18.59l7.72-7.72 1.47 1.35L5.41 20z\"/>\n",
              "  </svg>\n",
              "      </button>\n",
              "      \n",
              "  <style>\n",
              "    .colab-df-container {\n",
              "      display:flex;\n",
              "      flex-wrap:wrap;\n",
              "      gap: 12px;\n",
              "    }\n",
              "\n",
              "    .colab-df-convert {\n",
              "      background-color: #E8F0FE;\n",
              "      border: none;\n",
              "      border-radius: 50%;\n",
              "      cursor: pointer;\n",
              "      display: none;\n",
              "      fill: #1967D2;\n",
              "      height: 32px;\n",
              "      padding: 0 0 0 0;\n",
              "      width: 32px;\n",
              "    }\n",
              "\n",
              "    .colab-df-convert:hover {\n",
              "      background-color: #E2EBFA;\n",
              "      box-shadow: 0px 1px 2px rgba(60, 64, 67, 0.3), 0px 1px 3px 1px rgba(60, 64, 67, 0.15);\n",
              "      fill: #174EA6;\n",
              "    }\n",
              "\n",
              "    [theme=dark] .colab-df-convert {\n",
              "      background-color: #3B4455;\n",
              "      fill: #D2E3FC;\n",
              "    }\n",
              "\n",
              "    [theme=dark] .colab-df-convert:hover {\n",
              "      background-color: #434B5C;\n",
              "      box-shadow: 0px 1px 3px 1px rgba(0, 0, 0, 0.15);\n",
              "      filter: drop-shadow(0px 1px 2px rgba(0, 0, 0, 0.3));\n",
              "      fill: #FFFFFF;\n",
              "    }\n",
              "  </style>\n",
              "\n",
              "      <script>\n",
              "        const buttonEl =\n",
              "          document.querySelector('#df-57f12cbb-d705-412f-a4d0-9b09b2966dd3 button.colab-df-convert');\n",
              "        buttonEl.style.display =\n",
              "          google.colab.kernel.accessAllowed ? 'block' : 'none';\n",
              "\n",
              "        async function convertToInteractive(key) {\n",
              "          const element = document.querySelector('#df-57f12cbb-d705-412f-a4d0-9b09b2966dd3');\n",
              "          const dataTable =\n",
              "            await google.colab.kernel.invokeFunction('convertToInteractive',\n",
              "                                                     [key], {});\n",
              "          if (!dataTable) return;\n",
              "\n",
              "          const docLinkHtml = 'Like what you see? Visit the ' +\n",
              "            '<a target=\"_blank\" href=https://colab.research.google.com/notebooks/data_table.ipynb>data table notebook</a>'\n",
              "            + ' to learn more about interactive tables.';\n",
              "          element.innerHTML = '';\n",
              "          dataTable['output_type'] = 'display_data';\n",
              "          await google.colab.output.renderOutput(dataTable, element);\n",
              "          const docLink = document.createElement('div');\n",
              "          docLink.innerHTML = docLinkHtml;\n",
              "          element.appendChild(docLink);\n",
              "        }\n",
              "      </script>\n",
              "    </div>\n",
              "  </div>\n",
              "  "
            ]
          },
          "metadata": {},
          "execution_count": 155
        }
      ]
    },
    {
      "cell_type": "code",
      "source": [
        "n=np.array(a2.iloc[0:26,[3]])                  #Extraemos los elementos que necesitamos y los convertimos en numpy arrays para graficarlos\n",
        "m=np.array(a2.iloc[26:52,[3]])\n",
        "n2=np.array(a2.iloc[0:26,[0]])\n",
        "m2=np.array(a2.iloc[26:52,[0]])"
      ],
      "metadata": {
        "id": "UR06khq2xhGW"
      },
      "execution_count": null,
      "outputs": []
    },
    {
      "cell_type": "code",
      "source": [
        "#Gráfico para Bogotá\n",
        "plt.plot(n2,n, \"r-\" ,label = \"Bogotá\")\n",
        "plt.xlabel(\"Año\")\n",
        "plt.ylabel(\"Temperatura (Celcius)\")\n",
        "plt.grid()\n",
        "plt.legend()\n",
        "plt.show() "
      ],
      "metadata": {
        "colab": {
          "base_uri": "https://localhost:8080/",
          "height": 279
        },
        "id": "67lbEEoNyRAi",
        "outputId": "c6db35d8-6ae4-4b25-e455-eff9f61450c5"
      },
      "execution_count": null,
      "outputs": [
        {
          "output_type": "display_data",
          "data": {
            "text/plain": [
              "<Figure size 432x288 with 1 Axes>"
            ],
            "image/png": "[encoded data removed]"
          },
          "metadata": {
            "needs_background": "light"
          }
        }
      ]
    },
    {
      "cell_type": "code",
      "source": [
        "#Gráfico para Barcelona\n",
        "plt.plot(m2,m, \"g-\" ,label = \"Barcelona\")\n",
        "plt.xlabel(\"Año\")\n",
        "plt.ylabel(\"Temperatura (Celcius)\")\n",
        "plt.grid()\n",
        "plt.legend()\n",
        "plt.show() "
      ],
      "metadata": {
        "colab": {
          "base_uri": "https://localhost:8080/",
          "height": 279
        },
        "id": "DwxzhOPozPlp",
        "outputId": "9633a881-12a3-41d8-c992-7a00e6620285"
      },
      "execution_count": null,
      "outputs": [
        {
          "output_type": "display_data",
          "data": {
            "text/plain": [
              "<Figure size 432x288 with 1 Axes>"
            ],
            "image/png": "[encoded data removed]"
          },
          "metadata": {
            "needs_background": "light"
          }
        }
      ]
    },
    {
      "cell_type": "code",
      "source": [
        "#Otra forma alternativa de hacerlo es extrayendo los directamente los valores del dataframe despues de agregar la columna \"AvgTempCelcius\"\n",
        "#Tal como se recomienda en la guía convertirlos en numpy arrays y graficarlos vemos que obtenemos exacatamente las mismas graficas anteriores.\n",
        "\n",
        "tf = a[\"City\"]==\"Bogota\"\n",
        "u2=np.array(a[tf].AvgTempCelcius)\n",
        "tf = a[\"City\"]==\"Bogota\"\n",
        "p2=np.array(a[tf].Year)\n",
        "plt.plot(p2,u2, \"r-\" ,label = \"Bogotá\")\n",
        "plt.xlabel(\"Año\")\n",
        "plt.ylabel(\"Temperatura (Celcius)\")\n",
        "plt.grid()\n",
        "plt.legend()\n",
        "plt.show() "
      ],
      "metadata": {
        "id": "b3LwNEmnAmi9"
      },
      "execution_count": null,
      "outputs": []
    },
    {
      "cell_type": "code",
      "source": [
        "tf = a[\"City\"]==\"Barcelona\"\n",
        "u=np.array(a[tf].AvgTempCelcius)\n",
        "tf = a[\"City\"]==\"Barcelona\"\n",
        "p=np.array(a[tf].Year)\n",
        "plt.plot(p,u, \"g-\" ,label = \"Barcelona\")\n",
        "plt.xlabel(\"Año\")\n",
        "plt.ylabel(\"Temperatura (Celcius)\")\n",
        "plt.grid()\n",
        "plt.legend()\n",
        "plt.show() "
      ],
      "metadata": {
        "id": "isvHtzwyAqfz"
      },
      "execution_count": null,
      "outputs": []
    }
  ]
}