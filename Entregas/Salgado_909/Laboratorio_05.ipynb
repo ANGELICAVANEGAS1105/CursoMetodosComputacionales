{
  "nbformat": 4,
  "nbformat_minor": 0,
  "metadata": {
    "colab": {
      "name": "Laboratorio_05.ipynb",
      "provenance": [],
      "collapsed_sections": []
    },
    "kernelspec": {
      "name": "python3",
      "display_name": "Python 3"
    },
    "language_info": {
      "name": "python"
    }
  },
  "cells": [
    {
      "cell_type": "markdown",
      "source": [
        "1. **Problema**\n",
        "\n",
        " Muestre que la expresión que permite resolver el problema.\n",
        "Construya una grafica para theta,¿Alrededor de que punto esta solución?"
      ],
      "metadata": {
        "id": "xpBYk2b6oBOE"
      }
    },
    {
      "cell_type": "code",
      "execution_count": 41,
      "metadata": {
        "colab": {
          "base_uri": "https://localhost:8080/",
          "height": 297
        },
        "id": "GPrJd-WHiMUs",
        "outputId": "f16da782-4e78-4072-ac38-37fe8fc7f908"
      },
      "outputs": [
        {
          "output_type": "display_data",
          "data": {
            "text/plain": [
              "<Figure size 432x288 with 1 Axes>"
            ],
            "image/png": "[encoded data removed]"
          },
          "metadata": {
            "needs_background": "light"
          }
        }
      ],
      "source": [
        "import matplotlib.pyplot as plt\n",
        "import numpy as np\n",
        "import pandas as pd\n",
        "from scipy import optimize\n",
        "from PIL import Image\n",
        "\n",
        "θ=np.arange(0,5,0.01)\n",
        "y=θ-np.sin(θ)-np.pi/2\n",
        "\n",
        "\n",
        "plt.title('Segmento circular')\n",
        "plt.plot(θ,y,'b',label='$f(θ)$')\n",
        "plt.xlabel('$θ$')\n",
        "plt.ylabel('$f(θ)$')\n",
        "plt.grid()\n",
        "plt.legend()\n",
        "plt.show()"
      ]
    },
    {
      "cell_type": "code",
      "source": [
        "d = {'theta':θ, 'funcion':y}\n",
        "df = pd.DataFrame(d)\n",
        "df"
      ],
      "metadata": {
        "colab": {
          "base_uri": "https://localhost:8080/",
          "height": 423
        },
        "id": "DsJuqLe6jY09",
        "outputId": "9a94bf0c-d1cf-4bac-b61d-1c6f55e1a3a3"
      },
      "execution_count": 43,
      "outputs": [
        {
          "output_type": "execute_result",
          "data": {
            "text/plain": [
              "     theta   funcion\n",
              "0     0.00 -1.570796\n",
              "1     0.01 -1.570796\n",
              "2     0.02 -1.570795\n",
              "3     0.03 -1.570792\n",
              "4     0.04 -1.570786\n",
              "..     ...       ...\n",
              "495   4.95  4.351107\n",
              "496   4.96  4.358704\n",
              "497   4.97  4.366205\n",
              "498   4.98  4.373609\n",
              "499   4.99  4.380917\n",
              "\n",
              "[500 rows x 2 columns]"
            ],
            "text/html": [
              "\n",
              "  <div id=\"df-a7eb5ed3-1a18-46c2-bb38-f5490527512d\">\n",
              "    <div class=\"colab-df-container\">\n",
              "      <div>\n",
              "<style scoped>\n",
              "    .dataframe tbody tr th:only-of-type {\n",
              "        vertical-align: middle;\n",
              "    }\n",
              "\n",
              "    .dataframe tbody tr th {\n",
              "        vertical-align: top;\n",
              "    }\n",
              "\n",
              "    .dataframe thead th {\n",
              "        text-align: right;\n",
              "    }\n",
              "</style>\n",
              "<table border=\"1\" class=\"dataframe\">\n",
              "  <thead>\n",
              "    <tr style=\"text-align: right;\">\n",
              "      <th></th>\n",
              "      <th>theta</th>\n",
              "      <th>funcion</th>\n",
              "    </tr>\n",
              "  </thead>\n",
              "  <tbody>\n",
              "    <tr>\n",
              "      <th>0</th>\n",
              "      <td>0.00</td>\n",
              "      <td>-1.570796</td>\n",
              "    </tr>\n",
              "    <tr>\n",
              "      <th>1</th>\n",
              "      <td>0.01</td>\n",
              "      <td>-1.570796</td>\n",
              "    </tr>\n",
              "    <tr>\n",
              "      <th>2</th>\n",
              "      <td>0.02</td>\n",
              "      <td>-1.570795</td>\n",
              "    </tr>\n",
              "    <tr>\n",
              "      <th>3</th>\n",
              "      <td>0.03</td>\n",
              "      <td>-1.570792</td>\n",
              "    </tr>\n",
              "    <tr>\n",
              "      <th>4</th>\n",
              "      <td>0.04</td>\n",
              "      <td>-1.570786</td>\n",
              "    </tr>\n",
              "    <tr>\n",
              "      <th>...</th>\n",
              "      <td>...</td>\n",
              "      <td>...</td>\n",
              "    </tr>\n",
              "    <tr>\n",
              "      <th>495</th>\n",
              "      <td>4.95</td>\n",
              "      <td>4.351107</td>\n",
              "    </tr>\n",
              "    <tr>\n",
              "      <th>496</th>\n",
              "      <td>4.96</td>\n",
              "      <td>4.358704</td>\n",
              "    </tr>\n",
              "    <tr>\n",
              "      <th>497</th>\n",
              "      <td>4.97</td>\n",
              "      <td>4.366205</td>\n",
              "    </tr>\n",
              "    <tr>\n",
              "      <th>498</th>\n",
              "      <td>4.98</td>\n",
              "      <td>4.373609</td>\n",
              "    </tr>\n",
              "    <tr>\n",
              "      <th>499</th>\n",
              "      <td>4.99</td>\n",
              "      <td>4.380917</td>\n",
              "    </tr>\n",
              "  </tbody>\n",
              "</table>\n",
              "<p>500 rows × 2 columns</p>\n",
              "</div>\n",
              "      <button class=\"colab-df-convert\" onclick=\"convertToInteractive('df-a7eb5ed3-1a18-46c2-bb38-f5490527512d')\"\n",
              "              title=\"Convert this dataframe to an interactive table.\"\n",
              "              style=\"display:none;\">\n",
              "        \n",
              "  <svg xmlns=\"http://www.w3.org/2000/svg\" height=\"24px\"viewBox=\"0 0 24 24\"\n",
              "       width=\"24px\">\n",
              "    <path d=\"M0 0h24v24H0V0z\" fill=\"none\"/>\n",
              "    <path d=\"M18.56 5.44l.94 2.06.94-2.06 2.06-.94-2.06-.94-.94-2.06-.94 2.06-2.06.94zm-11 1L8.5 8.5l.94-2.06 2.06-.94-2.06-.94L8.5 2.5l-.94 2.06-2.06.94zm10 10l.94 2.06.94-2.06 2.06-.94-2.06-.94-.94-2.06-.94 2.06-2.06.94z\"/><path d=\"M17.41 7.96l-1.37-1.37c-.4-.4-.92-.59-1.43-.59-.52 0-1.04.2-1.43.59L10.3 9.45l-7.72 7.72c-.78.78-.78 2.05 0 2.83L4 21.41c.39.39.9.59 1.41.59.51 0 1.02-.2 1.41-.59l7.78-7.78 2.81-2.81c.8-.78.8-2.07 0-2.86zM5.41 20L4 18.59l7.72-7.72 1.47 1.35L5.41 20z\"/>\n",
              "  </svg>\n",
              "      </button>\n",
              "      \n",
              "  <style>\n",
              "    .colab-df-container {\n",
              "      display:flex;\n",
              "      flex-wrap:wrap;\n",
              "      gap: 12px;\n",
              "    }\n",
              "\n",
              "    .colab-df-convert {\n",
              "      background-color: #E8F0FE;\n",
              "      border: none;\n",
              "      border-radius: 50%;\n",
              "      cursor: pointer;\n",
              "      display: none;\n",
              "      fill: #1967D2;\n",
              "      height: 32px;\n",
              "      padding: 0 0 0 0;\n",
              "      width: 32px;\n",
              "    }\n",
              "\n",
              "    .colab-df-convert:hover {\n",
              "      background-color: #E2EBFA;\n",
              "      box-shadow: 0px 1px 2px rgba(60, 64, 67, 0.3), 0px 1px 3px 1px rgba(60, 64, 67, 0.15);\n",
              "      fill: #174EA6;\n",
              "    }\n",
              "\n",
              "    [theme=dark] .colab-df-convert {\n",
              "      background-color: #3B4455;\n",
              "      fill: #D2E3FC;\n",
              "    }\n",
              "\n",
              "    [theme=dark] .colab-df-convert:hover {\n",
              "      background-color: #434B5C;\n",
              "      box-shadow: 0px 1px 3px 1px rgba(0, 0, 0, 0.15);\n",
              "      filter: drop-shadow(0px 1px 2px rgba(0, 0, 0, 0.3));\n",
              "      fill: #FFFFFF;\n",
              "    }\n",
              "  </style>\n",
              "\n",
              "      <script>\n",
              "        const buttonEl =\n",
              "          document.querySelector('#df-a7eb5ed3-1a18-46c2-bb38-f5490527512d button.colab-df-convert');\n",
              "        buttonEl.style.display =\n",
              "          google.colab.kernel.accessAllowed ? 'block' : 'none';\n",
              "\n",
              "        async function convertToInteractive(key) {\n",
              "          const element = document.querySelector('#df-a7eb5ed3-1a18-46c2-bb38-f5490527512d');\n",
              "          const dataTable =\n",
              "            await google.colab.kernel.invokeFunction('convertToInteractive',\n",
              "                                                     [key], {});\n",
              "          if (!dataTable) return;\n",
              "\n",
              "          const docLinkHtml = 'Like what you see? Visit the ' +\n",
              "            '<a target=\"_blank\" href=https://colab.research.google.com/notebooks/data_table.ipynb>data table notebook</a>'\n",
              "            + ' to learn more about interactive tables.';\n",
              "          element.innerHTML = '';\n",
              "          dataTable['output_type'] = 'display_data';\n",
              "          await google.colab.output.renderOutput(dataTable, element);\n",
              "          const docLink = document.createElement('div');\n",
              "          docLink.innerHTML = docLinkHtml;\n",
              "          element.appendChild(docLink);\n",
              "        }\n",
              "      </script>\n",
              "    </div>\n",
              "  </div>\n",
              "  "
            ]
          },
          "metadata": {},
          "execution_count": 43
        }
      ]
    },
    {
      "cell_type": "markdown",
      "source": [
        "Emplee el metodo de biseccion, punto fijo, newton y secante para comprobar la solución intuida del apartado anterior"
      ],
      "metadata": {
        "id": "rdNPYizzoYj2"
      }
    },
    {
      "cell_type": "code",
      "source": [
        "f = lambda θ: θ-np.sin(θ)-np.pi/2\n",
        "g = lambda θ: θ-f(θ)\n",
        "dF = lambda θ: 1-np.cos(θ)\n",
        "\n",
        "BS = optimize.bisect(f, 2.3, 2.4)\n",
        "PF = optimize.fixed_point(g, 2.35)\n",
        "NR = optimize.newton(f, 2, dF)\n",
        "SC = optimize.newton(f, 2)\n",
        "\n",
        "print('Raíz por cada método ')\n",
        "print('Método de la bisección: ',BS)\n",
        "print('Método de del punto fijo: ',PF)\n",
        "print('Método de Newton-Rhapson: ',NR)\n",
        "print('Método de la secante: ',SC)"
      ],
      "metadata": {
        "colab": {
          "base_uri": "https://localhost:8080/"
        },
        "id": "cbk9xxqhjm_h",
        "outputId": "5b3c4fe4-8fb2-488f-f985-5d4bc4ea5f38"
      },
      "execution_count": 14,
      "outputs": [
        {
          "output_type": "stream",
          "name": "stdout",
          "text": [
            "Raíz por cada método \n",
            "Método de la bisección:  2.3098814600103648\n",
            "Método de del punto fijo:  2.309881460010057\n",
            "Método de Newton-Rhapson:  2.3098814600100575\n",
            "Método de la secante:  2.309881460010033\n"
          ]
        }
      ]
    },
    {
      "cell_type": "markdown",
      "source": [
        "2. **Problema de caída con viscosidad**"
      ],
      "metadata": {
        "id": "Wczomsz6o3xu"
      }
    },
    {
      "cell_type": "markdown",
      "source": [
        "Parámetros:"
      ],
      "metadata": {
        "id": "rQTVB2mwp6Ku"
      }
    },
    {
      "cell_type": "code",
      "source": [
        "g = 32.17 #ft/s^2\n",
        "s0 = 300 #ft\n",
        "m = 0.25 #lb\n",
        "k = 0.1 #lb/ft\n",
        "v0 = 0"
      ],
      "metadata": {
        "id": "iHxApZt5o8Hm"
      },
      "execution_count": 54,
      "outputs": []
    },
    {
      "cell_type": "markdown",
      "source": [
        "Funciones necesarias:"
      ],
      "metadata": {
        "id": "9EAR19CYp9Ks"
      }
    },
    {
      "cell_type": "code",
      "source": [
        "f1 = lambda t: s0-(m*g/k)*t-m*((m*g+k*v0)/k**2)*(1-np.exp(-k*t/m))\n",
        "dF1 = lambda t: -(m*g/k)-(m*g/k*np.exp(k*t/m))-(v0/np.exp(k*t/m))\n",
        "g1 = lambda t: t - f1(t)\n"
      ],
      "metadata": {
        "id": "76nZKLnDqBaA"
      },
      "execution_count": 55,
      "outputs": []
    },
    {
      "cell_type": "markdown",
      "source": [
        "Gráfica:"
      ],
      "metadata": {
        "id": "TjCy3T_zvIJw"
      }
    },
    {
      "cell_type": "code",
      "source": [
        "x = np.arange(-10, 10, 0.01)\n",
        "y1 = f1(x)\n",
        "\n",
        "plt.title('Función de caída con viscosidad')\n",
        "plt.plot(x, y1, 'b', label='$f(t)$')\n",
        "plt.xlabel('$t$')\n",
        "plt.ylabel('$f(t)$')\n",
        "plt.grid()\n",
        "plt.legend()\n",
        "plt.show()"
      ],
      "metadata": {
        "colab": {
          "base_uri": "https://localhost:8080/",
          "height": 297
        },
        "id": "E_-7u0gUu_cC",
        "outputId": "01c1d776-5603-4235-cb50-9dc98de389e7"
      },
      "execution_count": 56,
      "outputs": [
        {
          "output_type": "display_data",
          "data": {
            "text/plain": [
              "<Figure size 432x288 with 1 Axes>"
            ],
            "image/png": "[encoded data removed]"
          },
          "metadata": {
            "needs_background": "light"
          }
        }
      ]
    },
    {
      "cell_type": "markdown",
      "source": [
        "Emplee el metodo de biseccion, punto fijo, newton y secante para comprobrar la solución"
      ],
      "metadata": {
        "id": "rhVN2EfDzLrV"
      }
    },
    {
      "cell_type": "code",
      "source": [
        "BS1 = optimize.bisect(f1, 1, 3)\n",
        "PF1 = optimize.fixed_point(g1, 2)\n",
        "NR1 = optimize.newton(f1, 1, dF1)\n",
        "SC1 = optimize.newton(f1, 1)\n",
        "\n",
        "print('Raíz por cada método ')\n",
        "print('Método de la bisección: ',BS1)\n",
        "print('Método de del punto fijo: ',PF1)\n",
        "print('Método de Newton-Rhapson: ',NR1)\n",
        "print('Método de la secante: ',SC1)"
      ],
      "metadata": {
        "colab": {
          "base_uri": "https://localhost:8080/"
        },
        "id": "3e1zcHanyWTV",
        "outputId": "03026b5c-c3a9-4647-beb5-54de49bd8cdc"
      },
      "execution_count": 57,
      "outputs": [
        {
          "output_type": "stream",
          "name": "stdout",
          "text": [
            "Raíz por cada método \n",
            "Método de la bisección:  2.247588475684097\n",
            "Método de del punto fijo:  2.2475884756848012\n",
            "Método de Newton-Rhapson:  2.247588455550957\n",
            "Método de la secante:  2.2475884756848017\n"
          ]
        }
      ]
    },
    {
      "cell_type": "markdown",
      "source": [
        "3. **Magnetización**"
      ],
      "metadata": {
        "id": "f-bNxWFk2NAU"
      }
    },
    {
      "cell_type": "markdown",
      "source": [
        "Para T = 0.5, determine:"
      ],
      "metadata": {
        "id": "vbpF6RWj2-BT"
      }
    },
    {
      "cell_type": "code",
      "source": [
        "T = 0.5\n",
        "f2 = lambda m: m-np.tanh(m/T)\n",
        "g2 = lambda m: m-f2(m)"
      ],
      "metadata": {
        "id": "bROugSk1ztrA"
      },
      "execution_count": 59,
      "outputs": []
    },
    {
      "cell_type": "markdown",
      "source": [
        "Gráfica:"
      ],
      "metadata": {
        "id": "oOnjHFaG4E_w"
      }
    },
    {
      "cell_type": "code",
      "source": [
        "x1 = np.arange(-10, 10, 0.01)\n",
        "y2 = f2(x1)\n",
        "\n",
        "plt.title('Magnetización')\n",
        "plt.plot(x1, y2, 'b', label='$m(T)$')\n",
        "plt.xlabel('$T$')\n",
        "plt.ylabel('$m(T)$')\n",
        "plt.grid()\n",
        "plt.xlim(-2.5, 2.5)\n",
        "plt.legend()\n",
        "plt.show()"
      ],
      "metadata": {
        "colab": {
          "base_uri": "https://localhost:8080/",
          "height": 297
        },
        "id": "cqwswdhe4Kzf",
        "outputId": "3dfc328f-cdbe-4dcf-fbc5-7092560a8ec5"
      },
      "execution_count": 61,
      "outputs": [
        {
          "output_type": "display_data",
          "data": {
            "text/plain": [
              "<Figure size 432x288 with 1 Axes>"
            ],
            "image/png": "[encoded data removed]"
          },
          "metadata": {
            "needs_background": "light"
          }
        }
      ]
    },
    {
      "cell_type": "markdown",
      "source": [
        "a. La magnetización reducida empleando el metodo de la secante(Muestre su resultado con 4 cifras)"
      ],
      "metadata": {
        "id": "5U7a2dIi5S1L"
      }
    },
    {
      "cell_type": "code",
      "source": [
        "s1 = optimize.newton(f2, -1)\n",
        "s2 = optimize.newton(f2, 0)\n",
        "s3 = optimize.newton(f2, 1)\n",
        "\n",
        "print('Primera raíz: ', round(s1,4))\n",
        "print('Segunda raíz: ', round(s2,4))\n",
        "print('Tercera raíz: ', round(s3,4))"
      ],
      "metadata": {
        "colab": {
          "base_uri": "https://localhost:8080/"
        },
        "id": "uVLchi5E40TW",
        "outputId": "2563d487-9e68-4f9e-f2af-e0972df2b919"
      },
      "execution_count": 63,
      "outputs": [
        {
          "output_type": "stream",
          "name": "stdout",
          "text": [
            "Primera raíz:  -0.9575\n",
            "Segunda raíz:  0.0\n",
            "Tercera raíz:  0.9575\n"
          ]
        }
      ]
    },
    {
      "cell_type": "markdown",
      "source": [
        "b. Valide su respuesta con el metodo de punto fijo. (Muestre su resultado con 4 cifras)"
      ],
      "metadata": {
        "id": "fuKLFuyA5-qr"
      }
    },
    {
      "cell_type": "code",
      "source": [
        "pf1 = optimize.fixed_point(g2, -1)\n",
        "pf2 = optimize.fixed_point(g2, 0)\n",
        "pf3 = optimize.fixed_point(g2, 1)\n",
        "\n",
        "print('Primera raíz: ', np.round(pf1, 4))\n",
        "print('Primera raíz: ', np.round(pf2, 4))\n",
        "print('Primera raíz: ', np.round(pf3, 4))"
      ],
      "metadata": {
        "colab": {
          "base_uri": "https://localhost:8080/"
        },
        "id": "q-wVEioF5n0o",
        "outputId": "e605c0fe-4d99-42e4-b9ba-c838f8a6c341"
      },
      "execution_count": 72,
      "outputs": [
        {
          "output_type": "stream",
          "name": "stdout",
          "text": [
            "Primera raíz:  -0.9575\n",
            "Primera raíz:  0.0\n",
            "Primera raíz:  0.9575\n"
          ]
        }
      ]
    },
    {
      "cell_type": "markdown",
      "source": [
        "c. Defina T = np.linspace(0.1,0.99,100), y emple el metodo de la secante para construir un gráfico de magnetización reducida como función de la temperatura para los 100 valores de T"
      ],
      "metadata": {
        "id": "82Z2zX1a8qSE"
      }
    },
    {
      "cell_type": "code",
      "source": [
        "T1 = np.linspace(0.1, 0.99, 100)\n",
        "r = np.zeros(len(T1))\n",
        "\n",
        "for i in range (len(T1)):\n",
        "  T = T1[i]\n",
        "  r[i] = optimize.newton(f2, 1)\n",
        "\n",
        "plt.title('m vs T')\n",
        "plt.plot(T1, r)\n",
        "plt.xlabel('T', size=15)\n",
        "plt.ylabel('m(T)', size=15)\n",
        "plt.show()"
      ],
      "metadata": {
        "colab": {
          "base_uri": "https://localhost:8080/",
          "height": 300
        },
        "id": "4b544lyx7sQf",
        "outputId": "711c124f-4b79-488d-d118-1c5d59820699"
      },
      "execution_count": 76,
      "outputs": [
        {
          "output_type": "display_data",
          "data": {
            "text/plain": [
              "<Figure size 432x288 with 1 Axes>"
            ],
            "image/png": "[encoded data removed]"
          },
          "metadata": {
            "needs_background": "light"
          }
        }
      ]
    },
    {
      "cell_type": "markdown",
      "source": [
        "4. **Fractal**"
      ],
      "metadata": {
        "id": "44bYHpE6-CV3"
      }
    },
    {
      "cell_type": "code",
      "source": [
        "Npx_X = 80 #Numero de pixeles en x\n",
        "Npx_Y = 80 #Numero de pixeles en y\n",
        "\n",
        "image = Image.new(\"RGB\", (Npx_X, Npx_Y)) #Creacion de la imagen inicial\n",
        "\n",
        "npx = np.arange(0, Npx_X)\n",
        "npy = np.arange(0, Npx_Y)\n",
        "\n",
        "xmin = -1\n",
        "xmax = 1\n",
        "ymin = -1\n",
        "ymax = 1\n",
        "#Transformación al plano complejo en un rectangulo (xmin, xmax), (ymin, ymax)\n",
        "zx = npx * (xmax - xmin) / (Npx_X - 1)   + xmin\n",
        "zy = npy * (ymax-ymin) / (Npx_Y - 1) + ymin\n",
        "\n",
        "#Definicion  la funcion y las derivada \n",
        "def f(z): \n",
        "  return z**3 - 1\n",
        "\n",
        "def fp(z): \n",
        "  return 3*z**2\n",
        "\n",
        "h = 1E-4\n",
        "def fpn(z, h): \n",
        "  return (f(z+h)-f(z))/h\n",
        "\n",
        "\n",
        "a = 0.2\n",
        "Niteraciones = 120\n",
        "eps = 1E-8\n",
        "\n",
        "x = - 1\n",
        "for zx_ in zx:\n",
        "  x = x + 1 \n",
        "  y = -1\n",
        "  for zy_ in zy: \n",
        "      y = y + 1\n",
        "      Z_0 = complex(zx_, zy_)\n",
        "\n",
        "      for i in range(0, Niteraciones): \n",
        "        Z = Z_0 - a * f(Z_0)/fp(Z_0)\n",
        "\n",
        "        if( abs(Z-Z_0)<= eps):\n",
        "          break \n",
        "\n",
        "        Z_0 = Z\n",
        "      #print(i)\n",
        "      #print(i)\n",
        "      r, g, b = i % 4 *64 , i % 8 *16, i% 16* 16\n",
        "\n",
        "      image.putpixel((x,y), (r,g,b) )\n",
        "\n",
        "\n",
        "plt.imshow(image)\n",
        "#plt.xlim(400, 600)\n",
        "#plt.ylim(400, 523)"
      ],
      "metadata": {
        "colab": {
          "base_uri": "https://localhost:8080/",
          "height": 286
        },
        "id": "lbQaN6-Z9lyY",
        "outputId": "53784f8c-2653-4738-b369-3cd348c53f70"
      },
      "execution_count": 77,
      "outputs": [
        {
          "output_type": "execute_result",
          "data": {
            "text/plain": [
              "<matplotlib.image.AxesImage at 0x7f14121f0e50>"
            ]
          },
          "metadata": {},
          "execution_count": 77
        },
        {
          "output_type": "display_data",
          "data": {
            "text/plain": [
              "<Figure size 432x288 with 1 Axes>"
            ],
            "image/png": "[encoded data removed]"
          },
          "metadata": {
            "needs_background": "light"
          }
        }
      ]
    }
  ]
}