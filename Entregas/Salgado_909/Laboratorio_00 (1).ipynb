{
  "nbformat": 4,
  "nbformat_minor": 0,
  "metadata": {
    "colab": {
      "name": "Laboratorio_00.ipynb",
      "provenance": [],
      "collapsed_sections": []
    },
    "kernelspec": {
      "name": "python3",
      "display_name": "Python 3"
    },
    "language_info": {
      "name": "python"
    }
  },
  "cells": [
    {
      "cell_type": "markdown",
      "source": [
        "1. **Hallar un número factorial**"
      ],
      "metadata": {
        "id": "X_q9xa0oMyXV"
      }
    },
    {
      "cell_type": "code",
      "source": [
        "def factorial(n): \n",
        "    return 1 if (n==1 or n==0) else n * factorial(n - 1)\n",
        "  \n",
        "num = input(\"introduzca un numero natural: \")\n",
        "num = int(num) \n",
        "print(\"El factorial de\",num,\"es\", factorial(num))"
      ],
      "metadata": {
        "colab": {
          "base_uri": "https://localhost:8080/"
        },
        "id": "ptpChXMjL6KI",
        "outputId": "665483a0-d8de-462e-d2ba-1b55c098f902"
      },
      "execution_count": null,
      "outputs": [
        {
          "output_type": "stream",
          "name": "stdout",
          "text": [
            "introduzca un numero natural: 4\n",
            "El factorial de 4 es 24\n"
          ]
        }
      ]
    },
    {
      "cell_type": "markdown",
      "source": [
        "2. **Diseñar un programa que lea dos numeros a y b de acuerdo a ciertas especificaciones**"
      ],
      "metadata": {
        "id": "Rw-EtWCxM61j"
      }
    },
    {
      "cell_type": "code",
      "source": [
        "\n",
        "#Cálculo de la suma de sus números divisores\n",
        "def suma_divisores(a):\n",
        "  suma = 0\n",
        "  for i in range(1, a):\n",
        "    if a % i == 0:\n",
        "          suma += i \n",
        "  return suma\n",
        "\n",
        "\n",
        "a = int(input(\"introduzca un número a: \"))\n",
        "b = int(input(\"introduzca un número b: \"))\n",
        "print(\"la suma de los divisores de a es: \",suma_divisores(a))\n",
        "print(\"la suma de los divisores de b es: \",suma_divisores(b))\n",
        "\n",
        "if suma_divisores(a)<a:\n",
        "  print('a es un número defectivo')\n",
        "elif suma_divisores(a)>a:\n",
        "  print('a es un número abundante')\n",
        "\n",
        "\n",
        "if suma_divisores(b)<b:\n",
        "  print('b es un número defectivo')\n",
        "elif suma_divisores(b)>b:\n",
        "  print('b es un número abundante')\n",
        "\n",
        "\n",
        "if a==suma_divisores(b):\n",
        "  print('a es un número amigo')\n",
        "\n",
        "if b==suma_divisores(a):\n",
        "  print('b es un número amigo')\n",
        "\n",
        "\n",
        "if a==suma_divisores(a):\n",
        "  print('a es un número perfecto')\n",
        "\n",
        "if b==suma_divisores(b):\n",
        "  print('a es un número perfecto')\n",
        "\n",
        "\n",
        "  \n",
        "def primo(num, n=2):\n",
        "    if n >= num:\n",
        "        print(\"es un número primo\")\n",
        "        \n",
        "    elif num % n != 0:\n",
        "        return primo(num, n + 1)\n",
        "    else:\n",
        "        print(\"No es primo\")\n",
        "\n",
        "print(primo(a))\n",
        "print(primo(b))\n",
        "\n"
      ],
      "metadata": {
        "id": "ijx7apn1NEfe",
        "colab": {
          "base_uri": "https://localhost:8080/"
        },
        "outputId": "ccd0391e-709b-4531-af19-7ec2302fd22a"
      },
      "execution_count": 21,
      "outputs": [
        {
          "output_type": "stream",
          "name": "stdout",
          "text": [
            "introduzca un número a: 3456\n",
            "introduzca un número b: 23\n",
            "la suma de los divisores de a es:  6744\n",
            "la suma de los divisores de b es:  1\n",
            "a es un número abundante\n",
            "b es un número defectivo\n",
            "No es primo\n",
            "None\n",
            "es un número primo\n",
            "None\n"
          ]
        }
      ]
    },
    {
      "cell_type": "markdown",
      "source": [
        "3. **Determine si un número n entero ingresado por el usuario es un palíndromo (Retorne True en caso afirmativo y False en caso contrario)**"
      ],
      "metadata": {
        "id": "fFhnTifLCxVY"
      }
    },
    {
      "cell_type": "code",
      "source": [
        "n = int(input('Escriba un número entero positivo: '))\n",
        "\n",
        "if n >= 0:\n",
        "\n",
        "   if str(n) == str(n)[::-1]:\n",
        "     print('True')\n",
        "\n",
        "   else:\n",
        "     print('False')\n"
      ],
      "metadata": {
        "id": "r2_qH98XC9XT",
        "colab": {
          "base_uri": "https://localhost:8080/"
        },
        "outputId": "b111be75-3a1a-4d2d-9ab9-9aeed7e72615"
      },
      "execution_count": 22,
      "outputs": [
        {
          "output_type": "stream",
          "name": "stdout",
          "text": [
            "Escriba un número entero positivo: 78877887\n",
            "True\n"
          ]
        }
      ]
    },
    {
      "cell_type": "markdown",
      "source": [
        "4. **Dada una cadena de caracteres, entregar una lista donde se retorne:**\n",
        "\n",
        "- En la primera casilla: True si el caracter del medio es una vocal, False en caso contrario\n",
        "- En la segunda: el numero de vocales en la cadena\n",
        "- En la tercera: el numero de consonantes\n",
        "- En la ultima: la cadena de caracteres invertida (ej: perro, orrep) \n",
        "\n",
        "\n",
        "\n"
      ],
      "metadata": {
        "id": "xLjfstAAcZLP"
      }
    },
    {
      "cell_type": "code",
      "source": [
        "X = str(input('introduzca una palabra '))\n",
        "\n",
        "#Casilla 1\n",
        "def mitad(palabra):\n",
        "  X1 = len(X)\n",
        "  if X[X1//2] in \"aeiou\":\n",
        "    print(True)\n",
        "  elif X[X1//2] in \"bcdfghjklmnñpqrstvxyz\":\n",
        "    print(False)  \n",
        "\n",
        "\n",
        "#Casilla 2\n",
        "def vocales(palabra):\n",
        "  vocal = 0\n",
        "  for letra in palabra:\n",
        "    if letra.lower() in \"aeiou\":\n",
        "      vocal += 1\n",
        "\n",
        "  return vocal\n",
        "\n",
        "#Casilla 3\n",
        "#B, C, D, F, G, H, J, K, L, M, N, Ñ, P, Q, R, S, T, V, X, Z Y\n",
        "def consonantes(palabra):\n",
        "  consonante = 0\n",
        "  for letra in palabra:\n",
        "    if letra.lower() in \"bcdfghjklmnñpqrstvxyz\":\n",
        "      consonante += 1\n",
        "\n",
        "  return consonante\n",
        "\n",
        "list = [mitad(X), vocales(X), consonantes(X), X[::-1]]\n",
        "list"
      ],
      "metadata": {
        "id": "1nZIdZeYlhjB",
        "colab": {
          "base_uri": "https://localhost:8080/"
        },
        "outputId": "a1ff37ac-a6c9-4770-ff6d-0c4a24bd6689"
      },
      "execution_count": 23,
      "outputs": [
        {
          "output_type": "stream",
          "name": "stdout",
          "text": [
            "introduzca una palabra atravesar\n",
            "False\n"
          ]
        },
        {
          "output_type": "execute_result",
          "data": {
            "text/plain": [
              "[None, 4, 5, 'rasevarta']"
            ]
          },
          "metadata": {},
          "execution_count": 23
        }
      ]
    },
    {
      "cell_type": "markdown",
      "source": [
        "5. **Elabore un método para calcular el n-ésimo término de la sucesión de fibonacci**"
      ],
      "metadata": {
        "id": "LWaWq5D2wIYt"
      }
    },
    {
      "cell_type": "code",
      "source": [
        "def fibonacci(n):\n",
        "    if n > 1:\n",
        "        return fibonacci(n-1) + fibonacci(n-2)\n",
        "    return n\n",
        "\n",
        "A = int(input(\"Introduzca cualquier n-ésimo término para hallar la sucesión de fibonacci: \"))\n",
        "\n",
        "print(fibonacci(A))"
      ],
      "metadata": {
        "id": "7gGFwd7HwJRH",
        "colab": {
          "base_uri": "https://localhost:8080/"
        },
        "outputId": "2c859792-07d8-4602-ee6f-1f67e45e933b"
      },
      "execution_count": 25,
      "outputs": [
        {
          "output_type": "stream",
          "name": "stdout",
          "text": [
            "Introduzca cualquier n-ésimo término para hallar la sucesión de fibonacci: 20\n",
            "6765\n"
          ]
        }
      ]
    },
    {
      "cell_type": "markdown",
      "source": [
        "6. **Entrar un arreglo de números y ordenarlos de forma ascendente.**"
      ],
      "metadata": {
        "id": "crcxbmQk-OG8"
      }
    },
    {
      "cell_type": "code",
      "source": [
        "def quicksort(arreglo, izq, der):\n",
        "  if izq<der:\n",
        "    i = orden(arreglo, izq, der)\n",
        "    quicksort(arreglo, izq, i)\n",
        "    quicksort(arreglo, i+1, der)\n",
        "\n",
        "def orden(arreglo, izq, der):\n",
        "  pivote = arreglo[izq]\n",
        "  while True:\n",
        "    while arreglo[izq]<pivote:\n",
        "      izq += 1\n",
        "\n",
        "    while arreglo[der]>pivote:\n",
        "      der -= 1\n",
        "\n",
        "    if izq >= der:\n",
        "      return der\n",
        "    \n",
        "    else:\n",
        "      arreglo[izq], arreglo[der] = arreglo[der], arreglo[izq]\n",
        "      izq += 1\n",
        "      der-= 1\n",
        "\n",
        "arreglo = []\n",
        "X = input('Ingrese números enteros separándolos con la tecla de espacio (ej= 28 -7 11 5): ')\n",
        "arreglo = [int(i) for i in X.split(' ')]\n",
        "\n",
        "quicksort(arreglo, 0, len(arreglo)-1)\n",
        "print(arreglo)"
      ],
      "metadata": {
        "id": "-mI23j7mfCz-",
        "colab": {
          "base_uri": "https://localhost:8080/"
        },
        "outputId": "fc0289a8-3fd9-462c-9574-e4eaf0b86365"
      },
      "execution_count": 15,
      "outputs": [
        {
          "output_type": "stream",
          "name": "stdout",
          "text": [
            "Ingrese números enteros separándolos con la tecla de espacio (ej= 28 -7 11 5): 131 28 200 -1 1 68 41 10 5 545\n",
            "[-1, 1, 5, 10, 28, 41, 68, 131, 200, 545]\n"
          ]
        }
      ]
    }
  ]
}