{
  "nbformat": 4,
  "nbformat_minor": 0,
  "metadata": {
    "colab": {
      "name": "Laboratorio_00.ipynb",
      "provenance": []
    },
    "kernelspec": {
      "name": "python3",
      "display_name": "Python 3"
    },
    "language_info": {
      "name": "python"
    }
  },
  "cells": [
    {
      "cell_type": "markdown",
      "source": [
        "1. **Hallar un número factorial**"
      ],
      "metadata": {
        "id": "X_q9xa0oMyXV"
      }
    },
    {
      "cell_type": "code",
      "source": [
        "def factorial(n): \n",
        "    return 1 if (n==1 or n==0) else n * factorial(n - 1)\n",
        "  \n",
        "num = input(\"introduzca un numero natural: \")\n",
        "num = int(num) \n",
        "print(\"El factorial de\",num,\"es\", factorial(num))"
      ],
      "metadata": {
        "colab": {
          "base_uri": "https://localhost:8080/"
        },
        "id": "ptpChXMjL6KI",
        "outputId": "665483a0-d8de-462e-d2ba-1b55c098f902"
      },
      "execution_count": 14,
      "outputs": [
        {
          "output_type": "stream",
          "name": "stdout",
          "text": [
            "introduzca un numero natural: 4\n",
            "El factorial de 4 es 24\n"
          ]
        }
      ]
    },
    {
      "cell_type": "markdown",
      "source": [
        "2. **Diseñar un programa que lea dos numeros a y b de acuerdo a ciertas especificaciones**"
      ],
      "metadata": {
        "id": "Rw-EtWCxM61j"
      }
    },
    {
      "cell_type": "code",
      "source": [
        "\n",
        "#Números defectivos:\n",
        "def suma_divisores(a):\n",
        "  suma = 0\n",
        "  for i in range(1, a):\n",
        "    if a % i == 0:\n",
        "          suma += i \n",
        "  return suma\n",
        "\n",
        "a = int(input(\"introduzca un número a: \"))\n",
        "\n",
        "print(\"la suma de sus divisores es: \",suma_divisores(a))"
      ],
      "metadata": {
        "colab": {
          "base_uri": "https://localhost:8080/"
        },
        "id": "ijx7apn1NEfe",
        "outputId": "0c2918b7-1ffc-4621-831c-9ac6dc960fd8"
      },
      "execution_count": 24,
      "outputs": [
        {
          "output_type": "stream",
          "name": "stdout",
          "text": [
            "introduzca un número a: 16\n",
            "la suma de sus divisores es:  15\n"
          ]
        }
      ]
    }
  ]
}
