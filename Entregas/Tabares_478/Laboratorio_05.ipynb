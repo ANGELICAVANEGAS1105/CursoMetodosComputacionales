{
 "cells": [
  {
   "cell_type": "markdown",
   "id": "831eded3",
   "metadata": {},
   "source": [
    "# Laboratorio 05\n",
    "\n",
    "# One variable equations\n",
    "\n",
    "Juan Jose Tabares Garcia "
   ]
  },
  {
   "cell_type": "markdown",
   "id": "9855b043",
   "metadata": {},
   "source": [
    "## 1. Circular segment"
   ]
  },
  {
   "cell_type": "markdown",
   "id": "f6408e29",
   "metadata": {},
   "source": [
    "### 1.1 Equation:\n",
    "\n",
    "procedure saved in cellphone pictures, to be added later! (25/07)"
   ]
  },
  {
   "cell_type": "markdown",
   "id": "a8686558",
   "metadata": {},
   "source": [
    "### 1.2 Plot and Pandas df with plot data:"
   ]
  },
  {
   "cell_type": "code",
   "execution_count": 23,
   "id": "f65791af",
   "metadata": {},
   "outputs": [
    {
     "name": "stdout",
     "output_type": "stream",
     "text": [
      "X axis intercept:  2.37215306122449 radians\n"
     ]
    },
    {
     "data": {
      "image/png": "[encoded data removed]",
      "text/plain": [
       "<Figure size 432x288 with 1 Axes>"
      ]
     },
     "metadata": {
      "needs_background": "light"
     },
     "output_type": "display_data"
    }
   ],
   "source": [
    "import numpy as np\n",
    "import matplotlib.pyplot as plt\n",
    "import pandas as pd\n",
    "\n",
    "xAxis = np.linspace(-3.1415,3.1415)\n",
    "yAxis = np.zeros(xAxis.size)\n",
    "\n",
    "def function(theta):\n",
    "    return np.sin(theta) - theta + np.pi/2\n",
    "\n",
    "prevValue = 999\n",
    "i = 0\n",
    "for theta in xAxis:\n",
    "    yAxis[i] = (function(theta))\n",
    "    if prevValue > 0 and function(theta)<0:\n",
    "        print(\"X axis intercept: \",(theta), \"radians\")\n",
    "        plt.plot(theta,function(theta),marker=\"o\")\n",
    "    prevValue = function(theta)\n",
    "    i+=1\n",
    "\n",
    "plt.plot(xAxis,yAxis);\n",
    "plt.xlabel(\"$\\\\theta$\")\n",
    "plt.ylabel(\"$f (\\\\theta)$\")\n",
    "plt.grid();"
   ]
  },
  {
   "cell_type": "code",
   "execution_count": 24,
   "id": "8bcd47ad",
   "metadata": {},
   "outputs": [
    {
     "data": {
      "text/html": [
       "<div>\n",
       "<style scoped>\n",
       "    .dataframe tbody tr th:only-of-type {\n",
       "        vertical-align: middle;\n",
       "    }\n",
       "\n",
       "    .dataframe tbody tr th {\n",
       "        vertical-align: top;\n",
       "    }\n",
       "\n",
       "    .dataframe thead th {\n",
       "        text-align: right;\n",
       "    }\n",
       "</style>\n",
       "<table border=\"1\" class=\"dataframe\">\n",
       "  <thead>\n",
       "    <tr style=\"text-align: right;\">\n",
       "      <th></th>\n",
       "      <th>theta</th>\n",
       "      <th>f(theta)</th>\n",
       "    </tr>\n",
       "  </thead>\n",
       "  <tbody>\n",
       "    <tr>\n",
       "      <th>0</th>\n",
       "      <td>-3.141500</td>\n",
       "      <td>4.712204</td>\n",
       "    </tr>\n",
       "    <tr>\n",
       "      <th>1</th>\n",
       "      <td>-3.013276</td>\n",
       "      <td>4.456107</td>\n",
       "    </tr>\n",
       "    <tr>\n",
       "      <th>2</th>\n",
       "      <td>-2.885051</td>\n",
       "      <td>4.202110</td>\n",
       "    </tr>\n",
       "    <tr>\n",
       "      <th>3</th>\n",
       "      <td>-2.756827</td>\n",
       "      <td>3.952280</td>\n",
       "    </tr>\n",
       "    <tr>\n",
       "      <th>4</th>\n",
       "      <td>-2.628602</td>\n",
       "      <td>3.708613</td>\n",
       "    </tr>\n",
       "    <tr>\n",
       "      <th>5</th>\n",
       "      <td>-2.500378</td>\n",
       "      <td>3.473004</td>\n",
       "    </tr>\n",
       "    <tr>\n",
       "      <th>6</th>\n",
       "      <td>-2.372153</td>\n",
       "      <td>3.247217</td>\n",
       "    </tr>\n",
       "    <tr>\n",
       "      <th>7</th>\n",
       "      <td>-2.243929</td>\n",
       "      <td>3.032852</td>\n",
       "    </tr>\n",
       "    <tr>\n",
       "      <th>8</th>\n",
       "      <td>-2.115704</td>\n",
       "      <td>2.831325</td>\n",
       "    </tr>\n",
       "    <tr>\n",
       "      <th>9</th>\n",
       "      <td>-1.987480</td>\n",
       "      <td>2.643840</td>\n",
       "    </tr>\n",
       "    <tr>\n",
       "      <th>10</th>\n",
       "      <td>-1.859255</td>\n",
       "      <td>2.471368</td>\n",
       "    </tr>\n",
       "    <tr>\n",
       "      <th>11</th>\n",
       "      <td>-1.731031</td>\n",
       "      <td>2.314637</td>\n",
       "    </tr>\n",
       "    <tr>\n",
       "      <th>12</th>\n",
       "      <td>-1.602806</td>\n",
       "      <td>2.174115</td>\n",
       "    </tr>\n",
       "    <tr>\n",
       "      <th>13</th>\n",
       "      <td>-1.474582</td>\n",
       "      <td>2.050003</td>\n",
       "    </tr>\n",
       "    <tr>\n",
       "      <th>14</th>\n",
       "      <td>-1.346357</td>\n",
       "      <td>1.942234</td>\n",
       "    </tr>\n",
       "    <tr>\n",
       "      <th>15</th>\n",
       "      <td>-1.218133</td>\n",
       "      <td>1.850473</td>\n",
       "    </tr>\n",
       "    <tr>\n",
       "      <th>16</th>\n",
       "      <td>-1.089908</td>\n",
       "      <td>1.774120</td>\n",
       "    </tr>\n",
       "    <tr>\n",
       "      <th>17</th>\n",
       "      <td>-0.961684</td>\n",
       "      <td>1.712324</td>\n",
       "    </tr>\n",
       "    <tr>\n",
       "      <th>18</th>\n",
       "      <td>-0.833459</td>\n",
       "      <td>1.663994</td>\n",
       "    </tr>\n",
       "    <tr>\n",
       "      <th>19</th>\n",
       "      <td>-0.705235</td>\n",
       "      <td>1.627818</td>\n",
       "    </tr>\n",
       "    <tr>\n",
       "      <th>20</th>\n",
       "      <td>-0.577010</td>\n",
       "      <td>1.602286</td>\n",
       "    </tr>\n",
       "    <tr>\n",
       "      <th>21</th>\n",
       "      <td>-0.448786</td>\n",
       "      <td>1.585710</td>\n",
       "    </tr>\n",
       "    <tr>\n",
       "      <th>22</th>\n",
       "      <td>-0.320561</td>\n",
       "      <td>1.576258</td>\n",
       "    </tr>\n",
       "    <tr>\n",
       "      <th>23</th>\n",
       "      <td>-0.192337</td>\n",
       "      <td>1.571980</td>\n",
       "    </tr>\n",
       "    <tr>\n",
       "      <th>24</th>\n",
       "      <td>-0.064112</td>\n",
       "      <td>1.570840</td>\n",
       "    </tr>\n",
       "    <tr>\n",
       "      <th>25</th>\n",
       "      <td>0.064112</td>\n",
       "      <td>1.570752</td>\n",
       "    </tr>\n",
       "    <tr>\n",
       "      <th>26</th>\n",
       "      <td>0.192337</td>\n",
       "      <td>1.569613</td>\n",
       "    </tr>\n",
       "    <tr>\n",
       "      <th>27</th>\n",
       "      <td>0.320561</td>\n",
       "      <td>1.565334</td>\n",
       "    </tr>\n",
       "    <tr>\n",
       "      <th>28</th>\n",
       "      <td>0.448786</td>\n",
       "      <td>1.555882</td>\n",
       "    </tr>\n",
       "    <tr>\n",
       "      <th>29</th>\n",
       "      <td>0.577010</td>\n",
       "      <td>1.539307</td>\n",
       "    </tr>\n",
       "    <tr>\n",
       "      <th>30</th>\n",
       "      <td>0.705235</td>\n",
       "      <td>1.513774</td>\n",
       "    </tr>\n",
       "    <tr>\n",
       "      <th>31</th>\n",
       "      <td>0.833459</td>\n",
       "      <td>1.477599</td>\n",
       "    </tr>\n",
       "    <tr>\n",
       "      <th>32</th>\n",
       "      <td>0.961684</td>\n",
       "      <td>1.429269</td>\n",
       "    </tr>\n",
       "    <tr>\n",
       "      <th>33</th>\n",
       "      <td>1.089908</td>\n",
       "      <td>1.367473</td>\n",
       "    </tr>\n",
       "    <tr>\n",
       "      <th>34</th>\n",
       "      <td>1.218133</td>\n",
       "      <td>1.291120</td>\n",
       "    </tr>\n",
       "    <tr>\n",
       "      <th>35</th>\n",
       "      <td>1.346357</td>\n",
       "      <td>1.199358</td>\n",
       "    </tr>\n",
       "    <tr>\n",
       "      <th>36</th>\n",
       "      <td>1.474582</td>\n",
       "      <td>1.091590</td>\n",
       "    </tr>\n",
       "    <tr>\n",
       "      <th>37</th>\n",
       "      <td>1.602806</td>\n",
       "      <td>0.967478</td>\n",
       "    </tr>\n",
       "    <tr>\n",
       "      <th>38</th>\n",
       "      <td>1.731031</td>\n",
       "      <td>0.826956</td>\n",
       "    </tr>\n",
       "    <tr>\n",
       "      <th>39</th>\n",
       "      <td>1.859255</td>\n",
       "      <td>0.670225</td>\n",
       "    </tr>\n",
       "    <tr>\n",
       "      <th>40</th>\n",
       "      <td>1.987480</td>\n",
       "      <td>0.497753</td>\n",
       "    </tr>\n",
       "    <tr>\n",
       "      <th>41</th>\n",
       "      <td>2.115704</td>\n",
       "      <td>0.310267</td>\n",
       "    </tr>\n",
       "    <tr>\n",
       "      <th>42</th>\n",
       "      <td>2.243929</td>\n",
       "      <td>0.108740</td>\n",
       "    </tr>\n",
       "    <tr>\n",
       "      <th>43</th>\n",
       "      <td>2.372153</td>\n",
       "      <td>-0.105624</td>\n",
       "    </tr>\n",
       "    <tr>\n",
       "      <th>44</th>\n",
       "      <td>2.500378</td>\n",
       "      <td>-0.331412</td>\n",
       "    </tr>\n",
       "    <tr>\n",
       "      <th>45</th>\n",
       "      <td>2.628602</td>\n",
       "      <td>-0.567021</td>\n",
       "    </tr>\n",
       "    <tr>\n",
       "      <th>46</th>\n",
       "      <td>2.756827</td>\n",
       "      <td>-0.810688</td>\n",
       "    </tr>\n",
       "    <tr>\n",
       "      <th>47</th>\n",
       "      <td>2.885051</td>\n",
       "      <td>-1.060518</td>\n",
       "    </tr>\n",
       "    <tr>\n",
       "      <th>48</th>\n",
       "      <td>3.013276</td>\n",
       "      <td>-1.314514</td>\n",
       "    </tr>\n",
       "    <tr>\n",
       "      <th>49</th>\n",
       "      <td>3.141500</td>\n",
       "      <td>-1.570611</td>\n",
       "    </tr>\n",
       "  </tbody>\n",
       "</table>\n",
       "</div>"
      ],
      "text/plain": [
       "       theta  f(theta)\n",
       "0  -3.141500  4.712204\n",
       "1  -3.013276  4.456107\n",
       "2  -2.885051  4.202110\n",
       "3  -2.756827  3.952280\n",
       "4  -2.628602  3.708613\n",
       "5  -2.500378  3.473004\n",
       "6  -2.372153  3.247217\n",
       "7  -2.243929  3.032852\n",
       "8  -2.115704  2.831325\n",
       "9  -1.987480  2.643840\n",
       "10 -1.859255  2.471368\n",
       "11 -1.731031  2.314637\n",
       "12 -1.602806  2.174115\n",
       "13 -1.474582  2.050003\n",
       "14 -1.346357  1.942234\n",
       "15 -1.218133  1.850473\n",
       "16 -1.089908  1.774120\n",
       "17 -0.961684  1.712324\n",
       "18 -0.833459  1.663994\n",
       "19 -0.705235  1.627818\n",
       "20 -0.577010  1.602286\n",
       "21 -0.448786  1.585710\n",
       "22 -0.320561  1.576258\n",
       "23 -0.192337  1.571980\n",
       "24 -0.064112  1.570840\n",
       "25  0.064112  1.570752\n",
       "26  0.192337  1.569613\n",
       "27  0.320561  1.565334\n",
       "28  0.448786  1.555882\n",
       "29  0.577010  1.539307\n",
       "30  0.705235  1.513774\n",
       "31  0.833459  1.477599\n",
       "32  0.961684  1.429269\n",
       "33  1.089908  1.367473\n",
       "34  1.218133  1.291120\n",
       "35  1.346357  1.199358\n",
       "36  1.474582  1.091590\n",
       "37  1.602806  0.967478\n",
       "38  1.731031  0.826956\n",
       "39  1.859255  0.670225\n",
       "40  1.987480  0.497753\n",
       "41  2.115704  0.310267\n",
       "42  2.243929  0.108740\n",
       "43  2.372153 -0.105624\n",
       "44  2.500378 -0.331412\n",
       "45  2.628602 -0.567021\n",
       "46  2.756827 -0.810688\n",
       "47  2.885051 -1.060518\n",
       "48  3.013276 -1.314514\n",
       "49  3.141500 -1.570611"
      ]
     },
     "execution_count": 24,
     "metadata": {},
     "output_type": "execute_result"
    }
   ],
   "source": [
    "df = pd.DataFrame(np.array([xAxis,yAxis]).T, columns=[\"theta\",\"f(theta)\"])\n",
    "df"
   ]
  },
  {
   "cell_type": "markdown",
   "id": "0e8dd9a2",
   "metadata": {},
   "source": [
    "#### Bisection method with scipy.optimize"
   ]
  },
  {
   "cell_type": "code",
   "execution_count": 25,
   "id": "07a155ee",
   "metadata": {},
   "outputs": [
    {
     "name": "stdout",
     "output_type": "stream",
     "text": [
      "2.3098814600093647\n"
     ]
    }
   ],
   "source": [
    "import scipy.optimize as scop\n",
    "\n",
    "fzero = scop.bisect(function,-3,3)\n",
    "print(fzero)"
   ]
  },
  {
   "cell_type": "markdown",
   "id": "6c8cc87c",
   "metadata": {},
   "source": [
    "#### fixed point method with scipy.optimize"
   ]
  },
  {
   "cell_type": "code",
   "execution_count": 26,
   "id": "4de70b6a",
   "metadata": {},
   "outputs": [
    {
     "data": {
      "text/plain": [
       "array(2.30988146)"
      ]
     },
     "execution_count": 26,
     "metadata": {},
     "output_type": "execute_result"
    }
   ],
   "source": [
    "#We define a \"g\" function to pass our x parameter\n",
    "gFunction = lambda x: x-function(x)\n",
    "\n",
    "\n",
    "scop.fixed_point(gFunction,0)"
   ]
  },
  {
   "cell_type": "markdown",
   "id": "49fb7c54",
   "metadata": {},
   "source": [
    "#### Secant method"
   ]
  },
  {
   "cell_type": "code",
   "execution_count": 42,
   "id": "a9a29cce",
   "metadata": {},
   "outputs": [
    {
     "name": "stdout",
     "output_type": "stream",
     "text": [
      "X0 =  -3 Optimize result =  2.309881460010057\n",
      "X0 =  -2 Optimize result =  2.309881460010073\n",
      "X0 =  -1 Optimize result =  2.3098814600100566\n",
      "X0 =  0 Optimize result =  2.309881460010057\n",
      "X0 =  1 Optimize result =  2.3098814600100575\n",
      "X0 =  2 Optimize result =  2.309881460010033\n",
      "X0 =  3 Optimize result =  2.309881460010057\n"
     ]
    }
   ],
   "source": [
    "#Let's remember that, for the newton-rapson method we must make a guess of where the 0 is located (x0).\n",
    "#We'll calculate the optimization for various (x0)\n",
    "\n",
    "\n",
    "for i in range(-3,4):\n",
    "    print(\"X0 = \",i,\"Optimize result = \",scop.newton(function,i))"
   ]
  },
  {
   "cell_type": "markdown",
   "id": "0d505569",
   "metadata": {},
   "source": [
    "#### Newton - Rapson method"
   ]
  },
  {
   "cell_type": "markdown",
   "id": "d94755e6",
   "metadata": {},
   "source": [
    "Let's remember that scipy.optimize.newton also does the secant method if we pass the derivative of the function, So we must derivate our function:\n",
    "\n",
    "$ f(\\theta) = \\sin{(\\theta)} - \\theta + \\frac{\\pi}{2}$\n",
    "\n",
    "We will have that:\n",
    "\n",
    "$ f'(\\theta) = \\cos{(\\theta)} - 1$\n",
    "\n",
    "Therefore:"
   ]
  },
  {
   "cell_type": "code",
   "execution_count": 43,
   "id": "0a277f9c",
   "metadata": {},
   "outputs": [
    {
     "name": "stdout",
     "output_type": "stream",
     "text": [
      "X0 =  -3 Optimize result =  2.3098814600100575\n",
      "X0 =  -2 Optimize result =  2.3098814600100575\n",
      "X0 =  -1 Optimize result =  2.3098814600100575\n"
     ]
    }
   ],
   "source": [
    "def primedFunction(x):\n",
    "    return np.cos(x) - 1\n",
    "\n",
    "#And so we can use optimize.newton with this primedFunction\n",
    "\n",
    "for i in range(-3,0):\n",
    "    print(\"X0 = \",i,\"Optimize result = \",scop.newton(function,i,fprime=primedFunction))"
   ]
  },
  {
   "cell_type": "markdown",
   "id": "683a12da",
   "metadata": {},
   "source": [
    "## 3. Magnetization and temperature\n",
    "\n",
    "we have that our function of magnetization in function is defined by:\n",
    "\n",
    "$ m(T) = \\tanh{(\\frac{m(T)}{T})}$\n",
    "\n",
    "We can, however redefine this function as a new function (f) in terms of magnetization and Temperature\n",
    "\n",
    "$ f(m,t) = \\tanh{(\\frac{m}{T})} - m $"
   ]
  },
  {
   "cell_type": "code",
   "execution_count": null,
   "id": "81765553",
   "metadata": {},
   "outputs": [],
   "source": []
  }
 ],
 "metadata": {
  "kernelspec": {
   "display_name": "Python 3 (ipykernel)",
   "language": "python",
   "name": "python3"
  },
  "language_info": {
   "codemirror_mode": {
    "name": "ipython",
    "version": 3
   },
   "file_extension": ".py",
   "mimetype": "text/x-python",
   "name": "python",
   "nbconvert_exporter": "python",
   "pygments_lexer": "ipython3",
   "version": "3.9.12"
  }
 },
 "nbformat": 4,
 "nbformat_minor": 5
}
