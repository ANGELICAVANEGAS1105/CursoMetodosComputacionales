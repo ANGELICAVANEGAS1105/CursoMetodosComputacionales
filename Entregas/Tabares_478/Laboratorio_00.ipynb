{
 "cells": [
  {
   "cell_type": "markdown",
   "id": "7bf4745f-e673-4521-be27-820b95daf10c",
   "metadata": {},
   "source": [
    "Instrucciones en https://github.com/42tabares/TallerMetodos/blob/main/Asignaciones/Laboratorios/Laboratorio00.ipynb\n",
    "\n",
    "# Factorial"
   ]
  },
  {
   "cell_type": "code",
   "execution_count": 7,
   "id": "090a965f-5d7e-4cd4-af81-46c242289e45",
   "metadata": {},
   "outputs": [
    {
     "name": "stdout",
     "output_type": "stream",
     "text": [
      "Factorial >5\n",
      "120\n"
     ]
    }
   ],
   "source": [
    "def fact(x):\n",
    "    \n",
    "        #Takes a natural number and returns its factorial\n",
    "        \n",
    "    previous = 1\n",
    "    for i in range(1,x+1):\n",
    "        result = previous * i\n",
    "        previous = result\n",
    "    return result\n",
    "\n",
    "x = int(input(\"Factorial >\"))\n",
    "print (fact(x))"
   ]
  },
  {
   "cell_type": "markdown",
   "id": "f07716b0",
   "metadata": {},
   "source": [
    "# Numeros perfectos\n",
    "\n",
    "He definido cuatro funciones:\n",
    "\n",
    "- get_divisors(x) retorna los divisores de x en una lista\n",
    "- is_prime(x) revisa si x o no es primo, regresa un booleano\n",
    "- check_perfection(x) retorna el tipo de perfeccion de x segun corresponda\n",
    "- friend_numbers(a,b) retorna un booleano True si a y b  son numeros amigos\n",
    "\n",
    "Al final, Clase_Numero(a,b) hace todas las comparaciones necesarias y retorna cadenas con la informacion de los numeros a y b"
   ]
  },
  {
   "cell_type": "code",
   "execution_count": 12,
   "id": "3e358633-e46f-4281-845e-df9c80bcd928",
   "metadata": {},
   "outputs": [
    {
     "name": "stdout",
     "output_type": "stream",
     "text": [
      "El numero 7 es Defective\n",
      "Ademas, es primo\n",
      "El numero 284 es Defective\n"
     ]
    }
   ],
   "source": [
    "#Helper function to get divisors of a number\n",
    "\n",
    "def get_divisors(x):\n",
    "    \n",
    "    #Returns divisors of a number except the own number x\n",
    "    \n",
    "    L = [] #empty list for appending divisors\n",
    "    for i in  range(1,x-1):\n",
    "        if x%i == 0:\n",
    "            L.append(i)\n",
    "    return L\n",
    "\n",
    "def is_prime(x):\n",
    "    \n",
    "    #Returns either True or False if number is prime or not\n",
    "    \n",
    "    L = get_divisors(x)\n",
    "    if len(L) == 1:\n",
    "        return True\n",
    "    else:\n",
    "        return False\n",
    "\n",
    "def check_perfection(x):\n",
    "    \n",
    "    #Returns what kind of number x is, defective, abundant, semi-perfect or perfect.\n",
    "    \n",
    "    N = get_divisors(x) #We get the divisors of x in a list N\n",
    "    \n",
    "    # First, we check if is defective\n",
    "    if sum(N) < x:\n",
    "        return \"Defective\"\n",
    "    \n",
    "    #If not, it could be perfect\n",
    "    elif sum(N) == x:\n",
    "        return \"Perfect\"\n",
    "    \n",
    "    #If not, it could be semi-perfect\n",
    "    elif sum(N) > x:\n",
    "        \n",
    "        #We got to check all possible sums of the divisors of x\n",
    "        sums_x = [0]\n",
    "        for i in range(0,len(N)-1):\n",
    "            for j in sums_x:\n",
    "                possible_sum = sums_x[j] + N[i]\n",
    "                if possible_sum <= x:\n",
    "                    sums_x.append(possible_sum)\n",
    "                else:\n",
    "                    break\n",
    "        \n",
    "        if x in sums_x:\n",
    "            return \"Semi-perfect\"\n",
    "        else:\n",
    "            return \"Abundant\"\n",
    "\n",
    "def friend_numbers(a,b):\n",
    "    \n",
    "    if sum(get_divisors(a)) == b and sum(get_divisors(b)) == a:\n",
    "        return True\n",
    "    else:\n",
    "        return False\n",
    "\n",
    "def Clase_Numero(a,b):\n",
    "    \n",
    "    print(\"El numero %i es %s\"%(a,check_perfection(a)))\n",
    "    if is_prime(a):\n",
    "        print(\"Ademas, es primo\")\n",
    "    print(\"El numero %i es %s\"%(b,check_perfection(b)))\n",
    "    if is_prime(b):\n",
    "        print(\"Ademas, es primo\")\n",
    "    \n",
    "    if friend_numbers(a,b):\n",
    "        print(\"Los numeros %i y %i son numeros amigos!\"%(a,b))\n",
    "\n",
    "Clase_Numero(7,284)\n",
    "    "
   ]
  },
  {
   "cell_type": "markdown",
   "id": "c383ca9e",
   "metadata": {},
   "source": [
    "# Palindromo\n",
    "\n",
    "Aqui revisamos si el numero es palindromo haciendo uso de la iterabilidad de las cadenas!"
   ]
  },
  {
   "cell_type": "code",
   "execution_count": 13,
   "id": "32006fe3",
   "metadata": {},
   "outputs": [
    {
     "name": "stdout",
     "output_type": "stream",
     "text": [
      "False\n",
      "True\n"
     ]
    }
   ],
   "source": [
    "def palindrome(x):\n",
    "    \n",
    "    x = str(x)\n",
    "    comparisons = []\n",
    "    for i in range(0,len(x)):\n",
    "        comparisons.append(x[i] == x[-i-1])\n",
    "        \n",
    "    if not False in comparisons:\n",
    "        return True\n",
    "    else:\n",
    "        return False\n",
    "\n",
    "print (palindrome(3133))\n",
    "print (palindrome(3333))"
   ]
  },
  {
   "cell_type": "markdown",
   "id": "beb38c9e",
   "metadata": {},
   "source": [
    "# Lista de cadenas"
   ]
  },
  {
   "cell_type": "code",
   "execution_count": 14,
   "id": "efca83ef",
   "metadata": {},
   "outputs": [
    {
     "name": "stdout",
     "output_type": "stream",
     "text": [
      "[False, 2, 3, 'orrep']\n",
      "[True, 5, 5, 'ogaleicrum']\n"
     ]
    }
   ],
   "source": [
    "def string_check(s):\n",
    "    \n",
    "    L = []\n",
    "    Vocals = [\"a\",\"e\",\"i\",\"o\",\"u\",\"A\",\"E\",\"I\",\"O\",\"U\"]\n",
    "    Num_vocals = 0\n",
    "    \n",
    "    # Here, we check if the middle character is a vocal\n",
    "    if s[int(len(s)/2)] in Vocals:\n",
    "        L.append(True)\n",
    "    else:\n",
    "        L.append(False)\n",
    "    \n",
    "    # Then we count the number of vocals and consonants\n",
    "    \n",
    "    for i in range(0,len(s)):\n",
    "        if s[i] in Vocals:\n",
    "            Num_vocals += 1\n",
    "            \n",
    "    L.append(Num_vocals) #Number of vocals\n",
    "    L.append(len(s) - Num_vocals) #Number of consonants... or non vocals\n",
    "    \n",
    "    # Finally, we append the string reversed\n",
    "    \n",
    "    L.append(s[::-1])\n",
    "    \n",
    "    return L\n",
    "\n",
    "print (string_check(\"perro\"))\n",
    "print (string_check(\"murcielago\"))"
   ]
  },
  {
   "cell_type": "markdown",
   "id": "5cd13554",
   "metadata": {},
   "source": [
    "# N-esimo termino de la sucesion de Fibonacci"
   ]
  },
  {
   "cell_type": "code",
   "execution_count": 16,
   "id": "d0b1a50c",
   "metadata": {},
   "outputs": [
    {
     "name": "stdout",
     "output_type": "stream",
     "text": [
      "12586269025\n",
      "6557470319842\n"
     ]
    }
   ],
   "source": [
    "def fibonacci(x):\n",
    "    \n",
    "    fib = [0,1]\n",
    "    \n",
    "    if x >= 2:\n",
    "        for i in range(2,x+1):\n",
    "            fib.append(fib[i-1] + fib[i-2])\n",
    "    \n",
    "    return fib[x]\n",
    "\n",
    "print(fibonacci(50))\n",
    "print(fibonacci(63))"
   ]
  },
  {
   "cell_type": "markdown",
   "id": "549e7ca7",
   "metadata": {},
   "source": []
  },
  {
   "cell_type": "code",
   "execution_count": null,
   "id": "84917c90",
   "metadata": {},
   "outputs": [],
   "source": []
  }
 ],
 "metadata": {
  "kernelspec": {
   "display_name": "Python 3 (ipykernel)",
   "language": "python",
   "name": "python3"
  },
  "language_info": {
   "codemirror_mode": {
    "name": "ipython",
    "version": 3
   },
   "file_extension": ".py",
   "mimetype": "text/x-python",
   "name": "python",
   "nbconvert_exporter": "python",
   "pygments_lexer": "ipython3",
   "version": "3.9.12"
  }
 },
 "nbformat": 4,
 "nbformat_minor": 5
}
