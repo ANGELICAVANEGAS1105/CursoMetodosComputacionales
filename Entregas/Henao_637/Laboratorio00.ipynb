{
  "nbformat": 4,
  "nbformat_minor": 0,
  "metadata": {
    "colab": {
      "name": "Laboratorio_00.ipynb",
      "provenance": [],
      "collapsed_sections": [
        "uhs9SHqlJDwJ",
        "-GFMe2dycRac",
        "-ZDmk5roc2cg",
        "JhnrmYyCdCo9",
        "WN3r7Qz2dNFU",
        "ps3-8zZ4pIoT"
      ]
    },
    "kernelspec": {
      "name": "python3",
      "display_name": "Python 3"
    },
    "language_info": {
      "name": "python"
    }
  },
  "cells": [
    {
      "cell_type": "code",
      "source": [
        "import numpy as np\n",
        "import math as mt\n",
        "import matplotlib.pyplot as plt"
      ],
      "metadata": {
        "id": "yzmL0IvTLvof"
      },
      "execution_count": null,
      "outputs": []
    },
    {
      "cell_type": "markdown",
      "source": [
        "##1.Factorial "
      ],
      "metadata": {
        "id": "uhs9SHqlJDwJ"
      }
    },
    {
      "cell_type": "code",
      "execution_count": null,
      "metadata": {
        "id": "5gEYr9NgCkuR"
      },
      "outputs": [],
      "source": [
        "def factorial(H):\n",
        "  \"\"\"\n",
        "  Cálulo de factorial de un entero x\n",
        "    Input:\n",
        "      p : entero a calcular\n",
        "    Returns:\n",
        "      f : factorial de p \n",
        "  \"\"\"\n",
        "  p = H\n",
        "  j=p\n",
        "  fact=1\n",
        "\n",
        "  for i in range(1,p):\n",
        "    fact=fact*(j)\n",
        "    j=j-1\n",
        "  print(f\"{p}! = {fact:.2f}\")"
      ]
    },
    {
      "cell_type": "code",
      "source": [
        "factorial(5)"
      ],
      "metadata": {
        "colab": {
          "base_uri": "https://localhost:8080/"
        },
        "id": "uiTrsdc1PJ-T",
        "outputId": "9fb153ba-9998-4408-98de-6a75f2133c17"
      },
      "execution_count": null,
      "outputs": [
        {
          "output_type": "stream",
          "name": "stdout",
          "text": [
            "5! = 120.00\n"
          ]
        }
      ]
    },
    {
      "cell_type": "markdown",
      "source": [
        "##2. Clasificación \n"
      ],
      "metadata": {
        "id": "-GFMe2dycRac"
      }
    },
    {
      "cell_type": "code",
      "source": [
        "def clase_numero(a,b):\n",
        "\n",
        "  #divisores (sin el mismo numero)\n",
        "  diva = []\n",
        "  divb = []\n",
        "\n",
        "  for i in range(1,a):\n",
        "    if(a%i==0):\n",
        "      diva.append(i)\n",
        "  for i in range(1,b):\n",
        "    if(b%i==0):\n",
        "      divb.append(i)\n",
        "\n",
        "  #Defectivos\n",
        "  if (a>sum(diva)):\n",
        "    print(f\"a = {a} es defectivo\")\n",
        "\n",
        "  if (b>sum(divb)):\n",
        "    print(f\"b = {b} es defectivo\")\n",
        "\n",
        "  #abundante\n",
        "  if (sum(diva) > a):\n",
        "    print(f\"a = {a} es abundante\")\n",
        "  if (sum(divb) > b):\n",
        "    print(f\"b = {b} es abundante\")\n",
        "  #amigos\n",
        "  if (sum(diva) == b and sum(divb) == a):\n",
        "    print(f\"a = {a} y b = {b} son números  amigos\")\n",
        "\n",
        "  #semiperfectos\n",
        "\n",
        "  \n",
        "\n",
        "  #perfectos\n",
        "  if (sum(diva) == a):\n",
        "    print(f\"a = {a} es perfecto\")\n",
        "  if (sum(divb) == b):\n",
        "    print(f\"b = {b} es perfecto\")\n",
        "\n",
        "  #primos\n",
        "  if diva == [1]:\n",
        "    print(f\"a = {a} es primo\")\n",
        "\n",
        "  if divb == [1]:\n",
        "    print(f\"b = {b} es primo\")"
      ],
      "metadata": {
        "id": "hT8lsfA9n4v4"
      },
      "execution_count": null,
      "outputs": []
    },
    {
      "cell_type": "code",
      "source": [
        "clase_numero(220,284)\n",
        "print(\"_____________\")\n",
        "clase_numero(24,12)"
      ],
      "metadata": {
        "colab": {
          "base_uri": "https://localhost:8080/"
        },
        "id": "597VvC-Ksa02",
        "outputId": "a217082a-70ef-47ca-a8ce-709965e7286c"
      },
      "execution_count": null,
      "outputs": [
        {
          "output_type": "stream",
          "name": "stdout",
          "text": [
            "b = 284 es defectivo\n",
            "a = 220 es abundante\n",
            "a = 220 y b = 284 son números  amigos\n",
            "_____________\n",
            "a = 24 es abundante\n",
            "b = 12 es abundante\n"
          ]
        }
      ]
    },
    {
      "cell_type": "markdown",
      "source": [
        "##3. Palíndromo"
      ],
      "metadata": {
        "id": "-ZDmk5roc2cg"
      }
    },
    {
      "cell_type": "code",
      "source": [
        "def palindromo(num):\n",
        "  pali = str(num)\n",
        "\n",
        "  if pali[::-1] == pali:\n",
        "    espali = True\n",
        "  else: espali = False\n",
        "\n",
        "  return espali"
      ],
      "metadata": {
        "id": "2aPF3m6zc3fs"
      },
      "execution_count": null,
      "outputs": []
    },
    {
      "cell_type": "code",
      "source": [
        "palindromo(3333333), palindromo(2323), palindromo(1111349111111)"
      ],
      "metadata": {
        "colab": {
          "base_uri": "https://localhost:8080/"
        },
        "id": "s6lf9njzF4PN",
        "outputId": "7c0887e7-9c75-4f04-e567-be9a065dffc1"
      },
      "execution_count": null,
      "outputs": [
        {
          "output_type": "execute_result",
          "data": {
            "text/plain": [
              "(True, False, False)"
            ]
          },
          "metadata": {},
          "execution_count": 213
        }
      ]
    },
    {
      "cell_type": "markdown",
      "source": [
        "##4. Vocales "
      ],
      "metadata": {
        "id": "JhnrmYyCdCo9"
      }
    },
    {
      "cell_type": "code",
      "source": [
        "def cadena(data):\n",
        "  vocales = \"aeiouAEIOU\"\n",
        "  nvoc = 0 #Contador de vocales\n",
        "\n",
        "  for j in range(0,len(data)):\n",
        "    for k in range(0, len(vocales)):\n",
        "      if data[j] == vocales[k]:\n",
        "        nvoc += 1\n",
        "\n",
        "  #Revisa si la letra del medio es vocal\n",
        "  for i in range(0, len(vocales)):\n",
        "    if ((data[int(len(data)/2)] == vocales[i]) == True):\n",
        "      esvoc = True\n",
        "      break\n",
        "    else: esvoc = False\n",
        "  return(esvoc,nvoc, len(data)-nvoc,data[::-1] )"
      ],
      "metadata": {
        "colab": {
          "base_uri": "https://localhost:8080/"
        },
        "id": "xt553-fBdMyV",
        "outputId": "69cee148-88f5-4ba9-8a26-f6f5be1bf123"
      },
      "execution_count": null,
      "outputs": [
        {
          "output_type": "execute_result",
          "data": {
            "text/plain": [
              "(False, 2, 3, 'orrep')"
            ]
          },
          "metadata": {},
          "execution_count": 57
        }
      ]
    },
    {
      "cell_type": "code",
      "source": [
        "cadena(\"perro\"), cadena(\"murcielago\")"
      ],
      "metadata": {
        "colab": {
          "base_uri": "https://localhost:8080/"
        },
        "id": "bHVaI7drDju9",
        "outputId": "45d348e7-36d4-43a8-a3d8-695879882202"
      },
      "execution_count": null,
      "outputs": [
        {
          "output_type": "execute_result",
          "data": {
            "text/plain": [
              "((False, 2, 3, 'orrep'), (True, 5, 5, 'ogaleicrum'))"
            ]
          },
          "metadata": {},
          "execution_count": 59
        }
      ]
    },
    {
      "cell_type": "markdown",
      "source": [
        "##5.Finbonacci"
      ],
      "metadata": {
        "id": "WN3r7Qz2dNFU"
      }
    },
    {
      "cell_type": "code",
      "source": [
        "def fibonacci(N):\n",
        "  n_ant=0\n",
        "  n_sig=1\n",
        "  for i in range(N):\n",
        "    secuencia = n_ant + n_sig\n",
        "    n_ant = n_sig\n",
        "    n_sig = secuencia \n",
        "  print (secuencia)"
      ],
      "metadata": {
        "id": "4pEbC1n0uMyP"
      },
      "execution_count": null,
      "outputs": []
    },
    {
      "cell_type": "code",
      "source": [
        "fibonacci(50), fibonacci(63)"
      ],
      "metadata": {
        "colab": {
          "base_uri": "https://localhost:8080/"
        },
        "id": "A85MGAtsmcHW",
        "outputId": "b2c11b5c-d405-4a0c-aa27-7fda39ae0320"
      },
      "execution_count": null,
      "outputs": [
        {
          "output_type": "stream",
          "name": "stdout",
          "text": [
            "20365011074\n",
            "10610209857723\n"
          ]
        },
        {
          "output_type": "execute_result",
          "data": {
            "text/plain": [
              "(None, None)"
            ]
          },
          "metadata": {},
          "execution_count": 41
        }
      ]
    },
    {
      "cell_type": "markdown",
      "source": [
        "## 6. Quicksort"
      ],
      "metadata": {
        "id": "ps3-8zZ4pIoT"
      }
    },
    {
      "cell_type": "code",
      "source": [
        "def quicksort(v):\n",
        "  for j in range(len(v)):\n",
        "    for i in range(len(v)-j-1):\n",
        "      if v[i] > v[i+1]:\n",
        "        v[i], v[i+1] = v[i+1], v[i]\n",
        "  return v"
      ],
      "metadata": {
        "id": "uQRTZqI35_5a"
      },
      "execution_count": 98,
      "outputs": []
    },
    {
      "cell_type": "code",
      "source": [
        "ref = [22, 32, 42, 12, 22, 31, 41, 11, 12, 232, 24, 12, 22]\n",
        "ref.sort()\n",
        "ref\n",
        "v = [22, 32, 42, 12, 22, 31, 41, 11, 12, 232, 24, 12, 22]\n",
        "print(f'Original:       {v}')\n",
        "print(f'Código tarea:   {quicksort(v)}')\n",
        "print(f'Método .sort(): {ref}')"
      ],
      "metadata": {
        "colab": {
          "base_uri": "https://localhost:8080/"
        },
        "id": "MdmPege5v4zp",
        "outputId": "9659a1f9-8914-4193-9068-4fe71030c57d"
      },
      "execution_count": 99,
      "outputs": [
        {
          "output_type": "stream",
          "name": "stdout",
          "text": [
            "Original:       [22, 32, 42, 12, 22, 31, 41, 11, 12, 232, 24, 12, 22]\n",
            "Código tarea:   [11, 12, 12, 12, 22, 22, 22, 24, 31, 32, 41, 42, 232]\n",
            "Método .sort(): [11, 12, 12, 12, 22, 22, 22, 24, 31, 32, 41, 42, 232]\n"
          ]
        }
      ]
    },
    {
      "cell_type": "code",
      "source": [
        " "
      ],
      "metadata": {
        "id": "2lBWXE_Ixp4A"
      },
      "execution_count": null,
      "outputs": []
    }
  ]
}