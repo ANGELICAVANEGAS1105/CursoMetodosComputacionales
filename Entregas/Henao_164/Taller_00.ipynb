{
 "cells": [
  {
   "cell_type": "markdown",
   "id": "193fefb1",
   "metadata": {},
   "source": [
    "# Taller 0.0 de métodos computacionales\n",
    "## Universidad de Antioquia \n",
    "#### Juan Esteban Henao Duque - 1038418164\n",
    "#### Sebastián Mena Torres -  1040801209\n"
   ]
  },
  {
   "cell_type": "markdown",
   "id": "c5c7a554",
   "metadata": {},
   "source": [
    "**1**. Elaborar un algoritmo e implementar en python, el factorial de un número entero `n` ingresado por el usuario."
   ]
  },
  {
   "cell_type": "code",
   "execution_count": 1,
   "id": "25f5b795",
   "metadata": {},
   "outputs": [
    {
     "data": {
      "text/plain": [
       "6"
      ]
     },
     "execution_count": 1,
     "metadata": {},
     "output_type": "execute_result"
    }
   ],
   "source": [
    "#Factorial de un numero \n",
    "def factorial(n):\n",
    "  \n",
    "  if n<0: \n",
    "    print(\"el factorial no existe\")\n",
    "\n",
    "  elif n==0:\n",
    "    return 1\n",
    "\n",
    "  else:\n",
    "      i=1\n",
    "      while n>1:\n",
    "        i=i*n\n",
    "        n=n-1\n",
    "      return i\n",
    "\n",
    "factorial(3)"
   ]
  },
  {
   "cell_type": "markdown",
   "id": "337ffe0f",
   "metadata": {},
   "source": [
    "**2**. Diseñar un programa que lea dos numero `a` y `b` y diga que tipo de numero son, de a cuerdo a la siguiente clasificación:\n",
    "\n",
    " >- [Números defectivos](https://es.wikipedia.org/wiki/Número_defectivo) : la suma de los divisores propios es menor que el número.\n",
    " >- [Números abundantes](https://es.wikipedia.org/wiki/Número_abundante): la suma de los divisores es mayor que el número.\n",
    " >- [Números amigos](https://es.wikipedia.org/wiki/N%C3%BAmeros_amigos) `a` y `b` tales que a es la suma de los divisores propios de `b` y viceversa.\n",
    " >- [Números perfectos](https://es.wikipedia.org/wiki/N%C3%BAmero_perfecto) la suma de todos sus divisores propios, excepto el mismo numero, es igual al número.\n",
    " >- [Números primos](https://es.wikipedia.org/wiki/N%C3%BAmero_primo) el número es divisible unicamente por sí mismo y por 1."
   ]
  },
  {
   "cell_type": "code",
   "execution_count": 30,
   "id": "57966bb7",
   "metadata": {},
   "outputs": [
    {
     "name": "stdout",
     "output_type": "stream",
     "text": [
      "escriba un numero: 6\n",
      "escriba un numero: 14\n",
      "6 no es un numero defectivo\n",
      "14 es un numero defectivo\n"
     ]
    }
   ],
   "source": [
    "# Numeros defectivos \n",
    "a = int(input(\"escriba un numero: \"))\n",
    "b = int(input(\"escriba un numero: \"))\n",
    "def g(a):\n",
    "    suma = 0\n",
    "    \n",
    "    for i in range(1, a):\n",
    "        if (a % i == 0):\n",
    "            suma = suma + i\n",
    "    if (suma < a): \n",
    "        return True \n",
    "    else:\n",
    "        return False\n",
    "if g(a):\n",
    "    print( a ,\"es un numero defectivo\")\n",
    "else: \n",
    "    print( a, \"no es un numero defectivo\")\n",
    "   \n",
    "def h(b):\n",
    "    suma = 0\n",
    "    \n",
    "    for i in range(1, b):\n",
    "        if (b % i == 0):\n",
    "            suma = suma + i\n",
    "    if (suma < b): \n",
    "        return True \n",
    "    else:\n",
    "        return False\n",
    "if g(b):\n",
    "    print( b ,\"es un numero defectivo\")\n",
    "else: \n",
    "    print( b, \"no es un numero defectivo\")"
   ]
  },
  {
   "cell_type": "code",
   "execution_count": 4,
   "id": "982035e3",
   "metadata": {},
   "outputs": [
    {
     "name": "stdout",
     "output_type": "stream",
     "text": [
      "escriba un numero: 6\n",
      "escriba un numero: 12\n",
      "6 no es un numero abundante\n",
      "12 es un numero abundante\n"
     ]
    }
   ],
   "source": [
    "# Numeros abundantes \n",
    "a = int(input(\"escriba un numero: \"))\n",
    "b = int(input(\"escriba un numero: \"))\n",
    "def g(a):\n",
    "    suma = 0\n",
    "    \n",
    "    for i in range(1, a):\n",
    "        if (a % i == 0):\n",
    "            suma = suma + i\n",
    "    if (suma > a): \n",
    "        return True \n",
    "    else:\n",
    "        return False\n",
    "if g(a):\n",
    "    print( a ,\"es un numero abundante\")\n",
    "else: \n",
    "    print( a, \"no es un numero abundante\")\n",
    "   \n",
    "def h(b):\n",
    "    suma = 0\n",
    "    \n",
    "    for i in range(1, b):\n",
    "        if (b % i == 0):\n",
    "            suma = suma + i\n",
    "    if (suma > b): \n",
    "        return True \n",
    "    else:\n",
    "        return False\n",
    "if g(b):\n",
    "    print( b ,\"es un numero abundante\")\n",
    "else: \n",
    "    print( b, \"no es un numero abundante\")"
   ]
  },
  {
   "cell_type": "code",
   "execution_count": 47,
   "id": "a1b40325",
   "metadata": {},
   "outputs": [
    {
     "name": "stdout",
     "output_type": "stream",
     "text": [
      "escriba un numero: 1184\n",
      "escriba un numero: 1210\n",
      "1184 y 1210 son numeros amigos\n"
     ]
    }
   ],
   "source": [
    "# Numeros amigos \n",
    "a = int(input(\"escriba un numero: \"))\n",
    "b = int(input(\"escriba un numero: \"))\n",
    "def g(a):\n",
    "    suma = 0\n",
    "    \n",
    "    for i in range(1, a):\n",
    "        if (a % i == 0):\n",
    "            suma = suma + i\n",
    "    if (suma == b): \n",
    "        return True \n",
    "    else:\n",
    "        return False\n",
    "    \n",
    "def h(b):\n",
    "    suma = 0\n",
    "    \n",
    "    for i in range(1, b):\n",
    "        if (b % i == 0):\n",
    "            suma = suma + i\n",
    "    if (suma == a): \n",
    "        return True \n",
    "    else:\n",
    "        return False\n",
    "    \n",
    "if h(b) and g(a):\n",
    "    print( a ,\"y\", b ,\"son numeros amigos\" )\n",
    "else: \n",
    "    print( a ,\"y\", b ,\"no son numeros amigos\" )"
   ]
  },
  {
   "cell_type": "code",
   "execution_count": 17,
   "id": "714f56da",
   "metadata": {},
   "outputs": [
    {
     "name": "stdout",
     "output_type": "stream",
     "text": [
      "escriba un numero: 496\n",
      "escriba un numero: 12331\n",
      "496 es un numero perfecto\n",
      "12331 no es un numero perfecto\n"
     ]
    }
   ],
   "source": [
    "#Numeros perfectos\n",
    "a = int(input(\"escriba un numero: \"))\n",
    "b = int(input(\"escriba un numero: \"))\n",
    "def g(a):\n",
    "    suma = 0\n",
    "    \n",
    "    for i in range(1, a):\n",
    "        if (a % i == 0):\n",
    "            suma = suma + i\n",
    "    if (suma == a): \n",
    "        return True \n",
    "    else:\n",
    "        return False\n",
    "if g(a):\n",
    "    print( a ,\"es un numero perfecto\")\n",
    "else: \n",
    "    print( a, \"no es un numero perfecto\")\n",
    "   \n",
    "def h(b):\n",
    "    suma = 0\n",
    "    \n",
    "    for i in range(1, b):\n",
    "        if (b % i == 0):\n",
    "            suma = suma + i\n",
    "    if (suma == b): \n",
    "        return True \n",
    "    else:\n",
    "        return False\n",
    "if g(b):\n",
    "    print( b ,\"es un numero perfecto\")\n",
    "else: \n",
    "    print( b, \"no es un numero perfecto\")"
   ]
  },
  {
   "cell_type": "code",
   "execution_count": 3,
   "id": "3bc70c4d",
   "metadata": {},
   "outputs": [
    {
     "name": "stdout",
     "output_type": "stream",
     "text": [
      "escriba un numero: 89\n",
      "escriba un numero: 41\n",
      "89 es primo\n",
      "41 es primo\n"
     ]
    }
   ],
   "source": [
    "# Numeros primos\n",
    "a = int(input(\"escriba un numero: \"))\n",
    "b = int(input(\"escriba un numero: \"))\n",
    "def es_primo(a):\n",
    "    for n in range(2, a):\n",
    "        if (a % n == 0):\n",
    "           \n",
    "            return False\n",
    "        else:\n",
    "        \n",
    "            return True\n",
    "if es_primo(a):\n",
    "    print(a, \"es primo\")\n",
    "else:\n",
    "    print(a, \"No es primo\")\n",
    "    \n",
    "if es_primo(b):\n",
    "    print(b, \"es primo\")\n",
    "else:\n",
    "    print(b, \"No es primo\")  "
   ]
  },
  {
   "cell_type": "markdown",
   "id": "21a88ae3",
   "metadata": {},
   "source": [
    "**3**. Determine si un número `n` entero ingresado por el usuario es un [palíndromo](https://en.wikipedia.org/wiki/Palindromic_number), (Retorne `True` en caso afirmativo y `False` en caso contrario) \n",
    "\n",
    "```python\n",
    "\n",
    "\n",
    "    >>> palindromo(3333333)\n",
    "        True\n",
    "\n",
    "    >>> palindromo(232)\n",
    "        True\n",
    "        \n",
    "    >>> palindromo(1111349111111)\n",
    "        False"
   ]
  },
  {
   "cell_type": "code",
   "execution_count": 9,
   "id": "ec29c2c2",
   "metadata": {},
   "outputs": [
    {
     "name": "stdout",
     "output_type": "stream",
     "text": [
      "Ingrese n: 454\n",
      "Es palindromo\n"
     ]
    }
   ],
   "source": [
    "def invertir_digitos(num):\n",
    "\n",
    "    num_string = str(num)\n",
    "    num_inverso = \"\"\n",
    "\n",
    "    largo = len(num_string)\n",
    "\n",
    "    for i in range(largo-1,-1,-1):\n",
    "        num_inverso += num_string[i]\n",
    "\n",
    "    return int(num_inverso)\n",
    "\n",
    "\n",
    "\n",
    "numero = int(input(\"Ingrese n: \"))\n",
    "if numero == invertir_digitos(numero):\n",
    "    print(\"Es palindromo\")\n",
    "else:\n",
    "    print(\"No es palindromo\")"
   ]
  },
  {
   "cell_type": "markdown",
   "id": "3023dfd8",
   "metadata": {},
   "source": [
    "\n",
    "\n",
    "\n",
    "**4**. Dada una cadena de caracteres, entregar una lista donde se retorne:\n",
    ">- en la primera casilla: `True` si el caracter del medio es una vocal, `False` en caso contrario \n",
    ">- en la segunda: el numero de vocales en la cadena\n",
    ">- en la tercera: el numero de consonantes\n",
    ">- en la ultima: la cadena de caracteres invertida (ej: perro, orrep)\n",
    "\n",
    "### Ejemplo de Ejecución\n",
    "```python\n",
    "\n",
    ">>> cadena(s ='perro')\n",
    "[False, 2, 3, 'orrep']\n",
    "\n",
    ">>> cadena(s ='murcielago')\n",
    "[True, 5, 5, 'ogaleicrum']\n",
    "\n",
    "```"
   ]
  },
  {
   "cell_type": "code",
   "execution_count": 47,
   "id": "314bd376",
   "metadata": {},
   "outputs": [
    {
     "name": "stdout",
     "output_type": "stream",
     "text": [
      "Introduce una palabra: Murcielago\n",
      "{'o', 'e', 'i', 'a', 'u'}\n",
      "5\n"
     ]
    }
   ],
   "source": [
    "#Numero de vocales de la cadena\n",
    "palabra = input(\"Introduce una palabra: \")\n",
    "def vocales(palabra):\n",
    "    vocales = 'aeouiAEOUI'\n",
    "\n",
    "    return set([c for c in palabra if c in vocales])\n",
    "\n",
    "print(vocales(palabra))\n",
    "print(len(vocales(palabra)))"
   ]
  },
  {
   "cell_type": "code",
   "execution_count": 46,
   "id": "ab9f45c7",
   "metadata": {},
   "outputs": [
    {
     "name": "stdout",
     "output_type": "stream",
     "text": [
      "Introduce una palabra: Muercielago \n",
      "{'c', 'r', 'l', 'M', 'g'}\n",
      "5\n"
     ]
    }
   ],
   "source": [
    "#Numero de consonantes de la cadena\n",
    "palabra = input(\"Introduce una palabra: \")\n",
    "def consonante(palabra):\n",
    "    consonante ='BbCcDdFfGgHhJjKkLlMmNnÑnPpQqRrSsTtVvWwXxYyZz'\n",
    "\n",
    "    return set([c for c in palabra if c in consonante])\n",
    "\n",
    "print(consonante(palabra))\n",
    "print(len(consonante(palabra)))"
   ]
  },
  {
   "cell_type": "code",
   "execution_count": 39,
   "id": "a7a3eeeb",
   "metadata": {},
   "outputs": [
    {
     "name": "stdout",
     "output_type": "stream",
     "text": [
      "Introduce una palabra: perro\n",
      "orrep\n"
     ]
    }
   ],
   "source": [
    "#Cadena de caracteres invertida\n",
    "palabra = input(\"Introduce una palabra: \")\n",
    "print(palabra[::-1])"
   ]
  },
  {
   "cell_type": "markdown",
   "id": "861eecd2",
   "metadata": {},
   "source": [
    "\n",
    "**6**. Entrar un arreglo de números y ordenarlos de forma ascendente, Ver algoritmo\n",
    "[Quicksort](https://es.wikipedia.org/wiki/Quicksort).\n"
   ]
  },
  {
   "cell_type": "code",
   "execution_count": 2,
   "id": "de1009ab",
   "metadata": {},
   "outputs": [
    {
     "name": "stdout",
     "output_type": "stream",
     "text": [
      "[22, 32, 42, 12, 22, 31, 41, 11, 12, 232, 24, 12, 22]\n",
      "[11, 12, 12, 12, 22, 22, 22, 24, 31, 32, 41, 42, 232]\n"
     ]
    }
   ],
   "source": [
    "def sort(lista):\n",
    "    izquierda = []\n",
    "    centro = []\n",
    "    derecha = []\n",
    "    if len(lista) > 1:\n",
    "        pivote = lista[0]\n",
    "        for i in lista:\n",
    "            if i < pivote:\n",
    "                izquierda.append(i)\n",
    "            elif i == pivote:\n",
    "                centro.append(i)\n",
    "            elif i > pivote:\n",
    "                derecha.append(i)\n",
    "        \n",
    "        return sort(izquierda)+centro+sort(derecha)\n",
    "    else:\n",
    "      return lista\n",
    "\n",
    "Lista = [22, 32, 42, 12, 22, 31, 41, 11, 12, 232, 24, 12, 22]\n",
    "print(Lista)\n",
    "print(sort(Lista))\n",
    "\n",
    "\n"
   ]
  },
  {
   "cell_type": "code",
   "execution_count": null,
   "id": "171e3891",
   "metadata": {},
   "outputs": [],
   "source": []
  }
 ],
 "metadata": {
  "kernelspec": {
   "display_name": "Python 3 (ipykernel)",
   "language": "python",
   "name": "python3"
  },
  "language_info": {
   "codemirror_mode": {
    "name": "ipython",
    "version": 3
   },
   "file_extension": ".py",
   "mimetype": "text/x-python",
   "name": "python",
   "nbconvert_exporter": "python",
   "pygments_lexer": "ipython3",
   "version": "3.9.7"
  }
 },
 "nbformat": 4,
 "nbformat_minor": 5
}
