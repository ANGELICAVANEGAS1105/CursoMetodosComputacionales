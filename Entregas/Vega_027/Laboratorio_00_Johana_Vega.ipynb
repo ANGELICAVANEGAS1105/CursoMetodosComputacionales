{
  "nbformat": 4,
  "nbformat_minor": 0,
  "metadata": {
    "colab": {
      "name": "Laboratorio 00_Johana Vega.ipynb",
      "provenance": [],
      "collapsed_sections": []
    },
    "kernelspec": {
      "name": "python3",
      "display_name": "Python 3"
    },
    "language_info": {
      "name": "python"
    }
  },
  "cells": [
    {
      "cell_type": "markdown",
      "source": [
        "#Taller_00 \n",
        "#Johana Marcela Vega Jimenez\n",
        "#1049654027"
      ],
      "metadata": {
        "id": "gD6HVUlJCQZe"
      }
    },
    {
      "cell_type": "code",
      "source": [
        "from itertools import combinations"
      ],
      "metadata": {
        "id": "8Y7MffiRLwkg"
      },
      "execution_count": null,
      "outputs": []
    },
    {
      "cell_type": "markdown",
      "source": [
        "##1. Elaborar un algoritmo e implementar en python, el factorial de un número entero n ingresado por el usuario."
      ],
      "metadata": {
        "id": "12RDZLnHCIwv"
      }
    },
    {
      "cell_type": "code",
      "source": [
        "def factorial(n):\n",
        "    n == 1\n",
        "    f = 1\n",
        "    if n>= 1:\n",
        "        for i in range (n,1,-1):\n",
        "            f *= i\n",
        "    return (f)\n",
        "print(factorial(9))\n",
        "print(factorial(5))"
      ],
      "metadata": {
        "colab": {
          "base_uri": "https://localhost:8080/"
        },
        "id": "nuNhpqZ5NU6f",
        "outputId": "7a73d5f5-bfa1-4dce-eff7-b60299c58d2a"
      },
      "execution_count": null,
      "outputs": [
        {
          "output_type": "stream",
          "name": "stdout",
          "text": [
            "362880\n",
            "120\n"
          ]
        }
      ]
    },
    {
      "cell_type": "markdown",
      "source": [
        "##2 Diseñar un programa que lea dos numero a y b y diga que tipo de numero son, de a cuerdo a la siguiente clasificación:"
      ],
      "metadata": {
        "id": "6482IYOxDYq_"
      }
    },
    {
      "cell_type": "markdown",
      "source": [
        "###2.1 Numeros defectivos, abundantes y perfectos\n"
      ],
      "metadata": {
        "id": "0pdn886SGG6n"
      }
    },
    {
      "cell_type": "code",
      "source": [
        "def numeros(n):\n",
        "    sum = 0\n",
        "    for i in range (1,n-1):\n",
        "        if n%i == 0:\n",
        "            sum = sum + i\n",
        "    if sum < n:\n",
        "        num = print (n,\" es un numero defectivo\")\n",
        "    elif sum > n:\n",
        "        num = print (n,\" es un numero abundante\")\n",
        "    elif sum == n:\n",
        "        num = print (n, \"es un numero perfecto\")\n",
        "    else:\n",
        "        num = print (n,\" no es un numero defectivo ni abundante\")\n",
        "    return (num)\n",
        "\n",
        "numeros(10)\n",
        "numeros(20)\n",
        "numeros(6)  "
      ],
      "metadata": {
        "colab": {
          "base_uri": "https://localhost:8080/"
        },
        "id": "zQhzhxUXBQW2",
        "outputId": "ac5e44e7-d757-473d-d9cb-f84957b6036e"
      },
      "execution_count": null,
      "outputs": [
        {
          "output_type": "stream",
          "name": "stdout",
          "text": [
            "10  es un numero defectivo\n",
            "20  es un numero abundante\n",
            "6 es un numero perfecto\n"
          ]
        }
      ]
    },
    {
      "cell_type": "markdown",
      "source": [
        "###2.2 Numeros amigos\n"
      ],
      "metadata": {
        "id": "ILfqwEqkGP1z"
      }
    },
    {
      "cell_type": "code",
      "source": [
        "def amigos(n,m):\n",
        "    sum1 = 0\n",
        "    for i in range (n-1,0,-1):\n",
        "        if n%i == 0:\n",
        "            sum1 = sum1 + i\n",
        "    sum2 = 0\n",
        "    for i in range (m-1,0,-1):\n",
        "        if m%i == 0:\n",
        "            sum2 = sum2 + i\n",
        "    if sum1 == m and sum2 == n:\n",
        "        amig = print ( n , \"y\", m, \"son numeros amigos\")\n",
        "    else: \n",
        "        amig = print ( n , \"y\", m, \"no son numeros amigos\")\n",
        "    return (amig)\n",
        "amigos(220,284)\n",
        "amigos(13,50)"
      ],
      "metadata": {
        "colab": {
          "base_uri": "https://localhost:8080/"
        },
        "id": "NwRpekKRBoZl",
        "outputId": "c78aff35-ec24-4853-a0cb-6b0d99699658"
      },
      "execution_count": null,
      "outputs": [
        {
          "output_type": "stream",
          "name": "stdout",
          "text": [
            "220 y 284 son numeros amigos\n",
            "13 y 50 no son numeros amigos\n"
          ]
        }
      ]
    },
    {
      "cell_type": "markdown",
      "source": [
        "###2.3 Numeros primos"
      ],
      "metadata": {
        "id": "98SJumAeGVZs"
      }
    },
    {
      "cell_type": "code",
      "source": [
        "def primos(n):\n",
        "    div = 0\n",
        "    for i in range (n,0,-1):\n",
        "        if n%i == 0:\n",
        "            div = div + i\n",
        "    if div == n + 1:                            \n",
        "        print (n, \" es un numero primo\")\n",
        "    else:\n",
        "        print (n, \" no es un numero primo\")\n",
        "    \n",
        "primos(10)\n",
        "primos(7)"
      ],
      "metadata": {
        "colab": {
          "base_uri": "https://localhost:8080/"
        },
        "id": "Tc-NP9BJHICd",
        "outputId": "867c9cf1-e5f8-404c-a16c-6a7a5f2bb766"
      },
      "execution_count": null,
      "outputs": [
        {
          "output_type": "stream",
          "name": "stdout",
          "text": [
            "10  no es un numero primo\n",
            "7  es un numero primo\n"
          ]
        }
      ]
    },
    {
      "cell_type": "code",
      "source": [
        "\n",
        "\n",
        "def semi(n):\n",
        "    divs = []\n",
        "    pos = []\n",
        "    \n",
        "    for i in range (n-1,0,-1):\n",
        "        if n%i == 0:\n",
        "            divs.append(i)\n",
        "    for j in range(len(divs),0,-1):\n",
        "      r = combinations(divs, len(divs)-j)\n",
        "      for i in list(r):\n",
        "        pos.append(i)\n",
        "    nueva = []\n",
        "    for i in range (0,len(pos)):\n",
        "      suma = sum(pos[i])\n",
        "      nueva.append(suma)\n",
        "      if suma == n:\n",
        "        f = (n, 'es un numero semi perfecto')\n",
        "        break\n",
        "      else:\n",
        "        f = (n, 'no es un numero semiperfecto')\n",
        "        if sum(divs) == n:\n",
        "          f = (n, 'es un numero semi perfecto')\n",
        "    \n",
        "    return(f)\n",
        "    \n",
        "\n",
        "semi(28)\n"
      ],
      "metadata": {
        "colab": {
          "base_uri": "https://localhost:8080/"
        },
        "id": "QW54AUFiHyM0",
        "outputId": "1be765b4-6f5e-4da7-aec1-076ad5c66977"
      },
      "execution_count": null,
      "outputs": [
        {
          "output_type": "execute_result",
          "data": {
            "text/plain": [
              "(28, 'es un numero semi perfecto')"
            ]
          },
          "metadata": {},
          "execution_count": 42
        }
      ]
    },
    {
      "cell_type": "markdown",
      "source": [
        "##3. Determine si un número n entero ingresado por el usuario es un palíndromo, (Retorne True en caso afirmativo y False en caso contrario)"
      ],
      "metadata": {
        "id": "I73X2X9KBGh2"
      }
    },
    {
      "cell_type": "code",
      "source": [
        "def palindromo(n):\n",
        "    numero = str(n)\n",
        "    p = []\n",
        "    for i in numero:\n",
        "        p.append(int(i))\n",
        "        l = p[::-1]\n",
        "    if p == l:\n",
        "        r = print(True)\n",
        "    else:\n",
        "        r = print(False)\n",
        "    return (r)\n",
        "palindromo(1478)\n",
        "palindromo(121)\n",
        "palindromo(123454321)\n",
        "palindromo(126521)"
      ],
      "metadata": {
        "colab": {
          "base_uri": "https://localhost:8080/"
        },
        "id": "sDBYuwqSBN6Q",
        "outputId": "860bb2c1-fb30-427e-d24c-98ce858f2d34"
      },
      "execution_count": null,
      "outputs": [
        {
          "output_type": "stream",
          "name": "stdout",
          "text": [
            "False\n",
            "True\n",
            "True\n",
            "False\n"
          ]
        }
      ]
    },
    {
      "cell_type": "markdown",
      "source": [
        "##4. Dada una cadena de caracteres, entregar una lista donde se retorne:\n",
        "##en la primera casilla: True si el caracter del medio es una vocal, False en caso contrario\n",
        "##en la segunda: el numero de vocales en la cadena\n",
        "##en la tercera: el numero de consonantes\n",
        "##en la ultima: la cadena de caracteres invertida (ej: perro, orrep)"
      ],
      "metadata": {
        "id": "TN98viKeBXEE"
      }
    },
    {
      "cell_type": "code",
      "source": [
        "def cadena(palabra):\n",
        "    \n",
        "    voc = ['a','e','i','o','u']\n",
        "    con = ['b','c','d','f','g','h','j','k','l','m','n','p','q','r','s','t','u','v']\n",
        "    if len(palabra)%2 == 0:         #consideré que si el número de letras es par \"no existe\" una casilla en el medio, por lo tanto retorna un False\n",
        "        r2 = False\n",
        "    elif len(palabra)%2 != 0:\n",
        "        vacia=0\n",
        "        for i in voc:\n",
        "            if palabra[len(palabra)//2] == i:\n",
        "                vacia = vacia + 1\n",
        "        if vacia == 1:\n",
        "            r2 = True\n",
        "        elif vacia == 0:\n",
        "            r2 = False\n",
        "    sumav=0\n",
        "    for i in palabra:\n",
        "        for j in voc:\n",
        "            if i==j:\n",
        "                sumav = sumav + 1\n",
        "    sumac = 0\n",
        "    for i in palabra:\n",
        "        for j in con:\n",
        "            if i == j:\n",
        "                sumac = sumac + 1\n",
        "    listpal=[]\n",
        "    for i in palabra:\n",
        "        listpal.append(i)\n",
        "    listinv = listpal[::-1]\n",
        "    palabrainversa=''\n",
        "    for i in listinv:\n",
        "        palabrainversa = palabrainversa + i\n",
        "        \n",
        "    return(r2, sumav, sumac,palabrainversa)\n",
        "\n",
        "\n",
        "cadena('ahora')"
      ],
      "metadata": {
        "colab": {
          "base_uri": "https://localhost:8080/"
        },
        "id": "GMt-_QDZBVXv",
        "outputId": "439cd121-3992-43cb-d2c9-62ad8105e9e3"
      },
      "execution_count": null,
      "outputs": [
        {
          "output_type": "execute_result",
          "data": {
            "text/plain": [
              "(True, 3, 2, 'aroha')"
            ]
          },
          "metadata": {},
          "execution_count": 45
        }
      ]
    },
    {
      "cell_type": "markdown",
      "source": [
        "##5. Elabore un método para calcular el n-ésimo término de la sucesión de fibonacci:"
      ],
      "metadata": {
        "id": "tTPXCWYqByLi"
      }
    },
    {
      "cell_type": "code",
      "source": [
        "def fibonacci(n):\n",
        "  f0=0\n",
        "  f1=1\n",
        "  i=1 \n",
        "  lista = [f0,f1]\n",
        "  while i < n: \n",
        "    suma = 0\n",
        "    suma += lista[i-1] + lista[i]\n",
        "    lista.append(suma)\n",
        "    i += 1\n",
        "  result = lista[-1]\n",
        "  return(result)\n",
        "\n",
        "fibonacci(50)\n"
      ],
      "metadata": {
        "id": "KKumTGgdFVrJ",
        "colab": {
          "base_uri": "https://localhost:8080/"
        },
        "outputId": "01cb1044-8b4f-4d48-d18a-4c40c022a371"
      },
      "execution_count": 2,
      "outputs": [
        {
          "output_type": "execute_result",
          "data": {
            "text/plain": [
              "12586269025"
            ]
          },
          "metadata": {},
          "execution_count": 2
        }
      ]
    },
    {
      "cell_type": "markdown",
      "source": [
        "##6. Entrar un arreglo de números y ordenarlos de forma ascendente"
      ],
      "metadata": {
        "id": "T2711rwKUwNT"
      }
    },
    {
      "cell_type": "code",
      "source": [
        "l = [6,8,15,34,5,7,9,1,9,8,4,122,65,15]"
      ],
      "metadata": {
        "id": "eua1D67SV81p"
      },
      "execution_count": 33,
      "outputs": []
    },
    {
      "cell_type": "code",
      "source": [
        "def orden(lista):\n",
        "\n",
        "  for i in range(0,len(lista)):\n",
        "    for j in range(0,len(lista)):\n",
        "      if int(lista[i]) < int(lista[j]):\n",
        "        lista[j], lista[i] = lista[i],lista[j]\n",
        "  print(lista)\n",
        "orden(l)"
      ],
      "metadata": {
        "id": "aFUEZepeGe-D",
        "colab": {
          "base_uri": "https://localhost:8080/"
        },
        "outputId": "355b02c2-4938-4776-b3ad-c22a0dd43675"
      },
      "execution_count": 35,
      "outputs": [
        {
          "output_type": "stream",
          "name": "stdout",
          "text": [
            "[1, 4, 5, 6, 7, 8, 8, 9, 9, 15, 15, 34, 65, 122]\n"
          ]
        }
      ]
    },
    {
      "cell_type": "code",
      "source": [
        ""
      ],
      "metadata": {
        "id": "-QJ2Vg2z3ebw"
      },
      "execution_count": null,
      "outputs": []
    }
  ]
}