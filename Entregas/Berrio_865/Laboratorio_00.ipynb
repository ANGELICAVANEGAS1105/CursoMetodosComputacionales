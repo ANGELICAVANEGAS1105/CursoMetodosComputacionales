{
  "nbformat": 4,
  "nbformat_minor": 0,
  "metadata": {
    "colab": {
      "name": "Laboratorio_00.ipynb",
      "provenance": [],
      "collapsed_sections": [
        "SbxwEf1alaBM",
        "vv2yEfDRrmbe",
        "gMwNx3tOdvq6",
        "ryAq3M3a6quE"
      ]
    },
    "kernelspec": {
      "name": "python3",
      "display_name": "Python 3"
    },
    "language_info": {
      "name": "python"
    }
  },
  "cells": [
    {
      "cell_type": "markdown",
      "source": [
        "#**Problemas**\n",
        "\n",
        "---\n"
      ],
      "metadata": {
        "id": "505w59M4ng_m"
      }
    },
    {
      "cell_type": "markdown",
      "source": [
        "## 1. Elaborar un algoritmo e implementar en python, el factorial de un número entero $n$ ingresado por el usuario.\n",
        "\n",
        "\n"
      ],
      "metadata": {
        "id": "SbxwEf1alaBM"
      }
    },
    {
      "cell_type": "code",
      "source": [
        "def Fact_1(n):\n",
        "  if n == 0: \n",
        "    v=0\n",
        "  elif n >=1:\n",
        "    v=1\n",
        "    i=1\n",
        "    while i <= n:\n",
        "      v=v*i\n",
        "      i+=1\n",
        "  elif n < 0:\n",
        "    v = 'No se definen para números naturales' #falta organizar lo del error\n",
        "  return(v)"
      ],
      "metadata": {
        "id": "JmEJNm1yoWfG"
      },
      "execution_count": null,
      "outputs": []
    },
    {
      "cell_type": "code",
      "source": [
        "Fact_1(5)"
      ],
      "metadata": {
        "colab": {
          "base_uri": "https://localhost:8080/"
        },
        "id": "ZgcHKF2WmIX-",
        "outputId": "d48a6838-3b8d-43dc-d8bd-c2b1a7497968"
      },
      "execution_count": null,
      "outputs": [
        {
          "output_type": "execute_result",
          "data": {
            "text/plain": [
              "120"
            ]
          },
          "metadata": {},
          "execution_count": 18
        }
      ]
    },
    {
      "cell_type": "markdown",
      "source": [
        "## 2. Diseñar un programa que lea dos numero $a$ y $b$ y diga si son o no: números defectivos, números abundante, números amigos, números semiperfectos, números perfectos y números primos."
      ],
      "metadata": {
        "id": "vv2yEfDRrmbe"
      }
    },
    {
      "cell_type": "code",
      "source": [
        "# Esta función sirve para hallar si dos número son defectivos, abundantes, semi perfectos, perfectos, amigos entre si y si son número primos. \n",
        "def Evaluate_Numbers(a,b):\n",
        "  ready_a = [] ; ready_b = [] ; i = 1 ; j = 1 ; suma_a = 0 ; suma_b = 0\n",
        "  while i < a:\n",
        "    if a%i == 0:\n",
        "      ready_a.append(i)\n",
        "    i+=1 \n",
        "  while j < b:\n",
        "    if b%j == 0:\n",
        "      ready_b.append(j)\n",
        "    j+=1\n",
        "  for i in ready_a:\n",
        "    suma_a += i \n",
        "  for j in ready_b:\n",
        "    suma_b += j\n",
        "\n",
        "  # Condicionales para halla si 'a' y 'b' son números defectivos, abundantes o perfectos\n",
        "  if a > suma_a:\n",
        "    resultado_a = print(f'{a} es un número defectivo')\n",
        "  elif a < suma_a:\n",
        "    resultado_a = print(f'{a} es un número abundante')\n",
        "  elif a == suma_a:\n",
        "    resultado_a = print(f'{a} es un número perfecto')\n",
        "  if b > suma_b:\n",
        "    resultado_b = print(f'{b} es un número defectivo')\n",
        "  elif b < suma_b:\n",
        "    resultado_b = print(f'{b} es un número abundante')\n",
        "  elif b == suma_b:\n",
        "    resultado_b = print(f'{b} es un número perfecto')\n",
        " \n",
        "  # Condicionales para verificar si 'a' y 'b' son número amigos\n",
        "  if suma_a == b and suma_b == a:\n",
        "    Result_friends = print(f'{a} y {b} son números amigos')\n",
        "  else:\n",
        "    Result_friends = print(f'{a} y {b} no son números amigos')\n",
        "\n",
        "  # Condicionales para verificar si 'a' y 'b' son número primos \n",
        "  if ready_a + [a] == [1,a]:\n",
        "    Result_Number_Cousin_a = print(f'{a} es un número primo')\n",
        "  else: \n",
        "    Result_Number_Cousin_a = print(f'{a} no es un número primo')\n",
        "  if ready_b + [b] == [1,b]:\n",
        "    Result_Number_Cousin_b = print(f'{b} es un número primo')\n",
        "  else: \n",
        "    Result_Number_Cousin_b = print(f'{b} no es un número primo')\n",
        "    \n",
        "  return(resultado_a,resultado_b,Result_friends,Result_Number_Cousin_a,Result_Number_Cousin_b,ready_a)"
      ],
      "metadata": {
        "id": "zb-q4eMJtQdS"
      },
      "execution_count": null,
      "outputs": []
    },
    {
      "cell_type": "code",
      "source": [
        "Evaluate_Numbers(3,100)"
      ],
      "metadata": {
        "colab": {
          "base_uri": "https://localhost:8080/"
        },
        "id": "SdQ6KILKuSkT",
        "outputId": "c4685692-8b1c-43ca-e236-295729d6c139"
      },
      "execution_count": null,
      "outputs": [
        {
          "output_type": "stream",
          "name": "stdout",
          "text": [
            "3 es un número defectivo\n",
            "100 es un número abundante\n",
            "3 y 100 no son números amigos\n",
            "3 es un número primo\n",
            "100 no es un número primo\n"
          ]
        },
        {
          "output_type": "execute_result",
          "data": {
            "text/plain": [
              "(None, None, None, None, None, [1])"
            ]
          },
          "metadata": {},
          "execution_count": 22
        }
      ]
    },
    {
      "cell_type": "code",
      "source": [
        "#Función de suma de lista y suma de reduciones de la misma lista\n",
        "def Semiperfecto(a):\n",
        "  # ciclo que crea una lista con los multiplos del valor \"a\" si tomarlo a su mismo\n",
        "  ready_a = [] ; ready_b = [] ; i = 1\n",
        "  while i < a:\n",
        "    if a%i == 0:\n",
        "      ready_a.append(i)\n",
        "    i+=1 \n",
        "  #funcion que me devuelve la suma de los elementos de una lista\n",
        "  def List_sum(n):\n",
        "    sum = 0\n",
        "    for i in n:\n",
        "      sum += i\n",
        "    return(sum)\n",
        "  #ciclo que me devuelve una lista de todas las listas generadas de eliminar solo un elemento de un lista\n",
        "  if List_sum(ready_a) == a:\n",
        "    Result = True\n",
        "  else:\n",
        "    i=0\n",
        "    list_of_list=[]\n",
        "    while i  < len(ready_a):\n",
        "      if i == 0:\n",
        "        ready_b = ready_a[1:]\n",
        "        list_of_list.append(ready_b)\n",
        "      else:\n",
        "        ready_b = ready_a[0:i]+ready_a[i+1:]\n",
        "        list_of_list.append(ready_b)\n",
        "      i += 1\n",
        "    list_of_list\n",
        "    #función que suma los elementos de una lista reduciendo de a uno y guardado los resultados en otra lista\n",
        "    def sum_1(a):\n",
        "      ready_c=[]\n",
        "      #L_f = a\n",
        "      #L_v = a\n",
        "      i = 0\n",
        "      while i < len(a):\n",
        "        E = List_sum(a[i:])\n",
        "        ready_c.append(E)\n",
        "        i += 1\n",
        "      return(ready_c)\n",
        "    #ciclo que devuleve True si al menos uno de los elementos de una lista es igual a un valor y False si no es así\n",
        "    for j in list_of_list:\n",
        "      Result = False\n",
        "      #Result = result\n",
        "      for i in sum_1(j):\n",
        "        #print(i)\n",
        "        if i == a:\n",
        "          Result = True\n",
        "          #Result = result\n",
        "          break\n",
        "      if Result == True:\n",
        "        break\n",
        "    #print(result)\n",
        "  return(Result)"
      ],
      "metadata": {
        "id": "gGqQ0Hnks4M8"
      },
      "execution_count": null,
      "outputs": []
    },
    {
      "cell_type": "code",
      "source": [
        "Semiperfecto()"
      ],
      "metadata": {
        "colab": {
          "base_uri": "https://localhost:8080/"
        },
        "id": "48F_bpbWMli_",
        "outputId": "59c278e8-4c74-45e5-8dc2-d7512779df20"
      },
      "execution_count": null,
      "outputs": [
        {
          "output_type": "execute_result",
          "data": {
            "text/plain": [
              "True"
            ]
          },
          "metadata": {},
          "execution_count": 152
        }
      ]
    },
    {
      "cell_type": "markdown",
      "source": [
        "## 3. Determine si un número $n$ entero ingresado por el usuario es un palíndromo, (Retorne $True$ en caso afirmativo y $False$ en caso contrario)."
      ],
      "metadata": {
        "id": "gMwNx3tOdvq6"
      }
    },
    {
      "cell_type": "code",
      "source": [
        "def Palindromo(n):\n",
        "  r = str(n)\n",
        "  if (len(r)/2)%2 == 0:\n",
        "    s = len(r)/2\n",
        "  elif (len(r)/2) > int(len(r)/2): \n",
        "    s = (int(len(r))/2)+1\n",
        "  i = 0\n",
        "  while i < s:\n",
        "    if r[i] == r[-(i+1)]:\n",
        "      Result = 'True'\n",
        "      i += 1\n",
        "    elif r[i] != r[-(i+1)]:\n",
        "      Result = 'False'\n",
        "      break\n",
        "  return(Result)"
      ],
      "metadata": {
        "id": "6A50Px5td1BP"
      },
      "execution_count": null,
      "outputs": []
    },
    {
      "cell_type": "code",
      "source": [
        "Palindromo(45657)"
      ],
      "metadata": {
        "colab": {
          "base_uri": "https://localhost:8080/",
          "height": 35
        },
        "id": "LdhHGiZ8h6eF",
        "outputId": "b6da4163-ac1c-4f93-ee8c-4d3d6bc896f7"
      },
      "execution_count": null,
      "outputs": [
        {
          "output_type": "execute_result",
          "data": {
            "text/plain": [
              "'False'"
            ],
            "application/vnd.google.colaboratory.intrinsic+json": {
              "type": "string"
            }
          },
          "metadata": {},
          "execution_count": 20
        }
      ]
    },
    {
      "cell_type": "markdown",
      "source": [
        "##4. Dada una cadena de caracteres, entregar una lista donde se retorne: $1.$ $True$ si el caracter del medio es una vocal, $False$ en caso contrario, $2.$ el numero de vocales en la cadena, $3.$ el numero de consonantes y $4.$ la cadena de caracteres invertida."
      ],
      "metadata": {
        "id": "ryAq3M3a6quE"
      }
    },
    {
      "cell_type": "code",
      "source": [
        "def word(a):\n",
        "  palabra=str(a)\n",
        "  vocales =['a','e','i','o','u']\n",
        "  consonates = ['b','c','d','f','g','h','j','k','l','m','n','p','q','r','s','t','v','w','x','y','z']\n",
        "  if len(palabra)%2 == 0:\n",
        "    l = False\n",
        "  elif len(palabra)%2 != 0:\n",
        "    dato=int(len(palabra)//2)\n",
        "    w=0\n",
        "    for i in vocales:\n",
        "        if palabra[dato] == i: \n",
        "            w=w+1\n",
        "        else:\n",
        "            w=w+0\n",
        "    if w == 0:\n",
        "        l = False\n",
        "    elif w != 0:\n",
        "        l = True       \n",
        "  NumeroDeVocales=0\n",
        "  for i in palabra:\n",
        "    for j in vocales:\n",
        "      if j == i:\n",
        "        NumeroDeVocales=NumeroDeVocales+1\n",
        "      elif j != i:\n",
        "        NumeroDeVocales=NumeroDeVocales+0\n",
        "  NumeroDeConsonantes=0\n",
        "  for i in palabra:\n",
        "    for j in consonates:\n",
        "      if j == i:\n",
        "        NumeroDeConsonantes=NumeroDeConsonantes+1\n",
        "      elif j != i:\n",
        "        NumeroDeConsonantes=NumeroDeConsonantes+0 \n",
        "  palabraAlrevez=''\n",
        "  i=1\n",
        "  while i <= int(len(palabra)):\n",
        "    palabraAlrevez = palabraAlrevez + palabra[-i]\n",
        "    i=i+1\n",
        "  result = [l,NumeroDeVocales,NumeroDeConsonantes,palabraAlrevez]\n",
        "  return(result)\n"
      ],
      "metadata": {
        "id": "p9PQ45qR8OJd"
      },
      "execution_count": null,
      "outputs": []
    },
    {
      "cell_type": "code",
      "source": [
        "palabra='cangrejo'\n",
        "word(palabra)"
      ],
      "metadata": {
        "colab": {
          "base_uri": "https://localhost:8080/"
        },
        "id": "JdMECInK6vBy",
        "outputId": "dc1d6f0c-2923-445c-b561-63b295af27be"
      },
      "execution_count": null,
      "outputs": [
        {
          "output_type": "execute_result",
          "data": {
            "text/plain": [
              "[False, 3, 5, 'ojergnac']"
            ]
          },
          "metadata": {},
          "execution_count": 10
        }
      ]
    },
    {
      "cell_type": "code",
      "source": [
        ""
      ],
      "metadata": {
        "id": "xZ5Nywsb-uiD"
      },
      "execution_count": null,
      "outputs": []
    },
    {
      "cell_type": "markdown",
      "source": [
        "## 5. Elabore un método para calcular el $n-ésimo$ término de la sucesión de fibonacci.\n"
      ],
      "metadata": {
        "id": "q4iEwU2PAi9_"
      }
    },
    {
      "cell_type": "code",
      "source": [
        "def fibonacci(n):\n",
        "  f0=0\n",
        "  f1=1\n",
        "  i=1 \n",
        "  lista = [f0,f1]\n",
        "  while i < n: \n",
        "    suma = 0\n",
        "    suma += lista[i-1] + lista[i]\n",
        "    lista.append(suma)\n",
        "    i += 1\n",
        "  result = lista[-1]\n",
        "  return(result)"
      ],
      "metadata": {
        "id": "IgQgZarUBNUk"
      },
      "execution_count": null,
      "outputs": []
    },
    {
      "cell_type": "code",
      "source": [
        "fibonacci(63)"
      ],
      "metadata": {
        "colab": {
          "base_uri": "https://localhost:8080/"
        },
        "id": "59m-v833F6eB",
        "outputId": "52168af8-3264-41ca-9ff9-5d862e72c663"
      },
      "execution_count": null,
      "outputs": [
        {
          "output_type": "execute_result",
          "data": {
            "text/plain": [
              "6557470319842"
            ]
          },
          "metadata": {},
          "execution_count": 13
        }
      ]
    },
    {
      "cell_type": "markdown",
      "source": [
        "## 6. Entrar un arreglo de números y ordenarlos de forma ascendente, Ver algoritmo Quicksort."
      ],
      "metadata": {
        "id": "1t0vC4HjG8lF"
      }
    },
    {
      "cell_type": "code",
      "source": [
        "def upward(n):\n",
        "  for i in range(0,len(n)):\n",
        "    for j in range(0,len(n)):\n",
        "      if int(n[i]) < int(n[j]):\n",
        "        n[j], n[i] = n[i],n[j]\n",
        "  return(n)\n"
      ],
      "metadata": {
        "id": "yfLYquH6UsCJ"
      },
      "execution_count": 42,
      "outputs": []
    },
    {
      "cell_type": "code",
      "source": [
        "v = [22, 32, 42, 12, 22, 31, 41, 11, 12, 232, 24, 12, 22]\n",
        "upward(v)"
      ],
      "metadata": {
        "colab": {
          "base_uri": "https://localhost:8080/"
        },
        "id": "dkN7vwPzU64q",
        "outputId": "b930530d-96e4-496f-da6b-9cded6960269"
      },
      "execution_count": 44,
      "outputs": [
        {
          "output_type": "execute_result",
          "data": {
            "text/plain": [
              "[11, 12, 12, 12, 22, 22, 22, 24, 31, 32, 41, 42, 232]"
            ]
          },
          "metadata": {},
          "execution_count": 44
        }
      ]
    }
  ]
}