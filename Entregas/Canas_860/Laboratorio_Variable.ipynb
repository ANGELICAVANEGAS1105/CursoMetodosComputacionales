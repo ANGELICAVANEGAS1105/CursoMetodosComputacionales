{
 "cells": [
  {
   "cell_type": "code",
   "execution_count": 9,
   "id": "daffff0c-8a91-4f88-b7c5-4f802390dfbc",
   "metadata": {},
   "outputs": [],
   "source": [
    "import pandas as pd\n",
    "import numpy as np\n",
    "import matplotlib.pylab as plt\n",
    "from scipy import optimize\n",
    "import sympy as sy"
   ]
  },
  {
   "cell_type": "markdown",
   "id": "26630fa5-b568-4d6c-8de4-9ac059a4afc8",
   "metadata": {},
   "source": [
    "## ¿Para que ángulo el area del segmento circular es igual a un cuarto del area de la circunferencia?"
   ]
  },
  {
   "cell_type": "markdown",
   "id": "ff683655-3a9d-456c-8032-75e18aadcc0b",
   "metadata": {},
   "source": [
    "Para resolver el problema se  tiene como base una circufencia de radio r.\n",
    "\n",
    "Se define un cuarto del área de la circunferencia, un porción de la circunferencia y el área del tringulo para dar resultado al área del segmento circular."
   ]
  },
  {
   "cell_type": "markdown",
   "id": "bd213b7b-d6ba-4f34-8fd9-0a68c12d9a34",
   "metadata": {},
   "source": [
    "Área de una porción de la circunferencia:\n",
    "$$ A_{por} = \\frac{\\theta}{2 \\pi } {\\pi} {r^2} \\dots \\frac { \\theta r^2}{2}  $$\n",
    "\n",
    "Área del tringulo:\n",
    "$$ A_{tri} = \\frac{r^2 \\sin{\\theta}}{2} $$\n",
    "\n",
    "Cuarto de circunferencia \n",
    "$$ \\frac{A_{cir}}{4} = \\frac{ \\pi r^2 }{4}$$\n",
    "\n",
    "Utilizando la siguiente ecuación se tiene que \n",
    "$$ \\frac{A_{cir}}{4} = A_{por} -  A_{tri} $$\n",
    "\n",
    "Reemplazando por los valores obtenidos \n",
    "\n",
    "$$ \\frac{ \\pi r^2 }{4} =   \\frac { \\theta r^2}{2} \n",
    " - \\frac{r^2 \\sin{\\theta}}{2} $$\n",
    " \n",
    "Quedando finalmente la siguiente expresión:\n",
    "\n",
    "$$ \\frac{\\pi}{2} = \\theta - \\sin{\\theta}$$"
   ]
  },
  {
   "cell_type": "code",
   "execution_count": 10,
   "id": "c18b2846-2408-4c4b-a855-7a1295b4baac",
   "metadata": {},
   "outputs": [],
   "source": [
    "θ = np.linspace(-np.pi, np.pi) # Dominio de la función\n",
    "f = lambda θ: θ - np.sin(θ) - np.pi / 2  #Se define la función a resolver\n",
    "#Construcción del Dataframe\n",
    "datos = {\"θ\":θ, \"f(θ)\":f(θ)}\n",
    "df = pd.DataFrame(datos)"
   ]
  },
  {
   "cell_type": "code",
   "execution_count": 30,
   "id": "c6d94327-aaba-4df0-bf26-e8a18aef92e2",
   "metadata": {},
   "outputs": [
    {
     "name": "stdout",
     "output_type": "stream",
     "text": [
      "\n",
      "La solución de la ecuación está entre el intervalo [2,3]\n",
      "\n"
     ]
    },
    {
     "data": {
      "image/png": "[encoded data removed]",
      "text/plain": [
       "<Figure size 432x288 with 1 Axes>"
      ]
     },
     "metadata": {
      "needs_background": "light"
     },
     "output_type": "display_data"
    }
   ],
   "source": [
    "#Grafica de la función f(theta)\n",
    "plt.plot(df[\"θ\"],df[\"f(θ)\"])\n",
    "plt.xlabel(\"θ\")\n",
    "plt.ylabel(\"f(θ)\")\n",
    "plt.title(\"f(θ) vs θ\")\n",
    "plt.grid()\n",
    "print(\"\"\"\n",
    "La solución de la ecuación está entre el intervalo [2,3]\n",
    "\"\"\")"
   ]
  },
  {
   "cell_type": "code",
   "execution_count": 12,
   "id": "de6af736-333f-4d31-b7aa-7e8927448e5f",
   "metadata": {},
   "outputs": [
    {
     "name": "stdout",
     "output_type": "stream",
     "text": [
      "===============================================================================\n",
      "La solución de la ecuación con el metodo de la secante es --> 2.3099\n",
      "===============================================================================\n",
      "La solución de la ecuación con el método de bisección es --> 2.3099\n",
      "===============================================================================\n",
      "La solución de la ecuación con el método de Punto fijo es --> 2.3099\n",
      "===============================================================================\n",
      "La solución de la ecuación con el método de Newton es --> 2.3099\n",
      "===============================================================================\n"
     ]
    }
   ],
   "source": [
    "#Métodos para hallar la solución de la ecuación \n",
    "#Con la libreria Scipy.optimize\n",
    "method_sec = optimize.newton(f,2) # Metodo de la secante\n",
    "#==============================================================================\n",
    "method_bise = optimize.bisect(f,1,3) # Metodo de biseccion \n",
    "#==============================================================================\n",
    "punt = lambda θ : θ - f(θ) \n",
    "method_fixe = optimize.fixed_point(punt,1) #metodo del punto fijo\n",
    "#==============================================================================\n",
    "f_prima = lambda θ : 1 - np.cos(θ)\n",
    "method_new = optimize.newton(f,2,f_prima)\n",
    "\n",
    "print(\"===============================================================================\")\n",
    "print(f\"La solución de la ecuación con el metodo de la secante es --> {method_sec:.5}\")\n",
    "print(\"===============================================================================\")\n",
    "print(f\"La solución de la ecuación con el método de bisección es --> {method_bise:.5}\")\n",
    "print(\"===============================================================================\")\n",
    "print(f\"La solución de la ecuación con el método de Punto fijo es --> {method_fixe:.5}\")\n",
    "print(\"===============================================================================\")\n",
    "print(f\"La solución de la ecuación con el método de Newton es --> {method_new:.5}\")\n",
    "print(\"===============================================================================\")"
   ]
  },
  {
   "cell_type": "markdown",
   "id": "2d130198-3674-4bf1-a246-b73bee130b08",
   "metadata": {},
   "source": [
    "### Caida libre de un cuerpo"
   ]
  },
  {
   "cell_type": "code",
   "execution_count": 44,
   "id": "23de39a6-8045-4f53-947e-9a1309dbb657",
   "metadata": {},
   "outputs": [
    {
     "name": "stdout",
     "output_type": "stream",
     "text": [
      "====================================================================\n",
      "El cero de la ecuación con el método de la secante es 2.248\n",
      "====================================================================\n",
      "El cero de la ecuación con el método de newton es 2.248\n",
      "====================================================================\n",
      "El cero de la ecuación con el método del punto fijo es 2.248\n",
      "====================================================================\n",
      "El cero de la ecuación con el método de bisección es 2.248\n",
      "====================================================================\n"
     ]
    }
   ],
   "source": [
    "t = np.linspace(-10,10,100)\n",
    "t0 = sy.symbols(\"t\")\n",
    "s0 = sy.symbols(\"s0\")\n",
    "m = sy.symbols(\"m\")\n",
    "g = sy.symbols(\"g\")\n",
    "v0 = sy.symbols(\"v0\")\n",
    "k = sy.symbols(\"k\")\n",
    "pa = [300,0.25,32.17,0,0.1]\n",
    "\n",
    "def caida(t,s0,m,g,v0,k):\n",
    "    \"\"\"\n",
    "    Parametros\n",
    "    \"\"\"\n",
    "    s = s0 - (m*g/k)*t \n",
    "    s1 = m*((m*g+k*v0)/k**2)*(1-np.exp((-k*t)/m))\n",
    "    return s-s1\n",
    "#Función en latex\n",
    "def derivada1(t,s0,m,g,v0,k):\n",
    "    \"\"\"\n",
    "    Parametros\n",
    "    \"\"\"\n",
    "    s = -(m*g/k) \n",
    "    s1 = ((m*g+k*v0)/k)*(np.exp((-k*t)/m))\n",
    "    return s-s1\n",
    "def caida1(t,s0,m,g,v0,k):\n",
    "    \"\"\"\n",
    "    Parametros\n",
    "    \"\"\"\n",
    "    s = s0 - (m*g/k)*t \n",
    "    s1 = m*((m*g+k*v0)/k**2)*(1-sy.exp((-k*t)/m))\n",
    "    return s-s1\n",
    "#================================================================================================================\n",
    "#Meétodo de la secante\n",
    "print(\"====================================================================\")\n",
    "mS = optimize.newton(caida,2,args= pa)\n",
    "print(f\"El cero de la ecuación con el método de la secante es {mS:.4}\")\n",
    "print(\"====================================================================\")\n",
    "#Método de Newton\n",
    "mN = optimize.newton(caida,2,derivada1,args=pa)\n",
    "print(f\"El cero de la ecuación con el método de newton es {mS:.4}\")\n",
    "print(\"====================================================================\")\n",
    "\n",
    "#Método del punto fijo\n",
    "def metodo_punto(t,s0,m,g,v0,k):\n",
    "    return t - caida(t,s0,m,g,v0,k)\n",
    "mPF = optimize.fixed_point(metodo_punto,2,args=pa)\n",
    "print(f\"El cero de la ecuación con el método del punto fijo es {mPF:.4}\")\n",
    "\n",
    "print(\"====================================================================\")\n",
    "#Metodo de biseccion\n",
    "def metodo_de_biseccion(t):\n",
    "    s0 = 300\n",
    "    m = 0.25\n",
    "    g = 32.17\n",
    "    v0 = 0\n",
    "    k = 0.1\n",
    "    return caida(t,s0,m,g,v0,k)\n",
    "mB = optimize.bisect(metodo_de_biseccion,2,3)\n",
    "print(f\"El cero de la ecuación con el método de bisección es {mB:.4}\")\n",
    "print(\"====================================================================\")"
   ]
  },
  {
   "cell_type": "code",
   "execution_count": 14,
   "id": "647cca96-a1df-4688-8c16-4e5073eb5317",
   "metadata": {},
   "outputs": [
    {
     "data": {
      "image/png": "[encoded data removed]",
      "text/plain": [
       "<Figure size 432x288 with 1 Axes>"
      ]
     },
     "metadata": {
      "needs_background": "light"
     },
     "output_type": "display_data"
    }
   ],
   "source": [
    "plt.plot(t,caida(t,*pa))\n",
    "plt.plot(mS,caida(mS,*pa),\"or\")\n",
    "plt.grid()"
   ]
  },
  {
   "cell_type": "code",
   "execution_count": 15,
   "id": "16f13974-2d01-430d-9809-86f3213d8636",
   "metadata": {},
   "outputs": [
    {
     "data": {
      "text/latex": [
       "$\\displaystyle - \\frac{g m}{k} - \\frac{\\left(g m + k v_{0}\\right) e^{- \\frac{k t}{m}}}{k}$"
      ],
      "text/plain": [
       "-g*m/k - (g*m + k*v0)*exp(-k*t/m)/k"
      ]
     },
     "execution_count": 15,
     "metadata": {},
     "output_type": "execute_result"
    }
   ],
   "source": [
    "deri = sy.diff(caida1(t0,s0,m,g,v0,k),t0)\n",
    "deri"
   ]
  },
  {
   "cell_type": "markdown",
   "id": "21c6bda4-53dd-46c3-806b-d7d4238a3828",
   "metadata": {},
   "source": [
    "## Magetización Vs Temperatura"
   ]
  },
  {
   "cell_type": "markdown",
   "id": "aaa99899-573e-407d-8937-fce87963376c",
   "metadata": {},
   "source": [
    "### Magetización reducida"
   ]
  },
  {
   "cell_type": "code",
   "execution_count": 46,
   "id": "a0416835-ef52-4d4d-af6b-0ff579e00ab4",
   "metadata": {},
   "outputs": [
    {
     "name": "stdout",
     "output_type": "stream",
     "text": [
      "===============================================================================\n",
      "La solución con el método de la secante es 0.958\n",
      "===============================================================================\n",
      "La sulución con el punto fijo es 0.958\n",
      "===============================================================================\n"
     ]
    },
    {
     "data": {
      "image/png": "[encoded data removed]",
      "text/plain": [
       "<Figure size 432x288 with 1 Axes>"
      ]
     },
     "metadata": {
      "needs_background": "light"
     },
     "output_type": "display_data"
    }
   ],
   "source": [
    "#Define la función de magetización vs T\n",
    "#Parametros \n",
    "T0 = 0.5 #K\n",
    "mT = np.linspace(-np.pi,np.pi) #Dominio de la función reducido\n",
    "mag = lambda mT,T : mT - np.tanh(mT/T)\n",
    "#Magnetización reducida para T = T0\n",
    "print(\"===============================================================================\")\n",
    "def magne(mT):\n",
    "    return mag(mT,0.5)\n",
    "#Metodo de la secante\n",
    "me_sec = optimize.newton(magne,1.5)\n",
    "print(f\"La solución con el método de la secante es {me_sec:.3}\")\n",
    "print(\"===============================================================================\")\n",
    "#Metoso del punto fijo\n",
    "def metodo_fijo(mT):\n",
    "    return mT - magne(mT)\n",
    "met_punto = optimize.fixed_point(metodo_fijo,1.5)\n",
    "print(f\"La sulución con el punto fijo es {met_punto:.3}\")\n",
    "print(\"===============================================================================\")\n",
    "plt.plot(mT,mag(mT,T0))\n",
    "plt.ylabel(\"mag\")\n",
    "plt.xlabel(\"T\")\n",
    "plt.title(\"Mag vs T\")\n",
    "plt.grid()"
   ]
  },
  {
   "cell_type": "markdown",
   "id": "a09038e0-ce32-4ebe-aa58-9fa803769db0",
   "metadata": {},
   "source": [
    "### Construccion de magnetisación con 10 valores"
   ]
  },
  {
   "cell_type": "code",
   "execution_count": null,
   "id": "43073de2-1200-41b1-8aa7-b33c63174f98",
   "metadata": {},
   "outputs": [],
   "source": [
    "t1 = np.linspace(0.1,0.9,100)\n",
    "def tem_(t):\n",
    "    return np.array([t])\n",
    "\n",
    "def meto(f,x0,args):\n",
    "    s = optimize.newton(f,x0, args=args)\n",
    "    return s\n",
    "d = [meto(mag,T0,tem_(i)) for i in t1]\n",
    "plt.plot(t1,d,\"--\", label= \"Magn_simpli\")\n",
    "plt.grid()\n",
    "plt.title(\"Magetización simplificada\")\n",
    "plt.xlabel(\"Tem\")\n",
    "plt.ylabel(\"Mag\")\n",
    "plt.legend()"
   ]
  },
  {
   "cell_type": "markdown",
   "id": "81cd2a46-a228-4b7d-8320-352b8e331dc7",
   "metadata": {},
   "source": [
    "### Construcción del fractal con numpy"
   ]
  },
  {
   "cell_type": "code",
   "execution_count": null,
   "id": "84ee1323-edcc-4dee-82c8-b2c4942d29c3",
   "metadata": {},
   "outputs": [],
   "source": [
    "import numpy as np\n",
    "import matplotlib.pylab as plt\n",
    "from PIL import Image\n",
    "\n",
    "Npx_X = 80 #Numero de pixeles en x\n",
    "Npx_Y = 80 #Numero de pixeles en y\n",
    "\n",
    "image = Image.new(\"RGB\", (Npx_X, Npx_Y)) #Creacion de la imagen inicial\n",
    "\n",
    "npx = np.arange(0, Npx_X)\n",
    "npy = np.arange(0, Npx_Y)\n",
    "\n",
    "xmin = -1\n",
    "xmax = 1\n",
    "ymin = -1\n",
    "ymax = 1\n",
    "#Transformación al plano complejo en un rectangulo (xmin, xmax), (ymin, ymax)\n",
    "zx = npx * (xmax - xmin) / (Npx_X - 1)   + xmin\n",
    "zy = npy * (ymax-ymin) / (Npx_Y - 1) + ymin\n",
    "\n",
    "#Definicion  la funcion y las derivada \n",
    "def f(z): \n",
    "  return z**3 - 1\n",
    "\n",
    "def fp(z): \n",
    "  return 3*z**2\n",
    "\n",
    "h = 1E-4\n",
    "def fpn(z, h): \n",
    "  return (f(z+h)-f(z))/h\n",
    "\n",
    "\n",
    "a = 0.2\n",
    "Niteraciones = 120\n",
    "eps = 1E-8\n",
    "\n",
    "x = - 1\n",
    "for zx_ in zx:\n",
    "  x = x + 1 \n",
    "  y = -1\n",
    "  for zy_ in zy: \n",
    "      y = y + 1\n",
    "      Z_0 = complex(zx_, zy_)\n",
    "\n",
    "      for i in range(0, Niteraciones): \n",
    "        Z = Z_0 - a * f(Z_0)/fp(Z_0)\n",
    "\n",
    "        if( abs(Z-Z_0)<= eps):\n",
    "          break \n",
    "\n",
    "        Z_0 = Z\n",
    "      #print(i)\n",
    "      #print(i)\n",
    "      r, g, b = i % 4 *64 , i % 8 *16, i% 16* 16\n",
    "\n",
    "      image.putpixel((x,y), (r,g,b) )\n",
    "\n",
    "\n",
    "plt.imshow(image)\n",
    "#plt.xlim(400, 600)\n",
    "#plt.ylim(400, 523)"
   ]
  },
  {
   "cell_type": "code",
   "execution_count": null,
   "id": "0dc42b2b-5dcc-4bec-8f89-072f057a4c6b",
   "metadata": {},
   "outputs": [],
   "source": []
  },
  {
   "cell_type": "code",
   "execution_count": null,
   "id": "d645a631-38f8-483b-86e6-a21eada5291a",
   "metadata": {},
   "outputs": [],
   "source": []
  }
 ],
 "metadata": {
  "kernelspec": {
   "display_name": "Python 3 (ipykernel)",
   "language": "python",
   "name": "python3"
  },
  "language_info": {
   "codemirror_mode": {
    "name": "ipython",
    "version": 3
   },
   "file_extension": ".py",
   "mimetype": "text/x-python",
   "name": "python",
   "nbconvert_exporter": "python",
   "pygments_lexer": "ipython3",
   "version": "3.9.12"
  }
 },
 "nbformat": 4,
 "nbformat_minor": 5
}
