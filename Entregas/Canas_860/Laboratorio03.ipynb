{
 "cells": [
  {
   "cell_type": "code",
   "execution_count": 93,
   "id": "02e4a469-7aa3-4970-ae50-bf273e1fc42a",
   "metadata": {},
   "outputs": [],
   "source": [
    "import numpy as np\n",
    "import matplotlib.pylab as plt\n",
    "import pandas as pd\n",
    "import math as mt"
   ]
  },
  {
   "cell_type": "markdown",
   "id": "7235220d-6132-4af2-9f3e-0d80a817e139",
   "metadata": {},
   "source": [
    "## Primer punto:\n",
    "\n",
    "- Write a program that calculates $ e^{-x}$\n",
    "$$ e^{-x} = \\sum_{n=0}^{N}{(-1)^{n} \\frac{x^n}{n!}}{}$$"
   ]
  },
  {
   "cell_type": "code",
   "execution_count": 94,
   "id": "69ffc26b-9110-48b3-85c9-b3f6be3a1ebc",
   "metadata": {},
   "outputs": [],
   "source": [
    "#Se define el argumento de la serie.\n",
    "def exp_terms(x,i): \n",
    "    return (-x)**i/mt.factorial(i)\n",
    "\n",
    "#Se define la función e^(-x) como una serie \n",
    "def exp_sum(x,N):\n",
    "    an = 0\n",
    "    for n in range(N+1):\n",
    "        an += exp_terms(x,n)\n",
    "    return an \n",
    "#Función dada por la librería Numpy\n",
    "ex = lambda x: 1/ np.exp(x)\n",
    "#=================================================================================================="
   ]
  },
  {
   "cell_type": "markdown",
   "id": "9152e08f-e8e9-488f-a5c9-a166a04e510e",
   "metadata": {},
   "source": [
    "## Segundo punto\n",
    "Para hallar el valor de N se utiliza la siguiente expresión:\n",
    "$$ \\left| \\frac{(-x)^{N+1}}{(N+1)!} \\right| \\leqslant \\left| \\sum_{n=0}^{N} {10^{-7}{\\frac{(-x)^{n}}{n!}}} \\right|  $$"
   ]
  },
  {
   "cell_type": "code",
   "execution_count": 95,
   "id": "30678e5a-6df6-43f6-8d82-30df3ac54547",
   "metadata": {},
   "outputs": [
    {
     "name": "stdout",
     "output_type": "stream",
     "text": [
      "6\n"
     ]
    }
   ],
   "source": [
    "# Halla el valor de N\n",
    "def Max_Val_Exp(x):\n",
    "    N = 0\n",
    "    while np.abs(exp_terms(x,N+1)/exp_sum(x,N)) >= 10**(-7):\n",
    "        N = N + 1\n",
    "    return N\n",
    "\n",
    "#Considerando valores para los cuales x es menor de 1:\n",
    "x = 0.3\n",
    "N = Max_Val_Exp(x)\n",
    "print(N)"
   ]
  },
  {
   "cell_type": "code",
   "execution_count": 96,
   "id": "862399b4-3166-42e9-92a7-c8874a2c5c73",
   "metadata": {},
   "outputs": [
    {
     "name": "stdout",
     "output_type": "stream",
     "text": [
      "\n",
      "==================================================================================== \n",
      "\n",
      "El valor obtenido con la serie para 0.3 es ---> 0.7408182624999999\n",
      "\n",
      "==================================================================================== \n",
      "\n",
      "El valor obtenido por la librería Numpy es : ---> 0.7408182206817179\n",
      "\n",
      "==================================================================================== \n",
      "\n",
      "El error absoluto es ---> 4.1818282059402634e-08\n",
      "El error relativo es: ---> 5.64487763555822e-08\n",
      "\n",
      "==================================================================================== \n",
      "\n"
     ]
    }
   ],
   "source": [
    "\"\"\"\n",
    "Tomemos el valor para N = 6 iteariones y lo comparamos\n",
    "con el valor entregado por la librería de Numpy\n",
    "\"\"\"\n",
    "#mx = et\n",
    "#mxf = es\n",
    "\n",
    "e_et = exp_sum(x,N)\n",
    "e_es = mt.exp(-x)\n",
    "print(\"\\n==================================================================================== \\n\")\n",
    "\n",
    "print(f\"El valor obtenido con la serie para {x} es ---> {e_et}\")\n",
    "\n",
    "print(\"\\n==================================================================================== \\n\")\n",
    "\n",
    "print(f\"El valor obtenido por la librería Numpy es : ---> {e_es}\")\n",
    "\n",
    "print(\"\\n==================================================================================== \\n\")\n",
    "\n",
    "\n",
    "#Se halla el error absoluto y relativo, considerando el valor entregado por Numpy como el valor real\n",
    "#Se define las funciones valor absoluto y relativo\n",
    "def Err_abs(valt,valc):\n",
    "    return np.abs(valt - valc)\n",
    "def Err_el(valt,valc):\n",
    "    return np.abs(valt - valc)/valt\n",
    "\n",
    "print(f\"El error absoluto es ---> {Err_abs(e_es,e_et)}\")\n",
    "print(f\"El error relativo es: ---> {Err_el(e_es,e_et)}\")\n",
    "print(\"\\n==================================================================================== \\n\")"
   ]
  },
  {
   "cell_type": "markdown",
   "id": "a9ee22ad-673f-4600-b5bb-9b58cbff88a4",
   "metadata": {},
   "source": [
    "## Tercer punto"
   ]
  },
  {
   "cell_type": "code",
   "execution_count": 97,
   "id": "6cb2b01a-2897-487a-acf4-60f46924248a",
   "metadata": {},
   "outputs": [
    {
     "name": "stdout",
     "output_type": "stream",
     "text": [
      "\n",
      "==================================================================================== \n",
      "\n",
      "El número de iteraciones necesarias para hallar el valor de  x = 9.89, es de 45 iteraciones\n",
      "\n",
      "==================================================================================== \n",
      "\n",
      "La función evaluada en 9.89 da un valor de ---> 5.0678945089249e-05\n",
      "\n",
      "==================================================================================== \n",
      "\n",
      "El error absoluto es: ---> 9.049858437507399e-13\n",
      "El error relativo es: ---> 1.7857234912772055e-08\n",
      "\n",
      "==================================================================================== \n",
      "\n"
     ]
    }
   ],
   "source": [
    "# Se toma un valor cercano a 10\n",
    "x2 = 9.89\n",
    "\n",
    "# Se halla el número de iteraciones\n",
    "N = Max_Val_Exp(x2)\n",
    "print(\"\\n==================================================================================== \\n\")\n",
    "\n",
    "print(f\"El número de iteraciones necesarias para hallar el valor de  x = {x2}, es de {N} iteraciones\")\n",
    "\n",
    "print(\"\\n==================================================================================== \\n\")\n",
    "\n",
    "def exp_sum1(x,N):\n",
    "    an = 0\n",
    "    for n in range(N+1):\n",
    "        an += exp_terms(x,n)\n",
    "    return an \n",
    "#============================================================================================\n",
    "# Se le asigna variables a los terminos de la serie y de los terminos de la serie\n",
    "e_et1 = exp_sum1(x2,N)\n",
    "e_es1 = mt.exp(-x2)\n",
    "#Se asigna variables para los errores absolutos y estandar\n",
    "abso = erabs(e_es1,e_et1)\n",
    "rela = errel(e_es1,e_et1)\n",
    "#============================================================================================\n",
    "print(f\"La función evaluada en {x2} da un valor de ---> {e_et1}\")\n",
    "\n",
    "print(\"\\n==================================================================================== \\n\")\n",
    "\n",
    "print(f\"El error absoluto es: ---> {abso}\")\n",
    "\n",
    "print(f\"El error relativo es: ---> {rela}\")\n",
    "\n",
    "print(\"\\n==================================================================================== \\n\")"
   ]
  },
  {
   "cell_type": "code",
   "execution_count": 112,
   "id": "51935a33-c902-44ad-b36a-8dee9f366f81",
   "metadata": {},
   "outputs": [
    {
     "name": "stdin",
     "output_type": "stream",
     "text": [
      "Ingresar Algun valor de 1 hasta el 100 10\n"
     ]
    },
    {
     "data": {
      "image/png": "[encoded data removed]",
      "text/plain": [
       "<Figure size 432x288 with 1 Axes>"
      ]
     },
     "metadata": {
      "needs_background": "light"
     },
     "output_type": "display_data"
    },
    {
     "name": "stdout",
     "output_type": "stream",
     "text": [
      "En la grafica se puede observar que hay puntos en los que\n",
      "la serie fluctua y luego de un numero N de iteraciones se normaliza.\n",
      "El valor de x que puede tomar la serie para que no diverga es de x = 67 \n"
     ]
    }
   ],
   "source": [
    "x = float(input(\"Ingresar Algun valor de 1 hasta el 100\"))\n",
    "Nmax = Max_Val_Exp(x)\n",
    "N = np.arange(0,Nmax+1,1)\n",
    "plt.scatter(N,[exp_sum(x,N[i]) for i in range(len(N))])\n",
    "plt.plot(N,[exp_sum(x,N[i]) for i in range(len(N))])\n",
    "plt.hlines(np.exp(-x),0,Nmax, color = \"red\")\n",
    "plt.xlabel(\"N(Iteraciones)\")\n",
    "plt.ylabel(\"S(N)\")\n",
    "plt.grid()\n",
    "plt.show()\n",
    "print(f\"\"\"En la grafica se puede observar que hay puntos en los que\n",
    "la serie fluctua y luego de un numero N de iteraciones se normaliza.\n",
    "El valor de x que puede tomar la serie para que no diverga es de x = 67 \"\"\")"
   ]
  },
  {
   "cell_type": "code",
   "execution_count": null,
   "id": "f6c49f2c-d409-4832-b74b-6e3372897000",
   "metadata": {},
   "outputs": [],
   "source": []
  }
 ],
 "metadata": {
  "kernelspec": {
   "display_name": "Python 3 (ipykernel)",
   "language": "python",
   "name": "python3"
  },
  "language_info": {
   "codemirror_mode": {
    "name": "ipython",
    "version": 3
   },
   "file_extension": ".py",
   "mimetype": "text/x-python",
   "name": "python",
   "nbconvert_exporter": "python",
   "pygments_lexer": "ipython3",
   "version": "3.9.12"
  }
 },
 "nbformat": 4,
 "nbformat_minor": 5
}
