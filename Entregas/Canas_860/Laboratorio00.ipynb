{
 "cells": [
  {
   "cell_type": "markdown",
   "id": "64a9908c-194b-4d6c-b747-5873b3921089",
   "metadata": {},
   "source": [
    "## Tallar 0.0 de métodos computacionales para físicos y astrónomos "
   ]
  },
  {
   "cell_type": "markdown",
   "id": "592e685f-5b34-4771-8ad2-0623f7940b60",
   "metadata": {},
   "source": [
    "Eleborar un algoritmo e implementar en python, el factorial de un número entero $n$ ingresando por el usuario"
   ]
  },
  {
   "cell_type": "code",
   "execution_count": 30,
   "id": "b70c3b9a-5056-43a2-9805-e5f068402ad3",
   "metadata": {},
   "outputs": [],
   "source": [
    "import numpy as np"
   ]
  },
  {
   "cell_type": "code",
   "execution_count": 31,
   "id": "331fc1bb-8e25-49cf-919b-8a8e3ce9ac9c",
   "metadata": {},
   "outputs": [],
   "source": [
    "#Definimos la funcion factorial\n",
    "def Factorial(n):\n",
    "    \"\"\"\n",
    "    n = Valor que se desea falcular\n",
    "    \"\"\"\n",
    "    if n == 0 or n ==1 : #Condiciones para los valores de 0,1\n",
    "        return 1\n",
    "    else:\n",
    "        for i in range(1,n): #Ciclo for que determina el factorial de n\n",
    "            n = n*i\n",
    "    return n "
   ]
  },
  {
   "cell_type": "code",
   "execution_count": 32,
   "id": "053b04b9-a575-465c-8c0a-13f5b80b3b9c",
   "metadata": {},
   "outputs": [
    {
     "name": "stdin",
     "output_type": "stream",
     "text": [
      "Ingresar el valor de n 2\n"
     ]
    },
    {
     "data": {
      "text/plain": [
       "2"
      ]
     },
     "execution_count": 32,
     "metadata": {},
     "output_type": "execute_result"
    }
   ],
   "source": [
    "n = int(input(f\"Ingresar el valor de n\"))\n",
    "Factorial(n)"
   ]
  },
  {
   "cell_type": "markdown",
   "id": "df34cdea-3e57-4fc0-a47c-d74f71cb8792",
   "metadata": {},
   "source": [
    "## Diseñar un programa que lea dos numero a y b y diga que tipo de numero son, de a cuerdo a la siguiente clasificación"
   ]
  },
  {
   "cell_type": "markdown",
   "id": "f8ec2c6a-bd25-4cda-b76c-aad8e5eccb28",
   "metadata": {},
   "source": [
    "- Números defectivos : la suma de los divisores propios es menor que el número.\n",
    "- Números abundantes: la suma de los divisores es mayor que el número.\n",
    "- Números amigos a y b tales que a es la suma de los divisores propios de b y viceversa.\n",
    "- Números semiperfectos la suma de todos o algunos de los divisores propios es igual al número.\n",
    "- Números perfectos la suma de todos sus divisores propios, excepto el mismo numero, es igual al número.\n",
    "- Números primos el número es divisible unicamente por sí mismo y por 1.\n",
    "\n"
   ]
  },
  {
   "cell_type": "code",
   "execution_count": null,
   "id": "044d08ae-62be-40c8-b32d-f0c2521ca35e",
   "metadata": {},
   "outputs": [],
   "source": []
  },
  {
   "cell_type": "code",
   "execution_count": null,
   "id": "3a8a46a7-c6b0-496e-a5c3-ea87d948c5e4",
   "metadata": {},
   "outputs": [],
   "source": []
  },
  {
   "cell_type": "code",
   "execution_count": 33,
   "id": "a75a6c53-c54f-4e40-964c-01c6da2d2a62",
   "metadata": {},
   "outputs": [],
   "source": [
    "def clasificacion(a,b):\n",
    "    \"\"\"\n",
    "    Parametros \n",
    "    a:número \n",
    "    b: \n",
    "    \"\"\"\n",
    "    c = []\n",
    "    d = []\n",
    "    for i in range(1,a):\n",
    "        if a%i == 0:\n",
    "            c.append(i)\n",
    "    for k in range(1,b):\n",
    "        if b%k == 0:\n",
    "            d.append(k)\n",
    "    if sum(c) < a:\n",
    "        print(f\"El número {a} es defectivo\")\n",
    "    elif sum(c) > a:\n",
    "        print(f\"El número {a} es abundante\")\n",
    "    if sum(d) < b:\n",
    "        print(f\"El número {b} es defectivo\")\n",
    "    elif sum(d) > b:\n",
    "        print(f\"El número {b} es abundante\")\n",
    "        \n",
    "\n",
    "    if sum(c) == b and sum(d) == a:\n",
    "        print((f\"El número {a} y {b} son amigos\"))\n",
    "    if sum(c) == a:\n",
    "        print(f\"El número {a} es perfecto\")\n",
    "    if sum(d) == d:\n",
    "        print(f\"El número {b} es perfecto\")\n",
    "        \n",
    "    return c,d"
   ]
  },
  {
   "cell_type": "code",
   "execution_count": 34,
   "id": "2ec0f58b-4377-4562-957f-2c68b3831f7f",
   "metadata": {},
   "outputs": [
    {
     "name": "stdout",
     "output_type": "stream",
     "text": [
      "El número 3 es defectivo\n",
      "El número 6 es perfecto\n"
     ]
    },
    {
     "data": {
      "text/plain": [
       "([1, 2, 3], [1])"
      ]
     },
     "execution_count": 34,
     "metadata": {},
     "output_type": "execute_result"
    }
   ],
   "source": [
    "clasificacion(6,3)"
   ]
  },
  {
   "cell_type": "markdown",
   "id": "1b9cbfab-60cc-4af7-bdfa-7cdff6bd0a06",
   "metadata": {},
   "source": [
    "## Determinar si el número $N$ e sun palíndromo"
   ]
  },
  {
   "cell_type": "code",
   "execution_count": 43,
   "id": "970c9a3a-41cb-4399-88e8-805ce01562cc",
   "metadata": {},
   "outputs": [
    {
     "name": "stdin",
     "output_type": "stream",
     "text": [
      "Ingresar número 23\n"
     ]
    },
    {
     "name": "stdout",
     "output_type": "stream",
     "text": [
      "El número ingresado no es un palindromo (FALSE)\n"
     ]
    },
    {
     "data": {
      "text/plain": [
       "['2', '3']"
      ]
     },
     "execution_count": 43,
     "metadata": {},
     "output_type": "execute_result"
    }
   ],
   "source": [
    "c = input(\"Ingresar número\")\n",
    "def digitos(m):\n",
    "    b = []\n",
    "    for i in m:\n",
    "        b.append(i)\n",
    "    if b[::] == b[::-1]:\n",
    "        print(\"El número es un palingromo (TRUE)\")\n",
    "    else:\n",
    "        print(\"El número ingresado no es un palindromo (FALSE)\")\n",
    "    return b\n",
    "digitos(c)"
   ]
  },
  {
   "cell_type": "markdown",
   "id": "a7ce8519-52d9-4733-9ae2-c65b25f61353",
   "metadata": {},
   "source": [
    "## Dada una cadena de caracteres, entregar una lista donde se retorne:"
   ]
  },
  {
   "cell_type": "code",
   "execution_count": 44,
   "id": "0e6e949a-b2f6-40f6-8f83-c00a1b143dd8",
   "metadata": {},
   "outputs": [
    {
     "name": "stdin",
     "output_type": "stream",
     "text": [
      "Ingresar palabra hola\n"
     ]
    }
   ],
   "source": [
    "voc = [\"a\",\"e\",\"i\",\"o\",\"u\"]\n",
    "p = input(\"Ingresar palabra\")\n",
    "def separar(p):\n",
    "    \"p = palabra que ingresa\"\n",
    "    b = []\n",
    "    # Se separac cada letra y se guarda en una lista\n",
    "    for i in range(0,len(p)):\n",
    "        b.append(p[i])\n",
    "    return b\n",
    "s = separar(p)"
   ]
  },
  {
   "cell_type": "code",
   "execution_count": 45,
   "id": "dd21efdd-7693-47b4-a37b-b7391ae411f8",
   "metadata": {},
   "outputs": [
    {
     "name": "stdout",
     "output_type": "stream",
     "text": [
      "['o']\n",
      "El número de vocales que tiene la palabra hola es --> 2\n",
      "En la palabra hola hay 2 --> consonantes\n",
      "La palabra invertida de hola es --> aloh\n"
     ]
    }
   ],
   "source": [
    "#============================================================================================\n",
    "k = len(s)//2\n",
    "# Se crea un ciclo for para seleccionar los indices que corresponden a la palabra que está en la mitad\n",
    "for i in range(0,k):\n",
    "    if len(s) % 2 == 0:\n",
    "        q = s[i:i+2]\n",
    "    else:\n",
    "        h = s[i+1]\n",
    "        \n",
    "list1 = voc\n",
    "list2 = q\n",
    "\n",
    "list3 = []\n",
    "\n",
    "for i in range(len(list2)):\n",
    "    if list2[i] not in list1:\n",
    "        pass\n",
    "    else :\n",
    "        list3.append(list2[i])\n",
    "print (list3)\n",
    "#============================================================================================        \n",
    "def num_voc(p1):\n",
    "    \n",
    "    \"\"\"\n",
    "    La función cuenta las vocales y muestra la cantidad sin repetir\n",
    "    \"\"\"\n",
    "    \n",
    "    vocales = \"aeiou\"\n",
    "    # Se construye una lista que separe cada palabra y la guarde en otra lista\n",
    "    u = set([c for c in p1 if c in vocales])\n",
    "    return u\n",
    "l1 = len(num_voc(p))\n",
    "print(f\"El número de vocales que tiene la palabra {p} es --> {l1}\")\n",
    "#============================================================================================\n",
    "def vocal(letra):\n",
    "    # Se defidine las vocales para comparar\n",
    "    return letra in \"aeiou\"\n",
    "cons = 0\n",
    "# Se construye un contador para sumer los elementos que son distintos a las voacales \n",
    "for k in p:\n",
    "    if k.isalpha() and not vocal(k):\n",
    "        cons += 1\n",
    "print(f\"En la palabra {p} hay {cons} --> consonantes\")\n",
    "#============================================================================================\n",
    "\n",
    "# Invertir la palabra\n",
    "s1 = s[::-1]\n",
    "acumular = \"\"\n",
    "for letra in s1:\n",
    "    acumular += str(letra)\n",
    "print(f\"La palabra invertida de {p} es --> {acumular}\")"
   ]
  },
  {
   "cell_type": "code",
   "execution_count": 40,
   "id": "4e038e64-a8ff-4c99-85eb-d01065603613",
   "metadata": {},
   "outputs": [
    {
     "data": {
      "text/plain": [
       "[2, 2, 'aloh']"
      ]
     },
     "execution_count": 40,
     "metadata": {},
     "output_type": "execute_result"
    }
   ],
   "source": [
    "s2 = [l1,cons,acumular]\n",
    "s2"
   ]
  },
  {
   "cell_type": "markdown",
   "id": "d74c1eec-9f38-4046-a89a-e0ce3650960d",
   "metadata": {},
   "source": [
    "## Secuencia de fibonacci"
   ]
  },
  {
   "cell_type": "code",
   "execution_count": 46,
   "id": "86b8eeb6-c6e0-48b3-828b-73cd9d3759d2",
   "metadata": {},
   "outputs": [],
   "source": [
    "def sec_fib(n):\n",
    "    if (n == 0):\n",
    "        return 0\n",
    "    elif (n == 1):\n",
    "        return 1\n",
    "    else:\n",
    "        return (sec_fib(n-2) + sec_fib(n-1))"
   ]
  },
  {
   "cell_type": "code",
   "execution_count": 47,
   "id": "ae58faf2-82e1-4bf9-bd5a-5338240464ac",
   "metadata": {},
   "outputs": [
    {
     "name": "stdin",
     "output_type": "stream",
     "text": [
      "Ingresar un número 10\n"
     ]
    },
    {
     "name": "stdout",
     "output_type": "stream",
     "text": [
      "Al termino de la secuencia 0 le corresponde el valor de  --> 0\n",
      "Al termino de la secuencia 1 le corresponde el valor de  --> 1\n",
      "Al termino de la secuencia 2 le corresponde el valor de  --> 1\n",
      "Al termino de la secuencia 3 le corresponde el valor de  --> 2\n",
      "Al termino de la secuencia 4 le corresponde el valor de  --> 3\n",
      "Al termino de la secuencia 5 le corresponde el valor de  --> 5\n",
      "Al termino de la secuencia 6 le corresponde el valor de  --> 8\n",
      "Al termino de la secuencia 7 le corresponde el valor de  --> 13\n",
      "Al termino de la secuencia 8 le corresponde el valor de  --> 21\n",
      "Al termino de la secuencia 9 le corresponde el valor de  --> 34\n",
      "Al termino de la secuencia 10 le corresponde el valor de  --> 55\n"
     ]
    }
   ],
   "source": [
    "n = int(input(\"Ingresar un número\"))\n",
    "for k in range(0,n+1):\n",
    "    print(f\"Al termino de la secuencia {k} le corresponde el valor de  --> {sec_fib(k)}\")"
   ]
  },
  {
   "cell_type": "markdown",
   "id": "e859c1c9-6c1f-48cb-95b4-451d6a26e36d",
   "metadata": {},
   "source": [
    "## Reodernamiento de una lista"
   ]
  },
  {
   "cell_type": "code",
   "execution_count": 56,
   "id": "c14e46db-20f1-4ca1-853a-ec303f90e370",
   "metadata": {},
   "outputs": [
    {
     "name": "stdout",
     "output_type": "stream",
     "text": [
      "[0, 11, 12, 12, 12, 22, 22, 22, 24, 31, 31, 32, 41, 42, 232]\n"
     ]
    }
   ],
   "source": [
    "# Se define la lista\n",
    "lista = [22, 32, 42, 12, 22, 31, 41, 11, 12, 232, 24, 12, 22,0,31]\n",
    "#Se crea el ciclo for que recorre \n",
    "for recorrido in range(1,len(lista)):\n",
    "    for posicion in range(len(lista)-recorrido):\n",
    "        if lista[posicion] > lista[posicion+1]:\n",
    "            temp = lista[posicion]\n",
    "            lista[posicion] = lista[posicion+1]\n",
    "            lista[posicion+1] = temp\n",
    "            \n",
    "print(lista)"
   ]
  },
  {
   "cell_type": "code",
   "execution_count": null,
   "id": "eff8ad8c-07f5-4f98-96fa-93c626b73a6c",
   "metadata": {},
   "outputs": [],
   "source": []
  }
 ],
 "metadata": {
  "kernelspec": {
   "display_name": "Python 3 (ipykernel)",
   "language": "python",
   "name": "python3"
  },
  "language_info": {
   "codemirror_mode": {
    "name": "ipython",
    "version": 3
   },
   "file_extension": ".py",
   "mimetype": "text/x-python",
   "name": "python",
   "nbconvert_exporter": "python",
   "pygments_lexer": "ipython3",
   "version": "3.9.12"
  }
 },
 "nbformat": 4,
 "nbformat_minor": 5
}
