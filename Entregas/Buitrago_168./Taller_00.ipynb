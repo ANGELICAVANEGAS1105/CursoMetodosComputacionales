{
  "nbformat": 4,
  "nbformat_minor": 0,
  "metadata": {
    "colab": {
      "name": "Taller_00.ipynb",
      "provenance": []
    },
    "kernelspec": {
      "name": "python3",
      "display_name": "Python 3"
    },
    "language_info": {
      "name": "python"
    }
  },
  "cells": [
    {
      "cell_type": "code",
      "execution_count": 23,
      "metadata": {
        "colab": {
          "base_uri": "https://localhost:8080/"
        },
        "id": "ZN0UDF4JWf7L",
        "outputId": "ac8838ed-2e65-45b2-b7ca-cef8a93b6723"
      },
      "outputs": [
        {
          "output_type": "stream",
          "name": "stdout",
          "text": [
            "12\n",
            "El factorial de 12 es 479001600\n"
          ]
        }
      ],
      "source": [
        "fac=1\n",
        "\n",
        "x=int(input())\n",
        "\n",
        "if x < 0:\n",
        "  print(\"El factorial no existe para numerosa negativos, intente de nuevo.\")\n",
        "\n",
        "for i in range(1,x + 1):\n",
        "       fac = fac*i\n",
        "print(\"El factorial de\",x,\"es\",fac)"
      ]
    }
  ]
}