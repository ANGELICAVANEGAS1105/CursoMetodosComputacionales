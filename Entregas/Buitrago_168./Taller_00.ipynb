{
  "nbformat": 4,
  "nbformat_minor": 0,
  "metadata": {
    "colab": {
      "name": "Taller_00.ipynb",
      "provenance": []
    },
    "kernelspec": {
      "name": "python3",
      "display_name": "Python 3"
    },
    "language_info": {
      "name": "python"
    }
  },
  "cells": [
    {
      "cell_type": "code",
      "execution_count": 15,
      "metadata": {
        "colab": {
          "base_uri": "https://localhost:8080/"
        },
        "id": "ZN0UDF4JWf7L",
        "outputId": "e585fa92-cdb6-4099-fb12-15996b3bd30d"
      },
      "outputs": [
        {
          "output_type": "stream",
          "name": "stdout",
          "text": [
            "-3\n",
            "El factorial no existe para numerosa negativos, intente de nuevo.\n",
            "El factorial de -3 es 1\n"
          ]
        }
      ],
      "source": [
        "fac=1\n",
        "\n",
        "x=int(input())\n",
        "y=x\n",
        "\n",
        "if x < 0:\n",
        "  print(\"El factorial no existe para numerosa negativos, intente de nuevo.\")\n",
        "\n",
        "  for i in range(1,x + 1):\n",
        "       fac = fac*i\n",
        "print(\"El factorial de\",y,\"es\",fac)"
      ]
    }
  ]
}