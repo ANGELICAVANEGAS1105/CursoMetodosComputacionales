{
  "nbformat": 4,
  "nbformat_minor": 0,
  "metadata": {
    "colab": {
      "provenance": []
    },
    "kernelspec": {
      "name": "python3",
      "display_name": "Python 3"
    },
    "language_info": {
      "name": "python"
    }
  },
  "cells": [
    {
      "cell_type": "code",
      "execution_count": 1,
      "metadata": {
        "id": "VsNsajOABSj5"
      },
      "outputs": [],
      "source": [
        "import numpy as np\n",
        "import sympy as sy\n",
        "import pandas as pd\n",
        "import matplotlib.pyplot as plt\n"
      ]
    },
    {
      "cell_type": "code",
      "source": [
        "np.random.seed(1)\n",
        "X = np.random.randint(0,55,(6,6))\n",
        "X"
      ],
      "metadata": {
        "colab": {
          "base_uri": "https://localhost:8080/"
        },
        "id": "NKQTsihDBp3B",
        "outputId": "dae76202-4e62-48a1-f7cc-8d60c75f4230"
      },
      "execution_count": 2,
      "outputs": [
        {
          "output_type": "execute_result",
          "data": {
            "text/plain": [
              "array([[37, 43, 12,  8,  9, 11],\n",
              "       [ 5, 15,  0, 16,  1, 12],\n",
              "       [ 7, 45,  6, 25, 50, 20],\n",
              "       [37, 18, 20, 11, 42, 28],\n",
              "       [29, 14, 50,  4, 23, 23],\n",
              "       [41, 49, 30, 32, 22, 13]])"
            ]
          },
          "metadata": {},
          "execution_count": 2
        }
      ]
    },
    {
      "cell_type": "code",
      "source": [
        "X[0]"
      ],
      "metadata": {
        "colab": {
          "base_uri": "https://localhost:8080/"
        },
        "id": "vFuhorNIBz5a",
        "outputId": "360dcdb3-6a40-45fa-9d0c-fc12944920a3"
      },
      "execution_count": 3,
      "outputs": [
        {
          "output_type": "execute_result",
          "data": {
            "text/plain": [
              "array([37, 43, 12,  8,  9, 11])"
            ]
          },
          "metadata": {},
          "execution_count": 3
        }
      ]
    },
    {
      "cell_type": "code",
      "source": [
        "X[2:,2:]"
      ],
      "metadata": {
        "colab": {
          "base_uri": "https://localhost:8080/"
        },
        "id": "QfOB4XPrB977",
        "outputId": "6e668d02-f436-430f-c8a7-30a7b6b0d115"
      },
      "execution_count": 4,
      "outputs": [
        {
          "output_type": "execute_result",
          "data": {
            "text/plain": [
              "array([[ 6, 25, 50, 20],\n",
              "       [20, 11, 42, 28],\n",
              "       [50,  4, 23, 23],\n",
              "       [30, 32, 22, 13]])"
            ]
          },
          "metadata": {},
          "execution_count": 4
        }
      ]
    },
    {
      "cell_type": "code",
      "source": [
        "N = 10\n",
        "x1 = np.linspace(-1, 1, N)\n",
        "y = 2*x1 #- 3*x2 + 0.0\n",
        "df = pd.DataFrame({\"Y\":y, \"X1\":x1})\n",
        "\n",
        "df[\"ones\"] = np.ones(N)\n",
        "\n",
        "plt.plot(df.X1,df.Y,\"ro\")\n",
        "\n",
        "X = np.matrix(df[ [\"ones\",\"X1\"] ])\n",
        "np.shape(X)\n",
        "y = np.array([df[\"Y\"]])\n",
        "Y  = np.matrix(np.transpose(y))\n",
        "np.shape(Y)"
      ],
      "metadata": {
        "colab": {
          "base_uri": "https://localhost:8080/",
          "height": 283
        },
        "id": "BQn5ZHREGPVE",
        "outputId": "f2cd6a40-6b9e-4467-b498-76f63b334e8a"
      },
      "execution_count": 5,
      "outputs": [
        {
          "output_type": "execute_result",
          "data": {
            "text/plain": [
              "(10, 1)"
            ]
          },
          "metadata": {},
          "execution_count": 5
        },
        {
          "output_type": "display_data",
          "data": {
            "text/plain": [
              "<Figure size 432x288 with 1 Axes>"
            ],
            "image/png": "[encoded data removed]"
          },
          "metadata": {
            "needs_background": "light"
          }
        }
      ]
    },
    {
      "cell_type": "code",
      "source": [
        "X"
      ],
      "metadata": {
        "colab": {
          "base_uri": "https://localhost:8080/"
        },
        "id": "haOeZEIWJ6Ow",
        "outputId": "e1370f52-c118-4a2b-c233-7f0bf9a8258b"
      },
      "execution_count": 6,
      "outputs": [
        {
          "output_type": "execute_result",
          "data": {
            "text/plain": [
              "matrix([[ 1.        , -1.        ],\n",
              "        [ 1.        , -0.77777778],\n",
              "        [ 1.        , -0.55555556],\n",
              "        [ 1.        , -0.33333333],\n",
              "        [ 1.        , -0.11111111],\n",
              "        [ 1.        ,  0.11111111],\n",
              "        [ 1.        ,  0.33333333],\n",
              "        [ 1.        ,  0.55555556],\n",
              "        [ 1.        ,  0.77777778],\n",
              "        [ 1.        ,  1.        ]])"
            ]
          },
          "metadata": {},
          "execution_count": 6
        }
      ]
    },
    {
      "cell_type": "code",
      "source": [
        "XT=X.T\n",
        "XT"
      ],
      "metadata": {
        "colab": {
          "base_uri": "https://localhost:8080/"
        },
        "id": "KX86csoXKGVX",
        "outputId": "28962fb0-d2c2-4e7d-a323-57491dd8ec8d"
      },
      "execution_count": 7,
      "outputs": [
        {
          "output_type": "execute_result",
          "data": {
            "text/plain": [
              "matrix([[ 1.        ,  1.        ,  1.        ,  1.        ,  1.        ,\n",
              "          1.        ,  1.        ,  1.        ,  1.        ,  1.        ],\n",
              "        [-1.        , -0.77777778, -0.55555556, -0.33333333, -0.11111111,\n",
              "          0.11111111,  0.33333333,  0.55555556,  0.77777778,  1.        ]])"
            ]
          },
          "metadata": {},
          "execution_count": 7
        }
      ]
    },
    {
      "cell_type": "code",
      "source": [
        "XXT=XT@X"
      ],
      "metadata": {
        "id": "NRfevqHbKd8q"
      },
      "execution_count": 8,
      "outputs": []
    },
    {
      "cell_type": "code",
      "source": [
        "XI=XXT.I"
      ],
      "metadata": {
        "id": "jnW1TXJAKjof"
      },
      "execution_count": 9,
      "outputs": []
    },
    {
      "cell_type": "code",
      "source": [
        "Y"
      ],
      "metadata": {
        "colab": {
          "base_uri": "https://localhost:8080/"
        },
        "id": "uDJyLwxOKpOl",
        "outputId": "853e80d1-eaf9-4b30-ff35-28d2a74492f2"
      },
      "execution_count": 10,
      "outputs": [
        {
          "output_type": "execute_result",
          "data": {
            "text/plain": [
              "matrix([[-2.        ],\n",
              "        [-1.55555556],\n",
              "        [-1.11111111],\n",
              "        [-0.66666667],\n",
              "        [-0.22222222],\n",
              "        [ 0.22222222],\n",
              "        [ 0.66666667],\n",
              "        [ 1.11111111],\n",
              "        [ 1.55555556],\n",
              "        [ 2.        ]])"
            ]
          },
          "metadata": {},
          "execution_count": 10
        }
      ]
    },
    {
      "cell_type": "code",
      "source": [
        "THETA=XI@(XT@Y)\n",
        "THETA\n"
      ],
      "metadata": {
        "colab": {
          "base_uri": "https://localhost:8080/"
        },
        "id": "6nRnvUhnKq8E",
        "outputId": "afb98e3d-d276-489b-c480-03480326c851"
      },
      "execution_count": 11,
      "outputs": [
        {
          "output_type": "execute_result",
          "data": {
            "text/plain": [
              "matrix([[-8.8817842e-17],\n",
              "        [ 2.0000000e+00]])"
            ]
          },
          "metadata": {},
          "execution_count": 11
        }
      ]
    },
    {
      "cell_type": "code",
      "source": [
        "N = 200\n",
        "x1 = np.linspace(-1, 1, N) \n",
        "x2 = np.linspace(-1, 1, N)\n",
        "\n",
        "X1, X2 = np.meshgrid(x1,x2)\n",
        "Y = 0.2*X1 - 0.5*X2 - 1.0\n",
        "\n",
        "alpha = 2*np.random.random(N)-1\n",
        "beta  = 2*np.random.random(N)-1\n",
        "x1 = alpha\n",
        "x2 = beta\n",
        "y = 0.2*alpha - 0.5*beta - 1.0\n",
        "\n",
        "fig, ax = plt.subplots(subplot_kw={\"projection\": \"3d\"})\n",
        "surf = ax.scatter(x1, x2, y, color=\"green\")\n",
        "ax.set_xlabel(\"X1\")\n",
        "ax.set_ylabel(\"X2\")\n",
        "ax.set_zlabel(\"Y1\")\n",
        "\n",
        "\n",
        "df = pd.DataFrame({\"Y\":y, \"X1\":x1,\"X2\":x2})\n",
        "df[\"ones\"] = np.ones(N)\n",
        "\n",
        "\n",
        "y = np.reshape(df.Y.values, (N,1))\n",
        "X = df[[\"ones\",\"X1\",\"X2\"]].values\n",
        "X = np.matrix(X)"
      ],
      "metadata": {
        "id": "E3W_AmExNToM",
        "colab": {
          "base_uri": "https://localhost:8080/",
          "height": 248
        },
        "outputId": "75e0d3ba-28bb-4929-8495-6bf52f0a2060"
      },
      "execution_count": 13,
      "outputs": [
        {
          "output_type": "display_data",
          "data": {
            "text/plain": [
              "<Figure size 432x288 with 1 Axes>"
            ],
            "image/png": "[encoded data removed]"
          },
          "metadata": {
            "needs_background": "light"
          }
        }
      ]
    },
    {
      "cell_type": "code",
      "source": [
        "abc=['A','B','C','D','E','F','G','H','I','J','K','L','M','N','O','P','Q','R','S','T','U','V','W','X','Y','Z',' ']\n",
        "num=['1','2','3','4','5','6','7','8','9','10','11','12','13','14','15','16','17','18','19','20','21','22','23','24','25','26','27']"
      ],
      "metadata": {
        "id": "Z1SBYlr0N6Lg"
      },
      "execution_count": 14,
      "outputs": []
    },
    {
      "cell_type": "code",
      "source": [
        "A = np.array([[ 1,  2, -3,  4,  5],\n",
        "        [-2, -5,  8, -8, -9],\n",
        "        [ 1,  2, -2,  7,  9],\n",
        "        [ 1,  1,  0,  6, 12],\n",
        "        [ 2,  4, -6,  8, 11]]).astype(int)"
      ],
      "metadata": {
        "id": "NY3qmUwFOFIZ"
      },
      "execution_count": 15,
      "outputs": []
    },
    {
      "cell_type": "code",
      "source": [
        "B=np.array([[47,49,-19,257,487],\n",
        "             [10,-9,63,137,236],\n",
        "             [79,142,-184,372,536],\n",
        "            [59,70,-40,332,588]]).astype(int)"
      ],
      "metadata": {
        "id": "0oEnVKDROInE"
      },
      "execution_count": 16,
      "outputs": []
    },
    {
      "cell_type": "code",
      "source": [
        "A"
      ],
      "metadata": {
        "colab": {
          "base_uri": "https://localhost:8080/"
        },
        "id": "Yci7vln8OK4x",
        "outputId": "f4fd7c41-753c-4f42-9853-5401173b5f9b"
      },
      "execution_count": 17,
      "outputs": [
        {
          "output_type": "execute_result",
          "data": {
            "text/plain": [
              "array([[ 1,  2, -3,  4,  5],\n",
              "       [-2, -5,  8, -8, -9],\n",
              "       [ 1,  2, -2,  7,  9],\n",
              "       [ 1,  1,  0,  6, 12],\n",
              "       [ 2,  4, -6,  8, 11]])"
            ]
          },
          "metadata": {},
          "execution_count": 17
        }
      ]
    },
    {
      "cell_type": "code",
      "source": [
        "B"
      ],
      "metadata": {
        "colab": {
          "base_uri": "https://localhost:8080/"
        },
        "id": "UhxWGjSHOLUt",
        "outputId": "0fcaf244-2bbb-4940-d236-a52110e23367"
      },
      "execution_count": 18,
      "outputs": [
        {
          "output_type": "execute_result",
          "data": {
            "text/plain": [
              "array([[  47,   49,  -19,  257,  487],\n",
              "       [  10,   -9,   63,  137,  236],\n",
              "       [  79,  142, -184,  372,  536],\n",
              "       [  59,   70,  -40,  332,  588]])"
            ]
          },
          "metadata": {},
          "execution_count": 18
        }
      ]
    },
    {
      "cell_type": "code",
      "source": [
        "AI=np.linalg.inv(A)"
      ],
      "metadata": {
        "id": "8gr2PSoFOLs5"
      },
      "execution_count": 19,
      "outputs": []
    },
    {
      "cell_type": "code",
      "source": [
        "M=(B@AI).round(4).astype(int)\n",
        "M"
      ],
      "metadata": {
        "colab": {
          "base_uri": "https://localhost:8080/"
        },
        "id": "Doj0j6aCOPcx",
        "outputId": "6aff18c3-9ef8-44cf-c024-91659b2eb0ba"
      },
      "execution_count": 20,
      "outputs": [
        {
          "output_type": "execute_result",
          "data": {
            "text/plain": [
              "array([[ 1, 18,  5, 27, 25],\n",
              "       [15, 21, 27,  8,  1],\n",
              "       [22,  9, 14,  7, 27],\n",
              "       [ 6, 21, 14, 27, 27]])"
            ]
          },
          "metadata": {},
          "execution_count": 20
        }
      ]
    },
    {
      "cell_type": "code",
      "source": [
        "cad=\"\"\n",
        "for i in range(0,len(M)):\n",
        "    for j in range(0,len(M[i])):\n",
        "        cad+=abc[M[i][j]-1]   \n",
        "cad"
      ],
      "metadata": {
        "colab": {
          "base_uri": "https://localhost:8080/",
          "height": 36
        },
        "id": "xj3Y_WG5ORoT",
        "outputId": "89d511e3-266a-421c-fbdf-ec805af4770d"
      },
      "execution_count": 21,
      "outputs": [
        {
          "output_type": "execute_result",
          "data": {
            "text/plain": [
              "'ARE YOU HAVING FUN  '"
            ],
            "application/vnd.google.colaboratory.intrinsic+json": {
              "type": "string"
            }
          },
          "metadata": {},
          "execution_count": 21
        }
      ]
    },
    {
      "cell_type": "code",
      "source": [],
      "metadata": {
        "id": "yW1BEM0pOT5Z"
      },
      "execution_count": null,
      "outputs": []
    }
  ]
}