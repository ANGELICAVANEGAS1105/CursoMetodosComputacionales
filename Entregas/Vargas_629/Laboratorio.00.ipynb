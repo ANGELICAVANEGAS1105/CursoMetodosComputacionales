{
 "cells": [
  {
   "cell_type": "code",
   "execution_count": 1,
   "id": "a8120cd2-a01c-4cf4-983d-7995e378b79f",
   "metadata": {},
   "outputs": [],
   "source": [
    "#Factorial."
   ]
  },
  {
   "cell_type": "code",
   "execution_count": 116,
   "id": "33a34711-64f9-4077-8d55-691e28b56179",
   "metadata": {},
   "outputs": [],
   "source": [
    "def factorial(x):\n",
    "    fac=1\n",
    "    y=x\n",
    "    while x>1:\n",
    "        fac*=x\n",
    "        x=x-1\n",
    "    b=\"El factorial de \"+str(y)+\" es \"+str(fac)\n",
    "    return b"
   ]
  },
  {
   "cell_type": "code",
   "execution_count": 117,
   "id": "1ced7ea3-e247-4086-a7f3-536881c842cb",
   "metadata": {},
   "outputs": [
    {
     "name": "stdout",
     "output_type": "stream",
     "text": [
      "Función factorial\n",
      "Ingresa el entero que deseas evaluar\n"
     ]
    },
    {
     "name": "stdin",
     "output_type": "stream",
     "text": [
      " 6\n"
     ]
    },
    {
     "name": "stdout",
     "output_type": "stream",
     "text": [
      "El factorial de 6 es 720\n"
     ]
    }
   ],
   "source": [
    "print(\"Función factorial\")\n",
    "print(\"Ingresa el entero que deseas evaluar\")\n",
    "x=int(input())\n",
    "print(factorial(x))"
   ]
  },
  {
   "cell_type": "code",
   "execution_count": 4,
   "id": "ec1a08f0-45a3-4583-861f-b8785c76c591",
   "metadata": {},
   "outputs": [],
   "source": [
    "#Divisores propios."
   ]
  },
  {
   "cell_type": "code",
   "execution_count": 128,
   "id": "3a9e742c-3f86-49ea-b990-e110583f4e21",
   "metadata": {},
   "outputs": [
    {
     "name": "stdout",
     "output_type": "stream",
     "text": [
      "[1, 2, 4, 5, 10, 11, 20, 22, 44, 55, 110]\n",
      "[1, 2, 4, 71, 142]\n"
     ]
    }
   ],
   "source": [
    "def divisoresp(x):\n",
    "    divisor=[]\n",
    "    for i in range(1,x):\n",
    "        if x%i==0:\n",
    "            divisor.append(i)\n",
    "    return divisor"
   ]
  },
  {
   "cell_type": "code",
   "execution_count": 129,
   "id": "bb2ad5d7-36b6-49a9-ac62-fca6ef42d81e",
   "metadata": {},
   "outputs": [],
   "source": [
    "#Defectivos."
   ]
  },
  {
   "cell_type": "code",
   "execution_count": 130,
   "id": "2a7e2c80-f017-4dfd-85ac-889a0a2e300f",
   "metadata": {},
   "outputs": [
    {
     "data": {
      "text/plain": [
       "(True, False, False, True)"
      ]
     },
     "execution_count": 130,
     "metadata": {},
     "output_type": "execute_result"
    }
   ],
   "source": [
    "def dap(x):\n",
    "    div=divisoresp(x)\n",
    "    defectivo=True\n",
    "    abundante=True\n",
    "    perfecto=True\n",
    "    primo=True\n",
    "    if sum(div)>=x:\n",
    "        defectivo=False\n",
    "    if sum(div)<=x:\n",
    "        abundante=False\n",
    "    if sum(div)!=x:\n",
    "        perfecto=False\n",
    "    if sum(div)!=1:\n",
    "        primo=False\n",
    "    return defectivo, abundante, perfecto, primo"
   ]
  },
  {
   "cell_type": "code",
   "execution_count": 131,
   "id": "dc3b727b-901b-4ad4-8913-65823bcb23a9",
   "metadata": {},
   "outputs": [],
   "source": [
    "#Amigos"
   ]
  },
  {
   "cell_type": "code",
   "execution_count": 132,
   "id": "8ca3c235-829d-4cb4-ac15-54107121154c",
   "metadata": {},
   "outputs": [
    {
     "data": {
      "text/plain": [
       "True"
      ]
     },
     "execution_count": 132,
     "metadata": {},
     "output_type": "execute_result"
    }
   ],
   "source": [
    "def amigos(a,b):\n",
    "    diva=divisoresp(a)\n",
    "    divb=divisoresp(b)\n",
    "    amigos=False\n",
    "    if sum(diva)==b and sum(divb)==a:\n",
    "        amigos=True\n",
    "    return amigos"
   ]
  },
  {
   "cell_type": "code",
   "execution_count": 134,
   "id": "36ddc683-d8be-4387-97db-da5d3b9d564b",
   "metadata": {},
   "outputs": [
    {
     "name": "stdout",
     "output_type": "stream",
     "text": [
      "Ingresa dos enteros:\n"
     ]
    },
    {
     "name": "stdin",
     "output_type": "stream",
     "text": [
      " 24\n",
      " 12\n"
     ]
    },
    {
     "name": "stdout",
     "output_type": "stream",
     "text": [
      "El número 24 es abundante\n",
      "El número 12 es abundante\n"
     ]
    }
   ],
   "source": [
    "print(\"Ingresa dos enteros:\")\n",
    "a=int(input())\n",
    "b=int(input())\n",
    "dapa=dap(a)\n",
    "dapb=dap(b)\n",
    "amigo=amigos(a,b)\n",
    "if amigo==True:\n",
    "    print(f'{a} y {b} son números amigos')\n",
    "lista=[\"defectivo\",\"abundante\",\"perfecto\",\"primo\"]\n",
    "for i in range(len(dapa)):\n",
    "    if dapa[i]==True:\n",
    "        print(f'El número {a} es {lista[i]}')\n",
    "for i in range(len(dapb)):\n",
    "    if dapb[i]==True:\n",
    "        print(f'El número {b} es {lista[i]}')\n",
    "              "
   ]
  },
  {
   "cell_type": "code",
   "execution_count": 46,
   "id": "54183ded-0c0f-4329-a0e4-50ab21c842f0",
   "metadata": {},
   "outputs": [],
   "source": [
    "#Palíndromo"
   ]
  },
  {
   "cell_type": "code",
   "execution_count": 148,
   "id": "ea137829-4a96-41dc-8379-d3fa34015f2a",
   "metadata": {},
   "outputs": [],
   "source": [
    "def palindromo(x):\n",
    "    x=str(x)\n",
    "    y=x[::-1]\n",
    "    palindromo=False\n",
    "    if y==x:\n",
    "        palindromo=True\n",
    "    return palindromo"
   ]
  },
  {
   "cell_type": "code",
   "execution_count": 150,
   "id": "fd5f5cc8-8a90-4d29-9d04-4815c2c63e93",
   "metadata": {},
   "outputs": [
    {
     "name": "stdout",
     "output_type": "stream",
     "text": [
      "Ingresa el número que deseas evaluar:\n"
     ]
    },
    {
     "name": "stdin",
     "output_type": "stream",
     "text": [
      " 1234321\n"
     ]
    },
    {
     "name": "stdout",
     "output_type": "stream",
     "text": [
      "1234321 es palíndromo\n"
     ]
    }
   ],
   "source": [
    "print(\"Ingresa el número que deseas evaluar:\")\n",
    "x=int(input())\n",
    "y=palindromo(x)\n",
    "if y==True:\n",
    "    print(f'{x} es palíndromo')\n",
    "else:\n",
    "    print(f'{x} no es palíndromo')"
   ]
  },
  {
   "cell_type": "code",
   "execution_count": 151,
   "id": "b5681b89-5c5e-4ce4-838a-960b2a1295b1",
   "metadata": {},
   "outputs": [],
   "source": [
    "#Cadena"
   ]
  },
  {
   "cell_type": "code",
   "execution_count": 152,
   "id": "dc0fb464-6a3e-4dac-ab61-61d9c4077be6",
   "metadata": {},
   "outputs": [
    {
     "name": "stdout",
     "output_type": "stream",
     "text": [
      "e i\n"
     ]
    },
    {
     "data": {
      "text/plain": [
       "(True, 5, 5, 'ogaleicrum')"
      ]
     },
     "execution_count": 152,
     "metadata": {},
     "output_type": "execute_result"
    }
   ],
   "source": [
    "def cadena(x):\n",
    "    vocales=[\"a\",\"e\",\"i\",\"o\",\"u\"]\n",
    "    consonantes=[\"b\",\"c\",\"d\",\"f\",\"g\",\"h\",\"j\",\"k\",\"l\",\"m\",\"n\",\"ñ\",\"p\",\"q\",\"r\",\"s\",\"t\",\"v\",\"w\",\"x\",\"y\",\"z\"]\n",
    "    medio=False\n",
    "    vocal=[]\n",
    "    consonante=[]\n",
    "    print(x[int((len(x))/2)],x[int(len(x)/2)-1])\n",
    "    if x[int(len(x)/2)] in vocales:\n",
    "        if len(x)%2==0:\n",
    "            if x[int(len(x)/2)-1] in vocales:\n",
    "                medio=True\n",
    "        else:\n",
    "            medio=True\n",
    "    for i in x:\n",
    "        if i in vocales:\n",
    "            vocal.append(i)\n",
    "        elif i in consonantes:\n",
    "            consonante.append(i)\n",
    "    y=x[::-1]\n",
    "    return medio, len(vocal), len(consonante),y"
   ]
  },
  {
   "cell_type": "code",
   "execution_count": 153,
   "id": "ff5471cf-b411-4969-9acf-7cd2776391fc",
   "metadata": {},
   "outputs": [
    {
     "name": "stdout",
     "output_type": "stream",
     "text": [
      "Ingrese la cadena a evaluar\n"
     ]
    },
    {
     "name": "stdin",
     "output_type": "stream",
     "text": [
      " Medellín\n"
     ]
    },
    {
     "name": "stdout",
     "output_type": "stream",
     "text": [
      "l e\n"
     ]
    },
    {
     "data": {
      "text/plain": [
       "(False, 2, 4, 'nílledeM')"
      ]
     },
     "execution_count": 153,
     "metadata": {},
     "output_type": "execute_result"
    }
   ],
   "source": [
    "#Si la palabra es par se evalúa el par de caracteres del medio.\n",
    "print(\"Ingrese la cadena a evaluar\")\n",
    "x=str(input())\n",
    "y=cadena(x)\n",
    "y"
   ]
  },
  {
   "cell_type": "code",
   "execution_count": 78,
   "id": "73b06c84-7733-488b-88ed-aef0e1f641c6",
   "metadata": {},
   "outputs": [],
   "source": [
    "#Fibonacci"
   ]
  },
  {
   "cell_type": "code",
   "execution_count": 154,
   "id": "68545069-d4cf-459b-bb9c-73b37f0470b2",
   "metadata": {},
   "outputs": [
    {
     "name": "stdout",
     "output_type": "stream",
     "text": [
      "12586269025 6557470319842\n"
     ]
    }
   ],
   "source": [
    "def fibonacci(x):\n",
    "    serie=[0,1]\n",
    "    i=0\n",
    "    a=0\n",
    "    b=1\n",
    "    c=0\n",
    "    while i<x:\n",
    "        a=b\n",
    "        b=c\n",
    "        c=a+b\n",
    "        i+=1\n",
    "    return(c)\n",
    "print(fibonacci(50),fibonacci(63))"
   ]
  },
  {
   "cell_type": "code",
   "execution_count": 105,
   "id": "06c86a93-8595-45bc-b247-eeac84d98fc3",
   "metadata": {},
   "outputs": [],
   "source": [
    "#Ordenamiento"
   ]
  },
  {
   "cell_type": "code",
   "execution_count": 106,
   "id": "6ac7521a-957c-4c20-b7c5-6351bed62a19",
   "metadata": {},
   "outputs": [
    {
     "data": {
      "text/plain": [
       "[2, 4, 4, 5, 6, 7, 9, 12, 22, 33, 44, 67, 76]"
      ]
     },
     "execution_count": 106,
     "metadata": {},
     "output_type": "execute_result"
    }
   ],
   "source": [
    "lista=[2,6,44,5,33,4,22,9,76,12,4,67,7]\n",
    "lista2=[]\n",
    "while len(lista)>0:\n",
    "    for i in lista:\n",
    "        menor=True\n",
    "        for j in lista:\n",
    "            if j<i:\n",
    "                menor=False\n",
    "                break\n",
    "        if menor==True:\n",
    "            lista2.append(i)\n",
    "            lista.remove(i)\n",
    "lista2\n",
    "        "
   ]
  },
  {
   "cell_type": "code",
   "execution_count": null,
   "id": "a5e1aeaf-41db-4849-abfb-56e9908e5114",
   "metadata": {},
   "outputs": [],
   "source": []
  }
 ],
 "metadata": {
  "kernelspec": {
   "display_name": "Python 3 (ipykernel)",
   "language": "python",
   "name": "python3"
  },
  "language_info": {
   "codemirror_mode": {
    "name": "ipython",
    "version": 3
   },
   "file_extension": ".py",
   "mimetype": "text/x-python",
   "name": "python",
   "nbconvert_exporter": "python",
   "pygments_lexer": "ipython3",
   "version": "3.9.7"
  }
 },
 "nbformat": 4,
 "nbformat_minor": 5
}
