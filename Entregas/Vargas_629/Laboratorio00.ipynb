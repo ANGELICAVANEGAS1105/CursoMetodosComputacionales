{
  "nbformat": 4,
  "nbformat_minor": 0,
  "metadata": {
    "colab": {
      "name": "Laboratorio00.ipynb",
      "provenance": []
    },
    "kernelspec": {
      "name": "python3",
      "display_name": "Python 3"
    },
    "language_info": {
      "name": "python"
    }
  },
  "cells": [
    {
      "cell_type": "code",
      "source": [
        "fac=1\n",
        "x=int(input())\n",
        "y=x\n",
        "while x>1:\n",
        "    fac*=x\n",
        "    x=x-1\n",
        "print(\"El factorial de\",y,\"es\",fac)"
      ],
      "metadata": {
        "colab": {
          "base_uri": "https://localhost:8080/"
        },
        "id": "LZaY4QJaLgUQ",
        "outputId": "0e68bcf7-fe7c-4c51-9d8b-b8c2169f2b21"
      },
      "execution_count": 17,
      "outputs": [
        {
          "output_type": "stream",
          "name": "stdout",
          "text": [
            "0\n",
            "El factorial de 0 es 1\n"
          ]
        }
      ]
    },
    {
      "cell_type": "code",
      "source": [
        ""
      ],
      "metadata": {
        "id": "nZprzBJzMrf-"
      },
      "execution_count": null,
      "outputs": []
    }
  ]
}