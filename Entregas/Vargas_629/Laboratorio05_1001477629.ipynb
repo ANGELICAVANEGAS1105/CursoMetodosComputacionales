{
  "cells": [
    {
      "cell_type": "markdown",
      "id": "7efe0541",
      "metadata": {
        "id": "7efe0541"
      },
      "source": [
        "## Ecuaciones de una variable:\n",
        "\n",
        "Para los siguiente problemas: \n",
        "\n",
        "\n",
        "1.0 ¿Para que ángulo el area del segmento circular es igual a un cuarto del area de la circunferencia?\n",
        "\n",
        "- Muestre que la expresión que permite resolver el problema:\n",
        "\n",
        "\n",
        "\n",
        "\n",
        "\\begin{equation}\n",
        "\\theta - \\sin \\theta = \\frac{\\pi}{2}\n",
        "\\end{equation}\n",
        "\n",
        "\n",
        "- ¿Construya una grafica para theta?,  Alrededor de que punto esta solución.(Para este punto se recomienda emplear un data frame de pandas )\n",
        "\n",
        "- Emplee el metodo de biseccion, punto fijo,  newton y secante  para comprobar la solución intuida del apartado anterior.\n",
        "\n",
        "\n",
        "\n",
        "\n",
        "\n",
        "\n",
        "\n",
        "\n",
        "\n",
        "\n"
      ]
    },
    {
      "cell_type": "code",
      "source": [
        "import numpy as np\n",
        "import matplotlib.pyplot as plt\n",
        "import pandas as pd"
      ],
      "metadata": {
        "id": "P1itxhhfYq2O"
      },
      "id": "P1itxhhfYq2O",
      "execution_count": 4,
      "outputs": []
    },
    {
      "cell_type": "markdown",
      "source": [
        "Área de segmento circular:\n",
        "\\begin{equation}\n",
        "A_\\theta = r^2(\\frac{\\theta}{2} - \\sin\\frac{\\theta}{2}\\cos\\frac{\\theta}{2})\n",
        "\\end{equation}\n",
        " \n",
        "\\begin{equation}\n",
        "A_\\theta = r^2(\\frac{\\theta}{2} - \\frac{\\sinθ}{2})\n",
        "\\end{equation}\n",
        "\n",
        "Área de la circunferencia:\n",
        "\\begin{equation}\n",
        "A_c=\\frac{\\pi r^2}{4}\n",
        "\\end{equation}\n",
        "Igualamos:\n",
        "\\begin{equation}\n",
        "r^2(\\frac{\\theta}{2} - \\frac{\\sinθ}{2}) = \\frac{\\pi r^2}{4}\n",
        "\\end{equation}\n",
        "Y simplificamos:\n",
        "\\begin{equation}\n",
        "\\theta - \\sin \\theta = \\frac{\\pi}{2}\n",
        "\\end{equation}\n",
        "\n",
        "\\begin{equation}\n",
        "\\end{equation}"
      ],
      "metadata": {
        "id": "1-DN_jBaKJ16"
      },
      "id": "1-DN_jBaKJ16"
    },
    {
      "cell_type": "code",
      "source": [
        "def funcion(t):\n",
        "    return t-np.sin(t)-(np.pi/2)"
      ],
      "metadata": {
        "id": "sqVfTBSFavMW"
      },
      "id": "sqVfTBSFavMW",
      "execution_count": 5,
      "outputs": []
    },
    {
      "cell_type": "code",
      "source": [
        "t=np.linspace(0,4,1000)\n",
        "y=np.array(funcion(t))\n",
        "z=np.zeros(1000)"
      ],
      "metadata": {
        "id": "WMK1jUSha_ef"
      },
      "id": "WMK1jUSha_ef",
      "execution_count": 25,
      "outputs": []
    },
    {
      "cell_type": "code",
      "source": [
        "plt.plot(t,y)\n",
        "plt.plot(t,z);"
      ],
      "metadata": {
        "colab": {
          "base_uri": "https://localhost:8080/",
          "height": 265
        },
        "id": "t7helcxJntBs",
        "outputId": "5b25b119-83d4-432b-c912-9b7726f131b9"
      },
      "id": "t7helcxJntBs",
      "execution_count": 27,
      "outputs": [
        {
          "output_type": "display_data",
          "data": {
            "text/plain": [
              "<Figure size 432x288 with 1 Axes>"
            ],
            "image/png": "[encoded data removed]"
          },
          "metadata": {
            "needs_background": "light"
          }
        }
      ]
    },
    {
      "cell_type": "code",
      "source": [
        "t=np.linspace(2,2.5,10000)\n",
        "y=np.array(funcion(t))\n",
        "z=np.zeros(10000)"
      ],
      "metadata": {
        "id": "v1OpBEK7oTG1"
      },
      "id": "v1OpBEK7oTG1",
      "execution_count": 37,
      "outputs": []
    },
    {
      "cell_type": "code",
      "source": [
        "d=pd.DataFrame(np.array([t,y]).T,columns=['t','y'])\n",
        "eps=1e-4"
      ],
      "metadata": {
        "id": "7jKN1gpsceQ2"
      },
      "id": "7jKN1gpsceQ2",
      "execution_count": 33,
      "outputs": []
    },
    {
      "cell_type": "code",
      "source": [
        "d[abs(y)<eps]"
      ],
      "metadata": {
        "colab": {
          "base_uri": "https://localhost:8080/",
          "height": 143
        },
        "id": "epJe7wRwdHLF",
        "outputId": "8f3d1385-514d-4c60-ff75-7c96ebb57e55"
      },
      "id": "epJe7wRwdHLF",
      "execution_count": 34,
      "outputs": [
        {
          "output_type": "execute_result",
          "data": {
            "text/plain": [
              "             t             y\n",
              "6196  2.309831 -8.447783e-05\n",
              "6197  2.309881 -7.897963e-07\n",
              "6198  2.309931  8.290008e-05"
            ],
            "text/html": [
              "\n",
              "  <div id=\"df-f13dc34f-1158-463d-8183-c1dfd4cae1e9\">\n",
              "    <div class=\"colab-df-container\">\n",
              "      <div>\n",
              "<style scoped>\n",
              "    .dataframe tbody tr th:only-of-type {\n",
              "        vertical-align: middle;\n",
              "    }\n",
              "\n",
              "    .dataframe tbody tr th {\n",
              "        vertical-align: top;\n",
              "    }\n",
              "\n",
              "    .dataframe thead th {\n",
              "        text-align: right;\n",
              "    }\n",
              "</style>\n",
              "<table border=\"1\" class=\"dataframe\">\n",
              "  <thead>\n",
              "    <tr style=\"text-align: right;\">\n",
              "      <th></th>\n",
              "      <th>t</th>\n",
              "      <th>y</th>\n",
              "    </tr>\n",
              "  </thead>\n",
              "  <tbody>\n",
              "    <tr>\n",
              "      <th>6196</th>\n",
              "      <td>2.309831</td>\n",
              "      <td>-8.447783e-05</td>\n",
              "    </tr>\n",
              "    <tr>\n",
              "      <th>6197</th>\n",
              "      <td>2.309881</td>\n",
              "      <td>-7.897963e-07</td>\n",
              "    </tr>\n",
              "    <tr>\n",
              "      <th>6198</th>\n",
              "      <td>2.309931</td>\n",
              "      <td>8.290008e-05</td>\n",
              "    </tr>\n",
              "  </tbody>\n",
              "</table>\n",
              "</div>\n",
              "      <button class=\"colab-df-convert\" onclick=\"convertToInteractive('df-f13dc34f-1158-463d-8183-c1dfd4cae1e9')\"\n",
              "              title=\"Convert this dataframe to an interactive table.\"\n",
              "              style=\"display:none;\">\n",
              "        \n",
              "  <svg xmlns=\"http://www.w3.org/2000/svg\" height=\"24px\"viewBox=\"0 0 24 24\"\n",
              "       width=\"24px\">\n",
              "    <path d=\"M0 0h24v24H0V0z\" fill=\"none\"/>\n",
              "    <path d=\"M18.56 5.44l.94 2.06.94-2.06 2.06-.94-2.06-.94-.94-2.06-.94 2.06-2.06.94zm-11 1L8.5 8.5l.94-2.06 2.06-.94-2.06-.94L8.5 2.5l-.94 2.06-2.06.94zm10 10l.94 2.06.94-2.06 2.06-.94-2.06-.94-.94-2.06-.94 2.06-2.06.94z\"/><path d=\"M17.41 7.96l-1.37-1.37c-.4-.4-.92-.59-1.43-.59-.52 0-1.04.2-1.43.59L10.3 9.45l-7.72 7.72c-.78.78-.78 2.05 0 2.83L4 21.41c.39.39.9.59 1.41.59.51 0 1.02-.2 1.41-.59l7.78-7.78 2.81-2.81c.8-.78.8-2.07 0-2.86zM5.41 20L4 18.59l7.72-7.72 1.47 1.35L5.41 20z\"/>\n",
              "  </svg>\n",
              "      </button>\n",
              "      \n",
              "  <style>\n",
              "    .colab-df-container {\n",
              "      display:flex;\n",
              "      flex-wrap:wrap;\n",
              "      gap: 12px;\n",
              "    }\n",
              "\n",
              "    .colab-df-convert {\n",
              "      background-color: #E8F0FE;\n",
              "      border: none;\n",
              "      border-radius: 50%;\n",
              "      cursor: pointer;\n",
              "      display: none;\n",
              "      fill: #1967D2;\n",
              "      height: 32px;\n",
              "      padding: 0 0 0 0;\n",
              "      width: 32px;\n",
              "    }\n",
              "\n",
              "    .colab-df-convert:hover {\n",
              "      background-color: #E2EBFA;\n",
              "      box-shadow: 0px 1px 2px rgba(60, 64, 67, 0.3), 0px 1px 3px 1px rgba(60, 64, 67, 0.15);\n",
              "      fill: #174EA6;\n",
              "    }\n",
              "\n",
              "    [theme=dark] .colab-df-convert {\n",
              "      background-color: #3B4455;\n",
              "      fill: #D2E3FC;\n",
              "    }\n",
              "\n",
              "    [theme=dark] .colab-df-convert:hover {\n",
              "      background-color: #434B5C;\n",
              "      box-shadow: 0px 1px 3px 1px rgba(0, 0, 0, 0.15);\n",
              "      filter: drop-shadow(0px 1px 2px rgba(0, 0, 0, 0.3));\n",
              "      fill: #FFFFFF;\n",
              "    }\n",
              "  </style>\n",
              "\n",
              "      <script>\n",
              "        const buttonEl =\n",
              "          document.querySelector('#df-f13dc34f-1158-463d-8183-c1dfd4cae1e9 button.colab-df-convert');\n",
              "        buttonEl.style.display =\n",
              "          google.colab.kernel.accessAllowed ? 'block' : 'none';\n",
              "\n",
              "        async function convertToInteractive(key) {\n",
              "          const element = document.querySelector('#df-f13dc34f-1158-463d-8183-c1dfd4cae1e9');\n",
              "          const dataTable =\n",
              "            await google.colab.kernel.invokeFunction('convertToInteractive',\n",
              "                                                     [key], {});\n",
              "          if (!dataTable) return;\n",
              "\n",
              "          const docLinkHtml = 'Like what you see? Visit the ' +\n",
              "            '<a target=\"_blank\" href=https://colab.research.google.com/notebooks/data_table.ipynb>data table notebook</a>'\n",
              "            + ' to learn more about interactive tables.';\n",
              "          element.innerHTML = '';\n",
              "          dataTable['output_type'] = 'display_data';\n",
              "          await google.colab.output.renderOutput(dataTable, element);\n",
              "          const docLink = document.createElement('div');\n",
              "          docLink.innerHTML = docLinkHtml;\n",
              "          element.appendChild(docLink);\n",
              "        }\n",
              "      </script>\n",
              "    </div>\n",
              "  </div>\n",
              "  "
            ]
          },
          "metadata": {},
          "execution_count": 34
        }
      ]
    },
    {
      "cell_type": "markdown",
      "source": [
        "Vemos que:\n",
        "\\begin{equation}\n",
        "2.309881 \\leq \\theta_0 \\leq 2.309931\n",
        "\\end{equation}"
      ],
      "metadata": {
        "id": "I0fLV2oaodqX"
      },
      "id": "I0fLV2oaodqX"
    },
    {
      "cell_type": "code",
      "source": [
        "plt.plot(t,y);\n",
        "plt.plot(t,z);\n"
      ],
      "metadata": {
        "colab": {
          "base_uri": "https://localhost:8080/",
          "height": 265
        },
        "id": "XU8Ww2iHbONm",
        "outputId": "27727f40-9f15-42eb-c8ec-d807f9a00dcc"
      },
      "id": "XU8Ww2iHbONm",
      "execution_count": 38,
      "outputs": [
        {
          "output_type": "display_data",
          "data": {
            "text/plain": [
              "<Figure size 432x288 with 1 Axes>"
            ],
            "image/png": "[encoded data removed]"
          },
          "metadata": {
            "needs_background": "light"
          }
        }
      ]
    },
    {
      "cell_type": "code",
      "source": [
        "f=lambda t: t-np.sin(t)-(np.pi/2)"
      ],
      "metadata": {
        "id": "rDlA0pHFhZ4c"
      },
      "id": "rDlA0pHFhZ4c",
      "execution_count": 41,
      "outputs": []
    },
    {
      "cell_type": "code",
      "source": [
        "import scipy as sc\n",
        "from scipy import optimize"
      ],
      "metadata": {
        "id": "M38wnuZzi0QH"
      },
      "id": "M38wnuZzi0QH",
      "execution_count": 18,
      "outputs": []
    },
    {
      "cell_type": "code",
      "source": [
        "#Método de bisección:\n",
        "sc.optimize.bisect(f,2.3,2.4)"
      ],
      "metadata": {
        "colab": {
          "base_uri": "https://localhost:8080/"
        },
        "id": "KpPHv5VLojBk",
        "outputId": "44f17bc3-6e08-49b4-8d62-18663f03ced1"
      },
      "id": "KpPHv5VLojBk",
      "execution_count": 45,
      "outputs": [
        {
          "output_type": "execute_result",
          "data": {
            "text/plain": [
              "2.3098814600103648"
            ]
          },
          "metadata": {},
          "execution_count": 45
        }
      ]
    },
    {
      "cell_type": "code",
      "source": [
        "#Método del punto fijo:\n",
        "ff=lambda x:x-(x-np.sin(x)-(np.pi/2))\n",
        "sc.optimize.fixed_point(ff,2.3)"
      ],
      "metadata": {
        "colab": {
          "base_uri": "https://localhost:8080/"
        },
        "id": "YQEzjFQIov1h",
        "outputId": "2850e7d4-2420-4d90-db5a-cb8a5a7ea4fe"
      },
      "id": "YQEzjFQIov1h",
      "execution_count": 44,
      "outputs": [
        {
          "output_type": "execute_result",
          "data": {
            "text/plain": [
              "array(2.30988146)"
            ]
          },
          "metadata": {},
          "execution_count": 44
        }
      ]
    },
    {
      "cell_type": "code",
      "source": [
        "#Método de la secante:\n",
        "sc.optimize.newton(f,2.3)"
      ],
      "metadata": {
        "id": "Xptj_oTNo1TR",
        "colab": {
          "base_uri": "https://localhost:8080/"
        },
        "outputId": "4d3704a4-827f-4484-ed4a-7a5a1465e193"
      },
      "id": "Xptj_oTNo1TR",
      "execution_count": 46,
      "outputs": [
        {
          "output_type": "execute_result",
          "data": {
            "text/plain": [
              "2.3098814600100575"
            ]
          },
          "metadata": {},
          "execution_count": 46
        }
      ]
    },
    {
      "cell_type": "code",
      "source": [
        "#Método de Newton-Raphson:\n",
        "fp= lambda t: 1-np.cos(t)\n",
        "sc.optimize.newton(f,2.3,fp)"
      ],
      "metadata": {
        "colab": {
          "base_uri": "https://localhost:8080/"
        },
        "id": "-tjjZeG1ruQV",
        "outputId": "bfa2df51-ab04-478f-baa2-b2e97c4ad139"
      },
      "id": "-tjjZeG1ruQV",
      "execution_count": 47,
      "outputs": [
        {
          "output_type": "execute_result",
          "data": {
            "text/plain": [
              "2.309881460010057"
            ]
          },
          "metadata": {},
          "execution_count": 47
        }
      ]
    },
    {
      "cell_type": "markdown",
      "source": [
        "2.0 An object falling vertically through the air is subjected to viscous resistance as well as to the force\n",
        "of gravity. Assume that an object with mass m is dropped from a height s0 and that the height of the\n",
        "object after t seconds is\n",
        "\n",
        "\\begin{equation}\n",
        "s(t)=s_0 - \\frac{mg}{k}t+\\frac{m^2g}{k}t(1-e^{-kt/m})\n",
        "\\end{equation}\n",
        "\n",
        "where $g = 32.17 ft/s2$ and $k$ represents the coefficient of air resistance in $lbs/ft$. Suppose $s0 = 300 ft$,\n",
        "$m = 0.25$ lb, and $k = 0.1$ lbs/ft. Find, to within $0.01$ s, the time it takes this quarter-pounder to hit the\n",
        "ground\n",
        "\n",
        "- Emplee el metodo de biseccion, punto fijo,  newton y secante  para comprobrar la solución.\n",
        "\n",
        "\n",
        "\n"
      ],
      "metadata": {
        "id": "8qpzxIwQvWO1"
      },
      "id": "8qpzxIwQvWO1"
    },
    {
      "cell_type": "code",
      "source": [
        "g=32.17\n",
        "k=0.1\n",
        "m=0.25\n",
        "s0=300\n",
        "cl = lambda t,g=32.17,k=0.1,m=0.25,s0=300: s0-((m*g*t)/k)+(((m**2)*g*t)/k)*(1-np.exp(-k*t/m))\n"
      ],
      "metadata": {
        "id": "wPolnCIfuCrD"
      },
      "id": "wPolnCIfuCrD",
      "execution_count": 52,
      "outputs": []
    },
    {
      "cell_type": "code",
      "source": [
        "t=np.linspace(-10,10,10000)\n",
        "y=np.array(cl(t))\n",
        "z=np.zeros(10000)"
      ],
      "metadata": {
        "id": "LrvV4uzCx12m"
      },
      "id": "LrvV4uzCx12m",
      "execution_count": 53,
      "outputs": []
    },
    {
      "cell_type": "code",
      "source": [
        "plt.plot(t,y)\n",
        "plt.plot(t,z);"
      ],
      "metadata": {
        "colab": {
          "base_uri": "https://localhost:8080/",
          "height": 265
        },
        "id": "WWj-diBRyEl4",
        "outputId": "286a4c8f-afde-4c21-8c79-1b2db842ae56"
      },
      "id": "WWj-diBRyEl4",
      "execution_count": 54,
      "outputs": [
        {
          "output_type": "display_data",
          "data": {
            "text/plain": [
              "<Figure size 432x288 with 1 Axes>"
            ],
            "image/png": "[encoded data removed]"
          },
          "metadata": {
            "needs_background": "light"
          }
        }
      ]
    },
    {
      "cell_type": "code",
      "source": [
        "t=np.linspace(4,6,10000)\n",
        "y=np.array(cl(t))\n",
        "z=np.zeros(10000)"
      ],
      "metadata": {
        "id": "Y5-4VQOnBx_S"
      },
      "id": "Y5-4VQOnBx_S",
      "execution_count": 78,
      "outputs": []
    },
    {
      "cell_type": "code",
      "source": [
        "d2=pd.DataFrame(np.array([t,y]).T,columns=['t','y'])\n",
        "eps=1e-2\n",
        "d2[abs(y)<eps]"
      ],
      "metadata": {
        "colab": {
          "base_uri": "https://localhost:8080/",
          "height": 112
        },
        "id": "bHWQNZRUyUCk",
        "outputId": "199cc5a2-6aa6-4e69-fd8b-a98d74f8a11f"
      },
      "id": "bHWQNZRUyUCk",
      "execution_count": 80,
      "outputs": [
        {
          "output_type": "execute_result",
          "data": {
            "text/plain": [
              "             t         y\n",
              "3680  4.736074  0.003775\n",
              "3681  4.736274 -0.007748"
            ],
            "text/html": [
              "\n",
              "  <div id=\"df-ec089ba5-0f6e-47b5-9912-ded046f6f947\">\n",
              "    <div class=\"colab-df-container\">\n",
              "      <div>\n",
              "<style scoped>\n",
              "    .dataframe tbody tr th:only-of-type {\n",
              "        vertical-align: middle;\n",
              "    }\n",
              "\n",
              "    .dataframe tbody tr th {\n",
              "        vertical-align: top;\n",
              "    }\n",
              "\n",
              "    .dataframe thead th {\n",
              "        text-align: right;\n",
              "    }\n",
              "</style>\n",
              "<table border=\"1\" class=\"dataframe\">\n",
              "  <thead>\n",
              "    <tr style=\"text-align: right;\">\n",
              "      <th></th>\n",
              "      <th>t</th>\n",
              "      <th>y</th>\n",
              "    </tr>\n",
              "  </thead>\n",
              "  <tbody>\n",
              "    <tr>\n",
              "      <th>3680</th>\n",
              "      <td>4.736074</td>\n",
              "      <td>0.003775</td>\n",
              "    </tr>\n",
              "    <tr>\n",
              "      <th>3681</th>\n",
              "      <td>4.736274</td>\n",
              "      <td>-0.007748</td>\n",
              "    </tr>\n",
              "  </tbody>\n",
              "</table>\n",
              "</div>\n",
              "      <button class=\"colab-df-convert\" onclick=\"convertToInteractive('df-ec089ba5-0f6e-47b5-9912-ded046f6f947')\"\n",
              "              title=\"Convert this dataframe to an interactive table.\"\n",
              "              style=\"display:none;\">\n",
              "        \n",
              "  <svg xmlns=\"http://www.w3.org/2000/svg\" height=\"24px\"viewBox=\"0 0 24 24\"\n",
              "       width=\"24px\">\n",
              "    <path d=\"M0 0h24v24H0V0z\" fill=\"none\"/>\n",
              "    <path d=\"M18.56 5.44l.94 2.06.94-2.06 2.06-.94-2.06-.94-.94-2.06-.94 2.06-2.06.94zm-11 1L8.5 8.5l.94-2.06 2.06-.94-2.06-.94L8.5 2.5l-.94 2.06-2.06.94zm10 10l.94 2.06.94-2.06 2.06-.94-2.06-.94-.94-2.06-.94 2.06-2.06.94z\"/><path d=\"M17.41 7.96l-1.37-1.37c-.4-.4-.92-.59-1.43-.59-.52 0-1.04.2-1.43.59L10.3 9.45l-7.72 7.72c-.78.78-.78 2.05 0 2.83L4 21.41c.39.39.9.59 1.41.59.51 0 1.02-.2 1.41-.59l7.78-7.78 2.81-2.81c.8-.78.8-2.07 0-2.86zM5.41 20L4 18.59l7.72-7.72 1.47 1.35L5.41 20z\"/>\n",
              "  </svg>\n",
              "      </button>\n",
              "      \n",
              "  <style>\n",
              "    .colab-df-container {\n",
              "      display:flex;\n",
              "      flex-wrap:wrap;\n",
              "      gap: 12px;\n",
              "    }\n",
              "\n",
              "    .colab-df-convert {\n",
              "      background-color: #E8F0FE;\n",
              "      border: none;\n",
              "      border-radius: 50%;\n",
              "      cursor: pointer;\n",
              "      display: none;\n",
              "      fill: #1967D2;\n",
              "      height: 32px;\n",
              "      padding: 0 0 0 0;\n",
              "      width: 32px;\n",
              "    }\n",
              "\n",
              "    .colab-df-convert:hover {\n",
              "      background-color: #E2EBFA;\n",
              "      box-shadow: 0px 1px 2px rgba(60, 64, 67, 0.3), 0px 1px 3px 1px rgba(60, 64, 67, 0.15);\n",
              "      fill: #174EA6;\n",
              "    }\n",
              "\n",
              "    [theme=dark] .colab-df-convert {\n",
              "      background-color: #3B4455;\n",
              "      fill: #D2E3FC;\n",
              "    }\n",
              "\n",
              "    [theme=dark] .colab-df-convert:hover {\n",
              "      background-color: #434B5C;\n",
              "      box-shadow: 0px 1px 3px 1px rgba(0, 0, 0, 0.15);\n",
              "      filter: drop-shadow(0px 1px 2px rgba(0, 0, 0, 0.3));\n",
              "      fill: #FFFFFF;\n",
              "    }\n",
              "  </style>\n",
              "\n",
              "      <script>\n",
              "        const buttonEl =\n",
              "          document.querySelector('#df-ec089ba5-0f6e-47b5-9912-ded046f6f947 button.colab-df-convert');\n",
              "        buttonEl.style.display =\n",
              "          google.colab.kernel.accessAllowed ? 'block' : 'none';\n",
              "\n",
              "        async function convertToInteractive(key) {\n",
              "          const element = document.querySelector('#df-ec089ba5-0f6e-47b5-9912-ded046f6f947');\n",
              "          const dataTable =\n",
              "            await google.colab.kernel.invokeFunction('convertToInteractive',\n",
              "                                                     [key], {});\n",
              "          if (!dataTable) return;\n",
              "\n",
              "          const docLinkHtml = 'Like what you see? Visit the ' +\n",
              "            '<a target=\"_blank\" href=https://colab.research.google.com/notebooks/data_table.ipynb>data table notebook</a>'\n",
              "            + ' to learn more about interactive tables.';\n",
              "          element.innerHTML = '';\n",
              "          dataTable['output_type'] = 'display_data';\n",
              "          await google.colab.output.renderOutput(dataTable, element);\n",
              "          const docLink = document.createElement('div');\n",
              "          docLink.innerHTML = docLinkHtml;\n",
              "          element.appendChild(docLink);\n",
              "        }\n",
              "      </script>\n",
              "    </div>\n",
              "  </div>\n",
              "  "
            ]
          },
          "metadata": {},
          "execution_count": 80
        }
      ]
    },
    {
      "cell_type": "markdown",
      "source": [
        "Vemos que la masa toca el piso entre:\n",
        "\\begin{equation}\n",
        "4.736074 \\leq t \\leq 4.736274 \n",
        "\\end{equation}"
      ],
      "metadata": {
        "id": "GjtN0IMWCen5"
      },
      "id": "GjtN0IMWCen5"
    },
    {
      "cell_type": "code",
      "source": [
        "#Método de bisección:\n",
        "sc.optimize.bisect(cl,4.6,4.8)"
      ],
      "metadata": {
        "colab": {
          "base_uri": "https://localhost:8080/"
        },
        "id": "Jc-X5zIAyvyE",
        "outputId": "94ce7546-dbec-4a40-ed8f-8c218e8e7777"
      },
      "id": "Jc-X5zIAyvyE",
      "execution_count": 82,
      "outputs": [
        {
          "output_type": "execute_result",
          "data": {
            "text/plain": [
              "4.736139137604914"
            ]
          },
          "metadata": {},
          "execution_count": 82
        }
      ]
    },
    {
      "cell_type": "code",
      "source": [
        "#Método del punto fijo:\n",
        "fcl=lambda t,g=32.17,k=0.1,m=0.25,s0=300:t-(s0-((m*g*t)/k)+(((m**2)*g*t)/k)*(1-np.exp(-k*t/m)))\n",
        "sc.optimize.fixed_point(fcl,4.5)"
      ],
      "metadata": {
        "colab": {
          "base_uri": "https://localhost:8080/"
        },
        "id": "Sb8fHsXiC_Xb",
        "outputId": "0b868f72-8fba-460a-ed64-cf1d3936f8d8"
      },
      "id": "Sb8fHsXiC_Xb",
      "execution_count": 99,
      "outputs": [
        {
          "output_type": "execute_result",
          "data": {
            "text/plain": [
              "array(4.73613914)"
            ]
          },
          "metadata": {},
          "execution_count": 99
        }
      ]
    },
    {
      "cell_type": "code",
      "source": [
        "#Método de la secante:\n",
        "sc.optimize.newton(cl,4.7)"
      ],
      "metadata": {
        "colab": {
          "base_uri": "https://localhost:8080/"
        },
        "id": "F45kayMjDJpP",
        "outputId": "a8ea3e4e-12ea-4e35-e086-ecf6f16f88a2"
      },
      "id": "F45kayMjDJpP",
      "execution_count": 100,
      "outputs": [
        {
          "output_type": "execute_result",
          "data": {
            "text/plain": [
              "4.736139137603491"
            ]
          },
          "metadata": {},
          "execution_count": 100
        }
      ]
    },
    {
      "cell_type": "code",
      "source": [
        "#Método de Newton-Raphson:\n",
        "clp= lambda t,g=32.17,k=0.1,m=0.25,s0=300: -(m*g/k)-((m**2)*g/k)-((m**2)*g*np.exp(-k*t/m)/k) + (m*g*t*np.exp(-k*t/m)/k)\n",
        "sc.optimize.newton(cl,4.7,clp)"
      ],
      "metadata": {
        "colab": {
          "base_uri": "https://localhost:8080/"
        },
        "id": "xW40WTdaFKd8",
        "outputId": "417e1c0b-9702-4d99-80b9-ead099366bca"
      },
      "id": "xW40WTdaFKd8",
      "execution_count": 103,
      "outputs": [
        {
          "output_type": "execute_result",
          "data": {
            "text/plain": [
              "4.736139135840935"
            ]
          },
          "metadata": {},
          "execution_count": 103
        }
      ]
    },
    {
      "cell_type": "markdown",
      "source": [
        "3.0 En la teoria de campo medio, La magnetización como función de la temperatura de un material magnético  puede ser calculada como:\n",
        "\n",
        "\\begin{equation}\n",
        "m(T) = \\tanh\\left( \\frac{m(T)}{T} \\right)\n",
        "\\end{equation}\n",
        "\n",
        "donde m y T son la magnetizacion y temperatura reducida respectivamente\n",
        "\n",
        "Para T = 0.5, determine:\n",
        "\n",
        "a. La magnetización reducida empleando el metodo de la secante(Muestre su resultado con 4 cifras)\n",
        "\n",
        "b. Valide su respuestado con el metodo de punto fijo.\n",
        "(Muestre su resultado con 4 cifras)\n",
        "\n",
        "d. Defina T = np.linspace(0.1,0.99,100), y emple el metodo de la secante para construir un gráfico de magnetización reducida como función de la temperatura para los  100 valores  de T."
      ],
      "metadata": {
        "id": "21hcO_yZKiHN"
      },
      "id": "21hcO_yZKiHN"
    },
    {
      "cell_type": "markdown",
      "source": [
        "Hallamos una expresión para T en función de m:\n",
        "\\begin{equation}\n",
        "T(m)=\\frac{m}{\\tanh^{-1}(m)}\n",
        "\\end{equation}\n",
        "\n",
        "Entonces podemos resolver el problema como:\n",
        "\\begin{equation}\n",
        "\\frac{1}{2}=\\frac{m}{\\tanh^{-1}(m)}\n",
        "\\end{equation}\n",
        "Despejando:\n",
        "\\begin{equation}\n",
        "\\frac{m}{\\tanh^{-1}(m)}-\\frac{1}{2}=0\n",
        "\\end{equation}"
      ],
      "metadata": {
        "id": "5ZRRDZGtQBX7"
      },
      "id": "5ZRRDZGtQBX7"
    },
    {
      "cell_type": "code",
      "source": [
        "T= lambda m: (m/np.arctanh(m))-0.5\n",
        "m=np.linspace(0.0001,0.999,10000)\n",
        "T0=np.array(T(m))\n",
        "z=np.zeros(10000)"
      ],
      "metadata": {
        "id": "MXZrIM4eIm7V"
      },
      "id": "MXZrIM4eIm7V",
      "execution_count": 169,
      "outputs": []
    },
    {
      "cell_type": "code",
      "source": [
        "plt.plot(m,T0);\n",
        "plt.plot(m,z);"
      ],
      "metadata": {
        "colab": {
          "base_uri": "https://localhost:8080/",
          "height": 265
        },
        "id": "cSCoH2RSKuKN",
        "outputId": "d975080b-67cf-4446-e92a-babcc7976258"
      },
      "id": "cSCoH2RSKuKN",
      "execution_count": 170,
      "outputs": [
        {
          "output_type": "display_data",
          "data": {
            "text/plain": [
              "<Figure size 432x288 with 1 Axes>"
            ],
            "image/png": "[encoded data removed]"
          },
          "metadata": {
            "needs_background": "light"
          }
        }
      ]
    },
    {
      "cell_type": "code",
      "source": [
        "round(sc.optimize.newton(T,0.9),4)"
      ],
      "metadata": {
        "colab": {
          "base_uri": "https://localhost:8080/"
        },
        "id": "uxoCTFS7KuvV",
        "outputId": "054baf24-ea47-41c9-e4af-e2c693f38ea0"
      },
      "id": "uxoCTFS7KuvV",
      "execution_count": 173,
      "outputs": [
        {
          "output_type": "execute_result",
          "data": {
            "text/plain": [
              "0.9575"
            ]
          },
          "metadata": {},
          "execution_count": 173
        }
      ]
    },
    {
      "cell_type": "code",
      "source": [
        "round(sc.optimize.bisect(T,0.1,0.99),4)"
      ],
      "metadata": {
        "colab": {
          "base_uri": "https://localhost:8080/"
        },
        "id": "VlZ0oqzQYqwK",
        "outputId": "3c6900fb-c1d2-4f31-8e9b-f939c5e0284c"
      },
      "id": "VlZ0oqzQYqwK",
      "execution_count": 179,
      "outputs": [
        {
          "output_type": "execute_result",
          "data": {
            "text/plain": [
              "0.9575"
            ]
          },
          "metadata": {},
          "execution_count": 179
        }
      ]
    },
    {
      "cell_type": "code",
      "source": [
        "Tpf=lambda m: m - ((m/np.arctanh(m))-0.5)\n",
        "sc.optimize.fixed_point(Tpf,0.94)"
      ],
      "metadata": {
        "colab": {
          "base_uri": "https://localhost:8080/"
        },
        "id": "FnvMK7-TKvBG",
        "outputId": "757a5f5a-79a0-4c11-f603-6dc1ffa0fa3b"
      },
      "id": "FnvMK7-TKvBG",
      "execution_count": 181,
      "outputs": [
        {
          "output_type": "execute_result",
          "data": {
            "text/plain": [
              "array(0.95750402)"
            ]
          },
          "metadata": {},
          "execution_count": 181
        }
      ]
    },
    {
      "cell_type": "markdown",
      "source": [
        "Así, la magnetización para \\begin{equation}T=0.5\\end{equation} es: \\begin{equation}m=0.9575\\end{equation} "
      ],
      "metadata": {
        "id": "IBauC5HwbBxN"
      },
      "id": "IBauC5HwbBxN"
    },
    {
      "cell_type": "markdown",
      "source": [
        "Entonces para crear la función podemos reemplazar el valor de \\begin{equation}T=0.5\\end{equation} por \\begin{equation}T=t\\end{equation} donde t es variable:\n",
        "\\begin{equation}\n",
        "t=\\frac{m}{\\tanh^{-1}(m)}\n",
        "\\end{equation}\n",
        "Despejando:\n",
        "\\begin{equation}\n",
        "\\frac{m}{\\tanh^{-1}(m)}-t=0\n",
        "\\end{equation}"
      ],
      "metadata": {
        "id": "qF4dik8WbTaf"
      },
      "id": "qF4dik8WbTaf"
    },
    {
      "cell_type": "code",
      "source": [
        "t=np.linspace(0.1,0.99,100)\n",
        "z0=np.zeros(100)\n",
        "e=0\n",
        "for i in t:\n",
        "    T= lambda m: (m/np.arctanh(m))-i\n",
        "    m=sc.optimize.bisect(T,0.1,1)\n",
        "    z0[e]=m\n",
        "    e+=1"
      ],
      "metadata": {
        "colab": {
          "base_uri": "https://localhost:8080/"
        },
        "id": "Af11yCJeWShF",
        "outputId": "35b67b32-b232-4c9e-cca5-731532686d88"
      },
      "id": "Af11yCJeWShF",
      "execution_count": 182,
      "outputs": [
        {
          "output_type": "stream",
          "name": "stderr",
          "text": [
            "/usr/local/lib/python3.7/dist-packages/ipykernel_launcher.py:5: RuntimeWarning: divide by zero encountered in arctanh\n",
            "  \"\"\"\n"
          ]
        }
      ]
    },
    {
      "cell_type": "code",
      "source": [
        "plt.plot(t,z0,'k');\n",
        "plt.plot(t,z0,'y.')\n",
        "plt.title(\"Magnetización\");\n",
        "plt.xlabel(\"Temperatura\")\n",
        "plt.ylabel(\"Magnetización\")\n",
        "plt.grid();"
      ],
      "metadata": {
        "colab": {
          "base_uri": "https://localhost:8080/",
          "height": 295
        },
        "id": "ICeYFF1vXNtZ",
        "outputId": "5ccec03a-018e-4102-f609-bf2ca9ff6b43"
      },
      "id": "ICeYFF1vXNtZ",
      "execution_count": 190,
      "outputs": [
        {
          "output_type": "display_data",
          "data": {
            "text/plain": [
              "<Figure size 432x288 with 1 Axes>"
            ],
            "image/png": "[encoded data removed]"
          },
          "metadata": {
            "needs_background": "light"
          }
        }
      ]
    },
    {
      "cell_type": "markdown",
      "source": [
        "5. Construir un fractal empleando el metodo de Newton-Raphson, \n",
        "(Reproducir código y entender)\n",
        "\\begin{equation}\n",
        "z_{n+1} = z_n -a \\frac{f(z)}{f'(z)} \n",
        "\\end{equation}\n",
        "\n",
        "\n",
        "\n",
        "\\begin{equation}\n",
        "f'(z) = \\frac{ f(z+h)+f(z) }{h}\n",
        "\\end{equation}\n",
        "\n",
        "\n",
        "Replicar el codigo y entender.\n",
        "\n",
        "\n",
        "\n",
        "```\n"
      ],
      "metadata": {
        "id": "uGbVmGdIKvY3"
      },
      "id": "uGbVmGdIKvY3"
    },
    {
      "cell_type": "code",
      "source": [
        "\n",
        "import numpy as np\n",
        "import matplotlib.pylab as plt\n",
        "from PIL import Image\n",
        "\n",
        "Npx_X = 500 #Numero de pixeles en x\n",
        "Npx_Y = 500 #Numero de pixeles en y\n",
        "\n",
        "image = Image.new(\"RGB\", (Npx_X, Npx_Y)) #Creacion de la imagen inicial\n",
        "\n",
        "npx = np.arange(0, Npx_X)\n",
        "npy = np.arange(0, Npx_Y)\n",
        "\n",
        "xmin = -1\n",
        "xmax = 1\n",
        "ymin = -1\n",
        "ymax = 1\n",
        "#Transformación al plano complejo en un rectangulo (xmin, xmax), (ymin, ymax)\n",
        "zx = npx * (xmax - xmin) / (Npx_X - 1)   + xmin\n",
        "zy = npy * (ymax-ymin) / (Npx_Y - 1) + ymin\n",
        "\n",
        "#Definicion  la funcion y las derivada \n",
        "def f(z): \n",
        "  return z**3 - 1\n",
        "\n",
        "def fp(z): \n",
        "  return 3*z**2\n",
        "\n",
        "h = 1E-4\n",
        "def fpn(z, h): \n",
        "  return (f(z+h)-f(z))/h\n",
        "  \n",
        "\n",
        "a = 0.2\n",
        "Niteraciones = 100\n",
        "eps = 1E-8\n",
        "\n",
        "x = - 1\n",
        "for zx_ in zx:\n",
        "  x = x + 1 \n",
        "  y = -1\n",
        "  for zy_ in zy: \n",
        "      y = y + 1\n",
        "      Z_0 = complex(zx_, zy_)\n",
        "    \n",
        "      for i in range(0, Niteraciones): \n",
        "        Z = Z_0 - a * f(Z_0)/fp(Z_0)\n",
        "\n",
        "        if( abs(Z-Z_0)<= eps):\n",
        "          break \n",
        "          \n",
        "        Z_0 = Z\n",
        "      #print(i)\n",
        "      #print(i)\n",
        "      r, g, b = i % 4 *64 , i % 8 *16, i% 16* 16\n",
        "      \n",
        "      image.putpixel((x,y), (r,g,b) )\n",
        "\n",
        "\n",
        "plt.imshow(image);\n",
        "#plt.xlim(400, 600)\n",
        "#plt.ylim(400, 523)"
      ],
      "metadata": {
        "colab": {
          "base_uri": "https://localhost:8080/",
          "height": 269
        },
        "id": "OQskhhyTK0Bq",
        "outputId": "58b3add9-cc14-4aec-81a0-ed0a1700f9d8"
      },
      "id": "OQskhhyTK0Bq",
      "execution_count": 201,
      "outputs": [
        {
          "output_type": "display_data",
          "data": {
            "text/plain": [
              "<Figure size 432x288 with 1 Axes>"
            ],
            "image/png": "[encoded data removed]"
          },
          "metadata": {
            "needs_background": "light"
          }
        }
      ]
    },
    {
      "cell_type": "code",
      "source": [
        "plt.plot?"
      ],
      "metadata": {
        "id": "jV-3mJxgK9VP"
      },
      "id": "jV-3mJxgK9VP",
      "execution_count": 186,
      "outputs": []
    },
    {
      "cell_type": "code",
      "source": [
        ""
      ],
      "metadata": {
        "id": "QXYcG3E8cfPI"
      },
      "id": "QXYcG3E8cfPI",
      "execution_count": null,
      "outputs": []
    }
  ],
  "metadata": {
    "kernelspec": {
      "display_name": "Python 3 (ipykernel)",
      "language": "python",
      "name": "python3"
    },
    "language_info": {
      "codemirror_mode": {
        "name": "ipython",
        "version": 3
      },
      "file_extension": ".py",
      "mimetype": "text/x-python",
      "name": "python",
      "nbconvert_exporter": "python",
      "pygments_lexer": "ipython3",
      "version": "3.8.12"
    },
    "colab": {
      "name": "Laboratorio05_ec_variable.ipynb",
      "provenance": [],
      "collapsed_sections": []
    }
  },
  "nbformat": 4,
  "nbformat_minor": 5
}