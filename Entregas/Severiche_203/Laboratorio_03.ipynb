{
 "cells": [
  {
   "cell_type": "markdown",
   "metadata": {},
   "source": [
    "# Laboratorio 03"
   ]
  },
  {
   "cell_type": "markdown",
   "metadata": {},
   "source": [
    "## Importaciones necesarias"
   ]
  },
  {
   "cell_type": "code",
   "execution_count": 101,
   "metadata": {},
   "outputs": [],
   "source": [
    "import numpy as np\n",
    "import math\n",
    "import matplotlib.pyplot as plt"
   ]
  },
  {
   "cell_type": "markdown",
   "metadata": {},
   "source": [
    "## 1) Calcular de 2 formas distintas la siguiente expresión:\n",
    "\n",
    "\\begin{equation}\n",
    "e^{-x}\n",
    "\\end{equation}"
   ]
  },
  {
   "cell_type": "code",
   "execution_count": 102,
   "metadata": {},
   "outputs": [],
   "source": [
    "P1_x = 6/10\n",
    "P1_n = 170"
   ]
  },
  {
   "cell_type": "markdown",
   "metadata": {},
   "source": [
    "### Forma 1\n",
    "\n",
    "\\begin{equation}\n",
    "e^{-x}=\\sum_{n=0}^{N}  (-1)^n \\frac{x^{n}}{n!}\n",
    "\\end{equation}"
   ]
  },
  {
   "cell_type": "code",
   "execution_count": 103,
   "metadata": {},
   "outputs": [],
   "source": [
    "def ExpNeg(x,n):\n",
    "    result = 0.0\n",
    "    for i in range(n):\n",
    "        result = result + ((-1)**i)*(x**i/math.factorial(i))\n",
    "    return result"
   ]
  },
  {
   "cell_type": "code",
   "execution_count": 104,
   "metadata": {},
   "outputs": [
    {
     "name": "stdout",
     "output_type": "stream",
     "text": [
      "0.5488116360940264\n"
     ]
    }
   ],
   "source": [
    "P1_exp_F1 = ExpNeg(P1_x,P1_n)\n",
    "print(P1_exp_F1)"
   ]
  },
  {
   "cell_type": "markdown",
   "metadata": {},
   "source": [
    "### Forma 2\n",
    "\n",
    "Calculamos el valor:\n",
    "\\begin{equation}\n",
    "e^{x}=\\sum_{n=0}^{N} \\frac{x^{n}}{n!}\n",
    "\\end{equation}\n",
    "\n",
    "Posteriormente calculamos el valor objetivo:\n",
    "\\begin{equation}\n",
    "e^{-x} = \\frac{1}{e^{x}}\n",
    "\\end{equation}"
   ]
  },
  {
   "cell_type": "code",
   "execution_count": 105,
   "metadata": {},
   "outputs": [],
   "source": [
    "def Exp(x,n):\n",
    "    result = 0.0\n",
    "    for i in range(n):\n",
    "        result = result + (x**i/math.factorial(i))\n",
    "    return 1/result"
   ]
  },
  {
   "cell_type": "code",
   "execution_count": 106,
   "metadata": {},
   "outputs": [
    {
     "name": "stdout",
     "output_type": "stream",
     "text": [
      "0.5488116360940264\n"
     ]
    }
   ],
   "source": [
    "P1_exp_F2 = Exp(P1_x,P1_n)\n",
    "print(P1_exp_F2)"
   ]
  },
  {
   "cell_type": "markdown",
   "metadata": {},
   "source": [
    "### Comparación\n",
    "\n",
    "\\begin{equation}\n",
    "abs(e^{-x} - e^{x})\n",
    "\\end{equation}"
   ]
  },
  {
   "cell_type": "code",
   "execution_count": 107,
   "metadata": {},
   "outputs": [
    {
     "name": "stdout",
     "output_type": "stream",
     "text": [
      "La diferencia entre los calculos es:\n",
      "0.0\n"
     ]
    }
   ],
   "source": [
    "print(\"La diferencia entre los calculos es:\")\n",
    "print(abs(P1_exp_F1-P1_exp_F2))"
   ]
  },
  {
   "cell_type": "markdown",
   "metadata": {},
   "source": [
    "## 2) Graficando en función de n iteraciones"
   ]
  },
  {
   "cell_type": "code",
   "execution_count": 108,
   "metadata": {},
   "outputs": [],
   "source": [
    "P2_n = 171\n",
    "P2_x = 6/10\n",
    "P2_Valn = np.linspace(1,P2_n,P2_n)"
   ]
  },
  {
   "cell_type": "markdown",
   "metadata": {},
   "source": [
    "### Forma 1"
   ]
  },
  {
   "cell_type": "code",
   "execution_count": 109,
   "metadata": {},
   "outputs": [],
   "source": [
    "P2_Exp_F1 = np.zeros(len(P2_Valn))\n",
    "for i in range(len(P2_Exp_F1)):\n",
    "    P2_Exp_F1[i] = ExpNeg(P2_x,int(P2_Valn[i]))"
   ]
  },
  {
   "cell_type": "markdown",
   "metadata": {},
   "source": [
    "### Forma 2"
   ]
  },
  {
   "cell_type": "code",
   "execution_count": 110,
   "metadata": {},
   "outputs": [],
   "source": [
    "P2_Exp_F2 = np.zeros(len(P2_Valn))\n",
    "for i in range(len(P2_Exp_F2)):\n",
    "    P2_Exp_F2[i] = Exp(P2_x,int(P2_Valn[i]))"
   ]
  },
  {
   "cell_type": "markdown",
   "metadata": {},
   "source": [
    "### Graficando ambos casos"
   ]
  },
  {
   "cell_type": "code",
   "execution_count": 111,
   "metadata": {},
   "outputs": [
    {
     "data": {
      "image/png": "[encoded data removed]",
      "text/plain": [
       "<Figure size 720x576 with 1 Axes>"
      ]
     },
     "metadata": {
      "needs_background": "light"
     },
     "output_type": "display_data"
    }
   ],
   "source": [
    "plt.figure(figsize=(10,8))\n",
    "plt.plot(P2_Valn,P2_Exp_F1, label=\"Forma 1\")\n",
    "plt.plot(P2_Valn,P2_Exp_F2, label=\"Forma 2\")\n",
    "plt.xlabel(\"Valores de n iteraciones\")\n",
    "plt.ylabel(\"Exponencial\")\n",
    "plt.xlim(0,10)\n",
    "plt.legend()\n",
    "plt.show()"
   ]
  },
  {
   "cell_type": "markdown",
   "metadata": {},
   "source": [
    "## 3) Testeando para $x\\approx 10$ y $n\\approx x - 1$"
   ]
  },
  {
   "cell_type": "code",
   "execution_count": 112,
   "metadata": {},
   "outputs": [],
   "source": [
    "P3_Valx = np.linspace(8,13,6)\n",
    "P3_n = np.linspace(7,12,6)"
   ]
  },
  {
   "cell_type": "markdown",
   "metadata": {},
   "source": [
    "### Forma 1"
   ]
  },
  {
   "cell_type": "code",
   "execution_count": 114,
   "metadata": {},
   "outputs": [],
   "source": [
    "P3_Exp_F1 = np.zeros(len(P3_Valx))\n",
    "for i in range(len(P3_Exp_F1)):\n",
    "    P3_Exp_F1[i] = ExpNeg(P3_Valx[i],int(P3_n[i]))"
   ]
  },
  {
   "cell_type": "markdown",
   "metadata": {},
   "source": [
    "### Forma 2"
   ]
  },
  {
   "cell_type": "code",
   "execution_count": 115,
   "metadata": {},
   "outputs": [],
   "source": [
    "P3_Exp_F2 = np.zeros(len(P3_Valx))\n",
    "for i in range(len(P3_Exp_F2)):\n",
    "    P3_Exp_F2[i] = Exp(P3_Valx[i],int(P3_n[i]))"
   ]
  },
  {
   "cell_type": "markdown",
   "metadata": {},
   "source": [
    "### Calculando diferencias y graficando comparación"
   ]
  },
  {
   "cell_type": "code",
   "execution_count": 116,
   "metadata": {},
   "outputs": [],
   "source": [
    "P3_diffe = np.zeros(len(P3_Valx))\n",
    "P3_diffe = abs(P3_Exp_F1-P3_Exp_F2)"
   ]
  },
  {
   "cell_type": "code",
   "execution_count": 118,
   "metadata": {},
   "outputs": [
    {
     "data": {
      "image/png": "[encoded data removed]",
      "text/plain": [
       "<Figure size 720x576 with 1 Axes>"
      ]
     },
     "metadata": {
      "needs_background": "light"
     },
     "output_type": "display_data"
    }
   ],
   "source": [
    "plt.figure(figsize=(10,8))\n",
    "plt.plot(P3_Valx,P3_Exp_F1, label=\"Forma 1\")\n",
    "plt.plot(P3_Valx,P3_Exp_F2, label=\"Forma 2\")\n",
    "plt.xlabel(\"Valores de x\")\n",
    "plt.ylabel(\"Exponencial\")\n",
    "plt.legend()\n",
    "plt.show()"
   ]
  },
  {
   "cell_type": "markdown",
   "metadata": {},
   "source": [
    "## 4) Calculando \n",
    "\n",
    "\\begin{equation} \n",
    "e^{-x} \n",
    "\\end{equation} \n",
    "\n",
    "para valores de x entre:\n",
    "\n",
    "- Caso 1: (1,10)\n",
    "- Caso 2: (10,100)\n",
    "\n",
    "¿Cuándo la serie comienza a perder precisión?"
   ]
  },
  {
   "cell_type": "markdown",
   "metadata": {},
   "source": [
    "### Caso 1"
   ]
  },
  {
   "cell_type": "code",
   "execution_count": null,
   "metadata": {},
   "outputs": [],
   "source": []
  },
  {
   "cell_type": "markdown",
   "metadata": {},
   "source": [
    "### Caso 2"
   ]
  },
  {
   "cell_type": "code",
   "execution_count": null,
   "metadata": {},
   "outputs": [],
   "source": []
  },
  {
   "cell_type": "markdown",
   "metadata": {},
   "source": [
    "## 5) Caculando el error vs N para diferentes valores de x"
   ]
  },
  {
   "cell_type": "code",
   "execution_count": null,
   "metadata": {},
   "outputs": [],
   "source": []
  },
  {
   "cell_type": "markdown",
   "metadata": {},
   "source": [
    "## 6) Calcular para un valor de x menor o igual a 1, donde la precisión no pase del orden de 10^-7\n",
    "\n",
    "\\begin{equation}\n",
    "\\left| \\frac{(-x)^{N+1}}{(N+1)!} \\right | \\le \\left| 10^{-7} \\sum_{N=0}^{N} \\frac{(-x)^{n}}{n!} \\right|\n",
    "\\end{equation}"
   ]
  },
  {
   "cell_type": "code",
   "execution_count": null,
   "metadata": {},
   "outputs": [],
   "source": []
  }
 ],
 "metadata": {
  "kernelspec": {
   "display_name": "Python 3.10.4 64-bit",
   "language": "python",
   "name": "python3"
  },
  "language_info": {
   "codemirror_mode": {
    "name": "ipython",
    "version": 3
   },
   "file_extension": ".py",
   "mimetype": "text/x-python",
   "name": "python",
   "nbconvert_exporter": "python",
   "pygments_lexer": "ipython3",
   "version": "3.10.4"
  },
  "orig_nbformat": 4,
  "vscode": {
   "interpreter": {
    "hash": "26de051ba29f2982a8de78e945f0abaf191376122a1563185a90213a26c5da77"
   }
  }
 },
 "nbformat": 4,
 "nbformat_minor": 2
}
