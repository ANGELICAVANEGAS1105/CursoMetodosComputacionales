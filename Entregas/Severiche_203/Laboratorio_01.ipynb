{
 "cells": [
  {
   "cell_type": "markdown",
   "metadata": {},
   "source": [
    "# Laboratorio 01 del taller de MC"
   ]
  },
  {
   "cell_type": "code",
   "execution_count": null,
   "metadata": {},
   "outputs": [],
   "source": [
    "import numpy as np\n",
    "import matplotlib.pyplot as plt"
   ]
  },
  {
   "cell_type": "code",
   "execution_count": null,
   "metadata": {},
   "outputs": [],
   "source": [
    "def Mapalogistico(ini,r,canti):\n",
    "    \"\"\"\n",
    "    Calcula los valores de la funcion X(n+1) = rXn(1-Xn)\n",
    "        Input: valor inicial y r flotantes, canti = cantidad de veces que se repite valor entero \n",
    "        Output: lista con canti valores de la funcion\n",
    "    \"\"\"\n",
    "    resultado = np.zeros(canti)\n",
    "    resultado[0] = ini\n",
    "    for i in range(1,canti):\n",
    "        resultado[i] = r*resultado[i-1]*(1-resultado[i-1])\n",
    "    return resultado"
   ]
  },
  {
   "cell_type": "markdown",
   "metadata": {},
   "source": [
    "## 1) Mapa logistico y grafica de $X_n$ en función de n"
   ]
  },
  {
   "cell_type": "code",
   "execution_count": null,
   "metadata": {},
   "outputs": [],
   "source": [
    "p1_xini = 0.8\n",
    "p1_valr = 3.3\n",
    "p1_itera = 100\n",
    "p1_valx = np.linspace(0,p1_itera,p1_itera)\n",
    "p1_valy = Mapalogistico(p1_xini,p1_valr,p1_itera)"
   ]
  },
  {
   "cell_type": "code",
   "execution_count": null,
   "metadata": {},
   "outputs": [],
   "source": [
    "plt.figure(figsize=(14,8))\n",
    "plt.title(\"Mapa logistico con Xn=0.8 y r=3.3\")\n",
    "plt.ylabel(\"Mapa logistico\")\n",
    "plt.xlabel(\"Valores de n\")\n",
    "plt.plot(p1_valx,Mapalogistico(p1_xini,p1_valr,p1_itera))\n",
    "plt.show()"
   ]
  },
  {
   "cell_type": "markdown",
   "metadata": {},
   "source": [
    "# 2) Pruebas para $X_n = 0.5$ y distintos valores de r"
   ]
  },
  {
   "cell_type": "code",
   "execution_count": null,
   "metadata": {},
   "outputs": [],
   "source": [
    "def graficadorEjesP2(r):\n",
    "    titulo = \"Mapa logistico con Xi=0.5 y r=\" + str(r)\n",
    "    plt.title(titulo)\n",
    "    plt.ylabel(\"Mapa logistico\")\n",
    "    plt.xlabel(\"Valores de n\")"
   ]
  },
  {
   "cell_type": "code",
   "execution_count": null,
   "metadata": {},
   "outputs": [],
   "source": [
    "p2_xini = 0.5\n",
    "p2_valr =  np.array([1.9, 2.9, 3.1, 3.5, 3.9,4.0])\n",
    "p2_itera = 100\n",
    "p2_valx = np.linspace(0,p2_itera,p2_itera)\n",
    "p2_valy = []\n",
    "for i in range(0,len(p2_valr)):\n",
    "    p2_valy.append(Mapalogistico(p2_xini,p2_valr[i],p2_itera))"
   ]
  },
  {
   "cell_type": "code",
   "execution_count": null,
   "metadata": {},
   "outputs": [],
   "source": [
    "plt.figure(figsize=(20,12))\n",
    "for i in range(0,len(p2_valr)):\n",
    "    plot = 231 + i\n",
    "    plt.subplot(plot)\n",
    "    graficadorEjesP2(p2_valr[i])\n",
    "    plt.plot(p2_valx,p2_valy[i])\n",
    "plt.show()"
   ]
  },
  {
   "cell_type": "markdown",
   "metadata": {},
   "source": [
    "## 3) Construye una rutina llamada logist_map y probar el codigo:\n",
    "Np = 1000\n",
    "\n",
    "xf = np.zeros(Np)\n",
    "\n",
    "r  = np.linspace(2.5, 4, Np)\n",
    "\n",
    "for i in range(0, Np):\n",
    "    \n",
    "xini = np.random.random()\n",
    "    \n",
    "x_i = logist_map(r = r[i], xi = xini, N = 1000)\n",
    "    \n",
    "xf[i] = x_i"
   ]
  },
  {
   "cell_type": "markdown",
   "metadata": {},
   "source": [
    "### Creacion del logist_map"
   ]
  },
  {
   "cell_type": "code",
   "execution_count": null,
   "metadata": {},
   "outputs": [],
   "source": [
    "def logist_map(r,xi,N):\n",
    "    \"\"\"\n",
    "    Calcula los valores de la funcion X(n+1) = rXn(1-Xn)\n",
    "        Input: valor inicial y r flotante, N = cantidad de veces que se repite valor entero \n",
    "        Output: lista con canti valores de la funcion\n",
    "    \"\"\"\n",
    "\n",
    "    resultado = np.zeros(N)\n",
    "    resultado[0] = xi\n",
    "    for i in range(1,N):\n",
    "        resultado[i] = r*resultado[i-1]*(1-resultado[i-1])\n",
    "    return resultado"
   ]
  },
  {
   "cell_type": "markdown",
   "metadata": {},
   "source": [
    "### Probando el codigo\n"
   ]
  },
  {
   "cell_type": "code",
   "execution_count": null,
   "metadata": {},
   "outputs": [],
   "source": [
    "Np = 1000\n",
    "xf = np.zeros(Np)\n",
    "r  = np.linspace(2.5, 4, Np)\n",
    "for i in range(0, Np):\n",
    "    xini = np.random.random()\n",
    "    x_i = logist_map(r = r[i], xi = xini, N = 1000)\n",
    "    xf[i] = x_i"
   ]
  },
  {
   "cell_type": "markdown",
   "metadata": {},
   "source": [
    "## 4) Realiza un gráfico de: plt.plot((r-1/r), xf,  \".\", markersize = 0.5)\n"
   ]
  },
  {
   "cell_type": "code",
   "execution_count": null,
   "metadata": {},
   "outputs": [],
   "source": [
    "plt.figure(figsize=(14,8))\n",
    "plt.xlabel(\"Valores de (r-1)/r\")\n",
    "plt.ylabel(\"Función logist_map\")\n",
    "plt.plot((r-1/r), xf,\".\", markersize = 0.5)\n",
    "plt.show()"
   ]
  },
  {
   "cell_type": "markdown",
   "metadata": {},
   "source": [
    "## 5) Encuentra 2 formas más de expresar $f(x)$\n",
    "En este caso se espera que los resultados varien. ¿A que se debe esto?"
   ]
  },
  {
   "cell_type": "code",
   "execution_count": null,
   "metadata": {},
   "outputs": [],
   "source": [
    "def graficadorEjesP5(xi,iteraciones):\n",
    "    titulo = f\"Mapa con: xi={round(xi,6)} r=2.5 iteraciones={iteraciones}\"\n",
    "    plt.title(titulo)\n",
    "    plt.ylabel(\"Mapa logistico\")\n",
    "    plt.xlabel(\"Iteraciones\")"
   ]
  },
  {
   "cell_type": "code",
   "execution_count": null,
   "metadata": {},
   "outputs": [],
   "source": [
    "case_xi = np.random.random()"
   ]
  },
  {
   "cell_type": "markdown",
   "metadata": {},
   "source": [
    "### Caso 1)"
   ]
  },
  {
   "cell_type": "code",
   "execution_count": null,
   "metadata": {},
   "outputs": [],
   "source": [
    "def logist_map_case1(r,xi,N):\n",
    "    \"\"\"\n",
    "    Calcula los valores de la funcion X(n+1) = Xn(r-r*Xn)\n",
    "        Input: valor inicial y r flotante, N = cantidad de veces que se repite valor entero \n",
    "        Output: lista con canti valores de la funcion\n",
    "    \"\"\"\n",
    "    resultado = np.zeros(N)\n",
    "    resultado[0] = xi\n",
    "    for i in range(1,N):\n",
    "        resultado[i] = resultado[i-1]*(r-r*resultado[i-1])\n",
    "    return resultado"
   ]
  },
  {
   "cell_type": "code",
   "execution_count": null,
   "metadata": {},
   "outputs": [],
   "source": [
    "case1_r = 2.5\n",
    "case1_itera = [10,20,40,80,160,320]\n",
    "case1_valx = []\n",
    "case1_valy = []\n",
    "for i in range(0,len(case1_itera)):\n",
    "    case1_valx.append(np.linspace(0,case1_itera[i],case1_itera[i]))\n",
    "    case1_valy.append(logist_map_case1(case1_r,case_xi,case1_itera[i]))"
   ]
  },
  {
   "cell_type": "code",
   "execution_count": null,
   "metadata": {},
   "outputs": [],
   "source": [
    "plt.figure(figsize=(20,12))\n",
    "for i in range(0,len(case1_itera)):\n",
    "    plot = 231 + i\n",
    "    plt.subplot(plot)\n",
    "    graficadorEjesP5(case_xi,case1_itera[i])\n",
    "    plt.plot(case1_valx[i],case1_valy[i])\n",
    "plt.show()\n"
   ]
  },
  {
   "cell_type": "markdown",
   "metadata": {},
   "source": [
    "### Caso 2)"
   ]
  },
  {
   "cell_type": "code",
   "execution_count": null,
   "metadata": {},
   "outputs": [],
   "source": [
    "def logist_map_case2(r,xi,N):\n",
    "    \"\"\"\n",
    "    Calcula los valores de la funcion X(n+1) = r(Xn-Xn*Xn)\n",
    "        Input: valor inicial y r flotante, N = cantidad de veces que se repite valor entero \n",
    "        Output: lista con canti valores de la funcion\n",
    "    \"\"\"\n",
    "    resultado = np.zeros(N)\n",
    "    resultado[0] = xi\n",
    "    for i in range(1,N):\n",
    "        resultado[i] = r*(resultado[i-1]-(resultado[i-1]*resultado[i-1]))\n",
    "    return resultado"
   ]
  },
  {
   "cell_type": "code",
   "execution_count": null,
   "metadata": {},
   "outputs": [],
   "source": [
    "case2_r = 2.5\n",
    "case2_itera = [10,20,40,80,160,320]\n",
    "case2_valx = []\n",
    "case2_valy = []\n",
    "for i in range(0,len(case2_itera)):\n",
    "    case2_valx.append(np.linspace(0,case2_itera[i],case2_itera[i]))\n",
    "    case2_valy.append(logist_map_case1(case2_r,case_xi,case2_itera[i]))"
   ]
  },
  {
   "cell_type": "code",
   "execution_count": null,
   "metadata": {},
   "outputs": [],
   "source": [
    "plt.figure(figsize=(20,12))\n",
    "for i in range(0,len(case2_itera)):\n",
    "    plot = 231 + i\n",
    "    plt.subplot(plot)\n",
    "    graficadorEjesP5(case_xi,case2_itera[i])\n",
    "    plt.plot(case2_valx[i],case2_valy[i])\n",
    "plt.show()"
   ]
  },
  {
   "cell_type": "markdown",
   "metadata": {},
   "source": [
    "### Comparación entre ambos casos\n",
    "\n",
    "Se supone los dos casos deberían variar, ya que el numero de decimales tiene un limite base y este hace que pierda precisión generando variaciones ligeras. Cosa que se puede apreciar en las graficas, donde algunos puntos no están exactamente en la linea punteada, sino ligeramente corridos.\n",
    "\n",
    "En todo caso eso no impide que la funcion siga describiendo su comportamiento original."
   ]
  },
  {
   "cell_type": "code",
   "execution_count": null,
   "metadata": {},
   "outputs": [],
   "source": [
    "plt.figure(figsize=(20,12))\n",
    "for i in range(0,6):\n",
    "    plot = 231 + i\n",
    "    plt.subplot(plot)\n",
    "    graficadorEjesP5(case_xi,case2_itera[i])\n",
    "    plt.plot(case2_valx[i],case2_valy[i],\"--\")\n",
    "    plt.plot(case2_valx[i],case2_valy[i],\".\")\n",
    "plt.show()"
   ]
  }
 ],
 "metadata": {
  "kernelspec": {
   "display_name": "Python 3.10.4 64-bit",
   "language": "python",
   "name": "python3"
  },
  "language_info": {
   "codemirror_mode": {
    "name": "ipython",
    "version": 3
   },
   "file_extension": ".py",
   "mimetype": "text/x-python",
   "name": "python",
   "nbconvert_exporter": "python",
   "pygments_lexer": "ipython3",
   "version": "3.10.4"
  },
  "orig_nbformat": 4,
  "vscode": {
   "interpreter": {
    "hash": "26de051ba29f2982a8de78e945f0abaf191376122a1563185a90213a26c5da77"
   }
  }
 },
 "nbformat": 4,
 "nbformat_minor": 2
}
