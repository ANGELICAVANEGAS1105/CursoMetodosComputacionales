{
 "cells": [
  {
   "cell_type": "markdown",
   "metadata": {},
   "source": [
    "# Laboratorio 00 del taller de MC"
   ]
  },
  {
   "cell_type": "markdown",
   "metadata": {},
   "source": [
    "## Calculo de factorial"
   ]
  },
  {
   "cell_type": "code",
   "execution_count": 1,
   "metadata": {},
   "outputs": [],
   "source": [
    "def factorial(numero):\n",
    "    \"\"\"\n",
    "    Calcula el factorial de un numero\n",
    "        Input:\n",
    "            numero: variable entera\n",
    "        Output:\n",
    "            resultado: valor entero\n",
    "    \"\"\"\n",
    "    numero = int(numero)\n",
    "    resultado = 1\n",
    "    if numero < 0:\n",
    "        print(\"El numero no puede ser menor a 0, pero se devolverá el valor 1\")\n",
    "        return 1\n",
    "    elif numero == 0: \n",
    "        return resultado\n",
    "    else:\n",
    "        for i in range(numero, 1,-1):\n",
    "            resultado = resultado*i\n",
    "        return resultado"
   ]
  },
  {
   "cell_type": "code",
   "execution_count": 2,
   "metadata": {},
   "outputs": [
    {
     "name": "stdout",
     "output_type": "stream",
     "text": [
      "El resultado del factorial es:  120\n"
     ]
    }
   ],
   "source": [
    "valor = factorial(5)\n",
    "print(\"El resultado del factorial es: \",valor)"
   ]
  }
 ],
 "metadata": {
  "interpreter": {
   "hash": "26de051ba29f2982a8de78e945f0abaf191376122a1563185a90213a26c5da77"
  },
  "kernelspec": {
   "display_name": "Python 3.10.4 64-bit",
   "language": "python",
   "name": "python3"
  },
  "language_info": {
   "codemirror_mode": {
    "name": "ipython",
    "version": 3
   },
   "file_extension": ".py",
   "mimetype": "text/x-python",
   "name": "python",
   "nbconvert_exporter": "python",
   "pygments_lexer": "ipython3",
   "version": "3.10.4"
  },
  "orig_nbformat": 4
 },
 "nbformat": 4,
 "nbformat_minor": 2
}
