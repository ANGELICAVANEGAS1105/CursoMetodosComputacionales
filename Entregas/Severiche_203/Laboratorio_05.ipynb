{
 "cells": [
  {
   "cell_type": "markdown",
   "metadata": {},
   "source": [
    "# Laboratorio 05"
   ]
  },
  {
   "cell_type": "markdown",
   "metadata": {},
   "source": [
    "## Importaciones"
   ]
  },
  {
   "cell_type": "code",
   "execution_count": null,
   "metadata": {},
   "outputs": [],
   "source": [
    "import pandas as pd\n",
    "import numpy as np\n",
    "import matplotlib.pyplot as plt\n",
    "from scipy import optimize as opt\n",
    "from PIL import Image"
   ]
  },
  {
   "cell_type": "markdown",
   "metadata": {},
   "source": [
    "## Punto 1\n",
    "\n",
    "¿Para que ángulo el area del segmento circular es igual a un cuarto del area de la circunferencia?"
   ]
  },
  {
   "cell_type": "markdown",
   "metadata": {},
   "source": [
    "El area de una región comprendida por un angulo es:\n",
    "\n",
    "\\begin{equation}\n",
    "A_s = \\frac{\\theta r^2}{2}\n",
    "\\end{equation}\n",
    "\n",
    "El area triangular es base por altura, siendo esta:\n",
    "\n",
    "\\begin{equation}\n",
    "A_t = r^2 \\cos(\\frac{\\theta}{2}) \\sin(\\frac{\\theta}{2})\n",
    "\\end{equation}\n",
    "\n",
    "la región de interes es la diferencia entre ambas, y esta, tiene que ser menor a una cuarta parte de toda el area de la circunferencia. Dando:\n",
    "\n",
    "\\begin{equation}\n",
    "A_s - A_t = \\frac{\\pi r^2}{4}\n",
    "\\end{equation}\n",
    "\n",
    "reemplazando $A_s$ y $A_t$:\n",
    "\n",
    "\\begin{equation}\n",
    "\\frac{\\theta r^2}{2} - r^2 \\cos(\\frac{\\theta}{2}) \\sin(\\frac{\\theta}{2}) = \\frac{\\pi r^2}{4}\n",
    "\\end{equation}\n",
    "\n",
    "Ya para finalizar,dividimos por $r^2$, multiplicamospor 2, y usamos la identidad de suma de angulos de seno. Quedando:\n",
    "\n",
    "\\begin{equation}\n",
    "\\theta - \\sin(\\theta) = \\frac{\\pi}{2}\n",
    "\\end{equation}"
   ]
  },
  {
   "cell_type": "markdown",
   "metadata": {},
   "source": [
    "### Calculando lo necesario"
   ]
  },
  {
   "cell_type": "code",
   "execution_count": null,
   "metadata": {},
   "outputs": [],
   "source": [
    "F_ang = lambda ang: ang - np.sin(ang) - np.pi/2"
   ]
  },
  {
   "cell_type": "code",
   "execution_count": null,
   "metadata": {},
   "outputs": [],
   "source": [
    "P1_muestra = 1000\n",
    "P1_ang_ini = 0\n",
    "P1_ang_fin = 2*np.pi\n",
    "P1_angulo = np.linspace(P1_ang_ini,P1_ang_fin,P1_muestra)\n",
    "P1_funcion = F_ang(P1_angulo)"
   ]
  },
  {
   "cell_type": "markdown",
   "metadata": {},
   "source": [
    "### Grafica con pandas"
   ]
  },
  {
   "cell_type": "code",
   "execution_count": null,
   "metadata": {},
   "outputs": [],
   "source": [
    "Frame = pd.DataFrame(np.array([P1_angulo,P1_funcion]).T,columns=[\"angulo\",\"funcion\"])\n",
    "Frame"
   ]
  },
  {
   "cell_type": "markdown",
   "metadata": {},
   "source": [
    "### Grafica con matplotlib"
   ]
  },
  {
   "cell_type": "code",
   "execution_count": null,
   "metadata": {},
   "outputs": [],
   "source": [
    "plt.figure(figsize=(15,8))\n",
    "plt.axhline(0, color=\"r\")\n",
    "plt.plot(P1_angulo,P1_funcion)\n",
    "plt.title(\"Condicion en funcion del angulo\")\n",
    "plt.xlabel(\"Angulo\")\n",
    "plt.ylabel(\"Condicion\")\n",
    "plt.grid()\n",
    "plt.show()"
   ]
  },
  {
   "cell_type": "markdown",
   "metadata": {},
   "source": [
    "### Encontrando el valor donde la funcion se vuelve 0 (Se cumple la condición objetivo)"
   ]
  },
  {
   "cell_type": "markdown",
   "metadata": {},
   "source": [
    "#### Intuitivo"
   ]
  },
  {
   "cell_type": "code",
   "execution_count": null,
   "metadata": {},
   "outputs": [],
   "source": [
    "Frame[abs(Frame[\"funcion\"]) < 0.01]"
   ]
  },
  {
   "cell_type": "markdown",
   "metadata": {},
   "source": [
    "#### Bisección"
   ]
  },
  {
   "cell_type": "code",
   "execution_count": null,
   "metadata": {},
   "outputs": [],
   "source": [
    "P1_val_a = 2\n",
    "P1_val_b = 3\n",
    "opt.bisect(F_ang,P1_val_a,P1_val_b)"
   ]
  },
  {
   "cell_type": "markdown",
   "metadata": {},
   "source": [
    "#### Punto fijo"
   ]
  },
  {
   "cell_type": "code",
   "execution_count": null,
   "metadata": {},
   "outputs": [],
   "source": [
    "P1_punto_fijo = 1\n",
    "P1_comparador = lambda ang: ang - F_ang(ang)\n",
    "opt.fixed_point(P1_comparador, P1_punto_fijo)"
   ]
  },
  {
   "cell_type": "markdown",
   "metadata": {},
   "source": [
    "#### Newton"
   ]
  },
  {
   "cell_type": "code",
   "execution_count": null,
   "metadata": {},
   "outputs": [],
   "source": [
    "P1_xo_newton = 1\n",
    "P1_Fprima = lambda ang: 1 - np.cos(ang)\n",
    "opt.newton(F_ang,P1_xo_newton,P1_Fprima)"
   ]
  },
  {
   "cell_type": "markdown",
   "metadata": {},
   "source": [
    "#### Secante"
   ]
  },
  {
   "cell_type": "code",
   "execution_count": null,
   "metadata": {},
   "outputs": [],
   "source": [
    "opt.newton(F_ang,P1_xo_newton)"
   ]
  },
  {
   "cell_type": "markdown",
   "metadata": {},
   "source": [
    "## Punto 2\n",
    "\n",
    "\\begin{equation}\n",
    "s(t)=s_0 - \\frac{mg}{k}t+\\frac{m^2g}{k}t(1-e^{-kt/m})\n",
    "\\end{equation}\n",
    "\n",
    "where $g = 32.17 ft/s2$ and $k$ represents the coefficient of air resistance in $lbs/ft$. Suppose $s0 = 300 ft$,\n",
    "$m = 0.25$ lb, and $k = 0.1$ lbs/ft. Find, to within $0.01$ s, the time it takes this quarter-pounder to hit the\n",
    "ground"
   ]
  },
  {
   "cell_type": "code",
   "execution_count": null,
   "metadata": {},
   "outputs": [],
   "source": [
    "P2_g = 32.17\n",
    "P2_so = 300\n",
    "P2_m = 0.25\n",
    "P2_k = 0.1"
   ]
  },
  {
   "cell_type": "code",
   "execution_count": null,
   "metadata": {},
   "outputs": [],
   "source": [
    "def F_caida(t,so,g,m,k):\n",
    "    return so - (m*g/k)*t + (((m)**2)*g/k)*t*(1 - np.e**(-k*t/m))"
   ]
  },
  {
   "cell_type": "code",
   "execution_count": null,
   "metadata": {},
   "outputs": [],
   "source": [
    "# Grafica de la funcion\n",
    "Val_graf_x = np.linspace(-20,20,1000)\n",
    "Val_graf_y = np.zeros(len(Val_graf_x))\n"
   ]
  },
  {
   "cell_type": "code",
   "execution_count": null,
   "metadata": {},
   "outputs": [],
   "source": [
    "for i in range(0,len(Val_graf_y)):\n",
    "    Val_graf_y[i] = F_caida(Val_graf_x[i],P2_so,P2_g,P2_m,P2_k)"
   ]
  },
  {
   "cell_type": "code",
   "execution_count": null,
   "metadata": {},
   "outputs": [],
   "source": [
    "plt.figure(figsize=(20,12))\n",
    "plt.plot(Val_graf_x,Val_graf_y)\n",
    "plt.show()"
   ]
  },
  {
   "cell_type": "markdown",
   "metadata": {},
   "source": [
    "### Bisección"
   ]
  },
  {
   "cell_type": "code",
   "execution_count": null,
   "metadata": {},
   "outputs": [],
   "source": [
    "P2_val_a = -200\n",
    "P2_val_b = 200\n",
    "opt.bisect(F_caida,P2_val_a,P2_val_b,(P2_so,P2_g,P2_m,P2_k))"
   ]
  },
  {
   "cell_type": "markdown",
   "metadata": {},
   "source": [
    "### Punto fijo"
   ]
  },
  {
   "cell_type": "code",
   "execution_count": null,
   "metadata": {},
   "outputs": [],
   "source": [
    "P2_punto_fijo = 4\n",
    "opt.fixed_point(F_caida,P2_punto_fijo,(P2_so,P2_g,P2_m,P2_k))"
   ]
  },
  {
   "cell_type": "markdown",
   "metadata": {},
   "source": [
    "### Newton"
   ]
  },
  {
   "cell_type": "code",
   "execution_count": null,
   "metadata": {},
   "outputs": [],
   "source": [
    "def F_caida_prima(t,so,g,m,k):\n",
    "    return -(m*g/k) + ((m**2)*g/k)*(1 - np.e**(-k*t/m)*(1 - t*k/m))"
   ]
  },
  {
   "cell_type": "code",
   "execution_count": null,
   "metadata": {},
   "outputs": [],
   "source": [
    "P2_xo_newton = 2\n",
    "opt.newton(F_caida,P2_xo_newton,F_caida_prima,(P2_so,P2_g,P2_m,P2_k))"
   ]
  },
  {
   "cell_type": "markdown",
   "metadata": {},
   "source": [
    "### Secante"
   ]
  },
  {
   "cell_type": "code",
   "execution_count": null,
   "metadata": {},
   "outputs": [],
   "source": [
    "opt.newton(F_caida,P2_xo_newton,args=(P2_so,P2_g,P2_m,P2_k))"
   ]
  },
  {
   "cell_type": "markdown",
   "metadata": {},
   "source": [
    "DADA LA GRAFICA DEL INICO LA FUNCION NO TIENE VALORES 0 EN LA RECTA REAL"
   ]
  },
  {
   "cell_type": "markdown",
   "metadata": {},
   "source": [
    "## Punto 3\n",
    "\n",
    "\\begin{equation}\n",
    "m(T) = \\tanh\\left( \\frac{m(T)}{T} \\right)\n",
    "\\end{equation}\n",
    "\n",
    "Para T = 0.5, determine:"
   ]
  },
  {
   "cell_type": "markdown",
   "metadata": {},
   "source": [
    "De la igualdad anterior se tiene:\n",
    "\n",
    "\\begin{equation}\n",
    "F(T) = 0 =  \\tanh\\left( \\frac{m(T)}{T} \\right) - m(T)\n",
    "\\end{equation}"
   ]
  },
  {
   "cell_type": "code",
   "execution_count": 79,
   "metadata": {},
   "outputs": [],
   "source": [
    "def magne_media(m,T): \n",
    "    return np.tanh(m/T) - m"
   ]
  },
  {
   "cell_type": "code",
   "execution_count": 80,
   "metadata": {},
   "outputs": [],
   "source": [
    "P3_To = tuple([0.5])"
   ]
  },
  {
   "cell_type": "markdown",
   "metadata": {},
   "source": [
    "### sub punto a\n",
    "\n",
    "La magnetización reducida empleando el metodo de la secante (Muestre su resultado con 4 cifras)"
   ]
  },
  {
   "cell_type": "code",
   "execution_count": 81,
   "metadata": {},
   "outputs": [
    {
     "data": {
      "text/plain": [
       "0.9575040240772688"
      ]
     },
     "execution_count": 81,
     "metadata": {},
     "output_type": "execute_result"
    }
   ],
   "source": [
    "P3_xo_newton = 3\n",
    "opt.newton(magne_media,P3_xo_newton,args=P3_To)"
   ]
  },
  {
   "cell_type": "markdown",
   "metadata": {},
   "source": [
    "### sub punto b\n",
    "\n",
    "Valide su respuestado con el metodo de punto fijo.\n",
    "(Muestre su resultado con 4 cifras)"
   ]
  },
  {
   "cell_type": "code",
   "execution_count": 82,
   "metadata": {},
   "outputs": [
    {
     "data": {
      "text/plain": [
       "array(-3.88995177e-05)"
      ]
     },
     "execution_count": 82,
     "metadata": {},
     "output_type": "execute_result"
    }
   ],
   "source": [
    "P3_punto_fijo = 1\n",
    "opt.fixed_point(magne_media,P3_punto_fijo,args=P3_To)"
   ]
  },
  {
   "cell_type": "markdown",
   "metadata": {},
   "source": [
    "### sub punto d\n",
    "\n",
    "Defina T = np.linspace(0.1,0.99,100), y emple el metodo de la secante para construir un gráfico de magnetización reducida como función de la temperatura para los  100 valores  de T."
   ]
  },
  {
   "cell_type": "code",
   "execution_count": 83,
   "metadata": {},
   "outputs": [],
   "source": [
    "P3_val_T = np.linspace(-0.99,0.99,100)"
   ]
  },
  {
   "cell_type": "code",
   "execution_count": 84,
   "metadata": {},
   "outputs": [],
   "source": [
    "P3_val_m = np.zeros(len(P3_val_T))\n",
    "for i,val in enumerate(P3_val_T):\n",
    "    P3_val_m[i] = magne_media(val,0.9)"
   ]
  },
  {
   "cell_type": "code",
   "execution_count": 85,
   "metadata": {},
   "outputs": [
    {
     "data": {
      "image/png": "[encoded data removed]",
      "text/plain": [
       "<Figure size 1440x864 with 1 Axes>"
      ]
     },
     "metadata": {
      "needs_background": "light"
     },
     "output_type": "display_data"
    }
   ],
   "source": [
    "plt.figure(figsize=(20,12))\n",
    "plt.plot(P3_val_T,P3_val_m)\n",
    "plt.axhline(0,color=\"red\")\n",
    "plt.show()"
   ]
  },
  {
   "cell_type": "code",
   "execution_count": 88,
   "metadata": {},
   "outputs": [
    {
     "ename": "TypeError",
     "evalue": "'numpy.float64' object is not iterable",
     "output_type": "error",
     "traceback": [
      "\u001b[1;31m---------------------------------------------------------------------------\u001b[0m",
      "\u001b[1;31mTypeError\u001b[0m                                 Traceback (most recent call last)",
      "\u001b[1;32mg:\\UdeA\\Semestre 2022-1\\MC Taller\\Metodos_Computacionales_taller\\Entregas\\Severiche_203\\Laboratorio_05.ipynb Celda 52\u001b[0m in \u001b[0;36m<cell line: 2>\u001b[1;34m()\u001b[0m\n\u001b[0;32m      <a href='vscode-notebook-cell:/g%3A/UdeA/Semestre%202022-1/MC%20Taller/Metodos_Computacionales_taller/Entregas/Severiche_203/Laboratorio_05.ipynb#X63sZmlsZQ%3D%3D?line=0'>1</a>\u001b[0m P3_val_mag \u001b[39m=\u001b[39m np\u001b[39m.\u001b[39mzeros(\u001b[39mlen\u001b[39m(P3_val_T))\n\u001b[0;32m      <a href='vscode-notebook-cell:/g%3A/UdeA/Semestre%202022-1/MC%20Taller/Metodos_Computacionales_taller/Entregas/Severiche_203/Laboratorio_05.ipynb#X63sZmlsZQ%3D%3D?line=1'>2</a>\u001b[0m \u001b[39mfor\u001b[39;00m i \u001b[39min\u001b[39;00m \u001b[39mrange\u001b[39m(\u001b[39m0\u001b[39m,\u001b[39mlen\u001b[39m(P3_val_T)):\n\u001b[1;32m----> <a href='vscode-notebook-cell:/g%3A/UdeA/Semestre%202022-1/MC%20Taller/Metodos_Computacionales_taller/Entregas/Severiche_203/Laboratorio_05.ipynb#X63sZmlsZQ%3D%3D?line=2'>3</a>\u001b[0m     P3_val_mag[i] \u001b[39m=\u001b[39m opt\u001b[39m.\u001b[39mbisect(magne_media,\u001b[39m0.01\u001b[39m,\u001b[39m1\u001b[39m,\u001b[39mtuple\u001b[39;49m(P3_val_T[i]))\n",
      "\u001b[1;31mTypeError\u001b[0m: 'numpy.float64' object is not iterable"
     ]
    }
   ],
   "source": [
    "P3_val_mag = np.zeros(len(P3_val_T))\n",
    "for i in range(0,len(P3_val_T)):\n",
    "    P3_val_mag[i] = opt.bisect(magne_media,0.01,1,tuple(P3_val_T[i]))"
   ]
  },
  {
   "cell_type": "code",
   "execution_count": null,
   "metadata": {},
   "outputs": [],
   "source": [
    "plt.figure(figsize=(12,8))\n",
    "plt.plot(P3_val_T,P3_val_mag)\n",
    "plt.xlabel(\"Temperatura\")\n",
    "plt.ylabel(\"Magnetizacion media\")\n",
    "plt.title(\"Magnetizacion en funcion de la temperatura\")\n",
    "plt.show()"
   ]
  },
  {
   "cell_type": "markdown",
   "metadata": {},
   "source": [
    "## Punto 5\n",
    "\n",
    "\\begin{equation}\n",
    "z_{n+1} = z_n -a \\frac{f(z)}{f'(z)} \n",
    "\\end{equation}\n",
    "\n",
    "\\begin{equation}\n",
    "f'(z) = \\frac{ f(z+h)+f(z) }{h}\n",
    "\\end{equation}\n"
   ]
  },
  {
   "cell_type": "markdown",
   "metadata": {},
   "source": [
    "### Parte 1 (método Newton-Raphson)"
   ]
  },
  {
   "cell_type": "code",
   "execution_count": null,
   "metadata": {},
   "outputs": [],
   "source": [
    "def funcOriginal(val):\n",
    "    return val*3 + val*2\n",
    "\n",
    "def funcDeriv(val):\n",
    "    return val*2 + val\n",
    "\n",
    "def funcDerivAprox(val, vari):\n",
    "    return (funcOriginal(val+vari)-funcOriginal(val))/vari"
   ]
  },
  {
   "cell_type": "code",
   "execution_count": null,
   "metadata": {},
   "outputs": [],
   "source": [
    "a = 0.3"
   ]
  },
  {
   "cell_type": "code",
   "execution_count": null,
   "metadata": {},
   "outputs": [],
   "source": []
  },
  {
   "cell_type": "markdown",
   "metadata": {},
   "source": [
    "### Parte 2 (replicar el código y entender) (Nota: Voy a dividir el codigo y usar comentarios)"
   ]
  },
  {
   "cell_type": "code",
   "execution_count": null,
   "metadata": {},
   "outputs": [],
   "source": [
    "\n",
    "\n",
    "Npx_X = 80 #Numero de pixeles en x\n",
    "Npx_Y = 80 #Numero de pixeles en y\n",
    "\n",
    "image = Image.new(\"RGB\", (Npx_X, Npx_Y)) #Creacion de la imagen inicial\n",
    "\n",
    "npx = np.arange(0, Npx_X)\n",
    "npy = np.arange(0, Npx_Y)\n",
    "\n",
    "xmin = -1\n",
    "xmax = 1\n",
    "ymin = -1\n",
    "ymax = 1\n",
    "#Transformación al plano complejo en un rectangulo (xmin, xmax), (ymin, ymax)\n",
    "zx = npx * (xmax - xmin) / (Npx_X - 1)   + xmin\n",
    "zy = npy * (ymax-ymin) / (Npx_Y - 1) + ymin\n",
    "\n",
    "#Definicion  la funcion y las derivada \n",
    "def f(z): \n",
    "  return z**3 - 1\n",
    "\n",
    "def fp(z): \n",
    "  return 3*z**2\n",
    "\n",
    "h = 1E-4\n",
    "def fpn(z, h): \n",
    "  return (f(z+h)-f(z))/h\n",
    "  \n",
    "\n",
    "a = 0.2\n",
    "Niteraciones = 120\n",
    "eps = 1E-8\n",
    "\n",
    "x = - 1\n",
    "for zx_ in zx:\n",
    "  x = x + 1 \n",
    "  y = -1\n",
    "  for zy_ in zy: \n",
    "      y = y + 1\n",
    "      Z_0 = complex(zx_, zy_)\n",
    "    \n",
    "      for i in range(0, Niteraciones): \n",
    "        Z = Z_0 - a * f(Z_0)/fp(Z_0)\n",
    "\n",
    "        if( abs(Z-Z_0)<= eps):\n",
    "          break \n",
    "          \n",
    "        Z_0 = Z\n",
    "      #print(i)\n",
    "      #print(i)\n",
    "      r, g, b = i % 4 *64 , i % 8 *16, i% 16* 16\n",
    "      \n",
    "      image.putpixel((x,y), (r,g,b) )\n",
    "\n",
    "\n",
    "plt.imshow(image)\n",
    "#plt.xlim(400, 600)\n",
    "#plt.ylim(400, 523)"
   ]
  }
 ],
 "metadata": {
  "kernelspec": {
   "display_name": "Python 3.10.4 64-bit",
   "language": "python",
   "name": "python3"
  },
  "language_info": {
   "codemirror_mode": {
    "name": "ipython",
    "version": 3
   },
   "file_extension": ".py",
   "mimetype": "text/x-python",
   "name": "python",
   "nbconvert_exporter": "python",
   "pygments_lexer": "ipython3",
   "version": "3.10.4"
  },
  "orig_nbformat": 4,
  "vscode": {
   "interpreter": {
    "hash": "26de051ba29f2982a8de78e945f0abaf191376122a1563185a90213a26c5da77"
   }
  }
 },
 "nbformat": 4,
 "nbformat_minor": 2
}
