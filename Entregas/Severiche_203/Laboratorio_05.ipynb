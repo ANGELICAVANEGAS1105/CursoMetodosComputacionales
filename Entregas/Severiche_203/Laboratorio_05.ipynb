{
 "cells": [
  {
   "cell_type": "markdown",
   "metadata": {},
   "source": [
    "# Laboratorio 05"
   ]
  },
  {
   "cell_type": "markdown",
   "metadata": {},
   "source": [
    "## Importaciones"
   ]
  },
  {
   "cell_type": "code",
   "execution_count": null,
   "metadata": {},
   "outputs": [],
   "source": [
    "import pandas as pd\n",
    "import numpy as np\n",
    "import matplotlib.pyplot as plt\n",
    "from scipy import optimize as opt\n",
    "from PIL import Image"
   ]
  },
  {
   "cell_type": "markdown",
   "metadata": {},
   "source": [
    "## Punto 1\n",
    "\n",
    "¿Para que ángulo el area del segmento circular es igual a un cuarto del area de la circunferencia?"
   ]
  },
  {
   "cell_type": "markdown",
   "metadata": {},
   "source": [
    "El area de una región comprendida por un angulo es:\n",
    "\n",
    "\\begin{equation}\n",
    "A_s = \\frac{\\theta r^2}{2}\n",
    "\\end{equation}\n",
    "\n",
    "El area triangular es base por altura, siendo esta:\n",
    "\n",
    "\\begin{equation}\n",
    "A_t = r^2 \\cos(\\frac{\\theta}{2}) \\sin(\\frac{\\theta}{2})\n",
    "\\end{equation}\n",
    "\n",
    "la región de interes es la diferencia entre ambas, y esta, tiene que ser menor a una cuarta parte de toda el area de la circunferencia. Dando:\n",
    "\n",
    "\\begin{equation}\n",
    "A_s - A_t = \\frac{\\pi r^2}{4}\n",
    "\\end{equation}\n",
    "\n",
    "reemplazando $A_s$ y $A_t$:\n",
    "\n",
    "\\begin{equation}\n",
    "\\frac{\\theta r^2}{2} - r^2 \\cos(\\frac{\\theta}{2}) \\sin(\\frac{\\theta}{2}) = \\frac{\\pi r^2}{4}\n",
    "\\end{equation}\n",
    "\n",
    "Ya para finalizar,dividimos por $r^2$, multiplicamospor 2, y usamos la identidad de suma de angulos de seno. Quedando:\n",
    "\n",
    "\\begin{equation}\n",
    "\\theta - \\sin(\\theta) = \\frac{\\pi}{2}\n",
    "\\end{equation}"
   ]
  },
  {
   "cell_type": "markdown",
   "metadata": {},
   "source": [
    "### Calculando lo necesario"
   ]
  },
  {
   "cell_type": "code",
<<<<<<< HEAD
   "execution_count": null,
=======
   "execution_count": 5,
>>>>>>> Seve
   "metadata": {},
   "outputs": [],
   "source": [
    "F_ang = lambda ang: ang - np.sin(ang) - np.pi/2"
   ]
  },
  {
   "cell_type": "code",
<<<<<<< HEAD
   "execution_count": null,
=======
   "execution_count": 6,
>>>>>>> Seve
   "metadata": {},
   "outputs": [],
   "source": [
    "P1_muestra = 1000\n",
    "P1_ang_ini = 0\n",
    "P1_ang_fin = 2*np.pi\n",
    "P1_angulo = np.linspace(P1_ang_ini,P1_ang_fin,P1_muestra)\n",
    "P1_funcion = F_ang(P1_angulo)"
   ]
  },
  {
   "cell_type": "markdown",
   "metadata": {},
   "source": [
    "### Grafica con pandas"
   ]
  },
  {
   "cell_type": "code",
<<<<<<< HEAD
   "execution_count": null,
   "metadata": {},
   "outputs": [],
=======
   "execution_count": 7,
   "metadata": {},
   "outputs": [
    {
     "data": {
      "text/html": [
       "<div>\n",
       "<style scoped>\n",
       "    .dataframe tbody tr th:only-of-type {\n",
       "        vertical-align: middle;\n",
       "    }\n",
       "\n",
       "    .dataframe tbody tr th {\n",
       "        vertical-align: top;\n",
       "    }\n",
       "\n",
       "    .dataframe thead th {\n",
       "        text-align: right;\n",
       "    }\n",
       "</style>\n",
       "<table border=\"1\" class=\"dataframe\">\n",
       "  <thead>\n",
       "    <tr style=\"text-align: right;\">\n",
       "      <th></th>\n",
       "      <th>angulo</th>\n",
       "      <th>funcion</th>\n",
       "    </tr>\n",
       "  </thead>\n",
       "  <tbody>\n",
       "    <tr>\n",
       "      <th>0</th>\n",
       "      <td>0.000000</td>\n",
       "      <td>-1.570796</td>\n",
       "    </tr>\n",
       "    <tr>\n",
       "      <th>1</th>\n",
       "      <td>0.006289</td>\n",
       "      <td>-1.570796</td>\n",
       "    </tr>\n",
       "    <tr>\n",
       "      <th>2</th>\n",
       "      <td>0.012579</td>\n",
       "      <td>-1.570796</td>\n",
       "    </tr>\n",
       "    <tr>\n",
       "      <th>3</th>\n",
       "      <td>0.018868</td>\n",
       "      <td>-1.570795</td>\n",
       "    </tr>\n",
       "    <tr>\n",
       "      <th>4</th>\n",
       "      <td>0.025158</td>\n",
       "      <td>-1.570794</td>\n",
       "    </tr>\n",
       "    <tr>\n",
       "      <th>...</th>\n",
       "      <td>...</td>\n",
       "      <td>...</td>\n",
       "    </tr>\n",
       "    <tr>\n",
       "      <th>995</th>\n",
       "      <td>6.258027</td>\n",
       "      <td>4.712386</td>\n",
       "    </tr>\n",
       "    <tr>\n",
       "      <th>996</th>\n",
       "      <td>6.264317</td>\n",
       "      <td>4.712388</td>\n",
       "    </tr>\n",
       "    <tr>\n",
       "      <th>997</th>\n",
       "      <td>6.270606</td>\n",
       "      <td>4.712389</td>\n",
       "    </tr>\n",
       "    <tr>\n",
       "      <th>998</th>\n",
       "      <td>6.276896</td>\n",
       "      <td>4.712389</td>\n",
       "    </tr>\n",
       "    <tr>\n",
       "      <th>999</th>\n",
       "      <td>6.283185</td>\n",
       "      <td>4.712389</td>\n",
       "    </tr>\n",
       "  </tbody>\n",
       "</table>\n",
       "<p>1000 rows × 2 columns</p>\n",
       "</div>"
      ],
      "text/plain": [
       "       angulo   funcion\n",
       "0    0.000000 -1.570796\n",
       "1    0.006289 -1.570796\n",
       "2    0.012579 -1.570796\n",
       "3    0.018868 -1.570795\n",
       "4    0.025158 -1.570794\n",
       "..        ...       ...\n",
       "995  6.258027  4.712386\n",
       "996  6.264317  4.712388\n",
       "997  6.270606  4.712389\n",
       "998  6.276896  4.712389\n",
       "999  6.283185  4.712389\n",
       "\n",
       "[1000 rows x 2 columns]"
      ]
     },
     "execution_count": 7,
     "metadata": {},
     "output_type": "execute_result"
    }
   ],
>>>>>>> Seve
   "source": [
    "Frame = pd.DataFrame(np.array([P1_angulo,P1_funcion]).T,columns=[\"angulo\",\"funcion\"])\n",
    "Frame"
   ]
  },
  {
   "cell_type": "markdown",
   "metadata": {},
   "source": [
    "### Grafica con matplotlib"
   ]
  },
  {
   "cell_type": "code",
<<<<<<< HEAD
   "execution_count": null,
=======
   "execution_count": 8,
>>>>>>> Seve
   "metadata": {},
   "outputs": [],
   "source": [
    "plt.figure(figsize=(15,8))\n",
    "plt.axhline(0, color=\"r\")\n",
    "plt.plot(P1_angulo,P1_funcion)\n",
    "plt.title(\"Condicion en funcion del angulo\")\n",
    "plt.xlabel(\"Angulo\")\n",
    "plt.ylabel(\"Condicion\")\n",
    "plt.grid()\n",
    "plt.show()"
   ]
  },
  {
   "cell_type": "markdown",
   "metadata": {},
   "source": [
    "### Encontrando el valor donde la funcion se vuelve 0 (Se cumple la condición objetivo)"
   ]
  },
  {
   "cell_type": "markdown",
   "metadata": {},
   "source": [
    "#### Intuitivo"
   ]
  },
  {
   "cell_type": "code",
<<<<<<< HEAD
   "execution_count": null,
   "metadata": {},
   "outputs": [],
=======
   "execution_count": 9,
   "metadata": {},
   "outputs": [
    {
     "data": {
      "text/html": [
       "<div>\n",
       "<style scoped>\n",
       "    .dataframe tbody tr th:only-of-type {\n",
       "        vertical-align: middle;\n",
       "    }\n",
       "\n",
       "    .dataframe tbody tr th {\n",
       "        vertical-align: top;\n",
       "    }\n",
       "\n",
       "    .dataframe thead th {\n",
       "        text-align: right;\n",
       "    }\n",
       "</style>\n",
       "<table border=\"1\" class=\"dataframe\">\n",
       "  <thead>\n",
       "    <tr style=\"text-align: right;\">\n",
       "      <th></th>\n",
       "      <th>angulo</th>\n",
       "      <th>funcion</th>\n",
       "    </tr>\n",
       "  </thead>\n",
       "  <tbody>\n",
       "    <tr>\n",
       "      <th>367</th>\n",
       "      <td>2.308237</td>\n",
       "      <td>-0.002751</td>\n",
       "    </tr>\n",
       "    <tr>\n",
       "      <th>368</th>\n",
       "      <td>2.314527</td>\n",
       "      <td>0.007782</td>\n",
       "    </tr>\n",
       "  </tbody>\n",
       "</table>\n",
       "</div>"
      ],
      "text/plain": [
       "       angulo   funcion\n",
       "367  2.308237 -0.002751\n",
       "368  2.314527  0.007782"
      ]
     },
     "execution_count": 9,
     "metadata": {},
     "output_type": "execute_result"
    }
   ],
>>>>>>> Seve
   "source": [
    "Frame[abs(Frame[\"funcion\"]) < 0.01]"
   ]
  },
  {
   "cell_type": "markdown",
   "metadata": {},
   "source": [
    "#### Bisección"
   ]
  },
  {
   "cell_type": "code",
<<<<<<< HEAD
   "execution_count": null,
   "metadata": {},
   "outputs": [],
=======
   "execution_count": 10,
   "metadata": {},
   "outputs": [
    {
     "data": {
      "text/plain": [
       "2.309881460010729"
      ]
     },
     "execution_count": 10,
     "metadata": {},
     "output_type": "execute_result"
    }
   ],
>>>>>>> Seve
   "source": [
    "P1_val_a = 2\n",
    "P1_val_b = 3\n",
    "opt.bisect(F_ang,P1_val_a,P1_val_b)"
   ]
  },
  {
   "cell_type": "markdown",
   "metadata": {},
   "source": [
    "#### Punto fijo"
   ]
  },
  {
   "cell_type": "code",
<<<<<<< HEAD
   "execution_count": null,
   "metadata": {},
   "outputs": [],
=======
   "execution_count": 11,
   "metadata": {},
   "outputs": [
    {
     "data": {
      "text/plain": [
       "array(2.30988146)"
      ]
     },
     "execution_count": 11,
     "metadata": {},
     "output_type": "execute_result"
    }
   ],
>>>>>>> Seve
   "source": [
    "P1_punto_fijo = 1\n",
    "P1_comparador = lambda ang: ang - F_ang(ang)\n",
    "opt.fixed_point(P1_comparador, P1_punto_fijo)"
   ]
  },
  {
   "cell_type": "markdown",
   "metadata": {},
   "source": [
    "#### Newton"
   ]
  },
  {
   "cell_type": "code",
<<<<<<< HEAD
   "execution_count": null,
   "metadata": {},
   "outputs": [],
=======
   "execution_count": 12,
   "metadata": {},
   "outputs": [
    {
     "data": {
      "text/plain": [
       "2.309881460010057"
      ]
     },
     "execution_count": 12,
     "metadata": {},
     "output_type": "execute_result"
    }
   ],
>>>>>>> Seve
   "source": [
    "P1_xo_newton = 1\n",
    "P1_Fprima = lambda ang: 1 - np.cos(ang)\n",
    "opt.newton(F_ang,P1_xo_newton,P1_Fprima)"
   ]
  },
  {
   "cell_type": "markdown",
   "metadata": {},
   "source": [
    "#### Secante"
   ]
  },
  {
   "cell_type": "code",
<<<<<<< HEAD
   "execution_count": null,
   "metadata": {},
   "outputs": [],
=======
   "execution_count": 13,
   "metadata": {},
   "outputs": [
    {
     "data": {
      "text/plain": [
       "2.3098814600100575"
      ]
     },
     "execution_count": 13,
     "metadata": {},
     "output_type": "execute_result"
    }
   ],
>>>>>>> Seve
   "source": [
    "opt.newton(F_ang,P1_xo_newton)"
   ]
  },
  {
   "cell_type": "markdown",
   "metadata": {},
   "source": [
    "## Punto 2\n",
    "\n",
    "\\begin{equation}\n",
    "s(t)=s_0 - \\frac{mg}{k}t+\\frac{m^2g}{k^2}t(1-e^{-kt/m})\n",
    "\\end{equation}\n",
    "\n",
    "where $g = 32.17 ft/s2$ and $k$ represents the coefficient of air resistance in $lbs/ft$. Suppose $s0 = 300 ft$,\n",
    "$m = 0.25$ lb, and $k = 0.1$ lbs/ft. Find, to within $0.01$ s, the time it takes this quarter-pounder to hit the\n",
    "ground"
   ]
  },
  {
   "cell_type": "code",
<<<<<<< HEAD
   "execution_count": null,
=======
   "execution_count": 14,
>>>>>>> Seve
   "metadata": {},
   "outputs": [],
   "source": [
    "P2_g = 32.17\n",
    "P2_so = 300\n",
    "P2_m = 0.25\n",
    "P2_k = 0.1"
   ]
  },
  {
   "cell_type": "code",
<<<<<<< HEAD
   "execution_count": null,
=======
   "execution_count": 43,
>>>>>>> Seve
   "metadata": {},
   "outputs": [],
   "source": [
    "def F_caida(t,so,g,m,k):\n",
<<<<<<< HEAD
    "    return so - (m*g/k)*t + (((m)**2)*g/k)*t*(1 - np.e**(-k*t/m))"
=======
    "    return so - (m*g/k)*t + (((m/k)**2)*g)*t*(1 - np.e**(-k*t/m))"
>>>>>>> Seve
   ]
  },
  {
   "cell_type": "code",
<<<<<<< HEAD
   "execution_count": null,
=======
   "execution_count": 44,
>>>>>>> Seve
   "metadata": {},
   "outputs": [],
   "source": [
    "# Grafica de la funcion\n",
<<<<<<< HEAD
    "Val_graf_x = np.linspace(-20,20,1000)\n",
=======
    "Val_graf_x = np.linspace(-0.99,0.99,1000)\n",
>>>>>>> Seve
    "Val_graf_y = np.zeros(len(Val_graf_x))\n"
   ]
  },
  {
   "cell_type": "code",
<<<<<<< HEAD
   "execution_count": null,
=======
   "execution_count": 45,
>>>>>>> Seve
   "metadata": {},
   "outputs": [],
   "source": [
    "for i in range(0,len(Val_graf_y)):\n",
    "    Val_graf_y[i] = F_caida(Val_graf_x[i],P2_so,P2_g,P2_m,P2_k)"
   ]
  },
  {
   "cell_type": "code",
<<<<<<< HEAD
   "execution_count": null,
   "metadata": {},
   "outputs": [],
=======
   "execution_count": 46,
   "metadata": {},
   "outputs": [
    {
     "data": {
      "image/png": "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",
      "text/plain": [
       "<Figure size 1440x864 with 1 Axes>"
      ]
     },
     "metadata": {
      "needs_background": "light"
     },
     "output_type": "display_data"
    }
   ],
>>>>>>> Seve
   "source": [
    "plt.figure(figsize=(20,12))\n",
    "plt.plot(Val_graf_x,Val_graf_y)\n",
    "plt.show()"
   ]
  },
  {
   "cell_type": "markdown",
   "metadata": {},
   "source": [
    "### Bisección"
   ]
  },
  {
   "cell_type": "code",
<<<<<<< HEAD
   "execution_count": null,
   "metadata": {},
   "outputs": [],
   "source": [
    "P2_val_a = -200\n",
    "P2_val_b = 200\n",
=======
   "execution_count": 35,
   "metadata": {},
   "outputs": [
    {
     "ename": "ValueError",
     "evalue": "f(a) and f(b) must have different signs",
     "output_type": "error",
     "traceback": [
      "\u001b[1;31m---------------------------------------------------------------------------\u001b[0m",
      "\u001b[1;31mValueError\u001b[0m                                Traceback (most recent call last)",
      "\u001b[1;32mg:\\UdeA\\Semestre 2022-1\\MC Taller\\Metodos_Computacionales_taller\\Entregas\\Severiche_203\\Laboratorio_05.ipynb Celda 28\u001b[0m in \u001b[0;36m<cell line: 3>\u001b[1;34m()\u001b[0m\n\u001b[0;32m      <a href='vscode-notebook-cell:/g%3A/UdeA/Semestre%202022-1/MC%20Taller/Metodos_Computacionales_taller/Entregas/Severiche_203/Laboratorio_05.ipynb#X36sZmlsZQ%3D%3D?line=0'>1</a>\u001b[0m P2_val_a \u001b[39m=\u001b[39m \u001b[39m-\u001b[39m\u001b[39m50\u001b[39m\n\u001b[0;32m      <a href='vscode-notebook-cell:/g%3A/UdeA/Semestre%202022-1/MC%20Taller/Metodos_Computacionales_taller/Entregas/Severiche_203/Laboratorio_05.ipynb#X36sZmlsZQ%3D%3D?line=1'>2</a>\u001b[0m P2_val_b \u001b[39m=\u001b[39m \u001b[39m50\u001b[39m\n\u001b[1;32m----> <a href='vscode-notebook-cell:/g%3A/UdeA/Semestre%202022-1/MC%20Taller/Metodos_Computacionales_taller/Entregas/Severiche_203/Laboratorio_05.ipynb#X36sZmlsZQ%3D%3D?line=2'>3</a>\u001b[0m opt\u001b[39m.\u001b[39;49mbisect(F_caida,P2_val_a,P2_val_b,(P2_so,P2_g,P2_m,P2_k))\n",
      "File \u001b[1;32m~\\AppData\\Roaming\\Python\\Python310\\site-packages\\scipy\\optimize\\_zeros_py.py:556\u001b[0m, in \u001b[0;36mbisect\u001b[1;34m(f, a, b, args, xtol, rtol, maxiter, full_output, disp)\u001b[0m\n\u001b[0;32m    554\u001b[0m \u001b[39mif\u001b[39;00m rtol \u001b[39m<\u001b[39m _rtol:\n\u001b[0;32m    555\u001b[0m     \u001b[39mraise\u001b[39;00m \u001b[39mValueError\u001b[39;00m(\u001b[39m\"\u001b[39m\u001b[39mrtol too small (\u001b[39m\u001b[39m%g\u001b[39;00m\u001b[39m < \u001b[39m\u001b[39m%g\u001b[39;00m\u001b[39m)\u001b[39m\u001b[39m\"\u001b[39m \u001b[39m%\u001b[39m (rtol, _rtol))\n\u001b[1;32m--> 556\u001b[0m r \u001b[39m=\u001b[39m _zeros\u001b[39m.\u001b[39;49m_bisect(f, a, b, xtol, rtol, maxiter, args, full_output, disp)\n\u001b[0;32m    557\u001b[0m \u001b[39mreturn\u001b[39;00m results_c(full_output, r)\n",
      "\u001b[1;31mValueError\u001b[0m: f(a) and f(b) must have different signs"
     ]
    }
   ],
   "source": [
    "P2_val_a = -50\n",
    "P2_val_b = 50\n",
>>>>>>> Seve
    "opt.bisect(F_caida,P2_val_a,P2_val_b,(P2_so,P2_g,P2_m,P2_k))"
   ]
  },
  {
   "cell_type": "markdown",
   "metadata": {},
   "source": [
    "### Punto fijo"
   ]
  },
  {
   "cell_type": "code",
<<<<<<< HEAD
   "execution_count": null,
   "metadata": {},
   "outputs": [],
=======
   "execution_count": 20,
   "metadata": {},
   "outputs": [
    {
     "data": {
      "text/plain": [
       "array(4.65534478)"
      ]
     },
     "execution_count": 20,
     "metadata": {},
     "output_type": "execute_result"
    }
   ],
>>>>>>> Seve
   "source": [
    "P2_punto_fijo = 4\n",
    "opt.fixed_point(F_caida,P2_punto_fijo,(P2_so,P2_g,P2_m,P2_k))"
   ]
  },
  {
   "cell_type": "markdown",
   "metadata": {},
   "source": [
    "### Newton"
   ]
  },
  {
   "cell_type": "code",
<<<<<<< HEAD
   "execution_count": null,
=======
   "execution_count": 21,
>>>>>>> Seve
   "metadata": {},
   "outputs": [],
   "source": [
    "def F_caida_prima(t,so,g,m,k):\n",
    "    return -(m*g/k) + ((m**2)*g/k)*(1 - np.e**(-k*t/m)*(1 - t*k/m))"
   ]
  },
  {
   "cell_type": "code",
<<<<<<< HEAD
   "execution_count": null,
   "metadata": {},
   "outputs": [],
=======
   "execution_count": 22,
   "metadata": {},
   "outputs": [
    {
     "data": {
      "text/plain": [
       "4.73613913760349"
      ]
     },
     "execution_count": 22,
     "metadata": {},
     "output_type": "execute_result"
    }
   ],
>>>>>>> Seve
   "source": [
    "P2_xo_newton = 2\n",
    "opt.newton(F_caida,P2_xo_newton,F_caida_prima,(P2_so,P2_g,P2_m,P2_k))"
   ]
  },
  {
   "cell_type": "markdown",
   "metadata": {},
   "source": [
    "### Secante"
   ]
  },
  {
   "cell_type": "code",
<<<<<<< HEAD
   "execution_count": null,
   "metadata": {},
   "outputs": [],
=======
   "execution_count": 23,
   "metadata": {},
   "outputs": [
    {
     "data": {
      "text/plain": [
       "4.73613913760349"
      ]
     },
     "execution_count": 23,
     "metadata": {},
     "output_type": "execute_result"
    }
   ],
>>>>>>> Seve
   "source": [
    "opt.newton(F_caida,P2_xo_newton,args=(P2_so,P2_g,P2_m,P2_k))"
   ]
  },
  {
   "cell_type": "markdown",
   "metadata": {},
   "source": [
    "DADA LA GRAFICA DEL INICO LA FUNCION NO TIENE VALORES 0 EN LA RECTA REAL"
   ]
  },
  {
   "cell_type": "markdown",
   "metadata": {},
   "source": [
    "## Punto 3\n",
    "\n",
    "\\begin{equation}\n",
    "m(T) = \\tanh\\left( \\frac{m(T)}{T} \\right)\n",
    "\\end{equation}\n",
    "\n",
    "Para T = 0.5, determine:"
   ]
  },
  {
   "cell_type": "markdown",
   "metadata": {},
   "source": [
    "De la igualdad anterior se tiene:\n",
    "\n",
    "\\begin{equation}\n",
    "F(T) = 0 =  \\tanh\\left( \\frac{m(T)}{T} \\right) - m(T)\n",
    "\\end{equation}"
   ]
  },
  {
   "cell_type": "code",
<<<<<<< HEAD
   "execution_count": 79,
=======
   "execution_count": 24,
>>>>>>> Seve
   "metadata": {},
   "outputs": [],
   "source": [
    "def magne_media(m,T): \n",
    "    return np.tanh(m/T) - m"
   ]
  },
  {
   "cell_type": "code",
<<<<<<< HEAD
   "execution_count": 80,
=======
   "execution_count": 25,
>>>>>>> Seve
   "metadata": {},
   "outputs": [],
   "source": [
    "P3_To = tuple([0.5])"
   ]
  },
  {
   "cell_type": "markdown",
   "metadata": {},
   "source": [
    "### sub punto a\n",
    "\n",
    "La magnetización reducida empleando el metodo de la secante (Muestre su resultado con 4 cifras)"
   ]
  },
  {
   "cell_type": "code",
<<<<<<< HEAD
   "execution_count": 81,
=======
   "execution_count": 26,
>>>>>>> Seve
   "metadata": {},
   "outputs": [
    {
     "data": {
      "text/plain": [
       "0.9575040240772688"
      ]
     },
<<<<<<< HEAD
     "execution_count": 81,
=======
     "execution_count": 26,
>>>>>>> Seve
     "metadata": {},
     "output_type": "execute_result"
    }
   ],
   "source": [
    "P3_xo_newton = 3\n",
    "opt.newton(magne_media,P3_xo_newton,args=P3_To)"
   ]
  },
  {
   "cell_type": "markdown",
   "metadata": {},
   "source": [
    "### sub punto b\n",
    "\n",
    "Valide su respuestado con el metodo de punto fijo.\n",
    "(Muestre su resultado con 4 cifras)"
   ]
  },
  {
   "cell_type": "code",
   "execution_count": 82,
   "metadata": {},
   "outputs": [
    {
     "data": {
      "text/plain": [
       "array(-3.88995177e-05)"
      ]
     },
     "execution_count": 82,
     "metadata": {},
     "output_type": "execute_result"
    }
   ],
   "source": [
    "P3_punto_fijo = 1\n",
    "opt.fixed_point(magne_media,P3_punto_fijo,args=P3_To)"
   ]
  },
  {
   "cell_type": "markdown",
   "metadata": {},
   "source": [
    "### sub punto d\n",
    "\n",
    "Defina T = np.linspace(0.1,0.99,100), y emple el metodo de la secante para construir un gráfico de magnetización reducida como función de la temperatura para los  100 valores  de T."
   ]
  },
  {
   "cell_type": "code",
<<<<<<< HEAD
   "execution_count": 83,
=======
   "execution_count": 32,
>>>>>>> Seve
   "metadata": {},
   "outputs": [],
   "source": [
    "P3_val_T = np.linspace(-0.99,0.99,100)"
   ]
  },
  {
   "cell_type": "code",
<<<<<<< HEAD
   "execution_count": 84,
=======
   "execution_count": 33,
>>>>>>> Seve
   "metadata": {},
   "outputs": [
    {
     "ename": "RuntimeError",
     "evalue": "Failed to converge after 50 iterations, value is -0.23606797690081885.",
     "output_type": "error",
     "traceback": [
      "\u001b[1;31m---------------------------------------------------------------------------\u001b[0m",
      "\u001b[1;31mRuntimeError\u001b[0m                              Traceback (most recent call last)",
      "\u001b[1;32mg:\\UdeA\\Semestre 2022-1\\MC Taller\\Metodos_Computacionales_taller\\Entregas\\Severiche_203\\Laboratorio_05.ipynb Celda 47\u001b[0m in \u001b[0;36m<cell line: 2>\u001b[1;34m()\u001b[0m\n\u001b[0;32m      <a href='vscode-notebook-cell:/g%3A/UdeA/Semestre%202022-1/MC%20Taller/Metodos_Computacionales_taller/Entregas/Severiche_203/Laboratorio_05.ipynb#X63sZmlsZQ%3D%3D?line=0'>1</a>\u001b[0m P3_val_mag \u001b[39m=\u001b[39m np\u001b[39m.\u001b[39mzeros(\u001b[39mlen\u001b[39m(P3_val_T))\n\u001b[0;32m      <a href='vscode-notebook-cell:/g%3A/UdeA/Semestre%202022-1/MC%20Taller/Metodos_Computacionales_taller/Entregas/Severiche_203/Laboratorio_05.ipynb#X63sZmlsZQ%3D%3D?line=1'>2</a>\u001b[0m \u001b[39mfor\u001b[39;00m i \u001b[39min\u001b[39;00m \u001b[39mrange\u001b[39m(\u001b[39m0\u001b[39m,\u001b[39mlen\u001b[39m(P3_val_T)):\n\u001b[1;32m----> <a href='vscode-notebook-cell:/g%3A/UdeA/Semestre%202022-1/MC%20Taller/Metodos_Computacionales_taller/Entregas/Severiche_203/Laboratorio_05.ipynb#X63sZmlsZQ%3D%3D?line=2'>3</a>\u001b[0m     P3_val_mag[i] \u001b[39m=\u001b[39m opt\u001b[39m.\u001b[39;49mnewton(magne_media,P3_xo_newton,args\u001b[39m=\u001b[39;49m\u001b[39mtuple\u001b[39;49m([P3_val_T[i]]))\n",
      "File \u001b[1;32m~\\AppData\\Roaming\\Python\\Python310\\site-packages\\scipy\\optimize\\_zeros_py.py:368\u001b[0m, in \u001b[0;36mnewton\u001b[1;34m(func, x0, fprime, args, tol, maxiter, fprime2, x1, rtol, full_output, disp)\u001b[0m\n\u001b[0;32m    365\u001b[0m \u001b[39mif\u001b[39;00m disp:\n\u001b[0;32m    366\u001b[0m     msg \u001b[39m=\u001b[39m (\u001b[39m\"\u001b[39m\u001b[39mFailed to converge after \u001b[39m\u001b[39m%d\u001b[39;00m\u001b[39m iterations, value is \u001b[39m\u001b[39m%s\u001b[39;00m\u001b[39m.\u001b[39m\u001b[39m\"\u001b[39m\n\u001b[0;32m    367\u001b[0m            \u001b[39m%\u001b[39m (itr \u001b[39m+\u001b[39m \u001b[39m1\u001b[39m, p))\n\u001b[1;32m--> 368\u001b[0m     \u001b[39mraise\u001b[39;00m \u001b[39mRuntimeError\u001b[39;00m(msg)\n\u001b[0;32m    370\u001b[0m \u001b[39mreturn\u001b[39;00m _results_select(full_output, (p, funcalls, itr \u001b[39m+\u001b[39m \u001b[39m1\u001b[39m, _ECONVERR))\n",
      "\u001b[1;31mRuntimeError\u001b[0m: Failed to converge after 50 iterations, value is -0.23606797690081885."
     ]
    }
   ],
   "source": [
    "P3_val_m = np.zeros(len(P3_val_T))\n",
    "for i,val in enumerate(P3_val_T):\n",
    "    P3_val_m[i] = magne_media(val,0.9)"
   ]
  },
  {
   "cell_type": "code",
<<<<<<< HEAD
   "execution_count": 85,
=======
   "execution_count": 29,
>>>>>>> Seve
   "metadata": {},
   "outputs": [
    {
     "data": {
<<<<<<< HEAD
      "image/png": "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",
=======
      "image/png": "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",
>>>>>>> Seve
      "text/plain": [
       "<Figure size 1440x864 with 1 Axes>"
      ]
     },
     "metadata": {
      "needs_background": "light"
     },
     "output_type": "display_data"
    }
   ],
   "source": [
    "plt.figure(figsize=(20,12))\n",
    "plt.plot(P3_val_T,P3_val_m)\n",
    "plt.axhline(0,color=\"red\")\n",
    "plt.show()"
   ]
  },
  {
   "cell_type": "code",
   "execution_count": 88,
   "metadata": {},
   "outputs": [
    {
     "ename": "TypeError",
     "evalue": "'numpy.float64' object is not iterable",
     "output_type": "error",
     "traceback": [
      "\u001b[1;31m---------------------------------------------------------------------------\u001b[0m",
      "\u001b[1;31mTypeError\u001b[0m                                 Traceback (most recent call last)",
      "\u001b[1;32mg:\\UdeA\\Semestre 2022-1\\MC Taller\\Metodos_Computacionales_taller\\Entregas\\Severiche_203\\Laboratorio_05.ipynb Celda 52\u001b[0m in \u001b[0;36m<cell line: 2>\u001b[1;34m()\u001b[0m\n\u001b[0;32m      <a href='vscode-notebook-cell:/g%3A/UdeA/Semestre%202022-1/MC%20Taller/Metodos_Computacionales_taller/Entregas/Severiche_203/Laboratorio_05.ipynb#X63sZmlsZQ%3D%3D?line=0'>1</a>\u001b[0m P3_val_mag \u001b[39m=\u001b[39m np\u001b[39m.\u001b[39mzeros(\u001b[39mlen\u001b[39m(P3_val_T))\n\u001b[0;32m      <a href='vscode-notebook-cell:/g%3A/UdeA/Semestre%202022-1/MC%20Taller/Metodos_Computacionales_taller/Entregas/Severiche_203/Laboratorio_05.ipynb#X63sZmlsZQ%3D%3D?line=1'>2</a>\u001b[0m \u001b[39mfor\u001b[39;00m i \u001b[39min\u001b[39;00m \u001b[39mrange\u001b[39m(\u001b[39m0\u001b[39m,\u001b[39mlen\u001b[39m(P3_val_T)):\n\u001b[1;32m----> <a href='vscode-notebook-cell:/g%3A/UdeA/Semestre%202022-1/MC%20Taller/Metodos_Computacionales_taller/Entregas/Severiche_203/Laboratorio_05.ipynb#X63sZmlsZQ%3D%3D?line=2'>3</a>\u001b[0m     P3_val_mag[i] \u001b[39m=\u001b[39m opt\u001b[39m.\u001b[39mbisect(magne_media,\u001b[39m0.01\u001b[39m,\u001b[39m1\u001b[39m,\u001b[39mtuple\u001b[39;49m(P3_val_T[i]))\n",
      "\u001b[1;31mTypeError\u001b[0m: 'numpy.float64' object is not iterable"
     ]
    }
   ],
   "source": [
    "P3_val_mag = np.zeros(len(P3_val_T))\n",
    "for i in range(0,len(P3_val_T)):\n",
    "    P3_val_mag[i] = opt.bisect(magne_media,0.01,1,tuple(P3_val_T[i]))"
   ]
  },
  {
   "cell_type": "code",
   "execution_count": null,
   "metadata": {},
   "outputs": [],
   "source": [
    "plt.figure(figsize=(12,8))\n",
    "plt.plot(P3_val_T,P3_val_mag)\n",
    "plt.xlabel(\"Temperatura\")\n",
    "plt.ylabel(\"Magnetizacion media\")\n",
    "plt.title(\"Magnetizacion en funcion de la temperatura\")\n",
    "plt.show()"
   ]
  },
  {
   "cell_type": "markdown",
   "metadata": {},
   "source": [
    "## Punto 5\n",
    "\n",
    "\\begin{equation}\n",
    "z_{n+1} = z_n -a \\frac{f(z)}{f'(z)} \n",
    "\\end{equation}\n",
    "\n",
    "\\begin{equation}\n",
    "f'(z) = \\frac{ f(z+h)+f(z) }{h}\n",
    "\\end{equation}\n"
   ]
  },
  {
   "cell_type": "markdown",
   "metadata": {},
   "source": [
    "### Parte 1 (método Newton-Raphson)"
   ]
  },
  {
   "cell_type": "code",
   "execution_count": 1,
   "metadata": {},
   "outputs": [],
   "source": [
    "def funcOriginal(val):\n",
    "    return val*3 + val*2\n",
    "\n",
    "def funcDeriv(val):\n",
    "    return val*2 + val\n",
    "\n",
    "def funcDerivAprox(val, vari):\n",
    "    return (funcOriginal(val+vari)-funcOriginal(val))/vari"
   ]
  },
  {
   "cell_type": "code",
   "execution_count": 5,
   "metadata": {},
   "outputs": [],
   "source": [
    "a = 0.3"
   ]
  },
  {
   "cell_type": "code",
   "execution_count": 3,
   "metadata": {},
   "outputs": [],
   "source": [
    "def funcOriginal(val):\n",
    "    return val*3 + val*2\n",
    "\n",
    "def funcDeriv(val):\n",
    "    return val*2 + val\n",
    "\n",
    "def funcDerivAprox(val, vari):\n",
    "    return (funcOriginal(val+vari)-funcOriginal(val))/vari"
   ]
  },
  {
   "cell_type": "code",
   "execution_count": null,
   "metadata": {},
   "outputs": [],
   "source": [
    "a = 0.3"
   ]
  },
  {
   "cell_type": "code",
   "execution_count": null,
   "metadata": {},
   "outputs": [],
   "source": []
  },
  {
   "cell_type": "markdown",
   "metadata": {},
   "source": [
    "### Parte 2 (replicar el código y entender) (Nota: Voy a dividir el codigo y usar comentarios)"
   ]
  },
  {
   "cell_type": "code",
<<<<<<< HEAD
   "execution_count": null,
   "metadata": {},
   "outputs": [],
=======
   "execution_count": 23,
   "metadata": {},
   "outputs": [
    {
     "data": {
      "text/plain": [
       "<matplotlib.image.AxesImage at 0x21905964a90>"
      ]
     },
     "execution_count": 23,
     "metadata": {},
     "output_type": "execute_result"
    },
    {
     "data": {
      "image/png": "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",
      "text/plain": [
       "<Figure size 432x288 with 1 Axes>"
      ]
     },
     "metadata": {
      "needs_background": "light"
     },
     "output_type": "display_data"
    }
   ],
>>>>>>> Seve
   "source": [
    "\n",
    "\n",
    "Npx_X = 80 #Numero de pixeles en x\n",
    "Npx_Y = 80 #Numero de pixeles en y\n",
    "\n",
    "image = Image.new(\"RGB\", (Npx_X, Npx_Y)) #Creacion de la imagen inicial\n",
    "\n",
    "npx = np.arange(0, Npx_X)\n",
    "npy = np.arange(0, Npx_Y)\n",
    "\n",
    "xmin = -1\n",
    "xmax = 1\n",
    "ymin = -1\n",
    "ymax = 1\n",
    "#Transformación al plano complejo en un rectangulo (xmin, xmax), (ymin, ymax)\n",
    "zx = npx * (xmax - xmin) / (Npx_X - 1)   + xmin\n",
    "zy = npy * (ymax-ymin) / (Npx_Y - 1) + ymin\n",
    "\n",
    "#Definicion  la funcion y las derivada \n",
    "def f(z): \n",
    "  return z**3 - 1\n",
    "\n",
    "def fp(z): \n",
    "  return 3*z**2\n",
    "\n",
    "h = 1E-4\n",
    "def fpn(z, h): \n",
    "  return (f(z+h)-f(z))/h\n",
    "  \n",
    "\n",
    "a = 0.2\n",
    "Niteraciones = 120\n",
    "eps = 1E-8\n",
    "\n",
    "x = - 1\n",
    "for zx_ in zx:\n",
    "  x = x + 1 \n",
    "  y = -1\n",
    "  for zy_ in zy: \n",
    "      y = y + 1\n",
    "      Z_0 = complex(zx_, zy_)\n",
    "    \n",
    "      for i in range(0, Niteraciones): \n",
    "        Z = Z_0 - a * f(Z_0)/fp(Z_0)\n",
    "\n",
    "        if( abs(Z-Z_0)<= eps):\n",
    "          break \n",
    "          \n",
    "        Z_0 = Z\n",
    "      #print(i)\n",
    "      #print(i)\n",
    "      r, g, b = i % 4 *64 , i % 8 *16, i% 16* 16\n",
    "      \n",
    "      image.putpixel((x,y), (r,g,b) )\n",
    "\n",
    "\n",
    "plt.imshow(image)\n",
    "#plt.xlim(400, 600)\n",
    "#plt.ylim(400, 523)"
   ]
  }
 ],
 "metadata": {
  "kernelspec": {
   "display_name": "Python 3.10.4 64-bit",
   "language": "python",
   "name": "python3"
  },
  "language_info": {
   "codemirror_mode": {
    "name": "ipython",
    "version": 3
   },
   "file_extension": ".py",
   "mimetype": "text/x-python",
   "name": "python",
   "nbconvert_exporter": "python",
   "pygments_lexer": "ipython3",
   "version": "3.10.4"
  },
  "orig_nbformat": 4,
  "vscode": {
   "interpreter": {
    "hash": "26de051ba29f2982a8de78e945f0abaf191376122a1563185a90213a26c5da77"
   }
  }
 },
 "nbformat": 4,
 "nbformat_minor": 2
}
