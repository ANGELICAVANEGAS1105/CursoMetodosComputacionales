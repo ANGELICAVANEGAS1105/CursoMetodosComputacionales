{
 "cells": [
  {
   "cell_type": "markdown",
   "metadata": {},
   "source": [
    "# Laboratorio 00 del taller de MC"
   ]
  },
  {
   "cell_type": "markdown",
   "metadata": {},
   "source": [
    "Nota: Separe cada uno de los otros filtros en funciones aparte\n",
    "(aunque la existencia de alguno hace inutil la existencia\n",
    "de otro Ej: defectivo vs abundante) por si en algun momento\n",
    "toca reutilizar los filtros en otros ejercicio"
   ]
  },
  {
   "cell_type": "markdown",
   "metadata": {},
   "source": [
    "## 1. Calculo de factorial"
   ]
  },
  {
   "cell_type": "code",
   "execution_count": null,
   "metadata": {},
   "outputs": [],
   "source": [
    "def factorial(numero):\n",
    "    \"\"\"\n",
    "    Calcula el factorial de un numero\n",
    "        Input: numero: variable entera\n",
    "        Output: resultado: valor entero\n",
    "    \"\"\"\n",
    "    numero = abs(int(numero))\n",
    "    resultado = 1\n",
    "    if numero < 0:\n",
    "        print(\"El numero fue negativo, se tomará el valor absoluto del numero\\n\")\n",
    "        for i in range(abs(numero), 1,-1):\n",
    "            resultado = resultado*i \n",
    "    elif numero > 0:\n",
    "        for i in range(numero, 1,-1):\n",
    "            resultado = resultado*i\n",
    "    return resultado"
   ]
  },
  {
   "cell_type": "code",
   "execution_count": null,
   "metadata": {},
   "outputs": [],
   "source": [
    "print(\"Ingrese un numero para calcularle el factoria, tenga en cuenta que los\\nvalores negativos serán tomados como positivos\\n\")\n",
    "valor = int(input(\"Numero: \"))\n",
    "print(\"El resultado del factorial de \",valor,\" es: \",factorial(valor))"
   ]
  },
  {
   "cell_type": "markdown",
   "metadata": {},
   "source": [
    "## 2. Tipo de numeros"
   ]
  },
  {
   "cell_type": "code",
   "execution_count": null,
   "metadata": {},
   "outputs": [],
   "source": [
    "def filtroClase(num1,num2):\n",
    "    \"\"\"\n",
    "    Toma dos numeros y los pasa por todos los filtros para saber que son:\n",
    "        Input: dos numeros enteros\n",
    "        Output: sin salidas, solo imprime si son o no y que son\n",
    "    \"\"\"\n",
    "    # Filtro para saber caracteristicas por separado\n",
    "    for i in [num1,num2]:\n",
    "        if filtroPrimos(i):\n",
    "            print(\"El numero\",i,\" es PRIMO y DEFECTIVO\")\n",
    "        else:\n",
    "            if filtroDefectivos(i):\n",
    "                print(\"El numero \",i,\" es DEFECTIVO\")\n",
    "            elif filtroPerfectos(i):\n",
    "                print(\"El numero \",i,\" es PERFECTO y por ende SEMIPERFECTO\")\n",
    "            elif filtroSemiPerfectos(i):\n",
    "                print(\"El numero \",i,\" es ABUNDANTE y SEMIPERFECTO\")\n",
    "            else:\n",
    "                print(\"El numero \",i,\" es ABUNDANTE\")\n",
    "    # Filtro para ambos\n",
    "    if filtroAmigos(num1,num2):\n",
    "        print(\"Los numeros \",num1,\" y \",num2,\" son AMIGOS\")\n",
    "\n",
    "def sumador(valores):\n",
    "    \"\"\"\n",
    "    Calcula la suma de los valores de una lista\n",
    "        Input: lista de valores\n",
    "        Output: decimal o entero correspondiente a la suma de los valores\n",
    "    \"\"\"\n",
    "    suma = 0\n",
    "    for i in valores:\n",
    "        suma += i\n",
    "    return suma\n",
    "\n",
    "def divisoresPropios(num):\n",
    "    \"\"\"\n",
    "    Calcula que numeros son divisores propios\n",
    "        Input: numero entero\n",
    "        Output: lista de entero que son divisores propios\n",
    "    \"\"\"\n",
    "    resultado = []\n",
    "    for i in range(1,num):\n",
    "        if num/i == num//i and i != num:\n",
    "            resultado.append(i)\n",
    "    return resultado\n",
    "\n",
    "def filtroDefectivos(num):\n",
    "    \"\"\"\n",
    "    Filtra el numero e indica si es defectivo o no\n",
    "        Input: numero entero\n",
    "        Output: booleano (True = el numero es defectivo)\n",
    "    \"\"\"\n",
    "    if num > sumador(divisoresPropios(num)):\n",
    "        return True\n",
    "    else:\n",
    "        return False\n",
    "\n",
    "def filtroAbundantes(num):\n",
    "    \"\"\"\n",
    "    Filtra el numero e indica si es abundante o no\n",
    "        Input: numero entero\n",
    "        Output: booleano (True = el numero es abundante)\n",
    "    \"\"\"\n",
    "    if num < sumador(divisoresPropios(num)):\n",
    "        return True\n",
    "    else:\n",
    "        return False\n",
    "\n",
    "def filtroAmigos(num1,num2):\n",
    "    \"\"\"\n",
    "    Compara los valores propios de dos numeros distintos con los numeros (de forma cruzada) e indica si son amigos\n",
    "        Input: dos numeros enteros\n",
    "        Output: booleano (True = los numeros son amigos)\n",
    "    \"\"\"\n",
    "    if num1 == sumador(divisoresPropios(num2)) and num2 == sumador(divisoresPropios(num1)):\n",
    "        return True\n",
    "    else:\n",
    "        return False\n",
    "\n",
    "def filtroSemiPerfectos(num):\n",
    "    \n",
    "    return False\n",
    "\n",
    "def filtroPerfectos(num):\n",
    "    \"\"\" \n",
    "    Filtra si un numero es perfecto o no\n",
    "        Input: numero entero\n",
    "        Output: booleano (True = el numero es perfecto)\n",
    "    \"\"\"\n",
    "    if num == sumador(divisoresPropios(num)):\n",
    "        return True\n",
    "    else:\n",
    "        return False\n",
    "\n",
    "def filtroPrimos(num):\n",
    "    \"\"\"\n",
    "    Filtra si un numero es primo o no\n",
    "        Input: numero entero\n",
    "        Output: booleano (True = el numero es primo)\n",
    "    \"\"\"\n",
    "    if len(divisoresPropios(num)) == 1:\n",
    "        return True\n",
    "    else:\n",
    "        return False"
   ]
  },
  {
   "cell_type": "code",
   "execution_count": null,
   "metadata": {},
   "outputs": [],
   "source": [
    "a = int(input(\"Ingrese el primer numero entero: \"))\n",
    "b = int(input(\"Ingrese el segundo numero entero: \"))\n",
    "filtroClase(a,b)"
   ]
  },
  {
   "cell_type": "markdown",
   "metadata": {},
   "source": [
    "## 3. Numero palindromo"
   ]
  },
  {
   "cell_type": "code",
   "execution_count": null,
   "metadata": {},
   "outputs": [],
   "source": [
    "def filtroPalindromo(num):\n",
    "    \"\"\"\n",
    "    Filtra si un numero es palindromo o no\n",
    "        Input: numero entero\n",
    "        Output: booleano (True = el numero es palindromo)\n",
    "    \"\"\"\n",
    "    cadena = f\"{num}\"\n",
    "    if cadena == cadena[len(cadena)::-1]:\n",
    "        return True\n",
    "    else:\n",
    "        return False"
   ]
  },
  {
   "cell_type": "code",
   "execution_count": null,
   "metadata": {},
   "outputs": [],
   "source": [
    "numero = int(input(\"Ingrese un numero: \"))\n",
    "print(\"El numero\",numero,\"tiene la caracteristica de palindromo =\",filtroPalindromo(numero))"
   ]
  },
  {
   "cell_type": "markdown",
   "metadata": {},
   "source": [
    "## 4. De caracteres a lista"
   ]
  },
  {
   "cell_type": "code",
   "execution_count": null,
   "metadata": {},
   "outputs": [],
   "source": [
    "def ListaDeCaracteristicas(cadena):\n",
    "    \"\"\"\n",
    "    Pasa por las distintas funciones que pidieron para ver si se cumple con las distintas caracteristicas de los caracteres\n",
    "        Input: cadena de caracteres\n",
    "        Output: lista con las caracteristicas de los caracteres\n",
    "    \"\"\"\n",
    "    return  [vocalEnMedio(cadena),contadorVocales(cadena),contadorConsonantes(cadena),InvertirCadena(cadena)]\n",
    "\n",
    "def vocalEnMedio(cadena):\n",
    "    \"\"\"\n",
    "    Filtra si una cadena tiene una vocal en su punto medio (truncado si es par)\n",
    "        Input: cadena de caracteres\n",
    "        Output: booleano (True = tiene vocal en la mitad)\n",
    "    \"\"\"\n",
    "    valor = len(cadena)//2\n",
    "    if cadena[valor] == \"a\" or cadena[valor] == \"e\" or cadena[valor] == \"i\" or cadena[valor] == \"o\" or cadena[valor] == \"u\":\n",
    "        return True\n",
    "    else:\n",
    "        return False\n",
    "\n",
    "def contadorVocales(cadena):\n",
    "    \"\"\"\n",
    "    Cuenta cuantas vocales tiene una cadena de caracteres\n",
    "        Input: cadena de caracteres\n",
    "        Output: numero entero\n",
    "    \"\"\"\n",
    "    numVocales = 0\n",
    "    for i in cadena:\n",
    "        if i == \"a\" or i == \"e\" or i == \"i\" or i == \"o\" or i == \"u\":\n",
    "            numVocales += 1\n",
    "    return numVocales\n",
    "\n",
    "def contadorConsonantes(cadena):\n",
    "    \"\"\"\n",
    "    Cuenta cuantas consonantes tiene una cadena de caracteres\n",
    "        Input: cadena de caracteres\n",
    "        Output: numero entero\n",
    "    \"\"\"\n",
    "    numConso = 0\n",
    "    for i in cadena:\n",
    "        if i != \"a\" and i != \"e\" and i != \"i\" and i != \"o\" and i != \"u\":\n",
    "            numConso += 1\n",
    "    return numConso\n",
    "\n",
    "def InvertirCadena(cadena):\n",
    "    \"\"\"\n",
    "    Invierte una cadena de caracteres\n",
    "        Input: cadena de caracteres\n",
    "        Output: cadena de caracteres\n",
    "    \"\"\"\n",
    "    return cadena[len(cadena)::-1]"
   ]
  },
  {
   "cell_type": "code",
   "execution_count": null,
   "metadata": {},
   "outputs": [],
   "source": [
    "caracteres = input(\"Digite lo que le pegue la gana: \")\n",
    "print(ListaDeCaracteristicas(caracteres))\n"
   ]
  },
  {
   "cell_type": "markdown",
   "metadata": {},
   "source": [
    "## 5. Calculadora del n-ésimo termino de la sucesión de fibonacci"
   ]
  },
  {
   "cell_type": "code",
   "execution_count": null,
   "metadata": {},
   "outputs": [],
   "source": [
    "def ValFibonacci(num):\n",
    "    \"\"\"\n",
    "    Calcula el numero de Fibonacci de la n-ésima posición\n",
    "        Input: numero entero\n",
    "        Output: numero entero\n",
    "    \"\"\"\n",
    "    valores = [1,0]\n",
    "    resultado = 0\n",
    "    if num == 0:\n",
    "        return 0\n",
    "    elif num == 1:\n",
    "        return 1 \n",
    "    else:\n",
    "        for i in range(2,num+1):\n",
    "            resultado =  valores[0] + valores[1]\n",
    "            valores[1] = valores[0]\n",
    "            valores[0] = resultado\n",
    "        return resultado\n",
    "            "
   ]
  },
  {
   "cell_type": "code",
   "execution_count": null,
   "metadata": {},
   "outputs": [],
   "source": [
    "numero = abs(int(input(\"Ingrese el n-ésimo valor de Fibonacci que quiere calcular: \")))\n",
    "print(ValFibonacci(numero))"
   ]
  },
  {
   "cell_type": "markdown",
   "metadata": {},
   "source": [
    "## 6. Ordenar de forma ascendente una lista de numeros"
   ]
  },
  {
   "cell_type": "code",
   "execution_count": 31,
   "metadata": {},
   "outputs": [],
   "source": [
    "import random"
   ]
  },
  {
   "cell_type": "code",
   "execution_count": 33,
   "metadata": {},
   "outputs": [],
   "source": [
    "def OrdenAscend(ListaVal):\n",
    "    \"\"\"\n",
    "    Toma una lista con numeros cualquiera y la ordena de forma ascendente\n",
    "        Input: Lista\n",
    "        Output: Lista\n",
    "    \"\"\"\n",
    "    ListaOrdenada = []\n",
    "    if len(ListaVal) == 1:\n",
    "        ListaOrdenada += ListaVal\n",
    "    elif len(ListaVal) == 2:\n",
    "        if ListaVal[0] > ListaVal[1]:\n",
    "            ListaOrdenada += ListaVal[2::-1]\n",
    "        else:\n",
    "            ListaOrdenada += ListaVal    \n",
    "    elif len(ListaVal) > 2:\n",
    "        pivote = random.randint(0,len(ListaVal)-1)\n",
    "        NumPiv = 0\n",
    "        ListaEnProceso = [ListaVal[pivote]]\n",
    "        for i in range(0,len(ListaVal),1):\n",
    "            if ListaVal[i] == ListaVal[pivote]:\n",
    "                NumPiv += 1\n",
    "            elif ListaVal[i] < ListaVal[pivote]:\n",
    "                ListaEnProceso = [ListaVal[i]] + ListaEnProceso\n",
    "            else:\n",
    "                ListaEnProceso.append(ListaVal[i])\n",
    "        ListaOrdenada = OrdenAscend(ListaEnProceso[:ListaEnProceso.index(ListaVal[pivote])]) + [ListaVal[pivote]]*NumPiv + OrdenAscend(ListaEnProceso[ListaEnProceso.index(ListaVal[pivote])+1:])\n",
    "    return ListaOrdenada"
   ]
  },
  {
   "cell_type": "code",
   "execution_count": 38,
   "metadata": {},
   "outputs": [
    {
     "name": "stdout",
     "output_type": "stream",
     "text": [
      "[11, 12, 12, 12, 22, 22, 22, 24, 31, 32, 41, 42, 232]\n"
     ]
    }
   ],
   "source": [
    "valores = [22, 32, 42, 12, 22, 31, 41, 11, 12, 232, 24, 12, 22]\n",
    "print(OrdenAscend(valores))"
   ]
  },
  {
   "cell_type": "markdown",
   "metadata": {},
   "source": [
    "## Testeos"
   ]
  },
  {
   "cell_type": "code",
   "execution_count": 28,
   "metadata": {},
   "outputs": [
    {
     "name": "stdout",
     "output_type": "stream",
     "text": [
      "[123]\n",
      "[]\n"
     ]
    }
   ],
   "source": [
    "numeros = [123,456,789,5]\n",
    "print(numeros[:1])\n",
    "print(numeros[4:])"
   ]
  }
 ],
 "metadata": {
  "interpreter": {
   "hash": "26de051ba29f2982a8de78e945f0abaf191376122a1563185a90213a26c5da77"
  },
  "kernelspec": {
   "display_name": "Python 3.10.4 64-bit",
   "language": "python",
   "name": "python3"
  },
  "language_info": {
   "codemirror_mode": {
    "name": "ipython",
    "version": 3
   },
   "file_extension": ".py",
   "mimetype": "text/x-python",
   "name": "python",
   "nbconvert_exporter": "python",
   "pygments_lexer": "ipython3",
   "version": "3.10.4"
  },
  "orig_nbformat": 4
 },
 "nbformat": 4,
 "nbformat_minor": 2
}
