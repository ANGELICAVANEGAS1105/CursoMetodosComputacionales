{
  "nbformat": 4,
  "nbformat_minor": 0,
  "metadata": {
    "colab": {
      "name": "Laboratorio05.ipynb",
      "provenance": []
    },
    "kernelspec": {
      "name": "python3",
      "display_name": "Python 3"
    },
    "language_info": {
      "name": "python"
    }
  },
  "cells": [
    {
      "cell_type": "code",
      "execution_count": 13,
      "metadata": {
        "colab": {
          "base_uri": "https://localhost:8080/",
          "height": 269
        },
        "id": "s_w8dNfoT8cK",
        "outputId": "41d487c0-f4d9-458d-9e10-c023dcbf68d2"
      },
      "outputs": [
        {
          "output_type": "display_data",
          "data": {
            "text/plain": [
              "<Figure size 432x288 with 1 Axes>"
            ],
            "image/png": "[encoded data removed]"
          },
          "metadata": {
            "needs_background": "light"
          }
        }
      ],
      "source": [
        "import numpy as np\n",
        "import pandas as pd\n",
        "import matplotlib.pyplot as plt\n",
        "from scipy.optimize import *\n",
        "import sympy as sp\n",
        "\n",
        "ang=np.arange(0,2*np.pi,0.1)\n",
        "\n",
        "value = ang - np.sin(ang) - np.pi/2\n",
        "\n",
        "\n",
        "\n",
        "\n",
        "d = {\"theta\":ang, \"funcion\":value}\n",
        "\n",
        "df = pd.DataFrame(d)\n",
        "\n",
        "df.columns\n",
        "\n",
        "plt.plot(df[\"theta\"],df[\"funcion\"]) #plt.plot(df.theta,df.funcion)\n",
        "plt.grid()\n",
        "plt.show()\n",
        "\n",
        "\n"
      ]
    },
    {
      "cell_type": "code",
      "source": [
        "##biseccion (funcion igualada a cero y necesito un intervalo)\n",
        "\n",
        "func =lambda angulo: angulo - np.sin(angulo) - np.pi/2\n",
        "\n",
        "bisect(func,1,3)"
      ],
      "metadata": {
        "colab": {
          "base_uri": "https://localhost:8080/"
        },
        "id": "IR2SrY95eA5o",
        "outputId": "8c04c15b-34f7-477b-f943-e2a464254654"
      },
      "execution_count": 5,
      "outputs": [
        {
          "output_type": "execute_result",
          "data": {
            "text/plain": [
              "2.309881460010729"
            ]
          },
          "metadata": {},
          "execution_count": 5
        }
      ]
    },
    {
      "cell_type": "code",
      "source": [
        "##punto fijo (y=f(x) y necesito un punto)\n",
        "\n",
        "g=lambda x: np.sin(x) + np.pi/2\n",
        "\n",
        "fixed_point(g,2)"
      ],
      "metadata": {
        "colab": {
          "base_uri": "https://localhost:8080/"
        },
        "id": "zAv2MlGNfQ-l",
        "outputId": "6b7c9c04-bb48-4bbc-ac66-355097aab83b"
      },
      "execution_count": 4,
      "outputs": [
        {
          "output_type": "execute_result",
          "data": {
            "text/plain": [
              "array(2.30988146)"
            ]
          },
          "metadata": {},
          "execution_count": 4
        }
      ]
    },
    {
      "cell_type": "code",
      "source": [
        "##Newton-Rapson (funcion igualada a cero y derivada)\n",
        "\n",
        "fx= lambda x: x - np.sin(x) - np.pi/2\n",
        "dfx= lambda x: 1-np.cos(x)\n",
        "\n",
        "newton(fx,2,fprime=dfx)"
      ],
      "metadata": {
        "colab": {
          "base_uri": "https://localhost:8080/"
        },
        "id": "8UbggjA_Z9lB",
        "outputId": "c93ec82d-063e-4095-b976-796214363e34"
      },
      "execution_count": 6,
      "outputs": [
        {
          "output_type": "execute_result",
          "data": {
            "text/plain": [
              "2.3098814600100575"
            ]
          },
          "metadata": {},
          "execution_count": 6
        }
      ]
    },
    {
      "cell_type": "code",
      "source": [
        "##Secante (funcion igualada a cero y un punto, es el metodo de newton sin la derivada)\n",
        "\n",
        "newton(fx,2)"
      ],
      "metadata": {
        "colab": {
          "base_uri": "https://localhost:8080/"
        },
        "id": "SJG5ph8IcvNc",
        "outputId": "c1ab7659-ee38-4127-9d04-7387e65d0e56"
      },
      "execution_count": 7,
      "outputs": [
        {
          "output_type": "execute_result",
          "data": {
            "text/plain": [
              "2.309881460010033"
            ]
          },
          "metadata": {},
          "execution_count": 7
        }
      ]
    },
    {
      "cell_type": "code",
      "source": [
        "from scipy.optimize.minpack import fixed_point\n",
        "##########PUNTO 2\n",
        "\n",
        "s0=300\n",
        "m=0.25\n",
        "k=0.1\n",
        "g=32.17\n",
        "v0=0\n",
        "tole=0.01\n",
        "\n",
        "st = lambda t: s0 - m*g*t/k - m*((m*g+k*v0)/k**2)*(1 - np.exp(-k*t/m)) \n",
        "\n",
        "point_st = lambda t: (s0 - m*((m*g+k*v0)/k**2)*(1 - np.exp(-k*t/m)))*k/(m*g)\n",
        "\n",
        "\n",
        "derivada = lambda t: - m*g/k - ((m*g+k*v0)/k)*(np.exp(-k*t/m))\n",
        "\n",
        "\n",
        "\n",
        "\n",
        "print(\"Metodo de bisección: \", bisect(st,1,5, xtol=tole))\n",
        "print(\"Punto fijo: \", fixed_point(point_st,2, xtol=tole))\n",
        "print(\"newton: \", newton(st,2,fprime=derivada,tol=tole))\n",
        "print(\"secante: \", newton(st,2, tol=tole) )\n",
        "\n",
        "\n",
        "\n",
        "\n",
        "\n",
        "\n",
        "\n",
        "\n"
      ],
      "metadata": {
        "colab": {
          "base_uri": "https://localhost:8080/"
        },
        "id": "qeIiFFGwfgbG",
        "outputId": "0362249b-8eb9-4d45-d477-6082b4b2c769"
      },
      "execution_count": 29,
      "outputs": [
        {
          "output_type": "stream",
          "name": "stdout",
          "text": [
            "Metodo de bisección:  2.2421875\n",
            "Punto fijo:  2.247588531029481\n",
            "newton:  2.247587692469598\n",
            "secante:  2.247534852320814\n"
          ]
        }
      ]
    },
    {
      "cell_type": "code",
      "source": [
        "\n",
        "##Punto 3\n",
        "\n",
        "\n",
        "T=0.5\n",
        "\n",
        "magne_ = lambda m: m - np.tanh(m/T)\n",
        "\n",
        "point_magne = lambda m: np.tanh(m/T)\n",
        "\n",
        "print(\"secante: {:.4f} \".format(newton(magne_,2)) )\n",
        "\n",
        "print(\"Punto fijo: {:.4f} \".format(fixed_point(point_magne,2)) )\n",
        "\n",
        "lista=[]\n",
        "\n",
        "i=0.1\n",
        "while i<0.99:\n",
        "  magne_ = lambda m: m - np.tanh(m/i)\n",
        "  lista.append(newton(magne_,2))\n",
        "  i=i+0.01\n",
        "\n",
        "  \n",
        "\n",
        "T = np.arange(0.1,0.99,0.01)\n",
        "\n",
        "plt.figure()\n",
        "plt.plot(T,lista)\n",
        "plt.xlabel(\"T\")\n",
        "plt.ylabel(\"m(T)\")\n",
        "plt.grid()\n",
        "plt.show()\n",
        "\n"
      ],
      "metadata": {
        "id": "Ttc8mu2qmdod",
        "colab": {
          "base_uri": "https://localhost:8080/",
          "height": 314
        },
        "outputId": "70d6a9f5-3124-4b7f-ad59-b7e5b4bf7709"
      },
      "execution_count": 41,
      "outputs": [
        {
          "output_type": "stream",
          "name": "stdout",
          "text": [
            "secante: 0.9575 \n",
            "Punto fijo: 0.9575 \n"
          ]
        },
        {
          "output_type": "display_data",
          "data": {
            "text/plain": [
              "<Figure size 432x288 with 1 Axes>"
            ],
            "image/png": "[encoded data removed]"
          },
          "metadata": {
            "needs_background": "light"
          }
        }
      ]
    }
  ]
}