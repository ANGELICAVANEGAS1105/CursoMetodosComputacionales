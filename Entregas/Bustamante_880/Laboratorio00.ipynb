{
  "nbformat": 4,
  "nbformat_minor": 0,
  "metadata": {
    "colab": {
      "name": "Laboratorio00.ipynb",
      "provenance": []
    },
    "kernelspec": {
      "name": "python3",
      "display_name": "Python 3"
    },
    "language_info": {
      "name": "python"
    }
  },
  "cells": [
    {
      "cell_type": "code",
      "execution_count": 27,
      "metadata": {
        "colab": {
          "base_uri": "https://localhost:8080/"
        },
        "id": "7BvTGmShCRqr",
        "outputId": "51155864-1d7a-4d0a-8187-5c365919ca46"
      },
      "outputs": [
        {
          "output_type": "stream",
          "name": "stdout",
          "text": [
            "Ingrese un número natural: 0\n",
            "el factorial de 0 es: 1\n"
          ]
        }
      ],
      "source": [
        "import copy as c\n",
        "x=int(input(\"Ingrese un número natural: \"))\n",
        "y=c.copy(x)\n",
        "\n",
        "\n",
        "fact=1\n",
        "\n",
        "while x>1:\n",
        "  fact=fact*x\n",
        "  x-=1\n",
        "\n",
        "print (\"el factorial de {} es: {}\".format((y), (fact)))\n",
        "\n",
        "\n"
      ]
    },
    {
      "cell_type": "code",
      "source": [
        "#####ejercicio profesor#########\n",
        "\n",
        "\n",
        "def factorial(N):\n",
        "  \"\"\"\n",
        "  calcula el factorial de un número\n",
        "  \"\"\"\n",
        "  \n",
        "  n=N\n",
        "  if(N==0):\n",
        "    n=1\n",
        "    return N\n",
        "\n",
        "  elif (N<0):\n",
        "    return print(\"error el numero debe mayor igual a cero\")\n",
        "\n",
        "  else:\n",
        "    \n",
        "    for k in range(1,N-1):\n",
        "      n=n*(N-k)\n",
        "    return n\n",
        "\n",
        "\n",
        "factorial(5)    \n",
        "\n"
      ],
      "metadata": {
        "colab": {
          "base_uri": "https://localhost:8080/"
        },
        "id": "uVa3rX7kMfHZ",
        "outputId": "43ccb53b-69c3-415f-e0ba-be1c02213c50"
      },
      "execution_count": 26,
      "outputs": [
        {
          "output_type": "execute_result",
          "data": {
            "text/plain": [
              "120"
            ]
          },
          "metadata": {},
          "execution_count": 26
        }
      ]
    }
  ]
}