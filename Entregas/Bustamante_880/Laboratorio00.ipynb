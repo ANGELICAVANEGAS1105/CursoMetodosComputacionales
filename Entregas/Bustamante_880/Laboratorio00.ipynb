{
  "nbformat": 4,
  "nbformat_minor": 0,
  "metadata": {
    "colab": {
      "name": "Laboratorio00.ipynb",
      "provenance": [],
      "collapsed_sections": []
    },
    "kernelspec": {
      "name": "python3",
      "display_name": "Python 3"
    },
    "language_info": {
      "name": "python"
    }
  },
  "cells": [
    {
      "cell_type": "code",
      "source": [
        "#Mateo Bustamante Moreno\n",
        "\n",
        "############################\n",
        "####Factorial de un número\n",
        "###########################\n",
        "x=-10\n",
        "while x<0:\n",
        "    x=int(input(\"Ingrese un número natural: \"))\n",
        "    if x<0:\n",
        "        print(\"Ingrese un número natural\")\n",
        "y=x\n",
        "fact=1\n",
        "while x>1:\n",
        "  fact=fact*x\n",
        "  x-=1\n",
        "\n",
        "print (\"El factorial de {} es: {}\".format((y), (fact)))"
      ],
      "metadata": {
        "colab": {
          "base_uri": "https://localhost:8080/"
        },
        "id": "z8ZdL9MLwvix",
        "outputId": "9b348788-9c64-4198-a7ea-2400fd151ef4"
      },
      "execution_count": null,
      "outputs": [
        {
          "output_type": "stream",
          "name": "stdout",
          "text": [
            "Ingrese un número natural: 10\n",
            "El factorial de 10 es: 3628800\n"
          ]
        }
      ]
    },
    {
      "cell_type": "code",
      "source": [
        "\n",
        "########################\n",
        "#Clasificación de números\n",
        "#########################\n",
        "\n",
        "def num_class(n,m):\n",
        "  \n",
        "  x=0\n",
        "  y=0\n",
        "\n",
        "  for i in range(1,n):\n",
        "      if n%i==0:\n",
        "          x=i+x\n",
        "          \n",
        "      else:\n",
        "          pass\n",
        "      \n",
        "\n",
        "  if x<n:\n",
        "      print (n,\"es un número defectivo\")\n",
        "      \n",
        "  if x==n:\n",
        "      print (n,\"es un número perfecto\")\n",
        "      \n",
        "  if x>n:\n",
        "      print (n,\"es un número abundante\")\n",
        "      \n",
        "  if x+n==n+1:\n",
        "      print (n,\"es un número primo\")\n",
        "      \n",
        "      \n",
        "  ############################################################################     \n",
        "\n",
        "  for j in range(1,m):\n",
        "      if m%j==0:\n",
        "          y=j+y\n",
        "      else:\n",
        "          pass\n",
        "        \n",
        "  if y<m:\n",
        "      print (m,\"es un número defectivo\")\n",
        "      \n",
        "  if y==m:\n",
        "      print (m,\"es un número perfecto\")\n",
        "      \n",
        "  if y>m:\n",
        "      print (m,\"es un número abundante\")\n",
        "      \n",
        "  if y+m==m+1:\n",
        "      print (m,\"es un número primo\") \n",
        "      \n",
        "#######################################################################\n",
        "\n",
        "  if (x==m and y==n):\n",
        "      print (n,\"y\",m,\"son numeros amigos\") \n",
        "    \n",
        "\n",
        "num_class(220,284)\n",
        "\n",
        "num_class(24,12)"
      ],
      "metadata": {
        "colab": {
          "base_uri": "https://localhost:8080/"
        },
        "id": "3w5MjXTK4ZBT",
        "outputId": "63bf9d1c-dcd8-49f6-de4e-90df33f870eb"
      },
      "execution_count": null,
      "outputs": [
        {
          "output_type": "stream",
          "name": "stdout",
          "text": [
            "220 es un número abundante\n",
            "284 es un número defectivo\n",
            "220 y 284 son numeros amigos\n",
            "24 es un número abundante\n",
            "12 es un número abundante\n"
          ]
        }
      ]
    },
    {
      "cell_type": "code",
      "source": [
        "############\n",
        "##PALÍNDROMO\n",
        "############\n",
        "\n",
        "a=list(input(\"Ingrese el número: \"))\n",
        "w=\"\".join(a)\n",
        "c=len(a) \n",
        "d=[] \n",
        "while 0<c:\n",
        "    b=a[c-1] \n",
        "    d.append(b)\n",
        "    c=c-1\n",
        "print(\"El numero {} es palíndromo?\".format(w))    \n",
        "print(a==d)"
      ],
      "metadata": {
        "colab": {
          "base_uri": "https://localhost:8080/"
        },
        "id": "4j_XJRsUVRh3",
        "outputId": "28059251-0aed-411e-b146-0c77a2e35e4d"
      },
      "execution_count": null,
      "outputs": [
        {
          "output_type": "stream",
          "name": "stdout",
          "text": [
            "Ingrese el número: 2323\n",
            "El numero 2323 es palíndromo?\n",
            "False\n"
          ]
        }
      ]
    },
    {
      "cell_type": "code",
      "source": [
        "#######################\n",
        "###Cadena de caracteres\n",
        "#######################\n",
        "\n",
        "word=list(input(\"Ingrese una palabra: \"))\n",
        "ii=0\n",
        "mitad=len(word)\n",
        "num_voc=[] \n",
        "num_con=[] \n",
        "rever=[]\n",
        "k=mitad\n",
        "vocales=[\"a\",\"A\",\"e\",\"E\",\"i\",\"I\",\"o\",\"O\",\"u\",\"U\"]\n",
        "\n",
        "#analisis primera casilla\n",
        "if word[(mitad-1)//2] in vocales:\n",
        "    dd=True\n",
        "else:\n",
        "    dd=False\n",
        "\n",
        "\n",
        "while ii<len(word):\n",
        "    #analisis segunda y tercera casilla\n",
        "    if word[ii] in vocales:\n",
        "        num_voc.append(word[ii])\n",
        "    else:\n",
        "        num_con.append(word[ii])\n",
        "\n",
        "\n",
        "    #analisis ultima casilla\n",
        "    k=k-1\n",
        "    j=word[k] \n",
        "    rever.append(j)\n",
        "    ii=ii+1\n",
        "\n",
        "z=\"\".join(rever)\n",
        "F=len(num_voc)\n",
        "n=len(num_con)\n",
        "m=[dd,F,n,z]\n",
        "print(m)"
      ],
      "metadata": {
        "colab": {
          "base_uri": "https://localhost:8080/"
        },
        "id": "uLJaibaFVcyi",
        "outputId": "515373cd-2d90-466d-cc9a-e47dda4e8e42"
      },
      "execution_count": null,
      "outputs": [
        {
          "output_type": "stream",
          "name": "stdout",
          "text": [
            "Ingrese una palabra: murcielago\n",
            "[True, 5, 5, 'ogaleicrum']\n"
          ]
        }
      ]
    },
    {
      "cell_type": "code",
      "source": [
        "############\n",
        "##fibonacci\n",
        "###########\n",
        "fibon=-10\n",
        "while fibon<0:\n",
        "    fibon=int(input(\"Término de la suceción de Fibonacci: \"))\n",
        "    if fibon<0:\n",
        "        print(\"Ingrese un numero natural\")\n",
        "a=[0,1]\n",
        "i=0\n",
        "while (i+1)<fibon:\n",
        "    q=a[i]+a[i+1]\n",
        "    a.append(q)\n",
        "    i=i+1\n",
        "print(\"el f{} de la sucesión de fibonacci es igual a: {}\".format(fibon,q))"
      ],
      "metadata": {
        "colab": {
          "base_uri": "https://localhost:8080/"
        },
        "id": "2SsivgtSVrr9",
        "outputId": "b27d3e95-0120-4092-ee9f-37e11ba17774"
      },
      "execution_count": null,
      "outputs": [
        {
          "output_type": "stream",
          "name": "stdout",
          "text": [
            "Término de la suceción de Fibonacci: 50\n",
            "el f50 de la sucesión de fibonacci es igual a: 12586269025\n"
          ]
        }
      ]
    },
    {
      "cell_type": "code",
      "source": [
        "#############\n",
        "##quicksort\n",
        "#############\n",
        "\n",
        "def quicksort_(v):\n",
        "  v=v.split(\",\")\n",
        "  x=len(v)\n",
        "\n",
        "  i=0\n",
        "  j=0\n",
        "  k=0\n",
        "  l=1\n",
        "  \n",
        "\n",
        "  while i<x:\n",
        "    v[i]=float(v[i])\n",
        "    i=i+1\n",
        "\n",
        "  while j<=x:\n",
        "    while l<x:\n",
        "      if v[k]>v[l]:\n",
        "        p=v[k]\n",
        "        v[k]=v[l]\n",
        "        v[l]= p\n",
        "      l=l+1\n",
        "    k=k+1\n",
        "    l=k+1\n",
        "    j=j+1\n",
        "  print(v)\n",
        "\n",
        "quicksort_(\"22, 32, 42, 12, 22, 31, 41, 11, 12, 232, 24, 12, 22\")\n"
      ],
      "metadata": {
        "colab": {
          "base_uri": "https://localhost:8080/"
        },
        "id": "Jw6sznZcV8Mx",
        "outputId": "5ee3bbde-3999-4568-fe01-e742bd70dc62"
      },
      "execution_count": null,
      "outputs": [
        {
          "output_type": "stream",
          "name": "stdout",
          "text": [
            "[11.0, 12.0, 12.0, 12.0, 22.0, 22.0, 22.0, 24.0, 31.0, 32.0, 41.0, 42.0, 232.0]\n"
          ]
        }
      ]
    }
  ]
}