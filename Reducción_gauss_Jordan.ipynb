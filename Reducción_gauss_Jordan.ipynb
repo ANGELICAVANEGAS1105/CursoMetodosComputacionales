{
  "nbformat": 4,
  "nbformat_minor": 0,
  "metadata": {
    "colab": {
      "provenance": [],
      "authorship_tag": "ABX9TyNdzme/4dGGSxhI6ZGvdJcH",
      "include_colab_link": true
    },
    "kernelspec": {
      "name": "python3",
      "display_name": "Python 3"
    },
    "language_info": {
      "name": "python"
    }
  },
  "cells": [
    {
      "cell_type": "markdown",
      "metadata": {
        "id": "view-in-github",
        "colab_type": "text"
      },
      "source": [
        "<a href=\"https://colab.research.google.com/github/Elizajr/CursoMetodosComputacionales/blob/main/Reducci%C3%B3n_gauss_Jordan.ipynb\" target=\"_parent\"><img src=\"https://colab.research.google.com/assets/colab-badge.svg\" alt=\"Open In Colab\"/></a>"
      ]
    },
    {
      "cell_type": "code",
      "execution_count": null,
      "metadata": {
        "id": "bynl5Ab8pwva"
      },
      "outputs": [],
      "source": [
        "import numpy as np\n",
        "import sympy as sy\n",
        "import pylab as plt\n",
        "from numpy import linalg"
      ]
    },
    {
      "cell_type": "code",
      "source": [
        "ejemplo = np.matrix([[2,1, 1],\n",
        "                     [4,1, 1],\n",
        "                     [6,2, 1]])\n",
        "resultado = np.array([5,1,4]).reshape((3,1))\n",
        "resultado"
      ],
      "metadata": {
        "colab": {
          "base_uri": "https://localhost:8080/"
        },
        "id": "Xm_uhaW2p4-a",
        "outputId": "d62ba84d-ef1c-479e-c60a-d94ce64b87c0"
      },
      "execution_count": null,
      "outputs": [
        {
          "output_type": "execute_result",
          "data": {
            "text/plain": [
              "array([[5],\n",
              "       [1],\n",
              "       [4]])"
            ]
          },
          "metadata": {},
          "execution_count": 24
        }
      ]
    },
    {
      "cell_type": "code",
      "source": [
        "np.linalg.solve(ejemplo,resultado)"
      ],
      "metadata": {
        "colab": {
          "base_uri": "https://localhost:8080/"
        },
        "id": "inGeVPkjquj6",
        "outputId": "ff533c5e-827a-4701-ee46-e06b9a37a6b2"
      },
      "execution_count": null,
      "outputs": [
        {
          "output_type": "execute_result",
          "data": {
            "text/plain": [
              "array([[-2.],\n",
              "       [ 7.],\n",
              "       [ 2.]])"
            ]
          },
          "metadata": {},
          "execution_count": 25
        }
      ]
    },
    {
      "cell_type": "code",
      "source": [
        "-2*ejemplo[:1,:]"
      ],
      "metadata": {
        "colab": {
          "base_uri": "https://localhost:8080/"
        },
        "id": "-xhrHgUTte3b",
        "outputId": "c07458c8-b0fd-4e0d-f5ed-7988d5298855"
      },
      "execution_count": null,
      "outputs": [
        {
          "output_type": "execute_result",
          "data": {
            "text/plain": [
              "matrix([[-4, -2, -2]])"
            ]
          },
          "metadata": {},
          "execution_count": 26
        }
      ]
    },
    {
      "cell_type": "code",
      "source": [
        "reducida = np.zeros((3,4))\n",
        "reducida[:,:3] = ejemplo\n",
        "reducida[:,3:] = resultado\n",
        "reducida"
      ],
      "metadata": {
        "colab": {
          "base_uri": "https://localhost:8080/"
        },
        "id": "sjMXI8nrtqbl",
        "outputId": "499b1886-ffda-44d4-98a2-dc610b2e8da6"
      },
      "execution_count": null,
      "outputs": [
        {
          "output_type": "execute_result",
          "data": {
            "text/plain": [
              "array([[2., 1., 1., 5.],\n",
              "       [4., 1., 1., 1.],\n",
              "       [6., 2., 1., 4.]])"
            ]
          },
          "metadata": {},
          "execution_count": 36
        }
      ]
    },
    {
      "cell_type": "code",
      "source": [
        "reducida"
      ],
      "metadata": {
        "colab": {
          "base_uri": "https://localhost:8080/"
        },
        "id": "nwoFia_5uixj",
        "outputId": "4fc82c91-6ad9-4762-d698-09fbb5a1cfab"
      },
      "execution_count": null,
      "outputs": [
        {
          "output_type": "execute_result",
          "data": {
            "text/plain": [
              "array([[ 2.,  1.,  1.,  5.],\n",
              "       [ 0., -1., -1., -9.],\n",
              "       [ 0.,  0., -1., -2.]])"
            ]
          },
          "metadata": {},
          "execution_count": 42
        }
      ]
    },
    {
      "cell_type": "code",
      "source": [
        "reducida[1]=-2*reducida[0]+reducida[1]\n",
        "# 2 ya que 4/2=2 *-1 para restarla\n"
      ],
      "metadata": {
        "id": "em7fPRrnsxcc"
      },
      "execution_count": null,
      "outputs": []
    },
    {
      "cell_type": "code",
      "source": [
        "# 6/2 = 3\n",
        "reducida[2] = -3*reducida[0]+reducida[2]"
      ],
      "metadata": {
        "id": "cfyYqIlQvI-h"
      },
      "execution_count": null,
      "outputs": []
    },
    {
      "cell_type": "code",
      "source": [
        "# -1/-1 = 1\n",
        "reducida[2] = -1*reducida[1]+reducida[2]"
      ],
      "metadata": {
        "id": "3eecdE5GvX4n"
      },
      "execution_count": null,
      "outputs": []
    },
    {
      "cell_type": "code",
      "source": [
        "# Como a_{3,3} = 1 ya tenemos una solución"
      ],
      "metadata": {
        "id": "XeTxDofevt_6"
      },
      "execution_count": null,
      "outputs": []
    },
    {
      "cell_type": "code",
      "source": [
        "# Operaciones elementales de fila\n",
        "A = []\n",
        "for i in range(3):\n",
        "  for m in range(3):\n",
        "    r = \"a_{\"+str(i+1)+str(m+1)+\"}\"\n",
        "    A.append(sy.Symbol(r))\n",
        "  A.append(sy.Symbol(\"r_{\"+str(i+1)+\"}\"))\n"
      ],
      "metadata": {
        "id": "YgIwSs2QrbLQ"
      },
      "execution_count": null,
      "outputs": []
    },
    {
      "cell_type": "code",
      "source": [
        "A = np.array(A).reshape(3,4)\n",
        "B = sy.Matrix(A)\n",
        "B"
      ],
      "metadata": {
        "colab": {
          "base_uri": "https://localhost:8080/",
          "height": 78
        },
        "id": "Le8UqFhYz0uI",
        "outputId": "772dfb2c-5944-4250-b4ed-c4220a713c04"
      },
      "execution_count": null,
      "outputs": [
        {
          "output_type": "execute_result",
          "data": {
            "text/plain": [
              "Matrix([\n",
              "[a_{11}, a_{12}, a_{13}, r_{1}],\n",
              "[a_{21}, a_{22}, a_{23}, r_{2}],\n",
              "[a_{31}, a_{32}, a_{33}, r_{3}]])"
            ],
            "text/latex": "$\\displaystyle \\left[\\begin{matrix}a_{11} & a_{12} & a_{13} & r_{1}\\\\a_{21} & a_{22} & a_{23} & r_{2}\\\\a_{31} & a_{32} & a_{33} & r_{3}\\end{matrix}\\right]$"
          },
          "metadata": {},
          "execution_count": 222
        }
      ]
    },
    {
      "cell_type": "code",
      "source": [
        "B[0:1,0:]"
      ],
      "metadata": {
        "colab": {
          "base_uri": "https://localhost:8080/",
          "height": 38
        },
        "id": "cJf7iq4x0L0Z",
        "outputId": "98fbca1d-b148-4987-ca6b-213f54ae0ee9"
      },
      "execution_count": null,
      "outputs": [
        {
          "output_type": "execute_result",
          "data": {
            "text/plain": [
              "Matrix([[a_{11}, a_{12}, a_{13}, r_{1}]])"
            ],
            "text/latex": "$\\displaystyle \\left[\\begin{matrix}a_{11} & a_{12} & a_{13} & r_{1}\\end{matrix}\\right]$"
          },
          "metadata": {},
          "execution_count": 223
        }
      ]
    },
    {
      "cell_type": "code",
      "source": [
        "A[1]"
      ],
      "metadata": {
        "colab": {
          "base_uri": "https://localhost:8080/"
        },
        "id": "kG--41-S1FN2",
        "outputId": "249a41c7-1848-41de-9bb4-1b48f3be2b24"
      },
      "execution_count": null,
      "outputs": [
        {
          "output_type": "execute_result",
          "data": {
            "text/plain": [
              "array([a_{21}, a_{22}, a_{23}, r_{2}], dtype=object)"
            ]
          },
          "metadata": {},
          "execution_count": 224
        }
      ]
    },
    {
      "cell_type": "code",
      "source": [
        "B[1:2,:]"
      ],
      "metadata": {
        "colab": {
          "base_uri": "https://localhost:8080/",
          "height": 38
        },
        "id": "Mx9bb3WPz8C8",
        "outputId": "0ecd8bae-3776-4f5e-e14b-cd96a8f94447"
      },
      "execution_count": null,
      "outputs": [
        {
          "output_type": "execute_result",
          "data": {
            "text/plain": [
              "Matrix([[a_{21}, a_{22}, a_{23}, r_{2}]])"
            ],
            "text/latex": "$\\displaystyle \\left[\\begin{matrix}a_{21} & a_{22} & a_{23} & r_{2}\\end{matrix}\\right]$"
          },
          "metadata": {},
          "execution_count": 225
        }
      ]
    },
    {
      "cell_type": "code",
      "source": [
        "#(-B[1:2,:1]/B[:1,:1])*B[0:1,0:]+B[1:2,:]"
      ],
      "metadata": {
        "id": "6EPd7sW71OE1"
      },
      "execution_count": null,
      "outputs": []
    },
    {
      "cell_type": "code",
      "source": [
        "A[1]=(-A[1][0]/A[0][0])*A[0]+A[1]"
      ],
      "metadata": {
        "id": "ngdgyV7Wv5Ri"
      },
      "execution_count": null,
      "outputs": []
    },
    {
      "cell_type": "code",
      "source": [
        "A[2] = (-A[2][0]/A[0][0])*A[0]+A[2]"
      ],
      "metadata": {
        "id": "HQwTglahwM-l"
      },
      "execution_count": null,
      "outputs": []
    },
    {
      "cell_type": "code",
      "source": [
        "A[2] = (-A[2][1]/A[1][1])*A[1]+A[2]"
      ],
      "metadata": {
        "id": "jYezVpnJwyvf"
      },
      "execution_count": null,
      "outputs": []
    },
    {
      "cell_type": "code",
      "source": [
        "sy.Matrix(A)"
      ],
      "metadata": {
        "colab": {
          "base_uri": "https://localhost:8080/",
          "height": 98
        },
        "id": "U8qB9_pqwiDg",
        "outputId": "1dc7583e-82da-4f9e-9fe2-947e52b957f0"
      },
      "execution_count": null,
      "outputs": [
        {
          "output_type": "execute_result",
          "data": {
            "text/plain": [
              "Matrix([\n",
              "[a_{11},                        a_{12},                                                                                                                           a_{13},                                                                                                                        r_{1}],\n",
              "[     0, a_{22} - a_{12}*a_{21}/a_{11},                                                                                                    a_{23} - a_{13}*a_{21}/a_{11},                                                                                                  r_{2} - a_{21}*r_{1}/a_{11}],\n",
              "[     0,                             0, a_{33} + (a_{23} - a_{13}*a_{21}/a_{11})*(-a_{32} + a_{12}*a_{31}/a_{11})/(a_{22} - a_{12}*a_{21}/a_{11}) - a_{13}*a_{31}/a_{11}, r_{3} + (-a_{32} + a_{12}*a_{31}/a_{11})*(r_{2} - a_{21}*r_{1}/a_{11})/(a_{22} - a_{12}*a_{21}/a_{11}) - a_{31}*r_{1}/a_{11}]])"
            ],
            "text/latex": "$\\displaystyle \\left[\\begin{matrix}a_{11} & a_{12} & a_{13} & r_{1}\\\\0 & a_{22} - \\frac{a_{12} a_{21}}{a_{11}} & a_{23} - \\frac{a_{13} a_{21}}{a_{11}} & r_{2} - \\frac{a_{21} r_{1}}{a_{11}}\\\\0 & 0 & a_{33} + \\frac{\\left(a_{23} - \\frac{a_{13} a_{21}}{a_{11}}\\right) \\left(- a_{32} + \\frac{a_{12} a_{31}}{a_{11}}\\right)}{a_{22} - \\frac{a_{12} a_{21}}{a_{11}}} - \\frac{a_{13} a_{31}}{a_{11}} & r_{3} + \\frac{\\left(- a_{32} + \\frac{a_{12} a_{31}}{a_{11}}\\right) \\left(r_{2} - \\frac{a_{21} r_{1}}{a_{11}}\\right)}{a_{22} - \\frac{a_{12} a_{21}}{a_{11}}} - \\frac{a_{31} r_{1}}{a_{11}}\\end{matrix}\\right]$"
          },
          "metadata": {},
          "execution_count": 230
        }
      ]
    },
    {
      "cell_type": "code",
      "source": [
        "np.shape(A)"
      ],
      "metadata": {
        "colab": {
          "base_uri": "https://localhost:8080/"
        },
        "id": "-zKTtcGAxijz",
        "outputId": "b8332684-92ba-4764-dab5-a1ee6542dab6"
      },
      "execution_count": null,
      "outputs": [
        {
          "output_type": "execute_result",
          "data": {
            "text/plain": [
              "(3, 4)"
            ]
          },
          "metadata": {},
          "execution_count": 231
        }
      ]
    },
    {
      "cell_type": "markdown",
      "source": [
        "# Mi función <3"
      ],
      "metadata": {
        "id": "Vyya-ZaP9dJO"
      }
    },
    {
      "cell_type": "code",
      "source": [
        "def reduccion(A):\n",
        "  dim = np.shape(A)\n",
        "  for m in range(dim[0]):\n",
        "    for i in range(dim[1]-1):\n",
        "      if m != i:\n",
        "        if A[i][m] != 0 and A[m][m] != 0:\n",
        "          A[i] = (-A[i][m]/A[m][m])*A[m]+A[i]\n",
        "      #print(A[i])\n",
        "    if A[m][m]!= 0 :\n",
        "      A[m] = A[m]/A[m][m]\n",
        "  return A[:,dim[1]-1:]\n"
      ],
      "metadata": {
        "id": "RV1XV-buxYM0"
      },
      "execution_count": null,
      "outputs": []
    },
    {
      "cell_type": "code",
      "source": [
        "sy.Matrix(reduccion(A))"
      ],
      "metadata": {
        "colab": {
          "base_uri": "https://localhost:8080/",
          "height": 281
        },
        "id": "i0k_BxyjyOPq",
        "outputId": "e28e6f20-9491-4d78-fc6a-d47c3ac863e0"
      },
      "execution_count": null,
      "outputs": [
        {
          "output_type": "execute_result",
          "data": {
            "text/plain": [
              "Matrix([\n",
              "[1, 0, 0, (-a_{12}*(r_{2} - a_{21}*r_{1}/a_{11})/(a_{22} - a_{12}*a_{21}/a_{11}) + r_{1} + (a_{12}*(a_{23} - a_{13}*a_{21}/a_{11})/(a_{22} - a_{12}*a_{21}/a_{11}) - a_{13})*(r_{3} + (-a_{32} + a_{12}*a_{31}/a_{11})*(r_{2} - a_{21}*r_{1}/a_{11})/(a_{22} - a_{12}*a_{21}/a_{11}) - a_{31}*r_{1}/a_{11})/(a_{33} + (a_{23} - a_{13}*a_{21}/a_{11})*(-a_{32} + a_{12}*a_{31}/a_{11})/(a_{22} - a_{12}*a_{21}/a_{11}) - a_{13}*a_{31}/a_{11}))/a_{11}],\n",
              "[0, 1, 0,                                                                           (r_{2} + (-a_{23} + a_{13}*a_{21}/a_{11})*(r_{3} + (-a_{32} + a_{12}*a_{31}/a_{11})*(r_{2} - a_{21}*r_{1}/a_{11})/(a_{22} - a_{12}*a_{21}/a_{11}) - a_{31}*r_{1}/a_{11})/(a_{33} + (a_{23} - a_{13}*a_{21}/a_{11})*(-a_{32} + a_{12}*a_{31}/a_{11})/(a_{22} - a_{12}*a_{21}/a_{11}) - a_{13}*a_{31}/a_{11}) - a_{21}*r_{1}/a_{11})/(a_{22} - a_{12}*a_{21}/a_{11})],\n",
              "[0, 0, 1,                                                                                                                                                                            (r_{3} + (-a_{32} + a_{12}*a_{31}/a_{11})*(r_{2} - a_{21}*r_{1}/a_{11})/(a_{22} - a_{12}*a_{21}/a_{11}) - a_{31}*r_{1}/a_{11})/(a_{33} + (a_{23} - a_{13}*a_{21}/a_{11})*(-a_{32} + a_{12}*a_{31}/a_{11})/(a_{22} - a_{12}*a_{21}/a_{11}) - a_{13}*a_{31}/a_{11})]])"
            ],
            "text/latex": "$\\displaystyle \\left[\\begin{matrix}1 & 0 & 0 & \\frac{- \\frac{a_{12} \\left(r_{2} - \\frac{a_{21} r_{1}}{a_{11}}\\right)}{a_{22} - \\frac{a_{12} a_{21}}{a_{11}}} + r_{1} + \\frac{\\left(\\frac{a_{12} \\left(a_{23} - \\frac{a_{13} a_{21}}{a_{11}}\\right)}{a_{22} - \\frac{a_{12} a_{21}}{a_{11}}} - a_{13}\\right) \\left(r_{3} + \\frac{\\left(- a_{32} + \\frac{a_{12} a_{31}}{a_{11}}\\right) \\left(r_{2} - \\frac{a_{21} r_{1}}{a_{11}}\\right)}{a_{22} - \\frac{a_{12} a_{21}}{a_{11}}} - \\frac{a_{31} r_{1}}{a_{11}}\\right)}{a_{33} + \\frac{\\left(a_{23} - \\frac{a_{13} a_{21}}{a_{11}}\\right) \\left(- a_{32} + \\frac{a_{12} a_{31}}{a_{11}}\\right)}{a_{22} - \\frac{a_{12} a_{21}}{a_{11}}} - \\frac{a_{13} a_{31}}{a_{11}}}}{a_{11}}\\\\0 & 1 & 0 & \\frac{r_{2} + \\frac{\\left(- a_{23} + \\frac{a_{13} a_{21}}{a_{11}}\\right) \\left(r_{3} + \\frac{\\left(- a_{32} + \\frac{a_{12} a_{31}}{a_{11}}\\right) \\left(r_{2} - \\frac{a_{21} r_{1}}{a_{11}}\\right)}{a_{22} - \\frac{a_{12} a_{21}}{a_{11}}} - \\frac{a_{31} r_{1}}{a_{11}}\\right)}{a_{33} + \\frac{\\left(a_{23} - \\frac{a_{13} a_{21}}{a_{11}}\\right) \\left(- a_{32} + \\frac{a_{12} a_{31}}{a_{11}}\\right)}{a_{22} - \\frac{a_{12} a_{21}}{a_{11}}} - \\frac{a_{13} a_{31}}{a_{11}}} - \\frac{a_{21} r_{1}}{a_{11}}}{a_{22} - \\frac{a_{12} a_{21}}{a_{11}}}\\\\0 & 0 & 1 & \\frac{r_{3} + \\frac{\\left(- a_{32} + \\frac{a_{12} a_{31}}{a_{11}}\\right) \\left(r_{2} - \\frac{a_{21} r_{1}}{a_{11}}\\right)}{a_{22} - \\frac{a_{12} a_{21}}{a_{11}}} - \\frac{a_{31} r_{1}}{a_{11}}}{a_{33} + \\frac{\\left(a_{23} - \\frac{a_{13} a_{21}}{a_{11}}\\right) \\left(- a_{32} + \\frac{a_{12} a_{31}}{a_{11}}\\right)}{a_{22} - \\frac{a_{12} a_{21}}{a_{11}}} - \\frac{a_{13} a_{31}}{a_{11}}}\\end{matrix}\\right]$"
          },
          "metadata": {},
          "execution_count": 244
        }
      ]
    },
    {
      "cell_type": "code",
      "source": [
        "sy.Matrix(reduccion(reducida))\n",
        "# Falta que los cosos sean 1"
      ],
      "metadata": {
        "colab": {
          "base_uri": "https://localhost:8080/",
          "height": 78
        },
        "id": "3wNzevzs2sX7",
        "outputId": "015befc0-d86f-4ae8-dea9-4a5ce4faa2bb"
      },
      "execution_count": null,
      "outputs": [
        {
          "output_type": "execute_result",
          "data": {
            "text/plain": [
              "Matrix([\n",
              "[-2.0],\n",
              "[ 7.0],\n",
              "[ 2.0]])"
            ],
            "text/latex": "$\\displaystyle \\left[\\begin{matrix}-2.0\\\\7.0\\\\2.0\\end{matrix}\\right]$"
          },
          "metadata": {},
          "execution_count": 28
        }
      ]
    },
    {
      "cell_type": "code",
      "source": [
        "sy.Matrix(A)"
      ],
      "metadata": {
        "colab": {
          "base_uri": "https://localhost:8080/",
          "height": 281
        },
        "id": "_FfjCIOH3aco",
        "outputId": "2dcf4f64-a84e-4b95-d2d5-1661c44f2fac"
      },
      "execution_count": null,
      "outputs": [
        {
          "output_type": "execute_result",
          "data": {
            "text/plain": [
              "Matrix([\n",
              "[1, 0, 0, (-a_{12}*(r_{2} - a_{21}*r_{1}/a_{11})/(a_{22} - a_{12}*a_{21}/a_{11}) + r_{1} + (a_{12}*(a_{23} - a_{13}*a_{21}/a_{11})/(a_{22} - a_{12}*a_{21}/a_{11}) - a_{13})*(r_{3} + (-a_{32} + a_{12}*a_{31}/a_{11})*(r_{2} - a_{21}*r_{1}/a_{11})/(a_{22} - a_{12}*a_{21}/a_{11}) - a_{31}*r_{1}/a_{11})/(a_{33} + (a_{23} - a_{13}*a_{21}/a_{11})*(-a_{32} + a_{12}*a_{31}/a_{11})/(a_{22} - a_{12}*a_{21}/a_{11}) - a_{13}*a_{31}/a_{11}))/a_{11}],\n",
              "[0, 1, 0,                                                                           (r_{2} + (-a_{23} + a_{13}*a_{21}/a_{11})*(r_{3} + (-a_{32} + a_{12}*a_{31}/a_{11})*(r_{2} - a_{21}*r_{1}/a_{11})/(a_{22} - a_{12}*a_{21}/a_{11}) - a_{31}*r_{1}/a_{11})/(a_{33} + (a_{23} - a_{13}*a_{21}/a_{11})*(-a_{32} + a_{12}*a_{31}/a_{11})/(a_{22} - a_{12}*a_{21}/a_{11}) - a_{13}*a_{31}/a_{11}) - a_{21}*r_{1}/a_{11})/(a_{22} - a_{12}*a_{21}/a_{11})],\n",
              "[0, 0, 1,                                                                                                                                                                            (r_{3} + (-a_{32} + a_{12}*a_{31}/a_{11})*(r_{2} - a_{21}*r_{1}/a_{11})/(a_{22} - a_{12}*a_{21}/a_{11}) - a_{31}*r_{1}/a_{11})/(a_{33} + (a_{23} - a_{13}*a_{21}/a_{11})*(-a_{32} + a_{12}*a_{31}/a_{11})/(a_{22} - a_{12}*a_{21}/a_{11}) - a_{13}*a_{31}/a_{11})]])"
            ],
            "text/latex": "$\\displaystyle \\left[\\begin{matrix}1 & 0 & 0 & \\frac{- \\frac{a_{12} \\left(r_{2} - \\frac{a_{21} r_{1}}{a_{11}}\\right)}{a_{22} - \\frac{a_{12} a_{21}}{a_{11}}} + r_{1} + \\frac{\\left(\\frac{a_{12} \\left(a_{23} - \\frac{a_{13} a_{21}}{a_{11}}\\right)}{a_{22} - \\frac{a_{12} a_{21}}{a_{11}}} - a_{13}\\right) \\left(r_{3} + \\frac{\\left(- a_{32} + \\frac{a_{12} a_{31}}{a_{11}}\\right) \\left(r_{2} - \\frac{a_{21} r_{1}}{a_{11}}\\right)}{a_{22} - \\frac{a_{12} a_{21}}{a_{11}}} - \\frac{a_{31} r_{1}}{a_{11}}\\right)}{a_{33} + \\frac{\\left(a_{23} - \\frac{a_{13} a_{21}}{a_{11}}\\right) \\left(- a_{32} + \\frac{a_{12} a_{31}}{a_{11}}\\right)}{a_{22} - \\frac{a_{12} a_{21}}{a_{11}}} - \\frac{a_{13} a_{31}}{a_{11}}}}{a_{11}}\\\\0 & 1 & 0 & \\frac{r_{2} + \\frac{\\left(- a_{23} + \\frac{a_{13} a_{21}}{a_{11}}\\right) \\left(r_{3} + \\frac{\\left(- a_{32} + \\frac{a_{12} a_{31}}{a_{11}}\\right) \\left(r_{2} - \\frac{a_{21} r_{1}}{a_{11}}\\right)}{a_{22} - \\frac{a_{12} a_{21}}{a_{11}}} - \\frac{a_{31} r_{1}}{a_{11}}\\right)}{a_{33} + \\frac{\\left(a_{23} - \\frac{a_{13} a_{21}}{a_{11}}\\right) \\left(- a_{32} + \\frac{a_{12} a_{31}}{a_{11}}\\right)}{a_{22} - \\frac{a_{12} a_{21}}{a_{11}}} - \\frac{a_{13} a_{31}}{a_{11}}} - \\frac{a_{21} r_{1}}{a_{11}}}{a_{22} - \\frac{a_{12} a_{21}}{a_{11}}}\\\\0 & 0 & 1 & \\frac{r_{3} + \\frac{\\left(- a_{32} + \\frac{a_{12} a_{31}}{a_{11}}\\right) \\left(r_{2} - \\frac{a_{21} r_{1}}{a_{11}}\\right)}{a_{22} - \\frac{a_{12} a_{21}}{a_{11}}} - \\frac{a_{31} r_{1}}{a_{11}}}{a_{33} + \\frac{\\left(a_{23} - \\frac{a_{13} a_{21}}{a_{11}}\\right) \\left(- a_{32} + \\frac{a_{12} a_{31}}{a_{11}}\\right)}{a_{22} - \\frac{a_{12} a_{21}}{a_{11}}} - \\frac{a_{13} a_{31}}{a_{11}}}\\end{matrix}\\right]$"
          },
          "metadata": {},
          "execution_count": 248
        }
      ]
    },
    {
      "cell_type": "code",
      "source": [
        "sy.Matrix(reduccion(A))"
      ],
      "metadata": {
        "colab": {
          "base_uri": "https://localhost:8080/",
          "height": 281
        },
        "id": "iJtWThjN3fle",
        "outputId": "14ed32be-e39c-4e5d-ae16-85cee853cb49"
      },
      "execution_count": null,
      "outputs": [
        {
          "output_type": "execute_result",
          "data": {
            "text/plain": [
              "Matrix([\n",
              "[(-a_{12}*(r_{2} - a_{21}*r_{1}/a_{11})/(a_{22} - a_{12}*a_{21}/a_{11}) + r_{1} + (a_{12}*(a_{23} - a_{13}*a_{21}/a_{11})/(a_{22} - a_{12}*a_{21}/a_{11}) - a_{13})*(r_{3} + (-a_{32} + a_{12}*a_{31}/a_{11})*(r_{2} - a_{21}*r_{1}/a_{11})/(a_{22} - a_{12}*a_{21}/a_{11}) - a_{31}*r_{1}/a_{11})/(a_{33} + (a_{23} - a_{13}*a_{21}/a_{11})*(-a_{32} + a_{12}*a_{31}/a_{11})/(a_{22} - a_{12}*a_{21}/a_{11}) - a_{13}*a_{31}/a_{11}))/a_{11}],\n",
              "[                                                                          (r_{2} + (-a_{23} + a_{13}*a_{21}/a_{11})*(r_{3} + (-a_{32} + a_{12}*a_{31}/a_{11})*(r_{2} - a_{21}*r_{1}/a_{11})/(a_{22} - a_{12}*a_{21}/a_{11}) - a_{31}*r_{1}/a_{11})/(a_{33} + (a_{23} - a_{13}*a_{21}/a_{11})*(-a_{32} + a_{12}*a_{31}/a_{11})/(a_{22} - a_{12}*a_{21}/a_{11}) - a_{13}*a_{31}/a_{11}) - a_{21}*r_{1}/a_{11})/(a_{22} - a_{12}*a_{21}/a_{11})],\n",
              "[                                                                                                                                                                           (r_{3} + (-a_{32} + a_{12}*a_{31}/a_{11})*(r_{2} - a_{21}*r_{1}/a_{11})/(a_{22} - a_{12}*a_{21}/a_{11}) - a_{31}*r_{1}/a_{11})/(a_{33} + (a_{23} - a_{13}*a_{21}/a_{11})*(-a_{32} + a_{12}*a_{31}/a_{11})/(a_{22} - a_{12}*a_{21}/a_{11}) - a_{13}*a_{31}/a_{11})]])"
            ],
            "text/latex": "$\\displaystyle \\left[\\begin{matrix}\\frac{- \\frac{a_{12} \\left(r_{2} - \\frac{a_{21} r_{1}}{a_{11}}\\right)}{a_{22} - \\frac{a_{12} a_{21}}{a_{11}}} + r_{1} + \\frac{\\left(\\frac{a_{12} \\left(a_{23} - \\frac{a_{13} a_{21}}{a_{11}}\\right)}{a_{22} - \\frac{a_{12} a_{21}}{a_{11}}} - a_{13}\\right) \\left(r_{3} + \\frac{\\left(- a_{32} + \\frac{a_{12} a_{31}}{a_{11}}\\right) \\left(r_{2} - \\frac{a_{21} r_{1}}{a_{11}}\\right)}{a_{22} - \\frac{a_{12} a_{21}}{a_{11}}} - \\frac{a_{31} r_{1}}{a_{11}}\\right)}{a_{33} + \\frac{\\left(a_{23} - \\frac{a_{13} a_{21}}{a_{11}}\\right) \\left(- a_{32} + \\frac{a_{12} a_{31}}{a_{11}}\\right)}{a_{22} - \\frac{a_{12} a_{21}}{a_{11}}} - \\frac{a_{13} a_{31}}{a_{11}}}}{a_{11}}\\\\\\frac{r_{2} + \\frac{\\left(- a_{23} + \\frac{a_{13} a_{21}}{a_{11}}\\right) \\left(r_{3} + \\frac{\\left(- a_{32} + \\frac{a_{12} a_{31}}{a_{11}}\\right) \\left(r_{2} - \\frac{a_{21} r_{1}}{a_{11}}\\right)}{a_{22} - \\frac{a_{12} a_{21}}{a_{11}}} - \\frac{a_{31} r_{1}}{a_{11}}\\right)}{a_{33} + \\frac{\\left(a_{23} - \\frac{a_{13} a_{21}}{a_{11}}\\right) \\left(- a_{32} + \\frac{a_{12} a_{31}}{a_{11}}\\right)}{a_{22} - \\frac{a_{12} a_{21}}{a_{11}}} - \\frac{a_{13} a_{31}}{a_{11}}} - \\frac{a_{21} r_{1}}{a_{11}}}{a_{22} - \\frac{a_{12} a_{21}}{a_{11}}}\\\\\\frac{r_{3} + \\frac{\\left(- a_{32} + \\frac{a_{12} a_{31}}{a_{11}}\\right) \\left(r_{2} - \\frac{a_{21} r_{1}}{a_{11}}\\right)}{a_{22} - \\frac{a_{12} a_{21}}{a_{11}}} - \\frac{a_{31} r_{1}}{a_{11}}}{a_{33} + \\frac{\\left(a_{23} - \\frac{a_{13} a_{21}}{a_{11}}\\right) \\left(- a_{32} + \\frac{a_{12} a_{31}}{a_{11}}\\right)}{a_{22} - \\frac{a_{12} a_{21}}{a_{11}}} - \\frac{a_{13} a_{31}}{a_{11}}}\\end{matrix}\\right]$"
          },
          "metadata": {},
          "execution_count": 252
        }
      ]
    },
    {
      "cell_type": "code",
      "source": [
        "prueba = []\n",
        "for i in range(4):\n",
        "  for m in range(4):\n",
        "    r = \"a_{\"+str(i+1)+str(m+1)+\"}\"\n",
        "    prueba.append(sy.Symbol(r))\n",
        "  prueba.append(sy.Symbol(\"r_{\"+str(i+1)+\"}\"))\n",
        "prueba = np.array(prueba).reshape(4,5)"
      ],
      "metadata": {
        "id": "dDeVYSps6QqH"
      },
      "execution_count": null,
      "outputs": []
    },
    {
      "cell_type": "code",
      "source": [
        "sy.Matrix(prueba)"
      ],
      "metadata": {
        "colab": {
          "base_uri": "https://localhost:8080/",
          "height": 98
        },
        "id": "j2QfUxCI6VML",
        "outputId": "f9bd7673-fce9-4290-c48f-ffcc328770e3"
      },
      "execution_count": null,
      "outputs": [
        {
          "output_type": "execute_result",
          "data": {
            "text/plain": [
              "Matrix([\n",
              "[a_{11}, a_{12}, a_{13}, a_{14}, r_{1}],\n",
              "[a_{21}, a_{22}, a_{23}, a_{24}, r_{2}],\n",
              "[a_{31}, a_{32}, a_{33}, a_{34}, r_{3}],\n",
              "[a_{41}, a_{42}, a_{43}, a_{44}, r_{4}]])"
            ],
            "text/latex": "$\\displaystyle \\left[\\begin{matrix}a_{11} & a_{12} & a_{13} & a_{14} & r_{1}\\\\a_{21} & a_{22} & a_{23} & a_{24} & r_{2}\\\\a_{31} & a_{32} & a_{33} & a_{34} & r_{3}\\\\a_{41} & a_{42} & a_{43} & a_{44} & r_{4}\\end{matrix}\\right]$"
          },
          "metadata": {},
          "execution_count": 23
        }
      ]
    },
    {
      "cell_type": "code",
      "source": [
        "sy.Matrix(reduccion(prueba))"
      ],
      "metadata": {
        "colab": {
          "base_uri": "https://localhost:8080/",
          "height": 688
        },
        "id": "HRlBzcuk6-Us",
        "outputId": "c165793c-c5da-450c-abcd-8c89336de8c4"
      },
      "execution_count": null,
      "outputs": [
        {
          "output_type": "execute_result",
          "data": {
            "text/plain": [
              "Matrix([\n",
              "[(a_{12}*(a_{23} - a_{13}*a_{21}/a_{11})/(a_{11}*(a_{22} - a_{12}*a_{21}/a_{11})) - a_{13}/a_{11})*(r_{3} + (-a_{32} + a_{12}*a_{31}/a_{11})*(r_{2} - a_{21}*r_{1}/a_{11})/(a_{22} - a_{12}*a_{21}/a_{11}) - a_{31}*r_{1}/a_{11})/(a_{33} + (a_{23} - a_{13}*a_{21}/a_{11})*(-a_{32} + a_{12}*a_{31}/a_{11})/(a_{22} - a_{12}*a_{21}/a_{11}) - a_{13}*a_{31}/a_{11}) + (-(a_{12}*(a_{23} - a_{13}*a_{21}/a_{11})/(a_{11}*(a_{22} - a_{12}*a_{21}/a_{11})) - a_{13}/a_{11})*(a_{34} + (a_{24} - a_{14}*a_{21}/a_{11})*(-a_{32} + a_{12}*a_{31}/a_{11})/(a_{22} - a_{12}*a_{21}/a_{11}) - a_{14}*a_{31}/a_{11})/(a_{33} + (a_{23} - a_{13}*a_{21}/a_{11})*(-a_{32} + a_{12}*a_{31}/a_{11})/(a_{22} - a_{12}*a_{21}/a_{11}) - a_{13}*a_{31}/a_{11}) + a_{12}*(a_{24} - a_{14}*a_{21}/a_{11})/(a_{11}*(a_{22} - a_{12}*a_{21}/a_{11})) - a_{14}/a_{11})*(r_{4} + (-a_{43} - (a_{23} - a_{13}*a_{21}/a_{11})*(-a_{42} + a_{12}*a_{41}/a_{11})/(a_{22} - a_{12}*a_{21}/a_{11}) + a_{13}*a_{41}/a_{11})*(r_{3} + (-a_{32} + a_{12}*a_{31}/a_{11})*(r_{2} - a_{21}*r_{1}/a_{11})/(a_{22} - a_{12}*a_{21}/a_{11}) - a_{31}*r_{1}/a_{11})/(a_{33} + (a_{23} - a_{13}*a_{21}/a_{11})*(-a_{32} + a_{12}*a_{31}/a_{11})/(a_{22} - a_{12}*a_{21}/a_{11}) - a_{13}*a_{31}/a_{11}) + (-a_{42} + a_{12}*a_{41}/a_{11})*(r_{2} - a_{21}*r_{1}/a_{11})/(a_{22} - a_{12}*a_{21}/a_{11}) - a_{41}*r_{1}/a_{11})/(a_{44} + (a_{34} + (a_{24} - a_{14}*a_{21}/a_{11})*(-a_{32} + a_{12}*a_{31}/a_{11})/(a_{22} - a_{12}*a_{21}/a_{11}) - a_{14}*a_{31}/a_{11})*(-a_{43} - (a_{23} - a_{13}*a_{21}/a_{11})*(-a_{42} + a_{12}*a_{41}/a_{11})/(a_{22} - a_{12}*a_{21}/a_{11}) + a_{13}*a_{41}/a_{11})/(a_{33} + (a_{23} - a_{13}*a_{21}/a_{11})*(-a_{32} + a_{12}*a_{31}/a_{11})/(a_{22} - a_{12}*a_{21}/a_{11}) - a_{13}*a_{31}/a_{11}) + (a_{24} - a_{14}*a_{21}/a_{11})*(-a_{42} + a_{12}*a_{41}/a_{11})/(a_{22} - a_{12}*a_{21}/a_{11}) - a_{14}*a_{41}/a_{11}) - a_{12}*(r_{2} - a_{21}*r_{1}/a_{11})/(a_{11}*(a_{22} - a_{12}*a_{21}/a_{11})) + r_{1}/a_{11}],\n",
              "[                                                                                                                                ((a_{23} - a_{13}*a_{21}/a_{11})*(a_{34} + (a_{24} - a_{14}*a_{21}/a_{11})*(-a_{32} + a_{12}*a_{31}/a_{11})/(a_{22} - a_{12}*a_{21}/a_{11}) - a_{14}*a_{31}/a_{11})/((a_{22} - a_{12}*a_{21}/a_{11})*(a_{33} + (a_{23} - a_{13}*a_{21}/a_{11})*(-a_{32} + a_{12}*a_{31}/a_{11})/(a_{22} - a_{12}*a_{21}/a_{11}) - a_{13}*a_{31}/a_{11})) - (a_{24} - a_{14}*a_{21}/a_{11})/(a_{22} - a_{12}*a_{21}/a_{11}))*(r_{4} + (-a_{43} - (a_{23} - a_{13}*a_{21}/a_{11})*(-a_{42} + a_{12}*a_{41}/a_{11})/(a_{22} - a_{12}*a_{21}/a_{11}) + a_{13}*a_{41}/a_{11})*(r_{3} + (-a_{32} + a_{12}*a_{31}/a_{11})*(r_{2} - a_{21}*r_{1}/a_{11})/(a_{22} - a_{12}*a_{21}/a_{11}) - a_{31}*r_{1}/a_{11})/(a_{33} + (a_{23} - a_{13}*a_{21}/a_{11})*(-a_{32} + a_{12}*a_{31}/a_{11})/(a_{22} - a_{12}*a_{21}/a_{11}) - a_{13}*a_{31}/a_{11}) + (-a_{42} + a_{12}*a_{41}/a_{11})*(r_{2} - a_{21}*r_{1}/a_{11})/(a_{22} - a_{12}*a_{21}/a_{11}) - a_{41}*r_{1}/a_{11})/(a_{44} + (a_{34} + (a_{24} - a_{14}*a_{21}/a_{11})*(-a_{32} + a_{12}*a_{31}/a_{11})/(a_{22} - a_{12}*a_{21}/a_{11}) - a_{14}*a_{31}/a_{11})*(-a_{43} - (a_{23} - a_{13}*a_{21}/a_{11})*(-a_{42} + a_{12}*a_{41}/a_{11})/(a_{22} - a_{12}*a_{21}/a_{11}) + a_{13}*a_{41}/a_{11})/(a_{33} + (a_{23} - a_{13}*a_{21}/a_{11})*(-a_{32} + a_{12}*a_{31}/a_{11})/(a_{22} - a_{12}*a_{21}/a_{11}) - a_{13}*a_{31}/a_{11}) + (a_{24} - a_{14}*a_{21}/a_{11})*(-a_{42} + a_{12}*a_{41}/a_{11})/(a_{22} - a_{12}*a_{21}/a_{11}) - a_{14}*a_{41}/a_{11}) - (a_{23} - a_{13}*a_{21}/a_{11})*(r_{3} + (-a_{32} + a_{12}*a_{31}/a_{11})*(r_{2} - a_{21}*r_{1}/a_{11})/(a_{22} - a_{12}*a_{21}/a_{11}) - a_{31}*r_{1}/a_{11})/((a_{22} - a_{12}*a_{21}/a_{11})*(a_{33} + (a_{23} - a_{13}*a_{21}/a_{11})*(-a_{32} + a_{12}*a_{31}/a_{11})/(a_{22} - a_{12}*a_{21}/a_{11}) - a_{13}*a_{31}/a_{11})) + (r_{2} - a_{21}*r_{1}/a_{11})/(a_{22} - a_{12}*a_{21}/a_{11})],\n",
              "[                                                                                                                                                                                                                                                                                                                                                                                                     -(a_{34} + (a_{24} - a_{14}*a_{21}/a_{11})*(-a_{32} + a_{12}*a_{31}/a_{11})/(a_{22} - a_{12}*a_{21}/a_{11}) - a_{14}*a_{31}/a_{11})*(r_{4} + (-a_{43} - (a_{23} - a_{13}*a_{21}/a_{11})*(-a_{42} + a_{12}*a_{41}/a_{11})/(a_{22} - a_{12}*a_{21}/a_{11}) + a_{13}*a_{41}/a_{11})*(r_{3} + (-a_{32} + a_{12}*a_{31}/a_{11})*(r_{2} - a_{21}*r_{1}/a_{11})/(a_{22} - a_{12}*a_{21}/a_{11}) - a_{31}*r_{1}/a_{11})/(a_{33} + (a_{23} - a_{13}*a_{21}/a_{11})*(-a_{32} + a_{12}*a_{31}/a_{11})/(a_{22} - a_{12}*a_{21}/a_{11}) - a_{13}*a_{31}/a_{11}) + (-a_{42} + a_{12}*a_{41}/a_{11})*(r_{2} - a_{21}*r_{1}/a_{11})/(a_{22} - a_{12}*a_{21}/a_{11}) - a_{41}*r_{1}/a_{11})/((a_{33} + (a_{23} - a_{13}*a_{21}/a_{11})*(-a_{32} + a_{12}*a_{31}/a_{11})/(a_{22} - a_{12}*a_{21}/a_{11}) - a_{13}*a_{31}/a_{11})*(a_{44} + (a_{34} + (a_{24} - a_{14}*a_{21}/a_{11})*(-a_{32} + a_{12}*a_{31}/a_{11})/(a_{22} - a_{12}*a_{21}/a_{11}) - a_{14}*a_{31}/a_{11})*(-a_{43} - (a_{23} - a_{13}*a_{21}/a_{11})*(-a_{42} + a_{12}*a_{41}/a_{11})/(a_{22} - a_{12}*a_{21}/a_{11}) + a_{13}*a_{41}/a_{11})/(a_{33} + (a_{23} - a_{13}*a_{21}/a_{11})*(-a_{32} + a_{12}*a_{31}/a_{11})/(a_{22} - a_{12}*a_{21}/a_{11}) - a_{13}*a_{31}/a_{11}) + (a_{24} - a_{14}*a_{21}/a_{11})*(-a_{42} + a_{12}*a_{41}/a_{11})/(a_{22} - a_{12}*a_{21}/a_{11}) - a_{14}*a_{41}/a_{11})) + (r_{3} + (-a_{32} + a_{12}*a_{31}/a_{11})*(r_{2} - a_{21}*r_{1}/a_{11})/(a_{22} - a_{12}*a_{21}/a_{11}) - a_{31}*r_{1}/a_{11})/(a_{33} + (a_{23} - a_{13}*a_{21}/a_{11})*(-a_{32} + a_{12}*a_{31}/a_{11})/(a_{22} - a_{12}*a_{21}/a_{11}) - a_{13}*a_{31}/a_{11})],\n",
              "[                                                                                                                                                                                                                                                                                                                                                                                                                                                                                                                                                                                                                                                                                                                                                                                                                                                                                                                                                  (r_{4} + (-a_{43} - (a_{23} - a_{13}*a_{21}/a_{11})*(-a_{42} + a_{12}*a_{41}/a_{11})/(a_{22} - a_{12}*a_{21}/a_{11}) + a_{13}*a_{41}/a_{11})*(r_{3} + (-a_{32} + a_{12}*a_{31}/a_{11})*(r_{2} - a_{21}*r_{1}/a_{11})/(a_{22} - a_{12}*a_{21}/a_{11}) - a_{31}*r_{1}/a_{11})/(a_{33} + (a_{23} - a_{13}*a_{21}/a_{11})*(-a_{32} + a_{12}*a_{31}/a_{11})/(a_{22} - a_{12}*a_{21}/a_{11}) - a_{13}*a_{31}/a_{11}) + (-a_{42} + a_{12}*a_{41}/a_{11})*(r_{2} - a_{21}*r_{1}/a_{11})/(a_{22} - a_{12}*a_{21}/a_{11}) - a_{41}*r_{1}/a_{11})/(a_{44} + (a_{34} + (a_{24} - a_{14}*a_{21}/a_{11})*(-a_{32} + a_{12}*a_{31}/a_{11})/(a_{22} - a_{12}*a_{21}/a_{11}) - a_{14}*a_{31}/a_{11})*(-a_{43} - (a_{23} - a_{13}*a_{21}/a_{11})*(-a_{42} + a_{12}*a_{41}/a_{11})/(a_{22} - a_{12}*a_{21}/a_{11}) + a_{13}*a_{41}/a_{11})/(a_{33} + (a_{23} - a_{13}*a_{21}/a_{11})*(-a_{32} + a_{12}*a_{31}/a_{11})/(a_{22} - a_{12}*a_{21}/a_{11}) - a_{13}*a_{31}/a_{11}) + (a_{24} - a_{14}*a_{21}/a_{11})*(-a_{42} + a_{12}*a_{41}/a_{11})/(a_{22} - a_{12}*a_{21}/a_{11}) - a_{14}*a_{41}/a_{11})]])"
            ],
            "text/latex": "$\\displaystyle \\left[\\begin{matrix}\\frac{\\left(\\frac{a_{12} \\left(a_{23} - \\frac{a_{13} a_{21}}{a_{11}}\\right)}{a_{11} \\left(a_{22} - \\frac{a_{12} a_{21}}{a_{11}}\\right)} - \\frac{a_{13}}{a_{11}}\\right) \\left(r_{3} + \\frac{\\left(- a_{32} + \\frac{a_{12} a_{31}}{a_{11}}\\right) \\left(r_{2} - \\frac{a_{21} r_{1}}{a_{11}}\\right)}{a_{22} - \\frac{a_{12} a_{21}}{a_{11}}} - \\frac{a_{31} r_{1}}{a_{11}}\\right)}{a_{33} + \\frac{\\left(a_{23} - \\frac{a_{13} a_{21}}{a_{11}}\\right) \\left(- a_{32} + \\frac{a_{12} a_{31}}{a_{11}}\\right)}{a_{22} - \\frac{a_{12} a_{21}}{a_{11}}} - \\frac{a_{13} a_{31}}{a_{11}}} + \\frac{\\left(- \\frac{\\left(\\frac{a_{12} \\left(a_{23} - \\frac{a_{13} a_{21}}{a_{11}}\\right)}{a_{11} \\left(a_{22} - \\frac{a_{12} a_{21}}{a_{11}}\\right)} - \\frac{a_{13}}{a_{11}}\\right) \\left(a_{34} + \\frac{\\left(a_{24} - \\frac{a_{14} a_{21}}{a_{11}}\\right) \\left(- a_{32} + \\frac{a_{12} a_{31}}{a_{11}}\\right)}{a_{22} - \\frac{a_{12} a_{21}}{a_{11}}} - \\frac{a_{14} a_{31}}{a_{11}}\\right)}{a_{33} + \\frac{\\left(a_{23} - \\frac{a_{13} a_{21}}{a_{11}}\\right) \\left(- a_{32} + \\frac{a_{12} a_{31}}{a_{11}}\\right)}{a_{22} - \\frac{a_{12} a_{21}}{a_{11}}} - \\frac{a_{13} a_{31}}{a_{11}}} + \\frac{a_{12} \\left(a_{24} - \\frac{a_{14} a_{21}}{a_{11}}\\right)}{a_{11} \\left(a_{22} - \\frac{a_{12} a_{21}}{a_{11}}\\right)} - \\frac{a_{14}}{a_{11}}\\right) \\left(r_{4} + \\frac{\\left(- a_{43} - \\frac{\\left(a_{23} - \\frac{a_{13} a_{21}}{a_{11}}\\right) \\left(- a_{42} + \\frac{a_{12} a_{41}}{a_{11}}\\right)}{a_{22} - \\frac{a_{12} a_{21}}{a_{11}}} + \\frac{a_{13} a_{41}}{a_{11}}\\right) \\left(r_{3} + \\frac{\\left(- a_{32} + \\frac{a_{12} a_{31}}{a_{11}}\\right) \\left(r_{2} - \\frac{a_{21} r_{1}}{a_{11}}\\right)}{a_{22} - \\frac{a_{12} a_{21}}{a_{11}}} - \\frac{a_{31} r_{1}}{a_{11}}\\right)}{a_{33} + \\frac{\\left(a_{23} - \\frac{a_{13} a_{21}}{a_{11}}\\right) \\left(- a_{32} + \\frac{a_{12} a_{31}}{a_{11}}\\right)}{a_{22} - \\frac{a_{12} a_{21}}{a_{11}}} - \\frac{a_{13} a_{31}}{a_{11}}} + \\frac{\\left(- a_{42} + \\frac{a_{12} a_{41}}{a_{11}}\\right) \\left(r_{2} - \\frac{a_{21} r_{1}}{a_{11}}\\right)}{a_{22} - \\frac{a_{12} a_{21}}{a_{11}}} - \\frac{a_{41} r_{1}}{a_{11}}\\right)}{a_{44} + \\frac{\\left(a_{34} + \\frac{\\left(a_{24} - \\frac{a_{14} a_{21}}{a_{11}}\\right) \\left(- a_{32} + \\frac{a_{12} a_{31}}{a_{11}}\\right)}{a_{22} - \\frac{a_{12} a_{21}}{a_{11}}} - \\frac{a_{14} a_{31}}{a_{11}}\\right) \\left(- a_{43} - \\frac{\\left(a_{23} - \\frac{a_{13} a_{21}}{a_{11}}\\right) \\left(- a_{42} + \\frac{a_{12} a_{41}}{a_{11}}\\right)}{a_{22} - \\frac{a_{12} a_{21}}{a_{11}}} + \\frac{a_{13} a_{41}}{a_{11}}\\right)}{a_{33} + \\frac{\\left(a_{23} - \\frac{a_{13} a_{21}}{a_{11}}\\right) \\left(- a_{32} + \\frac{a_{12} a_{31}}{a_{11}}\\right)}{a_{22} - \\frac{a_{12} a_{21}}{a_{11}}} - \\frac{a_{13} a_{31}}{a_{11}}} + \\frac{\\left(a_{24} - \\frac{a_{14} a_{21}}{a_{11}}\\right) \\left(- a_{42} + \\frac{a_{12} a_{41}}{a_{11}}\\right)}{a_{22} - \\frac{a_{12} a_{21}}{a_{11}}} - \\frac{a_{14} a_{41}}{a_{11}}} - \\frac{a_{12} \\left(r_{2} - \\frac{a_{21} r_{1}}{a_{11}}\\right)}{a_{11} \\left(a_{22} - \\frac{a_{12} a_{21}}{a_{11}}\\right)} + \\frac{r_{1}}{a_{11}}\\\\\\frac{\\left(\\frac{\\left(a_{23} - \\frac{a_{13} a_{21}}{a_{11}}\\right) \\left(a_{34} + \\frac{\\left(a_{24} - \\frac{a_{14} a_{21}}{a_{11}}\\right) \\left(- a_{32} + \\frac{a_{12} a_{31}}{a_{11}}\\right)}{a_{22} - \\frac{a_{12} a_{21}}{a_{11}}} - \\frac{a_{14} a_{31}}{a_{11}}\\right)}{\\left(a_{22} - \\frac{a_{12} a_{21}}{a_{11}}\\right) \\left(a_{33} + \\frac{\\left(a_{23} - \\frac{a_{13} a_{21}}{a_{11}}\\right) \\left(- a_{32} + \\frac{a_{12} a_{31}}{a_{11}}\\right)}{a_{22} - \\frac{a_{12} a_{21}}{a_{11}}} - \\frac{a_{13} a_{31}}{a_{11}}\\right)} - \\frac{a_{24} - \\frac{a_{14} a_{21}}{a_{11}}}{a_{22} - \\frac{a_{12} a_{21}}{a_{11}}}\\right) \\left(r_{4} + \\frac{\\left(- a_{43} - \\frac{\\left(a_{23} - \\frac{a_{13} a_{21}}{a_{11}}\\right) \\left(- a_{42} + \\frac{a_{12} a_{41}}{a_{11}}\\right)}{a_{22} - \\frac{a_{12} a_{21}}{a_{11}}} + \\frac{a_{13} a_{41}}{a_{11}}\\right) \\left(r_{3} + \\frac{\\left(- a_{32} + \\frac{a_{12} a_{31}}{a_{11}}\\right) \\left(r_{2} - \\frac{a_{21} r_{1}}{a_{11}}\\right)}{a_{22} - \\frac{a_{12} a_{21}}{a_{11}}} - \\frac{a_{31} r_{1}}{a_{11}}\\right)}{a_{33} + \\frac{\\left(a_{23} - \\frac{a_{13} a_{21}}{a_{11}}\\right) \\left(- a_{32} + \\frac{a_{12} a_{31}}{a_{11}}\\right)}{a_{22} - \\frac{a_{12} a_{21}}{a_{11}}} - \\frac{a_{13} a_{31}}{a_{11}}} + \\frac{\\left(- a_{42} + \\frac{a_{12} a_{41}}{a_{11}}\\right) \\left(r_{2} - \\frac{a_{21} r_{1}}{a_{11}}\\right)}{a_{22} - \\frac{a_{12} a_{21}}{a_{11}}} - \\frac{a_{41} r_{1}}{a_{11}}\\right)}{a_{44} + \\frac{\\left(a_{34} + \\frac{\\left(a_{24} - \\frac{a_{14} a_{21}}{a_{11}}\\right) \\left(- a_{32} + \\frac{a_{12} a_{31}}{a_{11}}\\right)}{a_{22} - \\frac{a_{12} a_{21}}{a_{11}}} - \\frac{a_{14} a_{31}}{a_{11}}\\right) \\left(- a_{43} - \\frac{\\left(a_{23} - \\frac{a_{13} a_{21}}{a_{11}}\\right) \\left(- a_{42} + \\frac{a_{12} a_{41}}{a_{11}}\\right)}{a_{22} - \\frac{a_{12} a_{21}}{a_{11}}} + \\frac{a_{13} a_{41}}{a_{11}}\\right)}{a_{33} + \\frac{\\left(a_{23} - \\frac{a_{13} a_{21}}{a_{11}}\\right) \\left(- a_{32} + \\frac{a_{12} a_{31}}{a_{11}}\\right)}{a_{22} - \\frac{a_{12} a_{21}}{a_{11}}} - \\frac{a_{13} a_{31}}{a_{11}}} + \\frac{\\left(a_{24} - \\frac{a_{14} a_{21}}{a_{11}}\\right) \\left(- a_{42} + \\frac{a_{12} a_{41}}{a_{11}}\\right)}{a_{22} - \\frac{a_{12} a_{21}}{a_{11}}} - \\frac{a_{14} a_{41}}{a_{11}}} - \\frac{\\left(a_{23} - \\frac{a_{13} a_{21}}{a_{11}}\\right) \\left(r_{3} + \\frac{\\left(- a_{32} + \\frac{a_{12} a_{31}}{a_{11}}\\right) \\left(r_{2} - \\frac{a_{21} r_{1}}{a_{11}}\\right)}{a_{22} - \\frac{a_{12} a_{21}}{a_{11}}} - \\frac{a_{31} r_{1}}{a_{11}}\\right)}{\\left(a_{22} - \\frac{a_{12} a_{21}}{a_{11}}\\right) \\left(a_{33} + \\frac{\\left(a_{23} - \\frac{a_{13} a_{21}}{a_{11}}\\right) \\left(- a_{32} + \\frac{a_{12} a_{31}}{a_{11}}\\right)}{a_{22} - \\frac{a_{12} a_{21}}{a_{11}}} - \\frac{a_{13} a_{31}}{a_{11}}\\right)} + \\frac{r_{2} - \\frac{a_{21} r_{1}}{a_{11}}}{a_{22} - \\frac{a_{12} a_{21}}{a_{11}}}\\\\- \\frac{\\left(a_{34} + \\frac{\\left(a_{24} - \\frac{a_{14} a_{21}}{a_{11}}\\right) \\left(- a_{32} + \\frac{a_{12} a_{31}}{a_{11}}\\right)}{a_{22} - \\frac{a_{12} a_{21}}{a_{11}}} - \\frac{a_{14} a_{31}}{a_{11}}\\right) \\left(r_{4} + \\frac{\\left(- a_{43} - \\frac{\\left(a_{23} - \\frac{a_{13} a_{21}}{a_{11}}\\right) \\left(- a_{42} + \\frac{a_{12} a_{41}}{a_{11}}\\right)}{a_{22} - \\frac{a_{12} a_{21}}{a_{11}}} + \\frac{a_{13} a_{41}}{a_{11}}\\right) \\left(r_{3} + \\frac{\\left(- a_{32} + \\frac{a_{12} a_{31}}{a_{11}}\\right) \\left(r_{2} - \\frac{a_{21} r_{1}}{a_{11}}\\right)}{a_{22} - \\frac{a_{12} a_{21}}{a_{11}}} - \\frac{a_{31} r_{1}}{a_{11}}\\right)}{a_{33} + \\frac{\\left(a_{23} - \\frac{a_{13} a_{21}}{a_{11}}\\right) \\left(- a_{32} + \\frac{a_{12} a_{31}}{a_{11}}\\right)}{a_{22} - \\frac{a_{12} a_{21}}{a_{11}}} - \\frac{a_{13} a_{31}}{a_{11}}} + \\frac{\\left(- a_{42} + \\frac{a_{12} a_{41}}{a_{11}}\\right) \\left(r_{2} - \\frac{a_{21} r_{1}}{a_{11}}\\right)}{a_{22} - \\frac{a_{12} a_{21}}{a_{11}}} - \\frac{a_{41} r_{1}}{a_{11}}\\right)}{\\left(a_{33} + \\frac{\\left(a_{23} - \\frac{a_{13} a_{21}}{a_{11}}\\right) \\left(- a_{32} + \\frac{a_{12} a_{31}}{a_{11}}\\right)}{a_{22} - \\frac{a_{12} a_{21}}{a_{11}}} - \\frac{a_{13} a_{31}}{a_{11}}\\right) \\left(a_{44} + \\frac{\\left(a_{34} + \\frac{\\left(a_{24} - \\frac{a_{14} a_{21}}{a_{11}}\\right) \\left(- a_{32} + \\frac{a_{12} a_{31}}{a_{11}}\\right)}{a_{22} - \\frac{a_{12} a_{21}}{a_{11}}} - \\frac{a_{14} a_{31}}{a_{11}}\\right) \\left(- a_{43} - \\frac{\\left(a_{23} - \\frac{a_{13} a_{21}}{a_{11}}\\right) \\left(- a_{42} + \\frac{a_{12} a_{41}}{a_{11}}\\right)}{a_{22} - \\frac{a_{12} a_{21}}{a_{11}}} + \\frac{a_{13} a_{41}}{a_{11}}\\right)}{a_{33} + \\frac{\\left(a_{23} - \\frac{a_{13} a_{21}}{a_{11}}\\right) \\left(- a_{32} + \\frac{a_{12} a_{31}}{a_{11}}\\right)}{a_{22} - \\frac{a_{12} a_{21}}{a_{11}}} - \\frac{a_{13} a_{31}}{a_{11}}} + \\frac{\\left(a_{24} - \\frac{a_{14} a_{21}}{a_{11}}\\right) \\left(- a_{42} + \\frac{a_{12} a_{41}}{a_{11}}\\right)}{a_{22} - \\frac{a_{12} a_{21}}{a_{11}}} - \\frac{a_{14} a_{41}}{a_{11}}\\right)} + \\frac{r_{3} + \\frac{\\left(- a_{32} + \\frac{a_{12} a_{31}}{a_{11}}\\right) \\left(r_{2} - \\frac{a_{21} r_{1}}{a_{11}}\\right)}{a_{22} - \\frac{a_{12} a_{21}}{a_{11}}} - \\frac{a_{31} r_{1}}{a_{11}}}{a_{33} + \\frac{\\left(a_{23} - \\frac{a_{13} a_{21}}{a_{11}}\\right) \\left(- a_{32} + \\frac{a_{12} a_{31}}{a_{11}}\\right)}{a_{22} - \\frac{a_{12} a_{21}}{a_{11}}} - \\frac{a_{13} a_{31}}{a_{11}}}\\\\\\frac{r_{4} + \\frac{\\left(- a_{43} - \\frac{\\left(a_{23} - \\frac{a_{13} a_{21}}{a_{11}}\\right) \\left(- a_{42} + \\frac{a_{12} a_{41}}{a_{11}}\\right)}{a_{22} - \\frac{a_{12} a_{21}}{a_{11}}} + \\frac{a_{13} a_{41}}{a_{11}}\\right) \\left(r_{3} + \\frac{\\left(- a_{32} + \\frac{a_{12} a_{31}}{a_{11}}\\right) \\left(r_{2} - \\frac{a_{21} r_{1}}{a_{11}}\\right)}{a_{22} - \\frac{a_{12} a_{21}}{a_{11}}} - \\frac{a_{31} r_{1}}{a_{11}}\\right)}{a_{33} + \\frac{\\left(a_{23} - \\frac{a_{13} a_{21}}{a_{11}}\\right) \\left(- a_{32} + \\frac{a_{12} a_{31}}{a_{11}}\\right)}{a_{22} - \\frac{a_{12} a_{21}}{a_{11}}} - \\frac{a_{13} a_{31}}{a_{11}}} + \\frac{\\left(- a_{42} + \\frac{a_{12} a_{41}}{a_{11}}\\right) \\left(r_{2} - \\frac{a_{21} r_{1}}{a_{11}}\\right)}{a_{22} - \\frac{a_{12} a_{21}}{a_{11}}} - \\frac{a_{41} r_{1}}{a_{11}}}{a_{44} + \\frac{\\left(a_{34} + \\frac{\\left(a_{24} - \\frac{a_{14} a_{21}}{a_{11}}\\right) \\left(- a_{32} + \\frac{a_{12} a_{31}}{a_{11}}\\right)}{a_{22} - \\frac{a_{12} a_{21}}{a_{11}}} - \\frac{a_{14} a_{31}}{a_{11}}\\right) \\left(- a_{43} - \\frac{\\left(a_{23} - \\frac{a_{13} a_{21}}{a_{11}}\\right) \\left(- a_{42} + \\frac{a_{12} a_{41}}{a_{11}}\\right)}{a_{22} - \\frac{a_{12} a_{21}}{a_{11}}} + \\frac{a_{13} a_{41}}{a_{11}}\\right)}{a_{33} + \\frac{\\left(a_{23} - \\frac{a_{13} a_{21}}{a_{11}}\\right) \\left(- a_{32} + \\frac{a_{12} a_{31}}{a_{11}}\\right)}{a_{22} - \\frac{a_{12} a_{21}}{a_{11}}} - \\frac{a_{13} a_{31}}{a_{11}}} + \\frac{\\left(a_{24} - \\frac{a_{14} a_{21}}{a_{11}}\\right) \\left(- a_{42} + \\frac{a_{12} a_{41}}{a_{11}}\\right)}{a_{22} - \\frac{a_{12} a_{21}}{a_{11}}} - \\frac{a_{14} a_{41}}{a_{11}}}\\end{matrix}\\right]$"
          },
          "metadata": {},
          "execution_count": 30
        }
      ]
    },
    {
      "cell_type": "code",
      "source": [
        "prueba2 = np.random.randint(20,size=(4,5))\n",
        "sy.Matrix(reduccion(prueba2))"
      ],
      "metadata": {
        "colab": {
          "base_uri": "https://localhost:8080/",
          "height": 98
        },
        "id": "HbOsKJ497Gyr",
        "outputId": "0d1ff5f9-a52d-44ff-fb4f-df3caa3bea11"
      },
      "execution_count": null,
      "outputs": [
        {
          "output_type": "execute_result",
          "data": {
            "text/plain": [
              "Matrix([\n",
              "[ 1],\n",
              "[ 0],\n",
              "[-1],\n",
              "[ 2]])"
            ],
            "text/latex": "$\\displaystyle \\left[\\begin{matrix}1\\\\0\\\\-1\\\\2\\end{matrix}\\right]$"
          },
          "metadata": {},
          "execution_count": 75
        }
      ]
    }
  ]
}