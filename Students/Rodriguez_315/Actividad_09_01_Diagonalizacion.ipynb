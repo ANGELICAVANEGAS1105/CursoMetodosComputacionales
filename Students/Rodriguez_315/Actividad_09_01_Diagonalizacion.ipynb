{
  "nbformat": 4,
  "nbformat_minor": 0,
  "metadata": {
    "colab": {
      "provenance": []
    },
    "kernelspec": {
      "name": "python3",
      "display_name": "Python 3"
    },
    "language_info": {
      "name": "python"
    }
  },
  "cells": [
    {
      "cell_type": "markdown",
      "source": [
        "# Autovalores, autovectores, polinomio caracteristico, diagonalización"
      ],
      "metadata": {
        "id": "Qms28ZxFZdXn"
      }
    },
    {
      "cell_type": "markdown",
      "source": [
        "| Librería | Función | Explicación |\n",
        "| --- | --- | --- |\n",
        "| numpy | numpy.linalg.eig | Calcula los autovalores y autovectores derechos de una matriz cuadrada |\n",
        "| numpy | numpy.linalg.eigh | Calcula los autovalores y autovectores de una matriz hermítica compleja o simétrica real |\n",
        "| numpy | numpy.poly | Calcula el polinomio característico de una matriz |\n",
        "| sympy | sympy.Matrix.eigenvals | Calcula los autovalores de una matriz simbólica |\n",
        "| sympy | sympy.Matrix.eigenvects | Calcula los autovalores y autovectores de una matriz simbólica |\n",
        "| sympy | sympy.Matrix.charpoly | Calcula el polinomio característico de una matriz simbólica |"
      ],
      "metadata": {
        "id": "ONmddMM3Youm"
      }
    },
    {
      "cell_type": "markdown",
      "source": [
        "Calcular el polinomio caracteristico, los  autovalores y autvectores propios de la siguiente matrices, comprobar con la solucion analitica:\n",
        "\n",
        "1. \n",
        "\\begin{bmatrix}\n",
        "1 & -1 & 4 \\\\\n",
        "3 & 2 & -1 \\\\\n",
        "2 & 1 & -1\n",
        "\\end{bmatrix}\n",
        "\n",
        "\n",
        "2. \\begin{bmatrix}\n",
        "3 & -5 \\\\\n",
        "1 & -1 \\\\\n",
        "\\end{bmatrix}\n",
        "\n",
        "\n",
        "\n"
      ],
      "metadata": {
        "id": "EwfvC822XBSY"
      }
    },
    {
      "cell_type": "code",
      "source": [
        "#@title Librerías\n",
        "import numpy as np\n",
        "import sympy as sp\n",
        "import matplotlib.pyplot as plt"
      ],
      "metadata": {
        "cellView": "form",
        "id": "oRRYzEY6xnzK"
      },
      "execution_count": 1,
      "outputs": []
    },
    {
      "cell_type": "markdown",
      "source": [
        "##Primera Matriz"
      ],
      "metadata": {
        "id": "aPkmRkOGxTxb"
      }
    },
    {
      "cell_type": "code",
      "source": [
        "#Creemos la matriz\n",
        "M1 = np.array([[1,-1,4],[3,2,-1],[2,1,-1]])\n",
        "M1"
      ],
      "metadata": {
        "colab": {
          "base_uri": "https://localhost:8080/",
          "height": 0
        },
        "id": "r6h43NXYxPgb",
        "outputId": "16d9fdc6-4a62-4bc4-a449-d79ce4b332e7"
      },
      "execution_count": 2,
      "outputs": [
        {
          "output_type": "execute_result",
          "data": {
            "text/plain": [
              "array([[ 1, -1,  4],\n",
              "       [ 3,  2, -1],\n",
              "       [ 2,  1, -1]])"
            ]
          },
          "metadata": {},
          "execution_count": 2
        }
      ]
    },
    {
      "cell_type": "markdown",
      "source": [
        "Polinomio Característico"
      ],
      "metadata": {
        "id": "ldDxVFm3yPiy"
      }
    },
    {
      "cell_type": "code",
      "source": [
        "#Encontramos los coefiecietes del polinomio.\n",
        "coePoli1 = np.poly(M1)\n",
        "#Creamos el polinomio\n",
        "polinomio1 = np.poly1d(coePoli1)\n",
        "print(polinomio1)"
      ],
      "metadata": {
        "colab": {
          "base_uri": "https://localhost:8080/",
          "height": 0
        },
        "id": "2rhltAr6yR0z",
        "outputId": "47ab963a-7d8e-4b90-f0f7-b57e931cf9ab"
      },
      "execution_count": 3,
      "outputs": [
        {
          "output_type": "stream",
          "name": "stdout",
          "text": [
            "   3     2\n",
            "1 x - 2 x - 5 x + 6\n"
          ]
        }
      ]
    },
    {
      "cell_type": "markdown",
      "source": [
        "Autovalores"
      ],
      "metadata": {
        "id": "2FncjBhk1v46"
      }
    },
    {
      "cell_type": "code",
      "source": [
        "autoval1 = np.linalg.eig(M1)\n",
        "autoval1"
      ],
      "metadata": {
        "colab": {
          "base_uri": "https://localhost:8080/",
          "height": 0
        },
        "id": "VWxFAIUP1yHC",
        "outputId": "512ebcc1-d2ed-4e9f-c0ba-28d2446e7ee5"
      },
      "execution_count": 4,
      "outputs": [
        {
          "output_type": "execute_result",
          "data": {
            "text/plain": [
              "(array([ 3., -2.,  1.]),\n",
              " array([[ 0.40824829,  0.57735027,  0.23570226],\n",
              "        [ 0.81649658, -0.57735027, -0.94280904],\n",
              "        [ 0.40824829, -0.57735027, -0.23570226]]))"
            ]
          },
          "metadata": {},
          "execution_count": 4
        }
      ]
    },
    {
      "cell_type": "markdown",
      "source": [
        "Diagonalización"
      ],
      "metadata": {
        "id": "x0RR4kUd38yr"
      }
    },
    {
      "cell_type": "code",
      "source": [
        "P1 = autoval1[1]\n",
        "Pinv1 = np.linalg.inv(P1)\n",
        "diagonal1 = Pinv1@M1@P1\n",
        "diagonal1"
      ],
      "metadata": {
        "colab": {
          "base_uri": "https://localhost:8080/",
          "height": 0
        },
        "id": "hUoSn6Rc38Qj",
        "outputId": "a9d691e2-d094-4f59-98dd-4293b840bc9d"
      },
      "execution_count": 5,
      "outputs": [
        {
          "output_type": "execute_result",
          "data": {
            "text/plain": [
              "array([[ 3.00000000e+00, -1.33226763e-15, -1.66533454e-15],\n",
              "       [ 1.11022302e-15, -2.00000000e+00, -2.44249065e-15],\n",
              "       [ 3.33066907e-16, -8.88178420e-16,  1.00000000e+00]])"
            ]
          },
          "metadata": {},
          "execution_count": 5
        }
      ]
    },
    {
      "cell_type": "markdown",
      "source": [
        "##Segunda Matriz"
      ],
      "metadata": {
        "id": "cCIsLaJOzYKz"
      }
    },
    {
      "cell_type": "code",
      "source": [
        "M2 = np.array([[3,-5],[1,-1]])\n",
        "M2"
      ],
      "metadata": {
        "colab": {
          "base_uri": "https://localhost:8080/",
          "height": 0
        },
        "id": "pZHHMa46zujS",
        "outputId": "8f401848-6619-4824-91f9-ccd686f63e3e"
      },
      "execution_count": 6,
      "outputs": [
        {
          "output_type": "execute_result",
          "data": {
            "text/plain": [
              "array([[ 3, -5],\n",
              "       [ 1, -1]])"
            ]
          },
          "metadata": {},
          "execution_count": 6
        }
      ]
    },
    {
      "cell_type": "markdown",
      "source": [
        "Polinomio Característico"
      ],
      "metadata": {
        "id": "OTKCxP6F1i_q"
      }
    },
    {
      "cell_type": "code",
      "source": [
        "#Encontramos los coefiecietes del polinomio.\n",
        "coePoli2 = np.poly(M2)\n",
        "#Creamos el polinomio\n",
        "polinomio2 = np.poly1d(coePoli2)\n",
        "print(polinomio2)"
      ],
      "metadata": {
        "colab": {
          "base_uri": "https://localhost:8080/",
          "height": 0
        },
        "id": "V7QvuMLU1CV8",
        "outputId": "da69fed2-677c-4c16-d692-e0b80b5da3b2"
      },
      "execution_count": 7,
      "outputs": [
        {
          "output_type": "stream",
          "name": "stdout",
          "text": [
            "   2\n",
            "1 x - 2 x + 2\n"
          ]
        }
      ]
    },
    {
      "cell_type": "markdown",
      "source": [
        "Autovalores"
      ],
      "metadata": {
        "id": "ForpiLCC2fvF"
      }
    },
    {
      "cell_type": "code",
      "source": [
        "autoval2 = np.linalg.eig(M2)\n",
        "autoval2"
      ],
      "metadata": {
        "colab": {
          "base_uri": "https://localhost:8080/",
          "height": 0
        },
        "id": "x9Lk4l3E2gz7",
        "outputId": "cf0547f0-f4b2-46c2-b0e3-67835247e878"
      },
      "execution_count": 8,
      "outputs": [
        {
          "output_type": "execute_result",
          "data": {
            "text/plain": [
              "(array([1.+1.j, 1.-1.j]),\n",
              " array([[0.91287093+0.j        , 0.91287093-0.j        ],\n",
              "        [0.36514837-0.18257419j, 0.36514837+0.18257419j]]))"
            ]
          },
          "metadata": {},
          "execution_count": 8
        }
      ]
    },
    {
      "cell_type": "markdown",
      "source": [
        "Diagonalización"
      ],
      "metadata": {
        "id": "-0QfONpV9gVT"
      }
    },
    {
      "cell_type": "code",
      "source": [
        "P2 = autoval2[1]\n",
        "Pinv2 = np.linalg.inv(P2)\n",
        "diagonal2 = Pinv2@M2@P2\n",
        "diagonal2"
      ],
      "metadata": {
        "colab": {
          "base_uri": "https://localhost:8080/",
          "height": 0
        },
        "id": "5wImgWDi9iLz",
        "outputId": "b3b81839-a107-4fdf-b608-dc3c99668a45"
      },
      "execution_count": 9,
      "outputs": [
        {
          "output_type": "execute_result",
          "data": {
            "text/plain": [
              "array([[ 1.00000000e+00+1.00000000e+00j, -1.11022302e-16-3.88578059e-16j],\n",
              "       [-5.55111512e-17+4.99600361e-16j,  1.00000000e+00-1.00000000e+00j]])"
            ]
          },
          "metadata": {},
          "execution_count": 9
        }
      ]
    },
    {
      "cell_type": "markdown",
      "source": [
        "# Diagonalizacion \n",
        "Una matriz cuadrada $A$ es diagonalizable si y solo si cada autovalor $\\lambda$ de multiplicidad $m$ produce exactamente $m$ autovectores básicos; es decir, si y solo si la solución general del sistema $(A-I\\lambda)\\vec{x}=0$ tiene exactamente $m$ parámetros.\n",
        "\n",
        "\n",
        "Para diagonalizar una matriz $A$, se necesita encontrar una matriz invertible $P$ tal que $P^{-1}AP$ sea una matriz diagonal $D$. Esto significa que las columnas de $P$ son los autovectores de $A$ y los elementos de la diagonal de $D$ son los autovalores correspondientes de $A$.\n",
        "\n",
        "Encuentre la matrix diagnonal para las matrices anteriores. \n",
        "\n"
      ],
      "metadata": {
        "id": "FjG0uYQ_ZlFo"
      }
    },
    {
      "cell_type": "markdown",
      "source": [
        "##Actividad 2. \n",
        "\n",
        "Considere la ecuación cuadrática $x^2-4xy+3y^2=6$, esta ecuación cuadrática se corresponde a una hiperbola, la cual puede ser escrita en forma matricial como sigue:\n",
        "\n",
        "$A\\vec{v} \\cdot \\vec{v}=6$, donde $\\vec{v}=(x, y)$ y A es una matrix simetrica, \n",
        "\n",
        "\\begin{equation}\n",
        "A=\\begin{bmatrix}\n",
        "1 & -2 \\\\\n",
        "-2 & 3 \\\\\n",
        "\\end{bmatrix}\n",
        "\\end{equation}\n",
        "\n",
        "1. Realice un grafico que represente la hyperbola"
      ],
      "metadata": {
        "id": "JwPHzdikikzu"
      }
    },
    {
      "cell_type": "code",
      "source": [
        "#@title Gráfico de la hipérbola\n",
        "hiperbola1 = lambda x: np.sqrt(2 + (1/9)*x**2) +  (2/3)*x\n",
        "hiperbola2 = lambda x: (-1)*(np.sqrt(2 + (1/9)*x**2)) + (2/3)*x\n",
        "domx = np.linspace(-5,5,100)\n",
        "plt.plot(domx,hiperbola1(domx))\n",
        "plt.plot(domx,hiperbola2(domx))\n",
        "plt.contour(x,y,x**2 - 4*x*y + 3*y**2 - 6,[0]);\n",
        "\n",
        "plt.title('Gráfica hipérbola');"
      ],
      "metadata": {
        "id": "vyJHxkinijT2",
        "colab": {
          "base_uri": "https://localhost:8080/",
          "height": 453
        },
        "outputId": "6f89cc88-0cb6-4478-ae53-569b7fdf73b2",
        "cellView": "form"
      },
      "execution_count": 12,
      "outputs": [
        {
          "output_type": "display_data",
          "data": {
            "text/plain": [
              "<Figure size 640x480 with 1 Axes>"
            ],
            "image/png": "[encoded data removed]"
          },
          "metadata": {}
        }
      ]
    },
    {
      "cell_type": "code",
      "source": [
        "#Con contour\n",
        "domy = np.linspace(-5,5,100)\n",
        "x,y = np.meshgrid(domx,domy)\n",
        "plt.contour(x,y,x**2 - 4*x*y + 3*y**2 - 6,[0]);\n",
        "plt.title('Gráfico con Contour')"
      ],
      "metadata": {
        "colab": {
          "base_uri": "https://localhost:8080/",
          "height": 470
        },
        "id": "kz3RtAvKDrjK",
        "outputId": "21fbb1db-88e3-4cd0-ac81-49091705be5f"
      },
      "execution_count": 11,
      "outputs": [
        {
          "output_type": "execute_result",
          "data": {
            "text/plain": [
              "Text(0.5, 1.0, 'Gráfico con Contour')"
            ]
          },
          "metadata": {},
          "execution_count": 11
        },
        {
          "output_type": "display_data",
          "data": {
            "text/plain": [
              "<Figure size 640x480 with 1 Axes>"
            ],
            "image/png": "[encoded data removed]"
          },
          "metadata": {}
        }
      ]
    },
    {
      "cell_type": "markdown",
      "source": [],
      "metadata": {
        "id": "PMq1jWbqNd9k"
      }
    },
    {
      "cell_type": "code",
      "source": [
        "#Vamos a diagonalizar A\n",
        "A = np.array([[1,-2],[-2,3]])\n",
        "#Encontremos los valores y vectores propios de la matriz\n",
        "vp1,vec1 = np.linalg.eigh(A)\n",
        "Q = vec1\n",
        "QT = Q.T\n",
        "D = QT@A@Q\n",
        "D\n",
        "D_ = Q@D@QT\n",
        "D_"
      ],
      "metadata": {
        "colab": {
          "base_uri": "https://localhost:8080/",
          "height": 0
        },
        "id": "mFXtDsUtPGdx",
        "outputId": "721bde76-aeb5-4865-e87a-b0a6764b70ff"
      },
      "execution_count": 21,
      "outputs": [
        {
          "output_type": "execute_result",
          "data": {
            "text/plain": [
              "array([[ 1., -2.],\n",
              "       [-2.,  3.]])"
            ]
          },
          "metadata": {},
          "execution_count": 21
        }
      ]
    },
    {
      "cell_type": "markdown",
      "source": [
        "Para verificar que sea diagonalizable, revisemos si se cumple que A =QDQT\n"
      ],
      "metadata": {
        "id": "rxuBz5l1QF5Y"
      }
    },
    {
      "cell_type": "code",
      "source": [
        "#La reescribimos\n",
        "D_ = np.array([[1,-2],[-2,3]])\n",
        "D_ == A"
      ],
      "metadata": {
        "colab": {
          "base_uri": "https://localhost:8080/",
          "height": 0
        },
        "id": "T-nS5E90P4NU",
        "outputId": "ed9f3c07-b46f-49cf-868a-f8c4969a2e0e"
      },
      "execution_count": 24,
      "outputs": [
        {
          "output_type": "execute_result",
          "data": {
            "text/plain": [
              "array([[ True,  True],\n",
              "       [ True,  True]])"
            ]
          },
          "metadata": {},
          "execution_count": 24
        }
      ]
    },
    {
      "cell_type": "markdown",
      "source": [
        "Luego :\n",
        "\n",
        "\n",
        "\\begin{equation}\n",
        "(D\\vec{u}) \\cdot \\vec{u}=d\n",
        "\\end{equation}\n",
        "\n",
        "donde $\\vec{u}=(x', y')$, tal que $D\\vec{u} \\cdot \\vec{u}=d$ es una nueva hyperbola "
      ],
      "metadata": {
        "id": "_R0e3zQrSLr7"
      }
    },
    {
      "cell_type": "code",
      "source": [
        "#Creemos el vector u\n",
        "x = sp.symbols('x')\n",
        "y = sp.symbols('y')\n",
        "u = np.array([x,y])\n",
        "m1 = D@u\n",
        "d = np.dot(m1,u)\n",
        "d"
      ],
      "metadata": {
        "colab": {
          "base_uri": "https://localhost:8080/",
          "height": 39
        },
        "id": "ugqGZX46SZCS",
        "outputId": "4b7f0714-7100-4427-cf17-5719b186860f"
      },
      "execution_count": 29,
      "outputs": [
        {
          "output_type": "execute_result",
          "data": {
            "text/plain": [
              "x*(-0.23606797749979*x + 3.48462032026995e-16*y) + y*(3.10277309985749e-16*x + 4.23606797749979*y)"
            ],
            "text/latex": "$\\displaystyle x \\left(- 0.23606797749979 x + 3.48462032026995 \\cdot 10^{-16} y\\right) + y \\left(3.10277309985749 \\cdot 10^{-16} x + 4.23606797749979 y\\right)$"
          },
          "metadata": {},
          "execution_count": 29
        }
      ]
    },
    {
      "cell_type": "code",
      "source": [
        "hiperbola = lambda x, y: x * (-0.23606797749979 * x - 3.46944695195361e-16 * y) + y * (-2.22044604925031e-16 * x + 4.23606797749979 * y) - 6\n",
        "x = np.linspace(-10., 10., 100)\n",
        "y = np.linspace(-10., 10., 100)\n",
        "\n",
        "X, Y = np.meshgrid(x, y)\n",
        "Z = hiperbola(X, Y)\n",
        "\n",
        "plt.contour(X, Y, Z, [0])\n",
        "plt.grid();"
      ],
      "metadata": {
        "colab": {
          "base_uri": "https://localhost:8080/",
          "height": 435
        },
        "id": "gnQxAoEBTWV7",
        "outputId": "90b92945-65ea-465b-c49c-0e6dc860e9c6"
      },
      "execution_count": 37,
      "outputs": [
        {
          "output_type": "display_data",
          "data": {
            "text/plain": [
              "<Figure size 640x480 with 1 Axes>"
            ],
            "image/png": "[encoded data removed]"
          },
          "metadata": {}
        }
      ]
    },
    {
      "cell_type": "code",
      "source": [
        "Hyp = lambda x, y: x*(-0.23606797749979*x - 3.46944695195361e-16*y) + y*(-2.22044604925031e-16*x + 4.23606797749979*y) - 6\n"
      ],
      "metadata": {
        "id": "7ni738oXXgLp"
      },
      "execution_count": null,
      "outputs": []
    }
  ]
}