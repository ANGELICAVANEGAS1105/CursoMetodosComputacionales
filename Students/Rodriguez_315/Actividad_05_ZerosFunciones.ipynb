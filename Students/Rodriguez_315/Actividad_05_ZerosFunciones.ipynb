{
  "cells": [
    {
      "cell_type": "markdown",
      "id": "3a6dc6a1",
      "metadata": {
        "id": "3a6dc6a1"
      },
      "source": [
        "<a href=\"https://colab.research.google.com/github/hernansalinas/autogrades/blob/main/Actividades_clase/Actividad_05_ZerosFunciones.ipynb\" target=\"_parent\"><img src=\"https://colab.research.google.com/assets/colab-badge.svg\" alt=\"Open In Colab\"/></a>\n",
        "\n",
        "\n",
        "\n",
        "# Actividad 5\n",
        "### Métodos computacionales para físicos  y astrónomos\n",
        "### Universidad de Antioquia\n",
        "### Prof: Hernan D. Salinas Jiménez\n",
        "Ref: https://github.com/restrepo/ComputationalMethods"
      ]
    },
    {
      "cell_type": "markdown",
      "id": "8e59c672",
      "metadata": {
        "id": "8e59c672"
      },
      "source": [
        "\n",
        "In an IPython notebook, use the scipy implementation and find the first solution to the equation, write a function with the bisection methods.\n",
        "\n",
        "What is the solution if a=1, and b=1, what is the solution if a=2 and b=2\n",
        "  \n",
        " ## 1. $ 7 = a\\sqrt{x^2+1}+be^x\\sin x $\n",
        "   \n",
        "\n"
      ]
    },
    {
      "cell_type": "code",
      "source": [
        "#Implementemos el método de bisección de  la librería scipy.\n",
        "##Ingresamos la función, la cota inferior y la cota superior como parámetros.\n",
        "from scipy import optimize\n",
        "import sympy as sp\n",
        "import numpy as np\n",
        "primeraFuncion = lambda x,a,b: a*np.sqrt(x**2+1)+b*np.exp(x)*np.sin(x) - 7\n",
        "#Hagámoslo para a=1 y b=1\n",
        "argumentos1 = optimize.bisect(primeraFuncion,1,2.5,args=(1,1))\n",
        "#Ahora veamos si a=2 y b=2\n",
        "argumentos2 = optimize.bisect(primeraFuncion,3,5,args=(2,2))\n",
        "print(f'Con a,b=1 la raíz es: {argumentos1}, con a,b=2 la ráiz es {argumentos2}')"
      ],
      "metadata": {
        "id": "00yt87nkHWlb",
        "outputId": "d37e4ee8-e4c6-401b-a443-076a3bf41f66",
        "colab": {
          "base_uri": "https://localhost:8080/"
        }
      },
      "id": "00yt87nkHWlb",
      "execution_count": null,
      "outputs": [
        {
          "output_type": "stream",
          "name": "stdout",
          "text": [
            "Con a,b=1 la raíz es: 1.6287184949264883, con a,b=2 la ráiz es 3.1323505942436896\n"
          ]
        }
      ]
    },
    {
      "cell_type": "code",
      "source": [
        "#Ahora lo hacemos con el método de Newton.\n",
        "#Derivemos con sympy\n",
        "#Cpn a,b\n",
        "def funcion1(x,a,b):\n",
        "  f = a*sp.sqrt(x**2+1)+ b*sp.exp(x)*sp.sin(x)\n",
        "  return f\n",
        "x = sp.symbols('x')\n",
        "a = sp.symbols('a')\n",
        "b = sp.symbols('b')\n",
        "y1 = funcion1(x,1,1)\n",
        "yprima1 = sp.diff(y1)\n",
        "y2 = funcion1(x,2,2)\n",
        "yprima2 = sp.diff(y2)\n",
        "print(yprima1,yprima2)"
      ],
      "metadata": {
        "colab": {
          "base_uri": "https://localhost:8080/"
        },
        "id": "jtjU_XvrM9h4",
        "outputId": "20ced423-0922-4905-de5d-223e7e1c106b"
      },
      "id": "jtjU_XvrM9h4",
      "execution_count": null,
      "outputs": [
        {
          "output_type": "stream",
          "name": "stdout",
          "text": [
            "x/sqrt(x**2 + 1) + exp(x)*sin(x) + exp(x)*cos(x) 2*x/sqrt(x**2 + 1) + 2*exp(x)*sin(x) + 2*exp(x)*cos(x)\n"
          ]
        }
      ]
    },
    {
      "cell_type": "code",
      "source": [
        "#Transformar objeto de sympy a numpy\n",
        "funcionLambda1 = sp.lambdify((x,a,b),yprima1,'numpy')\n",
        "funcionLambda2 = sp.lambdify((x,a,b),yprima2,'numpy')"
      ],
      "metadata": {
        "id": "GtYAPqf0NLqu"
      },
      "id": "GtYAPqf0NLqu",
      "execution_count": null,
      "outputs": []
    },
    {
      "cell_type": "code",
      "source": [
        "#Ahora lo hacemos con el método de Newton.\n",
        "#Definimos x0 = 2 que es un número cercano a la raíz\n",
        "raizNewton1 = optimize.newton(primeraFuncion,2, fprime= funcionLambda1,args=(1,1))\n",
        "raizNewton2 = optimize.newton(primeraFuncion,3,fprime= funcionLambda2,args=(2,2))\n",
        "print(f'Con a,b=1 la raíz por newton es: {raizNewton1}, con a,b=2 la ráiz es {raizNewton2}')"
      ],
      "metadata": {
        "colab": {
          "base_uri": "https://localhost:8080/"
        },
        "id": "Umz7GiSMJRA4",
        "outputId": "86face46-4465-4195-d64c-07bac0921da6"
      },
      "id": "Umz7GiSMJRA4",
      "execution_count": null,
      "outputs": [
        {
          "output_type": "stream",
          "name": "stdout",
          "text": [
            "Con a,b=1 la raíz por newton es: 1.6287184949270082, con a,b=2 la ráiz es 3.1323505942423657\n"
          ]
        }
      ]
    },
    {
      "cell_type": "code",
      "source": [
        "#Ahora resolvamos con el método de Punto Fijo.\n",
        "def gdex1(x,a,b):\n",
        "  return x - primeraFuncion(x,a,b)\n",
        "raizPuntoFijo1 = optimize.fixed_point(gdex1,1.5,args=(1,1))\n",
        "raizPuntoFijo2 = optimize.fixed_point(gdex1,3.12,args=(2,2))\n",
        "print(f'Con a,b=1 la raíz por punto fijo es: {raizPuntoFijo1}, con a,b=2 la ráiz es {raizPuntoFijo2}')"
      ],
      "metadata": {
        "colab": {
          "base_uri": "https://localhost:8080/"
        },
        "id": "j0M_iz5PdQ_i",
        "outputId": "66d570a7-b574-4c38-906c-8a691388a532"
      },
      "id": "j0M_iz5PdQ_i",
      "execution_count": null,
      "outputs": [
        {
          "output_type": "stream",
          "name": "stdout",
          "text": [
            "Con a,b=1 la raíz por punto fijo es: 1.6287184949270082, con a,b=2 la ráiz es 3.1323505942424017\n"
          ]
        }
      ]
    },
    {
      "cell_type": "code",
      "source": [
        "#Veamos la gráfica para a,b=1\n",
        "import matplotlib.pyplot as plt\n",
        "x1= np.linspace(0,3,100)\n",
        "y = lambda x2,a,b: a*np.sqrt(x2**2+1)+b*np.exp(x2)*np.sin(x2) - 7\n",
        "yevaluada = y(x1,1,1)\n",
        "plt.plot(x1,yevaluada);\n",
        "plt.grid()\n",
        "plt.axhline(y=0, xmin=0, xmax=3,color='black')\n",
        "plt.title('Función 1 con $a,b=1$')\n",
        "plt.show()"
      ],
      "metadata": {
        "colab": {
          "base_uri": "https://localhost:8080/",
          "height": 283
        },
        "id": "i9lMUx_ZWAF-",
        "outputId": "a839cebe-c9a2-4f76-bf71-d3720a86070a"
      },
      "id": "i9lMUx_ZWAF-",
      "execution_count": null,
      "outputs": [
        {
          "output_type": "display_data",
          "data": {
            "text/plain": [
              "<Figure size 432x288 with 1 Axes>"
            ],
            "image/png": "[encoded data removed]"
          },
          "metadata": {
            "needs_background": "light"
          }
        }
      ]
    },
    {
      "cell_type": "code",
      "source": [
        "#Veamos la gráfica para a,b=2\n",
        "import matplotlib.pyplot as plt\n",
        "x1 = np.linspace(0,3.5,100)\n",
        "y = lambda x2,a,b: a*np.sqrt(x2**2+1)+b*np.exp(x2)*np.sin(x2) - 7\n",
        "yevaluada2 = y(x1,2,2)\n",
        "plt.plot(x1,yevaluada2);\n",
        "plt.grid()\n",
        "plt.axhline(y=0, xmin=0, xmax=3.5,color='black')\n",
        "plt.title('Función 1 con $a,b=2$')\n",
        "plt.show()"
      ],
      "metadata": {
        "colab": {
          "base_uri": "https://localhost:8080/",
          "height": 283
        },
        "id": "j-x-3j0DXBKx",
        "outputId": "f47d8fe6-b586-4f83-8861-4630bb66e251"
      },
      "id": "j-x-3j0DXBKx",
      "execution_count": null,
      "outputs": [
        {
          "output_type": "display_data",
          "data": {
            "text/plain": [
              "<Figure size 432x288 with 1 Axes>"
            ],
            "image/png": "[encoded data removed]"
          },
          "metadata": {
            "needs_background": "light"
          }
        }
      ]
    },
    {
      "cell_type": "markdown",
      "id": "ee7acda4",
      "metadata": {
        "id": "ee7acda4"
      },
      "source": [
        "  \n",
        " ## 2. $a e^{x}-2= b\\cos(e^x-2)$"
      ]
    },
    {
      "cell_type": "code",
      "source": [
        "#Como es una función trascendental, no podemos despejar la x.\n",
        "#Si pasamos todos los términos en un solo lado tenemos igualado a cero\n",
        "##y podemos usar el método de bisección para hallar las raíces que serán\n",
        "###los puntos de intersección.\n",
        "def funcion(x,a,b):\n",
        "  return a*np.exp(x) - 2 -b*np.cos(np.exp(x)-2)\n",
        "\n",
        "argumentos3 = optimize.bisect(funcion,1,2,args=(1,1))\n",
        "argumentos4 = optimize.bisect(funcion,-1,2,args=(2,2))\n",
        "print(f'Con a,b=1 la raíz es: {argumentos3}, con a,b=2 la ráiz es {argumentos4}')"
      ],
      "metadata": {
        "id": "WDrAQ078Oe6X",
        "outputId": "6518b1cc-1024-4606-908a-11080384e79f",
        "colab": {
          "base_uri": "https://localhost:8080/"
        }
      },
      "id": "WDrAQ078Oe6X",
      "execution_count": null,
      "outputs": [
        {
          "output_type": "stream",
          "name": "stdout",
          "text": [
            "Con a,b=1 la raíz es: 1.0076239716563578, con a,b=2 la ráiz es 0.6931471805605725\n"
          ]
        }
      ]
    },
    {
      "cell_type": "code",
      "source": [
        "#Ahora veamos para el método de Newton\n",
        "def funcion2(x,a,b):\n",
        "  return a*sp.exp(x) - 2 -b*sp.cos(sp.exp(x)-2)\n",
        "\n",
        "x = sp.symbols('x')\n",
        "a = sp.symbols('a')\n",
        "b = sp.symbols('b')\n",
        "y1 = funcion1(x,1,1)\n",
        "yprima1 = sp.diff(y1)\n",
        "y2 = funcion1(x,2,2)\n",
        "yprima2 = sp.diff(y2)\n",
        "print(yprima1,yprima2)"
      ],
      "metadata": {
        "colab": {
          "base_uri": "https://localhost:8080/"
        },
        "id": "M3RE7SKcZXaJ",
        "outputId": "2a112885-49cb-4f84-c712-90d517974fc0"
      },
      "id": "M3RE7SKcZXaJ",
      "execution_count": null,
      "outputs": [
        {
          "output_type": "stream",
          "name": "stdout",
          "text": [
            "x/sqrt(x**2 + 1) + exp(x)*sin(x) + exp(x)*cos(x) 2*x/sqrt(x**2 + 1) + 2*exp(x)*sin(x) + 2*exp(x)*cos(x)\n"
          ]
        }
      ]
    },
    {
      "cell_type": "code",
      "source": [
        "#Transformar objeto de sympy a numpy\n",
        "funcionLambda1 = sp.lambdify((x,a,b),yprima1,'numpy')\n",
        "funcionLambda2 = sp.lambdify((x,a,b),yprima2,'numpy')"
      ],
      "metadata": {
        "id": "aTmfYBCMZ92i"
      },
      "id": "aTmfYBCMZ92i",
      "execution_count": null,
      "outputs": []
    },
    {
      "cell_type": "code",
      "source": [
        "#Ahora lo hacemos con el método de Newton.\n",
        "#Definimos x0 = 2 que es un número cercano a la raíz\n",
        "raizNewton1 = optimize.newton(funcion, 1.5,fprime= funcionLambda1,args=(1,1))\n",
        "raizNewton2 = optimize.newton(funcion, 0,fprime= funcionLambda2,args=(2,2))\n",
        "print(f'Con a,b=1 la raíz por newton es: {raizNewton1}, con a,b=2 la ráiz es {raizNewton2}')"
      ],
      "metadata": {
        "colab": {
          "base_uri": "https://localhost:8080/"
        },
        "id": "3yDLgj6SaBOG",
        "outputId": "6729951e-934c-4726-9718-75cf17fbf741"
      },
      "id": "3yDLgj6SaBOG",
      "execution_count": null,
      "outputs": [
        {
          "output_type": "stream",
          "name": "stdout",
          "text": [
            "Con a,b=1 la raíz por newton es: 1.007623971460644, con a,b=2 la ráiz es 0.6931471731429254\n"
          ]
        }
      ]
    },
    {
      "cell_type": "code",
      "source": [
        "#Finalmente hagámoslo para el método de punto flotante\n",
        "def gdex2(x,a,b):\n",
        "  return x - funcion(x,a,b)\n",
        "raizPuntoFijo3 = optimize.fixed_point(gdex2,1,args=(1,1))\n",
        "raizPuntoFijo4 = optimize.fixed_point(gdex2,0.5\n",
        "                                      ,args=(2,2))\n",
        "print(f'Con a,b=1 la raíz por punto fijo es: {raizPuntoFijo3}, con a,b=2 la ráiz es {raizPuntoFijo4}')"
      ],
      "metadata": {
        "colab": {
          "base_uri": "https://localhost:8080/"
        },
        "id": "xZZiLm5chCDB",
        "outputId": "211511a5-10da-4ae6-dd74-d48608fa01e7"
      },
      "id": "xZZiLm5chCDB",
      "execution_count": null,
      "outputs": [
        {
          "output_type": "stream",
          "name": "stdout",
          "text": [
            "Con a,b=1 la raíz por punto fijo es: 1.0076239716581368, con a,b=2 la ráiz es 0.6931471805599453\n"
          ]
        }
      ]
    },
    {
      "cell_type": "code",
      "source": [
        "#Veamos la gráfica para a,b=1\n",
        "import matplotlib.pyplot as plt\n",
        "x1= np.linspace(0,2,100)\n",
        "y = lambda x: np.exp(x) - 2 - np.cos(np.exp(x)-2)\n",
        "yevaluada = y(x1)\n",
        "plt.plot(x1,yevaluada);\n",
        "plt.grid()\n",
        "plt.axhline(y=0, xmin=0, xmax=3,color='black')\n",
        "plt.title('Función 2 con $a,b=1$')\n",
        "plt.show()"
      ],
      "metadata": {
        "colab": {
          "base_uri": "https://localhost:8080/",
          "height": 283
        },
        "id": "hssMrjeQafc9",
        "outputId": "95e50ae8-8fcb-4692-e054-702b5e192b8c"
      },
      "id": "hssMrjeQafc9",
      "execution_count": null,
      "outputs": [
        {
          "output_type": "display_data",
          "data": {
            "text/plain": [
              "<Figure size 432x288 with 1 Axes>"
            ],
            "image/png": "[encoded data removed]"
          },
          "metadata": {
            "needs_background": "light"
          }
        }
      ]
    },
    {
      "cell_type": "code",
      "source": [
        "#Veamos la gráfica para a,b=2\n",
        "import matplotlib.pyplot as plt\n",
        "x1= np.linspace(-1,1,100)\n",
        "y = lambda x: 2*np.exp(x) - 2 - 2*np.cos(np.exp(x)-2)\n",
        "yevaluada = y(x1)\n",
        "plt.plot(x1,yevaluada);\n",
        "plt.grid()\n",
        "plt.axhline(y=0, xmin=0, xmax=3,color='black')\n",
        "plt.title('Función 2 con $a,b=2$')\n",
        "plt.show()"
      ],
      "metadata": {
        "colab": {
          "base_uri": "https://localhost:8080/",
          "height": 283
        },
        "id": "ZrfpiFSsavmm",
        "outputId": "b6b2aec5-b2e4-4882-d282-983ebaab90f6"
      },
      "id": "ZrfpiFSsavmm",
      "execution_count": null,
      "outputs": [
        {
          "output_type": "display_data",
          "data": {
            "text/plain": [
              "<Figure size 432x288 with 1 Axes>"
            ],
            "image/png": "[encoded data removed]"
          },
          "metadata": {
            "needs_background": "light"
          }
        }
      ]
    },
    {
      "cell_type": "markdown",
      "id": "a232ecdd",
      "metadata": {
        "id": "a232ecdd"
      },
      "source": [
        "#3. Fixed point methods. \n",
        "\n",
        "When a new planet is discovered, there are different methods to estimate its physical properties. Many times is only possible to estimate either the planet mass or the planet radius and the other property has to be predicted through computer modelling.\n",
        "\n",
        "If one has the planet mass, a very rough way to estimate its radius is to assume certain composition (mean density) and a homogeneous distribution (a very bad assumption!). For example, for the planet [Gliese 832c](http://es.wikipedia.org/wiki/Gliese_832_c) with a mass $M= 5.40 M_{\\oplus}$, if we assume an earth-like composition, i.e. $\\bar \\rho_{\\oplus} = 5520\\ kg/m^3$, we obtain:\n",
        "\n",
        "$$R_{g832c} = \\left( \\frac{3 M_{g832c}}{ 4 \\pi \\bar\\rho_{\\oplus} } \\right)^{1/3} \\approx 1.75 R_{\\oplus}$$\n",
        "\n",
        "That would be the planet radius if the composition where exactly equal to earth's.\n",
        "\n",
        "A more realistic approach is assuming an internal one-layer density profile like:\n",
        "\n",
        "$$\\rho(r) = \\rho_0 \\exp\\left( -\\frac{r}{L} \\right)$$\n",
        "\n",
        "where $\\rho_0$ is the density at planet centre and $L$ is a characteristic lenght depending on the composition. From numerical models of planet interiors, the estimated parameters for a planet of  $M= 5.40 M_{\\oplus}$ are approximately $\\rho_0 = 18000\\ kg/m^3$ and $L = 6500\\ km$.\n",
        "\n",
        "Integrating over the planet volume, we obtain the total mass as\n",
        "\n",
        "$$M = 4\\pi \\int_0^R \\rho(r)r^2dr$$\n",
        "\n",
        "This is a function of the mass in terms of the planet radius. \n",
        "\n",
        "Solving the equation $M(R) = M_{g832c}$ it would be possible to find a more realistic planet radius. However when using numerical models, it is not possible to approach the solution from the left side as a negative mass makes no sense."
      ]
    },
    {
      "cell_type": "code",
      "source": [
        "#Vamos a hallar el radio del planeta descubierto.\n",
        "import numpy as np\n",
        "import matplotlib.pyplot as plt\n",
        "from scipy import optimize\n",
        "\n",
        "def funcionMasa(R,rho,L):\n",
        "  return 4*np.pi*rho*( 2*L**3 + (-2*L**3 - 2*L**2*R - L*R**2)*np.exp(-R/L))\n",
        "\n",
        "def funcionMasaG(radioTierra,rhoTierra):\n",
        "  return (1.75*radioTierra)**3*4*np.pi*rhoTierra/3\n",
        "\n",
        "L = 6500E3\n",
        "rho = 18000\n",
        "rhoTierra = 5520\n",
        "radioTierra = 6371E3\n",
        "masaTierra = 972E24\n",
        "masaPlaneta = funcionMasaG(radioTierra,rhoTierra)/masaTierra \n",
        "#ya que tenemos la masa del planeta podemos encontrar la raíz para la ecuación que relaciona las masas.\n",
        "funcion = lambda R,rho,L: ((4*np.pi*rho*( 2*L**3 + (-2*L**3 - 2*L**2*R - L*R**2)*np.exp(-R/L))) - ((1.75*radioTierra)**3*4*np.pi*rhoTierra/3))/masaTierra\n",
        "def gdex3(R,rho,L):\n",
        "  return R - funcion(R,rho,L)\n",
        "raiz = optimize.fixed_point(gdex3,1,args=(rho,L))\n",
        "print(f'El radio del planeta es: {raiz}')"
      ],
      "metadata": {
        "id": "peshBRTX6ISY",
        "colab": {
          "base_uri": "https://localhost:8080/"
        },
        "outputId": "1fe4392d-04f0-4090-f8c7-d1438942d715"
      },
      "id": "peshBRTX6ISY",
      "execution_count": null,
      "outputs": [
        {
          "output_type": "stream",
          "name": "stdout",
          "text": [
            "El radio del planeta es: 2447521670067.5435\n"
          ]
        }
      ]
    },
    {
      "cell_type": "markdown",
      "id": "d6060db6",
      "metadata": {
        "id": "d6060db6"
      },
      "source": [
        "ESTOS DOS ÚLTIMOS PUNTOS NO SE HACEN.\n",
        "##3. **ACTIVITY** \n",
        "    \n",
        "In an IPython notebook and based on the routine NewtonRaphson, write your own routine SecantMethod that performs the previous steps for the Secant Method. Test your code with the function $f(x)$:\n",
        "    \n",
        "$f(x) = x - \\cos(x)$\n",
        "</font>"
      ]
    },
    {
      "cell_type": "code",
      "source": [],
      "metadata": {
        "id": "y2bpHQ845k_F"
      },
      "id": "y2bpHQ845k_F",
      "execution_count": null,
      "outputs": []
    },
    {
      "cell_type": "markdown",
      "id": "08b04566",
      "metadata": {
        "id": "08b04566"
      },
      "source": [
        "4. **ACTIVITY** \n",
        "\n",
        "\n",
        "It is known that light rays are deflected when they pass near by a gravitational field and that this deviation is proportional to the body mass which the light is interacting with and inversely proportional to the passing distance. \n",
        "Since it is common finding very massive structures in the universe and the measures that are done to study it involve photons, it makes sense to study what happens to a light source image when the rays get close to a grumpy object like a dark matter halo.  \n",
        "\n",
        "\n",
        "In order to study the light deflection in these cases, it will be used the simplest model, gravitational lens theory, where the len is a very massive object. A sketch of a typical system is shown in the figure below. The source plane is the light source or image that is going to be affected,  $\\eta$ is the distance from a image point to the line of sight and $\\beta$ the subtended angle by the point. \n",
        "The lens plane corresponds to the mass that affects the light coming from the source, $\\xi$ is the new image point distance to the line of sight, $\\theta$ is the subtended angle by the new point position. Then, $\\alpha$ is the deflection angle. \n",
        "\n",
        "Since from observations $\\theta$ is known, the problem to be solved per pixel usually is \n",
        "\n",
        "\\begin{equation}\n",
        "\\beta = \\theta - \\hat{\\alpha}(\\theta) \n",
        "\\end{equation}\n",
        "\n",
        "but $\\alpha$ also depends on $\\theta$ besides the len halo properties. This would allow construct the real image\n",
        "from the distorted and magnified one. \n",
        "\n",
        "<img src=\"https://github.com/restrepo/ComputationalMethods/blob/master/material/figures/lente1.png?raw=1\">\n",
        "\n",
        "This equation can also be written in terms of distances \n",
        "\n",
        "\\begin{equation}\n",
        "\\vec{\\eta}  = \\frac{D_s}{D_d} \\vec{\\xi} - D_{ds}\\alpha ( \\vec{\\xi }) \n",
        "\\end{equation}\n",
        "\n",
        "The solution to the lens equation is easier to get if it is assumed that the len is axially symmetric. In this case, the deflection angle  takes the next form\n",
        "\n",
        "$$ \\hat{\\alpha}(\\vec{\\xi}) = \\frac{\\vec{\\xi}}{|\\vec{\\xi}|^2} \\frac{8G\\pi}{c^2} \\int_0^\\xi d\\xi'\\xi'\\Sigma(\\xi')$$\n",
        "\n",
        "The quantity $\\Sigma$ is the surface mass density, i.e., the len's mass enclosed inside $\\xi$ circle per area unit.  \n",
        "It is important to notice that the direction of $\\alpha$ is the same as $\\xi$ and consequently $\\eta$. \n",
        "\n",
        "\n",
        "The problem to be solved is the next: Given the positions of a square find the image distorsion due to gravitational lensing, i.e., find the root of \\xi in the trascendal equation it satisfies. Use the routines given below and all of \n",
        "the data for the len and image that is going to be distorted. \n"
      ]
    },
    {
      "cell_type": "code",
      "source": [],
      "metadata": {
        "id": "Ux3vxyFHXmS2"
      },
      "id": "Ux3vxyFHXmS2",
      "execution_count": null,
      "outputs": []
    }
  ],
  "metadata": {
    "kernelspec": {
      "display_name": "Python 3 (ipykernel)",
      "language": "python",
      "name": "python3"
    },
    "language_info": {
      "codemirror_mode": {
        "name": "ipython",
        "version": 3
      },
      "file_extension": ".py",
      "mimetype": "text/x-python",
      "name": "python",
      "nbconvert_exporter": "python",
      "pygments_lexer": "ipython3",
      "version": "3.8.12"
    },
    "colab": {
      "provenance": []
    }
  },
  "nbformat": 4,
  "nbformat_minor": 5
}