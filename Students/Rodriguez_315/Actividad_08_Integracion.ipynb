{
  "nbformat": 4,
  "nbformat_minor": 0,
  "metadata": {
    "colab": {
      "provenance": []
    },
    "kernelspec": {
      "name": "python3",
      "display_name": "Python 3"
    },
    "language_info": {
      "name": "python"
    }
  },
  "cells": [
    {
      "cell_type": "markdown",
      "source": [
        "#Actividad 8\n"
      ],
      "metadata": {
        "id": "p6TdB9x7TsNK"
      }
    },
    {
      "cell_type": "markdown",
      "source": [
        "##1. Elaborar un programa en python que permita calcular la integral de una función entre el intervalo a, b. Para ello debera realizar lo siguiente:"
      ],
      "metadata": {
        "id": "fddl2NITX9aX"
      }
    },
    {
      "cell_type": "markdown",
      "source": [
        "* Deducir la ecuación general del metodo del trapecio."
      ],
      "metadata": {
        "id": "hj_1Fp8IU5yY"
      }
    },
    {
      "cell_type": "markdown",
      "source": [
        "Sean $a$ y $b$  los extremos del intervalo en el que se quiere calcular la integral donde $a < b $.\\\n",
        "El área del trapecio viene dada por la suma del área del rectángulo y el triángulo que lo forma.\\\n",
        "La base del trapecio que aproxima la función viene dada por $(b-a)$ y la altura del rectángulo será $f(a)$ y la del triángulo $f(a)-f(b)$. Finalmente la integral será la suma de estas dos áreas.\\\n",
        "Esto se puede generalizar para N trapecios y así tener mayor precisión a la hora de aproximar la función."
      ],
      "metadata": {
        "id": "bRYWdxUsaBt3"
      }
    },
    {
      "cell_type": "markdown",
      "source": [
        "*    Construir un funcion llamada integral_trapz que reciba como argumento una función y el intervalo a, b. El numero de intervalos N será un argumento opcional, defina por defecto N=10. La función deberá retornar el valor de la integral."
      ],
      "metadata": {
        "id": "Y4n5XS9YcVBn"
      }
    },
    {
      "cell_type": "code",
      "source": [
        "# @title Librerías\n",
        "import numpy as np\n",
        "from scipy.integrate import trapz"
      ],
      "metadata": {
        "id": "0Oy7SXKuhMzP",
        "cellView": "form"
      },
      "execution_count": null,
      "outputs": []
    },
    {
      "cell_type": "code",
      "execution_count": null,
      "metadata": {
        "colab": {
          "base_uri": "https://localhost:8080/"
        },
        "id": "V_yUOT63X5RR",
        "outputId": "59df515c-3a9f-4bcb-8c67-b21b9b68cb9a"
      },
      "outputs": [
        {
          "output_type": "execute_result",
          "data": {
            "text/plain": [
              "0.989979230543324"
            ]
          },
          "metadata": {},
          "execution_count": 5
        }
      ],
      "source": [
        "def integral_trapz(funcion,a,b, N=10):\n",
        "  h = (b-a)/N\n",
        "  A = 0\n",
        "  dominio = np.linspace(a,b,N)\n",
        "  for i in range(len(dominio)-1):\n",
        "    x0 = funcion(dominio[i])\n",
        "    x01 = funcion(dominio[i+1])\n",
        "    A += (h/2)*(x0 + x01)\n",
        "  return A\n",
        "\n",
        "f = np.cos\n",
        "a = 0\n",
        "b = np.pi/2\n",
        "integral_trapz(f,a,b,100)"
      ]
    },
    {
      "cell_type": "markdown",
      "source": [
        "Comparar la solución con la librería de scipy"
      ],
      "metadata": {
        "id": "d5Kp0gpokTYX"
      }
    },
    {
      "cell_type": "code",
      "source": [
        "dominio = np.linspace(a,b,10)\n",
        "y = np.cos(dominio)\n",
        "trapz(y,dominio)"
      ],
      "metadata": {
        "colab": {
          "base_uri": "https://localhost:8080/"
        },
        "id": "eBC7NtB9kLxU",
        "outputId": "d232bd5d-d438-42ff-cac1-953dc805fdb3"
      },
      "execution_count": null,
      "outputs": [
        {
          "output_type": "execute_result",
          "data": {
            "text/plain": [
              "0.9974602317917259"
            ]
          },
          "metadata": {},
          "execution_count": 59
        }
      ]
    },
    {
      "cell_type": "markdown",
      "source": [
        "De manera general:"
      ],
      "metadata": {
        "id": "pU4S3sxqmvbv"
      }
    },
    {
      "cell_type": "code",
      "source": [
        "def integral_trapecio(f,a,b,N):\n",
        "  h = (b-a)/N\n",
        "  x = np.linspace(a,b,N+1)\n",
        "  A = (f(x[0])+f(x[-1]))*0.5*h + f(x[1:-1]).sum()*h\n",
        "  return A"
      ],
      "metadata": {
        "id": "6KS8ON54m1O6"
      },
      "execution_count": null,
      "outputs": []
    },
    {
      "cell_type": "code",
      "source": [
        "f = lambda x: np.cos(x)\n",
        "integral_trapecio(f,0,np.pi/2,10)"
      ],
      "metadata": {
        "colab": {
          "base_uri": "https://localhost:8080/"
        },
        "id": "djXcqY2Ro9C6",
        "outputId": "4121171e-2199-4a3a-c545-0eb2968c09e4"
      },
      "execution_count": null,
      "outputs": [
        {
          "output_type": "execute_result",
          "data": {
            "text/plain": [
              "0.9979429863543572"
            ]
          },
          "metadata": {},
          "execution_count": 67
        }
      ]
    },
    {
      "cell_type": "code",
      "source": [
        "#De esta manera podríamos hacer que el usuario ingrese la función.\n",
        "funcion = 'x**2+np.log(x**2+1)'\n",
        "f = lambda x: eval(funcion)\n",
        "f(1)"
      ],
      "metadata": {
        "colab": {
          "base_uri": "https://localhost:8080/"
        },
        "id": "nsbaaxmmpf6K",
        "outputId": "ad6051d5-05aa-4bb6-8eef-a46ccccd45a9"
      },
      "execution_count": null,
      "outputs": [
        {
          "output_type": "execute_result",
          "data": {
            "text/plain": [
              "1.6931471805599454"
            ]
          },
          "metadata": {},
          "execution_count": 68
        }
      ]
    },
    {
      "cell_type": "code",
      "source": [
        "#De manera general\n",
        "def integral_trapecio(f,a,b,N):\n",
        "  funcion1 = lambda x: eval(f)\n",
        "  f = funcion1\n",
        "  h = (b-a)/N\n",
        "  x = np.linspace(a,b,N+1)\n",
        "  A = (f(x[0])+f(x[-1]))*0.5*h + f(x[1:-1]).sum()*h\n",
        "  return A"
      ],
      "metadata": {
        "id": "-CAeqRuPqqKq"
      },
      "execution_count": null,
      "outputs": []
    },
    {
      "cell_type": "code",
      "source": [
        "funcion = \"x**2+np.log\\(x**2+1\\)\"\n",
        "a = 0\n",
        "b = 1\n",
        "integral_trapecio(funcion,a,b,5)"
      ],
      "metadata": {
        "id": "xWwij1Djq5UJ"
      },
      "execution_count": null,
      "outputs": []
    },
    {
      "cell_type": "code",
      "source": [
        "#@title Generalización programa ejecutable\n",
        "import sys\n",
        "import numpy as np\n",
        "\n",
        "#De manera general\n",
        "def integral_trapecio(f,a,b,N=100):\n",
        "  #funcion1 = lambda x: eval(f)\n",
        "  #f = funcion1\n",
        "  h = (b-a)/N\n",
        "  x = np.linspace(a,b,N+1)\n",
        "  A = (f(x[0])+f(x[-1]))*0.5*h + f(x[1:-1]).sum()*h\n",
        "  return A\n",
        "\n",
        "error = len(sys.argv)\n",
        "if error == 4:\n",
        "    func = str(sys.argv[1])\n",
        "    f = lambda x: eval(func)\n",
        "    a = int(sys.argv[2])\n",
        "    b = int(sys.argv[3])\n",
        "    print(integral_trapecio(f,a,b))\n",
        "else:\n",
        "   print('no ha ingresado los argumentos necesarios.')"
      ],
      "metadata": {
        "id": "g5MIMfKOrnRc",
        "colab": {
          "base_uri": "https://localhost:8080/"
        },
        "outputId": "93c5987e-0650-40fb-ec42-df702d6a4ce5"
      },
      "execution_count": null,
      "outputs": [
        {
          "output_type": "stream",
          "name": "stdout",
          "text": [
            "no ha ingresado los argumentos necesarios.\n"
          ]
        }
      ]
    }
  ]
}