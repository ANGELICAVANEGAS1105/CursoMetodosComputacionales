{
  "cells": [
    {
      "cell_type": "markdown",
      "id": "6d26e874",
      "metadata": {
        "id": "6d26e874"
      },
      "source": [
        "<a href=\"https://colab.research.google.com/github/hernansalinas/autogrades/blob/main/Actividades_clase/Actividad_04_Binarios_Errores.ipynb\" target=\"_parent\"><img src=\"https://colab.research.google.com/assets/colab-badge.svg\" alt=\"Open In Colab\"/></a>\n",
        "\n",
        "\n",
        "\n",
        "# Actividad 4\n",
        "### Métodos computacionales para físicos  y astrónomos\n",
        "### Universidad de Antioquia\n",
        "### Prof: Hernan D. Salinas Jiménez\n"
      ]
    },
    {
      "cell_type": "code",
      "execution_count": null,
      "id": "eae80e3f",
      "metadata": {
        "id": "eae80e3f",
        "outputId": "66cbde65-865f-4f19-8e93-2326d4dafdfb",
        "colab": {
          "base_uri": "https://localhost:8080/"
        }
      },
      "outputs": [
        {
          "output_type": "stream",
          "name": "stdout",
          "text": [
            "Cloning into 'autogrades'...\n",
            "remote: Enumerating objects: 281, done.\u001b[K\n",
            "remote: Counting objects: 100% (265/265), done.\u001b[K\n",
            "remote: Compressing objects: 100% (188/188), done.\u001b[K\n",
            "remote: Total 281 (delta 115), reused 210 (delta 70), pack-reused 16\u001b[K\n",
            "Receiving objects: 100% (281/281), 33.86 MiB | 23.52 MiB/s, done.\n",
            "Resolving deltas: 100% (120/120), done.\n"
          ]
        }
      ],
      "source": [
        "!git clone https://github.com/hernansalinas/autogrades.git\n",
        "#path=\"libs\"\n",
        "path=\"autogrades/Actividades_clase/libs\"\n",
        "%run -i {path}/libUnitTest.py"
      ]
    },
    {
      "cell_type": "markdown",
      "id": "74f1131a",
      "metadata": {
        "id": "74f1131a"
      },
      "source": [
        "### Activity 1.0: \n",
        "\n",
        "Implement a function that get the binary representation of an integer with name mybin, the algorithm should return \n",
        "a string with 8 characters, the maximun number that represent the funcition is integer of 8 bit. The name of function is \n",
        "mybin\n",
        "\n",
        "Ejexample : \n",
        "\n",
        "b=mybin(x)\n",
        "\n",
        "b='00101000'"
      ]
    },
    {
      "cell_type": "code",
      "execution_count": null,
      "id": "4c8dabcf",
      "metadata": {
        "id": "4c8dabcf",
        "colab": {
          "base_uri": "https://localhost:8080/",
          "height": 36
        },
        "outputId": "1cc77e89-3ebb-40bf-c028-8aab6fee7290"
      },
      "outputs": [
        {
          "output_type": "execute_result",
          "data": {
            "text/plain": [
              "'11101010'"
            ],
            "application/vnd.google.colaboratory.intrinsic+json": {
              "type": "string"
            }
          },
          "metadata": {},
          "execution_count": 2
        }
      ],
      "source": [
        "##!/usr/bin/env python3\n",
        "#Lo que está comentado es el código para implementar la parte decimal.\n",
        "def mybin(x):\n",
        "    #entero, decimal = str(x).split('.')\n",
        "    #entero = int(entero)\n",
        "    #decimal = float('.' + decimal)\n",
        "    entero = x\n",
        "    enteroBin = []\n",
        "    #decimalBin = []\n",
        "    while entero>=1:\n",
        "      enteroBin.append(entero%2)\n",
        "      entero = entero//2\n",
        "    #while decimal<1:\n",
        "      #decimalBin.append(0)\n",
        "      #decimal = decimal*2\n",
        "    #decimalBin.append(1)\n",
        "    entero = ''.join(str(i) for i in enteroBin[::-1])\n",
        "    entero = entero.rjust(8,'0')\n",
        "    return entero\n",
        "\n",
        "mybin(234)"
      ]
    },
    {
      "cell_type": "code",
      "execution_count": null,
      "id": "885be6fb",
      "metadata": {
        "id": "885be6fb",
        "outputId": "42225b41-1060-4a81-a4bd-dd6eaf32c0f0",
        "colab": {
          "base_uri": "https://localhost:8080/",
          "height": 210
        }
      },
      "outputs": [
        {
          "output_type": "display_data",
          "data": {
            "text/plain": [
              "<IPython.core.display.HTML object>"
            ],
            "text/html": [
              "<style>\n",
              "  table { text-align: left; border-collapse: collapse; margin: 1em; caption-side: bottom; font-family: Sans-Serif; font-size: 12px}\n",
              "  caption { text-align: left; padding: 5px }\n",
              "  th, td { border: 2px solid #BFC9CA; padding: 5px }\n",
              "  th { background-color: #BFC9CA }\n",
              "  .passed { background-color: #76D7C4 }\n",
              "  .failed { background-color: #EC7063 }\n",
              "  .skipped { background-color: #EDBB99 }\n",
              "  .score { background-color: #7DCEA0 }\n",
              "  .results .points { display: none }\n",
              "  .results .message { display: block; font-size:smaller; color:#D35400 }\n",
              "  .results .note { display: block; font-size:smaller; font-decoration:italics }\n",
              "  .results .passed::before  { content: \"Passed\" } \n",
              "  .results .skipped::before  { content: \"Skipped\" } \n",
              "  .results .failed::before  { content: \"Failed\" } \n",
              "  .grade .passed  .message:empty::before { content:\"Passed\" }\n",
              "  .grade .failed  .message:empty::before { content:\"Failed\" }\n",
              "  .grade .skipped .message:empty::before { content:\"Skipped\" }   \n",
              "</style>\n",
              "<table class='results'>\n",
              "  <th class='test'>Test</th><th class='result'>Result</th></tr>\n",
              "<tr>\n",
              "  <td class='test'>\n",
              "    La salida debe ser un string \n",
              "    <div class='message'>Done</div>\n",
              "  </td>\n",
              "  <td class='result passed'></td>\n",
              "</tr>\n",
              "<tr>\n",
              "  <td class='test'>\n",
              "    La longitud del string debe ser de 8 \n",
              "    <div class='message'>Done</div>\n",
              "  </td>\n",
              "  <td class='result passed'></td>\n",
              "</tr>\n",
              "<tr>\n",
              "  <td class='test'>\n",
              "    Para el número 199 su representacion es 11000111 \n",
              "    <div class='message'>Done</div>\n",
              "  </td>\n",
              "  <td class='result passed'></td>\n",
              "</tr>  <tr><th class='score'>Total Points</th><th class='score'>3</th></tr></table>\n"
            ]
          },
          "metadata": {}
        }
      ],
      "source": [
        "%run -i {path}/Act_02/test01.py"
      ]
    },
    {
      "cell_type": "markdown",
      "id": "e622b7b5",
      "metadata": {
        "id": "e622b7b5"
      },
      "source": [
        "### Activity 2.0: \n",
        "\n",
        "With the binary representation please try to implement the formula to recover the number.\n",
        "\n",
        "Hint: Use as input the binary representation as a string and invert its order\n",
        "\n",
        "```\n",
        "number32(BIN):\n",
        "\n",
        "```\n",
        "\n",
        "Where BIN is a string with the binary number\n",
        "\n",
        "Example: \n",
        "\n",
        "\n",
        "Test your solution for the next number:\n",
        "\n",
        "number32(\"00111110001000000000001000010000\")"
      ]
    },
    {
      "cell_type": "code",
      "execution_count": null,
      "id": "5f3c6506",
      "metadata": {
        "id": "5f3c6506",
        "colab": {
          "base_uri": "https://localhost:8080/"
        },
        "outputId": "477546a4-2d30-45eb-8ce8-3b88eac09f32"
      },
      "outputs": [
        {
          "output_type": "execute_result",
          "data": {
            "text/plain": [
              "0.15625786781311035"
            ]
          },
          "metadata": {},
          "execution_count": 15
        }
      ],
      "source": [
        "import numpy as np\n",
        "def number32(BIN):\n",
        "  #Vamos a invertir la lista\n",
        "  numeros_invertidos = np.array(list(BIN)[::-1]).astype(int)\n",
        "  signo = numeros_invertidos[31]\n",
        "  #Parte Fraccionarios\n",
        "  fracc = numeros_invertidos[0:23]\n",
        "  #Parte exponencial\n",
        "  expo = numeros_invertidos[23:31]\n",
        "  #Creamos un arreglo del tamaño de los numeros exp para operar y sacar el e.\n",
        "  i = np.arange(expo.size)\n",
        "  #Aplicamos la formula.\n",
        "  e = (expo*(2**i)).sum()\n",
        "  # Realizamos la sumatoria general\n",
        "  i_invertida = np.arange(1,fracc.size+1)[::-1]\n",
        "  decimal = ((-1)**signo)/2**(127-e)*(1+(fracc/2**i_invertida).sum())\n",
        "  return decimal\n",
        "number32(\"00111110001000000000001000010000\")"
      ]
    },
    {
      "cell_type": "code",
      "execution_count": null,
      "id": "155ffd7f",
      "metadata": {
        "id": "155ffd7f",
        "outputId": "76107be5-60ab-4fa4-8289-53471ad2f691",
        "colab": {
          "base_uri": "https://localhost:8080/"
        }
      },
      "outputs": [
        {
          "output_type": "stream",
          "name": "stdout",
          "text": [
            "La función no ha sido definda o el numero de argumento no es el adecuado\n"
          ]
        }
      ],
      "source": [
        "%run -i {path}/Act_02/test02.py"
      ]
    },
    {
      "cell_type": "markdown",
      "id": "d11e596d",
      "metadata": {
        "id": "d11e596d"
      },
      "source": [
        "### Activity 3.0:\n",
        "1. Write a python script that calculates the double precision number represented by a 64-bits binary.\n",
        "\n",
        "the name of function should be: \n",
        "```\n",
        "number64(BIN):\n",
        "\n",
        "```\n",
        "\n",
        "2. What is the number represented by:\n",
        "\n",
        "BIN=\"0 10000000011 1011100100001111111111111111111111111111111111111111\""
      ]
    },
    {
      "cell_type": "code",
      "execution_count": null,
      "id": "b0922a1d",
      "metadata": {
        "id": "b0922a1d"
      },
      "outputs": [],
      "source": [
        "def number64(BIN):\n",
        "  # Vamos a invertir la lista\n",
        "  numeros_invertidos = np.array(list(BIN)[::-1]).astype(int)\n",
        "  signo = numeros_invertidos[31]\n",
        "  # Parte Fraccionarios\n",
        "  fracc = numeros_invertidos[0:52][::-1]\n",
        "  # Parte exponencial\n",
        "  expo = numeros_invertidos[52:63][::-1]\n",
        "  # Creamos un arreglo del tamaño de los numeros exp para operar y sacar el e.\n",
        "  i = np.arange(expo.size)\n",
        "  # Aplicamos la formula.\n",
        "  e = (expo*(2**i)).sum()\n",
        "  # Realizamos la sumatoria general\n",
        "  i_invertida = np.arange(1,53)\n",
        "  decimal = ((-1)**signo * (1 + (fracc / 2**i_invertida).sum()) * (2**(e-1023)))\n",
        "  return decimal\n"
      ]
    },
    {
      "cell_type": "code",
      "source": [
        "number64('1011100100001111111111111111111111111111111111111111')"
      ],
      "metadata": {
        "colab": {
          "base_uri": "https://localhost:8080/",
          "height": 270
        },
        "id": "rFhqkb38qkid",
        "outputId": "9c389bea-edc9-4498-d63b-b9cb26b71af7"
      },
      "id": "rFhqkb38qkid",
      "execution_count": null,
      "outputs": [
        {
          "output_type": "error",
          "ename": "ValueError",
          "evalue": "ignored",
          "traceback": [
            "\u001b[0;31m---------------------------------------------------------------------------\u001b[0m",
            "\u001b[0;31mValueError\u001b[0m                                Traceback (most recent call last)",
            "\u001b[0;32m/content/autogrades/Actividades_clase/libs/Act_02/test03.py\u001b[0m in \u001b[0;36m<module>\u001b[0;34m\u001b[0m\n\u001b[0;32m----> 1\u001b[0;31m \u001b[0mnumber64\u001b[0m\u001b[0;34m(\u001b[0m\u001b[0;34m'1011100100001111111111111111111111111111111111111111'\u001b[0m\u001b[0;34m)\u001b[0m\u001b[0;34m\u001b[0m\u001b[0;34m\u001b[0m\u001b[0m\n\u001b[0m",
            "\u001b[0;32m/content/autogrades/Actividades_clase/libs/Act_02/test03.py\u001b[0m in \u001b[0;36mnumber64\u001b[0;34m(BIN)\u001b[0m\n\u001b[1;32m     13\u001b[0m   \u001b[0;31m# Realizamos la sumatoria general\u001b[0m\u001b[0;34m\u001b[0m\u001b[0;34m\u001b[0m\u001b[0;34m\u001b[0m\u001b[0m\n\u001b[1;32m     14\u001b[0m   \u001b[0mi_invertida\u001b[0m \u001b[0;34m=\u001b[0m \u001b[0mnp\u001b[0m\u001b[0;34m.\u001b[0m\u001b[0marange\u001b[0m\u001b[0;34m(\u001b[0m\u001b[0;36m1\u001b[0m\u001b[0;34m,\u001b[0m\u001b[0;36m53\u001b[0m\u001b[0;34m)\u001b[0m\u001b[0;34m\u001b[0m\u001b[0;34m\u001b[0m\u001b[0m\n\u001b[0;32m---> 15\u001b[0;31m   \u001b[0mdecimal\u001b[0m \u001b[0;34m=\u001b[0m \u001b[0;34m(\u001b[0m\u001b[0;34m(\u001b[0m\u001b[0;34m-\u001b[0m\u001b[0;36m1\u001b[0m\u001b[0;34m)\u001b[0m\u001b[0;34m**\u001b[0m\u001b[0msigno\u001b[0m \u001b[0;34m*\u001b[0m \u001b[0;34m(\u001b[0m\u001b[0;36m1\u001b[0m \u001b[0;34m+\u001b[0m \u001b[0;34m(\u001b[0m\u001b[0mfracc\u001b[0m \u001b[0;34m/\u001b[0m \u001b[0;36m2\u001b[0m\u001b[0;34m**\u001b[0m\u001b[0mi_invertida\u001b[0m\u001b[0;34m)\u001b[0m\u001b[0;34m.\u001b[0m\u001b[0msum\u001b[0m\u001b[0;34m(\u001b[0m\u001b[0;34m)\u001b[0m\u001b[0;34m)\u001b[0m \u001b[0;34m*\u001b[0m \u001b[0;34m(\u001b[0m\u001b[0;36m2\u001b[0m\u001b[0;34m**\u001b[0m\u001b[0;34m(\u001b[0m\u001b[0me\u001b[0m\u001b[0;34m-\u001b[0m\u001b[0;36m1023\u001b[0m\u001b[0;34m)\u001b[0m\u001b[0;34m)\u001b[0m\u001b[0;34m)\u001b[0m\u001b[0;34m\u001b[0m\u001b[0;34m\u001b[0m\u001b[0m\n\u001b[0m\u001b[1;32m     16\u001b[0m   \u001b[0;32mreturn\u001b[0m \u001b[0mdecimal\u001b[0m\u001b[0;34m\u001b[0m\u001b[0;34m\u001b[0m\u001b[0m\n",
            "\u001b[0;31mValueError\u001b[0m: Integers to negative integer powers are not allowed."
          ]
        }
      ]
    },
    {
      "cell_type": "code",
      "execution_count": null,
      "id": "cd48a992",
      "metadata": {
        "scrolled": false,
        "id": "cd48a992",
        "outputId": "05e6724e-aa2d-4b31-d19e-99facc91b214",
        "colab": {
          "base_uri": "https://localhost:8080/",
          "height": 131
        }
      },
      "outputs": [
        {
          "output_type": "error",
          "ename": "SyntaxError",
          "evalue": "ignored",
          "traceback": [
            "\u001b[0;36m  File \u001b[0;32m\"/content/autogrades/Actividades_clase/libs/Act_02/test03.py\"\u001b[0;36m, line \u001b[0;32m28\u001b[0m\n\u001b[0;31m    True)\u001b[0m\n\u001b[0m        ^\u001b[0m\n\u001b[0;31mSyntaxError\u001b[0m\u001b[0;31m:\u001b[0m unmatched ')'\n"
          ]
        }
      ],
      "source": [
        "%run -i {path}/Act_02/test03.py"
      ]
    }
  ],
  "metadata": {
    "kernelspec": {
      "display_name": "Python 3 (ipykernel)",
      "language": "python",
      "name": "python3"
    },
    "language_info": {
      "codemirror_mode": {
        "name": "ipython",
        "version": 3
      },
      "file_extension": ".py",
      "mimetype": "text/x-python",
      "name": "python",
      "nbconvert_exporter": "python",
      "pygments_lexer": "ipython3",
      "version": "3.8.12"
    },
    "colab": {
      "provenance": []
    }
  },
  "nbformat": 4,
  "nbformat_minor": 5
}