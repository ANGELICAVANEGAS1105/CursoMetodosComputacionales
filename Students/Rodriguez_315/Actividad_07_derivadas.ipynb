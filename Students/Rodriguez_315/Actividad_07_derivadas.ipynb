{
  "cells": [
    {
      "cell_type": "markdown",
      "id": "90baaaf7",
      "metadata": {
        "id": "90baaaf7"
      },
      "source": [
        "<a href=\"https://colab.research.google.com/github/hernansalinas/autogrades/blob/main/Actividades_clase/Actividad_07_derivadas.pynb\" target=\"_parent\"><img src=\"https://colab.research.google.com/assets/colab-badge.svg\" alt=\"Open In Colab\"/></a>\n",
        "\n",
        "\n",
        "\n",
        "# Actividad 7\n",
        "### Métodos computacionales para físicos  y astrónomos\n",
        "### Universidad de Antioquia\n",
        "### Prof: Hernan D. Salinas Jiménez\n",
        "Ref: https://github.com/restrepo/ComputationalMethods"
      ]
    },
    {
      "cell_type": "markdown",
      "id": "494edb2b",
      "metadata": {
        "id": "494edb2b"
      },
      "source": [
        "El potencial eléctrico de un anillo de radio R, en la parte superior z del anillo viene dado por: \n",
        "\n",
        "\n",
        "\\begin{equation}\n",
        "V = \\frac{kq_{tot}z}{\\sqrt{z^2+R^2}}\n",
        "\\end{equation}\n",
        "\n",
        "Calcule el campo eléctrico para z>0 y R=0.1mm. Reescale el problema en unidades de $kq_{top}$ empleando:\n",
        "\n",
        "1. La librearia sympy.\n",
        "\n",
        "2. Calcular el campo en el punto  $z = 0.1mm$ empleando el metodo [misc.derivative](https://docs.scipy.org/doc/scipy/reference/generated/scipy.misc.derivative.html)\n",
        "\n",
        "3. Calcular el campo para diferentes valores de z con z>0,,  empleando misc derivative. Construya un grafico de E vs z.\n",
        "\n",
        "4. Entender la generalizacion de la siguiente función, y aplicarla para calcular la derivada.\n",
        "\n",
        "\n",
        "```python\n",
        "import numpy as np\n",
        "from scipy import misc\n",
        "def derivative(func,x0,**kwargs):\n",
        "    '''\n",
        "    Vectorized replacement of scipy.misc derivative:\n",
        "        from scipy.misc import derivative\n",
        "    For usage check the derivative help, e.g, in jupyter: \n",
        "        from scipy.misc import derivative\n",
        "        derivative?\n",
        "    '''\n",
        "    try:\n",
        "        #x0: can be an array or a list  \n",
        "        nn=np.asarray(x0).shape[0] ## force error if float is used \n",
        "        fp=np.vectorize(misc.derivative)\n",
        "    except IndexError:\n",
        "        fp=misc.derivative\n",
        "        \n",
        "    return fp(func,x0,**kwargs)\n",
        "\n",
        "assert isinstance(derivative(np.sin,1,dx=1E-6),float)\n",
        "\n",
        "```"
      ]
    },
    {
      "cell_type": "markdown",
      "source": [
        "Primer Punto"
      ],
      "metadata": {
        "id": "kPTtY5_SdwM1"
      },
      "id": "kPTtY5_SdwM1"
    },
    {
      "cell_type": "code",
      "source": [
        "import sympy as sp\n",
        "import numpy as np\n",
        "import matplotlib.pyplot as plt\n",
        "from scipy import misc"
      ],
      "metadata": {
        "id": "Pi92PeExbJQn"
      },
      "id": "Pi92PeExbJQn",
      "execution_count": null,
      "outputs": []
    },
    {
      "cell_type": "code",
      "execution_count": null,
      "id": "d9dfaf0f",
      "metadata": {
        "id": "d9dfaf0f",
        "colab": {
          "base_uri": "https://localhost:8080/",
          "height": 63
        },
        "outputId": "398630ce-7dfd-4076-b91a-b7522198bab6"
      },
      "outputs": [
        {
          "output_type": "execute_result",
          "data": {
            "text/plain": [
              "z**2/(R**2 + z**2)**(3/2) - 1/sqrt(R**2 + z**2)"
            ],
            "text/latex": "$\\displaystyle \\frac{z^{2}}{\\left(R^{2} + z^{2}\\right)^{\\frac{3}{2}}} - \\frac{1}{\\sqrt{R^{2} + z^{2}}}$"
          },
          "metadata": {},
          "execution_count": 2
        }
      ],
      "source": [
        "#Definamos la función para el potencial\n",
        "z = sp.Symbol('z')\n",
        "R = sp.Symbol('R')\n",
        "potencial = lambda z, R: z/(sp.sqrt(z**2 + R**2))\n",
        "campoElectrico = -sp.diff(potencial(z,R),z)\n",
        "campoElectrico"
      ]
    },
    {
      "cell_type": "code",
      "source": [
        "#La llevamos a numpy para poder evaluar\n",
        "campoNumpy = sp.lambdify((z,R),campoElectrico,'numpy')\n",
        "X = 0.1\n",
        "zz = np.linspace(0.00001,5,100)\n",
        "y = campoNumpy(zz,X)\n",
        "plt.plot(zz,y);\n",
        "plt.xlabel('z')\n",
        "plt.ylabel('E(z)');"
      ],
      "metadata": {
        "colab": {
          "base_uri": "https://localhost:8080/",
          "height": 449
        },
        "id": "2flwtPbncciI",
        "outputId": "b52a318b-8722-4a95-c032-82f007488438"
      },
      "id": "2flwtPbncciI",
      "execution_count": null,
      "outputs": [
        {
          "output_type": "display_data",
          "data": {
            "text/plain": [
              "<Figure size 640x480 with 1 Axes>"
            ],
            "image/png": "[encoded data removed]"
          },
          "metadata": {}
        }
      ]
    },
    {
      "cell_type": "markdown",
      "source": [
        "Segundo Punto"
      ],
      "metadata": {
        "id": "rbxnXMggdyaP"
      },
      "id": "rbxnXMggdyaP"
    },
    {
      "cell_type": "code",
      "source": [
        "#Ahora lo vamos a hacer con misc\n",
        "RR = np.linspace(0,1,10)\n",
        "potencial1 = lambda zz, RR=0.1: zz/(np.sqrt(zz**2 + RR**2))\n",
        "misc.derivative(potencial1,0.1,dx=1,args=(RR,))"
      ],
      "metadata": {
        "colab": {
          "base_uri": "https://localhost:8080/"
        },
        "id": "n5r_68umdzlz",
        "outputId": "03ac7f9e-e3c0-4a10-88b0-9962441479ea"
      },
      "id": "n5r_68umdzlz",
      "execution_count": null,
      "outputs": [
        {
          "output_type": "stream",
          "name": "stderr",
          "text": [
            "<ipython-input-4-ce621accad44>:4: DeprecationWarning: scipy.misc.derivative is deprecated in SciPy v1.10.0; and will be completely removed in SciPy v1.12.0. You may consider using findiff: https://github.com/maroba/findiff or numdifftools: https://github.com/pbrod/numdifftools\n",
            "  misc.derivative(potencial1,0.1,dx=1,args=(RR,))\n"
          ]
        },
        {
          "output_type": "execute_result",
          "data": {
            "text/plain": [
              "array([1.        , 0.99370121, 0.97552073, 0.94738658, 0.91190471,\n",
              "       0.87177638, 0.82937751, 0.7865617 , 0.74463924, 0.7044524 ])"
            ]
          },
          "metadata": {},
          "execution_count": 4
        }
      ]
    },
    {
      "cell_type": "code",
      "source": [
        "#Ahora hallemos la derivada para cada uno de los puntos\n",
        "dominio = np.linspace(0,2,100)\n",
        "funcionVectorizada = np.vectorize(misc.derivative)\n",
        "campo = -funcionVectorizada(potencial1,dominio,args=(RR,))"
      ],
      "metadata": {
        "id": "efUpdIobfEes"
      },
      "id": "efUpdIobfEes",
      "execution_count": null,
      "outputs": []
    },
    {
      "cell_type": "code",
      "source": [
        "from scipy.misc import derivative\n",
        "import numpy as np\n",
        "import matplotlib.pyplot as plt\n"
      ],
      "metadata": {
        "id": "64RbXFuVm61B"
      },
      "id": "64RbXFuVm61B",
      "execution_count": null,
      "outputs": []
    },
    {
      "cell_type": "code",
      "source": [
        "def potencial (z,R,kq=1.0):\n",
        "  V = z*kq/np.sqrt(z**2+R**2)\n",
        "  return V"
      ],
      "metadata": {
        "id": "YvB6-X1_oloI"
      },
      "id": "YvB6-X1_oloI",
      "execution_count": null,
      "outputs": []
    },
    {
      "cell_type": "code",
      "source": [
        "z = np.linspace(0,0.002,100)\n",
        "R = 0.1E-3\n",
        "plt.plot(z,potencial(z,R))"
      ],
      "metadata": {
        "colab": {
          "base_uri": "https://localhost:8080/",
          "height": 448
        },
        "id": "YlPs-LrOnDPg",
        "outputId": "89216fc6-e404-4b15-f534-1b6e235e3767"
      },
      "id": "YlPs-LrOnDPg",
      "execution_count": null,
      "outputs": [
        {
          "output_type": "execute_result",
          "data": {
            "text/plain": [
              "[<matplotlib.lines.Line2D at 0x7f17f3454220>]"
            ]
          },
          "metadata": {},
          "execution_count": 32
        },
        {
          "output_type": "display_data",
          "data": {
            "text/plain": [
              "<Figure size 640x480 with 1 Axes>"
            ],
            "image/png": "[encoded data removed]"
          },
          "metadata": {}
        }
      ]
    },
    {
      "cell_type": "code",
      "source": [
        "z = np.linspace(0,0.002,100)\n",
        "R = 0.1E-3\n",
        "gradiente = derivative(potencial,z,dx=1E-6,args=(R,))\n",
        "campoElectrico = -gradiente\n",
        "plt.plot(z,campoElectrico);"
      ],
      "metadata": {
        "colab": {
          "base_uri": "https://localhost:8080/",
          "height": 487
        },
        "id": "jKdZ7KkPnbPO",
        "outputId": "6297add6-af0e-4ddb-e19e-145403224adc"
      },
      "id": "jKdZ7KkPnbPO",
      "execution_count": null,
      "outputs": [
        {
          "output_type": "stream",
          "name": "stderr",
          "text": [
            "<ipython-input-33-a0b302049547>:3: DeprecationWarning: scipy.misc.derivative is deprecated in SciPy v1.10.0; and will be completely removed in SciPy v1.12.0. You may consider using findiff: https://github.com/maroba/findiff or numdifftools: https://github.com/pbrod/numdifftools\n",
            "  gradiente = derivative(potencial,z,dx=1E-6,args=(R,))\n"
          ]
        },
        {
          "output_type": "display_data",
          "data": {
            "text/plain": [
              "<Figure size 640x480 with 1 Axes>"
            ],
            "image/png": "[encoded data removed]"
          },
          "metadata": {}
        }
      ]
    },
    {
      "cell_type": "code",
      "source": [
        "#Vectoricemos la función\n",
        "def potencial (z,R,kq,select):\n",
        "  if (select=='anillo'): #Vectorize nos permite evaluar el if para un array\n",
        "    V = z*kq/np.sqrt(z**2+R**2)\n",
        "  elif(select=='disco'):\n",
        "    V = (2*kq/R**2)**(np.sqrt(z**2 + R**2)-z)\n",
        "  else:\n",
        "    print('error: seleccione anillo o disco')\n",
        "  return V\n",
        "\n",
        "z = np.linspace(0,0.002,100)\n",
        "R = 0.1E-3\n",
        "kq = 1\n",
        "derivative1 = np.vectorize(derivative,excluded =['args'] ) #Parámetros adicionales diferentes de z\n",
        "gradiente1 = derivative1(potencial,z,dx=1E-6, args=(R,kq))\n",
        "campoElectrico1 = -gradiente1\n",
        "plt.plot(z,campoElectrico1)"
      ],
      "metadata": {
        "id": "jdWw8NT8pz-g"
      },
      "id": "jdWw8NT8pz-g",
      "execution_count": null,
      "outputs": []
    },
    {
      "cell_type": "code",
      "source": [
        "#Vectoricemos la función\n",
        "def potencial (z,R,kq,select):\n",
        "  if (select=='anillo'): #Vectorize nos permite evaluar el if para un array\n",
        "    V = z*kq/np.sqrt(z**2+R**2)\n",
        "  elif(select=='disco'):\n",
        "    V = (2*kq/R**2)*(np.sqrt(z**2 + R**2)-z)\n",
        "  else:\n",
        "    print('error: seleccione anillo o disco')\n",
        "    V = None\n",
        "  return V\n",
        "#potencial(z,R,kq,'disco')\n",
        "try:\n",
        "  gradiente3 = derivative1(potencial,z,dx=1e-6,args=(R,kq,'disco'))\n",
        "  campoDisco = -gradiente3\n",
        "except:\n",
        "  print('Error: anillo o disco')\n",
        "plt.plot(z,campoDisco)"
      ],
      "metadata": {
        "colab": {
          "base_uri": "https://localhost:8080/",
          "height": 463
        },
        "id": "FuMWc7_etjrJ",
        "outputId": "59d34775-51fc-4e38-c95a-0d83e1d736e0"
      },
      "id": "FuMWc7_etjrJ",
      "execution_count": null,
      "outputs": [
        {
          "output_type": "execute_result",
          "data": {
            "text/plain": [
              "[<matplotlib.lines.Line2D at 0x7f17f3545730>]"
            ]
          },
          "metadata": {},
          "execution_count": 59
        },
        {
          "output_type": "display_data",
          "data": {
            "text/plain": [
              "<Figure size 640x480 with 1 Axes>"
            ],
            "image/png": "[encoded data removed]"
          },
          "metadata": {}
        }
      ]
    },
    {
      "cell_type": "code",
      "source": [
        "#Convirtamos esto en un programa ejecutable\n",
        "import numpy as np\n",
        "from scipy.misc import derivative\n",
        "z = np.linspace(0,0.002,100)\n",
        "R = 0.1E-3\n",
        "select = 'anillo'\n",
        "def potencial (z,R,kq,select):\n",
        "  if (select=='anillo'): #Vectorize nos permite evaluar el if para un array\n",
        "    V = z*kq/np.sqrt(z**2+R**2)\n",
        "  elif(select=='disco'):\n",
        "    V = (2*kq/R**2)*(np.sqrt(z**2 + R**2)-z)\n",
        "  else:\n",
        "    print('error: seleccione anillo o disco')\n",
        "    V = None\n",
        "  return V\n",
        "#potencial(z,R,kq,'disco')\n",
        "try:\n",
        "  derivative1 = np.vectorize(derivative,excluded =['args'] ) #Parámetros adicionales diferentes de z\n",
        "  gradiente3 = derivative1(potencial,z,dx=1e-6,args=(R,kq,'disco'))\n",
        "  campoElectrico = -gradiente3\n",
        "  np.savetxt('campo_electrico.txt',campoElectrico)\n",
        "except:\n",
        "  print('Error: anillo o disco')"
      ],
      "metadata": {
        "id": "BwnVuq5Pz94m"
      },
      "id": "BwnVuq5Pz94m",
      "execution_count": null,
      "outputs": []
    }
  ],
  "metadata": {
    "kernelspec": {
      "display_name": "Python 3 (ipykernel)",
      "language": "python",
      "name": "python3"
    },
    "language_info": {
      "codemirror_mode": {
        "name": "ipython",
        "version": 3
      },
      "file_extension": ".py",
      "mimetype": "text/x-python",
      "name": "python",
      "nbconvert_exporter": "python",
      "pygments_lexer": "ipython3",
      "version": "3.8.12"
    },
    "colab": {
      "provenance": []
    }
  },
  "nbformat": 4,
  "nbformat_minor": 5
}