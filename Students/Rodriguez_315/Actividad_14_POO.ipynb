{
  "nbformat": 4,
  "nbformat_minor": 0,
  "metadata": {
    "colab": {
      "provenance": []
    },
    "kernelspec": {
      "name": "python3",
      "display_name": "Python 3"
    },
    "language_info": {
      "name": "python"
    }
  },
  "cells": [
    {
      "cell_type": "code",
      "source": [
        "import numpy as np"
      ],
      "metadata": {
        "id": "97nH4Stx_lYx"
      },
      "execution_count": 19,
      "outputs": []
    },
    {
      "cell_type": "code",
      "execution_count": 25,
      "metadata": {
        "id": "al3opIo29BZs"
      },
      "outputs": [],
      "source": [
        "class punto:\n",
        "  def __init__(self,x,y):\n",
        "    self.x=x\n",
        "    self.y = y\n",
        "  \n",
        "  def getX(self):\n",
        "    return self.x\n",
        "  \n",
        "  def distanciaOrigen(self):\n",
        "    d = self.x**2 + self.y**2\n",
        "    return np.sqrt(d)\n",
        "  \n",
        "  def desplazamiento(self,x1,y1):\n",
        "    self.x = self.x + x1\n",
        "    self.y = self.y + y1\n"
      ]
    },
    {
      "cell_type": "code",
      "source": [
        "p = punto(1,'a')\n",
        "print(p.x,p.y)\n",
        "p.getX()"
      ],
      "metadata": {
        "colab": {
          "base_uri": "https://localhost:8080/"
        },
        "id": "Ducq7raL9KgC",
        "outputId": "750e114b-8789-4b45-df85-bffd27854036"
      },
      "execution_count": 17,
      "outputs": [
        {
          "output_type": "stream",
          "name": "stdout",
          "text": [
            "1 a\n"
          ]
        },
        {
          "output_type": "execute_result",
          "data": {
            "text/plain": [
              "1"
            ]
          },
          "metadata": {},
          "execution_count": 17
        }
      ]
    },
    {
      "cell_type": "code",
      "source": [
        "#Método distancia al origen\n",
        "p1 = punto(2,3)\n",
        "x0 = 1\n",
        "distancia = p1.distanciaOrigen()\n",
        "distancia"
      ],
      "metadata": {
        "colab": {
          "base_uri": "https://localhost:8080/"
        },
        "id": "192lhlbS_is5",
        "outputId": "b4e4a64c-9ede-473a-d022-946e122736a0"
      },
      "execution_count": 21,
      "outputs": [
        {
          "output_type": "execute_result",
          "data": {
            "text/plain": [
              "13"
            ]
          },
          "metadata": {},
          "execution_count": 21
        }
      ]
    },
    {
      "cell_type": "code",
      "source": [
        "#Método Desplazamiento\n",
        "p2 = punto(0,0)\n",
        "x1 = 1\n",
        "y1 = 1\n",
        "p2.desplazamiento(x1,y1)\n",
        "print(p2.x,p2.y)"
      ],
      "metadata": {
        "colab": {
          "base_uri": "https://localhost:8080/"
        },
        "id": "YAVjD_SdAFRh",
        "outputId": "bc6aeae2-e45f-4792-9ae8-3ea0636c4946"
      },
      "execution_count": 31,
      "outputs": [
        {
          "output_type": "stream",
          "name": "stdout",
          "text": [
            "1 1\n"
          ]
        }
      ]
    },
    {
      "cell_type": "code",
      "source": [
        "class auto:\n",
        "  def __init__(self,posx,posy, numeroPuertas,color,modelo,placa,kilometraje,llantas):\n",
        "    self.x = posx\n",
        "    self.y = posy\n",
        "    self.numeroPuertas = numeroPuertas\n",
        "    self.color = color\n",
        "    self.modelo = modelo\n",
        "    self.placa = placa\n",
        "    self.kilometraje = kilometraje\n",
        "    self.llantas = llantas\n",
        "\n",
        "  def getnumeroPuertas(self):\n",
        "    return self.numeroPuertas\n",
        "  def getcolor(self):\n",
        "    return self.color\n",
        "  def getmodelo(self):\n",
        "    return self.modelo\n",
        "  def getplaca(self):\n",
        "    return self.placa\n",
        "  def getkilometraje(self):\n",
        "    return self.kilometraje\n",
        "  def getllantas(self):\n",
        "    return self.llantas\n",
        "  def moveX(self,dx):\n",
        "    self.x = self.x+dx\n",
        "  def moveY(self,dy):\n",
        "    self.y = self.y +dy\n",
        "    \n",
        "  def setcolor(self,color):\n",
        "    self.color = color"
      ],
      "metadata": {
        "id": "HNugTpT3DYli"
      },
      "execution_count": 49,
      "outputs": []
    },
    {
      "cell_type": "code",
      "source": [
        "class volqueta(auto):\n",
        "  def __init__(self,carga,posx,posy, numeroPuertas,color,modelo,placa,kilometraje,llantas):\n",
        "    self.carga = carga\n",
        "    auto.__init__(self,posx,posy, numeroPuertas,color,modelo,placa,kilometraje,llantas)"
      ],
      "metadata": {
        "id": "8T5JVxgyFpOB"
      },
      "execution_count": 53,
      "outputs": []
    },
    {
      "cell_type": "code",
      "source": [
        "v = volqueta('1kg',1,2,4,'rojo',2020,'FEW232','10km',4)\n",
        "v.setcolor('azul')"
      ],
      "metadata": {
        "id": "DoU7NlGHHBoN"
      },
      "execution_count": 60,
      "outputs": []
    },
    {
      "cell_type": "code",
      "source": [],
      "metadata": {
        "id": "u2zR5FPsIB8B"
      },
      "execution_count": null,
      "outputs": []
    }
  ]
}