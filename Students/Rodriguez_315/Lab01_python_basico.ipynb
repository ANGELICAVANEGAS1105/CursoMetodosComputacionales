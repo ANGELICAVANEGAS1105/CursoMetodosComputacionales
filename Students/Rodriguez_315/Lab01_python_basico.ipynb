{
  "nbformat": 4,
  "nbformat_minor": 0,
  "metadata": {
    "colab": {
      "provenance": []
    },
    "kernelspec": {
      "name": "python3",
      "display_name": "Python 3"
    },
    "language_info": {
      "name": "python"
    }
  },
  "cells": [
    {
      "cell_type": "markdown",
      "source": [
        "# Laboratorio 01\n",
        "### Métodos computacionales para físicos  y astrónomos\n",
        "### Universidad de Antioquia\n",
        "### Prof: Hernan D. Salinas Jiménez\n"
      ],
      "metadata": {
        "id": "GUTNoRgHTjfg"
      }
    },
    {
      "cell_type": "code",
      "source": [
        "# Ejecutar esta celda antes de cada laboratorio\n",
        "!git clone https://github.com/hernansalinas/autogrades.git\n",
        "%run -i autogrades/example/libs/libUnitTest.py"
      ],
      "metadata": {
        "colab": {
          "base_uri": "https://localhost:8080/"
        },
        "id": "NmGdQYCBL7cs",
        "outputId": "ce4343df-9170-4e31-9fa0-deca957f2ba0"
      },
      "execution_count": null,
      "outputs": [
        {
          "output_type": "stream",
          "name": "stdout",
          "text": [
            "fatal: destination path 'autogrades' already exists and is not an empty directory.\n"
          ]
        }
      ]
    },
    {
      "cell_type": "markdown",
      "source": [
        "# Operaciones básicas en python.\n",
        "\n",
        "\n",
        "### Definicion de variables\n",
        "1. Definir una variable x tipo entero.\n",
        "2. Definir una variable y tipo float \n",
        "3. Definir una variable z tipo string."
      ],
      "metadata": {
        "id": "OkdTI9KQ8MLN"
      }
    },
    {
      "cell_type": "code",
      "source": [
        "x = 0"
      ],
      "metadata": {
        "id": "7Sw4VRrIpbOO"
      },
      "execution_count": null,
      "outputs": []
    },
    {
      "cell_type": "code",
      "source": [
        "y = 0.0"
      ],
      "metadata": {
        "id": "-P0dcCUwpfTZ"
      },
      "execution_count": null,
      "outputs": []
    },
    {
      "cell_type": "code",
      "source": [
        "z = ''"
      ],
      "metadata": {
        "id": "1HlRCZF5pgup"
      },
      "execution_count": null,
      "outputs": []
    },
    {
      "cell_type": "code",
      "source": [
        "# Ejecute la presente celda para probar su solucion \n",
        "%run -i autogrades/example/libs/Lab_autotesting01/test01.py"
      ],
      "metadata": {
        "colab": {
          "base_uri": "https://localhost:8080/",
          "height": 215
        },
        "id": "aod54z2z-ZeY",
        "outputId": "a941ed9d-3d52-4b67-c887-852848701d08"
      },
      "execution_count": null,
      "outputs": [
        {
          "output_type": "display_data",
          "data": {
            "text/plain": [
              "<IPython.core.display.HTML object>"
            ],
            "text/html": [
              "<style>\n",
              "  table { text-align: left; border-collapse: collapse; margin: 1em; caption-side: bottom; font-family: Sans-Serif; font-size: 12px}\n",
              "  caption { text-align: left; padding: 5px }\n",
              "  th, td { border: 2px solid #BFC9CA; padding: 5px }\n",
              "  th { background-color: #BFC9CA }\n",
              "  .passed { background-color: #76D7C4 }\n",
              "  .failed { background-color: #EC7063 }\n",
              "  .skipped { background-color: #EDBB99 }\n",
              "  .score { background-color: #7DCEA0 }\n",
              "  .results .points { display: none }\n",
              "  .results .message { display: block; font-size:smaller; color:#D35400 }\n",
              "  .results .note { display: block; font-size:smaller; font-decoration:italics }\n",
              "  .results .passed::before  { content: \"Passed\" } \n",
              "  .results .skipped::before  { content: \"Skipped\" } \n",
              "  .results .failed::before  { content: \"Failed\" } \n",
              "  .grade .passed  .message:empty::before { content:\"Passed\" }\n",
              "  .grade .failed  .message:empty::before { content:\"Failed\" }\n",
              "  .grade .skipped .message:empty::before { content:\"Skipped\" }   \n",
              "</style>\n",
              "<table class='results'>\n",
              "  <th class='test'>Test</th><th class='result'>Result</th></tr>\n",
              "<tr>\n",
              "  <td class='test'>\n",
              "    Definir x como un numero entero\n",
              "    <div class='message'>Done</div>\n",
              "  </td>\n",
              "  <td class='result passed'></td>\n",
              "</tr>\n",
              "<tr>\n",
              "  <td class='test'>\n",
              "    Defiir y como una variable tipo float\n",
              "    <div class='message'>Done</div>\n",
              "  </td>\n",
              "  <td class='result passed'></td>\n",
              "</tr>\n",
              "<tr>\n",
              "  <td class='test'>\n",
              "    Definir z como un string\n",
              "    <div class='message'>Done</div>\n",
              "  </td>\n",
              "  <td class='result passed'></td>\n",
              "</tr>  <tr><th class='score'>Total Points</th><th class='score'>3</th></tr></table>\n"
            ]
          },
          "metadata": {}
        }
      ]
    },
    {
      "cell_type": "markdown",
      "source": [
        "\n",
        "###  Creación de Funciones\n",
        "4. Crear una función con el nombre mul_lambda, lambda que multiple dos enteros, el resultado deberá ser un número entero.  \n",
        "\n",
        "Ejemplo de ejecución:\n",
        "\n",
        "```python\n",
        "mul_lambda(a,b)\n",
        "donde a, y b son numeros enteros\n",
        "```\n",
        "\n",
        "\n",
        "5. Crear una función explicita con el nombre de suma_int, que realice la suma de dos números enteros\n",
        "\n",
        "Ejemplo de ejecución:\n",
        "\n",
        "```python\n",
        "sum_int(a,b)\n",
        "donde a, y b son numeros enteros\n",
        "```\n",
        "\n"
      ],
      "metadata": {
        "id": "9JTEaQro_I8E"
      }
    },
    {
      "cell_type": "code",
      "source": [
        "mul_lambda = lambda a,b: a*b #Ejemplo de función tipo lambda."
      ],
      "metadata": {
        "id": "mO7A-DXXp1_c"
      },
      "execution_count": null,
      "outputs": []
    },
    {
      "cell_type": "code",
      "source": [
        "def sum_int(a,b):\n",
        "  c = a+b\n",
        "  return c"
      ],
      "metadata": {
        "id": "LC7kT3XQqXFt"
      },
      "execution_count": null,
      "outputs": []
    },
    {
      "cell_type": "code",
      "source": [
        "%run -i autogrades/example/libs/Lab_autotesting01/test02.py"
      ],
      "metadata": {
        "colab": {
          "base_uri": "https://localhost:8080/",
          "height": 175
        },
        "id": "lSsnEjAx_Gay",
        "outputId": "279b11a8-f8c5-4a97-c3ec-ca85c80e8f85"
      },
      "execution_count": null,
      "outputs": [
        {
          "output_type": "display_data",
          "data": {
            "text/plain": [
              "<IPython.core.display.HTML object>"
            ],
            "text/html": [
              "<style>\n",
              "  table { text-align: left; border-collapse: collapse; margin: 1em; caption-side: bottom; font-family: Sans-Serif; font-size: 12px}\n",
              "  caption { text-align: left; padding: 5px }\n",
              "  th, td { border: 2px solid #BFC9CA; padding: 5px }\n",
              "  th { background-color: #BFC9CA }\n",
              "  .passed { background-color: #76D7C4 }\n",
              "  .failed { background-color: #EC7063 }\n",
              "  .skipped { background-color: #EDBB99 }\n",
              "  .score { background-color: #7DCEA0 }\n",
              "  .results .points { display: none }\n",
              "  .results .message { display: block; font-size:smaller; color:#D35400 }\n",
              "  .results .note { display: block; font-size:smaller; font-decoration:italics }\n",
              "  .results .passed::before  { content: \"Passed\" } \n",
              "  .results .skipped::before  { content: \"Skipped\" } \n",
              "  .results .failed::before  { content: \"Failed\" } \n",
              "  .grade .passed  .message:empty::before { content:\"Passed\" }\n",
              "  .grade .failed  .message:empty::before { content:\"Failed\" }\n",
              "  .grade .skipped .message:empty::before { content:\"Skipped\" }   \n",
              "</style>\n",
              "<table class='results'>\n",
              "  <th class='test'>Test</th><th class='result'>Result</th></tr>\n",
              "<tr>\n",
              "  <td class='test'>\n",
              "    Crear una funcion que multiplique dos números\n",
              "    <div class='message'>Done</div>\n",
              "  </td>\n",
              "  <td class='result passed'></td>\n",
              "</tr>\n",
              "<tr>\n",
              "  <td class='test'>\n",
              "    Crear una funcion que sume dos números\n",
              "    <div class='message'>Done</div>\n",
              "  </td>\n",
              "  <td class='result passed'></td>\n",
              "</tr>  <tr><th class='score'>Total Points</th><th class='score'>2</th></tr></table>\n"
            ]
          },
          "metadata": {}
        }
      ]
    },
    {
      "cell_type": "markdown",
      "source": [
        "\n",
        "###  Números complejos\n",
        "\n",
        "6. Defina un número complejo w.\n",
        "7. Retorne la parte imaginaria de w, almacenela en una variable w_img\n",
        "8. Retorne la parte real de w, almacenela en una variable w_real.\n",
        "9. Retorne el complejo conjugado de w, almacenla en una varible w_con.\n"
      ],
      "metadata": {
        "id": "uu42QkJsCQMb"
      }
    },
    {
      "cell_type": "code",
      "source": [
        "w = 1+1j #Cómo crear una variable tipo complejo\n",
        "w_img = w.imag #Cómo encontrar la parte imaginario de un número complejo.\n",
        "w_real = w.real #Cómo encontrar la parte real de un complejo\n",
        "w_con = w.conjugate() #Conjugada de un complejo."
      ],
      "metadata": {
        "id": "kOipKT_erMeE"
      },
      "execution_count": null,
      "outputs": []
    },
    {
      "cell_type": "code",
      "source": [
        "%run -i autogrades/example/libs/Lab_autotesting01/test03.py"
      ],
      "metadata": {
        "colab": {
          "base_uri": "https://localhost:8080/",
          "height": 254
        },
        "id": "jx3J6yE1Kwki",
        "outputId": "eb97da22-4c19-449f-8e58-8fdb0101e888"
      },
      "execution_count": null,
      "outputs": [
        {
          "output_type": "display_data",
          "data": {
            "text/plain": [
              "<IPython.core.display.HTML object>"
            ],
            "text/html": [
              "<style>\n",
              "  table { text-align: left; border-collapse: collapse; margin: 1em; caption-side: bottom; font-family: Sans-Serif; font-size: 12px}\n",
              "  caption { text-align: left; padding: 5px }\n",
              "  th, td { border: 2px solid #BFC9CA; padding: 5px }\n",
              "  th { background-color: #BFC9CA }\n",
              "  .passed { background-color: #76D7C4 }\n",
              "  .failed { background-color: #EC7063 }\n",
              "  .skipped { background-color: #EDBB99 }\n",
              "  .score { background-color: #7DCEA0 }\n",
              "  .results .points { display: none }\n",
              "  .results .message { display: block; font-size:smaller; color:#D35400 }\n",
              "  .results .note { display: block; font-size:smaller; font-decoration:italics }\n",
              "  .results .passed::before  { content: \"Passed\" } \n",
              "  .results .skipped::before  { content: \"Skipped\" } \n",
              "  .results .failed::before  { content: \"Failed\" } \n",
              "  .grade .passed  .message:empty::before { content:\"Passed\" }\n",
              "  .grade .failed  .message:empty::before { content:\"Failed\" }\n",
              "  .grade .skipped .message:empty::before { content:\"Skipped\" }   \n",
              "</style>\n",
              "<table class='results'>\n",
              "  <th class='test'>Test</th><th class='result'>Result</th></tr>\n",
              "<tr>\n",
              "  <td class='test'>\n",
              "    Definir w como un número complejo\n",
              "    <div class='message'>Done</div>\n",
              "  </td>\n",
              "  <td class='result passed'></td>\n",
              "</tr>\n",
              "<tr>\n",
              "  <td class='test'>\n",
              "    Determinar la parte real de w\n",
              "    <div class='message'>Done</div>\n",
              "  </td>\n",
              "  <td class='result passed'></td>\n",
              "</tr>\n",
              "<tr>\n",
              "  <td class='test'>\n",
              "    Determinar la parte imaginaria  de w\n",
              "    <div class='message'>Done</div>\n",
              "  </td>\n",
              "  <td class='result passed'></td>\n",
              "</tr>\n",
              "<tr>\n",
              "  <td class='test'>\n",
              "    Determinar el conjugado de w\n",
              "    <div class='message'>Done</div>\n",
              "  </td>\n",
              "  <td class='result passed'></td>\n",
              "</tr>  <tr><th class='score'>Total Points</th><th class='score'>4</th></tr></table>\n"
            ]
          },
          "metadata": {}
        }
      ]
    },
    {
      "cell_type": "markdown",
      "source": [
        "###  Listas \n",
        "\n",
        "10.0  Construir una lista L con las variables usadas hasta acá y los resultados de las funciones.\n",
        "\n",
        "L=[x,y,z,mul_lambda, mul_int,w, w_img, w_real, w_con ]\n",
        "\n",
        "11.0 Invierta la lista y almacene en una variable L_reverse \n",
        "\n",
        "12.0 Almacene los elementos impares de la lista, L_imp\n",
        "\n",
        "13.0 Almacene los elementos pares de la lista, L_par\n",
        "\n",
        "14.0 Modifique el elemento 5 de la lista L con la palabra \"hello world\"\n"
      ],
      "metadata": {
        "id": "P-2vd2FFV-R-"
      }
    },
    {
      "cell_type": "code",
      "source": [
        "L = [x,y,z,mul_lambda,sum_int,w,w_img,w_real,w_con]\n",
        "##Slices: primer indice dónde empieza, segundo índice dónde acaba y tercer índice los steps.\n",
        "L_reverse = L[::-1] #Invertir los elementos de la lista de atrás hacia adelante\n",
        "L_imp = L[1::2] #Empieza a iterar en la posición 1 y hace de a dos steps.\n",
        "L_par = L[0::2] #Empieza a iterar desde la posición cero."
      ],
      "metadata": {
        "id": "C_VmOONrskJu"
      },
      "execution_count": null,
      "outputs": []
    },
    {
      "cell_type": "code",
      "source": [
        "%run -i autogrades/example/libs/Lab_autotesting01/test04.py"
      ],
      "metadata": {
        "colab": {
          "base_uri": "https://localhost:8080/",
          "height": 646
        },
        "id": "rUAEpJDDdM2q",
        "outputId": "ec303f5b-19cf-4c04-af53-4c871014de7e"
      },
      "execution_count": null,
      "outputs": [
        {
          "output_type": "display_data",
          "data": {
            "text/plain": [
              "<IPython.core.display.HTML object>"
            ],
            "text/html": [
              "<style>\n",
              "  table { text-align: left; border-collapse: collapse; margin: 1em; caption-side: bottom; font-family: Sans-Serif; font-size: 12px}\n",
              "  caption { text-align: left; padding: 5px }\n",
              "  th, td { border: 2px solid #BFC9CA; padding: 5px }\n",
              "  th { background-color: #BFC9CA }\n",
              "  .passed { background-color: #76D7C4 }\n",
              "  .failed { background-color: #EC7063 }\n",
              "  .skipped { background-color: #EDBB99 }\n",
              "  .score { background-color: #7DCEA0 }\n",
              "  .results .points { display: none }\n",
              "  .results .message { display: block; font-size:smaller; color:#D35400 }\n",
              "  .results .note { display: block; font-size:smaller; font-decoration:italics }\n",
              "  .results .passed::before  { content: \"Passed\" } \n",
              "  .results .skipped::before  { content: \"Skipped\" } \n",
              "  .results .failed::before  { content: \"Failed\" } \n",
              "  .grade .passed  .message:empty::before { content:\"Passed\" }\n",
              "  .grade .failed  .message:empty::before { content:\"Failed\" }\n",
              "  .grade .skipped .message:empty::before { content:\"Skipped\" }   \n",
              "</style>\n",
              "<table class='results'>\n",
              "  <th class='test'>Test</th><th class='result'>Result</th></tr>\n",
              "<tr>\n",
              "  <td class='test'>\n",
              "    Definir x como un numero entero\n",
              "    <div class='message'>Done</div>\n",
              "  </td>\n",
              "  <td class='result passed'></td>\n",
              "</tr>\n",
              "<tr>\n",
              "  <td class='test'>\n",
              "    Defiir y como una variable tipo float\n",
              "    <div class='message'>Done</div>\n",
              "  </td>\n",
              "  <td class='result passed'></td>\n",
              "</tr>\n",
              "<tr>\n",
              "  <td class='test'>\n",
              "    Definir z como un string\n",
              "    <div class='message'>Done</div>\n",
              "  </td>\n",
              "  <td class='result passed'></td>\n",
              "</tr>\n",
              "<tr>\n",
              "  <td class='test'>\n",
              "    Definir mul_lambda como una funcion\n",
              "    <div class='message'>Done</div>\n",
              "  </td>\n",
              "  <td class='result passed'></td>\n",
              "</tr>\n",
              "<tr>\n",
              "  <td class='test'>\n",
              "    Definir mul_int como una funcion\n",
              "    <div class='message'>Done</div>\n",
              "  </td>\n",
              "  <td class='result passed'></td>\n",
              "</tr>\n",
              "<tr>\n",
              "  <td class='test'>\n",
              "    Definir w como un número complejo\n",
              "    <div class='message'>Done</div>\n",
              "  </td>\n",
              "  <td class='result passed'></td>\n",
              "</tr>\n",
              "<tr>\n",
              "  <td class='test'>\n",
              "    Determinar la parte imaginiaria de w\n",
              "    <div class='message'>Done</div>\n",
              "  </td>\n",
              "  <td class='result passed'></td>\n",
              "</tr>\n",
              "<tr>\n",
              "  <td class='test'>\n",
              "    Determinar la parte real de w\n",
              "    <div class='message'>Done</div>\n",
              "  </td>\n",
              "  <td class='result passed'></td>\n",
              "</tr>\n",
              "<tr>\n",
              "  <td class='test'>\n",
              "    Calcular el complejo conjugado de w\n",
              "    <div class='message'>Done</div>\n",
              "  </td>\n",
              "  <td class='result passed'></td>\n",
              "</tr>\n",
              "<tr>\n",
              "  <td class='test'>\n",
              "    Definir una lista L\n",
              "    <div class='message'>Done</div>\n",
              "  </td>\n",
              "  <td class='result passed'></td>\n",
              "</tr>\n",
              "<tr>\n",
              "  <td class='test'>\n",
              "    La longitud de lista debe ser 9 \n",
              "    <div class='message'>Done</div>\n",
              "  </td>\n",
              "  <td class='result passed'></td>\n",
              "</tr>\n",
              "<tr>\n",
              "  <td class='test'>\n",
              "    Invierta la lista L\n",
              "    <div class='message'>Done</div>\n",
              "  </td>\n",
              "  <td class='result passed'></td>\n",
              "</tr>\n",
              "<tr>\n",
              "  <td class='test'>\n",
              "    Determine los valores impares de la lista\n",
              "    <div class='message'>Done</div>\n",
              "  </td>\n",
              "  <td class='result passed'></td>\n",
              "</tr>\n",
              "<tr>\n",
              "  <td class='test'>\n",
              "    Determinar los valores pares de la lista\n",
              "    <div class='message'>Done</div>\n",
              "  </td>\n",
              "  <td class='result passed'></td>\n",
              "</tr>  <tr><th class='score'>Total Points</th><th class='score'>14</th></tr></table>\n"
            ]
          },
          "metadata": {}
        }
      ]
    },
    {
      "cell_type": "markdown",
      "source": [
        "###  Tuplas\n",
        "\n",
        "15.0 Definir una tupla con 5 elementos almacenda en la variable Tup, los primeros 3 tipo string y los ultimos dos, tipo float. "
      ],
      "metadata": {
        "id": "9vVIrQeytD30"
      }
    },
    {
      "cell_type": "code",
      "source": [
        "Tup = ('','','',0.0,0.0)"
      ],
      "metadata": {
        "id": "4HdGiC6NzLnq"
      },
      "execution_count": null,
      "outputs": []
    },
    {
      "cell_type": "code",
      "source": [
        "%run -i autogrades/example/libs/Lab_autotesting01/test05.py"
      ],
      "metadata": {
        "colab": {
          "base_uri": "https://localhost:8080/",
          "height": 254
        },
        "id": "UswyGx3xuou2",
        "outputId": "2cb4dc21-d384-419d-c730-5bad6fcb82a1"
      },
      "execution_count": null,
      "outputs": [
        {
          "output_type": "display_data",
          "data": {
            "text/plain": [
              "<IPython.core.display.HTML object>"
            ],
            "text/html": [
              "<style>\n",
              "  table { text-align: left; border-collapse: collapse; margin: 1em; caption-side: bottom; font-family: Sans-Serif; font-size: 12px}\n",
              "  caption { text-align: left; padding: 5px }\n",
              "  th, td { border: 2px solid #BFC9CA; padding: 5px }\n",
              "  th { background-color: #BFC9CA }\n",
              "  .passed { background-color: #76D7C4 }\n",
              "  .failed { background-color: #EC7063 }\n",
              "  .skipped { background-color: #EDBB99 }\n",
              "  .score { background-color: #7DCEA0 }\n",
              "  .results .points { display: none }\n",
              "  .results .message { display: block; font-size:smaller; color:#D35400 }\n",
              "  .results .note { display: block; font-size:smaller; font-decoration:italics }\n",
              "  .results .passed::before  { content: \"Passed\" } \n",
              "  .results .skipped::before  { content: \"Skipped\" } \n",
              "  .results .failed::before  { content: \"Failed\" } \n",
              "  .grade .passed  .message:empty::before { content:\"Passed\" }\n",
              "  .grade .failed  .message:empty::before { content:\"Failed\" }\n",
              "  .grade .skipped .message:empty::before { content:\"Skipped\" }   \n",
              "</style>\n",
              "<table class='results'>\n",
              "  <th class='test'>Test</th><th class='result'>Result</th></tr>\n",
              "<tr>\n",
              "  <td class='test'>\n",
              "    Definir una tupla\n",
              "    <div class='message'>Done</div>\n",
              "  </td>\n",
              "  <td class='result passed'></td>\n",
              "</tr>\n",
              "<tr>\n",
              "  <td class='test'>\n",
              "    La longitud de la tupla debe ser 5 \n",
              "    <div class='message'>Done</div>\n",
              "  </td>\n",
              "  <td class='result passed'></td>\n",
              "</tr>\n",
              "<tr>\n",
              "  <td class='test'>\n",
              "    Los tres primeros elementos deben string \n",
              "    <div class='message'>Done</div>\n",
              "  </td>\n",
              "  <td class='result passed'></td>\n",
              "</tr>\n",
              "<tr>\n",
              "  <td class='test'>\n",
              "    Los dos ultimos elementos deben ser float \n",
              "    <div class='message'>Done</div>\n",
              "  </td>\n",
              "  <td class='result passed'></td>\n",
              "</tr>  <tr><th class='score'>Total Points</th><th class='score'>4</th></tr></table>\n"
            ]
          },
          "metadata": {}
        }
      ]
    },
    {
      "cell_type": "markdown",
      "source": [
        "###  Set \n",
        "16.0 Defina una variable tipo set llamada  D con los primeros 10 numeros de Bernulli, consultalos en la red. Notese que pasa en este variables cuando alguno de los elementos se repite\n",
        "\n",
        "17.0 Defina una variable tipo set llamada E con los números naturales del 1 al 20.\n",
        "\n",
        "18.0 Calcule la unión  y almacenela en una variable U.\n",
        "\n",
        "19.0 Calcule la intersección y almacenela en una variable I\n"
      ],
      "metadata": {
        "id": "E1VlbpbEysKy"
      }
    },
    {
      "cell_type": "code",
      "source": [
        "D = set([1,-1/2,1/6,0,-1/30,0,1/42,0,-1/30,0,5/66])\n",
        "E =  set(range(1,20))\n",
        "U = D | E\n",
        "I = D & E"
      ],
      "metadata": {
        "id": "-GkOvcEv0Gsl"
      },
      "execution_count": null,
      "outputs": []
    },
    {
      "cell_type": "code",
      "source": [
        "%run -i autogrades/example/libs/Lab_autotesting01/test06.py"
      ],
      "metadata": {
        "colab": {
          "base_uri": "https://localhost:8080/",
          "height": 450
        },
        "id": "YJiDfeEr2cSc",
        "outputId": "e5909542-f5e3-4a3b-9141-27bd0d84d02f"
      },
      "execution_count": null,
      "outputs": [
        {
          "output_type": "display_data",
          "data": {
            "text/plain": [
              "<IPython.core.display.HTML object>"
            ],
            "text/html": [
              "<style>\n",
              "  table { text-align: left; border-collapse: collapse; margin: 1em; caption-side: bottom; font-family: Sans-Serif; font-size: 12px}\n",
              "  caption { text-align: left; padding: 5px }\n",
              "  th, td { border: 2px solid #BFC9CA; padding: 5px }\n",
              "  th { background-color: #BFC9CA }\n",
              "  .passed { background-color: #76D7C4 }\n",
              "  .failed { background-color: #EC7063 }\n",
              "  .skipped { background-color: #EDBB99 }\n",
              "  .score { background-color: #7DCEA0 }\n",
              "  .results .points { display: none }\n",
              "  .results .message { display: block; font-size:smaller; color:#D35400 }\n",
              "  .results .note { display: block; font-size:smaller; font-decoration:italics }\n",
              "  .results .passed::before  { content: \"Passed\" } \n",
              "  .results .skipped::before  { content: \"Skipped\" } \n",
              "  .results .failed::before  { content: \"Failed\" } \n",
              "  .grade .passed  .message:empty::before { content:\"Passed\" }\n",
              "  .grade .failed  .message:empty::before { content:\"Failed\" }\n",
              "  .grade .skipped .message:empty::before { content:\"Skipped\" }   \n",
              "</style>\n",
              "<table class='results'>\n",
              "  <th class='test'>Test</th><th class='result'>Result</th></tr>\n",
              "<tr>\n",
              "  <td class='test'>\n",
              "    Definir una variable D tipo set\n",
              "    <div class='message'>Done</div>\n",
              "  </td>\n",
              "  <td class='result passed'></td>\n",
              "</tr>\n",
              "<tr>\n",
              "  <td class='test'>\n",
              "    Definir una variable E tipo set\n",
              "    <div class='message'>Done</div>\n",
              "  </td>\n",
              "  <td class='result passed'></td>\n",
              "</tr>\n",
              "<tr>\n",
              "  <td class='test'>\n",
              "    Definir una variable U tipo set\n",
              "    <div class='message'>Done</div>\n",
              "  </td>\n",
              "  <td class='result passed'></td>\n",
              "</tr>\n",
              "<tr>\n",
              "  <td class='test'>\n",
              "    Definir una variable I tipo set\n",
              "    <div class='message'>Done</div>\n",
              "  </td>\n",
              "  <td class='result passed'></td>\n",
              "</tr>\n",
              "<tr>\n",
              "  <td class='test'>\n",
              "    La longitud de la tupla debe ser 5 \n",
              "    <div class='message'>Done</div>\n",
              "  </td>\n",
              "  <td class='result passed'></td>\n",
              "</tr>\n",
              "<tr>\n",
              "  <td class='test'>\n",
              "    10 primeros números de Bernulli\n",
              "    <div class='message'>Done</div>\n",
              "  </td>\n",
              "  <td class='result passed'></td>\n",
              "</tr>\n",
              "<tr>\n",
              "  <td class='test'>\n",
              "    20 primeros numeros naturales \n",
              "    <div class='message'>Done</div>\n",
              "  </td>\n",
              "  <td class='result passed'></td>\n",
              "</tr>\n",
              "<tr>\n",
              "  <td class='test'>\n",
              "    union \n",
              "    <div class='message'>Done</div>\n",
              "  </td>\n",
              "  <td class='result passed'></td>\n",
              "</tr>\n",
              "<tr>\n",
              "  <td class='test'>\n",
              "    Calcule la interseccion \n",
              "    <div class='message'>Done</div>\n",
              "  </td>\n",
              "  <td class='result passed'></td>\n",
              "</tr>  <tr><th class='score'>Total Points</th><th class='score'>9</th></tr></table>\n"
            ]
          },
          "metadata": {}
        }
      ]
    },
    {
      "cell_type": "markdown",
      "source": [
        "\n",
        "\n",
        "\n",
        "\n",
        "\n",
        "\n",
        "\n",
        "\n",
        "\n",
        "\n",
        "\n",
        "\n",
        "\n",
        "\n",
        "###  Diccionarios \n",
        "20.0 Construi un diccionario con 5 elementos cuya clave es el nombre del autor y valor el nombre del libro. Almacenarlo en una variable dicc.\n",
        "\n",
        "\n",
        "\n"
      ],
      "metadata": {
        "id": "HWfazmVWTq1T"
      }
    },
    {
      "cell_type": "code",
      "source": [
        "dicc = {\"Garcia\": \"Cien años de soledad\", 'Semanzky':'Física Universitaria', 'Galeano':'El libro de los abrazos','Paulo':'Alquimista','Davinci':'El codigo'}"
      ],
      "metadata": {
        "id": "2aOgxXl33u4h"
      },
      "execution_count": null,
      "outputs": []
    },
    {
      "cell_type": "code",
      "source": [
        "%run -i autogrades/example/libs/Lab_autotesting01/test07.py"
      ],
      "metadata": {
        "colab": {
          "base_uri": "https://localhost:8080/",
          "height": 175
        },
        "id": "yfHkEyXV6DjL",
        "outputId": "7cb03495-06ba-4310-d458-3d56fa56e7ba"
      },
      "execution_count": null,
      "outputs": [
        {
          "output_type": "display_data",
          "data": {
            "text/plain": [
              "<IPython.core.display.HTML object>"
            ],
            "text/html": [
              "<style>\n",
              "  table { text-align: left; border-collapse: collapse; margin: 1em; caption-side: bottom; font-family: Sans-Serif; font-size: 12px}\n",
              "  caption { text-align: left; padding: 5px }\n",
              "  th, td { border: 2px solid #BFC9CA; padding: 5px }\n",
              "  th { background-color: #BFC9CA }\n",
              "  .passed { background-color: #76D7C4 }\n",
              "  .failed { background-color: #EC7063 }\n",
              "  .skipped { background-color: #EDBB99 }\n",
              "  .score { background-color: #7DCEA0 }\n",
              "  .results .points { display: none }\n",
              "  .results .message { display: block; font-size:smaller; color:#D35400 }\n",
              "  .results .note { display: block; font-size:smaller; font-decoration:italics }\n",
              "  .results .passed::before  { content: \"Passed\" } \n",
              "  .results .skipped::before  { content: \"Skipped\" } \n",
              "  .results .failed::before  { content: \"Failed\" } \n",
              "  .grade .passed  .message:empty::before { content:\"Passed\" }\n",
              "  .grade .failed  .message:empty::before { content:\"Failed\" }\n",
              "  .grade .skipped .message:empty::before { content:\"Skipped\" }   \n",
              "</style>\n",
              "<table class='results'>\n",
              "  <th class='test'>Test</th><th class='result'>Result</th></tr>\n",
              "<tr>\n",
              "  <td class='test'>\n",
              "    Definir una variable dicc tipo diccionario\n",
              "    <div class='message'>Done</div>\n",
              "  </td>\n",
              "  <td class='result passed'></td>\n",
              "</tr>\n",
              "<tr>\n",
              "  <td class='test'>\n",
              "    la longitud del diccionario debe ser 5 \n",
              "    <div class='message'>Done</div>\n",
              "  </td>\n",
              "  <td class='result passed'></td>\n",
              "</tr>  <tr><th class='score'>Total Points</th><th class='score'>2</th></tr></table>\n"
            ]
          },
          "metadata": {}
        }
      ]
    },
    {
      "cell_type": "markdown",
      "source": [
        "\n",
        "####  Ciclos y condicionales \n",
        "\n",
        "21.0  Cálculo de $\\pi$. Empleando la siguiente seria :\n",
        "\n",
        "\\begin{equation}\n",
        "\\frac{\\pi}{4} = 1 -\\frac{1}{3}+-\\frac{1}{5}-\\frac{1}{7}+\\frac{1}{9}-...\n",
        "\\end{equation}\n",
        "\n",
        "Construya una función llamada pi_number en el que entrado el valor de k,(número de términos de la serie ) calcule el valor de pi. Si k es negativo deberá retornar un error como una variable tipo string.\n",
        "\n",
        "Ejemplo de ecución:\n",
        "```python\n",
        "pi_number(10)\n",
        "```"
      ],
      "metadata": {
        "id": "7g0xWN387wOo"
      }
    },
    {
      "cell_type": "code",
      "source": [
        "def pi_number(k):\n",
        "  if k < 0:\n",
        "    return (\"Las series solo admiten números enteros positivos.\")\n",
        "  elif k == 0:\n",
        "    pi = 0\n",
        "    return pi\n",
        "  elif k == 1:\n",
        "    pi = 4\n",
        "    return pi \n",
        "  else:\n",
        "    a = 1\n",
        "    n = 1\n",
        "    terminos_serie = []\n",
        "    for i in range(1,k+1):\n",
        "      n = n+1\n",
        "      termino = (-1)**n*(1/a) #Se cálcula cada término de la serie y se agrega a una lista.\n",
        "      terminos_serie.append(termino) #Se agrega cada término a una lista.\n",
        "      a = a+2  \n",
        "    pi = 4*sum(terminos_serie) #Hacemos la sumatoria de los términos de la serie y se multiplica por 4 para obtener pi.\n",
        "    return pi"
      ],
      "metadata": {
        "id": "64CSdehgbqOQ"
      },
      "execution_count": null,
      "outputs": []
    },
    {
      "cell_type": "code",
      "source": [
        "print(pi_number(10000))"
      ],
      "metadata": {
        "id": "25PTMoaXb1xh",
        "colab": {
          "base_uri": "https://localhost:8080/"
        },
        "outputId": "719b64d8-7003-44fc-acce-ab50b9605865"
      },
      "execution_count": null,
      "outputs": [
        {
          "output_type": "stream",
          "name": "stdout",
          "text": [
            "3.1414926535900345\n"
          ]
        }
      ]
    },
    {
      "cell_type": "code",
      "source": [
        "%run -i autogrades/example/libs/Lab_autotesting01/test08.py"
      ],
      "metadata": {
        "id": "OEACMhp6BS2k",
        "outputId": "2d5f2477-c9e0-41c5-e022-cbab0a2f18f0",
        "colab": {
          "base_uri": "https://localhost:8080/",
          "height": 175
        }
      },
      "execution_count": null,
      "outputs": [
        {
          "output_type": "display_data",
          "data": {
            "text/plain": [
              "<IPython.core.display.HTML object>"
            ],
            "text/html": [
              "<style>\n",
              "  table { text-align: left; border-collapse: collapse; margin: 1em; caption-side: bottom; font-family: Sans-Serif; font-size: 12px}\n",
              "  caption { text-align: left; padding: 5px }\n",
              "  th, td { border: 2px solid #BFC9CA; padding: 5px }\n",
              "  th { background-color: #BFC9CA }\n",
              "  .passed { background-color: #76D7C4 }\n",
              "  .failed { background-color: #EC7063 }\n",
              "  .skipped { background-color: #EDBB99 }\n",
              "  .score { background-color: #7DCEA0 }\n",
              "  .results .points { display: none }\n",
              "  .results .message { display: block; font-size:smaller; color:#D35400 }\n",
              "  .results .note { display: block; font-size:smaller; font-decoration:italics }\n",
              "  .results .passed::before  { content: \"Passed\" } \n",
              "  .results .skipped::before  { content: \"Skipped\" } \n",
              "  .results .failed::before  { content: \"Failed\" } \n",
              "  .grade .passed  .message:empty::before { content:\"Passed\" }\n",
              "  .grade .failed  .message:empty::before { content:\"Failed\" }\n",
              "  .grade .skipped .message:empty::before { content:\"Skipped\" }   \n",
              "</style>\n",
              "<table class='results'>\n",
              "  <th class='test'>Test</th><th class='result'>Result</th></tr>\n",
              "<tr>\n",
              "  <td class='test'>\n",
              "    Crear una funcion que calcule el numero pi\n",
              "    <div class='message'>Done</div>\n",
              "  </td>\n",
              "  <td class='result passed'></td>\n",
              "</tr>\n",
              "<tr>\n",
              "  <td class='test'>\n",
              "    Prueba para valores negativos \n",
              "    <div class='message'>Done</div>\n",
              "  </td>\n",
              "  <td class='result passed'></td>\n",
              "</tr>  <tr><th class='score'>Total Points</th><th class='score'>2</th></tr></table>\n"
            ]
          },
          "metadata": {}
        }
      ]
    }
  ]
}