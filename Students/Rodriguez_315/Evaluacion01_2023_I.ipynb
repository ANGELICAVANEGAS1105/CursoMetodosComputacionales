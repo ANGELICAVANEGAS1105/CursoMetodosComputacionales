{
  "nbformat": 4,
  "nbformat_minor": 0,
  "metadata": {
    "colab": {
      "provenance": []
    },
    "kernelspec": {
      "name": "python3",
      "display_name": "Python 3"
    },
    "language_info": {
      "name": "python"
    }
  },
  "cells": [
    {
      "cell_type": "markdown",
      "source": [
        "<a href=\"https://github.com/hernansalinas/autogrades/tree/main/Evaluaciones/Evaluacion01_2023_I.ipynb\" target=\"_parent\"><img src=\"https://colab.research.google.com/assets/colab-badge.svg\" alt=\"Open In Colab\"/></a>\n"
      ],
      "metadata": {
        "id": "8ip-OkFt90Vf"
      }
    },
    {
      "cell_type": "markdown",
      "source": [
        "\n",
        "# Parcial 01: Metodos computacionales para fisicos \n",
        "### Fecha 3/30/23\n",
        "\n",
        "La entrega del examen es a través del github en la página del curso, en el directorio asociado a cada uno. \n",
        "\n",
        "## 1. (50%). Movimiento de una esfera de radio r en un fluido.\n",
        "\n",
        " Una esfera de radio $R$ que asciende o desciende por un fluido puede ser modelada a través de un modelo de partícula, sometida a tres fuerzas: el peso, el empuje y la fuerza rozamiento. Las  ecuaciones de posición (x) y velocidad (v) para un sistema de refencia úbicado en la base del fluido, pueden ser escritas como:\n",
        "\n",
        "\\begin{equation}\n",
        "x = \\frac{G}{\\alpha} \\left( 1+\\frac{\\alpha v_0}{G} \\right)(1-e^{-\\alpha t}) - \\frac{G}{\\alpha}t\n",
        "\\end{equation}\n",
        "\n",
        "\\begin{equation}\n",
        "v= \\left ( v_0 +\\frac{G}{\\alpha} \\right )e^{-\\alpha t} - \\frac{G}{\\alpha}\n",
        "\\end{equation}\n",
        "\n",
        "\n",
        "\n",
        "donde $G=\\left( 1-\\frac{\\rho_f}{\\rho} \\right)g$, con $\\rho_f$, $\\rho$ la densidad del fluido y la esfera respectivamente y $g=9.8$ la aceleración de la gravedad y $\\alpha$  una constante que depende del radio de la esfera, la viscosidad y la densidad.\n",
        "$\\alpha=\\frac{9\\eta}{2R^2\\rho}$.\n",
        "\n",
        "Suponga que una esferita de radio $R=2\\times10^{-5}m$ es lanzada verticalmente hacia arriba en el agua, con una rapidez de $v_0=0.01$m/s.\n",
        "Tomando la densidad del agua en  $\\rho_f =1000 kg/m^3$,  la densidad de la esfera en $\\rho=2670 kg/m^3$ y la viscosidad en $\\eta=0.001 kg/ms$.  Determine: \n",
        "\n",
        "1. El tiempo total en que la esfera asciende  y desciende. \n",
        "\n",
        "2. Determine la rapidez final, con la que llega nuevamente de donde fue lanzada. \n",
        "\n",
        "\n",
        "\n",
        "Para ello construya un programa en python que:\n",
        "- Permita calcular la posición como función del tiempo\n",
        "- Permita calcular la rapidez como función del tiempo\n",
        "- Cálcule  el tiempo total de subida y bajada empleando el método de la secante.\n",
        "\n",
        " \n",
        "\n",
        "\n",
        "\n",
        "\n"
      ],
      "metadata": {
        "id": "Z0hjB-L8iuVi"
      }
    },
    {
      "cell_type": "code",
      "source": [
        "import numpy as np\n",
        "import matplotlib.pyplot as plt\n",
        "import scipy as sp\n",
        "import pandas as pd"
      ],
      "metadata": {
        "id": "qz7yuOktfm8h"
      },
      "execution_count": 47,
      "outputs": []
    },
    {
      "cell_type": "code",
      "source": [
        "#Primero vamos a definir las funciones de posición y velocidad\n",
        "#Definamos las variables iniciales:\n",
        "densidadAgua = 1000\n",
        "densidadEsfera = 2670\n",
        "viscosidad = 0.001\n",
        "R = 2E-5\n",
        "v0 = 0.01\n",
        "g = 9.8\n",
        "G_ = (1-densidadAgua/densidadEsfera)*g\n",
        "alpha_ = (9*viscosidad)/(2*(R**2)*densidadEsfera)\n",
        "#Definamos la función de la posición en función del tiempo\n",
        "def posicion(t,G = G_,alpha = alpha_):\n",
        "  return (G/(alpha**2))*(1 + (alpha*v0/G))*(1 - np.exp(-alpha*t)) - (G/alpha)*t\n",
        "\n",
        "#Definamos la función de la rapidez en función del tiempo.\n",
        "def velocidad(t, G = G_, alpha = alpha_):\n",
        "  return (v0 + (G/alpha))*np.exp(-alpha*t) - (G/alpha)"
      ],
      "metadata": {
        "id": "6MBpS-wSehfK"
      },
      "execution_count": 32,
      "outputs": []
    },
    {
      "cell_type": "markdown",
      "source": [
        "Realicemos una gráfica de posición vs tiempo para tener una idea general de la trayectoria de la esfera"
      ],
      "metadata": {
        "id": "W-FPv0ZFik1Z"
      }
    },
    {
      "cell_type": "code",
      "source": [
        "tiempo = np.linspace(0,0.01)\n",
        "y = posicion(tiempo)\n",
        "plt.figure(figsize=(6,4))\n",
        "plt.plot(tiempo,y,color='green',)\n",
        "plt.title('Posición vs Tiempo')\n",
        "plt.xlabel('Tiempo')\n",
        "plt.ylabel('Posición')\n",
        "plt.grid()\n",
        "plt.show()"
      ],
      "metadata": {
        "colab": {
          "base_uri": "https://localhost:8080/",
          "height": 411
        },
        "id": "a9-_MsnsgO36",
        "outputId": "13575333-543d-4752-a2ed-e32f8f5baa16"
      },
      "execution_count": 105,
      "outputs": [
        {
          "output_type": "display_data",
          "data": {
            "text/plain": [
              "<Figure size 600x400 with 1 Axes>"
            ],
            "image/png": "[encoded data removed]"
          },
          "metadata": {}
        }
      ]
    },
    {
      "cell_type": "markdown",
      "source": [
        "1. Calcular el tiempo total en que la esfera asciende y desciende.\n",
        "\n",
        "Para esto, vamos a tomar el tiempo cuando la posición es nuevamente cero.\n",
        "Como vemos en la gráfica, un punto cercano al cero es $0.02$ por lo que vamos a tomar este punto para hallar la raíz de la función, es decir, el punto donde $x = 0$"
      ],
      "metadata": {
        "id": "6MwOdlvZkxCY"
      }
    },
    {
      "cell_type": "code",
      "source": [
        "tiempoTotal = round(sp.optimize.newton(posicion,0.02),5)\n",
        "print(f'El tiempo total en que la esfera asciende y desciende es de: {tiempoTotal} segundos')"
      ],
      "metadata": {
        "colab": {
          "base_uri": "https://localhost:8080/"
        },
        "id": "RuX3I4EBkouB",
        "outputId": "6ba7fc09-78cb-4f8f-fb11-076d794055d6"
      },
      "execution_count": 117,
      "outputs": [
        {
          "output_type": "stream",
          "name": "stdout",
          "text": [
            "El tiempo total en que la esfera asciende y desciende es de: 0.00187 segundos\n"
          ]
        }
      ]
    },
    {
      "cell_type": "markdown",
      "source": [
        "2. Determine la rapidez final, con la que llega nuevamente de donde fue lanzada. \\\n",
        "\n",
        "Para esto, evaluamos la función de la velocidad en el tiempo máximo hallado en el numeral 1."
      ],
      "metadata": {
        "id": "L8W4Y_jqmT-5"
      }
    },
    {
      "cell_type": "code",
      "source": [
        "rapidezFinal = round(abs(velocidad(tiempoTotal)),5)\n",
        "print(f'La rapidez final es {rapidezFinal} m/s')"
      ],
      "metadata": {
        "colab": {
          "base_uri": "https://localhost:8080/"
        },
        "id": "GLFf3LGYmUlA",
        "outputId": "de28264b-7231-42c3-a7fb-215b487d1b95"
      },
      "execution_count": 118,
      "outputs": [
        {
          "output_type": "stream",
          "name": "stdout",
          "text": [
            "La rapidez final es 0.00145 m/s\n"
          ]
        }
      ]
    },
    {
      "cell_type": "markdown",
      "source": [
        "Despreciamos el menos que sale de la expresión de velocidad por ser una magnitud"
      ],
      "metadata": {
        "id": "MBqaTinqvjAK"
      }
    },
    {
      "cell_type": "markdown",
      "source": [
        "## 2. (50%). Interpolación\n",
        "Para los siguientes datos de temperatura media como función del tiempo de los últimos años de  Bogotá y Barcelona ([Temperature_Bogota_Barcelona](https://raw.githubusercontent.com/hernansalinas/autogrades/main/Evaluaciones/dataset/Temperature_Bogota_Barcelona.csv)). Aplique el método de  hermite y spline cúbicos. Para ello realice lo siguiente:\n",
        "\n",
        "1. Leer el dataset desde la url, con el comando pd.read_csv.\n",
        "2. Adicionar una nueva columna AvgTempCelcius con la temperatura en grados celcius. $ C=(F-32)/1.8$\n",
        "3. Realizar un gráfico de AvgTempCelcius como función del año para la ciudad de Bogotá.\n",
        "4. Realizar un gráfico de AvgTempCelcius como función del año para la ciudad de Barcelona.\n",
        "4. Aplique el  metodos de interpolación de hermite para Bogotá y el metodo de interpolación de splines cubicos para Barcelona. \n",
        "\n",
        "\n",
        "Ayuda :\n",
        "\n",
        "| Comando | Descripción |\n",
        "| --- | --- |\n",
        "| pd.read_csv() | Lee un archivo CSV y lo convierte en un DataFrame de Pandas |\n",
        "| pd.read_excel() | Lee un archivo de Excel y lo convierte en un DataFrame de Pandas |\n",
        "| pd.read_json() | Lee un archivo JSON y lo convierte en un DataFrame de Pandas |\n",
        "| df.head() | Muestra las primeras filas del DataFrame |\n",
        "| df.tail() | Muestra las últimas filas del DataFrame |\n",
        "| df.info() | Muestra información sobre el DataFrame |\n",
        "| df.describe() | Muestra estadísticas descriptivas del DataFrame |\n",
        "| df.dropna() | Elimina filas con valores faltantes |\n",
        "| df.drop_duplicates() | Elimina filas duplicadas |\n",
        "| df.groupby() | Agrupa el DataFrame por una o más columnas |\n",
        "| df.sort_values() | Ordena el DataFrame por una o más columnas |\n",
        "| df.to_csv() | Guarda el DataFrame como un archivo CSV |\n",
        "| df.loc[condicion] | Crea una máscara booleana para seleccionar filas que cumplan con ciertas condiciones |\n",
        "| df[df[\"columna\"]== x] | Crea una máscara booleana y a la aplica al dataframe en caso de el valor de la columna coincida con la variable |\n",
        "\n",
        "\n",
        "Referencias: \n",
        "\n",
        "- Dataset tomado y modificado de : https://www.kaggle.com/sudalairajkumar/daily-temperature-of-major-cities\n",
        "\n",
        "- http://www.sc.ehu.es/sbweb/fisica3/fluidos/stokes_1/stokes_1.html\n",
        "- Lindemuth J. The effect of air resistance on falling balls. Am. J. Phys. 39, July 1971, pp. 757-759"
      ],
      "metadata": {
        "id": "x8_5Divhegga"
      }
    },
    {
      "cell_type": "markdown",
      "source": [
        "1. Leer el dataset desde la url, con el comando pd.read_csv.\n"
      ],
      "metadata": {
        "id": "cvqdakyhnf8t"
      }
    },
    {
      "cell_type": "code",
      "source": [
        "url = 'https://raw.githubusercontent.com/hernansalinas/autogrades/main/Evaluaciones/dataset/Temperature_Bogota_Barcelona.csv'\n",
        "df = pd.read_csv(url)\n",
        "df.head()"
      ],
      "metadata": {
        "id": "k3VfGk_vJKAS",
        "colab": {
          "base_uri": "https://localhost:8080/",
          "height": 206
        },
        "outputId": "d97cb293-b1dc-44cb-c0b3-58701c76ee45"
      },
      "execution_count": 66,
      "outputs": [
        {
          "output_type": "execute_result",
          "data": {
            "text/plain": [
              "   Unnamed: 0  Year       City     Month        Day  AvgTemperature\n",
              "0           0  1995  Barcelona  6.526027  15.720548       62.019178\n",
              "1           1  1995     Bogota  6.526027  15.720548       54.963014\n",
              "2           2  1996  Barcelona  6.513661  15.756831       61.125956\n",
              "3           3  1996     Bogota  6.513661  15.756831       55.083333\n",
              "4           4  1997  Barcelona  6.526027  15.720548       62.612329"
            ],
            "text/html": [
              "\n",
              "  <div id=\"df-fa700ae2-a281-49aa-972d-cbaae8627cae\">\n",
              "    <div class=\"colab-df-container\">\n",
              "      <div>\n",
              "<style scoped>\n",
              "    .dataframe tbody tr th:only-of-type {\n",
              "        vertical-align: middle;\n",
              "    }\n",
              "\n",
              "    .dataframe tbody tr th {\n",
              "        vertical-align: top;\n",
              "    }\n",
              "\n",
              "    .dataframe thead th {\n",
              "        text-align: right;\n",
              "    }\n",
              "</style>\n",
              "<table border=\"1\" class=\"dataframe\">\n",
              "  <thead>\n",
              "    <tr style=\"text-align: right;\">\n",
              "      <th></th>\n",
              "      <th>Unnamed: 0</th>\n",
              "      <th>Year</th>\n",
              "      <th>City</th>\n",
              "      <th>Month</th>\n",
              "      <th>Day</th>\n",
              "      <th>AvgTemperature</th>\n",
              "    </tr>\n",
              "  </thead>\n",
              "  <tbody>\n",
              "    <tr>\n",
              "      <th>0</th>\n",
              "      <td>0</td>\n",
              "      <td>1995</td>\n",
              "      <td>Barcelona</td>\n",
              "      <td>6.526027</td>\n",
              "      <td>15.720548</td>\n",
              "      <td>62.019178</td>\n",
              "    </tr>\n",
              "    <tr>\n",
              "      <th>1</th>\n",
              "      <td>1</td>\n",
              "      <td>1995</td>\n",
              "      <td>Bogota</td>\n",
              "      <td>6.526027</td>\n",
              "      <td>15.720548</td>\n",
              "      <td>54.963014</td>\n",
              "    </tr>\n",
              "    <tr>\n",
              "      <th>2</th>\n",
              "      <td>2</td>\n",
              "      <td>1996</td>\n",
              "      <td>Barcelona</td>\n",
              "      <td>6.513661</td>\n",
              "      <td>15.756831</td>\n",
              "      <td>61.125956</td>\n",
              "    </tr>\n",
              "    <tr>\n",
              "      <th>3</th>\n",
              "      <td>3</td>\n",
              "      <td>1996</td>\n",
              "      <td>Bogota</td>\n",
              "      <td>6.513661</td>\n",
              "      <td>15.756831</td>\n",
              "      <td>55.083333</td>\n",
              "    </tr>\n",
              "    <tr>\n",
              "      <th>4</th>\n",
              "      <td>4</td>\n",
              "      <td>1997</td>\n",
              "      <td>Barcelona</td>\n",
              "      <td>6.526027</td>\n",
              "      <td>15.720548</td>\n",
              "      <td>62.612329</td>\n",
              "    </tr>\n",
              "  </tbody>\n",
              "</table>\n",
              "</div>\n",
              "      <button class=\"colab-df-convert\" onclick=\"convertToInteractive('df-fa700ae2-a281-49aa-972d-cbaae8627cae')\"\n",
              "              title=\"Convert this dataframe to an interactive table.\"\n",
              "              style=\"display:none;\">\n",
              "        \n",
              "  <svg xmlns=\"http://www.w3.org/2000/svg\" height=\"24px\"viewBox=\"0 0 24 24\"\n",
              "       width=\"24px\">\n",
              "    <path d=\"M0 0h24v24H0V0z\" fill=\"none\"/>\n",
              "    <path d=\"M18.56 5.44l.94 2.06.94-2.06 2.06-.94-2.06-.94-.94-2.06-.94 2.06-2.06.94zm-11 1L8.5 8.5l.94-2.06 2.06-.94-2.06-.94L8.5 2.5l-.94 2.06-2.06.94zm10 10l.94 2.06.94-2.06 2.06-.94-2.06-.94-.94-2.06-.94 2.06-2.06.94z\"/><path d=\"M17.41 7.96l-1.37-1.37c-.4-.4-.92-.59-1.43-.59-.52 0-1.04.2-1.43.59L10.3 9.45l-7.72 7.72c-.78.78-.78 2.05 0 2.83L4 21.41c.39.39.9.59 1.41.59.51 0 1.02-.2 1.41-.59l7.78-7.78 2.81-2.81c.8-.78.8-2.07 0-2.86zM5.41 20L4 18.59l7.72-7.72 1.47 1.35L5.41 20z\"/>\n",
              "  </svg>\n",
              "      </button>\n",
              "      \n",
              "  <style>\n",
              "    .colab-df-container {\n",
              "      display:flex;\n",
              "      flex-wrap:wrap;\n",
              "      gap: 12px;\n",
              "    }\n",
              "\n",
              "    .colab-df-convert {\n",
              "      background-color: #E8F0FE;\n",
              "      border: none;\n",
              "      border-radius: 50%;\n",
              "      cursor: pointer;\n",
              "      display: none;\n",
              "      fill: #1967D2;\n",
              "      height: 32px;\n",
              "      padding: 0 0 0 0;\n",
              "      width: 32px;\n",
              "    }\n",
              "\n",
              "    .colab-df-convert:hover {\n",
              "      background-color: #E2EBFA;\n",
              "      box-shadow: 0px 1px 2px rgba(60, 64, 67, 0.3), 0px 1px 3px 1px rgba(60, 64, 67, 0.15);\n",
              "      fill: #174EA6;\n",
              "    }\n",
              "\n",
              "    [theme=dark] .colab-df-convert {\n",
              "      background-color: #3B4455;\n",
              "      fill: #D2E3FC;\n",
              "    }\n",
              "\n",
              "    [theme=dark] .colab-df-convert:hover {\n",
              "      background-color: #434B5C;\n",
              "      box-shadow: 0px 1px 3px 1px rgba(0, 0, 0, 0.15);\n",
              "      filter: drop-shadow(0px 1px 2px rgba(0, 0, 0, 0.3));\n",
              "      fill: #FFFFFF;\n",
              "    }\n",
              "  </style>\n",
              "\n",
              "      <script>\n",
              "        const buttonEl =\n",
              "          document.querySelector('#df-fa700ae2-a281-49aa-972d-cbaae8627cae button.colab-df-convert');\n",
              "        buttonEl.style.display =\n",
              "          google.colab.kernel.accessAllowed ? 'block' : 'none';\n",
              "\n",
              "        async function convertToInteractive(key) {\n",
              "          const element = document.querySelector('#df-fa700ae2-a281-49aa-972d-cbaae8627cae');\n",
              "          const dataTable =\n",
              "            await google.colab.kernel.invokeFunction('convertToInteractive',\n",
              "                                                     [key], {});\n",
              "          if (!dataTable) return;\n",
              "\n",
              "          const docLinkHtml = 'Like what you see? Visit the ' +\n",
              "            '<a target=\"_blank\" href=https://colab.research.google.com/notebooks/data_table.ipynb>data table notebook</a>'\n",
              "            + ' to learn more about interactive tables.';\n",
              "          element.innerHTML = '';\n",
              "          dataTable['output_type'] = 'display_data';\n",
              "          await google.colab.output.renderOutput(dataTable, element);\n",
              "          const docLink = document.createElement('div');\n",
              "          docLink.innerHTML = docLinkHtml;\n",
              "          element.appendChild(docLink);\n",
              "        }\n",
              "      </script>\n",
              "    </div>\n",
              "  </div>\n",
              "  "
            ]
          },
          "metadata": {},
          "execution_count": 66
        }
      ]
    },
    {
      "cell_type": "markdown",
      "source": [
        "2. Adicionar una nueva columna AvgTempCelcius con la temperatura en grados celcius. $ C=(F-32)/1.8$"
      ],
      "metadata": {
        "id": "jMZFU6MXoJpJ"
      }
    },
    {
      "cell_type": "code",
      "source": [
        "df['AvgTempCelcius'] = (df['AvgTemperature']-32)/1.8\n",
        "df.head()"
      ],
      "metadata": {
        "colab": {
          "base_uri": "https://localhost:8080/",
          "height": 206
        },
        "id": "8W_GpCgnoLH0",
        "outputId": "04becc6e-3ae6-4ee0-bdff-ca5fab2aeb91"
      },
      "execution_count": 67,
      "outputs": [
        {
          "output_type": "execute_result",
          "data": {
            "text/plain": [
              "   Unnamed: 0  Year       City     Month        Day  AvgTemperature  \\\n",
              "0           0  1995  Barcelona  6.526027  15.720548       62.019178   \n",
              "1           1  1995     Bogota  6.526027  15.720548       54.963014   \n",
              "2           2  1996  Barcelona  6.513661  15.756831       61.125956   \n",
              "3           3  1996     Bogota  6.513661  15.756831       55.083333   \n",
              "4           4  1997  Barcelona  6.526027  15.720548       62.612329   \n",
              "\n",
              "   AvgTempCelcius  \n",
              "0       16.677321  \n",
              "1       12.757230  \n",
              "2       16.181087  \n",
              "3       12.824074  \n",
              "4       17.006849  "
            ],
            "text/html": [
              "\n",
              "  <div id=\"df-8fc0c171-b1d8-4005-905b-af97f9a30d1d\">\n",
              "    <div class=\"colab-df-container\">\n",
              "      <div>\n",
              "<style scoped>\n",
              "    .dataframe tbody tr th:only-of-type {\n",
              "        vertical-align: middle;\n",
              "    }\n",
              "\n",
              "    .dataframe tbody tr th {\n",
              "        vertical-align: top;\n",
              "    }\n",
              "\n",
              "    .dataframe thead th {\n",
              "        text-align: right;\n",
              "    }\n",
              "</style>\n",
              "<table border=\"1\" class=\"dataframe\">\n",
              "  <thead>\n",
              "    <tr style=\"text-align: right;\">\n",
              "      <th></th>\n",
              "      <th>Unnamed: 0</th>\n",
              "      <th>Year</th>\n",
              "      <th>City</th>\n",
              "      <th>Month</th>\n",
              "      <th>Day</th>\n",
              "      <th>AvgTemperature</th>\n",
              "      <th>AvgTempCelcius</th>\n",
              "    </tr>\n",
              "  </thead>\n",
              "  <tbody>\n",
              "    <tr>\n",
              "      <th>0</th>\n",
              "      <td>0</td>\n",
              "      <td>1995</td>\n",
              "      <td>Barcelona</td>\n",
              "      <td>6.526027</td>\n",
              "      <td>15.720548</td>\n",
              "      <td>62.019178</td>\n",
              "      <td>16.677321</td>\n",
              "    </tr>\n",
              "    <tr>\n",
              "      <th>1</th>\n",
              "      <td>1</td>\n",
              "      <td>1995</td>\n",
              "      <td>Bogota</td>\n",
              "      <td>6.526027</td>\n",
              "      <td>15.720548</td>\n",
              "      <td>54.963014</td>\n",
              "      <td>12.757230</td>\n",
              "    </tr>\n",
              "    <tr>\n",
              "      <th>2</th>\n",
              "      <td>2</td>\n",
              "      <td>1996</td>\n",
              "      <td>Barcelona</td>\n",
              "      <td>6.513661</td>\n",
              "      <td>15.756831</td>\n",
              "      <td>61.125956</td>\n",
              "      <td>16.181087</td>\n",
              "    </tr>\n",
              "    <tr>\n",
              "      <th>3</th>\n",
              "      <td>3</td>\n",
              "      <td>1996</td>\n",
              "      <td>Bogota</td>\n",
              "      <td>6.513661</td>\n",
              "      <td>15.756831</td>\n",
              "      <td>55.083333</td>\n",
              "      <td>12.824074</td>\n",
              "    </tr>\n",
              "    <tr>\n",
              "      <th>4</th>\n",
              "      <td>4</td>\n",
              "      <td>1997</td>\n",
              "      <td>Barcelona</td>\n",
              "      <td>6.526027</td>\n",
              "      <td>15.720548</td>\n",
              "      <td>62.612329</td>\n",
              "      <td>17.006849</td>\n",
              "    </tr>\n",
              "  </tbody>\n",
              "</table>\n",
              "</div>\n",
              "      <button class=\"colab-df-convert\" onclick=\"convertToInteractive('df-8fc0c171-b1d8-4005-905b-af97f9a30d1d')\"\n",
              "              title=\"Convert this dataframe to an interactive table.\"\n",
              "              style=\"display:none;\">\n",
              "        \n",
              "  <svg xmlns=\"http://www.w3.org/2000/svg\" height=\"24px\"viewBox=\"0 0 24 24\"\n",
              "       width=\"24px\">\n",
              "    <path d=\"M0 0h24v24H0V0z\" fill=\"none\"/>\n",
              "    <path d=\"M18.56 5.44l.94 2.06.94-2.06 2.06-.94-2.06-.94-.94-2.06-.94 2.06-2.06.94zm-11 1L8.5 8.5l.94-2.06 2.06-.94-2.06-.94L8.5 2.5l-.94 2.06-2.06.94zm10 10l.94 2.06.94-2.06 2.06-.94-2.06-.94-.94-2.06-.94 2.06-2.06.94z\"/><path d=\"M17.41 7.96l-1.37-1.37c-.4-.4-.92-.59-1.43-.59-.52 0-1.04.2-1.43.59L10.3 9.45l-7.72 7.72c-.78.78-.78 2.05 0 2.83L4 21.41c.39.39.9.59 1.41.59.51 0 1.02-.2 1.41-.59l7.78-7.78 2.81-2.81c.8-.78.8-2.07 0-2.86zM5.41 20L4 18.59l7.72-7.72 1.47 1.35L5.41 20z\"/>\n",
              "  </svg>\n",
              "      </button>\n",
              "      \n",
              "  <style>\n",
              "    .colab-df-container {\n",
              "      display:flex;\n",
              "      flex-wrap:wrap;\n",
              "      gap: 12px;\n",
              "    }\n",
              "\n",
              "    .colab-df-convert {\n",
              "      background-color: #E8F0FE;\n",
              "      border: none;\n",
              "      border-radius: 50%;\n",
              "      cursor: pointer;\n",
              "      display: none;\n",
              "      fill: #1967D2;\n",
              "      height: 32px;\n",
              "      padding: 0 0 0 0;\n",
              "      width: 32px;\n",
              "    }\n",
              "\n",
              "    .colab-df-convert:hover {\n",
              "      background-color: #E2EBFA;\n",
              "      box-shadow: 0px 1px 2px rgba(60, 64, 67, 0.3), 0px 1px 3px 1px rgba(60, 64, 67, 0.15);\n",
              "      fill: #174EA6;\n",
              "    }\n",
              "\n",
              "    [theme=dark] .colab-df-convert {\n",
              "      background-color: #3B4455;\n",
              "      fill: #D2E3FC;\n",
              "    }\n",
              "\n",
              "    [theme=dark] .colab-df-convert:hover {\n",
              "      background-color: #434B5C;\n",
              "      box-shadow: 0px 1px 3px 1px rgba(0, 0, 0, 0.15);\n",
              "      filter: drop-shadow(0px 1px 2px rgba(0, 0, 0, 0.3));\n",
              "      fill: #FFFFFF;\n",
              "    }\n",
              "  </style>\n",
              "\n",
              "      <script>\n",
              "        const buttonEl =\n",
              "          document.querySelector('#df-8fc0c171-b1d8-4005-905b-af97f9a30d1d button.colab-df-convert');\n",
              "        buttonEl.style.display =\n",
              "          google.colab.kernel.accessAllowed ? 'block' : 'none';\n",
              "\n",
              "        async function convertToInteractive(key) {\n",
              "          const element = document.querySelector('#df-8fc0c171-b1d8-4005-905b-af97f9a30d1d');\n",
              "          const dataTable =\n",
              "            await google.colab.kernel.invokeFunction('convertToInteractive',\n",
              "                                                     [key], {});\n",
              "          if (!dataTable) return;\n",
              "\n",
              "          const docLinkHtml = 'Like what you see? Visit the ' +\n",
              "            '<a target=\"_blank\" href=https://colab.research.google.com/notebooks/data_table.ipynb>data table notebook</a>'\n",
              "            + ' to learn more about interactive tables.';\n",
              "          element.innerHTML = '';\n",
              "          dataTable['output_type'] = 'display_data';\n",
              "          await google.colab.output.renderOutput(dataTable, element);\n",
              "          const docLink = document.createElement('div');\n",
              "          docLink.innerHTML = docLinkHtml;\n",
              "          element.appendChild(docLink);\n",
              "        }\n",
              "      </script>\n",
              "    </div>\n",
              "  </div>\n",
              "  "
            ]
          },
          "metadata": {},
          "execution_count": 67
        }
      ]
    },
    {
      "cell_type": "markdown",
      "source": [
        "3. Realizar un gráfico de AvgTempCelcius como función del año para la ciudad de Bogotá."
      ],
      "metadata": {
        "id": "STRUgQVwopYX"
      }
    },
    {
      "cell_type": "code",
      "source": [
        "#Definamos la máscara para obtener solo las filas que sean Bogotá\n",
        "mascara1 = df['City']=='Bogota'\n",
        "#Creemos un nuevo df para Bogotá\n",
        "bogota = df[mascara1]\n",
        "bogota.head()"
      ],
      "metadata": {
        "colab": {
          "base_uri": "https://localhost:8080/",
          "height": 206
        },
        "id": "MkAccp3Sop7P",
        "outputId": "6af4c34b-9a67-40f4-92fd-419d3c69bcb5"
      },
      "execution_count": 68,
      "outputs": [
        {
          "output_type": "execute_result",
          "data": {
            "text/plain": [
              "   Unnamed: 0  Year    City     Month        Day  AvgTemperature  \\\n",
              "1           1  1995  Bogota  6.526027  15.720548       54.963014   \n",
              "3           3  1996  Bogota  6.513661  15.756831       55.083333   \n",
              "5           5  1997  Bogota  6.526027  15.720548       56.231507   \n",
              "7           7  1998  Bogota  6.526027  15.720548       49.642466   \n",
              "9           9  1999  Bogota  6.526027  15.720548       52.231781   \n",
              "\n",
              "   AvgTempCelcius  \n",
              "1       12.757230  \n",
              "3       12.824074  \n",
              "5       13.461948  \n",
              "7        9.801370  \n",
              "9       11.239878  "
            ],
            "text/html": [
              "\n",
              "  <div id=\"df-4fca9d28-41e2-4372-89b0-b5024962c72c\">\n",
              "    <div class=\"colab-df-container\">\n",
              "      <div>\n",
              "<style scoped>\n",
              "    .dataframe tbody tr th:only-of-type {\n",
              "        vertical-align: middle;\n",
              "    }\n",
              "\n",
              "    .dataframe tbody tr th {\n",
              "        vertical-align: top;\n",
              "    }\n",
              "\n",
              "    .dataframe thead th {\n",
              "        text-align: right;\n",
              "    }\n",
              "</style>\n",
              "<table border=\"1\" class=\"dataframe\">\n",
              "  <thead>\n",
              "    <tr style=\"text-align: right;\">\n",
              "      <th></th>\n",
              "      <th>Unnamed: 0</th>\n",
              "      <th>Year</th>\n",
              "      <th>City</th>\n",
              "      <th>Month</th>\n",
              "      <th>Day</th>\n",
              "      <th>AvgTemperature</th>\n",
              "      <th>AvgTempCelcius</th>\n",
              "    </tr>\n",
              "  </thead>\n",
              "  <tbody>\n",
              "    <tr>\n",
              "      <th>1</th>\n",
              "      <td>1</td>\n",
              "      <td>1995</td>\n",
              "      <td>Bogota</td>\n",
              "      <td>6.526027</td>\n",
              "      <td>15.720548</td>\n",
              "      <td>54.963014</td>\n",
              "      <td>12.757230</td>\n",
              "    </tr>\n",
              "    <tr>\n",
              "      <th>3</th>\n",
              "      <td>3</td>\n",
              "      <td>1996</td>\n",
              "      <td>Bogota</td>\n",
              "      <td>6.513661</td>\n",
              "      <td>15.756831</td>\n",
              "      <td>55.083333</td>\n",
              "      <td>12.824074</td>\n",
              "    </tr>\n",
              "    <tr>\n",
              "      <th>5</th>\n",
              "      <td>5</td>\n",
              "      <td>1997</td>\n",
              "      <td>Bogota</td>\n",
              "      <td>6.526027</td>\n",
              "      <td>15.720548</td>\n",
              "      <td>56.231507</td>\n",
              "      <td>13.461948</td>\n",
              "    </tr>\n",
              "    <tr>\n",
              "      <th>7</th>\n",
              "      <td>7</td>\n",
              "      <td>1998</td>\n",
              "      <td>Bogota</td>\n",
              "      <td>6.526027</td>\n",
              "      <td>15.720548</td>\n",
              "      <td>49.642466</td>\n",
              "      <td>9.801370</td>\n",
              "    </tr>\n",
              "    <tr>\n",
              "      <th>9</th>\n",
              "      <td>9</td>\n",
              "      <td>1999</td>\n",
              "      <td>Bogota</td>\n",
              "      <td>6.526027</td>\n",
              "      <td>15.720548</td>\n",
              "      <td>52.231781</td>\n",
              "      <td>11.239878</td>\n",
              "    </tr>\n",
              "  </tbody>\n",
              "</table>\n",
              "</div>\n",
              "      <button class=\"colab-df-convert\" onclick=\"convertToInteractive('df-4fca9d28-41e2-4372-89b0-b5024962c72c')\"\n",
              "              title=\"Convert this dataframe to an interactive table.\"\n",
              "              style=\"display:none;\">\n",
              "        \n",
              "  <svg xmlns=\"http://www.w3.org/2000/svg\" height=\"24px\"viewBox=\"0 0 24 24\"\n",
              "       width=\"24px\">\n",
              "    <path d=\"M0 0h24v24H0V0z\" fill=\"none\"/>\n",
              "    <path d=\"M18.56 5.44l.94 2.06.94-2.06 2.06-.94-2.06-.94-.94-2.06-.94 2.06-2.06.94zm-11 1L8.5 8.5l.94-2.06 2.06-.94-2.06-.94L8.5 2.5l-.94 2.06-2.06.94zm10 10l.94 2.06.94-2.06 2.06-.94-2.06-.94-.94-2.06-.94 2.06-2.06.94z\"/><path d=\"M17.41 7.96l-1.37-1.37c-.4-.4-.92-.59-1.43-.59-.52 0-1.04.2-1.43.59L10.3 9.45l-7.72 7.72c-.78.78-.78 2.05 0 2.83L4 21.41c.39.39.9.59 1.41.59.51 0 1.02-.2 1.41-.59l7.78-7.78 2.81-2.81c.8-.78.8-2.07 0-2.86zM5.41 20L4 18.59l7.72-7.72 1.47 1.35L5.41 20z\"/>\n",
              "  </svg>\n",
              "      </button>\n",
              "      \n",
              "  <style>\n",
              "    .colab-df-container {\n",
              "      display:flex;\n",
              "      flex-wrap:wrap;\n",
              "      gap: 12px;\n",
              "    }\n",
              "\n",
              "    .colab-df-convert {\n",
              "      background-color: #E8F0FE;\n",
              "      border: none;\n",
              "      border-radius: 50%;\n",
              "      cursor: pointer;\n",
              "      display: none;\n",
              "      fill: #1967D2;\n",
              "      height: 32px;\n",
              "      padding: 0 0 0 0;\n",
              "      width: 32px;\n",
              "    }\n",
              "\n",
              "    .colab-df-convert:hover {\n",
              "      background-color: #E2EBFA;\n",
              "      box-shadow: 0px 1px 2px rgba(60, 64, 67, 0.3), 0px 1px 3px 1px rgba(60, 64, 67, 0.15);\n",
              "      fill: #174EA6;\n",
              "    }\n",
              "\n",
              "    [theme=dark] .colab-df-convert {\n",
              "      background-color: #3B4455;\n",
              "      fill: #D2E3FC;\n",
              "    }\n",
              "\n",
              "    [theme=dark] .colab-df-convert:hover {\n",
              "      background-color: #434B5C;\n",
              "      box-shadow: 0px 1px 3px 1px rgba(0, 0, 0, 0.15);\n",
              "      filter: drop-shadow(0px 1px 2px rgba(0, 0, 0, 0.3));\n",
              "      fill: #FFFFFF;\n",
              "    }\n",
              "  </style>\n",
              "\n",
              "      <script>\n",
              "        const buttonEl =\n",
              "          document.querySelector('#df-4fca9d28-41e2-4372-89b0-b5024962c72c button.colab-df-convert');\n",
              "        buttonEl.style.display =\n",
              "          google.colab.kernel.accessAllowed ? 'block' : 'none';\n",
              "\n",
              "        async function convertToInteractive(key) {\n",
              "          const element = document.querySelector('#df-4fca9d28-41e2-4372-89b0-b5024962c72c');\n",
              "          const dataTable =\n",
              "            await google.colab.kernel.invokeFunction('convertToInteractive',\n",
              "                                                     [key], {});\n",
              "          if (!dataTable) return;\n",
              "\n",
              "          const docLinkHtml = 'Like what you see? Visit the ' +\n",
              "            '<a target=\"_blank\" href=https://colab.research.google.com/notebooks/data_table.ipynb>data table notebook</a>'\n",
              "            + ' to learn more about interactive tables.';\n",
              "          element.innerHTML = '';\n",
              "          dataTable['output_type'] = 'display_data';\n",
              "          await google.colab.output.renderOutput(dataTable, element);\n",
              "          const docLink = document.createElement('div');\n",
              "          docLink.innerHTML = docLinkHtml;\n",
              "          element.appendChild(docLink);\n",
              "        }\n",
              "      </script>\n",
              "    </div>\n",
              "  </div>\n",
              "  "
            ]
          },
          "metadata": {},
          "execution_count": 68
        }
      ]
    },
    {
      "cell_type": "code",
      "source": [
        "#Ahora realizemos la gráfica\n",
        "x1 = bogota['Year']\n",
        "y1 = bogota['AvgTempCelcius']\n",
        "plt.figure(figsize=(6,4))\n",
        "plt.plot(x1,y1)\n",
        "plt.title('Temperatura vs Año Bogotá')\n",
        "plt.xlabel('Año')\n",
        "plt.ylabel('Temperatura')\n",
        "plt.grid()\n",
        "plt.show()"
      ],
      "metadata": {
        "colab": {
          "base_uri": "https://localhost:8080/",
          "height": 411
        },
        "id": "W04-kshNqF2X",
        "outputId": "091550f9-fd92-4fad-a9f6-f718e1261e56"
      },
      "execution_count": 108,
      "outputs": [
        {
          "output_type": "display_data",
          "data": {
            "text/plain": [
              "<Figure size 600x400 with 1 Axes>"
            ],
            "image/png": "[encoded data removed]"
          },
          "metadata": {}
        }
      ]
    },
    {
      "cell_type": "markdown",
      "source": [
        "4. Realizar un gráfico de AvgTempCelcius como función del año para la ciudad de Barcelona."
      ],
      "metadata": {
        "id": "YLDiz1CRqoZZ"
      }
    },
    {
      "cell_type": "code",
      "source": [
        "#Definamos la máscara para obtener solo las filas que sean Barcelona\n",
        "mascara2 = df['City']=='Barcelona'\n",
        "#Creemos un nuevo df para Bogotá\n",
        "barcelona = df[mascara2]\n",
        "barcelona.head()"
      ],
      "metadata": {
        "colab": {
          "base_uri": "https://localhost:8080/",
          "height": 206
        },
        "id": "G8SVhKCQqo_3",
        "outputId": "7a433074-6659-4185-8f4e-eedbab878f48"
      },
      "execution_count": 70,
      "outputs": [
        {
          "output_type": "execute_result",
          "data": {
            "text/plain": [
              "   Unnamed: 0  Year       City     Month        Day  AvgTemperature  \\\n",
              "0           0  1995  Barcelona  6.526027  15.720548       62.019178   \n",
              "2           2  1996  Barcelona  6.513661  15.756831       61.125956   \n",
              "4           4  1997  Barcelona  6.526027  15.720548       62.612329   \n",
              "6           6  1998  Barcelona  6.526027  15.720548       60.273973   \n",
              "8           8  1999  Barcelona  6.526027  15.720548       61.204658   \n",
              "\n",
              "   AvgTempCelcius  \n",
              "0       16.677321  \n",
              "2       16.181087  \n",
              "4       17.006849  \n",
              "6       15.707763  \n",
              "8       16.224810  "
            ],
            "text/html": [
              "\n",
              "  <div id=\"df-cf57fbbd-90c3-4010-b7dd-f409ec95b558\">\n",
              "    <div class=\"colab-df-container\">\n",
              "      <div>\n",
              "<style scoped>\n",
              "    .dataframe tbody tr th:only-of-type {\n",
              "        vertical-align: middle;\n",
              "    }\n",
              "\n",
              "    .dataframe tbody tr th {\n",
              "        vertical-align: top;\n",
              "    }\n",
              "\n",
              "    .dataframe thead th {\n",
              "        text-align: right;\n",
              "    }\n",
              "</style>\n",
              "<table border=\"1\" class=\"dataframe\">\n",
              "  <thead>\n",
              "    <tr style=\"text-align: right;\">\n",
              "      <th></th>\n",
              "      <th>Unnamed: 0</th>\n",
              "      <th>Year</th>\n",
              "      <th>City</th>\n",
              "      <th>Month</th>\n",
              "      <th>Day</th>\n",
              "      <th>AvgTemperature</th>\n",
              "      <th>AvgTempCelcius</th>\n",
              "    </tr>\n",
              "  </thead>\n",
              "  <tbody>\n",
              "    <tr>\n",
              "      <th>0</th>\n",
              "      <td>0</td>\n",
              "      <td>1995</td>\n",
              "      <td>Barcelona</td>\n",
              "      <td>6.526027</td>\n",
              "      <td>15.720548</td>\n",
              "      <td>62.019178</td>\n",
              "      <td>16.677321</td>\n",
              "    </tr>\n",
              "    <tr>\n",
              "      <th>2</th>\n",
              "      <td>2</td>\n",
              "      <td>1996</td>\n",
              "      <td>Barcelona</td>\n",
              "      <td>6.513661</td>\n",
              "      <td>15.756831</td>\n",
              "      <td>61.125956</td>\n",
              "      <td>16.181087</td>\n",
              "    </tr>\n",
              "    <tr>\n",
              "      <th>4</th>\n",
              "      <td>4</td>\n",
              "      <td>1997</td>\n",
              "      <td>Barcelona</td>\n",
              "      <td>6.526027</td>\n",
              "      <td>15.720548</td>\n",
              "      <td>62.612329</td>\n",
              "      <td>17.006849</td>\n",
              "    </tr>\n",
              "    <tr>\n",
              "      <th>6</th>\n",
              "      <td>6</td>\n",
              "      <td>1998</td>\n",
              "      <td>Barcelona</td>\n",
              "      <td>6.526027</td>\n",
              "      <td>15.720548</td>\n",
              "      <td>60.273973</td>\n",
              "      <td>15.707763</td>\n",
              "    </tr>\n",
              "    <tr>\n",
              "      <th>8</th>\n",
              "      <td>8</td>\n",
              "      <td>1999</td>\n",
              "      <td>Barcelona</td>\n",
              "      <td>6.526027</td>\n",
              "      <td>15.720548</td>\n",
              "      <td>61.204658</td>\n",
              "      <td>16.224810</td>\n",
              "    </tr>\n",
              "  </tbody>\n",
              "</table>\n",
              "</div>\n",
              "      <button class=\"colab-df-convert\" onclick=\"convertToInteractive('df-cf57fbbd-90c3-4010-b7dd-f409ec95b558')\"\n",
              "              title=\"Convert this dataframe to an interactive table.\"\n",
              "              style=\"display:none;\">\n",
              "        \n",
              "  <svg xmlns=\"http://www.w3.org/2000/svg\" height=\"24px\"viewBox=\"0 0 24 24\"\n",
              "       width=\"24px\">\n",
              "    <path d=\"M0 0h24v24H0V0z\" fill=\"none\"/>\n",
              "    <path d=\"M18.56 5.44l.94 2.06.94-2.06 2.06-.94-2.06-.94-.94-2.06-.94 2.06-2.06.94zm-11 1L8.5 8.5l.94-2.06 2.06-.94-2.06-.94L8.5 2.5l-.94 2.06-2.06.94zm10 10l.94 2.06.94-2.06 2.06-.94-2.06-.94-.94-2.06-.94 2.06-2.06.94z\"/><path d=\"M17.41 7.96l-1.37-1.37c-.4-.4-.92-.59-1.43-.59-.52 0-1.04.2-1.43.59L10.3 9.45l-7.72 7.72c-.78.78-.78 2.05 0 2.83L4 21.41c.39.39.9.59 1.41.59.51 0 1.02-.2 1.41-.59l7.78-7.78 2.81-2.81c.8-.78.8-2.07 0-2.86zM5.41 20L4 18.59l7.72-7.72 1.47 1.35L5.41 20z\"/>\n",
              "  </svg>\n",
              "      </button>\n",
              "      \n",
              "  <style>\n",
              "    .colab-df-container {\n",
              "      display:flex;\n",
              "      flex-wrap:wrap;\n",
              "      gap: 12px;\n",
              "    }\n",
              "\n",
              "    .colab-df-convert {\n",
              "      background-color: #E8F0FE;\n",
              "      border: none;\n",
              "      border-radius: 50%;\n",
              "      cursor: pointer;\n",
              "      display: none;\n",
              "      fill: #1967D2;\n",
              "      height: 32px;\n",
              "      padding: 0 0 0 0;\n",
              "      width: 32px;\n",
              "    }\n",
              "\n",
              "    .colab-df-convert:hover {\n",
              "      background-color: #E2EBFA;\n",
              "      box-shadow: 0px 1px 2px rgba(60, 64, 67, 0.3), 0px 1px 3px 1px rgba(60, 64, 67, 0.15);\n",
              "      fill: #174EA6;\n",
              "    }\n",
              "\n",
              "    [theme=dark] .colab-df-convert {\n",
              "      background-color: #3B4455;\n",
              "      fill: #D2E3FC;\n",
              "    }\n",
              "\n",
              "    [theme=dark] .colab-df-convert:hover {\n",
              "      background-color: #434B5C;\n",
              "      box-shadow: 0px 1px 3px 1px rgba(0, 0, 0, 0.15);\n",
              "      filter: drop-shadow(0px 1px 2px rgba(0, 0, 0, 0.3));\n",
              "      fill: #FFFFFF;\n",
              "    }\n",
              "  </style>\n",
              "\n",
              "      <script>\n",
              "        const buttonEl =\n",
              "          document.querySelector('#df-cf57fbbd-90c3-4010-b7dd-f409ec95b558 button.colab-df-convert');\n",
              "        buttonEl.style.display =\n",
              "          google.colab.kernel.accessAllowed ? 'block' : 'none';\n",
              "\n",
              "        async function convertToInteractive(key) {\n",
              "          const element = document.querySelector('#df-cf57fbbd-90c3-4010-b7dd-f409ec95b558');\n",
              "          const dataTable =\n",
              "            await google.colab.kernel.invokeFunction('convertToInteractive',\n",
              "                                                     [key], {});\n",
              "          if (!dataTable) return;\n",
              "\n",
              "          const docLinkHtml = 'Like what you see? Visit the ' +\n",
              "            '<a target=\"_blank\" href=https://colab.research.google.com/notebooks/data_table.ipynb>data table notebook</a>'\n",
              "            + ' to learn more about interactive tables.';\n",
              "          element.innerHTML = '';\n",
              "          dataTable['output_type'] = 'display_data';\n",
              "          await google.colab.output.renderOutput(dataTable, element);\n",
              "          const docLink = document.createElement('div');\n",
              "          docLink.innerHTML = docLinkHtml;\n",
              "          element.appendChild(docLink);\n",
              "        }\n",
              "      </script>\n",
              "    </div>\n",
              "  </div>\n",
              "  "
            ]
          },
          "metadata": {},
          "execution_count": 70
        }
      ]
    },
    {
      "cell_type": "code",
      "source": [
        "#Ahora realizemos la gráfica\n",
        "x2 = barcelona['Year']\n",
        "y2 = barcelona['AvgTempCelcius']\n",
        "plt.figure(figsize=(6,4))\n",
        "plt.plot(x2,y2)\n",
        "plt.title('Temperatura vs Año Barcelona')\n",
        "plt.xlabel('Año')\n",
        "plt.ylabel('Temperatura')\n",
        "plt.grid()\n",
        "plt.show()"
      ],
      "metadata": {
        "colab": {
          "base_uri": "https://localhost:8080/",
          "height": 410
        },
        "id": "AMg5Qngiqxkx",
        "outputId": "74ab7d11-47d0-4fc9-b171-40d92d9a5a6f"
      },
      "execution_count": 110,
      "outputs": [
        {
          "output_type": "display_data",
          "data": {
            "text/plain": [
              "<Figure size 600x400 with 1 Axes>"
            ],
            "image/png": "[encoded data removed]"
          },
          "metadata": {}
        }
      ]
    },
    {
      "cell_type": "markdown",
      "source": [
        "5. Aplique el  metodos de interpolación de hermite para Bogotá y el metodo de interpolación de splines cubicos para Barcelona. "
      ],
      "metadata": {
        "id": "CfxWuG7mrHMX"
      }
    },
    {
      "cell_type": "markdown",
      "source": [
        "###Hermite para Bogotá"
      ],
      "metadata": {
        "id": "INRzx2lEs92Z"
      }
    },
    {
      "cell_type": "code",
      "source": [
        "#Para aplicar este método necesitamos la derivada\n",
        "derivada = np.diff(bogota['AvgTempCelcius'])\n",
        "interpolacionBogota = sp.interpolate.CubicHermiteSpline(x1[1:],y1[1:],derivada)"
      ],
      "metadata": {
        "id": "bjWDFflVtBXQ"
      },
      "execution_count": 90,
      "outputs": []
    },
    {
      "cell_type": "code",
      "source": [
        "xx1 = np.linspace(1995,2020,100)\n",
        "plt.figure(figsize=(6,4))\n",
        "plt.plot(x1[1:],y1[1:],'bo',label='datos')\n",
        "plt.plot(xx1,interpolacionBogota(xx1),color='green',label='interpolación');\n",
        "plt.title('Interpolación Hermite')\n",
        "plt.xlabel('Año')\n",
        "plt.ylabel('Temperatura')\n",
        "plt.grid()\n",
        "plt.legend()\n",
        "plt.show()"
      ],
      "metadata": {
        "colab": {
          "base_uri": "https://localhost:8080/",
          "height": 411
        },
        "id": "kfLmSo_6u-rZ",
        "outputId": "318ed4c1-f89e-450d-e46a-2724014c609e"
      },
      "execution_count": 115,
      "outputs": [
        {
          "output_type": "display_data",
          "data": {
            "text/plain": [
              "<Figure size 600x400 with 1 Axes>"
            ],
            "image/png": "[encoded data removed]"
          },
          "metadata": {}
        }
      ]
    },
    {
      "cell_type": "markdown",
      "source": [
        "###Splines Cúbicos Barcelona"
      ],
      "metadata": {
        "id": "WWK8UdTPrH7v"
      }
    },
    {
      "cell_type": "code",
      "source": [
        "#Hallemos el polinimo\n",
        "interpolacionBarcelona = sp.interpolate.CubicSpline(x2,y2)"
      ],
      "metadata": {
        "id": "M37fhFVerNKg"
      },
      "execution_count": 76,
      "outputs": []
    },
    {
      "cell_type": "code",
      "source": [
        "xx2 = np.linspace(1995,2020,100)\n",
        "plt.figure(figsize=(6,4))\n",
        "plt.plot(x2,y2,'go',label='datos')\n",
        "plt.plot(xx2,interpolacionBarcelona(xx2),color='purple',label='interpolacion')\n",
        "plt.title('Interpolación Splines')\n",
        "plt.xlabel('Año')\n",
        "plt.ylabel('Temperatura')\n",
        "plt.grid()\n",
        "plt.legend()\n",
        "plt.show()"
      ],
      "metadata": {
        "colab": {
          "base_uri": "https://localhost:8080/",
          "height": 411
        },
        "id": "AlYidoHgsRH4",
        "outputId": "3c9df323-188a-47d2-c016-c0270727e275"
      },
      "execution_count": 116,
      "outputs": [
        {
          "output_type": "display_data",
          "data": {
            "text/plain": [
              "<Figure size 600x400 with 1 Axes>"
            ],
            "image/png": "[encoded data removed]"
          },
          "metadata": {}
        }
      ]
    }
  ]
}