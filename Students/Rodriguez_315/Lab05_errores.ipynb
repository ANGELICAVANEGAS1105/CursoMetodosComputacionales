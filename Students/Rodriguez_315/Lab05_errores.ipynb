{
  "cells": [
    {
      "cell_type": "markdown",
      "metadata": {
        "id": "eIZ2Sde65031"
      },
      "source": [
        "<a href=\"https://colab.research.google.com/github/hernansalinas/autogrades/blob/main/Laboratorios_Taller/Lab05_errores.ipynb\" target=\"_parent\"><img src=\"https://colab.research.google.com/assets/colab-badge.svg\" alt=\"Open In Colab\"/></a>"
      ]
    },
    {
      "cell_type": "markdown",
      "metadata": {
        "id": "ifkkjBLv1XCU"
      },
      "source": [
        "\n",
        "## Exponencial, serie alternante (serieEn)\n",
        "Objetivo: Analizar el uso de la cancelación substractiva\n",
        "\n",
        "\n",
        "Copia textual del libro  [Computational Physics. ](https://www.dropbox.com/s/n06ul2r4l65khl6/Computational%20Physics%20-%20Problem%20Solving%20with%20Computers%2C%203527406263.pdf?dl=0)\n",
        "\n",
        "- Write a program that calculates $e^{-x}$ \n",
        "\n",
        "\\begin{equation}\n",
        "e^{-x}=\\sum_{n=0}^{N}  (-1)^n \\frac{x^{n}}{n!}\n",
        "\\end{equation}\n",
        "\n",
        "\n",
        "- Calculate your series for $x \\le 1$ and compare it to the built-in function\n",
        "exp(x) (you may assume that the built-in exponential function is exact).\n",
        "You should pick an N for which the next term in the series is no more\n",
        "than $10^{-7}$ of the sum up to that point\n",
        "\n",
        "\\begin{equation}\n",
        "\\left| \\frac{(-x)^{N+1}}{(N+1)!} \\right | \\le \\left| 10^{-7} \\sum_{N=0}^{N} \\frac{(-x)^{n}}{n!} \\right|\n",
        "\\end{equation}\n",
        "\n",
        "- Examine the terms in the series for $x\\approx 10$ and observe the significant subtractive cancellations that occur when large terms add together to give small answers. In particular, print out the near-perfect cancellation\n",
        "at $n \\approx x − 1$.\n",
        "\n",
        "- See if better precision is obtained by being clever and using exp(−x) = 1/ exp(x) for large x values. This eliminates subtractive cancellation, but does not eliminate all roundoff errors\n",
        "\n",
        "- By progressively increasing x from 1 to 10, and then from 10 to 100, use your program to determine experimentally when the series starts to lose accuracy, and when the series no longer converges\n",
        "\n",
        "- Make a series of graphs of the error versus N for different values of x.\n",
        "\n",
        "\n",
        "\n",
        "\n",
        "\n"
      ]
    },
    {
      "cell_type": "code",
      "source": [
        "import numpy as np\n",
        "import math"
      ],
      "metadata": {
        "id": "fqu7mkNc4nMl"
      },
      "execution_count": null,
      "outputs": []
    },
    {
      "cell_type": "markdown",
      "source": [
        "- Write a program that calculates $e^{-x}$ \n",
        "\n",
        "\\begin{equation}\n",
        "e^{-x}=\\sum_{n=0}^{N}  (-1)^n \\frac{x^{n}}{n!}\n",
        "\\end{equation}"
      ],
      "metadata": {
        "id": "cQV7ktG3xbUh"
      }
    },
    {
      "cell_type": "code",
      "source": [
        "#Creemos la función de la serie alternante e^-x.\n",
        "def serieAlternante(x,n):\n",
        "  exponencial = 0\n",
        "  for i in range(n):\n",
        "    exponencial += ((-1)**i)*(x**i/math.factorial(i))\n",
        "  #return format(exponencial, 'e')\n",
        "  return exponencial\n",
        "#Comparemos con la función de numpy\n",
        "x=10\n",
        "n = 100\n",
        "\n",
        "expSerie = serieAlternante(x,n)\n",
        "expNumpy = np.exp(-x)\n",
        "print(f'La serie nos da: {expSerie} mientras que la función de numpy da: {expNumpy}')"
      ],
      "metadata": {
        "colab": {
          "base_uri": "https://localhost:8080/"
        },
        "id": "1gQShtYQ4skh",
        "outputId": "32dd1893-a0aa-44e7-9545-faf620e280e9"
      },
      "execution_count": null,
      "outputs": [
        {
          "output_type": "stream",
          "name": "stdout",
          "text": [
            "La serie nos da: 4.5399929433607724e-05 mientras que la función de numpy da: 4.5399929762484854e-05\n"
          ]
        }
      ]
    },
    {
      "cell_type": "code",
      "source": [
        "#Veamos el error.\n",
        "error = expNumpy - expSerie\n",
        "print(f'la diferencia entre los dos resultados es de {error}')"
      ],
      "metadata": {
        "colab": {
          "base_uri": "https://localhost:8080/"
        },
        "id": "29WTC03I3BrI",
        "outputId": "84ae8e83-d67a-40b2-de8b-7d18ebea11be"
      },
      "execution_count": null,
      "outputs": [
        {
          "output_type": "stream",
          "name": "stdout",
          "text": [
            "la diferencia entre los dos resultados es de 3.2887713006472113e-13\n"
          ]
        }
      ]
    },
    {
      "cell_type": "code",
      "source": [
        "#Ahora comparemos con un x<=1\n",
        "print(f'Serie: {serieAlternante(-10,1000)} y la función: {np.exp(-10)}')"
      ],
      "metadata": {
        "colab": {
          "base_uri": "https://localhost:8080/"
        },
        "id": "x2ZkTEny9ov0",
        "outputId": "11014d11-d6cb-43e6-dad7-77c630c29d4a"
      },
      "execution_count": null,
      "outputs": [
        {
          "output_type": "stream",
          "name": "stdout",
          "text": [
            "Serie: 22026.46579480671 y la función: 4.5399929762484854e-05\n"
          ]
        }
      ]
    },
    {
      "cell_type": "markdown",
      "source": [
        "\n",
        "- Calculate your series for $x \\le 1$ and compare it to the built-in function\n",
        "exp(x) (you may assume that the built-in exponential function is exact).\n",
        "You should pick an N for which the next term in the series is no more\n",
        "than $10^{-7}$ of the sum up to that point\n",
        "\n",
        "\\begin{equation}\n",
        "\\left| \\frac{(-x)^{N+1}}{(N+1)!} \\right | \\le \\left| 10^{-7} \\sum_{N=0}^{N} \\frac{(-x)^{n}}{n!} \\right|\n",
        "\\end{equation}"
      ],
      "metadata": {
        "id": "1gkSG6rNxf0i"
      }
    },
    {
      "cell_type": "code",
      "source": [
        "#Ahora vamos a encontrar el N para el cual se cumple la desigualdad\n",
        "#En este caso para x=0.5.\n",
        "#De esta manera nos aseguramos de encontrar un N para el cual el error no sea mayor que 10e-7.\n",
        "N = 0\n",
        "condicionError = True\n",
        "condicion = 0\n",
        "error = 10**(-7)\n",
        "x = 0.5\n",
        "while condicionError:\n",
        "  condicion = abs(((-x)**(N+1))/math.factorial(N+1))\n",
        "  serie = abs(error*float(serieAlternante(x,N)))\n",
        "  if condicion <= serie:\n",
        "    condicionError = False\n",
        "    break\n",
        "  N +=1\n",
        "print(f'El valor de N es :{N}')"
      ],
      "metadata": {
        "colab": {
          "base_uri": "https://localhost:8080/"
        },
        "id": "WZ50BRp6_L3J",
        "outputId": "1c83385d-fcf2-4740-9339-eb665ce75514"
      },
      "execution_count": null,
      "outputs": [
        {
          "output_type": "stream",
          "name": "stdout",
          "text": [
            "El valor de N es :8\n"
          ]
        }
      ]
    },
    {
      "cell_type": "markdown",
      "source": [
        "\n",
        "- Examine the terms in the series for $x\\approx 10$ and observe the significant subtractive cancellations that occur when large terms add together to give small answers. In particular, print out the near-perfect cancellation\n",
        "at $n \\approx x − 1$."
      ],
      "metadata": {
        "id": "56JxyeOYxjvZ"
      }
    },
    {
      "cell_type": "code",
      "source": [
        "x = 10\n",
        "n = np.arange(100)\n",
        "numerosSerie = np.zeros(100)\n",
        "for i in n:\n",
        "  numerosSerie[i] = serieAlternante(10,i)"
      ],
      "metadata": {
        "id": "In1XDcuLBRse"
      },
      "execution_count": null,
      "outputs": []
    },
    {
      "cell_type": "code",
      "source": [
        "#Grafiquemos la solución.\n",
        "import matplotlib.pyplot as plt\n",
        "fig, ax = plt.subplots()\n",
        "ax.plot(n,numerosSerie)\n",
        "ax.scatter(9,numerosSerie[x-1], color='purple')\n",
        "plt.grid()\n",
        "plt.show()"
      ],
      "metadata": {
        "colab": {
          "base_uri": "https://localhost:8080/",
          "height": 265
        },
        "id": "gqmSwfTLKCOY",
        "outputId": "a68a7c0d-64a4-49a1-a959-1edaf79cc045"
      },
      "execution_count": null,
      "outputs": [
        {
          "output_type": "display_data",
          "data": {
            "text/plain": [
              "<Figure size 432x288 with 1 Axes>"
            ],
            "image/png": "[encoded data removed]"
          },
          "metadata": {
            "needs_background": "light"
          }
        }
      ]
    },
    {
      "cell_type": "markdown",
      "source": [
        "- See if better precision is obtained by being clever and using exp(−x) = 1/ exp(x) for large x values. This eliminates subtractive cancellation, but does not eliminate all roundoff errors"
      ],
      "metadata": {
        "id": "U8Cltq1txlRh"
      }
    },
    {
      "cell_type": "code",
      "source": [
        "#Creemos la función de la serie alternante e^-x.\n",
        "def serieEuler(x,n):\n",
        "  if (n==0):\n",
        "    return 1\n",
        "  exponencial = 0\n",
        "  for i in range(n):\n",
        "    exponencial += (x**i/math.factorial(i))\n",
        "  return 1/exponencial\n",
        "\n",
        "#Comparemos con la función de numpy\n",
        "x=10\n",
        "n = 1000\n",
        "\n",
        "expSerie = serieEuler(x,n)\n",
        "expAlternante = serieAlternante(x,n)\n",
        "print(f'La serie nos da: {expSerie} mientras que la serie alternante: {expAlternante}')"
      ],
      "metadata": {
        "colab": {
          "base_uri": "https://localhost:8080/"
        },
        "id": "sM-f8RDyxpnA",
        "outputId": "f95172df-3a9a-48ee-ba64-0b430ef17ab5"
      },
      "execution_count": null,
      "outputs": [
        {
          "output_type": "stream",
          "name": "stdout",
          "text": [
            "La serie nos da: 4.539992976248486e-05 mientras que la serie alternante: 4.5399929433607724e-05\n"
          ]
        }
      ]
    },
    {
      "cell_type": "code",
      "source": [
        "#Veamos la diferencia entre esta última serie y la serie alternante.\n",
        "diferencia = float(expSerie) - float(expAlternante)\n",
        "diferencia"
      ],
      "metadata": {
        "colab": {
          "base_uri": "https://localhost:8080/"
        },
        "id": "KZCNG0hcyNpw",
        "outputId": "004216b9-f267-4e5a-def7-480b37813686"
      },
      "execution_count": null,
      "outputs": [
        {
          "output_type": "execute_result",
          "data": {
            "text/plain": [
              "3.288771368409847e-13"
            ]
          },
          "metadata": {},
          "execution_count": 11
        }
      ]
    },
    {
      "cell_type": "code",
      "source": [
        "#Grafiquemos para cada n en los primeros 100.\n",
        "x = 10\n",
        "n = np.arange(100)\n",
        "numerosSerie = np.zeros(100)\n",
        "for i in n:\n",
        "  numerosSerie[i] = serieEuler(10,i)\n",
        "#Grafiquemos la solución.\n",
        "import matplotlib.pyplot as plt\n",
        "fig, ax = plt.subplots()\n",
        "ax.plot(n,numerosSerie)\n",
        "plt.show()"
      ],
      "metadata": {
        "colab": {
          "base_uri": "https://localhost:8080/",
          "height": 265
        },
        "id": "pi_gWclFz5R7",
        "outputId": "506573d1-c92a-40b1-9633-009ca4b5d39b"
      },
      "execution_count": null,
      "outputs": [
        {
          "output_type": "display_data",
          "data": {
            "text/plain": [
              "<Figure size 432x288 with 1 Axes>"
            ],
            "image/png": "[encoded data removed]"
          },
          "metadata": {
            "needs_background": "light"
          }
        }
      ]
    },
    {
      "cell_type": "markdown",
      "source": [
        "By progressively increasing x from 1 to 10, and then from 10 to 100, use your program to determine experimentally when the series starts to lose accuracy, and when the series no longer converges"
      ],
      "metadata": {
        "id": "eEpMEHPK3uU4"
      }
    },
    {
      "cell_type": "code",
      "source": [
        "#Hallemos e⁻x para cada x desde 1 hasta 10.\n",
        "x = np.arange(100)\n",
        "numerosSerie = np.zeros(100)\n",
        "numerosExpo = np.zeros(100)\n",
        "for i in x:\n",
        "  numerosSerie[i] = serieAlternante(i,218)\n",
        "  numerosExpo[i] = np.exp(-i)\n",
        "error = numerosExpo - numerosSerie\n",
        "#Grafiquemos el valor de e^-x vs el error comparado con el exp. de numpy\n",
        "fig, ax = plt.subplots()\n",
        "ax.plot(numerosSerie,error)\n",
        "plt.grid()\n",
        "plt.title(f'$e^-x$ vs error')\n",
        "plt.show()\n",
        "e = serieAlternante(1,100)\n",
        "e1 = np.exp(1)"
      ],
      "metadata": {
        "colab": {
          "base_uri": "https://localhost:8080/",
          "height": 294
        },
        "id": "Db58X3Hj3w2Q",
        "outputId": "9c39e9da-6631-4999-f2a8-24e5afcb35ba"
      },
      "execution_count": null,
      "outputs": [
        {
          "output_type": "display_data",
          "data": {
            "text/plain": [
              "<Figure size 432x288 with 1 Axes>"
            ],
            "image/png": "[encoded data removed]"
          },
          "metadata": {
            "needs_background": "light"
          }
        }
      ]
    },
    {
      "cell_type": "markdown",
      "source": [
        "- Make a series of graphs of the error versus N for different values of x."
      ],
      "metadata": {
        "id": "Q0f5pmZPBuWY"
      }
    },
    {
      "cell_type": "code",
      "source": [
        "#Hallemos e⁻x para cada x desde 1 hasta 10.\n",
        "N = np.arange(100)\n",
        "numerosSerie = np.zeros(100)\n",
        "numerosExpo = np.zeros(100)\n",
        "for i in N :\n",
        "  numerosSerie[i] = serieAlternante(10,i)\n",
        "  numerosExpo[i] = np.exp(-i)\n",
        "error = numerosExpo - numerosSerie\n",
        "#Grafiquemos el valor de e^-x vs el error comparado con el exp. de numpy\n",
        "fig, ax = plt.subplots()\n",
        "ax.plot(N,error)\n",
        "plt.grid()\n",
        "plt.title('error vs N')\n",
        "max_y = max(error)\n",
        "max_id = np.argmax(error)\n",
        "max_x = N[max_id]\n",
        "ax.scatter(max_x, max_y, color='purple')\n",
        "plt.show()\n",
        "print(max_id)"
      ],
      "metadata": {
        "colab": {
          "base_uri": "https://localhost:8080/",
          "height": 298
        },
        "id": "VE-RskDy_ZOB",
        "outputId": "a99ec904-6e35-4d88-fed3-0df89cbbcb12"
      },
      "execution_count": null,
      "outputs": [
        {
          "output_type": "display_data",
          "data": {
            "text/plain": [
              "<Figure size 432x288 with 1 Axes>"
            ],
            "image/png": "[encoded data removed]"
          },
          "metadata": {
            "needs_background": "light"
          }
        },
        {
          "output_type": "stream",
          "name": "stdout",
          "text": [
            "10\n"
          ]
        }
      ]
    },
    {
      "cell_type": "markdown",
      "source": [
        "#Cancelación sustractiva\n",
        "\n",
        "\n",
        "\n",
        "**serieSn**. Un ejemplo de la cancelacion substractiva es en la suma de series alternantes. Considere la serie $\\mathrm{S}_N$,  escrita  matematicamente de tres formas diferentes:\n",
        "\n",
        "- \n",
        "\\begin{equation}\n",
        "\\mathrm{S}_N^{(1)} = \\sum_{n = 1}^{2N} (-1)^n \\frac{n}{n+1} \n",
        "\\end{equation}\n",
        "\n",
        "- Sumando números pares e impares.\n",
        "\n",
        "\\begin{equation}\n",
        "\\mathrm{S}_N^{(2)} = -\\sum_{n = 1}^{N}\\frac{2n-1}{2n} + \\sum_{n=1}^{N} \\frac{2n}{2n+1}\n",
        "\\end{equation}\n",
        "\n",
        "- Combinando las series de una forma analítica\n",
        "\n",
        "\\begin{equation}\n",
        "\\mathrm{S}_N^{(3)} = \\sum_{n = 1}^{N}\\frac{1}{2n(2n+1)}\n",
        "\\end{equation}\n",
        "\n",
        "\n",
        "\n",
        "Las tres sumas $\\mathrm{S}_N^{(1)}$, $\\mathrm{S}_N^{(2)}$ y $\\mathrm{S}_N^{(3)}$ son matemáticamente iguales, pero los resultados  pueden tener resultados numéricos diferentes.\n",
        "\n",
        "\n",
        "- Escribir un programa que realice el cálculo de $\\mathrm{S}_N^{(1)}$, $\\mathrm{S}_N^{(2)}$ y $\\mathrm{S}_N^{(3)}$\n",
        "- Estudiar la convergencia de la serie para los tres casos.\n",
        "- Considere  que $S_N^{(3)}$ es la solución exacta, realizar dos graficos log-log, del error relativo en función \n",
        "del número de términos ($\\mathrm{Log_{10}} E$ VS $\\mathrm{Log_{10}} N$), para $S_N^{(1)}$ y $S_N^{(2)}$. Donde,  $E = |(S_N^{(i)} - S_N^{(3)})/S_N^{(3)}|$, i = 1, 2. Considere valores de $N = 1\\times 10^{6}$.\n",
        "- Analizar y discutir los resultados. Tenga en cuenta la discusión realizada sobre teoría de errores en la página \n",
        "39 del libro del libro [Computational Physics. ](https://www.dropbox.com/s/n06ul2r4l65khl6/Computational%20Physics%20-%20Problem%20Solving%20with%20Computers%2C%203527406263.pdf?dl=0)"
      ],
      "metadata": {
        "id": "nYgxAp3d4k1u"
      }
    },
    {
      "cell_type": "markdown",
      "source": [
        "- Escribir un programa que realice el cálculo de $\\mathrm{S}_N^{(1)}$, $\\mathrm{S}_N^{(2)}$ y $\\mathrm{S}_N^{(3)}$"
      ],
      "metadata": {
        "id": "ikKhBSqrod4L"
      }
    },
    {
      "cell_type": "code",
      "source": [
        "#Vamos a escribir el programa que realice e imprima los 3 valores.\n",
        "def seriesSN1(N):\n",
        "    suma = 0\n",
        "    sumasParciales = []\n",
        "    for n in range(0,2*N+1):\n",
        "        suma += (-1)**(n)*(n/(n+1))\n",
        "        sumasParciales.append(suma)\n",
        "    return suma, sumasParciales\n",
        "  \n",
        "def seriesSN2(N):\n",
        "    suma = 0\n",
        "    sumasParciales = []\n",
        "    for n in range(1,N+1):\n",
        "        suma += -((2*n-1)/(2*n)) + (2*n/(2*n+1))\n",
        "        sumasParciales.append(suma)\n",
        "    return suma, sumasParciales\n",
        "\n",
        "def seriesSN3(N):\n",
        "  suma3 = 0\n",
        "  sumasParciales = []\n",
        "  for n in range(1,N+1):\n",
        "    suma3 += (1/((2*n)*(2*n+1)))\n",
        "    sumasParciales.append(suma3)\n",
        "  return suma3 , sumasParciales\n",
        "numero = 100\n",
        "print(f'Serie 1= {seriesSN1(numero)[0]}, Serie 2 = {seriesSN2(numero)[0]}, Serie 3 = {seriesSN3(numero)[0]}')"
      ],
      "metadata": {
        "colab": {
          "base_uri": "https://localhost:8080/"
        },
        "id": "gA-ckx-x-MPn",
        "outputId": "1b5933b3-8509-4b66-8823-c3a4ba763908"
      },
      "execution_count": null,
      "outputs": [
        {
          "output_type": "stream",
          "name": "stdout",
          "text": [
            "Serie 1= 0.30437144514006564, Serie 2 = 0.30437144514006564, Serie 3 = 0.3043714451400664\n"
          ]
        }
      ]
    },
    {
      "cell_type": "markdown",
      "source": [
        "- Estudiar la convergencia de la serie para los tres casos.\n"
      ],
      "metadata": {
        "id": "vpygRJ6Zoa1j"
      }
    },
    {
      "cell_type": "code",
      "source": [
        "numero = 500\n",
        "serie1 = np.array(seriesSN1(numero)[1])\n",
        "serie2 = np.array(seriesSN2(numero)[1])\n",
        "serie3 = np.array(seriesSN3(numero)[1])\n",
        "#El test de convergencia fue realizado con ayuda de chatgpt.\n",
        "for i in range(len(serie1)):  \n",
        "  if serie1[i] > 0.0:\n",
        "    if (abs(serie1[i]) > abs(serie1[i-i])):\n",
        "      print(f'La serie converge')\n",
        "      break\n",
        "for i in range(1, numero):\n",
        "  if abs(serie2[i] - serie2[i-1]) < 1e-6:\n",
        "    print(f\"La serie 2 converge a los {i} términos.\")\n",
        "    break\n",
        "for i in range(1, numero):\n",
        "  if abs(serie3[i] - serie3[i-1]) < 1e-6:\n",
        "    print(f\"La serie 3 converge a los {i} términos.\")\n",
        "    break"
      ],
      "metadata": {
        "colab": {
          "base_uri": "https://localhost:8080/"
        },
        "id": "_G_wJwKkoguU",
        "outputId": "6fbe0139-2c81-4ed6-e1b7-c9c73409b59b"
      },
      "execution_count": null,
      "outputs": [
        {
          "output_type": "stream",
          "name": "stdout",
          "text": [
            "La serie converge\n",
            "La serie 2 converge a los 499 términos.\n",
            "La serie 3 converge a los 499 términos.\n"
          ]
        }
      ]
    },
    {
      "cell_type": "markdown",
      "source": [
        "- Considere  que $S_N^{(3)}$ es la solución exacta, realizar dos graficos log-log, del error relativo en función \n",
        "del número de términos ($\\mathrm{Log_{10}} E$ VS $\\mathrm{Log_{10}} N$), para $S_N^{(1)}$ y $S_N^{(2)}$. Donde,  $E = |(S_N^{(i)} - S_N^{(3)})/S_N^{(3)}|$, i = 1, 2. Considere valores de $N = 1\\times 10^{6}$."
      ],
      "metadata": {
        "id": "Qfv2Bdf721_k"
      }
    },
    {
      "cell_type": "code",
      "source": [
        "import matplotlib.pyplot as plt\n",
        "numero = 1000000\n",
        "serie1 = np.array(seriesSN1(numero)[1])\n",
        "serie2 = np.array(seriesSN2(numero)[1])\n",
        "serie3 = np.array(seriesSN3(numero)[1])\n",
        "errorRelativoSerie1 = abs((serie1[0:1000000]-serie3)/serie3)\n",
        "errorRelativoSerie2 = abs((serie2 - serie3)/serie3)\n",
        "xSerie1 = np.arange(len(errorRelativoSerie1))\n",
        "xSerie2 = np.arange(len(errorRelativoSerie2))\n",
        "fig, axs = plt.subplots(2);\n",
        "axs[0].plot(xSerie1, errorRelativoSerie1,'go')\n",
        "axs[1].plot(xSerie2, errorRelativoSerie2)"
      ],
      "metadata": {
        "colab": {
          "base_uri": "https://localhost:8080/",
          "height": 295
        },
        "id": "GGYgknSpaT8q",
        "outputId": "5a3deea7-9079-4cc7-927b-6ba30ae63db7"
      },
      "execution_count": null,
      "outputs": [
        {
          "output_type": "execute_result",
          "data": {
            "text/plain": [
              "[<matplotlib.lines.Line2D at 0x7fd00d39e5e0>]"
            ]
          },
          "metadata": {},
          "execution_count": 25
        },
        {
          "output_type": "display_data",
          "data": {
            "text/plain": [
              "<Figure size 432x288 with 2 Axes>"
            ],
            "image/png": "[encoded data removed]"
          },
          "metadata": {
            "needs_background": "light"
          }
        }
      ]
    },
    {
      "cell_type": "markdown",
      "source": [
        "Analizar y discutir los resultados. Tenga en cuenta la discusión realizada sobre teoría de errores en la página \n",
        "39 del libro del libro"
      ],
      "metadata": {
        "id": "4VrgVwPjeRNS"
      }
    },
    {
      "cell_type": "code",
      "source": [
        "#Entre más términos esté operando la máquina, más probabilidad de error existe debido a la aproximación \n",
        "#que se hace de los términos, por lo que tendrá más precisión una expresión mucho más resumida."
      ],
      "metadata": {
        "id": "24eKNRhdeR4o"
      },
      "execution_count": null,
      "outputs": []
    }
  ],
  "metadata": {
    "colab": {
      "provenance": []
    },
    "kernelspec": {
      "display_name": "Python 3 (ipykernel)",
      "language": "python",
      "name": "python3"
    },
    "language_info": {
      "codemirror_mode": {
        "name": "ipython",
        "version": 3
      },
      "file_extension": ".py",
      "mimetype": "text/x-python",
      "name": "python",
      "nbconvert_exporter": "python",
      "pygments_lexer": "ipython3",
      "version": "3.8.12"
    }
  },
  "nbformat": 4,
  "nbformat_minor": 0
}