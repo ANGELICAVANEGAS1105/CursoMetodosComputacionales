{
  "nbformat": 4,
  "nbformat_minor": 0,
  "metadata": {
    "colab": {
      "provenance": []
    },
    "kernelspec": {
      "name": "python3",
      "display_name": "Python 3"
    },
    "language_info": {
      "name": "python"
    }
  },
  "cells": [
    {
      "cell_type": "markdown",
      "source": [
        "# Parcial 3: \n",
        "### Curso: Metodos computacionales \n",
        "### Profesor: Hernán David Salinas Jiménez\n",
        "\n",
        "\n",
        "La entrega del examen se debe realizar a traves del git-hub en el directorio de cada estudiante.\n",
        "\n",
        "\n",
        "# Ecuaciones diferenciales\n",
        "\n",
        "\n",
        "## Body Planet Orbits\n",
        "1. (33%) Newton’s explanation of the motion of the planets in terms of a universal law of gravitation is one of the great achievements of science. He was able to prove that the planets traveled along elliptical paths with the sun at one vertex and to predict periods of the motion accurately. All Newton needed to postulate was that the force between a planet of mass $m$ and the sun of mass $M$ is\n",
        "\n",
        "\\begin{equation}\n",
        "F^{(g)} = -\\frac{GmM}{r^2}\n",
        "\\end{equation}\n",
        "\n",
        "Here $r$ is the planet-CM distance, $G$ is the universal gravitational constant, and the attractive force lies along the line connecting the planet and the sun. The hard part for Newton was solving the resulting differential equations because he had to invent calculus to do it and then had go through numerous analytic manipulations. The numerical solution is straightforward since even for planets the equation of motion is still\n",
        "\n",
        "\\begin{equation}\n",
        "\\vec{f}=m\\vec{a} = m \\frac{\\mathrm{d}^2\\vec{r}}{\\mathrm{d}t^2}\n",
        "\\end{equation}\n",
        "\n",
        "with the force having components:\n",
        "\n",
        "\\begin{equation}\n",
        "f_x  = F^{(g)}\\cos \\theta =  F^{(g)}\\frac{x}{r}\n",
        "\\end{equation}\n",
        "\n",
        "\n",
        "\\begin{equation}\n",
        "f_y  = F^{(g)}\\sin \\theta =  F^{(g)}\\frac{y}{r}\n",
        "\\end{equation}\n",
        "\n",
        "where \n",
        "\n",
        "\\begin{equation}\n",
        "r=\\sqrt{x^2+y^2}\n",
        "\\end{equation}\n",
        "\n",
        "\n",
        "\n",
        "The equation of motion yields two simultaneous second-order ODEs:\n",
        "\n",
        "\\begin{equation}\n",
        "\\frac{\\mathrm{d}^2x}{\\mathrm{d}t^2}=-GM \\frac{x}{r^3}\n",
        "\\end{equation}\n",
        "\n",
        "\\begin{equation}\n",
        "\\frac{\\mathrm{d}^2y}{\\mathrm{d}t^2}=-GM \\frac{y}{r^3}\n",
        "\\end{equation}\n",
        "\n",
        "\n",
        "a. Solve the diferential equation with the next parameter:\n",
        "\n",
        "Assume units such that GM = 1 and use the initial conditions x(0) = 0.5, y(0) = 0, vx(0) = 0.0, vy(0) = 1.63.\n",
        "\n",
        "b. Realice a graph kind subplot with 1 row and 2 columns: in the first subplot include the graph: x vs t, y vs t and the second graph y vs x,  what is the conclusion of this results?.\n",
        "\n"
      ],
      "metadata": {
        "id": "eR2zVikbjyFr"
      }
    },
    {
      "cell_type": "code",
      "source": [
        "#@title Librerías\n",
        "import numpy as np\n",
        "import scipy as sp\n",
        "from scipy import optimize\n",
        "from scipy.integrate import odeint\n",
        "import matplotlib.pyplot as plt\n",
        "from scipy.integrate import quad\n",
        "from scipy.misc import derivative\n",
        "from scipy.integrate import simpson\n",
        "import sympy as sp"
      ],
      "metadata": {
        "id": "O6j_aPlvqNCm"
      },
      "execution_count": 204,
      "outputs": []
    },
    {
      "cell_type": "markdown",
      "source": [
        "## Punto a."
      ],
      "metadata": {
        "id": "eYLRxrEuux8q"
      }
    },
    {
      "cell_type": "code",
      "source": [
        "\n",
        "#Vamos a resolver las ecuaciones mediante odeint.\n",
        "#Para esto debemos desacoplar las ecuaciones para obtener edos de grado 1.\n",
        "#Definamos la función\n",
        "def orbitaPlaneta(condI,t):\n",
        "  '''\n",
        "   Los parámetros ingresados son: condI que será un array con \n",
        "   los valores x0,y0,v0x,v0y. t el tiempo en el que se va a resolver \n",
        "   la edo y x,y la posición.\n",
        "\n",
        "  '''\n",
        "  \n",
        "  #Condiciones Iniciales \n",
        "  x,vx,y,vy = condI\n",
        "  G = 1\n",
        "  M = 1\n",
        "  r = np.sqrt(x**2 + y**2)\n",
        "  #Procedemos a desacoplar la edo.\n",
        "\n",
        "  #Primera ecuación\n",
        "  dxdt = vx\n",
        "\n",
        "  #Segunda Ecuación\n",
        "  dvxdt = -G*M*(x/r**3)\n",
        "\n",
        "  #Tercera Ecuación\n",
        "  dydt = vy\n",
        "\n",
        "  #Cuarta Ecuación\n",
        "  dvydt = -G*M*(y/r**3)\n",
        "  \n",
        "  return np.array((dxdt,dvxdt,dydt,dvydt))\n"
      ],
      "metadata": {
        "id": "nfWh8SOSrGar"
      },
      "execution_count": 206,
      "outputs": []
    },
    {
      "cell_type": "code",
      "source": [
        "#Condiciones Iniciales\n",
        "x0 = 0.5\n",
        "y0 = 0\n",
        "v0x = 0\n",
        "v0y = 1.63\n",
        "condI = np.array([x0,v0x,y0,v0y])\n",
        "#Definamos el tiempo t\n",
        "t = np.linspace(0,10,1000)"
      ],
      "metadata": {
        "id": "9JlkzMwitVTr"
      },
      "execution_count": 207,
      "outputs": []
    },
    {
      "cell_type": "code",
      "source": [
        "#Resolvamos la edo\n",
        "edo = odeint(orbitaPlaneta,condI,t)\n",
        "#Veamos algunos puntos en x\n",
        "edo[0:10,0]"
      ],
      "metadata": {
        "colab": {
          "base_uri": "https://localhost:8080/"
        },
        "id": "P3mNcA-9ujLx",
        "outputId": "11fcbbd0-869d-484b-cdf5-c770705d8119"
      },
      "execution_count": 208,
      "outputs": [
        {
          "output_type": "execute_result",
          "data": {
            "text/plain": [
              "array([0.5       , 0.49979963, 0.49919882, 0.49819854, 0.49680037,\n",
              "       0.49500652, 0.4928198 , 0.49024361, 0.48728195, 0.48393936])"
            ]
          },
          "metadata": {},
          "execution_count": 208
        }
      ]
    },
    {
      "cell_type": "markdown",
      "source": [
        "##Punto b."
      ],
      "metadata": {
        "id": "o93hutVnu1Lg"
      }
    },
    {
      "cell_type": "code",
      "source": [
        "#Veamos las gráficas\n",
        "fig, axs = plt.subplots(1,2)\n",
        "axs[0].plot(t,edo[:,0])\n",
        "axs[0].plot(t,edo[:,2])\n",
        "axs[1].plot(edo[:,2],edo[:,0])\n",
        "axs[0].grid()\n",
        "axs[1].grid()\n",
        "axs[0].set_title('x vs t and y vs t')\n",
        "axs[0].set_xlabel('x and y')\n",
        "axs[0].set_ylabel('t')\n",
        "axs[1].set_title('y vs x')\n",
        "axs[1].set_xlabel('x')\n",
        "plt.show()"
      ],
      "metadata": {
        "colab": {
          "base_uri": "https://localhost:8080/",
          "height": 472
        },
        "id": "jeOfazXou2gk",
        "outputId": "87442ac3-483e-49c5-e02c-33bf0d5db0ce"
      },
      "execution_count": 209,
      "outputs": [
        {
          "output_type": "display_data",
          "data": {
            "text/plain": [
              "<Figure size 640x480 with 2 Axes>"
            ],
            "image/png": "[encoded data removed]"
          },
          "metadata": {}
        }
      ]
    },
    {
      "cell_type": "markdown",
      "source": [
        "En la gráfica de la derecha podemos observar que efectivamente la órbita de los planetas es una elipse.\n",
        "Para la gráfica de la izquierda la oscilación nos indica la periocidad de la órbita, es decir, cada cierto tiempo t el planeta vuelve a pasar por el mismo punto en x,y y de esta manera es que completa su periodo alrededor del Sol."
      ],
      "metadata": {
        "id": "gYIssV1zyNk1"
      }
    },
    {
      "cell_type": "markdown",
      "source": [
        "\n",
        "# Integracion \n",
        "2. (33%) Las [integrales elipticas](https://es.wikipedia.org/wiki/Integral_el%C3%ADptica#:~:text=Una%20integral%20el%C3%ADptica%20de%20primera,segundas%20dependen%20de%20dos%20variables) son integrales que permite dar solución a múltiples problemas en física y matemáticas. Algunos ejemplos de su uso, pueden ser encontrados en las siguientes referencias [[1]](http://www.sc.ehu.es/sbweb/fisica3/especial/eliptica/eliptica.html)\n",
        "[[2]](http://www.sc.ehu.es/sbweb/fisica_/numerico/integral/eliptica_ejemplos.html). El siguiente problema esta relacionado con al integración eliptica.\n",
        "\n",
        "\n",
        "La [longitud de arco](http://www.sc.ehu.es/sbweb/fisica3/especial/eliptica/eliptica.html) de  una elipse puede ser calculada a través de la siguiente integral.\n",
        "\n",
        "\\begin{equation}\n",
        "L(k) = 4a\\int_0^{\\pi/2}  \\mathrm{d} \\phi \\sqrt{1-k^2\\sin^2 \\phi}\n",
        "\\end{equation}\n",
        "\n",
        "donde $ k^2 = \\frac{a^2-b^2}{a^2} = \\epsilon $, siendo $\\epsilon$ la excentricidad de la elipse, a y b el semieje mayor y menor de la elipse respectivamente, $a>b$.\n",
        "\n",
        "1. Para $b = 1$, y $a$ entre 1 y 100, construya un conjunto de valores de excentrecidades y realice la integración para cada excentrecidad.\n",
        "Construya un grafico de $L$ vs $\\epsilon$.\n",
        "\n",
        "2. Determine la longitud de arco de la solucion del problema 1.\n",
        "\n"
      ],
      "metadata": {
        "id": "NXQGJHNGkKvR"
      }
    },
    {
      "cell_type": "markdown",
      "source": [
        "##Punto 1."
      ],
      "metadata": {
        "id": "X4cDq1EI0IpQ"
      }
    },
    {
      "cell_type": "code",
      "source": [
        "#Definamos el conjunto de valores para k\n",
        "a = np.linspace(1,100,100)\n",
        "b = 1\n",
        "k = np.sqrt((a**2-b**2)/a**2)\n",
        "\n",
        "#Definimos el dominio en el que se va a integrar.\n",
        "dominio = np.linspace(0,(np.pi)/2,100)\n",
        "\n",
        "#Definamos la función \n",
        "funcionE = lambda x,a,dom: (4*a)*(np.sqrt(1 - (k**2)*(np.sin(dom)**2)))\n",
        "\n",
        "soluciones = np.zeros(100)\n",
        "\n",
        "#Realizamos la integral para cada valor de e.\n",
        "for i in range(100):\n",
        "  soluciones[i] = simpson(funcionE(dominio,a[i],k[i]),dominio, dx=0.001)"
      ],
      "metadata": {
        "id": "d6D2jtu9yj-E"
      },
      "execution_count": 210,
      "outputs": []
    },
    {
      "cell_type": "code",
      "source": [
        "#Graficamos\n",
        "plt.plot(k**2,soluciones)\n",
        "plt.grid()\n",
        "plt.title('L vs $\\epsilon$')"
      ],
      "metadata": {
        "colab": {
          "base_uri": "https://localhost:8080/",
          "height": 469
        },
        "id": "fom3K4-HBO-f",
        "outputId": "0360b5cc-b989-420b-9f0d-f754d01c4856"
      },
      "execution_count": 211,
      "outputs": [
        {
          "output_type": "execute_result",
          "data": {
            "text/plain": [
              "Text(0.5, 1.0, 'L vs $\\\\epsilon$')"
            ]
          },
          "metadata": {},
          "execution_count": 211
        },
        {
          "output_type": "display_data",
          "data": {
            "text/plain": [
              "<Figure size 640x480 with 1 Axes>"
            ],
            "image/png": "[encoded data removed]"
          },
          "metadata": {}
        }
      ]
    },
    {
      "cell_type": "markdown",
      "source": [
        "##Punto 2."
      ],
      "metadata": {
        "id": "4eY4UMnhBvv0"
      }
    },
    {
      "cell_type": "code",
      "source": [
        "#Definamos el semieje mayor y menor\n",
        "xmin = abs(np.min(edo[:,2]))\n",
        "xmax = abs(np.max(edo[:,2]))\n",
        "a = (xmax-xmin)/2\n",
        "ymin = abs(np.min(edo[:,0]))\n",
        "ymax = abs(np.max(edo[:,0]))\n",
        "b = (ymax-ymin)/2\n",
        "k = (a**2 -b**2)/a**2"
      ],
      "metadata": {
        "id": "7l4FZahMCCWP"
      },
      "execution_count": 212,
      "outputs": []
    },
    {
      "cell_type": "code",
      "source": [
        "funcion = lambda x,a,k: (4*a)*(np.sqrt(1 - (k**2)*(np.sin(x)**2)))\n",
        "dom = np.linspace(0,2*np.pi,100)\n",
        "y = funcion(dom,a,k)\n",
        "integral = simpson(y,dom,dx=0.001)\n",
        "integral"
      ],
      "metadata": {
        "id": "-RRrO0zpG8-_"
      },
      "execution_count": null,
      "outputs": []
    },
    {
      "cell_type": "markdown",
      "source": [
        "\n",
        "# Matrices: Rotación  en el plano, autovalores y autovectores\n",
        "3 (33%).   Considere la siguiente matrix de rotación:\n",
        "\\begin{bmatrix} \n",
        "\\cos \\theta & -\\sin \\theta\\\\ \n",
        "\\sin \\theta & \\cos \\theta\n",
        "\\end{bmatrix}\n",
        "\n",
        "a) Encontrar el polinomio característico de A\n",
        "\n",
        "b) Encontrar los autovalores y autovectores\n",
        "\n",
        "c) construya la matriz diagonal con los autovalores y autovectores y compruebe su solución. \n",
        "\n",
        "Encontrar los autovalores y autovectores para $\\theta=45$."
      ],
      "metadata": {
        "id": "OyQ9hAIGj5UQ"
      }
    },
    {
      "cell_type": "code",
      "source": [
        "x = 45\n",
        "A = np.array(([np.cos(x),(-1)*np.sin(x)],[np.sin(x),np.cos(x)]))\n",
        "A"
      ],
      "metadata": {
        "colab": {
          "base_uri": "https://localhost:8080/"
        },
        "id": "aCWWsg48COzj",
        "outputId": "9d82d46b-a1fb-47fb-e088-fef1507112bb"
      },
      "execution_count": null,
      "outputs": [
        {
          "output_type": "execute_result",
          "data": {
            "text/plain": [
              "array([[ 0.52532199, -0.85090352],\n",
              "       [ 0.85090352,  0.52532199]])"
            ]
          },
          "metadata": {},
          "execution_count": 181
        }
      ]
    },
    {
      "cell_type": "code",
      "source": [
        "#Hallemos el polinimo característico.\n",
        "#Saquemos los coeficientes\n",
        "coeficientes = np.poly(A)\n",
        "#Creamos el polinomio.\n",
        "polinimo = np.poly1d(coeficientes)\n",
        "print(polinimo)"
      ],
      "metadata": {
        "colab": {
          "base_uri": "https://localhost:8080/"
        },
        "id": "9ylczJxfCawP",
        "outputId": "8c728d62-69e2-4b9e-f80d-ccbf527940ee"
      },
      "execution_count": null,
      "outputs": [
        {
          "output_type": "stream",
          "name": "stdout",
          "text": [
            "   2\n",
            "1 x - 1.051 x + 1\n"
          ]
        }
      ]
    },
    {
      "cell_type": "code",
      "source": [
        "#Ahora veamos los autovalores y autovectores.\n",
        "auto = np.linalg.eig(A)\n",
        "print(f'los autovalores de la matriz son: {auto[0]}')"
      ],
      "metadata": {
        "colab": {
          "base_uri": "https://localhost:8080/"
        },
        "id": "9iR05ZYcEZ1U",
        "outputId": "eb4791e7-472c-4f03-ec7f-29ef25903169"
      },
      "execution_count": null,
      "outputs": [
        {
          "output_type": "stream",
          "name": "stdout",
          "text": [
            "los autovalores de la matriz son: [0.52532199+0.85090352j 0.52532199-0.85090352j]\n"
          ]
        }
      ]
    },
    {
      "cell_type": "code",
      "source": [
        "print(f'los autovectores de la matriz son: {auto[1]}')"
      ],
      "metadata": {
        "colab": {
          "base_uri": "https://localhost:8080/"
        },
        "id": "FlEIcUxHEzd6",
        "outputId": "c3f8f69b-1042-4f33-c09a-575b3b7e3cbf"
      },
      "execution_count": null,
      "outputs": [
        {
          "output_type": "stream",
          "name": "stdout",
          "text": [
            "los autovectores de la matriz son: [[0.70710678+0.j         0.70710678-0.j        ]\n",
            " [0.        -0.70710678j 0.        +0.70710678j]]\n"
          ]
        }
      ]
    },
    {
      "cell_type": "code",
      "source": [
        "#Diagonal\n",
        "P = auto[1]\n",
        "Pinv = np.linalg.inv(P)\n",
        "diagonal = Pinv@A@P\n",
        "diagonal"
      ],
      "metadata": {
        "id": "Ck3kyH2sFGET",
        "colab": {
          "base_uri": "https://localhost:8080/"
        },
        "outputId": "4e026f96-5573-40a8-eb3b-6add5078738b"
      },
      "execution_count": null,
      "outputs": [
        {
          "output_type": "execute_result",
          "data": {
            "text/plain": [
              "array([[0.52532199+0.85090352j, 0.        +0.j        ],\n",
              "       [0.        +0.j        , 0.52532199-0.85090352j]])"
            ]
          },
          "metadata": {},
          "execution_count": 180
        }
      ]
    }
  ]
}