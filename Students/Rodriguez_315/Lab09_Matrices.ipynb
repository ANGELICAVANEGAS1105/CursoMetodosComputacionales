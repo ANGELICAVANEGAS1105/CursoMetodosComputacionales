{
  "nbformat": 4,
  "nbformat_minor": 0,
  "metadata": {
    "colab": {
      "provenance": []
    },
    "kernelspec": {
      "name": "python3",
      "display_name": "Python 3"
    },
    "language_info": {
      "name": "python"
    }
  },
  "cells": [
    {
      "cell_type": "markdown",
      "source": [
        "<a href=\"https://colab.research.google.com/github/hernansalinas/autogrades/blob/main/Laboratorios_Taller/Lab09_Matrices.ipynb\" target=\"_parent\"><img src=\"https://colab.research.google.com/assets/colab-badge.svg\" alt=\"Open In Colab\"/></a>"
      ],
      "metadata": {
        "id": "zX5mmeZ08lWy"
      }
    },
    {
      "cell_type": "markdown",
      "source": [
        "##Matrices \n",
        "\n",
        "1. **Modelo de población de una especie de pajaros** \n",
        "Se estudiará un modelo de crecimiento de la poblacion para una especie de pájaros. En esta población se supone que el número de pajaros hembras es igual al número de machos.  Sea :\n",
        "- $p_{j,n-1}$ la poblacion juvenil (inmadura) de hembras en el año (n-1) \n",
        "- $p_{a,n-1}$ el numero de hembras adultas en el mismo año.\n",
        "\n",
        "Algunos de los pájaros jóvenes morirán  durante el año. Se suponen que cierta proporción de pájaros $\\alpha$ de los pájaros jovenes sobrevivirán para llegar a adultos en la primavera del año $n$. Cada hembra que sobrevive prdocuce huevos en la primavera, los incupan y producen, en promedio, $k$ pájaros hembras jóvenes en al siguiente primavera. Los adultos también mueren y la proporcion de adultos que sobrevive de una primavera a la siguiente es $\\beta$.\n",
        "\n",
        "Un modelo para el crecimiento poblacional de pajaros \n",
        "\\begin{equation}\n",
        "p_{j,n} = kp_{a, n-1}\n",
        "\\end{equation}\n",
        "\n",
        "\n",
        "\\begin{equation}\n",
        "p_{a,n} =\\alpha p_{j,n-1} + \\beta p_{a, n-1}\n",
        "\\end{equation}\n",
        "\n",
        "Que puede ser escrita como ${\\bf p_n}=A{\\bf p_{n-1}}$, Siendo A la matrix definida en las ecuaciones anteriores, y ${\\bf p_n}$ un vector. Para la evolución temporal se cumple que: \n",
        "\n",
        "- ${\\bf p_1}=A{\\bf p_{0}}$, ${\\bf p_2}=A{\\bf p_{1}}= A(A{\\bf p_0})=A^2{\\bf p_{0}}$ $...$ y asi sucesivamente. Entonces:\n",
        "\n",
        "\\begin{equation}\n",
        "{\\bf p_n} = A^n {\\bf p_{0}}\n",
        "\\end{equation}\n",
        "\n",
        "\n",
        "Supongamos que tenemos 10 hembras  (y 10 machos) adultos y no hay jovenes, la supongmaos que la matriz A viene dada por:\n",
        "\n",
        "\\begin{bmatrix} \n",
        "0 & 2 \\\\\n",
        "0.3 & 0.5 \n",
        "\\end{bmatrix}\n",
        "\n",
        "para la primera poblacion $p_{j,1}=20$, $p_{a,1}=5$, el total de hembras es 25 y la razón jovenes adultas es de 4 a 1. Muestre que la razon $p_{j,n}/p_{a,n}$ converge $1.88$,(como no se puede tener un número racional de pájaros,. aproxime siempre el resultados al menor entero).\n",
        "\n",
        "- Para la  solución general del modelo del problema de valores y vetores propios\n",
        "se tiene que:\n",
        "\\begin{equation}\n",
        "p_n=\\lambda_1^n\\left [ a_1 \\vec{v}_1 +\\left( \\frac{\\lambda_2}{\\lambda_1} \\right)^n \\right]a_2 \\vec{v}_2\n",
        "\\end{equation}\n",
        "\n",
        "Asumiendo que $\\lambda_2/ \\lambda_1 < 1$, entonces $(\\lambda_2/ \\lambda_1)^n << 1$ cuando n crece.  Entonce spara n grande se cumple que:\n",
        "\n",
        "donde $p_n=a_1\\lambda_1^n\\vec{v}_1$\n",
        "\n",
        "\n",
        "donde:\n",
        "\n",
        "${\\bf p_0} = a_1 \\vec{v}_1 + a_2 \\vec{v}_2$, con $v_1$ y $v_2$ vectores propios de A\n",
        "\n",
        "\n",
        "\n",
        "\n"
      ],
      "metadata": {
        "id": "zRInnDiKcbSB"
      }
    },
    {
      "cell_type": "code",
      "source": [
        "#@title Librerías\n",
        "import numpy as np\n",
        "import matplotlib.pyplot as plt"
      ],
      "metadata": {
        "id": "Mn0DE9CvXBJl"
      },
      "execution_count": null,
      "outputs": []
    },
    {
      "cell_type": "markdown",
      "source": [
        "Parte a"
      ],
      "metadata": {
        "id": "JYe7woIYjo9e"
      }
    },
    {
      "cell_type": "code",
      "source": [
        "A = np.array([[0,2],[0.3,0.5]]) #matriz de coeficientes\n",
        "k = 2\n",
        "beta = 0.5\n",
        "alpha = 0.3\n",
        "def pn(matriz):\n",
        "  razon = np.zeros(100)\n",
        "  p0 = np.array([0,10]).T\n",
        "  for i,j in enumerate(range(1,101)):\n",
        "    pn = (np.linalg.matrix_power(A,j)@p0).astype(int)\n",
        "    razon[i] = pn[0]/pn[1]\n",
        "  return razon\n",
        "razon = pn(A)"
      ],
      "metadata": {
        "id": "sfPBervKXUZ3"
      },
      "execution_count": null,
      "outputs": []
    },
    {
      "cell_type": "code",
      "source": [
        "#Grafiquemos la razón para 100 valores de n y veamos si converge\n",
        "x = np.linspace(0,100,100)\n",
        "plt.plot(x,razon,'.--')\n",
        "plt.xlabel('n')\n",
        "plt.ylabel('razón')\n",
        "plt.title('Convergencia razón')\n",
        "plt.grid()\n",
        "plt.show()"
      ],
      "metadata": {
        "colab": {
          "base_uri": "https://localhost:8080/",
          "height": 472
        },
        "id": "iMg0s7ZUiFoH",
        "outputId": "6009aa32-67c9-49be-c5b8-8805b9fa711c"
      },
      "execution_count": null,
      "outputs": [
        {
          "output_type": "display_data",
          "data": {
            "text/plain": [
              "<Figure size 640x480 with 1 Axes>"
            ],
            "image/png": "[encoded data removed]"
          },
          "metadata": {}
        }
      ]
    },
    {
      "cell_type": "markdown",
      "source": [
        "Parte b"
      ],
      "metadata": {
        "id": "sZ8fubkLjsJR"
      }
    },
    {
      "cell_type": "code",
      "source": [
        "#Hallemos los valores y vectores propios de A\n",
        "eing = np.linalg.eig(A)"
      ],
      "metadata": {
        "id": "bu18tAfmjtBP"
      },
      "execution_count": null,
      "outputs": []
    },
    {
      "cell_type": "code",
      "source": [
        "#Hallemos los valores y vectores propios de A\n",
        "eing = np.linalg.eig(A)\n",
        "valoresP = eing[0]\n",
        "vectoresP = eing[1].T\n",
        "vector1 = vectoresP[0]\n",
        "vector2 = vectoresP[1]"
      ],
      "metadata": {
        "id": "HJK49RaMl0XA"
      },
      "execution_count": null,
      "outputs": []
    },
    {
      "cell_type": "code",
      "source": [
        "a = np.array([[vector1[0],vector2[0]],[vector1[1],vector2[1]]])\n",
        "b = p0\n",
        "x = np.linalg.solve(a,b)\n",
        "a1 = x[0]\n",
        "a2 = x[1]"
      ],
      "metadata": {
        "id": "rJgeo3jvohLe"
      },
      "execution_count": null,
      "outputs": []
    },
    {
      "cell_type": "code",
      "source": [
        "print(f'a1 tiene un valor de: {a1}')\n",
        "print(f'a2 tiene un valor de: {a2}')"
      ],
      "metadata": {
        "colab": {
          "base_uri": "https://localhost:8080/"
        },
        "id": "Dh9hqdJ8q-wu",
        "outputId": "a0146e37-554a-42cc-9a64-cfc9490edb0e"
      },
      "execution_count": null,
      "outputs": [
        {
          "output_type": "stream",
          "name": "stdout",
          "text": [
            "a1 tiene un valor de: 12.76497194950322\n",
            "a2 tiene un valor de: -13.916151217678744\n"
          ]
        }
      ]
    },
    {
      "cell_type": "code",
      "source": [
        "#Verificamos si los valores sí corresponden\n",
        "p1 = valoresP[0]*((a1*vector1) +(valoresP[0]/valoresP[1]))*(a2*vector2)R\n",
        "p1"
      ],
      "metadata": {
        "colab": {
          "base_uri": "https://localhost:8080/"
        },
        "id": "70TCjJj_rRRv",
        "outputId": "75ea749b-639e-440e-b3af-4cb3bceb7cf4"
      },
      "execution_count": null,
      "outputs": [
        {
          "output_type": "execute_result",
          "data": {
            "text/plain": [
              "array([ 88.79563273, -10.81483655])"
            ]
          },
          "metadata": {},
          "execution_count": 123
        }
      ]
    },
    {
      "cell_type": "markdown",
      "source": [
        "##2. **Modelo de encriptación** \n",
        "\n",
        "Un proceso para encriptar un mensaje secreto es usar cierta matrix cuadrada cuyos elementos son enteros con elementos enteros en la inversa. Se recibe un mensaje, se asigna un número a cada letra Por ejemplo, A=1, B=2, C=3, ... etc y espacio=27), se arreglan los números en una matriz de izquierda a derecha en cada fila, donde el número de elementos en la fila es igual al tamano de la matriz de codigo, se multiplica esa matriz por la matriz de código por la derecha, se transcribe el mensaje en una cadena de números y se manda el mensaje. \n",
        "\n",
        "La persona que debe recibir el mensaje conoce la matriz de codigo. El o ellla arrelgan el mensaje encriptado en una matriz de izquierda a derecha en cada fila, en donde el numero de elementos en una fila conicide con el tamano de la matriz de codigo muplicada por la derecha, por el inverso de la matriz de código y puede leer mensaje decodificado.\n",
        "\n",
        "Usted a recibido el siguiente mensaje que fue encriptado usando la matriz A. Decodifiquelo.\n",
        "\n",
        "```\n",
        "matrix([[ 1,  2, -3,  4,  5],\n",
        "        [-2, -5,  8, -8, -9],\n",
        "        [ 1,  2, -2,  7,  9],\n",
        "        [ 1,  1,  0,  6, 12],\n",
        "        [ 2,  4, -6,  8, 11]])\n",
        "```\n",
        "\n",
        "Mensaje\n",
        "\n",
        "47,49,-19,257,487,10,-9,63,137,236, 79,142,-184,372,536,59,70,-40,332,588, \n",
        "\n",
        "la primera fila del mensaje es 47,49,-19,257,487\n",
        "\n",
        "¿Cual es el mensaje?\n"
      ],
      "metadata": {
        "id": "xzJUdYelKv2N"
      }
    },
    {
      "cell_type": "code",
      "source": [
        "from numpy import matrix\n",
        "#Primero creemos la matriz de código\n",
        "C = matrix([[ 1,  2, -3,  4,  5],\n",
        "        [-2, -5,  8, -8, -9],\n",
        "        [ 1,  2, -2,  7,  9],\n",
        "        [ 1,  1,  0,  6, 12],\n",
        "        [ 2,  4, -6,  8, 11]])\n",
        "#Encontramos la inversa de la matriz\n",
        "In = C.I\n",
        "\n",
        "#Ahora creamos la matriz del mensaje\n",
        "M = matrix([[47,49,-19,257,487],\n",
        "                  [10,-9,63,137,236],\n",
        "                  [79,142,-184,372,536],\n",
        "                   [59,70,-40,332,588]])\n",
        "\n",
        "#Multipliquemos las matrices\n",
        "mensaje = (M@In)\n",
        "\n",
        "#Organicemos el mensaje para poder trabajar con él.\n",
        "mens = mensaje.flatten()\n",
        "mmm = np.round(mens).astype(int)\n",
        "#Creemos un string donde buscaremos las letras.\n",
        "abc = 'aabcdefghijklmnopqrstuvwxyz '\n",
        "texto = ''\n",
        "#Recorremos el mensaje y entregamos el código en el índice de \n",
        "for i in range(20):\n",
        "  pos = int(mmm[0,i])\n",
        "  texto += abc[pos]\n",
        "texto"
      ],
      "metadata": {
        "colab": {
          "base_uri": "https://localhost:8080/",
          "height": 36
        },
        "id": "_CWSzRgLKwt6",
        "outputId": "49e2af19-b0a2-4742-be86-5ba1ee30c2b8"
      },
      "execution_count": null,
      "outputs": [
        {
          "output_type": "execute_result",
          "data": {
            "text/plain": [
              "'are you having fun  '"
            ],
            "application/vnd.google.colaboratory.intrinsic+json": {
              "type": "string"
            }
          },
          "metadata": {},
          "execution_count": 182
        }
      ]
    },
    {
      "cell_type": "markdown",
      "source": [
        "##3. **Diagonalización**.\n",
        "\n",
        "Se sabe que un sistema físico es gobernado por las ecuaciones,\n",
        "\n",
        "\n",
        "\n",
        "$$\n",
        "\\begin{matrix}\n",
        "x' &=& 2x&-y&+z, \\\\\n",
        "y' &=&   &3y&-1z, \\\\\n",
        "z' &=& 2x&+y&+3z,\n",
        "\\end{matrix}\n",
        "$$\n",
        "\n",
        "donde $x',y',z'$ son las derivadas, en forma vectorial esto se puede representar como $\\mathbf{r}'=A\\mathbf{r}$ que tiene solución analítica general, $\\mathbf{r} = e^{At} \\mathbf{r}(0)$.<br> \n",
        "a) Diagonalize $A$.<br> \n",
        "\n",
        "b) Use el hecho de que $f(A) =U f(D) U^{-1}$ para encontrar $x(t),y(t),z(t)$ en el intervalo de tiempo $[0,2]$.<br>.\n",
        "c) Grafique $x(t),y(t),z(t)$ (use la condición inicial $\\mathbf{r}(0)=(1,1,2))$.<br> \n",
        "d) Compare el resultado a la solución analítica,\n",
        "\n",
        "$$\n",
        "\\begin{align}\n",
        "2x & = x(0)(e^{2t}(1+e^{2t}-2t)) + y(0) (-2te^{2t}) + z(0)(e^{2t}(-1+e^{2t})), \\\\\n",
        "2y & = x(0)(-e^{2t}(-1+e^{2t}-2t)) + y(0)(2(t+1)e^{2t}) + z(0)(-e^{2t}(-1+e^{2t})), \\\\\n",
        "2z & = x(0)(e^{2t}(-1+e^{2t}+2t)) + y(0)(2te^{2t}) + z(0)(e^{2t}(1+e^{2t})).\n",
        "\\end{align}\n",
        "$$\n",
        "\n",
        "\n",
        "3. "
      ],
      "metadata": {
        "id": "lizLG9-_W_qe"
      }
    },
    {
      "cell_type": "code",
      "source": [
        "#@title Librerías.\n",
        "import numpy as np\n",
        "import sympy as sp\n",
        "import matplotlib.pyplot as plt"
      ],
      "metadata": {
        "id": "4DWcDNKCcHqZ"
      },
      "execution_count": null,
      "outputs": []
    },
    {
      "cell_type": "code",
      "source": [
        "#Creemos la matriz.\n",
        "A = np.array([[2,-1,1],[0,3,-1],[2,1,3]])\n",
        "A"
      ],
      "metadata": {
        "id": "IFVRiOY98c6H",
        "colab": {
          "base_uri": "https://localhost:8080/"
        },
        "outputId": "892d8858-3f67-4350-b9a7-218c597c3bcc"
      },
      "execution_count": null,
      "outputs": [
        {
          "output_type": "execute_result",
          "data": {
            "text/plain": [
              "array([[ 2, -1,  1],\n",
              "       [ 0,  3, -1],\n",
              "       [ 2,  1,  3]])"
            ]
          },
          "metadata": {},
          "execution_count": 15
        }
      ]
    },
    {
      "cell_type": "code",
      "source": [
        "A = np.array([[2, -1, 1],\n",
        "              [0, 3, -1],\n",
        "              [2, 1, 3]])\n",
        "autoval, autovec = np.linalg.eig(A)\n",
        "\n",
        "#Diagonalizemos\n",
        "D = np.diag(autoval)\n",
        "U = autovec"
      ],
      "metadata": {
        "id": "OJiS39nIelUe"
      },
      "execution_count": null,
      "outputs": []
    },
    {
      "cell_type": "code",
      "source": [
        "def sistema(tfinal, r0):\n",
        "    t = np.linspace(0, tfinal, 100) \n",
        "    r = np.zeros((len(t), 3))\n",
        "\n",
        "    # Cálculo de la solución para cada valor de tiempo\n",
        "    for i, t in enumerate(t):\n",
        "        termino = np.exp(D*t)  \n",
        "        r[i] = U @ (termino @ np.linalg.inv(U) @ r0)\n",
        "    return r"
      ],
      "metadata": {
        "id": "i_cqOn1CBgdX"
      },
      "execution_count": null,
      "outputs": []
    },
    {
      "cell_type": "code",
      "source": [
        "#Condiciones iniciales\n",
        "r0 = np.array([1,1,2])\n",
        "tfin = 2"
      ],
      "metadata": {
        "id": "UYzawdcTCgM-"
      },
      "execution_count": null,
      "outputs": []
    },
    {
      "cell_type": "code",
      "source": [
        "solucion = sistema(tfin,r0)\n",
        "x = solucion[:,0]\n",
        "y = solucion[:,1]\n",
        "z = solucion[:,2]"
      ],
      "metadata": {
        "id": "CcjAJSg39sL2"
      },
      "execution_count": null,
      "outputs": []
    },
    {
      "cell_type": "code",
      "source": [
        "# Graficar x(t), y(t), z(t)\n",
        "plt.plot(t, x, label='x(t)')\n",
        "plt.plot(t, y, label='y(t)')\n",
        "plt.plot(t, z, label='z(t)')\n",
        "plt.xlabel('t')\n",
        "plt.ylabel('Valor')\n",
        "plt.legend()\n",
        "plt.show()"
      ],
      "metadata": {
        "colab": {
          "base_uri": "https://localhost:8080/",
          "height": 449
        },
        "id": "JjuiuW559ykW",
        "outputId": "a2ecab07-01b4-4df0-e6e2-ae16e3d634cf"
      },
      "execution_count": null,
      "outputs": [
        {
          "output_type": "display_data",
          "data": {
            "text/plain": [
              "<Figure size 640x480 with 1 Axes>"
            ],
            "image/png": "[encoded data removed]"
          },
          "metadata": {}
        }
      ]
    },
    {
      "cell_type": "markdown",
      "source": [
        "Realizado con chatgpt"
      ],
      "metadata": {
        "id": "EqZT69nGDOHG"
      }
    },
    {
      "cell_type": "code",
      "source": [
        "#Definir la función analítica de x(t), y(t), z(t)\n",
        "def x_analytical(t, x0, y0, z0):\n",
        "    return x0 * (np.exp(2*t) * (1 + np.exp(2*t) - 2*t)) + y0 * (-2*t * np.exp(2*t)) + z0 * (np.exp(2*t) * (-1 + np.exp(2*t)))\n",
        "\n",
        "def y_analytical(t, x0, y0, z0):\n",
        "    return x0 * (-np.exp(2*t) * (-1 + np.exp(2*t) - 2*t)) + y0 * (2*(t+1) * np.exp(2*t)) + z0 * (-np.exp(2*t) * (-1 + np.exp(2*t)))\n",
        "\n",
        "def z_analytical(t, x0, y0, z0):\n",
        "    return x0 * (np.exp(2*t) * (-1 + np.exp(2*t) + 2*t)) + y0 * (2*t * np.exp(2*t)) + z0 * (np.exp(2*t) * (1 + np.exp(2*t)))\n",
        "\n",
        "# Parámetros iniciales\n",
        "x0, y0, z0 = 1, 1, 2\n",
        "\n",
        "# Intervalo de tiempo\n",
        "t = np.linspace(0, 2, 100)\n",
        "\n",
        "# Calcular las soluciones analíticas\n",
        "x_analytical_values = x_analytical(t, x0, y0, z0)\n",
        "y_analytical_values = y_analytical(t, x0, y0, z0)\n",
        "z_analytical_values = z_analytical(t, x0, y0, z0)\n",
        "\n",
        "# Calcular las soluciones numéricas\n",
        "# (ya se calcularon en el paso b) del código anterior)\n",
        "\n",
        "# Graficar las soluciones analíticas y numéricas\n",
        "plt.plot(t, x_analytical_values, label='x_analytical(t)')\n",
        "plt.plot(t, y_analytical_values, label='y_analytical(t)')\n",
        "plt.plot(t, z_analytical_values, label='z_analytical(t)')\n",
        "plt.plot(t, x, 'o', label='x(t) (numerical)')\n",
        "plt.plot(t, y, 'o', label='y(t) (numerical)')\n",
        "plt.plot(t, z, 'o', label='z(t) (numerical)')\n",
        "plt.xlabel('t')\n",
        "plt\n"
      ],
      "metadata": {
        "colab": {
          "base_uri": "https://localhost:8080/",
          "height": 466
        },
        "id": "wM0aMxxv_oP5",
        "outputId": "e4eb43d1-e066-41e7-e1f7-dad777816da4"
      },
      "execution_count": null,
      "outputs": [
        {
          "output_type": "execute_result",
          "data": {
            "text/plain": [
              "<module 'matplotlib.pyplot' from '/usr/local/lib/python3.10/dist-packages/matplotlib/pyplot.py'>"
            ]
          },
          "metadata": {},
          "execution_count": 53
        },
        {
          "output_type": "display_data",
          "data": {
            "text/plain": [
              "<Figure size 640x480 with 1 Axes>"
            ],
            "image/png": "[encoded data removed]"
          },
          "metadata": {}
        }
      ]
    }
  ]
}