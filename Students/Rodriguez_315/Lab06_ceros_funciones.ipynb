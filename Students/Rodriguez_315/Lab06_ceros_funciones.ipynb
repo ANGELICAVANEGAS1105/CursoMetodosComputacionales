{
  "nbformat": 4,
  "nbformat_minor": 0,
  "metadata": {
    "colab": {
      "provenance": []
    },
    "kernelspec": {
      "name": "python3",
      "display_name": "Python 3"
    },
    "language_info": {
      "name": "python"
    }
  },
  "cells": [
    {
      "cell_type": "markdown",
      "source": [
        "<a href=\"https://colab.research.google.com/github/hernansalinas/autogrades/blob/main/Laboratorios_Taller/Lab06_ceros_funciones.ipynb\" target=\"_parent\"><img src=\"https://colab.research.google.com/assets/colab-badge.svg\" alt=\"Open In Colab\"/></a>\n"
      ],
      "metadata": {
        "id": "IgVsqbRHO_tR"
      }
    },
    {
      "cell_type": "markdown",
      "source": [
        "# Codigo Markdown:\n",
        "Los numeras a, b, c y d tiene que ver con escritura en código Markdown y comandos de latex: \n",
        "\n",
        "a. Escriba en pseudocódigo los pasos para aplicar el método de la bisección.\n",
        "\n",
        "b. Realice la deducción del metodo de Newton-Rapshon, se recomienda escribir las ecuaciones en formato latex, para ello puede emplear las siguientes expresiones:\n",
        "\n",
        "c. ¿Cuál es la diferencia del metodo de Newton-Rapson con respecto al de la secante?\n",
        "\n",
        "\n",
        "d. Escriba en pseudocódigo los pasos para aplicar el método Punto Fijo.\n",
        "\n",
        "\n",
        "\n",
        "Comentarios para escribir en latex\n",
        "\n",
        "*   Entre simbolos \\$ \\$, puedes porner expresiones  puede poner expresiones, ejemplo:  $y = a_0 x^2 + b_1$  \n",
        "\n",
        "*  Las funciones pueden ser definidas entre \\\\$,  poniendo un \\\\, antes de la funcion ejemplo: \\\\$ \\\\sinx \\\\$,   asi las funciones quedarian de esta manera : \n",
        "\n",
        "> $\\sin x$, $\\tan x$, $\\sec x$, $\\sqrt{a} $, $\\frac{a}{b}, \\frac{df}{dt}$\n",
        "\n",
        "* Puedes generar tambien escribir ecuaciones con la instrucción:\n",
        "\n",
        "  \\\\begin{equation} \n",
        "\n",
        "    \\\\sin x  \n",
        "  \n",
        "  \\\\end{equation}\n",
        "\n",
        "Ejemplo:\n",
        "\n",
        "  \\begin{equation} \n",
        "    \\frac{df}{dx} = \\sin x  \n",
        "  \\end{equation}\n",
        "\n",
        "\n"
      ],
      "metadata": {
        "id": "HmTyV2-NQKwR"
      }
    },
    {
      "cell_type": "markdown",
      "source": [
        "a. Escriba en pseudocódigo los pasos para aplicar el método de la bisección.\n",
        "\n",
        "###**Método De Bisección**\n",
        "1. Definimos un intervalo [a,b] en el cual al evaluar la función halla un cambio de signo. Esto es: $f(a)<0$ y $f(b)>0$\n",
        "2. Se encuentra el punto medio del intervalo $c = \\frac{a+b}{2}$.\n",
        "3. Se evalúa la función en el punto c y si el cambio de signo sigue estando dentro del intervalo, cambiamos el intervalo para que c sea el nuevo b. Es decir, el intervalo será [a,c].\n",
        "4. Repetimos el proceso desde que se halla el punto medio hasta llegar al valor deseado."
      ],
      "metadata": {
        "id": "XZD92G4Pdi61"
      }
    },
    {
      "cell_type": "markdown",
      "source": [
        "b. Realice la deducción del metodo de Newton-Rapshon, se recomienda escribir las ecuaciones en formato latex, para ello puede emplear las siguientes expresiones:\n",
        "\n",
        "###**Deducción Método Newton-Raphson**\n",
        "1. Partimos de un valor inicial $x_0$ cercano al valor $\\alpha$ que hace nula la función.\n",
        "2. Aplicamos la fórmula recursiva\n",
        "\\begin{equation}\n",
        "x_{n+1} = x_n - \\frac{f(x_n)}{f'(x_n)}  \\text{ con }n = 0,1,2,...\n",
        "\\end{equation}\n",
        "3. Hacemos uso de la expansión en series de Taylor para f alrededor de $x_n$, así:\n",
        "\\begin{equation}\n",
        "f(x) = f(x_n) + f'(x_n)(x-x_n) + \\frac{f''(\\beta)}{2}(x-x-n)^2 \\text{ donde } \\beta \\text{ es un punto entre } x\\text{ y }x_n \n",
        "\\end{equation}\n",
        "4. Si hacemos  $x =\\alpha$ obtenemos\n",
        "\\begin{equation}\n",
        "0 = f(\\alpha) = f(x_n) + f'(x_n)(x-x_n) + \\frac{f''(\\beta)}{2}(x-x-n)^2\n",
        "\\end{equation}\n",
        "5. Despejando $\\alpha$ tenemos que: \n",
        "\\begin{equation}\n",
        "\\alpha = x_n - \\frac{f(x_n)}{f'(x_n)} - \\frac{f''(\\beta)}{2f'(x_n)}(\\alpha-x_n)^2\n",
        "\\end{equation}"
      ],
      "metadata": {
        "id": "5zj__8NGQ0BC"
      }
    },
    {
      "cell_type": "markdown",
      "source": [
        "c. ¿Cuál es la diferencia del metodo de Newton-Rapson con respecto al de la secante?\n",
        "\n",
        "###**Método De La Secante**\n",
        "1. La diferencia recae en que no se necesita conocer la derivada de la función\n",
        "2. Se empieza nuevamente con la expansión por series de Taylor de la función $f(x)$\n",
        "3. Se toman dos puntos cercanos a una raíz de la función $x_n$ y $x_{n-1}$ mediante los cuales podemos aproximar la función por una recta secante que pasa por esos puntos, empleando una aproximación con la definición de la derivada.\n",
        "Tenemos: \n",
        "\\begin{equation}\n",
        "f(x) \\approx f(x_n) + \\frac{f(x_n) - f(x_{n-1})}{x_n - x_{n-1}}(x - x_n)\n",
        "\\end{equation}\n",
        "4. Si igualamos a cero y despejamos $x$, obtenemos:\n",
        "\\begin{equation}\n",
        "x_{n+1} = x_n - \\frac{f(x_n)(x- x_{n-1})}{(f(x_n) - f(x_{n-1}))}\n",
        "\\end{equation}"
      ],
      "metadata": {
        "id": "D7d79YgGTyb1"
      }
    },
    {
      "cell_type": "markdown",
      "source": [
        "d. Escriba en pseudocódigo los pasos para aplicar el método Punto Fijo.\n",
        "\n",
        "###**Método De Punto Fijo**\n",
        "\n",
        "1. Definir una función $g(x) = x - f(x)$\n",
        "2. Defiinir $g(x_0) = x_0 - f(x_0) = x_0$\n",
        "3. Definir el punto $p_0$, evaluar $g(p_0)$\n",
        "4. Calcular el intercepto con la línea recta $p_1 = g(p_0), (g(p_0),g(p_0)$\n",
        "5. Ir al punto $p_1$\n",
        "6. El siguiente punto es $p_1,(p_1,g(p_1)$\n",
        "7. Comparar $p_1$ con $g(p_1)$, si las condiciones no se satisfacen, repetir desde el paso 2, pero no con $p_1$"
      ],
      "metadata": {
        "id": "pAIdKKh1VyLP"
      }
    },
    {
      "cell_type": "markdown",
      "source": [
        "#2. Ceros de funciones\n",
        "*Encontrar* los ceros de $e^{x}-2= \\cos(e^x-2)$ por diferentes metodos, bisection, newton-rapshon, punto fijo."
      ],
      "metadata": {
        "id": "g-VXVLO--kuN"
      }
    },
    {
      "cell_type": "code",
      "source": [
        "from scipy import optimize\n",
        "import sympy as sp\n",
        "import numpy as np\n",
        "#Definamos la función.\n",
        "def funcion(x):\n",
        "  return np.exp(x)-2 - np.cos(np.exp(x)-2)\n",
        "#Procedamos a definir dos valores de a,b para la función.\n",
        "a = -1\n",
        "b = 2\n",
        "#Apliquemos el método bisect\n",
        "raizBiseccion = optimize.bisect(funcion,a,b)\n",
        "print(f'La raíz de la función por bisección es:  {raizBiseccion}')"
      ],
      "metadata": {
        "colab": {
          "base_uri": "https://localhost:8080/"
        },
        "id": "5LzLDx5Y-liF",
        "outputId": "8e00512d-979c-4721-a095-be0d59c808cc"
      },
      "execution_count": null,
      "outputs": [
        {
          "output_type": "stream",
          "name": "stdout",
          "text": [
            "La raíz de la función por bisección es:  1.0076239716586315\n"
          ]
        }
      ]
    },
    {
      "cell_type": "code",
      "source": [
        "#Ahora hagamos el proceso mediante Newton.\n",
        "def funcion1(x):\n",
        "  return sp.exp(x)-2 - sp.cos(sp.exp(x)-2)\n",
        "x = sp.symbols('x')\n",
        "y1 = funcion1(x)\n",
        "yprima1 = sp.diff(y1)\n",
        "print(f'La derivada de la función es:')\n",
        "yprima1"
      ],
      "metadata": {
        "colab": {
          "base_uri": "https://localhost:8080/",
          "height": 57
        },
        "id": "i2c7oQedayZQ",
        "outputId": "4a9e9c2b-e45d-4b2d-855a-48eac1603c50"
      },
      "execution_count": null,
      "outputs": [
        {
          "output_type": "stream",
          "name": "stdout",
          "text": [
            "La derivada de la función es:\n"
          ]
        },
        {
          "output_type": "execute_result",
          "data": {
            "text/plain": [
              "exp(x)*sin(exp(x) - 2) + exp(x)"
            ],
            "text/latex": "$\\displaystyle e^{x} \\sin{\\left(e^{x} - 2 \\right)} + e^{x}$"
          },
          "metadata": {},
          "execution_count": 2
        }
      ]
    },
    {
      "cell_type": "code",
      "source": [
        "#Ahora vamos a transformar objeto de sympy a numpy.\n",
        "funcionLambda1 =  sp.lambdify(x,yprima1,'numpy')\n",
        "#Y aplicamos el método de Newton.\n",
        "raizNewton1 = optimize.newton(funcion,1, fprime= funcionLambda1)\n",
        "print(f'La raíz mediante el método de Newton es: {raizNewton1}')"
      ],
      "metadata": {
        "colab": {
          "base_uri": "https://localhost:8080/"
        },
        "id": "qSBawmMZbWfS",
        "outputId": "a80804ff-791f-4579-a7f5-fb3adeea5636"
      },
      "execution_count": null,
      "outputs": [
        {
          "output_type": "stream",
          "name": "stdout",
          "text": [
            "La raíz mediante el método de Newton es: 1.0076239716581368\n"
          ]
        }
      ]
    },
    {
      "cell_type": "code",
      "source": [
        "#Ahora lo vamos a hacer mediante el método de Punto Fijo.\n",
        "def gdex1(x):\n",
        "  return x - funcion(x)\n",
        "raizPuntoFijo1 = optimize.fixed_point(gdex1,0.9)\n",
        "print(f'La raíz por punto Fijo es: {raizPuntoFijo1}')"
      ],
      "metadata": {
        "colab": {
          "base_uri": "https://localhost:8080/"
        },
        "id": "6ugn2xY7s69W",
        "outputId": "5d817c8d-58c0-46e3-f571-a809a36666a2"
      },
      "execution_count": null,
      "outputs": [
        {
          "output_type": "stream",
          "name": "stdout",
          "text": [
            "La raíz por punto Fijo es: 1.0076239716581363\n"
          ]
        }
      ]
    },
    {
      "cell_type": "code",
      "source": [
        "import matplotlib.pyplot as plt\n",
        "x = np.linspace(-0,2)\n",
        "y = funcion(x)\n",
        "plt.grid()\n",
        "plt.plot(x,y)\n",
        "plt.axhline(y=0, xmin=0.1, xmax=0.9, color='red');"
      ],
      "metadata": {
        "colab": {
          "base_uri": "https://localhost:8080/",
          "height": 267
        },
        "id": "OLp2GhaoEIP6",
        "outputId": "df3e4b23-fcbe-4594-ec4a-e8e98ba84a44"
      },
      "execution_count": null,
      "outputs": [
        {
          "output_type": "display_data",
          "data": {
            "text/plain": [
              "<Figure size 432x288 with 1 Axes>"
            ],
            "image/png": "[encoded data removed]"
          },
          "metadata": {
            "needs_background": "light"
          }
        }
      ]
    },
    {
      "cell_type": "markdown",
      "source": [
        "#3. Partícula en reposo\n",
        "Una particula parte del reposo sobre un plano inclinado uniforme, cuyo ángulo \n",
        "$\\theta$ cambia con una rapidez constante de : \n",
        "\n",
        "\\begin{equation}\n",
        "\\frac{\\mathrm{d}\\theta}{\\mathrm{d} t} = \\omega < 0\n",
        "\\end{equation}\n",
        "\n",
        "Al final de t segundos, la posición del objeto esta dada por: \n",
        "\n",
        "\n",
        "\\begin{equation}\n",
        "x(t) = -\\frac{g}{2\\omega^2} \\left( \\frac{e^{\\omega t}-e^{-\\omega t}}{2}-\\sin\\omega t\\right) \n",
        "\\end{equation}\n",
        "\n",
        "Suponga que la particula se desplazo 0.51m en 1s. Encuentre, con exactitud de $10^{-5}$ la rapidez $\\omega$ con que cambia $\\theta$. Supoga $g=9.76$m/s\n",
        "\n",
        " "
      ],
      "metadata": {
        "id": "DIOVE0E1XZ1-"
      }
    },
    {
      "cell_type": "code",
      "source": [
        "#Definamos la función con los valores ya preestablecidos.\n",
        "def funcionDeX(omega,tiempo=1,g=9.8):\n",
        "  return (-g/(2*omega**2))*(((np.exp(omega*tiempo)-np.exp(-omega*tiempo))/2)- (np.sin(omega*tiempo)))"
      ],
      "metadata": {
        "id": "l63C0jcyAigD"
      },
      "execution_count": null,
      "outputs": []
    },
    {
      "cell_type": "code",
      "source": [
        "#Dejemos la expresión igualada a cero.\n",
        "funcion = lambda omega: funcionDeX(omega)- 0.51\n",
        "raiz = optimize.bisect(funcion,-1,-0.00001)\n",
        "print(f'La rapidez omega es: {raiz}')"
      ],
      "metadata": {
        "colab": {
          "base_uri": "https://localhost:8080/"
        },
        "id": "zqnbtqNRDNpF",
        "outputId": "4c8200ae-70eb-4ce8-d99a-0880aa06937f"
      },
      "execution_count": null,
      "outputs": [
        {
          "output_type": "stream",
          "name": "stdout",
          "text": [
            "La rapidez omega es: -0.31224136471772596\n"
          ]
        }
      ]
    },
    {
      "cell_type": "markdown",
      "source": [
        "#3.  Area \n",
        "Hallar el área de un segmento circular cuya area sea igual a una cuarta parte del área del circulo. Para la solución se sugiere lo siguiente:\n",
        "\n",
        "a) Encontrar la ecuacion trascendental.\n",
        "\n",
        "b) Con la ecuación anterior, definir una funcion $f(\\theta)=0$. Emplee la funcion labmda de python.\n",
        "\n",
        "c) Construir una data frame de pandas con la columna \"theta\" con 1000 registros(filas) entre $[-2\\pi, 2\\pi]$. Sugerencia, para construir el data frame emplee la función linspace como sigue : np.linspace(-2*np.pi, 2*np.pi, 1000 )\n",
        "\n",
        "d) Construir una segunda columna titulada \"F_theta\" con los registros f(theta)\n",
        "\n",
        "f) Realice un gráfico de  \"F_theta\" vs \"theta\". Identifique el intervalo de la raiz.\n",
        "\n",
        "Estime el valor del ángulo empleando los siguientes metodos(Emplee  la documentacion):\n",
        "\n",
        "g) [Bisección](https://docs.scipy.org/doc/scipy/reference/generated/scipy.optimize.bisect.html)\n",
        "\n",
        "h) [Newton-Rapshon](https://docs.scipy.org/doc/scipy/reference/generated/scipy.optimize.newton.html)\n",
        "\n",
        "i) [Secante](https://docs.scipy.org/doc/scipy/reference/generated/scipy.optimize.newton.html) \n",
        "\n",
        "j) [Punto Fijo](https://docs.scipy.org/doc/scipy/reference/generated/scipy.optimize.fixed_point.html)\n"
      ],
      "metadata": {
        "id": "3SVJWnEeVcAP"
      }
    },
    {
      "cell_type": "markdown",
      "source": [
        "a) Encontrar la ecuacion trascendental.\\\n",
        "El área del segmento circular es:\n",
        "\n",
        "\\begin{equation}\n",
        "  \\frac{R^2}{2} ( \\theta-\\sin(\\theta))\n",
        "\\end{equation}\n",
        "\n",
        "El cuarto del área de un círculo es:\n",
        "\\begin{equation}\n",
        " \\frac{1}{4}\\pi R^2\n",
        "\\end{equation} \\\n",
        "La función trascendental es:\n",
        "\\begin{equation}\n",
        " \\frac{1}{2} ( \\theta-\\sin(\\theta)) = \\frac{1}{4}\\pi\n",
        "\\end{equation} \\"
      ],
      "metadata": {
        "id": "UlMdVfZ9ElvX"
      }
    },
    {
      "cell_type": "markdown",
      "source": [
        "b) Con la ecuación anterior, definir una funcion $f(\\theta)=0$. Emplee la funcion labmda de python"
      ],
      "metadata": {
        "id": "6kLNo4_fIfZn"
      }
    },
    {
      "cell_type": "code",
      "source": [
        "funcion = lambda theta: ((1/2)*(theta-np.sin(theta))) - ((1/4)*np.pi)"
      ],
      "metadata": {
        "id": "edH0a_5q-pRF"
      },
      "execution_count": null,
      "outputs": []
    },
    {
      "cell_type": "markdown",
      "source": [
        "c) Construir una data frame de pandas con la columna \"theta\" con 1000 registros(filas) entre  [−2π,2π] . Sugerencia, para construir el data frame emplee la función linspace como sigue : np.linspace(-2np.pi, 2np.pi, 1000 )"
      ],
      "metadata": {
        "id": "oV7FiEX5KwXk"
      }
    },
    {
      "cell_type": "code",
      "source": [
        "import pandas as pd\n",
        "df = pd.DataFrame()\n",
        "df['Theta'] = np.linspace(-2*np.pi,2*np.pi,1000)"
      ],
      "metadata": {
        "id": "OmUP-4lxKwBF"
      },
      "execution_count": null,
      "outputs": []
    },
    {
      "cell_type": "markdown",
      "source": [
        "d) Construir una segunda columna titulada \"F_theta\" con los registros f(theta)"
      ],
      "metadata": {
        "id": "HyMKnyZ2M6i4"
      }
    },
    {
      "cell_type": "code",
      "source": [
        "df['F_theta'] = funcion(df['Theta'])\n",
        "df"
      ],
      "metadata": {
        "colab": {
          "base_uri": "https://localhost:8080/",
          "height": 423
        },
        "id": "X7scI4b0Lh1H",
        "outputId": "d914cd1e-6d69-40ea-f62d-1f97af1625c4"
      },
      "execution_count": null,
      "outputs": [
        {
          "output_type": "execute_result",
          "data": {
            "text/plain": [
              "        Theta   F_theta\n",
              "0   -6.283185 -3.926991\n",
              "1   -6.270606 -3.926991\n",
              "2   -6.258027 -3.926989\n",
              "3   -6.245448 -3.926986\n",
              "4   -6.232870 -3.926980\n",
              "..        ...       ...\n",
              "995  6.232870  2.356184\n",
              "996  6.245448  2.356190\n",
              "997  6.258027  2.356193\n",
              "998  6.270606  2.356194\n",
              "999  6.283185  2.356194\n",
              "\n",
              "[1000 rows x 2 columns]"
            ],
            "text/html": [
              "\n",
              "  <div id=\"df-2b99a657-7b16-44c4-b311-a7469b095c76\">\n",
              "    <div class=\"colab-df-container\">\n",
              "      <div>\n",
              "<style scoped>\n",
              "    .dataframe tbody tr th:only-of-type {\n",
              "        vertical-align: middle;\n",
              "    }\n",
              "\n",
              "    .dataframe tbody tr th {\n",
              "        vertical-align: top;\n",
              "    }\n",
              "\n",
              "    .dataframe thead th {\n",
              "        text-align: right;\n",
              "    }\n",
              "</style>\n",
              "<table border=\"1\" class=\"dataframe\">\n",
              "  <thead>\n",
              "    <tr style=\"text-align: right;\">\n",
              "      <th></th>\n",
              "      <th>Theta</th>\n",
              "      <th>F_theta</th>\n",
              "    </tr>\n",
              "  </thead>\n",
              "  <tbody>\n",
              "    <tr>\n",
              "      <th>0</th>\n",
              "      <td>-6.283185</td>\n",
              "      <td>-3.926991</td>\n",
              "    </tr>\n",
              "    <tr>\n",
              "      <th>1</th>\n",
              "      <td>-6.270606</td>\n",
              "      <td>-3.926991</td>\n",
              "    </tr>\n",
              "    <tr>\n",
              "      <th>2</th>\n",
              "      <td>-6.258027</td>\n",
              "      <td>-3.926989</td>\n",
              "    </tr>\n",
              "    <tr>\n",
              "      <th>3</th>\n",
              "      <td>-6.245448</td>\n",
              "      <td>-3.926986</td>\n",
              "    </tr>\n",
              "    <tr>\n",
              "      <th>4</th>\n",
              "      <td>-6.232870</td>\n",
              "      <td>-3.926980</td>\n",
              "    </tr>\n",
              "    <tr>\n",
              "      <th>...</th>\n",
              "      <td>...</td>\n",
              "      <td>...</td>\n",
              "    </tr>\n",
              "    <tr>\n",
              "      <th>995</th>\n",
              "      <td>6.232870</td>\n",
              "      <td>2.356184</td>\n",
              "    </tr>\n",
              "    <tr>\n",
              "      <th>996</th>\n",
              "      <td>6.245448</td>\n",
              "      <td>2.356190</td>\n",
              "    </tr>\n",
              "    <tr>\n",
              "      <th>997</th>\n",
              "      <td>6.258027</td>\n",
              "      <td>2.356193</td>\n",
              "    </tr>\n",
              "    <tr>\n",
              "      <th>998</th>\n",
              "      <td>6.270606</td>\n",
              "      <td>2.356194</td>\n",
              "    </tr>\n",
              "    <tr>\n",
              "      <th>999</th>\n",
              "      <td>6.283185</td>\n",
              "      <td>2.356194</td>\n",
              "    </tr>\n",
              "  </tbody>\n",
              "</table>\n",
              "<p>1000 rows × 2 columns</p>\n",
              "</div>\n",
              "      <button class=\"colab-df-convert\" onclick=\"convertToInteractive('df-2b99a657-7b16-44c4-b311-a7469b095c76')\"\n",
              "              title=\"Convert this dataframe to an interactive table.\"\n",
              "              style=\"display:none;\">\n",
              "        \n",
              "  <svg xmlns=\"http://www.w3.org/2000/svg\" height=\"24px\"viewBox=\"0 0 24 24\"\n",
              "       width=\"24px\">\n",
              "    <path d=\"M0 0h24v24H0V0z\" fill=\"none\"/>\n",
              "    <path d=\"M18.56 5.44l.94 2.06.94-2.06 2.06-.94-2.06-.94-.94-2.06-.94 2.06-2.06.94zm-11 1L8.5 8.5l.94-2.06 2.06-.94-2.06-.94L8.5 2.5l-.94 2.06-2.06.94zm10 10l.94 2.06.94-2.06 2.06-.94-2.06-.94-.94-2.06-.94 2.06-2.06.94z\"/><path d=\"M17.41 7.96l-1.37-1.37c-.4-.4-.92-.59-1.43-.59-.52 0-1.04.2-1.43.59L10.3 9.45l-7.72 7.72c-.78.78-.78 2.05 0 2.83L4 21.41c.39.39.9.59 1.41.59.51 0 1.02-.2 1.41-.59l7.78-7.78 2.81-2.81c.8-.78.8-2.07 0-2.86zM5.41 20L4 18.59l7.72-7.72 1.47 1.35L5.41 20z\"/>\n",
              "  </svg>\n",
              "      </button>\n",
              "      \n",
              "  <style>\n",
              "    .colab-df-container {\n",
              "      display:flex;\n",
              "      flex-wrap:wrap;\n",
              "      gap: 12px;\n",
              "    }\n",
              "\n",
              "    .colab-df-convert {\n",
              "      background-color: #E8F0FE;\n",
              "      border: none;\n",
              "      border-radius: 50%;\n",
              "      cursor: pointer;\n",
              "      display: none;\n",
              "      fill: #1967D2;\n",
              "      height: 32px;\n",
              "      padding: 0 0 0 0;\n",
              "      width: 32px;\n",
              "    }\n",
              "\n",
              "    .colab-df-convert:hover {\n",
              "      background-color: #E2EBFA;\n",
              "      box-shadow: 0px 1px 2px rgba(60, 64, 67, 0.3), 0px 1px 3px 1px rgba(60, 64, 67, 0.15);\n",
              "      fill: #174EA6;\n",
              "    }\n",
              "\n",
              "    [theme=dark] .colab-df-convert {\n",
              "      background-color: #3B4455;\n",
              "      fill: #D2E3FC;\n",
              "    }\n",
              "\n",
              "    [theme=dark] .colab-df-convert:hover {\n",
              "      background-color: #434B5C;\n",
              "      box-shadow: 0px 1px 3px 1px rgba(0, 0, 0, 0.15);\n",
              "      filter: drop-shadow(0px 1px 2px rgba(0, 0, 0, 0.3));\n",
              "      fill: #FFFFFF;\n",
              "    }\n",
              "  </style>\n",
              "\n",
              "      <script>\n",
              "        const buttonEl =\n",
              "          document.querySelector('#df-2b99a657-7b16-44c4-b311-a7469b095c76 button.colab-df-convert');\n",
              "        buttonEl.style.display =\n",
              "          google.colab.kernel.accessAllowed ? 'block' : 'none';\n",
              "\n",
              "        async function convertToInteractive(key) {\n",
              "          const element = document.querySelector('#df-2b99a657-7b16-44c4-b311-a7469b095c76');\n",
              "          const dataTable =\n",
              "            await google.colab.kernel.invokeFunction('convertToInteractive',\n",
              "                                                     [key], {});\n",
              "          if (!dataTable) return;\n",
              "\n",
              "          const docLinkHtml = 'Like what you see? Visit the ' +\n",
              "            '<a target=\"_blank\" href=https://colab.research.google.com/notebooks/data_table.ipynb>data table notebook</a>'\n",
              "            + ' to learn more about interactive tables.';\n",
              "          element.innerHTML = '';\n",
              "          dataTable['output_type'] = 'display_data';\n",
              "          await google.colab.output.renderOutput(dataTable, element);\n",
              "          const docLink = document.createElement('div');\n",
              "          docLink.innerHTML = docLinkHtml;\n",
              "          element.appendChild(docLink);\n",
              "        }\n",
              "      </script>\n",
              "    </div>\n",
              "  </div>\n",
              "  "
            ]
          },
          "metadata": {},
          "execution_count": 10
        }
      ]
    },
    {
      "cell_type": "markdown",
      "source": [
        "f) Realice un gráfico de  \"F_theta\" vs \"theta\". Identifique el intervalo de la raiz."
      ],
      "metadata": {
        "id": "hH2srRHWNCfx"
      }
    },
    {
      "cell_type": "code",
      "source": [
        "import matplotlib.pyplot as plt\n",
        "plt.plot(df['Theta'], df['F_theta'],'blue');\n",
        "plt.title('F_theta vs theta');\n",
        "plt.grid()\n",
        "plt.axhline(y=0, xmin=0.1, xmax=0.9, color='red');\n",
        "print('El intervalo de la raíz es cercano a: 2 y 3')"
      ],
      "metadata": {
        "colab": {
          "base_uri": "https://localhost:8080/",
          "height": 299
        },
        "id": "TuZpunFwM_tH",
        "outputId": "ceb90374-7b6e-414b-913c-d63ec25e74f6"
      },
      "execution_count": null,
      "outputs": [
        {
          "output_type": "stream",
          "name": "stdout",
          "text": [
            "El intervalo de la raíz es cercano a: 2 y 3\n"
          ]
        },
        {
          "output_type": "display_data",
          "data": {
            "text/plain": [
              "<Figure size 432x288 with 1 Axes>"
            ],
            "image/png": "[encoded data removed]"
          },
          "metadata": {
            "needs_background": "light"
          }
        }
      ]
    },
    {
      "cell_type": "markdown",
      "source": [
        "Estime el valor del ángulo empleando los siguientes metodos\\\n",
        "g) Bisección"
      ],
      "metadata": {
        "id": "FoDnAlaXLCrV"
      }
    },
    {
      "cell_type": "code",
      "source": [
        "a = 2\n",
        "b = 3\n",
        "raiz = optimize.bisect(funcion,a,b)\n",
        "print(f'La raíz de la función por bisección es:  {raiz}')\n"
      ],
      "metadata": {
        "colab": {
          "base_uri": "https://localhost:8080/"
        },
        "id": "m_JbIUitPYs8",
        "outputId": "0d7dd5fb-6215-4b53-f427-2952c6a791bf"
      },
      "execution_count": null,
      "outputs": [
        {
          "output_type": "stream",
          "name": "stdout",
          "text": [
            "La raíz de la función por bisección es:  2.309881460010729\n"
          ]
        }
      ]
    },
    {
      "cell_type": "markdown",
      "source": [
        "h) Newton"
      ],
      "metadata": {
        "id": "O1NmAloqe5JH"
      }
    },
    {
      "cell_type": "code",
      "source": [
        "import sympy as sp\n",
        "funcion1 = lambda theta: ((1/2)*(theta-sp.sin(theta))) - ((1/4)*sp.pi)\n",
        "theta = sp.symbols('theta')\n",
        "y1 = funcion1(theta)\n",
        "yprima1 = sp.diff(y1)\n",
        "print(f'La derivada de la función es:')\n",
        "yprima1"
      ],
      "metadata": {
        "colab": {
          "base_uri": "https://localhost:8080/",
          "height": 57
        },
        "id": "ayDo8lMze4XJ",
        "outputId": "8f7c5940-4ccb-42e7-94ed-308db8290816"
      },
      "execution_count": null,
      "outputs": [
        {
          "output_type": "stream",
          "name": "stdout",
          "text": [
            "La derivada de la función es:\n"
          ]
        },
        {
          "output_type": "execute_result",
          "data": {
            "text/plain": [
              "0.5 - 0.5*cos(theta)"
            ],
            "text/latex": "$\\displaystyle 0.5 - 0.5 \\cos{\\left(\\theta \\right)}$"
          },
          "metadata": {},
          "execution_count": 13
        }
      ]
    },
    {
      "cell_type": "code",
      "source": [
        "#Ahora vamos a transformar objeto de sympy a numpy.\n",
        "funcionLambda1 =  sp.lambdify(theta,yprima1,'numpy')\n",
        "#Y aplicamos el método de Newton.\n",
        "raizNewton1 = optimize.newton(funcion,1, fprime= funcionLambda1)\n",
        "print(f'La raíz mediante el método de Newton es: {raizNewton1}')"
      ],
      "metadata": {
        "colab": {
          "base_uri": "https://localhost:8080/"
        },
        "id": "AusAME4AfRZN",
        "outputId": "47797834-cb4d-4b95-9dd7-b75b12fd2124"
      },
      "execution_count": null,
      "outputs": [
        {
          "output_type": "stream",
          "name": "stdout",
          "text": [
            "La raíz mediante el método de Newton es: 2.309881460010057\n"
          ]
        }
      ]
    },
    {
      "cell_type": "markdown",
      "source": [
        "i) Secante"
      ],
      "metadata": {
        "id": "5gqdD0pnfbqz"
      }
    },
    {
      "cell_type": "code",
      "source": [
        "#Hacemos uso del mismo método pero sin darle como parámetro la derivada\n",
        "raizSecante = optimize.newton(funcion,1)\n",
        "print(f'La raíz mediante el método de la secante es: {raizSecante}')"
      ],
      "metadata": {
        "colab": {
          "base_uri": "https://localhost:8080/"
        },
        "id": "-UKd7Yy8fe3J",
        "outputId": "f091e349-eb27-4ea7-c29d-a3da2e2a50c8"
      },
      "execution_count": null,
      "outputs": [
        {
          "output_type": "stream",
          "name": "stdout",
          "text": [
            "La raíz mediante el método de la secante es: 2.3098814600100575\n"
          ]
        }
      ]
    },
    {
      "cell_type": "markdown",
      "source": [
        "j) Punto Fijo."
      ],
      "metadata": {
        "id": "QjUFvwF6f3Au"
      }
    },
    {
      "cell_type": "code",
      "source": [
        "gdex2 = lambda tetha: tetha - funcion(tetha)\n",
        "raizPuntoFijo2 = optimize.fixed_point(gdex2,2.3)\n",
        "print(f'La raíz mediante punto fijo es: {raizPuntoFijo2}')"
      ],
      "metadata": {
        "id": "xfm6s4Gqf6Ux"
      },
      "execution_count": null,
      "outputs": []
    },
    {
      "cell_type": "markdown",
      "source": [
        "\n",
        "\n",
        "# 3. Movimiento de proyectiles en presencia de viento.\n",
        "\n",
        "Supongamos que un proyectil es lanzado desde el origen con una rapidez $v=vo( \\cos \\theta , \\sin \\theta $. Supongamos además que el efecto del viento sobre el proyectil es el de una fuerza proporcional a la velocidad relativa entre el viento y el proyectil. Teniendo presente que si u es la velocidad del viento y $\\alpha$ el ángulo que hace dirección de esta velocidad con el eje x, se puede entrontrar las siguientes ecuaciones diferenciales, asociada al estado de movimiento del [proyectil](https://iopscience.iop.org/article/10.1088/0143-0807/36/2/025016/meta):\n",
        "\n",
        "\n",
        "\\begin{equation}\n",
        "m\\frac{dv_x}{dt} = -mb(v_x-u\\cos \\alpha )\n",
        "\\end{equation}\n",
        "\n",
        "\\begin{equation}\n",
        "m\\frac{dv_y}{dt} = -mg-mb(v_x-u\\sin \\alpha ),\n",
        "\\end{equation}\n",
        "\n",
        "donde b es el párametro de rozamiento. La soluciones a las ecuaciones anteriores vienen dadas por:\n",
        "\n",
        "Posición en x\n",
        "\\begin{equation}\n",
        "x=(u\\cos \\alpha) t + \\frac{1}{b} (v_0\\cos \\theta_0 -u \\cos\\alpha)(1-\\mathrm{exp}(-bt))\n",
        "\\end{equation}\n",
        "\n",
        "Posicion en y \n",
        "\\begin{equation}\n",
        "y= \\frac{1}{b}\\left(\\frac{g}{b}+v_0 \\sin \\theta_0 -u\\sin\\alpha \\right)(1-\\mathrm{exp}(-bt))-\\left( \\frac{g}{b}-u\\sin\\alpha\\right)t\n",
        "\\end{equation}\n",
        "\n",
        "Ver imagen:  http://www.sc.ehu.es/sbweb/fisica3/fluidos/viento/parabolico.html"
      ],
      "metadata": {
        "id": "zxQOD2FgQIfM"
      }
    },
    {
      "cell_type": "markdown",
      "source": [
        "###0. Establezca las siguietnes condiciones inciales."
      ],
      "metadata": {
        "id": "6tSXOCMTxYhD"
      }
    },
    {
      "cell_type": "code",
      "source": [
        "#Parámetros iniciales\n",
        "\n",
        "v0 = 60 #Velocidad en m/s\n",
        "alpha = np.pi #Angulo del viento\n",
        "theta = np.deg2rad(45) #Angulo de lanzamiento\n",
        "u = v0/2             #rapidez del viento\n",
        "b = 0.05             #Parametro de friccion \n",
        "g = 9.8                #Aceleracion de la gravedad m/s2\n",
        "\n",
        "Params = (alpha, v0, b, u,g)  #Parametros en tupla."
      ],
      "metadata": {
        "id": "xrIXqj79xo-k"
      },
      "execution_count": null,
      "outputs": []
    },
    {
      "cell_type": "markdown",
      "source": [
        "###1. Defina dos funciones, una para x y otra para y. "
      ],
      "metadata": {
        "id": "Pw-DlDDfxdtl"
      }
    },
    {
      "cell_type": "markdown",
      "source": [
        "Posición en x\n",
        "\\begin{equation}\n",
        "x=(u\\cos \\alpha) t + \\frac{1}{b} (v_0\\cos \\theta_0 -u \\cos\\alpha)(1-\\mathrm{exp}(-bt))\n",
        "\\end{equation}\n",
        "\n",
        "Posicion en y \n",
        "\\begin{equation}\n",
        "y= \\frac{1}{b}\\left(\\frac{g}{b}+v_0 \\sin \\theta_0 -u\\sin\\alpha \\right)(1-\\mathrm{exp}(-bt))-\\left( \\frac{g}{b}-u\\sin\\alpha\\right)t\n",
        "\\end{equation}"
      ],
      "metadata": {
        "id": "dVi5wNFlx_rv"
      }
    },
    {
      "cell_type": "code",
      "source": [
        "# Posicion en x\n",
        "def pos_x(t, theta, alpha = np.pi, v0=60, b=0.05, u = v0/2,g=9.8):\n",
        "  return (u*np.cos(alpha))*t + (1/b)*(v0*np.cos(theta) - u*np.cos(alpha))*(1-np.exp(-b*t))\n",
        "\n",
        "# Posicion en y\n",
        "def pos_y(t, theta, alpha = np.pi, v0=60, b=0.05, u = v0/2,g=9.8):\n",
        "  y = (1/b)*((g/b) + v0*np.sin(theta)- u*np.sin(alpha))*(1- np.exp(-b*t)) - ((g/b)-u*np.sin(alpha))*t\n",
        "  return y "
      ],
      "metadata": {
        "id": "hXiWi6Yaxsri"
      },
      "execution_count": null,
      "outputs": []
    },
    {
      "cell_type": "markdown",
      "source": [
        "2. Construya un diccionario con las claves \"X\", \"Y\", \"Tiempo\""
      ],
      "metadata": {
        "id": "iPGdtE69xmz9"
      }
    },
    {
      "cell_type": "code",
      "source": [
        "diccionario = {'X':[],'Y':[],'Tiempo':[]}\n",
        "diccionario"
      ],
      "metadata": {
        "colab": {
          "base_uri": "https://localhost:8080/"
        },
        "id": "biBY9ZCMy4lc",
        "outputId": "f2442e15-0ac8-48e3-d13d-46a30875e810"
      },
      "execution_count": null,
      "outputs": [
        {
          "output_type": "execute_result",
          "data": {
            "text/plain": [
              "{'X': [], 'Y': [], 'Tiempo': []}"
            ]
          },
          "metadata": {},
          "execution_count": 19
        }
      ]
    },
    {
      "cell_type": "markdown",
      "source": [
        "3. Con el diccionario construya un data frame de pandas llamado df con los nombres de columnas \"X\", \"Y\", \"Tiempo\"  https://pandas.pydata.org/docs/reference/api/pandas.DataFrame.from_dict.html. Defina 1000 regitros para el intervalo de tiempo elegido."
      ],
      "metadata": {
        "id": "wq4xBF0A_wVy"
      }
    },
    {
      "cell_type": "code",
      "source": [
        "diccionario = {'X':[],'Y':[],'Tiempo':[]}\n",
        "diccionario\n",
        "df = pd.DataFrame(diccionario)\n",
        "df['Tiempo'] = np.linspace(0,8.2,1000)\n",
        "theta = np.deg2rad(45)\n",
        "df['X'] = df['Tiempo'].apply(lambda tiempo: pos_x(tiempo,theta))\n",
        "df['Y'] = df['Tiempo'].apply(lambda tiempo: pos_y(tiempo,theta))\n",
        "df"
      ],
      "metadata": {
        "id": "HNr50gAARso0",
        "colab": {
          "base_uri": "https://localhost:8080/",
          "height": 423
        },
        "outputId": "55ce4403-ee7f-4c71-e5cf-1887edc778a7"
      },
      "execution_count": null,
      "outputs": [
        {
          "output_type": "execute_result",
          "data": {
            "text/plain": [
              "              X         Y    Tiempo\n",
              "0      0.000000  0.000000  0.000000\n",
              "1      0.348123  0.347843  0.008208\n",
              "2      0.696002  0.694884  0.016416\n",
              "3      1.043637  1.041121  0.024625\n",
              "4      1.391028  1.386557  0.032833\n",
              "..          ...       ...       ...\n",
              "995  240.617629 -2.070982  8.167167\n",
              "996  240.766484 -2.379124  8.175375\n",
              "997  240.915177 -2.687801  8.183584\n",
              "998  241.063708 -2.997011  8.191792\n",
              "999  241.212077 -3.306754  8.200000\n",
              "\n",
              "[1000 rows x 3 columns]"
            ],
            "text/html": [
              "\n",
              "  <div id=\"df-a67d7ee6-cc4c-4ce0-ba16-e87bf8dffe0a\">\n",
              "    <div class=\"colab-df-container\">\n",
              "      <div>\n",
              "<style scoped>\n",
              "    .dataframe tbody tr th:only-of-type {\n",
              "        vertical-align: middle;\n",
              "    }\n",
              "\n",
              "    .dataframe tbody tr th {\n",
              "        vertical-align: top;\n",
              "    }\n",
              "\n",
              "    .dataframe thead th {\n",
              "        text-align: right;\n",
              "    }\n",
              "</style>\n",
              "<table border=\"1\" class=\"dataframe\">\n",
              "  <thead>\n",
              "    <tr style=\"text-align: right;\">\n",
              "      <th></th>\n",
              "      <th>X</th>\n",
              "      <th>Y</th>\n",
              "      <th>Tiempo</th>\n",
              "    </tr>\n",
              "  </thead>\n",
              "  <tbody>\n",
              "    <tr>\n",
              "      <th>0</th>\n",
              "      <td>0.000000</td>\n",
              "      <td>0.000000</td>\n",
              "      <td>0.000000</td>\n",
              "    </tr>\n",
              "    <tr>\n",
              "      <th>1</th>\n",
              "      <td>0.348123</td>\n",
              "      <td>0.347843</td>\n",
              "      <td>0.008208</td>\n",
              "    </tr>\n",
              "    <tr>\n",
              "      <th>2</th>\n",
              "      <td>0.696002</td>\n",
              "      <td>0.694884</td>\n",
              "      <td>0.016416</td>\n",
              "    </tr>\n",
              "    <tr>\n",
              "      <th>3</th>\n",
              "      <td>1.043637</td>\n",
              "      <td>1.041121</td>\n",
              "      <td>0.024625</td>\n",
              "    </tr>\n",
              "    <tr>\n",
              "      <th>4</th>\n",
              "      <td>1.391028</td>\n",
              "      <td>1.386557</td>\n",
              "      <td>0.032833</td>\n",
              "    </tr>\n",
              "    <tr>\n",
              "      <th>...</th>\n",
              "      <td>...</td>\n",
              "      <td>...</td>\n",
              "      <td>...</td>\n",
              "    </tr>\n",
              "    <tr>\n",
              "      <th>995</th>\n",
              "      <td>240.617629</td>\n",
              "      <td>-2.070982</td>\n",
              "      <td>8.167167</td>\n",
              "    </tr>\n",
              "    <tr>\n",
              "      <th>996</th>\n",
              "      <td>240.766484</td>\n",
              "      <td>-2.379124</td>\n",
              "      <td>8.175375</td>\n",
              "    </tr>\n",
              "    <tr>\n",
              "      <th>997</th>\n",
              "      <td>240.915177</td>\n",
              "      <td>-2.687801</td>\n",
              "      <td>8.183584</td>\n",
              "    </tr>\n",
              "    <tr>\n",
              "      <th>998</th>\n",
              "      <td>241.063708</td>\n",
              "      <td>-2.997011</td>\n",
              "      <td>8.191792</td>\n",
              "    </tr>\n",
              "    <tr>\n",
              "      <th>999</th>\n",
              "      <td>241.212077</td>\n",
              "      <td>-3.306754</td>\n",
              "      <td>8.200000</td>\n",
              "    </tr>\n",
              "  </tbody>\n",
              "</table>\n",
              "<p>1000 rows × 3 columns</p>\n",
              "</div>\n",
              "      <button class=\"colab-df-convert\" onclick=\"convertToInteractive('df-a67d7ee6-cc4c-4ce0-ba16-e87bf8dffe0a')\"\n",
              "              title=\"Convert this dataframe to an interactive table.\"\n",
              "              style=\"display:none;\">\n",
              "        \n",
              "  <svg xmlns=\"http://www.w3.org/2000/svg\" height=\"24px\"viewBox=\"0 0 24 24\"\n",
              "       width=\"24px\">\n",
              "    <path d=\"M0 0h24v24H0V0z\" fill=\"none\"/>\n",
              "    <path d=\"M18.56 5.44l.94 2.06.94-2.06 2.06-.94-2.06-.94-.94-2.06-.94 2.06-2.06.94zm-11 1L8.5 8.5l.94-2.06 2.06-.94-2.06-.94L8.5 2.5l-.94 2.06-2.06.94zm10 10l.94 2.06.94-2.06 2.06-.94-2.06-.94-.94-2.06-.94 2.06-2.06.94z\"/><path d=\"M17.41 7.96l-1.37-1.37c-.4-.4-.92-.59-1.43-.59-.52 0-1.04.2-1.43.59L10.3 9.45l-7.72 7.72c-.78.78-.78 2.05 0 2.83L4 21.41c.39.39.9.59 1.41.59.51 0 1.02-.2 1.41-.59l7.78-7.78 2.81-2.81c.8-.78.8-2.07 0-2.86zM5.41 20L4 18.59l7.72-7.72 1.47 1.35L5.41 20z\"/>\n",
              "  </svg>\n",
              "      </button>\n",
              "      \n",
              "  <style>\n",
              "    .colab-df-container {\n",
              "      display:flex;\n",
              "      flex-wrap:wrap;\n",
              "      gap: 12px;\n",
              "    }\n",
              "\n",
              "    .colab-df-convert {\n",
              "      background-color: #E8F0FE;\n",
              "      border: none;\n",
              "      border-radius: 50%;\n",
              "      cursor: pointer;\n",
              "      display: none;\n",
              "      fill: #1967D2;\n",
              "      height: 32px;\n",
              "      padding: 0 0 0 0;\n",
              "      width: 32px;\n",
              "    }\n",
              "\n",
              "    .colab-df-convert:hover {\n",
              "      background-color: #E2EBFA;\n",
              "      box-shadow: 0px 1px 2px rgba(60, 64, 67, 0.3), 0px 1px 3px 1px rgba(60, 64, 67, 0.15);\n",
              "      fill: #174EA6;\n",
              "    }\n",
              "\n",
              "    [theme=dark] .colab-df-convert {\n",
              "      background-color: #3B4455;\n",
              "      fill: #D2E3FC;\n",
              "    }\n",
              "\n",
              "    [theme=dark] .colab-df-convert:hover {\n",
              "      background-color: #434B5C;\n",
              "      box-shadow: 0px 1px 3px 1px rgba(0, 0, 0, 0.15);\n",
              "      filter: drop-shadow(0px 1px 2px rgba(0, 0, 0, 0.3));\n",
              "      fill: #FFFFFF;\n",
              "    }\n",
              "  </style>\n",
              "\n",
              "      <script>\n",
              "        const buttonEl =\n",
              "          document.querySelector('#df-a67d7ee6-cc4c-4ce0-ba16-e87bf8dffe0a button.colab-df-convert');\n",
              "        buttonEl.style.display =\n",
              "          google.colab.kernel.accessAllowed ? 'block' : 'none';\n",
              "\n",
              "        async function convertToInteractive(key) {\n",
              "          const element = document.querySelector('#df-a67d7ee6-cc4c-4ce0-ba16-e87bf8dffe0a');\n",
              "          const dataTable =\n",
              "            await google.colab.kernel.invokeFunction('convertToInteractive',\n",
              "                                                     [key], {});\n",
              "          if (!dataTable) return;\n",
              "\n",
              "          const docLinkHtml = 'Like what you see? Visit the ' +\n",
              "            '<a target=\"_blank\" href=https://colab.research.google.com/notebooks/data_table.ipynb>data table notebook</a>'\n",
              "            + ' to learn more about interactive tables.';\n",
              "          element.innerHTML = '';\n",
              "          dataTable['output_type'] = 'display_data';\n",
              "          await google.colab.output.renderOutput(dataTable, element);\n",
              "          const docLink = document.createElement('div');\n",
              "          docLink.innerHTML = docLinkHtml;\n",
              "          element.appendChild(docLink);\n",
              "        }\n",
              "      </script>\n",
              "    </div>\n",
              "  </div>\n",
              "  "
            ]
          },
          "metadata": {},
          "execution_count": 20
        }
      ]
    },
    {
      "cell_type": "markdown",
      "source": [
        "4. Realice un gráfico de x como función del tiempo, de y como función del tiempo y la trayectoria de la partícula (df[\"X\"], df[\"tiempo\"], df[\"Y\"])."
      ],
      "metadata": {
        "id": "_ewaHvQvAQ6u"
      }
    },
    {
      "cell_type": "code",
      "source": [
        "import matplotlib.pyplot as plt\n",
        "#Primero vamos a graficar a x y y como función del tiempo\n",
        "fig, axs = plt.subplots(1, 2, figsize=(10, 4))\n",
        "axs[0].plot(df['Tiempo'],df['X'])\n",
        "axs[0].set_title('X como función de T')\n",
        "axs[1].plot(df['Tiempo'], df['Y'])\n",
        "axs[1].set_title('Y como función de T')\n",
        "plt.grid();"
      ],
      "metadata": {
        "colab": {
          "base_uri": "https://localhost:8080/",
          "height": 281
        },
        "id": "YjiIV_BSAR8i",
        "outputId": "cb7365c3-e9b9-4a73-e120-dd11f41c5ce5"
      },
      "execution_count": null,
      "outputs": [
        {
          "output_type": "display_data",
          "data": {
            "text/plain": [
              "<Figure size 720x288 with 2 Axes>"
            ],
            "image/png": "[encoded data removed]"
          },
          "metadata": {
            "needs_background": "light"
          }
        }
      ]
    },
    {
      "cell_type": "code",
      "source": [
        "#Código tomado de: https://pythondiario.com/2018/08/graficos-en-tercera-dimension-3d-con.html\n",
        "# Modulos con los que trabajaremos\n",
        "from mpl_toolkits.mplot3d import axes3d\n",
        "import matplotlib.pyplot as plt\n",
        "import numpy as np\n",
        "\n",
        "# Creamos la figura\n",
        "fig = plt.figure()\n",
        "\n",
        "# Agrrgamos un plano 3D\n",
        "ax1 = fig.add_subplot(111,projection='3d')\n",
        "\n",
        "# Datos en array bi-dimensional\n",
        "x = np.array([df['X']])\n",
        "y = np.array([df['Y']])\n",
        "t = np.array([df['Tiempo']])\n",
        "\n",
        "# plot_wireframe nos permite agregar los datos x, y, z. Por ello 3D\n",
        "# Es necesario que los datos esten contenidos en un array bi-dimensional\n",
        "ax1.plot_wireframe(t, x, y)\n",
        "# Mostramos el gráfico\n",
        "plt.title('Trayectoria')\n",
        "plt.show();"
      ],
      "metadata": {
        "id": "JGJUS6ZMEkPn",
        "colab": {
          "base_uri": "https://localhost:8080/",
          "height": 274
        },
        "outputId": "2f898ea7-d439-4a76-8cf7-e97488667add"
      },
      "execution_count": null,
      "outputs": [
        {
          "output_type": "display_data",
          "data": {
            "text/plain": [
              "<Figure size 432x288 with 1 Axes>"
            ],
            "image/png": "[encoded data removed]"
          },
          "metadata": {
            "needs_background": "light"
          }
        }
      ]
    },
    {
      "cell_type": "markdown",
      "source": [
        "\n",
        "5. Determine el alcance máximo de la partícula, para ello tome  la solucion teórica con $y=0$, solucione numéricamente la ecuación para t y remplace este valor en la ecuación para x. Resuelvalo para $\\theta=45^{o}$.  "
      ],
      "metadata": {
        "id": "JlQezdyQIDqw"
      }
    },
    {
      "cell_type": "code",
      "source": [
        "#Encontremos el punto para el cual y = 0.\n",
        "a = 8\n",
        "b = 8.2\n",
        "raiz = optimize.bisect(pos_y,a,b,args=(theta))\n",
        "print(f'Y se hace cero en: {raiz}')\n",
        "#Resolvamos la función en X.\n",
        "alcanceMaximo = pos_x(raiz, theta)\n",
        "print(f'El alcance máximo de la partícula es: {alcanceMaximo}')"
      ],
      "metadata": {
        "colab": {
          "base_uri": "https://localhost:8080/"
        },
        "id": "bo8enA91IKb_",
        "outputId": "645e34c8-15f3-437a-ad52-97c3e59b7114"
      },
      "execution_count": null,
      "outputs": [
        {
          "output_type": "stream",
          "name": "stdout",
          "text": [
            "Y se hace cero en: 8.111627022096947\n",
            "El alcance máximo de la partícula es: 239.60614945523213\n"
          ]
        }
      ]
    },
    {
      "cell_type": "markdown",
      "source": [
        "6. Construya una  grafica del alcance máximo R como función de $\\theta$, varie $\\theta$  entre 10 y 80 grados cada 5 grados."
      ],
      "metadata": {
        "id": "EaSjUaXbReSC"
      }
    },
    {
      "cell_type": "code",
      "source": [
        "angulos = np.array((range(10,80,5)))\n",
        "angulos = np.deg2rad(angulos)\n",
        "raices = []\n",
        "raices.append(optimize.bisect(pos_y,2,3,args=(angulos[0])))                 \n",
        "raices.append(optimize.bisect(pos_y,3,4,args=(angulos[1])))                 \n",
        "raices.append(optimize.bisect(pos_y,4,5,args=(angulos[2])))      \n",
        "raices.append(optimize.bisect(pos_y,4,5,args=(angulos[3])))\n",
        "raices.append(optimize.bisect(pos_y,5,6,args=(angulos[4])))\n",
        "raices.append(optimize.bisect(pos_y,6,7,args=(angulos[5])))\n",
        "raices.append(optimize.bisect(pos_y,7,8,args=(angulos[6])))\n",
        "raices.append(optimize.bisect(pos_y,8,9,args=(angulos[7])))\n",
        "raices.append(optimize.bisect(pos_y,8,9,args=(angulos[8])))\n",
        "raices.append(optimize.bisect(pos_y,9,10,args=(angulos[9])))\n",
        "raices.append(optimize.bisect(pos_y,9,10,args=(angulos[10])))\n",
        "raices.append(optimize.bisect(pos_y,10,11,args=(angulos[11])))\n",
        "raices.append(optimize.bisect(pos_y,10,11,args=(angulos[12])))\n",
        "raices.append(optimize.bisect(pos_y,10,11,args=(angulos[13])))\n",
        "raices = np.array(raices)\n",
        "alcancesMaximos = pos_x(raices, angulos)"
      ],
      "metadata": {
        "id": "tPwqXYe1Ren1"
      },
      "execution_count": null,
      "outputs": []
    },
    {
      "cell_type": "code",
      "source": [
        "angulosDecimales = np.rad2deg(angulos)\n",
        "plt.plot(angulosDecimales,alcancesMaximos)\n",
        "plt.title(f'Alcance máximo en función del ángulo ')\n",
        "plt.grid();"
      ],
      "metadata": {
        "colab": {
          "base_uri": "https://localhost:8080/",
          "height": 281
        },
        "id": "8wGk7QqtkpFu",
        "outputId": "2db89e53-72b2-4909-9039-ea917a1d3bb9"
      },
      "execution_count": null,
      "outputs": [
        {
          "output_type": "display_data",
          "data": {
            "text/plain": [
              "<Figure size 432x288 with 1 Axes>"
            ],
            "image/png": "[encoded data removed]"
          },
          "metadata": {
            "needs_background": "light"
          }
        }
      ]
    },
    {
      "cell_type": "markdown",
      "source": [
        "\n",
        "# 4. Construir un fractal empleando el metodo de Newton-Raphson, \n",
        "(Reproducir código y entender)\n",
        "\\begin{equation}\n",
        "z_{n+1} = z_n -a \\frac{f(z)}{f'(z)} \n",
        "\\end{equation}\n",
        "\n",
        "\n",
        "\n",
        "\\begin{equation}\n",
        "f'(z) = \\frac{ f(z+h)+f(z) }{h}\n",
        "\\end{equation}"
      ],
      "metadata": {
        "id": "Ok4b668dWU_A"
      }
    },
    {
      "cell_type": "code",
      "source": [
        "import numpy as np\n",
        "import matplotlib.pylab as plt\n",
        "from PIL import Image\n",
        "\n",
        "Npx_X = 80 #Numero de pixeles en x\n",
        "Npx_Y = 80 #Numero de pixeles en y\n",
        "\n",
        "image = Image.new(\"RGB\", (Npx_X, Npx_Y)) #Creacion de la imagen inicial\n",
        "\n",
        "npx = np.arange(0, Npx_X)\n",
        "npy = np.arange(0, Npx_Y)\n",
        "\n",
        "xmin = -1\n",
        "xmax = 1\n",
        "ymin = -1\n",
        "ymax = 1\n",
        "#Transformación al plano complejo en un rectangulo (xmin, xmax), (ymin, ymax)\n",
        "zx = npx * (xmax - xmin) / (Npx_X - 1)   + xmin\n",
        "zy = npy * (ymax-ymin) / (Npx_Y - 1) + ymin\n",
        "\n",
        "#Definicion  la funcion y las derivada \n",
        "def f(z): \n",
        "  return z**3 - 1\n",
        "\n",
        "def fp(z): \n",
        "  return 3*z**2\n",
        "\n",
        "h = 1E-4\n",
        "def fpn(z, h): \n",
        "  return (f(z+h)-f(z))/h\n",
        "  \n",
        "\n",
        "a = 0.2\n",
        "Niteraciones = 120\n",
        "eps = 1E-8\n",
        "\n",
        "x = - 1\n",
        "for zx_ in zx:\n",
        "  x = x + 1 \n",
        "  y = -1\n",
        "  for zy_ in zy: \n",
        "      y = y + 1\n",
        "      Z_0 = complex(zx_, zy_)\n",
        "    \n",
        "      for i in range(0, Niteraciones): \n",
        "        Z = Z_0 - a * f(Z_0)/fp(Z_0)\n",
        "        if( abs(Z-Z_0)<= eps):\n",
        "          break           \n",
        "        Z_0 = Z\n",
        "      #print(i)\n",
        "      #print(i)\n",
        "      r, g, b = i % 4 *64 , i % 8 *16, i% 16* 16      \n",
        "      image.putpixel((x,y), (r,g,b) )\n",
        "plt.title('Fractal')\n",
        "plt.imshow(image);\n",
        "#plt.xlim(400, 600)\n",
        "#plt.ylim(400, 523)"
      ],
      "metadata": {
        "colab": {
          "base_uri": "https://localhost:8080/",
          "height": 281
        },
        "id": "imiwIQWkBpNn",
        "outputId": "ccd3b544-1aa5-420a-aeb6-9b5188d05e76"
      },
      "execution_count": null,
      "outputs": [
        {
          "output_type": "display_data",
          "data": {
            "text/plain": [
              "<Figure size 432x288 with 1 Axes>"
            ],
            "image/png": "[encoded data removed]"
          },
          "metadata": {
            "needs_background": "light"
          }
        }
      ]
    }
  ]
}