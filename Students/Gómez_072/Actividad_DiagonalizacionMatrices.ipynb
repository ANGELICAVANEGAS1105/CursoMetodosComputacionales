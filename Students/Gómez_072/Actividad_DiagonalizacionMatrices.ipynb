{
  "nbformat": 4,
  "nbformat_minor": 0,
  "metadata": {
    "colab": {
      "provenance": [],
      "collapsed_sections": [
        "zoAC_t28-8Lo"
      ]
    },
    "kernelspec": {
      "name": "python3",
      "display_name": "Python 3"
    },
    "language_info": {
      "name": "python"
    }
  },
  "cells": [
    {
      "cell_type": "markdown",
      "source": [
        "# Autovalores, autovectores, polinomio caracteristico, diagonalización"
      ],
      "metadata": {
        "id": "Qms28ZxFZdXn"
      }
    },
    {
      "cell_type": "markdown",
      "source": [
        "| Librería | Función | Explicación |\n",
        "| --- | --- | --- |\n",
        "| numpy | numpy.linalg.eig | Calcula los autovalores y autovectores de una matriz cuadrada |\n",
        "| numpy | numpy.linalg.eigh | Calcula los autovalores y autovectores de una matriz hermítica compleja o simétrica real |\n",
        "| numpy | numpy.poly | Calcula el polinomio característico de una matriz |\n",
        "| sympy | sympy.Matrix.eigenvals | Calcula los autovalores de una matriz simbólica |\n",
        "| sympy | sympy.Matrix.eigenvects | Calcula los autovalores y autovectores de una matriz simbólica |\n",
        "| sympy | sympy.Matrix.charpoly | Calcula el polinomio característico de una matriz simbólica |"
      ],
      "metadata": {
        "id": "ONmddMM3Youm"
      }
    },
    {
      "cell_type": "markdown",
      "source": [
        "Calcular el polinomio caracteristico, los  autovalores y autvectores propios de la siguiente matrices, comprobar con la solucion analitica:\n",
        "\n",
        "1. \n",
        "\\begin{bmatrix}\n",
        "1 & -1 & 4 \\\\\n",
        "3 & 2 & -1 \\\\\n",
        "2 & 1 & -1\n",
        "\\end{bmatrix}\n",
        "\n",
        "\n",
        "2. \\begin{bmatrix}\n",
        "3 & -5 \\\\\n",
        "1 & -1 \\\\\n",
        "\\end{bmatrix}\n",
        "\n",
        "\n",
        "\n"
      ],
      "metadata": {
        "id": "EwfvC822XBSY"
      }
    },
    {
      "cell_type": "code",
      "source": [
        "#@title librerías\n",
        "\n",
        "import numpy as np\n",
        "import sympy as sp\n",
        "import matplotlib.pyplot as plt"
      ],
      "metadata": {
        "id": "S_FvGs9Fv1pl"
      },
      "execution_count": null,
      "outputs": []
    },
    {
      "cell_type": "code",
      "source": [
        "#@title escribimos las matrices\n",
        "\n",
        "f1 = [1, -1, 4]\n",
        "f2 = [3,2,-1]\n",
        "f3 = [2, 1, -1]\n",
        "\n",
        "m1 = np.array([f1, f2, f3])\n",
        "\n",
        "f1_ = [3, -5]\n",
        "f2_ = [1, -1]\n",
        "\n",
        "m2 = np.array([f1_, f2_])"
      ],
      "metadata": {
        "id": "_gxRbz15v7Hm"
      },
      "execution_count": null,
      "outputs": []
    },
    {
      "cell_type": "code",
      "source": [
        "#@title polinomio carcaterístico\n",
        "\n",
        "#los coeficientes que arroja el poinomio es de grado descedente\n",
        "\n",
        "p1 = np.poly(m1)\n",
        "p2 = np.poly(m2)\n",
        "\n",
        "print(f'el polinomio carcaterístico de la primera matriz es {p1[0]:.2f}x³ + {p1[1]:.2f}x² + {p1[2]:.2f}x + {p1[3]:.2f}')\n",
        "print(f'el polinomio carcaterístico de la segunda matriz es {p2[0]:.2f}x² + {p2[1]:.2f}x + {p2[2]:.2f}')"
      ],
      "metadata": {
        "colab": {
          "base_uri": "https://localhost:8080/"
        },
        "id": "L_M-hWgxv7B8",
        "outputId": "f908c3ee-5281-4b8d-d05c-b33f5e3f0829"
      },
      "execution_count": null,
      "outputs": [
        {
          "output_type": "stream",
          "name": "stdout",
          "text": [
            "el polinomio carcaterístico de la primera matriz es 1.00x³ + -2.00x² + -5.00x + 6.00\n",
            "el polinomio carcaterístico de la segunda matriz es 1.00x² + -2.00x + 2.00\n"
          ]
        }
      ]
    },
    {
      "cell_type": "code",
      "source": [
        "#convertimos a un objeto evaluable\n",
        "\n",
        "\n",
        "pol = np.poly1d(p1)\n",
        "print(pol)"
      ],
      "metadata": {
        "colab": {
          "base_uri": "https://localhost:8080/"
        },
        "id": "fysk9WAt1TF-",
        "outputId": "b97b2ad8-42f9-4891-8587-3dfff9ba067f"
      },
      "execution_count": null,
      "outputs": [
        {
          "output_type": "stream",
          "name": "stdout",
          "text": [
            "   3     2\n",
            "1 x - 2 x - 5 x + 6\n"
          ]
        }
      ]
    },
    {
      "cell_type": "code",
      "source": [
        "pol_2 = np.poly1d(p2)\n",
        "print(pol_2)"
      ],
      "metadata": {
        "colab": {
          "base_uri": "https://localhost:8080/"
        },
        "id": "SKaw17lN1vVT",
        "outputId": "0efcc738-b248-4fb5-8658-58456ac28202"
      },
      "execution_count": null,
      "outputs": [
        {
          "output_type": "stream",
          "name": "stdout",
          "text": [
            "   2\n",
            "1 x - 2 x + 2\n"
          ]
        }
      ]
    },
    {
      "cell_type": "code",
      "source": [
        "#@title autovalores\n",
        "\n",
        "eig1 = np.linalg.eig(m1)\n",
        "eig1"
      ],
      "metadata": {
        "colab": {
          "base_uri": "https://localhost:8080/"
        },
        "id": "X5QW2Ns4v6_6",
        "outputId": "ced669ec-cdff-4fa1-d349-5284a1245908"
      },
      "execution_count": null,
      "outputs": [
        {
          "output_type": "execute_result",
          "data": {
            "text/plain": [
              "(array([ 3., -2.,  1.]),\n",
              " array([[ 0.40824829,  0.57735027,  0.23570226],\n",
              "        [ 0.81649658, -0.57735027, -0.94280904],\n",
              "        [ 0.40824829, -0.57735027, -0.23570226]]))"
            ]
          },
          "metadata": {},
          "execution_count": 32
        }
      ]
    },
    {
      "cell_type": "code",
      "source": [
        "eig2 = np.linalg.eig(m2)\n",
        "eig2"
      ],
      "metadata": {
        "colab": {
          "base_uri": "https://localhost:8080/"
        },
        "id": "QNnyGMeOv698",
        "outputId": "0c20b933-c1d1-4be1-d236-bac1ad8d1286"
      },
      "execution_count": null,
      "outputs": [
        {
          "output_type": "execute_result",
          "data": {
            "text/plain": [
              "(array([1.+1.j, 1.-1.j]),\n",
              " array([[0.91287093+0.j        , 0.91287093-0.j        ],\n",
              "        [0.36514837-0.18257419j, 0.36514837+0.18257419j]]))"
            ]
          },
          "metadata": {},
          "execution_count": 33
        }
      ]
    },
    {
      "cell_type": "markdown",
      "source": [
        "observamos que obtenemos los valores propios y vectores propios asociados a la matriz, donde las columnas [i] de la matriz de vectores propios corresponden al valor propio [i]"
      ],
      "metadata": {
        "id": "r566BtFY2QJQ"
      }
    },
    {
      "cell_type": "markdown",
      "source": [
        "# Diagonalizacion \n",
        "Una matriz cuadrada $A$ es diagonalizable si y solo si cada autovalor $\\lambda$ de multiplicidad $m$ produce exactamente $m$ autovectores básicos; es decir, si y solo si la solución general del sistema $(A-I\\lambda)\\vec{x}=0$ tiene exactamente $m$ parámetros.\n",
        "\n",
        "\n",
        "Para diagonalizar una matriz $A$, se necesita encontrar una matriz invertible $P$ tal que $P^{-1}AP$ sea una matriz diagonal $D$. Esto significa que las columnas de $P$ son los autovectores de $A$ y los elementos de la diagonal de $D$ son los autovalores correspondientes de $A$.\n",
        "\n",
        "Encuentre la matrix diagnonal para las matrices anteriores. \n",
        "\n"
      ],
      "metadata": {
        "id": "FjG0uYQ_ZlFo"
      }
    },
    {
      "cell_type": "code",
      "source": [
        "#debemos entonces encontrar la matriz diagonal para las matrices anteriores\n",
        "\n",
        "P1 = eig1[1]\n",
        "P1_I = np.linalg.inv(P1)\n",
        "D1 = P1_I @ m1 @ P1\n",
        "\n",
        "D1    #--> diagonal de la primera matriz"
      ],
      "metadata": {
        "colab": {
          "base_uri": "https://localhost:8080/"
        },
        "id": "cZG0Tb_57At_",
        "outputId": "b740bcbb-f376-4d60-f7ae-f8c6bfd9d6fa"
      },
      "execution_count": null,
      "outputs": [
        {
          "output_type": "execute_result",
          "data": {
            "text/plain": [
              "array([[ 3.00000000e+00, -1.33226763e-15, -1.66533454e-15],\n",
              "       [ 1.11022302e-15, -2.00000000e+00, -2.44249065e-15],\n",
              "       [ 3.33066907e-16, -8.88178420e-16,  1.00000000e+00]])"
            ]
          },
          "metadata": {},
          "execution_count": 34
        }
      ]
    },
    {
      "cell_type": "code",
      "source": [
        "P2 = eig2[1]\n",
        "P2_I = np.linalg.inv(P2)\n",
        "D1 = P2_I @ m2 @ P2\n",
        "\n",
        "D1    #--> diagonal de la primera matriz"
      ],
      "metadata": {
        "colab": {
          "base_uri": "https://localhost:8080/"
        },
        "id": "hmANOL_u8ZFY",
        "outputId": "f89a2871-abde-4e1d-cab7-130c5f184ebb"
      },
      "execution_count": null,
      "outputs": [
        {
          "output_type": "execute_result",
          "data": {
            "text/plain": [
              "array([[ 1.00000000e+00+1.00000000e+00j, -1.11022302e-16-3.88578059e-16j],\n",
              "       [-5.55111512e-17+4.99600361e-16j,  1.00000000e+00-1.00000000e+00j]])"
            ]
          },
          "metadata": {},
          "execution_count": 35
        }
      ]
    },
    {
      "cell_type": "markdown",
      "source": [
        "Actividad 2. \n",
        "\n",
        "Considere la ecuación cuadrática $x^2-4xy+3y^2 =6$, esta ecuación cuadrática se corresponde a una hiperbola, la cual puede ser escrita en forma matricial como sigue:\n",
        "\n",
        "$A\\vec{v} \\cdot \\vec{v}=6$, donde $\\vec{v}=(x, y)$ y A es una matrix simetrica, \n",
        "\n",
        "\\begin{equation}\n",
        "A=\\begin{bmatrix}\n",
        "1 & -2 \\\\\n",
        "-2 & 3 \\\\\n",
        "\\end{bmatrix}\n",
        "\\end{equation}\n",
        "\n",
        "1. Realice un grafico que represente la hyperbola\n",
        "\n",
        "- Diagonalice A, para ello construya la matrix Q de autovectores ortoganales \n",
        "tal que $D=Q^{T}AQ$, en este caso se dice que A es diagonalizable ortogonalmente, donde $A=QDQ^T$.\n",
        "\n",
        "- Aplique el resultado de la siguiente demostración para encontrar una nueva hyperbola en una  nueva base\n",
        "\n",
        "\\begin{equation}\n",
        "QDQ^T \\vec{v} \\cdot \\vec{v} = d\n",
        "\\end{equation}\n",
        "\n",
        "\n",
        "\\begin{equation}\n",
        "Q(DQ^T\\vec{v}) \\cdot \\vec{v} = (DQ^T\\vec{v}) \\cdot (Q^T\\vec{v})=d\n",
        "\\end{equation}\n",
        "\n",
        "\n",
        "\\begin{equation}\n",
        "(DQ^T\\vec{v}) \\cdot (Q^T\\vec{v})=d\n",
        "\\end{equation}\n",
        "\n",
        "\n",
        "Sea $u=Q^T\\vec{v}$\n",
        "\n",
        "Luego :\n",
        "\n",
        "\n",
        "\\begin{equation}\n",
        "(D\\vec{u}) \\cdot \\vec{u}=d\n",
        "\\end{equation}\n",
        "\n",
        "donde $\\vec{u}=(x', y')$, tal que $D\\vec{u} \\cdot \\vec{u}=d$ es una nueva hyperbola \n"
      ],
      "metadata": {
        "id": "JwPHzdikikzu"
      }
    },
    {
      "cell_type": "code",
      "source": [
        "#@title librerías\n",
        "\n",
        "import numpy as np\n",
        "import matplotlib.pyplot as plt\n",
        "import scipy as sc\n",
        "import sympy as sp"
      ],
      "metadata": {
        "id": "_B4ZUEYT6gNt"
      },
      "execution_count": 56,
      "outputs": []
    },
    {
      "cell_type": "markdown",
      "source": [
        "##comenzamos por realizar la gráfica a partir de la ecuación dada de la hipérbola"
      ],
      "metadata": {
        "id": "zoAC_t28-8Lo"
      }
    },
    {
      "cell_type": "code",
      "source": [
        "#comenzamos realizando la gráfica de la hipérbola\n",
        "\n",
        "#cuando despejamos y salen dos funciones que debemos graficar\n",
        "\n",
        "f1 = lambda x: np.sqrt(6/3 + 1/9 * x**2) + 2/3 * x\n",
        "f2 = lambda x: -1 * np.sqrt(6/3 + 1/9 * x**2) + 2/3 * x\n",
        "\n",
        "#f1 = lambda x: np.sqrt(16-x**2)\n",
        "#f2 = lambda x: -np.sqrt(16-x**2)\n",
        "\n",
        "x = np.linspace(-5, 5, 400)\n",
        "plt.plot(x, f1(x))\n",
        "plt.plot(x, f2(x))\n",
        "plt.xlabel('x')\n",
        "plt.ylabel('f(x)')\n",
        "plt.xlim(-4, 4)\n",
        "plt.ylim(-6, 6);\n",
        "\n",
        "plt.gca().set_aspect('equal')             #para que los ejes x y y estén equiespaciados\n",
        "plt.show()"
      ],
      "metadata": {
        "id": "vyJHxkinijT2",
        "colab": {
          "base_uri": "https://localhost:8080/",
          "height": 455
        },
        "outputId": "34917a72-af39-4b9c-861f-c68cfe421494"
      },
      "execution_count": 39,
      "outputs": [
        {
          "output_type": "display_data",
          "data": {
            "text/plain": [
              "<Figure size 640x480 with 1 Axes>"
            ],
            "image/png": "[encoded data removed]"
          },
          "metadata": {}
        }
      ]
    },
    {
      "cell_type": "code",
      "source": [
        "#ahora, lo hacemos tambien con numpy\n",
        "\n",
        "x = np.linspace(-4, 4, 100)\n",
        "y = np.linspace(-6, 6, 100)\n",
        "x, y = np.meshgrid(x, y)\n",
        "\n"
      ],
      "metadata": {
        "id": "g6TylVK2C_QA"
      },
      "execution_count": 40,
      "outputs": []
    },
    {
      "cell_type": "code",
      "source": [
        "plt.contour(x, y, (x**2 - 4*x*y+ 3*y**2 - 6), [0])\n",
        "\n",
        "plt.gca().set_aspect('equal')  \n",
        "plt.show()"
      ],
      "metadata": {
        "colab": {
          "base_uri": "https://localhost:8080/",
          "height": 435
        },
        "id": "s2-AlES3EDKk",
        "outputId": "4c69ee01-bca7-4a6d-9d08-553f365285a3"
      },
      "execution_count": 41,
      "outputs": [
        {
          "output_type": "display_data",
          "data": {
            "text/plain": [
              "<Figure size 640x480 with 1 Axes>"
            ],
            "image/png": "[encoded data removed]"
          },
          "metadata": {}
        }
      ]
    },
    {
      "cell_type": "code",
      "source": [
        "#@title las superponemos para verificar que tenemos el resultado deseado\n",
        "\n",
        "f1 = lambda x: np.sqrt(6/3 + 1/9 * x**2) + 2/3 * x\n",
        "f2 = lambda x: -1 * np.sqrt(6/3 + 1/9 * x**2) + 2/3 * x\n",
        "\n",
        "x = np.linspace(-5, 5, 400)\n",
        "plt.plot(x, f1(x))\n",
        "plt.plot(x, f2(x))\n",
        "plt.xlabel('x')\n",
        "plt.ylabel('f(x)')\n",
        "plt.xlim(-4, 4)\n",
        "plt.ylim(-6, 6);\n",
        "\n",
        "\n",
        "x = np.linspace(-4, 4, 100)\n",
        "y = np.linspace(-6, 6, 100)\n",
        "x, y = np.meshgrid(x, y)\n",
        "\n",
        "plt.contour(x, y, (x**2 - 4*x*y+ 3*y**2 - 6),[0])\n",
        "plt.xlim(-4, 4)\n",
        "plt.ylim(-4, 4)\n",
        "plt.gca().set_aspect('equal')\n",
        "plt.show()"
      ],
      "metadata": {
        "id": "gH7DfA4oETXC",
        "colab": {
          "base_uri": "https://localhost:8080/",
          "height": 455
        },
        "outputId": "66ddbf0b-d029-44ab-8d97-42b68c2d9646",
        "cellView": "form"
      },
      "execution_count": 42,
      "outputs": [
        {
          "output_type": "display_data",
          "data": {
            "text/plain": [
              "<Figure size 640x480 with 1 Axes>"
            ],
            "image/png": "[encoded data removed]"
          },
          "metadata": {}
        }
      ]
    },
    {
      "cell_type": "markdown",
      "source": [
        "##lo hacemos ahora por el proceso matricial que se indica"
      ],
      "metadata": {
        "id": "KEQTIYZ__Xch"
      }
    },
    {
      "cell_type": "code",
      "source": [
        "#construimos la matriz A\n",
        "A = np.array([[1,-2], [-2,3]])"
      ],
      "metadata": {
        "id": "ep7e6Wsr_bjt"
      },
      "execution_count": 43,
      "outputs": []
    },
    {
      "cell_type": "code",
      "source": [
        "#debemos diagonalizar A, por lo cual, comenzamos con el cálculo de valores y vectores propios\n",
        "\n",
        "val_p, vec_p = np.linalg.eigh(A)"
      ],
      "metadata": {
        "id": "6frE00r2BVhT"
      },
      "execution_count": 44,
      "outputs": []
    },
    {
      "cell_type": "code",
      "source": [
        "#Q va ser la matriz de vectores propios\n",
        "\n",
        "Q = vec_p\n",
        "Q_T = Q.T         #transponemos"
      ],
      "metadata": {
        "id": "DfjdN0W3BgoO"
      },
      "execution_count": 55,
      "outputs": []
    },
    {
      "cell_type": "code",
      "source": [
        "Q"
      ],
      "metadata": {
        "colab": {
          "base_uri": "https://localhost:8080/"
        },
        "id": "3dmNRvIIjs09",
        "outputId": "e2c8949e-0cf1-40d7-b91b-9882a26ac3ba"
      },
      "execution_count": 61,
      "outputs": [
        {
          "output_type": "execute_result",
          "data": {
            "text/plain": [
              "array([[-0.85065081, -0.52573111],\n",
              "       [-0.52573111,  0.85065081]])"
            ]
          },
          "metadata": {},
          "execution_count": 61
        }
      ]
    },
    {
      "cell_type": "code",
      "source": [
        "#construimos D de acuerdo con lo que nos dicen en el enunciado\n",
        "\n",
        "D = Q_T @ A @ Q\n",
        "D"
      ],
      "metadata": {
        "colab": {
          "base_uri": "https://localhost:8080/"
        },
        "id": "qcMT0gBFCWmI",
        "outputId": "bc8e7458-dffe-46e8-fe4a-810836adf07b"
      },
      "execution_count": 46,
      "outputs": [
        {
          "output_type": "execute_result",
          "data": {
            "text/plain": [
              "array([[-2.36067977e-01,  3.48462032e-16],\n",
              "       [ 3.10277310e-16,  4.23606798e+00]])"
            ]
          },
          "metadata": {},
          "execution_count": 46
        }
      ]
    },
    {
      "cell_type": "code",
      "source": [
        "Q @ D @ Q_T, A"
      ],
      "metadata": {
        "colab": {
          "base_uri": "https://localhost:8080/"
        },
        "id": "AmxkE3IsFIKd",
        "outputId": "037c1abe-d165-4a0d-88c3-558ced6edef9"
      },
      "execution_count": 47,
      "outputs": [
        {
          "output_type": "execute_result",
          "data": {
            "text/plain": [
              "(array([[ 1., -2.],\n",
              "        [-2.,  3.]]),\n",
              " array([[ 1, -2],\n",
              "        [-2,  3]]))"
            ]
          },
          "metadata": {},
          "execution_count": 47
        }
      ]
    },
    {
      "cell_type": "markdown",
      "source": [
        "A es diagonalizable ortogonalmente, donde $A=QDQ^T$."
      ],
      "metadata": {
        "id": "YS6jeW-nG4ak"
      }
    },
    {
      "cell_type": "code",
      "source": [
        "np.array([[ 1., -2.],[-2.,  3.]]).astype(int) == A"
      ],
      "metadata": {
        "colab": {
          "base_uri": "https://localhost:8080/"
        },
        "id": "6l5HxEu4GIsY",
        "outputId": "f3060fb6-b87a-4f64-b375-28d41440307f"
      },
      "execution_count": 48,
      "outputs": [
        {
          "output_type": "execute_result",
          "data": {
            "text/plain": [
              "array([[ True,  True],\n",
              "       [ True,  True]])"
            ]
          },
          "metadata": {},
          "execution_count": 48
        }
      ]
    },
    {
      "cell_type": "markdown",
      "source": [
        "Observamos que en efecto, A es diagonalizable ortogonalmente"
      ],
      "metadata": {
        "id": "BKCSGqc1G51R"
      }
    },
    {
      "cell_type": "markdown",
      "source": [
        "###veamos ahora cómo encontrar la nueva hipérbola en la nueva base, como es indicado"
      ],
      "metadata": {
        "id": "KO4qg_UYHtdj"
      }
    },
    {
      "cell_type": "markdown",
      "source": [
        "tenemos lo siguiente:\n",
        "\n",
        "$$v = (x,y)$$\n",
        "$$u = Q^T v$$\n",
        "\n",
        "\\begin{equation}\n",
        "(D\\vec{u}) \\cdot \\vec{u}=d\n",
        "\\end{equation}\n",
        "\n",
        "donde $\\vec{u}=(x', y')$, tal que $D\\vec{u} \\cdot \\vec{u}=d$ es una nueva hyperbola "
      ],
      "metadata": {
        "id": "kVbU5vWOMGsW"
      }
    },
    {
      "cell_type": "code",
      "source": [
        "#veamos entonces cómo encontrar la hipérbola en la nueva base\n",
        "\n",
        "\n",
        "def nueva_hiperbola(x, y, d):\n",
        "    v = np.array([x, y])\n",
        "    u = Q_T @ v\n",
        "\n",
        "    # calculamos la nueva ecuación de la hiperbola\n",
        "    eq = u.T @ D @ u\n",
        "\n",
        "    return eq - d"
      ],
      "metadata": {
        "id": "bUYByGQqHVBc"
      },
      "execution_count": 62,
      "outputs": []
    },
    {
      "cell_type": "markdown",
      "source": [
        "observación: la nueva gráfica de la hipérbola la hacemos con la ayuda de chat got"
      ],
      "metadata": {
        "id": "TKR7fMJDpKhw"
      }
    },
    {
      "cell_type": "code",
      "source": [
        "# Rango de valores para x e y\n",
        "x = np.linspace(-10, 10, 100)\n",
        "y = np.linspace(-10, 10, 100)\n",
        "\n",
        "# Crear una malla de puntos (x, y)\n",
        "X, Y = np.meshgrid(x, y)\n",
        "\n",
        "# Calcular el valor de la nueva hiperbola en cada punto de la malla\n",
        "Z = np.zeros_like(X)\n",
        "for i in range(len(x)):\n",
        "    for j in range(len(y)):\n",
        "        Z[i, j] = nueva_hiperbola(X[i, j], Y[i, j], 6)\n",
        "\n",
        "# Graficar la nueva hiperbola\n",
        "plt.contour(X, Y, Z, [0], colors='red')\n",
        "\n",
        "# Graficar la ecuación original\n",
        "plt.contour(X, Y, X**2 - 4*X*Y + 3*Y**2, [6], colors='blue')\n",
        "\n",
        "# Agregar leyenda manualmente\n",
        "plt.legend(['Nueva Hiperbola', 'Ecuación Original'])\n",
        "\n",
        "plt.xlabel('x')\n",
        "plt.ylabel('y')\n",
        "plt.grid(True)\n",
        "plt.show()"
      ],
      "metadata": {
        "colab": {
          "base_uri": "https://localhost:8080/",
          "height": 455
        },
        "id": "2gh56wPNREyM",
        "outputId": "d9855fe3-1ca6-495f-ccff-d02c01ecbad9"
      },
      "execution_count": 67,
      "outputs": [
        {
          "output_type": "display_data",
          "data": {
            "text/plain": [
              "<Figure size 640x480 with 1 Axes>"
            ],
            "image/png": "[encoded data removed]"
          },
          "metadata": {}
        }
      ]
    },
    {
      "cell_type": "code",
      "source": [],
      "metadata": {
        "id": "XNCEJDgxiLdL"
      },
      "execution_count": null,
      "outputs": []
    }
  ]
}