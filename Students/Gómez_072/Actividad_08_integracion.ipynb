{
  "nbformat": 4,
  "nbformat_minor": 0,
  "metadata": {
    "colab": {
      "provenance": []
    },
    "kernelspec": {
      "name": "python3",
      "display_name": "Python 3"
    },
    "language_info": {
      "name": "python"
    }
  },
  "cells": [
    {
      "cell_type": "code",
      "execution_count": 10,
      "metadata": {
        "id": "PI8Bj1_nYWF2"
      },
      "outputs": [],
      "source": [
        "#@title Librerías\n",
        "\n",
        "import numpy as np\n",
        "import matplotlib.pyplot as plt\n",
        "from scipy.integrate import trapz"
      ]
    },
    {
      "cell_type": "code",
      "source": [
        "#@title Deducción y construcción de la ecuación del método del trapecio\n",
        "\n",
        "def integral_trapz(fun, a, b, N= 10):\n",
        "  '''ingrese la función a integrar, el punto de inicio y el punto final. Opcional ingresar el numero de trapecios que quiere realizar'''\n",
        "  \n",
        "  k = 0\n",
        "  h = (b-a) / N\n",
        "  A = 0\n",
        "  \n",
        "  while k < N:\n",
        "    #print(f\"xi={a + k*h} xi+1= {a + (k+1)*h}\")\n",
        "    #print(f\"yi={fun(a + k*h)} yi+1= {fun(a + (k+1)*h)}\")\n",
        "    A +=  (h/2) *  (fun(a + k*h) + fun(a + (k+1)*h))\n",
        "    #print(A)\n",
        "    k += 1  \n",
        "    \n",
        "  return A"
      ],
      "metadata": {
        "id": "IogwBPP9YdXM"
      },
      "execution_count": 11,
      "outputs": []
    },
    {
      "cell_type": "code",
      "source": [
        "#vamos a realizar la prueba con una función, para verificar que tan cerca nos encontramos del resultado deseado\n",
        "\n",
        "f = lambda x: x**2\n",
        "\n",
        "integral_trapz(f, 0, 5, 100)"
      ],
      "metadata": {
        "colab": {
          "base_uri": "https://localhost:8080/"
        },
        "id": "hKXj-YWObNkZ",
        "outputId": "36fe4d79-4ede-49eb-b8e6-f65238a8bc54"
      },
      "execution_count": 12,
      "outputs": [
        {
          "output_type": "execute_result",
          "data": {
            "text/plain": [
              "41.66875000000001"
            ]
          },
          "metadata": {},
          "execution_count": 12
        }
      ]
    },
    {
      "cell_type": "code",
      "source": [
        "#hay otra forma de realizar esta integracion\n",
        "\n",
        "f = lambda x: x**2\n",
        "\n",
        "def integral_trapz2(fun, a, b, N):\n",
        "  h = (b-a) / N\n",
        "  x = np.linspace(a+h,b-h, N+1)\n",
        "\n",
        "  A = (f(a) + f(b)) * h/2 + h * f(x).sum()\n",
        "\n",
        "  return A"
      ],
      "metadata": {
        "id": "8Ok8-JDlkECE"
      },
      "execution_count": 13,
      "outputs": []
    },
    {
      "cell_type": "code",
      "source": [
        "integral_trapz2(f, 0, 5, 100)          #me da un valor un poco diferente al esperado"
      ],
      "metadata": {
        "colab": {
          "base_uri": "https://localhost:8080/"
        },
        "id": "FvrnfXKsnsmG",
        "outputId": "861ad8aa-3733-4bc7-862a-5d1c7d8b2aea"
      },
      "execution_count": 14,
      "outputs": [
        {
          "output_type": "execute_result",
          "data": {
            "text/plain": [
              "42.493792500000005"
            ]
          },
          "metadata": {},
          "execution_count": 14
        }
      ]
    },
    {
      "cell_type": "code",
      "source": [
        "#@title Comparación con la función de scipy\n",
        "\n",
        "def integral_scipy(fun, a, b, N= 10):\n",
        "  '''ingrese la función a integrar, el punto de inicio y el punto final. Opcional ingresar el numero de trapecios que quiere realizar'''\n",
        "  \n",
        "  x  = np.linspace(a,b, N)         #escribimos los valores de x\n",
        "  y = fun(x)                       #y obtenemos los valores de y\n",
        "  \n",
        "  A = trapz(y, x)\n",
        "    \n",
        "  return A"
      ],
      "metadata": {
        "id": "Ebt-MqXpbTEZ"
      },
      "execution_count": 15,
      "outputs": []
    },
    {
      "cell_type": "code",
      "source": [
        "diferencia = integral_scipy(f, 0, 5, 100) - integral_trapz(f, 0, 5, 100) \n",
        "print(f'la diferencia en la integral por medio del desarrollo manual y la función de python es {abs(diferencia)}')\n",
        "\n",
        "#observamos que la diferencia entre la evaluación de los métodos es muy pequeña"
      ],
      "metadata": {
        "colab": {
          "base_uri": "https://localhost:8080/"
        },
        "id": "F_dD-_0MlSC8",
        "outputId": "44ef6964-42b7-4e02-96bf-b83de58beee9"
      },
      "execution_count": 16,
      "outputs": [
        {
          "output_type": "stream",
          "name": "stdout",
          "text": [
            "la diferencia en la integral por medio del desarrollo manual y la función de python es 4.230010542016771e-05\n"
          ]
        }
      ]
    },
    {
      "cell_type": "code",
      "source": [
        "#por ejemplo si quiero que sea una interacción con el usuario, de modo que el ingrese la función que quiere integrar\n",
        "\n",
        "\n",
        "funcion = 'x**2 + np.log(x**2 + 1)'\n",
        "f = lambda x: eval(funcion)\n",
        "f(1)"
      ],
      "metadata": {
        "colab": {
          "base_uri": "https://localhost:8080/"
        },
        "id": "jcg7olwKlY0o",
        "outputId": "df9eee83-23dc-4502-eaa9-15ec323c55fb"
      },
      "execution_count": 17,
      "outputs": [
        {
          "output_type": "execute_result",
          "data": {
            "text/plain": [
              "1.6931471805599454"
            ]
          },
          "metadata": {},
          "execution_count": 17
        }
      ]
    },
    {
      "cell_type": "code",
      "source": [
        "#@title Generalización del programa, para que la función pueda ser pasada como parámetro en terminal\n",
        "\n",
        "#incluimos el código desarrollado en visual studio code, el cual se trata del código generalizado\n",
        "\n",
        "import sys  \n",
        "\n",
        "\n",
        "def integral_trapz(fun, a = eval(sys.argv[2]), b = eval(sys.argv[3]), N= eval(sys.argv[4])):\n",
        "  '''ingrese la función a integrar, el punto de inicio y el punto final. Opcional ingresar el numero de trapecios que quiere realizar'''\n",
        "  \n",
        "  k = 0\n",
        "  h = (b-a) / N\n",
        "  A = 0\n",
        "  \n",
        "  while k < N:\n",
        "    A +=  (h/2) *  (fun(a + k*h) + fun(a + (k+1)*h))\n",
        "    k += 1  \n",
        "    \n",
        "  return A\n",
        "\n",
        "\n",
        "f = lambda x: eval(sys.argv[1])\n",
        "\n",
        "\n",
        "#de esta manera, la función puede pasarse como un parametro por terminal"
      ],
      "metadata": {
        "id": "Zz-2dBkMY5CW"
      },
      "execution_count": null,
      "outputs": []
    }
  ]
}