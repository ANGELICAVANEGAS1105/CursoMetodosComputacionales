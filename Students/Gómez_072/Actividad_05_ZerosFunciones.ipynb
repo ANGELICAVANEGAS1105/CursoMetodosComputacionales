{
  "cells": [
    {
      "cell_type": "markdown",
      "source": [
        ">[Actividad 5](#scrollTo=3a6dc6a1)\n",
        "\n",
        ">>[primera parte - Hallar ceros de raices por medio del método de la bisección, el método de newton](#scrollTo=iQwcTUQD4zJA)\n",
        "\n",
        ">>>[método de la bisección](#scrollTo=yH7x7UM-V6il)\n",
        "\n",
        ">>>[método de newton](#scrollTo=KGgiFbY9V-T9)\n",
        "\n",
        ">>>[método del punto fijo](#scrollTo=3fne6dMTWQmN)\n",
        "\n",
        ">>[problema 'fixed point methods'](#scrollTo=qgIhRBI-WedM)\n",
        "\n",
        ">>>[primer intento con correciones (mirar solo el bloque de celdas de abajo)](#scrollTo=rmLostDij-uK)\n",
        "\n",
        ">>>[solucion](#scrollTo=uLtpYM47kECg)\n",
        "\n"
      ],
      "metadata": {
        "colab_type": "toc",
        "id": "xwCxmAYaWlnC"
      },
      "id": "xwCxmAYaWlnC"
    },
    {
      "cell_type": "markdown",
      "id": "3a6dc6a1",
      "metadata": {
        "id": "3a6dc6a1"
      },
      "source": [
        "<a href=\"https://colab.research.google.com/github/hernansalinas/autogrades/blob/main/Actividades_clase/Actividad_05_ZerosFunciones.ipynb\" target=\"_parent\"><img src=\"https://colab.research.google.com/assets/colab-badge.svg\" alt=\"Open In Colab\"/></a>\n",
        "\n",
        "\n",
        "\n",
        "# Actividad 5\n",
        "Métodos computacionales para físicos  y astrónomos\n",
        "\n",
        "Universidad de Antioquia\n",
        "\n",
        "Prof: Hernan D. Salinas Jiménez\n",
        "\n",
        "Ref: https://github.com/restrepo/ComputationalMethods"
      ]
    },
    {
      "cell_type": "markdown",
      "source": [
        "##primera parte - Hallar ceros de raices por medio del método de la bisección, el método de newton"
      ],
      "metadata": {
        "id": "iQwcTUQD4zJA"
      },
      "id": "iQwcTUQD4zJA"
    },
    {
      "cell_type": "markdown",
      "id": "8e59c672",
      "metadata": {
        "id": "8e59c672"
      },
      "source": [
        "\n",
        "In an IPython notebook, use the scipy implementation and find the first solution to the equation, write a function with the bisection methods.\n",
        "\n",
        "What is the solution if a=1, and b=1, what is the solution if a=2 and b=2\n",
        "  \n",
        "1. $ 7 = a\\sqrt{x^2+1}+be^x\\sin x $\n",
        "   \n",
        "\n"
      ]
    },
    {
      "cell_type": "markdown",
      "id": "ee7acda4",
      "metadata": {
        "id": "ee7acda4"
      },
      "source": [
        "  \n",
        " 2. $a e^{x}-2= b\\cos(e^x-2)$"
      ]
    },
    {
      "cell_type": "code",
      "source": [
        "#scipy.optimize.bisect recibe como argumentos funcion, escalar a, escalar b\n",
        "#regresa un cero de la funcion entre el intervalo a y b\n",
        "#xtol es el epsilon --> la tolerancia\n",
        "\n",
        "from scipy import optimize    #cuando llamo algo de aqui pongo solamente optimize\n",
        "import numpy as np\n",
        "import matplotlib.pyplot as plt\n"
      ],
      "metadata": {
        "id": "ECBc3DrvFgEY"
      },
      "id": "ECBc3DrvFgEY",
      "execution_count": null,
      "outputs": []
    },
    {
      "cell_type": "code",
      "source": [
        "def func_1(x,a,b):                                 #estos valores de a y b no tienen nada que ver con el intervalo de definicion\n",
        "  return a * np.sqrt(x**2 + 1) + b * np.exp(x) * np.sin(x) -7\n",
        "\n",
        "def func_2(x,a,b):\n",
        "  return a* np.exp(x) - 2 - b * np.cos(np.exp(x) - 2)"
      ],
      "metadata": {
        "id": "2CZ_wWv1IPoE"
      },
      "id": "2CZ_wWv1IPoE",
      "execution_count": null,
      "outputs": []
    },
    {
      "cell_type": "code",
      "source": [
        "#gráfica de la primera función sobre los parámetros (1,1)\n",
        "\n",
        "x = np.linspace(0,3,100)\n",
        "ceros= np.zeros(100)\n",
        "params= (1,1)\n",
        "valores= func_1(x, *params)    #una forma mas elegante de entregarle a la funcion el resto de los parámetros\n",
        "plt.plot(x, valores)   #gráfica de la primera funciín para los parámtros 1,1\n",
        "plt.plot(x, ceros, 'k')\n",
        "plt.grid()"
      ],
      "metadata": {
        "id": "zwBk7wPwLtRv",
        "colab": {
          "base_uri": "https://localhost:8080/",
          "height": 265
        },
        "outputId": "8a96b909-3d74-4ea1-dfe9-07d974aeca07"
      },
      "id": "zwBk7wPwLtRv",
      "execution_count": null,
      "outputs": [
        {
          "output_type": "display_data",
          "data": {
            "text/plain": [
              "<Figure size 432x288 with 1 Axes>"
            ],
            "image/png": "[encoded data removed]"
          },
          "metadata": {
            "needs_background": "light"
          }
        }
      ]
    },
    {
      "cell_type": "code",
      "source": [
        "#gráfica de la segunda función sobre los parámetros (1,1)\n",
        "\n",
        "x= np.linspace(0,2, 100)\n",
        "ceros= np.zeros(100)\n",
        "params = (1,1)\n",
        "valores= func_2(x, *params)\n",
        "plt.plot(x, valores)\n",
        "plt.plot(x, ceros, 'k')\n",
        "plt.grid()"
      ],
      "metadata": {
        "colab": {
          "base_uri": "https://localhost:8080/",
          "height": 267
        },
        "id": "OgnsP2suLk_B",
        "outputId": "eb365acd-5592-4f4a-b101-2302c2b44608"
      },
      "id": "OgnsP2suLk_B",
      "execution_count": null,
      "outputs": [
        {
          "output_type": "display_data",
          "data": {
            "text/plain": [
              "<Figure size 432x288 with 1 Axes>"
            ],
            "image/png": "[encoded data removed]"
          },
          "metadata": {
            "needs_background": "light"
          }
        }
      ]
    },
    {
      "cell_type": "markdown",
      "source": [
        "###método de la bisección"
      ],
      "metadata": {
        "id": "yH7x7UM-V6il"
      },
      "id": "yH7x7UM-V6il"
    },
    {
      "cell_type": "code",
      "source": [
        "#miramos primero para la funcion 1\n",
        "\n",
        "int_1= optimize.bisect(func_1, 1, 2, args=(1,1))      #args son los argumentos asociados a la funcion, se ponen los que son aparte de la x, es decir, a y b en este caso\n",
        "\n",
        "int_2= optimize.bisect(func_1, 3,5, args=(2,2))          #en args puedo poner params\n",
        "\n",
        "int_1, int_2"
      ],
      "metadata": {
        "colab": {
          "base_uri": "https://localhost:8080/"
        },
        "id": "so0ysDhuJoyn",
        "outputId": "001a4ff5-b94e-4c98-fbc3-b452698516fa"
      },
      "id": "so0ysDhuJoyn",
      "execution_count": null,
      "outputs": [
        {
          "output_type": "execute_result",
          "data": {
            "text/plain": [
              "(1.628718494926943, 3.1323505942436896)"
            ]
          },
          "metadata": {},
          "execution_count": 5
        }
      ]
    },
    {
      "cell_type": "code",
      "source": [
        "#ahora, para el caso de la funcion 2\n",
        "\n",
        "int_3 = optimize.bisect(func_2, 1,2, args=(1,1))\n",
        "int_4 = optimize.bisect(func_2, -1,1, args=(2,2))\n",
        "\n",
        "int_3, int_4"
      ],
      "metadata": {
        "colab": {
          "base_uri": "https://localhost:8080/"
        },
        "id": "uxzkAebWLDU5",
        "outputId": "a6952a77-db9c-4203-d431-f7217939ac35"
      },
      "id": "uxzkAebWLDU5",
      "execution_count": null,
      "outputs": [
        {
          "output_type": "execute_result",
          "data": {
            "text/plain": [
              "(1.0076239716563578, 0.6931471805601177)"
            ]
          },
          "metadata": {},
          "execution_count": 6
        }
      ]
    },
    {
      "cell_type": "code",
      "source": [
        "#otra forma para trabajar con el metodo de la biseccion es \n",
        "from scipy.optimize import bisect\n",
        "\n",
        "#se llama escribiendo bisect"
      ],
      "metadata": {
        "id": "B3gTY9V1JMGw"
      },
      "id": "B3gTY9V1JMGw",
      "execution_count": null,
      "outputs": []
    },
    {
      "cell_type": "code",
      "source": [
        "#bisect?     -> asi miro la documentacion"
      ],
      "metadata": {
        "id": "8zuhNNazNJuq"
      },
      "id": "8zuhNNazNJuq",
      "execution_count": null,
      "outputs": []
    },
    {
      "cell_type": "markdown",
      "source": [
        "Vamos ahora a analizar estas mismas dos funciones con el método de newton\n",
        "[documentación](https://docs.scipy.org/doc/scipy/reference/generated/scipy.optimize.newton.html)"
      ],
      "metadata": {
        "id": "MhC3Q7_iJcuc"
      },
      "id": "MhC3Q7_iJcuc"
    },
    {
      "cell_type": "code",
      "source": [
        "def f_1(x,a,b):                                 #estos valores de a y b no tienen nada que ver con el intervalo de definicion\n",
        "  return a * np.sqrt(x**2 + 1) + b * np.exp(x) * np.sin(x) -7\n",
        "\n",
        "def f_2(x,a,b):\n",
        "  return a* np.exp(x) - 2 - b * np.cos(np.exp(x) - 2)"
      ],
      "metadata": {
        "id": "Jiy-Fzq3JnF8"
      },
      "id": "Jiy-Fzq3JnF8",
      "execution_count": null,
      "outputs": []
    },
    {
      "cell_type": "markdown",
      "source": [
        "###método de newton"
      ],
      "metadata": {
        "id": "KGgiFbY9V-T9"
      },
      "id": "KGgiFbY9V-T9"
    },
    {
      "cell_type": "code",
      "source": [
        "#para obtener las raices por medio del metodo de newton, debemos calcular las derivadas\n",
        "\n",
        "def prime_1(x,a,b):\n",
        "  return (a * x / np.sqrt(x ** 2 + 1)) + (b * np.exp(x) *np.sin(x)) + (b * np.exp(x) * np.cos(x))\n",
        "\n",
        "def prime_2(x,a,b):\n",
        "  return (a* np.exp(x)) + (b * np.sin(np.exp(x) - 2) * np.exp(x))"
      ],
      "metadata": {
        "id": "I7Np-sluL15I"
      },
      "id": "I7Np-sluL15I",
      "execution_count": null,
      "outputs": []
    },
    {
      "cell_type": "code",
      "source": [
        "import sympy as sp\n",
        "\n",
        "x= sp.symbols('x')\n",
        "a= sp.symbols('a')\n",
        "b= sp.symbols('b')\n",
        "\n",
        "\n",
        "def func_1(x,a,b):                                 #estos valores de a y b no tienen nada que ver con el intervalo de definicion\n",
        "  return a * sp.sqrt(x**2 + 1) + b * sp.exp(x) * sp.sin(x) -7\n",
        "\n",
        "def func_2(x,a,b):\n",
        "  return a* sp.exp(x) - 2 - b * sp.cos(sp.exp(x) - 2)\n",
        "\n",
        "\n",
        "derivada_1= sp.diff(func_1(x,a,b), x)       #me calcula la derivada con respecto a x\n",
        "derivada_2= sp.diff(func_2(x,a,b), x)\n",
        "\n",
        "derivada_1"
      ],
      "metadata": {
        "colab": {
          "base_uri": "https://localhost:8080/",
          "height": 52
        },
        "id": "wJAQBaj3NPSQ",
        "outputId": "1d09789d-2483-4997-b591-89be316aced3"
      },
      "id": "wJAQBaj3NPSQ",
      "execution_count": null,
      "outputs": [
        {
          "output_type": "execute_result",
          "data": {
            "text/plain": [
              "a*x/sqrt(x**2 + 1) + b*exp(x)*sin(x) + b*exp(x)*cos(x)"
            ],
            "text/latex": "$\\displaystyle \\frac{a x}{\\sqrt{x^{2} + 1}} + b e^{x} \\sin{\\left(x \\right)} + b e^{x} \\cos{\\left(x \\right)}$"
          },
          "metadata": {},
          "execution_count": 11
        }
      ]
    },
    {
      "cell_type": "code",
      "source": [
        "der_1= sp.lambdify((x,a,b), derivada_1, 'numpy')\n",
        "der_2 = sp.lambdify((x,a,b), derivada_2, 'numpy')\n",
        "\n",
        "\n",
        "der_1(1,1,1), prime_1(1,1,1), der_2(1,1,1), prime_2(1,1,1)   #comparo el resultado que me da con la derivada que me arroja sympy con la que he definido a mano"
      ],
      "metadata": {
        "colab": {
          "base_uri": "https://localhost:8080/"
        },
        "id": "XYHF9FxVPIFr",
        "outputId": "d083a2e7-a3a6-4750-ef53-acc29b11aa4b"
      },
      "id": "XYHF9FxVPIFr",
      "execution_count": null,
      "outputs": [
        {
          "output_type": "execute_result",
          "data": {
            "text/plain": [
              "(4.463156008281275, 4.463156008281275, 4.507161266827183, 4.507161266827183)"
            ]
          },
          "metadata": {},
          "execution_count": 12
        }
      ]
    },
    {
      "cell_type": "code",
      "source": [
        "#miramos las dos primeras raices para la primera funcion, cambiando los valores de a y b\n",
        "\n",
        "r_1 = optimize.newton(f_1, 2, der_1,  args = (1,1))\n",
        "r_2 = optimize.newton(f_1, 4, der_1,  args = (2,2))\n",
        "\n",
        "r_1, r_2"
      ],
      "metadata": {
        "colab": {
          "base_uri": "https://localhost:8080/"
        },
        "id": "jHhb722aJmxL",
        "outputId": "4975a629-9a82-4854-a516-a690164ecdde"
      },
      "id": "jHhb722aJmxL",
      "execution_count": null,
      "outputs": [
        {
          "output_type": "execute_result",
          "data": {
            "text/plain": [
              "(1.6287184949270082, 3.1323505942423657)"
            ]
          },
          "metadata": {},
          "execution_count": 13
        }
      ]
    },
    {
      "cell_type": "code",
      "source": [
        "#veamos ahora las raices para la segunda función\n",
        "\n",
        "r_3 = optimize.newton(f_2, 1.5, der_2, args=(1,1))\n",
        "r_4 = optimize.newton(f_2, 1, der_2, args=(2,2))\n",
        "\n",
        "r_3, r_4"
      ],
      "metadata": {
        "colab": {
          "base_uri": "https://localhost:8080/"
        },
        "id": "da5wTOlbSAci",
        "outputId": "f105150c-ba3a-4038-eba9-eedd74c073cc"
      },
      "id": "da5wTOlbSAci",
      "execution_count": null,
      "outputs": [
        {
          "output_type": "execute_result",
          "data": {
            "text/plain": [
              "(1.0076239716581368, 0.6931471805599454)"
            ]
          },
          "metadata": {},
          "execution_count": 14
        }
      ]
    },
    {
      "cell_type": "markdown",
      "source": [
        "Observamos que por medio del método de newton, obtenemos las mismas raices que las que obtuvimos por medio del método de la bisección. \n",
        "\n",
        "Es importante tener en cuenta que con este método es importnate pasar el valor de la derivada. Si no se pasa al derivada, entonces estaríamos usando el método de la secante( que es diferente)"
      ],
      "metadata": {
        "id": "UHbgMFP2StA1"
      },
      "id": "UHbgMFP2StA1"
    },
    {
      "cell_type": "markdown",
      "source": [
        "Ahora bien, para realizarlo por medio del método de la secante, es necesario tener en cuenta dos puntos (en caso de que no se conozca la derivada de la funcion).\n",
        "\n",
        "Si se conoce la derivada, entonces se puede entregar un solo punto"
      ],
      "metadata": {
        "id": "RzrfI25WayMZ"
      },
      "id": "RzrfI25WayMZ"
    },
    {
      "cell_type": "code",
      "source": [
        "optimize.root_scalar?"
      ],
      "metadata": {
        "id": "VlCQe5sAXbvJ"
      },
      "id": "VlCQe5sAXbvJ",
      "execution_count": null,
      "outputs": []
    },
    {
      "cell_type": "markdown",
      "source": [
        "###método del punto fijo"
      ],
      "metadata": {
        "id": "3fne6dMTWQmN"
      },
      "id": "3fne6dMTWQmN"
    },
    {
      "cell_type": "markdown",
      "source": [
        "Ahora, vamos a verlo por medio del método del punto fijo [documentación](https://docs.scipy.org/doc/scipy/reference/generated/scipy.optimize.fixed_point.html)"
      ],
      "metadata": {
        "id": "GUHNjpZadfwW"
      },
      "id": "GUHNjpZadfwW"
    },
    {
      "cell_type": "code",
      "source": [
        "#en este caso, definimos la funcion x - f(x)\n",
        "\n",
        "def f_1(x,a,b):                                 #estos valores de a y b no tienen nada que ver con el intervalo de definicion\n",
        "  return a * np.sqrt(x**2 + 1) + b * np.exp(x) * np.sin(x) -7\n",
        "\n",
        "def f_2(x,a,b):\n",
        "  return a* np.exp(x) - 2 - b * np.cos(np.exp(x) - 2)\n",
        "\n",
        "def g_1(x,a,b):\n",
        "  return x - f_1(x,a,b)\n",
        "\n",
        "def g_2(x,a,b):\n",
        "  return x - f_2(x,a,b)"
      ],
      "metadata": {
        "id": "kzcEY5VddRqU"
      },
      "id": "kzcEY5VddRqU",
      "execution_count": null,
      "outputs": []
    },
    {
      "cell_type": "code",
      "source": [
        "r_1, r_2 = optimize.fixed_point(g_1, 1.5, args=(1,1)), optimize.fixed_point(g_1, 3.2, args=(2,2))\n",
        "\n",
        "print(f'la raiz cuando a=b=1 es {r_1}')\n",
        "print(f'la raiz cuando a=b=2 es {r_2}')"
      ],
      "metadata": {
        "colab": {
          "base_uri": "https://localhost:8080/"
        },
        "id": "VxvHJ4prexRy",
        "outputId": "ed4a47f8-48a9-4363-ea9b-ab4bdba93ccc"
      },
      "id": "VxvHJ4prexRy",
      "execution_count": null,
      "outputs": [
        {
          "output_type": "stream",
          "name": "stdout",
          "text": [
            "la raiz cuando a=b=1 es 1.6287184949270082\n",
            "la raiz cuando a=b=2 es 3.1323505942423666\n"
          ]
        }
      ]
    },
    {
      "cell_type": "code",
      "source": [
        "r_3, r_4 = optimize.fixed_point(g_2, 1, args=(1,1) ), optimize.fixed_point(g_2, 0.6, args=(2,2) )\n",
        "\n",
        "print(f'la raiz cuando a=b=1 es {r_3}')\n",
        "print(f'la raiz cuando a=b=2 es {r_4}')"
      ],
      "metadata": {
        "colab": {
          "base_uri": "https://localhost:8080/"
        },
        "id": "KeKoVTFKg6X9",
        "outputId": "7bc548dd-80f1-4cc5-f05a-caee71cb30aa"
      },
      "id": "KeKoVTFKg6X9",
      "execution_count": null,
      "outputs": [
        {
          "output_type": "stream",
          "name": "stdout",
          "text": [
            "la raiz cuando a=b=1 es 1.0076239716581368\n",
            "la raiz cuando a=b=2 es 0.6931471805599453\n"
          ]
        }
      ]
    },
    {
      "cell_type": "code",
      "source": [
        "#también podemos ingresar los parámetros de esta forma:\n",
        "\n",
        "param= ( 1,1)\n",
        "optimize.fixed_point(g_1, 1.5, param)"
      ],
      "metadata": {
        "colab": {
          "base_uri": "https://localhost:8080/"
        },
        "id": "r0Hw0EjIe8F1",
        "outputId": "adfe28cc-70b1-4bae-844d-5488e3d22b84"
      },
      "id": "r0Hw0EjIe8F1",
      "execution_count": null,
      "outputs": [
        {
          "output_type": "execute_result",
          "data": {
            "text/plain": [
              "array(1.62871849)"
            ]
          },
          "metadata": {},
          "execution_count": 19
        }
      ]
    },
    {
      "cell_type": "code",
      "source": [
        "params=(1,1)\n",
        "params2=(2,2)\n",
        "def test(x, a, b, c, d):\n",
        "  return a*x+b\n",
        "\n",
        "test(1, *params, *params2)"
      ],
      "metadata": {
        "id": "DhXL1nJFfjsG",
        "colab": {
          "base_uri": "https://localhost:8080/"
        },
        "outputId": "e0707ad1-529d-428b-ce56-c7428233a1cc"
      },
      "execution_count": null,
      "outputs": [
        {
          "output_type": "execute_result",
          "data": {
            "text/plain": [
              "2"
            ]
          },
          "metadata": {},
          "execution_count": 20
        }
      ],
      "id": "DhXL1nJFfjsG"
    },
    {
      "cell_type": "code",
      "source": [
        "params=(1,1)\n",
        "def test(x, tuple_):\n",
        "  a=tuple_[0]\n",
        "  b=tuple_[1]\n",
        "  return a*x+b\n",
        "\n",
        "test(1, params)"
      ],
      "metadata": {
        "id": "Bw9wCFPdfx3-",
        "colab": {
          "base_uri": "https://localhost:8080/"
        },
        "outputId": "d438bb85-9c88-4743-8eb1-4e2c7308f123"
      },
      "execution_count": null,
      "outputs": [
        {
          "output_type": "execute_result",
          "data": {
            "text/plain": [
              "2"
            ]
          },
          "metadata": {},
          "execution_count": 21
        }
      ],
      "id": "Bw9wCFPdfx3-"
    },
    {
      "cell_type": "markdown",
      "source": [
        "##problema 'fixed point methods'"
      ],
      "metadata": {
        "id": "qgIhRBI-WedM"
      },
      "id": "qgIhRBI-WedM"
    },
    {
      "cell_type": "markdown",
      "id": "a232ecdd",
      "metadata": {
        "id": "a232ecdd"
      },
      "source": [
        "3. Fixed point methods. \n",
        "\n",
        "When a new planet is discovered, there are different methods to estimate its physical properties. Many times is only possible to estimate either the planet mass or the planet radius and the other property has to be predicted through computer modelling.\n",
        "\n",
        "If one has the planet mass, a very rough way to estimate its radius is to assume certain composition (mean density) and a homogeneous distribution (a very bad assumption!). For example, for the planet [Gliese 832c](http://es.wikipedia.org/wiki/Gliese_832_c) with a mass $M= 5.40 M_{\\oplus}$, if we assume an earth-like composition, i.e. $\\bar \\rho_{\\oplus} = 5520\\ kg/m^3$, we obtain:\n",
        "\n",
        "$$R_{g832c} = \\left( \\frac{3 M_{g832c}}{ 4 \\pi \\bar\\rho_{\\oplus} } \\right)^{1/3} \\approx 1.75 R_{\\oplus}$$\n",
        "\n",
        "That would be the planet radius if the composition where exactly equal to earth's.\n",
        "\n",
        "A more realistic approach is assuming an internal one-layer density profile like:\n",
        "\n",
        "$$\\rho(r) = \\rho_0 \\exp\\left( -\\frac{r}{L} \\right)$$\n",
        "\n",
        "where $\\rho_0$ is the density at planet centre and $L$ is a characteristic lenght depending on the composition. From numerical models of planet interiors, the estimated parameters for a planet of are $M= 5.40 M_{\\oplus}$ are approximately $\\rho_0 = 18000\\ kg/m^3$ and $L = 6500\\ km$.\n",
        "\n",
        "Integrating over the planet volume, we obtain the total mass as\n",
        "\n",
        "$$M = 4\\pi \\int_0^R \\rho(r)r^2dr$$\n",
        "\n",
        "This is a function of the mass in terms of the planet radius. \n",
        "\n",
        "Solving the equation $M(R) = M_{g832c}$ it would be possible to find a more realistic planet radius. However when using numerical models, it is not possible to approach the solution from the left side as a negative mass makes no sense."
      ]
    },
    {
      "cell_type": "markdown",
      "source": [
        "###primer intento con correciones (mirar solo el bloque de celdas de abajo)"
      ],
      "metadata": {
        "id": "rmLostDij-uK"
      },
      "id": "rmLostDij-uK"
    },
    {
      "cell_type": "code",
      "source": [
        "#comenzamos por definir las cantidades que necesitaremos usar:\n",
        "\n",
        "import numpy as np\n",
        "import matplotlib.pyplot as plt\n",
        "\n",
        "pi= np.pi\n",
        "L=6500e3             #m\n",
        "rho = 18000          #kg / m**3\n",
        "rho_= 5520           #kg / m**3\n",
        "r_tierra= 6371e3     #m\n",
        "m_tierra = 5.972e24  #kg\n",
        "\n",
        "\n",
        "#MUY IMPORTANTE TENER EN CUENTA LAS UNIDADES AL MOMENTO DE OPERAR"
      ],
      "metadata": {
        "id": "mN4joTXRsgv7"
      },
      "id": "mN4joTXRsgv7",
      "execution_count": null,
      "outputs": []
    },
    {
      "cell_type": "code",
      "source": [
        "#ahora, defino la funcion que depende de R, y a la cual deseo encontrarle los ceros\n",
        "\n",
        "def func(R):\n",
        "  m_g= (1.75 * r_tierra)** 3 * 4 * pi * rho_ / 3\n",
        "  m= 4 * pi * rho * (2 * L**3 + (-2 * L**3 - 2 * L**2 * R - L * R**2)* np.exp(-R/L)) \n",
        "  \n",
        "  t_f= m_g - m\n",
        "\n",
        "  return t_f\n",
        "\n",
        "#esta es la expresión que se obtuvo del proceso de integración manual"
      ],
      "metadata": {
        "id": "Gn68dJlLtWem"
      },
      "id": "Gn68dJlLtWem",
      "execution_count": null,
      "outputs": []
    },
    {
      "cell_type": "code",
      "source": [
        "#ahora, vamos a graficar algunos puntos de la función, para darnos la idea del lugar en el cual se puede encontrar la raiz\n",
        "\n",
        "x= np.linspace(1, 16000e3)\n",
        "y= func(x)\n",
        "\n",
        "plt.plot(x/1e3, y);"
      ],
      "metadata": {
        "colab": {
          "base_uri": "https://localhost:8080/",
          "height": 276
        },
        "id": "fk1pgDgltkgc",
        "outputId": "b1d1c241-4f74-423f-a5dd-578b3015cd41"
      },
      "id": "fk1pgDgltkgc",
      "execution_count": null,
      "outputs": [
        {
          "output_type": "display_data",
          "data": {
            "text/plain": [
              "<Figure size 432x288 with 1 Axes>"
            ],
            "image/png": "[encoded data removed]"
          },
          "metadata": {
            "needs_background": "light"
          }
        }
      ]
    },
    {
      "cell_type": "code",
      "source": [
        "#AL REALIZAR LAS RESPECTIVAS CORRECIONES, PUDIMOS OBTENER EL GRÁFICO QUE ERA ESPERADO"
      ],
      "metadata": {
        "id": "5ZvDc-461Ife"
      },
      "id": "5ZvDc-461Ife",
      "execution_count": null,
      "outputs": []
    },
    {
      "cell_type": "markdown",
      "source": [
        "###solucion "
      ],
      "metadata": {
        "id": "uLtpYM47kECg"
      },
      "id": "uLtpYM47kECg"
    },
    {
      "cell_type": "code",
      "source": [
        "import numpy as np\n",
        "import sympy as sp\n",
        "import matplotlib.pyplot as plt"
      ],
      "metadata": {
        "id": "Q_SdSozG4bai"
      },
      "id": "Q_SdSozG4bai",
      "execution_count": null,
      "outputs": []
    },
    {
      "cell_type": "code",
      "source": [
        "#defino los simbolos que ingesaré a la integral de sympy - o a las operaciones en general de sympy\n",
        "\n",
        "r= sp.symbols('r')\n",
        "R= sp.symbols('R')\n",
        "L=sp.symbols('L')\n",
        "rho0= sp.symbols('rho0')"
      ],
      "metadata": {
        "id": "bebdykJSksfu"
      },
      "id": "bebdykJSksfu",
      "execution_count": null,
      "outputs": []
    },
    {
      "cell_type": "code",
      "source": [
        "#defino M, tal que es la función que deseo integrar\n",
        "\n",
        "inte = sp.integrate( rho0 * sp.exp(-r/L) * r**2 , (r, 0, R))    #hacemos que la integral me la resuleva definida (que evalúe r entre o y R)\n",
        "inte"
      ],
      "metadata": {
        "colab": {
          "base_uri": "https://localhost:8080/",
          "height": 41
        },
        "id": "vF9HozQtlV3O",
        "outputId": "edf0b3fb-faf1-4491-f527-1898aeeedcaf"
      },
      "id": "vF9HozQtlV3O",
      "execution_count": null,
      "outputs": [
        {
          "output_type": "execute_result",
          "data": {
            "text/plain": [
              "2*L**3*rho0 + (-2*L**3*rho0 - 2*L**2*R*rho0 - L*R**2*rho0)*exp(-R/L)"
            ],
            "text/latex": "$\\displaystyle 2 L^{3} \\rho_{0} + \\left(- 2 L^{3} \\rho_{0} - 2 L^{2} R \\rho_{0} - L R^{2} \\rho_{0}\\right) e^{- \\frac{R}{L}}$"
          },
          "metadata": {},
          "execution_count": 84
        }
      ]
    },
    {
      "cell_type": "code",
      "source": [
        "M= 4 * sp.pi * inte\n",
        "M"
      ],
      "metadata": {
        "colab": {
          "base_uri": "https://localhost:8080/",
          "height": 47
        },
        "id": "QgiA2exBlVuk",
        "outputId": "66de4eb2-9e72-494c-cebf-69245cc12b2f"
      },
      "id": "QgiA2exBlVuk",
      "execution_count": null,
      "outputs": [
        {
          "output_type": "execute_result",
          "data": {
            "text/plain": [
              "4*pi*(2*L**3*rho0 + (-2*L**3*rho0 - 2*L**2*R*rho0 - L*R**2*rho0)*exp(-R/L))"
            ],
            "text/latex": "$\\displaystyle 4 \\pi \\left(2 L^{3} \\rho_{0} + \\left(- 2 L^{3} \\rho_{0} - 2 L^{2} R \\rho_{0} - L R^{2} \\rho_{0}\\right) e^{- \\frac{R}{L}}\\right)$"
          },
          "metadata": {},
          "execution_count": 85
        }
      ]
    },
    {
      "cell_type": "code",
      "source": [
        "#defino la funcion de la masa, con base al resultado que me entrega sympy\n",
        "\n",
        "def masa(R, L, rho0):\n",
        "  return 4 * np.pi * rho * (2*L**3 + (-2 * L**3 - 2* L**2 * R - L * R**2) * np.exp(-R/L))\n",
        "\n",
        "#defino ahora la función de la masa del planeta, de acuerdo con la ecuación que es presentada en el problema\n",
        "\n",
        "def masa_g(r_t, rho_):\n",
        "  return (1.75 * r_t)**3 * 4 * np.pi * rho_ / 3"
      ],
      "metadata": {
        "id": "xJGoADxqlVZy"
      },
      "id": "xJGoADxqlVZy",
      "execution_count": null,
      "outputs": []
    },
    {
      "cell_type": "code",
      "source": [
        "#defino las cantidades que voy a necesitar reemplazar\n",
        "\n",
        "L=6500e3             #m\n",
        "rho = 18000          #kg / m**3\n",
        "rho_= 5520           #kg / m**3\n",
        "r_tierra= 6371e3     #m\n",
        "m_tierra = 5.972e24  #kg"
      ],
      "metadata": {
        "id": "osSyt0yQnhCj"
      },
      "id": "osSyt0yQnhCj",
      "execution_count": null,
      "outputs": []
    },
    {
      "cell_type": "code",
      "source": [
        "#defino la funcion que necesito --> depende de los diferentes valores de R\n",
        "\n",
        "def fun(R, r_tierra, rho_, L, rho):\n",
        "  return  masa_g(r_tierra, rho_) - masa(R, L, rho)"
      ],
      "metadata": {
        "id": "HSPY-1pApEpz"
      },
      "id": "HSPY-1pApEpz",
      "execution_count": null,
      "outputs": []
    },
    {
      "cell_type": "code",
      "source": [
        "R = np.linspace(1, 16000e3)   #valores del eje x\n",
        "y= fun(R, r_tierra, rho_, L, rho)\n",
        "y_o= np.zeros(50)\n",
        "\n",
        "plt.plot(R/1e3, y)              #como arriba todo fué trabajado en metros, convierto a kilómetros para graficar\n",
        "plt.grid()\n",
        "plt.plot(R/1e3, y_o)\n",
        "plt.xlabel('R(km)')\n",
        "plt.ylabel('R(radio_tierra)');"
      ],
      "metadata": {
        "colab": {
          "base_uri": "https://localhost:8080/",
          "height": 290
        },
        "id": "lyf4OBVJsWQa",
        "outputId": "f91db335-64a9-46ac-f3bf-38e26b95b2b0"
      },
      "id": "lyf4OBVJsWQa",
      "execution_count": null,
      "outputs": [
        {
          "output_type": "display_data",
          "data": {
            "text/plain": [
              "<Figure size 432x288 with 1 Axes>"
            ],
            "image/png": "[encoded data removed]"
          },
          "metadata": {
            "needs_background": "light"
          }
        }
      ]
    },
    {
      "cell_type": "code",
      "source": [
        "#hacemos mas zoom al gráfico para tomar un punto cercano\n",
        "\n",
        "R = np.linspace(11420e3, 11430e3)   #valores del eje x\n",
        "y= fun(R, r_tierra, rho_, L, rho)\n",
        "y_o= np.zeros(50)\n",
        "\n",
        "plt.plot(R/1e3, y)              #como arriba todo fué trabajado en metros, convierto a kilómetros para graficar\n",
        "plt.grid()\n",
        "plt.plot(R/1e3, y_o)\n",
        "plt.xlabel('R(km)')\n",
        "plt.ylabel('R(radio_tierra)');"
      ],
      "metadata": {
        "colab": {
          "base_uri": "https://localhost:8080/",
          "height": 290
        },
        "id": "ITGzouuirksP",
        "outputId": "4b04a549-3835-4379-9479-c93e5af3f626"
      },
      "id": "ITGzouuirksP",
      "execution_count": null,
      "outputs": [
        {
          "output_type": "display_data",
          "data": {
            "text/plain": [
              "<Figure size 432x288 with 1 Axes>"
            ],
            "image/png": "[encoded data removed]"
          },
          "metadata": {
            "needs_background": "light"
          }
        }
      ]
    },
    {
      "cell_type": "code",
      "source": [
        "#aplicamos el método de la bisección para determinar el cero de la función\n",
        "\n",
        "from scipy import optimize\n",
        "\n",
        "raiz= optimize.bisect(fun, 11420e3, 11422e3, args=(r_tierra, rho_, L, rho))"
      ],
      "metadata": {
        "id": "zHpi2Dozv1z4"
      },
      "id": "zHpi2Dozv1z4",
      "execution_count": null,
      "outputs": []
    },
    {
      "cell_type": "code",
      "source": [
        "#graficamos la raiz\n",
        "\n",
        "R = np.linspace(1, 16000e3)   \n",
        "y= fun(R, r_tierra, rho_, L, rho)\n",
        "y_o= np.zeros(50)\n",
        "\n",
        "plt.plot(R/1e3, y)              \n",
        "plt.grid()\n",
        "plt.plot(R/1e3, y_o)\n",
        "plt.plot(raiz/1e3, fun(raiz, r_tierra, rho_, L, rho), 'ro')\n",
        "plt.xlabel('R(km)')\n",
        "plt.ylabel('R(radio_tierra)');"
      ],
      "metadata": {
        "colab": {
          "base_uri": "https://localhost:8080/",
          "height": 290
        },
        "id": "vMsbnY5UxYT3",
        "outputId": "0e03dc6c-d117-457f-fc58-be7e6b870ea1"
      },
      "id": "vMsbnY5UxYT3",
      "execution_count": null,
      "outputs": [
        {
          "output_type": "display_data",
          "data": {
            "text/plain": [
              "<Figure size 432x288 with 1 Axes>"
            ],
            "image/png": "[encoded data removed]"
          },
          "metadata": {
            "needs_background": "light"
          }
        }
      ]
    },
    {
      "cell_type": "code",
      "source": [
        "print(f'el radio del planeta, calculado por medio de la fórmula que se pide es {round(raiz / 1e3 , 3)} km')"
      ],
      "metadata": {
        "colab": {
          "base_uri": "https://localhost:8080/"
        },
        "id": "ql8eTzp2yB-N",
        "outputId": "d5314d1f-d97e-4709-b0e4-33727ae88e5a"
      },
      "id": "ql8eTzp2yB-N",
      "execution_count": null,
      "outputs": [
        {
          "output_type": "stream",
          "name": "stdout",
          "text": [
            "el radio del planeta, calculado por medio de la fórmula que se pide es 11421.532 km\n"
          ]
        }
      ]
    }
  ],
  "metadata": {
    "kernelspec": {
      "display_name": "Python 3 (ipykernel)",
      "language": "python",
      "name": "python3"
    },
    "language_info": {
      "codemirror_mode": {
        "name": "ipython",
        "version": 3
      },
      "file_extension": ".py",
      "mimetype": "text/x-python",
      "name": "python",
      "nbconvert_exporter": "python",
      "pygments_lexer": "ipython3",
      "version": "3.8.12"
    },
    "colab": {
      "provenance": []
    }
  },
  "nbformat": 4,
  "nbformat_minor": 5
}