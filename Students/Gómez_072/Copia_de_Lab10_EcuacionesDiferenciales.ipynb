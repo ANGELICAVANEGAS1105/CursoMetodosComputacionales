{
  "cells": [
    {
      "cell_type": "markdown",
      "metadata": {
        "id": "PbEa5kml-QE0"
      },
      "source": [
        "<a href=\"https://colab.research.google.com/github/hernansalinas/autogrades/blob/main/Laboratorios_Taller/Lab10_EcuacionesDiferenciales.ipynb\" target=\"_parent\"><img src=\"https://colab.research.google.com/assets/colab-badge.svg\" alt=\"Open In Colab\"/></a>\n",
        "\n",
        "# Oscilacones Acopladas\n",
        "\n",
        "Considere dos osciladores acoplados, de masas idénticas y  conectadas mediante tres resortes de constantes elásticas $k_1, k_2, k_3$. Como se muestra en la figura.\n",
        "\n",
        "\n",
        "\n"
      ]
    },
    {
      "cell_type": "code",
      "execution_count": null,
      "metadata": {
        "id": "kYuHBpxm-37l"
      },
      "outputs": [],
      "source": [
        "import matplotlib.pylab as plt\n",
        "#from google.colab import files\n",
        "#from IPython.display import Image\n",
        "#uploaded = files.upload()\n"
      ]
    },
    {
      "cell_type": "code",
      "execution_count": null,
      "metadata": {
        "id": "HLAMBPEi_b4i"
      },
      "outputs": [],
      "source": [
        "#plt.figure(figsize=(10,8))\n",
        "#im = plt.imread(\"fig0.png\")\n",
        "#plt.imshow(im)\n",
        "#plt.show()"
      ]
    },
    {
      "cell_type": "markdown",
      "metadata": {
        "id": "F2NNGdC29_mT"
      },
      "source": [
        "\n",
        "\n",
        "\n",
        "Después de realizar un análisis detallado del problema, a través de las leyes de Newton ó empleando las ecuaciones de Euler-Lagrange, se puede mostrar que las ecuaciones de movimiento para el sistema vienen dadas por: \n",
        "\n",
        "\\begin{equation}\n",
        "m_1 \\frac{ \\mathrm{d}^2 x_1 }{\\mathrm{d}t^2} = -k_1 x_1 + k_2 (x_2-x_1)\n",
        "\\end{equation}\n",
        "\n",
        "\n",
        "\n",
        "\\begin{equation}\n",
        "m_2 \\frac{ \\mathrm{d}^2 x_2 }{\\mathrm{d}t^2} = -k_3 x_2 - k_2 (x_2-x_1)\n",
        "\\end{equation}\n",
        "\n",
        "De forma compacta,  la ecuacion anterior puede ser escrita como: \n",
        "\n",
        "\n",
        "\\begin{equation}\n",
        "m_1 \\ddot{x_1} = -k_1 x_1 + k_2 (x_2-x_1)\n",
        "\\end{equation}\n",
        "\n",
        "\n",
        "\n",
        "\\begin{equation}\n",
        "m_2  \\ddot{x_2} = -k_3 x_2 - k_2 (x_2-x_1)\n",
        "\\end{equation}\n",
        "\n",
        "donde $\\ddot{x} =\\frac{\\mathrm{d^2}x}{\\mathrm{d}t^2}$.\n",
        "\n",
        "Las ecuaciones anteriores, son ecuaciones diferenciales lineales de segundo orden y acopladas, que pueden ser escritas de forma matricial como $m\\vec{\\ddot{x}}= -A\\vec{x}$, donde A, es una matriz simétrica: \n",
        "\n",
        "\\begin{equation}\n",
        "m\n",
        "\\begin{pmatrix} \n",
        "\\ddot{x_1}  \\\\\n",
        "\\ddot{x_2}    \n",
        "\\end{pmatrix}\n",
        "=-\n",
        "\\begin{pmatrix} \n",
        "k_1 + k_2 & -k_2  \\\\\n",
        "-k_2       &  k_2+k_3  \\\\\n",
        "\\end{pmatrix}\n",
        "\\begin{pmatrix} \n",
        "x_1\\\\\n",
        "x_2\n",
        "\\end{pmatrix}\n",
        "\\end{equation}\n",
        "\n",
        "\n",
        "\n",
        "Para resolver el sistema de ecuaciones acopladas, se puede realizar una transformación, que permite desacoplar el sistema de ecuaciones diferenciales. Sea\n",
        " $\\vec{\\eta}=S\\vec{x}$, donde $\\eta$ es una nueva variable en el sistema transformado y S una matriz que cumple que $SAS^{-1}=A_d$, siendo $A_d$ una matriz diagonal. \n",
        " \n",
        " Se cumple que $\\vec{\\ddot {\\eta}}=S\\vec{\\ddot{x}}$ \n",
        " y  $m\\vec{\\ddot{x}}=A\\vec{x}$, multiplicando por una matriz S, a ambos lados de la ecuación $m\\vec{\\ddot{x}}=-A\\vec{x}$ obtenemos: \n",
        "\n",
        "\\begin{equation}\n",
        "mS\\vec{\\ddot{x}}=- S A\\vec{x}\n",
        "\\end{equation}\n",
        "\n",
        "\\begin{equation}\n",
        "m \\vec{\\ddot{\\eta}} = -S A S^{-1}S\\vec{x}\n",
        "\\end{equation}\n",
        "\n",
        "\n",
        "\\begin{equation}\n",
        "m \\vec{\\ddot{\\eta}} = -(S A S^{-1})\\eta\n",
        "\\end{equation}\n",
        "\n",
        "\n",
        "\\begin{equation}\n",
        "m \\vec{\\ddot{\\eta}} = -A_d\\eta\n",
        "\\end{equation}\n",
        "\n",
        "\\begin{equation}\n",
        "m\\begin{pmatrix} \n",
        "\\ddot{\\eta_1}\\\\\n",
        "\\ddot{\\eta_2}\n",
        "\\end{pmatrix}\n",
        "=\n",
        "-\\begin{pmatrix} \n",
        "\\lambda_1 & 0\\\\\n",
        "0          &\\lambda_2\n",
        "\\end{pmatrix}\n",
        "\\begin{pmatrix} \n",
        "\\eta_1\\\\\n",
        "\\eta_2\n",
        "\\end{pmatrix},\n",
        "\\end{equation}\n",
        "\n",
        "donde $\\lambda=m\\omega^2$ son los autovalores de A. Notese que S es la matriz formada por los autovectores de A. La ecuacion anterior, tiene solución en términos de funciones armónicas.\n",
        "\n",
        "\n",
        "Basado en lo anterior, y resolviendo  el problema más sencillo en el que $k_1 = k_3 = k$, tenemos que:\n",
        "\n",
        "\n",
        "\\begin{equation}\n",
        "\\begin{pmatrix} \n",
        "\\frac{k + k_2}{m}-\\omega^2 & -\\frac{k_2}{m}\\\\\n",
        " -\\frac{k_2}{m}          &\\frac{k_2 + k}{m}-\\omega^2\n",
        "\\end{pmatrix}\n",
        "\\begin{pmatrix} \n",
        "x_1\\\\\n",
        "x_2\n",
        "\\end{pmatrix}\n",
        "=\n",
        "-\\begin{pmatrix} \n",
        "0\\\\\n",
        "0\n",
        "\\end{pmatrix}\n",
        "\\end{equation}\n",
        "\n",
        "\n",
        "\\begin{equation}\n",
        "det(A-\\omega^2 I)= \\left(\\frac{k + k_2}{m}-\\omega^2\\right) \\left(\\frac{k_2+k}{m}-\\omega^2\\right )-\\frac{k_2^2}{m^2}=0\n",
        "\\end{equation}\n",
        "\n",
        "Resolviendo para $\\omega^2$, tenemos que : \n",
        "\n",
        "\\begin{equation}\n",
        "\\omega^2_1=\\frac{k+2k_2}{m}\n",
        "\\end{equation}\n",
        "\n",
        "\n",
        "\\begin{equation}\n",
        "\\omega^2_2=\\frac{k}{m}, \n",
        "\\end{equation}\n",
        "\n",
        "\n",
        "los autovecres vienen dados por: \n",
        "\n",
        "\\begin{equation}\n",
        "\\vec{v_1}=\\frac{1}{\\sqrt{2}}\n",
        "\\begin{pmatrix}\n",
        "1\\\\\n",
        "-1\n",
        "\\end{pmatrix}\n",
        "\\end{equation}\n",
        "\n",
        "\n",
        "\\begin{equation}\n",
        "\\vec{v_2}=\\frac{1}{\\sqrt{2}}\n",
        "\\begin{pmatrix}\n",
        "1\\\\\n",
        "1\n",
        "\\end{pmatrix}\n",
        "\\end{equation}\n",
        "\n",
        "y la matriz S, viene dada por: \n",
        "\n",
        "\n",
        "\\begin{equation}\n",
        "S=\\frac{1}{\\sqrt{2}}\n",
        "\\begin{pmatrix}\n",
        "1 & -1\\\\\n",
        "1 & 1\n",
        "\\end{pmatrix}\n",
        "\\end{equation}\n",
        "\n",
        "las variables $x_1,x_2$, en terminos de $\\eta$ están dadas por: \n",
        "\n",
        "\\begin{equation}\n",
        "x_1=\\frac{1}{\\sqrt{2}}(\\eta_1+\\eta_2)\n",
        "\\end{equation}\n",
        "\n",
        "\n",
        "\\begin{equation}\n",
        "x_2=\\frac{1}{\\sqrt{2}}(\\eta_2+\\eta_1)\n",
        "\\end{equation}\n",
        "\n",
        "En conclusión el problema puede ser resuelto, si solucionamos la \n",
        "ecuaciones diferenciables desacopladas: \n",
        "\\begin{equation}\n",
        "\\ddot{\\eta_1}+\\omega_1\\eta_1=0\n",
        "\\end{equation}\n",
        "\n",
        "\\begin{equation}\n",
        "\\ddot{\\eta_2}+\\omega_2\\eta_2=0\n",
        "\\end{equation}\n",
        "\n",
        " con: \n",
        " \n",
        " \\begin{equation}\n",
        "\\omega^2_1=\\frac{k+2k_2}{m}\n",
        "\\end{equation}\n",
        "\n",
        "\n",
        "\\begin{equation}\n",
        "\\omega^2_2=\\frac{k}{m}\n",
        "\\end{equation}\n",
        "\n",
        "\n"
      ]
    },
    {
      "cell_type": "markdown",
      "metadata": {
        "id": "CnCba8vE9_ma"
      },
      "source": [
        "# Su tarea será:\n",
        "\n",
        "1. Considerar un sistema de dos osciladores acoplados, con constantes elásticas $k_1=k_3$,  $k_2$ y construir un programa que permita realizar los cálculos anteriores de forma sistemática. Es decir, se deberá resolver el problema de autovalores y autovectores, para encontrar las frecuencias de oscilación y la matriz diagonal. La ecuación diferencial  para $\\eta$,  deberá ser resuelta  numéricamente y comparada con la solución análitica, la cual viene dada por: \n",
        "\n",
        "\n",
        "\\begin{equation}\n",
        "\\eta_1(t)=\\eta_1(0)\\cos(\\omega_1t)+ \\frac{\\dot{\\eta_1}(0)}{\\omega_1}\\sin(\\omega_1t)\n",
        "\\end{equation}\n",
        "\n",
        "\\begin{equation}\n",
        "\\eta_2(t)=\\eta_2(0)\\cos(\\omega_2t)+ \\frac{\\dot{\\eta_2}(0)}{\\omega_2}\\sin(\\omega_1t)\n",
        "\\end{equation}\n",
        "\n",
        "y empleando: \n",
        "\n",
        "\\begin{equation}\n",
        "x_1=\\frac{1}{\\sqrt{2}}(\\eta_1+\\eta_2)\n",
        "\\end{equation}\n",
        "\n",
        "\n",
        "\\begin{equation}\n",
        "x_2=\\frac{1}{\\sqrt{2}}(\\eta_2+\\eta_1)\n",
        "\\end{equation}\n",
        "tenemos que la solución exacta, al problema viene dada por: \n",
        "\n",
        "\\begin{equation}\n",
        "x_1(t)=\\frac{1}{2}(x_1(0)-x_2(0))\\cos\\omega_1 t+\\frac{1}{2\\omega_1}(\\dot{x_1}(0)-\\dot{x_2}(0))\\sin\\omega_1t+\\\\\n",
        "\\frac{1}{2}(x_1(0)+x_2(0))\\cos\\omega_2 t+\\frac{1}{2\\omega_2}(\\dot{x_1}(0)+\\dot{x_2}(0))\\sin\\omega_2t\n",
        "\\end{equation}\n",
        "\n",
        "\\begin{equation}\n",
        "x_2(t)=\\frac{1}{2}(x_2(0)-x_1(0))\\cos\\omega_1 t+\\frac{1}{2\\omega_1}(\\dot{x_2}(0)-\\dot{x_1}(0))\\sin\\omega_1t+\\\\\n",
        "\\frac{1}{2}(x_1(0)+x_2(0))\\cos\\omega_2 t+\\frac{1}{2\\omega_2}(\\dot{x_1}(0)+\\dot{x_2}(0))\\sin\\omega_2t\n",
        "\\end{equation}\n",
        "\n",
        "\n",
        "La ecuacion anterior tiene solución según las condiciones iniciales. Muestre que la solucion numérica coincide con la analíítica, para ello, realice graficas de ambas soluciones y comparelas, cuando considera  la evolución temporal de $x_1$, $x_2$ para las siguientes condiciones:\n",
        "\n",
        "- **Modo simétrico:** $x_1(0) = x_2(0) = A$, $\\dot{x_1}(0)=\\dot{x_2}(0) = 0$ \n",
        "- **Modo antisimétrico:** $x_1(0)=-x_2(0) = A$, $\\dot{x_1}(0)=\\dot{x_2}(0) = 0$ \n",
        "-  $x_1(0)=A, x_2(0) = 0$, $\\dot{x_1}(0)=\\dot{x_2}(0) = 0$ \n",
        "\n",
        "\n",
        "\n",
        "2. Para el última condición, suponga que el acoplamiento es debil, es decir $k_2<<k$. ¿Cómo es la evolucion temporal de $x_1$ y $x_2$ en este caso?.\n",
        "\n",
        "3. ¿Qué puede concluir de sus resultados?\n",
        "\n",
        "4.  Generalizar el problema, para constantes elásticas de los resortes $k_1, k_2, k_3$ y masas de $m_1, m_2, m_3$.\n",
        "\n",
        "5. Realice una animación del movimiento de las particulas en el espacio, segun los resultados obtenidos.\n",
        "\n",
        "\n",
        "\n",
        "\n",
        "**RETO 1** Considere ahora, un sistema con amortiguamiento proporcional a la velocidad, las ecuaciones de movimiento, \n",
        "vienen dadas por:\n",
        "\n",
        "\\begin{equation}\n",
        "m\\ddot{y_1} + \\gamma \\dot{y_1} + (k +k_2) y_1 - k_2 y_2 = 0\n",
        "\\end{equation}\n",
        "\n",
        "\n",
        "\\begin{equation}\n",
        "m\\ddot{y_2} + \\gamma \\dot{y_2} + (k +k_2) y2 - k_2 y_1 = 0\n",
        "\\end{equation}\n",
        "\n",
        "Estudiar en este caso, la evolucion temporal de cada masa para diferentes condiciones. \n",
        "\n",
        "**RETO 2** Considere 10 osciladores acoplados, ¿Qué tipo de soluciones se pueden obtener este caso?\n",
        "\n",
        "\n"
      ]
    },
    {
      "cell_type": "code",
      "source": [
        "#@title librerías\n",
        "\n",
        "import numpy as np\n",
        "import scipy as sp\n",
        "from scipy.integrate import odeint\n",
        "import matplotlib.pyplot as plt"
      ],
      "metadata": {
        "id": "hdYcsmuVa55c"
      },
      "execution_count": null,
      "outputs": []
    },
    {
      "cell_type": "markdown",
      "source": [
        "##comenzamos por analizar el oscilador armónico (no amortiguado) con el método odeint de scipy"
      ],
      "metadata": {
        "id": "hoRmIDTee3CZ"
      }
    },
    {
      "cell_type": "markdown",
      "source": [
        "\\begin{equation}\n",
        "\\frac{d^2x}{dt^2} + \\frac{k}{m}x = 0 \n",
        "\\end{equation}"
      ],
      "metadata": {
        "id": "Badf49UHe66-"
      }
    },
    {
      "cell_type": "markdown",
      "source": [
        "se desaoplan estas ecuaciones en dos, de modo que tenemos lo siguiente:\n",
        "\n",
        "$$\\frac{dx}{dt} =  v$$\n",
        "\n",
        "$$\\frac{dv}{dt} = -\\frac{k}{m}x$$"
      ],
      "metadata": {
        "id": "q3hFdqJjh9Ov"
      }
    },
    {
      "cell_type": "code",
      "source": [
        "#condicion inicial\n",
        "\n",
        "x_0 = 2\n",
        "v_0 = 1e-10\n",
        "\n",
        "y0 = np.array([x_0, v_0])        #array con las condiciones iniciales\n",
        "t = np.linspace(0, 20, 1000)\n",
        "\n",
        "#definimos la funcion\n",
        "\n",
        "def fun(y, t, m, k):\n",
        "  omega2 = k/m\n",
        "  dxdt = y[1]\n",
        "  dvdt = -omega2 * y[0]\n",
        "\n",
        "  return dxdt, dvdt\n"
      ],
      "metadata": {
        "id": "j-la0JnyaMCa"
      },
      "execution_count": null,
      "outputs": []
    },
    {
      "cell_type": "code",
      "source": [
        "params = (0.3, 1)   #masa y cte k"
      ],
      "metadata": {
        "id": "orzk4MjwaL_R"
      },
      "execution_count": null,
      "outputs": []
    },
    {
      "cell_type": "code",
      "source": [
        "sol = odeint(fun, y0, t, params)"
      ],
      "metadata": {
        "id": "xMgMz6OIaL5m"
      },
      "execution_count": null,
      "outputs": []
    },
    {
      "cell_type": "code",
      "source": [
        "np.shape(sol)"
      ],
      "metadata": {
        "colab": {
          "base_uri": "https://localhost:8080/"
        },
        "id": "6251L_PiaL3E",
        "outputId": "2e2f873a-d18b-4ef5-af87-318a4502fbf0"
      },
      "execution_count": null,
      "outputs": [
        {
          "output_type": "execute_result",
          "data": {
            "text/plain": [
              "(1000, 2)"
            ]
          },
          "metadata": {},
          "execution_count": 7
        }
      ]
    },
    {
      "cell_type": "code",
      "source": [
        "plt.plot(t, sol[:,0], label ='posicion')\n",
        "plt.legend();"
      ],
      "metadata": {
        "colab": {
          "base_uri": "https://localhost:8080/"
        },
        "id": "Pgtd2ufnaLzd",
        "outputId": "88618a4f-65e5-4dfb-e74d-e15b120872c2"
      },
      "execution_count": null,
      "outputs": [
        {
          "output_type": "display_data",
          "data": {
            "text/plain": [
              "<Figure size 640x480 with 1 Axes>"
            ],
            "image/png": "[encoded data removed]"
          },
          "metadata": {}
        }
      ]
    },
    {
      "cell_type": "code",
      "source": [
        "plt.plot(t, sol[:,1],label= 'velocidad')\n",
        "plt.legend();"
      ],
      "metadata": {
        "colab": {
          "base_uri": "https://localhost:8080/"
        },
        "id": "M3E0-W7KaLxo",
        "outputId": "dc0ec838-744d-4860-ab80-7f4a32b5631c"
      },
      "execution_count": null,
      "outputs": [
        {
          "output_type": "display_data",
          "data": {
            "text/plain": [
              "<Figure size 640x480 with 1 Axes>"
            ],
            "image/png": "[encoded data removed]"
          },
          "metadata": {}
        }
      ]
    },
    {
      "cell_type": "markdown",
      "source": [
        "##procedemos ahora con el desacople de las siguientes ecuaciones\n",
        "\n",
        "\\begin{equation}\n",
        "m_1 \\frac{ \\mathrm{d}^2 x_1 }{\\mathrm{d}t^2} = -k_1 x_1 + k_2 (x_2-x_1)\n",
        "\\end{equation}\n",
        "\n",
        "\n",
        "\n",
        "\\begin{equation}\n",
        "m_2 \\frac{ \\mathrm{d}^2 x_2 }{\\mathrm{d}t^2} = -k_3 x_2 - k_2 (x_2-x_1)\n",
        "\\end{equation}\n",
        "\n",
        "Hacemos $$\\frac{dx}{dt} = v$$ y $$\\frac{dv}{dt} = \\frac{-k_1 x_1 + k_2 (x_2-x_1)}{m}$$ "
      ],
      "metadata": {
        "id": "qw-YLew5iZXg"
      }
    },
    {
      "cell_type": "code",
      "source": [
        "#comenzamos definiendo las condiciones iniciales para las dos masas\n",
        "\n",
        "pos_i1 = 2\n",
        "pos_i2 = -2\n",
        "\n",
        "vel_i1 = 0\n",
        "vel_i2 = 0\n",
        "\n",
        "c_i = (pos_i1, vel_i1, pos_i2, vel_i2)    #condiciones iniciales como vector\n",
        "\n",
        "k_1 =1\n",
        "k_2 = 2\n",
        "k_3 = 0.9\n",
        "\n",
        "m_1 = 0.3\n",
        "m_2 = 0.5\n",
        "\n",
        "\n",
        "def fun(x, t, k_1, k_2, k_3, m_1, m_2):       #el x del primer elemento de la función son las condiciones iniciales que le vamos a pasar\n",
        "\n",
        "  pos1, vel1, pos2, vel2 = x\n",
        "\n",
        "  dx_dt_1 = vel1\n",
        "  dv_dt_1 = - k_1 / m_1 * pos1 + k_2 / m_1 * (pos2 - pos1) \n",
        "\n",
        "  dx_dt_2 = vel2\n",
        "  dv_dt_2 = -k_3 / m_2 * pos2 - k_2 / m_2 * (pos2 - pos1)\n",
        "\n",
        "  return dx_dt_1, dv_dt_1, dx_dt_2, dv_dt_2"
      ],
      "metadata": {
        "id": "rdRDQnBCaLvQ"
      },
      "execution_count": null,
      "outputs": []
    },
    {
      "cell_type": "code",
      "source": [
        "params = (k_1, k_2, k_3, m_1, m_2)\n",
        "t = np.linspace(0,10, 10000)"
      ],
      "metadata": {
        "id": "GCCuP6hCm1Ra"
      },
      "execution_count": null,
      "outputs": []
    },
    {
      "cell_type": "code",
      "source": [
        "sol = odeint(fun, c_i, t, args= params)        #c_i es lo primero que le entra a la funcín y el tiempo es el segundo parámetro que va a entrar a la función"
      ],
      "metadata": {
        "id": "v9M_8PTkaLs9"
      },
      "execution_count": null,
      "outputs": []
    },
    {
      "cell_type": "code",
      "source": [
        "np.shape(sol)"
      ],
      "metadata": {
        "colab": {
          "base_uri": "https://localhost:8080/"
        },
        "id": "MwipO51ljpLj",
        "outputId": "4fba4626-9803-4117-83a4-6fd2ea45466c"
      },
      "execution_count": null,
      "outputs": [
        {
          "output_type": "execute_result",
          "data": {
            "text/plain": [
              "(10000, 4)"
            ]
          },
          "metadata": {},
          "execution_count": 13
        }
      ]
    },
    {
      "cell_type": "markdown",
      "source": [
        "##procedemos ahora con los gráficos"
      ],
      "metadata": {
        "id": "uu02pHG5nwQx"
      }
    },
    {
      "cell_type": "code",
      "source": [
        "fig, axs = plt.subplots(2, 2, figsize=(10, 5))\n",
        "\n",
        "axs[0, 0].plot(t, sol[:,0], label='posicion 1')\n",
        "axs[0, 1].plot(t, sol[:,1], label='velocidad 1')\n",
        "axs[1, 0].plot(t, sol[:,2], label='posicion 2')\n",
        "axs[1, 1].plot(t, sol[:,3], label='velocidad 2')\n",
        "\n",
        "\n",
        "axs[0, 0].legend(loc='best', fontsize=7)\n",
        "axs[0, 1].legend(loc='best', fontsize=7)\n",
        "axs[1, 0].legend(loc='best', fontsize=7)\n",
        "axs[1, 1].legend(loc='best', fontsize=7)\n",
        "\n",
        "fig.tight_layout()"
      ],
      "metadata": {
        "colab": {
          "base_uri": "https://localhost:8080/"
        },
        "id": "1smutfS_oXQ-",
        "outputId": "0a15903e-16b5-4ad3-e83b-a8523b517ec2"
      },
      "execution_count": null,
      "outputs": [
        {
          "output_type": "display_data",
          "data": {
            "text/plain": [
              "<Figure size 1000x500 with 4 Axes>"
            ],
            "image/png": "[encoded data removed]"
          },
          "metadata": {}
        }
      ]
    },
    {
      "cell_type": "markdown",
      "source": [
        "\n",
        "- **Modo simétrico:** $x_1(0) = x_2(0) = A$, $\\dot{x_1}(0)=\\dot{x_2}(0) = 0$ \n",
        "- **Modo antisimétrico:** $x_1(0)=-x_2(0) = A$, $\\dot{x_1}(0)=\\dot{x_2}(0) = 0$ \n",
        "-  $x_1(0)=A, x_2(0) = 0$, $\\dot{x_1}(0)=\\dot{x_2}(0) = 0$"
      ],
      "metadata": {
        "id": "NZWAmZxs2aJ9"
      }
    },
    {
      "cell_type": "markdown",
      "source": [
        "#teniendo en cuenta el código que se ha realizado previamente, vamos a realziar las gráficas de lo que nos piden (SOLUCIONES NUMÉRICAS)"
      ],
      "metadata": {
        "id": "UgQIUj-eGoi3"
      }
    },
    {
      "cell_type": "code",
      "source": [
        "#@title modo simético $x_1(0) = x_2(0) = A$, $\\dot{x_1}(0)=\\dot{x_2}(0) = 0$ \n",
        "\n",
        "\n",
        "def fun(x, t, k_1, k_2, k_3, m_1, m_2):       #el x del primer elemento de la función son las condiciones iniciales que le vamos a pasar\n",
        "\n",
        "  pos1, vel1, pos2, vel2 = x\n",
        "\n",
        "  dx_dt_1 = vel1\n",
        "  dv_dt_1 = - k_1 / m_1 * pos1 + k_2 / m_1 * (pos2 - pos1) \n",
        "\n",
        "  dx_dt_2 = vel2\n",
        "  dv_dt_2 = -k_3 / m_2 * pos2 - k_2 / m_2 * (pos2 - pos1)\n",
        "\n",
        "  return dx_dt_1, dv_dt_1, dx_dt_2, dv_dt_2\n",
        "\n",
        "\n",
        "k1 = 1\n",
        "k2 = 2\n",
        "k3 = 1\n",
        "\n",
        "m1 = 0.3\n",
        "m2 = 0.3\n",
        "\n",
        "xi_1 = 2\n",
        "xi_2 = 2\n",
        "\n",
        "vi_1 = 0\n",
        "vi_2 = 0\n",
        "\n",
        "c_i = (xi_1, vi_1, xi_2, vi_2)\n",
        "\n",
        "params = (k1, k2, k3, m1, m2)\n",
        "t = np.linspace(0,10, 10000)\n",
        "\n",
        "sol = odeint(fun, c_i, t, args= params) \n",
        "\n",
        "fig, axs = plt.subplots(2, 2, figsize=(10, 5))\n",
        "\n",
        "axs[0, 0].plot(t, sol[:,0], label='posicion 1')\n",
        "axs[0, 1].plot(t, sol[:,1], label='velocidad 1')\n",
        "axs[1, 0].plot(t, sol[:,2], label='posicion 2')\n",
        "axs[1, 1].plot(t, sol[:,3], label='velocidad 2')\n",
        "\n",
        "\n",
        "axs[0, 0].legend(loc='best', fontsize=7)\n",
        "axs[0, 1].legend(loc='best', fontsize=7)\n",
        "axs[1, 0].legend(loc='best', fontsize=7)\n",
        "axs[1, 1].legend(loc='best', fontsize=7)\n",
        "\n",
        "fig.tight_layout()"
      ],
      "metadata": {
        "id": "UFJcWUqyGbF3"
      },
      "execution_count": null,
      "outputs": []
    },
    {
      "cell_type": "markdown",
      "source": [
        "obsrervamos que las oscilaciones ocurren en fase, es decir, ambas masas oscilan juntas, y alcanzas sus máximos y mínimos en el mismo instante de tiempo"
      ],
      "metadata": {
        "id": "d1dG1PxvP8s-"
      }
    },
    {
      "cell_type": "code",
      "source": [
        "#@title modo antisimétrico $x_1(0)=-x_2(0) = A$, $\\dot{x_1}(0)=\\dot{x_2}(0) = 0$ \n",
        "\n",
        "\n",
        "def fun(x, t, k_1, k_2, k_3, m_1, m_2):       #el x del primer elemento de la función son las condiciones iniciales que le vamos a pasar\n",
        "\n",
        "  pos1, vel1, pos2, vel2 = x\n",
        "\n",
        "  dx_dt_1 = vel1\n",
        "  dv_dt_1 = - k_1 / m_1 * pos1 + k_2 / m_1 * (pos2 - pos1) \n",
        "\n",
        "  dx_dt_2 = vel2\n",
        "  dv_dt_2 = -k_3 / m_2 * pos2 - k_2 / m_2 * (pos2 - pos1)\n",
        "\n",
        "  return dx_dt_1, dv_dt_1, dx_dt_2, dv_dt_2\n",
        "\n",
        "\n",
        "k1 = 1\n",
        "k2 = 2\n",
        "k3 = 1\n",
        "\n",
        "m1 = 0.3\n",
        "m2 = 0.3\n",
        "\n",
        "xi_1 = 2\n",
        "xi_2 = -2\n",
        "\n",
        "vi_1 = 0\n",
        "vi_2 = 0\n",
        "\n",
        "c_i = (xi_1, vi_1, xi_2, vi_2)\n",
        "\n",
        "params = (k1, k2, k3, m1, m2)\n",
        "t = np.linspace(0,10, 10000)\n",
        "\n",
        "sol = odeint(fun, c_i, t, args= params) \n",
        "\n",
        "fig, axs = plt.subplots(2, 2, figsize=(10, 5))\n",
        "\n",
        "axs[0, 0].plot(t, sol[:,0], label='posicion 1')\n",
        "axs[0, 1].plot(t, sol[:,1], label='velocidad 1')\n",
        "axs[1, 0].plot(t, sol[:,2], label='posicion 2')\n",
        "axs[1, 1].plot(t, sol[:,3], label='velocidad 2')\n",
        "\n",
        "\n",
        "axs[0, 0].legend(loc='best', fontsize=7)\n",
        "axs[0, 1].legend(loc='best', fontsize=7)\n",
        "axs[1, 0].legend(loc='best', fontsize=7)\n",
        "axs[1, 1].legend(loc='best', fontsize=7)\n",
        "\n",
        "fig.tight_layout()"
      ],
      "metadata": {
        "cellView": "form",
        "id": "KsfazZt7ROAP"
      },
      "execution_count": null,
      "outputs": []
    },
    {
      "cell_type": "markdown",
      "source": [
        "en este caso, observamos que las masas en todo momento se mueven en direcciones contrarias, cuando una de las masas está en su máximo, la otra está en el mínimo.\n",
        "los ceros de velocidad ocurren en el mismo instante, pero cuando una aumenta de velocidad, la otra disminuye, lo cual se encuentra relacionado con la conveción de signos"
      ],
      "metadata": {
        "id": "LysL9ETVRjmx"
      }
    },
    {
      "cell_type": "code",
      "source": [
        "#@title $x_1(0)=A, x_2(0) = 0$, $\\dot{x_1}(0)=\\dot{x_2}(0) = 0, k_2<<k$ \n",
        "\n",
        "\n",
        "def fun(x, t, k_1, k_2, k_3, m_1, m_2):       #el x del primer elemento de la función son las condiciones iniciales que le vamos a pasar\n",
        "\n",
        "  pos1, vel1, pos2, vel2 = x\n",
        "\n",
        "  dx_dt_1 = vel1\n",
        "  dv_dt_1 = - k_1 / m_1 * pos1 + k_2 / m_1 * (pos2 - pos1) \n",
        "\n",
        "  dx_dt_2 = vel2\n",
        "  dv_dt_2 = -k_3 / m_2 * pos2 - k_2 / m_2 * (pos2 - pos1)\n",
        "\n",
        "  return dx_dt_1, dv_dt_1, dx_dt_2, dv_dt_2\n",
        "\n",
        "\n",
        "k1 = 1\n",
        "k2 = 1e-6  #condición particular de este caso\n",
        "k3 = 1\n",
        "\n",
        "m1 = 0.3\n",
        "m2 = 0.3\n",
        "\n",
        "xi_1 = 2\n",
        "xi_2 = 0\n",
        "\n",
        "vi_1 = 0\n",
        "vi_2 = 0\n",
        "\n",
        "c_i = (xi_1, vi_1, xi_2, vi_2)\n",
        "\n",
        "params = (k1, k2, k3, m1, m2)\n",
        "t = np.linspace(0,30, 10000)\n",
        "\n",
        "sol = odeint(fun, c_i, t, args= params) \n",
        "\n",
        "fig, axs = plt.subplots(2, 2, figsize=(10, 5))\n",
        "\n",
        "axs[0, 0].plot(t, sol[:,0], label='posicion 1')\n",
        "axs[0, 1].plot(t, sol[:,1], label='velocidad 1')\n",
        "axs[1, 0].plot(t, sol[:,2], label='posicion 2')\n",
        "axs[1, 1].plot(t, sol[:,3], label='velocidad 2')\n",
        "\n",
        "\n",
        "axs[0, 0].legend(loc='best', fontsize=7)\n",
        "axs[0, 1].legend(loc='best', fontsize=7)\n",
        "axs[1, 0].legend(loc='best', fontsize=7)\n",
        "axs[1, 1].legend(loc='best', fontsize=7)\n",
        "\n",
        "fig.tight_layout()"
      ],
      "metadata": {
        "cellView": "form",
        "id": "1QcGICHwR9_b"
      },
      "execution_count": null,
      "outputs": []
    },
    {
      "cell_type": "markdown",
      "source": [
        "en este caso, es posible observar que las posiciones de las masas mantienen unaa amplitud constante, y que el valor absoluto de la velocidad va presentando un aumento con el tiempo, análogo a un movimiento forzado sin amortiguamiento"
      ],
      "metadata": {
        "id": "nUiX0c_qS_JE"
      }
    },
    {
      "cell_type": "code",
      "source": [
        "#@title generalizacion\n",
        "\n",
        "\n",
        "def fun(x, t, k_1, k_2, k_3, m_1, m_2):       #el x del primer elemento de la función son las condiciones iniciales que le vamos a pasar\n",
        "\n",
        "  pos1, vel1, pos2, vel2 = x\n",
        "\n",
        "  dx_dt_1 = vel1\n",
        "  dv_dt_1 = - k_1 / m_1 * pos1 + k_2 / m_1 * (pos2 - pos1) \n",
        "\n",
        "  dx_dt_2 = vel2\n",
        "  dv_dt_2 = -k_3 / m_2 * pos2 - k_2 / m_2 * (pos2 - pos1)\n",
        "\n",
        "  return dx_dt_1, dv_dt_1, dx_dt_2, dv_dt_2\n",
        "\n",
        "\n",
        "k1 = 2  #@param {type:\"number\"}\n",
        "k2 = 3  #@param {type:\"number\"}\n",
        "k3 = 1 #@param {type:\"number\"}\n",
        "\n",
        "m1 = 0.5 #@param {type:\"number\"}\n",
        "m2 = 0.3 #@param {type:\"number\"}\n",
        "\n",
        "xi_1 = 3 #@param {type:\"number\"}\n",
        "xi_2 = 1 #@param {type:\"number\"}\n",
        "\n",
        "vi_1 = 1 #@param {type:\"number\"}\n",
        "vi_2 = -1 #@param {type:\"number\"}\n",
        "\n",
        "c_i = (xi_1, vi_1, xi_2, vi_2)\n",
        "\n",
        "params = (k1, k2, k3, m1, m2)\n",
        "t = np.linspace(0,30, 10000)\n",
        "\n",
        "sol = odeint(fun, c_i, t, args= params) \n",
        "\n",
        "fig, axs = plt.subplots(2, 2, figsize=(10, 5))\n",
        "\n",
        "axs[0, 0].plot(t, sol[:,0], label='posicion 1')\n",
        "axs[0, 1].plot(t, sol[:,1], label='velocidad 1')\n",
        "axs[1, 0].plot(t, sol[:,2], label='posicion 2')\n",
        "axs[1, 1].plot(t, sol[:,3], label='velocidad 2')\n",
        "\n",
        "\n",
        "axs[0, 0].legend(loc='best', fontsize=7)\n",
        "axs[0, 1].legend(loc='best', fontsize=7)\n",
        "axs[1, 0].legend(loc='best', fontsize=7)\n",
        "axs[1, 1].legend(loc='best', fontsize=7)\n",
        "\n",
        "fig.tight_layout()"
      ],
      "metadata": {
        "cellView": "form",
        "id": "3WYqyqwwT7gG"
      },
      "execution_count": null,
      "outputs": []
    },
    {
      "cell_type": "code",
      "source": [
        "#@title animación del modo simétrico\n",
        "\n",
        "import numpy as np\n",
        "import matplotlib.pyplot as plt\n",
        "import matplotlib.animation as animation\n",
        "from scipy.integrate import odeint\n",
        "from IPython.display import HTML\n",
        "\n",
        "\n",
        "k1 = 1\n",
        "k2 = 2\n",
        "k3 = 1\n",
        "\n",
        "m1 = 0.3\n",
        "m2 = 0.3\n",
        "\n",
        "xi_1 = 2\n",
        "xi_2 = 2\n",
        "\n",
        "vi_1 = 0\n",
        "vi_2 = 0\n",
        "\n",
        "c_i = (xi_1, vi_1, xi_2, vi_2)\n",
        "params = (k1, k2, k3, m1, m2)\n",
        "\n",
        "t = np.linspace(0, 30, 1000)  # Reducir el número de puntos en el tiempo\n",
        "\n",
        "sol = odeint(fun, c_i, t, args=params)\n",
        "\n",
        "fig, ax = plt.subplots(figsize=(5, 5))\n",
        "scatter = ax.scatter(sol[0, 0], 0, c='red', label='Masa 1')\n",
        "scatter1 = ax.scatter(sol[0, 2], 0, c='blue', label='Masa 2')\n",
        "ax.set_xlim(min(sol[:, 0]) - 1, max(sol[:, 0]) + 1)\n",
        "ax.set_ylim(-1, 1)  # Establecer límites en el eje y\n",
        "ax.set_xlabel('Posición 1')\n",
        "ax.set_ylabel('Posición 2')\n",
        "ax.legend(loc='best', fontsize=7)\n",
        "\n",
        "def animate(i):\n",
        "    scatter.set_offsets(np.column_stack([sol[i, 0], 0]))\n",
        "    scatter1.set_offsets(np.column_stack([sol[i, 2], 0]))\n",
        "\n",
        "ani = animation.FuncAnimation(fig, animate, frames=len(sol), interval=30)\n",
        "\n",
        "plt.close()\n",
        "HTML(ani.to_jshtml())\n"
      ],
      "metadata": {
        "cellView": "form",
        "id": "VK1AWsQYbqCb"
      },
      "execution_count": null,
      "outputs": []
    },
    {
      "cell_type": "markdown",
      "source": [
        "observamos que en esta animacion las masas oscilan juntas, justo como era esperado"
      ],
      "metadata": {
        "id": "UrXWx9jkctKh"
      }
    },
    {
      "cell_type": "code",
      "source": [
        "#@title animación del modo antisimétrico\n",
        "\n",
        "import numpy as np\n",
        "import matplotlib.pyplot as plt\n",
        "import matplotlib.animation as animation\n",
        "from scipy.integrate import odeint\n",
        "from IPython.display import HTML\n",
        "\n",
        "\n",
        "k1 = 1\n",
        "k2 = 2\n",
        "k3 = 1\n",
        "\n",
        "m1 = 0.3\n",
        "m2 = 0.3\n",
        "\n",
        "xi_1 = 2\n",
        "xi_2 = -2\n",
        "\n",
        "vi_1 = 0\n",
        "vi_2 = 0\n",
        "\n",
        "c_i = (xi_1, vi_1, xi_2, vi_2)\n",
        "params = (k1, k2, k3, m1, m2)\n",
        "\n",
        "t = np.linspace(0, 30, 1000)  # Reducir el número de puntos en el tiempo\n",
        "\n",
        "sol = odeint(fun, c_i, t, args=params)\n",
        "\n",
        "fig, ax = plt.subplots(figsize=(5, 5))\n",
        "scatter = ax.scatter(sol[0, 0], 0, c='red', label='Masa 1')\n",
        "scatter1 = ax.scatter(sol[0, 2], 0, c='blue', label='Masa 2')\n",
        "ax.set_xlim(min(sol[:, 0]) - 1, max(sol[:, 0]) + 1)\n",
        "ax.set_ylim(-1, 1)  # Establecer límites en el eje y\n",
        "ax.set_xlabel('Posición 1')\n",
        "ax.set_ylabel('Posición 2')\n",
        "ax.legend(loc='best', fontsize=7)\n",
        "\n",
        "def animate(i):\n",
        "    scatter.set_offsets(np.column_stack([sol[i, 0], 0]))\n",
        "    scatter1.set_offsets(np.column_stack([sol[i, 2], 0]))\n",
        "\n",
        "ani = animation.FuncAnimation(fig, animate, frames=len(sol), interval=30)\n",
        "\n",
        "plt.close()\n",
        "HTML(ani.to_jshtml())\n"
      ],
      "metadata": {
        "cellView": "form",
        "id": "Kp1jobrYcMGz"
      },
      "execution_count": null,
      "outputs": []
    },
    {
      "cell_type": "markdown",
      "source": [
        "observamos que el movimiento es justo como se habia descrito previamente, con los moviemientos opuestos"
      ],
      "metadata": {
        "id": "xDD7tNxyc-wP"
      }
    },
    {
      "cell_type": "code",
      "source": [
        "#@title animación k2<<k\n",
        "\n",
        "import numpy as np\n",
        "import matplotlib.pyplot as plt\n",
        "import matplotlib.animation as animation\n",
        "from scipy.integrate import odeint\n",
        "from IPython.display import HTML\n",
        "\n",
        "\n",
        "k1 = 1\n",
        "k2 = 1e-6  #condición particular de este caso\n",
        "k3 = 1\n",
        "\n",
        "m1 = 0.3\n",
        "m2 = 0.3\n",
        "\n",
        "xi_1 = 2\n",
        "xi_2 = 0\n",
        "\n",
        "vi_1 = 0\n",
        "vi_2 = 0\n",
        "\n",
        "c_i = (xi_1, vi_1, xi_2, vi_2)\n",
        "params = (k1, k2, k3, m1, m2)\n",
        "\n",
        "t = np.linspace(0, 30, 1000)  # Reducir el número de puntos en el tiempo\n",
        "\n",
        "sol = odeint(fun, c_i, t, args=params)\n",
        "\n",
        "fig, ax = plt.subplots(figsize=(5, 5))\n",
        "scatter = ax.scatter(sol[0, 0], 0, c='red', label='Masa 1')\n",
        "scatter1 = ax.scatter(sol[0, 2], 0, c='blue', label='Masa 2')\n",
        "ax.set_xlim(min(sol[:, 0]) - 1, max(sol[:, 0]) + 1)\n",
        "ax.set_ylim(-1, 1)  # Establecer límites en el eje y\n",
        "ax.set_xlabel('Posición 1')\n",
        "ax.set_ylabel('Posición 2')\n",
        "ax.legend(loc='best', fontsize=7)\n",
        "\n",
        "def animate(i):\n",
        "    scatter.set_offsets(np.column_stack([sol[i, 0], 0]))\n",
        "    scatter1.set_offsets(np.column_stack([sol[i, 2], 0]))\n",
        "\n",
        "ani = animation.FuncAnimation(fig, animate, frames=len(sol), interval=30)\n",
        "\n",
        "plt.close()\n",
        "HTML(ani.to_jshtml())\n"
      ],
      "metadata": {
        "cellView": "form",
        "id": "kt31a-OucZpZ"
      },
      "execution_count": null,
      "outputs": []
    },
    {
      "cell_type": "code",
      "source": [
        "#@title animación de la generalizacion\n",
        "\n",
        "import numpy as np\n",
        "import matplotlib.pyplot as plt\n",
        "import matplotlib.animation as animation\n",
        "from scipy.integrate import odeint\n",
        "from IPython.display import HTML\n",
        "\n",
        "\n",
        "k1 = 2  #@param {type:\"number\"}\n",
        "k2 = 3  #@param {type:\"number\"}\n",
        "k3 = 1 #@param {type:\"number\"}\n",
        "\n",
        "m1 = 0.5 #@param {type:\"number\"}\n",
        "m2 = 0.3 #@param {type:\"number\"}\n",
        "\n",
        "xi_1 = 3 #@param {type:\"number\"}\n",
        "xi_2 = 1 #@param {type:\"number\"}\n",
        "\n",
        "vi_1 = 1 #@param {type:\"number\"}\n",
        "vi_2 = -1 #@param {type:\"number\"}\n",
        "\n",
        "c_i = (xi_1, vi_1, xi_2, vi_2)\n",
        "params = (k1, k2, k3, m1, m2)\n",
        "\n",
        "t = np.linspace(0, 30, 1000)  # Reducir el número de puntos en el tiempo\n",
        "\n",
        "sol = odeint(fun, c_i, t, args=params)\n",
        "\n",
        "fig, ax = plt.subplots(figsize=(5, 5))\n",
        "scatter = ax.scatter(sol[0, 0], 0, c='red', label='Masa 1')\n",
        "scatter1 = ax.scatter(sol[0, 2], 0, c='blue', label='Masa 2')\n",
        "ax.set_xlim(min(sol[:, 0]) - 1, max(sol[:, 0]) + 1)\n",
        "ax.set_ylim(-1, 1)  # Establecer límites en el eje y\n",
        "ax.set_xlabel('Posición 1')\n",
        "ax.set_ylabel('Posición 2')\n",
        "ax.legend(loc='best', fontsize=7)\n",
        "\n",
        "def animate(i):\n",
        "    scatter.set_offsets(np.column_stack([sol[i, 0], 0]))\n",
        "    scatter1.set_offsets(np.column_stack([sol[i, 2], 0]))\n",
        "\n",
        "ani = animation.FuncAnimation(fig, animate, frames=len(sol), interval=30)\n",
        "\n",
        "plt.close()\n",
        "HTML(ani.to_jshtml())\n"
      ],
      "metadata": {
        "cellView": "form",
        "id": "5IB3ZFnTc118"
      },
      "execution_count": null,
      "outputs": []
    },
    {
      "cell_type": "markdown",
      "source": [
        "#soluciones analíticas\n",
        "\n",
        "Las ecuaciones anteriores, son ecuaciones diferenciales lineales de segundo orden y acopladas, que pueden ser escritas de forma matricial como $m\\vec{\\ddot{x}}= -A\\vec{x}$, donde A, es una matriz simétrica: \n",
        "\n",
        "\\begin{equation}\n",
        "m\n",
        "\\begin{pmatrix} \n",
        "\\ddot{x_1}  \\\\\n",
        "\\ddot{x_2}    \n",
        "\\end{pmatrix}\n",
        "=-\n",
        "\\begin{pmatrix} \n",
        "k_1 + k_2 & -k_2  \\\\\n",
        "-k_2       &  k_2+k_3  \\\\\n",
        "\\end{pmatrix}\n",
        "\\begin{pmatrix} \n",
        "x_1\\\\\n",
        "x_2\n",
        "\\end{pmatrix}\n",
        "\\end{equation}\n",
        "Notese que S es la matriz formada por los autovectores de A\n",
        "\n",
        "\n",
        "Considerar un sistema de dos osciladores acoplados, con constantes elásticas $k_1=k_3$,  $k_2$ y construir un programa que permita realizar los cálculos anteriores de forma sistemática. Es decir, se deberá resolver el problema de autovalores y autovectores, para encontrar las frecuencias de oscilación y la matriz diagonal. La ecuación diferencial  para $\\eta$,  deberá ser resuelta  numéricamente y comparada con la solución análitica, la cual viene dada por: \n",
        "\n",
        "\n",
        "\\begin{equation}\n",
        "\\eta_1(t)=\\eta_1(0)\\cos(\\omega_1t)+ \\frac{\\dot{\\eta_1}(0)}{\\omega_1}\\sin(\\omega_1t)\n",
        "\\end{equation}\n",
        "\n",
        "\\begin{equation}\n",
        "\\eta_2(t)=\\eta_2(0)\\cos(\\omega_2t)+ \\frac{\\dot{\\eta_2}(0)}{\\omega_2}\\sin(\\omega_1t)\n",
        "\\end{equation}\n",
        "\n",
        "y empleando: \n",
        "\n",
        "\\begin{equation}\n",
        "x_1=\\frac{1}{\\sqrt{2}}(\\eta_1+\\eta_2)\n",
        "\\end{equation}\n",
        "\n",
        "\n",
        "\\begin{equation}\n",
        "x_2=\\frac{1}{\\sqrt{2}}(\\eta_2+\\eta_1)\n",
        "\\end{equation}\n",
        "tenemos que la solución exacta, al problema viene dada por: \n",
        "\n",
        "\\begin{equation}\n",
        "x_1(t)=\\frac{1}{2}(x_1(0)-x_2(0))\\cos\\omega_1 t+\\frac{1}{2\\omega_1}(\\dot{x_1}(0)-\\dot{x_2}(0))\\sin\\omega_1t+\\\\\n",
        "\\frac{1}{2}(x_1(0)+x_2(0))\\cos\\omega_2 t+\\frac{1}{2\\omega_2}(\\dot{x_1}(0)+\\dot{x_2}(0))\\sin\\omega_2t\n",
        "\\end{equation}\n",
        "\n",
        "\\begin{equation}\n",
        "x_2(t)=\\frac{1}{2}(x_2(0)-x_1(0))\\cos\\omega_1 t+\\frac{1}{2\\omega_1}(\\dot{x_2}(0)-\\dot{x_1}(0))\\sin\\omega_1t+\\\\\n",
        "\\frac{1}{2}(x_1(0)+x_2(0))\\cos\\omega_2 t+\\frac{1}{2\\omega_2}(\\dot{x_1}(0)+\\dot{x_2}(0))\\sin\\omega_2t\n",
        "\\end{equation}\n",
        "\n",
        "En conclusión el problema puede ser resuelto, si solucionamos la \n",
        "ecuaciones diferenciables desacopladas: \n",
        "\\begin{equation}\n",
        "\\ddot{\\eta_1}+\\omega_1\\eta_1=0\n",
        "\\end{equation}\n",
        "\n",
        "\\begin{equation}\n",
        "\\ddot{\\eta_2}+\\omega_2\\eta_2=0\n",
        "\\end{equation}\n",
        "\n",
        " con: \n",
        " \n",
        " \\begin{equation}\n",
        "\\omega^2_1=\\frac{k+2k_2}{m}\n",
        "\\end{equation}\n",
        "\n",
        "\n",
        "\\begin{equation}\n",
        "\\omega^2_2=\\frac{k}{m}\n",
        "\\end{equation}"
      ],
      "metadata": {
        "id": "4xura8GhGvKS"
      }
    },
    {
      "cell_type": "code",
      "source": [
        "import numpy as np\n",
        "import matplotlib.pyplot as plt"
      ],
      "metadata": {
        "id": "B1OJqG5piXKP"
      },
      "execution_count": null,
      "outputs": []
    },
    {
      "cell_type": "code",
      "source": [
        "#@title solución exacta\n",
        "\n",
        "def sol_exacta(ci, params,t):\n",
        "    '''ingresar ci =(x1_0,  v1_0, x2_0, v2_0), y params = (m1, m2, k, k2)'''\n",
        "\n",
        "    x1_0,  v1_0, x2_0, v2_0 = ci\n",
        "\n",
        "    m1, m2, k, k2 = params\n",
        "\n",
        "    w1 = np.sqrt((k + 2 * k2) / m1)\n",
        "    w2 = np.sqrt(k / m2)\n",
        " \n",
        "    x1 = 0.5 * (x1_0- x2_0) * np.cos(w1 * t) + 0.5 * (v1_0 - v2_0) / w1 * np.sin(w1 * t) + 0.5 * (x1_0 + x2_0) * np.cos(w2 * t) + 0.5 * (v1_0 + v2_0) / w2 * np.sin(w2 * t)\n",
        "    x2 = 0.5 * (x2_0 - x1_0) * np.cos(w1 * t) + 0.5 * (v2_0 - v1_0) / w1 * np.sin(w1 * t) + 0.5 * (x1_0 + x2_0) * np.cos(w2 * t) + 0.5 * (v1_0 + v2_0) / w2 * np.sin(w2 * t)\n",
        "\n",
        "    return np.array([x1, x2])"
      ],
      "metadata": {
        "id": "JB22ZBfbmc5I"
      },
      "execution_count": null,
      "outputs": []
    },
    {
      "cell_type": "code",
      "source": [
        "#@title modo simétrico\n",
        "\n",
        "k = 1\n",
        "k2 = 2\n",
        "\n",
        "m1 = 0.3\n",
        "m2 = 0.3\n",
        "\n",
        "xi_1 = 2\n",
        "xi_2 = 2\n",
        "\n",
        "vi_1 = 0\n",
        "vi_2 = 0\n",
        "\n",
        "ci = (xi_1, vi_1, xi_2, vi_2)\n",
        "\n",
        "params = (m1, m2, k, k2)\n",
        "t = np.linspace(0,10, 10000)\n",
        "\n",
        "#calculamos la solucion\n",
        "x = sol_exacta(ci, params, t)\n",
        "\n",
        "#graficamos\n",
        "fig, axs = plt.subplots(1,2, figsize=(10, 5))\n",
        "\n",
        "axs[0].plot(t, x[0], label='posicion 1')\n",
        "axs[1].plot(t, x[1], label='posicion 2')\n",
        "\n",
        "axs[0].legend(loc='best', fontsize=7)\n",
        "axs[1].legend(loc='best', fontsize=7)\n",
        "\n",
        "fig.tight_layout()\n"
      ],
      "metadata": {
        "cellView": "form",
        "id": "O71Zlk9ao63K"
      },
      "execution_count": null,
      "outputs": []
    },
    {
      "cell_type": "code",
      "source": [
        "#@title modo antisimétrico\n",
        "\n",
        "k = 1\n",
        "k2 = 2\n",
        "\n",
        "m1 = 0.3\n",
        "m2 = 0.3\n",
        "\n",
        "xi_1 = 2\n",
        "xi_2 = -2\n",
        "\n",
        "vi_1 = 0\n",
        "vi_2 = 0\n",
        "\n",
        "ci = (xi_1, vi_1, xi_2, vi_2)\n",
        "\n",
        "params = (m1, m2, k, k2)\n",
        "t = np.linspace(0,10, 10000)\n",
        "\n",
        "#calculamos la solucion\n",
        "x = sol_exacta(ci, params, t)\n",
        "\n",
        "#graficamos\n",
        "fig, axs = plt.subplots(1,2, figsize=(10, 5))\n",
        "\n",
        "axs[0].plot(t, x[0], label='posicion 1')\n",
        "axs[1].plot(t, x[1], label='posicion 2')\n",
        "\n",
        "axs[0].legend(loc='best', fontsize=7)\n",
        "axs[1].legend(loc='best', fontsize=7)\n",
        "\n",
        "fig.tight_layout()"
      ],
      "metadata": {
        "cellView": "form",
        "id": "0nL1RHFNte9w"
      },
      "execution_count": null,
      "outputs": []
    },
    {
      "cell_type": "code",
      "source": [
        "#@title k2<<k (acoplamiento débil)\n",
        "\n",
        "k = 10\n",
        "k2 = 1e-6\n",
        "\n",
        "m1 = 0.3\n",
        "m2 = 0.3\n",
        "\n",
        "xi_1 = 2\n",
        "xi_2 = 2\n",
        "\n",
        "vi_1 = 0\n",
        "vi_2 = 0\n",
        "\n",
        "ci = (xi_1, vi_1, xi_2, vi_2)\n",
        "\n",
        "params = (m1, m2, k, k2)\n",
        "t = np.linspace(0,10, 10000)\n",
        "\n",
        "#calculamos la solucion\n",
        "x = sol_exacta(ci, params, t)\n",
        "\n",
        "#graficamos\n",
        "fig, axs = plt.subplots(1,2, figsize=(10, 5))\n",
        "\n",
        "axs[0].plot(t, x[0], label='posicion 1')\n",
        "axs[1].plot(t, x[1], label='posicion 2')\n",
        "\n",
        "axs[0].legend(loc='best', fontsize=7)\n",
        "axs[1].legend(loc='best', fontsize=7)\n",
        "\n",
        "fig.tight_layout()"
      ],
      "metadata": {
        "cellView": "form",
        "id": "Kr8-MqWctrL4"
      },
      "execution_count": null,
      "outputs": []
    },
    {
      "cell_type": "markdown",
      "source": [
        "Observamos que se obtienen las mismas gráficas que se obtuvieron previamente con el uso de odeint"
      ],
      "metadata": {
        "id": "bV1BLwaTuISS"
      }
    },
    {
      "cell_type": "code",
      "source": [
        "#@title solución por valores y vectores propios\n",
        "\n",
        "\n",
        "def sol_exacta(ci, params,t):\n",
        "  '''ingresar ci =(x1_0,  v1_0, x2_0, v2_0), y params = (m1, m2, k, k2)'''\n",
        "\n",
        "  x1_0,  v1_0, x2_0, v2_0 = ci\n",
        "\n",
        "  m1, m2, k, k2 = params\n",
        "\n",
        "  #cálculo de las frecuencias de oscilación\n",
        "  w1 = np.sqrt((k + 2 * k2) / m1)\n",
        "  w2 = np.sqrt(k / m2)\n",
        "\n",
        "  #matriz de coeficientes A\n",
        "  A = np.array([[k1+k1, -k2], [-k2, k2+k3]])\n",
        "\n",
        "  #matriz de valores y de vectores propios(S)\n",
        "  v_p, S = np.linalg.eig(A)\n",
        "  \n",
        "  #matriz A diagonal\n",
        "  Ad = np.array([[v_p[0], 0], [0, v_p[1]]])          #matriz a diagonal que contiene los valores propios de A en su diagonal\n",
        "  \n",
        "  return A, S, Ad, v_p\n"
      ],
      "metadata": {
        "id": "8HIQm8_DgJup"
      },
      "execution_count": null,
      "outputs": []
    }
  ],
  "metadata": {
    "colab": {
      "provenance": [],
      "collapsed_sections": [
        "hoRmIDTee3CZ",
        "qw-YLew5iZXg",
        "uu02pHG5nwQx"
      ]
    },
    "kernelspec": {
      "display_name": "Python 3 (ipykernel)",
      "language": "python",
      "name": "python3"
    },
    "language_info": {
      "codemirror_mode": {
        "name": "ipython",
        "version": 3
      },
      "file_extension": ".py",
      "mimetype": "text/x-python",
      "name": "python",
      "nbconvert_exporter": "python",
      "pygments_lexer": "ipython3",
      "version": "3.10.9"
    }
  },
  "nbformat": 4,
  "nbformat_minor": 0
}