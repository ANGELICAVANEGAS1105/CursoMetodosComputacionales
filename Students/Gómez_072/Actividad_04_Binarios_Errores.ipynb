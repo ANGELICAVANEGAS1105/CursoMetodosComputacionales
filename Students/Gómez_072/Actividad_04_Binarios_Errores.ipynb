{
  "cells": [
    {
      "cell_type": "markdown",
      "source": [
        ">[Actividad 4](#scrollTo=6d26e874&uniqifier=1)\n",
        "\n",
        ">>>[Apuntes del libro asociado a la temática](#scrollTo=2kwdp7kewzSL&uniqifier=1)\n",
        "\n",
        ">>>[Activity 1.0:](#scrollTo=74f1131a&uniqifier=1)\n",
        "\n",
        ">>>[Activity 2.0:](#scrollTo=e622b7b5&uniqifier=1)\n",
        "\n",
        ">>>[Activity 3.0:](#scrollTo=d11e596d&uniqifier=1)\n",
        "\n"
      ],
      "metadata": {
        "colab_type": "toc",
        "id": "kXqhkPNkxbDq"
      },
      "id": "kXqhkPNkxbDq"
    },
    {
      "cell_type": "markdown",
      "id": "6d26e874",
      "metadata": {
        "id": "6d26e874"
      },
      "source": [
        "<a href=\"https://colab.research.google.com/github/hernansalinas/autogrades/blob/main/Actividades_clase/Actividad_04_Binarios_Errores.ipynb\" target=\"_parent\"><img src=\"https://colab.research.google.com/assets/colab-badge.svg\" alt=\"Open In Colab\"/></a>\n",
        "\n",
        "\n",
        "\n",
        "# Actividad 4\n",
        "Métodos computacionales para físicos  y astrónomos\n",
        "\n",
        "Universidad de Antioquia\n",
        "\n",
        "Prof: Hernan D. Salinas Jiménez\n"
      ]
    },
    {
      "cell_type": "code",
      "execution_count": null,
      "id": "eae80e3f",
      "metadata": {
        "id": "eae80e3f",
        "outputId": "6772aee8-06f1-4d8b-a107-6f91e6008105",
        "colab": {
          "base_uri": "https://localhost:8080/"
        }
      },
      "outputs": [
        {
          "output_type": "stream",
          "name": "stdout",
          "text": [
            "Cloning into 'autogrades'...\n",
            "remote: Enumerating objects: 275, done.\u001b[K\n",
            "remote: Counting objects: 100% (259/259), done.\u001b[K\n",
            "remote: Compressing objects: 100% (183/183), done.\u001b[K\n",
            "remote: Total 275 (delta 111), reused 207 (delta 69), pack-reused 16\u001b[K\n",
            "Receiving objects: 100% (275/275), 33.85 MiB | 15.84 MiB/s, done.\n",
            "Resolving deltas: 100% (116/116), done.\n"
          ]
        }
      ],
      "source": [
        "!git clone https://github.com/hernansalinas/autogrades.git\n",
        "#path=\"libs\"\n",
        "path=\"autogrades/Actividades_clase/libs\"\n",
        "%run -i {path}/libUnitTest.py"
      ]
    },
    {
      "cell_type": "markdown",
      "source": [
        "###Apuntes del libro asociado a la temática"
      ],
      "metadata": {
        "id": "2kwdp7kewzSL"
      },
      "id": "2kwdp7kewzSL"
    },
    {
      "cell_type": "code",
      "source": [
        "23e306 *100       #numeros muy largos son considerados como infinitos"
      ],
      "metadata": {
        "colab": {
          "base_uri": "https://localhost:8080/"
        },
        "id": "fqEiZ2GKw__j",
        "outputId": "54bcdd63-cc75-4bd4-a509-396475704f3b"
      },
      "id": "fqEiZ2GKw__j",
      "execution_count": null,
      "outputs": [
        {
          "output_type": "execute_result",
          "data": {
            "text/plain": [
              "inf"
            ]
          },
          "metadata": {},
          "execution_count": 2
        }
      ]
    },
    {
      "cell_type": "code",
      "source": [
        "3e-500  #numeros muy pequeños son considerados como cero"
      ],
      "metadata": {
        "colab": {
          "base_uri": "https://localhost:8080/"
        },
        "id": "xrItPk5uxH1K",
        "outputId": "7a4f194c-7c74-4e17-ba28-00bf4e381279"
      },
      "id": "xrItPk5uxH1K",
      "execution_count": null,
      "outputs": [
        {
          "output_type": "execute_result",
          "data": {
            "text/plain": [
              "0.0"
            ]
          },
          "metadata": {},
          "execution_count": 3
        }
      ]
    },
    {
      "cell_type": "code",
      "source": [
        "0.6666666666666666 - 0.6666666666666666123456789  #luego de 15 cifras decimales el cósigo descarta lo que sigue"
      ],
      "metadata": {
        "colab": {
          "base_uri": "https://localhost:8080/"
        },
        "id": "nmDvr_q1xPgs",
        "outputId": "6a7cb047-aec4-4bcb-b11f-cc98689b1f17"
      },
      "id": "nmDvr_q1xPgs",
      "execution_count": null,
      "outputs": [
        {
          "output_type": "execute_result",
          "data": {
            "text/plain": [
              "0.0"
            ]
          },
          "metadata": {},
          "execution_count": 4
        }
      ]
    },
    {
      "cell_type": "code",
      "source": [
        "import numpy as np\n",
        "\n",
        "np.sqrt(2), np.sqrt(2)**2, np.sqrt(2)**2 -2    #notamos que al realizar operaciones que matematicamente son análogas, se presentan cierto tipo de errores en las cifras decimales (luego de 15)"
      ],
      "metadata": {
        "colab": {
          "base_uri": "https://localhost:8080/"
        },
        "id": "VcDjprzFxuqZ",
        "outputId": "f1c12443-9390-45f6-8d6e-efba001d4317"
      },
      "id": "VcDjprzFxuqZ",
      "execution_count": null,
      "outputs": [
        {
          "output_type": "execute_result",
          "data": {
            "text/plain": [
              "(1.4142135623730951, 2.0000000000000004, 4.440892098500626e-16)"
            ]
          },
          "metadata": {},
          "execution_count": 5
        }
      ]
    },
    {
      "cell_type": "code",
      "source": [
        "#Podemos usar bin(), para determinar el correpondiente valor en numeros binarios\n",
        "\n",
        "bin(47), bin(47)[2:], bin(47)[2:].rjust(8,'0')\n",
        "\n",
        "\n",
        "#usamos el rjust para lograr que el numero binario en un formato de 8 bits"
      ],
      "metadata": {
        "colab": {
          "base_uri": "https://localhost:8080/"
        },
        "id": "8lGBd6YEGYdl",
        "outputId": "c19686c4-4c5c-4c00-cb1d-d187372b787a"
      },
      "id": "8lGBd6YEGYdl",
      "execution_count": null,
      "outputs": [
        {
          "output_type": "execute_result",
          "data": {
            "text/plain": [
              "('0b101111', '101111', '00101111')"
            ]
          },
          "metadata": {},
          "execution_count": 6
        }
      ]
    },
    {
      "cell_type": "code",
      "source": [
        "#también, es posible convertir un numero binario a un entero, cuando se escribe en el formato apropiado que recibe python\n",
        "#la forma correcto de escribir el numero binario es que comience con 0b\n",
        "\n",
        "int('0b101111',base=0), int('0b0000000101111',base=0)\n",
        "\n",
        "#notamos que el resultado es el mismo si se añaden ceros luego del 0b y antes del numero binario que se quiere convertir a entero"
      ],
      "metadata": {
        "colab": {
          "base_uri": "https://localhost:8080/"
        },
        "id": "T6nf_wvAqCpB",
        "outputId": "1743a32a-0c50-4fa7-cbe6-769da9042b60"
      },
      "id": "T6nf_wvAqCpB",
      "execution_count": null,
      "outputs": [
        {
          "output_type": "execute_result",
          "data": {
            "text/plain": [
              "(47, 47)"
            ]
          },
          "metadata": {},
          "execution_count": 7
        }
      ]
    },
    {
      "cell_type": "code",
      "source": [
        "#el siguiente código permite convertir numeros flotantes a su representacion binaria\n",
        "\n",
        "import struct\n",
        "\n",
        "def binary(num):\n",
        "#num=3\n",
        "#if True:\n",
        "    # Struct can provide us with the float packed into bytes. The '!' ensures that\n",
        "    # it's in network byte order (big-endian) and the 'f' says that it should be\n",
        "    # packed as a float: 32 bites. Alternatively, for double-precision, you could use 'd'.\n",
        "    packed = struct.pack('!f', num)\n",
        "    print( 'Packed: %s' % repr(packed))\n",
        "\n",
        "    # For each character in the returned string, we'll turn it into its corresponding\n",
        "    # integer code point\n",
        "    # \n",
        "    integers = [c for c in packed]\n",
        "    print( 'Integers: %s' % integers)\n",
        "\n",
        "    # For each integer, we'll convert it to its binary representation.\n",
        "    binaries = [bin(i) for i in integers]\n",
        "    print( 'Binaries: %s' % binaries)\n",
        "\n",
        "    # Now strip off the '0b' from each of these\n",
        "    stripped_binaries = [s.replace('0b', '') for s in binaries]\n",
        "    print( 'Stripped: %s' % stripped_binaries)\n",
        "\n",
        "    # Pad each byte's binary representation's with 0's to make sure it has all 8 bits:\n",
        "    #\n",
        "    # ['00111110', '10100011', '11010111', '00001010']\n",
        "    padded = [s.rjust(8, '0') for s in stripped_binaries]\n",
        "    print( 'Padded: %s' % padded)\n",
        "\n",
        "    # At this point, we have each of the bytes for the network byte ordered float\n",
        "    # in an array as binary strings. Now we just concatenate them to get the total\n",
        "    # representation of the float:\n",
        "    return ''.join(padded)"
      ],
      "metadata": {
        "id": "0IP2bmM5r-jo"
      },
      "id": "0IP2bmM5r-jo",
      "execution_count": null,
      "outputs": []
    },
    {
      "cell_type": "code",
      "source": [
        "BIN=binary(0.15625)\n",
        "\n",
        "BIN, ''.join( list(BIN)[::-1] ) #inverted list joined into a string"
      ],
      "metadata": {
        "colab": {
          "base_uri": "https://localhost:8080/"
        },
        "id": "jwSuulHhsM4Z",
        "outputId": "7957f4e7-3713-4494-bbd6-7b2152cf2f10"
      },
      "id": "jwSuulHhsM4Z",
      "execution_count": null,
      "outputs": [
        {
          "output_type": "stream",
          "name": "stdout",
          "text": [
            "Packed: b'> \\x00\\x00'\n",
            "Integers: [62, 32, 0, 0]\n",
            "Binaries: ['0b111110', '0b100000', '0b0', '0b0']\n",
            "Stripped: ['111110', '100000', '0', '0']\n",
            "Padded: ['00111110', '00100000', '00000000', '00000000']\n"
          ]
        },
        {
          "output_type": "execute_result",
          "data": {
            "text/plain": [
              "('00111110001000000000000000000000', '00000000000000000000010001111100')"
            ]
          },
          "metadata": {},
          "execution_count": 9
        }
      ]
    },
    {
      "cell_type": "markdown",
      "id": "74f1131a",
      "metadata": {
        "id": "74f1131a"
      },
      "source": [
        "### Activity 1.0: \n",
        "\n",
        "Implement a function that get the binary representation of an integer with name mybin, the algorithm should return \n",
        "a string with 8 characters, the maximun number that represent the funcition is integer of 8 bit. The name of function is \n",
        "mybin\n",
        "\n",
        "Ejexample : \n",
        "\n",
        "b=mybin(x)\n",
        "\n",
        "b='00101000'"
      ]
    },
    {
      "cell_type": "code",
      "execution_count": null,
      "id": "4c8dabcf",
      "metadata": {
        "id": "4c8dabcf",
        "colab": {
          "base_uri": "https://localhost:8080/"
        },
        "outputId": "2e94a8ce-6e98-444b-a5f3-a486ed0d55a9"
      },
      "outputs": [
        {
          "output_type": "execute_result",
          "data": {
            "text/plain": [
              "('11110110', '0b11110110')"
            ]
          },
          "metadata": {},
          "execution_count": 10
        }
      ],
      "source": [
        "##!/usr/bin/env python3\n",
        "\n",
        "\n",
        "representacion=[]\n",
        "\n",
        "def mybin(x):\n",
        "    #print('__name__ = {}'.format(__name__))\n",
        "    if x== 2:\n",
        "      representacion.append('0')\n",
        "      representacion.append('1')\n",
        "      #print((''.join(representacion[::-1])).rjust(8,'0'))\n",
        "      b=(''.join(representacion[::-1])).rjust(8,'0')\n",
        "      return b    #unimos los elementos de representacion en un string, pero cuando la lista es alreves\n",
        "    elif x== 3:\n",
        "      representacion.append('1')\n",
        "      representacion.append('1')\n",
        "      #print((''.join(representacion[::-1])).rjust(8,'0'))\n",
        "      b=(''.join(representacion[::-1])).rjust(8,'0')\n",
        "      return b  \n",
        "    else:\n",
        "      s= x%2\n",
        "      x= int(x//2)\n",
        "      representacion.append(str(s))\n",
        "      a = mybin(x)\n",
        "      return a\n",
        "\n",
        "\n",
        "mybin(246), bin(246)"
      ]
    },
    {
      "cell_type": "code",
      "source": [
        "#usamos esto para probar las funciones que se deben realizar\n",
        "a= ['1', '2', '2']\n",
        "b= a[::-1]\n",
        "''.join(b)"
      ],
      "metadata": {
        "colab": {
          "base_uri": "https://localhost:8080/",
          "height": 36
        },
        "id": "TSm9pSueBbOl",
        "outputId": "21516032-3d89-4199-c979-e55d39bf4a33"
      },
      "id": "TSm9pSueBbOl",
      "execution_count": null,
      "outputs": [
        {
          "output_type": "execute_result",
          "data": {
            "text/plain": [
              "'221'"
            ],
            "application/vnd.google.colaboratory.intrinsic+json": {
              "type": "string"
            }
          },
          "metadata": {},
          "execution_count": 11
        }
      ]
    },
    {
      "cell_type": "code",
      "source": [
        "#otra forma de hacerlo es utilizando un while\n",
        "\n",
        "def mybin(x):\n",
        "  b=''\n",
        "  while x != 0:      #cuando el ultimo valor que queda en la division es uno, el residuo es cero, ese  ya no se tiene en cuenta\n",
        "    oldx= x\n",
        "    b = str(x%2)+b       #notamos que se va juntando de atras hacia delante\n",
        "    x = x//2\n",
        "  b = b.rjust(8,'0')\n",
        "  return b"
      ],
      "metadata": {
        "id": "qaWjW2HQB4su"
      },
      "id": "qaWjW2HQB4su",
      "execution_count": null,
      "outputs": []
    },
    {
      "cell_type": "code",
      "source": [
        "mybin(12)"
      ],
      "metadata": {
        "colab": {
          "base_uri": "https://localhost:8080/",
          "height": 36
        },
        "id": "UYyxnnklE142",
        "outputId": "828b7f69-a481-49db-be78-7714f940c555"
      },
      "id": "UYyxnnklE142",
      "execution_count": null,
      "outputs": [
        {
          "output_type": "execute_result",
          "data": {
            "text/plain": [
              "'00001100'"
            ],
            "application/vnd.google.colaboratory.intrinsic+json": {
              "type": "string"
            }
          },
          "metadata": {},
          "execution_count": 13
        }
      ]
    },
    {
      "cell_type": "code",
      "execution_count": null,
      "id": "885be6fb",
      "metadata": {
        "id": "885be6fb",
        "outputId": "760f68d9-2d60-4cf3-99b1-a8c97079c3dd",
        "colab": {
          "base_uri": "https://localhost:8080/",
          "height": 209
        }
      },
      "outputs": [
        {
          "output_type": "display_data",
          "data": {
            "text/plain": [
              "<IPython.core.display.HTML object>"
            ],
            "text/html": [
              "<style>\n",
              "  table { text-align: left; border-collapse: collapse; margin: 1em; caption-side: bottom; font-family: Sans-Serif; font-size: 12px}\n",
              "  caption { text-align: left; padding: 5px }\n",
              "  th, td { border: 2px solid #BFC9CA; padding: 5px }\n",
              "  th { background-color: #BFC9CA }\n",
              "  .passed { background-color: #76D7C4 }\n",
              "  .failed { background-color: #EC7063 }\n",
              "  .skipped { background-color: #EDBB99 }\n",
              "  .score { background-color: #7DCEA0 }\n",
              "  .results .points { display: none }\n",
              "  .results .message { display: block; font-size:smaller; color:#D35400 }\n",
              "  .results .note { display: block; font-size:smaller; font-decoration:italics }\n",
              "  .results .passed::before  { content: \"Passed\" } \n",
              "  .results .skipped::before  { content: \"Skipped\" } \n",
              "  .results .failed::before  { content: \"Failed\" } \n",
              "  .grade .passed  .message:empty::before { content:\"Passed\" }\n",
              "  .grade .failed  .message:empty::before { content:\"Failed\" }\n",
              "  .grade .skipped .message:empty::before { content:\"Skipped\" }   \n",
              "</style>\n",
              "<table class='results'>\n",
              "  <th class='test'>Test</th><th class='result'>Result</th></tr>\n",
              "<tr>\n",
              "  <td class='test'>\n",
              "    La salida debe ser un string \n",
              "    <div class='message'>Done</div>\n",
              "  </td>\n",
              "  <td class='result passed'></td>\n",
              "</tr>\n",
              "<tr>\n",
              "  <td class='test'>\n",
              "    La longitud del string debe ser de 8 \n",
              "    <div class='message'>Done</div>\n",
              "  </td>\n",
              "  <td class='result passed'></td>\n",
              "</tr>\n",
              "<tr>\n",
              "  <td class='test'>\n",
              "    Para el número 132 su representacion es 10000100 \n",
              "    <div class='message'>Done</div>\n",
              "  </td>\n",
              "  <td class='result passed'></td>\n",
              "</tr>  <tr><th class='score'>Total Points</th><th class='score'>3</th></tr></table>\n"
            ]
          },
          "metadata": {}
        }
      ],
      "source": [
        "%run -i {path}/Act_02/test01.py\n"
      ]
    },
    {
      "cell_type": "code",
      "source": [
        "####observacion:   Se presenta corregido el primer código de recursión, tal que el return sea adecuado:\n",
        "\n",
        "def m_bin(x):\n",
        "  \"\"\"Definimos la condicion de parada: \n",
        "  - Si el valor es  2 los  ultimos numeros seran \"01\".\n",
        "  - Si el valor es 3 los ultimos numeros seran \"11\"\n",
        "  No debemos poner una variable como  return dentro de la recursión, por que justamente\n",
        "  lo que definimos es valor en los casos extremos.\n",
        "  La recursin realizará s+m_bin(x) en cada instante, es decir concatenará los\n",
        "  string. \n",
        "  \"\"\"\n",
        "  if(x==2):\n",
        "    return \"01\"\n",
        "  elif(x==3):    \n",
        "\n",
        "    return \"11\"\n",
        "  elif(x==1):\n",
        "    return \"1\"\n",
        "  else :            \n",
        "    s = x%2\n",
        "    x = int(x//2)\n",
        "    return str(s) + m_bin(x)\n",
        "\n",
        "\n",
        "def my_bin(x):\n",
        "  \"\"\"\n",
        "  Como el resultado lo necesitamos invertir, \n",
        "  se hace    la inversion en una funcion aparte, \n",
        "  tambien lo puede reelizar dentro de la funcion anterior \n",
        "  empleando parentesis en el return y poniendo rjust(8,\"0\")\n",
        "  \"\"\"\n",
        "  return m_bin(x)[::-1].rjust(8,'0')"
      ],
      "metadata": {
        "id": "trioHvDFQSwB"
      },
      "id": "trioHvDFQSwB",
      "execution_count": null,
      "outputs": []
    },
    {
      "cell_type": "markdown",
      "id": "e622b7b5",
      "metadata": {
        "id": "e622b7b5"
      },
      "source": [
        "### Activity 2.0: \n",
        "\n",
        "With the binary representation please try to implement the formula to recover the number.\n",
        "\n",
        "Hint: Use as input the binary representation as a string and invert its order\n",
        "\n",
        "```\n",
        "number32(BIN):\n",
        "\n",
        "```\n",
        "\n",
        "Where BIN is a string with the binary number\n",
        "\n",
        "Example: \n",
        "\n",
        "\n",
        "Test your solution for the next number:\n",
        "\n",
        "number32(\"00111110001000000000001000010000\")"
      ]
    },
    {
      "cell_type": "code",
      "execution_count": null,
      "id": "5f3c6506",
      "metadata": {
        "id": "5f3c6506"
      },
      "outputs": [],
      "source": [
        "import numpy as np\n",
        "\n",
        "def number32(BIN):\n",
        "\n",
        "  #se crea una lista que contenga a cada uno de los digitos del numero proporcionado como un string\n",
        "  #se convierten a un numpy array, y se asigna que el tipo de cada uno de los elementos del array sea un entero\n",
        "    b_inverted= np.array(list(B\n",
        "IN)[::-1]).astype(int)  \n",
        "  \n",
        "  #el signo del numero va ser el último de la lista que hemos invertido\n",
        "    s= b_inverted[-1]       \n",
        "\n",
        "  #miramos ahora la parte exponencial\n",
        "    be = b_inverted[23:31]\n",
        "    i=  np.arange(8 )    #--> se puede poner en lugar de 8 un be.size\n",
        "    e = (be * (2**i)).sum()\n",
        "\n",
        "  #ahora, vamos a mirar la parte fraccional, la cual corresponde a los primeros 23 elementos de nuestra lista invertida\n",
        "  #para hallar el valor de i de esta parte, se toman 23 valores pero alrevés, para hacer la sumatorias del denominador\n",
        "    bf= b_inverted[:23]  \n",
        "    i_inverted= np.arange(1, bf.size + 1)[::-1]\n",
        "\n",
        "  #tenemos ahora los elementos necesarios para obtener el numero:\n",
        "    numero = ( (-1)**s / 2 ** (127 - e) ) * ( 1 + (bf/ 2**i_inverted).sum())\n",
        "\n",
        "\n",
        "    return numero"
      ]
    },
    {
      "cell_type": "code",
      "source": [
        "number32('00111110001000000000000000000000'), number32('00111110001000000000001000010000')"
      ],
      "metadata": {
        "colab": {
          "base_uri": "https://localhost:8080/"
        },
        "id": "bI_YxE7T8qli",
        "outputId": "770898e4-d22c-42a4-f915-3c4d68770e47"
      },
      "id": "bI_YxE7T8qli",
      "execution_count": null,
      "outputs": [
        {
          "output_type": "execute_result",
          "data": {
            "text/plain": [
              "(0.15625, 0.15625786781311035)"
            ]
          },
          "metadata": {},
          "execution_count": 17
        }
      ]
    },
    {
      "cell_type": "code",
      "execution_count": null,
      "id": "155ffd7f",
      "metadata": {
        "id": "155ffd7f",
        "outputId": "3d7a3f5f-9ee9-407e-bf76-5e5edea6ed3f",
        "colab": {
          "base_uri": "https://localhost:8080/"
        }
      },
      "outputs": [
        {
          "output_type": "stream",
          "name": "stdout",
          "text": [
            "La función no ha sido definda o el numero de argumento no es el adecuado\n"
          ]
        }
      ],
      "source": [
        "%run -i {path}/Act_02/test02.py"
      ]
    },
    {
      "cell_type": "markdown",
      "id": "d11e596d",
      "metadata": {
        "id": "d11e596d"
      },
      "source": [
        "### Activity 3.0:\n",
        "1. Write a python script that calculates the double precision number represented by a 64-bits binary.\n",
        "\n",
        "the name of function should be: \n",
        "```\n",
        "number64(BIN):\n",
        "\n",
        "```\n",
        "\n",
        "2. What is the number represented by:\n",
        "\n",
        "BIN=\"0 10000000011 1011100100001111111111111111111111111111111111111111\""
      ]
    },
    {
      "cell_type": "code",
      "source": [
        "#realizamos el paso a paso aparte para evitar errores\n",
        "\n",
        "b= \"0100000000111011100100001111111111111111111111111111111111111111\"\n",
        "arr = np.array(list(b)[::-1]).astype(int)\n",
        "arr"
      ],
      "metadata": {
        "colab": {
          "base_uri": "https://localhost:8080/"
        },
        "id": "BTG3xrefNVI6",
        "outputId": "6b455022-43c2-4656-aa25-7b01cb2950fa"
      },
      "id": "BTG3xrefNVI6",
      "execution_count": null,
      "outputs": [
        {
          "output_type": "execute_result",
          "data": {
            "text/plain": [
              "array([1, 1, 1, 1, 1, 1, 1, 1, 1, 1, 1, 1, 1, 1, 1, 1, 1, 1, 1, 1, 1, 1,\n",
              "       1, 1, 1, 1, 1, 1, 1, 1, 1, 1, 1, 1, 1, 1, 1, 1, 1, 1, 0, 0, 0, 0,\n",
              "       1, 0, 0, 1, 1, 1, 0, 1, 1, 1, 0, 0, 0, 0, 0, 0, 0, 0, 1, 0])"
            ]
          },
          "metadata": {},
          "execution_count": 19
        }
      ]
    },
    {
      "cell_type": "code",
      "source": [
        "be = arr[52:63]     #para que tome desde la posicion 52 hasta la 63 --> tal que no tome el numero correspondiente al signo\n",
        "ie = np.arange(11)\n",
        "\n",
        "s = arr[-1]\n",
        "\n",
        "be, len(be), ie, s"
      ],
      "metadata": {
        "colab": {
          "base_uri": "https://localhost:8080/"
        },
        "id": "vFl4hvDVO11n",
        "outputId": "e9e1754e-f689-4033-bd3c-656276d9bdd7"
      },
      "id": "vFl4hvDVO11n",
      "execution_count": null,
      "outputs": [
        {
          "output_type": "execute_result",
          "data": {
            "text/plain": [
              "(array([1, 1, 0, 0, 0, 0, 0, 0, 0, 0, 1]),\n",
              " 11,\n",
              " array([ 0,  1,  2,  3,  4,  5,  6,  7,  8,  9, 10]),\n",
              " 0)"
            ]
          },
          "metadata": {},
          "execution_count": 20
        }
      ]
    },
    {
      "cell_type": "code",
      "source": [
        "#ahora, miramos como es la parte fraccional:\n",
        "\n",
        "bf = arr[:52][::-1]\n",
        "ifr = np.arange(1, 53)\n",
        "ifr, len(bf)"
      ],
      "metadata": {
        "colab": {
          "base_uri": "https://localhost:8080/"
        },
        "id": "7iVXeuHBP2Ho",
        "outputId": "310fce11-70fa-4be5-80e6-a86e3355bd92"
      },
      "id": "7iVXeuHBP2Ho",
      "execution_count": null,
      "outputs": [
        {
          "output_type": "execute_result",
          "data": {
            "text/plain": [
              "(array([ 1,  2,  3,  4,  5,  6,  7,  8,  9, 10, 11, 12, 13, 14, 15, 16, 17,\n",
              "        18, 19, 20, 21, 22, 23, 24, 25, 26, 27, 28, 29, 30, 31, 32, 33, 34,\n",
              "        35, 36, 37, 38, 39, 40, 41, 42, 43, 44, 45, 46, 47, 48, 49, 50, 51,\n",
              "        52]), 52)"
            ]
          },
          "metadata": {},
          "execution_count": 21
        }
      ]
    },
    {
      "cell_type": "code",
      "source": [
        "#teniendo estos datos ya es posible escribir un código correpondiente a la ecuacion number64"
      ],
      "metadata": {
        "id": "rzsgTLy7Wia1"
      },
      "id": "rzsgTLy7Wia1",
      "execution_count": null,
      "outputs": []
    },
    {
      "cell_type": "code",
      "source": [
        "import numpy as np\n",
        "\n",
        "def number64(BIN):\n",
        "  b = BIN\n",
        "  arr = np.array(list(b)[::-1]).astype(int)\n",
        "\n",
        "  s = arr[-1]\n",
        "\n",
        "  #parte exponencial\n",
        "  be = arr[52:63]            #notamos que la parte exponencial va desde las posiciones 52 a la 62 --> por eso se pone hasta 63, para que no tenga en cuenta el signo, la cual es la posicion numero 63\n",
        "  ie = np.arange(11)\n",
        "  e= (be * 2 **ie).sum()\n",
        "\n",
        "  #parte fraccional\n",
        "  bf = arr[:52][::-1]\n",
        "  ifr = np.arange(1, 53)\n",
        "\n",
        "  number = (-1) ** s * (1+ (bf / 2**ifr).sum())  * (2**(e - 1023) )\n",
        "  \n",
        "  return number"
      ],
      "metadata": {
        "id": "INAIj5PDaYE2"
      },
      "id": "INAIj5PDaYE2",
      "execution_count": null,
      "outputs": []
    },
    {
      "cell_type": "code",
      "source": [
        "number64(\"0100000000111011100100001111111111111111111111111111111111111111\")"
      ],
      "metadata": {
        "colab": {
          "base_uri": "https://localhost:8080/"
        },
        "id": "S8Yd5vI5P-VS",
        "outputId": "f77ee38a-41e5-42ee-e595-57d91f14a04d"
      },
      "id": "S8Yd5vI5P-VS",
      "execution_count": null,
      "outputs": [
        {
          "output_type": "execute_result",
          "data": {
            "text/plain": [
              "27.566406249999996"
            ]
          },
          "metadata": {},
          "execution_count": 24
        }
      ]
    },
    {
      "cell_type": "code",
      "execution_count": null,
      "id": "cd48a992",
      "metadata": {
        "scrolled": false,
        "id": "cd48a992",
        "outputId": "5f2c9d1c-a99a-4126-c667-e9bb3552b31a",
        "colab": {
          "base_uri": "https://localhost:8080/"
        }
      },
      "outputs": [
        {
          "output_type": "stream",
          "name": "stdout",
          "text": [
            "La función no ha sido definda o el numero de argumento no es el adecuado\n"
          ]
        }
      ],
      "source": [
        "%run -i {path}/Act_02/test03.py"
      ]
    }
  ],
  "metadata": {
    "kernelspec": {
      "display_name": "Python 3 (ipykernel)",
      "language": "python",
      "name": "python3"
    },
    "language_info": {
      "codemirror_mode": {
        "name": "ipython",
        "version": 3
      },
      "file_extension": ".py",
      "mimetype": "text/x-python",
      "name": "python",
      "nbconvert_exporter": "python",
      "pygments_lexer": "ipython3",
      "version": "3.8.12"
    },
    "colab": {
      "provenance": []
    }
  },
  "nbformat": 4,
  "nbformat_minor": 5
}