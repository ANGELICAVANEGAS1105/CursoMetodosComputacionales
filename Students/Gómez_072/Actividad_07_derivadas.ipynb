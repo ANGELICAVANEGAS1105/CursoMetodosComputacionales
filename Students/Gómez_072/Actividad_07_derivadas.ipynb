{
  "cells": [
    {
      "cell_type": "markdown",
      "id": "90baaaf7",
      "metadata": {
        "id": "90baaaf7"
      },
      "source": [
        "<a href=\"https://colab.research.google.com/github/hernansalinas/autogrades/blob/main/Actividades_clase/Actividad_07_derivadas.pynb\" target=\"_parent\"><img src=\"https://colab.research.google.com/assets/colab-badge.svg\" alt=\"Open In Colab\"/></a>\n",
        "\n",
        "\n",
        "\n",
        "# Actividad 7\n",
        "### Métodos computacionales para físicos  y astrónomos\n",
        "### Universidad de Antioquia\n",
        "### Prof: Hernan D. Salinas Jiménez\n",
        "Ref: https://github.com/restrepo/ComputationalMethods"
      ]
    },
    {
      "cell_type": "markdown",
      "id": "494edb2b",
      "metadata": {
        "id": "494edb2b"
      },
      "source": [
        "El potencial eléctrico de un anillo de radio R, en la parte superior z del anillo viene dado por: \n",
        "\n",
        "\n",
        "\\begin{equation}\n",
        "V = \\frac{kq_{tot}z}{\\sqrt{z^2+R^2}}\n",
        "\\end{equation}\n",
        "\n",
        "Calcule el campo eléctrico para z>0 y R=0.1mm. Reescale el problema en unidades de $kq_{tot}$ empleando:\n",
        "\n",
        "1. La librearia sympy.\n",
        "\n",
        "2. Calcular el campo en el punto  $z = 0.1mm$ empleando el metodo [misc.derivative](https://docs.scipy.org/doc/scipy/reference/generated/scipy.misc.derivative.html)\n",
        "\n",
        "3. Calcular el campo para diferentes valores de z con z>0,,  empleando misc derivative. Construya un grafico de E vs z.\n",
        "\n",
        "4. Entender la generalizacion de la siguiente función, y aplicarla para calcular la derivada.\n",
        "\n",
        "\n",
        "```python\n",
        "import numpy as np\n",
        "from scipy import misc\n",
        "def derivative(func,x0,**kwargs):\n",
        "    '''\n",
        "    Vectorized replacement of scipy.misc derivative:\n",
        "        from scipy.misc import derivative\n",
        "    For usage check the derivative help, e.g, in jupyter: \n",
        "        from scipy.misc import derivative\n",
        "        derivative?\n",
        "    '''\n",
        "    try:\n",
        "        #x0: can be an array or a list  \n",
        "        nn=np.asarray(x0).shape[0] ## force error if float is used \n",
        "        fp=np.vectorize(misc.derivative)\n",
        "    except IndexError:\n",
        "        fp=misc.derivative\n",
        "        \n",
        "    return fp(func,x0,**kwargs)\n",
        "\n",
        "assert isinstance(derivative(np.sin,1,dx=1E-6),float)\n",
        "\n",
        "```"
      ]
    },
    {
      "cell_type": "markdown",
      "source": [
        "#primera parte de la actividad\n"
      ],
      "metadata": {
        "id": "Fo7rqDHiljo7"
      },
      "id": "Fo7rqDHiljo7"
    },
    {
      "cell_type": "markdown",
      "source": [
        "\\begin{equation}\n",
        "V = \\frac{kq_{tot}z}{\\sqrt{z^2+R^2}}\n",
        "\\end{equation}\n",
        "\n",
        "Calcule el campo eléctrico para z>0 y R=0.1mm. Reescale el problema en unidades de $kq_{tot}$ empleando:\n",
        "\n",
        "1. La librearia sympy."
      ],
      "metadata": {
        "id": "c5sYvo3FbDg_"
      },
      "id": "c5sYvo3FbDg_"
    },
    {
      "cell_type": "code",
      "execution_count": null,
      "id": "d9dfaf0f",
      "metadata": {
        "id": "d9dfaf0f"
      },
      "outputs": [],
      "source": [
        "import numpy as np\n",
        "import sympy as sp\n",
        "import matplotlib.pyplot as plt"
      ]
    },
    {
      "cell_type": "code",
      "source": [
        "def pot_escalado(z, R= 0.1):\n",
        "  return z / np.sqrt(z**2 + R**2)"
      ],
      "metadata": {
        "id": "wfweId76a21E"
      },
      "id": "wfweId76a21E",
      "execution_count": null,
      "outputs": []
    },
    {
      "cell_type": "code",
      "source": [
        "z = sp.symbols('z')\n",
        "R = sp.symbols('R')"
      ],
      "metadata": {
        "id": "0e-dVyN9bgEH"
      },
      "id": "0e-dVyN9bgEH",
      "execution_count": null,
      "outputs": []
    },
    {
      "cell_type": "code",
      "source": [
        "def pot_escalado_sp(z, R= 0.1):\n",
        "  return z / sp.sqrt(z**2 + R**2)"
      ],
      "metadata": {
        "id": "on5VNlbHbu4q"
      },
      "id": "on5VNlbHbu4q",
      "execution_count": null,
      "outputs": []
    },
    {
      "cell_type": "code",
      "source": [
        "x=  np.linspace(0,1)\n",
        "\n",
        "plt.plot(x, pot_escalado(x));"
      ],
      "metadata": {
        "colab": {
          "base_uri": "https://localhost:8080/",
          "height": 430
        },
        "id": "2LWBGsLIfroO",
        "outputId": "33acb584-2630-46dc-8ce7-b1bb4276e452"
      },
      "id": "2LWBGsLIfroO",
      "execution_count": null,
      "outputs": [
        {
          "output_type": "display_data",
          "data": {
            "text/plain": [
              "<Figure size 640x480 with 1 Axes>"
            ],
            "image/png": "[encoded data removed]"
          },
          "metadata": {}
        }
      ]
    },
    {
      "cell_type": "code",
      "source": [
        "derivada = sp.diff(pot_escalado_sp(z, R), z)\n",
        "derivada"
      ],
      "metadata": {
        "colab": {
          "base_uri": "https://localhost:8080/",
          "height": 63
        },
        "id": "yNA9pxH7byrn",
        "outputId": "ef5d45d9-92a1-43fa-fc04-90b1e1a123fe"
      },
      "id": "yNA9pxH7byrn",
      "execution_count": null,
      "outputs": [
        {
          "output_type": "execute_result",
          "data": {
            "text/plain": [
              "-z**2/(R**2 + z**2)**(3/2) + 1/sqrt(R**2 + z**2)"
            ],
            "text/latex": "$\\displaystyle - \\frac{z^{2}}{\\left(R^{2} + z^{2}\\right)^{\\frac{3}{2}}} + \\frac{1}{\\sqrt{R^{2} + z^{2}}}$"
          },
          "metadata": {},
          "execution_count": 39
        }
      ]
    },
    {
      "cell_type": "code",
      "source": [
        "der = sp.lambdify((z, R), derivada, 'numpy')\n",
        "der"
      ],
      "metadata": {
        "colab": {
          "base_uri": "https://localhost:8080/"
        },
        "id": "ZOd33sWucAZl",
        "outputId": "15d40530-6226-49fe-ee2e-d34c2782a2e4"
      },
      "id": "ZOd33sWucAZl",
      "execution_count": null,
      "outputs": [
        {
          "output_type": "execute_result",
          "data": {
            "text/plain": [
              "<function _lambdifygenerated(z, R)>"
            ]
          },
          "metadata": {},
          "execution_count": 40
        }
      ]
    },
    {
      "cell_type": "code",
      "source": [
        "R= 0.1"
      ],
      "metadata": {
        "id": "a-w52SPVafoL"
      },
      "id": "a-w52SPVafoL",
      "execution_count": null,
      "outputs": []
    },
    {
      "cell_type": "code",
      "source": [
        "#der(2, R)"
      ],
      "metadata": {
        "id": "0f0OB9NGdASK"
      },
      "id": "0f0OB9NGdASK",
      "execution_count": null,
      "outputs": []
    },
    {
      "cell_type": "code",
      "source": [
        "#ya que tenemos la derivada, obtenemos el valor del campo eléctrico\n",
        "#el campo electrico es menos el gradiente del potencial\n",
        "\n",
        "\n",
        "z = np.linspace(0, 2)\n",
        "E = -1 * der(z, R=0.1)\n",
        "\n",
        "plt.plot(z, E)\n",
        "plt.xlabel('z')\n",
        "plt.ylabel('E');"
      ],
      "metadata": {
        "colab": {
          "base_uri": "https://localhost:8080/",
          "height": 449
        },
        "id": "1jC9LqlWcPAY",
        "outputId": "f1201677-af3d-4c06-a552-7e97eb419747"
      },
      "id": "1jC9LqlWcPAY",
      "execution_count": null,
      "outputs": [
        {
          "output_type": "display_data",
          "data": {
            "text/plain": [
              "<Figure size 640x480 with 1 Axes>"
            ],
            "image/png": "[encoded data removed]"
          },
          "metadata": {}
        }
      ]
    },
    {
      "cell_type": "markdown",
      "source": [
        "2. Calcular el campo en el punto  $z = 0.1mm$ empleando el metodo [misc.derivative](https://docs.scipy.org/doc/scipy/reference/generated/scipy.misc.derivative.html)\n",
        "\n",
        "\n",
        "- esta me permite encontrar solamente la derivada en un punto.\n",
        "- dx es la resoucion que yo desee en el eje x, pues se trata de que ya tengo uan función"
      ],
      "metadata": {
        "id": "0EWupEFrgGhs"
      },
      "id": "0EWupEFrgGhs"
    },
    {
      "cell_type": "code",
      "source": [
        "from scipy.misc import derivative"
      ],
      "metadata": {
        "id": "ukgotfUnc-kU"
      },
      "id": "ukgotfUnc-kU",
      "execution_count": null,
      "outputs": []
    },
    {
      "cell_type": "code",
      "source": [
        "#derivative?"
      ],
      "metadata": {
        "id": "8BB2WbW8ghOD"
      },
      "id": "8BB2WbW8ghOD",
      "execution_count": null,
      "outputs": []
    },
    {
      "cell_type": "code",
      "source": [
        "def pot_escalado(z, R= 0.1):\n",
        "  return z / np.sqrt(z**2 + R**2)"
      ],
      "metadata": {
        "id": "phVLC9kKgn40"
      },
      "id": "phVLC9kKgn40",
      "execution_count": null,
      "outputs": []
    },
    {
      "cell_type": "code",
      "source": [
        "R = 0.1"
      ],
      "metadata": {
        "id": "07D54VsahVh7"
      },
      "id": "07D54VsahVh7",
      "execution_count": null,
      "outputs": []
    },
    {
      "cell_type": "code",
      "source": [
        "derivative(pot_escalado, 0.1, dx = 1, args=(R,))"
      ],
      "metadata": {
        "colab": {
          "base_uri": "https://localhost:8080/"
        },
        "id": "TEdT7hR6gh-S",
        "outputId": "b78752ad-229a-4e91-9213-cf27088b4e91"
      },
      "id": "TEdT7hR6gh-S",
      "execution_count": null,
      "outputs": [
        {
          "output_type": "stream",
          "name": "stderr",
          "text": [
            "<ipython-input-66-415265bcaff3>:1: DeprecationWarning: scipy.misc.derivative is deprecated in SciPy v1.10.0; and will be completely removed in SciPy v1.12.0. You may consider using findiff: https://github.com/maroba/findiff or numdifftools: https://github.com/pbrod/numdifftools\n",
            "  derivative(pot_escalado, 0.1, dx = 1, args=(R,))\n"
          ]
        },
        {
          "output_type": "execute_result",
          "data": {
            "text/plain": [
              "0.9948884705706614"
            ]
          },
          "metadata": {},
          "execution_count": 66
        }
      ]
    },
    {
      "cell_type": "markdown",
      "source": [
        "3. Calcular el campo para diferentes valores de z con z>0,,  empleando misc derivative. Construya un grafico de E vs z."
      ],
      "metadata": {
        "id": "engbubs6oGL0"
      },
      "id": "engbubs6oGL0"
    },
    {
      "cell_type": "code",
      "source": [
        "#veamos ahora el derivative para diferentes puntos por medio de un for\n",
        "\n",
        "z= np.linspace(0,2, 100)\n",
        "derivadas = []\n",
        "\n",
        "for i in z:\n",
        "  val = derivative(pot_escalado, i, dx = 0.001, args=(R,))\n",
        "  derivadas.append(val)\n",
        "\n",
        "derivadas\n"
      ],
      "metadata": {
        "id": "YjzMk6xHhZiz"
      },
      "id": "YjzMk6xHhZiz",
      "execution_count": null,
      "outputs": []
    },
    {
      "cell_type": "code",
      "source": [
        "derivs = np.array(derivadas)\n",
        "campo_e = -derivs\n",
        "\n",
        "campo_e"
      ],
      "metadata": {
        "colab": {
          "base_uri": "https://localhost:8080/"
        },
        "id": "KosCA-vojkYz",
        "outputId": "897bccbb-8152-44f0-ba8b-05c80add03e1"
      },
      "id": "KosCA-vojkYz",
      "execution_count": null,
      "outputs": [
        {
          "output_type": "execute_result",
          "data": {
            "text/plain": [
              "array([-9.99950004e+00, -9.41726280e+00, -7.97050055e+00, -6.25468183e+00,\n",
              "       -4.70549873e+00, -3.48250132e+00, -2.57734754e+00, -1.92477212e+00,\n",
              "       -1.45679356e+00, -1.11927238e+00, -8.73094752e-01, -6.91069080e-01,\n",
              "       -5.54518971e-01, -4.50603939e-01, -3.70427850e-01, -3.07758975e-01,\n",
              "       -2.58176822e-01, -2.18504412e-01, -1.86428506e-01, -1.60243300e-01,\n",
              "       -1.38675541e-01, -1.20763820e-01, -1.05774235e-01, -9.31407754e-02,\n",
              "       -8.24226798e-02, -7.32735914e-02, -6.54190100e-02, -5.86396352e-02,\n",
              "       -5.27589421e-02, -4.76338274e-02, -4.31475050e-02, -3.92040644e-02,\n",
              "       -3.57242699e-02, -3.26422932e-02, -2.99031532e-02, -2.74606975e-02,\n",
              "       -2.52759990e-02, -2.33160760e-02, -2.15528636e-02, -1.99623828e-02,\n",
              "       -1.85240654e-02, -1.72202036e-02, -1.60354975e-02, -1.49566833e-02,\n",
              "       -1.39722248e-02, -1.30720572e-02, -1.22473736e-02, -1.14904456e-02,\n",
              "       -1.07944728e-02, -1.01534556e-02, -9.56208769e-03, -9.01566454e-03,\n",
              "       -8.51000537e-03, -8.04138656e-03, -7.60648448e-03, -7.20232637e-03,\n",
              "       -6.82624791e-03, -6.47585663e-03, -6.14900015e-03, -5.84373854e-03,\n",
              "       -5.55832035e-03, -5.29116157e-03, -5.04082731e-03, -4.80601569e-03,\n",
              "       -4.58554370e-03, -4.37833472e-03, -4.18340759e-03, -3.99986685e-03,\n",
              "       -3.82689414e-03, -3.66374060e-03, -3.50972010e-03, -3.36420315e-03,\n",
              "       -3.22661158e-03, -3.09641368e-03, -2.97311996e-03, -2.85627924e-03,\n",
              "       -2.74547526e-03, -2.64032350e-03, -2.54046847e-03, -2.44558112e-03,\n",
              "       -2.35535662e-03, -2.26951230e-03, -2.18778576e-03, -2.10993325e-03,\n",
              "       -2.03572812e-03, -1.96495941e-03, -1.89743064e-03, -1.83295864e-03,\n",
              "       -1.77137253e-03, -1.71251274e-03, -1.65623017e-03, -1.60238541e-03,\n",
              "       -1.55084797e-03, -1.50149565e-03, -1.45421395e-03, -1.40889548e-03,\n",
              "       -1.36543944e-03, -1.32375120e-03, -1.28374184e-03, -1.24532773e-03])"
            ]
          },
          "metadata": {},
          "execution_count": 83
        }
      ]
    },
    {
      "cell_type": "code",
      "source": [
        "plt.plot(z, campo_e)"
      ],
      "metadata": {
        "colab": {
          "base_uri": "https://localhost:8080/",
          "height": 447
        },
        "id": "MSD3PkKSkWPS",
        "outputId": "6b35fd92-d27e-4c37-ce5b-c584a4fbc35d"
      },
      "id": "MSD3PkKSkWPS",
      "execution_count": null,
      "outputs": [
        {
          "output_type": "execute_result",
          "data": {
            "text/plain": [
              "[<matplotlib.lines.Line2D at 0x7fafb3c9c880>]"
            ]
          },
          "metadata": {},
          "execution_count": 84
        },
        {
          "output_type": "display_data",
          "data": {
            "text/plain": [
              "<Figure size 640x480 with 1 Axes>"
            ],
            "image/png": "[encoded data removed]"
          },
          "metadata": {}
        }
      ]
    },
    {
      "cell_type": "code",
      "source": [
        "#vamos a hacer lo mismo anterior, pero de forma vectorizada\n",
        "\n",
        "derivada = np.vectorize(derivative)            #cualquier funcion la puedo vectorizar"
      ],
      "metadata": {
        "id": "8NGNtsCZkiaQ"
      },
      "id": "8NGNtsCZkiaQ",
      "execution_count": null,
      "outputs": []
    },
    {
      "cell_type": "code",
      "source": [
        "z= np.linspace(0,2, 100)\n",
        "#derivada(pot_escalado, z)"
      ],
      "metadata": {
        "id": "ZPgWcWRFlaFx"
      },
      "id": "ZPgWcWRFlaFx",
      "execution_count": null,
      "outputs": []
    },
    {
      "cell_type": "code",
      "source": [
        "z= np.linspace(0,2, 100)\n",
        "campo = -derivative(pot_escalado, z, dx = 0.001, args=(R,))\n",
        "campo"
      ],
      "metadata": {
        "colab": {
          "base_uri": "https://localhost:8080/"
        },
        "id": "UapNyTebllov",
        "outputId": "70e59869-75c3-4c03-ad63-4c9eb57f64cf"
      },
      "id": "UapNyTebllov",
      "execution_count": null,
      "outputs": [
        {
          "output_type": "stream",
          "name": "stderr",
          "text": [
            "<ipython-input-100-8859fc005026>:2: DeprecationWarning: scipy.misc.derivative is deprecated in SciPy v1.10.0; and will be completely removed in SciPy v1.12.0. You may consider using findiff: https://github.com/maroba/findiff or numdifftools: https://github.com/pbrod/numdifftools\n",
            "  campo = -derivative(pot_escalado, z, dx = 0.001, args=(R,))\n"
          ]
        },
        {
          "output_type": "execute_result",
          "data": {
            "text/plain": [
              "array([-9.99950004e+00, -9.41726280e+00, -7.97050055e+00, -6.25468183e+00,\n",
              "       -4.70549873e+00, -3.48250132e+00, -2.57734754e+00, -1.92477212e+00,\n",
              "       -1.45679356e+00, -1.11927238e+00, -8.73094752e-01, -6.91069080e-01,\n",
              "       -5.54518971e-01, -4.50603939e-01, -3.70427850e-01, -3.07758975e-01,\n",
              "       -2.58176822e-01, -2.18504412e-01, -1.86428506e-01, -1.60243300e-01,\n",
              "       -1.38675541e-01, -1.20763820e-01, -1.05774235e-01, -9.31407754e-02,\n",
              "       -8.24226798e-02, -7.32735914e-02, -6.54190100e-02, -5.86396352e-02,\n",
              "       -5.27589421e-02, -4.76338274e-02, -4.31475050e-02, -3.92040644e-02,\n",
              "       -3.57242699e-02, -3.26422932e-02, -2.99031532e-02, -2.74606975e-02,\n",
              "       -2.52759990e-02, -2.33160760e-02, -2.15528636e-02, -1.99623828e-02,\n",
              "       -1.85240654e-02, -1.72202036e-02, -1.60354975e-02, -1.49566833e-02,\n",
              "       -1.39722248e-02, -1.30720572e-02, -1.22473736e-02, -1.14904456e-02,\n",
              "       -1.07944728e-02, -1.01534556e-02, -9.56208769e-03, -9.01566454e-03,\n",
              "       -8.51000537e-03, -8.04138656e-03, -7.60648448e-03, -7.20232637e-03,\n",
              "       -6.82624791e-03, -6.47585663e-03, -6.14900015e-03, -5.84373854e-03,\n",
              "       -5.55832035e-03, -5.29116157e-03, -5.04082731e-03, -4.80601569e-03,\n",
              "       -4.58554370e-03, -4.37833472e-03, -4.18340759e-03, -3.99986685e-03,\n",
              "       -3.82689414e-03, -3.66374060e-03, -3.50972010e-03, -3.36420315e-03,\n",
              "       -3.22661158e-03, -3.09641368e-03, -2.97311996e-03, -2.85627924e-03,\n",
              "       -2.74547526e-03, -2.64032350e-03, -2.54046847e-03, -2.44558112e-03,\n",
              "       -2.35535662e-03, -2.26951230e-03, -2.18778576e-03, -2.10993325e-03,\n",
              "       -2.03572812e-03, -1.96495941e-03, -1.89743064e-03, -1.83295864e-03,\n",
              "       -1.77137253e-03, -1.71251274e-03, -1.65623017e-03, -1.60238541e-03,\n",
              "       -1.55084797e-03, -1.50149565e-03, -1.45421395e-03, -1.40889548e-03,\n",
              "       -1.36543944e-03, -1.32375120e-03, -1.28374184e-03, -1.24532773e-03])"
            ]
          },
          "metadata": {},
          "execution_count": 100
        }
      ]
    },
    {
      "cell_type": "code",
      "source": [
        "plt.plot(z, campo)"
      ],
      "metadata": {
        "colab": {
          "base_uri": "https://localhost:8080/",
          "height": 447
        },
        "id": "BL3PVQWMnpAR",
        "outputId": "6401fb59-3617-46a5-c830-225141e5061c"
      },
      "id": "BL3PVQWMnpAR",
      "execution_count": null,
      "outputs": [
        {
          "output_type": "execute_result",
          "data": {
            "text/plain": [
              "[<matplotlib.lines.Line2D at 0x7fafb3c9c9d0>]"
            ]
          },
          "metadata": {},
          "execution_count": 101
        },
        {
          "output_type": "display_data",
          "data": {
            "text/plain": [
              "<Figure size 640x480 with 1 Axes>"
            ],
            "image/png": "[encoded data removed]"
          },
          "metadata": {}
        }
      ]
    },
    {
      "cell_type": "markdown",
      "source": [
        "#segunda parte de la actividad"
      ],
      "metadata": {
        "id": "eHwjWkqTlnlQ"
      },
      "id": "eHwjWkqTlnlQ"
    },
    {
      "cell_type": "code",
      "source": [
        "import numpy as np\n",
        "from scipy.misc import derivative\n",
        "import matplotlib.pyplot as plt"
      ],
      "metadata": {
        "id": "H209GfW8ohNu"
      },
      "id": "H209GfW8ohNu",
      "execution_count": null,
      "outputs": []
    },
    {
      "cell_type": "code",
      "source": [
        "def potencial(z, R, kq =1):\n",
        "  V = z * kq/np.sqrt(z**2 + R**2)\n",
        "  return V"
      ],
      "metadata": {
        "id": "grBP4cmgl_a4"
      },
      "id": "grBP4cmgl_a4",
      "execution_count": null,
      "outputs": []
    },
    {
      "cell_type": "code",
      "source": [
        "#para el calculo del campo electrico lo vamos a hacer con misc derivative dentro de scipy\n",
        "\n",
        "z0=0.1\n",
        "R= 1E-3\n",
        "\n",
        "derivative(potencial, 0.1, dx = 1E-3, args=(R,))           "
      ],
      "metadata": {
        "colab": {
          "base_uri": "https://localhost:8080/"
        },
        "id": "ElWRouiFmRPb",
        "outputId": "4829cbee-5c76-43ae-de4b-8a7e0c4ecaa4"
      },
      "id": "ElWRouiFmRPb",
      "execution_count": null,
      "outputs": [
        {
          "output_type": "stream",
          "name": "stderr",
          "text": [
            "<ipython-input-7-5c183073d834>:6: DeprecationWarning: scipy.misc.derivative is deprecated in SciPy v1.10.0; and will be completely removed in SciPy v1.12.0. You may consider using findiff: https://github.com/maroba/findiff or numdifftools: https://github.com/pbrod/numdifftools\n",
            "  derivative(potencial, 0.1, dx = 1E-3, args=(R,))\n"
          ]
        },
        {
          "output_type": "execute_result",
          "data": {
            "text/plain": [
              "0.0010000499736650958"
            ]
          },
          "metadata": {},
          "execution_count": 7
        }
      ]
    },
    {
      "cell_type": "code",
      "source": [
        "z = np.linspace(0, 0.002, 100)\n",
        "z0=0.1\n",
        "R= 0.1E-3\n",
        "\n",
        "plt.plot(z, potencial(z, R))\n",
        "plt.title('potencial');"
      ],
      "metadata": {
        "colab": {
          "base_uri": "https://localhost:8080/",
          "height": 452
        },
        "id": "_VCS9aEUnPs5",
        "outputId": "d4184066-010a-4e65-a6c1-b7d9bd2577a9"
      },
      "id": "_VCS9aEUnPs5",
      "execution_count": null,
      "outputs": [
        {
          "output_type": "display_data",
          "data": {
            "text/plain": [
              "<Figure size 640x480 with 1 Axes>"
            ],
            "image/png": "[encoded data removed]"
          },
          "metadata": {}
        }
      ]
    },
    {
      "cell_type": "code",
      "source": [
        "z = np.linspace(0, 0.002, 100)\n",
        "z0=0.1\n",
        "R= 0.1E-3\n",
        "\n",
        "gradV= derivative(potencial, z, dx = 1E-6, args=(R,))\n",
        "E = -gradV\n",
        "plt.plot(z, E)\n",
        "plt.title('campo eléctrico')"
      ],
      "metadata": {
        "colab": {
          "base_uri": "https://localhost:8080/",
          "height": 525
        },
        "id": "WwVIHQYYn_c5",
        "outputId": "cd1b8b05-dae5-4997-a960-0545347da03c"
      },
      "id": "WwVIHQYYn_c5",
      "execution_count": null,
      "outputs": [
        {
          "output_type": "stream",
          "name": "stderr",
          "text": [
            "<ipython-input-17-495dc0cda524>:5: DeprecationWarning: scipy.misc.derivative is deprecated in SciPy v1.10.0; and will be completely removed in SciPy v1.12.0. You may consider using findiff: https://github.com/maroba/findiff or numdifftools: https://github.com/pbrod/numdifftools\n",
            "  gradV= derivative(potencial, z, dx = 1E-6, args=(R,))\n"
          ]
        },
        {
          "output_type": "execute_result",
          "data": {
            "text/plain": [
              "Text(0.5, 1.0, 'campo eléctrico')"
            ]
          },
          "metadata": {},
          "execution_count": 17
        },
        {
          "output_type": "display_data",
          "data": {
            "text/plain": [
              "<Figure size 640x480 with 1 Axes>"
            ],
            "image/png": "[encoded data removed]"
          },
          "metadata": {}
        }
      ]
    },
    {
      "cell_type": "markdown",
      "source": [
        "```\n",
        "def potencial(z, R, kq =1):\n",
        "  if (z >= 0):\n",
        "    V = z * kq/np.sqrt(z**2 + R**2)\n",
        "  else:\n",
        "    V= 0\n",
        "  return V\n",
        "\n",
        "gradV= derivative(potencial, z, dx = 1E-6, args=(R,))\n",
        "E = -gradV\n",
        "plt.plot(z, E)\n",
        "plt.title('campo eléctrico')\n",
        "\n",
        "#al estar el if, no funcina bien. Se debe vectorizar la funcion misc derivative\n",
        "```"
      ],
      "metadata": {
        "id": "EMk2WQf9qh6C"
      },
      "id": "EMk2WQf9qh6C"
    },
    {
      "cell_type": "code",
      "source": [
        "#vamos a vectorizar la función derivative\n",
        "\n",
        "derivative1 = np.vectorize(derivative, excluded = ['args'])\n",
        "\n",
        "#los args son los parametros adicionales diferentes de z, para que no haga un vector con puros R y kq"
      ],
      "metadata": {
        "id": "sdpi6eP1ppdv"
      },
      "id": "sdpi6eP1ppdv",
      "execution_count": null,
      "outputs": []
    },
    {
      "cell_type": "code",
      "source": [
        "def potencial(z, R, kq):\n",
        "  if (z >= 0):\n",
        "    V = z * kq/np.sqrt(z**2 + R**2)\n",
        "  else:\n",
        "    V= 0\n",
        "  return V\n",
        "\n",
        "kq = 1\n",
        "gradV= derivative1(potencial, z, dx = 1E-6, args=(R,kq, ))\n",
        "E = -gradV\n",
        "plt.plot(z, E)\n",
        "plt.title('campo eléctrico');"
      ],
      "metadata": {
        "colab": {
          "base_uri": "https://localhost:8080/",
          "height": 453
        },
        "id": "imp5Ludeqsub",
        "outputId": "2559f87d-a4d4-4431-ed15-58ddd2b00a13"
      },
      "id": "imp5Ludeqsub",
      "execution_count": null,
      "outputs": [
        {
          "output_type": "display_data",
          "data": {
            "text/plain": [
              "<Figure size 640x480 with 1 Axes>"
            ],
            "image/png": "[encoded data removed]"
          },
          "metadata": {}
        }
      ]
    },
    {
      "cell_type": "code",
      "source": [
        "potencial1 = np.vectorize(potencial, excluded = ['args'])          #si los fueramos a hacer sin vectorizarlo tampoco podríamos\n",
        "plt.plot(z, potencial1(z, R, kq))\n",
        "plt.title('potencial');"
      ],
      "metadata": {
        "colab": {
          "base_uri": "https://localhost:8080/",
          "height": 452
        },
        "id": "7yFdnkWjq34d",
        "outputId": "89205199-fa26-4fb5-b76a-2dab9f89c83a"
      },
      "id": "7yFdnkWjq34d",
      "execution_count": null,
      "outputs": [
        {
          "output_type": "display_data",
          "data": {
            "text/plain": [
              "<Figure size 640x480 with 1 Axes>"
            ],
            "image/png": "[encoded data removed]"
          },
          "metadata": {}
        }
      ]
    },
    {
      "cell_type": "markdown",
      "source": [
        "#anillo\n",
        "\\begin{equation}\n",
        "V = \\frac{kq_{tot}z}{\\sqrt{z^2+R^2}}\n",
        "\\end{equation}\n",
        "\n",
        "#disco\n",
        "\n",
        "\\begin{equation}\n",
        "V = \\frac{q}{\\pi R²}2k \\pi (\\sqrt{z² + R²} -z)\n",
        "\\end{equation}"
      ],
      "metadata": {
        "id": "vCFAQ0mjvJPX"
      },
      "id": "vCFAQ0mjvJPX"
    },
    {
      "cell_type": "code",
      "source": [
        "#supongamos que ahora tambien vamos a tener en cuenta el calculo del campo electrico de un disco\n",
        "\n",
        "def potencial(z, R, kq, select):\n",
        "  if (select == 'anillo'):\n",
        "    V = z * kq/np.sqrt(z**2 + R**2)\n",
        "\n",
        "  elif (select  == 'disco'):\n",
        "    V= (2*kq / R**2) * (np.sqrt(z**2 + R**2) - z)\n",
        "  \n",
        "  else:\n",
        "    print('la palabra select debe ser un anillo o un disco')\n",
        "    V = None\n",
        "    \n",
        "  return V"
      ],
      "metadata": {
        "id": "QO760fkZtw3c"
      },
      "id": "QO760fkZtw3c",
      "execution_count": null,
      "outputs": []
    },
    {
      "cell_type": "code",
      "source": [
        "z = np.linspace(0, 0.002, 100)\n",
        "R= 0.1E-3\n",
        "kq =1\n",
        "select = 'disco'\n",
        "\n",
        "try:\n",
        "  gradV= derivative1(potencial, z, dx = 1E-6, args=(R,kq, select, ))\n",
        "  E = -gradV\n",
        "except: \n",
        "  raise Exception('la palabra select debe ser un anillo o un disco')\n",
        "  \n",
        "plt.plot(z, E)\n",
        "plt.title('campo eléctrico');"
      ],
      "metadata": {
        "colab": {
          "base_uri": "https://localhost:8080/",
          "height": 453
        },
        "id": "UiRGc3EHwu0c",
        "outputId": "e16e6f00-521b-43e5-8c8b-ebe1bc062d1d"
      },
      "id": "UiRGc3EHwu0c",
      "execution_count": null,
      "outputs": [
        {
          "output_type": "display_data",
          "data": {
            "text/plain": [
              "<Figure size 640x480 with 1 Axes>"
            ],
            "image/png": "[encoded data removed]"
          },
          "metadata": {}
        }
      ]
    },
    {
      "cell_type": "markdown",
      "source": [
        "#convertir a un archivo con extension.py"
      ],
      "metadata": {
        "id": "FCC5e10q0O9w"
      },
      "id": "FCC5e10q0O9w"
    },
    {
      "cell_type": "code",
      "source": [
        "import numpy as np\n",
        "from scipy.misc import derivative\n",
        "\n",
        "z = np.linspace(0, 0.002, 100)\n",
        "R= 0.1E-3\n",
        "kq =1\n",
        "select = 'disco'\n",
        "\n",
        "def potencial(z, R, kq, select):\n",
        "  if (select == 'anillo'):\n",
        "    V = z * kq/np.sqrt(z**2 + R**2)\n",
        "\n",
        "  elif (select  == 'disco'):\n",
        "    V= (2*kq / R**2) * (np.sqrt(z**2 + R**2) - z)\n",
        "  \n",
        "  else:\n",
        "    print('la palabra select debe ser un anillo o un disco')\n",
        "    V = None\n",
        "    \n",
        "  return V\n",
        "\n",
        "\n",
        "derivative1 = np.vectorize(derivative, excluded = ['args'])\n",
        "\n",
        "try:\n",
        "  gradV= derivative1(potencial, z, dx = 1E-6, args=(R,kq, select, ))\n",
        "  E = -gradV\n",
        "  np.savetxt('campo_electrico.txt', E)\n",
        "except: \n",
        "  print('la palabra select debe ser un anillo o un disco')"
      ],
      "metadata": {
        "id": "tP7J5HjuyOVZ"
      },
      "id": "tP7J5HjuyOVZ",
      "execution_count": null,
      "outputs": []
    },
    {
      "cell_type": "code",
      "source": [
        "!ls"
      ],
      "metadata": {
        "colab": {
          "base_uri": "https://localhost:8080/"
        },
        "id": "Mn_HDnIX0avJ",
        "outputId": "79f84632-8d46-49dd-f4ba-3521d457ccd2"
      },
      "id": "Mn_HDnIX0avJ",
      "execution_count": null,
      "outputs": [
        {
          "output_type": "stream",
          "name": "stdout",
          "text": [
            "campo_electrico.txt  sample_data\n"
          ]
        }
      ]
    }
  ],
  "metadata": {
    "kernelspec": {
      "display_name": "Python 3 (ipykernel)",
      "language": "python",
      "name": "python3"
    },
    "language_info": {
      "codemirror_mode": {
        "name": "ipython",
        "version": 3
      },
      "file_extension": ".py",
      "mimetype": "text/x-python",
      "name": "python",
      "nbconvert_exporter": "python",
      "pygments_lexer": "ipython3",
      "version": "3.8.12"
    },
    "colab": {
      "provenance": [],
      "collapsed_sections": [
        "Fo7rqDHiljo7"
      ]
    }
  },
  "nbformat": 4,
  "nbformat_minor": 5
}