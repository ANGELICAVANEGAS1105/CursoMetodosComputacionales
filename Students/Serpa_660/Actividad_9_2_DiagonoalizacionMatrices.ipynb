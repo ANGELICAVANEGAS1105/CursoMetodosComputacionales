{
  "nbformat": 4,
  "nbformat_minor": 0,
  "metadata": {
    "colab": {
      "provenance": []
    },
    "kernelspec": {
      "name": "python3",
      "display_name": "Python 3"
    },
    "language_info": {
      "name": "python"
    }
  },
  "cells": [
    {
      "cell_type": "markdown",
      "source": [
        "# Autovalores, autovectores, polinomio caracteristico, diagonalización"
      ],
      "metadata": {
        "id": "Qms28ZxFZdXn"
      }
    },
    {
      "cell_type": "markdown",
      "source": [
        "| Librería | Función | Explicación |\n",
        "| --- | --- | --- |\n",
        "| numpy | numpy.linalg.eig | Calcula los autovalores y autovectores derechos de una matriz cuadrada |\n",
        "| numpy | numpy.linalg.eigh | Calcula los autovalores y autovectores de una matriz hermítica compleja o simétrica real |\n",
        "| numpy | numpy.poly | Calcula el polinomio característico de una matriz |\n",
        "| sympy | sympy.Matrix.eigenvals | Calcula los autovalores de una matriz simbólica |\n",
        "| sympy | sympy.Matrix.eigenvects | Calcula los autovalores y autovectores de una matriz simbólica |\n",
        "| sympy | sympy.Matrix.charpoly | Calcula el polinomio característico de una matriz simbólica |"
      ],
      "metadata": {
        "id": "ONmddMM3Youm"
      }
    },
    {
      "cell_type": "markdown",
      "source": [
        "Calcular el polinomio caracteristico, los  autovalores y autvectores propios de la siguiente matrices, comprobar con la solucion analitica:\n",
        "\n",
        "\n",
        "\n"
      ],
      "metadata": {
        "id": "EwfvC822XBSY"
      }
    },
    {
      "cell_type": "code",
      "source": [
        "import numpy as np\n",
        "import sympy as sp\n",
        "import matplotlib.pyplot as plt\n"
      ],
      "metadata": {
        "id": "dLUB0TRqvJ7m"
      },
      "execution_count": null,
      "outputs": []
    },
    {
      "cell_type": "markdown",
      "source": [
        "1. \n",
        "\\begin{bmatrix}\n",
        "1 & -1 & 4 \\\\\n",
        "3 & 2 & -1 \\\\\n",
        "2 & 1 & -1\n",
        "\\end{bmatrix}\n"
      ],
      "metadata": {
        "id": "NQTylbHdvJLr"
      }
    },
    {
      "cell_type": "code",
      "source": [
        "a= np.array([1,-1,4]) \n",
        "b=np.array([3,2,-1])\n",
        "c=np.array([2,1,-1])\n",
        "\n",
        "m=np.array([a,b,c])"
      ],
      "metadata": {
        "id": "mWzK4g_Iul33"
      },
      "execution_count": null,
      "outputs": []
    },
    {
      "cell_type": "code",
      "source": [
        "#Calculo de polinomio caracteristico \n",
        "\n",
        "np.poly(m)"
      ],
      "metadata": {
        "colab": {
          "base_uri": "https://localhost:8080/"
        },
        "id": "4Ukk11OLvknJ",
        "outputId": "abca386a-b3c4-4107-af79-837cc9521e7b"
      },
      "execution_count": null,
      "outputs": [
        {
          "output_type": "execute_result",
          "data": {
            "text/plain": [
              "array([ 1., -2., -5.,  6.])"
            ]
          },
          "metadata": {},
          "execution_count": 63
        }
      ]
    },
    {
      "cell_type": "code",
      "source": [
        "#calculo de autovalores y vectores propios\n",
        "av=np.linalg.eig(m)\n",
        "av"
      ],
      "metadata": {
        "colab": {
          "base_uri": "https://localhost:8080/"
        },
        "id": "bWKU4Cgsv6Fx",
        "outputId": "abe5471a-b979-4120-abf7-dccb97b26fbf"
      },
      "execution_count": null,
      "outputs": [
        {
          "output_type": "execute_result",
          "data": {
            "text/plain": [
              "(array([ 3., -2.,  1.]),\n",
              " array([[ 0.40824829,  0.57735027,  0.23570226],\n",
              "        [ 0.81649658, -0.57735027, -0.94280904],\n",
              "        [ 0.40824829, -0.57735027, -0.23570226]]))"
            ]
          },
          "metadata": {},
          "execution_count": 64
        }
      ]
    },
    {
      "cell_type": "code",
      "source": [
        "atm=av[0] #autovalores\n",
        "vem=av[1] #autovectores\n",
        "\n",
        "print('autovalores',atm)\n",
        "print('autovectores',vem)"
      ],
      "metadata": {
        "colab": {
          "base_uri": "https://localhost:8080/"
        },
        "id": "nowz7eF10OPC",
        "outputId": "02a91693-6f92-45d4-9f71-e6937bd9a769"
      },
      "execution_count": null,
      "outputs": [
        {
          "output_type": "stream",
          "name": "stdout",
          "text": [
            "autovalores [ 3. -2.  1.]\n",
            "autovectores [[ 0.40824829  0.57735027  0.23570226]\n",
            " [ 0.81649658 -0.57735027 -0.94280904]\n",
            " [ 0.40824829 -0.57735027 -0.23570226]]\n"
          ]
        }
      ]
    },
    {
      "cell_type": "markdown",
      "source": [
        "\n",
        "\n",
        "2. \\begin{bmatrix}\n",
        "3 & -5 \\\\\n",
        "1 & -1 \\\\\n",
        "\\end{bmatrix}\n",
        "\n",
        "\n"
      ],
      "metadata": {
        "id": "Yl3XB1O0ukjH"
      }
    },
    {
      "cell_type": "code",
      "source": [
        "d= np.array([3,-5]) \n",
        "f=np.array([1,-1])\n",
        "\n",
        "m2=np.array([d,f])"
      ],
      "metadata": {
        "id": "pQuSQfQwuiqI"
      },
      "execution_count": null,
      "outputs": []
    },
    {
      "cell_type": "code",
      "source": [
        "#Calculo de polinomio caracteristico \n",
        "\n",
        "np.poly(m2)"
      ],
      "metadata": {
        "colab": {
          "base_uri": "https://localhost:8080/"
        },
        "id": "bDckUFZ_xW1i",
        "outputId": "49c26c04-0a64-47c2-bdb8-4dfe26ad57d4"
      },
      "execution_count": null,
      "outputs": [
        {
          "output_type": "execute_result",
          "data": {
            "text/plain": [
              "array([ 1., -2.,  2.])"
            ]
          },
          "metadata": {},
          "execution_count": 68
        }
      ]
    },
    {
      "cell_type": "code",
      "source": [
        "#calculo de autovalores y vectores propios\n",
        "av2=np.linalg.eig(m2)"
      ],
      "metadata": {
        "id": "dVfQ4s79xZt8"
      },
      "execution_count": null,
      "outputs": []
    },
    {
      "cell_type": "code",
      "source": [
        "atm2=av2[0] #autovalores\n",
        "vem2=av2[1] #autovectores\n",
        "\n",
        "print('autovalores',atm2)\n",
        "print('autovectores',vem2)"
      ],
      "metadata": {
        "colab": {
          "base_uri": "https://localhost:8080/"
        },
        "id": "eHLq5N650u2i",
        "outputId": "3a3890ed-b9f5-4dfc-bc25-260b0603b0ac"
      },
      "execution_count": null,
      "outputs": [
        {
          "output_type": "stream",
          "name": "stdout",
          "text": [
            "autovalores [1.+1.j 1.-1.j]\n",
            "autovectores [[0.91287093+0.j         0.91287093-0.j        ]\n",
            " [0.36514837-0.18257419j 0.36514837+0.18257419j]]\n"
          ]
        }
      ]
    },
    {
      "cell_type": "markdown",
      "source": [
        "# Diagonalizacion \n",
        "Una matriz cuadrada $A$ es diagonalizable si y solo si cada autovalor $\\lambda$ de multiplicidad $m$ produce exactamente $m$ autovectores básicos; es decir, si y solo si la solución general del sistema $(A-I\\lambda)\\vec{x}=0$ tiene exactamente $m$ parámetros.\n",
        "\n",
        "\n",
        "Para diagonalizar una matriz $A$, se necesita encontrar una matriz invertible $P$ tal que $P^{-1}AP$ sea una matriz diagonal $D$. Esto significa que las columnas de $P$ son los autovectores de $A$ y los elementos de la diagonal de $D$ son los autovalores correspondientes de $A$.\n",
        "\n",
        "Encuentre la matrix diagnonal para las matrices anteriores. \n",
        "\n"
      ],
      "metadata": {
        "id": "FjG0uYQ_ZlFo"
      }
    },
    {
      "cell_type": "markdown",
      "source": [
        "1. \n",
        "\\begin{bmatrix}\n",
        "1 & -1 & 4 \\\\\n",
        "3 & 2 & -1 \\\\\n",
        "2 & 1 & -1\n",
        "\\end{bmatrix}\n"
      ],
      "metadata": {
        "id": "vkp3yvIm1Mwg"
      }
    },
    {
      "cell_type": "code",
      "source": [
        "p= np.transpose(vem)\n",
        "p"
      ],
      "metadata": {
        "colab": {
          "base_uri": "https://localhost:8080/"
        },
        "id": "9l57duaI0X_P",
        "outputId": "93023b27-cff1-4dc4-afe9-21329e24e912"
      },
      "execution_count": null,
      "outputs": [
        {
          "output_type": "execute_result",
          "data": {
            "text/plain": [
              "array([[ 0.40824829,  0.81649658,  0.40824829],\n",
              "       [ 0.57735027, -0.57735027, -0.57735027],\n",
              "       [ 0.23570226, -0.94280904, -0.23570226]])"
            ]
          },
          "metadata": {},
          "execution_count": 71
        }
      ]
    },
    {
      "cell_type": "code",
      "source": [
        "#inversa de p\n",
        "\n",
        "p_=np.linalg.inv(p)\n",
        "p_"
      ],
      "metadata": {
        "colab": {
          "base_uri": "https://localhost:8080/"
        },
        "id": "UEw456jX4dzy",
        "outputId": "3bd66fb1-54b5-4a6d-a75d-ad87725c499e"
      },
      "execution_count": null,
      "outputs": [
        {
          "output_type": "execute_result",
          "data": {
            "text/plain": [
              "array([[ 1.22474487e+00,  5.77350269e-01,  7.07106781e-01],\n",
              "       [-1.08779196e-15,  5.77350269e-01, -1.41421356e+00],\n",
              "       [ 1.22474487e+00, -1.73205081e+00,  2.12132034e+00]])"
            ]
          },
          "metadata": {},
          "execution_count": 72
        }
      ]
    },
    {
      "cell_type": "code",
      "source": [
        "p_@m@p"
      ],
      "metadata": {
        "colab": {
          "base_uri": "https://localhost:8080/"
        },
        "id": "hNawXDvj4n_O",
        "outputId": "7ff4a9a0-e4ca-42c0-893f-3142e34dfa30"
      },
      "execution_count": null,
      "outputs": [
        {
          "output_type": "execute_result",
          "data": {
            "text/plain": [
              "array([[ 3.00421633, -0.20669851,  0.56469777],\n",
              "       [-0.4001731 , -1.53435988, -0.49501441],\n",
              "       [-0.30868262, -2.54797248,  0.53014354]])"
            ]
          },
          "metadata": {},
          "execution_count": 73
        }
      ]
    },
    {
      "cell_type": "markdown",
      "source": [
        "\n",
        "\n",
        "2. \\begin{bmatrix}\n",
        "3 & -5 \\\\\n",
        "1 & -1 \\\\\n",
        "\\end{bmatrix}"
      ],
      "metadata": {
        "id": "XdYhRirK5mY3"
      }
    },
    {
      "cell_type": "code",
      "source": [
        "p2= np.transpose(vem2)\n",
        "p2"
      ],
      "metadata": {
        "colab": {
          "base_uri": "https://localhost:8080/"
        },
        "id": "D5EE85E-5nfn",
        "outputId": "2cd81759-53e0-4b3c-b082-3a923a33bc59"
      },
      "execution_count": null,
      "outputs": [
        {
          "output_type": "execute_result",
          "data": {
            "text/plain": [
              "array([[0.91287093+0.j        , 0.36514837-0.18257419j],\n",
              "       [0.91287093-0.j        , 0.36514837+0.18257419j]])"
            ]
          },
          "metadata": {},
          "execution_count": 74
        }
      ]
    },
    {
      "cell_type": "code",
      "source": [
        "#inversa de p\n",
        "\n",
        "p_2=np.linalg.inv(p2)\n",
        "p_2"
      ],
      "metadata": {
        "colab": {
          "base_uri": "https://localhost:8080/"
        },
        "id": "DLIMrHoU5qbs",
        "outputId": "8c924048-5a3b-4dcf-9a9b-2c5a2ca09655"
      },
      "execution_count": null,
      "outputs": [
        {
          "output_type": "execute_result",
          "data": {
            "text/plain": [
              "array([[0.54772256-1.09544512j, 0.54772256+1.09544512j],\n",
              "       [0.        +2.73861279j, 0.        -2.73861279j]])"
            ]
          },
          "metadata": {},
          "execution_count": 75
        }
      ]
    },
    {
      "cell_type": "code",
      "source": [
        "p_2@m2@p2"
      ],
      "metadata": {
        "colab": {
          "base_uri": "https://localhost:8080/"
        },
        "id": "VBTf_B_Q5tRj",
        "outputId": "3b843a44-92d5-4bc3-c893-5d9c71afafa6"
      },
      "execution_count": null,
      "outputs": [
        {
          "output_type": "execute_result",
          "data": {
            "text/plain": [
              "array([[-1. +2.j , -1.6-0.2j],\n",
              "       [ 0. -5.j ,  3. -2.j ]])"
            ]
          },
          "metadata": {},
          "execution_count": 76
        }
      ]
    },
    {
      "cell_type": "markdown",
      "source": [
        "Actividad 2. \n",
        "\n",
        "Considere la ecuación cuadrática $x^2-4xy+3y^2=6$, esta ecuación cuadrática se corresponde a una hiperbola, la cual puede ser escrita en forma matricial como sigue:\n",
        "\n",
        "$A\\vec{v} \\cdot \\vec{v}=6$, donde $\\vec{v}=(x, y)$ y A es una matrix simetrica, \n",
        "\n",
        "\\begin{equation}\n",
        "A=\\begin{bmatrix}\n",
        "1 & -2 \\\\\n",
        "-2 & 3 \\\\\n",
        "\\end{bmatrix}\n",
        "\\end{equation}\n",
        "\n",
        "1. Realice un grafico que represente la hyperbola\n",
        "\n",
        "\n",
        "\n",
        "\n",
        "\n",
        "\n",
        "\n",
        "- Diagonalice A, para ello construya la matrix Q de autovectores ortoganales \n",
        "tal que $D=Q^{T}AQ$, en este caso se dice que A es diagonalizable ortogonalmente, donde $A=QDQ^T$.\n",
        "\n",
        "- Aplique el resultado de la siguiente demostración para encontrar una nueva hyperbola en una  nueva base\n",
        "\n",
        "\\begin{equation}\n",
        "QDQ^T \\vec{v} \\cdot \\vec{v} = d\n",
        "\\end{equation}\n",
        "\n",
        "\n",
        "\\begin{equation}\n",
        "Q(DQ^T\\vec{v}) \\cdot \\vec{v} = (DQ^T\\vec{v}) \\cdot (Q^T\\vec{v})=d\n",
        "\\end{equation}\n",
        "\n",
        "\n",
        "\\begin{equation}\n",
        "(DQ^T\\vec{v}) \\cdot (Q^T\\vec{v})=d\n",
        "\\end{equation}\n",
        "\n",
        "\n",
        "Sea $u=Q^T\\vec{v}$\n",
        "\n",
        "Luego :\n",
        "\n",
        "\n",
        "\\begin{equation}\n",
        "(D\\vec{u}) \\cdot \\vec{u}=d\n",
        "\\end{equation}\n",
        "\n",
        "donde $\\vec{u}=(x', y')$, tal que $D\\vec{u} \\cdot \\vec{u}=d$ es una nueva hyperbola \n",
        "\n",
        "\n",
        "\n",
        "\n",
        "\n",
        "\n",
        "\n"
      ],
      "metadata": {
        "id": "JwPHzdikikzu"
      }
    },
    {
      "cell_type": "code",
      "source": [
        "def f1(x):\n",
        "  y =  (x + np.sqrt(x**2 - 6)) /2\n",
        "  return y\n",
        "\n",
        "def f2(x):\n",
        "  y =  (x - np.sqrt(x**2 - 6))/2\n",
        "  return y"
      ],
      "metadata": {
        "id": "BhT2tkVjEZlI"
      },
      "execution_count": null,
      "outputs": []
    },
    {
      "cell_type": "code",
      "source": [
        "\n",
        "x=np.linspace(-100,100,1000)\n",
        "y=np.linspace(-100,100,1000)\n",
        "x , y=np.meshgrid(x,y)\n",
        "\n",
        "\n",
        "plt.contour(x,y,( x**2 -4*x*y + 3*y**2) -6 )\n",
        "plt.grid()"
      ],
      "metadata": {
        "colab": {
          "base_uri": "https://localhost:8080/",
          "height": 435
        },
        "id": "3ulzxNa5-9Xc",
        "outputId": "9d19fa64-2681-449f-f356-2c998a725310"
      },
      "execution_count": null,
      "outputs": [
        {
          "output_type": "display_data",
          "data": {
            "text/plain": [
              "<Figure size 640x480 with 1 Axes>"
            ],
            "image/png": "[encoded data removed]"
          },
          "metadata": {}
        }
      ]
    },
    {
      "cell_type": "code",
      "source": [
        "g= np.array([1,-2]) \n",
        "h=np.array([-2,3])\n",
        "\n",
        "A=np.array([a,b])"
      ],
      "metadata": {
        "id": "vyJHxkinijT2"
      },
      "execution_count": null,
      "outputs": []
    },
    {
      "cell_type": "code",
      "source": [
        "val , v=np.linalg.eig(m2)\n",
        "v"
      ],
      "metadata": {
        "colab": {
          "base_uri": "https://localhost:8080/"
        },
        "id": "fid11SNm6b1V",
        "outputId": "09d9471f-9aff-4fab-f632-d0d569cecc9c"
      },
      "execution_count": null,
      "outputs": [
        {
          "output_type": "execute_result",
          "data": {
            "text/plain": [
              "array([[0.91287093+0.j        , 0.91287093-0.j        ],\n",
              "       [0.36514837-0.18257419j, 0.36514837+0.18257419j]])"
            ]
          },
          "metadata": {},
          "execution_count": 80
        }
      ]
    },
    {
      "cell_type": "code",
      "source": [
        "Q= np.transpose(v)\n",
        "Q"
      ],
      "metadata": {
        "colab": {
          "base_uri": "https://localhost:8080/"
        },
        "id": "O7xPj5qP7XhK",
        "outputId": "a281b060-3a08-429a-d782-508d92de5c07"
      },
      "execution_count": null,
      "outputs": [
        {
          "output_type": "execute_result",
          "data": {
            "text/plain": [
              "array([[0.91287093+0.j        , 0.36514837-0.18257419j],\n",
              "       [0.91287093-0.j        , 0.36514837+0.18257419j]])"
            ]
          },
          "metadata": {},
          "execution_count": 82
        }
      ]
    },
    {
      "cell_type": "code",
      "source": [],
      "metadata": {
        "id": "TTmDJmG97b8X"
      },
      "execution_count": null,
      "outputs": []
    }
  ]
}