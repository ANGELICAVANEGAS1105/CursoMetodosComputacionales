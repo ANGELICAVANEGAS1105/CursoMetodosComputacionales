{
  "cells": [
    {
      "cell_type": "markdown",
      "metadata": {
        "id": "PbEa5kml-QE0"
      },
      "source": [
        "<a href=\"https://colab.research.google.com/github/hernansalinas/autogrades/blob/main/Laboratorios_Taller/Lab10_EcuacionesDiferenciales.ipynb\" target=\"_parent\"><img src=\"https://colab.research.google.com/assets/colab-badge.svg\" alt=\"Open In Colab\"/></a>\n",
        "\n",
        "# Oscilacones Acopladas\n",
        "\n",
        "Considere dos osciladores acoplados, de masas idénticas y  conectadas mediante tres resortes de constantes elásticas $k_1, k_2, k_3$. Como se muestra en la figura.\n",
        "\n",
        "\n",
        "\n"
      ]
    },
    {
      "cell_type": "code",
      "execution_count": null,
      "metadata": {
        "id": "kYuHBpxm-37l"
      },
      "outputs": [],
      "source": [
        "import matplotlib.pylab as plt\n",
        "#from google.colab import files\n",
        "#from IPython.display import Image\n",
        "#uploaded = files.upload()\n"
      ]
    },
    {
      "cell_type": "markdown",
      "metadata": {
        "id": "F2NNGdC29_mT"
      },
      "source": [
        "import\n",
        "\n",
        "\n",
        "Después de realizar un análisis detallado del problema, a través de las leyes de Newton ó empleando las ecuaciones de Euler-Lagrange, se puede mostrar que las ecuaciones de movimiento para el sistema vienen dadas por: \n",
        "\n",
        "\\begin{equation}\n",
        "m_1 \\frac{ \\mathrm{d}^2 x_1 }{\\mathrm{d}t^2} = -k_1 x_1 + k_2 (x_2-x_1)\n",
        "\\end{equation}\n",
        "\n",
        "\n",
        "\n",
        "\\begin{equation}\n",
        "m_2 \\frac{ \\mathrm{d}^2 x_2 }{\\mathrm{d}t^2} = -k_3 x_2 - k_2 (x_2-x_1)\n",
        "\\end{equation}\n",
        "\n",
        "De forma compacta,  la ecuacion anterior puede ser escrita como: \n",
        "\n",
        "\n",
        "\\begin{equation}\n",
        "m_1 \\ddot{x_1} = -k_1 x_1 + k_2 (x_2-x_1)\n",
        "\\end{equation}\n",
        "\n",
        "\n",
        "\n",
        "\\begin{equation}\n",
        "m_2  \\ddot{x_2} = -k_3 x_2 - k_2 (x_2-x_1)\n",
        "\\end{equation}\n",
        "\n",
        "donde $\\ddot{x} =\\frac{\\mathrm{d^2}x}{\\mathrm{d}t^2}$.\n",
        "\n",
        "Las ecuaciones anteriores, son ecuaciones diferenciales lineales de segundo orden y acopladas, que pueden ser escritas de forma matricial como $m\\vec{\\ddot{x}}= -A\\vec{x}$, donde A, es una matriz simétrica: \n",
        "\n",
        "\\begin{equation}\n",
        "m\n",
        "\\begin{pmatrix} \n",
        "\\ddot{x_1}  \\\\\n",
        "\\ddot{x_2}    \n",
        "\\end{pmatrix}\n",
        "=-\n",
        "\\begin{pmatrix} \n",
        "k_1 + k_2 & -k_2  \\\\\n",
        "-k_2       &  k_2+k_3  \\\\\n",
        "\\end{pmatrix}\n",
        "\\begin{pmatrix} \n",
        "x_1\\\\\n",
        "x_2\n",
        "\\end{pmatrix}\n",
        "\\end{equation}\n",
        "\n",
        "\n",
        "Para resolver el sistema de ecuaciones acopladas, se puede realizar una transformación, que permite desacoplar el sistema de ecuaciones diferenciales. Sea\n",
        " $\\vec{\\eta}=S\\vec{x}$, donde $\\eta$ es una nueva variable en el sistema transformado y S una matriz que cumple que $SAS^{-1}=A_d$, siendo $A_d$ una matriz diagonal. \n",
        " \n",
        " Se cumple que $\\vec{\\ddot {\\eta}}=S\\vec{\\ddot{x}}$ \n",
        " y  $m\\vec{\\ddot{x}}=A\\vec{x}$, multiplicando por una matriz S, a ambos lados de la ecuación $m\\vec{\\ddot{x}}=-A\\vec{x}$ obtenemos: \n",
        "\n",
        "\\begin{equation}\n",
        "mS\\vec{\\ddot{x}}=- S A\\vec{x}\n",
        "\\end{equation}\n",
        "\n",
        "\\begin{equation}\n",
        "m \\vec{\\ddot{\\eta}} = -S A S^{-1}S\\vec{x}\n",
        "\\end{equation}\n",
        "\n",
        "\n",
        "\\begin{equation}\n",
        "m \\vec{\\ddot{\\eta}} = -(S A S^{-1})\\eta\n",
        "\\end{equation}\n",
        "\n",
        "\n",
        "\\begin{equation}\n",
        "m \\vec{\\ddot{\\eta}} = -A_d\\eta\n",
        "\\end{equation}\n",
        "\n",
        "\\begin{equation}\n",
        "m\\begin{pmatrix} \n",
        "\\ddot{\\eta_1}\\\\\n",
        "\\ddot{\\eta_2}\n",
        "\\end{pmatrix}\n",
        "=\n",
        "-\\begin{pmatrix} \n",
        "\\lambda_1 & 0\\\\\n",
        "0          &\\lambda_2\n",
        "\\end{pmatrix}\n",
        "\\begin{pmatrix} \n",
        "\\eta_1\\\\\n",
        "\\eta_2\n",
        "\\end{pmatrix},\n",
        "\\end{equation}\n",
        "\n",
        "donde $\\lambda=m\\omega^2$ son los autovalores de A. Notese que S es la matriz formada por los autovectores de A. La ecuacion anterior, tiene solución en términos de funciones armónicas.\n",
        "\n",
        "\n",
        "Basado en lo anterior, y resolviendo  el problema más sencillo en el que $k_1 = k_3 = k$, tenemos que:\n",
        "\n",
        "\n",
        "\\begin{equation}\n",
        "\\begin{pmatrix} \n",
        "\\frac{k + k_2}{m}-\\omega^2 & -\\frac{k_2}{m}\\\\\n",
        " -\\frac{k_2}{m}          &\\frac{k_2 + k}{m}-\\omega^2\n",
        "\\end{pmatrix}\n",
        "\\begin{pmatrix} \n",
        "x_1\\\\\n",
        "x_2\n",
        "\\end{pmatrix}\n",
        "=\n",
        "-\\begin{pmatrix} \n",
        "0\\\\\n",
        "0\n",
        "\\end{pmatrix}\n",
        "\\end{equation}\n",
        "\n",
        "\n",
        "\\begin{equation}\n",
        "det(A-\\omega^2 I)= \\left(\\frac{k + k_2}{m}-\\omega^2\\right) \\left(\\frac{k_2+k}{m}-\\omega^2\\right )-\\frac{k_2^2}{m^2}=0\n",
        "\\end{equation}\n",
        "\n",
        "Resolviendo para $\\omega^2$, tenemos que : \n",
        "\n",
        "\\begin{equation}\n",
        "\\omega^2_1=\\frac{k+2k_2}{m}\n",
        "\\end{equation}\n",
        "\n",
        "\n",
        "\\begin{equation}\n",
        "\\omega^2_2=\\frac{k}{m}, \n",
        "\\end{equation}\n",
        "\n",
        "\n",
        "los autovecres vienen dados por: \n",
        "\n",
        "\\begin{equation}\n",
        "\\vec{v_1}=\\frac{1}{\\sqrt{2}}\n",
        "\\begin{pmatrix}\n",
        "1\\\\\n",
        "-1\n",
        "\\end{pmatrix}\n",
        "\\end{equation}\n",
        "\n",
        "\n",
        "\\begin{equation}\n",
        "\\vec{v_2}=\\frac{1}{\\sqrt{2}}\n",
        "\\begin{pmatrix}\n",
        "1\\\\\n",
        "1\n",
        "\\end{pmatrix}\n",
        "\\end{equation}\n",
        "\n",
        "y la matriz S, viene dada por: \n",
        "\n",
        "\n",
        "\\begin{equation}\n",
        "S=\\frac{1}{\\sqrt{2}}\n",
        "\\begin{pmatrix}\n",
        "1 & -1\\\\\n",
        "1 & 1\n",
        "\\end{pmatrix}\n",
        "\\end{equation}\n",
        "\n",
        "las variables $x_1,x_2$, en terminos de $\\eta$ están dadas por: \n",
        "\n",
        "\\begin{equation}\n",
        "x_1=\\frac{1}{\\sqrt{2}}(\\eta_1+\\eta_2)\n",
        "\\end{equation}\n",
        "\n",
        "\n",
        "\\begin{equation}\n",
        "x_2=\\frac{1}{\\sqrt{2}}(\\eta_2+\\eta_1)\n",
        "\\end{equation}\n",
        "\n",
        "En conclusión el problema puede ser resuelto, si solucionamos la \n",
        "ecuaciones diferenciables desacopladas: \n",
        "\\begin{equation}\n",
        "\\ddot{\\eta_1}+\\omega_1\\eta_1=0\n",
        "\\end{equation}\n",
        "\n",
        "\\begin{equation}\n",
        "\\ddot{\\eta_2}+\\omega_2\\eta_2=0\n",
        "\\end{equation}\n",
        "\n",
        " con: \n",
        " \n",
        " \\begin{equation}\n",
        "\\omega^2_1=\\frac{k+2k_2}{m}\n",
        "\\end{equation}\n",
        "\n",
        "\n",
        "\\begin{equation}\n",
        "\\omega^2_2=\\frac{k}{m}\n",
        "\\end{equation}\n",
        "\n",
        "\n"
      ]
    },
    {
      "cell_type": "code",
      "source": [
        "import numpy as np \n",
        "import matplotlib.pyplot as plt\n",
        "import scipy as sp\n",
        "from scipy.integrate import odeint"
      ],
      "metadata": {
        "id": "4r__uEjOdxL9"
      },
      "execution_count": null,
      "outputs": []
    },
    {
      "cell_type": "markdown",
      "source": [
        "\\begin{equation}   \n",
        "m \\frac{d^2x}{dt^2}+kx=0 \n",
        "\\end{equation}"
      ],
      "metadata": {
        "id": "slA1UnM8ehZM"
      }
    },
    {
      "cell_type": "code",
      "source": [
        "#condicionn inicla\n",
        "\n",
        "def fun(y,t,params):\n",
        "  m1 = params[0]\n",
        "  k1 = params[1]\n",
        "  b = params[2]\n",
        "  omega=(k1/m1)\n",
        "  dxdt=y[1]\n",
        "  dvdt=-omega * y[0] -b*y[1]\n",
        "  return np.array([dxdt,dvdt])\n",
        "\n",
        "def solve_equation(t,posi,veli,params):\n",
        "  y0=np.array([posi,veli]) \n",
        "  sol = odeint(fun,y0,t,args=(params,))\n",
        "  return sol"
      ],
      "metadata": {
        "id": "ayUFaJDuePKO"
      },
      "execution_count": null,
      "outputs": []
    },
    {
      "cell_type": "code",
      "source": [
        "#posicon inicial y velocidad\n",
        " \n",
        "\n",
        "posi=2\n",
        "veli= 1E-20\n",
        "y0= np.array([posi,veli])\n",
        "b =0\n",
        "m =0.1\n",
        "k =0.1\n",
        "t=np.linspace(0,50,1000)\n",
        "params=(m,k,b)\n",
        "\n",
        "sol = solve_equation(t,posi,veli,params)"
      ],
      "metadata": {
        "id": "S33-sdg6dFQU"
      },
      "execution_count": null,
      "outputs": []
    },
    {
      "cell_type": "code",
      "source": [
        "plt.plot(t, sol[:, 0], 'b', label='posición')\n",
        "plt.plot(t, sol[:, 1], 'g', label='velocidad')\n",
        "plt.legend()\n",
        "plt.grid()"
      ],
      "metadata": {
        "colab": {
          "base_uri": "https://localhost:8080/",
          "height": 430
        },
        "id": "tzkvHCdng2AE",
        "outputId": "7727a162-0c7b-4f65-95a8-5a1361d0612d"
      },
      "execution_count": null,
      "outputs": [
        {
          "output_type": "display_data",
          "data": {
            "text/plain": [
              "<Figure size 640x480 with 1 Axes>"
            ],
            "image/png": "[encoded data removed]"
          },
          "metadata": {}
        }
      ]
    },
    {
      "cell_type": "markdown",
      "source": [
        "\\begin{equation}\n",
        "\\frac{ \\mathrm{d}^2 x_1 }{\\mathrm{d}t^2} + \\frac{k_1}{m_1} x_1 + \\frac{k_2}{m_1}(x_1-x_2) =0\n",
        "\\end{equation}\n",
        "\n",
        "\\begin{equation}\n",
        "\\frac{ \\mathrm{d}^2 x_2 }{\\mathrm{d}t^2} + \\frac{k_3}{m_1} x_2 + \\frac{k_2}{m_1}(x_2-x_1) =0\n",
        "\\end{equation}\n"
      ],
      "metadata": {
        "id": "7XsCRk-nqoYx"
      }
    },
    {
      "cell_type": "markdown",
      "source": [
        "\n",
        "\\begin{equation}\n",
        "m_1 \\frac{ \\mathrm{d}^2 x_1 }{\\mathrm{d}t^2} = -k_1 x_1 + k_2 (x_2-x_1)\n",
        "\\end{equation}\n",
        "\n",
        "\n",
        "\n",
        "\\begin{equation}\n",
        "m_2 \\frac{ \\mathrm{d}^2 x_2 }{\\mathrm{d}t^2} = -k_3 x_2 - k_2 (x_2-x_1)\n",
        "\\end{equation}\n"
      ],
      "metadata": {
        "id": "5T0EnJD7tvsn"
      }
    },
    {
      "cell_type": "code",
      "source": [
        "\n",
        "def fun(y,t,params):\n",
        "\n",
        "  m1 = params[0]\n",
        "  k1 = params[1]\n",
        "  k2 = params[2]\n",
        "  k3 = params[3]\n",
        "\n",
        "  omega=(k1/m1)\n",
        "  omega2=k2/m1\n",
        "  omega3= k3/m1\n",
        "\n",
        "\n",
        "  #y[0] # Posicion incial del oscilador 1\n",
        "  #y[1]# vel incial del oscilador 1\n",
        "  #y[2]# Posicion incial del oscilador 2\n",
        "  #y[3]# vel incial del oscilador 2\n",
        " \n",
        "  dxdt1=y[1]\n",
        "  dvdt1=-omega * y[0]+  omega2 * (y[2]-y[0]) \n",
        "\n",
        "  dxdt2=y[3]\n",
        "  dvdt2=-omega3 *  y[2] - omega2 *(y[2]-y[0])\n",
        "\n",
        "  return np.array([dxdt1,dvdt1,dxdt2,dvdt2])\n",
        "\n",
        "\n",
        "\n",
        "def solve_equation(t,posi,veli,params):\n",
        "  y0=np.array([posi,veli]) \n",
        "  sol = odeint(fun,y0,t,args=(params,))\n",
        "  return sol"
      ],
      "metadata": {
        "id": "42gn7kI1h_D0"
      },
      "execution_count": null,
      "outputs": []
    },
    {
      "cell_type": "code",
      "source": [
        "#posicon inicial y velocidad\n",
        " \n",
        "posi=2\n",
        "veli= 1E-20\n",
        "y0= np.array([posi,veli])\n",
        "b =0\n",
        "m =0.1\n",
        "k1 =0.1\n",
        "k2=0.2\n",
        "k3=0.2\n",
        "t=np.linspace(0,50,1000)\n",
        "params=(m,k1,k2,k3)\n",
        "\n",
        "sol = solve_equation(t,posi,veli,params)"
      ],
      "metadata": {
        "colab": {
          "base_uri": "https://localhost:8080/",
          "height": 360
        },
        "id": "cFv4tBPBvd2P",
        "outputId": "059e5cf1-1b4c-47c4-a448-9651130f83f9"
      },
      "execution_count": null,
      "outputs": [
        {
          "output_type": "error",
          "ename": "IndexError",
          "evalue": "ignored",
          "traceback": [
            "\u001b[0;31m---------------------------------------------------------------------------\u001b[0m",
            "\u001b[0;31mIndexError\u001b[0m                                Traceback (most recent call last)",
            "\u001b[0;32m<ipython-input-7-f0eae92b8456>\u001b[0m in \u001b[0;36m<cell line: 14>\u001b[0;34m()\u001b[0m\n\u001b[1;32m     12\u001b[0m \u001b[0mparams\u001b[0m\u001b[0;34m=\u001b[0m\u001b[0;34m(\u001b[0m\u001b[0mm\u001b[0m\u001b[0;34m,\u001b[0m\u001b[0mk1\u001b[0m\u001b[0;34m,\u001b[0m\u001b[0mk2\u001b[0m\u001b[0;34m,\u001b[0m\u001b[0mk3\u001b[0m\u001b[0;34m)\u001b[0m\u001b[0;34m\u001b[0m\u001b[0;34m\u001b[0m\u001b[0m\n\u001b[1;32m     13\u001b[0m \u001b[0;34m\u001b[0m\u001b[0m\n\u001b[0;32m---> 14\u001b[0;31m \u001b[0msol\u001b[0m \u001b[0;34m=\u001b[0m \u001b[0msolve_equation\u001b[0m\u001b[0;34m(\u001b[0m\u001b[0mt\u001b[0m\u001b[0;34m,\u001b[0m\u001b[0mposi\u001b[0m\u001b[0;34m,\u001b[0m\u001b[0mveli\u001b[0m\u001b[0;34m,\u001b[0m\u001b[0mparams\u001b[0m\u001b[0;34m)\u001b[0m\u001b[0;34m\u001b[0m\u001b[0;34m\u001b[0m\u001b[0m\n\u001b[0m",
            "\u001b[0;32m<ipython-input-6-621ab7d84a77>\u001b[0m in \u001b[0;36msolve_equation\u001b[0;34m(t, posi, veli, params)\u001b[0m\n\u001b[1;32m     28\u001b[0m \u001b[0;32mdef\u001b[0m \u001b[0msolve_equation\u001b[0m\u001b[0;34m(\u001b[0m\u001b[0mt\u001b[0m\u001b[0;34m,\u001b[0m\u001b[0mposi\u001b[0m\u001b[0;34m,\u001b[0m\u001b[0mveli\u001b[0m\u001b[0;34m,\u001b[0m\u001b[0mparams\u001b[0m\u001b[0;34m)\u001b[0m\u001b[0;34m:\u001b[0m\u001b[0;34m\u001b[0m\u001b[0;34m\u001b[0m\u001b[0m\n\u001b[1;32m     29\u001b[0m   \u001b[0my0\u001b[0m\u001b[0;34m=\u001b[0m\u001b[0mnp\u001b[0m\u001b[0;34m.\u001b[0m\u001b[0marray\u001b[0m\u001b[0;34m(\u001b[0m\u001b[0;34m[\u001b[0m\u001b[0mposi\u001b[0m\u001b[0;34m,\u001b[0m\u001b[0mveli\u001b[0m\u001b[0;34m]\u001b[0m\u001b[0;34m)\u001b[0m\u001b[0;34m\u001b[0m\u001b[0;34m\u001b[0m\u001b[0m\n\u001b[0;32m---> 30\u001b[0;31m   \u001b[0msol\u001b[0m \u001b[0;34m=\u001b[0m \u001b[0modeint\u001b[0m\u001b[0;34m(\u001b[0m\u001b[0mfun\u001b[0m\u001b[0;34m,\u001b[0m\u001b[0my0\u001b[0m\u001b[0;34m,\u001b[0m\u001b[0mt\u001b[0m\u001b[0;34m,\u001b[0m\u001b[0margs\u001b[0m\u001b[0;34m=\u001b[0m\u001b[0;34m(\u001b[0m\u001b[0mparams\u001b[0m\u001b[0;34m,\u001b[0m\u001b[0;34m)\u001b[0m\u001b[0;34m)\u001b[0m\u001b[0;34m\u001b[0m\u001b[0;34m\u001b[0m\u001b[0m\n\u001b[0m\u001b[1;32m     31\u001b[0m   \u001b[0;32mreturn\u001b[0m \u001b[0msol\u001b[0m\u001b[0;34m\u001b[0m\u001b[0;34m\u001b[0m\u001b[0m\n",
            "\u001b[0;32m/usr/local/lib/python3.10/dist-packages/scipy/integrate/_odepack_py.py\u001b[0m in \u001b[0;36modeint\u001b[0;34m(func, y0, t, args, Dfun, col_deriv, full_output, ml, mu, rtol, atol, tcrit, h0, hmax, hmin, ixpr, mxstep, mxhnil, mxordn, mxords, printmessg, tfirst)\u001b[0m\n\u001b[1;32m    240\u001b[0m     \u001b[0mt\u001b[0m \u001b[0;34m=\u001b[0m \u001b[0mcopy\u001b[0m\u001b[0;34m(\u001b[0m\u001b[0mt\u001b[0m\u001b[0;34m)\u001b[0m\u001b[0;34m\u001b[0m\u001b[0;34m\u001b[0m\u001b[0m\n\u001b[1;32m    241\u001b[0m     \u001b[0my0\u001b[0m \u001b[0;34m=\u001b[0m \u001b[0mcopy\u001b[0m\u001b[0;34m(\u001b[0m\u001b[0my0\u001b[0m\u001b[0;34m)\u001b[0m\u001b[0;34m\u001b[0m\u001b[0;34m\u001b[0m\u001b[0m\n\u001b[0;32m--> 242\u001b[0;31m     output = _odepack.odeint(func, y0, t, args, Dfun, col_deriv, ml, mu,\n\u001b[0m\u001b[1;32m    243\u001b[0m                              \u001b[0mfull_output\u001b[0m\u001b[0;34m,\u001b[0m \u001b[0mrtol\u001b[0m\u001b[0;34m,\u001b[0m \u001b[0matol\u001b[0m\u001b[0;34m,\u001b[0m \u001b[0mtcrit\u001b[0m\u001b[0;34m,\u001b[0m \u001b[0mh0\u001b[0m\u001b[0;34m,\u001b[0m \u001b[0mhmax\u001b[0m\u001b[0;34m,\u001b[0m \u001b[0mhmin\u001b[0m\u001b[0;34m,\u001b[0m\u001b[0;34m\u001b[0m\u001b[0;34m\u001b[0m\u001b[0m\n\u001b[1;32m    244\u001b[0m                              \u001b[0mixpr\u001b[0m\u001b[0;34m,\u001b[0m \u001b[0mmxstep\u001b[0m\u001b[0;34m,\u001b[0m \u001b[0mmxhnil\u001b[0m\u001b[0;34m,\u001b[0m \u001b[0mmxordn\u001b[0m\u001b[0;34m,\u001b[0m \u001b[0mmxords\u001b[0m\u001b[0;34m,\u001b[0m\u001b[0;34m\u001b[0m\u001b[0;34m\u001b[0m\u001b[0m\n",
            "\u001b[0;32m<ipython-input-6-621ab7d84a77>\u001b[0m in \u001b[0;36mfun\u001b[0;34m(y, t, params)\u001b[0m\n\u001b[1;32m     17\u001b[0m \u001b[0;34m\u001b[0m\u001b[0m\n\u001b[1;32m     18\u001b[0m   \u001b[0mdxdt1\u001b[0m\u001b[0;34m=\u001b[0m\u001b[0my\u001b[0m\u001b[0;34m[\u001b[0m\u001b[0;36m1\u001b[0m\u001b[0;34m]\u001b[0m\u001b[0;34m\u001b[0m\u001b[0;34m\u001b[0m\u001b[0m\n\u001b[0;32m---> 19\u001b[0;31m   \u001b[0mdvdt1\u001b[0m\u001b[0;34m=\u001b[0m\u001b[0;34m-\u001b[0m\u001b[0momega\u001b[0m \u001b[0;34m*\u001b[0m \u001b[0my\u001b[0m\u001b[0;34m[\u001b[0m\u001b[0;36m0\u001b[0m\u001b[0;34m]\u001b[0m\u001b[0;34m+\u001b[0m  \u001b[0momega2\u001b[0m \u001b[0;34m*\u001b[0m \u001b[0;34m(\u001b[0m\u001b[0my\u001b[0m\u001b[0;34m[\u001b[0m\u001b[0;36m2\u001b[0m\u001b[0;34m]\u001b[0m\u001b[0;34m-\u001b[0m\u001b[0my\u001b[0m\u001b[0;34m[\u001b[0m\u001b[0;36m0\u001b[0m\u001b[0;34m]\u001b[0m\u001b[0;34m)\u001b[0m\u001b[0;34m\u001b[0m\u001b[0;34m\u001b[0m\u001b[0m\n\u001b[0m\u001b[1;32m     20\u001b[0m \u001b[0;34m\u001b[0m\u001b[0m\n\u001b[1;32m     21\u001b[0m   \u001b[0mdxdt2\u001b[0m\u001b[0;34m=\u001b[0m\u001b[0my\u001b[0m\u001b[0;34m[\u001b[0m\u001b[0;36m3\u001b[0m\u001b[0;34m]\u001b[0m\u001b[0;34m\u001b[0m\u001b[0;34m\u001b[0m\u001b[0m\n",
            "\u001b[0;31mIndexError\u001b[0m: index 2 is out of bounds for axis 0 with size 2"
          ]
        }
      ]
    },
    {
      "cell_type": "code",
      "source": [
        "plt.plot(t, sol[:, 0], 'b', label='posición')\n",
        "plt.plot(t, sol[:, 1], 'g', label='velocidad')\n",
        "plt.plot(t, sol[:, 2], 'b', label='posición')\n",
        "plt.plot(t, sol[:, 3], 'g', label='velocidad')\n",
        "\n",
        "plt.grid()\n",
        "plt.legend()\n",
        "plt.grid()"
      ],
      "metadata": {
        "id": "tt3p2Kg4vjS9"
      },
      "execution_count": null,
      "outputs": []
    },
    {
      "cell_type": "markdown",
      "metadata": {
        "id": "CnCba8vE9_ma"
      },
      "source": [
        "# Su tarea será:\n",
        "\n",
        "1. Considerar un sistema de dos osciladores acoplados, con constantes elásticas $k_1=k_3$,  $k_2$ y construir un programa que permita realizar los cálculos anteriores de forma sistemática. Es decir, se deberá resolver el problema de autovalores y autovectores, para encontrar las frecuencias de oscilación y la matriz diagonal. La ecuación diferencial  para $\\eta$,  deberá ser resuelta  numéricamente y comparada con la solución análitica, la cual viene dada por: \n",
        "\n",
        "\n",
        "\\begin{equation}\n",
        "\\eta_1(t)=\\eta_1(0)\\cos(\\omega_1t)+ \\frac{\\dot{\\eta_1}(0)}{\\omega_1}\\sin(\\omega_1t)\n",
        "\\end{equation}\n",
        "\n",
        "\\begin{equation}\n",
        "\\eta_2(t)=\\eta_2(0)\\cos(\\omega_2t)+ \\frac{\\dot{\\eta_2}(0)}{\\omega_2}\\sin(\\omega_1t)\n",
        "\\end{equation}\n",
        "\n",
        "y empleando: \n",
        "\n",
        "\\begin{equation}\n",
        "x_1=\\frac{1}{\\sqrt{2}}(\\eta_1+\\eta_2)\n",
        "\\end{equation}\n",
        "\n",
        "\n",
        "\\begin{equation}\n",
        "x_2=\\frac{1}{\\sqrt{2}}(\\eta_2+\\eta_1)\n",
        "\\end{equation}\n",
        "tenemos que la solución exacta, al problema viene dada por: \n",
        "\n",
        "\\begin{equation}\n",
        "x_1(t)=\\frac{1}{2}(x_1(0)-x_2(0))\\cos\\omega_1 t+\\frac{1}{2\\omega_1}(\\dot{x_1}(0)-\\dot{x_2}(0))\\sin\\omega_1t+\\\\\n",
        "\\frac{1}{2}(x_1(0)+x_2(0))\\cos\\omega_2 t+\\frac{1}{2\\omega_2}(\\dot{x_1}(0)+\\dot{x_2}(0))\\sin\\omega_2t\n",
        "\\end{equation}\n",
        "\n",
        "\\begin{equation}\n",
        "x_2(t)=\\frac{1}{2}(x_2(0)-x_1(0))\\cos\\omega_1 t+\\frac{1}{2\\omega_1}(\\dot{x_2}(0)-\\dot{x_1}(0))\\sin\\omega_1t+\\\\\n",
        "\\frac{1}{2}(x_1(0)+x_2(0))\\cos\\omega_2 t+\\frac{1}{2\\omega_2}(\\dot{x_1}(0)+\\dot{x_2}(0))\\sin\\omega_2t\n",
        "\\end{equation}\n",
        "\n",
        "\n",
        "La ecuacion anterior tiene solución según las condiciones iniciales. Muestre que la solucion numérica coincide con la analíítica, para ello, realice graficas de ambas soluciones y comparelas, cuando considera  la evolución temporal de $x_1$, $x_2$ para las siguientes condiciones:\n",
        "\n",
        "- **Modo simétrico:** $x_1(0) = x_2(0) = A$, $\\dot{x_1}(0)=\\dot{x_2}(0) = 0$ \n",
        "- **Modo antisimétrico:** $x_1(0)=-x_2(0) = A$, $\\dot{x_1}(0)=\\dot{x_2}(0) = 0$ \n",
        "-  $x_1(0)=A, x_2(0) = 0$, $\\dot{x_1}(0)=\\dot{x_2}(0) = 0$ \n",
        "\n",
        "\n",
        "\n",
        "2. Para el última condición, suponga que el acoplamiento es debil, es decir $k_2<<k$. ¿Cómo es la evolucion temporal de $x_1$ y $x_2$ en este caso?.\n",
        "\n",
        "3. ¿Qué puede concluir de sus resultados?\n",
        "\n",
        "4.  Generalizar el problema, para constantes elásticas de los resortes $k_1, k_2, k_3$ y masas de $m_1, m_2, m_3$.\n",
        "\n",
        "5. Realice una animación del movimiento de las particulas en el espacio, segun los resultados obtenidos.\n",
        "\n",
        "\n",
        "\n",
        "\n",
        "**RETO 1** Considere ahora, un sistema con amortiguamiento proporcional a la velocidad, las ecuaciones de movimiento, \n",
        "vienen dadas por:\n",
        "\n",
        "\\begin{equation}\n",
        "m\\ddot{y_1} + \\gamma \\dot{y_1} + (k +k_2) y_1 - k_2 y_2 = 0\n",
        "\\end{equation}\n",
        "\n",
        "\n",
        "\\begin{equation}\n",
        "m\\ddot{y_2} + \\gamma \\dot{y_2} + (k +k_2) y2 - k_2 y_1 = 0\n",
        "\\end{equation}\n",
        "\n",
        "Estudiar en este caso, la evolucion temporal de cada masa para diferentes condiciones. \n",
        "\n",
        "**RETO 2** Considere 10 osciladores acoplados, ¿Qué tipo de soluciones se pueden obtener este caso?\n",
        "\n",
        "\n"
      ]
    },
    {
      "cell_type": "markdown",
      "source": [
        "## Runge kutta"
      ],
      "metadata": {
        "id": "Kph_Foo6lrwn"
      }
    },
    {
      "cell_type": "code",
      "source": [
        "import matplotlib.pylab as plt\n",
        "import numpy as np\n"
      ],
      "metadata": {
        "id": "U-3DuOj5lwyv"
      },
      "execution_count": null,
      "outputs": []
    },
    {
      "cell_type": "code",
      "source": [
        "t0=0\n",
        "tfin=1\n",
        "Nt=100 #numero de tiempos\n",
        "t=np.linspace(t0,tfin,Nt)\n",
        "h=1/Nt\n"
      ],
      "metadata": {
        "id": "fT5jcEAtoWqj"
      },
      "execution_count": null,
      "outputs": []
    },
    {
      "cell_type": "code",
      "source": [
        "#definir la funcion\n",
        "def funcion(t,y,params):\n",
        "  a=params[0]\n",
        "\n",
        "  dydt = -a*y\n",
        "  return dydt\n",
        "\n",
        "#condiciones inicuales\n",
        "y0=100           #condicion inicial\n",
        "a=1              #parametro de la ecuacion diferencail \n",
        "t0=0             #tiempo inicial\n",
        "tfin=1           #tiempo final\n",
        "Nt=100           #numero de tiempos\n",
        "params=(a,)     \n",
        "t=np.linspace(t0,tfin,Nt)\n",
        "h=1/Nt\n",
        "\n",
        "\n",
        "k1=funcion(t0,y0,params)\n",
        "k2=funcion(t0+(h/2),y0+(h/2)*k1,params)\n",
        "k3=funcion(t0+(h/2),y0+(h/2)*k2,params)\n",
        "k4=funcion(t0+h,y0+h*k3,params)\n",
        "\n",
        "kmean=(1/6)*(k1+2*k2+2*k3+k4)\n",
        "\n",
        "y1= y0 + kmean*h\n",
        "\n",
        "t1=t0+h\n",
        "k1=funcion(t1,y0,params)\n",
        "k2=funcion(t1+(h/2),y1+(h/2)*k1,params)\n",
        "k3=funcion(t1+(h/2),y1+(h/2)*k2,params)\n",
        "k4=funcion(t1+ h   ,y1+h*k3    ,params)\n",
        "kmean=(1/6)*(k1+2*k2+2*k3+k4)\n",
        "\n",
        "y2= y1 + kmean*h\n",
        "y2"
      ],
      "metadata": {
        "id": "Cv1lk-izmUwZ"
      },
      "execution_count": null,
      "outputs": []
    },
    {
      "cell_type": "code",
      "source": [
        "#@title Generalización\n",
        "t0=0.0\n",
        "y0=100\n",
        "i=0\n",
        "t=[]\n",
        "y=[]\n",
        "while i<=Nt:\n",
        "  k1=funcion(t0,y0,params)\n",
        "  k2=funcion(t0+h/2,y0+(h/2*k1),params)\n",
        "  k3=funcion(t0+h/2,y0+(h/2*k2),params)\n",
        "  k4=funcion(t0+h,y0+h*k3,params)\n",
        "  kmean=(1/6)*(k1+2*k2+2*k3+k4)\n",
        "  y0=y0+kmean*h\n",
        "  t0=t0+h\n",
        "  t.append(t0)\n",
        "  y.append(y0)\n",
        "  i+=1\n",
        "plt.plot(t,y)\n",
        "plt.grid()"
      ],
      "metadata": {
        "id": "BgoQUeVWmmKy"
      },
      "execution_count": null,
      "outputs": []
    },
    {
      "cell_type": "markdown",
      "source": [
        "## Atractor de lorenz "
      ],
      "metadata": {
        "id": "66vHSU9u9hkB"
      }
    },
    {
      "cell_type": "markdown",
      "source": [
        "$$\\frac{ dx}{dt} = a(y-x)$$\n",
        "$$ \\frac{dy}{dt} = x(b-z)-y$$\n",
        "$$ \\frac{dz}{dt} = xy-cz$$\n",
        "\n"
      ],
      "metadata": {
        "id": "RZLxrCjByNg2"
      }
    },
    {
      "cell_type": "code",
      "source": [
        "#parametos\n",
        "a=10\n",
        "b=1\n",
        "c=8/3\n",
        "\n",
        "#valores iniciales\n",
        "N=100\n",
        "x0=0.1\n",
        "y0=0\n",
        "z0=0\n",
        "h=1/N\n",
        "params=(a,b,c) \n",
        "def lorenz(x,y,z,params):\n",
        "  a=params[0]\n",
        "  b=params[1]\n",
        "  c=params[2]\n",
        "\n",
        "  dxdt = a*(y-x)\n",
        "  dydt = x*(b-z) - y\n",
        "  dzdt= x*y- c*z\n",
        "  return dxdt,dydt,dzdt\n",
        "\n",
        "def rungekutta(x,y,z,params,h):\n",
        "  k1x, k1y, k1z = lorenz(x, y, z,params)\n",
        "  k2x, k2y, k2z = lorenz(x + 0.5 * h * k1x, y + 0.5 * h * k1y, z + 0.5 * h * k1z,params)\n",
        "  k3x, k3y, k3z = lorenz(x + 0.5 * h * k2x, y + 0.5 * h * k2y, z + 0.5 * h * k2z,params)\n",
        "  k4x, k4y, k4z = lorenz(x + h * k3x, y + h * k3y, z + h * k3z,params)\n",
        "  x += (h / 6.0) * (k1x + 2.0 * k2x + 2.0 * k3x + k4x)\n",
        "  y += (h / 6.0) * (k1y + 2.0 * k2y + 2.0 * k3y + k4y)\n",
        "  z += (h / 6.0) * (k1z + 2.0 * k2z + 2.0 * k3z + k4z)\n",
        "  return x, y , z\n",
        "  \n",
        "\n",
        "def runge_kutta(x0, y0, z0,params, h, N):\n",
        "\n",
        "    x_val = [x0]\n",
        "    y_val = [y0]\n",
        "    z_val = [z0]\n",
        "    \n",
        "    for _ in range(N):\n",
        "        x, y, z = rungekutta(x_val[-1], y_val[-1], z_val[-1], params,h)\n",
        "        x_values.append(x)\n",
        "        y_values.append(y)\n",
        "        z_values.append(z)\n",
        "    \n",
        "    return x_val, y_val, z_val\n",
        "\n",
        "x_val, y_val, z_val = runge_kutta(x0, y0, z0, params, h, N)\n",
        "\n",
        "\n",
        "fig = plt.figure()\n",
        "ax = fig.add_subplot(111, projection='3d')\n",
        "ax.plot(x_val, y_val, z_val, lw=0.5)\n",
        "ax.set_xlabel('X')\n",
        "ax.set_ylabel('Y')\n",
        "ax.set_zlabel('Z')\n",
        "ax.set_title('Atractor de Lorenz')\n",
        "plt.show()\n"
      ],
      "metadata": {
        "id": "o7y5GsV2yM2k"
      },
      "execution_count": null,
      "outputs": []
    },
    {
      "cell_type": "code",
      "source": [
        "import numpy as np\n",
        "import matplotlib.pyplot as plt\n",
        "\n",
        "def lorenz_attractor(x, y, z, sigma, rho, beta):\n",
        "    dx = sigma * (y - x)\n",
        "    dy = x * (rho - z) - y\n",
        "    dz = x * y - beta * z\n",
        "    return dx, dy, dz\n",
        "\n",
        "def runge_kutta_step(x, y, z, h, sigma, rho, beta):\n",
        "    k1x, k1y, k1z = lorenz_attractor(x, y, z, sigma, rho, beta)\n",
        "    k2x, k2y, k2z = lorenz_attractor(x + 0.5 * h * k1x, y + 0.5 * h * k1y, z + 0.5 * h * k1z, sigma, rho, beta)\n",
        "    k3x, k3y, k3z = lorenz_attractor(x + 0.5 * h * k2x, y + 0.5 * h * k2y, z + 0.5 * h * k2z, sigma, rho, beta)\n",
        "    k4x, k4y, k4z = lorenz_attractor(x + h * k3x, y + h * k3y, z + h * k3z, sigma, rho, beta)\n",
        "    x += (h / 6.0) * (k1x + 2.0 * k2x + 2.0 * k3x + k4x)\n",
        "    y += (h / 6.0) * (k1y + 2.0 * k2y + 2.0 * k3y + k4y)\n",
        "    z += (h / 6.0) * (k1z + 2.0 * k2z + 2.0 * k3z + k4z)\n",
        "    return x, y, z\n",
        "\n",
        "def runge_kutta_lorenz(x0, y0, z0, sigma, rho, beta, h, num_steps):\n",
        "    x_values = [x0]\n",
        "    y_values = [y0]\n",
        "    z_values = [z0]\n",
        "    \n",
        "    for _ in range(num_steps):\n",
        "        x, y, z = runge_kutta_step(x_values[-1], y_values[-1], z_values[-1], h, sigma, rho, beta)\n",
        "        x_values.append(x)\n",
        "        y_values.append(y)\n",
        "        z_values.append(z)\n",
        "    \n",
        "    return x_values, y_values, z_values\n",
        "\n",
        "# Parámetros del atractor de Lorenz\n",
        "sigma = 10.0\n",
        "rho = 28.0\n",
        "beta = 8.0 / 3.0\n",
        "\n",
        "# Condiciones iniciales\n",
        "x0, y0, z0 = 0.1, 0.0, 0.0\n",
        "\n",
        "# Tamaño del paso y número de pasos\n",
        "h = 0.01\n",
        "num_steps = 10000\n",
        "\n",
        "# Ejecutar el método de Runge-Kutta para el atractor de Lorenz\n",
        "x_values, y_values, z_values = runge_kutta_lorenz(x0, y0, z0, sigma, rho, beta, h, num_steps)\n",
        "\n",
        "# Graficar el resultado\n",
        "fig = plt.figure()\n",
        "ax = fig.add_subplot(111, projection='3d')\n",
        "ax.plot(x_values, y_values, z_values, lw=0.5)\n",
        "ax.set_xlabel('X')\n",
        "ax.set_ylabel('Y')\n",
        "ax.set_zlabel('Z')\n",
        "ax.set_title('Atractor de Lorenz')\n",
        "plt.show()\n"
      ],
      "metadata": {
        "id": "dq1n2K7lDHKP"
      },
      "execution_count": null,
      "outputs": []
    },
    {
      "cell_type": "code",
      "source": [],
      "metadata": {
        "id": "-eQ8s3nKDN5f"
      },
      "execution_count": null,
      "outputs": []
    }
  ],
  "metadata": {
    "colab": {
      "provenance": []
    },
    "kernelspec": {
      "display_name": "Python 3 (ipykernel)",
      "language": "python",
      "name": "python3"
    },
    "language_info": {
      "codemirror_mode": {
        "name": "ipython",
        "version": 3
      },
      "file_extension": ".py",
      "mimetype": "text/x-python",
      "name": "python",
      "nbconvert_exporter": "python",
      "pygments_lexer": "ipython3",
      "version": "3.10.9"
    }
  },
  "nbformat": 4,
  "nbformat_minor": 0
}