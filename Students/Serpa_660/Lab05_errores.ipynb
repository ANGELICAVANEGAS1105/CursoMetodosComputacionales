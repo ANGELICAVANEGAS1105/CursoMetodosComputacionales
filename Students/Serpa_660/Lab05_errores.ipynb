{
  "cells": [
    {
      "cell_type": "markdown",
      "metadata": {
        "id": "eIZ2Sde65031"
      },
      "source": [
        "<a href=\"https://colab.research.google.com/github/hernansalinas/autogrades/blob/main/Laboratorios_Taller/Lab05_errores.ipynb\" target=\"_parent\"><img src=\"https://colab.research.google.com/assets/colab-badge.svg\" alt=\"Open In Colab\"/></a>"
      ]
    },
    {
      "cell_type": "code",
      "source": [],
      "metadata": {
        "id": "uw1NQ9r-yniB"
      },
      "execution_count": null,
      "outputs": []
    },
    {
      "cell_type": "markdown",
      "metadata": {
        "id": "ifkkjBLv1XCU"
      },
      "source": [
        "\n",
        "## Exponencial, serie alternante (serieEn)\n",
        "Objetivo: Analizar el uso de la cancelación substractiva\n",
        "\n",
        "\n",
        "Copia textual del libro  [Computational Physics. ](https://www.dropbox.com/s/n06ul2r4l65khl6/Computational%20Physics%20-%20Problem%20Solving%20with%20Computers%2C%203527406263.pdf?dl=0)\n",
        "\n",
        "- Write a program that calculates $e^{-x}$ \n",
        "\n",
        "\\begin{equation}\n",
        "e^{-x}=\\sum_{n=0}^{N}  (-1)^n \\frac{x^{n}}{n!}\n",
        "\\end{equation}\n",
        "\n",
        "\n",
        "- Calculate your series for $x \\le 1$ and compare it to the built-in function\n",
        "exp(x) (you may assume that the built-in exponential function is exact).\n",
        "You should pick an N for which the next term in the series is no more\n",
        "than $10^{-7}$ of the sum up to that point\n",
        "\n",
        "\\begin{equation}\n",
        "\\left| \\frac{(-x)^{N+1}}{(N+1)!} \\right | \\le \\left| 10^{-7} \\sum_{N=0}^{N} \\frac{(-x)^{n}}{n!} \\right|\n",
        "\\end{equation}\n",
        "\n",
        "- Examine the terms in the series for $x\\approx 10$ and observe the significant subtractive cancellations that occur when large terms add together to give small answers. In particular, print out the near-perfect cancellation\n",
        "at $n \\approx x − 1$.\n",
        "\n",
        "- See if better precision is obtained by being clever and using exp(−x) = 1/ exp(x) for large x values. This eliminates subtractive cancellation, but does not eliminate all roundoff errors\n",
        "\n",
        "- By progressively increasing x from 1 to 10, and then from 10 to 100, use your program to determine experimentally when the series starts to lose accuracy, and when the series no longer converges\n",
        "\n",
        "- Make a series of graphs of the error versus N for different values of x.\n",
        "\n",
        "\n",
        "## Cancelación sustractiva\n",
        "\n",
        "\n",
        "\n",
        "**serieSn**. Un ejemplo de la cancelacion substractiva es en la suma de series alternantes. Considere la serie $\\mathrm{S}_N$,  escrita  matematicamente de tres formas diferentes:\n",
        "\n",
        "- \n",
        "\\begin{equation}\n",
        "\\mathrm{S}_N^{(1)} = \\sum_{n = 1}^{2N} (-1)^n \\frac{n}{n+1} \n",
        "\\end{equation}\n",
        "\n",
        "- Sumando números pares e impares.\n",
        "\n",
        "\\begin{equation}\n",
        "\\mathrm{S}_N^{(2)} = -\\sum_{n = 1}^{N}\\frac{2n-1}{2n} + \\sum_{n=1}^{N} \\frac{2n}{2n+1}\n",
        "\\end{equation}\n",
        "\n",
        "- Combinando las series de una forma analítica\n",
        "\n",
        "\\begin{equation}\n",
        "\\mathrm{S}_N^{(3)} = \\sum_{n = 1}^{N}\\frac{1}{2n(2n+1)}\n",
        "\\end{equation}\n",
        "\n",
        "\n",
        "\n",
        "Las tres sumas $\\mathrm{S}_N^{(1)}$, $\\mathrm{S}_N^{(2)}$ y $\\mathrm{S}_N^{(3)}$ son matemáticamente iguales, pero los resultados  pueden tener resultados numéricos diferentes.\n",
        "\n",
        "\n",
        "- Escribir un programa que realice el cálculo de $\\mathrm{S}_N^{(1)}$, $\\mathrm{S}_N^{(2)}$ y $\\mathrm{S}_N^{(3)}$\n",
        "- Estudiar la convergencia de la serie para los tres casos.\n",
        "- Considere  que $S_N^{(3)}$ es la solución exacta, realizar dos graficos log-log, del error relativo en función \n",
        "del número de términos ($\\mathrm{Log_{10}} E$ VS $\\mathrm{Log_{10}} N$), para $S_N^{(1)}$ y $S_N^{(2)}$. Donde,  $E = |(S_N^{(i)} - S_N^{(3)})/S_N^{(3)}|$, i = 1, 2. Considere valores de $N = 1\\times 10^{6}$.\n",
        "- Analizar y discutir los resultados. Tenga en cuenta la discusión realizada sobre teoría de errores en la página \n",
        "39 del libro del libro [Computational Physics. ](https://www.dropbox.com/s/n06ul2r4l65khl6/Computational%20Physics%20-%20Problem%20Solving%20with%20Computers%2C%203527406263.pdf?dl=0)\n",
        "\n",
        "\n"
      ]
    },
    {
      "cell_type": "markdown",
      "source": [],
      "metadata": {
        "id": "U6Oa80Z62aUr"
      }
    },
    {
      "cell_type": "markdown",
      "source": [],
      "metadata": {
        "id": "rDnvWR452aXT"
      }
    },
    {
      "cell_type": "markdown",
      "source": [
        "\n",
        "\\begin{equation}\n",
        "e^{-x}=\\sum_{n=0}^{N}  (-1)^n \\frac{x^{n}}{n!}\n",
        "\\end{equation}\n",
        "\n",
        "\n",
        "- Calculate your series for $x \\le 1$ and compare it to the built-in function\n",
        "exp(x) (you may assume that the built-in exponential function is exact).\n",
        "You should pick an N for which the next term in the series is no more\n",
        "than $10^{-7}$ of the sum up to that point\n",
        "\n",
        "\\begin{equation}\n",
        "\\left| \\frac{(-x)^{N+1}}{(N+1)!} \\right | \\le \\left| 10^{-7} \\sum_{N=0}^{N} \\frac{(-x)^{n}}{n!} \\right|\n",
        "\\end{equation}"
      ],
      "metadata": {
        "id": "jUjfEA3R2aZ6"
      }
    },
    {
      "cell_type": "code",
      "source": [
        "#exponencial \n",
        "import numpy as np\n",
        "import math\n",
        "#np.factorial\n",
        "def funcionexpo(x, N):\n",
        "    e = 0\n",
        "    for i in range(N):\n",
        "        sumatoria = (-1)**i * (x**i) / math.factorial(i)\n",
        "        e += sumatoria\n",
        "    return e\n"
      ],
      "metadata": {
        "id": "2QQeSZch1suB"
      },
      "execution_count": null,
      "outputs": []
    },
    {
      "cell_type": "code",
      "source": [
        "funcionexpo(10,1000)"
      ],
      "metadata": {
        "colab": {
          "base_uri": "https://localhost:8080/"
        },
        "id": "18C5a2SNBESg",
        "outputId": "58821a29-3367-44d1-c6ad-3bc05df19cf0"
      },
      "execution_count": null,
      "outputs": [
        {
          "output_type": "execute_result",
          "data": {
            "text/plain": [
              "4.5399929433607724e-05"
            ]
          },
          "metadata": {},
          "execution_count": 14
        }
      ]
    },
    {
      "cell_type": "code",
      "source": [
        "#funcion exponencial con la condicion de el error de e^-x\n",
        "def funcionexpo2(x, N):\n",
        "    e = 0\n",
        "    i = 0\n",
        "    diferencia = 1\n",
        "    while i <= N and diferencia > 0.000001:\n",
        "        termino = (-1)**i * (x**i) / math.factorial(i)\n",
        "        e += termino\n",
        "        if i > 0:\n",
        "           diferencia = abs(termino - anterior)\n",
        "        anterior = termino\n",
        "        i += 1\n",
        "    return e, diferencia"
      ],
      "metadata": {
        "id": "IMHhqwZnBKk4"
      },
      "execution_count": null,
      "outputs": []
    },
    {
      "cell_type": "code",
      "source": [
        "funcionexpo2(10,1000)"
      ],
      "metadata": {
        "colab": {
          "base_uri": "https://localhost:8080/"
        },
        "id": "vuSnVmnnCPfw",
        "outputId": "215ff386-3c23-4a94-e0cf-b054338040fd"
      },
      "execution_count": null,
      "outputs": [
        {
          "output_type": "execute_result",
          "data": {
            "text/plain": [
              "(4.5439110291729325e-05, 9.177423384193353e-07)"
            ]
          },
          "metadata": {},
          "execution_count": 16
        }
      ]
    },
    {
      "cell_type": "code",
      "source": [
        "#funcion exponencial expresada como 1/e^x"
      ],
      "metadata": {
        "id": "Aj0PozglCT-5"
      },
      "execution_count": null,
      "outputs": []
    },
    {
      "cell_type": "code",
      "source": [
        "def funcionexpo3(x, N):\n",
        "    e = 0\n",
        "    for i in range(N):\n",
        "        sumatoria = (x**i)/math.factorial(i)\n",
        "        e += sumatoria\n",
        "    return e"
      ],
      "metadata": {
        "id": "4cg6GtncIMJK"
      },
      "execution_count": null,
      "outputs": []
    },
    {
      "cell_type": "code",
      "source": [
        "funcionexpo3(10,10)"
      ],
      "metadata": {
        "colab": {
          "base_uri": "https://localhost:8080/"
        },
        "id": "aX8apOZAIYGX",
        "outputId": "6e8caf24-86e5-41f8-8ee3-b36c6e70b9da"
      },
      "execution_count": null,
      "outputs": [
        {
          "output_type": "execute_result",
          "data": {
            "text/plain": [
              "10086.573192239859"
            ]
          },
          "metadata": {},
          "execution_count": 19
        }
      ]
    },
    {
      "cell_type": "code",
      "source": [
        "import numpy as np\n",
        "\n",
        "def exp_neg_x(x):\n",
        "    sum = 1.0\n",
        "    term = 1.0\n",
        "    n = 0\n",
        "    while np.abs(term) > 1e-7 * np.abs(sum):\n",
        "        term = (-1)**n * x**n / np.math.factorial(n)\n",
        "        sum += term\n",
        "        n += 1\n",
        "    return sum\n",
        "\n",
        "# Test for x <= 1\n",
        "for x in [0.1, 0.5, 1.0]:\n",
        "    exact = np.exp(-x)\n",
        "    series = exp_neg_x(x)\n",
        "    print(f\"x={x:.1f}: exact={exact:.8f}, series={series:.8f}\")\n",
        "\n",
        "# Test for x = 10\n",
        "x = 10\n",
        "exact = np.exp(-x)\n",
        "series = exp_neg_x(x)\n",
        "print(f\"x={x}: exact={exact:.8f}, series={series:.8f}\")\n",
        "for n in range(7, 13):\n",
        "    term = (-1)**n * x**n / np.math.factorial(n)\n",
        "    print(f\"n={n}, term={term:.8f}\")\n",
        "\n",
        "# Test for large x\n",
        "for x in [100, 1000, 10000]:\n",
        "    exact = np.exp(-x)\n",
        "    series = 1 / np.exp(x)\n",
        "    print(f\"x={x}: exact={exact:.8f}, series={series:.8f}\")\n",
        "\n",
        "# Find the range of x where the series is accurate and converges\n",
        "for x in range(1, 101):\n",
        "    series = exp_neg_x(x)\n",
        "    if np.abs(series - np.exp(-x)) > 1e-7:\n",
        "        print(f\"Series diverges at x={x}\")\n",
        "        break\n",
        "    elif np.abs(series - np.exp(-x)) > 1e-10:\n",
        "        print(f\"Series loses accuracy at x={x}\")\n",
        "\n",
        "# Plot the error versus N for different values of x\n",
        "import matplotlib.pyplot as plt\n",
        "\n",
        "x_values = [1, 5, 10]\n",
        "for x in x_values:\n",
        "    exact = np.exp(-x)\n",
        "    errors = []\n",
        "    for n in range(20):\n",
        "        series = exp_neg_x(x)\n",
        "        error = np.abs(series - exact)\n",
        "        errors.append(error)\n",
        "    plt.plot(errors, label=f\"x={x}\")\n",
        "plt.xlabel(\"N\")\n",
        "plt.ylabel(\"Error\")\n",
        "plt.legend()\n",
        "plt.show()\n"
      ],
      "metadata": {
        "colab": {
          "base_uri": "https://localhost:8080/",
          "height": 743
        },
        "id": "K4yb4XThkSc5",
        "outputId": "40018646-4ef0-44d6-dcb6-383ffbeebefe"
      },
      "execution_count": null,
      "outputs": [
        {
          "output_type": "stream",
          "name": "stdout",
          "text": [
            "x=0.1: exact=0.90483742, series=1.90483742\n",
            "x=0.5: exact=0.60653066, series=1.60653066\n",
            "x=1.0: exact=0.36787944, series=1.36787944\n",
            "x=10: exact=0.00004540, series=1.00004539\n",
            "n=7, term=-1984.12698413\n",
            "n=8, term=2480.15873016\n",
            "n=9, term=-2755.73192240\n",
            "n=10, term=2755.73192240\n",
            "n=11, term=-2505.21083854\n",
            "n=12, term=2087.67569879\n",
            "x=100: exact=0.00000000, series=0.00000000\n",
            "x=1000: exact=0.00000000, series=0.00000000\n",
            "x=10000: exact=0.00000000, series=0.00000000\n",
            "Series diverges at x=1\n"
          ]
        },
        {
          "output_type": "stream",
          "name": "stderr",
          "text": [
            "<ipython-input-20-edaf19d5de0e>:31: RuntimeWarning: overflow encountered in exp\n",
            "  series = 1 / np.exp(x)\n"
          ]
        },
        {
          "output_type": "display_data",
          "data": {
            "text/plain": [
              "<Figure size 640x480 with 1 Axes>"
            ],
            "image/png": "[encoded data removed]"
          },
          "metadata": {}
        }
      ]
    },
    {
      "cell_type": "markdown",
      "source": [
        "\n",
        "**serieSn**. Un ejemplo de la cancelacion substractiva es en la suma de series alternantes. Considere la serie $\\mathrm{S}_N$,  escrita  matematicamente de tres formas diferentes:\n",
        "\n",
        "- \n",
        "\\begin{equation}\n",
        "\\mathrm{S}_N^{(1)} = \\sum_{n = 1}^{2N} (-1)^n \\frac{n}{n+1} \n",
        "\\end{equation}\n",
        "\n",
        "- Sumando números pares e impares.\n",
        "\n",
        "\\begin{equation}\n",
        "\\mathrm{S}_N^{(2)} = -\\sum_{n = 1}^{N}\\frac{2n-1}{2n} + \\sum_{n=1}^{N} \\frac{2n}{2n+1}\n",
        "\\end{equation}\n",
        "\n",
        "- Combinando las series de una forma analítica\n",
        "\n",
        "\\begin{equation}\n",
        "\\mathrm{S}_N^{(3)} = \\sum_{n = 1}^{N}\\frac{1}{2n(2n+1)}\n",
        "\\end{equation}\n",
        "\n",
        "\n",
        "\n",
        "Las tres sumas $\\mathrm{S}_N^{(1)}$, $\\mathrm{S}_N^{(2)}$ y $\\mathrm{S}_N^{(3)}$ son matemáticamente iguales, pero los resultados  pueden tener resultados numéricos diferentes.\n",
        "\n",
        "\n",
        "- Escribir un programa que realice el cálculo de $\\mathrm{S}_N^{(1)}$, $\\mathrm{S}_N^{(2)}$ y $\\mathrm{S}_N^{(3)}$\n",
        "- Estudiar la convergencia de la serie para los tres casos.\n",
        "- Considere  que $S_N^{(3)}$ es la solución exacta, realizar dos graficos log-log, del error relativo en función \n",
        "del número de términos ($\\mathrm{Log_{10}} E$ VS $\\mathrm{Log_{10}} N$), para $S_N^{(1)}$ y $S_N^{(2)}$. Donde,  $E = |(S_N^{(i)} - S_N^{(3)})/S_N^{(3)}|$, i = 1, 2. Considere valores de $N = 1\\times 10^{6}$.\n",
        "- Analizar y discutir los resultados. Tenga en cuenta la discusión realizada sobre teoría de errores en la página \n",
        "39 del libro del libro [Computational Physics. ](https://www.dropbox.com/s/n06ul2r4l65khl6/Computational%20Physics%20-%20Problem%20Solving%20with%20Computers%2C%203527406263.pdf?dl=0)\n",
        "\n"
      ],
      "metadata": {
        "id": "y6UNSx533nhc"
      }
    },
    {
      "cell_type": "code",
      "source": [
        "\n",
        "def s1(N):\n",
        "  serie=0\n",
        "  for n in range(1,2*N+1):\n",
        "    suma = (-1)**n * (n/(n+1))\n",
        "    serie += suma\n",
        "  return serie\n",
        "\n",
        "s1(1000)"
      ],
      "metadata": {
        "id": "i57mTqq2If85",
        "colab": {
          "base_uri": "https://localhost:8080/"
        },
        "outputId": "bf3c1408-21e3-4789-e92d-634323dcb0e4"
      },
      "execution_count": null,
      "outputs": [
        {
          "output_type": "execute_result",
          "data": {
            "text/plain": [
              "0.3066030068151212"
            ]
          },
          "metadata": {},
          "execution_count": 21
        }
      ]
    },
    {
      "cell_type": "code",
      "source": [
        "def s2(N):\n",
        "  serie=0\n",
        "  for n in range(1, N+1):\n",
        "    suma1= (2*n-1)/(2*n)\n",
        "    suma2= (2*n)/(2*n + 1)\n",
        "    serie += suma2-suma1\n",
        "  return serie\n",
        "\n",
        "s2(1000)"
      ],
      "metadata": {
        "colab": {
          "base_uri": "https://localhost:8080/"
        },
        "id": "9KbHOT2256qN",
        "outputId": "3d3b9d86-3e8a-4a23-c52d-2fb4698a2fd6"
      },
      "execution_count": null,
      "outputs": [
        {
          "output_type": "execute_result",
          "data": {
            "text/plain": [
              "0.3066030068151212"
            ]
          },
          "metadata": {},
          "execution_count": 22
        }
      ]
    },
    {
      "cell_type": "code",
      "source": [
        "def s3(N):\n",
        "  serie =0\n",
        "  for n in range(1, N+1):\n",
        "    suma = 1/(2*n*(2*n+1))\n",
        "    serie +=suma\n",
        "  return serie\n",
        "\n",
        "s3(1000)"
      ],
      "metadata": {
        "colab": {
          "base_uri": "https://localhost:8080/"
        },
        "id": "UTwieJiE5mqa",
        "outputId": "b789cc05-914b-4f5f-dcfe-03b61928a5ea"
      },
      "execution_count": null,
      "outputs": [
        {
          "output_type": "execute_result",
          "data": {
            "text/plain": [
              "0.30660300681512476"
            ]
          },
          "metadata": {},
          "execution_count": 23
        }
      ]
    },
    {
      "cell_type": "code",
      "source": [
        "import matplotlib.pyplot as plt\n",
        "\n",
        "N_values = np.logspace(1, 6, 100, dtype=int)\n",
        "\n",
        "s1_values = np.zeros_like(N_values, dtype=float)\n",
        "s2_values = np.zeros_like(N_values, dtype=float)\n",
        "s3_values = np.zeros_like(N_values, dtype=float)\n",
        "\n",
        "for i, N in enumerate(N_values):\n",
        "    s1_values[i] = s1(N)\n",
        "    s2_values[i] = s2(N)\n",
        "    s3_values[i] = s3(N)\n",
        "\n",
        "plt.plot(N_values, s1_values, label=r'$S_N^{(1)}$')\n",
        "plt.plot(N_values, s2_values, label=r'$S_N^{(2)}$')\n",
        "plt.plot(N_values, s3_values, label=r'$S_N^{(3)}$')\n",
        "plt.xscale('log')\n",
        "plt.xlabel('N')\n",
        "plt.ylabel('S')\n",
        "plt.legend()\n",
        "plt.show()\n"
      ],
      "metadata": {
        "id": "SN77bD088QMI",
        "colab": {
          "base_uri": "https://localhost:8080/",
          "height": 454
        },
        "outputId": "051059fd-cd91-481e-c171-c34d8d04b8e9"
      },
      "execution_count": null,
      "outputs": [
        {
          "output_type": "display_data",
          "data": {
            "text/plain": [
              "<Figure size 640x480 with 1 Axes>"
            ],
            "image/png": "[encoded data removed]"
          },
          "metadata": {}
        }
      ]
    },
    {
      "cell_type": "code",
      "source": [
        "# Calcular las sumas para diferentes valores de N\n",
        "N_values = np.logspace(1, 6, 6, dtype=int)\n",
        "s1_values = np.zeros_like(N_values, dtype=float)\n",
        "s2_values = np.zeros_like(N_values, dtype=float)\n",
        "s3_values = np.zeros_like(N_values, dtype=float)\n",
        "\n",
        "for i, N in enumerate(N_values):\n",
        "    s1_values[i] = s1(N)\n",
        "    s2_values[i] = s2(N)\n",
        "    s3_values[i] = s3(N)\n",
        "\n",
        "# Graficar las sumas en función de N\n",
        "plt.figure(figsize=(8, 6))\n",
        "plt.loglog(N_values, np.abs(s1_values - s3_values)/s3_values, 'o-', label=r'$S_N^{(1)}$')\n",
        "plt.loglog(N_values, np.abs(s2_values - s3_values)/s3_values, 'o-', label=r'$S_N^{(2)}$')\n",
        "plt.legend()\n",
        "plt.xlabel(r'$N$')\n",
        "plt.ylabel(r'$\\log_{10}(E)$')\n",
        "plt.title('Errores relativos para $S_N^{(1)}$ y $S_N^{(2)}$')\n",
        "plt.show()\n",
        "\n",
        "\n"
      ],
      "metadata": {
        "id": "4ZQ40b14lg6h",
        "outputId": "c6abd765-cc16-4d86-bb2f-83584cb694cf",
        "colab": {
          "base_uri": "https://localhost:8080/",
          "height": 574
        }
      },
      "execution_count": 27,
      "outputs": [
        {
          "output_type": "display_data",
          "data": {
            "text/plain": [
              "<Figure size 800x600 with 1 Axes>"
            ],
            "image/png": "[encoded data removed]"
          },
          "metadata": {}
        }
      ]
    },
    {
      "cell_type": "code",
      "source": [],
      "metadata": {
        "id": "aKw0kjTQnx5Z"
      },
      "execution_count": null,
      "outputs": []
    }
  ],
  "metadata": {
    "colab": {
      "provenance": []
    },
    "kernelspec": {
      "display_name": "Python 3 (ipykernel)",
      "language": "python",
      "name": "python3"
    },
    "language_info": {
      "codemirror_mode": {
        "name": "ipython",
        "version": 3
      },
      "file_extension": ".py",
      "mimetype": "text/x-python",
      "name": "python",
      "nbconvert_exporter": "python",
      "pygments_lexer": "ipython3",
      "version": "3.8.12"
    }
  },
  "nbformat": 4,
  "nbformat_minor": 0
}