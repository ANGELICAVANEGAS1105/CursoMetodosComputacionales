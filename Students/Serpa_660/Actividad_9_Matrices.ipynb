{
  "nbformat": 4,
  "nbformat_minor": 0,
  "metadata": {
    "colab": {
      "provenance": []
    },
    "kernelspec": {
      "name": "python3",
      "display_name": "Python 3"
    },
    "language_info": {
      "name": "python"
    }
  },
  "cells": [
    {
      "cell_type": "code",
      "execution_count": null,
      "metadata": {
        "id": "AsqtaPgFcRgd"
      },
      "outputs": [],
      "source": []
    },
    {
      "cell_type": "markdown",
      "source": [
        "# Actividad 1. \n",
        "\n",
        "Operaciones matricial con regresión lineal.\n",
        "\n",
        "Cuando se desea hacer una regresion lineal multivariada, existen diferentes formas de realizar la regresión, una de ellas es encontrar el error cuadrático medio y miniminzar el conjunto de parámetros de la regresión emplando algún metodo de minimización, otra forma es encontrar la expresión analítica en forma matricial para enoncontrar el conjunto de parametros de la regresión. En este último caso, la regresion lineal viene dada por la siguiente expresion generalizada:\n",
        "\n",
        "\n",
        "- $\\Theta = (X^T X)^{-1} X^T y$\n",
        "\n",
        "donte $\\Theta$ es la matriz de parametros asociados a la regresión lineal, X la matriz de características y y los valos esperados, así, si tenemos una conjunto de datos en N dimensiones la recta, plano o hyperplano puede ser calculado como:\n",
        "\n",
        "$Y=\\Theta^T X$\n",
        "\n",
        "\n",
        "En el caso de dos dimensiones, tenemos lo siguiente, Supongamos que X, y Y presentan un comportamiento lineal, y vienen dados por:\n",
        "\n",
        "\n",
        "- Sea $\\vec{X}=x^1, x^2, x^3, x^4, ..., x^m$ \n",
        "- Sea $\\vec{Y}=y^1, y^2, y^3, y^4, ..., y^m$ \n",
        "\n",
        "Para determinar la ecuacion de la recta, hay que conocer los párametros $\\theta_0 $, $\\theta_1$, que cumplen que :   $y^{i} = \\theta_1 x^{i} + \\theta_0$ la anterior expresion puede ser escrita como:\n",
        "\n",
        "\\begin{equation}\n",
        "\\begin{bmatrix}\n",
        "y^{1}\\\\\n",
        "y^{2}\\\\\n",
        "\\vdots\\\\\n",
        "y^{m}\\\\\n",
        "\\end{bmatrix}=\n",
        "\\begin{bmatrix}\n",
        "\\theta_0 & \\theta_1 \\\\\n",
        "\\end{bmatrix}\n",
        "\\begin{bmatrix}\n",
        "1 & 1 & \\cdots & 1 \\\\\n",
        "x_1^{1} & x_1^{2} & \\cdots & x_1^{m} \\\\\n",
        "\\end{bmatrix}\n",
        "\\end{equation}\n",
        "\n",
        "\n",
        "Para determinar la matriz de theta entonces se puede aplicar la ecuación:\n",
        "\n",
        "- $\\Theta = (X^T X)^{-1} X^T y$\n",
        "\n",
        "donde: \n",
        "\\begin{equation}\n",
        "X=\n",
        "\\begin{bmatrix}\n",
        "1 & x_1^{1} \\\\\n",
        "1 & x_1^{2} \\\\\n",
        "\\vdots & \\vdots \\\\\n",
        "1 & x_1^{m} \n",
        "\\end{bmatrix}\n",
        "\\end{equation}\n",
        "\n",
        "y \n",
        "\n",
        "\n",
        "\\begin{equation}\n",
        "y=\n",
        "\\begin{bmatrix}\n",
        "y^1 \\\\\n",
        "y^2 \\\\\n",
        "\\vdots\\\\\n",
        "y^m\n",
        "\\end{bmatrix}\n",
        "\\end{equation}\n",
        "\n",
        "Su tarea será construir un programa que realice la regresión lineal para los siguientes puntos: \n",
        "```python \n",
        "N = 10\n",
        "x1 = np.linspace(0, 10, N)\n",
        "noise=2*np.random.random(N)-1\n",
        "y = 0.9*x1 + noise\n",
        "```\n",
        "\n",
        "\n",
        "\n",
        "Generalice para el siguiente problema bidimensional: \n",
        "\n",
        "\n",
        "```python \n",
        "N = 10\n",
        "x1 = np.linspace(-1, 1, N) \n",
        "x2 = np.linspace(-2, 2, N)\n",
        "noise1=2*np.random.random(N)-1\n",
        "noise2=2*np.random.random(N)-1\n",
        "y = 2*(x1+noise1) - 3*(x2+noise2) + 0.0 #+ 4*np.random.random(100) \n",
        "\n",
        "N = 10\n",
        "X1, X2 = np.meshgrid(x1,x2)\n",
        "Y = 2*X1 - 3*X2 + 0.0\n",
        "fig, ax = plt.subplots(subplot_kw={\"projection\": \"3d\"})\n",
        "surf = ax.plot_surface(X1, X2, Y)\n",
        "#scatter = ax.scatter(x1, x2, y,\"-\")\n",
        "```\n"
      ],
      "metadata": {
        "id": "rA9H898_ceNJ"
      }
    },
    {
      "cell_type": "code",
      "source": [
        "import numpy as np\n",
        "import matplotlib.pyplot as plt\n"
      ],
      "metadata": {
        "id": "gbTrmw8v74g1"
      },
      "execution_count": null,
      "outputs": []
    },
    {
      "cell_type": "code",
      "source": [
        "N = 10\n",
        "x1 = np.linspace(0, 10, N)\n",
        "noise=2*np.random.random(N)-1\n",
        "y = 0.9*x1 + noise"
      ],
      "metadata": {
        "id": "e9LDCSIQ7Fo6"
      },
      "execution_count": null,
      "outputs": []
    },
    {
      "cell_type": "code",
      "source": [
        "x1"
      ],
      "metadata": {
        "colab": {
          "base_uri": "https://localhost:8080/"
        },
        "id": "CigeNIe5-MnW",
        "outputId": "6b6c3811-f386-4e14-b1a5-a1590da8db62"
      },
      "execution_count": null,
      "outputs": [
        {
          "output_type": "execute_result",
          "data": {
            "text/plain": [
              "array([ 0.        ,  1.11111111,  2.22222222,  3.33333333,  4.44444444,\n",
              "        5.55555556,  6.66666667,  7.77777778,  8.88888889, 10.        ])"
            ]
          },
          "metadata": {},
          "execution_count": 3
        }
      ]
    },
    {
      "cell_type": "code",
      "source": [
        "unos=np.ones(10)\n",
        "XT= np.array([unos,x1])\n",
        "XT"
      ],
      "metadata": {
        "colab": {
          "base_uri": "https://localhost:8080/"
        },
        "id": "TBvAiaYa-xpS",
        "outputId": "5e4184b7-8ebd-4252-e5e7-cad05ff581dd"
      },
      "execution_count": null,
      "outputs": [
        {
          "output_type": "execute_result",
          "data": {
            "text/plain": [
              "array([[ 1.        ,  1.        ,  1.        ,  1.        ,  1.        ,\n",
              "         1.        ,  1.        ,  1.        ,  1.        ,  1.        ],\n",
              "       [ 0.        ,  1.11111111,  2.22222222,  3.33333333,  4.44444444,\n",
              "         5.55555556,  6.66666667,  7.77777778,  8.88888889, 10.        ]])"
            ]
          },
          "metadata": {},
          "execution_count": 4
        }
      ]
    },
    {
      "cell_type": "code",
      "source": [
        "# calcular la transpuesta\n",
        "X= XT.T\n",
        "X"
      ],
      "metadata": {
        "colab": {
          "base_uri": "https://localhost:8080/"
        },
        "id": "53axjXr69nBv",
        "outputId": "75702ab6-82f4-4b9b-f0a8-ad6584cf91ca"
      },
      "execution_count": null,
      "outputs": [
        {
          "output_type": "execute_result",
          "data": {
            "text/plain": [
              "array([[ 1.        ,  0.        ],\n",
              "       [ 1.        ,  1.11111111],\n",
              "       [ 1.        ,  2.22222222],\n",
              "       [ 1.        ,  3.33333333],\n",
              "       [ 1.        ,  4.44444444],\n",
              "       [ 1.        ,  5.55555556],\n",
              "       [ 1.        ,  6.66666667],\n",
              "       [ 1.        ,  7.77777778],\n",
              "       [ 1.        ,  8.88888889],\n",
              "       [ 1.        , 10.        ]])"
            ]
          },
          "metadata": {},
          "execution_count": 5
        }
      ]
    },
    {
      "cell_type": "code",
      "source": [
        "np.linalg.inv(XT@X)"
      ],
      "metadata": {
        "colab": {
          "base_uri": "https://localhost:8080/"
        },
        "id": "SjXKR_F4AhW9",
        "outputId": "3d0064b1-17fc-48d9-c1a8-d69bbc9a2a4c"
      },
      "execution_count": null,
      "outputs": [
        {
          "output_type": "execute_result",
          "data": {
            "text/plain": [
              "array([[ 0.34545455, -0.04909091],\n",
              "       [-0.04909091,  0.00981818]])"
            ]
          },
          "metadata": {},
          "execution_count": 6
        }
      ]
    },
    {
      "cell_type": "code",
      "source": [
        "θ =np.linalg.inv(X.T@X)@X.T@y\n",
        "θ #intersecto pendiente"
      ],
      "metadata": {
        "colab": {
          "base_uri": "https://localhost:8080/"
        },
        "id": "hTREpU9C_so-",
        "outputId": "69069cb6-23dd-4f0c-a8bf-6c4482136fbc"
      },
      "execution_count": null,
      "outputs": [
        {
          "output_type": "execute_result",
          "data": {
            "text/plain": [
              "array([0.3434979, 0.8073707])"
            ]
          },
          "metadata": {},
          "execution_count": 7
        }
      ]
    },
    {
      "cell_type": "code",
      "source": [
        "plt.plot(x1,y,\"ro\",label=\"x\")\n",
        "plt.plot(x1, x1*θ[1] + θ[0])\n",
        "plt.legend"
      ],
      "metadata": {
        "colab": {
          "base_uri": "https://localhost:8080/",
          "height": 448
        },
        "id": "ekzuXpha76et",
        "outputId": "8bddd167-79f7-4df9-c28a-143afac9ddf3"
      },
      "execution_count": null,
      "outputs": [
        {
          "output_type": "execute_result",
          "data": {
            "text/plain": [
              "<function matplotlib.pyplot.legend(*args, **kwargs)>"
            ]
          },
          "metadata": {},
          "execution_count": 8
        },
        {
          "output_type": "display_data",
          "data": {
            "text/plain": [
              "<Figure size 640x480 with 1 Axes>"
            ],
            "image/png": "[encoded data removed]"
          },
          "metadata": {}
        }
      ]
    },
    {
      "cell_type": "code",
      "source": [
        "N = 1000\n",
        "noise1=2*np.random.random(N)-1\n",
        "noise2=2*np.random.random(N)-1\n",
        "\n",
        "x1 = np.linspace(-1, 1, N) +noise1\n",
        "x2 = np.linspace(-2, 2, N) + noise2\n",
        "\n",
        "y = 1.5*x1 + 2.5*x2 + 0.0 + 4*np.random.random(1000) \n",
        "\n",
        "N = 10\n",
        "X1, X2 = np.meshgrid(x1,x2)\n",
        "Y = 1.5*X1 + 2.5*X2 + 0.0\n",
        "fig, ax = plt.subplots(subplot_kw={\"projection\": \"3d\"})\n",
        "surf = ax.plot_surface(X1, X2, Y)#\n",
        "scatter = ax.scatter(x1, x2, y,\"-\")\n",
        "#transparecia 0.5 alfa "
      ],
      "metadata": {
        "colab": {
          "base_uri": "https://localhost:8080/",
          "height": 416
        },
        "id": "FsigrQQ5hwxQ",
        "outputId": "30df16c8-f36e-4459-ecdf-505aa9442671"
      },
      "execution_count": null,
      "outputs": [
        {
          "output_type": "display_data",
          "data": {
            "text/plain": [
              "<Figure size 640x480 with 1 Axes>"
            ],
            "image/png": "[encoded data removed]"
          },
          "metadata": {}
        }
      ]
    },
    {
      "cell_type": "code",
      "source": [
        "unos=np.ones(N)\n",
        "X= np.array([unos,x1,x2])\n",
        "\n",
        "Y_=np.reshape(y, (N, 1))\n",
        "\n",
        "U=X.T\n",
        "\n",
        "theta=np.linalg.inv(U.T@U)@U.T@Y_\n",
        "theta"
      ],
      "metadata": {
        "id": "Uoo4DLg4yDHE"
      },
      "execution_count": null,
      "outputs": []
    },
    {
      "cell_type": "markdown",
      "source": [
        "Clase"
      ],
      "metadata": {
        "id": "uwoY9WzA7GWd"
      }
    },
    {
      "cell_type": "code",
      "source": [
        "#numpy array\n",
        "#2 matrix\n",
        "#3. sympy\n",
        "\n",
        "import numpy as np\n",
        "import matplotlib.pyplot as plt\n"
      ],
      "metadata": {
        "id": "-V-gTLLqw__2"
      },
      "execution_count": null,
      "outputs": []
    },
    {
      "cell_type": "code",
      "source": [
        "M= np.zeros(10)\n",
        "print(np.shape(M))\n",
        "print(type(M))"
      ],
      "metadata": {
        "colab": {
          "base_uri": "https://localhost:8080/"
        },
        "id": "RuiqEIZIxHRF",
        "outputId": "8a3415a3-1096-4a54-88ac-2f6f11857330"
      },
      "execution_count": null,
      "outputs": [
        {
          "output_type": "stream",
          "name": "stdout",
          "text": [
            "(10,)\n",
            "<class 'numpy.ndarray'>\n"
          ]
        }
      ]
    },
    {
      "cell_type": "code",
      "source": [
        "M= np.zeros((10,10,10)) #matriz de tres dimenciones\n",
        "print(np.shape(M))\n",
        "print(type(M))"
      ],
      "metadata": {
        "colab": {
          "base_uri": "https://localhost:8080/"
        },
        "id": "H_7q-wRWxTIs",
        "outputId": "c87cf389-ac55-4e8d-abcd-dd5e9a1e1bac"
      },
      "execution_count": null,
      "outputs": [
        {
          "output_type": "stream",
          "name": "stdout",
          "text": [
            "(10, 10, 10)\n",
            "<class 'numpy.ndarray'>\n"
          ]
        }
      ]
    },
    {
      "cell_type": "code",
      "source": [
        "M= np.ones((2,2)) #matriz de unos\n",
        "M"
      ],
      "metadata": {
        "colab": {
          "base_uri": "https://localhost:8080/"
        },
        "id": "sAafIMf9xb-N",
        "outputId": "cd3aa409-cf72-48c1-da42-910a69127871"
      },
      "execution_count": null,
      "outputs": [
        {
          "output_type": "execute_result",
          "data": {
            "text/plain": [
              "array([[1., 1.],\n",
              "       [1., 1.]])"
            ]
          },
          "metadata": {},
          "execution_count": 17
        }
      ]
    },
    {
      "cell_type": "code",
      "source": [
        "#construir imagenes de numeros aleatorios \n",
        "Random= np.random.random((8,8,3))\n"
      ],
      "metadata": {
        "id": "t6ED5dMDyC5M"
      },
      "execution_count": null,
      "outputs": []
    },
    {
      "cell_type": "code",
      "source": [
        "\n",
        "plt.imshow(Random)"
      ],
      "metadata": {
        "colab": {
          "base_uri": "https://localhost:8080/",
          "height": 448
        },
        "id": "WS5BLcwayezc",
        "outputId": "1de31f59-8ee1-4552-b701-80f2e91730de"
      },
      "execution_count": null,
      "outputs": [
        {
          "output_type": "execute_result",
          "data": {
            "text/plain": [
              "<matplotlib.image.AxesImage at 0x7fa0dceb2110>"
            ]
          },
          "metadata": {},
          "execution_count": 19
        },
        {
          "output_type": "display_data",
          "data": {
            "text/plain": [
              "<Figure size 640x480 with 1 Axes>"
            ],
            "image/png": "[encoded data removed]"
          },
          "metadata": {}
        }
      ]
    },
    {
      "cell_type": "code",
      "source": [
        "np.shape(Random)"
      ],
      "metadata": {
        "colab": {
          "base_uri": "https://localhost:8080/"
        },
        "id": "ScGjpsHQz04O",
        "outputId": "6705474a-f09b-43fc-93d7-f39e0782bec2"
      },
      "execution_count": null,
      "outputs": [
        {
          "output_type": "execute_result",
          "data": {
            "text/plain": [
              "(8, 8, 3)"
            ]
          },
          "metadata": {},
          "execution_count": 20
        }
      ]
    },
    {
      "cell_type": "code",
      "source": [
        "np.shape(Random.T) #transouesta"
      ],
      "metadata": {
        "colab": {
          "base_uri": "https://localhost:8080/"
        },
        "id": "BFOnzyne2cZt",
        "outputId": "44b09200-a5a4-44c1-8843-10cf5ad1fd94"
      },
      "execution_count": null,
      "outputs": [
        {
          "output_type": "execute_result",
          "data": {
            "text/plain": [
              "(3, 8, 8)"
            ]
          },
          "metadata": {},
          "execution_count": 21
        }
      ]
    },
    {
      "cell_type": "code",
      "source": [
        "Random[0] #para coger la matriz 1"
      ],
      "metadata": {
        "colab": {
          "base_uri": "https://localhost:8080/"
        },
        "id": "uYq-03V62lcO",
        "outputId": "1da8f29b-05a0-444c-98a6-18314f84c6bc"
      },
      "execution_count": null,
      "outputs": [
        {
          "output_type": "execute_result",
          "data": {
            "text/plain": [
              "array([[0.97420175, 0.29496145, 0.18868099],\n",
              "       [0.07291007, 0.30733021, 0.99554264],\n",
              "       [0.26849713, 0.94011205, 0.59760258],\n",
              "       [0.52805601, 0.50872619, 0.68984368],\n",
              "       [0.85373066, 0.8675601 , 0.65601838],\n",
              "       [0.42746459, 0.63018822, 0.51466955],\n",
              "       [0.25228809, 0.3623446 , 0.84678092],\n",
              "       [0.95553241, 0.41713248, 0.2322276 ]])"
            ]
          },
          "metadata": {},
          "execution_count": 22
        }
      ]
    },
    {
      "cell_type": "code",
      "source": [
        "Random[1]"
      ],
      "metadata": {
        "colab": {
          "base_uri": "https://localhost:8080/"
        },
        "id": "mX6V67N72s7M",
        "outputId": "5148fc4a-cbd4-4697-bc23-608a86c1af3a"
      },
      "execution_count": null,
      "outputs": [
        {
          "output_type": "execute_result",
          "data": {
            "text/plain": [
              "array([[0.06987209, 0.18596355, 0.60306355],\n",
              "       [0.82349572, 0.63001074, 0.81335631],\n",
              "       [0.94791878, 0.22438593, 0.40327466],\n",
              "       [0.50056966, 0.81242153, 0.68140837],\n",
              "       [0.54321171, 0.05104064, 0.29708219],\n",
              "       [0.3933994 , 0.35381875, 0.21137026],\n",
              "       [0.78971046, 0.2713252 , 0.83135594],\n",
              "       [0.12798147, 0.71336402, 0.36821833]])"
            ]
          },
          "metadata": {},
          "execution_count": 23
        }
      ]
    },
    {
      "cell_type": "code",
      "source": [
        "Random[2]"
      ],
      "metadata": {
        "colab": {
          "base_uri": "https://localhost:8080/"
        },
        "id": "1XWTtDgr2umN",
        "outputId": "588d93f4-6698-4e99-9771-09c72ad7057b"
      },
      "execution_count": null,
      "outputs": [
        {
          "output_type": "execute_result",
          "data": {
            "text/plain": [
              "array([[0.22286537, 0.16828332, 0.91223069],\n",
              "       [0.47061665, 0.41571365, 0.15948607],\n",
              "       [0.75259472, 0.09628154, 0.01396094],\n",
              "       [0.31753953, 0.17459447, 0.66671997],\n",
              "       [0.84611935, 0.98805608, 0.99676754],\n",
              "       [0.85810959, 0.91857457, 0.30712524],\n",
              "       [0.55704924, 0.29384291, 0.63302216],\n",
              "       [0.67156904, 0.34260991, 0.61066595]])"
            ]
          },
          "metadata": {},
          "execution_count": 24
        }
      ]
    },
    {
      "cell_type": "code",
      "source": [
        "#NOTA: si le agrego un punto a un numero todo la matriz se vuelve float\n",
        "v1= np.array([2,3,4]) \n",
        "v2=np.array([1,5,1])\n",
        "v3=np.array([8,3,4])\n"
      ],
      "metadata": {
        "id": "tRGglJYC2wrw"
      },
      "execution_count": null,
      "outputs": []
    },
    {
      "cell_type": "code",
      "source": [
        "M = np.array([v1,v2,v3])  #matriz de enteros\n",
        "W = np.array([v3,v2,v1])\n",
        "W\n",
        "M"
      ],
      "metadata": {
        "colab": {
          "base_uri": "https://localhost:8080/"
        },
        "id": "aZaybS7e4YjP",
        "outputId": "16dd9a08-c981-4488-981a-84d3fd79e606"
      },
      "execution_count": null,
      "outputs": [
        {
          "output_type": "execute_result",
          "data": {
            "text/plain": [
              "array([[2, 3, 4],\n",
              "       [1, 5, 1],\n",
              "       [8, 3, 4]])"
            ]
          },
          "metadata": {},
          "execution_count": 26
        }
      ]
    },
    {
      "cell_type": "code",
      "source": [
        "M = np.array([v1,v2,v3]) \n",
        "W = np.array([v3,v2,v1])"
      ],
      "metadata": {
        "id": "wBblDSZa4bNg"
      },
      "execution_count": null,
      "outputs": []
    },
    {
      "cell_type": "code",
      "source": [
        "#suma de matrices\n",
        "M+W"
      ],
      "metadata": {
        "colab": {
          "base_uri": "https://localhost:8080/"
        },
        "id": "-zJLcmZK5NZG",
        "outputId": "a44a61a0-3e2e-4154-d345-c2d62ff8c22d"
      },
      "execution_count": null,
      "outputs": [
        {
          "output_type": "execute_result",
          "data": {
            "text/plain": [
              "array([[10,  6,  8],\n",
              "       [ 2, 10,  2],\n",
              "       [10,  6,  8]])"
            ]
          },
          "metadata": {},
          "execution_count": 28
        }
      ]
    },
    {
      "cell_type": "code",
      "source": [
        "#resta \n",
        "M-W"
      ],
      "metadata": {
        "colab": {
          "base_uri": "https://localhost:8080/"
        },
        "id": "jAGFchM45Nz-",
        "outputId": "3404288a-da26-4645-c6df-a11d92ba712c"
      },
      "execution_count": null,
      "outputs": [
        {
          "output_type": "execute_result",
          "data": {
            "text/plain": [
              "array([[-6,  0,  0],\n",
              "       [ 0,  0,  0],\n",
              "       [ 6,  0,  0]])"
            ]
          },
          "metadata": {},
          "execution_count": 29
        }
      ]
    },
    {
      "cell_type": "code",
      "source": [
        "#multiplicacion de la materiz\n",
        "M@W"
      ],
      "metadata": {
        "colab": {
          "base_uri": "https://localhost:8080/"
        },
        "id": "fGCp555m5RKl",
        "outputId": "cea5cbdb-450f-407c-93b8-20dad88a5643"
      },
      "execution_count": null,
      "outputs": [
        {
          "output_type": "execute_result",
          "data": {
            "text/plain": [
              "array([[27, 33, 27],\n",
              "       [15, 31, 13],\n",
              "       [75, 51, 51]])"
            ]
          },
          "metadata": {},
          "execution_count": 30
        }
      ]
    },
    {
      "cell_type": "code",
      "source": [
        "#sacar la transpuesta\n",
        "\n",
        "#M.T\n",
        "np.transpose(M)"
      ],
      "metadata": {
        "colab": {
          "base_uri": "https://localhost:8080/"
        },
        "id": "aMUkAB2R5X_s",
        "outputId": "23998624-92da-4a49-c76e-b3451e07a85b"
      },
      "execution_count": null,
      "outputs": [
        {
          "output_type": "execute_result",
          "data": {
            "text/plain": [
              "array([[2, 1, 8],\n",
              "       [3, 5, 3],\n",
              "       [4, 1, 4]])"
            ]
          },
          "metadata": {},
          "execution_count": 31
        }
      ]
    },
    {
      "cell_type": "code",
      "source": [
        "#inversa\n",
        "np.linalg.inv(M)"
      ],
      "metadata": {
        "colab": {
          "base_uri": "https://localhost:8080/"
        },
        "id": "pX6KWYlM5l4_",
        "outputId": "1733af46-9d53-45eb-a44f-f8ef45cdd448"
      },
      "execution_count": null,
      "outputs": [
        {
          "output_type": "execute_result",
          "data": {
            "text/plain": [
              "array([[-1.66666667e-01,  1.38777878e-17,  1.66666667e-01],\n",
              "       [-3.92156863e-02,  2.35294118e-01, -1.96078431e-02],\n",
              "       [ 3.62745098e-01, -1.76470588e-01, -6.86274510e-02]])"
            ]
          },
          "metadata": {},
          "execution_count": 32
        }
      ]
    },
    {
      "cell_type": "code",
      "source": [
        "M_m=np.asmatrix(M)"
      ],
      "metadata": {
        "id": "yL51dved6fP9"
      },
      "execution_count": null,
      "outputs": []
    },
    {
      "cell_type": "code",
      "source": [
        "M_m.I   # misma forma para sacar la inversa"
      ],
      "metadata": {
        "colab": {
          "base_uri": "https://localhost:8080/"
        },
        "id": "EOXsH0Rl6taC",
        "outputId": "40f8a972-7a34-4a6b-a557-a32d5513308c"
      },
      "execution_count": null,
      "outputs": [
        {
          "output_type": "execute_result",
          "data": {
            "text/plain": [
              "matrix([[-1.66666667e-01,  1.38777878e-17,  1.66666667e-01],\n",
              "        [-3.92156863e-02,  2.35294118e-01, -1.96078431e-02],\n",
              "        [ 3.62745098e-01, -1.76470588e-01, -6.86274510e-02]])"
            ]
          },
          "metadata": {},
          "execution_count": 34
        }
      ]
    },
    {
      "cell_type": "code",
      "source": [],
      "metadata": {
        "id": "anXYOfyf7ANm"
      },
      "execution_count": null,
      "outputs": []
    },
    {
      "cell_type": "code",
      "source": [],
      "metadata": {
        "id": "ye3cmxlU61vu"
      },
      "execution_count": null,
      "outputs": []
    }
  ]
}