{
  "nbformat": 4,
  "nbformat_minor": 0,
  "metadata": {
    "colab": {
      "provenance": []
    },
    "kernelspec": {
      "name": "python3",
      "display_name": "Python 3"
    },
    "language_info": {
      "name": "python"
    }
  },
  "cells": [
    {
      "cell_type": "markdown",
      "source": [
        "# Actividad \n",
        "1. Elaborar un programa en python que permita calcular la integral de una función entre el intervalo a, b. para ello debera realizar lo siguiente:\n",
        "\n",
        "## Realizar en notebook de collab\n",
        "- Deducir la ecuación general del metodo del trapecio.\n",
        "- Construir un funcion llamada integral_trapz que reciba como argumento una función y el intervalo a, b. El numero de intervalos N será un argumento opcional, \n",
        "  defina por defecto N=10. La función deberá retornar el valor de la integral.  \n",
        "- Comparar la solución con la libreria de scipy https://docs.scipy.org/doc//scipy-1.4.1/reference/generated/scipy.integrate.trapz.html\n",
        "\n",
        "## Construir un programa en python con la función anterior que realice lo siguiente:  \n",
        "\n",
        "- Generalice el programa para que la funcion pueda ser pasada como parametro en terminal, junto con el parametro a, b. la ejecucion debera ser:\n",
        "  python integral func a b, Ejemplo de ejcucion:\n",
        "  python x**2+1 1 5  \n",
        "\n",
        "Para pasar los parametros consulte la libreria sys de python."
      ],
      "metadata": {
        "id": "VMD6FkyDZVAK"
      }
    },
    {
      "cell_type": "code",
      "execution_count": null,
      "metadata": {
        "id": "rl7Mj8vEZUAA"
      },
      "outputs": [],
      "source": [
        "import numpy as np \n",
        "\n",
        "def f(x):\n",
        "  return x**2\n",
        "\n",
        "def integral(N,a,b):\n",
        "  h = b - a\n",
        "  r = np.linspace(a,b,N)\n",
        "  for i in range(0,r-1):\n",
        "     x=r[i]\n",
        "     d=r[i+]\n",
        "  return A\n",
        "\n"
      ]
    },
    {
      "cell_type": "code",
      "source": [
        "import numpy as np\n",
        "from scipy.integrate import trapz\n",
        "import matplotlib.pyplot as plt\n",
        "\n",
        "f= lambda x: x**2\n",
        "a=0\n",
        "b=1\n",
        "N=5 #numeor de interaciones\n",
        "h=(b-a)/N\n",
        "x=np.linspace(a,b,N+1)\n",
        "A=f(x[0])+f(x[-1])*0.5*h + f(x[1:-1]).sum()*h\n",
        "\n",
        "A"
      ],
      "metadata": {
        "colab": {
          "base_uri": "https://localhost:8080/"
        },
        "id": "1H68PrNGfBha",
        "outputId": "5baba86f-7233-4c55-a7c9-7f49a35aebba"
      },
      "execution_count": null,
      "outputs": [
        {
          "output_type": "execute_result",
          "data": {
            "text/plain": [
              "0.3400000000000001"
            ]
          },
          "metadata": {},
          "execution_count": 7
        }
      ]
    },
    {
      "cell_type": "code",
      "source": [
        "def integral_trap(f , a , b, N=10):\n",
        "  h=(b-a)/N\n",
        "  x=np.linspace(a,b,N+1)\n",
        "  A=f(x[0])+f(x[-1])*0.5*h + f(x[1:-1]).sum()*h\n",
        "  return A"
      ],
      "metadata": {
        "id": "3D12FTxJnSYb"
      },
      "execution_count": null,
      "outputs": []
    },
    {
      "cell_type": "code",
      "source": [
        "integral_trap(f, 0,1,N=5)"
      ],
      "metadata": {
        "colab": {
          "base_uri": "https://localhost:8080/"
        },
        "id": "KfkPyJMgpXei",
        "outputId": "3678c410-0a1a-482d-9d52-c8af03a6c46a"
      },
      "execution_count": null,
      "outputs": [
        {
          "output_type": "execute_result",
          "data": {
            "text/plain": [
              "0.3400000000000001"
            ]
          },
          "metadata": {},
          "execution_count": 11
        }
      ]
    },
    {
      "cell_type": "code",
      "source": [
        "trapz(f(x),x,dx=h)"
      ],
      "metadata": {
        "colab": {
          "base_uri": "https://localhost:8080/"
        },
        "id": "BPse4d66pg2K",
        "outputId": "d3ddd4fb-0646-436c-9124-c2f7e3aed5de"
      },
      "execution_count": null,
      "outputs": [
        {
          "output_type": "execute_result",
          "data": {
            "text/plain": [
              "0.34"
            ]
          },
          "metadata": {},
          "execution_count": 12
        }
      ]
    },
    {
      "cell_type": "code",
      "source": [
        "#otra funcin\n",
        "funcion=\"x**2+np.log(x**2+1)\"\n",
        "f=lambda x: eval(funcion)\n",
        "f(1)"
      ],
      "metadata": {
        "colab": {
          "base_uri": "https://localhost:8080/"
        },
        "id": "ZRGdiH1Yqep6",
        "outputId": "e9f98e37-c01a-462c-92c1-e49c51622263"
      },
      "execution_count": null,
      "outputs": [
        {
          "output_type": "execute_result",
          "data": {
            "text/plain": [
              "1.6931471805599454"
            ]
          },
          "metadata": {},
          "execution_count": 14
        }
      ]
    },
    {
      "cell_type": "code",
      "source": [
        "integral_trap(f,0.1,1,N=5)\n",
        "x = np.linspace(0.1,1,N+1)"
      ],
      "metadata": {
        "id": "_4GOK0NDq6nN"
      },
      "execution_count": null,
      "outputs": []
    },
    {
      "cell_type": "code",
      "source": [
        "trapz(f(x),x,dx=h)"
      ],
      "metadata": {
        "colab": {
          "base_uri": "https://localhost:8080/"
        },
        "id": "HKNbs2WYrJaq",
        "outputId": "d3a27429-ff6e-475c-ef6e-99b40952bf1f"
      },
      "execution_count": null,
      "outputs": [
        {
          "output_type": "execute_result",
          "data": {
            "text/plain": [
              "0.6036362484756225"
            ]
          },
          "metadata": {},
          "execution_count": 16
        }
      ]
    },
    {
      "cell_type": "code",
      "source": [],
      "metadata": {
        "id": "qayETyQe8yvY"
      },
      "execution_count": null,
      "outputs": []
    },
    {
      "cell_type": "markdown",
      "source": [
        "\n",
        "\n",
        "```\n",
        "import sys \n",
        "\n",
        "#print(sys.argv[0])\n",
        "#print(sys.argv[1])\n",
        "#print(sys.argv[2])\n",
        "#print(len(sys.argv))ls\n",
        "\n",
        "#func= sys.argv[1]\n",
        "#valor = sys.argv[2]\n",
        "#f = lambda x: eval(func)\n",
        "#x_= eval(valor)\n",
        "#print(f(x_))\n",
        "\n",
        "\n",
        "import numpy as np\n",
        "from scipy.integrate import trapz\n",
        "from scipy.integrate import simpson\n",
        "\n",
        "func= sys.argv[1]\n",
        "a= sys.argv[2]\n",
        "b= sys.argv[3]\n",
        "N= sys.argv[4]\n",
        "f = lambda x: eval(func)\n",
        "a= eval(a)\n",
        "b= eval(b)\n",
        "N= eval(N)\n",
        "h= (b-a)/N\n",
        "x=np.linspace(a,b,N+1)\n",
        "\n",
        "print(\"Integral por trapz =\",trapz(f(x),x,dx=h))\n",
        "print(\"Integral por simpson =\",simpson(f(x),x,dx=h))\n",
        "\n",
        "\n",
        "```\n",
        "\n"
      ],
      "metadata": {
        "id": "AS2Y1flr85_Y"
      }
    },
    {
      "cell_type": "code",
      "source": [],
      "metadata": {
        "id": "Wok_HwnTUW_E"
      },
      "execution_count": null,
      "outputs": []
    }
  ]
}