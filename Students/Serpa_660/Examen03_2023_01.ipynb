{
 "cells": [
  {
   "cell_type": "markdown",
   "metadata": {},
   "source": [
    "# Parcial 3: \n",
    "### Curso: Metodos computacionales \n",
    "### Profesor: Hernán David Salinas Jiménez\n",
    "\n",
    "\n",
    "La entrega del examen se debe realizar a traves del git-hub en el directorio de cada estudiante.\n",
    "\n",
    "\n",
    "# Ecuaciones diferenciales\n",
    "\n",
    "\n",
    "## Body Planet Orbits\n",
    "1. (33%) Newton’s explanation of the motion of the planets in terms of a universal law of gravitation is one of the great achievements of science. He was able to prove that the planets traveled along elliptical paths with the sun at one vertex and to predict periods of the motion accurately. All Newton needed to postulate was that the force between a planet of mass $m$ and the sun of mass $M$ is\n",
    "\n",
    "\\begin{equation}\n",
    "F^{(g)} = -\\frac{GmM}{r^2}\n",
    "\\end{equation}\n",
    "\n",
    "Here $r$ is the planet-CM distance, $G$ is the universal gravitational constant, and the attractive force lies along the line connecting the planet and the sun. The hard part for Newton was solving the resulting differential equations because he had to invent calculus to do it and then had go through numerous analytic manipulations. The numerical solution is straightforward since even for planets the equation of motion is still\n",
    "\n",
    "\\begin{equation}\n",
    "\\vec{f}=m\\vec{a} = m \\frac{\\mathrm{d}^2\\vec{r}}{\\mathrm{d}t^2}\n",
    "\\end{equation}\n",
    "\n",
    "with the force having components:\n",
    "\n",
    "\\begin{equation}\n",
    "f_x  = F^{(g)}\\cos \\theta =  F^{(g)}\\frac{x}{r}\n",
    "\\end{equation}\n",
    "\n",
    "\n",
    "\\begin{equation}\n",
    "f_y  = F^{(g)}\\sin \\theta =  F^{(g)}\\frac{y}{r}\n",
    "\\end{equation}\n",
    "\n",
    "where \n",
    "\n",
    "\\begin{equation}\n",
    "r=\\sqrt{x^2+y^2}\n",
    "\\end{equation}\n",
    "\n",
    "\n",
    "\n",
    "The equation of motion yields two simultaneous second-order ODEs:\n",
    "\n",
    "\\begin{equation}\n",
    "\\frac{\\mathrm{d}^2x}{\\mathrm{d}t^2}=-GM \\frac{x}{r^3}\n",
    "\\end{equation}\n",
    "\n",
    "\\begin{equation}\n",
    "\\frac{\\mathrm{d}^2y}{\\mathrm{d}t^2}=-GM \\frac{y}{r^3}\n",
    "\\end{equation}\n",
    "\n",
    "\n",
    "a. Solve the diferential equation with the next parameter:\n",
    "\n",
    "Assume units such that GM = 1 and use the initial conditions x(0) = 0.5, y(0) = 0, vx(0) = 0.0, vy(0) = 1.63.\n",
    "\n",
    "b. Realice a graph kind subplot with 1 row and 2 columns: in the first subplot include the graph: x vs t, y vs t and the second graph y vs x,  what is the conclusion of this results?.\n",
    "\n"
   ]
  },
  {
   "cell_type": "code",
   "execution_count": 57,
   "metadata": {},
   "outputs": [],
   "source": [
    "import numpy as np\n",
    "import matplotlib.pyplot as plt\n",
    "from scipy.integrate import quad"
   ]
  },
  {
   "cell_type": "markdown",
   "metadata": {
    "id": "NXQGJHNGkKvR"
   },
   "source": [
    "\n",
    "### Integracion \n",
    "2. (33%) Las [integrales elipticas](https://es.wikipedia.org/wiki/Integral_el%C3%ADptica#:~:text=Una%20integral%20el%C3%ADptica%20de%20primera,segundas%20dependen%20de%20dos%20variables) son integrales que permite dar solución a múltiples problemas en física y matemáticas. Algunos ejemplos de su uso, pueden ser encontrados en las siguientes referencias [[1]](http://www.sc.ehu.es/sbweb/fisica3/especial/eliptica/eliptica.html)\n",
    "[[2]](http://www.sc.ehu.es/sbweb/fisica_/numerico/integral/eliptica_ejemplos.html). El siguiente problema esta relacionado con al integración eliptica.\n",
    "\n",
    "\n",
    "La [longitud de arco](http://www.sc.ehu.es/sbweb/fisica3/especial/eliptica/eliptica.html) de  una elipse puede ser calculada a través de la siguiente integral.\n",
    "\n",
    "\\begin{equation}\n",
    "L(k) = 4a\\int_0^{\\pi/2}  \\mathrm{d} \\phi \\sqrt{1-k^2\\sin^2 \\phi}\n",
    "\\end{equation}\n",
    "\n",
    "donde $ k^2 = \\frac{a^2-b^2}{a^2} = \\epsilon $, siendo $\\epsilon$ la excentricidad de la elipse, a y b el semieje mayor y menor de la elipse respectivamente, $a>b$.\n",
    "\n",
    "1. Para $b = 1$, y $a$ entre 1 y 100, construya un conjunto de valores de excentrecidades y realice la integración para cada excentrecidad.\n",
    "Construya un grafico de $L$ vs $\\epsilon$.\n",
    "\n",
    "2. Determine la longitud de arco de la solucion del problema 1.\n",
    "\n"
   ]
  },
  {
   "cell_type": "code",
   "execution_count": 59,
   "metadata": {
    "id": "M4ToXtY0rEml"
   },
   "outputs": [],
   "source": [
    "#definimos la dunicon\n",
    "def L(phi, k):\n",
    "  return np.sqrt(1 - k * np.sin(phi)**2)\n",
    "\n",
    "b = 1\n",
    "av = np.linspace(1, 100, 100)  # Valores de 'a' entre 1 y 100\n",
    "L_values = []\n",
    "e=[]\n",
    "\n",
    "\n",
    "#evaliamos la integral\n",
    "for a in av :\n",
    "    k = (a**2 - b**2) / a**2\n",
    "    valor, _ = quad(L, 0, np.pi/2, args=(np.sqrt(k,)))\n",
    "    L_values.append(4 * a * valor)\n",
    "    e.append(np.sqrt(k))\n",
    "\n",
    "\n",
    "# def Int(a,b,phi):\n",
    "#   k = (a**2 - b**2) / (a**2)\n",
    "#   e =  np.sqrt(k)\n",
    "#   #calculo de la integral\n",
    "#   k_i, error_k = quad(L, 0, np.pi/2, args=(k,))\n",
    "\n",
    "#   Lk= 4*a * k_i\n",
    "#   return Lk,e\n",
    "\n",
    "\n"
   ]
  },
  {
   "cell_type": "code",
   "execution_count": 60,
   "metadata": {
    "colab": {
     "base_uri": "https://localhost:8080/",
     "height": 472
    },
    "id": "0kXN3868teqK",
    "outputId": "ef42ab51-abfa-46e5-ec29-6aa88a541c05"
   },
   "outputs": [
    {
     "data": {
      "image/png": "[encoded data removed]",
      "text/plain": [
       "<Figure size 432x288 with 1 Axes>"
      ]
     },
     "metadata": {
      "needs_background": "light"
     },
     "output_type": "display_data"
    }
   ],
   "source": [
    "\n",
    "plt.plot(e, L_values)\n",
    "plt.xlabel('Excentricidad (ε)')\n",
    "plt.ylabel('Longitud de arco (L)')\n",
    "plt.title('Longitud de arco vs Excentricidad')\n",
    "plt.grid(True)\n",
    "plt.show()\n"
   ]
  },
  {
   "cell_type": "code",
   "execution_count": 67,
   "metadata": {},
   "outputs": [
    {
     "name": "stdout",
     "output_type": "stream",
     "text": [
      "Longitud de arco: 9.499096997356329\n"
     ]
    }
   ],
   "source": [
    "\n",
    "# Calcular las derivadas dx/dt y dy/dt\n",
    "dx_dt = np.zeros(num_points)\n",
    "dy_dt = np.zeros(num_points)\n",
    "\n",
    "for i in range(1, num_points):\n",
    "    dx_dt[i] = (x[i] - x[i-1]) / dt\n",
    "    dy_dt[i] = (y[i] - y[i-1]) / dt\n",
    "\n",
    "# Calcular la longitud de arco utilizando la integral numérica\n",
    "L = 0\n",
    "\n",
    "for i in range(1, num_points):\n",
    "    integrand = np.sqrt(dx_dt[i]**2 + dy_dt[i]**2)\n",
    "    L += integrand * dt\n",
    "\n",
    "\n",
    "print(\"Longitud de arco:\", L)\n"
   ]
  },
  {
   "cell_type": "markdown",
   "metadata": {
    "id": "OyQ9hAIGj5UQ"
   },
   "source": [
    "\n",
    "### Matrices: Rotación  en el plano, autovalores y autovectores\n",
    "3 (33%).   Considere la siguiente matrix de rotación:\n",
    "\\begin{bmatrix} \n",
    "\\cos \\theta & -\\sin \\theta\\\\ \n",
    "\\sin \\theta & \\cos \\theta\n",
    "\\end{bmatrix}\n",
    "\n",
    "a) Encontrar el polinomio característico de A\n",
    "\n",
    "b) Encontrar los autovalores y autovectores\n",
    "\n",
    "c) construya la matriz diagonal con los autovalores y autovectores y compruebe su solución. \n",
    "\n",
    "Encontrar los autovalores y autovectores para $\\theta=45$."
   ]
  },
  {
   "cell_type": "code",
   "execution_count": 61,
   "metadata": {
    "id": "hi362jNxrFNN"
   },
   "outputs": [],
   "source": [
    "teta= np.deg2rad(45)\n",
    "\n",
    "v1= np.array([np.cos(teta),-np.sin(teta)]) \n",
    "v2= np.array([np.sin(teta),np.cos(teta)])\n",
    "A = np.array([v1,v2])\n"
   ]
  },
  {
   "cell_type": "code",
   "execution_count": 62,
   "metadata": {
    "colab": {
     "base_uri": "https://localhost:8080/"
    },
    "id": "gjstCqmx3MNG",
    "outputId": "17026c45-e69f-473b-81e3-336dbb72ae11"
   },
   "outputs": [
    {
     "name": "stdout",
     "output_type": "stream",
     "text": [
      "Polinomio caracteristico de A es = [ 1.         -1.41421356  1.        ]\n"
     ]
    }
   ],
   "source": [
    "#Polinomio caracteristico\n",
    "\n",
    "pc = np.poly(A)\n",
    "print('Polinomio caracteristico de A es =',pc)"
   ]
  },
  {
   "cell_type": "code",
   "execution_count": 63,
   "metadata": {
    "colab": {
     "base_uri": "https://localhost:8080/"
    },
    "id": "Fiu45vik2_E-",
    "outputId": "02316705-22cd-49bc-8b09-88cdfccf12ad"
   },
   "outputs": [
    {
     "name": "stdout",
     "output_type": "stream",
     "text": [
      "Los autovaores de A son= [1.11022302e-16 1.41421356e+00]\n",
      "Los Vectories propios de A son= [[-0.70710678  0.70710678]\n",
      " [ 0.70710678  0.70710678]]\n"
     ]
    }
   ],
   "source": [
    "#calculo de autovalores y vectores propios\n",
    "av,vc=np.linalg.eigh(A)\n",
    "\n",
    "print('Los autovaores de A son=',av)\n",
    "print('Los Vectories propios de A son=',vc)"
   ]
  },
  {
   "cell_type": "code",
   "execution_count": 64,
   "metadata": {
    "colab": {
     "base_uri": "https://localhost:8080/"
    },
    "id": "aKcSzNvQ38jt",
    "outputId": "1383887d-ce62-4659-8709-dd1c18b8e801"
   },
   "outputs": [
    {
     "name": "stdout",
     "output_type": "stream",
     "text": [
      "Matriz diagonal: [[ 0.70710678  0.70710678]\n",
      " [-0.70710678  0.70710678]]\n"
     ]
    }
   ],
   "source": [
    "# Matriz diagonal\n",
    "p= np.transpose(vc)\n",
    "p_=np.linalg.inv(p)\n",
    "\n",
    "D=p_@A@p\n",
    "print('Matriz diagonal:',D)\n"
   ]
  },
  {
   "cell_type": "code",
   "execution_count": null,
   "metadata": {
    "id": "5hpr9bdg43LF"
   },
   "outputs": [],
   "source": []
  }
 ],
 "metadata": {
  "colab": {
   "provenance": []
  },
  "kernelspec": {
   "display_name": "Python 3",
   "language": "python",
   "name": "python3"
  },
  "language_info": {
   "codemirror_mode": {
    "name": "ipython",
    "version": 3
   },
   "file_extension": ".py",
   "mimetype": "text/x-python",
   "name": "python",
   "nbconvert_exporter": "python",
   "pygments_lexer": "ipython3",
   "version": "3.8.5"
  }
 },
 "nbformat": 4,
 "nbformat_minor": 4
}
