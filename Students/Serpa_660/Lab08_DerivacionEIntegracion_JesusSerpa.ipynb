{
  "nbformat": 4,
  "nbformat_minor": 0,
  "metadata": {
    "colab": {
      "provenance": []
    },
    "kernelspec": {
      "display_name": "Python 3",
      "language": "python",
      "name": "python3"
    },
    "language_info": {
      "codemirror_mode": {
        "name": "ipython",
        "version": 3
      },
      "file_extension": ".py",
      "mimetype": "text/x-python",
      "name": "python",
      "nbconvert_exporter": "python",
      "pygments_lexer": "ipython3",
      "version": "3.7.2"
    }
  },
  "cells": [
    {
      "cell_type": "markdown",
      "source": [
        "<a href=\"https://colab.research.google.com/github/hernansalinas/autogrades/blob/main/Laboratorios_Taller/Lab08_DerivacionEIntegracion_01.ipynb\" target=\"_parent\"><img src=\"https://colab.research.google.com/assets/colab-badge.svg\" alt=\"Open In Colab\"/></a>\n"
      ],
      "metadata": {
        "id": "mfuoQaq5CYZG"
      }
    },
    {
      "cell_type": "code",
      "source": [
        "import pandas as pd\n",
        "import numpy as np\n",
        "import scipy.interpolate as interpolate\n",
        "import matplotlib.pyplot as plt\n",
        "from scipy.misc import derivative"
      ],
      "metadata": {
        "id": "-PQC_CiNQxhr"
      },
      "execution_count": null,
      "outputs": []
    },
    {
      "cell_type": "code",
      "source": [
        "def read_file(path,select):\n",
        "  if(select==\"csv\"):\n",
        "    df = pd.read_csv(path)\n",
        "  elif(select ==\"xlsx\"):\n",
        "    df = pd.read_excel(path)\n",
        "  else:\n",
        "    print(\"EL argumento de read file deberia ser path y selec = csv or xlxs\")\n",
        "  return df\n",
        "\n",
        "def output():\n",
        "  salida #tiene que ser un dataframe\n",
        "  return \"Done\""
      ],
      "metadata": {
        "id": "o9JYvKIpeV6M"
      },
      "execution_count": null,
      "outputs": []
    },
    {
      "cell_type": "markdown",
      "metadata": {
        "id": "8q4c8oS-hpaE"
      },
      "source": [
        "\n",
        "#1.Parte 1\n",
        "1. En un cirtcuito con un voltaje de  $\\varepsilon(t)$ y una inductancia de L, la primera ley de kirshhoff nos da la siguiente relación\n",
        "\n",
        "\n",
        "\\begin{equation}\n",
        "\\varepsilon(t) = L\\frac{\\mathrm{d}i}{\\mathrm{d}t} + Ri\n",
        "\\end{equation}\n",
        "\n",
        "donde r, es la resistencia del ciruito, i es la corriente. Suponga que medimos la corriente con varios valores de t y obtenemos:\n",
        "\n",
        "t = 1.00, 1.01, 1.02, 1.03, 1.0\n",
        "\n",
        "i = 3.10, 3.12, 3.14, 3.18, 3.24\n",
        "\n",
        "\n",
        "donde t se mide en segundos, i se de en amper, la inductancia L es una constante de 0.98 herios, la resistencia es de 0.142 ohms. Aproxime el votaje  $\\varepsilon(t)$ en los valores t=1.00, 1.01, 1.02, 1.03, 1.04 ,  para ello realice lo siguiente:\n",
        "\n",
        "\n",
        "- Construya un data frame de pandas con los valores de tiempo y corriente\n",
        "- Emplee un metodo calcular la derivada numérica.\n",
        "\n",
        "\n",
        "\n"
      ]
    },
    {
      "cell_type": "code",
      "source": [
        "url=\"https://raw.githubusercontent.com/hernansalinas/autogrades/main/Laboratorios_Taller/dataset/corrienteVstiempo\"\n",
        "datos=pd.read_csv(url)\n",
        "datos=datos.drop(\"Unnamed: 0\",axis=1)\n",
        "datos"
      ],
      "metadata": {
        "id": "eMN6td7BQu6F",
        "colab": {
          "base_uri": "https://localhost:8080/",
          "height": 411
        },
        "outputId": "f4f8055d-2b81-47a5-d903-98d3a127cac5"
      },
      "execution_count": null,
      "outputs": [
        {
          "output_type": "execute_result",
          "data": {
            "text/plain": [
              "    Corriente    tiempo\n",
              "0    0.000000   0.00000\n",
              "1    0.014533   0.10101\n",
              "2    0.028854   0.20202\n",
              "3    0.042967   0.30303\n",
              "4    0.056875   0.40404\n",
              "..        ...       ...\n",
              "95   0.751104   9.59596\n",
              "96   0.754721   9.69697\n",
              "97   0.758285   9.79798\n",
              "98   0.761798   9.89899\n",
              "99   0.765260  10.00000\n",
              "\n",
              "[100 rows x 2 columns]"
            ],
            "text/html": [
              "\n",
              "  <div id=\"df-a3935537-8fa3-4384-a5a5-77a9b49a8925\">\n",
              "    <div class=\"colab-df-container\">\n",
              "      <div>\n",
              "<style scoped>\n",
              "    .dataframe tbody tr th:only-of-type {\n",
              "        vertical-align: middle;\n",
              "    }\n",
              "\n",
              "    .dataframe tbody tr th {\n",
              "        vertical-align: top;\n",
              "    }\n",
              "\n",
              "    .dataframe thead th {\n",
              "        text-align: right;\n",
              "    }\n",
              "</style>\n",
              "<table border=\"1\" class=\"dataframe\">\n",
              "  <thead>\n",
              "    <tr style=\"text-align: right;\">\n",
              "      <th></th>\n",
              "      <th>Corriente</th>\n",
              "      <th>tiempo</th>\n",
              "    </tr>\n",
              "  </thead>\n",
              "  <tbody>\n",
              "    <tr>\n",
              "      <th>0</th>\n",
              "      <td>0.000000</td>\n",
              "      <td>0.00000</td>\n",
              "    </tr>\n",
              "    <tr>\n",
              "      <th>1</th>\n",
              "      <td>0.014533</td>\n",
              "      <td>0.10101</td>\n",
              "    </tr>\n",
              "    <tr>\n",
              "      <th>2</th>\n",
              "      <td>0.028854</td>\n",
              "      <td>0.20202</td>\n",
              "    </tr>\n",
              "    <tr>\n",
              "      <th>3</th>\n",
              "      <td>0.042967</td>\n",
              "      <td>0.30303</td>\n",
              "    </tr>\n",
              "    <tr>\n",
              "      <th>4</th>\n",
              "      <td>0.056875</td>\n",
              "      <td>0.40404</td>\n",
              "    </tr>\n",
              "    <tr>\n",
              "      <th>...</th>\n",
              "      <td>...</td>\n",
              "      <td>...</td>\n",
              "    </tr>\n",
              "    <tr>\n",
              "      <th>95</th>\n",
              "      <td>0.751104</td>\n",
              "      <td>9.59596</td>\n",
              "    </tr>\n",
              "    <tr>\n",
              "      <th>96</th>\n",
              "      <td>0.754721</td>\n",
              "      <td>9.69697</td>\n",
              "    </tr>\n",
              "    <tr>\n",
              "      <th>97</th>\n",
              "      <td>0.758285</td>\n",
              "      <td>9.79798</td>\n",
              "    </tr>\n",
              "    <tr>\n",
              "      <th>98</th>\n",
              "      <td>0.761798</td>\n",
              "      <td>9.89899</td>\n",
              "    </tr>\n",
              "    <tr>\n",
              "      <th>99</th>\n",
              "      <td>0.765260</td>\n",
              "      <td>10.00000</td>\n",
              "    </tr>\n",
              "  </tbody>\n",
              "</table>\n",
              "<p>100 rows × 2 columns</p>\n",
              "</div>\n",
              "      <button class=\"colab-df-convert\" onclick=\"convertToInteractive('df-a3935537-8fa3-4384-a5a5-77a9b49a8925')\"\n",
              "              title=\"Convert this dataframe to an interactive table.\"\n",
              "              style=\"display:none;\">\n",
              "        \n",
              "  <svg xmlns=\"http://www.w3.org/2000/svg\" height=\"24px\"viewBox=\"0 0 24 24\"\n",
              "       width=\"24px\">\n",
              "    <path d=\"M0 0h24v24H0V0z\" fill=\"none\"/>\n",
              "    <path d=\"M18.56 5.44l.94 2.06.94-2.06 2.06-.94-2.06-.94-.94-2.06-.94 2.06-2.06.94zm-11 1L8.5 8.5l.94-2.06 2.06-.94-2.06-.94L8.5 2.5l-.94 2.06-2.06.94zm10 10l.94 2.06.94-2.06 2.06-.94-2.06-.94-.94-2.06-.94 2.06-2.06.94z\"/><path d=\"M17.41 7.96l-1.37-1.37c-.4-.4-.92-.59-1.43-.59-.52 0-1.04.2-1.43.59L10.3 9.45l-7.72 7.72c-.78.78-.78 2.05 0 2.83L4 21.41c.39.39.9.59 1.41.59.51 0 1.02-.2 1.41-.59l7.78-7.78 2.81-2.81c.8-.78.8-2.07 0-2.86zM5.41 20L4 18.59l7.72-7.72 1.47 1.35L5.41 20z\"/>\n",
              "  </svg>\n",
              "      </button>\n",
              "      \n",
              "  <style>\n",
              "    .colab-df-container {\n",
              "      display:flex;\n",
              "      flex-wrap:wrap;\n",
              "      gap: 12px;\n",
              "    }\n",
              "\n",
              "    .colab-df-convert {\n",
              "      background-color: #E8F0FE;\n",
              "      border: none;\n",
              "      border-radius: 50%;\n",
              "      cursor: pointer;\n",
              "      display: none;\n",
              "      fill: #1967D2;\n",
              "      height: 32px;\n",
              "      padding: 0 0 0 0;\n",
              "      width: 32px;\n",
              "    }\n",
              "\n",
              "    .colab-df-convert:hover {\n",
              "      background-color: #E2EBFA;\n",
              "      box-shadow: 0px 1px 2px rgba(60, 64, 67, 0.3), 0px 1px 3px 1px rgba(60, 64, 67, 0.15);\n",
              "      fill: #174EA6;\n",
              "    }\n",
              "\n",
              "    [theme=dark] .colab-df-convert {\n",
              "      background-color: #3B4455;\n",
              "      fill: #D2E3FC;\n",
              "    }\n",
              "\n",
              "    [theme=dark] .colab-df-convert:hover {\n",
              "      background-color: #434B5C;\n",
              "      box-shadow: 0px 1px 3px 1px rgba(0, 0, 0, 0.15);\n",
              "      filter: drop-shadow(0px 1px 2px rgba(0, 0, 0, 0.3));\n",
              "      fill: #FFFFFF;\n",
              "    }\n",
              "  </style>\n",
              "\n",
              "      <script>\n",
              "        const buttonEl =\n",
              "          document.querySelector('#df-a3935537-8fa3-4384-a5a5-77a9b49a8925 button.colab-df-convert');\n",
              "        buttonEl.style.display =\n",
              "          google.colab.kernel.accessAllowed ? 'block' : 'none';\n",
              "\n",
              "        async function convertToInteractive(key) {\n",
              "          const element = document.querySelector('#df-a3935537-8fa3-4384-a5a5-77a9b49a8925');\n",
              "          const dataTable =\n",
              "            await google.colab.kernel.invokeFunction('convertToInteractive',\n",
              "                                                     [key], {});\n",
              "          if (!dataTable) return;\n",
              "\n",
              "          const docLinkHtml = 'Like what you see? Visit the ' +\n",
              "            '<a target=\"_blank\" href=https://colab.research.google.com/notebooks/data_table.ipynb>data table notebook</a>'\n",
              "            + ' to learn more about interactive tables.';\n",
              "          element.innerHTML = '';\n",
              "          dataTable['output_type'] = 'display_data';\n",
              "          await google.colab.output.renderOutput(dataTable, element);\n",
              "          const docLink = document.createElement('div');\n",
              "          docLink.innerHTML = docLinkHtml;\n",
              "          element.appendChild(docLink);\n",
              "        }\n",
              "      </script>\n",
              "    </div>\n",
              "  </div>\n",
              "  "
            ]
          },
          "metadata": {},
          "execution_count": 3
        }
      ]
    },
    {
      "cell_type": "code",
      "source": [
        "x= datos[\"tiempo\"]\n",
        "y= datos[\"Corriente\"]\n",
        "\n",
        "inter = interpolate.CubicSpline(x,y)\n",
        "derivada= derivative(inter,x,dx=1e-6)\n",
        "plt.figure(figsize=(8,5))\n",
        "plt.plot(x,y)\n",
        "plt.xlabel(\"tiempo(s)\")\n",
        "plt.ylabel(\"i(A)\")\n",
        "plt.plot(x,derivada)\n",
        "plt.grid()\n"
      ],
      "metadata": {
        "colab": {
          "base_uri": "https://localhost:8080/",
          "height": 521
        },
        "id": "atixznZ5UFZm",
        "outputId": "8d2b6084-14f4-4816-f616-59b73a6a6fc5"
      },
      "execution_count": null,
      "outputs": [
        {
          "output_type": "stream",
          "name": "stderr",
          "text": [
            "<ipython-input-4-7998aa48cd54>:5: DeprecationWarning: scipy.misc.derivative is deprecated in SciPy v1.10.0; and will be completely removed in SciPy v1.12.0. You may consider using findiff: https://github.com/maroba/findiff or numdifftools: https://github.com/pbrod/numdifftools\n",
            "  derivada= derivative(inter,x,dx=1e-6)\n"
          ]
        },
        {
          "output_type": "display_data",
          "data": {
            "text/plain": [
              "<Figure size 800x500 with 1 Axes>"
            ],
            "image/png": "[encoded data removed]"
          },
          "metadata": {}
        }
      ]
    },
    {
      "cell_type": "markdown",
      "metadata": {
        "id": "WV6dMBzK_odZ"
      },
      "source": [
        "\n",
        "\n",
        "\n",
        "# Parte 2\n",
        "\n",
        "1. Escribir en código Markdown la expresión para calcular una integral con la regla del trapecio.\n",
        "\n",
        "La regla del trapecio se utiliza para aproximar el valor de una integral definida. La fórmula general para calcular una integral utilizando esta regla es:\n",
        "$$\\[\n",
        "\\int_{a}^{b} f(x) \\, dx \\approx \\frac{h}{3} \\left( f(a) + 4 \\sum_{i=1}^{\\frac{n}{2}} f(x_{2i-1}) + 2 \\sum_{i=1}^{\\frac{n}{2}-1} f(x_{2i}) + f(b) \\right)\n",
        "\\]$$\n",
        "\n",
        "donde:\n",
        "- \\(a\\) y \\(b\\) son los límites inferior y superior de la integral, respectivamente.\n",
        "- \\(f(x)\\) es la función que se está integrando.\n",
        "- \\(n\\) es el número de subintervalos en los que se divide el intervalo \\([a, b]\\).\n",
        "- \\(h\\) es la longitud de cada subintervalo, calculada como \\(h = \\frac{{b - a}}{n}\\).\n",
        "- \\(x_i\\) son los puntos en los que se evalúa la función dentro de cada subintervalo, calculados como \\(x_i = a + i \\cdot h\\).\n",
        "\n",
        "\n",
        "2. Escribir en código Markdown la expresión para calcular una integral con la regla del simpson\n",
        "\n",
        "La regla del Simpson se utiliza para aproximar el valor de una integral definida. La fórmula general para calcular una integral utilizando esta regla es:\n",
        "\n",
        "$$\\int_{a}^{b} f(x) \\, dx \\approx \\frac{h}{3} \\left( f(a) + 4f\\left(a + \\frac{h}{2}\\right) + 2f\\left(a + h\\right) + 4f\\left(a + \\frac{3h}{2}\\right) + \\ldots + 2f\\left(b - h\\right) + 4f\\left(b - \\frac{h}{2}\\right) + f(b) \\right)$$\n",
        "\n",
        "donde:\n",
        "- \\(a\\) y \\(b\\) son los límites inferior y superior de la integral, respectivamente.\n",
        "- \\(f(x)\\) es la función que se está integrando.\n",
        "- \\(n\\) es el número de subintervalos en los que se divide el intervalo \\([a, b]\\). Es importante que \\(n\\) sea un número par.\n",
        "- \\(h\\) es la longitud de cada subintervalo, calculada como \\(h = \\frac{{b - a}}{n}\\).\n",
        "- \\(x_i\\) son los puntos en los que se evalúa la función dentro de cada subintervalo, calculados como \\(x_i = a + i \\cdot h\\).\n",
        "\n",
        "\n",
        "3. Escribir en código Markdown la expresión para calcular una integral con el metodo de cuadratura.\n",
        "La integral se puede aproximar utilizando el método de cuadratura. La fórmula general es:\n",
        "\n",
        "![Fórmula de cuadratura](https://latex.codecogs.com/png.latex?%5Cint_a%5Eb%20f%28x%29%20%5C%2C%20dx%20%5Capprox%20%5Csum_%7Bi%3D1%7D%5En%20w_i%20%5Ccdot%20f%28x_i%29)\n",
        "\n",
        "Donde:\n",
        "- `a` y `b` son los límites de integración.\n",
        "- `n` es el número de puntos de cuadratura.\n",
        "- `x_i` son los puntos de cuadratura.\n",
        "- `w_i` son los pesos correspondientes a cada punto de cuadratura.\n",
        "- `f(x)` es la función que se desea integrar.\n",
        "\n",
        "Para calcular la aproximación de la integral, se utiliza la siguiente fórmula:\n",
        "\n",
        "![Fórmula de aproximación](https://latex.codecogs.com/png.latex?%5Cint_a%5Eb%20f%28x%29%20%5C%2C%20dx%20%5Capprox%20%5Csum_%7Bi%3D1%7D%5En%20w_i%20%5Ccdot%20f%28x_i%29)\n",
        "\n",
        "Donde se evalúa la función `f(x)` en cada punto de cuadratura `x_i`, se multiplica por el peso correspondiente `w_i` y se suman todos los términos.\n",
        "\n",
        "Es importante elegir adecuadamente los puntos de cuadratura y los pesos para obtener una buena aproximación de la integral.\n",
        "\n",
        "\n",
        "4. Calcular una aproximación con el metodo 1,2,3 de las siguientes integrales\n",
        "\n",
        "<!--\n",
        " $$\n",
        " \\int_0^\\pi e^{1-\\sqrt{x}}\\, dx\n",
        " $$  -->\n",
        "\n",
        "\n",
        "- $$\n",
        " \\int_0^{\\pi/2} \\frac{1}{\\sqrt{\\tan x}}\\, dx\n",
        " $$\n",
        "\n",
        "-\n",
        "$$\n",
        " \\int_{-\\infty}^{\\infty} \\frac{1}{1+x^2} \\, dx\n",
        " $$\n",
        "\n",
        "\n",
        "-\n",
        "\n",
        "$$\n",
        " \\int_{0}^{\\pi/4} \\int_{\\sin x}^{\\cos x} (2y\\sin x +\\cos^2 x)\\, dxdy\n",
        " $$\n",
        "\n",
        "<!--\n",
        "-\n",
        "$$\n",
        " \\int_{-\\infty}^{\\infty} \\frac{1}{1+x^2} \\, dx\n",
        " $$ -->\n",
        "\n",
        "<!--\n",
        "-\n",
        "$$\n",
        " \\int_{e}^{2e} \\frac{1}{\\ln x} \\, dx\n",
        " $$ -->\n",
        "\n",
        "\n",
        "garantizando  que el error sea menor a $\\varepsilon=1E-5$."
      ]
    },
    {
      "cell_type": "code",
      "source": [
        "import numpy as np\n",
        "from scipy.integrate import trapz   #trapecio\n",
        "from scipy.integrate import simpson #simspson\n",
        "from scipy.integrate import quad    # cuadratura\n",
        "import sympy as sp\n",
        "from scipy import optimize"
      ],
      "metadata": {
        "id": "x7pyIA4URJBM"
      },
      "execution_count": null,
      "outputs": []
    },
    {
      "cell_type": "markdown",
      "source": [
        " $$\n",
        " \\int_0^{\\pi/2} \\frac{1}{\\sqrt{\\tan x}}\\, dx\n",
        " $$"
      ],
      "metadata": {
        "id": "oWVV-GdkS0f3"
      }
    },
    {
      "cell_type": "code",
      "source": [
        "#definimos la funcion\n",
        "\n",
        "def f1(x):\n",
        "  f = 1/(np.sqrt(np.tan(x)))\n",
        "  return f\n",
        "\n",
        "#Definimos el rango de integracion\n",
        "a=0\n",
        "b=np.pi/2\n",
        "eps= 1E-5\n",
        "N=10000\n",
        "h= (b-a)/N\n",
        "x = np.linspace(a+eps,b-eps,N+1)"
      ],
      "metadata": {
        "id": "RAJFDhQRTN3B"
      },
      "execution_count": null,
      "outputs": []
    },
    {
      "cell_type": "code",
      "source": [
        "# metodo del trapecio\n",
        "\n",
        "trapeciof1= trapz(f1(x),x,dx=h)\n",
        "print(\"integral metodo de trapecio:\",trapeciof1)\n",
        "\n",
        "# metodo del simspson\n",
        "\n",
        "simspsonf1= simpson(f1(x),x,dx=h)\n",
        "print(\"integral metodo de trapecio:\",simspsonf1)\n",
        "\n",
        "#metodo de cuadratura\n",
        "\n",
        "cuadratura1= quad(f1,a,b)\n",
        "print(\"integral metodo de cuadratura:\",cuadratura1)"
      ],
      "metadata": {
        "colab": {
          "base_uri": "https://localhost:8080/"
        },
        "id": "aZsmEKPaUzQw",
        "outputId": "2282c9d5-3501-4d50-d45c-e84505275afd"
      },
      "execution_count": null,
      "outputs": [
        {
          "output_type": "stream",
          "name": "stdout",
          "text": [
            "integral metodo de trapecio: 2.2269569328037484\n",
            "integral metodo de trapecio: 2.2211089313955834\n",
            "integral metodo de cuadratura: (2.2214414690792026, 4.1406478246130973e-10)\n"
          ]
        }
      ]
    },
    {
      "cell_type": "code",
      "source": [
        "from scipy import integrate\n",
        "import numpy as np\n",
        "import matplotlib.pylab as plt\n",
        "f = lambda x : 1/(np.tan(x)**0.5)\n",
        "\n",
        "\n",
        "@np.vectorize\n",
        "def integral_trap(N, epsilon):\n",
        "  x = np.linspace(0+epsilon, np.pi/2-epsilon, N)\n",
        "  area = integrate.trapz(f(x), x)\n",
        "  return area\n",
        "\n",
        "ep=np.linspace(1E-6, 1E-3, 100)\n",
        "t1=integral_trap(100, ep)\n",
        "t2=integral_trap(500, ep)\n",
        "plt.figure(figsize=(5, 5))\n",
        "plt.plot(ep, t1, label=\"N=100\")\n",
        "plt.plot(ep, t2, label=\"N=500\")\n",
        "plt.xlabel(\"epsilon\")\n",
        "plt.ylabel(\"Convergencia\")\n",
        "plt.legend()"
      ],
      "metadata": {
        "colab": {
          "base_uri": "https://localhost:8080/",
          "height": 481
        },
        "id": "yq_IjspYgpMm",
        "outputId": "be7b132e-caba-474a-fb4a-9769582b43ce"
      },
      "execution_count": null,
      "outputs": [
        {
          "output_type": "execute_result",
          "data": {
            "text/plain": [
              "<matplotlib.legend.Legend at 0x7f99b40cccd0>"
            ]
          },
          "metadata": {},
          "execution_count": 8
        },
        {
          "output_type": "display_data",
          "data": {
            "text/plain": [
              "<Figure size 500x500 with 1 Axes>"
            ],
            "image/png": "[encoded data removed]"
          },
          "metadata": {}
        }
      ]
    },
    {
      "cell_type": "markdown",
      "source": [
        "calculo error"
      ],
      "metadata": {
        "id": "bZGqO57XfMnY"
      }
    },
    {
      "cell_type": "code",
      "source": [
        "#definimos la funcion en sympy\n",
        "\n",
        "\n",
        "def f1_(x):\n",
        "  f = 1/(sp.sqrt(sp.tan(x)))\n",
        "  return f\n",
        "\n",
        "x = sp.symbols(\"x\")\n",
        "f1_p=sp.diff(f1_(x),x,1)\n",
        "f1_p"
      ],
      "metadata": {
        "colab": {
          "base_uri": "https://localhost:8080/",
          "height": 65
        },
        "id": "BygjS0-cfKoD",
        "outputId": "557148c3-5369-48b1-cc44-74d6bce5b1a3"
      },
      "execution_count": null,
      "outputs": [
        {
          "output_type": "execute_result",
          "data": {
            "text/plain": [
              "(-tan(x)**2/2 - 1/2)/tan(x)**(3/2)"
            ],
            "text/latex": "$\\displaystyle \\frac{- \\frac{\\tan^{2}{\\left(x \\right)}}{2} - \\frac{1}{2}}{\\tan^{\\frac{3}{2}}{\\left(x \\right)}}$"
          },
          "metadata": {},
          "execution_count": 9
        }
      ]
    },
    {
      "cell_type": "code",
      "source": [
        "f1_p2= sp.diff(f1_(x),x,2)\n",
        "f1_p2"
      ],
      "metadata": {
        "colab": {
          "base_uri": "https://localhost:8080/",
          "height": 82
        },
        "id": "5kERIjlGf9lX",
        "outputId": "cf7888cf-5492-413d-d375-322aa10a0112"
      },
      "execution_count": null,
      "outputs": [
        {
          "output_type": "execute_result",
          "data": {
            "text/plain": [
              "(3*(tan(x)**2 + 1)/(4*tan(x)**2) - 1)*(tan(x)**2 + 1)/sqrt(tan(x))"
            ],
            "text/latex": "$\\displaystyle \\frac{\\left(\\frac{3 \\left(\\tan^{2}{\\left(x \\right)} + 1\\right)}{4 \\tan^{2}{\\left(x \\right)}} - 1\\right) \\left(\\tan^{2}{\\left(x \\right)} + 1\\right)}{\\sqrt{\\tan{\\left(x \\right)}}}$"
          },
          "metadata": {},
          "execution_count": 10
        }
      ]
    },
    {
      "cell_type": "code",
      "source": [
        "f1_p =sp.lambdify(x,f1_p ,\"numpy\")\n",
        "f1_p2=sp.lambdify(x,f1_p2,\"numpy\")"
      ],
      "metadata": {
        "id": "0FVElOiJgbxG"
      },
      "execution_count": null,
      "outputs": []
    },
    {
      "cell_type": "code",
      "source": [
        "#puntos\n",
        "f1= lambda x: 1/(np.sqrt(np.tan(x)))\n",
        "a=0\n",
        "b=np.pi/2\n",
        "N=1000000\n",
        "eps=1E-5\n",
        "x=np.linspace(a+eps,b-eps,N+1)\n",
        "h=(b-a)/N"
      ],
      "metadata": {
        "id": "NN5OqZ0hhSFI"
      },
      "execution_count": null,
      "outputs": []
    },
    {
      "cell_type": "code",
      "source": [
        "import sympy as sp\n",
        "\n",
        "f_s= lambda x: 1/(1+x**2)\n",
        "\n",
        "x=sp.symbols('x')\n",
        "#primera derivada:\n",
        "d1=sp.diff(f_s(x),x,1)\n",
        "d1\n",
        "#Segunda derivada:\n",
        "d2=sp.diff(f_s(x),x,2)\n",
        "d2\n",
        "f_n1=sp.lambdify(x,d1,'numpy')\n",
        "f_n2=sp.lambdify(x,-d2,'numpy')\n",
        "x_=np.linspace(-1,1)\n",
        "plt.plot(x_,f_n2(x_))\n",
        "max=np.max(f_n2(x_))\n",
        "plt.grid()"
      ],
      "metadata": {
        "colab": {
          "base_uri": "https://localhost:8080/",
          "height": 429
        },
        "id": "KdnOZBfxol9m",
        "outputId": "f97371b9-d8be-460d-f82f-8a6a083eec31"
      },
      "execution_count": null,
      "outputs": [
        {
          "output_type": "display_data",
          "data": {
            "text/plain": [
              "<Figure size 640x480 with 1 Axes>"
            ],
            "image/png": "[encoded data removed]"
          },
          "metadata": {}
        }
      ]
    },
    {
      "cell_type": "code",
      "source": [
        "max=np.max(f_n2(x_))\n",
        "max"
      ],
      "metadata": {
        "colab": {
          "base_uri": "https://localhost:8080/"
        },
        "id": "6BasqFIqpoph",
        "outputId": "19837d12-4695-4a1d-b88e-b2eac834ade9"
      },
      "execution_count": null,
      "outputs": [
        {
          "output_type": "execute_result",
          "data": {
            "text/plain": [
              "1.9950072824182459"
            ]
          },
          "metadata": {},
          "execution_count": 14
        }
      ]
    },
    {
      "cell_type": "code",
      "source": [],
      "metadata": {
        "id": "jAWQ18pMpoiq"
      },
      "execution_count": null,
      "outputs": []
    },
    {
      "cell_type": "markdown",
      "source": [
        "\n",
        "$$\n",
        " \\int_{-\\infty}^{\\infty} \\frac{1}{1+x^2} \\, dx\n",
        " $$\n"
      ],
      "metadata": {
        "id": "WtEmva2PS0ZQ"
      }
    },
    {
      "cell_type": "code",
      "source": [
        "#definimos la funcion\n",
        "\n",
        "def f2(x):\n",
        "  f = 1/(1 + x**2)\n",
        "  return f\n",
        "\n",
        "a=-np.inf\n",
        "b=np.inf\n",
        "x = np.linspace(-300+eps,300-eps,10000)\n",
        "plt.figure(figsize=(30,8))\n",
        "plt.plot(x,f2(x))"
      ],
      "metadata": {
        "colab": {
          "base_uri": "https://localhost:8080/",
          "height": 469
        },
        "id": "CdDqH4ZNaWso",
        "outputId": "a618517e-ebb7-40f3-f3ee-d5d01b9ff1c2"
      },
      "execution_count": null,
      "outputs": [
        {
          "output_type": "execute_result",
          "data": {
            "text/plain": [
              "[<matplotlib.lines.Line2D at 0x7f99b34ca2c0>]"
            ]
          },
          "metadata": {},
          "execution_count": 15
        },
        {
          "output_type": "display_data",
          "data": {
            "text/plain": [
              "<Figure size 3000x800 with 1 Axes>"
            ],
            "image/png": "[encoded data removed]"
          },
          "metadata": {}
        }
      ]
    },
    {
      "cell_type": "code",
      "source": [
        "\n",
        "#Definimos el rango de integracion\n",
        "a=-300\n",
        "b=300\n",
        "eps= 1E-5\n",
        "N=10000\n",
        "h= (b-a)/N\n"
      ],
      "metadata": {
        "id": "LDfARf1PcFA_"
      },
      "execution_count": null,
      "outputs": []
    },
    {
      "cell_type": "code",
      "source": [
        "# metodo del trapecio\n",
        "\n",
        "trapeciof2= trapz(f2(x),x,dx=h)\n",
        "print(\"integral metodo de trapecio:\",trapeciof1)\n",
        "# metodo del simspson\n",
        "\n",
        "simspsonf2= simpson(f2(x),x,dx=h)\n",
        "print(\"integral metodo de trapecio:\",simspsonf1)\n",
        "\n"
      ],
      "metadata": {
        "colab": {
          "base_uri": "https://localhost:8080/"
        },
        "id": "SP3L_UtXbQwB",
        "outputId": "d3dbacbc-f902-4c79-9a94-e0472f3fa422"
      },
      "execution_count": null,
      "outputs": [
        {
          "output_type": "stream",
          "name": "stdout",
          "text": [
            "integral metodo de trapecio: 2.2269569328037484\n",
            "integral metodo de trapecio: 2.2211089313955834\n"
          ]
        }
      ]
    },
    {
      "cell_type": "code",
      "source": [
        "#metodo de cuadratura\n",
        "a=-np.inf\n",
        "b=np.inf\n",
        "\n",
        "cuadratura2= quad(f2,a,b)\n",
        "print(\"integral metodo de cuadratura:\",cuadratura1)"
      ],
      "metadata": {
        "colab": {
          "base_uri": "https://localhost:8080/"
        },
        "id": "8xdNsF07ekbK",
        "outputId": "be015407-f6b1-42d7-b096-08bbb897d93c"
      },
      "execution_count": null,
      "outputs": [
        {
          "output_type": "stream",
          "name": "stdout",
          "text": [
            "integral metodo de cuadratura: (2.2214414690792026, 4.1406478246130973e-10)\n"
          ]
        }
      ]
    },
    {
      "cell_type": "code",
      "source": [
        "f= lambda x: 1/(1+x**2)\n",
        "a=np.linspace(20,1000,10)\n",
        "area=[]\n",
        "for a_ in a:\n",
        "  x=np.linspace(-a_,a_,10000)\n",
        "  area.append(trapz(f(x),x))\n",
        "\n",
        "plt.plot(a,np.array(area))\n",
        "plt.grid()"
      ],
      "metadata": {
        "colab": {
          "base_uri": "https://localhost:8080/",
          "height": 429
        },
        "id": "Nkyb5ufqhVuD",
        "outputId": "e2e02d5f-4752-499b-fd74-b3d6759e4450"
      },
      "execution_count": null,
      "outputs": [
        {
          "output_type": "display_data",
          "data": {
            "text/plain": [
              "<Figure size 640x480 with 1 Axes>"
            ],
            "image/png": "[encoded data removed]"
          },
          "metadata": {}
        }
      ]
    },
    {
      "cell_type": "code",
      "source": [],
      "metadata": {
        "id": "WEqrQOmXdg01"
      },
      "execution_count": null,
      "outputs": []
    },
    {
      "cell_type": "markdown",
      "source": [
        "$$\n",
        " \\int_{0}^{\\pi/4} \\int_{\\sin x}^{\\cos x} (2y\\sin x +\\cos^2 x)\\, dxdy\n",
        " $$"
      ],
      "metadata": {
        "id": "NkyVvu6aS0Rs"
      }
    },
    {
      "cell_type": "code",
      "source": [
        "N=100\n",
        "a=0\n",
        "b=np.pi/4\n",
        "h=(b-a)/N\n",
        "\n",
        "x=np.linspace(a,b,N+1)\n",
        "integral=[]\n",
        "int_=[]\n",
        "\n",
        "for i in x:\n",
        "  x_=np.linspace(np.sin(i),np.cos(i),100)\n",
        "  g= lambda y: 2*y*np.sin(x_)+(np.cos(x_))**2\n",
        "  integral.append(trapz(g(x_),x_))\n",
        "\n",
        "sum(integral)\n"
      ],
      "metadata": {
        "id": "F-fbpgBBs5Pt",
        "outputId": "86b10f25-6bd4-4cf3-af23-381139de240c",
        "colab": {
          "base_uri": "https://localhost:8080/"
        }
      },
      "execution_count": null,
      "outputs": [
        {
          "output_type": "execute_result",
          "data": {
            "text/plain": [
              "74.92158155194272"
            ]
          },
          "metadata": {},
          "execution_count": 20
        }
      ]
    },
    {
      "cell_type": "code",
      "source": [
        "integral_t = np.zeros_like(x)\n",
        "integral_s = np.zeros_like(x)\n",
        "for i in range(len(x)):\n",
        "  y = np.linspace(np.sin(x[i]), np.cos(x[i]), N)\n",
        "  integral_t[i] = trapz(g(y), y)\n",
        "  integral_s[i] = simpson(g(y), y)\n",
        "\n",
        "# Integramos la función resultante en x\n",
        "integralt = trapz(integral_t, x)\n",
        "integrals = simpson(integral_s, x)\n",
        "\n",
        "print(\"Método trapecio:\", integralt)\n",
        "print(\"Método simpson:\", integrals)"
      ],
      "metadata": {
        "colab": {
          "base_uri": "https://localhost:8080/"
        },
        "id": "3anFef3jI227",
        "outputId": "e5e05852-03ff-47d4-becb-2cd89b464904"
      },
      "execution_count": null,
      "outputs": [
        {
          "output_type": "stream",
          "name": "stdout",
          "text": [
            "Método trapecio: 0.5642143379192474\n",
            "Método simpson: 0.564222247510699\n"
          ]
        }
      ]
    },
    {
      "cell_type": "code",
      "source": [
        "def f3(y, x):\n",
        "  return (2*y*np.sin(x) + np.cos(2*x)**2)\n",
        "\n",
        "def int_q(x):\n",
        "  return quad(f3, np.sin(x), np.cos(x), args=(x))[0]\n",
        "\n",
        "integralq, error= quad(int_q, a, b)\n",
        "\n",
        "print('Método cuadratura:',integralq, 'y su error de:', error)"
      ],
      "metadata": {
        "colab": {
          "base_uri": "https://localhost:8080/"
        },
        "id": "z1uSys8rJDBO",
        "outputId": "329d79c7-442e-46b8-d83c-5a6313af5d24"
      },
      "execution_count": null,
      "outputs": [
        {
          "output_type": "stream",
          "name": "stdout",
          "text": [
            "Método cuadratura: 0.4256517540566823 y su error de: 4.725683778258131e-15\n"
          ]
        }
      ]
    },
    {
      "cell_type": "markdown",
      "metadata": {
        "id": "6hJGsmCkF6Wv"
      },
      "source": [
        "5. The next  problems are examples of how elliptic integrals enter into realistic physics problems. It is straightforward to evaluate any integral numerically using the techniques of this chapter, but it may be difficult for you to  know if the answers you obtain are correct. One way to hone your integral\u0002evaluating skills is to compare your answers from quadrature to power series\n",
        "expressions, or to a polynomial approximations of know precision. To help you in this regard, we present here a polynomial approximation for an elliptic integral (Abramowitz and Stegun, 1972):\n",
        "\n",
        "\\begin{equation}\n",
        "K(m)=\\int_{0}^{\\pi/2} \\frac{\\mathrm{d\\phi}}{\\sqrt{1-m\\sin^2\\phi}}\n",
        "\\end{equation}\n",
        "\n",
        "\\begin{equation}\n",
        "\\approx a_0+a_1m_1+a_2m_2 - [ b_0+b_1m_1+b_2m_1^2]\\ln m_1 + \\epsilon(m)\n",
        "\\end{equation}\n",
        "\n",
        "\n",
        "\n",
        "$m_1 = 1-m$,\n",
        "\n",
        "$ 0 \\le m \\le1 $\n",
        "\n",
        "$\\epsilon(m)\\leq 3\\times 10^{-5}$\n",
        "\n",
        "\n",
        "\n",
        "$a_0 = 1.3862944$\n",
        "\n",
        "$b_0 = 0.5$\n",
        "\n",
        "$a_1 = 0.1119723$\n",
        "\n",
        "$b_1 = 0.1213478$\n",
        "\n",
        "$a_2 = 0.00725296$\n",
        "\n",
        "$b_2 = 0.0288729$\n",
        "\n",
        "\n",
        "\n",
        "<!-- 7. Suppose a body of mass m is traveling vertically upward starting at the surface of the earth. If all\n",
        "resistance except gravity is neglected, the escape velocity v is given by\n",
        "\n",
        "$$\n",
        "v^2=2gR\\int_1 ^\\infty z^{-2} dz,\n",
        "$$\n",
        "\n",
        "where z=x/R, R is the earth radius and g de gravity aceleration. Approximate the scape velocity -->"
      ]
    },
    {
      "cell_type": "code",
      "source": [
        "k = lambda x, m: 1/np.sqrt(1 - m*np.sin(x)**2)\n",
        "\n",
        "a = 0\n",
        "b = np.pi/2\n",
        "eps = 3e-5\n",
        "\n",
        "def eliptica(m):\n",
        "  m1 = 1 - m\n",
        "  a0,b0 = 1.3862944, 0.5\n",
        "  a1,b1 = 0.1119723, 0.1213478\n",
        "  a2,b2 = 0.00725296, 0.0288729\n",
        "  i= lambda x: k(x, m)\n",
        "  integral, error = quad(i, a, b)\n",
        "  polin = a0 + a1*m1 + a2*m1- (b0 + b1*m1 + b2*m1**2)*np.log(m1)+error\n",
        "  if error <= eps and 0<= m <= 1:\n",
        "    print('El valor de integral', integral, 'y el valor d polinomial es de:', polin)\n",
        "    print('La diferencia entre la aproximación y el resultado de la integral es de:', np.abs(polin-integral))\n",
        "    print('El ϵ(m) es de:', error)\n",
        "  else:\n",
        "    print('Error, ingrese un número entre el intervalo dado')\n",
        "\n",
        "m=float(input('Ingrese un número entre 0 y 1: '))\n",
        "eliptica(m)"
      ],
      "metadata": {
        "colab": {
          "base_uri": "https://localhost:8080/"
        },
        "id": "gQ_8N8u9JPla",
        "outputId": "9dddc4d9-8b6f-40cd-81d4-fc9325d73284"
      },
      "execution_count": null,
      "outputs": [
        {
          "output_type": "stream",
          "name": "stdout",
          "text": [
            "Ingrese un número entre 0 y 1: 0\n",
            "El valor de integral 1.5707963267948966 y el valor d polinomial es de: 1.5055196600000174\n",
            "La diferencia entre la aproximación y el resultado de la integral es de: 0.0652766667948792\n",
            "El ϵ(m) es de: 1.743934249004316e-14\n"
          ]
        }
      ]
    },
    {
      "cell_type": "markdown",
      "source": [
        "6. Figure 5.7 shows a current loop of radius a carrying a current I. The point P\n",
        "is a distance r from the center of the loop with spherical coordinates (r, θ, φ).\n",
        "Jackson (1988) solves for the φ component of the vector potential at point P\n",
        "in terms of elliptic integrals:\n",
        "\n",
        "\\begin{equation}\n",
        "A_{\\phi}(r, \\theta)=\\frac{\\mu_0}{4\\pi}\\frac{4Ia}{\\sqrt{a^2+r^2+2ar\\sin \\theta}}\\left(\\frac{(2-k^2)K(k)-2E(k)}{k^2} \\right)\n",
        "\\end{equation}\n",
        "\n",
        "\n",
        "where\n",
        "\n",
        "\\begin{equation}\n",
        "K(k)=\\int_{0}^{\\pi/2} \\frac{\\mathrm{d\\phi}}{\\sqrt{1-k^2\\sin^2\\phi}}\n",
        "\\end{equation}\n",
        "\n",
        "\n",
        "\\begin{equation}\n",
        "E(k)=\\int_{0}^{\\pi/2} \\mathrm{d\\phi} \\sqrt{1-k^2\\sin^2\\phi}\n",
        "\\end{equation}\n",
        "\n",
        "\n",
        "\\begin{equation}\n",
        "k^2=\\frac{4ar\\sin\\theta}{a^2+r^2+2ar\\sin\\theta}\n",
        "\\end{equation}\n",
        "\n",
        "\n",
        "\n",
        "Here K(k) is a complete elliptic integral of the first kind and E(k) is a complete\n",
        "elliptic integral of the second kind. For a = 1, I = 3, and μ0∕4π = 1, compute\n",
        "and plot\n",
        "\n",
        "a) Aφ(r = 1.1, θ) vs. θ\n",
        "\n",
        "b) Aφ(r, θ = π∕3) vs. r\n",
        "\n"
      ],
      "metadata": {
        "id": "I-CYsg1BJOWk"
      }
    },
    {
      "cell_type": "code",
      "source": [
        "import numpy as np\n",
        "import matplotlib.pyplot as plt\n",
        "from scipy.integrate import quad\n",
        "\n",
        "# Parámetros\n",
        "a = 1.0\n",
        "I = 3.0\n",
        "mu_0 = 1\n",
        "\n",
        "# Funciones de integración\n",
        "def K(phi, k):\n",
        "  return 1 / np.sqrt(1 - k * np.sin(phi)**2)\n",
        "\n",
        "def E(phi, k):\n",
        "  return np.sqrt(1 - k * np.sin(phi)**2)\n",
        "\n",
        "# Función para calcular Aϕ(r, θ)\n",
        "def A(r, theta):\n",
        "  k = (4 * a * r * np.sin(theta)) / (a**2 + r**2 + 2 * a * r * np.sin(theta))\n",
        "\n",
        "  # Cálculo de la integral K(k)\n",
        "  k_i, error_k = quad(K, 0, np.pi/2, args=(k,))\n",
        "\n",
        "  # Cálculo de la integral E(k)\n",
        "  e_i, error_e = quad(E, 0, np.pi/2, args=(k,))\n",
        "\n",
        "  A_phi = (mu_0*4*I * a) / (np.sqrt((a**2 + r**2 + 2*a*r*np.sin(theta))))*((2 - k) * k_i - 2 * e_i)/k\n",
        "  return A_phi"
      ],
      "metadata": {
        "id": "SI2HWLWjJN6W"
      },
      "execution_count": null,
      "outputs": []
    },
    {
      "cell_type": "code",
      "source": [
        "# a) Aϕ(r = 1.1, θ) vs. θ\n",
        "r_value = 1.1\n",
        "theta_values = np.linspace(0, np.pi, 100)\n",
        "A_phi_values = [A(r_value, theta) for theta in theta_values]\n",
        "\n",
        "plt.plot(theta_values, A_phi_values)\n",
        "plt.xlabel('θ')\n",
        "plt.ylabel('Aϕ')\n",
        "plt.title('Aϕ(r = 1.1, θ) vs. θ')\n",
        "plt.grid()\n",
        "plt.show()"
      ],
      "metadata": {
        "colab": {
          "base_uri": "https://localhost:8080/",
          "height": 504
        },
        "id": "3Nwdhh-5JaFD",
        "outputId": "b1c459e4-265b-43fd-cb65-fb2911124d4c"
      },
      "execution_count": null,
      "outputs": [
        {
          "output_type": "stream",
          "name": "stderr",
          "text": [
            "<ipython-input-24-3b7209a16f5b>:27: RuntimeWarning: invalid value encountered in double_scalars\n",
            "  A_phi = (mu_0*4*I * a) / (np.sqrt((a**2 + r**2 + 2*a*r*np.sin(theta))))*((2 - k) * k_i - 2 * e_i)/k\n"
          ]
        },
        {
          "output_type": "display_data",
          "data": {
            "text/plain": [
              "<Figure size 640x480 with 1 Axes>"
            ],
            "image/png": "[encoded data removed]"
          },
          "metadata": {}
        }
      ]
    },
    {
      "cell_type": "code",
      "source": [
        "#b) Aϕ(r, θ = π/3) vs. r\n",
        "theta_value = np.pi / 3\n",
        "r_values = np.linspace(0, 10, 100)\n",
        "A_phi_values = [A(r, theta_value) for r in r_values]\n",
        "\n",
        "plt.plot(r_values, A_phi_values)\n",
        "plt.xlabel('r')\n",
        "plt.ylabel('Aϕ')\n",
        "plt.title('Aϕ(r, θ = π/3) vs. r')\n",
        "plt.grid()\n",
        "plt.show()"
      ],
      "metadata": {
        "colab": {
          "base_uri": "https://localhost:8080/",
          "height": 504
        },
        "id": "Hes6MlsKJezp",
        "outputId": "e39d3d5f-75f9-494b-8bbf-1fad3b5744ad"
      },
      "execution_count": null,
      "outputs": [
        {
          "output_type": "stream",
          "name": "stderr",
          "text": [
            "<ipython-input-24-3b7209a16f5b>:27: RuntimeWarning: invalid value encountered in double_scalars\n",
            "  A_phi = (mu_0*4*I * a) / (np.sqrt((a**2 + r**2 + 2*a*r*np.sin(theta))))*((2 - k) * k_i - 2 * e_i)/k\n"
          ]
        },
        {
          "output_type": "display_data",
          "data": {
            "text/plain": [
              "<Figure size 640x480 with 1 Axes>"
            ],
            "image/png": "[encoded data removed]"
          },
          "metadata": {}
        }
      ]
    }
  ]
}