{
  "cells": [
    {
      "cell_type": "markdown",
      "id": "3a6dc6a1",
      "metadata": {
        "id": "3a6dc6a1"
      },
      "source": [
        "<a href=\"https://colab.research.google.com/github/hernansalinas/autogrades/blob/main/Actividades_clase/Actividad_05_ZerosFunciones.ipynb\" target=\"_parent\"><img src=\"https://colab.research.google.com/assets/colab-badge.svg\" alt=\"Open In Colab\"/></a>\n",
        "\n",
        "\n",
        "\n",
        "# Actividad 5\n",
        "### Métodos computacionales para físicos  y astrónomos\n",
        "### Universidad de Antioquia\n",
        "### Prof: Hernan D. Salinas Jiménez\n",
        "Ref: https://github.com/restrepo/ComputationalMethods"
      ]
    },
    {
      "cell_type": "markdown",
      "id": "8e59c672",
      "metadata": {
        "id": "8e59c672"
      },
      "source": [
        "\n",
        "In an IPython notebook, use the scipy implementation and find the first solution to the equation, write a function with the bisection methods.\n",
        "\n",
        "What is the solution if a=1, and b=1, what is the solution if a=2 and b=2\n",
        "  \n",
        "**1.** $ 7 = a\\sqrt{x^2+1}+be^x\\sin x $\n",
        "   \n",
        "\n"
      ]
    },
    {
      "cell_type": "markdown",
      "id": "ee7acda4",
      "metadata": {
        "id": "ee7acda4"
      },
      "source": [
        "  \n",
        " **2.** $a e^{x}-2= b\\cos(e^x-2)$"
      ]
    },
    {
      "cell_type": "markdown",
      "id": "a232ecdd",
      "metadata": {
        "id": "a232ecdd"
      },
      "source": [
        "**3.** Fixed point methods. \n",
        "\n",
        "When a new planet is discovered, there are different methods to estimate its physical properties. Many times is only possible to estimate either the planet mass or the planet radius and the other property has to be predicted through computer modelling.\n",
        "\n",
        "If one has the planet mass, a very rough way to estimate its radius is to assume certain composition (mean density) and a homogeneous distribution (a very bad assumption!). For example, for the planet [Gliese 832c](http://es.wikipedia.org/wiki/Gliese_832_c) with a mass $M= 5.40 M_{\\oplus}$, if we assume an earth-like composition, i.e. $\\bar \\rho_{\\oplus} = 5520\\ kg/m^3$, we obtain:\n",
        "\n",
        "$$R_{g832c} = \\left( \\frac{3 M_{g832c}}{ 4 \\pi \\bar\\rho_{\\oplus} } \\right)^{1/3} \\approx 1.75 R_{\\oplus}$$\n",
        "\n",
        "That would be the planet radius if the composition where exactly equal to earth's.\n",
        "\n",
        "A more realistic approach is assuming an internal one-layer density profile like:\n",
        "\n",
        "$$\\rho(r) = \\rho_0 \\exp\\left( -\\frac{r}{L} \\right)$$\n",
        "\n",
        "where $\\rho_0$ is the density at planet centre and $L$ is a characteristic lenght depending on the composition. From numerical models of planet interiors, the estimated parameters for a planet of are $M= 5.40 M_{\\oplus}$ are approximately $\\rho_0 = 18000\\ kg/m^3$ and $L = 6500\\ km$.\n",
        "\n",
        "Integrating over the planet volume, we obtain the total mass as\n",
        "\n",
        "$$M = 4\\pi \\int_0^R \\rho(r)r^2dr$$\n",
        "\n",
        "This is a function of the mass in terms of the planet radius. \n",
        "\n",
        "Solving the equation $M(R) = M_{g832c}$ it would be possible to find a more realistic planet radius. However when using numerical models, it is not possible to approach the solution from the left side as a negative mass makes no sense."
      ]
    },
    {
      "cell_type": "markdown",
      "id": "d6060db6",
      "metadata": {
        "id": "d6060db6"
      },
      "source": [
        "**4.** ACTIVITY\n",
        "    \n",
        "In an IPython notebook and based on the routine NewtonRaphson, write your own routine SecantMethod that performs the previous steps for the Secant Method. Test your code with the function $f(x)$:\n",
        "    \n",
        "$f(x) = x - \\cos(x)$\n",
        "</font>"
      ]
    },
    {
      "cell_type": "markdown",
      "id": "08b04566",
      "metadata": {
        "id": "08b04566"
      },
      "source": [
        "**5.** ACTIVITY \n",
        "**(no se realiza)**\n",
        "\n",
        "It is known that light rays are deflected when they pass near by a gravitational field and that this deviation is proportional to the body mass which the light is interacting with and inversely proportional to the passing distance. \n",
        "Since it is common finding very massive structures in the universe and the measures that are done to study it involve photons, it makes sense to study what happens to a light source image when the rays get close to a grumpy object like a dark matter halo.  \n",
        "\n",
        "\n",
        "In order to study the light deflection in these cases, it will be used the simplest model, gravitational lens theory, where the len is a very massive object. A sketch of a typical system is shown in the figure below. The source plane is the light source or image that is going to be affected,  $\\eta$ is the distance from a image point to the line of sight and $\\beta$ the subtended angle by the point. \n",
        "The lens plane corresponds to the mass that affects the light coming from the source, $\\xi$ is the new image point distance to the line of sight, $\\theta$ is the subtended angle by the new point position. Then, $\\alpha$ is the deflection angle. \n",
        "\n",
        "Since from observations $\\theta$ is known, the problem to be solved per pixel usually is \n",
        "\n",
        "\\begin{equation}\n",
        "\\beta = \\theta - \\hat{\\alpha}(\\theta) \n",
        "\\end{equation}\n",
        "\n",
        "but $\\alpha$ also depends on $\\theta$ besides the len halo properties. This would allow construct the real image\n",
        "from the distorted and magnified one. \n",
        "\n",
        "<img src=\"https://github.com/restrepo/ComputationalMethods/blob/master/material/figures/lente1.png?raw=1\">\n",
        "\n",
        "This equation can also be written in terms of distances \n",
        "\n",
        "\\begin{equation}\n",
        "\\vec{\\eta}  = \\frac{D_s}{D_d} \\vec{\\xi} - D_{ds}\\alpha ( \\vec{\\xi }) \n",
        "\\end{equation}\n",
        "\n",
        "The solution to the lens equation is easier to get if it is assumed that the len is axially symmetric. In this case, the deflection angle  takes the next form\n",
        "\n",
        "$$ \\hat{\\alpha}(\\vec{\\xi}) = \\frac{\\vec{\\xi}}{|\\vec{\\xi}|^2} \\frac{8G\\pi}{c^2} \\int_0^\\xi d\\xi'\\xi'\\Sigma(\\xi')$$\n",
        "\n",
        "The quantity $\\Sigma$ is the surface mass density, i.e., the len's mass enclosed inside $\\xi$ circle per area unit.  \n",
        "It is important to notice that the direction of $\\alpha$ is the same as $\\xi$ and consequently $\\eta$. \n",
        "\n",
        "\n",
        "The problem to be solved is the next: Given the positions of a square find the image distorsion due to gravitational lensing, i.e., find the root of \\xi in the trascendal equation it satisfies. Use the routines given below and all of \n",
        "the data for the len and image that is going to be distorted. \n"
      ]
    },
    {
      "cell_type": "markdown",
      "source": [
        "## **Desarrollo de la actividad**"
      ],
      "metadata": {
        "id": "ALiJwUeILbB3"
      },
      "id": "ALiJwUeILbB3"
    },
    {
      "cell_type": "code",
      "source": [
        "# Importar librerías\n",
        "import numpy as np\n",
        "import matplotlib.pylab as plt\n",
        "from scipy.optimize import bisect"
      ],
      "metadata": {
        "id": "JuZMHIq3Negb"
      },
      "id": "JuZMHIq3Negb",
      "execution_count": null,
      "outputs": []
    },
    {
      "cell_type": "markdown",
      "source": [
        "Write a function with the bisection methods, what is the solution if $a=1$, and $b=1$, what is the solution if $a=2$ and $b=2$"
      ],
      "metadata": {
        "id": "ewjhOB4eMCh2"
      },
      "id": "ewjhOB4eMCh2"
    },
    {
      "cell_type": "code",
      "source": [
        "# Dada una función específica, usar el método de bisección\n",
        "\n",
        "def fun(x, a, b, c):\n",
        "  return a*(x-b)**2+c"
      ],
      "metadata": {
        "id": "uIqzThplLh1u"
      },
      "id": "uIqzThplLh1u",
      "execution_count": null,
      "outputs": []
    },
    {
      "cell_type": "code",
      "source": [
        "x = np.linspace(0,4,100)\n",
        "parametros = (1,1,-1) #tuplas\n",
        "plt.plot(x,fun(x, *parametros))\n",
        "plt.xlabel(\"X\", fontsize = 12)\n",
        "plt.ylabel(\"Y\", fontsize = 12)\n",
        "plt.title(\"Gráfica x vs y\", fontsize = 16)\n",
        "plt.grid()"
      ],
      "metadata": {
        "colab": {
          "base_uri": "https://localhost:8080/",
          "height": 301
        },
        "id": "PD9H9IoqT9Yq",
        "outputId": "7457c3ba-96f8-45dc-d928-9360a27f9b2a"
      },
      "id": "PD9H9IoqT9Yq",
      "execution_count": null,
      "outputs": [
        {
          "output_type": "display_data",
          "data": {
            "text/plain": [
              "<Figure size 432x288 with 1 Axes>"
            ],
            "image/png": "[encoded data removed]"
          },
          "metadata": {
            "needs_background": "light"
          }
        }
      ]
    },
    {
      "cell_type": "code",
      "source": [
        "P = bisect(fun, 1, 2.5, args = parametros)\n",
        "P"
      ],
      "metadata": {
        "colab": {
          "base_uri": "https://localhost:8080/"
        },
        "id": "QMCDZ9R8Vlkn",
        "outputId": "1775ba4d-3e03-4322-f437-0e6b06550cb7"
      },
      "id": "QMCDZ9R8Vlkn",
      "execution_count": null,
      "outputs": [
        {
          "output_type": "execute_result",
          "data": {
            "text/plain": [
              "2.0000000000004547"
            ]
          },
          "metadata": {},
          "execution_count": 11
        }
      ]
    },
    {
      "cell_type": "markdown",
      "source": [
        "**1.**  $ 7 = a\\sqrt{x^2+1}+be^x\\sin x $"
      ],
      "metadata": {
        "id": "_BrOesyccjjA"
      },
      "id": "_BrOesyccjjA"
    },
    {
      "cell_type": "code",
      "source": [
        "def fun1(x, a, b):\n",
        "  return  7 - b*np.exp(x)*np.sin(x)-a*np.sqrt(x**2 + 1) \n",
        "\n",
        "parametros1 = (1,1)\n",
        "parametros2 = (2,2)\n",
        "\n",
        "plt.plot(x, fun1(x, *parametros1), label = \"$a = 1$, $b = 1$\")\n",
        "plt.plot(x, fun1(x, *parametros2), label = \"$a = 2$, $b = 2$\")\n",
        "plt.xlabel(\"X\", fontsize = 12)\n",
        "plt.ylabel(\"Y\", fontsize = 12)\n",
        "plt.title(\"Gráfica x vs y\", fontsize = 16)\n",
        "plt.xlim(0.0, 3.0)\n",
        "plt.ylim(-20, 20)\n",
        "plt.plot(cero1, 0,\"ro\")\n",
        "plt.text(cero1,0.4,f\"{cero1:.3}\")\n",
        "plt.plot(cero2, 0, \"go\")\n",
        "plt.text(cero2,0.4,f\"{cero2:.3}\")\n",
        "plt.grid()"
      ],
      "metadata": {
        "colab": {
          "base_uri": "https://localhost:8080/",
          "height": 301
        },
        "id": "-zDwY_BDUXvQ",
        "outputId": "14703d3a-d8ad-434a-f31f-db0eb7df0964"
      },
      "id": "-zDwY_BDUXvQ",
      "execution_count": null,
      "outputs": [
        {
          "output_type": "display_data",
          "data": {
            "text/plain": [
              "<Figure size 432x288 with 1 Axes>"
            ],
            "image/png": "[encoded data removed]"
          },
          "metadata": {
            "needs_background": "light"
          }
        }
      ]
    },
    {
      "cell_type": "code",
      "source": [
        "# Hallar el cero de la función con el método de la bisección\n",
        "cero1 = bisect(fun1, 1.5, 2.5, args = parametros1) # con a, b = 1\n",
        "cero2 = bisect(fun1, -1.5, 2.5, args = parametros2) # con a, b = 2\n",
        "\n",
        "print(f\"Cuando a = 1, y b = 1 la función tiene un cero en {cero1}\")\n",
        "print(f\"Cuando a = 2, y b = 2 la función tiene un cero en {cero2}\")"
      ],
      "metadata": {
        "colab": {
          "base_uri": "https://localhost:8080/"
        },
        "id": "QMSAKPasdxlP",
        "outputId": "95f785f6-e394-405d-d67b-8a82c154b0b3"
      },
      "id": "QMSAKPasdxlP",
      "execution_count": null,
      "outputs": [
        {
          "output_type": "stream",
          "name": "stdout",
          "text": [
            "Cuando a = 1, y b = 1 la función tiene un cero en 1.628718494926943\n",
            "Cuando a = 2, y b = 2 la función tiene un cero en 0.954051251295823\n"
          ]
        }
      ]
    },
    {
      "cell_type": "markdown",
      "source": [
        "  \n",
        " **2.** $a e^{x}-2= b\\cos(e^x-2)$"
      ],
      "metadata": {
        "id": "39VrXFN_cTLY"
      },
      "id": "39VrXFN_cTLY"
    },
    {
      "cell_type": "code",
      "source": [
        "def fun2(x, a, b):\n",
        "  return a*np.exp(x) - 2 - b*np.cos(np.exp(x) - 2)\n",
        "\n",
        "param = (1, 1)\n",
        "param2 = (2, 2)\n",
        "\n",
        "p1 = plt.plot(x, fun2(x, *param), label = '$a = 1$, $b = 1$')\n",
        "p2 = plt.plot(x, fun2(x, *param2), label = '$a = 2$, $b = 2$')\n",
        "plt.xlabel(\"X\", fontsize = 12)\n",
        "plt.ylabel(\"Y\", fontsize = 12)\n",
        "plt.title(\"Gráfica x vs y\", fontsize = 16)\n",
        "plt.xlim(0.0, 2.5)\n",
        "plt.ylim(-10, 20)\n",
        "plt.plot(zero1, 0,\"ro\")\n",
        "plt.text(zero1,0.4,f\"{zero1:.3}\")\n",
        "plt.plot(zero2, 0, \"go\")\n",
        "plt.text(zero2,0.4,f\"{zero2:.3}\")\n",
        "plt.grid()"
      ],
      "metadata": {
        "colab": {
          "base_uri": "https://localhost:8080/",
          "height": 301
        },
        "id": "pNeNkyyBlfDS",
        "outputId": "93719582-67c0-491a-91b8-b89caaf383b2"
      },
      "id": "pNeNkyyBlfDS",
      "execution_count": null,
      "outputs": [
        {
          "output_type": "display_data",
          "data": {
            "text/plain": [
              "<Figure size 432x288 with 1 Axes>"
            ],
            "image/png": "[encoded data removed]"
          },
          "metadata": {
            "needs_background": "light"
          }
        }
      ]
    },
    {
      "cell_type": "code",
      "source": [
        "# Hallar el cero de la función con el método de la bisección\n",
        "zero1 = bisect(fun2, -1.5, 2.5, args = param) # con a, b = 1\n",
        "zero2 = bisect(fun2, -1.5, 2.5, args = param2) # con a, b = 2\n",
        "\n",
        "print(f\"Cuando a = 1, y b = 1 la función tiene un cero en {zero1}\")\n",
        "print(f\"Cuando a = 2, y b = 2 la función tiene un cero en {zero2}\")"
      ],
      "metadata": {
        "colab": {
          "base_uri": "https://localhost:8080/"
        },
        "id": "9-6Zk03boJSD",
        "outputId": "9db80455-c113-4863-d136-2035ffde7da6"
      },
      "id": "9-6Zk03boJSD",
      "execution_count": null,
      "outputs": [
        {
          "output_type": "stream",
          "name": "stdout",
          "text": [
            "Cuando a = 1, y b = 1 la función tiene un cero en 1.0076239716563578\n",
            "Cuando a = 2, y b = 2 la función tiene un cero en 0.6931471805601177\n"
          ]
        }
      ]
    },
    {
      "cell_type": "markdown",
      "source": [
        "**3.** Fixed point methods"
      ],
      "metadata": {
        "id": "2F61__8bvCWx"
      },
      "id": "2F61__8bvCWx"
    },
    {
      "cell_type": "code",
      "source": [
        "import sympy as sp\n",
        "import numpy as np\n",
        "from scipy.optimize import fixed_point\n",
        "\n",
        "''' Función para la masa del planeta g832c '''\n",
        "def masa(r, L, rho):\n",
        "  return 4*np.pi*rho * (2*L**3)+(-2*L**3 - 2*L**2*r - L*r**2)*np.exp(-r/L)\n",
        "\n",
        "''' Definir la función de masa M_1 '''\n",
        "def M_1(R, rho_t):\n",
        "  return (1.75*R)**3*4*np.pi*rho_t/3\n",
        "\n",
        "''' Condiciones iniciales '''\n",
        "m = 5.972e24 # masa de la tierra en kg\n",
        "R = 6.371e3 # radio de la tierra en m\n",
        "r_fic = 1.75*R # radio del planeta g832c (suponiendo una composición del planeta similar a la tierra)\n",
        "L = 6500e3\n",
        "rho = 18000\n",
        "rho_t = 5520\n",
        "\n",
        "''' Masa del planeta '''\n",
        "M_planeta = M_1(R, rho_t) / m\n",
        "\n",
        "# Definir la función que queremos encontrar\n",
        "def f(r, L, rho):\n",
        "  return ((4*np.pi*rho * (2*L**3)+(-2*L**3 - 2*L**2*r - L*r**2)*np.exp(-r/L)) - ((1.75*R)**3*4*np.pi*rho_t/3)) / m\n",
        "\n",
        "def fun(r, rho, L):\n",
        "  return r -f(r, L, rho)\n",
        "\n",
        "# Encontrar el punto fijo\n",
        "r1 = fixed_point(fun, 1, args = (L, rho))\n",
        "print(\"El radio del planeta (por punto fijo) es:\", r1)"
      ],
      "metadata": {
        "id": "zh_QsTB9_ipH"
      },
      "id": "zh_QsTB9_ipH",
      "execution_count": null,
      "outputs": []
    },
    {
      "cell_type": "markdown",
      "source": [
        "**4.** Based on the routine NewtonRaphson, write your own routine SecantMethod"
      ],
      "metadata": {
        "id": "iFwcCMPvFhU2"
      },
      "id": "iFwcCMPvFhU2"
    },
    {
      "cell_type": "code",
      "source": [
        "import sympy as sp\n",
        "import numpy as np\n",
        "from scipy import optimize\n",
        "import matplotlib.pylab as plt"
      ],
      "metadata": {
        "id": "j3-a9cENKko_"
      },
      "id": "j3-a9cENKko_",
      "execution_count": null,
      "outputs": []
    },
    {
      "cell_type": "code",
      "source": [
        "def funt(x):\n",
        "  f = x-np.cos(x)\n",
        "  return f\n",
        "\n",
        "x = np.linspace(-0.5,2,100)\n",
        "plt.plot(x, funt(x))\n",
        "plt.xlabel(\"X\", fontsize = 12)\n",
        "plt.ylabel(\"Y\", fontsize = 12)\n",
        "plt.title(\"Gráfica x vs y\", fontsize = 16)\n",
        "plt.grid()"
      ],
      "metadata": {
        "colab": {
          "base_uri": "https://localhost:8080/",
          "height": 301
        },
        "id": "bpOEXLreFmlN",
        "outputId": "c2762935-8abb-45d6-b1a3-0a87b38e9f27"
      },
      "id": "bpOEXLreFmlN",
      "execution_count": null,
      "outputs": [
        {
          "output_type": "display_data",
          "data": {
            "text/plain": [
              "<Figure size 432x288 with 1 Axes>"
            ],
            "image/png": "[encoded data removed]"
          },
          "metadata": {
            "needs_background": "light"
          }
        }
      ]
    },
    {
      "cell_type": "code",
      "source": [
        "# valor inicial de x, donde se espera que haya una raíz\n",
        "funt(0.7)"
      ],
      "metadata": {
        "colab": {
          "base_uri": "https://localhost:8080/"
        },
        "id": "eWHorFV6Hr6t",
        "outputId": "d26a87cd-b08c-4e2f-eeef-a057385dc59c"
      },
      "id": "eWHorFV6Hr6t",
      "execution_count": null,
      "outputs": [
        {
          "output_type": "execute_result",
          "data": {
            "text/plain": [
              "-0.06484218728448854"
            ]
          },
          "metadata": {},
          "execution_count": 105
        }
      ]
    },
    {
      "cell_type": "code",
      "source": [
        "# Definir función como objeto de sympy\n",
        "x = sp.symbols('x')\n",
        "def funt(x):\n",
        "  return x - sp.cos(x)\n",
        "\n",
        "# Derivada de la función\n",
        "fprima = sp.diff(funt(x), x)\n",
        "fprima"
      ],
      "metadata": {
        "colab": {
          "base_uri": "https://localhost:8080/",
          "height": 38
        },
        "id": "dfsEqnERJaEB",
        "outputId": "33fcc42f-134c-4c38-f1bb-33e274cbbc63"
      },
      "id": "dfsEqnERJaEB",
      "execution_count": null,
      "outputs": [
        {
          "output_type": "execute_result",
          "data": {
            "text/plain": [
              "sin(x) + 1"
            ],
            "text/latex": "$\\displaystyle \\sin{\\left(x \\right)} + 1$"
          },
          "metadata": {},
          "execution_count": 106
        }
      ]
    },
    {
      "cell_type": "code",
      "source": [
        "funt_ = sp.lambdify(x,funt(x), \"numpy\")\n",
        "fprima_ = sp.lambdify(x, fprima,\"numpy\")"
      ],
      "metadata": {
        "id": "nx-auEEJTlZy"
      },
      "id": "nx-auEEJTlZy",
      "execution_count": null,
      "outputs": []
    },
    {
      "cell_type": "code",
      "source": [
        "x = np.linspace(0,2,100)\n",
        "plt.plot(x, funt_(x))\n",
        "plt.xlabel(\"X\", fontsize = 12)\n",
        "plt.ylabel(\"Y\", fontsize = 12)\n",
        "plt.title(\"Gráfica x vs y\", fontsize = 16)\n",
        "P = optimize.newton(funt_,0.7, fprima_)\n",
        "plt.plot(P,0,\"go\")\n",
        "plt.text(P,0.2,f\"{P:.3}\")\n",
        "plt.grid()"
      ],
      "metadata": {
        "colab": {
          "base_uri": "https://localhost:8080/",
          "height": 301
        },
        "id": "77EGiUGYPwwF",
        "outputId": "b853a804-f8e4-46a4-d9a4-19031d400abe"
      },
      "id": "77EGiUGYPwwF",
      "execution_count": null,
      "outputs": [
        {
          "output_type": "display_data",
          "data": {
            "text/plain": [
              "<Figure size 432x288 with 1 Axes>"
            ],
            "image/png": "[encoded data removed]"
          },
          "metadata": {
            "needs_background": "light"
          }
        }
      ]
    },
    {
      "cell_type": "code",
      "source": [
        "print(f\"La función tiene un cero en el punto {P}\")"
      ],
      "metadata": {
        "colab": {
          "base_uri": "https://localhost:8080/"
        },
        "id": "RSgVD2LIy4JL",
        "outputId": "1413d496-1604-46c7-d432-6ffcbd2c3302"
      },
      "id": "RSgVD2LIy4JL",
      "execution_count": null,
      "outputs": [
        {
          "output_type": "stream",
          "name": "stdout",
          "text": [
            "La función tiene un cero en el punto 0.7390851332151607\n"
          ]
        }
      ]
    },
    {
      "cell_type": "code",
      "source": [
        "from scipy.optimize import bisect\n",
        "\n",
        "# Verificación con el método de bisección\n",
        "b = bisect(funt, 1, -2.5)\n",
        "print(f\"Con el método de la bisección tenemos que la función tiene un cero en {b}\")"
      ],
      "metadata": {
        "colab": {
          "base_uri": "https://localhost:8080/"
        },
        "id": "w7K0zm-MUz_t",
        "outputId": "5a46e806-5cc8-468d-efe4-9068374ba413"
      },
      "id": "w7K0zm-MUz_t",
      "execution_count": null,
      "outputs": [
        {
          "output_type": "stream",
          "name": "stdout",
          "text": [
            "Con el método de la bisección tenemos que la función tiene un cero en 0.7390851332163493\n"
          ]
        }
      ]
    },
    {
      "cell_type": "markdown",
      "source": [
        "**Ejercicio:** Método del punto fijo"
      ],
      "metadata": {
        "id": "YOdOca0TeQ_L"
      },
      "id": "YOdOca0TeQ_L"
    },
    {
      "cell_type": "code",
      "source": [
        "def fun1(x, a, b):\n",
        "  return  7 - b*np.exp(x)*np.sin(x)-a*np.sqrt(x**2 + 1) \n",
        "\n",
        "x = np.linspace(0,4,100)\n",
        "plt.plot(x,fun1(x,1 ,1)) # con a, b = 1\n",
        "plt.xlabel(\"X\", fontsize = 12)\n",
        "plt.ylabel(\"Y\", fontsize = 12)\n",
        "plt.title(\"Gráfica x vs y\", fontsize = 16)\n",
        "plt.grid()"
      ],
      "metadata": {
        "colab": {
          "base_uri": "https://localhost:8080/",
          "height": 301
        },
        "id": "DCyJ1aNkfGrd",
        "outputId": "82c5a9f8-d07b-48dc-d21e-b898218b7749"
      },
      "id": "DCyJ1aNkfGrd",
      "execution_count": null,
      "outputs": [
        {
          "output_type": "display_data",
          "data": {
            "text/plain": [
              "<Figure size 432x288 with 1 Axes>"
            ],
            "image/png": "[encoded data removed]"
          },
          "metadata": {
            "needs_background": "light"
          }
        }
      ]
    },
    {
      "cell_type": "code",
      "source": [
        "from scipy.optimize import fixed_point\n",
        "\n",
        "# Defino la funicon g(x)\n",
        "def g(x,a, b):\n",
        "  return x - fun1(x,a,b)\n",
        " \n",
        "# Defino un punto x_o y lo evaluo en g(x) \n",
        "x_o = 1\n",
        "g(x_o, 1, 1)\n",
        "\n",
        "fixed_point(g, x_o,(1, 1))"
      ],
      "metadata": {
        "colab": {
          "base_uri": "https://localhost:8080/"
        },
        "id": "J5ESoRVUfpnx",
        "outputId": "ea334e1a-f7e1-4fce-ae10-54b88ad7a834"
      },
      "id": "J5ESoRVUfpnx",
      "execution_count": null,
      "outputs": [
        {
          "output_type": "execute_result",
          "data": {
            "text/plain": [
              "array(-6.92879849)"
            ]
          },
          "metadata": {},
          "execution_count": 118
        }
      ]
    },
    {
      "cell_type": "code",
      "source": [
        "def recta(x):\n",
        "  return x \n",
        "recta(1)"
      ],
      "metadata": {
        "colab": {
          "base_uri": "https://localhost:8080/"
        },
        "id": "3_BEZ5Phkt7b",
        "outputId": "f5227670-14a1-48bc-ca5a-1ee98a8e4352"
      },
      "id": "3_BEZ5Phkt7b",
      "execution_count": null,
      "outputs": [
        {
          "output_type": "execute_result",
          "data": {
            "text/plain": [
              "1"
            ]
          },
          "metadata": {},
          "execution_count": 119
        }
      ]
    },
    {
      "cell_type": "code",
      "source": [
        "# Grafico la intersección de la gráfica con la recta identidad\n",
        "x = np.linspace(-8,4,100)\n",
        "plt.plot(x,g(x,1 ,1))\n",
        "plt.plot(x,recta(x))\n",
        "plt.xlabel(\"X\", fontsize = 12)\n",
        "plt.ylabel(\"Y\", fontsize = 12)\n",
        "plt.title(\"Gráfica x vs y\", fontsize = 16)\n",
        "plt.ylim(-20, 10)\n",
        "P = fixed_point(g, x_o,(1,1))\n",
        "plt.plot(P,P,\"ro\")\n",
        "plt.text(P,P+1.5,f\"{P:.3}\")\n",
        "plt.grid()"
      ],
      "metadata": {
        "colab": {
          "base_uri": "https://localhost:8080/",
          "height": 301
        },
        "id": "zVaeIDSEgx6C",
        "outputId": "5130fb16-6856-46a7-f8de-37cdac4fee27"
      },
      "id": "zVaeIDSEgx6C",
      "execution_count": null,
      "outputs": [
        {
          "output_type": "display_data",
          "data": {
            "text/plain": [
              "<Figure size 432x288 with 1 Axes>"
            ],
            "image/png": "[encoded data removed]"
          },
          "metadata": {
            "needs_background": "light"
          }
        }
      ]
    }
  ],
  "metadata": {
    "kernelspec": {
      "display_name": "Python 3 (ipykernel)",
      "language": "python",
      "name": "python3"
    },
    "language_info": {
      "codemirror_mode": {
        "name": "ipython",
        "version": 3
      },
      "file_extension": ".py",
      "mimetype": "text/x-python",
      "name": "python",
      "nbconvert_exporter": "python",
      "pygments_lexer": "ipython3",
      "version": "3.8.12"
    },
    "colab": {
      "provenance": []
    }
  },
  "nbformat": 4,
  "nbformat_minor": 5
}