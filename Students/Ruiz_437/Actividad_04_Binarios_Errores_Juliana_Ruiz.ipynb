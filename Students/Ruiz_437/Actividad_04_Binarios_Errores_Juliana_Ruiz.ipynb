{
  "cells": [
    {
      "cell_type": "markdown",
      "id": "6d26e874",
      "metadata": {
        "id": "6d26e874"
      },
      "source": [
        "<a href=\"https://colab.research.google.com/github/hernansalinas/autogrades/blob/main/Actividades_clase/Actividad_04_Binarios_Errores.ipynb\" target=\"_parent\"><img src=\"https://colab.research.google.com/assets/colab-badge.svg\" alt=\"Open In Colab\"/></a>\n",
        "\n",
        "\n",
        "\n",
        "# Actividad 4\n",
        "### Métodos computacionales para físicos  y astrónomos\n",
        "### Universidad de Antioquia\n",
        "### Prof: Hernan D. Salinas Jiménez\n"
      ]
    },
    {
      "cell_type": "code",
      "execution_count": 53,
      "id": "eae80e3f",
      "metadata": {
        "id": "eae80e3f",
        "outputId": "7987cb0b-b341-405f-e88e-cd5a7f7b2fde",
        "colab": {
          "base_uri": "https://localhost:8080/"
        }
      },
      "outputs": [
        {
          "output_type": "stream",
          "name": "stdout",
          "text": [
            "fatal: destination path 'autogrades' already exists and is not an empty directory.\n"
          ]
        }
      ],
      "source": [
        "!git clone https://github.com/hernansalinas/autogrades.git\n",
        "#path=\"libs\"\n",
        "path=\"autogrades/Actividades_clase/libs\"\n",
        "%run -i {path}/libUnitTest.py"
      ]
    },
    {
      "cell_type": "markdown",
      "id": "74f1131a",
      "metadata": {
        "id": "74f1131a"
      },
      "source": [
        "### Activity 1.0: \n",
        "\n",
        "Implement a function that get the binary representation of an integer with name mybin, the algorithm should return \n",
        "a string with 8 characters, the maximun number that represent the funcition is integer of 8 bit. The name of function is \n",
        "mybin\n",
        "\n",
        "Example : \n",
        "\n",
        "b=mybin(x)\n",
        "\n",
        "b='00101000'"
      ]
    },
    {
      "cell_type": "code",
      "source": [
        "# Función mybin que convierte un entero en binario \n",
        "\n",
        "def mybin(x):\n",
        "  bin = []\n",
        "\n",
        "  while x!=0:\n",
        "    cociente = x // 2 # Divide x entre dos y el cociente es número entero\n",
        "    modulo = x % 2 # Modulo de x divido entre 2\n",
        "    bin.append(modulo) # Agrega los resultados del modulo a la lista vacia bin\n",
        "    x = cociente # Almacena x por los cocientes\n",
        "    b = \"\".join([str(i) for i in bin [::-1]]) # Cambia lista bin a cadena de caracteres de la lista invertida bin\n",
        "    b = b.rjust(8, \"0\") # Restringe b a 8 caracteres\n",
        "  return b\n",
        "\n",
        "# Escribir número entero x\n",
        "x = 128\n",
        "print(\"El número binario de\", x, \"es\", mybin(x))"
      ],
      "metadata": {
        "colab": {
          "base_uri": "https://localhost:8080/"
        },
        "id": "ZJCSHrBwBQ9t",
        "outputId": "ab79e91a-88c4-4278-888f-031375e16ce6"
      },
      "id": "ZJCSHrBwBQ9t",
      "execution_count": 2,
      "outputs": [
        {
          "output_type": "stream",
          "name": "stdout",
          "text": [
            "El número binario de 128 es 10000000\n"
          ]
        }
      ]
    },
    {
      "cell_type": "code",
      "source": [
        "bin(128)"
      ],
      "metadata": {
        "colab": {
          "base_uri": "https://localhost:8080/",
          "height": 35
        },
        "id": "JO97p4HlQsCu",
        "outputId": "eb962bdd-ac2e-4ddb-c320-62e2ef19441c"
      },
      "id": "JO97p4HlQsCu",
      "execution_count": 3,
      "outputs": [
        {
          "output_type": "execute_result",
          "data": {
            "text/plain": [
              "'0b10000000'"
            ],
            "application/vnd.google.colaboratory.intrinsic+json": {
              "type": "string"
            }
          },
          "metadata": {},
          "execution_count": 3
        }
      ]
    },
    {
      "cell_type": "code",
      "execution_count": 4,
      "id": "885be6fb",
      "metadata": {
        "id": "885be6fb",
        "outputId": "1805a720-c2ad-466d-fed8-4548b8330473",
        "colab": {
          "base_uri": "https://localhost:8080/",
          "height": 215
        }
      },
      "outputs": [
        {
          "output_type": "display_data",
          "data": {
            "text/plain": [
              "<IPython.core.display.HTML object>"
            ],
            "text/html": [
              "<style>\n",
              "  table { text-align: left; border-collapse: collapse; margin: 1em; caption-side: bottom; font-family: Sans-Serif; font-size: 12px}\n",
              "  caption { text-align: left; padding: 5px }\n",
              "  th, td { border: 2px solid #BFC9CA; padding: 5px }\n",
              "  th { background-color: #BFC9CA }\n",
              "  .passed { background-color: #76D7C4 }\n",
              "  .failed { background-color: #EC7063 }\n",
              "  .skipped { background-color: #EDBB99 }\n",
              "  .score { background-color: #7DCEA0 }\n",
              "  .results .points { display: none }\n",
              "  .results .message { display: block; font-size:smaller; color:#D35400 }\n",
              "  .results .note { display: block; font-size:smaller; font-decoration:italics }\n",
              "  .results .passed::before  { content: \"Passed\" } \n",
              "  .results .skipped::before  { content: \"Skipped\" } \n",
              "  .results .failed::before  { content: \"Failed\" } \n",
              "  .grade .passed  .message:empty::before { content:\"Passed\" }\n",
              "  .grade .failed  .message:empty::before { content:\"Failed\" }\n",
              "  .grade .skipped .message:empty::before { content:\"Skipped\" }   \n",
              "</style>\n",
              "<table class='results'>\n",
              "  <th class='test'>Test</th><th class='result'>Result</th></tr>\n",
              "<tr>\n",
              "  <td class='test'>\n",
              "    La salida debe ser un string \n",
              "    <div class='message'>Done</div>\n",
              "  </td>\n",
              "  <td class='result passed'></td>\n",
              "</tr>\n",
              "<tr>\n",
              "  <td class='test'>\n",
              "    La longitud del string debe ser de 8 \n",
              "    <div class='message'>Done</div>\n",
              "  </td>\n",
              "  <td class='result passed'></td>\n",
              "</tr>\n",
              "<tr>\n",
              "  <td class='test'>\n",
              "    Para el número 246 su representacion es 11110110 \n",
              "    <div class='message'>Done</div>\n",
              "  </td>\n",
              "  <td class='result passed'></td>\n",
              "</tr>  <tr><th class='score'>Total Points</th><th class='score'>3</th></tr></table>\n"
            ]
          },
          "metadata": {}
        }
      ],
      "source": [
        "%run -i {path}/Act_02/test01.py"
      ]
    },
    {
      "cell_type": "markdown",
      "id": "e622b7b5",
      "metadata": {
        "id": "e622b7b5"
      },
      "source": [
        "### Activity 2.0: \n",
        "\n",
        "With the binary representation please try to implement the formula to recover the number.\n",
        "\n",
        "Hint: Use as input the binary representation as a string and invert its order\n",
        "\n",
        "```\n",
        "number32(BIN):\n",
        "\n",
        "```\n",
        "\n",
        "Where BIN is a string with the binary number\n",
        "\n",
        "Example: \n",
        "\n",
        "\n",
        "Test your solution for the next number:\n",
        "\n",
        "number32(\"00111110001000000000001000010000\")"
      ]
    },
    {
      "cell_type": "code",
      "source": [
        "def number32(BIN):\n",
        "  bin_lista = [int(bin) for bin in str(BIN)] # cadena de texto a lista\n",
        "  bin_inverse = bin_lista[::-1] # se invierte la lista\n",
        "  w = len(bin_inverse) \n",
        "\n",
        "  # Se crean dos listas vacías para almacenar los valores de potencias y los valores de cada digito multiplicado por su potencia \n",
        "  lista = []\n",
        "  potencias = []\n",
        "\n",
        "  cont = 0\n",
        "\n",
        "  # Calcular las potencias de 2 de cada digito en el número binario y almacenarlas en la lista de potencias\n",
        "  for j in range(w):\n",
        "    x = cont\n",
        "    cont +=1\n",
        "    potencias.append(x)\n",
        "\n",
        "  # se calcula el equivalente decimal del número binario\n",
        "  for i in range(0,w):\n",
        "    x = bin_inverse[i] * (2**potencias[i])\n",
        "    lista.append(x)\n",
        "\n",
        "  # Se suman todos los valores multiplicados para obtener el valor decimal del número binario\n",
        "  decimal = sum(lista)\n",
        "  return decimal/ 1.0  # Devolver el valor decimal como un float\n",
        "\n",
        "BIN = '00111110001000000000001000010000'\n",
        "print(\"El número binario\", BIN, \"en decimal es\", number32(BIN))"
      ],
      "metadata": {
        "colab": {
          "base_uri": "https://localhost:8080/"
        },
        "id": "7rPpRFc4Qmy2",
        "outputId": "0035379b-d715-43c7-9d83-cf8a9e25532a"
      },
      "id": "7rPpRFc4Qmy2",
      "execution_count": 5,
      "outputs": [
        {
          "output_type": "stream",
          "name": "stdout",
          "text": [
            "El número binario 00111110001000000000001000010000 en decimal es 1042285072.0\n"
          ]
        }
      ]
    },
    {
      "cell_type": "code",
      "source": [
        "# Comprobar la representación de binario a entero\n",
        "int('0b00111110001000000000001000010000',base=0) # 0b es fijo"
      ],
      "metadata": {
        "colab": {
          "base_uri": "https://localhost:8080/"
        },
        "id": "PmH_IoihPCuC",
        "outputId": "fe00b304-afb8-4894-f39e-f6b4a95ebd64"
      },
      "id": "PmH_IoihPCuC",
      "execution_count": 6,
      "outputs": [
        {
          "output_type": "execute_result",
          "data": {
            "text/plain": [
              "1042285072"
            ]
          },
          "metadata": {},
          "execution_count": 6
        }
      ]
    },
    {
      "cell_type": "code",
      "execution_count": 7,
      "id": "155ffd7f",
      "metadata": {
        "id": "155ffd7f",
        "outputId": "98f2004e-6e44-4617-90de-332f234bd238",
        "colab": {
          "base_uri": "https://localhost:8080/",
          "height": 175
        }
      },
      "outputs": [
        {
          "output_type": "display_data",
          "data": {
            "text/plain": [
              "<IPython.core.display.HTML object>"
            ],
            "text/html": [
              "<style>\n",
              "  table { text-align: left; border-collapse: collapse; margin: 1em; caption-side: bottom; font-family: Sans-Serif; font-size: 12px}\n",
              "  caption { text-align: left; padding: 5px }\n",
              "  th, td { border: 2px solid #BFC9CA; padding: 5px }\n",
              "  th { background-color: #BFC9CA }\n",
              "  .passed { background-color: #76D7C4 }\n",
              "  .failed { background-color: #EC7063 }\n",
              "  .skipped { background-color: #EDBB99 }\n",
              "  .score { background-color: #7DCEA0 }\n",
              "  .results .points { display: none }\n",
              "  .results .message { display: block; font-size:smaller; color:#D35400 }\n",
              "  .results .note { display: block; font-size:smaller; font-decoration:italics }\n",
              "  .results .passed::before  { content: \"Passed\" } \n",
              "  .results .skipped::before  { content: \"Skipped\" } \n",
              "  .results .failed::before  { content: \"Failed\" } \n",
              "  .grade .passed  .message:empty::before { content:\"Passed\" }\n",
              "  .grade .failed  .message:empty::before { content:\"Failed\" }\n",
              "  .grade .skipped .message:empty::before { content:\"Skipped\" }   \n",
              "</style>\n",
              "<table class='results'>\n",
              "  <th class='test'>Test</th><th class='result'>Result</th></tr>\n",
              "<tr>\n",
              "  <td class='test'>\n",
              "    La salida debe ser un float \n",
              "    <div class='message'>Done</div>\n",
              "  </td>\n",
              "  <td class='result passed'></td>\n",
              "</tr>\n",
              "<tr>\n",
              "  <td class='test'>\n",
              "    Realizando prueba para un numero binario \n",
              "    <div class='message'>Error: 0.15625405311584473 != 1042284816.0 : #-The expect value is 0.15625405311584473 and the functions test is 1042284816.0\n",
              "</div>\n",
              "  </td>\n",
              "  <td class='result failed'></td>\n",
              "</tr>  <tr><th class='score'>Total Points</th><th class='score'>1</th></tr></table>\n"
            ]
          },
          "metadata": {}
        }
      ],
      "source": [
        "%run -i {path}/Act_02/test02.py"
      ]
    },
    {
      "cell_type": "markdown",
      "id": "d11e596d",
      "metadata": {
        "id": "d11e596d"
      },
      "source": [
        "### Activity 3.0:\n",
        "1. Write a python script that calculates the double precision number represented by a 64-bits binary.\n",
        "\n",
        "the name of function should be: \n",
        "```\n",
        "number64(BIN):\n",
        "\n",
        "```\n",
        "\n",
        "2. What is the number represented by:\n",
        "\n",
        "BIN=\"0 10000000011 1011100100001111111111111111111111111111111111111111\""
      ]
    },
    {
      "cell_type": "code",
      "source": [
        "# Single-precision numbers\n",
        "\n",
        "def number32(BIN):\n",
        "  numero = BIN[::-1] # se invierte el número dado que la conversión se lee de izquierda a derecha\n",
        "\n",
        "  # para obtener el signo del número\n",
        "  s = BIN[31]\n",
        "\n",
        "  ''' Se separan 2 fracciones más del número'''\n",
        "\n",
        "  # Parte fraccional\n",
        "  fraccional = 1 # contador\n",
        "  for i in range(1,24): # cantidad de bits\n",
        "    fraccional += int(BIN[23-i])*2**-i\n",
        "\n",
        "  # Exponente\n",
        "  exp = 0\n",
        "  for i in range(0,8): # cantidad de bits\n",
        "    exp += int(BIN[23+i])*2**i\n",
        "\n",
        "  # Formula (número total)\n",
        "  numero =( (-1)**int(s)/2**(127-exp) )*fraccional\n",
        "  return numero\n",
        "\n",
        "number32('00111110001000000000000000000000')"
      ],
      "metadata": {
        "id": "zm7oKcMWRvG5",
        "colab": {
          "base_uri": "https://localhost:8080/"
        },
        "outputId": "23ac8f69-9a97-4bd6-c7a8-5fd2a6225254"
      },
      "id": "zm7oKcMWRvG5",
      "execution_count": 8,
      "outputs": [
        {
          "output_type": "execute_result",
          "data": {
            "text/plain": [
              "5.87827609942996e-39"
            ]
          },
          "metadata": {},
          "execution_count": 8
        }
      ]
    },
    {
      "cell_type": "code",
      "source": [
        "# Double-precision numbers\n",
        "\n",
        "def number64(bin):\n",
        "    number = bin[::-1] # se invierte el número dado que la conversión se lee de izquierda a derecha\n",
        "    \n",
        "    # para obtener el signo del número\n",
        "    s = bin[63]\n",
        "\n",
        "    # Parte fraccional\n",
        "    fraction = 1\n",
        "    for i in range(1, 52):\n",
        "        fraction += int(bin[52-i]) * 2**-i\n",
        "\n",
        "    # Parte exponencial\n",
        "    exponente = 0\n",
        "    for i in range(0, 10):\n",
        "        exponente += int(bin[52+i]) * 2**i\n",
        "\n",
        "    # Formula (número total)\n",
        "    total = (str(((-1)**int(s)) * (1 + fraction) * 2**(exponente-1023)))\n",
        "    \n",
        "    return total"
      ],
      "metadata": {
        "id": "OycBoBkoYGMA"
      },
      "id": "OycBoBkoYGMA",
      "execution_count": 50,
      "outputs": []
    },
    {
      "cell_type": "code",
      "source": [
        "number64('0100000000111011100100001111111111111111111111111111111111111111')"
      ],
      "metadata": {
        "colab": {
          "base_uri": "https://localhost:8080/",
          "height": 35
        },
        "id": "7OhyzunYaHhJ",
        "outputId": "0fb42bb6-91f6-4703-e0b6-27797d15c2dd"
      },
      "id": "7OhyzunYaHhJ",
      "execution_count": 51,
      "outputs": [
        {
          "output_type": "execute_result",
          "data": {
            "text/plain": [
              "'-2.999999996418183'"
            ],
            "application/vnd.google.colaboratory.intrinsic+json": {
              "type": "string"
            }
          },
          "metadata": {},
          "execution_count": 51
        }
      ]
    },
    {
      "cell_type": "code",
      "source": [
        "%run -i {path}/Act_02/test03.py"
      ],
      "metadata": {
        "colab": {
          "base_uri": "https://localhost:8080/",
          "height": 130
        },
        "id": "rIO8rGitdg9J",
        "outputId": "bddc2721-06de-4824-e577-a68de2022b62"
      },
      "id": "rIO8rGitdg9J",
      "execution_count": 54,
      "outputs": [
        {
          "output_type": "error",
          "ename": "SyntaxError",
          "evalue": "ignored",
          "traceback": [
            "\u001b[0;36m  File \u001b[0;32m\"/content/autogrades/Actividades_clase/libs/Act_02/test03.py\"\u001b[0;36m, line \u001b[0;32m28\u001b[0m\n\u001b[0;31m    True)\u001b[0m\n\u001b[0m        ^\u001b[0m\n\u001b[0;31mSyntaxError\u001b[0m\u001b[0;31m:\u001b[0m unmatched ')'\n"
          ]
        }
      ]
    }
  ],
  "metadata": {
    "kernelspec": {
      "display_name": "Python 3 (ipykernel)",
      "language": "python",
      "name": "python3"
    },
    "language_info": {
      "codemirror_mode": {
        "name": "ipython",
        "version": 3
      },
      "file_extension": ".py",
      "mimetype": "text/x-python",
      "name": "python",
      "nbconvert_exporter": "python",
      "pygments_lexer": "ipython3",
      "version": "3.8.12"
    },
    "colab": {
      "provenance": []
    }
  },
  "nbformat": 4,
  "nbformat_minor": 5
}