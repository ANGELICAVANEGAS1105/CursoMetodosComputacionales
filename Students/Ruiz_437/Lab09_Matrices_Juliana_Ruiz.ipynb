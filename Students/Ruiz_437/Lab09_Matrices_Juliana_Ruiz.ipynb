{
  "nbformat": 4,
  "nbformat_minor": 0,
  "metadata": {
    "colab": {
      "provenance": []
    },
    "kernelspec": {
      "name": "python3",
      "display_name": "Python 3"
    },
    "language_info": {
      "name": "python"
    }
  },
  "cells": [
    {
      "cell_type": "markdown",
      "source": [
        "<a href=\"https://colab.research.google.com/github/hernansalinas/autogrades/blob/main/Laboratorios_Taller/Lab09_Matrices.ipynb\" target=\"_parent\"><img src=\"https://colab.research.google.com/assets/colab-badge.svg\" alt=\"Open In Colab\"/></a>"
      ],
      "metadata": {
        "id": "zX5mmeZ08lWy"
      }
    },
    {
      "cell_type": "markdown",
      "source": [
        "# Matrices \n",
        "\n",
        "1. **Modelo de población de una especie de pajaros** \n",
        "Se estudiará un modelo de crecimiento de la poblacion para una especie de pájaros. En esta población se supone que el número de pajaros hembras es igual al número de machos.  Sea :\n",
        "- $p_{j,n-1}$ la poblacion juvenil (inmadura) de hembras en el año (n-1) \n",
        "- $p_{a,n-1}$ el numero de hembras adultas en el mismo año.\n",
        "\n",
        "Algunos de los pájaros jóvenes morirán  durante el año. Se suponen que cierta proporción de pájaros $\\alpha$ de los pájaros jovenes sobrevivirán para llegar a adultos en la primavera del año $n$. Cada hembra que sobrevive prdocuce huevos en la primavera, los incupan y producen, en promedio, $k$ pájaros hembras jóvenes en al siguiente primavera. Los adultos también mueren y la proporcion de adultos que sobrevive de una primavera a la siguiente es $\\beta$.\n",
        "\n",
        "Un modelo para el crecimiento poblacional de pajaros \n",
        "\\begin{equation}\n",
        "p_{j,n} = kp_{a, n-1}\n",
        "\\end{equation}\n",
        "\n",
        "\n",
        "\\begin{equation}\n",
        "p_{a,n} =\\alpha p_{j,n-1} + \\beta p_{a, n-1}\n",
        "\\end{equation}\n",
        "\n",
        "Que puede ser escrita como ${\\bf p_n}=A{\\bf p_{n-1}}$, Siendo A la matrix definida en las ecuaciones anteriores, y ${\\bf p_n}$ un vector. Para la evolución temporal se cumple que: \n",
        "\n",
        "- ${\\bf p_1}=A{\\bf p_{0}}$, ${\\bf p_2}=A{\\bf p_{1}}= A(A{\\bf p_0})=A^2{\\bf p_{0}}$ $...$ y asi sucesivamente. Entonces:\n",
        "\n",
        "\\begin{equation}\n",
        "{\\bf p_n} = A^n {\\bf p_{0}}\n",
        "\\end{equation}\n",
        "\n",
        "\n",
        "Supongamos que tenemos 10 hembras  (y 10 machos) adultos y no hay jovenes, la supongmaos que la matriz A viene dada por:\n",
        "\n",
        "\\begin{bmatrix} \n",
        "0 & 2 \\\\\n",
        "0.3 & 0.5 \n",
        "\\end{bmatrix}\n",
        "\n",
        "para la primera poblacion $p_{j,1}=20$, $p_{a,1}=5$, el total de hembras es 25 y la razón jovenes adultas es de 4 a 1. Muestre que la razon $p_{j,n}/p_{a,n}$ converge $1.88$,(como no se puede tener un número racional de pájaros,. aproxime siempre el resultados al menor entero).\n",
        "\n",
        "- Para la  solución general del modelo del problema de valores y vetores propios\n",
        "se tiene que:\n",
        "\\begin{equation}\n",
        "p_n=\\lambda_1^n\\left [ a_1 \\vec{v}_1 +\\left( \\frac{\\lambda_2}{\\lambda_1} \\right)^n \\right]a_2 \\vec{v}_2\n",
        "\\end{equation}\n",
        "\n",
        "Asumiendo que $\\lambda_2/ \\lambda_1 < 1$, entonces $(\\lambda_2/ \\lambda_1)^n << 1$ cuando n crece.  Entonce spara n grande se cumple que:\n",
        "\n",
        "donde $p_n=a_1\\lambda_1^n\\vec{v}_1$\n",
        "\n",
        "\n",
        "donde:\n",
        "\n",
        "${\\bf p_0} = a_1 \\vec{v}_1 + a_2 \\vec{v}_2$, con $v_1$ y $v_2$ vectores propios de A\n",
        "\n",
        "\n",
        "\n",
        "\n",
        "2. **Modelo de encriptación** \n",
        "\n",
        "Un proceso para encriptar un mensaje secreto es usar cierta matrix cuadrada cuyos elementos son enteros con elementos enteros en la inversa. Se recibe un mensaje, se asigna un número a cada letra Por ejemplo, A=1, B=2, C=3, ... etc y espacio=27), se arreglan los números en una matriz de izquierda a derecha en cada fila, donde el número de elementos en la fila es igual al tamano de la matriz de codigo, se multiplica esa matriz por la matriz de código por la derecha, se transcribe el mensaje en una cadena de números y se manda el mensaje. \n",
        "\n",
        "La persona que debe recibir el mensaje conoce la matriz de codigo. El o ellla arrelgan el mensaje encriptado en una matriz de izquierda a derecha en cada fila, en donde el numero de elementos en una fila conicide con el tamano de la matriz de codigo muplicada por la derecha, por el inverso de la matriz de código y puede leer mensaje decodificado.\n",
        "\n",
        "Usted a recibido el siguiente mensaje que fue encriptado usando la matriz A. Decodifiquelo.\n",
        "\n",
        "```\n",
        "matrix([[ 1,  2, -3,  4,  5],\n",
        "        [-2, -5,  8, -8, -9],\n",
        "        [ 1,  2, -2,  7,  9],\n",
        "        [ 1,  1,  0,  6, 12],\n",
        "        [ 2,  4, -6,  8, 11]])\n",
        "```\n",
        "\n",
        "Mensaje\n",
        "\n",
        "47,49,-19,257,487,10,-9,63,137,236, 79,142,-184,372,536,59,70,-40,332,588, \n",
        "\n",
        "la primera fila del mensaje es 47,49,-19,257,487\n",
        "\n",
        "¿Cual es el mensaje?\n",
        "\n",
        "\n",
        "\n",
        "\n",
        "3. **Diagonalización**.\n",
        "\n",
        "Se sabe que un sistema físico es gobernado por las ecuaciones,\n",
        "\n",
        "\n",
        "\n",
        "$$\n",
        "\\begin{matrix}\n",
        "x' &=& 2x&-y&+z, \\\\\n",
        "y' &=&   &3y&-1z, \\\\\n",
        "z' &=& 2x&+y&+3z,\n",
        "\\end{matrix}\n",
        "$$\n",
        "\n",
        "donde $x',y',z'$ son las derivadas, en forma vectorial esto se puede representar como $\\mathbf{r}'=A\\mathbf{r}$ que tiene solución analítica general, $\\mathbf{r} = e^{At} \\mathbf{r}(0)$.<br> \n",
        "a) Diagonalize $A$.<br> \n",
        "\n",
        "b) Use el hecho de que $f(A) =U f(D) U^{-1}$ para encontrar $x(t),y(t),z(t)$ en el intervalo de tiempo $[0,2]$.<br>.\n",
        "c) Grafique $x(t),y(t),z(t)$ (use la condición inicial $\\mathbf{r}(0)=(1,1,2))$.<br> \n",
        "d) Compare el resultado a la solución analítica,\n",
        "\n",
        "$$\n",
        "\\begin{align}\n",
        "2x & = x(0)(e^{2t}(1+e^{2t}-2t)) + y(0) (-2te^{2t}) + z(0)(e^{2t}(-1+e^{2t})), \\\\\n",
        "2y & = x(0)(-e^{2t}(-1+e^{2t}-2t)) + y(0)(2(t+1)e^{2t}) + z(0)(-e^{2t}(-1+e^{2t})), \\\\\n",
        "2z & = x(0)(e^{2t}(-1+e^{2t}+2t)) + y(0)(2te^{2t}) + z(0)(e^{2t}(1+e^{2t})).\n",
        "\\end{align}\n",
        "$$"
      ],
      "metadata": {
        "id": "zRInnDiKcbSB"
      }
    },
    {
      "cell_type": "code",
      "source": [
        "# Librerías \n",
        "import numpy as np\n",
        "import matplotlib.pyplot as plt"
      ],
      "metadata": {
        "id": "IFVRiOY98c6H"
      },
      "execution_count": 33,
      "outputs": []
    },
    {
      "cell_type": "markdown",
      "source": [
        "### **1. Modelo de población de una especie de pajaros**"
      ],
      "metadata": {
        "id": "GJ3MrLPKVr-i"
      }
    },
    {
      "cell_type": "code",
      "source": [
        "A1 = [0, 2]\n",
        "A2 = [0.3, 0.5]\n",
        "\n",
        "A = np.array((A1, A2))\n",
        "A # matriz A"
      ],
      "metadata": {
        "colab": {
          "base_uri": "https://localhost:8080/"
        },
        "id": "mju1V-IpVmfm",
        "outputId": "15a6b475-2ecb-4f5f-8cba-38fdff762e22"
      },
      "execution_count": 2,
      "outputs": [
        {
          "output_type": "execute_result",
          "data": {
            "text/plain": [
              "array([[0. , 2. ],\n",
              "       [0.3, 0.5]])"
            ]
          },
          "metadata": {},
          "execution_count": 2
        }
      ]
    },
    {
      "cell_type": "code",
      "source": [
        "# Vectores propios de A\n",
        "\n",
        "V = np.linalg.eig(A)[1]\n",
        "V"
      ],
      "metadata": {
        "colab": {
          "base_uri": "https://localhost:8080/"
        },
        "id": "xb_9UpR6WRs0",
        "outputId": "ff127794-29c3-4546-e61a-57d7ab7f6fea"
      },
      "execution_count": 3,
      "outputs": [
        {
          "output_type": "execute_result",
          "data": {
            "text/plain": [
              "array([[-0.96246998, -0.88285203],\n",
              "       [ 0.27138816, -0.46965125]])"
            ]
          },
          "metadata": {},
          "execution_count": 3
        }
      ]
    },
    {
      "cell_type": "code",
      "source": [
        "# Valores propios de A\n",
        "\n",
        "l = np.linalg.eig(A)[0]\n",
        "l"
      ],
      "metadata": {
        "colab": {
          "base_uri": "https://localhost:8080/"
        },
        "id": "6Q2JdznjisQ0",
        "outputId": "f65ddef1-3913-4ad2-eb0b-b2bf8ca2289c"
      },
      "execution_count": 4,
      "outputs": [
        {
          "output_type": "execute_result",
          "data": {
            "text/plain": [
              "array([-0.56394103,  1.06394103])"
            ]
          },
          "metadata": {},
          "execution_count": 4
        }
      ]
    },
    {
      "cell_type": "code",
      "source": [
        "V1 = V[:,0]\n",
        "V1"
      ],
      "metadata": {
        "colab": {
          "base_uri": "https://localhost:8080/"
        },
        "id": "n8eBGJC-XmL7",
        "outputId": "785b422c-4999-4700-c2b7-1cdd05b8306f"
      },
      "execution_count": 5,
      "outputs": [
        {
          "output_type": "execute_result",
          "data": {
            "text/plain": [
              "array([-0.96246998,  0.27138816])"
            ]
          },
          "metadata": {},
          "execution_count": 5
        }
      ]
    },
    {
      "cell_type": "code",
      "source": [
        "V2 = V[:,1]\n",
        "V2"
      ],
      "metadata": {
        "colab": {
          "base_uri": "https://localhost:8080/"
        },
        "id": "3ZB97pI_X3bZ",
        "outputId": "806f43f8-cd25-4e95-aac8-12134a964d09"
      },
      "execution_count": 6,
      "outputs": [
        {
          "output_type": "execute_result",
          "data": {
            "text/plain": [
              "array([-0.88285203, -0.46965125])"
            ]
          },
          "metadata": {},
          "execution_count": 6
        }
      ]
    },
    {
      "cell_type": "code",
      "source": [
        "p0 = np.array([0, 10])\n",
        "p0"
      ],
      "metadata": {
        "colab": {
          "base_uri": "https://localhost:8080/"
        },
        "id": "3_jGMguEbRy8",
        "outputId": "446232e3-d9ee-4126-b2e5-6f4e8580a4df"
      },
      "execution_count": 7,
      "outputs": [
        {
          "output_type": "execute_result",
          "data": {
            "text/plain": [
              "array([ 0, 10])"
            ]
          },
          "metadata": {},
          "execution_count": 7
        }
      ]
    },
    {
      "cell_type": "code",
      "source": [
        "An = np.linalg.matrix_power(A, 10) # caso específico\n",
        "pn = An @ p0\n",
        "pn"
      ],
      "metadata": {
        "colab": {
          "base_uri": "https://localhost:8080/"
        },
        "id": "EXV13DUmY-vv",
        "outputId": "d135d264-1817-4739-a697-006f1d04e676"
      },
      "execution_count": 8,
      "outputs": [
        {
          "output_type": "execute_result",
          "data": {
            "text/plain": [
              "array([22.7940625 , 12.15830312])"
            ]
          },
          "metadata": {},
          "execution_count": 8
        }
      ]
    },
    {
      "cell_type": "code",
      "source": [
        "# Se multiplica n veces la matriz A con p_0\n",
        "\n",
        "n = 10\n",
        "for i in range(n):\n",
        "  An = np.linalg.matrix_power(A, i)\n",
        "  p0 = np.array([0, 10])\n",
        "  pn = An @ p0\n",
        "\n",
        "  convergencia = pn[0] / pn[1]\n",
        "\n",
        "convergencia"
      ],
      "metadata": {
        "colab": {
          "base_uri": "https://localhost:8080/"
        },
        "id": "NrvBY77edCvR",
        "outputId": "477faf6f-ed4e-4acd-fb6c-a7b984757504"
      },
      "execution_count": 9,
      "outputs": [
        {
          "output_type": "execute_result",
          "data": {
            "text/plain": [
              "1.8893187644808815"
            ]
          },
          "metadata": {},
          "execution_count": 9
        }
      ]
    },
    {
      "cell_type": "code",
      "source": [
        "# Resolver ecuaciones lineales para hallar los coeficientes\n",
        "\n",
        "coef = np.linalg.solve(V, p0)\n",
        "coef"
      ],
      "metadata": {
        "colab": {
          "base_uri": "https://localhost:8080/"
        },
        "id": "6WSm4xTeeMBy",
        "outputId": "2ec43ec6-7efe-4c94-8132-eaab8a5b9c18"
      },
      "execution_count": 10,
      "outputs": [
        {
          "output_type": "execute_result",
          "data": {
            "text/plain": [
              "array([ 12.76497195, -13.91615122])"
            ]
          },
          "metadata": {},
          "execution_count": 10
        }
      ]
    },
    {
      "cell_type": "code",
      "source": [
        "a1 = coef[0]\n",
        "a2 = coef[1]"
      ],
      "metadata": {
        "id": "DXHWKLW7iIBy"
      },
      "execution_count": 11,
      "outputs": []
    },
    {
      "cell_type": "code",
      "source": [
        "n = 10\n",
        "for i in range(n):\n",
        "  polinomio1 = (a1*V1) + (l[1]/l[0])**i\n",
        "  polinomio2 = a2*V2\n",
        "  poli = l[0]**i * polinomio1 * polinomio2\n",
        "\n",
        "poli"
      ],
      "metadata": {
        "colab": {
          "base_uri": "https://localhost:8080/"
        },
        "id": "uQJgLUj2iaw7",
        "outputId": "1f79f5ec-4333-444e-d7e1-bfa06bceedc2"
      },
      "execution_count": 12,
      "outputs": [
        {
          "output_type": "execute_result",
          "data": {
            "text/plain": [
              "array([22.33254505, 11.28639702])"
            ]
          },
          "metadata": {},
          "execution_count": 12
        }
      ]
    },
    {
      "cell_type": "code",
      "source": [
        "# Convergencia del polinomio\n",
        "\n",
        "poli[0]/poli[1]"
      ],
      "metadata": {
        "colab": {
          "base_uri": "https://localhost:8080/"
        },
        "id": "4K7VNNlLnGwz",
        "outputId": "c55969b7-e866-4a7e-b3ac-e1bb479eb5b9"
      },
      "execution_count": 13,
      "outputs": [
        {
          "output_type": "execute_result",
          "data": {
            "text/plain": [
              "1.9787134021845982"
            ]
          },
          "metadata": {},
          "execution_count": 13
        }
      ]
    },
    {
      "cell_type": "code",
      "source": [
        "print(\"El número de pájaros hembras y machos son\", int(poli[1]), \"para cada género\")\n",
        "print(\"El número de pájaros hembras jóvenes es de\", int(poli[0]))"
      ],
      "metadata": {
        "colab": {
          "base_uri": "https://localhost:8080/"
        },
        "id": "tWWdjqSDnUfh",
        "outputId": "94dc3c05-0f1d-4b4d-b1d6-daaaa8e3d808"
      },
      "execution_count": 14,
      "outputs": [
        {
          "output_type": "stream",
          "name": "stdout",
          "text": [
            "El número de pájaros hembras y machos son 11 para cada género\n",
            "El número de pájaros hembras jóvenes es de 22\n"
          ]
        }
      ]
    },
    {
      "cell_type": "markdown",
      "source": [
        "### **2. Modelo de encriptación**"
      ],
      "metadata": {
        "id": "ieJTsvcxswn0"
      }
    },
    {
      "cell_type": "code",
      "source": [
        "# Se define la matriz A\n",
        "a1 = [1, 2, -3, 4, 5]\n",
        "a2 = [-2, -5, 8, -8, -9]\n",
        "a3 = [1, 2, -2, 7, 9]\n",
        "a4 = [1, 1, 0, 6, 12]\n",
        "a5 = [2, 4, -6, 8, 11]\n",
        "\n",
        "A = np.array([a1, a2, a3, a4, a5])\n",
        "print(A)"
      ],
      "metadata": {
        "colab": {
          "base_uri": "https://localhost:8080/"
        },
        "id": "g8TyA48EMMc0",
        "outputId": "a7589fb5-6c69-4988-eec6-ebb9b607bdda"
      },
      "execution_count": 15,
      "outputs": [
        {
          "output_type": "stream",
          "name": "stdout",
          "text": [
            "[[ 1  2 -3  4  5]\n",
            " [-2 -5  8 -8 -9]\n",
            " [ 1  2 -2  7  9]\n",
            " [ 1  1  0  6 12]\n",
            " [ 2  4 -6  8 11]]\n"
          ]
        }
      ]
    },
    {
      "cell_type": "code",
      "source": [
        "# inversa de la matriz A\n",
        "A_inv = np.linalg.inv(A)\n",
        "print(A_inv)"
      ],
      "metadata": {
        "colab": {
          "base_uri": "https://localhost:8080/"
        },
        "id": "r-HLhrdzszeN",
        "outputId": "5e7f3f1c-27d0-4f03-df93-083299fcc589"
      },
      "execution_count": 16,
      "outputs": [
        {
          "output_type": "stream",
          "name": "stdout",
          "text": [
            "[[ 14.   1.  -2.   1.  -5.]\n",
            " [ 22.  -7.  -4.   6. -19.]\n",
            " [ 13.  -3.  -2.   3. -10.]\n",
            " [ -2.   1.   1.  -1.   2.]\n",
            " [ -2.  -0.  -0.  -0.   1.]]\n"
          ]
        }
      ]
    },
    {
      "cell_type": "code",
      "source": [
        "# se define el mensaje encriptado como una matriz\n",
        "m1 = [47, 49, -19, 257, 487]\n",
        "m2 = [10, -9, 63, 137, 236]\n",
        "m3 = [79, 142, -184, 372, 536]\n",
        "m4 = [59, 70, -40, 332, 588]\n",
        "\n",
        "mensaje_encriptado = np.array([m1, m2, m3, m4])\n",
        "print(mensaje_encriptado)"
      ],
      "metadata": {
        "colab": {
          "base_uri": "https://localhost:8080/"
        },
        "id": "N9XYRoZDMq_z",
        "outputId": "43cec37c-a838-4d47-a682-857aa7e75371"
      },
      "execution_count": 17,
      "outputs": [
        {
          "output_type": "stream",
          "name": "stdout",
          "text": [
            "[[  47   49  -19  257  487]\n",
            " [  10   -9   63  137  236]\n",
            " [  79  142 -184  372  536]\n",
            " [  59   70  -40  332  588]]\n"
          ]
        }
      ]
    },
    {
      "cell_type": "code",
      "source": [
        "# Multiplicar el mensaje encriptado por la inversa de la matriz A\n",
        "mensaje_decodificado = mensaje_encriptado @ A_inv\n",
        "print(mensaje_decodificado)"
      ],
      "metadata": {
        "colab": {
          "base_uri": "https://localhost:8080/"
        },
        "id": "bmKKYLjlMLJe",
        "outputId": "6dab9b11-8859-4783-d873-ea80b214e5cd"
      },
      "execution_count": 18,
      "outputs": [
        {
          "output_type": "stream",
          "name": "stdout",
          "text": [
            "[[ 1. 18.  5. 27. 25.]\n",
            " [15. 21. 27.  8.  1.]\n",
            " [22.  9. 14.  7. 27.]\n",
            " [ 6. 21. 14. 27. 27.]]\n"
          ]
        }
      ]
    },
    {
      "cell_type": "code",
      "source": [
        "# Transcribir el mensaje decodificado en una cadena de números\n",
        "M = mensaje_decodificado.flatten() # convertir la matriz en un arreglo unidimensional\n",
        "M = np.round(M).astype(int) # redondea al entero más cercano\n",
        "M"
      ],
      "metadata": {
        "colab": {
          "base_uri": "https://localhost:8080/"
        },
        "id": "n-nD9tEyNOtF",
        "outputId": "5212dfc8-cb09-418f-e9b1-ef60fb5b9b45"
      },
      "execution_count": 19,
      "outputs": [
        {
          "output_type": "execute_result",
          "data": {
            "text/plain": [
              "array([ 1, 18,  5, 27, 25, 15, 21, 27,  8,  1, 22,  9, 14,  7, 27,  6, 21,\n",
              "       14, 27, 27])"
            ]
          },
          "metadata": {},
          "execution_count": 19
        }
      ]
    },
    {
      "cell_type": "code",
      "source": [
        "# Definir el mapeo entre números y letras\n",
        "mapeo = {\n",
        "    1: 'A', 2: 'B', 3: 'C', 4: 'D', 5: 'E',\n",
        "    6: 'F', 7: 'G', 8: 'H', 9: 'I', 10: 'J',\n",
        "    11: 'K', 12: 'L', 13: 'M', 14: 'N', 15: 'O',\n",
        "    16: 'P', 17: 'Q', 18: 'R', 19: 'S', 20: 'T',\n",
        "    21: 'U', 22: 'V', 23: 'W', 24: 'X', 25: 'Y',\n",
        "    26: 'Z', 27: ' '}\n",
        "\n",
        "letras = [mapeo[numero] for numero in M]\n",
        "print(letras)"
      ],
      "metadata": {
        "colab": {
          "base_uri": "https://localhost:8080/"
        },
        "id": "igTf1NkGO5ao",
        "outputId": "ab6b7a10-29ce-457d-a3b0-66f131749caf"
      },
      "execution_count": 20,
      "outputs": [
        {
          "output_type": "stream",
          "name": "stdout",
          "text": [
            "['A', 'R', 'E', ' ', 'Y', 'O', 'U', ' ', 'H', 'A', 'V', 'I', 'N', 'G', ' ', 'F', 'U', 'N', ' ', ' ']\n"
          ]
        }
      ]
    },
    {
      "cell_type": "code",
      "source": [
        "texto = ''.join(letras)\n",
        "print(\"El mensaje encriptado es:\", texto)"
      ],
      "metadata": {
        "colab": {
          "base_uri": "https://localhost:8080/"
        },
        "id": "kNgrt1W-TtE8",
        "outputId": "cf38db71-a50f-45ae-9340-b32eec248069"
      },
      "execution_count": 21,
      "outputs": [
        {
          "output_type": "stream",
          "name": "stdout",
          "text": [
            "El mensaje encriptado es: ARE YOU HAVING FUN  \n"
          ]
        }
      ]
    },
    {
      "cell_type": "markdown",
      "source": [
        "### **3. Diagonalización**"
      ],
      "metadata": {
        "id": "5aOSRdjWUXxy"
      }
    },
    {
      "cell_type": "code",
      "source": [
        "''' Diagonalización de A '''\n",
        "\n",
        "A = np.array([[2, -1, 1],\n",
        "              [0, 3, -1],\n",
        "              [2, 1, 3]])\n",
        "\n",
        "print(A)"
      ],
      "metadata": {
        "colab": {
          "base_uri": "https://localhost:8080/"
        },
        "id": "5m5gWU-MWfUG",
        "outputId": "4be67f31-f5bd-4e01-e873-8f7aeeabb44d"
      },
      "execution_count": 22,
      "outputs": [
        {
          "output_type": "stream",
          "name": "stdout",
          "text": [
            "[[ 2 -1  1]\n",
            " [ 0  3 -1]\n",
            " [ 2  1  3]]\n"
          ]
        }
      ]
    },
    {
      "cell_type": "code",
      "source": [
        "a_v = np.linalg.eigh(A)\n",
        "\n",
        "print(\"Autovalores:\", a_v[0])\n",
        "print(\"Autovectores:\", a_v[1])"
      ],
      "metadata": {
        "colab": {
          "base_uri": "https://localhost:8080/"
        },
        "id": "MkYom87BXAHs",
        "outputId": "b7a9595b-6bbe-41ef-9026-75a0b7998209"
      },
      "execution_count": 23,
      "outputs": [
        {
          "output_type": "stream",
          "name": "stdout",
          "text": [
            "Autovalores: [0.29072464 2.80606343 4.90321193]\n",
            "Autovectores: [[ 0.73923874  0.42713229 -0.52065737]\n",
            " [ 0.23319198 -0.88765034 -0.39711255]\n",
            " [-0.63178128  0.17214786 -0.75578934]]\n"
          ]
        }
      ]
    },
    {
      "cell_type": "code",
      "source": [
        "P = a_v[1]\n",
        "P_inv = np.linalg.inv(P) \n",
        "P_inv"
      ],
      "metadata": {
        "colab": {
          "base_uri": "https://localhost:8080/"
        },
        "id": "CvLscKXFXb0w",
        "outputId": "6c992e00-3e5c-4d39-925f-3e89e051902d"
      },
      "execution_count": 24,
      "outputs": [
        {
          "output_type": "execute_result",
          "data": {
            "text/plain": [
              "array([[ 0.73923874,  0.23319198, -0.63178128],\n",
              "       [ 0.42713229, -0.88765034,  0.17214786],\n",
              "       [-0.52065737, -0.39711255, -0.75578934]])"
            ]
          },
          "metadata": {},
          "execution_count": 24
        }
      ]
    },
    {
      "cell_type": "code",
      "source": [
        "A_diag = P_inv @ A @ P\n",
        "print(A_diag)"
      ],
      "metadata": {
        "colab": {
          "base_uri": "https://localhost:8080/"
        },
        "id": "Kvaj1hMBaSRA",
        "outputId": "b80f7b34-a327-4c69-a23b-b5dab17c398b"
      },
      "execution_count": 25,
      "outputs": [
        {
          "output_type": "stream",
          "name": "stdout",
          "text": [
            "[[ 0.88002995  0.44864015  1.20475776]\n",
            " [-0.95135138  3.41729185 -0.84931171]\n",
            " [-0.70930501 -0.23580749  3.7026782 ]]\n"
          ]
        }
      ]
    },
    {
      "cell_type": "code",
      "source": [
        "def f(t,r):\n",
        "  x,y,z=r\n",
        "  dx=2*x-y+z\n",
        "  dy=3*y-z\n",
        "  dz=2*x+y+3*z\n",
        "  return np.array([dx,dy,dz])\n",
        "\n",
        "A = np.array([[2, -1, 1],\n",
        "              [0, 3, -1],\n",
        "              [2, 1, 3]])\n",
        "eigenvalues, eigenvectors = np.linalg.eig(A)\n",
        "D = np.diag(eigenvalues)\n",
        "U = eigenvectors\n",
        "\n",
        "# Función para obtener la solución en el intervalo de tiempo [0, t_end]\n",
        "def solve_system(t_end, r_0):\n",
        "    t_values = np.linspace(0, t_end, 100)  # Intervalo de tiempo discretizado\n",
        "    r_values = np.zeros((len(t_values), 3))  # Matriz para almacenar los valores de x, y, z\n",
        "\n",
        "    # Cálculo de la solución para cada valor de tiempo\n",
        "    for i, t in enumerate(t_values):\n",
        "        exponential_term = np.exp(D*t)  # Término exponencial\n",
        "        r = U @ (exponential_term @ np.linalg.inv(U) @ r_0)  # Solución de r(t) = U * e^(D*t) * U^(-1) * r(0)\n",
        "        r_values[i] = r\n",
        "\n",
        "    return r_values\n",
        "\n",
        "# Condiciones iniciales y tiempo final\n",
        "r_0 = np.array([1, 1, 2])\n",
        "t_end = 2\n",
        "t_values = np.linspace(0, t_end, 100)"
      ],
      "metadata": {
        "id": "1aBNUYmMZ_hs"
      },
      "execution_count": 28,
      "outputs": []
    },
    {
      "cell_type": "code",
      "source": [
        "# Obtener los valores de x(t), y(t), z(t)\n",
        "solution = solve_system(t_end, r_0)\n",
        "x_values, y_values, z_values = solution[:, 0], solution[:, 1], solution[:, 2]\n",
        "\n",
        "# Graficar x(t), y(t), z(t)\n",
        "plt.plot(t_values, x_values, label='x(t)')\n",
        "plt.plot(t_values, y_values, label='y(t)')\n",
        "plt.plot(t_values, z_values, label='z(t)')\n",
        "plt.xlabel('Tiempo')\n",
        "plt.ylabel('Valor')\n",
        "plt.title('Soluciones de las ecuaciones diferenciales')\n",
        "plt.legend()\n",
        "plt.grid()"
      ],
      "metadata": {
        "colab": {
          "base_uri": "https://localhost:8080/",
          "height": 507
        },
        "id": "pDjNlvvEaBhP",
        "outputId": "e4d14ebe-eb15-44c7-8674-037250f004cb"
      },
      "execution_count": 29,
      "outputs": [
        {
          "output_type": "stream",
          "name": "stderr",
          "text": [
            "<ipython-input-28-5558c2bd313b>:24: ComplexWarning: Casting complex values to real discards the imaginary part\n",
            "  r_values[i] = r\n"
          ]
        },
        {
          "output_type": "display_data",
          "data": {
            "text/plain": [
              "<Figure size 640x480 with 1 Axes>"
            ],
            "image/png": "[encoded data removed]"
          },
          "metadata": {}
        }
      ]
    },
    {
      "cell_type": "code",
      "source": [
        "# Comparar con la solución analítica\n",
        "analytical_x = r_0[0] * (np.exp(2*t_values) * (1 + np.exp(2*t_values) - 2*t_values))\n",
        "analytical_y = r_0[0] * (-2*t_values * np.exp(2*t_values)) + r_0[1] * (2*(t_values + 1) * np.exp(2*t_values))\n",
        "analytical_z = r_0[0] * (np.exp(2*t_values) * (-1 + np.exp(2*t_values) + 2*t_values)) + r_0[1] * (2*t_values * np.exp(2*t_values)) + r_0[2] * (np.exp(2*t_values) * (1 + np.exp(2*t_values)))"
      ],
      "metadata": {
        "id": "mlrf_dtwaMQg"
      },
      "execution_count": 30,
      "outputs": []
    },
    {
      "cell_type": "code",
      "source": [
        "# Graficar la comparación\n",
        "plt.plot(t_values, z_values, 'purple', label='x(t) (Diagonalización)')\n",
        "plt.plot(t_values, y_values, 'c',label='y(t) (Diagonalización)')\n",
        "plt.plot(t_values, z_values, 'salmon',label='z(t) (Diagonalización)')\n",
        "plt.plot(t_values, analytical_x, 'r--', label='x(t) (Analítica)')\n",
        "plt.plot(t_values, analytical_y, 'b--', label='y(t) (Analítica)')\n",
        "plt.plot(t_values, analytical_z, 'g--', label='z(t) (Analítica)')\n",
        "plt.title('Soluciones de las ecuaciones diferenciales')\n",
        "plt.legend()\n",
        "plt.xlabel('Tiempo')\n",
        "plt.ylabel('Valor')\n",
        "plt.grid()"
      ],
      "metadata": {
        "colab": {
          "base_uri": "https://localhost:8080/",
          "height": 472
        },
        "id": "Ba7xf0iUaRpP",
        "outputId": "62f9fa07-ee75-44cb-db02-d4a1617e8566"
      },
      "execution_count": 34,
      "outputs": [
        {
          "output_type": "display_data",
          "data": {
            "text/plain": [
              "<Figure size 640x480 with 1 Axes>"
            ],
            "image/png": "[encoded data removed]"
          },
          "metadata": {}
        }
      ]
    }
  ]
}