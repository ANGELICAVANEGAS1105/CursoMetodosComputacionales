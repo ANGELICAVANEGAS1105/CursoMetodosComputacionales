{
  "nbformat": 4,
  "nbformat_minor": 0,
  "metadata": {
    "colab": {
      "provenance": []
    },
    "kernelspec": {
      "name": "python3",
      "display_name": "Python 3"
    },
    "language_info": {
      "name": "python"
    }
  },
  "cells": [
    {
      "cell_type": "markdown",
      "source": [
        "# Autovalores, autovectores, polinomio caracteristico, diagonalización"
      ],
      "metadata": {
        "id": "Qms28ZxFZdXn"
      }
    },
    {
      "cell_type": "markdown",
      "source": [
        "| Librería | Función | Explicación |\n",
        "| --- | --- | --- |\n",
        "| numpy | numpy.linalg.eig | Calcula los autovalores y autovectores derechos de una matriz cuadrada |\n",
        "| numpy | numpy.linalg.eigh | Calcula los autovalores y autovectores de una matriz hermítica compleja o simétrica real |\n",
        "| numpy | numpy.poly | Calcula el polinomio característico de una matriz |\n",
        "| sympy | sympy.Matrix.eigenvals | Calcula los autovalores de una matriz simbólica |\n",
        "| sympy | sympy.Matrix.eigenvects | Calcula los autovalores y autovectores de una matriz simbólica |\n",
        "| sympy | sympy.Matrix.charpoly | Calcula el polinomio característico de una matriz simbólica |"
      ],
      "metadata": {
        "id": "ONmddMM3Youm"
      }
    },
    {
      "cell_type": "markdown",
      "source": [
        "Calcular el polinomio caracteristico, los  autovalores y autovectores propios de la siguiente matrices, comprobar con la solucion analitica:\n",
        "\n",
        "1. \n",
        "\\begin{bmatrix}\n",
        "1 & -1 & 4 \\\\\n",
        "3 & 2 & -1 \\\\\n",
        "2 & 1 & -1\n",
        "\\end{bmatrix}\n",
        "\n",
        "\n",
        "2. \\begin{bmatrix}\n",
        "3 & -5 \\\\\n",
        "1 & -1 \\\\\n",
        "\\end{bmatrix}\n",
        "\n",
        "\n",
        "\n"
      ],
      "metadata": {
        "id": "EwfvC822XBSY"
      }
    },
    {
      "cell_type": "markdown",
      "source": [
        "# Diagonalizacion \n",
        "Una matriz cuadrada $A$ es diagonalizable si y solo si cada autovalor $\\lambda$ de multiplicidad $m$ produce exactamente $m$ autovectores básicos; es decir, si y solo si la solución general del sistema $(A-I\\lambda)\\vec{x}=0$ tiene exactamente $m$ parámetros.\n",
        "\n",
        "\n",
        "Para diagonalizar una matriz $A$, se necesita encontrar una matriz invertible $P$ tal que $P^{-1}AP$ sea una matriz diagonal $D$. Esto significa que las columnas de $P$ son los autovectores de $A$ y los elementos de la diagonal de $D$ son los autovalores correspondientes de $A$.\n",
        "\n",
        "Encuentre la matrix diagnonal para las matrices anteriores. \n",
        "\n"
      ],
      "metadata": {
        "id": "FjG0uYQ_ZlFo"
      }
    },
    {
      "cell_type": "markdown",
      "source": [
        "Actividad 2. \n",
        "\n",
        "Considere la ecuación cuadrática $x^2-4xy+3y=6$, esta ecuación cuadrática se corresponde a una hiperbola, la cual puede ser escrita en forma matricial como sigue:\n",
        "\n",
        "$A\\vec{v} \\cdot \\vec{v}=6$, donde $\\vec{v}=(x, y)$ y A es una matrix simetrica, \n",
        "\n",
        "\\begin{equation}\n",
        "A=\\begin{bmatrix}\n",
        "1 & -2 \\\\\n",
        "-2 & 3 \\\\\n",
        "\\end{bmatrix}\n",
        "\\end{equation}\n",
        "\n",
        "1. Realice un grafico que represente la hyperbola\n",
        "\n",
        "\n",
        "\n",
        "\n",
        "\n",
        "\n",
        "\n",
        "- Diagonalice A, para ello construya la matrix Q de autovectores ortoganales \n",
        "tal que $D=Q^{T}AQ$, en este caso se dice que A es diagonalizable ortogonalmente, donde $A=QDQ^T$.\n",
        "\n",
        "- Aplique el resultado de la siguiente demostración para encontrar una nueva hyperbola en una  nueva base\n",
        "\n",
        "\\begin{equation}\n",
        "QDQ^T \\vec{v} \\cdot \\vec{v} = d\n",
        "\\end{equation}\n",
        "\n",
        "\n",
        "\\begin{equation}\n",
        "Q(DQ^T\\vec{v}) \\cdot \\vec{v} = (DQ^T\\vec{v}) \\cdot (Q^T\\vec{v})=d\n",
        "\\end{equation}\n",
        "\n",
        "\n",
        "\\begin{equation}\n",
        "(DQ^T\\vec{v}) \\cdot (Q^T\\vec{v})=d\n",
        "\\end{equation}\n",
        "\n",
        "\n",
        "Sea $u=Q^T\\vec{v}$\n",
        "\n",
        "Luego :\n",
        "\n",
        "\n",
        "\\begin{equation}\n",
        "(D\\vec{u}) \\cdot \\vec{u}=d\n",
        "\\end{equation}\n",
        "\n",
        "donde $\\vec{u}=(x', y')$, tal que $D\\vec{u} \\cdot \\vec{u}=d$ es una nueva hyperbola \n",
        "\n",
        "\n",
        "\n",
        "\n",
        "\n",
        "\n",
        "\n"
      ],
      "metadata": {
        "id": "JwPHzdikikzu"
      }
    },
    {
      "cell_type": "code",
      "source": [
        "#@title Librerías\n",
        "\n",
        "import numpy as np\n",
        "import sympy as sp\n",
        "from sympy import Matrix, symbols\n",
        "import matplotlib.pyplot as plt"
      ],
      "metadata": {
        "id": "vyJHxkinijT2"
      },
      "execution_count": 23,
      "outputs": []
    },
    {
      "cell_type": "code",
      "source": [
        "#@title Autovalores, autovectores, polinomio caracteristico\n",
        "\n",
        "a = [1,-1,4]\n",
        "b = [3,2,-1]\n",
        "c = [2,1,-1]\n",
        "\n",
        "m1 = np.array([a,b,c])\n",
        "print(m1)"
      ],
      "metadata": {
        "colab": {
          "base_uri": "https://localhost:8080/"
        },
        "id": "d5tkPx1gu6_j",
        "outputId": "d29f513c-7fc7-4f87-c32e-333793cae9f8"
      },
      "execution_count": 24,
      "outputs": [
        {
          "output_type": "stream",
          "name": "stdout",
          "text": [
            "[[ 1 -1  4]\n",
            " [ 3  2 -1]\n",
            " [ 2  1 -1]]\n"
          ]
        }
      ]
    },
    {
      "cell_type": "code",
      "source": [
        "# Polinomio característico\n",
        "\n",
        "polinomio = np.poly(m1)\n",
        "polinomio"
      ],
      "metadata": {
        "colab": {
          "base_uri": "https://localhost:8080/"
        },
        "id": "zDsudc_6xo3S",
        "outputId": "dff4f026-f7b2-4971-93cb-2c181f737ce7"
      },
      "execution_count": 25,
      "outputs": [
        {
          "output_type": "execute_result",
          "data": {
            "text/plain": [
              "array([ 1., -2., -5.,  6.])"
            ]
          },
          "metadata": {},
          "execution_count": 25
        }
      ]
    },
    {
      "cell_type": "code",
      "source": [
        "# Autovectores y autovalores\n",
        "\n",
        "a_v = np.linalg.eig(m1)\n",
        "print(\"Los autovalores de la matriz son\", a_v[0]) # primer array autovalores\n",
        "print(\"Los autovectores de la matriz son\", a_v[1]) # segundo array normalización de los autovectores"
      ],
      "metadata": {
        "colab": {
          "base_uri": "https://localhost:8080/"
        },
        "id": "73ZqHGWGx3dv",
        "outputId": "1855023d-3c8f-42f4-893e-d5744b6152c4"
      },
      "execution_count": 26,
      "outputs": [
        {
          "output_type": "stream",
          "name": "stdout",
          "text": [
            "Los autovalores de la matriz son [ 3. -2.  1.]\n",
            "Los autovectores de la matriz son [[ 0.40824829  0.57735027  0.23570226]\n",
            " [ 0.81649658 -0.57735027 -0.94280904]\n",
            " [ 0.40824829 -0.57735027 -0.23570226]]\n"
          ]
        }
      ]
    },
    {
      "cell_type": "code",
      "source": [
        "a_ = [3,-5]\n",
        "b_ = [1,-1]\n",
        "\n",
        "m2 = np.array([a_, b_])\n",
        "print(m2)"
      ],
      "metadata": {
        "colab": {
          "base_uri": "https://localhost:8080/"
        },
        "id": "DWmD0pNqzDWS",
        "outputId": "96215fd8-29ef-41d0-fbd0-c089369e5d83"
      },
      "execution_count": 27,
      "outputs": [
        {
          "output_type": "stream",
          "name": "stdout",
          "text": [
            "[[ 3 -5]\n",
            " [ 1 -1]]\n"
          ]
        }
      ]
    },
    {
      "cell_type": "code",
      "source": [
        "# Polinomio característico\n",
        "\n",
        "polinomio2 = np.poly(m2)\n",
        "polinomio2"
      ],
      "metadata": {
        "colab": {
          "base_uri": "https://localhost:8080/"
        },
        "id": "N3huRmN2zYzK",
        "outputId": "3ba0841a-5ce2-4957-e3a3-110bf0145a30"
      },
      "execution_count": 28,
      "outputs": [
        {
          "output_type": "execute_result",
          "data": {
            "text/plain": [
              "array([ 1., -2.,  2.])"
            ]
          },
          "metadata": {},
          "execution_count": 28
        }
      ]
    },
    {
      "cell_type": "code",
      "source": [
        "a_v2 = np.linalg.eig(m2) \n",
        "print(\"Los autovalores de la matriz compleja son\", a_v2[0]) \n",
        "print(\"Los autovectores de la matriz compleja son\", a_v2[1]) "
      ],
      "metadata": {
        "colab": {
          "base_uri": "https://localhost:8080/"
        },
        "id": "20tSJ7Uwz-Ja",
        "outputId": "032199dd-cf5c-4540-804a-7f92abce96aa"
      },
      "execution_count": 29,
      "outputs": [
        {
          "output_type": "stream",
          "name": "stdout",
          "text": [
            "Los autovalores de la matriz compleja son [1.+1.j 1.-1.j]\n",
            "Los autovectores de la matriz compleja son [[0.91287093+0.j         0.91287093-0.j        ]\n",
            " [0.36514837-0.18257419j 0.36514837+0.18257419j]]\n"
          ]
        }
      ]
    },
    {
      "cell_type": "code",
      "source": [
        "a_v2 = np.linalg.eigh(m2) # Calcula los autovalores y autovectores de una matriz hermítica compleja\n",
        "print(\"Los autovalores de la matriz compleja son\", a_v2[0]) \n",
        "print(\"Los autovectores de la matriz compleja son\", a_v2[1]) "
      ],
      "metadata": {
        "colab": {
          "base_uri": "https://localhost:8080/"
        },
        "id": "gvMegaMXzc5H",
        "outputId": "d8089d1b-d038-4aae-8500-9864024897d5"
      },
      "execution_count": 30,
      "outputs": [
        {
          "output_type": "stream",
          "name": "stdout",
          "text": [
            "Los autovalores de la matriz compleja son [-1.23606798  3.23606798]\n",
            "Los autovectores de la matriz compleja son [[ 0.22975292 -0.97324899]\n",
            " [-0.97324899 -0.22975292]]\n"
          ]
        }
      ]
    },
    {
      "cell_type": "code",
      "source": [
        "#@title Diagonalización: matrices anteriores\n",
        "\n",
        "# Diagonalización de m1\n",
        "P1 = a_v[1] # Autovectores\n",
        "P1"
      ],
      "metadata": {
        "colab": {
          "base_uri": "https://localhost:8080/"
        },
        "id": "d25C3LHq0PtJ",
        "outputId": "892b6557-776e-4e5b-d255-dea176ce6281"
      },
      "execution_count": 31,
      "outputs": [
        {
          "output_type": "execute_result",
          "data": {
            "text/plain": [
              "array([[ 0.40824829,  0.57735027,  0.23570226],\n",
              "       [ 0.81649658, -0.57735027, -0.94280904],\n",
              "       [ 0.40824829, -0.57735027, -0.23570226]])"
            ]
          },
          "metadata": {},
          "execution_count": 31
        }
      ]
    },
    {
      "cell_type": "code",
      "source": [
        "print(a_v[0]) # Autovalores"
      ],
      "metadata": {
        "colab": {
          "base_uri": "https://localhost:8080/"
        },
        "id": "LQeTHvpX4igN",
        "outputId": "a1569f30-464e-43cb-d835-4209b482d592"
      },
      "execution_count": 34,
      "outputs": [
        {
          "output_type": "stream",
          "name": "stdout",
          "text": [
            "[ 3. -2.  1.]\n"
          ]
        }
      ]
    },
    {
      "cell_type": "code",
      "source": [
        "d1 = [3, 0, 0]\n",
        "d2 = [0, -2, 0]\n",
        "d3 = [0, 0, 1]\n",
        "\n",
        "D1 = np.array([d1, d2, d3]) # diagonal de autovalores\n",
        "print(D1)"
      ],
      "metadata": {
        "colab": {
          "base_uri": "https://localhost:8080/"
        },
        "id": "84uSostI3-tn",
        "outputId": "cbc11c49-1cc3-405d-c3df-ce533351bfbf"
      },
      "execution_count": 38,
      "outputs": [
        {
          "output_type": "stream",
          "name": "stdout",
          "text": [
            "[[ 3  0  0]\n",
            " [ 0 -2  0]\n",
            " [ 0  0  1]]\n"
          ]
        }
      ]
    },
    {
      "cell_type": "code",
      "source": [
        "P1_ =  np.linalg.inv(P1) # matriz invertible de P\n",
        "P1_"
      ],
      "metadata": {
        "colab": {
          "base_uri": "https://localhost:8080/"
        },
        "id": "0vX7xBq_4hxe",
        "outputId": "28db374b-2e64-4deb-dff9-9a5c38f59697"
      },
      "execution_count": 39,
      "outputs": [
        {
          "output_type": "execute_result",
          "data": {
            "text/plain": [
              "array([[ 1.22474487e+00, -1.08779196e-15,  1.22474487e+00],\n",
              "       [ 5.77350269e-01,  5.77350269e-01, -1.73205081e+00],\n",
              "       [ 7.07106781e-01, -1.41421356e+00,  2.12132034e+00]])"
            ]
          },
          "metadata": {},
          "execution_count": 39
        }
      ]
    },
    {
      "cell_type": "code",
      "source": [
        "# Matriz diagonal de m1\n",
        "  \n",
        "''' Podemos ver que los valores de la diagonal concuerdan con D1 '''\n",
        "\n",
        "m1_diag = P1_ @ m1 @ P1\n",
        "m1_diag"
      ],
      "metadata": {
        "colab": {
          "base_uri": "https://localhost:8080/"
        },
        "id": "Q3oph_3R5bsN",
        "outputId": "63c2a56c-87ed-480d-c3d2-2e1fb7165483"
      },
      "execution_count": 40,
      "outputs": [
        {
          "output_type": "execute_result",
          "data": {
            "text/plain": [
              "array([[ 3.00000000e+00, -1.33226763e-15, -1.66533454e-15],\n",
              "       [ 1.11022302e-15, -2.00000000e+00, -2.44249065e-15],\n",
              "       [ 3.33066907e-16, -8.88178420e-16,  1.00000000e+00]])"
            ]
          },
          "metadata": {},
          "execution_count": 40
        }
      ]
    },
    {
      "cell_type": "code",
      "source": [
        "# Diagonalización de m2\n",
        "\n",
        "P2 = a_v2[1]\n",
        "P2"
      ],
      "metadata": {
        "colab": {
          "base_uri": "https://localhost:8080/"
        },
        "id": "DkjLGSkd6Grk",
        "outputId": "ef0de266-0449-40ff-8257-eda17570773d"
      },
      "execution_count": 41,
      "outputs": [
        {
          "output_type": "execute_result",
          "data": {
            "text/plain": [
              "array([[ 0.22975292, -0.97324899],\n",
              "       [-0.97324899, -0.22975292]])"
            ]
          },
          "metadata": {},
          "execution_count": 41
        }
      ]
    },
    {
      "cell_type": "code",
      "source": [
        "print(a_v2[0])"
      ],
      "metadata": {
        "colab": {
          "base_uri": "https://localhost:8080/"
        },
        "id": "hKdEPSZZ6mhZ",
        "outputId": "1b80b363-9e92-4fee-8155-8015c7ab8ff5"
      },
      "execution_count": 43,
      "outputs": [
        {
          "output_type": "stream",
          "name": "stdout",
          "text": [
            "[-1.23606798  3.23606798]\n"
          ]
        }
      ]
    },
    {
      "cell_type": "code",
      "source": [
        "P2_ =  np.linalg.inv(P2) \n",
        "P2_"
      ],
      "metadata": {
        "colab": {
          "base_uri": "https://localhost:8080/"
        },
        "id": "O6e6aLew6tHS",
        "outputId": "fb7b6e34-824e-4cb0-e81e-dd3be2c45fdb"
      },
      "execution_count": 45,
      "outputs": [
        {
          "output_type": "execute_result",
          "data": {
            "text/plain": [
              "array([[ 0.22975292, -0.97324899],\n",
              "       [-0.97324899, -0.22975292]])"
            ]
          },
          "metadata": {},
          "execution_count": 45
        }
      ]
    },
    {
      "cell_type": "code",
      "source": [
        "# Matriz diagonal de m2\n",
        "  \n",
        "''' Podemos ver que los valores de la diagonal concuerdan con los autovalores '''\n",
        "\n",
        "m2_diag = P2_ @ m2 @ P2\n",
        "m2_diag"
      ],
      "metadata": {
        "colab": {
          "base_uri": "https://localhost:8080/"
        },
        "id": "RgIbe81B63H5",
        "outputId": "de519564-0fe2-4e90-8e00-593c2745e8d1"
      },
      "execution_count": 47,
      "outputs": [
        {
          "output_type": "execute_result",
          "data": {
            "text/plain": [
              "array([[ 0.10557281,  0.31671843],\n",
              "       [-5.68328157,  1.89442719]])"
            ]
          },
          "metadata": {},
          "execution_count": 47
        }
      ]
    },
    {
      "cell_type": "code",
      "source": [
        "#@title Diagonalización: actividad 2\n",
        "\n",
        "a1 = [1,-2]\n",
        "a2 = [-2,3]\n",
        "\n",
        "A = np.array([a1,a2])\n",
        "print(A)"
      ],
      "metadata": {
        "colab": {
          "base_uri": "https://localhost:8080/"
        },
        "id": "EeuxirVp7MD0",
        "outputId": "c32ab89c-eb18-4f9d-cc8b-cd03ac1137fd"
      },
      "execution_count": 49,
      "outputs": [
        {
          "output_type": "stream",
          "name": "stdout",
          "text": [
            "[[ 1 -2]\n",
            " [-2  3]]\n"
          ]
        }
      ]
    },
    {
      "cell_type": "code",
      "source": [
        "x, y = symbols('x y')\n",
        "\n",
        "x_ = [x]\n",
        "y_ = [y]\n",
        "\n",
        "v  = np.array([x_,y_])\n",
        "v"
      ],
      "metadata": {
        "colab": {
          "base_uri": "https://localhost:8080/"
        },
        "id": "LmX_UVKM7jyo",
        "outputId": "a2c17536-f6c9-4c2c-e6e7-74a048c99c4b"
      },
      "execution_count": 50,
      "outputs": [
        {
          "output_type": "execute_result",
          "data": {
            "text/plain": [
              "array([[x],\n",
              "       [y]], dtype=object)"
            ]
          },
          "metadata": {},
          "execution_count": 50
        }
      ]
    },
    {
      "cell_type": "code",
      "source": [
        "m = A*v # multiplicación simbólica de matrices\n",
        "print(m)"
      ],
      "metadata": {
        "colab": {
          "base_uri": "https://localhost:8080/"
        },
        "id": "sMAUCStdAaYi",
        "outputId": "56b7ebd7-c6b7-4f4a-ab57-8f7747b2f051"
      },
      "execution_count": 52,
      "outputs": [
        {
          "output_type": "stream",
          "name": "stdout",
          "text": [
            "[[x -2*x]\n",
            " [-2*y 3*y]]\n"
          ]
        }
      ]
    },
    {
      "cell_type": "code",
      "source": [
        "pp = np.dot(m, v) # producto punto de matrices\n",
        "print(pp)"
      ],
      "metadata": {
        "colab": {
          "base_uri": "https://localhost:8080/"
        },
        "id": "8DFhiMY7Ajnz",
        "outputId": "3505918e-d42d-4d9f-9a89-f5b6f905d647"
      },
      "execution_count": 54,
      "outputs": [
        {
          "output_type": "stream",
          "name": "stdout",
          "text": [
            "[[x**2 - 2*x*y]\n",
            " [-2*x*y + 3*y**2]]\n"
          ]
        }
      ]
    },
    {
      "cell_type": "code",
      "source": [
        "f_1= lambda x: (2*x+np.sqrt(x**2+18))/3\n",
        "f_2= lambda x: (2*x-np.sqrt(x**2+18))/3\n",
        "\n",
        "x  = np.linspace(-10,10,100)"
      ],
      "metadata": {
        "id": "czRD88YPAy8H"
      },
      "execution_count": 55,
      "outputs": []
    },
    {
      "cell_type": "code",
      "source": [
        "plt.plot(x, f_1(x))\n",
        "plt.plot(x, f_2(x))\n",
        "plt.grid()"
      ],
      "metadata": {
        "colab": {
          "base_uri": "https://localhost:8080/",
          "height": 430
        },
        "id": "ttTp11P5BMZK",
        "outputId": "fd35ab99-99b5-49a8-f06f-2855dea00ae9"
      },
      "execution_count": 56,
      "outputs": [
        {
          "output_type": "display_data",
          "data": {
            "text/plain": [
              "<Figure size 640x480 with 1 Axes>"
            ],
            "image/png": "[encoded data removed]"
          },
          "metadata": {}
        }
      ]
    },
    {
      "cell_type": "code",
      "source": [
        "x_  = np.linspace(-10,10,50)\n",
        "y_  = np.linspace(-10,10,50)\n",
        "x, y = np.meshgrid(x_,y_)\n",
        "\n",
        "plt.contour(x , y, (x**2 -4*x*y +3*(y**2) -6), [0] )\n",
        "plt.grid()"
      ],
      "metadata": {
        "colab": {
          "base_uri": "https://localhost:8080/",
          "height": 435
        },
        "id": "qbbe6-zxBYlM",
        "outputId": "1ce8186b-6622-4be7-e5f4-0950160c5da3"
      },
      "execution_count": 58,
      "outputs": [
        {
          "output_type": "display_data",
          "data": {
            "text/plain": [
              "<Figure size 640x480 with 1 Axes>"
            ],
            "image/png": "[encoded data removed]"
          },
          "metadata": {}
        }
      ]
    },
    {
      "cell_type": "code",
      "source": [
        "''' Diagonalizar la matriz'''\n",
        "\n",
        "autov = np.linalg.eig(A)\n",
        "print(autov)"
      ],
      "metadata": {
        "colab": {
          "base_uri": "https://localhost:8080/"
        },
        "id": "0MWtkrnfBqmg",
        "outputId": "6a166a59-f09d-4714-ff5d-6290174f896b"
      },
      "execution_count": 59,
      "outputs": [
        {
          "output_type": "stream",
          "name": "stdout",
          "text": [
            "(array([-0.23606798,  4.23606798]), array([[-0.85065081,  0.52573111],\n",
            "       [-0.52573111, -0.85065081]]))\n"
          ]
        }
      ]
    },
    {
      "cell_type": "code",
      "source": [
        "P3 = autov[1]\n",
        "print(P3)"
      ],
      "metadata": {
        "colab": {
          "base_uri": "https://localhost:8080/"
        },
        "id": "w7mnmMnaCX4h",
        "outputId": "b07f3666-a70c-4279-98dc-a75860f6f6fd"
      },
      "execution_count": 60,
      "outputs": [
        {
          "output_type": "stream",
          "name": "stdout",
          "text": [
            "[[-0.85065081  0.52573111]\n",
            " [-0.52573111 -0.85065081]]\n"
          ]
        }
      ]
    },
    {
      "cell_type": "code",
      "source": [
        "P3_ = np.linalg.inv(P3)\n",
        "P3_"
      ],
      "metadata": {
        "colab": {
          "base_uri": "https://localhost:8080/"
        },
        "id": "NSD11vSkCl47",
        "outputId": "a9becfdb-930f-41fe-d902-205aadd79ed5"
      },
      "execution_count": 61,
      "outputs": [
        {
          "output_type": "execute_result",
          "data": {
            "text/plain": [
              "array([[-0.85065081, -0.52573111],\n",
              "       [ 0.52573111, -0.85065081]])"
            ]
          },
          "metadata": {},
          "execution_count": 61
        }
      ]
    },
    {
      "cell_type": "code",
      "source": [
        "D = (P3.T) @ A @ P3_\n",
        "D"
      ],
      "metadata": {
        "colab": {
          "base_uri": "https://localhost:8080/"
        },
        "id": "zdP8cZu2Ctb8",
        "outputId": "b31b6857-4239-4005-b105-41199eef2db4"
      },
      "execution_count": 62,
      "outputs": [
        {
          "output_type": "execute_result",
          "data": {
            "text/plain": [
              "array([[-0.10557281, -0.21114562],\n",
              "       [-3.78885438,  1.89442719]])"
            ]
          },
          "metadata": {},
          "execution_count": 62
        }
      ]
    },
    {
      "cell_type": "code",
      "source": [
        "''' Construir una nueva hiperbola (cambio de base) '''\n",
        "\n",
        "A_ = P3 @ D @ (P3.T)\n",
        "print(A_)"
      ],
      "metadata": {
        "colab": {
          "base_uri": "https://localhost:8080/"
        },
        "id": "N0bmtSseDdOT",
        "outputId": "caf1d2d8-35e1-46c8-8325-783abd7b66f6"
      },
      "execution_count": 63,
      "outputs": [
        {
          "output_type": "stream",
          "name": "stdout",
          "text": [
            "[[ 2.23606798e+00 -5.55111512e-16]\n",
            " [-3.57770876e+00 -4.47213595e-01]]\n"
          ]
        }
      ]
    },
    {
      "cell_type": "code",
      "source": [
        "u = (P3.T) @ v\n",
        "u"
      ],
      "metadata": {
        "colab": {
          "base_uri": "https://localhost:8080/"
        },
        "id": "IqbSixdLD6h9",
        "outputId": "045d35ae-2959-48db-c3c4-b3809decb0ba"
      },
      "execution_count": 68,
      "outputs": [
        {
          "output_type": "execute_result",
          "data": {
            "text/plain": [
              "array([[-0.85065080835204*x - 0.525731112119133*y],\n",
              "       [0.525731112119133*x - 0.85065080835204*y]], dtype=object)"
            ]
          },
          "metadata": {},
          "execution_count": 68
        }
      ]
    },
    {
      "cell_type": "code",
      "source": [
        "q = D @ u\n",
        "q # nueva hipérbola"
      ],
      "metadata": {
        "colab": {
          "base_uri": "https://localhost:8080/"
        },
        "id": "uJZJwlC4EK_3",
        "outputId": "6bbc4fdd-fedd-4717-fa05-43b02ef679dd"
      },
      "execution_count": 69,
      "outputs": [
        {
          "output_type": "execute_result",
          "data": {
            "text/plain": [
              "array([[-0.0212002252543934*x + 0.235114100916989*y],\n",
              "       [4.21895135672944*x + 0.38042260651806*y]], dtype=object)"
            ]
          },
          "metadata": {},
          "execution_count": 69
        }
      ]
    }
  ]
}