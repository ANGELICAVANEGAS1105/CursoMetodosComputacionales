{
  "nbformat": 4,
  "nbformat_minor": 0,
  "metadata": {
    "colab": {
      "provenance": []
    },
    "kernelspec": {
      "name": "python3",
      "display_name": "Python 3"
    },
    "language_info": {
      "name": "python"
    }
  },
  "cells": [
    {
      "cell_type": "markdown",
      "source": [
        "# **Actividad**\n",
        "1. Elaborar un programa en python que permita calcular la integral de una función entre el intervalo a, b. para ello debera realizar lo siguiente:\n",
        "\n",
        "### **Realizar en notebook de collab**\n",
        "- Deducir la ecuación general del metodo del trapecio.\n",
        "- Construir un funcion llamada integral_trapz que reciba como argumento una función y el intervalo a, b. El numero de intervalos N será un argumento opcional, \n",
        "  defina por defecto N=10. La función deberá retornar el valor de la integral.  \n",
        "- Comparar la solución con la libreria de scipy https://docs.scipy.org/doc//scipy-1.4.1/reference/generated/scipy.integrate.trapz.html\n",
        "\n",
        "### **Construir un programa en python con la función anterior que realice lo siguiente:**\n",
        "\n",
        "- Generalice el programa para que la funcion pueda ser pasada como parametro en terminal, junto con el parametro a, b. la ejecucion debera ser:\n",
        "  python integral func a b, Ejemplo de ejcucion:\n",
        "  python x**2+1 1 5  \n",
        "\n",
        "Para pasar los parametros consulte la libreria sys de python."
      ],
      "metadata": {
        "id": "hlHt9sCFR4T9"
      }
    },
    {
      "cell_type": "markdown",
      "source": [
        "### ***Deducción de la ecuación del método del trapecio***\n",
        "\n",
        "La fórmula general del método del trapecio se deduce mediante la aproximación de una integral definida usando una suma de áreas de trapecios. Supongamos que queremos aproximar la integral definida de una función $f(x)$ en el intervalo $[a, b]$.\n",
        "\n",
        "La fórmula del método del trapecio es:\n",
        "\n",
        "\\begin{equation}\n",
        "\\int_{a}^{b} f(x) \\cdot dx \\approx \\frac{h}{2} \\left( f(a) + 2f(x_1) + 2f(x_2) + \\ldots + 2f(x_{n-1}) + f(b) \\right)\n",
        "\\end{equation}\n",
        "\n",
        "donde:\n",
        "- $h$ es el tamaño del intervalo: $h = \\frac{(b - a)}{n}$\n",
        "- $n$ es el número de subintervalos\n",
        "- $x_i$ son los puntos dentro de cada subintervalo\n",
        "\n",
        "La deducción de esta fórmula se basa en aproximar la función $f(x)$ dentro de cada subintervalo por una función lineal (un trapecio). Luego, se calcula el área de cada trapecio y se suman todas las áreas para obtener la aproximación de la integral.\n"
      ],
      "metadata": {
        "id": "zpQ0TBX0qN-t"
      }
    },
    {
      "cell_type": "code",
      "source": [
        "#@title Librerías\n",
        "\n",
        "import numpy as np\n",
        "from scipy.integrate import trapz"
      ],
      "metadata": {
        "id": "6NMnW4DAYK_K"
      },
      "execution_count": null,
      "outputs": []
    },
    {
      "cell_type": "code",
      "execution_count": null,
      "metadata": {
        "id": "j7WR27erRzgX"
      },
      "outputs": [],
      "source": [
        "#@title Función que calcula la integral\n",
        "\n",
        "def integral_trapz(fun, a, b, N):\n",
        "  x = np.linspace(a, b, N+1)\n",
        "  A_T = []\n",
        "  for i in range(len(x)-1):\n",
        "    h_0 = (x[i+1] - x[i]) / 2\n",
        "    f_0 = fun(x[i]) + fun(x[i+1])\n",
        "\n",
        "    a_0 = h_0 * f_0\n",
        "\n",
        "    A_T.append(a_0)\n",
        "\n",
        "  area = sum(A_T)\n",
        "\n",
        "  return area"
      ]
    },
    {
      "cell_type": "code",
      "source": [
        "function = input(print(\"Escriba la función\"))\n",
        "f = lambda x: eval(function)"
      ],
      "metadata": {
        "colab": {
          "base_uri": "https://localhost:8080/"
        },
        "id": "FsRLgdgKk-OY",
        "outputId": "c0fbc55c-190c-4949-9c18-8655a882995d"
      },
      "execution_count": null,
      "outputs": [
        {
          "name": "stdout",
          "output_type": "stream",
          "text": [
            "Escriba la función\n",
            "Nonex**2 + 115\n"
          ]
        }
      ]
    },
    {
      "cell_type": "code",
      "source": [
        "g = integral_trapz(f, 2, 4, 10) # con N (número de intervalos = 10)\n",
        "print(g)"
      ],
      "metadata": {
        "colab": {
          "base_uri": "https://localhost:8080/"
        },
        "id": "KuQ0FW_aoJpK",
        "outputId": "9842561c-1602-4c12-8ebd-c9eb75c67fc8"
      },
      "execution_count": null,
      "outputs": [
        {
          "output_type": "stream",
          "name": "stdout",
          "text": [
            "248.68\n"
          ]
        }
      ]
    },
    {
      "cell_type": "code",
      "source": [
        "#@title Comparar valor de la integral\n",
        "\n",
        "x = np.linspace(2, 4, 10)\n",
        "area = trapz(f(x), x)\n",
        "area"
      ],
      "metadata": {
        "colab": {
          "base_uri": "https://localhost:8080/"
        },
        "id": "RWM7FCJ4fIpf",
        "outputId": "68d160b9-3202-4c86-e43a-5df03ebca240"
      },
      "execution_count": null,
      "outputs": [
        {
          "output_type": "execute_result",
          "data": {
            "text/plain": [
              "248.68312757201647"
            ]
          },
          "metadata": {},
          "execution_count": 5
        }
      ]
    }
  ]
}