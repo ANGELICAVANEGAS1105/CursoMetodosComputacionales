{
  "nbformat": 4,
  "nbformat_minor": 0,
  "metadata": {
    "colab": {
      "provenance": []
    },
    "kernelspec": {
      "name": "python3",
      "display_name": "Python 3"
    },
    "language_info": {
      "name": "python"
    }
  },
  "cells": [
    {
      "cell_type": "markdown",
      "source": [
        "<a href=\"https://colab.research.google.com/github/hernansalinas/autogrades/blob/main/Laboratorios_Taller/Lab06_ceros_funciones.ipynb\" target=\"_parent\"><img src=\"https://colab.research.google.com/assets/colab-badge.svg\" alt=\"Open In Colab\"/></a>\n"
      ],
      "metadata": {
        "id": "IgVsqbRHO_tR"
      }
    },
    {
      "cell_type": "markdown",
      "source": [
        "# Codigo Markdown:\n",
        "Los numeras a, b, c y d tiene que ver con escritura en código Markdown y comandos de latex: \n",
        "\n",
        "a. Escriba en pseudocódigo los pasos para aplicar el método de la bisección.\n",
        "\n",
        "b. Realice la deducción del metodo de Newton-Rapshon, se recomienda escribir las ecuaciones en formato latex, para ello puede emplear las siguientes expresiones:\n",
        "\n",
        "c. ¿Cuál es la diferencia del metodo de Newton-Rapson con respecto al de la secante?\n",
        "\n",
        "\n",
        "d. Escriba en pseudocódigo los pasos para aplicar el método Punto Fijo.\n",
        "\n",
        "\n",
        "\n",
        "Comentarios para escribir en latex\n",
        "\n",
        "*   Entre simbolos \\$ \\$, puedes porner expresiones  puede poner expresiones, ejemplo:  $y = a_0 x^2 + b_1$  \n",
        "\n",
        "*  Las funciones pueden ser definidas entre \\\\$,  poniendo un \\\\, antes de la funcion ejemplo: \\\\$ \\\\sinx \\\\$,   asi las funciones quedarian de esta manera : \n",
        "\n",
        "> $\\sin x$, $\\tan x$, $\\sec x$, $\\sqrt{a} $, $\\frac{a}{b}, \\frac{df}{dt}$\n",
        "\n",
        "* Puedes generar tambien escribir ecuaciones con la instrucción:\n",
        "\n",
        "  \\\\begin{equation} \n",
        "\n",
        "    \\\\sin x  \n",
        "  \n",
        "  \\\\end{equation}\n",
        "\n",
        "Ejemplo:\n",
        "\n",
        "  \\begin{equation} \n",
        "    \\frac{df}{dx} = \\sin x  \n",
        "  \\end{equation}\n",
        "\n",
        "\n",
        "\n",
        "\n",
        "\n"
      ],
      "metadata": {
        "id": "HmTyV2-NQKwR"
      }
    },
    {
      "cell_type": "markdown",
      "source": [
        "a. El método de la bisección es un algoritmo para encontrar la raíz de una función en un intervalo dado [a,b], siempre y cuando los signos de la función en a y b sean diferentes. El procedimiento es el siguiente:\n",
        "\n",
        "Definir un intervalo [a,b] en el cual los signos de los dos extremos deben ser diferentes.\n",
        "Encontrar el punto medio del intervalo $$ c = \\frac{(a+b)}{2}$$\n",
        "Evaluar la función en c y determinar en qué mitad del intervalo se encuentra la raíz.\n",
        "Si la raíz está en la primera mitad del intervalo, el nuevo intervalo será [a,c]. Si la raíz está en la segunda mitad, el nuevo intervalo será [c,b].\n",
        "Repetir los pasos 2 a 4 hasta que el valor de la función en el punto medio sea suficientemente cercano a cero, lo que indica que se ha encontrado la raíz.\n",
        "\n",
        "\n",
        "b. El método de Newton-Raphson es un algoritmo para encontrar las raíces de una función a través de la aproximación sucesiva de la solución a partir de un valor inicial. La idea central es utilizar la recta tangente a la curva de la función en un punto dado, para aproximar la raíz de la función. El procedimiento es el siguiente:\n",
        "\n",
        "Se parte de un valor inicial $x_0$ cercano a la raíz buscada.\n",
        "Se calcula la pendiente de la recta tangente a la curva de la función en el punto $x_0$. Esto se logra a través del cálculo de la derivada de la función en $x_0$: $f'(x_0)$.\n",
        "Se encuentra el punto en el eje x donde la recta tangente cruza el eje x, es decir, donde la función es igual a cero: $$x_{n+1}=x_n-\\frac{f(x_n)}{f'(x_n)}$$\n",
        "Se repite el paso anterior con $$x_{n+1}$$ como nuevo punto de partida hasta alcanzar la precisión deseada.\n",
        "\n",
        "c. La principal diferencia entre el método de Newton-Raphson y el método de la secante es que el primero utiliza la derivada de la función en cada iteración para aproximar la raíz, mientras que el segundo utiliza una aproximación de la derivada basada en los dos últimos puntos evaluados. Esto significa que el método de Newton-Raphson puede converger más rápido que el método de la secante, pero puede ser más sensible a la elección del valor inicial y puede diverger en algunos casos. Además, el método de la secante requiere menos cálculos de derivadas, lo que puede ser una ventaja en funciones complicadas o costosas de derivar.\n",
        "\n",
        "\n",
        "\n",
        "\n",
        "\n"
      ],
      "metadata": {
        "id": "Bz47JFFhinkq"
      }
    },
    {
      "cell_type": "markdown",
      "source": [
        "d. El método del Punto Fijo es un algoritmo iterativo que se utiliza para encontrar soluciones de ecuaciones de la forma $g(x) = x$. El algoritmo se implementa siguiendo los siguientes pasos:\n",
        "\n",
        "Seleccionar una función $g(x)$ y un punto inicial $x_0$.\n",
        "\n",
        "Definir la iteración $x_{n+1} = g(x_n)$.\n",
        "\n",
        "Calcular el siguiente valor de la función iterando $g(x_n)$ hasta que se alcance la tolerancia deseada o un número máximo de iteraciones.\n",
        "\n",
        "Si se alcanza la tolerancia deseada, se devuelve $x_{n+1}$ como la aproximación de la solución.\n",
        "\n",
        "Si se alcanza el número máximo de iteraciones sin haber alcanzado la tolerancia deseada, se devuelve un mensaje de error indicando que el método no ha convergido."
      ],
      "metadata": {
        "id": "tCfLd8ffjPQP"
      }
    },
    {
      "cell_type": "code",
      "source": [],
      "metadata": {
        "id": "xS4SUrgngcF3"
      },
      "execution_count": 2,
      "outputs": []
    },
    {
      "cell_type": "markdown",
      "source": [
        "# 2. Ceros de funciones\n",
        "*Encontrar* los ceros de $e^{x}-2= \\cos(e^x-2)$ por diferentes metodos, bisection, newton-rapshon, punto fijo.\n",
        "\n",
        "\n",
        "\n",
        "\n",
        " "
      ],
      "metadata": {
        "id": "DIOVE0E1XZ1-"
      }
    },
    {
      "cell_type": "code",
      "source": [
        "import numpy as np \n",
        "import pandas as pd\n",
        "from scipy import optimize\n",
        "import matplotlib.pyplot as plt\n",
        "import sympy as sp"
      ],
      "metadata": {
        "id": "pDtAI5FxDXOR"
      },
      "execution_count": 3,
      "outputs": []
    },
    {
      "cell_type": "code",
      "source": [
        "#Función para hallar las raíces:\n",
        "def f(x):\n",
        "  return -2+np.exp(x)-np.cos((np.exp(x))-2)\n",
        "x_=np.linspace(0,2,1000)\n",
        "plt.plot(x_,f(x_))\n",
        "plt.grid()"
      ],
      "metadata": {
        "colab": {
          "base_uri": "https://localhost:8080/",
          "height": 431
        },
        "id": "KiyyFQOlaJlT",
        "outputId": "b0afec19-6a77-4c94-c776-d2a9454625d6"
      },
      "execution_count": 44,
      "outputs": [
        {
          "output_type": "display_data",
          "data": {
            "text/plain": [
              "<Figure size 640x480 with 1 Axes>"
            ],
            "image/png": "[encoded data removed]"
          },
          "metadata": {}
        }
      ]
    },
    {
      "cell_type": "markdown",
      "source": [
        "\n",
        "\n",
        "# Bicepccion\n",
        "\n"
      ],
      "metadata": {
        "id": "6hiSlYru77Or"
      }
    },
    {
      "cell_type": "code",
      "source": [
        "#elegimos el intervalo a conveniencia por la gráfica:\n",
        "(a,b)=(0.75,1.25)\n",
        "P_b= optimize.bisect(f, a, b, xtol=2e-12)\n",
        "print('La raiz hallada por bisección es:',P_b)"
      ],
      "metadata": {
        "colab": {
          "base_uri": "https://localhost:8080/"
        },
        "id": "1gPzpMO2aMaV",
        "outputId": "59195c18-1559-46a9-f53e-9e1d4ab595f4"
      },
      "execution_count": 46,
      "outputs": [
        {
          "output_type": "stream",
          "name": "stdout",
          "text": [
            "La raiz hallada por bisección es: 1.0076239716563578\n"
          ]
        }
      ]
    },
    {
      "cell_type": "markdown",
      "source": [
        "## newton raphson"
      ],
      "metadata": {
        "id": "2ugKlQD7asKq"
      }
    },
    {
      "cell_type": "code",
      "source": [
        "#Encontramos la derivada\n",
        "x=sp.symbols('x')\n",
        "\n",
        "def fun_s(x):\n",
        "  return -2+sp.exp(x)-sp.cos((sp.exp(x))-2)\n",
        "\n",
        "dev_s=sp.diff(fun_s(x),x)\n",
        "print(dev_s)"
      ],
      "metadata": {
        "colab": {
          "base_uri": "https://localhost:8080/"
        },
        "id": "USX2VlI9K0ly",
        "outputId": "c8e4657d-ab52-4327-8e2f-e10d47afed57"
      },
      "execution_count": 47,
      "outputs": [
        {
          "output_type": "stream",
          "name": "stdout",
          "text": [
            "exp(x)*sin(exp(x) - 2) + exp(x)\n"
          ]
        }
      ]
    },
    {
      "cell_type": "code",
      "source": [
        "#Aplicamos interpolacion y graficamos\n",
        "f_p=sp.lambdify(x,dev_s,'numpy')\n",
        "P_n=optimize.newton(f,1,f_p)\n",
        "print(P_n)\n",
        "\n",
        "plt.figure(facecolor=\"w\")\n",
        "plt.plot(P_n,0,\"ro\")\n",
        "plt.text(P_n,0.2,f'{P_n:.4}')\n",
        "plt.plot(x_,f(x_),\"c\")\n",
        "plt.grid()"
      ],
      "metadata": {
        "colab": {
          "base_uri": "https://localhost:8080/",
          "height": 448
        },
        "id": "7gpu8_LBaT7z",
        "outputId": "a8380335-16cc-481f-ffe6-7eb16f9a60cc"
      },
      "execution_count": 48,
      "outputs": [
        {
          "output_type": "stream",
          "name": "stdout",
          "text": [
            "1.0076239716581368\n"
          ]
        },
        {
          "output_type": "display_data",
          "data": {
            "text/plain": [
              "<Figure size 640x480 with 1 Axes>"
            ],
            "image/png": "[encoded data removed]"
          },
          "metadata": {}
        }
      ]
    },
    {
      "cell_type": "markdown",
      "source": [
        "\n",
        "## Punto fijo\n",
        "\n",
        "\n",
        "\n",
        "\n"
      ],
      "metadata": {
        "id": "0VKtQRTx8Fkb"
      }
    },
    {
      "cell_type": "code",
      "source": [
        "def g(x):\n",
        "  return x-f(x) # se hace para poder encontrar los ceros con la recta identidad\n",
        "x=np.linspace(-2,2,1000)\n",
        "P_p=optimize.fixed_point(g,0.5)\n",
        "print(P_p) #raiz"
      ],
      "metadata": {
        "id": "t0htCDAl8SV5",
        "colab": {
          "base_uri": "https://localhost:8080/"
        },
        "outputId": "da1d6d4e-3fba-466e-9efe-30b5603e5a46"
      },
      "execution_count": 56,
      "outputs": [
        {
          "output_type": "stream",
          "name": "stdout",
          "text": [
            "1.0076239716581368\n"
          ]
        }
      ]
    },
    {
      "cell_type": "code",
      "source": [
        "plt.plot(P_p,P_p,'ro')\n",
        "plt.text(P_p-0.1,1.3,f'{P_p:.4}')\n",
        "plt.plot(x,x,'k',label='x')\n",
        "plt.plot(x,g(x),label='g(x)')\n",
        "plt.plot(x,f(x),label='f(x)')\n",
        "plt.legend()\n",
        "plt.grid()"
      ],
      "metadata": {
        "colab": {
          "base_uri": "https://localhost:8080/",
          "height": 430
        },
        "id": "kGYynobuZxBm",
        "outputId": "cd3931f3-a6bf-423a-c2fc-25deec5e0aca"
      },
      "execution_count": 57,
      "outputs": [
        {
          "output_type": "display_data",
          "data": {
            "text/plain": [
              "<Figure size 640x480 with 1 Axes>"
            ],
            "image/png": "[encoded data removed]"
          },
          "metadata": {}
        }
      ]
    },
    {
      "cell_type": "markdown",
      "source": [
        "# 3. Movimiento de proyectiles en presencia de viento.\n",
        "\n",
        "Supongamos que un proyectil es lanzado desde el origen con una rapidez $v=vo( \\cos \\theta , \\sin \\theta $. Supongamos además que el efecto del viento sobre el proyectil es el de una fuerza proporcional a la velocidad relativa entre el viento y el proyectil. Teniendo presente que si u es la velocidad del viento y $\\alpha$ el ángulo que hace dirección de esta velocidad con el eje x, se puede entrontrar las siguientes ecuaciones diferenciales, asociada al estado de movimiento del [proyectil](https://iopscience.iop.org/article/10.1088/0143-0807/36/2/025016/meta):\n",
        "\n",
        "\n",
        "\\begin{equation}\n",
        "m\\frac{dv_x}{dt} = -mb(v_x-u\\cos \\alpha )\n",
        "\\end{equation}\n",
        "\n",
        "\\begin{equation}\n",
        "m\\frac{dv_y}{dt} = -mg-mb(v_x-u\\sin \\alpha ),\n",
        "\\end{equation}\n",
        "\n",
        "donde b es el párametro de rozamiento. La soluciones a las ecuaciones anteriores vienen dadas por:\n",
        "\n",
        "Posición en x\n",
        "\\begin{equation}\n",
        "x=(u\\cos \\alpha) t + \\frac{1}{b} (v_0\\cos \\theta_0 -u \\cos\\alpha)(1-\\mathrm{exp}(-bt))\n",
        "\\end{equation}\n",
        "\n",
        "Posicion en y \n",
        "\\begin{equation}\n",
        "y= \\frac{1}{b}\\left(\\frac{g}{b}+v_0 \\sin \\theta_0 -u\\sin\\alpha \\right)(1-\\mathrm{exp}(-bt))-\\left( \\frac{g}{b}-u\\sin\\alpha\\right)t\n",
        "\\end{equation}\n",
        "\n",
        "Ver imagen:  http://www.sc.ehu.es/sbweb/fisica3/fluidos/viento/parabolico.html"
      ],
      "metadata": {
        "id": "rQOTzaRoX5Eo"
      }
    },
    {
      "cell_type": "code",
      "source": [
        "#condiciones iniciales\n",
        "def posicion_t(omega):\n",
        "  return ((-9.76/(2*omega**2))*((np.exp(omega) - np.exp(-omega))/2 - np.sin(omega)))-0.51"
      ],
      "metadata": {
        "id": "vSRcqlzgX668"
      },
      "execution_count": 14,
      "outputs": []
    },
    {
      "cell_type": "code",
      "source": [
        "raiz = optimize.newton(posicion_t, -0.2, tol=1e-05)\n",
        "print(\"La rapidez ω con que cambia θ es de\", raiz)"
      ],
      "metadata": {
        "colab": {
          "base_uri": "https://localhost:8080/"
        },
        "id": "wzLbaWQhYQHR",
        "outputId": "d63d1280-2c5c-4865-a086-83c6534270d2"
      },
      "execution_count": 38,
      "outputs": [
        {
          "output_type": "stream",
          "name": "stdout",
          "text": [
            "La rapidez ω con que cambia θ es de -0.3135209838641948\n"
          ]
        }
      ]
    },
    {
      "cell_type": "code",
      "source": [
        "x= np.linspace(-2, -0.000005)\n",
        "plt.plot(x,posicion_t(x) )\n",
        "plt.plot(raiz,0,'ko')\n",
        "plt.text(raiz-0.1,0.2,f'{raiz:.5}')\n",
        "plt.xlabel(\"t\")\n",
        "plt.ylabel(\"x(t)\")\n",
        "plt.grid()\n",
        "plt.show()"
      ],
      "metadata": {
        "colab": {
          "base_uri": "https://localhost:8080/",
          "height": 449
        },
        "id": "RJufvt4pX_vE",
        "outputId": "21cc98e4-341c-40af-dad7-f7e3c8809607"
      },
      "execution_count": 39,
      "outputs": [
        {
          "output_type": "display_data",
          "data": {
            "text/plain": [
              "<Figure size 640x480 with 1 Axes>"
            ],
            "image/png": "[encoded data removed]"
          },
          "metadata": {}
        }
      ]
    },
    {
      "cell_type": "markdown",
      "source": [
        "#4.  Area \n",
        "Hallar el área de un segmento circular cuya area sea igual a una cuarta parte del área del circulo. Para la solución se sugiere lo siguiente:\n",
        "\n",
        "a) Encontrar la ecuacion trascendental.\n",
        "\n",
        "b) Con la ecuación anterior, definir una funcion $f(\\theta)=0$. Emplee la funcion labmda de python.\n",
        "\n",
        "c) Construir una data frame de pandas con la columna \"theta\" con 1000 registros(filas) entre $[-2\\pi, 2\\pi]$. Sugerencia, para construir el data frame emplee la función linspace como sigue : np.linspace(-2*np.pi, 2*np.pi, 1000 )\n",
        "\n",
        "d) Construir una segunda columna titulada \"F_theta\" con los registros f(theta)\n",
        "\n",
        "f) Realice un gráfico de  \"F_theta\" vs \"theta\". Identifique el intervalo de la raiz.\n",
        "\n",
        "Estime el valor del ángulo empleando los siguientes metodos(Emplee  la documentacion):\n",
        "\n",
        "g) [Bisección](https://docs.scipy.org/doc/scipy/reference/generated/scipy.optimize.bisect.html)\n",
        "\n",
        "h) [Newton-Rapshon](https://docs.scipy.org/doc/scipy/reference/generated/scipy.optimize.newton.html)\n",
        "\n",
        "i) [Secante](https://docs.scipy.org/doc/scipy/reference/generated/scipy.optimize.newton.html) \n",
        "\n",
        "j) [Punto Fijo](https://docs.scipy.org/doc/scipy/reference/generated/scipy.optimize.fixed_point.html)\n"
      ],
      "metadata": {
        "id": "3SVJWnEeVcAP"
      }
    },
    {
      "cell_type": "markdown",
      "source": [
        "ecuacion de el area \n",
        "\n",
        "\\begin{equation}\n",
        " Area = 2*\\frac{(rcos(\\frac{\\theta}{2})*(rsin(\\frac{\\theta}{2})}{2}\n",
        "\\end{equation}\n",
        "\n",
        "tomandoo como funcion \n",
        "\n",
        "\\begin{equation}\n",
        " f(\\theta) = \\theta - \\sin(\\theta) - \\frac{\\pi}{2}\n",
        "\\end{equation}\n",
        "\n"
      ],
      "metadata": {
        "id": "A8xs1CSCL-I4"
      }
    },
    {
      "cell_type": "code",
      "source": [
        "def fun(θ): \n",
        "  return θ - np.sin(θ) - np.pi/2\n",
        "θ= np.linspace(-np.pi,np.pi,1000)"
      ],
      "metadata": {
        "id": "LFmygK4HL9xy"
      },
      "execution_count": 16,
      "outputs": []
    },
    {
      "cell_type": "code",
      "source": [
        "df=pd.DataFrame()\n",
        "df[\"θ\"]=θ\n",
        "df[\"funcion\"]=fun(θ)\n",
        "df"
      ],
      "metadata": {
        "colab": {
          "base_uri": "https://localhost:8080/",
          "height": 423
        },
        "id": "kDEadln4ObJy",
        "outputId": "f377e4ef-fd8d-4216-83c8-58ae1a7ac58f"
      },
      "execution_count": 17,
      "outputs": [
        {
          "output_type": "execute_result",
          "data": {
            "text/plain": [
              "            θ   funcion\n",
              "0   -3.141593 -4.712389\n",
              "1   -3.135303 -4.699810\n",
              "2   -3.129014 -4.687231\n",
              "3   -3.122724 -4.674653\n",
              "4   -3.116435 -4.662076\n",
              "..        ...       ...\n",
              "995  3.116435  1.520483\n",
              "996  3.122724  1.533061\n",
              "997  3.129014  1.545639\n",
              "998  3.135303  1.558217\n",
              "999  3.141593  1.570796\n",
              "\n",
              "[1000 rows x 2 columns]"
            ],
            "text/html": [
              "\n",
              "  <div id=\"df-63b241f2-be52-49f7-9fc1-0fb3fef9556e\">\n",
              "    <div class=\"colab-df-container\">\n",
              "      <div>\n",
              "<style scoped>\n",
              "    .dataframe tbody tr th:only-of-type {\n",
              "        vertical-align: middle;\n",
              "    }\n",
              "\n",
              "    .dataframe tbody tr th {\n",
              "        vertical-align: top;\n",
              "    }\n",
              "\n",
              "    .dataframe thead th {\n",
              "        text-align: right;\n",
              "    }\n",
              "</style>\n",
              "<table border=\"1\" class=\"dataframe\">\n",
              "  <thead>\n",
              "    <tr style=\"text-align: right;\">\n",
              "      <th></th>\n",
              "      <th>θ</th>\n",
              "      <th>funcion</th>\n",
              "    </tr>\n",
              "  </thead>\n",
              "  <tbody>\n",
              "    <tr>\n",
              "      <th>0</th>\n",
              "      <td>-3.141593</td>\n",
              "      <td>-4.712389</td>\n",
              "    </tr>\n",
              "    <tr>\n",
              "      <th>1</th>\n",
              "      <td>-3.135303</td>\n",
              "      <td>-4.699810</td>\n",
              "    </tr>\n",
              "    <tr>\n",
              "      <th>2</th>\n",
              "      <td>-3.129014</td>\n",
              "      <td>-4.687231</td>\n",
              "    </tr>\n",
              "    <tr>\n",
              "      <th>3</th>\n",
              "      <td>-3.122724</td>\n",
              "      <td>-4.674653</td>\n",
              "    </tr>\n",
              "    <tr>\n",
              "      <th>4</th>\n",
              "      <td>-3.116435</td>\n",
              "      <td>-4.662076</td>\n",
              "    </tr>\n",
              "    <tr>\n",
              "      <th>...</th>\n",
              "      <td>...</td>\n",
              "      <td>...</td>\n",
              "    </tr>\n",
              "    <tr>\n",
              "      <th>995</th>\n",
              "      <td>3.116435</td>\n",
              "      <td>1.520483</td>\n",
              "    </tr>\n",
              "    <tr>\n",
              "      <th>996</th>\n",
              "      <td>3.122724</td>\n",
              "      <td>1.533061</td>\n",
              "    </tr>\n",
              "    <tr>\n",
              "      <th>997</th>\n",
              "      <td>3.129014</td>\n",
              "      <td>1.545639</td>\n",
              "    </tr>\n",
              "    <tr>\n",
              "      <th>998</th>\n",
              "      <td>3.135303</td>\n",
              "      <td>1.558217</td>\n",
              "    </tr>\n",
              "    <tr>\n",
              "      <th>999</th>\n",
              "      <td>3.141593</td>\n",
              "      <td>1.570796</td>\n",
              "    </tr>\n",
              "  </tbody>\n",
              "</table>\n",
              "<p>1000 rows × 2 columns</p>\n",
              "</div>\n",
              "      <button class=\"colab-df-convert\" onclick=\"convertToInteractive('df-63b241f2-be52-49f7-9fc1-0fb3fef9556e')\"\n",
              "              title=\"Convert this dataframe to an interactive table.\"\n",
              "              style=\"display:none;\">\n",
              "        \n",
              "  <svg xmlns=\"http://www.w3.org/2000/svg\" height=\"24px\"viewBox=\"0 0 24 24\"\n",
              "       width=\"24px\">\n",
              "    <path d=\"M0 0h24v24H0V0z\" fill=\"none\"/>\n",
              "    <path d=\"M18.56 5.44l.94 2.06.94-2.06 2.06-.94-2.06-.94-.94-2.06-.94 2.06-2.06.94zm-11 1L8.5 8.5l.94-2.06 2.06-.94-2.06-.94L8.5 2.5l-.94 2.06-2.06.94zm10 10l.94 2.06.94-2.06 2.06-.94-2.06-.94-.94-2.06-.94 2.06-2.06.94z\"/><path d=\"M17.41 7.96l-1.37-1.37c-.4-.4-.92-.59-1.43-.59-.52 0-1.04.2-1.43.59L10.3 9.45l-7.72 7.72c-.78.78-.78 2.05 0 2.83L4 21.41c.39.39.9.59 1.41.59.51 0 1.02-.2 1.41-.59l7.78-7.78 2.81-2.81c.8-.78.8-2.07 0-2.86zM5.41 20L4 18.59l7.72-7.72 1.47 1.35L5.41 20z\"/>\n",
              "  </svg>\n",
              "      </button>\n",
              "      \n",
              "  <style>\n",
              "    .colab-df-container {\n",
              "      display:flex;\n",
              "      flex-wrap:wrap;\n",
              "      gap: 12px;\n",
              "    }\n",
              "\n",
              "    .colab-df-convert {\n",
              "      background-color: #E8F0FE;\n",
              "      border: none;\n",
              "      border-radius: 50%;\n",
              "      cursor: pointer;\n",
              "      display: none;\n",
              "      fill: #1967D2;\n",
              "      height: 32px;\n",
              "      padding: 0 0 0 0;\n",
              "      width: 32px;\n",
              "    }\n",
              "\n",
              "    .colab-df-convert:hover {\n",
              "      background-color: #E2EBFA;\n",
              "      box-shadow: 0px 1px 2px rgba(60, 64, 67, 0.3), 0px 1px 3px 1px rgba(60, 64, 67, 0.15);\n",
              "      fill: #174EA6;\n",
              "    }\n",
              "\n",
              "    [theme=dark] .colab-df-convert {\n",
              "      background-color: #3B4455;\n",
              "      fill: #D2E3FC;\n",
              "    }\n",
              "\n",
              "    [theme=dark] .colab-df-convert:hover {\n",
              "      background-color: #434B5C;\n",
              "      box-shadow: 0px 1px 3px 1px rgba(0, 0, 0, 0.15);\n",
              "      filter: drop-shadow(0px 1px 2px rgba(0, 0, 0, 0.3));\n",
              "      fill: #FFFFFF;\n",
              "    }\n",
              "  </style>\n",
              "\n",
              "      <script>\n",
              "        const buttonEl =\n",
              "          document.querySelector('#df-63b241f2-be52-49f7-9fc1-0fb3fef9556e button.colab-df-convert');\n",
              "        buttonEl.style.display =\n",
              "          google.colab.kernel.accessAllowed ? 'block' : 'none';\n",
              "\n",
              "        async function convertToInteractive(key) {\n",
              "          const element = document.querySelector('#df-63b241f2-be52-49f7-9fc1-0fb3fef9556e');\n",
              "          const dataTable =\n",
              "            await google.colab.kernel.invokeFunction('convertToInteractive',\n",
              "                                                     [key], {});\n",
              "          if (!dataTable) return;\n",
              "\n",
              "          const docLinkHtml = 'Like what you see? Visit the ' +\n",
              "            '<a target=\"_blank\" href=https://colab.research.google.com/notebooks/data_table.ipynb>data table notebook</a>'\n",
              "            + ' to learn more about interactive tables.';\n",
              "          element.innerHTML = '';\n",
              "          dataTable['output_type'] = 'display_data';\n",
              "          await google.colab.output.renderOutput(dataTable, element);\n",
              "          const docLink = document.createElement('div');\n",
              "          docLink.innerHTML = docLinkHtml;\n",
              "          element.appendChild(docLink);\n",
              "        }\n",
              "      </script>\n",
              "    </div>\n",
              "  </div>\n",
              "  "
            ]
          },
          "metadata": {},
          "execution_count": 17
        }
      ]
    },
    {
      "cell_type": "code",
      "source": [
        "#metodo bicepcion\n",
        "root2= optimize.bisect(fun,-3,3)\n",
        "root2"
      ],
      "metadata": {
        "colab": {
          "base_uri": "https://localhost:8080/"
        },
        "id": "S5Y0Pg5fQ8Lx",
        "outputId": "8debc790-69bd-4299-f17c-0758fa695257"
      },
      "execution_count": 18,
      "outputs": [
        {
          "output_type": "execute_result",
          "data": {
            "text/plain": [
              "2.3098814600093647"
            ]
          },
          "metadata": {},
          "execution_count": 18
        }
      ]
    },
    {
      "cell_type": "code",
      "source": [
        "plt.plot(θ, fun(θ))\n",
        "plt.plot(root2,0,\"ro\", color='coral')"
      ],
      "metadata": {
        "colab": {
          "base_uri": "https://localhost:8080/",
          "height": 502
        },
        "id": "p68TLmHuRq7a",
        "outputId": "df9965c4-e810-495f-a391-9c1de36ece2c"
      },
      "execution_count": 19,
      "outputs": [
        {
          "output_type": "stream",
          "name": "stderr",
          "text": [
            "<ipython-input-19-f97dccb81be2>:2: UserWarning: color is redundantly defined by the 'color' keyword argument and the fmt string \"ro\" (-> color='r'). The keyword argument will take precedence.\n",
            "  plt.plot(root2,0,\"ro\", color='coral')\n"
          ]
        },
        {
          "output_type": "execute_result",
          "data": {
            "text/plain": [
              "[<matplotlib.lines.Line2D at 0x7fca00e6b430>]"
            ]
          },
          "metadata": {},
          "execution_count": 19
        },
        {
          "output_type": "display_data",
          "data": {
            "text/plain": [
              "<Figure size 640x480 with 1 Axes>"
            ],
            "image/png": "[encoded data removed]"
          },
          "metadata": {}
        }
      ]
    },
    {
      "cell_type": "code",
      "source": [
        "#metodo newton\n",
        "def fun(θ): \n",
        "  return θ - np.sin(θ) - np.pi/2"
      ],
      "metadata": {
        "id": "AC0I-MJqdH8g"
      },
      "execution_count": 20,
      "outputs": []
    },
    {
      "cell_type": "code",
      "source": [
        "#calcular la derivada \n",
        "θ=sp.Symbol(\"θ\")\n",
        "def fun_(θ):\n",
        "  return θ - sp.sin(θ) - sp.pi/2\n",
        "df= sp.diff( fun_(θ),θ)\n",
        "df"
      ],
      "metadata": {
        "colab": {
          "base_uri": "https://localhost:8080/",
          "height": 39
        },
        "id": "vvCUmEf69k4-",
        "outputId": "3aa58b21-ddd0-4aba-cfbb-cfd9c174b3a5"
      },
      "execution_count": 21,
      "outputs": [
        {
          "output_type": "execute_result",
          "data": {
            "text/plain": [
              "1 - cos(θ)"
            ],
            "text/latex": "$\\displaystyle 1 - \\cos{\\left(θ \\right)}$"
          },
          "metadata": {},
          "execution_count": 21
        }
      ]
    },
    {
      "cell_type": "code",
      "source": [
        "fun_p= sp.lambdify(θ,df,'numpy')"
      ],
      "metadata": {
        "id": "v1lb297b-TKY"
      },
      "execution_count": 22,
      "outputs": []
    },
    {
      "cell_type": "code",
      "source": [
        "#calculamos el punto\n",
        "P_2=optimize.newton(fun,2,fun_p)\n",
        "P_2"
      ],
      "metadata": {
        "colab": {
          "base_uri": "https://localhost:8080/"
        },
        "id": "kNPil6Wy-Hbe",
        "outputId": "973530fb-8823-451d-e252-fe0a7d9b144a"
      },
      "execution_count": 23,
      "outputs": [
        {
          "output_type": "execute_result",
          "data": {
            "text/plain": [
              "2.3098814600100575"
            ]
          },
          "metadata": {},
          "execution_count": 23
        }
      ]
    },
    {
      "cell_type": "code",
      "source": [
        "θ= np.linspace(-np.pi,np.pi,1000)\n",
        "plt.plot(θ, fun(θ))\n",
        "plt.plot(P_2,0,\"ro\", color='coral')\n",
        "plt.text(P_2,0.2,f'{P_2:.4}')\n",
        "plt.grid()"
      ],
      "metadata": {
        "colab": {
          "base_uri": "https://localhost:8080/",
          "height": 485
        },
        "id": "Z6acxGeF-oSj",
        "outputId": "bf3932a0-8ee0-42f5-d97a-3e5ce243d789"
      },
      "execution_count": 24,
      "outputs": [
        {
          "output_type": "stream",
          "name": "stderr",
          "text": [
            "<ipython-input-24-90657b266df4>:3: UserWarning: color is redundantly defined by the 'color' keyword argument and the fmt string \"ro\" (-> color='r'). The keyword argument will take precedence.\n",
            "  plt.plot(P_2,0,\"ro\", color='coral')\n"
          ]
        },
        {
          "output_type": "display_data",
          "data": {
            "text/plain": [
              "<Figure size 640x480 with 1 Axes>"
            ],
            "image/png": "[encoded data removed]"
          },
          "metadata": {}
        }
      ]
    },
    {
      "cell_type": "code",
      "source": [
        "#metodo punto fijo\n",
        "def g_2(θ):\n",
        "  return θ - fun(θ)"
      ],
      "metadata": {
        "id": "q2I_pL-PdKOW"
      },
      "execution_count": 25,
      "outputs": []
    },
    {
      "cell_type": "code",
      "source": [
        "p_3= optimize.fixed_point(g_2,2)\n",
        "p_3"
      ],
      "metadata": {
        "colab": {
          "base_uri": "https://localhost:8080/"
        },
        "id": "UfwIAcnr_ZX1",
        "outputId": "bd09f992-4dde-4252-f1dc-2a10d0116378"
      },
      "execution_count": 26,
      "outputs": [
        {
          "output_type": "execute_result",
          "data": {
            "text/plain": [
              "array(2.30988146)"
            ]
          },
          "metadata": {},
          "execution_count": 26
        }
      ]
    },
    {
      "cell_type": "code",
      "source": [
        "θ= np.linspace(-np.pi,np.pi,1000)\n",
        "plt.plot(θ, fun(θ))\n",
        "plt.plot(p_3,0,\"ro\", color='coral')\n",
        "plt.text(p_3,0.2,f'{p_3:.4}')\n",
        "plt.grid()"
      ],
      "metadata": {
        "colab": {
          "base_uri": "https://localhost:8080/",
          "height": 485
        },
        "id": "oWe_3CK3BpIo",
        "outputId": "2cc2b8b6-abca-45fd-f016-9642df3eb250"
      },
      "execution_count": 27,
      "outputs": [
        {
          "output_type": "stream",
          "name": "stderr",
          "text": [
            "<ipython-input-27-4cf730d129cc>:3: UserWarning: color is redundantly defined by the 'color' keyword argument and the fmt string \"ro\" (-> color='r'). The keyword argument will take precedence.\n",
            "  plt.plot(p_3,0,\"ro\", color='coral')\n"
          ]
        },
        {
          "output_type": "display_data",
          "data": {
            "text/plain": [
              "<Figure size 640x480 with 1 Axes>"
            ],
            "image/png": "[encoded data removed]"
          },
          "metadata": {}
        }
      ]
    },
    {
      "cell_type": "markdown",
      "source": [
        "\n",
        "\n",
        "# 3. Movimiento de proyectiles en presencia de viento.\n",
        "\n",
        "Supongamos que un proyectil es lanzado desde el origen con una rapidez $v=vo( \\cos \\theta , \\sin \\theta $. Supongamos además que el efecto del viento sobre el proyectil es el de una fuerza proporcional a la velocidad relativa entre el viento y el proyectil. Teniendo presente que si u es la velocidad del viento y $\\alpha$ el ángulo que hace dirección de esta velocidad con el eje x, se puede entrontrar las siguientes ecuaciones diferenciales, asociada al estado de movimiento del [proyectil](https://iopscience.iop.org/article/10.1088/0143-0807/36/2/025016/meta):\n",
        "\n",
        "\n",
        "\\begin{equation}\n",
        "m\\frac{dv_x}{dt} = -mb(v_x-u\\cos \\alpha )\n",
        "\\end{equation}\n",
        "\n",
        "\\begin{equation}\n",
        "m\\frac{dv_y}{dt} = -mg-mb(v_x-u\\sin \\alpha ),\n",
        "\\end{equation}\n",
        "\n",
        "donde b es el párametro de rozamiento. La soluciones a las ecuaciones anteriores vienen dadas por:\n",
        "\n",
        "Posición en x\n",
        "\\begin{equation}\n",
        "x=(u\\cos \\alpha) t + \\frac{1}{b} (v_0\\cos \\theta_0 -u \\cos\\alpha)(1-\\mathrm{exp}(-bt))\n",
        "\\end{equation}\n",
        "\n",
        "Posicion en y \n",
        "\\begin{equation}\n",
        "y= \\frac{1}{b}\\left(\\frac{g}{b}+v_0 \\sin \\theta_0 -u\\sin\\alpha \\right)(1-\\mathrm{exp}(-bt))-\\left( \\frac{g}{b}-u\\sin\\alpha\\right)t\n",
        "\\end{equation}\n",
        "\n",
        "Ver imagen:  http://www.sc.ehu.es/sbweb/fisica3/fluidos/viento/parabolico.html\n",
        "\n",
        "\n",
        "0. Establezca las siguietnes condiciones inciales.\n",
        "\n",
        "```\n",
        "#Parametros iniciales\n",
        "\n",
        "v0 = 60 #Velocidad en m/s\n",
        "alpha = np.pi #Angulo del viento\n",
        "theta = np.deg2rad(45) #Angulo de lanzamiento\n",
        "u = v0/2             #rapidez del viento\n",
        "b = 0.05             #Parametro de friccion \n",
        "g = 9.8                #Aceleracion de la gravedad m/s2\n",
        "\n",
        "Params = (alpha, v0, b, u,g)  #Parametros en tupla.\n",
        "\n",
        "```\n",
        "\n",
        "\n",
        "\n",
        "1. Defina dos funciones, una para x y otra para y. \n",
        "\n",
        "```\n",
        "\n",
        "#Posicion en x\n",
        "def pos_x(t, theta, alpha, v0, b, u,g):\n",
        "  x = #escriba aca la expresión\n",
        "  return x\n",
        "\n",
        "#Posicion en y\n",
        "def pos_y(t, theta, alpha, v0, b, u,g):\n",
        "\n",
        "\n",
        "  y = #escriba aca la expresión\n",
        "  return y \n",
        "\n",
        "```\n",
        "\n",
        "2. Construya un diccionario con las claves \"X\", \"Y\", \"Tiempo\"\n",
        "\n",
        "3. Con el diccionario construya un data frame de pandas llamado df con los nombres de columnas \"X\", \"Y\", \"Tiempo\"  https://pandas.pydata.org/docs/reference/api/pandas.DataFrame.from_dict.html. Defina 1000 regitros para el intervalo de tiempo elegido.\n",
        "\n",
        "\n",
        "4. Realice un gráfico de x como función del tiempo, de y como función del tiempo y la trayectoria de la partícula (df[\"X\"], df[\"tiempo\"], df[\"Y\"]).\n",
        "\n",
        "\n",
        "5. Determine el alcance máximo de la partícula, para ello tome  la solucion teórica con $y=0$, solucione numéricamente la ecuación para t y remplace este valor en la ecuación para x. Resuelvalo para $\\theta=45^{o}$.  \n",
        "\n",
        "6. Construya una  grafica del alcance máximo R como función de $\\theta$, varie $\\theta$  entre 10 y 80 grados cada 5 grados.\n"
      ],
      "metadata": {
        "id": "zxQOD2FgQIfM"
      }
    },
    {
      "cell_type": "code",
      "source": [],
      "metadata": {
        "id": "5Xd9-DKbXjdt"
      },
      "execution_count": 27,
      "outputs": []
    },
    {
      "cell_type": "code",
      "source": [
        "# Parametros iniciales\n",
        "\n",
        "v0 = 60 #Velocidad en m/s\n",
        "alpha = np.pi #Angulo del viento\n",
        "theta = np.deg2rad(45) #Angulo de lanzamiento\n",
        "u = v0/2             #rapidez del viento\n",
        "b = 0.05             #Parametro de friccion \n",
        "g = 9.8                #Aceleracion de la gravedad m/s2\n",
        "\n",
        "Params = (alpha, v0, b, u,g)  #Parametros en tupla.\n"
      ],
      "metadata": {
        "id": "nmD81fkMDow4"
      },
      "execution_count": 28,
      "outputs": []
    },
    {
      "cell_type": "markdown",
      "source": [
        "Posición en x\n",
        "\\begin{equation}\n",
        "x=(u\\cos \\alpha) t + \\frac{1}{b} (v_0\\cos \\theta_0 -u \\cos\\alpha)(1-\\mathrm{exp}(-bt))\n",
        "\\end{equation}\n",
        "\n",
        "Posicion en y \n",
        "\\begin{equation}\n",
        "y= \\frac{1}{b}\\left(\\frac{g}{b}+v_0 \\sin \\theta_0 -u\\sin\\alpha \\right)(1-\\mathrm{exp}(-bt))-\\left( \\frac{g}{b}-u\\sin\\alpha\\right)t\n",
        "\\end{equation}"
      ],
      "metadata": {
        "id": "cBjDqg--FgAK"
      }
    },
    {
      "cell_type": "code",
      "source": [
        "\n",
        "# Posicion en x\n",
        "def pos_x(t, theta, alpha, v0, b, u,g):\n",
        "  x =(u * np.cos(alpha))*t + (1/b)*(v0 * np.cos(theta) - u * np.cos(alpha)) * (1 - np.exp(-b*t))\n",
        "  return x\n",
        "\n",
        "# Posicion en y\n",
        "def pos_y(t, theta, alpha, v0, b, u,g):\n",
        "  y = (1/b)*(g/b + v0*np.sin(theta) - u*np.sin(alpha)) * (1 - np.exp(-b*t)) - (g/b - u*np.sin(alpha)*t)\n",
        "  return y"
      ],
      "metadata": {
        "id": "Lvql3UzkDpxk"
      },
      "execution_count": 29,
      "outputs": []
    },
    {
      "cell_type": "code",
      "source": [
        "t = np.linspace(0,45,1000) #definimos un tiempo desde que sale el proyectil hasta que vuelve a pasar por el cero\n",
        "\n",
        "x = pos_x(t,theta, alpha, v0, b, u, g)\n",
        "y = pos_y(t,theta, alpha, v0, b, u, g)\n",
        "     "
      ],
      "metadata": {
        "id": "LeEYO-XWGyXB"
      },
      "execution_count": 30,
      "outputs": []
    },
    {
      "cell_type": "code",
      "source": [
        "dicc = {\"X\":x, \"Y\":y,\"Tiempo\": t }\n",
        "df = pd.DataFrame(dicc)\n",
        "df"
      ],
      "metadata": {
        "colab": {
          "base_uri": "https://localhost:8080/",
          "height": 0
        },
        "id": "4QL68Yv_TNys",
        "outputId": "e18b377a-13c7-4027-a48b-7ef732050db2"
      },
      "execution_count": 31,
      "outputs": [
        {
          "output_type": "execute_result",
          "data": {
            "text/plain": [
              "             X            Y     Tiempo\n",
              "0     0.000000  -196.000000   0.000000\n",
              "1     1.907428  -185.272157   0.045045\n",
              "2     3.807525  -174.568449   0.090090\n",
              "3     5.700307  -163.888821   0.135135\n",
              "4     7.585791  -153.233219   0.180180\n",
              "..         ...          ...        ...\n",
              "995 -50.121853  4065.380592  44.819820\n",
              "996 -51.126623  4066.521530  44.864865\n",
              "997 -52.132173  4067.659903  44.909910\n",
              "998 -53.138501  4068.795714  44.954955\n",
              "999 -54.145605  4069.928969  45.000000\n",
              "\n",
              "[1000 rows x 3 columns]"
            ],
            "text/html": [
              "\n",
              "  <div id=\"df-f1a844b6-dac0-462a-a0c7-04008478d724\">\n",
              "    <div class=\"colab-df-container\">\n",
              "      <div>\n",
              "<style scoped>\n",
              "    .dataframe tbody tr th:only-of-type {\n",
              "        vertical-align: middle;\n",
              "    }\n",
              "\n",
              "    .dataframe tbody tr th {\n",
              "        vertical-align: top;\n",
              "    }\n",
              "\n",
              "    .dataframe thead th {\n",
              "        text-align: right;\n",
              "    }\n",
              "</style>\n",
              "<table border=\"1\" class=\"dataframe\">\n",
              "  <thead>\n",
              "    <tr style=\"text-align: right;\">\n",
              "      <th></th>\n",
              "      <th>X</th>\n",
              "      <th>Y</th>\n",
              "      <th>Tiempo</th>\n",
              "    </tr>\n",
              "  </thead>\n",
              "  <tbody>\n",
              "    <tr>\n",
              "      <th>0</th>\n",
              "      <td>0.000000</td>\n",
              "      <td>-196.000000</td>\n",
              "      <td>0.000000</td>\n",
              "    </tr>\n",
              "    <tr>\n",
              "      <th>1</th>\n",
              "      <td>1.907428</td>\n",
              "      <td>-185.272157</td>\n",
              "      <td>0.045045</td>\n",
              "    </tr>\n",
              "    <tr>\n",
              "      <th>2</th>\n",
              "      <td>3.807525</td>\n",
              "      <td>-174.568449</td>\n",
              "      <td>0.090090</td>\n",
              "    </tr>\n",
              "    <tr>\n",
              "      <th>3</th>\n",
              "      <td>5.700307</td>\n",
              "      <td>-163.888821</td>\n",
              "      <td>0.135135</td>\n",
              "    </tr>\n",
              "    <tr>\n",
              "      <th>4</th>\n",
              "      <td>7.585791</td>\n",
              "      <td>-153.233219</td>\n",
              "      <td>0.180180</td>\n",
              "    </tr>\n",
              "    <tr>\n",
              "      <th>...</th>\n",
              "      <td>...</td>\n",
              "      <td>...</td>\n",
              "      <td>...</td>\n",
              "    </tr>\n",
              "    <tr>\n",
              "      <th>995</th>\n",
              "      <td>-50.121853</td>\n",
              "      <td>4065.380592</td>\n",
              "      <td>44.819820</td>\n",
              "    </tr>\n",
              "    <tr>\n",
              "      <th>996</th>\n",
              "      <td>-51.126623</td>\n",
              "      <td>4066.521530</td>\n",
              "      <td>44.864865</td>\n",
              "    </tr>\n",
              "    <tr>\n",
              "      <th>997</th>\n",
              "      <td>-52.132173</td>\n",
              "      <td>4067.659903</td>\n",
              "      <td>44.909910</td>\n",
              "    </tr>\n",
              "    <tr>\n",
              "      <th>998</th>\n",
              "      <td>-53.138501</td>\n",
              "      <td>4068.795714</td>\n",
              "      <td>44.954955</td>\n",
              "    </tr>\n",
              "    <tr>\n",
              "      <th>999</th>\n",
              "      <td>-54.145605</td>\n",
              "      <td>4069.928969</td>\n",
              "      <td>45.000000</td>\n",
              "    </tr>\n",
              "  </tbody>\n",
              "</table>\n",
              "<p>1000 rows × 3 columns</p>\n",
              "</div>\n",
              "      <button class=\"colab-df-convert\" onclick=\"convertToInteractive('df-f1a844b6-dac0-462a-a0c7-04008478d724')\"\n",
              "              title=\"Convert this dataframe to an interactive table.\"\n",
              "              style=\"display:none;\">\n",
              "        \n",
              "  <svg xmlns=\"http://www.w3.org/2000/svg\" height=\"24px\"viewBox=\"0 0 24 24\"\n",
              "       width=\"24px\">\n",
              "    <path d=\"M0 0h24v24H0V0z\" fill=\"none\"/>\n",
              "    <path d=\"M18.56 5.44l.94 2.06.94-2.06 2.06-.94-2.06-.94-.94-2.06-.94 2.06-2.06.94zm-11 1L8.5 8.5l.94-2.06 2.06-.94-2.06-.94L8.5 2.5l-.94 2.06-2.06.94zm10 10l.94 2.06.94-2.06 2.06-.94-2.06-.94-.94-2.06-.94 2.06-2.06.94z\"/><path d=\"M17.41 7.96l-1.37-1.37c-.4-.4-.92-.59-1.43-.59-.52 0-1.04.2-1.43.59L10.3 9.45l-7.72 7.72c-.78.78-.78 2.05 0 2.83L4 21.41c.39.39.9.59 1.41.59.51 0 1.02-.2 1.41-.59l7.78-7.78 2.81-2.81c.8-.78.8-2.07 0-2.86zM5.41 20L4 18.59l7.72-7.72 1.47 1.35L5.41 20z\"/>\n",
              "  </svg>\n",
              "      </button>\n",
              "      \n",
              "  <style>\n",
              "    .colab-df-container {\n",
              "      display:flex;\n",
              "      flex-wrap:wrap;\n",
              "      gap: 12px;\n",
              "    }\n",
              "\n",
              "    .colab-df-convert {\n",
              "      background-color: #E8F0FE;\n",
              "      border: none;\n",
              "      border-radius: 50%;\n",
              "      cursor: pointer;\n",
              "      display: none;\n",
              "      fill: #1967D2;\n",
              "      height: 32px;\n",
              "      padding: 0 0 0 0;\n",
              "      width: 32px;\n",
              "    }\n",
              "\n",
              "    .colab-df-convert:hover {\n",
              "      background-color: #E2EBFA;\n",
              "      box-shadow: 0px 1px 2px rgba(60, 64, 67, 0.3), 0px 1px 3px 1px rgba(60, 64, 67, 0.15);\n",
              "      fill: #174EA6;\n",
              "    }\n",
              "\n",
              "    [theme=dark] .colab-df-convert {\n",
              "      background-color: #3B4455;\n",
              "      fill: #D2E3FC;\n",
              "    }\n",
              "\n",
              "    [theme=dark] .colab-df-convert:hover {\n",
              "      background-color: #434B5C;\n",
              "      box-shadow: 0px 1px 3px 1px rgba(0, 0, 0, 0.15);\n",
              "      filter: drop-shadow(0px 1px 2px rgba(0, 0, 0, 0.3));\n",
              "      fill: #FFFFFF;\n",
              "    }\n",
              "  </style>\n",
              "\n",
              "      <script>\n",
              "        const buttonEl =\n",
              "          document.querySelector('#df-f1a844b6-dac0-462a-a0c7-04008478d724 button.colab-df-convert');\n",
              "        buttonEl.style.display =\n",
              "          google.colab.kernel.accessAllowed ? 'block' : 'none';\n",
              "\n",
              "        async function convertToInteractive(key) {\n",
              "          const element = document.querySelector('#df-f1a844b6-dac0-462a-a0c7-04008478d724');\n",
              "          const dataTable =\n",
              "            await google.colab.kernel.invokeFunction('convertToInteractive',\n",
              "                                                     [key], {});\n",
              "          if (!dataTable) return;\n",
              "\n",
              "          const docLinkHtml = 'Like what you see? Visit the ' +\n",
              "            '<a target=\"_blank\" href=https://colab.research.google.com/notebooks/data_table.ipynb>data table notebook</a>'\n",
              "            + ' to learn more about interactive tables.';\n",
              "          element.innerHTML = '';\n",
              "          dataTable['output_type'] = 'display_data';\n",
              "          await google.colab.output.renderOutput(dataTable, element);\n",
              "          const docLink = document.createElement('div');\n",
              "          docLink.innerHTML = docLinkHtml;\n",
              "          element.appendChild(docLink);\n",
              "        }\n",
              "      </script>\n",
              "    </div>\n",
              "  </div>\n",
              "  "
            ]
          },
          "metadata": {},
          "execution_count": 31
        }
      ]
    },
    {
      "cell_type": "code",
      "source": [],
      "metadata": {
        "id": "3aZAFUenSpZE"
      },
      "execution_count": 31,
      "outputs": []
    },
    {
      "cell_type": "code",
      "source": [
        "# grafica de la posicion sobre el tiempo\n",
        "\n",
        "plt.plot(t,x)\n",
        "plt.title(\"x vs t\")\n",
        "plt.xlabel('t')\n",
        "plt.ylabel('x')\n",
        "\n",
        "plt.grid()"
      ],
      "metadata": {
        "colab": {
          "base_uri": "https://localhost:8080/",
          "height": 0
        },
        "id": "p4lFERIcGyPT",
        "outputId": "83815d2a-317b-478d-bd97-f16fa52be90d"
      },
      "execution_count": 32,
      "outputs": [
        {
          "output_type": "display_data",
          "data": {
            "text/plain": [
              "<Figure size 640x480 with 1 Axes>"
            ],
            "image/png": "[encoded data removed]"
          },
          "metadata": {}
        }
      ]
    },
    {
      "cell_type": "code",
      "source": [
        "#grafica de la posicion en y con respecto al tiempo\n",
        "\n",
        "plt.plot(t,y)\n",
        "plt.title(\"y vs t\")\n",
        "plt.xlabel('t')\n",
        "plt.ylabel('y')\n",
        "plt.grid()"
      ],
      "metadata": {
        "colab": {
          "base_uri": "https://localhost:8080/",
          "height": 0
        },
        "id": "uYmjDOEOHmpR",
        "outputId": "9edf968f-89ab-4ef0-8ae8-f92794d2cdcd"
      },
      "execution_count": 33,
      "outputs": [
        {
          "output_type": "display_data",
          "data": {
            "text/plain": [
              "<Figure size 640x480 with 1 Axes>"
            ],
            "image/png": "[encoded data removed]"
          },
          "metadata": {}
        }
      ]
    },
    {
      "cell_type": "code",
      "source": [
        "plt.plot(y,x)\n",
        "plt.grid()"
      ],
      "metadata": {
        "colab": {
          "base_uri": "https://localhost:8080/",
          "height": 0
        },
        "id": "uTxK1AS2aoW_",
        "outputId": "d1b6094b-08f6-4e40-d8e5-f6ed06ed6919"
      },
      "execution_count": 34,
      "outputs": [
        {
          "output_type": "display_data",
          "data": {
            "text/plain": [
              "<Figure size 640x480 with 1 Axes>"
            ],
            "image/png": "[encoded data removed]"
          },
          "metadata": {}
        }
      ]
    },
    {
      "cell_type": "code",
      "source": [
        "#para calcular la mayor distanica hallamos cuando se hace 0 el eje x\n",
        "cero_x= optimize.bisect(pos_x,35,45,args=(45*np.pi/180,np.pi, 60, 0.05, 30,9.8))\n",
        "print(\"distancia mas larga\" , cero_x)"
      ],
      "metadata": {
        "colab": {
          "base_uri": "https://localhost:8080/"
        },
        "id": "024KX4MQT5-d",
        "outputId": "3aaf4479-e4d4-46b2-bcb5-f35ced29d1a2"
      },
      "execution_count": 35,
      "outputs": [
        {
          "output_type": "stream",
          "name": "stdout",
          "text": [
            "distancia mas larga 42.52463670404609\n"
          ]
        }
      ]
    },
    {
      "cell_type": "markdown",
      "source": [],
      "metadata": {
        "id": "cKjA7Hy4T4ur"
      }
    },
    {
      "cell_type": "markdown",
      "source": [
        "\n",
        "# 4. Construir un fractal empleando el metodo de Newton-Raphson, \n",
        "(Reproducir código y entender)\n",
        "\\begin{equation}\n",
        "z_{n+1} = z_n -a \\frac{f(z)}{f'(z)} \n",
        "\\end{equation}\n",
        "\n",
        "\n",
        "\n",
        "\\begin{equation}\n",
        "f'(z) = \\frac{ f(z+h)+f(z) }{h}\n",
        "\\end{equation}"
      ],
      "metadata": {
        "id": "Ok4b668dWU_A"
      }
    },
    {
      "cell_type": "markdown",
      "source": [
        "```\n",
        "import numpy as np\n",
        "import matplotlib.pylab as plt\n",
        "from PIL import Image\n",
        "\n",
        "Npx_X = 80 #Numero de pixeles en x\n",
        "Npx_Y = 80 #Numero de pixeles en y\n",
        "\n",
        "image = Image.new(\"RGB\", (Npx_X, Npx_Y)) #Creacion de la imagen inicial\n",
        "\n",
        "npx = np.arange(0, Npx_X)\n",
        "npy = np.arange(0, Npx_Y)\n",
        "\n",
        "xmin = -1\n",
        "xmax = 1\n",
        "ymin = -1\n",
        "ymax = 1\n",
        "#Transformación al plano complejo en un rectangulo (xmin, xmax), (ymin, ymax)\n",
        "zx = npx * (xmax - xmin) / (Npx_X - 1)   + xmin\n",
        "zy = npy * (ymax-ymin) / (Npx_Y - 1) + ymin\n",
        "\n",
        "#Definicion  la funcion y las derivada \n",
        "def f(z): \n",
        "  return z**3 - 1\n",
        "\n",
        "def fp(z): \n",
        "  return 3*z**2\n",
        "\n",
        "h = 1E-4\n",
        "def fpn(z, h): \n",
        "  return (f(z+h)-f(z))/h\n",
        "  \n",
        "\n",
        "a = 0.2\n",
        "Niteraciones = 120\n",
        "eps = 1E-8\n",
        "\n",
        "x = - 1\n",
        "for zx_ in zx:\n",
        "  x = x + 1 \n",
        "  y = -1\n",
        "  for zy_ in zy: \n",
        "      y = y + 1\n",
        "      Z_0 = complex(zx_, zy_)\n",
        "    \n",
        "      for i in range(0, Niteraciones): \n",
        "        Z = Z_0 - a * f(Z_0)/fp(Z_0)\n",
        "        if( abs(Z-Z_0)<= eps):\n",
        "          break           \n",
        "        Z_0 = Z\n",
        "      #print(i)\n",
        "      #print(i)\n",
        "      r, g, b = i % 4 *64 , i % 8 *16, i% 16* 16      \n",
        "      image.putpixel((x,y), (r,g,b) )\n",
        "\n",
        "plt.imshow(image)\n",
        "#plt.xlim(400, 600)\n",
        "#plt.ylim(400, 523)\n",
        "```"
      ],
      "metadata": {
        "id": "9OaykphcWtaW"
      }
    },
    {
      "cell_type": "code",
      "source": [
        "import numpy as np\n",
        "import matplotlib.pylab as plt\n",
        "from PIL import Image\n",
        "\n",
        "Npx_X = 80 #Numero de pixeles en x\n",
        "Npx_Y = 80 #Numero de pixeles en y\n",
        "\n",
        "image = Image.new(\"RGB\", (Npx_X, Npx_Y)) #Creacion de la imagen inicial\n",
        "\n",
        "npx = np.arange(0, Npx_X)\n",
        "npy = np.arange(0, Npx_Y)\n",
        "\n",
        "xmin = -1\n",
        "xmax = 1\n",
        "ymin = -1\n",
        "ymax = 1\n",
        "# Transformación al plano complejo en un rectangulo (xmin, xmax), (ymin, ymax)\n",
        "zx = npx * (xmax - xmin) / (Npx_X - 1)   + xmin\n",
        "zy = npy * (ymax-ymin) / (Npx_Y - 1) + ymin\n",
        "\n",
        "# Definicion  la funcion y las derivada \n",
        "def f(z): \n",
        "  return z**3 - 1\n",
        "\n",
        "def fp(z): \n",
        "  return 3*z**2\n",
        "\n",
        "h = 1E-4\n",
        "def fpn(z, h): \n",
        "  return (f(z+h)-f(z))/h\n",
        "\n",
        "\n",
        "a = 0.2\n",
        "Niteraciones = 120\n",
        "eps = 1E-8\n",
        "\n",
        "x = - 1\n",
        "for zx_ in zx:\n",
        "  x = x + 1 \n",
        "  y = -1\n",
        "  for zy_ in zy: \n",
        "      y = y + 1\n",
        "      Z_0 = complex(zx_, zy_)\n",
        "\n",
        "      for i in range(0, Niteraciones): \n",
        "        Z = Z_0 - a * f(Z_0)/fp(Z_0)\n",
        "        if( abs(Z-Z_0)<= eps):\n",
        "          break           \n",
        "        Z_0 = Z\n",
        "      #print(i)\n",
        "      #print(i)\n",
        "      r, g, b = i % 4 *64 , i % 8 *16, i% 16* 16      \n",
        "      image.putpixel((x,y), (r,g,b) )\n",
        "\n",
        "plt.imshow(image)\n",
        "# plt.xlim(400, 600)\n",
        "# plt.ylim(400, 523)"
      ],
      "metadata": {
        "colab": {
          "base_uri": "https://localhost:8080/",
          "height": 450
        },
        "id": "PQOkmapwPPgu",
        "outputId": "79b5459c-b13a-4a8a-bd58-11db6f8d35c5"
      },
      "execution_count": 36,
      "outputs": [
        {
          "output_type": "execute_result",
          "data": {
            "text/plain": [
              "<matplotlib.image.AxesImage at 0x7fca00d261f0>"
            ]
          },
          "metadata": {},
          "execution_count": 36
        },
        {
          "output_type": "display_data",
          "data": {
            "text/plain": [
              "<Figure size 640x480 with 1 Axes>"
            ],
            "image/png": "[encoded data removed]"
          },
          "metadata": {}
        }
      ]
    },
    {
      "cell_type": "code",
      "source": [],
      "metadata": {
        "id": "xzrizkk0PP2b"
      },
      "execution_count": 36,
      "outputs": []
    }
  ]
}