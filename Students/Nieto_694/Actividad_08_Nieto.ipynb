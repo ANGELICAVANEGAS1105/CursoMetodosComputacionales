{
  "nbformat": 4,
  "nbformat_minor": 0,
  "metadata": {
    "colab": {
      "provenance": []
    },
    "kernelspec": {
      "name": "python3",
      "display_name": "Python 3"
    },
    "language_info": {
      "name": "python"
    }
  },
  "cells": [
    {
      "cell_type": "markdown",
      "source": [
        "# Actividad \n",
        "1. Elaborar un programa en python que permita calcular la integral de una función entre el intervalo a, b. para ello debera realizar lo siguiente:\n",
        "\n",
        "## Realizar en notebook de collab\n",
        "- Deducir la ecuación general del metodo del trapecio.\n",
        "- Construir un funcion llamada integral_trapz que reciba como argumento una función y el intervalo a, b. El numero de intervalos N será un argumento opcional, \n",
        "  defina por defecto N=10. La función deberá retornar el valor de la integral.  \n",
        "- Comparar la solución con la libreria de scipy https://docs.scipy.org/doc//scipy-1.4.1/reference/generated/scipy.integrate.trapz.html\n",
        "\n",
        "## Construir un programa en python con la función anterior que realice lo siguiente:  \n",
        "\n",
        "- Generalice el programa para que la funcion pueda ser pasada como parametro en terminal, junto con el parametro a, b. la ejecucion debera ser:\n",
        "  python integral func a b, Ejemplo de ejcucion:\n",
        "  python x**2+1 1 5  \n",
        "\n",
        "Para pasar los parametros consulte la libreria sys de python."
      ],
      "metadata": {
        "id": "Wp7FbFHgXqY4"
      }
    },
    {
      "cell_type": "code",
      "execution_count": null,
      "metadata": {
        "id": "IVRk5nxhXh3T"
      },
      "outputs": [],
      "source": [
        "#Definamos la funcion que permite calcular la integral de una funcion entre el intervalo a,b \n",
        "import numpy as np\n",
        "\n",
        "def f(x):\n",
        "  return x**2\n",
        "k=[]\n",
        "def I(xi,a,b):\n",
        "  for i in range(a,b):\n",
        "    i= ((f(i+xi*[i+1][0])+f(i+xi*[i][0]))/2) * xi*[i]*[0]\n",
        "    I= k.append(i)\n",
        "  return sum(I)\n",
        " \n",
        "\n"
      ]
    },
    {
      "cell_type": "code",
      "source": [
        "for i in range (1,2):\n",
        "  d=i+10*[i+1][0]\n",
        "  print(d)"
      ],
      "metadata": {
        "colab": {
          "base_uri": "https://localhost:8080/"
        },
        "id": "S5HI_tE-ecme",
        "outputId": "43c2fa45-ce78-43b3-8830-914a6c52e101"
      },
      "execution_count": null,
      "outputs": [
        {
          "output_type": "stream",
          "name": "stdout",
          "text": [
            "21\n"
          ]
        }
      ]
    },
    {
      "cell_type": "code",
      "source": [
        "#Forma de shofi"
      ],
      "metadata": {
        "id": "RF-qkOkdelQh"
      },
      "execution_count": null,
      "outputs": []
    },
    {
      "cell_type": "code",
      "source": [
        "import numpy as np\n",
        "from scipy.integrate import trapz\n",
        "import matplotlib.pylab as plt"
      ],
      "metadata": {
        "id": "WYHuohM4k_EO"
      },
      "execution_count": null,
      "outputs": []
    },
    {
      "cell_type": "code",
      "source": [
        "f= lambda x: x**2\n",
        "a=0\n",
        "b=1\n",
        "N=30  #numero de particiones\n",
        "h= (b-a)/N\n",
        "x= np.linspace(a,b,N+1)\n",
        "A= (f(x[0])+f(x[-1]))*0.5*h+f(x[1:-1]).sum()*h\n",
        "print(h,A)"
      ],
      "metadata": {
        "colab": {
          "base_uri": "https://localhost:8080/"
        },
        "id": "GpOjf29Pm47_",
        "outputId": "8dc22313-6fd9-403f-98c4-979227cf3450"
      },
      "execution_count": null,
      "outputs": [
        {
          "output_type": "stream",
          "name": "stdout",
          "text": [
            "0.03333333333333333 0.33351851851851855\n"
          ]
        }
      ]
    },
    {
      "cell_type": "code",
      "source": [
        "from scipy.integrate import simpson"
      ],
      "metadata": {
        "id": "gHGyYJ987Tvp"
      },
      "execution_count": null,
      "outputs": []
    },
    {
      "cell_type": "code",
      "source": [
        "trapz(f(x),x)"
      ],
      "metadata": {
        "colab": {
          "base_uri": "https://localhost:8080/"
        },
        "id": "2IvlQ8LJm83M",
        "outputId": "f696e6a0-1b8a-4e4f-932f-60f52ef162e2"
      },
      "execution_count": null,
      "outputs": [
        {
          "output_type": "execute_result",
          "data": {
            "text/plain": [
              "0.3335185185185185"
            ]
          },
          "metadata": {},
          "execution_count": 17
        }
      ]
    },
    {
      "cell_type": "code",
      "source": [
        "#Convirtamos esto en un def\n",
        "def integral_trap(fun,a,b,N=10):\n",
        "  h= (b-a)/N\n",
        "  x= np.linspace(a,b,N+1)\n",
        "  A= (f(x[0])+f(x[-1]))*0.5*h+f(x[1:-1]).sum()*h\n",
        "  return A"
      ],
      "metadata": {
        "id": "s6x7Byjmozyq"
      },
      "execution_count": null,
      "outputs": []
    },
    {
      "cell_type": "code",
      "source": [
        "#Forma de evaluar funciones.\n",
        "funcion= 'x**2+np.log(x**2+1)'\n",
        "f= lambda x: eval(funcion) #Definimos la funcion con eval\n",
        "f(1)"
      ],
      "metadata": {
        "colab": {
          "base_uri": "https://localhost:8080/"
        },
        "id": "lVzO_qi-ppmd",
        "outputId": "028144d8-41bd-4f15-d569-a3540cf61c30"
      },
      "execution_count": null,
      "outputs": [
        {
          "output_type": "execute_result",
          "data": {
            "text/plain": [
              "1.6931471805599454"
            ]
          },
          "metadata": {},
          "execution_count": 12
        }
      ]
    },
    {
      "cell_type": "code",
      "source": [
        "#Calculemos la integral con el metodo del trapecio \n",
        "integral_trap(f,0.1,1,N=5)"
      ],
      "metadata": {
        "colab": {
          "base_uri": "https://localhost:8080/"
        },
        "id": "E6qoqvFwqBF2",
        "outputId": "b042bbcf-a7d5-4fe9-87cd-b1da351941da"
      },
      "execution_count": null,
      "outputs": [
        {
          "output_type": "execute_result",
          "data": {
            "text/plain": [
              "0.6036362484756226"
            ]
          },
          "metadata": {},
          "execution_count": 13
        }
      ]
    },
    {
      "cell_type": "code",
      "source": [
        "#Evaluemos la funcion con trapz\n",
        "trapz(f(x),x,dx=h)"
      ],
      "metadata": {
        "colab": {
          "base_uri": "https://localhost:8080/"
        },
        "id": "BJjb217jqVxU",
        "outputId": "aa2b6dcb-6ecb-4268-9221-0ce6b60af760"
      },
      "execution_count": null,
      "outputs": [
        {
          "output_type": "execute_result",
          "data": {
            "text/plain": [
              "0.6072790500271191"
            ]
          },
          "metadata": {},
          "execution_count": 14
        }
      ]
    },
    {
      "cell_type": "code",
      "source": [
        "#Construccion caja negra donde se calcule cualquier metodo de integracion que se dese calcular\n",
        "#Este programa se realizo en un archivo ejecutable en visual studio en clase."
      ],
      "metadata": {
        "id": "SJTaEY5Dutt5"
      },
      "execution_count": null,
      "outputs": []
    }
  ]
}