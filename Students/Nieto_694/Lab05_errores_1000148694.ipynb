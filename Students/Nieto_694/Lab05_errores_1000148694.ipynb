{
  "cells": [
    {
      "cell_type": "markdown",
      "metadata": {
        "id": "eIZ2Sde65031"
      },
      "source": [
        "<a href=\"https://colab.research.google.com/github/hernansalinas/autogrades/blob/main/Laboratorios_Taller/Lab05_errores.ipynb\" target=\"_parent\"><img src=\"https://colab.research.google.com/assets/colab-badge.svg\" alt=\"Open In Colab\"/></a>"
      ]
    },
    {
      "cell_type": "markdown",
      "metadata": {
        "id": "ifkkjBLv1XCU"
      },
      "source": [
        "\n",
        "## Exponencial, serie alternante (serieEn)\n",
        "Objetivo: Analizar el uso de la cancelación substractiva\n",
        "\n",
        "\n",
        "Copia textual del libro  [Computational Physics. ](https://www.dropbox.com/s/n06ul2r4l65khl6/Computational%20Physics%20-%20Problem%20Solving%20with%20Computers%2C%203527406263.pdf?dl=0)\n",
        "\n",
        "- Write a program that calculates $e^{-x}$ \n",
        "\n",
        "\\begin{equation}\n",
        "e^{-x}=\\sum_{n=0}^{N}  (-1)^n \\frac{x^{n}}{n!}\n",
        "\\end{equation}\n",
        "\n",
        "\n",
        "- Calculate your series for $x \\le 1$ and compare it to the built-in function\n",
        "exp(x) (you may assume that the built-in exponential function is exact).\n",
        "You should pick an N for which the next term in the series is no more\n",
        "than $10^{-7}$ of the sum up to that point\n",
        "\n",
        "\\begin{equation}\n",
        "\\left| \\frac{(-x)^{N+1}}{(N+1)!} \\right | \\le \\left| 10^{-7} \\sum_{N=0}^{N} \\frac{(-x)^{n}}{n!} \\right|\n",
        "\\end{equation}\n",
        "\n",
        "- Examine the terms in the series for $x\\approx 10$ and observe the significant subtractive cancellations that occur when large terms add together to give small answers. In particular, print out the near-perfect cancellation\n",
        "at $n \\approx x − 1$.\n",
        "\n",
        "- See if better precision is obtained by being clever and using exp(−x) = 1/ exp(x) for large x values. This eliminates subtractive cancellation, but does not eliminate all roundoff errors\n",
        "\n",
        "- By progressively increasing x from 1 to 10, and then from 10 to 100, use your program to determine experimentally when the series starts to lose accuracy, and when the series no longer converges\n",
        "\n",
        "- Make a series of graphs of the error versus N for different values of x.\n",
        "\n",
        "\n",
        "## Cancelación sustractiva\n",
        "\n",
        "\n",
        "\n",
        "**serieSn**. Un ejemplo de la cancelacion substractiva es en la suma de series alternantes. Considere la serie $\\mathrm{S}_N$,  escrita  matematicamente de tres formas diferentes:\n",
        "\n",
        "- \n",
        "\\begin{equation}\n",
        "\\mathrm{S}_N^{(1)} = \\sum_{n = 1}^{2N} (-1)^n \\frac{n}{n+1} \n",
        "\\end{equation}\n",
        "\n",
        "- Sumando números pares e impares.\n",
        "\n",
        "\\begin{equation}\n",
        "\\mathrm{S}_N^{(2)} = -\\sum_{n = 1}^{N}\\frac{2n-1}{2n} + \\sum_{n=1}^{N} \\frac{2n}{2n+1}\n",
        "\\end{equation}\n",
        "\n",
        "- Combinando las series de una forma analítica\n",
        "\n",
        "\\begin{equation}\n",
        "\\mathrm{S}_N^{(3)} = \\sum_{n = 1}^{N}\\frac{1}{2n(2n+1)}\n",
        "\\end{equation}\n",
        "\n",
        "\n",
        "\n",
        "Las tres sumas $\\mathrm{S}_N^{(1)}$, $\\mathrm{S}_N^{(2)}$ y $\\mathrm{S}_N^{(3)}$ son matemáticamente iguales, pero los resultados  pueden tener resultados numéricos diferentes.\n",
        "\n",
        "\n",
        "- Escribir un programa que realice el cálculo de $\\mathrm{S}_N^{(1)}$, $\\mathrm{S}_N^{(2)}$ y $\\mathrm{S}_N^{(3)}$\n",
        "- Estudiar la convergencia de la serie para los tres casos.\n",
        "- Considere  que $S_N^{(3)}$ es la solución exacta, realizar dos graficos log-log, del error relativo en función \n",
        "del número de términos ($\\mathrm{Log_{10}} E$ VS $\\mathrm{Log_{10}} N$), para $S_N^{(1)}$ y $S_N^{(2)}$. Donde,  $E = |(S_N^{(i)} - S_N^{(3)})/S_N^{(3)}|$, i = 1, 2. Considere valores de $N = 1\\times 10^{6}$.\n",
        "- Analizar y discutir los resultados. Tenga en cuenta la discusión realizada sobre teoría de errores en la página \n",
        "39 del libro del libro [Computational Physics. ](https://www.dropbox.com/s/n06ul2r4l65khl6/Computational%20Physics%20-%20Problem%20Solving%20with%20Computers%2C%203527406263.pdf?dl=0)\n",
        "\n",
        "\n"
      ]
    },
    {
      "cell_type": "code",
      "source": [
        "#Definamos la funcion \n",
        "import numpy as np\n",
        "import math\n",
        "\n",
        "\n",
        "def exp_series(x, N):\n",
        "    approx = 1.0\n",
        "    term = 1.0\n",
        "    for n in range(1, N+1): #El ciclo itera sumando cada temrino de la sumatoria para obtener la aproximacion en serie\n",
        "        term *= -x/n\n",
        "        approx += term\n",
        "        if abs(term/approx) < 1e-7: \n",
        "            break\n",
        "    return approx\n",
        "\n",
        "exp_series(2,100) #Prueba del codigo"
      ],
      "metadata": {
        "colab": {
          "base_uri": "https://localhost:8080/"
        },
        "id": "aqGy0uIzGimi",
        "outputId": "510b57c1-d420-46a8-8982-f2ea1ab238f0"
      },
      "execution_count": 30,
      "outputs": [
        {
          "output_type": "execute_result",
          "data": {
            "text/plain": [
              "0.13533528356808788"
            ]
          },
          "metadata": {},
          "execution_count": 30
        }
      ]
    },
    {
      "cell_type": "code",
      "source": [
        "#Vectoricemos para no usar un ciclo for.\n",
        "def exp_series(x):\n",
        "    n_values = np.arange(0, 100) #Creamos un arreglo de valores de n de 0 a 100 para iterar\n",
        "    term_values = (-1)**n_values * x**n_values / np.math.factorial(n_values) #Calculamos los terminos de la sumatoria\n",
        "    result = np.sum(term_values) #usando la funcion np.sum sumamos todos los valores en el arreglo term_values\n",
        "    return result\n",
        "exp_series(2) #Da un error debido a que la funcion np.math.factorial devuelve todo los valores del arreglo al tiempo"
      ],
      "metadata": {
        "colab": {
          "base_uri": "https://localhost:8080/",
          "height": 321
        },
        "id": "BJI-c_-pJBGC",
        "outputId": "7b1f62b6-d9ad-4fd2-a60d-83a7e274ff8f"
      },
      "execution_count": 31,
      "outputs": [
        {
          "output_type": "error",
          "ename": "TypeError",
          "evalue": "ignored",
          "traceback": [
            "\u001b[0;31m---------------------------------------------------------------------------\u001b[0m",
            "\u001b[0;31mTypeError\u001b[0m                                 Traceback (most recent call last)",
            "\u001b[0;32m<ipython-input-31-14678cbd6188>\u001b[0m in \u001b[0;36m<cell line: 7>\u001b[0;34m()\u001b[0m\n\u001b[1;32m      5\u001b[0m     \u001b[0mresult\u001b[0m \u001b[0;34m=\u001b[0m \u001b[0mnp\u001b[0m\u001b[0;34m.\u001b[0m\u001b[0msum\u001b[0m\u001b[0;34m(\u001b[0m\u001b[0mterm_values\u001b[0m\u001b[0;34m)\u001b[0m \u001b[0;31m#usando la funcion np.sum sumamos todos los valores en el arreglo term_values\u001b[0m\u001b[0;34m\u001b[0m\u001b[0;34m\u001b[0m\u001b[0m\n\u001b[1;32m      6\u001b[0m     \u001b[0;32mreturn\u001b[0m \u001b[0mresult\u001b[0m\u001b[0;34m\u001b[0m\u001b[0;34m\u001b[0m\u001b[0m\n\u001b[0;32m----> 7\u001b[0;31m \u001b[0mexp_series\u001b[0m\u001b[0;34m(\u001b[0m\u001b[0;36m2\u001b[0m\u001b[0;34m)\u001b[0m \u001b[0;31m#Da un error debido a que la funcion np.math.factorial devuelve todo los valores del arreglo al tiempo\u001b[0m\u001b[0;34m\u001b[0m\u001b[0;34m\u001b[0m\u001b[0m\n\u001b[0m",
            "\u001b[0;32m<ipython-input-31-14678cbd6188>\u001b[0m in \u001b[0;36mexp_series\u001b[0;34m(x)\u001b[0m\n\u001b[1;32m      2\u001b[0m \u001b[0;32mdef\u001b[0m \u001b[0mexp_series\u001b[0m\u001b[0;34m(\u001b[0m\u001b[0mx\u001b[0m\u001b[0;34m)\u001b[0m\u001b[0;34m:\u001b[0m\u001b[0;34m\u001b[0m\u001b[0;34m\u001b[0m\u001b[0m\n\u001b[1;32m      3\u001b[0m     \u001b[0mn_values\u001b[0m \u001b[0;34m=\u001b[0m \u001b[0mnp\u001b[0m\u001b[0;34m.\u001b[0m\u001b[0marange\u001b[0m\u001b[0;34m(\u001b[0m\u001b[0;36m0\u001b[0m\u001b[0;34m,\u001b[0m \u001b[0;36m100\u001b[0m\u001b[0;34m)\u001b[0m \u001b[0;31m#Creamos un arreglo de valores de n de 0 a 100 para iterar\u001b[0m\u001b[0;34m\u001b[0m\u001b[0;34m\u001b[0m\u001b[0m\n\u001b[0;32m----> 4\u001b[0;31m     \u001b[0mterm_values\u001b[0m \u001b[0;34m=\u001b[0m \u001b[0;34m(\u001b[0m\u001b[0;34m-\u001b[0m\u001b[0;36m1\u001b[0m\u001b[0;34m)\u001b[0m\u001b[0;34m**\u001b[0m\u001b[0mn_values\u001b[0m \u001b[0;34m*\u001b[0m \u001b[0mx\u001b[0m\u001b[0;34m**\u001b[0m\u001b[0mn_values\u001b[0m \u001b[0;34m/\u001b[0m \u001b[0mnp\u001b[0m\u001b[0;34m.\u001b[0m\u001b[0mmath\u001b[0m\u001b[0;34m.\u001b[0m\u001b[0mfactorial\u001b[0m\u001b[0;34m(\u001b[0m\u001b[0mn_values\u001b[0m\u001b[0;34m)\u001b[0m \u001b[0;31m#Calculamos los terminos de la sumatoria\u001b[0m\u001b[0;34m\u001b[0m\u001b[0;34m\u001b[0m\u001b[0m\n\u001b[0m\u001b[1;32m      5\u001b[0m     \u001b[0mresult\u001b[0m \u001b[0;34m=\u001b[0m \u001b[0mnp\u001b[0m\u001b[0;34m.\u001b[0m\u001b[0msum\u001b[0m\u001b[0;34m(\u001b[0m\u001b[0mterm_values\u001b[0m\u001b[0;34m)\u001b[0m \u001b[0;31m#usando la funcion np.sum sumamos todos los valores en el arreglo term_values\u001b[0m\u001b[0;34m\u001b[0m\u001b[0;34m\u001b[0m\u001b[0m\n\u001b[1;32m      6\u001b[0m     \u001b[0;32mreturn\u001b[0m \u001b[0mresult\u001b[0m\u001b[0;34m\u001b[0m\u001b[0;34m\u001b[0m\u001b[0m\n",
            "\u001b[0;31mTypeError\u001b[0m: only integer scalar arrays can be converted to a scalar index"
          ]
        }
      ]
    },
    {
      "cell_type": "markdown",
      "source": [
        "Write a program that calculates  e−x"
      ],
      "metadata": {
        "id": "p1n0w28w0mXE"
      }
    },
    {
      "cell_type": "code",
      "source": [
        "import numpy as np\n",
        "import scipy.special #Buscando en internet encontre que esta funcion de scipy puede server\n",
        "\n",
        "def exp_series(x):\n",
        "    n_val = np.arange(0, 100)\n",
        "    term_val = (-1)**n_val * x**n_val / scipy.special.factorial(n_val) #Devuelve el factorial uno a uno \n",
        "    result = np.sum(term_val)\n",
        "    return result\n",
        "\n",
        "result = exp_series(2)\n",
        "print(result)\n"
      ],
      "metadata": {
        "colab": {
          "base_uri": "https://localhost:8080/"
        },
        "id": "QflQ7gnXMgRn",
        "outputId": "c2f93786-ef82-4658-a647-1657e6396555"
      },
      "execution_count": 42,
      "outputs": [
        {
          "output_type": "stream",
          "name": "stdout",
          "text": [
            "0.1353352832366127\n"
          ]
        }
      ]
    },
    {
      "cell_type": "markdown",
      "source": [
        "Calculate your series for  x≤1  and compare it to the built-in function exp(x) (you may assume that the built-in exponential function is exact). You should pick an N for which the next term in the series is no more than  10−7  of the sum up to that point"
      ],
      "metadata": {
        "id": "N_DfHOIS0peR"
      }
    },
    {
      "cell_type": "code",
      "source": [
        "def exp_series(x):\n",
        "    n_val = np.arange(0, 100)\n",
        "    term_val = (-1)**n_val * x**n_val / scipy.special.factorial(n_val) #Devuelve el factorial uno a uno \n",
        "    result = np.sum(term_val)\n",
        "  \n",
        "\n",
        "    sum_val = np.cumsum(term_val) #cumsum devuelve la suma acumulada de los valores de un array a lo largo de los ejes especificados\n",
        "    next_term = abs(-x)**(n_val[-1]+1) / scipy.special.factorial(n_val[-1]+1) \n",
        "    if next_term <= 1e-7 * sum_val[-1]: #Definimos la condicion del error\n",
        "        converge = True\n",
        "    else:\n",
        "        converge = False\n",
        "    \n",
        "    # Definimos la funcion expoenncial con numpy para hacer la comparacion\n",
        "    exp_val = np.exp(-x)\n",
        "    \n",
        "   \n",
        "    return sum_val[-1], exp_val, converge\n",
        "\n",
        "# probamos la funcion para x <= 1\n",
        "for x in np.arange(0, 1.1, 0.1):\n",
        "    series_val, exp_val, converge = exp_series(x)\n",
        "    print(f\"x = {x:.1f}: series = {series_val:.8f}, exp = {exp_val:.8f}, converge = {converge}\")"
      ],
      "metadata": {
        "colab": {
          "base_uri": "https://localhost:8080/"
        },
        "id": "gOEMdvWHNfoq",
        "outputId": "7e8354e8-72bb-4d4d-9d9d-4ef92b3bd3e3"
      },
      "execution_count": 41,
      "outputs": [
        {
          "output_type": "stream",
          "name": "stdout",
          "text": [
            "x = 0.0: series = 1.00000000, exp = 1.00000000, converge = True\n",
            "x = 0.1: series = 0.90483742, exp = 0.90483742, converge = True\n",
            "x = 0.2: series = 0.81873075, exp = 0.81873075, converge = True\n",
            "x = 0.3: series = 0.74081822, exp = 0.74081822, converge = True\n",
            "x = 0.4: series = 0.67032005, exp = 0.67032005, converge = True\n",
            "x = 0.5: series = 0.60653066, exp = 0.60653066, converge = True\n",
            "x = 0.6: series = 0.54881164, exp = 0.54881164, converge = True\n",
            "x = 0.7: series = 0.49658530, exp = 0.49658530, converge = True\n",
            "x = 0.8: series = 0.44932896, exp = 0.44932896, converge = True\n",
            "x = 0.9: series = 0.40656966, exp = 0.40656966, converge = True\n",
            "x = 1.0: series = 0.36787944, exp = 0.36787944, converge = True\n"
          ]
        }
      ]
    },
    {
      "cell_type": "markdown",
      "source": [
        "Examine the terms in the series for  x≈10  and observe the significant subtractive cancellations that occur when large terms add together to give small answers. In particular, print out the near-perfect cancellation at  n≈x−1"
      ],
      "metadata": {
        "id": "stQJUT1c0dlP"
      }
    },
    {
      "cell_type": "code",
      "source": [
        "import numpy as np\n",
        "import scipy.special\n",
        "\n",
        "def exp_series(x):\n",
        "    n_val = np.arange(0, 100)\n",
        "    term_val = (-1)**n_val * x**n_val / scipy.special.factorial(n_val) #Devuelve el factorial uno a uno \n",
        "    result = np.sum(term_val)\n",
        "  \n",
        "\n",
        "    sum_val = np.cumsum(term_val) #cumsum devuelve la suma acumulada de los valores de un array a lo largo de los ejes especificados\n",
        "    next_term = abs(-x)**(n_val[-1]+1) / scipy.special.factorial(n_val[-1]+1) \n",
        "    if next_term <= 1e-7 * sum_val[-1]: #Definimos la condicion del error\n",
        "        converge = True\n",
        "    else:\n",
        "        converge = False\n",
        "    \n",
        "    # Definimos la funcion expoenncial con numpy para hacer la comparacion\n",
        "    exp_val = np.exp(-x)\n",
        "    \n",
        "    # probamos entonces para x~10\n",
        "    if abs(x-10) < 1e-3:\n",
        "        n = int(x) - 1\n",
        "        print(f\"Term {n}: {term_val[n]:.4e}\")\n",
        "        print(f\"Term {n+1}: {term_val[n+1]:.4e}\")\n",
        "        print(f\"Sum of terms {n} through {n+10}: {np.sum(term_val[n:n+10+1]):.4e}\")\n",
        "    \n",
        "    # Return the result and convergence status\n",
        "    return sum_val[-1], exp_val, converge\n"
      ],
      "metadata": {
        "id": "q8kbM-ixytUa"
      },
      "execution_count": 57,
      "outputs": []
    },
    {
      "cell_type": "code",
      "source": [
        "exp_series(10)"
      ],
      "metadata": {
        "colab": {
          "base_uri": "https://localhost:8080/"
        },
        "id": "hRKXtDwUyvjB",
        "outputId": "b461c727-22c2-4842-a8a5-479318c5d45c"
      },
      "execution_count": 58,
      "outputs": [
        {
          "output_type": "stream",
          "name": "stdout",
          "text": [
            "Term 9: -2.7557e+03\n",
            "Term 10: 2.7557e+03\n",
            "Sum of terms 9 through 19: -1.2186e+03\n"
          ]
        },
        {
          "output_type": "execute_result",
          "data": {
            "text/plain": [
              "(127.05562505307005, 4.5399929762484854e-05, True)"
            ]
          },
          "metadata": {},
          "execution_count": 58
        }
      ]
    },
    {
      "cell_type": "markdown",
      "source": [
        "\n",
        " if better precision is obtained by being clever and using exp(−x) = 1/ exp(x) for large x values. This eliminates subtractive cancellation, but does not eliminate all roundoff errors\n",
        "\n",
        "By progressively increasing x from 1 to 10, and then from 10 to 100, use your program to determine experimentally when the series starts to lose accuracy, and when the series no longer converges\n",
        "\n",
        "Make a series of graphs of the error versus N for different values of x."
      ],
      "metadata": {
        "id": "8BF5daoK0uH_"
      }
    },
    {
      "cell_type": "code",
      "source": [
        "#redefinimos e^-x usando la otra forma\n",
        "import numpy as np\n",
        "import scipy.special\n",
        "\n",
        "def exp_series(x):\n",
        "    if x > 30:\n",
        "        # Usa la relación exp(-x) = 1/exp(x) para valores grandes de x\n",
        "        term_values = 1 / np.exp(x) * np.power(x, np.arange(0, 100)) / scipy.special.factorial(np.arange(0, 100))\n",
        "    else:\n",
        "        # Creamos matrices de términos, signos y factoriales\n",
        "        n_values = np.arange(0, 100)\n",
        "        term_values = (-1)**n_values * x**n_values / scipy.special.factorial(n_values)\n",
        "    \n",
        "    # Calcula la suma y verifique la convergencia\n",
        "    sum_values = np.cumsum(term_values)\n",
        "    next_term = abs(-x)**(n_values[-1]+1) / scipy.special.factorial(n_values[-1]+1) if x <= 30 else abs(1/x * term_values[-1])\n",
        "    if next_term <= 1e-7 * sum_values[-1]:\n",
        "        converged = True\n",
        "    else:\n",
        "        converged = False\n",
        "    \n",
        "    # Comparara con la función exp incorporada \n",
        "    exp_val = np.exp(-x) if x <= 30 else 1 / np.exp(x)\n",
        "    \n",
        "    # Devuelve el resultado y el estado de convergencia\n",
        "    return sum_values[-1], exp_val, converged"
      ],
      "metadata": {
        "id": "FDvch3rJ0yCh"
      },
      "execution_count": 61,
      "outputs": []
    },
    {
      "cell_type": "code",
      "source": [
        "#Ahora podemos usar esta función para determinar experimentalmente cuándo la serie comienza a perder precisión y cuándo ya no converge para diferentes valores de x:\n",
        "\n",
        "import matplotlib.pyplot as plt\n",
        "\n",
        "# Definimos un rango de valores x para probar\n",
        "x_values = np.concatenate((np.arange(1, 11), np.arange(20, 101, 10)))\n",
        "\n",
        "# matrices para almacenar resultados\n",
        "n_max_values = np.zeros_like(x_values, dtype=int)\n",
        "converged_values = np.zeros_like(x_values, dtype=bool)\n",
        "error_values = np.zeros((len(x_values), 100))\n",
        "\n",
        "# Calculamos el error para cada valor de x y cada valor de N\n",
        "for i, x in enumerate(x_values):\n",
        "    for n in range(100):\n",
        "        # Calculamos el error y el estado de convergencia para el valor N actual\n",
        "        sum_value, exp_value, converged = exp_series(x)\n",
        "        error = abs(exp_value - sum_value)\n",
        "        \n",
        "        # Actualiczamos las matrices creadas antes para almacenar los resultados.\n",
        "        error_values[i, n] = error\n",
        "        converged_values[i] = converged\n",
        "        if n_max_values[i] == 0 and not converged:\n",
        "            n_max_values[i] = n\n",
        "\n",
        "# Graficamos el error\n",
        "for i, x in enumerate(x_values):\n",
        "    plt.plot(range(100), error_values[i], label=f'x = {x}')\n",
        "\n",
        "plt.yscale('log')\n",
        "plt.xlabel('N')\n",
        "plt.ylabel('Error')\n",
        "plt.legend()\n",
        "plt.show()\n",
        "\n",
        "# graficamos el valor máximo de N antes de que la serie pierda precisión para cada valor de x\n",
        "plt.plot(x_values, n_max_values)\n",
        "plt.xlabel('x')\n",
        "plt.ylabel('N max')\n",
        "plt.show()\n",
        "\n",
        "# Imprime los valores de x para los cuales la serie no converge\n",
        "print('La serie no converge para los valores de x:', x_values[~converged_values])"
      ],
      "metadata": {
        "colab": {
          "base_uri": "https://localhost:8080/",
          "height": 898
        },
        "id": "q_1pmDsn1gQz",
        "outputId": "537aab9e-ac24-4037-d812-ed727ef1e797"
      },
      "execution_count": 65,
      "outputs": [
        {
          "output_type": "display_data",
          "data": {
            "text/plain": [
              "<Figure size 640x480 with 1 Axes>"
            ],
            "image/png": "[encoded data removed]"
          },
          "metadata": {}
        },
        {
          "output_type": "display_data",
          "data": {
            "text/plain": [
              "<Figure size 640x480 with 1 Axes>"
            ],
            "image/png": "[encoded data removed]"
          },
          "metadata": {}
        },
        {
          "output_type": "stream",
          "name": "stdout",
          "text": [
            "La serie no converge para los valores de x: [ 8  9 80]\n"
          ]
        }
      ]
    },
    {
      "cell_type": "markdown",
      "source": [
        "# Cancelación sustractiva"
      ],
      "metadata": {
        "id": "iOhtLWpn3iHL"
      }
    },
    {
      "cell_type": "code",
      "source": [
        "#Definimos las 3 sumatorias\n",
        "def S1(N):\n",
        "    sum_odd = 0\n",
        "    sum_even = 0\n",
        "    for n in range(1, N+1):\n",
        "        if n % 2 == 0:\n",
        "            sum_even += (-1)**n * n / (n+1)\n",
        "        else:\n",
        "            sum_odd += (-1)**n * n / (n+1)\n",
        "    return sum_odd + sum_even\n",
        "\n",
        "def S2(N):\n",
        "    sum_even = 0\n",
        "    sum_odd = 0\n",
        "    for n in range(1, N+1):\n",
        "        if n % 2 == 0:\n",
        "            sum_even -= n / (2*n - 1)\n",
        "        else:\n",
        "            sum_odd += n / (2*n + 1)\n",
        "    return sum_even + sum_odd\n",
        "\n",
        "def S3(N):\n",
        "    sum_terms = 0\n",
        "    for n in range(1, N+1):\n",
        "        sum_terms += 1 / (2*n * (2*n+1))\n",
        "    return sum_terms\n"
      ],
      "metadata": {
        "id": "etp9EKIa3m3w"
      },
      "execution_count": 66,
      "outputs": []
    },
    {
      "cell_type": "code",
      "source": [
        "#Evaluamos la convergencia de cada sumatoria. para esto, se realizarán gráficos de la suma parcial de las series en función del número de términos.\n",
        "import matplotlib.pyplot as plt\n",
        "\n",
        "N = 1000\n",
        "x = list(range(1, N+1))\n",
        "\n",
        "# Grafico de S1\n",
        "y1 = [S1(n) for n in x]\n",
        "plt.plot(x, y1, label=\"S1\")\n",
        "\n",
        "# Grafico de S2\n",
        "y2 = [S2(n) for n in x]\n",
        "plt.plot(x, y2, label=\"S2\")\n",
        "\n",
        "# Grafico de S3\n",
        "y3 = [S3(n) for n in x]\n",
        "plt.plot(x, y3, label=\"S3\")\n",
        "\n",
        "plt.legend()\n",
        "plt.show()\n"
      ],
      "metadata": {
        "colab": {
          "base_uri": "https://localhost:8080/",
          "height": 430
        },
        "id": "5hN1D5RH6SCH",
        "outputId": "e2998aef-ba35-4f0d-b652-9f47e150e1a6"
      },
      "execution_count": 67,
      "outputs": [
        {
          "output_type": "display_data",
          "data": {
            "text/plain": [
              "<Figure size 640x480 with 1 Axes>"
            ],
            "image/png": "[encoded data removed]"
          },
          "metadata": {}
        }
      ]
    },
    {
      "cell_type": "markdown",
      "source": [
        "En el gráfico se observa que las tres series convergen a medida que aumenta el número de términos."
      ],
      "metadata": {
        "id": "eVz_0LXO6nC_"
      }
    }
  ],
  "metadata": {
    "colab": {
      "provenance": []
    },
    "kernelspec": {
      "display_name": "Python 3 (ipykernel)",
      "language": "python",
      "name": "python3"
    },
    "language_info": {
      "codemirror_mode": {
        "name": "ipython",
        "version": 3
      },
      "file_extension": ".py",
      "mimetype": "text/x-python",
      "name": "python",
      "nbconvert_exporter": "python",
      "pygments_lexer": "ipython3",
      "version": "3.8.12"
    }
  },
  "nbformat": 4,
  "nbformat_minor": 0
}