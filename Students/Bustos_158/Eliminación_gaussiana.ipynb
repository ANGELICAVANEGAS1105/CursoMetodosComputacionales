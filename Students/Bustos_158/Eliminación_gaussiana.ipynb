{
  "nbformat": 4,
  "nbformat_minor": 0,
  "metadata": {
    "colab": {
      "provenance": []
    },
    "kernelspec": {
      "name": "python3",
      "display_name": "Python 3"
    },
    "language_info": {
      "name": "python"
    }
  },
  "cells": [
    {
      "cell_type": "code",
      "execution_count": 1,
      "metadata": {
        "id": "gJeb5AWTlM5b"
      },
      "outputs": [],
      "source": [
        "import numpy as np\n",
        "import sympy as sp"
      ]
    },
    {
      "cell_type": "code",
      "source": [
        "M1 = np.array( [[5,-4,0,1],[-4,7,-3,2],[0,-3,5,3]] )\n",
        "sp.Matrix(M1) # [1,2,3] es para determinar las soluciones"
      ],
      "metadata": {
        "colab": {
          "base_uri": "https://localhost:8080/",
          "height": 78
        },
        "id": "kTtIpFBZlS8b",
        "outputId": "70bce995-2011-4c87-f42e-e8bb225fcb7c"
      },
      "execution_count": 306,
      "outputs": [
        {
          "output_type": "execute_result",
          "data": {
            "text/plain": [
              "Matrix([\n",
              "[ 5, -4,  0, 1],\n",
              "[-4,  7, -3, 2],\n",
              "[ 0, -3,  5, 3]])"
            ],
            "text/latex": "$\\displaystyle \\left[\\begin{matrix}5 & -4 & 0 & 1\\\\-4 & 7 & -3 & 2\\\\0 & -3 & 5 & 3\\end{matrix}\\right]$"
          },
          "metadata": {},
          "execution_count": 306
        }
      ]
    },
    {
      "cell_type": "code",
      "source": [
        "def intercambio (M,i,j):\n",
        "  I= M.copy()\n",
        "\n",
        "  I[i]= M1[j]\n",
        "  I[j]= M1[i]\n",
        "  return I"
      ],
      "metadata": {
        "id": "eVKqfhhftOUn"
      },
      "execution_count": 3,
      "outputs": []
    },
    {
      "cell_type": "code",
      "source": [
        "intercambio(M1,0,1)"
      ],
      "metadata": {
        "colab": {
          "base_uri": "https://localhost:8080/"
        },
        "id": "h4V4O-fbtXT1",
        "outputId": "fcf02cca-bd15-46a3-ba9f-589b0e491b40"
      },
      "execution_count": 4,
      "outputs": [
        {
          "output_type": "execute_result",
          "data": {
            "text/plain": [
              "array([[-4,  7, -3],\n",
              "       [ 5, -4,  0],\n",
              "       [ 0, -3,  5]])"
            ]
          },
          "metadata": {},
          "execution_count": 4
        }
      ]
    },
    {
      "cell_type": "code",
      "source": [
        "def suma (M,i,j,a):\n",
        "  S= M.copy()\n",
        "  S[j]= a*S[i]+S[j]\n",
        "  return S"
      ],
      "metadata": {
        "id": "9mRQ-Dx1uGET"
      },
      "execution_count": 5,
      "outputs": []
    },
    {
      "cell_type": "code",
      "source": [
        "suma(M1,0,1,2)"
      ],
      "metadata": {
        "colab": {
          "base_uri": "https://localhost:8080/"
        },
        "id": "yezZ8gK-up6M",
        "outputId": "c1a9a523-82bf-44f6-da9f-831d724c2503"
      },
      "execution_count": 6,
      "outputs": [
        {
          "output_type": "execute_result",
          "data": {
            "text/plain": [
              "array([[ 5, -4,  0],\n",
              "       [ 6, -1, -3],\n",
              "       [ 0, -3,  5]])"
            ]
          },
          "metadata": {},
          "execution_count": 6
        }
      ]
    },
    {
      "cell_type": "code",
      "source": [
        "def escalar (M,i,a):\n",
        "  E= M.copy()\n",
        "  E[i]= a*E[i]\n",
        "  return E"
      ],
      "metadata": {
        "id": "Lk5TGiVtwRdC"
      },
      "execution_count": 7,
      "outputs": []
    },
    {
      "cell_type": "code",
      "source": [
        "escalar(M1,0,2)"
      ],
      "metadata": {
        "colab": {
          "base_uri": "https://localhost:8080/"
        },
        "id": "co0vJaZOwnzO",
        "outputId": "711c491a-39c5-4ff0-9a84-f526a611e615"
      },
      "execution_count": 8,
      "outputs": [
        {
          "output_type": "execute_result",
          "data": {
            "text/plain": [
              "array([[10, -8,  0],\n",
              "       [-4,  7, -3],\n",
              "       [ 0, -3,  5]])"
            ]
          },
          "metadata": {},
          "execution_count": 8
        }
      ]
    },
    {
      "cell_type": "code",
      "source": [
        "A= np.array([[2,1,1,5],[4,1,1,1],[6,2,1,4]]) # Para escalares racionales\n",
        "A"
      ],
      "metadata": {
        "colab": {
          "base_uri": "https://localhost:8080/"
        },
        "id": "l81d_EDUx4wm",
        "outputId": "f4834653-bf7d-4b6e-bee0-c80fe04d9a7c"
      },
      "execution_count": 293,
      "outputs": [
        {
          "output_type": "execute_result",
          "data": {
            "text/plain": [
              "array([[2, 1, 1, 5],\n",
              "       [4, 1, 1, 1],\n",
              "       [6, 2, 1, 4]])"
            ]
          },
          "metadata": {},
          "execution_count": 293
        }
      ]
    },
    {
      "cell_type": "code",
      "source": [
        "# Eliminación gaussiana\n",
        "\n",
        "F1= suma(A,0,1,-2).copy()\n",
        "F2= suma(F1,0,2,-3).copy()\n",
        "F3= suma(F2,1,2,-1)\n",
        "F3= escalar(F3,2,-1)\n",
        "F4= suma(F3,2,1,1)\n",
        "F5= suma(F4,2,0,-1)\n",
        "F6= suma(F5,1,0,1)\n",
        "F7= escalar(F6,1,-1)\n",
        "F8= escalar(F7,0,1/2)\n",
        "F8"
      ],
      "metadata": {
        "colab": {
          "base_uri": "https://localhost:8080/"
        },
        "id": "rG15S_gAy91D",
        "outputId": "38fc116b-3830-4055-a1fa-2d3c107b4371"
      },
      "execution_count": 10,
      "outputs": [
        {
          "output_type": "execute_result",
          "data": {
            "text/plain": [
              "array([[ 1.,  0.,  0., -2.],\n",
              "       [-0.,  1., -0.,  7.],\n",
              "       [-0., -0.,  1.,  2.]])"
            ]
          },
          "metadata": {},
          "execution_count": 10
        }
      ]
    },
    {
      "cell_type": "code",
      "source": [
        "M1"
      ],
      "metadata": {
        "colab": {
          "base_uri": "https://localhost:8080/"
        },
        "id": "odGfNYQWnNST",
        "outputId": "8a47aa22-d752-4663-ef9a-2cc019cf4d3a"
      },
      "execution_count": 163,
      "outputs": [
        {
          "output_type": "execute_result",
          "data": {
            "text/plain": [
              "array([[ 5, -4,  0,  1],\n",
              "       [-4,  7, -3,  2],\n",
              "       [ 0, -3,  5,  3]])"
            ]
          },
          "metadata": {},
          "execution_count": 163
        }
      ]
    },
    {
      "cell_type": "code",
      "source": [
        "def eliminacion_gaussiana(M):\n",
        "\n",
        "  Mc = M.copy().astype(float) # operar con racionales\n",
        "  n = len(M)\n",
        "  soluciones = np.zeros(np.shape(Mc[0:n,n]))\n",
        "\n",
        "  for i in range(n):\n",
        "    Mc = escalar(Mc, i,1 / Mc[i, i]) # pivotes\n",
        "    for j in range(i + 1, n):\n",
        "      Mc = suma(Mc, i, j, -Mc[j, i]) #reducción\n",
        "\n",
        "  # Para determinar las soluciones\n",
        "\n",
        "  for i in range(n - 1, -1, -1):\n",
        "    soluciones[i] = (Mc[i, -1] - np.dot(Mc[i, i + 1:n], soluciones[i + 1:])) / Mc[i, i]\n",
        "\n",
        "  return Mc, soluciones"
      ],
      "metadata": {
        "id": "i-uYie0lU6nk"
      },
      "execution_count": 312,
      "outputs": []
    },
    {
      "cell_type": "code",
      "source": [
        "matriz, soluciones = eliminacion_gaussiana(A)\n",
        "print(f\"Matriz reducida: {matriz} \")\n",
        "print(f\"La solución es: {soluciones}\") # concuerda con la solución manual"
      ],
      "metadata": {
        "colab": {
          "base_uri": "https://localhost:8080/"
        },
        "id": "GZfI5PX7VhLm",
        "outputId": "9b603bae-fdbe-4948-8539-396eea30d4ac"
      },
      "execution_count": 313,
      "outputs": [
        {
          "output_type": "stream",
          "name": "stdout",
          "text": [
            "Matriz reducida: [[ 1.   0.5  0.5  2.5]\n",
            " [-0.   1.   1.   9. ]\n",
            " [-0.  -0.   1.   2. ]] \n",
            "La solución es: [-2.  7.  2.]\n"
          ]
        }
      ]
    },
    {
      "cell_type": "code",
      "source": [
        "matriz1, soluciones1 = eliminacion_gaussiana(M1)\n",
        "print(f\"Matriz reducida: {matriz1} \")\n",
        "print(f\"La solución es: {soluciones1}\")"
      ],
      "metadata": {
        "colab": {
          "base_uri": "https://localhost:8080/"
        },
        "id": "K5XZXpXhvYIK",
        "outputId": "0eb1814a-4fdf-4778-8120-5b63db36395a"
      },
      "execution_count": 314,
      "outputs": [
        {
          "output_type": "stream",
          "name": "stdout",
          "text": [
            "Matriz reducida: [[ 1.00000000e+00 -8.00000000e-01  0.00000000e+00  2.00000000e-01]\n",
            " [ 0.00000000e+00  1.00000000e+00 -7.89473684e-01  7.36842105e-01]\n",
            " [ 0.00000000e+00 -1.68753900e-16  1.00000000e+00  1.98000000e+00]] \n",
            "La solución es: [2.04 2.3  1.98]\n"
          ]
        }
      ]
    }
  ]
}