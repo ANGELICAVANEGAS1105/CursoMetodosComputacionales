{
  "nbformat": 4,
  "nbformat_minor": 0,
  "metadata": {
    "colab": {
      "provenance": []
    },
    "kernelspec": {
      "name": "python3",
      "display_name": "Python 3"
    },
    "language_info": {
      "name": "python"
    }
  },
  "cells": [
    {
      "cell_type": "code",
      "execution_count": null,
      "metadata": {
        "id": "S-3rxeKSp7Tc"
      },
      "outputs": [],
      "source": [
        "import numpy as np\n",
        "import sympy as sp\n",
        "import matplotlib.pyplot as plt\n",
        "from numpy import linalg as LA # libreria de álgebra lineal"
      ]
    },
    {
      "cell_type": "markdown",
      "source": [
        "# **Analíticamente**\n",
        "\n",
        "\n"
      ],
      "metadata": {
        "id": "E_g3esRqItPt"
      }
    },
    {
      "cell_type": "code",
      "source": [
        "A= np.array([[1,-1,4],\n",
        "              [3,2,-1],\n",
        "              [2,1,-1]])\n",
        "A"
      ],
      "metadata": {
        "colab": {
          "base_uri": "https://localhost:8080/"
        },
        "id": "SpivUyKerERY",
        "outputId": "d38f29ad-8d8d-46ee-be55-31694d26dc9e"
      },
      "execution_count": null,
      "outputs": [
        {
          "output_type": "execute_result",
          "data": {
            "text/plain": [
              "array([[ 1, -1,  4],\n",
              "       [ 3,  2, -1],\n",
              "       [ 2,  1, -1]])"
            ]
          },
          "metadata": {},
          "execution_count": 2
        }
      ]
    },
    {
      "cell_type": "code",
      "source": [
        "I= np.array([[1,0,0],\n",
        "             [0,1,0],\n",
        "             [0,0,1]])\n",
        "I"
      ],
      "metadata": {
        "colab": {
          "base_uri": "https://localhost:8080/"
        },
        "id": "GIrC4tBRsCMr",
        "outputId": "7b41ade5-0e71-4c55-93c6-f4c6cd2c04b9"
      },
      "execution_count": null,
      "outputs": [
        {
          "output_type": "execute_result",
          "data": {
            "text/plain": [
              "array([[1, 0, 0],\n",
              "       [0, 1, 0],\n",
              "       [0, 0, 1]])"
            ]
          },
          "metadata": {},
          "execution_count": 3
        }
      ]
    },
    {
      "cell_type": "code",
      "source": [
        "I_s= sp. Matrix(I)"
      ],
      "metadata": {
        "id": "qc7U4tK1sSCu"
      },
      "execution_count": null,
      "outputs": []
    },
    {
      "cell_type": "code",
      "source": [
        "B= sp.Matrix(A)\n",
        "C= sp.Matrix(I)"
      ],
      "metadata": {
        "id": "x7jIGhm1qKmZ"
      },
      "execution_count": null,
      "outputs": []
    },
    {
      "cell_type": "code",
      "source": [
        "lambda_= sp.Symbol(\"lambda\")\n",
        "lambda_"
      ],
      "metadata": {
        "colab": {
          "base_uri": "https://localhost:8080/",
          "height": 39
        },
        "id": "OPA2PNtVsK4c",
        "outputId": "f0cf8a86-0cbd-4c34-8e85-c8e5676b3abd"
      },
      "execution_count": null,
      "outputs": [
        {
          "output_type": "execute_result",
          "data": {
            "text/plain": [
              "lambda"
            ],
            "text/latex": "$\\displaystyle \\lambda$"
          },
          "metadata": {},
          "execution_count": 6
        }
      ]
    },
    {
      "cell_type": "code",
      "source": [
        "M= B-lambda_*I_s\n",
        "M"
      ],
      "metadata": {
        "colab": {
          "base_uri": "https://localhost:8080/",
          "height": 78
        },
        "id": "XYWEKPPpsN-p",
        "outputId": "c88931da-7ab7-45ae-9d4f-d375537e0197"
      },
      "execution_count": null,
      "outputs": [
        {
          "output_type": "execute_result",
          "data": {
            "text/plain": [
              "Matrix([\n",
              "[1 - lambda,         -1,           4],\n",
              "[         3, 2 - lambda,          -1],\n",
              "[         2,          1, -lambda - 1]])"
            ],
            "text/latex": "$\\displaystyle \\left[\\begin{matrix}1 - \\lambda & -1 & 4\\\\3 & 2 - \\lambda & -1\\\\2 & 1 & - \\lambda - 1\\end{matrix}\\right]$"
          },
          "metadata": {},
          "execution_count": 7
        }
      ]
    },
    {
      "cell_type": "code",
      "source": [
        "# Polinomio característico\n",
        "\n",
        "det= M.det()\n",
        "det"
      ],
      "metadata": {
        "colab": {
          "base_uri": "https://localhost:8080/",
          "height": 39
        },
        "id": "QiM3TOG1sVJx",
        "outputId": "a7fce9e4-ddf7-42ac-eab8-57b4561837ec"
      },
      "execution_count": null,
      "outputs": [
        {
          "output_type": "execute_result",
          "data": {
            "text/plain": [
              "-lambda**3 + 2*lambda**2 + 5*lambda - 6"
            ],
            "text/latex": "$\\displaystyle - \\lambda^{3} + 2 \\lambda^{2} + 5 \\lambda - 6$"
          },
          "metadata": {},
          "execution_count": 8
        }
      ]
    },
    {
      "cell_type": "code",
      "source": [
        "np.poly(A)"
      ],
      "metadata": {
        "colab": {
          "base_uri": "https://localhost:8080/"
        },
        "id": "sdAmcnYXq-H7",
        "outputId": "3c01f608-9bab-4eb0-83d2-007d90afeed3"
      },
      "execution_count": null,
      "outputs": [
        {
          "output_type": "execute_result",
          "data": {
            "text/plain": [
              "array([ 1., -2., -5.,  6.])"
            ]
          },
          "metadata": {},
          "execution_count": 9
        }
      ]
    },
    {
      "cell_type": "code",
      "source": [
        "# Valores propios y vectores propios\n",
        "\n",
        "np.linalg.eig(A)"
      ],
      "metadata": {
        "colab": {
          "base_uri": "https://localhost:8080/"
        },
        "id": "qBhyJFUfroMr",
        "outputId": "9d157955-8a7a-4f11-aa33-fb4027c4ea9a"
      },
      "execution_count": null,
      "outputs": [
        {
          "output_type": "execute_result",
          "data": {
            "text/plain": [
              "(array([ 3., -2.,  1.]),\n",
              " array([[ 0.40824829,  0.57735027,  0.23570226],\n",
              "        [ 0.81649658, -0.57735027, -0.94280904],\n",
              "        [ 0.40824829, -0.57735027, -0.23570226]]))"
            ]
          },
          "metadata": {},
          "execution_count": 10
        }
      ]
    },
    {
      "cell_type": "markdown",
      "source": [
        "# **Generalizar determinante  3x3**"
      ],
      "metadata": {
        "id": "nWtlN41PsltW"
      }
    },
    {
      "cell_type": "code",
      "source": [
        "# Determinante de una matriz 2x2\n",
        "\n",
        "def det(M):\n",
        " return M[0,0]*M[1,1]-M[1,0]*M[0,1]"
      ],
      "metadata": {
        "id": "aB3EolETspGn"
      },
      "execution_count": null,
      "outputs": []
    },
    {
      "cell_type": "code",
      "source": [
        "def det_3 (M1):\n",
        "  d= M1[0,0]*det(M1[1:3:1,1:3:1])-M1[1,0]*det(M1[0:3:2,1:3:1])+ M1[2,0]*det(M1[0:2:1,1:3:1])\n",
        "  return d"
      ],
      "metadata": {
        "id": "0Axbp8YHu9jF"
      },
      "execution_count": null,
      "outputs": []
    },
    {
      "cell_type": "code",
      "source": [
        "det_3(B)"
      ],
      "metadata": {
        "colab": {
          "base_uri": "https://localhost:8080/",
          "height": 37
        },
        "id": "cMzDNniS0qRL",
        "outputId": "60ace940-4c45-4d98-b60b-ba0bf2a81ed7"
      },
      "execution_count": null,
      "outputs": [
        {
          "output_type": "execute_result",
          "data": {
            "text/plain": [
              "-6"
            ],
            "text/latex": "$\\displaystyle -6$"
          },
          "metadata": {},
          "execution_count": 13
        }
      ]
    },
    {
      "cell_type": "code",
      "source": [
        "# Polinomío característico\n",
        "pol= B-lambda_*I_s\n",
        "pol_= sp.poly(det_3(pol))\n",
        "pol_"
      ],
      "metadata": {
        "colab": {
          "base_uri": "https://localhost:8080/",
          "height": 39
        },
        "id": "RFs0ekljMd7k",
        "outputId": "76a37d0e-3d56-4d02-bd73-7b336ed1fa80"
      },
      "execution_count": null,
      "outputs": [
        {
          "output_type": "execute_result",
          "data": {
            "text/plain": [
              "Poly(-lambda**3 + 2*lambda**2 + 5*lambda - 6, lambda, domain='ZZ')"
            ],
            "text/latex": "$\\displaystyle \\operatorname{Poly}{\\left( -\\lambda^{3} + 2 \\lambda^{2} + 5 \\lambda - 6, \\lambda, domain=\\mathbb{Z} \\right)}$"
          },
          "metadata": {},
          "execution_count": 14
        }
      ]
    },
    {
      "cell_type": "markdown",
      "source": [
        "# **Generalización para determinar los vectores propios**"
      ],
      "metadata": {
        "id": "DauWAZf6NcDq"
      }
    },
    {
      "cell_type": "code",
      "source": [
        "# Valores propios de la matriz\n",
        "\n",
        "pol= B-lambda_*I_s\n",
        "pol_= sp.poly(det_3(pol))\n",
        "\n",
        "sol1,sol2,sol3,= sp.solve(pol_)\n",
        "sol1,sol2,sol3"
      ],
      "metadata": {
        "colab": {
          "base_uri": "https://localhost:8080/"
        },
        "id": "J6q9oopX12IW",
        "outputId": "3cfb4aa6-2c57-40ba-ef01-aa3802d8eb2c"
      },
      "execution_count": null,
      "outputs": [
        {
          "output_type": "execute_result",
          "data": {
            "text/plain": [
              "(-2, 1, 3)"
            ]
          },
          "metadata": {},
          "execution_count": 15
        }
      ]
    },
    {
      "cell_type": "code",
      "source": [
        "B2= B-sol1*I_s\n",
        "B2"
      ],
      "metadata": {
        "colab": {
          "base_uri": "https://localhost:8080/",
          "height": 78
        },
        "id": "cSlT_BO58ybC",
        "outputId": "24681338-52bd-4a0c-b2ad-2fba3973579c"
      },
      "execution_count": null,
      "outputs": [
        {
          "output_type": "execute_result",
          "data": {
            "text/plain": [
              "Matrix([\n",
              "[3, -1,  4],\n",
              "[3,  4, -1],\n",
              "[2,  1,  1]])"
            ],
            "text/latex": "$\\displaystyle \\left[\\begin{matrix}3 & -1 & 4\\\\3 & 4 & -1\\\\2 & 1 & 1\\end{matrix}\\right]$"
          },
          "metadata": {},
          "execution_count": 16
        }
      ]
    },
    {
      "cell_type": "code",
      "source": [
        "B1= B-sol2*I_s\n",
        "B1"
      ],
      "metadata": {
        "colab": {
          "base_uri": "https://localhost:8080/",
          "height": 78
        },
        "id": "sXCkRETL991w",
        "outputId": "656af5e0-0719-4cbf-8eaf-41e3d53a0991"
      },
      "execution_count": null,
      "outputs": [
        {
          "output_type": "execute_result",
          "data": {
            "text/plain": [
              "Matrix([\n",
              "[0, -1,  4],\n",
              "[3,  1, -1],\n",
              "[2,  1, -2]])"
            ],
            "text/latex": "$\\displaystyle \\left[\\begin{matrix}0 & -1 & 4\\\\3 & 1 & -1\\\\2 & 1 & -2\\end{matrix}\\right]$"
          },
          "metadata": {},
          "execution_count": 17
        }
      ]
    },
    {
      "cell_type": "code",
      "source": [
        "B3= B-sol3*I_s\n",
        "B3"
      ],
      "metadata": {
        "colab": {
          "base_uri": "https://localhost:8080/",
          "height": 78
        },
        "id": "k7tatoJ2-BfI",
        "outputId": "bf90ccb3-5c85-44e5-bba1-f6a3b524b379"
      },
      "execution_count": null,
      "outputs": [
        {
          "output_type": "execute_result",
          "data": {
            "text/plain": [
              "Matrix([\n",
              "[-2, -1,  4],\n",
              "[ 3, -1, -1],\n",
              "[ 2,  1, -4]])"
            ],
            "text/latex": "$\\displaystyle \\left[\\begin{matrix}-2 & -1 & 4\\\\3 & -1 & -1\\\\2 & 1 & -4\\end{matrix}\\right]$"
          },
          "metadata": {},
          "execution_count": 18
        }
      ]
    },
    {
      "cell_type": "code",
      "source": [
        "x1= sp.Symbol(\"x1\")\n",
        "x2= sp.Symbol(\"x2\")\n",
        "x3= sp.Symbol(\"x3\")\n",
        "X_= sp.Matrix([x1,x2,x3])\n",
        "X_"
      ],
      "metadata": {
        "colab": {
          "base_uri": "https://localhost:8080/",
          "height": 78
        },
        "id": "ex2e5KIkRuXe",
        "outputId": "d28f4702-783a-4ed9-e772-693335c5956b"
      },
      "execution_count": null,
      "outputs": [
        {
          "output_type": "execute_result",
          "data": {
            "text/plain": [
              "Matrix([\n",
              "[x1],\n",
              "[x2],\n",
              "[x3]])"
            ],
            "text/latex": "$\\displaystyle \\left[\\begin{matrix}x_{1}\\\\x_{2}\\\\x_{3}\\end{matrix}\\right]$"
          },
          "metadata": {},
          "execution_count": 19
        }
      ]
    },
    {
      "cell_type": "code",
      "source": [
        "p= B2.rref()[0] # luego llamar a las variables x1,x2,x3\n",
        "p"
      ],
      "metadata": {
        "id": "Qc1GKy_mYvdM",
        "colab": {
          "base_uri": "https://localhost:8080/",
          "height": 78
        },
        "outputId": "d0d80cf7-e04c-4ddc-946a-ca2772e622d0"
      },
      "execution_count": null,
      "outputs": [
        {
          "output_type": "execute_result",
          "data": {
            "text/plain": [
              "Matrix([\n",
              "[1, 0,  1],\n",
              "[0, 1, -1],\n",
              "[0, 0,  0]])"
            ],
            "text/latex": "$\\displaystyle \\left[\\begin{matrix}1 & 0 & 1\\\\0 & 1 & -1\\\\0 & 0 & 0\\end{matrix}\\right]$"
          },
          "metadata": {},
          "execution_count": 20
        }
      ]
    },
    {
      "cell_type": "code",
      "source": [
        "p*X_"
      ],
      "metadata": {
        "colab": {
          "base_uri": "https://localhost:8080/",
          "height": 78
        },
        "id": "wL0Qj-xXZYN5",
        "outputId": "2319d8d7-eaed-436c-beb9-94dfd2a8b11a"
      },
      "execution_count": null,
      "outputs": [
        {
          "output_type": "execute_result",
          "data": {
            "text/plain": [
              "Matrix([\n",
              "[x1 + x3],\n",
              "[x2 - x3],\n",
              "[      0]])"
            ],
            "text/latex": "$\\displaystyle \\left[\\begin{matrix}x_{1} + x_{3}\\\\x_{2} - x_{3}\\\\0\\end{matrix}\\right]$"
          },
          "metadata": {},
          "execution_count": 21
        }
      ]
    },
    {
      "cell_type": "code",
      "source": [
        "prueba= sp.solve(p*X_) # x3 debería tomar cualquier valor"
      ],
      "metadata": {
        "id": "XFZpQegJZ9gj"
      },
      "execution_count": null,
      "outputs": []
    },
    {
      "cell_type": "code",
      "source": [
        "prueba"
      ],
      "metadata": {
        "colab": {
          "base_uri": "https://localhost:8080/"
        },
        "id": "rIvAH48Mb0HA",
        "outputId": "7feb66d9-40d0-408f-8070-b54fd8b75f0a"
      },
      "execution_count": null,
      "outputs": [
        {
          "output_type": "execute_result",
          "data": {
            "text/plain": [
              "{x1: -x3, x2: x3}"
            ]
          },
          "metadata": {},
          "execution_count": 23
        }
      ]
    },
    {
      "cell_type": "code",
      "source": [
        "B2*X_ # cual es la columna LD"
      ],
      "metadata": {
        "colab": {
          "base_uri": "https://localhost:8080/",
          "height": 78
        },
        "id": "zGmQtJf0SaCB",
        "outputId": "cf57722e-8551-4258-abcf-2c837b56cc15"
      },
      "execution_count": null,
      "outputs": [
        {
          "output_type": "execute_result",
          "data": {
            "text/plain": [
              "Matrix([\n",
              "[3*x1 - x2 + 4*x3],\n",
              "[3*x1 + 4*x2 - x3],\n",
              "[  2*x1 + x2 + x3]])"
            ],
            "text/latex": "$\\displaystyle \\left[\\begin{matrix}3 x_{1} - x_{2} + 4 x_{3}\\\\3 x_{1} + 4 x_{2} - x_{3}\\\\2 x_{1} + x_{2} + x_{3}\\end{matrix}\\right]$"
          },
          "metadata": {},
          "execution_count": 24
        }
      ]
    },
    {
      "cell_type": "code",
      "source": [
        "# comprobación librería\n",
        "B2.nullspace(),B3.nullspace(),B1.nullspace()"
      ],
      "metadata": {
        "colab": {
          "base_uri": "https://localhost:8080/"
        },
        "id": "c8CofvyhSJU4",
        "outputId": "97457701-048f-4cac-873d-592470a4e331"
      },
      "execution_count": null,
      "outputs": [
        {
          "output_type": "execute_result",
          "data": {
            "text/plain": [
              "([Matrix([\n",
              "  [-1],\n",
              "  [ 1],\n",
              "  [ 1]])],\n",
              " [Matrix([\n",
              "  [1],\n",
              "  [2],\n",
              "  [1]])],\n",
              " [Matrix([\n",
              "  [-1],\n",
              "  [ 4],\n",
              "  [ 1]])])"
            ]
          },
          "metadata": {},
          "execution_count": 25
        }
      ]
    },
    {
      "cell_type": "code",
      "source": [
        "def vectores_(M):\n",
        "  col= np.zeros((3,1))\n",
        "  valores=[]\n",
        "\n",
        "  if det_3(M) == 0:\n",
        "    M_LD = M.rref()[0]\n",
        "    Sol = sp.solve(M_LD*X_)\n",
        "    for clave, objeto in Sol.items():\n",
        "      columna= objeto/x3 # factorizar el elemento de ese vector\n",
        "      valores.append(columna)\n",
        "      for i, valor in enumerate(valores):\n",
        "        col[i, 0] = valor\n",
        "  return col.T"
      ],
      "metadata": {
        "id": "lhwKW2CebdNU"
      },
      "execution_count": null,
      "outputs": []
    },
    {
      "cell_type": "code",
      "source": [
        "np.shape(vectores_(B1))"
      ],
      "metadata": {
        "colab": {
          "base_uri": "https://localhost:8080/"
        },
        "id": "lAmxm4Sunt8_",
        "outputId": "04b2fada-3513-4d3c-fd86-61d830d3b404"
      },
      "execution_count": null,
      "outputs": [
        {
          "output_type": "execute_result",
          "data": {
            "text/plain": [
              "(1, 3)"
            ]
          },
          "metadata": {},
          "execution_count": 289
        }
      ]
    },
    {
      "cell_type": "code",
      "source": [
        "Pp= np.array(((vectores_(B1)),(vectores_(B2)),(vectores_(B3)))).reshape(3,3).astype(int)\n",
        "P_= sp.Matrix(Pp)\n",
        "P= P_.T.subs({0:1})\n",
        "P"
      ],
      "metadata": {
        "colab": {
          "base_uri": "https://localhost:8080/",
          "height": 78
        },
        "id": "uu8_VytpcLMk",
        "outputId": "121693bc-8a35-43c1-8f5a-1e623cd2ff90"
      },
      "execution_count": null,
      "outputs": [
        {
          "output_type": "execute_result",
          "data": {
            "text/plain": [
              "Matrix([\n",
              "[-1, -1, 1],\n",
              "[ 4,  1, 2],\n",
              "[ 1,  1, 1]])"
            ],
            "text/latex": "$\\displaystyle \\left[\\begin{matrix}-1 & -1 & 1\\\\4 & 1 & 2\\\\1 & 1 & 1\\end{matrix}\\right]$"
          },
          "metadata": {},
          "execution_count": 276
        }
      ]
    },
    {
      "cell_type": "code",
      "source": [
        "D= sp.Matrix(((1,0,0),\n",
        "              (0,-2,0),\n",
        "              (0,0,3)))\n",
        "D"
      ],
      "metadata": {
        "colab": {
          "base_uri": "https://localhost:8080/",
          "height": 78
        },
        "id": "CF0efWzwqr_c",
        "outputId": "f692704d-e3f4-47c7-c180-9898533ae4d7"
      },
      "execution_count": null,
      "outputs": [
        {
          "output_type": "execute_result",
          "data": {
            "text/plain": [
              "Matrix([\n",
              "[1,  0, 0],\n",
              "[0, -2, 0],\n",
              "[0,  0, 3]])"
            ],
            "text/latex": "$\\displaystyle \\left[\\begin{matrix}1 & 0 & 0\\\\0 & -2 & 0\\\\0 & 0 & 3\\end{matrix}\\right]$"
          },
          "metadata": {},
          "execution_count": 287
        }
      ]
    },
    {
      "cell_type": "code",
      "source": [
        "# Diagonalización\n",
        "\n",
        "A_diag = P @ (D @ P.inv())\n",
        "A_diag"
      ],
      "metadata": {
        "colab": {
          "base_uri": "https://localhost:8080/",
          "height": 78
        },
        "id": "Ud6np3uUjzOE",
        "outputId": "71d393e6-c85b-44eb-def1-538f9a5c8be7"
      },
      "execution_count": null,
      "outputs": [
        {
          "output_type": "execute_result",
          "data": {
            "text/plain": [
              "Matrix([\n",
              "[1, -1,  4],\n",
              "[3,  2, -1],\n",
              "[2,  1, -1]])"
            ],
            "text/latex": "$\\displaystyle \\left[\\begin{matrix}1 & -1 & 4\\\\3 & 2 & -1\\\\2 & 1 & -1\\end{matrix}\\right]$"
          },
          "metadata": {},
          "execution_count": 288
        }
      ]
    },
    {
      "cell_type": "markdown",
      "source": [
        "# **Parte 2**"
      ],
      "metadata": {
        "id": "Puu8AlP6hOYX"
      }
    },
    {
      "cell_type": "code",
      "source": [
        "A_= np.array([[1,-2],\n",
        "            [-2,3]])"
      ],
      "metadata": {
        "id": "hlF7kJoMhTaX"
      },
      "execution_count": null,
      "outputs": []
    },
    {
      "cell_type": "code",
      "source": [
        "x= sp.Symbol(\"x\")\n",
        "y= sp.Symbol(\"y\")"
      ],
      "metadata": {
        "id": "fw5izsye6aUP"
      },
      "execution_count": null,
      "outputs": []
    },
    {
      "cell_type": "code",
      "source": [
        "def hiperbola(x, y):\n",
        "    v = np.array([x, y])\n",
        "    return np.array([(A_ @ v).dot(v)-6])"
      ],
      "metadata": {
        "id": "ba8LtkMD0P6h"
      },
      "execution_count": null,
      "outputs": []
    },
    {
      "cell_type": "code",
      "source": [
        "hiperbola(x,y)"
      ],
      "metadata": {
        "colab": {
          "base_uri": "https://localhost:8080/"
        },
        "id": "W1QgH_3-5gkK",
        "outputId": "77605eaa-d4c3-4b50-8a33-37f494ce1b8e"
      },
      "execution_count": null,
      "outputs": [
        {
          "output_type": "execute_result",
          "data": {
            "text/plain": [
              "array([x*(x - 2*y) + y*(-2*x + 3*y) - 6], dtype=object)"
            ]
          },
          "metadata": {},
          "execution_count": 40
        }
      ]
    },
    {
      "cell_type": "code",
      "source": [
        "x_ = np.linspace(-5, 5, 400)\n",
        "y_ = np.linspace(-5, 5, 400)\n",
        "X, Y = np.meshgrid(x_, y_)"
      ],
      "metadata": {
        "id": "KrOX412x6nDo"
      },
      "execution_count": null,
      "outputs": []
    },
    {
      "cell_type": "code",
      "source": [
        "hiperbola_vals = np.vectorize(hiperbola)(X,Y)"
      ],
      "metadata": {
        "id": "3HAxjdso0j9i"
      },
      "execution_count": null,
      "outputs": []
    },
    {
      "cell_type": "code",
      "source": [
        "plt.contour(X,Y, hiperbola_vals,levels=[0], colors='b')"
      ],
      "metadata": {
        "colab": {
          "base_uri": "https://localhost:8080/",
          "height": 447
        },
        "id": "FMWNa1Il6xaX",
        "outputId": "3b480394-1b28-45e8-9349-3e7e722da77a"
      },
      "execution_count": null,
      "outputs": [
        {
          "output_type": "execute_result",
          "data": {
            "text/plain": [
              "<matplotlib.contour.QuadContourSet at 0x7eedfdfeaef0>"
            ]
          },
          "metadata": {},
          "execution_count": 43
        },
        {
          "output_type": "display_data",
          "data": {
            "text/plain": [
              "<Figure size 640x480 with 1 Axes>"
            ],
            "image/png": "[encoded data removed]"
          },
          "metadata": {}
        }
      ]
    },
    {
      "cell_type": "code",
      "source": [
        "# Valores y vectores propios de A_\n",
        "\n",
        "vp,Q= LA.eig(A_)\n",
        "vp,Q\n",
        "\n",
        "# V es la matriz de autovectores que son ortogonales entre si"
      ],
      "metadata": {
        "colab": {
          "base_uri": "https://localhost:8080/"
        },
        "id": "O6uBEoxDs_ox",
        "outputId": "ac25b5d1-cbd4-48b0-cb24-f8a85deb9c27"
      },
      "execution_count": null,
      "outputs": [
        {
          "output_type": "execute_result",
          "data": {
            "text/plain": [
              "(array([-0.23606798,  4.23606798]),\n",
              " array([[-0.85065081,  0.52573111],\n",
              "        [-0.52573111, -0.85065081]]))"
            ]
          },
          "metadata": {},
          "execution_count": 44
        }
      ]
    },
    {
      "cell_type": "code",
      "source": [
        "D= Q.T @ A_ @ Q\n",
        "D"
      ],
      "metadata": {
        "colab": {
          "base_uri": "https://localhost:8080/"
        },
        "id": "l1zzCoFkv_WA",
        "outputId": "e71f9086-d3ce-401a-cef4-9d2bbe5c0a1a"
      },
      "execution_count": null,
      "outputs": [
        {
          "output_type": "execute_result",
          "data": {
            "text/plain": [
              "array([[-2.36067977e-01, -3.46944695e-16],\n",
              "       [-2.22044605e-16,  4.23606798e+00]])"
            ]
          },
          "metadata": {},
          "execution_count": 45
        }
      ]
    },
    {
      "cell_type": "code",
      "source": [
        "a= Q @ D @ Q.T\n",
        "a # diagonizable ortogonalmente"
      ],
      "metadata": {
        "colab": {
          "base_uri": "https://localhost:8080/"
        },
        "id": "vB74e6WYwwjO",
        "outputId": "46ec84f3-4760-4cc0-b765-23db85155848"
      },
      "execution_count": null,
      "outputs": [
        {
          "output_type": "execute_result",
          "data": {
            "text/plain": [
              "array([[ 1., -2.],\n",
              "       [-2.,  3.]])"
            ]
          },
          "metadata": {},
          "execution_count": 46
        }
      ]
    },
    {
      "cell_type": "code",
      "source": [
        "v = np.array((x, y))"
      ],
      "metadata": {
        "id": "MYABGTWn7WiY"
      },
      "execution_count": null,
      "outputs": []
    },
    {
      "cell_type": "code",
      "source": [
        "u= Q.T * v\n",
        "u"
      ],
      "metadata": {
        "colab": {
          "base_uri": "https://localhost:8080/"
        },
        "id": "ymthfMFAvKuZ",
        "outputId": "4d1e63e5-886b-40bd-e31c-74b1fb473780"
      },
      "execution_count": null,
      "outputs": [
        {
          "output_type": "execute_result",
          "data": {
            "text/plain": [
              "array([[-0.85065080835204*x, -0.525731112119133*y],\n",
              "       [0.525731112119133*x, -0.85065080835204*y]], dtype=object)"
            ]
          },
          "metadata": {},
          "execution_count": 48
        }
      ]
    },
    {
      "cell_type": "code",
      "source": [
        "# Hiperbola en la nueva base\n",
        "\n",
        "d= (D @ u).dot(u)\n",
        "d"
      ],
      "metadata": {
        "colab": {
          "base_uri": "https://localhost:8080/"
        },
        "id": "RXrDiKz5ybSB",
        "outputId": "1c6a3d1c-41b3-4618-8146-1db481960bf6"
      },
      "execution_count": null,
      "outputs": [
        {
          "output_type": "execute_result",
          "data": {
            "text/plain": [
              "array([[-0.170820393249937*x**2 + 0.0652475842498529*x*y,\n",
              "        -0.105572809000084*x*y - 0.105572809000084*y**2],\n",
              "       [-1.89442719099991*x**2 - 1.89442719099992*x*y,\n",
              "        -1.17082039324994*x*y + 3.06524758424985*y**2]], dtype=object)"
            ]
          },
          "metadata": {},
          "execution_count": 49
        }
      ]
    }
  ]
}