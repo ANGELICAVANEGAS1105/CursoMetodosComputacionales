{
  "cells": [
    {
      "cell_type": "markdown",
      "id": "6d26e874",
      "metadata": {
        "id": "6d26e874"
      },
      "source": [
        "<a href=\"https://colab.research.google.com/github/hernansalinas/autogrades/blob/main/Actividades_clase/Actividad_04_Binarios_Errores.ipynb\" target=\"_parent\"><img src=\"https://colab.research.google.com/assets/colab-badge.svg\" alt=\"Open In Colab\"/></a>\n",
        "\n",
        "\n",
        "\n",
        "# Actividad 4\n",
        "### Métodos computacionales para físicos  y astrónomos\n",
        "### Universidad de Antioquia\n",
        "### Prof: Hernan D. Salinas Jiménez\n"
      ]
    },
    {
      "cell_type": "code",
      "execution_count": null,
      "id": "eae80e3f",
      "metadata": {
        "id": "eae80e3f",
        "outputId": "b826b559-054a-415a-c658-f4c92419896c",
        "colab": {
          "base_uri": "https://localhost:8080/"
        }
      },
      "outputs": [
        {
          "output_type": "stream",
          "name": "stdout",
          "text": [
            "fatal: destination path 'autogrades' already exists and is not an empty directory.\n"
          ]
        }
      ],
      "source": [
        "!git clone https://github.com/hernansalinas/autogrades.git\n",
        "#path=\"libs\"\n",
        "path=\"autogrades/Actividades_clase/libs\"\n",
        "%run -i {path}/libUnitTest.py"
      ]
    },
    {
      "cell_type": "markdown",
      "id": "74f1131a",
      "metadata": {
        "id": "74f1131a"
      },
      "source": [
        "### Activity 1.0: \n",
        "\n",
        "Implement a function that get the binary representation of an integer with name mybin, the algorithm should return \n",
        "a string with 8 characters, the maximun number that represent the funcition is integer of 8 bit. The name of function is \n",
        "mybin\n",
        "\n",
        "Ejexample : \n",
        "\n",
        "b=mybin(x)\n",
        "\n",
        "b='00101000'"
      ]
    },
    {
      "cell_type": "code",
      "execution_count": 1,
      "id": "4c8dabcf",
      "metadata": {
        "id": "4c8dabcf"
      },
      "outputs": [],
      "source": [
        "##!/usr/bin/env python3\n",
        "def mybin(x):\n",
        "    print('__name__ = {}'.format(__name__))\n",
        "   # Write your code here and change the next line as required\n",
        "    return \"111\""
      ]
    },
    {
      "cell_type": "code",
      "source": [
        "#EJEMPLO 5BIT\n",
        "n=23\n",
        "b=int(n/2)\n",
        "c=n-(b*2) #primer elemento 1\n",
        "\n",
        "\n",
        "d=int(b/2)\n",
        "e=b-(d*2) #segundo elemento 1\n",
        "\n",
        "f=int(d/2)\n",
        "g=d-(f*2) #tercer elemento 1\n",
        "\n",
        "h=int(f/2)\n",
        "i=f-(h*2)\n",
        "i #cuarto elemento 0\n",
        "\n",
        "h #quinto elemento\n",
        "\n",
        "#Parar si el numerador es 3 o 2\n",
        "\n"
      ],
      "metadata": {
        "colab": {
          "base_uri": "https://localhost:8080/"
        },
        "id": "S6whFcoE_n_E",
        "outputId": "235400d8-ad46-4af3-a371-5ab5fa764e31"
      },
      "id": "S6whFcoE_n_E",
      "execution_count": 2,
      "outputs": [
        {
          "output_type": "execute_result",
          "data": {
            "text/plain": [
              "1"
            ]
          },
          "metadata": {},
          "execution_count": 2
        }
      ]
    },
    {
      "cell_type": "code",
      "source": [
        "\n",
        "\n",
        "residuos = [] \n",
        "def mybin(numero):\n",
        "  while numero!= 0: \n",
        "    residuo = numero % 2\n",
        "    cociente = numero // 2\n",
        "    residuos.append(residuo) \n",
        "    numero = cociente \n",
        "    rev = list(reversed(residuos))\n",
        "    \n",
        "    if len(residuos)>8:\n",
        "      return(\"Es mayor a 8 bites\")\n",
        "    else:\n",
        "      print(list(reversed(residuos)))\n",
        "   \n",
        "mybin(23)  \n",
        "#print(list(reversed(residuos)))\n",
        "\n",
        "\n",
        "\n",
        "\n",
        "  \n",
        "\n",
        " "
      ],
      "metadata": {
        "colab": {
          "base_uri": "https://localhost:8080/"
        },
        "id": "NlyDIRtvDckD",
        "outputId": "f3cd6b05-f3fa-42ff-eaa1-0bd84792622a"
      },
      "id": "NlyDIRtvDckD",
      "execution_count": 3,
      "outputs": [
        {
          "output_type": "stream",
          "name": "stdout",
          "text": [
            "[1]\n",
            "[1, 1]\n",
            "[1, 1, 1]\n",
            "[0, 1, 1, 1]\n",
            "[1, 0, 1, 1, 1]\n"
          ]
        }
      ]
    },
    {
      "cell_type": "code",
      "source": [
        "\"\".join([str(_) for _ in list(reversed(residuos))])"
      ],
      "metadata": {
        "colab": {
          "base_uri": "https://localhost:8080/",
          "height": 35
        },
        "id": "UUz-XhHsRvbc",
        "outputId": "e9fc2b70-7da1-4e70-f0ad-b6d2ad617bf9"
      },
      "id": "UUz-XhHsRvbc",
      "execution_count": 4,
      "outputs": [
        {
          "output_type": "execute_result",
          "data": {
            "text/plain": [
              "'10111'"
            ],
            "application/vnd.google.colaboratory.intrinsic+json": {
              "type": "string"
            }
          },
          "metadata": {},
          "execution_count": 4
        }
      ]
    },
    {
      "cell_type": "code",
      "execution_count": 5,
      "id": "885be6fb",
      "metadata": {
        "id": "885be6fb",
        "outputId": "81f8b161-45dd-412f-bb56-fb9bce4ca1d1",
        "colab": {
          "base_uri": "https://localhost:8080/"
        }
      },
      "outputs": [
        {
          "output_type": "stream",
          "name": "stderr",
          "text": [
            "ERROR:root:File `'{path}/Act_02/test01.py'` not found.\n"
          ]
        }
      ],
      "source": [
        "%run -i {path}/Act_02/test01.py"
      ]
    },
    {
      "cell_type": "markdown",
      "id": "e622b7b5",
      "metadata": {
        "id": "e622b7b5"
      },
      "source": [
        "### Activity 2.0: \n",
        "\n",
        "With the binary representation please try to implement the formula to recover the number.\n",
        "\n",
        "Hint: Use as input the binary representation as a string and invert its order\n",
        "\n",
        "```\n",
        "number32(BIN):\n",
        "\n",
        "```\n",
        "\n",
        "Where BIN is a string with the binary number\n",
        "\n",
        "Example: \n",
        "\n",
        "\n",
        "Test your solution for the next number:\n",
        "\n",
        "number32(\"00111110001000000000001000010000\")"
      ]
    },
    {
      "cell_type": "code",
      "source": [
        "def number32(BIN):\n",
        "    BIN=str(BIN)\n",
        "    decimal=0\n",
        "    posicion =0\n",
        "    for i in BIN[::-1]:\n",
        "      BIN=int(BIN)\n",
        "      if i == \"1\":\n",
        "        decimal += 2**posicion\n",
        "      posicion +=1\n",
        "    decimal=float(decimal)\n",
        "    return decimal\n",
        "\n",
        "print(number32('00111110001000000000001000010000'))\n",
        "\n"
      ],
      "metadata": {
        "colab": {
          "base_uri": "https://localhost:8080/"
        },
        "id": "2r34dsYKHiQz",
        "outputId": "120dbe4c-1988-401e-f4d5-1583c6792d71"
      },
      "id": "2r34dsYKHiQz",
      "execution_count": 8,
      "outputs": [
        {
          "output_type": "stream",
          "name": "stdout",
          "text": [
            "1042285072.0\n"
          ]
        }
      ]
    },
    {
      "cell_type": "code",
      "source": [
        "import numpy as np\n",
        "b=\"00111110001000000000001000010000\""
      ],
      "metadata": {
        "id": "3kioFgnURIDi"
      },
      "id": "3kioFgnURIDi",
      "execution_count": 15,
      "outputs": []
    },
    {
      "cell_type": "code",
      "source": [
        "def number32(BIN):\n",
        "  bin= BIN[::-1]\n",
        "  fd = bin[0:23]\n",
        "  bi = np.array(list(fd)).astype(int)\n",
        "  ex = 23-np.arange(0,23,1)\n",
        "\n",
        "  T2 =(bi/2**ex).sum()\n",
        "\n",
        "  sd = bin[23:31]\n",
        "  bi_ = np.array(list(sd)).astype(int)\n",
        "  i = np.arange(0,8,1)\n",
        "  e = (bi_*2**i).sum()\n",
        "\n",
        "  signo=eval(bin[31])\n",
        "  T=(-1)**signo/(2**(127-e))*(1 + T2)\n",
        "\n",
        "  return T \n"
      ],
      "metadata": {
        "id": "ECQ-QdBwQz3y"
      },
      "id": "ECQ-QdBwQz3y",
      "execution_count": 16,
      "outputs": []
    },
    {
      "cell_type": "code",
      "source": [
        "number32(b)"
      ],
      "metadata": {
        "colab": {
          "base_uri": "https://localhost:8080/"
        },
        "id": "SZPfNrQPQ9QG",
        "outputId": "0c5d532f-6391-48af-c593-65712daf5feb"
      },
      "id": "SZPfNrQPQ9QG",
      "execution_count": 17,
      "outputs": [
        {
          "output_type": "execute_result",
          "data": {
            "text/plain": [
              "0.15625786781311035"
            ]
          },
          "metadata": {},
          "execution_count": 17
        }
      ]
    },
    {
      "cell_type": "code",
      "execution_count": null,
      "id": "155ffd7f",
      "metadata": {
        "id": "155ffd7f",
        "colab": {
          "base_uri": "https://localhost:8080/"
        },
        "outputId": "bbe556cf-572c-412b-b31d-1f9ed10fc6c9"
      },
      "outputs": [
        {
          "output_type": "stream",
          "name": "stderr",
          "text": [
            "ERROR:root:File `'{path}/Act_02/test02.py'` not found.\n"
          ]
        }
      ],
      "source": [
        "%run -i {path}/Act_02/test02.py"
      ]
    },
    {
      "cell_type": "markdown",
      "id": "d11e596d",
      "metadata": {
        "id": "d11e596d"
      },
      "source": [
        "### Activity 3.0:\n",
        "1. Write a python script that calculates the double precision number represented by a 64-bits binary.\n",
        "\n",
        "the name of function should be: \n",
        "```\n",
        "number64(BIN):\n",
        "\n",
        "```\n",
        "\n",
        "2. What is the number represented by:\n",
        "\n",
        "BIN=\"0 10000000011 1011100100001111111111111111111111111111111111111111\""
      ]
    },
    {
      "cell_type": "code",
      "execution_count": 19,
      "id": "b0922a1d",
      "metadata": {
        "id": "b0922a1d"
      },
      "outputs": [],
      "source": [
        "from numpy.core.multiarray import arange\n",
        "b='0 10000000011 1011100100001111111111111111111111111111111111111111'"
      ]
    },
    {
      "cell_type": "code",
      "source": [
        "def number64(BIN):\n",
        "   bin = BIN[::-1] \n",
        "   fd = bin[0:52]   \n",
        "   i = np.arange(0,52,1) \n",
        "   bi= np.array(list(fd)).astype(int) \n",
        "\n",
        "   T2= (bi / 2**i).sum() \n",
        "   \n",
        "   sd = bin[52:63]\n",
        "   bi_=np.array(list(sd)).astype(int)\n",
        "   i_2= np.arange(0,11,1) \n",
        "   e = (bi_*2**i_2).sum()\n",
        "\n",
        "   signo=eval(bin[63])\n",
        "\n",
        "   T = (-1)**signo * (1+T2) * 2**(e-1023) \n",
        "   return T"
      ],
      "metadata": {
        "id": "pTZtHmZnJUq_"
      },
      "id": "pTZtHmZnJUq_",
      "execution_count": 20,
      "outputs": []
    },
    {
      "cell_type": "code",
      "execution_count": 22,
      "id": "cd48a992",
      "metadata": {
        "scrolled": false,
        "id": "cd48a992",
        "colab": {
          "base_uri": "https://localhost:8080/"
        },
        "outputId": "5b408813-936d-4526-be5d-4823e2005b58"
      },
      "outputs": [
        {
          "output_type": "execute_result",
          "data": {
            "text/plain": [
              "47.99999999997201"
            ]
          },
          "metadata": {},
          "execution_count": 22
        }
      ],
      "source": [
        "number64(\"0100000000111011100100001111111111111111111111111111111111111111\")"
      ]
    }
  ],
  "metadata": {
    "kernelspec": {
      "display_name": "Python 3 (ipykernel)",
      "language": "python",
      "name": "python3"
    },
    "language_info": {
      "codemirror_mode": {
        "name": "ipython",
        "version": 3
      },
      "file_extension": ".py",
      "mimetype": "text/x-python",
      "name": "python",
      "nbconvert_exporter": "python",
      "pygments_lexer": "ipython3",
      "version": "3.8.12"
    },
    "colab": {
      "provenance": []
    }
  },
  "nbformat": 4,
  "nbformat_minor": 5
}