{
  "nbformat": 4,
  "nbformat_minor": 0,
  "metadata": {
    "colab": {
      "provenance": []
    },
    "kernelspec": {
      "display_name": "Python 3",
      "language": "python",
      "name": "python3"
    },
    "language_info": {
      "codemirror_mode": {
        "name": "ipython",
        "version": 3
      },
      "file_extension": ".py",
      "mimetype": "text/x-python",
      "name": "python",
      "nbconvert_exporter": "python",
      "pygments_lexer": "ipython3",
      "version": "3.7.2"
    }
  },
  "cells": [
    {
      "cell_type": "markdown",
      "source": [
        "<a href=\"https://colab.research.google.com/github/hernansalinas/autogrades/blob/main/Laboratorios_Taller/Lab08_DerivacionEIntegracion_01.ipynb\" target=\"_parent\"><img src=\"https://colab.research.google.com/assets/colab-badge.svg\" alt=\"Open In Colab\"/></a>\n"
      ],
      "metadata": {
        "id": "mfuoQaq5CYZG"
      }
    },
    {
      "cell_type": "markdown",
      "metadata": {
        "id": "8q4c8oS-hpaE"
      },
      "source": [
        "\n",
        "#1.Parte 1\n",
        "1. En un cirtcuito con un voltaje de  $\\varepsilon(t)$ y una inductancia de L, la primera ley de kirshhoff nos da la siguiente relación \n",
        "\n",
        "\n",
        "\\begin{equation}\n",
        "\\varepsilon(t) = L\\frac{\\mathrm{d}i}{\\mathrm{d}t} + Ri\n",
        "\\end{equation}\n",
        "\n",
        "donde r, es la resistencia del ciruito, i es la corriente. Suponga que medimos la corriente con varios valores de t y obtenemos:\n",
        "\n",
        "t = 1.00, 1.01, 1.02, 1.03, 1.0\n",
        "\n",
        "i = 3.10, 3.12, 3.14, 3.18, 3.24\n",
        "\n",
        "\n",
        "donde t se mide en segundos, i se de en amper, la inductancia L es una constante de 0.98 herios, la resistencia es de 0.142 ohms. Aproxime el votaje  $\\varepsilon(t)$ en los valores t=1.00, 1.01, 1.02, 1.03, 1.04 ,  para ello realice lo siguiente:\n",
        "\n",
        "\n",
        "- Construya un data frame de pandas con los valores de tiempo y corriente \n",
        "- Emplee un metodo calcular la derivada numérica. \n",
        "\n",
        "\n",
        "\n"
      ]
    },
    {
      "cell_type": "code",
      "source": [
        "import pandas as pd\n",
        "\n",
        "data1 = pd.read_csv(\"datos.csv\")\n",
        "data=data1.drop([\"Unnamed: 0\"], axis = 1)\n",
        "data\n"
      ],
      "metadata": {
        "colab": {
          "base_uri": "https://localhost:8080/",
          "height": 424
        },
        "id": "IvViLUmlQTgo",
        "outputId": "754244a7-8529-4ca7-a586-3d18b6822f3f"
      },
      "execution_count": null,
      "outputs": [
        {
          "output_type": "execute_result",
          "data": {
            "text/plain": [
              "    Corriente    tiempo\n",
              "0    0.000000   0.00000\n",
              "1    0.014533   0.10101\n",
              "2    0.028854   0.20202\n",
              "3    0.042967   0.30303\n",
              "4    0.056875   0.40404\n",
              "..        ...       ...\n",
              "95   0.751104   9.59596\n",
              "96   0.754721   9.69697\n",
              "97   0.758285   9.79798\n",
              "98   0.761798   9.89899\n",
              "99   0.765260  10.00000\n",
              "\n",
              "[100 rows x 2 columns]"
            ],
            "text/html": [
              "\n",
              "  <div id=\"df-5579ab6e-db32-4bad-b497-9457ca9841e8\">\n",
              "    <div class=\"colab-df-container\">\n",
              "      <div>\n",
              "<style scoped>\n",
              "    .dataframe tbody tr th:only-of-type {\n",
              "        vertical-align: middle;\n",
              "    }\n",
              "\n",
              "    .dataframe tbody tr th {\n",
              "        vertical-align: top;\n",
              "    }\n",
              "\n",
              "    .dataframe thead th {\n",
              "        text-align: right;\n",
              "    }\n",
              "</style>\n",
              "<table border=\"1\" class=\"dataframe\">\n",
              "  <thead>\n",
              "    <tr style=\"text-align: right;\">\n",
              "      <th></th>\n",
              "      <th>Corriente</th>\n",
              "      <th>tiempo</th>\n",
              "    </tr>\n",
              "  </thead>\n",
              "  <tbody>\n",
              "    <tr>\n",
              "      <th>0</th>\n",
              "      <td>0.000000</td>\n",
              "      <td>0.00000</td>\n",
              "    </tr>\n",
              "    <tr>\n",
              "      <th>1</th>\n",
              "      <td>0.014533</td>\n",
              "      <td>0.10101</td>\n",
              "    </tr>\n",
              "    <tr>\n",
              "      <th>2</th>\n",
              "      <td>0.028854</td>\n",
              "      <td>0.20202</td>\n",
              "    </tr>\n",
              "    <tr>\n",
              "      <th>3</th>\n",
              "      <td>0.042967</td>\n",
              "      <td>0.30303</td>\n",
              "    </tr>\n",
              "    <tr>\n",
              "      <th>4</th>\n",
              "      <td>0.056875</td>\n",
              "      <td>0.40404</td>\n",
              "    </tr>\n",
              "    <tr>\n",
              "      <th>...</th>\n",
              "      <td>...</td>\n",
              "      <td>...</td>\n",
              "    </tr>\n",
              "    <tr>\n",
              "      <th>95</th>\n",
              "      <td>0.751104</td>\n",
              "      <td>9.59596</td>\n",
              "    </tr>\n",
              "    <tr>\n",
              "      <th>96</th>\n",
              "      <td>0.754721</td>\n",
              "      <td>9.69697</td>\n",
              "    </tr>\n",
              "    <tr>\n",
              "      <th>97</th>\n",
              "      <td>0.758285</td>\n",
              "      <td>9.79798</td>\n",
              "    </tr>\n",
              "    <tr>\n",
              "      <th>98</th>\n",
              "      <td>0.761798</td>\n",
              "      <td>9.89899</td>\n",
              "    </tr>\n",
              "    <tr>\n",
              "      <th>99</th>\n",
              "      <td>0.765260</td>\n",
              "      <td>10.00000</td>\n",
              "    </tr>\n",
              "  </tbody>\n",
              "</table>\n",
              "<p>100 rows × 2 columns</p>\n",
              "</div>\n",
              "      <button class=\"colab-df-convert\" onclick=\"convertToInteractive('df-5579ab6e-db32-4bad-b497-9457ca9841e8')\"\n",
              "              title=\"Convert this dataframe to an interactive table.\"\n",
              "              style=\"display:none;\">\n",
              "        \n",
              "  <svg xmlns=\"http://www.w3.org/2000/svg\" height=\"24px\"viewBox=\"0 0 24 24\"\n",
              "       width=\"24px\">\n",
              "    <path d=\"M0 0h24v24H0V0z\" fill=\"none\"/>\n",
              "    <path d=\"M18.56 5.44l.94 2.06.94-2.06 2.06-.94-2.06-.94-.94-2.06-.94 2.06-2.06.94zm-11 1L8.5 8.5l.94-2.06 2.06-.94-2.06-.94L8.5 2.5l-.94 2.06-2.06.94zm10 10l.94 2.06.94-2.06 2.06-.94-2.06-.94-.94-2.06-.94 2.06-2.06.94z\"/><path d=\"M17.41 7.96l-1.37-1.37c-.4-.4-.92-.59-1.43-.59-.52 0-1.04.2-1.43.59L10.3 9.45l-7.72 7.72c-.78.78-.78 2.05 0 2.83L4 21.41c.39.39.9.59 1.41.59.51 0 1.02-.2 1.41-.59l7.78-7.78 2.81-2.81c.8-.78.8-2.07 0-2.86zM5.41 20L4 18.59l7.72-7.72 1.47 1.35L5.41 20z\"/>\n",
              "  </svg>\n",
              "      </button>\n",
              "      \n",
              "  <style>\n",
              "    .colab-df-container {\n",
              "      display:flex;\n",
              "      flex-wrap:wrap;\n",
              "      gap: 12px;\n",
              "    }\n",
              "\n",
              "    .colab-df-convert {\n",
              "      background-color: #E8F0FE;\n",
              "      border: none;\n",
              "      border-radius: 50%;\n",
              "      cursor: pointer;\n",
              "      display: none;\n",
              "      fill: #1967D2;\n",
              "      height: 32px;\n",
              "      padding: 0 0 0 0;\n",
              "      width: 32px;\n",
              "    }\n",
              "\n",
              "    .colab-df-convert:hover {\n",
              "      background-color: #E2EBFA;\n",
              "      box-shadow: 0px 1px 2px rgba(60, 64, 67, 0.3), 0px 1px 3px 1px rgba(60, 64, 67, 0.15);\n",
              "      fill: #174EA6;\n",
              "    }\n",
              "\n",
              "    [theme=dark] .colab-df-convert {\n",
              "      background-color: #3B4455;\n",
              "      fill: #D2E3FC;\n",
              "    }\n",
              "\n",
              "    [theme=dark] .colab-df-convert:hover {\n",
              "      background-color: #434B5C;\n",
              "      box-shadow: 0px 1px 3px 1px rgba(0, 0, 0, 0.15);\n",
              "      filter: drop-shadow(0px 1px 2px rgba(0, 0, 0, 0.3));\n",
              "      fill: #FFFFFF;\n",
              "    }\n",
              "  </style>\n",
              "\n",
              "      <script>\n",
              "        const buttonEl =\n",
              "          document.querySelector('#df-5579ab6e-db32-4bad-b497-9457ca9841e8 button.colab-df-convert');\n",
              "        buttonEl.style.display =\n",
              "          google.colab.kernel.accessAllowed ? 'block' : 'none';\n",
              "\n",
              "        async function convertToInteractive(key) {\n",
              "          const element = document.querySelector('#df-5579ab6e-db32-4bad-b497-9457ca9841e8');\n",
              "          const dataTable =\n",
              "            await google.colab.kernel.invokeFunction('convertToInteractive',\n",
              "                                                     [key], {});\n",
              "          if (!dataTable) return;\n",
              "\n",
              "          const docLinkHtml = 'Like what you see? Visit the ' +\n",
              "            '<a target=\"_blank\" href=https://colab.research.google.com/notebooks/data_table.ipynb>data table notebook</a>'\n",
              "            + ' to learn more about interactive tables.';\n",
              "          element.innerHTML = '';\n",
              "          dataTable['output_type'] = 'display_data';\n",
              "          await google.colab.output.renderOutput(dataTable, element);\n",
              "          const docLink = document.createElement('div');\n",
              "          docLink.innerHTML = docLinkHtml;\n",
              "          element.appendChild(docLink);\n",
              "        }\n",
              "      </script>\n",
              "    </div>\n",
              "  </div>\n",
              "  "
            ]
          },
          "metadata": {},
          "execution_count": 88
        }
      ]
    },
    {
      "cell_type": "code",
      "source": [
        "x=data.tiempo\n",
        "y=data.Corriente\n",
        "\n",
        "plt.plot(x,y)"
      ],
      "metadata": {
        "colab": {
          "base_uri": "https://localhost:8080/",
          "height": 451
        },
        "id": "Z7MzjG4LSL84",
        "outputId": "5535cd9f-ebd5-41ac-a05c-b4d26697c32f"
      },
      "execution_count": null,
      "outputs": [
        {
          "output_type": "execute_result",
          "data": {
            "text/plain": [
              "[<matplotlib.lines.Line2D at 0x7f3f596a3fa0>]"
            ]
          },
          "metadata": {},
          "execution_count": 89
        },
        {
          "output_type": "display_data",
          "data": {
            "text/plain": [
              "<Figure size 640x480 with 1 Axes>"
            ],
            "image/png": "[encoded data removed]"
          },
          "metadata": {}
        }
      ]
    },
    {
      "cell_type": "code",
      "source": [
        "data.iloc[1:].tiempo"
      ],
      "metadata": {
        "colab": {
          "base_uri": "https://localhost:8080/"
        },
        "id": "6Xy7F2EDZrZN",
        "outputId": "3d2bd408-9f63-4da5-cfb5-01ebf1172817"
      },
      "execution_count": null,
      "outputs": [
        {
          "output_type": "execute_result",
          "data": {
            "text/plain": [
              "1      0.101010\n",
              "2      0.202020\n",
              "3      0.303030\n",
              "4      0.404040\n",
              "5      0.505051\n",
              "        ...    \n",
              "95     9.595960\n",
              "96     9.696970\n",
              "97     9.797980\n",
              "98     9.898990\n",
              "99    10.000000\n",
              "Name: tiempo, Length: 99, dtype: float64"
            ]
          },
          "metadata": {},
          "execution_count": 52
        }
      ]
    },
    {
      "cell_type": "code",
      "source": [
        "plt.plot(data.iloc[:].tiempo, data.Corriente.diff()/data.tiempo.diff())"
      ],
      "metadata": {
        "colab": {
          "base_uri": "https://localhost:8080/",
          "height": 447
        },
        "id": "qWc1YC6YZRwZ",
        "outputId": "85e55461-862b-49c9-8c47-caca63713af2"
      },
      "execution_count": null,
      "outputs": [
        {
          "output_type": "execute_result",
          "data": {
            "text/plain": [
              "[<matplotlib.lines.Line2D at 0x7f3f90ebed30>]"
            ]
          },
          "metadata": {},
          "execution_count": 56
        },
        {
          "output_type": "display_data",
          "data": {
            "text/plain": [
              "<Figure size 640x480 with 1 Axes>"
            ],
            "image/png": "[encoded data removed]"
          },
          "metadata": {}
        }
      ]
    },
    {
      "cell_type": "code",
      "source": [
        "#calculando la derivada de data\n",
        "from scipy.interpolate import CubicSpline\n",
        "import matplotlib.pyplot as plt"
      ],
      "metadata": {
        "id": "UBnhxcnZV1Wp"
      },
      "execution_count": null,
      "outputs": []
    },
    {
      "cell_type": "code",
      "source": [
        "cubic=CubicSpline(data.tiempo,data.Corriente)\n",
        "print(cubic)"
      ],
      "metadata": {
        "colab": {
          "base_uri": "https://localhost:8080/"
        },
        "id": "co8obcP-WmGh",
        "outputId": "b5cce190-7c33-4fd2-c450-90dc66cc6af1"
      },
      "execution_count": null,
      "outputs": [
        {
          "output_type": "stream",
          "name": "stdout",
          "text": [
            "<scipy.interpolate._cubic.CubicSpline object at 0x7f3f596d9c20>\n"
          ]
        }
      ]
    },
    {
      "cell_type": "code",
      "source": [
        "from scipy.misc import derivative\n",
        "\n",
        "derivada=derivative(cubic, data.tiempo, dx=1e-6)"
      ],
      "metadata": {
        "colab": {
          "base_uri": "https://localhost:8080/"
        },
        "id": "ocDpjqgDapwx",
        "outputId": "ee20dade-6463-4266-fcac-57a62d6d0915"
      },
      "execution_count": null,
      "outputs": [
        {
          "output_type": "stream",
          "name": "stderr",
          "text": [
            "<ipython-input-92-9b4e08497c87>:3: DeprecationWarning: scipy.misc.derivative is deprecated in SciPy v1.10.0; and will be completely removed in SciPy v1.12.0. You may consider using findiff: https://github.com/maroba/findiff or numdifftools: https://github.com/pbrod/numdifftools\n",
            "  derivada=derivative(cubic, data.tiempo, dx=1e-6)\n"
          ]
        }
      ]
    },
    {
      "cell_type": "code",
      "source": [
        "fig, ax= plt.subplots(figsize=(6.5,4))\n",
        "\n",
        "ax.plot(data.tiempo, derivada,  color='hotpink', label = 'derivada')\n",
        "ax.legend(loc = 'upper right')\n",
        "\n"
      ],
      "metadata": {
        "colab": {
          "base_uri": "https://localhost:8080/",
          "height": 385
        },
        "id": "jYi7oMGuWw8Y",
        "outputId": "ea674070-00b5-4a73-ed9f-1b1e3e6a50f2"
      },
      "execution_count": null,
      "outputs": [
        {
          "output_type": "execute_result",
          "data": {
            "text/plain": [
              "<matplotlib.legend.Legend at 0x7f3f59815940>"
            ]
          },
          "metadata": {},
          "execution_count": 93
        },
        {
          "output_type": "display_data",
          "data": {
            "text/plain": [
              "<Figure size 650x400 with 1 Axes>"
            ],
            "image/png": "[encoded data removed]"
          },
          "metadata": {}
        }
      ]
    },
    {
      "cell_type": "code",
      "source": [
        "L=0.98\n",
        "R=0.142\n",
        "\n",
        "A=[]\n",
        "for i in derivada:\n",
        "  A=L*derivada\n"
      ],
      "metadata": {
        "id": "3rml3jKjdtFx"
      },
      "execution_count": null,
      "outputs": []
    },
    {
      "cell_type": "code",
      "source": [
        "B=[]\n",
        "\n",
        "for i in data.Corriente:\n",
        "  B=R*data.Corriente\n",
        "  "
      ],
      "metadata": {
        "colab": {
          "base_uri": "https://localhost:8080/"
        },
        "id": "iCzBmrhbh2Ax",
        "outputId": "2e36aa7c-6cce-484f-c2d1-1cc9715c138b"
      },
      "execution_count": null,
      "outputs": [
        {
          "output_type": "stream",
          "name": "stdout",
          "text": [
            "[0.         0.00206362 0.00409724 0.00610132 0.00807627 0.01002252\n",
            " 0.01194048 0.01383057 0.0156932  0.01752875 0.01933763 0.02112022\n",
            " 0.02287691 0.02460807 0.02631407 0.02799528 0.02965205 0.03128475\n",
            " 0.03289372 0.03447931 0.03604186 0.03758169 0.03909915 0.04059456\n",
            " 0.04206824 0.0435205  0.04495165 0.04636201 0.04775187 0.04912153\n",
            " 0.05047129 0.05180143 0.05311224 0.05440401 0.055677   0.05693149\n",
            " 0.05816775 0.05938604 0.06058663 0.06176977 0.06293572 0.06408472\n",
            " 0.06521702 0.06633287 0.06743251 0.06851616 0.06958406 0.07063645\n",
            " 0.07167354 0.07269556 0.07370273 0.07469526 0.07567337 0.07663726\n",
            " 0.07758715 0.07852323 0.0794457  0.08035477 0.08125063 0.08213348\n",
            " 0.08300349 0.08386085 0.08470576 0.08553839 0.08635892 0.08716753\n",
            " 0.08796438 0.08874965 0.08952351 0.09028613 0.09103766 0.09177827\n",
            " 0.09250812 0.09322736 0.09393615 0.09463464 0.09532298 0.09600131\n",
            " 0.09666979 0.09732855 0.09797774 0.09861749 0.09924795 0.09986924\n",
            " 0.10048151 0.10108488 0.10167948 0.10226544 0.10284288 0.10341193\n",
            " 0.10397271 0.10452534 0.10506995 0.10560663 0.10613552 0.10665672\n",
            " 0.10717035 0.10767651 0.10817532 0.10866687]\n",
            "[0.         0.00206362 0.00409724 0.00610132 0.00807627 0.01002252\n",
            " 0.01194048 0.01383057 0.0156932  0.01752875 0.01933763 0.02112022\n",
            " 0.02287691 0.02460807 0.02631407 0.02799528 0.02965205 0.03128475\n",
            " 0.03289372 0.03447931 0.03604186 0.03758169 0.03909915 0.04059456\n",
            " 0.04206824 0.0435205  0.04495165 0.04636201 0.04775187 0.04912153\n",
            " 0.05047129 0.05180143 0.05311224 0.05440401 0.055677   0.05693149\n",
            " 0.05816775 0.05938604 0.06058663 0.06176977 0.06293572 0.06408472\n",
            " 0.06521702 0.06633287 0.06743251 0.06851616 0.06958406 0.07063645\n",
            " 0.07167354 0.07269556 0.07370273 0.07469526 0.07567337 0.07663726\n",
            " 0.07758715 0.07852323 0.0794457  0.08035477 0.08125063 0.08213348\n",
            " 0.08300349 0.08386085 0.08470576 0.08553839 0.08635892 0.08716753\n",
            " 0.08796438 0.08874965 0.08952351 0.09028613 0.09103766 0.09177827\n",
            " 0.09250812 0.09322736 0.09393615 0.09463464 0.09532298 0.09600131\n",
            " 0.09666979 0.09732855 0.09797774 0.09861749 0.09924795 0.09986924\n",
            " 0.10048151 0.10108488 0.10167948 0.10226544 0.10284288 0.10341193\n",
            " 0.10397271 0.10452534 0.10506995 0.10560663 0.10613552 0.10665672\n",
            " 0.10717035 0.10767651 0.10817532 0.10866687]\n",
            "[0.         0.00206362 0.00409724 0.00610132 0.00807627 0.01002252\n",
            " 0.01194048 0.01383057 0.0156932  0.01752875 0.01933763 0.02112022\n",
            " 0.02287691 0.02460807 0.02631407 0.02799528 0.02965205 0.03128475\n",
            " 0.03289372 0.03447931 0.03604186 0.03758169 0.03909915 0.04059456\n",
            " 0.04206824 0.0435205  0.04495165 0.04636201 0.04775187 0.04912153\n",
            " 0.05047129 0.05180143 0.05311224 0.05440401 0.055677   0.05693149\n",
            " 0.05816775 0.05938604 0.06058663 0.06176977 0.06293572 0.06408472\n",
            " 0.06521702 0.06633287 0.06743251 0.06851616 0.06958406 0.07063645\n",
            " 0.07167354 0.07269556 0.07370273 0.07469526 0.07567337 0.07663726\n",
            " 0.07758715 0.07852323 0.0794457  0.08035477 0.08125063 0.08213348\n",
            " 0.08300349 0.08386085 0.08470576 0.08553839 0.08635892 0.08716753\n",
            " 0.08796438 0.08874965 0.08952351 0.09028613 0.09103766 0.09177827\n",
            " 0.09250812 0.09322736 0.09393615 0.09463464 0.09532298 0.09600131\n",
            " 0.09666979 0.09732855 0.09797774 0.09861749 0.09924795 0.09986924\n",
            " 0.10048151 0.10108488 0.10167948 0.10226544 0.10284288 0.10341193\n",
            " 0.10397271 0.10452534 0.10506995 0.10560663 0.10613552 0.10665672\n",
            " 0.10717035 0.10767651 0.10817532 0.10866687]\n",
            "[0.         0.00206362 0.00409724 0.00610132 0.00807627 0.01002252\n",
            " 0.01194048 0.01383057 0.0156932  0.01752875 0.01933763 0.02112022\n",
            " 0.02287691 0.02460807 0.02631407 0.02799528 0.02965205 0.03128475\n",
            " 0.03289372 0.03447931 0.03604186 0.03758169 0.03909915 0.04059456\n",
            " 0.04206824 0.0435205  0.04495165 0.04636201 0.04775187 0.04912153\n",
            " 0.05047129 0.05180143 0.05311224 0.05440401 0.055677   0.05693149\n",
            " 0.05816775 0.05938604 0.06058663 0.06176977 0.06293572 0.06408472\n",
            " 0.06521702 0.06633287 0.06743251 0.06851616 0.06958406 0.07063645\n",
            " 0.07167354 0.07269556 0.07370273 0.07469526 0.07567337 0.07663726\n",
            " 0.07758715 0.07852323 0.0794457  0.08035477 0.08125063 0.08213348\n",
            " 0.08300349 0.08386085 0.08470576 0.08553839 0.08635892 0.08716753\n",
            " 0.08796438 0.08874965 0.08952351 0.09028613 0.09103766 0.09177827\n",
            " 0.09250812 0.09322736 0.09393615 0.09463464 0.09532298 0.09600131\n",
            " 0.09666979 0.09732855 0.09797774 0.09861749 0.09924795 0.09986924\n",
            " 0.10048151 0.10108488 0.10167948 0.10226544 0.10284288 0.10341193\n",
            " 0.10397271 0.10452534 0.10506995 0.10560663 0.10613552 0.10665672\n",
            " 0.10717035 0.10767651 0.10817532 0.10866687]\n",
            "[0.         0.00206362 0.00409724 0.00610132 0.00807627 0.01002252\n",
            " 0.01194048 0.01383057 0.0156932  0.01752875 0.01933763 0.02112022\n",
            " 0.02287691 0.02460807 0.02631407 0.02799528 0.02965205 0.03128475\n",
            " 0.03289372 0.03447931 0.03604186 0.03758169 0.03909915 0.04059456\n",
            " 0.04206824 0.0435205  0.04495165 0.04636201 0.04775187 0.04912153\n",
            " 0.05047129 0.05180143 0.05311224 0.05440401 0.055677   0.05693149\n",
            " 0.05816775 0.05938604 0.06058663 0.06176977 0.06293572 0.06408472\n",
            " 0.06521702 0.06633287 0.06743251 0.06851616 0.06958406 0.07063645\n",
            " 0.07167354 0.07269556 0.07370273 0.07469526 0.07567337 0.07663726\n",
            " 0.07758715 0.07852323 0.0794457  0.08035477 0.08125063 0.08213348\n",
            " 0.08300349 0.08386085 0.08470576 0.08553839 0.08635892 0.08716753\n",
            " 0.08796438 0.08874965 0.08952351 0.09028613 0.09103766 0.09177827\n",
            " 0.09250812 0.09322736 0.09393615 0.09463464 0.09532298 0.09600131\n",
            " 0.09666979 0.09732855 0.09797774 0.09861749 0.09924795 0.09986924\n",
            " 0.10048151 0.10108488 0.10167948 0.10226544 0.10284288 0.10341193\n",
            " 0.10397271 0.10452534 0.10506995 0.10560663 0.10613552 0.10665672\n",
            " 0.10717035 0.10767651 0.10817532 0.10866687]\n",
            "[0.         0.00206362 0.00409724 0.00610132 0.00807627 0.01002252\n",
            " 0.01194048 0.01383057 0.0156932  0.01752875 0.01933763 0.02112022\n",
            " 0.02287691 0.02460807 0.02631407 0.02799528 0.02965205 0.03128475\n",
            " 0.03289372 0.03447931 0.03604186 0.03758169 0.03909915 0.04059456\n",
            " 0.04206824 0.0435205  0.04495165 0.04636201 0.04775187 0.04912153\n",
            " 0.05047129 0.05180143 0.05311224 0.05440401 0.055677   0.05693149\n",
            " 0.05816775 0.05938604 0.06058663 0.06176977 0.06293572 0.06408472\n",
            " 0.06521702 0.06633287 0.06743251 0.06851616 0.06958406 0.07063645\n",
            " 0.07167354 0.07269556 0.07370273 0.07469526 0.07567337 0.07663726\n",
            " 0.07758715 0.07852323 0.0794457  0.08035477 0.08125063 0.08213348\n",
            " 0.08300349 0.08386085 0.08470576 0.08553839 0.08635892 0.08716753\n",
            " 0.08796438 0.08874965 0.08952351 0.09028613 0.09103766 0.09177827\n",
            " 0.09250812 0.09322736 0.09393615 0.09463464 0.09532298 0.09600131\n",
            " 0.09666979 0.09732855 0.09797774 0.09861749 0.09924795 0.09986924\n",
            " 0.10048151 0.10108488 0.10167948 0.10226544 0.10284288 0.10341193\n",
            " 0.10397271 0.10452534 0.10506995 0.10560663 0.10613552 0.10665672\n",
            " 0.10717035 0.10767651 0.10817532 0.10866687]\n",
            "[0.         0.00206362 0.00409724 0.00610132 0.00807627 0.01002252\n",
            " 0.01194048 0.01383057 0.0156932  0.01752875 0.01933763 0.02112022\n",
            " 0.02287691 0.02460807 0.02631407 0.02799528 0.02965205 0.03128475\n",
            " 0.03289372 0.03447931 0.03604186 0.03758169 0.03909915 0.04059456\n",
            " 0.04206824 0.0435205  0.04495165 0.04636201 0.04775187 0.04912153\n",
            " 0.05047129 0.05180143 0.05311224 0.05440401 0.055677   0.05693149\n",
            " 0.05816775 0.05938604 0.06058663 0.06176977 0.06293572 0.06408472\n",
            " 0.06521702 0.06633287 0.06743251 0.06851616 0.06958406 0.07063645\n",
            " 0.07167354 0.07269556 0.07370273 0.07469526 0.07567337 0.07663726\n",
            " 0.07758715 0.07852323 0.0794457  0.08035477 0.08125063 0.08213348\n",
            " 0.08300349 0.08386085 0.08470576 0.08553839 0.08635892 0.08716753\n",
            " 0.08796438 0.08874965 0.08952351 0.09028613 0.09103766 0.09177827\n",
            " 0.09250812 0.09322736 0.09393615 0.09463464 0.09532298 0.09600131\n",
            " 0.09666979 0.09732855 0.09797774 0.09861749 0.09924795 0.09986924\n",
            " 0.10048151 0.10108488 0.10167948 0.10226544 0.10284288 0.10341193\n",
            " 0.10397271 0.10452534 0.10506995 0.10560663 0.10613552 0.10665672\n",
            " 0.10717035 0.10767651 0.10817532 0.10866687]\n",
            "[0.         0.00206362 0.00409724 0.00610132 0.00807627 0.01002252\n",
            " 0.01194048 0.01383057 0.0156932  0.01752875 0.01933763 0.02112022\n",
            " 0.02287691 0.02460807 0.02631407 0.02799528 0.02965205 0.03128475\n",
            " 0.03289372 0.03447931 0.03604186 0.03758169 0.03909915 0.04059456\n",
            " 0.04206824 0.0435205  0.04495165 0.04636201 0.04775187 0.04912153\n",
            " 0.05047129 0.05180143 0.05311224 0.05440401 0.055677   0.05693149\n",
            " 0.05816775 0.05938604 0.06058663 0.06176977 0.06293572 0.06408472\n",
            " 0.06521702 0.06633287 0.06743251 0.06851616 0.06958406 0.07063645\n",
            " 0.07167354 0.07269556 0.07370273 0.07469526 0.07567337 0.07663726\n",
            " 0.07758715 0.07852323 0.0794457  0.08035477 0.08125063 0.08213348\n",
            " 0.08300349 0.08386085 0.08470576 0.08553839 0.08635892 0.08716753\n",
            " 0.08796438 0.08874965 0.08952351 0.09028613 0.09103766 0.09177827\n",
            " 0.09250812 0.09322736 0.09393615 0.09463464 0.09532298 0.09600131\n",
            " 0.09666979 0.09732855 0.09797774 0.09861749 0.09924795 0.09986924\n",
            " 0.10048151 0.10108488 0.10167948 0.10226544 0.10284288 0.10341193\n",
            " 0.10397271 0.10452534 0.10506995 0.10560663 0.10613552 0.10665672\n",
            " 0.10717035 0.10767651 0.10817532 0.10866687]\n",
            "[0.         0.00206362 0.00409724 0.00610132 0.00807627 0.01002252\n",
            " 0.01194048 0.01383057 0.0156932  0.01752875 0.01933763 0.02112022\n",
            " 0.02287691 0.02460807 0.02631407 0.02799528 0.02965205 0.03128475\n",
            " 0.03289372 0.03447931 0.03604186 0.03758169 0.03909915 0.04059456\n",
            " 0.04206824 0.0435205  0.04495165 0.04636201 0.04775187 0.04912153\n",
            " 0.05047129 0.05180143 0.05311224 0.05440401 0.055677   0.05693149\n",
            " 0.05816775 0.05938604 0.06058663 0.06176977 0.06293572 0.06408472\n",
            " 0.06521702 0.06633287 0.06743251 0.06851616 0.06958406 0.07063645\n",
            " 0.07167354 0.07269556 0.07370273 0.07469526 0.07567337 0.07663726\n",
            " 0.07758715 0.07852323 0.0794457  0.08035477 0.08125063 0.08213348\n",
            " 0.08300349 0.08386085 0.08470576 0.08553839 0.08635892 0.08716753\n",
            " 0.08796438 0.08874965 0.08952351 0.09028613 0.09103766 0.09177827\n",
            " 0.09250812 0.09322736 0.09393615 0.09463464 0.09532298 0.09600131\n",
            " 0.09666979 0.09732855 0.09797774 0.09861749 0.09924795 0.09986924\n",
            " 0.10048151 0.10108488 0.10167948 0.10226544 0.10284288 0.10341193\n",
            " 0.10397271 0.10452534 0.10506995 0.10560663 0.10613552 0.10665672\n",
            " 0.10717035 0.10767651 0.10817532 0.10866687]\n",
            "[0.         0.00206362 0.00409724 0.00610132 0.00807627 0.01002252\n",
            " 0.01194048 0.01383057 0.0156932  0.01752875 0.01933763 0.02112022\n",
            " 0.02287691 0.02460807 0.02631407 0.02799528 0.02965205 0.03128475\n",
            " 0.03289372 0.03447931 0.03604186 0.03758169 0.03909915 0.04059456\n",
            " 0.04206824 0.0435205  0.04495165 0.04636201 0.04775187 0.04912153\n",
            " 0.05047129 0.05180143 0.05311224 0.05440401 0.055677   0.05693149\n",
            " 0.05816775 0.05938604 0.06058663 0.06176977 0.06293572 0.06408472\n",
            " 0.06521702 0.06633287 0.06743251 0.06851616 0.06958406 0.07063645\n",
            " 0.07167354 0.07269556 0.07370273 0.07469526 0.07567337 0.07663726\n",
            " 0.07758715 0.07852323 0.0794457  0.08035477 0.08125063 0.08213348\n",
            " 0.08300349 0.08386085 0.08470576 0.08553839 0.08635892 0.08716753\n",
            " 0.08796438 0.08874965 0.08952351 0.09028613 0.09103766 0.09177827\n",
            " 0.09250812 0.09322736 0.09393615 0.09463464 0.09532298 0.09600131\n",
            " 0.09666979 0.09732855 0.09797774 0.09861749 0.09924795 0.09986924\n",
            " 0.10048151 0.10108488 0.10167948 0.10226544 0.10284288 0.10341193\n",
            " 0.10397271 0.10452534 0.10506995 0.10560663 0.10613552 0.10665672\n",
            " 0.10717035 0.10767651 0.10817532 0.10866687]\n",
            "[0.         0.00206362 0.00409724 0.00610132 0.00807627 0.01002252\n",
            " 0.01194048 0.01383057 0.0156932  0.01752875 0.01933763 0.02112022\n",
            " 0.02287691 0.02460807 0.02631407 0.02799528 0.02965205 0.03128475\n",
            " 0.03289372 0.03447931 0.03604186 0.03758169 0.03909915 0.04059456\n",
            " 0.04206824 0.0435205  0.04495165 0.04636201 0.04775187 0.04912153\n",
            " 0.05047129 0.05180143 0.05311224 0.05440401 0.055677   0.05693149\n",
            " 0.05816775 0.05938604 0.06058663 0.06176977 0.06293572 0.06408472\n",
            " 0.06521702 0.06633287 0.06743251 0.06851616 0.06958406 0.07063645\n",
            " 0.07167354 0.07269556 0.07370273 0.07469526 0.07567337 0.07663726\n",
            " 0.07758715 0.07852323 0.0794457  0.08035477 0.08125063 0.08213348\n",
            " 0.08300349 0.08386085 0.08470576 0.08553839 0.08635892 0.08716753\n",
            " 0.08796438 0.08874965 0.08952351 0.09028613 0.09103766 0.09177827\n",
            " 0.09250812 0.09322736 0.09393615 0.09463464 0.09532298 0.09600131\n",
            " 0.09666979 0.09732855 0.09797774 0.09861749 0.09924795 0.09986924\n",
            " 0.10048151 0.10108488 0.10167948 0.10226544 0.10284288 0.10341193\n",
            " 0.10397271 0.10452534 0.10506995 0.10560663 0.10613552 0.10665672\n",
            " 0.10717035 0.10767651 0.10817532 0.10866687]\n",
            "[0.         0.00206362 0.00409724 0.00610132 0.00807627 0.01002252\n",
            " 0.01194048 0.01383057 0.0156932  0.01752875 0.01933763 0.02112022\n",
            " 0.02287691 0.02460807 0.02631407 0.02799528 0.02965205 0.03128475\n",
            " 0.03289372 0.03447931 0.03604186 0.03758169 0.03909915 0.04059456\n",
            " 0.04206824 0.0435205  0.04495165 0.04636201 0.04775187 0.04912153\n",
            " 0.05047129 0.05180143 0.05311224 0.05440401 0.055677   0.05693149\n",
            " 0.05816775 0.05938604 0.06058663 0.06176977 0.06293572 0.06408472\n",
            " 0.06521702 0.06633287 0.06743251 0.06851616 0.06958406 0.07063645\n",
            " 0.07167354 0.07269556 0.07370273 0.07469526 0.07567337 0.07663726\n",
            " 0.07758715 0.07852323 0.0794457  0.08035477 0.08125063 0.08213348\n",
            " 0.08300349 0.08386085 0.08470576 0.08553839 0.08635892 0.08716753\n",
            " 0.08796438 0.08874965 0.08952351 0.09028613 0.09103766 0.09177827\n",
            " 0.09250812 0.09322736 0.09393615 0.09463464 0.09532298 0.09600131\n",
            " 0.09666979 0.09732855 0.09797774 0.09861749 0.09924795 0.09986924\n",
            " 0.10048151 0.10108488 0.10167948 0.10226544 0.10284288 0.10341193\n",
            " 0.10397271 0.10452534 0.10506995 0.10560663 0.10613552 0.10665672\n",
            " 0.10717035 0.10767651 0.10817532 0.10866687]\n",
            "[0.         0.00206362 0.00409724 0.00610132 0.00807627 0.01002252\n",
            " 0.01194048 0.01383057 0.0156932  0.01752875 0.01933763 0.02112022\n",
            " 0.02287691 0.02460807 0.02631407 0.02799528 0.02965205 0.03128475\n",
            " 0.03289372 0.03447931 0.03604186 0.03758169 0.03909915 0.04059456\n",
            " 0.04206824 0.0435205  0.04495165 0.04636201 0.04775187 0.04912153\n",
            " 0.05047129 0.05180143 0.05311224 0.05440401 0.055677   0.05693149\n",
            " 0.05816775 0.05938604 0.06058663 0.06176977 0.06293572 0.06408472\n",
            " 0.06521702 0.06633287 0.06743251 0.06851616 0.06958406 0.07063645\n",
            " 0.07167354 0.07269556 0.07370273 0.07469526 0.07567337 0.07663726\n",
            " 0.07758715 0.07852323 0.0794457  0.08035477 0.08125063 0.08213348\n",
            " 0.08300349 0.08386085 0.08470576 0.08553839 0.08635892 0.08716753\n",
            " 0.08796438 0.08874965 0.08952351 0.09028613 0.09103766 0.09177827\n",
            " 0.09250812 0.09322736 0.09393615 0.09463464 0.09532298 0.09600131\n",
            " 0.09666979 0.09732855 0.09797774 0.09861749 0.09924795 0.09986924\n",
            " 0.10048151 0.10108488 0.10167948 0.10226544 0.10284288 0.10341193\n",
            " 0.10397271 0.10452534 0.10506995 0.10560663 0.10613552 0.10665672\n",
            " 0.10717035 0.10767651 0.10817532 0.10866687]\n",
            "[0.         0.00206362 0.00409724 0.00610132 0.00807627 0.01002252\n",
            " 0.01194048 0.01383057 0.0156932  0.01752875 0.01933763 0.02112022\n",
            " 0.02287691 0.02460807 0.02631407 0.02799528 0.02965205 0.03128475\n",
            " 0.03289372 0.03447931 0.03604186 0.03758169 0.03909915 0.04059456\n",
            " 0.04206824 0.0435205  0.04495165 0.04636201 0.04775187 0.04912153\n",
            " 0.05047129 0.05180143 0.05311224 0.05440401 0.055677   0.05693149\n",
            " 0.05816775 0.05938604 0.06058663 0.06176977 0.06293572 0.06408472\n",
            " 0.06521702 0.06633287 0.06743251 0.06851616 0.06958406 0.07063645\n",
            " 0.07167354 0.07269556 0.07370273 0.07469526 0.07567337 0.07663726\n",
            " 0.07758715 0.07852323 0.0794457  0.08035477 0.08125063 0.08213348\n",
            " 0.08300349 0.08386085 0.08470576 0.08553839 0.08635892 0.08716753\n",
            " 0.08796438 0.08874965 0.08952351 0.09028613 0.09103766 0.09177827\n",
            " 0.09250812 0.09322736 0.09393615 0.09463464 0.09532298 0.09600131\n",
            " 0.09666979 0.09732855 0.09797774 0.09861749 0.09924795 0.09986924\n",
            " 0.10048151 0.10108488 0.10167948 0.10226544 0.10284288 0.10341193\n",
            " 0.10397271 0.10452534 0.10506995 0.10560663 0.10613552 0.10665672\n",
            " 0.10717035 0.10767651 0.10817532 0.10866687]\n",
            "[0.         0.00206362 0.00409724 0.00610132 0.00807627 0.01002252\n",
            " 0.01194048 0.01383057 0.0156932  0.01752875 0.01933763 0.02112022\n",
            " 0.02287691 0.02460807 0.02631407 0.02799528 0.02965205 0.03128475\n",
            " 0.03289372 0.03447931 0.03604186 0.03758169 0.03909915 0.04059456\n",
            " 0.04206824 0.0435205  0.04495165 0.04636201 0.04775187 0.04912153\n",
            " 0.05047129 0.05180143 0.05311224 0.05440401 0.055677   0.05693149\n",
            " 0.05816775 0.05938604 0.06058663 0.06176977 0.06293572 0.06408472\n",
            " 0.06521702 0.06633287 0.06743251 0.06851616 0.06958406 0.07063645\n",
            " 0.07167354 0.07269556 0.07370273 0.07469526 0.07567337 0.07663726\n",
            " 0.07758715 0.07852323 0.0794457  0.08035477 0.08125063 0.08213348\n",
            " 0.08300349 0.08386085 0.08470576 0.08553839 0.08635892 0.08716753\n",
            " 0.08796438 0.08874965 0.08952351 0.09028613 0.09103766 0.09177827\n",
            " 0.09250812 0.09322736 0.09393615 0.09463464 0.09532298 0.09600131\n",
            " 0.09666979 0.09732855 0.09797774 0.09861749 0.09924795 0.09986924\n",
            " 0.10048151 0.10108488 0.10167948 0.10226544 0.10284288 0.10341193\n",
            " 0.10397271 0.10452534 0.10506995 0.10560663 0.10613552 0.10665672\n",
            " 0.10717035 0.10767651 0.10817532 0.10866687]\n",
            "[0.         0.00206362 0.00409724 0.00610132 0.00807627 0.01002252\n",
            " 0.01194048 0.01383057 0.0156932  0.01752875 0.01933763 0.02112022\n",
            " 0.02287691 0.02460807 0.02631407 0.02799528 0.02965205 0.03128475\n",
            " 0.03289372 0.03447931 0.03604186 0.03758169 0.03909915 0.04059456\n",
            " 0.04206824 0.0435205  0.04495165 0.04636201 0.04775187 0.04912153\n",
            " 0.05047129 0.05180143 0.05311224 0.05440401 0.055677   0.05693149\n",
            " 0.05816775 0.05938604 0.06058663 0.06176977 0.06293572 0.06408472\n",
            " 0.06521702 0.06633287 0.06743251 0.06851616 0.06958406 0.07063645\n",
            " 0.07167354 0.07269556 0.07370273 0.07469526 0.07567337 0.07663726\n",
            " 0.07758715 0.07852323 0.0794457  0.08035477 0.08125063 0.08213348\n",
            " 0.08300349 0.08386085 0.08470576 0.08553839 0.08635892 0.08716753\n",
            " 0.08796438 0.08874965 0.08952351 0.09028613 0.09103766 0.09177827\n",
            " 0.09250812 0.09322736 0.09393615 0.09463464 0.09532298 0.09600131\n",
            " 0.09666979 0.09732855 0.09797774 0.09861749 0.09924795 0.09986924\n",
            " 0.10048151 0.10108488 0.10167948 0.10226544 0.10284288 0.10341193\n",
            " 0.10397271 0.10452534 0.10506995 0.10560663 0.10613552 0.10665672\n",
            " 0.10717035 0.10767651 0.10817532 0.10866687]\n",
            "[0.         0.00206362 0.00409724 0.00610132 0.00807627 0.01002252\n",
            " 0.01194048 0.01383057 0.0156932  0.01752875 0.01933763 0.02112022\n",
            " 0.02287691 0.02460807 0.02631407 0.02799528 0.02965205 0.03128475\n",
            " 0.03289372 0.03447931 0.03604186 0.03758169 0.03909915 0.04059456\n",
            " 0.04206824 0.0435205  0.04495165 0.04636201 0.04775187 0.04912153\n",
            " 0.05047129 0.05180143 0.05311224 0.05440401 0.055677   0.05693149\n",
            " 0.05816775 0.05938604 0.06058663 0.06176977 0.06293572 0.06408472\n",
            " 0.06521702 0.06633287 0.06743251 0.06851616 0.06958406 0.07063645\n",
            " 0.07167354 0.07269556 0.07370273 0.07469526 0.07567337 0.07663726\n",
            " 0.07758715 0.07852323 0.0794457  0.08035477 0.08125063 0.08213348\n",
            " 0.08300349 0.08386085 0.08470576 0.08553839 0.08635892 0.08716753\n",
            " 0.08796438 0.08874965 0.08952351 0.09028613 0.09103766 0.09177827\n",
            " 0.09250812 0.09322736 0.09393615 0.09463464 0.09532298 0.09600131\n",
            " 0.09666979 0.09732855 0.09797774 0.09861749 0.09924795 0.09986924\n",
            " 0.10048151 0.10108488 0.10167948 0.10226544 0.10284288 0.10341193\n",
            " 0.10397271 0.10452534 0.10506995 0.10560663 0.10613552 0.10665672\n",
            " 0.10717035 0.10767651 0.10817532 0.10866687]\n",
            "[0.         0.00206362 0.00409724 0.00610132 0.00807627 0.01002252\n",
            " 0.01194048 0.01383057 0.0156932  0.01752875 0.01933763 0.02112022\n",
            " 0.02287691 0.02460807 0.02631407 0.02799528 0.02965205 0.03128475\n",
            " 0.03289372 0.03447931 0.03604186 0.03758169 0.03909915 0.04059456\n",
            " 0.04206824 0.0435205  0.04495165 0.04636201 0.04775187 0.04912153\n",
            " 0.05047129 0.05180143 0.05311224 0.05440401 0.055677   0.05693149\n",
            " 0.05816775 0.05938604 0.06058663 0.06176977 0.06293572 0.06408472\n",
            " 0.06521702 0.06633287 0.06743251 0.06851616 0.06958406 0.07063645\n",
            " 0.07167354 0.07269556 0.07370273 0.07469526 0.07567337 0.07663726\n",
            " 0.07758715 0.07852323 0.0794457  0.08035477 0.08125063 0.08213348\n",
            " 0.08300349 0.08386085 0.08470576 0.08553839 0.08635892 0.08716753\n",
            " 0.08796438 0.08874965 0.08952351 0.09028613 0.09103766 0.09177827\n",
            " 0.09250812 0.09322736 0.09393615 0.09463464 0.09532298 0.09600131\n",
            " 0.09666979 0.09732855 0.09797774 0.09861749 0.09924795 0.09986924\n",
            " 0.10048151 0.10108488 0.10167948 0.10226544 0.10284288 0.10341193\n",
            " 0.10397271 0.10452534 0.10506995 0.10560663 0.10613552 0.10665672\n",
            " 0.10717035 0.10767651 0.10817532 0.10866687]\n",
            "[0.         0.00206362 0.00409724 0.00610132 0.00807627 0.01002252\n",
            " 0.01194048 0.01383057 0.0156932  0.01752875 0.01933763 0.02112022\n",
            " 0.02287691 0.02460807 0.02631407 0.02799528 0.02965205 0.03128475\n",
            " 0.03289372 0.03447931 0.03604186 0.03758169 0.03909915 0.04059456\n",
            " 0.04206824 0.0435205  0.04495165 0.04636201 0.04775187 0.04912153\n",
            " 0.05047129 0.05180143 0.05311224 0.05440401 0.055677   0.05693149\n",
            " 0.05816775 0.05938604 0.06058663 0.06176977 0.06293572 0.06408472\n",
            " 0.06521702 0.06633287 0.06743251 0.06851616 0.06958406 0.07063645\n",
            " 0.07167354 0.07269556 0.07370273 0.07469526 0.07567337 0.07663726\n",
            " 0.07758715 0.07852323 0.0794457  0.08035477 0.08125063 0.08213348\n",
            " 0.08300349 0.08386085 0.08470576 0.08553839 0.08635892 0.08716753\n",
            " 0.08796438 0.08874965 0.08952351 0.09028613 0.09103766 0.09177827\n",
            " 0.09250812 0.09322736 0.09393615 0.09463464 0.09532298 0.09600131\n",
            " 0.09666979 0.09732855 0.09797774 0.09861749 0.09924795 0.09986924\n",
            " 0.10048151 0.10108488 0.10167948 0.10226544 0.10284288 0.10341193\n",
            " 0.10397271 0.10452534 0.10506995 0.10560663 0.10613552 0.10665672\n",
            " 0.10717035 0.10767651 0.10817532 0.10866687]\n",
            "[0.         0.00206362 0.00409724 0.00610132 0.00807627 0.01002252\n",
            " 0.01194048 0.01383057 0.0156932  0.01752875 0.01933763 0.02112022\n",
            " 0.02287691 0.02460807 0.02631407 0.02799528 0.02965205 0.03128475\n",
            " 0.03289372 0.03447931 0.03604186 0.03758169 0.03909915 0.04059456\n",
            " 0.04206824 0.0435205  0.04495165 0.04636201 0.04775187 0.04912153\n",
            " 0.05047129 0.05180143 0.05311224 0.05440401 0.055677   0.05693149\n",
            " 0.05816775 0.05938604 0.06058663 0.06176977 0.06293572 0.06408472\n",
            " 0.06521702 0.06633287 0.06743251 0.06851616 0.06958406 0.07063645\n",
            " 0.07167354 0.07269556 0.07370273 0.07469526 0.07567337 0.07663726\n",
            " 0.07758715 0.07852323 0.0794457  0.08035477 0.08125063 0.08213348\n",
            " 0.08300349 0.08386085 0.08470576 0.08553839 0.08635892 0.08716753\n",
            " 0.08796438 0.08874965 0.08952351 0.09028613 0.09103766 0.09177827\n",
            " 0.09250812 0.09322736 0.09393615 0.09463464 0.09532298 0.09600131\n",
            " 0.09666979 0.09732855 0.09797774 0.09861749 0.09924795 0.09986924\n",
            " 0.10048151 0.10108488 0.10167948 0.10226544 0.10284288 0.10341193\n",
            " 0.10397271 0.10452534 0.10506995 0.10560663 0.10613552 0.10665672\n",
            " 0.10717035 0.10767651 0.10817532 0.10866687]\n",
            "[0.         0.00206362 0.00409724 0.00610132 0.00807627 0.01002252\n",
            " 0.01194048 0.01383057 0.0156932  0.01752875 0.01933763 0.02112022\n",
            " 0.02287691 0.02460807 0.02631407 0.02799528 0.02965205 0.03128475\n",
            " 0.03289372 0.03447931 0.03604186 0.03758169 0.03909915 0.04059456\n",
            " 0.04206824 0.0435205  0.04495165 0.04636201 0.04775187 0.04912153\n",
            " 0.05047129 0.05180143 0.05311224 0.05440401 0.055677   0.05693149\n",
            " 0.05816775 0.05938604 0.06058663 0.06176977 0.06293572 0.06408472\n",
            " 0.06521702 0.06633287 0.06743251 0.06851616 0.06958406 0.07063645\n",
            " 0.07167354 0.07269556 0.07370273 0.07469526 0.07567337 0.07663726\n",
            " 0.07758715 0.07852323 0.0794457  0.08035477 0.08125063 0.08213348\n",
            " 0.08300349 0.08386085 0.08470576 0.08553839 0.08635892 0.08716753\n",
            " 0.08796438 0.08874965 0.08952351 0.09028613 0.09103766 0.09177827\n",
            " 0.09250812 0.09322736 0.09393615 0.09463464 0.09532298 0.09600131\n",
            " 0.09666979 0.09732855 0.09797774 0.09861749 0.09924795 0.09986924\n",
            " 0.10048151 0.10108488 0.10167948 0.10226544 0.10284288 0.10341193\n",
            " 0.10397271 0.10452534 0.10506995 0.10560663 0.10613552 0.10665672\n",
            " 0.10717035 0.10767651 0.10817532 0.10866687]\n",
            "[0.         0.00206362 0.00409724 0.00610132 0.00807627 0.01002252\n",
            " 0.01194048 0.01383057 0.0156932  0.01752875 0.01933763 0.02112022\n",
            " 0.02287691 0.02460807 0.02631407 0.02799528 0.02965205 0.03128475\n",
            " 0.03289372 0.03447931 0.03604186 0.03758169 0.03909915 0.04059456\n",
            " 0.04206824 0.0435205  0.04495165 0.04636201 0.04775187 0.04912153\n",
            " 0.05047129 0.05180143 0.05311224 0.05440401 0.055677   0.05693149\n",
            " 0.05816775 0.05938604 0.06058663 0.06176977 0.06293572 0.06408472\n",
            " 0.06521702 0.06633287 0.06743251 0.06851616 0.06958406 0.07063645\n",
            " 0.07167354 0.07269556 0.07370273 0.07469526 0.07567337 0.07663726\n",
            " 0.07758715 0.07852323 0.0794457  0.08035477 0.08125063 0.08213348\n",
            " 0.08300349 0.08386085 0.08470576 0.08553839 0.08635892 0.08716753\n",
            " 0.08796438 0.08874965 0.08952351 0.09028613 0.09103766 0.09177827\n",
            " 0.09250812 0.09322736 0.09393615 0.09463464 0.09532298 0.09600131\n",
            " 0.09666979 0.09732855 0.09797774 0.09861749 0.09924795 0.09986924\n",
            " 0.10048151 0.10108488 0.10167948 0.10226544 0.10284288 0.10341193\n",
            " 0.10397271 0.10452534 0.10506995 0.10560663 0.10613552 0.10665672\n",
            " 0.10717035 0.10767651 0.10817532 0.10866687]\n",
            "[0.         0.00206362 0.00409724 0.00610132 0.00807627 0.01002252\n",
            " 0.01194048 0.01383057 0.0156932  0.01752875 0.01933763 0.02112022\n",
            " 0.02287691 0.02460807 0.02631407 0.02799528 0.02965205 0.03128475\n",
            " 0.03289372 0.03447931 0.03604186 0.03758169 0.03909915 0.04059456\n",
            " 0.04206824 0.0435205  0.04495165 0.04636201 0.04775187 0.04912153\n",
            " 0.05047129 0.05180143 0.05311224 0.05440401 0.055677   0.05693149\n",
            " 0.05816775 0.05938604 0.06058663 0.06176977 0.06293572 0.06408472\n",
            " 0.06521702 0.06633287 0.06743251 0.06851616 0.06958406 0.07063645\n",
            " 0.07167354 0.07269556 0.07370273 0.07469526 0.07567337 0.07663726\n",
            " 0.07758715 0.07852323 0.0794457  0.08035477 0.08125063 0.08213348\n",
            " 0.08300349 0.08386085 0.08470576 0.08553839 0.08635892 0.08716753\n",
            " 0.08796438 0.08874965 0.08952351 0.09028613 0.09103766 0.09177827\n",
            " 0.09250812 0.09322736 0.09393615 0.09463464 0.09532298 0.09600131\n",
            " 0.09666979 0.09732855 0.09797774 0.09861749 0.09924795 0.09986924\n",
            " 0.10048151 0.10108488 0.10167948 0.10226544 0.10284288 0.10341193\n",
            " 0.10397271 0.10452534 0.10506995 0.10560663 0.10613552 0.10665672\n",
            " 0.10717035 0.10767651 0.10817532 0.10866687]\n",
            "[0.         0.00206362 0.00409724 0.00610132 0.00807627 0.01002252\n",
            " 0.01194048 0.01383057 0.0156932  0.01752875 0.01933763 0.02112022\n",
            " 0.02287691 0.02460807 0.02631407 0.02799528 0.02965205 0.03128475\n",
            " 0.03289372 0.03447931 0.03604186 0.03758169 0.03909915 0.04059456\n",
            " 0.04206824 0.0435205  0.04495165 0.04636201 0.04775187 0.04912153\n",
            " 0.05047129 0.05180143 0.05311224 0.05440401 0.055677   0.05693149\n",
            " 0.05816775 0.05938604 0.06058663 0.06176977 0.06293572 0.06408472\n",
            " 0.06521702 0.06633287 0.06743251 0.06851616 0.06958406 0.07063645\n",
            " 0.07167354 0.07269556 0.07370273 0.07469526 0.07567337 0.07663726\n",
            " 0.07758715 0.07852323 0.0794457  0.08035477 0.08125063 0.08213348\n",
            " 0.08300349 0.08386085 0.08470576 0.08553839 0.08635892 0.08716753\n",
            " 0.08796438 0.08874965 0.08952351 0.09028613 0.09103766 0.09177827\n",
            " 0.09250812 0.09322736 0.09393615 0.09463464 0.09532298 0.09600131\n",
            " 0.09666979 0.09732855 0.09797774 0.09861749 0.09924795 0.09986924\n",
            " 0.10048151 0.10108488 0.10167948 0.10226544 0.10284288 0.10341193\n",
            " 0.10397271 0.10452534 0.10506995 0.10560663 0.10613552 0.10665672\n",
            " 0.10717035 0.10767651 0.10817532 0.10866687]\n",
            "[0.         0.00206362 0.00409724 0.00610132 0.00807627 0.01002252\n",
            " 0.01194048 0.01383057 0.0156932  0.01752875 0.01933763 0.02112022\n",
            " 0.02287691 0.02460807 0.02631407 0.02799528 0.02965205 0.03128475\n",
            " 0.03289372 0.03447931 0.03604186 0.03758169 0.03909915 0.04059456\n",
            " 0.04206824 0.0435205  0.04495165 0.04636201 0.04775187 0.04912153\n",
            " 0.05047129 0.05180143 0.05311224 0.05440401 0.055677   0.05693149\n",
            " 0.05816775 0.05938604 0.06058663 0.06176977 0.06293572 0.06408472\n",
            " 0.06521702 0.06633287 0.06743251 0.06851616 0.06958406 0.07063645\n",
            " 0.07167354 0.07269556 0.07370273 0.07469526 0.07567337 0.07663726\n",
            " 0.07758715 0.07852323 0.0794457  0.08035477 0.08125063 0.08213348\n",
            " 0.08300349 0.08386085 0.08470576 0.08553839 0.08635892 0.08716753\n",
            " 0.08796438 0.08874965 0.08952351 0.09028613 0.09103766 0.09177827\n",
            " 0.09250812 0.09322736 0.09393615 0.09463464 0.09532298 0.09600131\n",
            " 0.09666979 0.09732855 0.09797774 0.09861749 0.09924795 0.09986924\n",
            " 0.10048151 0.10108488 0.10167948 0.10226544 0.10284288 0.10341193\n",
            " 0.10397271 0.10452534 0.10506995 0.10560663 0.10613552 0.10665672\n",
            " 0.10717035 0.10767651 0.10817532 0.10866687]\n",
            "[0.         0.00206362 0.00409724 0.00610132 0.00807627 0.01002252\n",
            " 0.01194048 0.01383057 0.0156932  0.01752875 0.01933763 0.02112022\n",
            " 0.02287691 0.02460807 0.02631407 0.02799528 0.02965205 0.03128475\n",
            " 0.03289372 0.03447931 0.03604186 0.03758169 0.03909915 0.04059456\n",
            " 0.04206824 0.0435205  0.04495165 0.04636201 0.04775187 0.04912153\n",
            " 0.05047129 0.05180143 0.05311224 0.05440401 0.055677   0.05693149\n",
            " 0.05816775 0.05938604 0.06058663 0.06176977 0.06293572 0.06408472\n",
            " 0.06521702 0.06633287 0.06743251 0.06851616 0.06958406 0.07063645\n",
            " 0.07167354 0.07269556 0.07370273 0.07469526 0.07567337 0.07663726\n",
            " 0.07758715 0.07852323 0.0794457  0.08035477 0.08125063 0.08213348\n",
            " 0.08300349 0.08386085 0.08470576 0.08553839 0.08635892 0.08716753\n",
            " 0.08796438 0.08874965 0.08952351 0.09028613 0.09103766 0.09177827\n",
            " 0.09250812 0.09322736 0.09393615 0.09463464 0.09532298 0.09600131\n",
            " 0.09666979 0.09732855 0.09797774 0.09861749 0.09924795 0.09986924\n",
            " 0.10048151 0.10108488 0.10167948 0.10226544 0.10284288 0.10341193\n",
            " 0.10397271 0.10452534 0.10506995 0.10560663 0.10613552 0.10665672\n",
            " 0.10717035 0.10767651 0.10817532 0.10866687]\n",
            "[0.         0.00206362 0.00409724 0.00610132 0.00807627 0.01002252\n",
            " 0.01194048 0.01383057 0.0156932  0.01752875 0.01933763 0.02112022\n",
            " 0.02287691 0.02460807 0.02631407 0.02799528 0.02965205 0.03128475\n",
            " 0.03289372 0.03447931 0.03604186 0.03758169 0.03909915 0.04059456\n",
            " 0.04206824 0.0435205  0.04495165 0.04636201 0.04775187 0.04912153\n",
            " 0.05047129 0.05180143 0.05311224 0.05440401 0.055677   0.05693149\n",
            " 0.05816775 0.05938604 0.06058663 0.06176977 0.06293572 0.06408472\n",
            " 0.06521702 0.06633287 0.06743251 0.06851616 0.06958406 0.07063645\n",
            " 0.07167354 0.07269556 0.07370273 0.07469526 0.07567337 0.07663726\n",
            " 0.07758715 0.07852323 0.0794457  0.08035477 0.08125063 0.08213348\n",
            " 0.08300349 0.08386085 0.08470576 0.08553839 0.08635892 0.08716753\n",
            " 0.08796438 0.08874965 0.08952351 0.09028613 0.09103766 0.09177827\n",
            " 0.09250812 0.09322736 0.09393615 0.09463464 0.09532298 0.09600131\n",
            " 0.09666979 0.09732855 0.09797774 0.09861749 0.09924795 0.09986924\n",
            " 0.10048151 0.10108488 0.10167948 0.10226544 0.10284288 0.10341193\n",
            " 0.10397271 0.10452534 0.10506995 0.10560663 0.10613552 0.10665672\n",
            " 0.10717035 0.10767651 0.10817532 0.10866687]\n",
            "[0.         0.00206362 0.00409724 0.00610132 0.00807627 0.01002252\n",
            " 0.01194048 0.01383057 0.0156932  0.01752875 0.01933763 0.02112022\n",
            " 0.02287691 0.02460807 0.02631407 0.02799528 0.02965205 0.03128475\n",
            " 0.03289372 0.03447931 0.03604186 0.03758169 0.03909915 0.04059456\n",
            " 0.04206824 0.0435205  0.04495165 0.04636201 0.04775187 0.04912153\n",
            " 0.05047129 0.05180143 0.05311224 0.05440401 0.055677   0.05693149\n",
            " 0.05816775 0.05938604 0.06058663 0.06176977 0.06293572 0.06408472\n",
            " 0.06521702 0.06633287 0.06743251 0.06851616 0.06958406 0.07063645\n",
            " 0.07167354 0.07269556 0.07370273 0.07469526 0.07567337 0.07663726\n",
            " 0.07758715 0.07852323 0.0794457  0.08035477 0.08125063 0.08213348\n",
            " 0.08300349 0.08386085 0.08470576 0.08553839 0.08635892 0.08716753\n",
            " 0.08796438 0.08874965 0.08952351 0.09028613 0.09103766 0.09177827\n",
            " 0.09250812 0.09322736 0.09393615 0.09463464 0.09532298 0.09600131\n",
            " 0.09666979 0.09732855 0.09797774 0.09861749 0.09924795 0.09986924\n",
            " 0.10048151 0.10108488 0.10167948 0.10226544 0.10284288 0.10341193\n",
            " 0.10397271 0.10452534 0.10506995 0.10560663 0.10613552 0.10665672\n",
            " 0.10717035 0.10767651 0.10817532 0.10866687]\n",
            "[0.         0.00206362 0.00409724 0.00610132 0.00807627 0.01002252\n",
            " 0.01194048 0.01383057 0.0156932  0.01752875 0.01933763 0.02112022\n",
            " 0.02287691 0.02460807 0.02631407 0.02799528 0.02965205 0.03128475\n",
            " 0.03289372 0.03447931 0.03604186 0.03758169 0.03909915 0.04059456\n",
            " 0.04206824 0.0435205  0.04495165 0.04636201 0.04775187 0.04912153\n",
            " 0.05047129 0.05180143 0.05311224 0.05440401 0.055677   0.05693149\n",
            " 0.05816775 0.05938604 0.06058663 0.06176977 0.06293572 0.06408472\n",
            " 0.06521702 0.06633287 0.06743251 0.06851616 0.06958406 0.07063645\n",
            " 0.07167354 0.07269556 0.07370273 0.07469526 0.07567337 0.07663726\n",
            " 0.07758715 0.07852323 0.0794457  0.08035477 0.08125063 0.08213348\n",
            " 0.08300349 0.08386085 0.08470576 0.08553839 0.08635892 0.08716753\n",
            " 0.08796438 0.08874965 0.08952351 0.09028613 0.09103766 0.09177827\n",
            " 0.09250812 0.09322736 0.09393615 0.09463464 0.09532298 0.09600131\n",
            " 0.09666979 0.09732855 0.09797774 0.09861749 0.09924795 0.09986924\n",
            " 0.10048151 0.10108488 0.10167948 0.10226544 0.10284288 0.10341193\n",
            " 0.10397271 0.10452534 0.10506995 0.10560663 0.10613552 0.10665672\n",
            " 0.10717035 0.10767651 0.10817532 0.10866687]\n",
            "[0.         0.00206362 0.00409724 0.00610132 0.00807627 0.01002252\n",
            " 0.01194048 0.01383057 0.0156932  0.01752875 0.01933763 0.02112022\n",
            " 0.02287691 0.02460807 0.02631407 0.02799528 0.02965205 0.03128475\n",
            " 0.03289372 0.03447931 0.03604186 0.03758169 0.03909915 0.04059456\n",
            " 0.04206824 0.0435205  0.04495165 0.04636201 0.04775187 0.04912153\n",
            " 0.05047129 0.05180143 0.05311224 0.05440401 0.055677   0.05693149\n",
            " 0.05816775 0.05938604 0.06058663 0.06176977 0.06293572 0.06408472\n",
            " 0.06521702 0.06633287 0.06743251 0.06851616 0.06958406 0.07063645\n",
            " 0.07167354 0.07269556 0.07370273 0.07469526 0.07567337 0.07663726\n",
            " 0.07758715 0.07852323 0.0794457  0.08035477 0.08125063 0.08213348\n",
            " 0.08300349 0.08386085 0.08470576 0.08553839 0.08635892 0.08716753\n",
            " 0.08796438 0.08874965 0.08952351 0.09028613 0.09103766 0.09177827\n",
            " 0.09250812 0.09322736 0.09393615 0.09463464 0.09532298 0.09600131\n",
            " 0.09666979 0.09732855 0.09797774 0.09861749 0.09924795 0.09986924\n",
            " 0.10048151 0.10108488 0.10167948 0.10226544 0.10284288 0.10341193\n",
            " 0.10397271 0.10452534 0.10506995 0.10560663 0.10613552 0.10665672\n",
            " 0.10717035 0.10767651 0.10817532 0.10866687]\n",
            "[0.         0.00206362 0.00409724 0.00610132 0.00807627 0.01002252\n",
            " 0.01194048 0.01383057 0.0156932  0.01752875 0.01933763 0.02112022\n",
            " 0.02287691 0.02460807 0.02631407 0.02799528 0.02965205 0.03128475\n",
            " 0.03289372 0.03447931 0.03604186 0.03758169 0.03909915 0.04059456\n",
            " 0.04206824 0.0435205  0.04495165 0.04636201 0.04775187 0.04912153\n",
            " 0.05047129 0.05180143 0.05311224 0.05440401 0.055677   0.05693149\n",
            " 0.05816775 0.05938604 0.06058663 0.06176977 0.06293572 0.06408472\n",
            " 0.06521702 0.06633287 0.06743251 0.06851616 0.06958406 0.07063645\n",
            " 0.07167354 0.07269556 0.07370273 0.07469526 0.07567337 0.07663726\n",
            " 0.07758715 0.07852323 0.0794457  0.08035477 0.08125063 0.08213348\n",
            " 0.08300349 0.08386085 0.08470576 0.08553839 0.08635892 0.08716753\n",
            " 0.08796438 0.08874965 0.08952351 0.09028613 0.09103766 0.09177827\n",
            " 0.09250812 0.09322736 0.09393615 0.09463464 0.09532298 0.09600131\n",
            " 0.09666979 0.09732855 0.09797774 0.09861749 0.09924795 0.09986924\n",
            " 0.10048151 0.10108488 0.10167948 0.10226544 0.10284288 0.10341193\n",
            " 0.10397271 0.10452534 0.10506995 0.10560663 0.10613552 0.10665672\n",
            " 0.10717035 0.10767651 0.10817532 0.10866687]\n",
            "[0.         0.00206362 0.00409724 0.00610132 0.00807627 0.01002252\n",
            " 0.01194048 0.01383057 0.0156932  0.01752875 0.01933763 0.02112022\n",
            " 0.02287691 0.02460807 0.02631407 0.02799528 0.02965205 0.03128475\n",
            " 0.03289372 0.03447931 0.03604186 0.03758169 0.03909915 0.04059456\n",
            " 0.04206824 0.0435205  0.04495165 0.04636201 0.04775187 0.04912153\n",
            " 0.05047129 0.05180143 0.05311224 0.05440401 0.055677   0.05693149\n",
            " 0.05816775 0.05938604 0.06058663 0.06176977 0.06293572 0.06408472\n",
            " 0.06521702 0.06633287 0.06743251 0.06851616 0.06958406 0.07063645\n",
            " 0.07167354 0.07269556 0.07370273 0.07469526 0.07567337 0.07663726\n",
            " 0.07758715 0.07852323 0.0794457  0.08035477 0.08125063 0.08213348\n",
            " 0.08300349 0.08386085 0.08470576 0.08553839 0.08635892 0.08716753\n",
            " 0.08796438 0.08874965 0.08952351 0.09028613 0.09103766 0.09177827\n",
            " 0.09250812 0.09322736 0.09393615 0.09463464 0.09532298 0.09600131\n",
            " 0.09666979 0.09732855 0.09797774 0.09861749 0.09924795 0.09986924\n",
            " 0.10048151 0.10108488 0.10167948 0.10226544 0.10284288 0.10341193\n",
            " 0.10397271 0.10452534 0.10506995 0.10560663 0.10613552 0.10665672\n",
            " 0.10717035 0.10767651 0.10817532 0.10866687]\n",
            "[0.         0.00206362 0.00409724 0.00610132 0.00807627 0.01002252\n",
            " 0.01194048 0.01383057 0.0156932  0.01752875 0.01933763 0.02112022\n",
            " 0.02287691 0.02460807 0.02631407 0.02799528 0.02965205 0.03128475\n",
            " 0.03289372 0.03447931 0.03604186 0.03758169 0.03909915 0.04059456\n",
            " 0.04206824 0.0435205  0.04495165 0.04636201 0.04775187 0.04912153\n",
            " 0.05047129 0.05180143 0.05311224 0.05440401 0.055677   0.05693149\n",
            " 0.05816775 0.05938604 0.06058663 0.06176977 0.06293572 0.06408472\n",
            " 0.06521702 0.06633287 0.06743251 0.06851616 0.06958406 0.07063645\n",
            " 0.07167354 0.07269556 0.07370273 0.07469526 0.07567337 0.07663726\n",
            " 0.07758715 0.07852323 0.0794457  0.08035477 0.08125063 0.08213348\n",
            " 0.08300349 0.08386085 0.08470576 0.08553839 0.08635892 0.08716753\n",
            " 0.08796438 0.08874965 0.08952351 0.09028613 0.09103766 0.09177827\n",
            " 0.09250812 0.09322736 0.09393615 0.09463464 0.09532298 0.09600131\n",
            " 0.09666979 0.09732855 0.09797774 0.09861749 0.09924795 0.09986924\n",
            " 0.10048151 0.10108488 0.10167948 0.10226544 0.10284288 0.10341193\n",
            " 0.10397271 0.10452534 0.10506995 0.10560663 0.10613552 0.10665672\n",
            " 0.10717035 0.10767651 0.10817532 0.10866687]\n",
            "[0.         0.00206362 0.00409724 0.00610132 0.00807627 0.01002252\n",
            " 0.01194048 0.01383057 0.0156932  0.01752875 0.01933763 0.02112022\n",
            " 0.02287691 0.02460807 0.02631407 0.02799528 0.02965205 0.03128475\n",
            " 0.03289372 0.03447931 0.03604186 0.03758169 0.03909915 0.04059456\n",
            " 0.04206824 0.0435205  0.04495165 0.04636201 0.04775187 0.04912153\n",
            " 0.05047129 0.05180143 0.05311224 0.05440401 0.055677   0.05693149\n",
            " 0.05816775 0.05938604 0.06058663 0.06176977 0.06293572 0.06408472\n",
            " 0.06521702 0.06633287 0.06743251 0.06851616 0.06958406 0.07063645\n",
            " 0.07167354 0.07269556 0.07370273 0.07469526 0.07567337 0.07663726\n",
            " 0.07758715 0.07852323 0.0794457  0.08035477 0.08125063 0.08213348\n",
            " 0.08300349 0.08386085 0.08470576 0.08553839 0.08635892 0.08716753\n",
            " 0.08796438 0.08874965 0.08952351 0.09028613 0.09103766 0.09177827\n",
            " 0.09250812 0.09322736 0.09393615 0.09463464 0.09532298 0.09600131\n",
            " 0.09666979 0.09732855 0.09797774 0.09861749 0.09924795 0.09986924\n",
            " 0.10048151 0.10108488 0.10167948 0.10226544 0.10284288 0.10341193\n",
            " 0.10397271 0.10452534 0.10506995 0.10560663 0.10613552 0.10665672\n",
            " 0.10717035 0.10767651 0.10817532 0.10866687]\n",
            "[0.         0.00206362 0.00409724 0.00610132 0.00807627 0.01002252\n",
            " 0.01194048 0.01383057 0.0156932  0.01752875 0.01933763 0.02112022\n",
            " 0.02287691 0.02460807 0.02631407 0.02799528 0.02965205 0.03128475\n",
            " 0.03289372 0.03447931 0.03604186 0.03758169 0.03909915 0.04059456\n",
            " 0.04206824 0.0435205  0.04495165 0.04636201 0.04775187 0.04912153\n",
            " 0.05047129 0.05180143 0.05311224 0.05440401 0.055677   0.05693149\n",
            " 0.05816775 0.05938604 0.06058663 0.06176977 0.06293572 0.06408472\n",
            " 0.06521702 0.06633287 0.06743251 0.06851616 0.06958406 0.07063645\n",
            " 0.07167354 0.07269556 0.07370273 0.07469526 0.07567337 0.07663726\n",
            " 0.07758715 0.07852323 0.0794457  0.08035477 0.08125063 0.08213348\n",
            " 0.08300349 0.08386085 0.08470576 0.08553839 0.08635892 0.08716753\n",
            " 0.08796438 0.08874965 0.08952351 0.09028613 0.09103766 0.09177827\n",
            " 0.09250812 0.09322736 0.09393615 0.09463464 0.09532298 0.09600131\n",
            " 0.09666979 0.09732855 0.09797774 0.09861749 0.09924795 0.09986924\n",
            " 0.10048151 0.10108488 0.10167948 0.10226544 0.10284288 0.10341193\n",
            " 0.10397271 0.10452534 0.10506995 0.10560663 0.10613552 0.10665672\n",
            " 0.10717035 0.10767651 0.10817532 0.10866687]\n",
            "[0.         0.00206362 0.00409724 0.00610132 0.00807627 0.01002252\n",
            " 0.01194048 0.01383057 0.0156932  0.01752875 0.01933763 0.02112022\n",
            " 0.02287691 0.02460807 0.02631407 0.02799528 0.02965205 0.03128475\n",
            " 0.03289372 0.03447931 0.03604186 0.03758169 0.03909915 0.04059456\n",
            " 0.04206824 0.0435205  0.04495165 0.04636201 0.04775187 0.04912153\n",
            " 0.05047129 0.05180143 0.05311224 0.05440401 0.055677   0.05693149\n",
            " 0.05816775 0.05938604 0.06058663 0.06176977 0.06293572 0.06408472\n",
            " 0.06521702 0.06633287 0.06743251 0.06851616 0.06958406 0.07063645\n",
            " 0.07167354 0.07269556 0.07370273 0.07469526 0.07567337 0.07663726\n",
            " 0.07758715 0.07852323 0.0794457  0.08035477 0.08125063 0.08213348\n",
            " 0.08300349 0.08386085 0.08470576 0.08553839 0.08635892 0.08716753\n",
            " 0.08796438 0.08874965 0.08952351 0.09028613 0.09103766 0.09177827\n",
            " 0.09250812 0.09322736 0.09393615 0.09463464 0.09532298 0.09600131\n",
            " 0.09666979 0.09732855 0.09797774 0.09861749 0.09924795 0.09986924\n",
            " 0.10048151 0.10108488 0.10167948 0.10226544 0.10284288 0.10341193\n",
            " 0.10397271 0.10452534 0.10506995 0.10560663 0.10613552 0.10665672\n",
            " 0.10717035 0.10767651 0.10817532 0.10866687]\n",
            "[0.         0.00206362 0.00409724 0.00610132 0.00807627 0.01002252\n",
            " 0.01194048 0.01383057 0.0156932  0.01752875 0.01933763 0.02112022\n",
            " 0.02287691 0.02460807 0.02631407 0.02799528 0.02965205 0.03128475\n",
            " 0.03289372 0.03447931 0.03604186 0.03758169 0.03909915 0.04059456\n",
            " 0.04206824 0.0435205  0.04495165 0.04636201 0.04775187 0.04912153\n",
            " 0.05047129 0.05180143 0.05311224 0.05440401 0.055677   0.05693149\n",
            " 0.05816775 0.05938604 0.06058663 0.06176977 0.06293572 0.06408472\n",
            " 0.06521702 0.06633287 0.06743251 0.06851616 0.06958406 0.07063645\n",
            " 0.07167354 0.07269556 0.07370273 0.07469526 0.07567337 0.07663726\n",
            " 0.07758715 0.07852323 0.0794457  0.08035477 0.08125063 0.08213348\n",
            " 0.08300349 0.08386085 0.08470576 0.08553839 0.08635892 0.08716753\n",
            " 0.08796438 0.08874965 0.08952351 0.09028613 0.09103766 0.09177827\n",
            " 0.09250812 0.09322736 0.09393615 0.09463464 0.09532298 0.09600131\n",
            " 0.09666979 0.09732855 0.09797774 0.09861749 0.09924795 0.09986924\n",
            " 0.10048151 0.10108488 0.10167948 0.10226544 0.10284288 0.10341193\n",
            " 0.10397271 0.10452534 0.10506995 0.10560663 0.10613552 0.10665672\n",
            " 0.10717035 0.10767651 0.10817532 0.10866687]\n",
            "[0.         0.00206362 0.00409724 0.00610132 0.00807627 0.01002252\n",
            " 0.01194048 0.01383057 0.0156932  0.01752875 0.01933763 0.02112022\n",
            " 0.02287691 0.02460807 0.02631407 0.02799528 0.02965205 0.03128475\n",
            " 0.03289372 0.03447931 0.03604186 0.03758169 0.03909915 0.04059456\n",
            " 0.04206824 0.0435205  0.04495165 0.04636201 0.04775187 0.04912153\n",
            " 0.05047129 0.05180143 0.05311224 0.05440401 0.055677   0.05693149\n",
            " 0.05816775 0.05938604 0.06058663 0.06176977 0.06293572 0.06408472\n",
            " 0.06521702 0.06633287 0.06743251 0.06851616 0.06958406 0.07063645\n",
            " 0.07167354 0.07269556 0.07370273 0.07469526 0.07567337 0.07663726\n",
            " 0.07758715 0.07852323 0.0794457  0.08035477 0.08125063 0.08213348\n",
            " 0.08300349 0.08386085 0.08470576 0.08553839 0.08635892 0.08716753\n",
            " 0.08796438 0.08874965 0.08952351 0.09028613 0.09103766 0.09177827\n",
            " 0.09250812 0.09322736 0.09393615 0.09463464 0.09532298 0.09600131\n",
            " 0.09666979 0.09732855 0.09797774 0.09861749 0.09924795 0.09986924\n",
            " 0.10048151 0.10108488 0.10167948 0.10226544 0.10284288 0.10341193\n",
            " 0.10397271 0.10452534 0.10506995 0.10560663 0.10613552 0.10665672\n",
            " 0.10717035 0.10767651 0.10817532 0.10866687]\n",
            "[0.         0.00206362 0.00409724 0.00610132 0.00807627 0.01002252\n",
            " 0.01194048 0.01383057 0.0156932  0.01752875 0.01933763 0.02112022\n",
            " 0.02287691 0.02460807 0.02631407 0.02799528 0.02965205 0.03128475\n",
            " 0.03289372 0.03447931 0.03604186 0.03758169 0.03909915 0.04059456\n",
            " 0.04206824 0.0435205  0.04495165 0.04636201 0.04775187 0.04912153\n",
            " 0.05047129 0.05180143 0.05311224 0.05440401 0.055677   0.05693149\n",
            " 0.05816775 0.05938604 0.06058663 0.06176977 0.06293572 0.06408472\n",
            " 0.06521702 0.06633287 0.06743251 0.06851616 0.06958406 0.07063645\n",
            " 0.07167354 0.07269556 0.07370273 0.07469526 0.07567337 0.07663726\n",
            " 0.07758715 0.07852323 0.0794457  0.08035477 0.08125063 0.08213348\n",
            " 0.08300349 0.08386085 0.08470576 0.08553839 0.08635892 0.08716753\n",
            " 0.08796438 0.08874965 0.08952351 0.09028613 0.09103766 0.09177827\n",
            " 0.09250812 0.09322736 0.09393615 0.09463464 0.09532298 0.09600131\n",
            " 0.09666979 0.09732855 0.09797774 0.09861749 0.09924795 0.09986924\n",
            " 0.10048151 0.10108488 0.10167948 0.10226544 0.10284288 0.10341193\n",
            " 0.10397271 0.10452534 0.10506995 0.10560663 0.10613552 0.10665672\n",
            " 0.10717035 0.10767651 0.10817532 0.10866687]\n",
            "[0.         0.00206362 0.00409724 0.00610132 0.00807627 0.01002252\n",
            " 0.01194048 0.01383057 0.0156932  0.01752875 0.01933763 0.02112022\n",
            " 0.02287691 0.02460807 0.02631407 0.02799528 0.02965205 0.03128475\n",
            " 0.03289372 0.03447931 0.03604186 0.03758169 0.03909915 0.04059456\n",
            " 0.04206824 0.0435205  0.04495165 0.04636201 0.04775187 0.04912153\n",
            " 0.05047129 0.05180143 0.05311224 0.05440401 0.055677   0.05693149\n",
            " 0.05816775 0.05938604 0.06058663 0.06176977 0.06293572 0.06408472\n",
            " 0.06521702 0.06633287 0.06743251 0.06851616 0.06958406 0.07063645\n",
            " 0.07167354 0.07269556 0.07370273 0.07469526 0.07567337 0.07663726\n",
            " 0.07758715 0.07852323 0.0794457  0.08035477 0.08125063 0.08213348\n",
            " 0.08300349 0.08386085 0.08470576 0.08553839 0.08635892 0.08716753\n",
            " 0.08796438 0.08874965 0.08952351 0.09028613 0.09103766 0.09177827\n",
            " 0.09250812 0.09322736 0.09393615 0.09463464 0.09532298 0.09600131\n",
            " 0.09666979 0.09732855 0.09797774 0.09861749 0.09924795 0.09986924\n",
            " 0.10048151 0.10108488 0.10167948 0.10226544 0.10284288 0.10341193\n",
            " 0.10397271 0.10452534 0.10506995 0.10560663 0.10613552 0.10665672\n",
            " 0.10717035 0.10767651 0.10817532 0.10866687]\n",
            "[0.         0.00206362 0.00409724 0.00610132 0.00807627 0.01002252\n",
            " 0.01194048 0.01383057 0.0156932  0.01752875 0.01933763 0.02112022\n",
            " 0.02287691 0.02460807 0.02631407 0.02799528 0.02965205 0.03128475\n",
            " 0.03289372 0.03447931 0.03604186 0.03758169 0.03909915 0.04059456\n",
            " 0.04206824 0.0435205  0.04495165 0.04636201 0.04775187 0.04912153\n",
            " 0.05047129 0.05180143 0.05311224 0.05440401 0.055677   0.05693149\n",
            " 0.05816775 0.05938604 0.06058663 0.06176977 0.06293572 0.06408472\n",
            " 0.06521702 0.06633287 0.06743251 0.06851616 0.06958406 0.07063645\n",
            " 0.07167354 0.07269556 0.07370273 0.07469526 0.07567337 0.07663726\n",
            " 0.07758715 0.07852323 0.0794457  0.08035477 0.08125063 0.08213348\n",
            " 0.08300349 0.08386085 0.08470576 0.08553839 0.08635892 0.08716753\n",
            " 0.08796438 0.08874965 0.08952351 0.09028613 0.09103766 0.09177827\n",
            " 0.09250812 0.09322736 0.09393615 0.09463464 0.09532298 0.09600131\n",
            " 0.09666979 0.09732855 0.09797774 0.09861749 0.09924795 0.09986924\n",
            " 0.10048151 0.10108488 0.10167948 0.10226544 0.10284288 0.10341193\n",
            " 0.10397271 0.10452534 0.10506995 0.10560663 0.10613552 0.10665672\n",
            " 0.10717035 0.10767651 0.10817532 0.10866687]\n",
            "[0.         0.00206362 0.00409724 0.00610132 0.00807627 0.01002252\n",
            " 0.01194048 0.01383057 0.0156932  0.01752875 0.01933763 0.02112022\n",
            " 0.02287691 0.02460807 0.02631407 0.02799528 0.02965205 0.03128475\n",
            " 0.03289372 0.03447931 0.03604186 0.03758169 0.03909915 0.04059456\n",
            " 0.04206824 0.0435205  0.04495165 0.04636201 0.04775187 0.04912153\n",
            " 0.05047129 0.05180143 0.05311224 0.05440401 0.055677   0.05693149\n",
            " 0.05816775 0.05938604 0.06058663 0.06176977 0.06293572 0.06408472\n",
            " 0.06521702 0.06633287 0.06743251 0.06851616 0.06958406 0.07063645\n",
            " 0.07167354 0.07269556 0.07370273 0.07469526 0.07567337 0.07663726\n",
            " 0.07758715 0.07852323 0.0794457  0.08035477 0.08125063 0.08213348\n",
            " 0.08300349 0.08386085 0.08470576 0.08553839 0.08635892 0.08716753\n",
            " 0.08796438 0.08874965 0.08952351 0.09028613 0.09103766 0.09177827\n",
            " 0.09250812 0.09322736 0.09393615 0.09463464 0.09532298 0.09600131\n",
            " 0.09666979 0.09732855 0.09797774 0.09861749 0.09924795 0.09986924\n",
            " 0.10048151 0.10108488 0.10167948 0.10226544 0.10284288 0.10341193\n",
            " 0.10397271 0.10452534 0.10506995 0.10560663 0.10613552 0.10665672\n",
            " 0.10717035 0.10767651 0.10817532 0.10866687]\n",
            "[0.         0.00206362 0.00409724 0.00610132 0.00807627 0.01002252\n",
            " 0.01194048 0.01383057 0.0156932  0.01752875 0.01933763 0.02112022\n",
            " 0.02287691 0.02460807 0.02631407 0.02799528 0.02965205 0.03128475\n",
            " 0.03289372 0.03447931 0.03604186 0.03758169 0.03909915 0.04059456\n",
            " 0.04206824 0.0435205  0.04495165 0.04636201 0.04775187 0.04912153\n",
            " 0.05047129 0.05180143 0.05311224 0.05440401 0.055677   0.05693149\n",
            " 0.05816775 0.05938604 0.06058663 0.06176977 0.06293572 0.06408472\n",
            " 0.06521702 0.06633287 0.06743251 0.06851616 0.06958406 0.07063645\n",
            " 0.07167354 0.07269556 0.07370273 0.07469526 0.07567337 0.07663726\n",
            " 0.07758715 0.07852323 0.0794457  0.08035477 0.08125063 0.08213348\n",
            " 0.08300349 0.08386085 0.08470576 0.08553839 0.08635892 0.08716753\n",
            " 0.08796438 0.08874965 0.08952351 0.09028613 0.09103766 0.09177827\n",
            " 0.09250812 0.09322736 0.09393615 0.09463464 0.09532298 0.09600131\n",
            " 0.09666979 0.09732855 0.09797774 0.09861749 0.09924795 0.09986924\n",
            " 0.10048151 0.10108488 0.10167948 0.10226544 0.10284288 0.10341193\n",
            " 0.10397271 0.10452534 0.10506995 0.10560663 0.10613552 0.10665672\n",
            " 0.10717035 0.10767651 0.10817532 0.10866687]\n",
            "[0.         0.00206362 0.00409724 0.00610132 0.00807627 0.01002252\n",
            " 0.01194048 0.01383057 0.0156932  0.01752875 0.01933763 0.02112022\n",
            " 0.02287691 0.02460807 0.02631407 0.02799528 0.02965205 0.03128475\n",
            " 0.03289372 0.03447931 0.03604186 0.03758169 0.03909915 0.04059456\n",
            " 0.04206824 0.0435205  0.04495165 0.04636201 0.04775187 0.04912153\n",
            " 0.05047129 0.05180143 0.05311224 0.05440401 0.055677   0.05693149\n",
            " 0.05816775 0.05938604 0.06058663 0.06176977 0.06293572 0.06408472\n",
            " 0.06521702 0.06633287 0.06743251 0.06851616 0.06958406 0.07063645\n",
            " 0.07167354 0.07269556 0.07370273 0.07469526 0.07567337 0.07663726\n",
            " 0.07758715 0.07852323 0.0794457  0.08035477 0.08125063 0.08213348\n",
            " 0.08300349 0.08386085 0.08470576 0.08553839 0.08635892 0.08716753\n",
            " 0.08796438 0.08874965 0.08952351 0.09028613 0.09103766 0.09177827\n",
            " 0.09250812 0.09322736 0.09393615 0.09463464 0.09532298 0.09600131\n",
            " 0.09666979 0.09732855 0.09797774 0.09861749 0.09924795 0.09986924\n",
            " 0.10048151 0.10108488 0.10167948 0.10226544 0.10284288 0.10341193\n",
            " 0.10397271 0.10452534 0.10506995 0.10560663 0.10613552 0.10665672\n",
            " 0.10717035 0.10767651 0.10817532 0.10866687]\n",
            "[0.         0.00206362 0.00409724 0.00610132 0.00807627 0.01002252\n",
            " 0.01194048 0.01383057 0.0156932  0.01752875 0.01933763 0.02112022\n",
            " 0.02287691 0.02460807 0.02631407 0.02799528 0.02965205 0.03128475\n",
            " 0.03289372 0.03447931 0.03604186 0.03758169 0.03909915 0.04059456\n",
            " 0.04206824 0.0435205  0.04495165 0.04636201 0.04775187 0.04912153\n",
            " 0.05047129 0.05180143 0.05311224 0.05440401 0.055677   0.05693149\n",
            " 0.05816775 0.05938604 0.06058663 0.06176977 0.06293572 0.06408472\n",
            " 0.06521702 0.06633287 0.06743251 0.06851616 0.06958406 0.07063645\n",
            " 0.07167354 0.07269556 0.07370273 0.07469526 0.07567337 0.07663726\n",
            " 0.07758715 0.07852323 0.0794457  0.08035477 0.08125063 0.08213348\n",
            " 0.08300349 0.08386085 0.08470576 0.08553839 0.08635892 0.08716753\n",
            " 0.08796438 0.08874965 0.08952351 0.09028613 0.09103766 0.09177827\n",
            " 0.09250812 0.09322736 0.09393615 0.09463464 0.09532298 0.09600131\n",
            " 0.09666979 0.09732855 0.09797774 0.09861749 0.09924795 0.09986924\n",
            " 0.10048151 0.10108488 0.10167948 0.10226544 0.10284288 0.10341193\n",
            " 0.10397271 0.10452534 0.10506995 0.10560663 0.10613552 0.10665672\n",
            " 0.10717035 0.10767651 0.10817532 0.10866687]\n",
            "[0.         0.00206362 0.00409724 0.00610132 0.00807627 0.01002252\n",
            " 0.01194048 0.01383057 0.0156932  0.01752875 0.01933763 0.02112022\n",
            " 0.02287691 0.02460807 0.02631407 0.02799528 0.02965205 0.03128475\n",
            " 0.03289372 0.03447931 0.03604186 0.03758169 0.03909915 0.04059456\n",
            " 0.04206824 0.0435205  0.04495165 0.04636201 0.04775187 0.04912153\n",
            " 0.05047129 0.05180143 0.05311224 0.05440401 0.055677   0.05693149\n",
            " 0.05816775 0.05938604 0.06058663 0.06176977 0.06293572 0.06408472\n",
            " 0.06521702 0.06633287 0.06743251 0.06851616 0.06958406 0.07063645\n",
            " 0.07167354 0.07269556 0.07370273 0.07469526 0.07567337 0.07663726\n",
            " 0.07758715 0.07852323 0.0794457  0.08035477 0.08125063 0.08213348\n",
            " 0.08300349 0.08386085 0.08470576 0.08553839 0.08635892 0.08716753\n",
            " 0.08796438 0.08874965 0.08952351 0.09028613 0.09103766 0.09177827\n",
            " 0.09250812 0.09322736 0.09393615 0.09463464 0.09532298 0.09600131\n",
            " 0.09666979 0.09732855 0.09797774 0.09861749 0.09924795 0.09986924\n",
            " 0.10048151 0.10108488 0.10167948 0.10226544 0.10284288 0.10341193\n",
            " 0.10397271 0.10452534 0.10506995 0.10560663 0.10613552 0.10665672\n",
            " 0.10717035 0.10767651 0.10817532 0.10866687]\n",
            "[0.         0.00206362 0.00409724 0.00610132 0.00807627 0.01002252\n",
            " 0.01194048 0.01383057 0.0156932  0.01752875 0.01933763 0.02112022\n",
            " 0.02287691 0.02460807 0.02631407 0.02799528 0.02965205 0.03128475\n",
            " 0.03289372 0.03447931 0.03604186 0.03758169 0.03909915 0.04059456\n",
            " 0.04206824 0.0435205  0.04495165 0.04636201 0.04775187 0.04912153\n",
            " 0.05047129 0.05180143 0.05311224 0.05440401 0.055677   0.05693149\n",
            " 0.05816775 0.05938604 0.06058663 0.06176977 0.06293572 0.06408472\n",
            " 0.06521702 0.06633287 0.06743251 0.06851616 0.06958406 0.07063645\n",
            " 0.07167354 0.07269556 0.07370273 0.07469526 0.07567337 0.07663726\n",
            " 0.07758715 0.07852323 0.0794457  0.08035477 0.08125063 0.08213348\n",
            " 0.08300349 0.08386085 0.08470576 0.08553839 0.08635892 0.08716753\n",
            " 0.08796438 0.08874965 0.08952351 0.09028613 0.09103766 0.09177827\n",
            " 0.09250812 0.09322736 0.09393615 0.09463464 0.09532298 0.09600131\n",
            " 0.09666979 0.09732855 0.09797774 0.09861749 0.09924795 0.09986924\n",
            " 0.10048151 0.10108488 0.10167948 0.10226544 0.10284288 0.10341193\n",
            " 0.10397271 0.10452534 0.10506995 0.10560663 0.10613552 0.10665672\n",
            " 0.10717035 0.10767651 0.10817532 0.10866687]\n",
            "[0.         0.00206362 0.00409724 0.00610132 0.00807627 0.01002252\n",
            " 0.01194048 0.01383057 0.0156932  0.01752875 0.01933763 0.02112022\n",
            " 0.02287691 0.02460807 0.02631407 0.02799528 0.02965205 0.03128475\n",
            " 0.03289372 0.03447931 0.03604186 0.03758169 0.03909915 0.04059456\n",
            " 0.04206824 0.0435205  0.04495165 0.04636201 0.04775187 0.04912153\n",
            " 0.05047129 0.05180143 0.05311224 0.05440401 0.055677   0.05693149\n",
            " 0.05816775 0.05938604 0.06058663 0.06176977 0.06293572 0.06408472\n",
            " 0.06521702 0.06633287 0.06743251 0.06851616 0.06958406 0.07063645\n",
            " 0.07167354 0.07269556 0.07370273 0.07469526 0.07567337 0.07663726\n",
            " 0.07758715 0.07852323 0.0794457  0.08035477 0.08125063 0.08213348\n",
            " 0.08300349 0.08386085 0.08470576 0.08553839 0.08635892 0.08716753\n",
            " 0.08796438 0.08874965 0.08952351 0.09028613 0.09103766 0.09177827\n",
            " 0.09250812 0.09322736 0.09393615 0.09463464 0.09532298 0.09600131\n",
            " 0.09666979 0.09732855 0.09797774 0.09861749 0.09924795 0.09986924\n",
            " 0.10048151 0.10108488 0.10167948 0.10226544 0.10284288 0.10341193\n",
            " 0.10397271 0.10452534 0.10506995 0.10560663 0.10613552 0.10665672\n",
            " 0.10717035 0.10767651 0.10817532 0.10866687]\n",
            "[0.         0.00206362 0.00409724 0.00610132 0.00807627 0.01002252\n",
            " 0.01194048 0.01383057 0.0156932  0.01752875 0.01933763 0.02112022\n",
            " 0.02287691 0.02460807 0.02631407 0.02799528 0.02965205 0.03128475\n",
            " 0.03289372 0.03447931 0.03604186 0.03758169 0.03909915 0.04059456\n",
            " 0.04206824 0.0435205  0.04495165 0.04636201 0.04775187 0.04912153\n",
            " 0.05047129 0.05180143 0.05311224 0.05440401 0.055677   0.05693149\n",
            " 0.05816775 0.05938604 0.06058663 0.06176977 0.06293572 0.06408472\n",
            " 0.06521702 0.06633287 0.06743251 0.06851616 0.06958406 0.07063645\n",
            " 0.07167354 0.07269556 0.07370273 0.07469526 0.07567337 0.07663726\n",
            " 0.07758715 0.07852323 0.0794457  0.08035477 0.08125063 0.08213348\n",
            " 0.08300349 0.08386085 0.08470576 0.08553839 0.08635892 0.08716753\n",
            " 0.08796438 0.08874965 0.08952351 0.09028613 0.09103766 0.09177827\n",
            " 0.09250812 0.09322736 0.09393615 0.09463464 0.09532298 0.09600131\n",
            " 0.09666979 0.09732855 0.09797774 0.09861749 0.09924795 0.09986924\n",
            " 0.10048151 0.10108488 0.10167948 0.10226544 0.10284288 0.10341193\n",
            " 0.10397271 0.10452534 0.10506995 0.10560663 0.10613552 0.10665672\n",
            " 0.10717035 0.10767651 0.10817532 0.10866687]\n",
            "[0.         0.00206362 0.00409724 0.00610132 0.00807627 0.01002252\n",
            " 0.01194048 0.01383057 0.0156932  0.01752875 0.01933763 0.02112022\n",
            " 0.02287691 0.02460807 0.02631407 0.02799528 0.02965205 0.03128475\n",
            " 0.03289372 0.03447931 0.03604186 0.03758169 0.03909915 0.04059456\n",
            " 0.04206824 0.0435205  0.04495165 0.04636201 0.04775187 0.04912153\n",
            " 0.05047129 0.05180143 0.05311224 0.05440401 0.055677   0.05693149\n",
            " 0.05816775 0.05938604 0.06058663 0.06176977 0.06293572 0.06408472\n",
            " 0.06521702 0.06633287 0.06743251 0.06851616 0.06958406 0.07063645\n",
            " 0.07167354 0.07269556 0.07370273 0.07469526 0.07567337 0.07663726\n",
            " 0.07758715 0.07852323 0.0794457  0.08035477 0.08125063 0.08213348\n",
            " 0.08300349 0.08386085 0.08470576 0.08553839 0.08635892 0.08716753\n",
            " 0.08796438 0.08874965 0.08952351 0.09028613 0.09103766 0.09177827\n",
            " 0.09250812 0.09322736 0.09393615 0.09463464 0.09532298 0.09600131\n",
            " 0.09666979 0.09732855 0.09797774 0.09861749 0.09924795 0.09986924\n",
            " 0.10048151 0.10108488 0.10167948 0.10226544 0.10284288 0.10341193\n",
            " 0.10397271 0.10452534 0.10506995 0.10560663 0.10613552 0.10665672\n",
            " 0.10717035 0.10767651 0.10817532 0.10866687]\n",
            "[0.         0.00206362 0.00409724 0.00610132 0.00807627 0.01002252\n",
            " 0.01194048 0.01383057 0.0156932  0.01752875 0.01933763 0.02112022\n",
            " 0.02287691 0.02460807 0.02631407 0.02799528 0.02965205 0.03128475\n",
            " 0.03289372 0.03447931 0.03604186 0.03758169 0.03909915 0.04059456\n",
            " 0.04206824 0.0435205  0.04495165 0.04636201 0.04775187 0.04912153\n",
            " 0.05047129 0.05180143 0.05311224 0.05440401 0.055677   0.05693149\n",
            " 0.05816775 0.05938604 0.06058663 0.06176977 0.06293572 0.06408472\n",
            " 0.06521702 0.06633287 0.06743251 0.06851616 0.06958406 0.07063645\n",
            " 0.07167354 0.07269556 0.07370273 0.07469526 0.07567337 0.07663726\n",
            " 0.07758715 0.07852323 0.0794457  0.08035477 0.08125063 0.08213348\n",
            " 0.08300349 0.08386085 0.08470576 0.08553839 0.08635892 0.08716753\n",
            " 0.08796438 0.08874965 0.08952351 0.09028613 0.09103766 0.09177827\n",
            " 0.09250812 0.09322736 0.09393615 0.09463464 0.09532298 0.09600131\n",
            " 0.09666979 0.09732855 0.09797774 0.09861749 0.09924795 0.09986924\n",
            " 0.10048151 0.10108488 0.10167948 0.10226544 0.10284288 0.10341193\n",
            " 0.10397271 0.10452534 0.10506995 0.10560663 0.10613552 0.10665672\n",
            " 0.10717035 0.10767651 0.10817532 0.10866687]\n",
            "[0.         0.00206362 0.00409724 0.00610132 0.00807627 0.01002252\n",
            " 0.01194048 0.01383057 0.0156932  0.01752875 0.01933763 0.02112022\n",
            " 0.02287691 0.02460807 0.02631407 0.02799528 0.02965205 0.03128475\n",
            " 0.03289372 0.03447931 0.03604186 0.03758169 0.03909915 0.04059456\n",
            " 0.04206824 0.0435205  0.04495165 0.04636201 0.04775187 0.04912153\n",
            " 0.05047129 0.05180143 0.05311224 0.05440401 0.055677   0.05693149\n",
            " 0.05816775 0.05938604 0.06058663 0.06176977 0.06293572 0.06408472\n",
            " 0.06521702 0.06633287 0.06743251 0.06851616 0.06958406 0.07063645\n",
            " 0.07167354 0.07269556 0.07370273 0.07469526 0.07567337 0.07663726\n",
            " 0.07758715 0.07852323 0.0794457  0.08035477 0.08125063 0.08213348\n",
            " 0.08300349 0.08386085 0.08470576 0.08553839 0.08635892 0.08716753\n",
            " 0.08796438 0.08874965 0.08952351 0.09028613 0.09103766 0.09177827\n",
            " 0.09250812 0.09322736 0.09393615 0.09463464 0.09532298 0.09600131\n",
            " 0.09666979 0.09732855 0.09797774 0.09861749 0.09924795 0.09986924\n",
            " 0.10048151 0.10108488 0.10167948 0.10226544 0.10284288 0.10341193\n",
            " 0.10397271 0.10452534 0.10506995 0.10560663 0.10613552 0.10665672\n",
            " 0.10717035 0.10767651 0.10817532 0.10866687]\n",
            "[0.         0.00206362 0.00409724 0.00610132 0.00807627 0.01002252\n",
            " 0.01194048 0.01383057 0.0156932  0.01752875 0.01933763 0.02112022\n",
            " 0.02287691 0.02460807 0.02631407 0.02799528 0.02965205 0.03128475\n",
            " 0.03289372 0.03447931 0.03604186 0.03758169 0.03909915 0.04059456\n",
            " 0.04206824 0.0435205  0.04495165 0.04636201 0.04775187 0.04912153\n",
            " 0.05047129 0.05180143 0.05311224 0.05440401 0.055677   0.05693149\n",
            " 0.05816775 0.05938604 0.06058663 0.06176977 0.06293572 0.06408472\n",
            " 0.06521702 0.06633287 0.06743251 0.06851616 0.06958406 0.07063645\n",
            " 0.07167354 0.07269556 0.07370273 0.07469526 0.07567337 0.07663726\n",
            " 0.07758715 0.07852323 0.0794457  0.08035477 0.08125063 0.08213348\n",
            " 0.08300349 0.08386085 0.08470576 0.08553839 0.08635892 0.08716753\n",
            " 0.08796438 0.08874965 0.08952351 0.09028613 0.09103766 0.09177827\n",
            " 0.09250812 0.09322736 0.09393615 0.09463464 0.09532298 0.09600131\n",
            " 0.09666979 0.09732855 0.09797774 0.09861749 0.09924795 0.09986924\n",
            " 0.10048151 0.10108488 0.10167948 0.10226544 0.10284288 0.10341193\n",
            " 0.10397271 0.10452534 0.10506995 0.10560663 0.10613552 0.10665672\n",
            " 0.10717035 0.10767651 0.10817532 0.10866687]\n",
            "[0.         0.00206362 0.00409724 0.00610132 0.00807627 0.01002252\n",
            " 0.01194048 0.01383057 0.0156932  0.01752875 0.01933763 0.02112022\n",
            " 0.02287691 0.02460807 0.02631407 0.02799528 0.02965205 0.03128475\n",
            " 0.03289372 0.03447931 0.03604186 0.03758169 0.03909915 0.04059456\n",
            " 0.04206824 0.0435205  0.04495165 0.04636201 0.04775187 0.04912153\n",
            " 0.05047129 0.05180143 0.05311224 0.05440401 0.055677   0.05693149\n",
            " 0.05816775 0.05938604 0.06058663 0.06176977 0.06293572 0.06408472\n",
            " 0.06521702 0.06633287 0.06743251 0.06851616 0.06958406 0.07063645\n",
            " 0.07167354 0.07269556 0.07370273 0.07469526 0.07567337 0.07663726\n",
            " 0.07758715 0.07852323 0.0794457  0.08035477 0.08125063 0.08213348\n",
            " 0.08300349 0.08386085 0.08470576 0.08553839 0.08635892 0.08716753\n",
            " 0.08796438 0.08874965 0.08952351 0.09028613 0.09103766 0.09177827\n",
            " 0.09250812 0.09322736 0.09393615 0.09463464 0.09532298 0.09600131\n",
            " 0.09666979 0.09732855 0.09797774 0.09861749 0.09924795 0.09986924\n",
            " 0.10048151 0.10108488 0.10167948 0.10226544 0.10284288 0.10341193\n",
            " 0.10397271 0.10452534 0.10506995 0.10560663 0.10613552 0.10665672\n",
            " 0.10717035 0.10767651 0.10817532 0.10866687]\n",
            "[0.         0.00206362 0.00409724 0.00610132 0.00807627 0.01002252\n",
            " 0.01194048 0.01383057 0.0156932  0.01752875 0.01933763 0.02112022\n",
            " 0.02287691 0.02460807 0.02631407 0.02799528 0.02965205 0.03128475\n",
            " 0.03289372 0.03447931 0.03604186 0.03758169 0.03909915 0.04059456\n",
            " 0.04206824 0.0435205  0.04495165 0.04636201 0.04775187 0.04912153\n",
            " 0.05047129 0.05180143 0.05311224 0.05440401 0.055677   0.05693149\n",
            " 0.05816775 0.05938604 0.06058663 0.06176977 0.06293572 0.06408472\n",
            " 0.06521702 0.06633287 0.06743251 0.06851616 0.06958406 0.07063645\n",
            " 0.07167354 0.07269556 0.07370273 0.07469526 0.07567337 0.07663726\n",
            " 0.07758715 0.07852323 0.0794457  0.08035477 0.08125063 0.08213348\n",
            " 0.08300349 0.08386085 0.08470576 0.08553839 0.08635892 0.08716753\n",
            " 0.08796438 0.08874965 0.08952351 0.09028613 0.09103766 0.09177827\n",
            " 0.09250812 0.09322736 0.09393615 0.09463464 0.09532298 0.09600131\n",
            " 0.09666979 0.09732855 0.09797774 0.09861749 0.09924795 0.09986924\n",
            " 0.10048151 0.10108488 0.10167948 0.10226544 0.10284288 0.10341193\n",
            " 0.10397271 0.10452534 0.10506995 0.10560663 0.10613552 0.10665672\n",
            " 0.10717035 0.10767651 0.10817532 0.10866687]\n",
            "[0.         0.00206362 0.00409724 0.00610132 0.00807627 0.01002252\n",
            " 0.01194048 0.01383057 0.0156932  0.01752875 0.01933763 0.02112022\n",
            " 0.02287691 0.02460807 0.02631407 0.02799528 0.02965205 0.03128475\n",
            " 0.03289372 0.03447931 0.03604186 0.03758169 0.03909915 0.04059456\n",
            " 0.04206824 0.0435205  0.04495165 0.04636201 0.04775187 0.04912153\n",
            " 0.05047129 0.05180143 0.05311224 0.05440401 0.055677   0.05693149\n",
            " 0.05816775 0.05938604 0.06058663 0.06176977 0.06293572 0.06408472\n",
            " 0.06521702 0.06633287 0.06743251 0.06851616 0.06958406 0.07063645\n",
            " 0.07167354 0.07269556 0.07370273 0.07469526 0.07567337 0.07663726\n",
            " 0.07758715 0.07852323 0.0794457  0.08035477 0.08125063 0.08213348\n",
            " 0.08300349 0.08386085 0.08470576 0.08553839 0.08635892 0.08716753\n",
            " 0.08796438 0.08874965 0.08952351 0.09028613 0.09103766 0.09177827\n",
            " 0.09250812 0.09322736 0.09393615 0.09463464 0.09532298 0.09600131\n",
            " 0.09666979 0.09732855 0.09797774 0.09861749 0.09924795 0.09986924\n",
            " 0.10048151 0.10108488 0.10167948 0.10226544 0.10284288 0.10341193\n",
            " 0.10397271 0.10452534 0.10506995 0.10560663 0.10613552 0.10665672\n",
            " 0.10717035 0.10767651 0.10817532 0.10866687]\n",
            "[0.         0.00206362 0.00409724 0.00610132 0.00807627 0.01002252\n",
            " 0.01194048 0.01383057 0.0156932  0.01752875 0.01933763 0.02112022\n",
            " 0.02287691 0.02460807 0.02631407 0.02799528 0.02965205 0.03128475\n",
            " 0.03289372 0.03447931 0.03604186 0.03758169 0.03909915 0.04059456\n",
            " 0.04206824 0.0435205  0.04495165 0.04636201 0.04775187 0.04912153\n",
            " 0.05047129 0.05180143 0.05311224 0.05440401 0.055677   0.05693149\n",
            " 0.05816775 0.05938604 0.06058663 0.06176977 0.06293572 0.06408472\n",
            " 0.06521702 0.06633287 0.06743251 0.06851616 0.06958406 0.07063645\n",
            " 0.07167354 0.07269556 0.07370273 0.07469526 0.07567337 0.07663726\n",
            " 0.07758715 0.07852323 0.0794457  0.08035477 0.08125063 0.08213348\n",
            " 0.08300349 0.08386085 0.08470576 0.08553839 0.08635892 0.08716753\n",
            " 0.08796438 0.08874965 0.08952351 0.09028613 0.09103766 0.09177827\n",
            " 0.09250812 0.09322736 0.09393615 0.09463464 0.09532298 0.09600131\n",
            " 0.09666979 0.09732855 0.09797774 0.09861749 0.09924795 0.09986924\n",
            " 0.10048151 0.10108488 0.10167948 0.10226544 0.10284288 0.10341193\n",
            " 0.10397271 0.10452534 0.10506995 0.10560663 0.10613552 0.10665672\n",
            " 0.10717035 0.10767651 0.10817532 0.10866687]\n",
            "[0.         0.00206362 0.00409724 0.00610132 0.00807627 0.01002252\n",
            " 0.01194048 0.01383057 0.0156932  0.01752875 0.01933763 0.02112022\n",
            " 0.02287691 0.02460807 0.02631407 0.02799528 0.02965205 0.03128475\n",
            " 0.03289372 0.03447931 0.03604186 0.03758169 0.03909915 0.04059456\n",
            " 0.04206824 0.0435205  0.04495165 0.04636201 0.04775187 0.04912153\n",
            " 0.05047129 0.05180143 0.05311224 0.05440401 0.055677   0.05693149\n",
            " 0.05816775 0.05938604 0.06058663 0.06176977 0.06293572 0.06408472\n",
            " 0.06521702 0.06633287 0.06743251 0.06851616 0.06958406 0.07063645\n",
            " 0.07167354 0.07269556 0.07370273 0.07469526 0.07567337 0.07663726\n",
            " 0.07758715 0.07852323 0.0794457  0.08035477 0.08125063 0.08213348\n",
            " 0.08300349 0.08386085 0.08470576 0.08553839 0.08635892 0.08716753\n",
            " 0.08796438 0.08874965 0.08952351 0.09028613 0.09103766 0.09177827\n",
            " 0.09250812 0.09322736 0.09393615 0.09463464 0.09532298 0.09600131\n",
            " 0.09666979 0.09732855 0.09797774 0.09861749 0.09924795 0.09986924\n",
            " 0.10048151 0.10108488 0.10167948 0.10226544 0.10284288 0.10341193\n",
            " 0.10397271 0.10452534 0.10506995 0.10560663 0.10613552 0.10665672\n",
            " 0.10717035 0.10767651 0.10817532 0.10866687]\n",
            "[0.         0.00206362 0.00409724 0.00610132 0.00807627 0.01002252\n",
            " 0.01194048 0.01383057 0.0156932  0.01752875 0.01933763 0.02112022\n",
            " 0.02287691 0.02460807 0.02631407 0.02799528 0.02965205 0.03128475\n",
            " 0.03289372 0.03447931 0.03604186 0.03758169 0.03909915 0.04059456\n",
            " 0.04206824 0.0435205  0.04495165 0.04636201 0.04775187 0.04912153\n",
            " 0.05047129 0.05180143 0.05311224 0.05440401 0.055677   0.05693149\n",
            " 0.05816775 0.05938604 0.06058663 0.06176977 0.06293572 0.06408472\n",
            " 0.06521702 0.06633287 0.06743251 0.06851616 0.06958406 0.07063645\n",
            " 0.07167354 0.07269556 0.07370273 0.07469526 0.07567337 0.07663726\n",
            " 0.07758715 0.07852323 0.0794457  0.08035477 0.08125063 0.08213348\n",
            " 0.08300349 0.08386085 0.08470576 0.08553839 0.08635892 0.08716753\n",
            " 0.08796438 0.08874965 0.08952351 0.09028613 0.09103766 0.09177827\n",
            " 0.09250812 0.09322736 0.09393615 0.09463464 0.09532298 0.09600131\n",
            " 0.09666979 0.09732855 0.09797774 0.09861749 0.09924795 0.09986924\n",
            " 0.10048151 0.10108488 0.10167948 0.10226544 0.10284288 0.10341193\n",
            " 0.10397271 0.10452534 0.10506995 0.10560663 0.10613552 0.10665672\n",
            " 0.10717035 0.10767651 0.10817532 0.10866687]\n",
            "[0.         0.00206362 0.00409724 0.00610132 0.00807627 0.01002252\n",
            " 0.01194048 0.01383057 0.0156932  0.01752875 0.01933763 0.02112022\n",
            " 0.02287691 0.02460807 0.02631407 0.02799528 0.02965205 0.03128475\n",
            " 0.03289372 0.03447931 0.03604186 0.03758169 0.03909915 0.04059456\n",
            " 0.04206824 0.0435205  0.04495165 0.04636201 0.04775187 0.04912153\n",
            " 0.05047129 0.05180143 0.05311224 0.05440401 0.055677   0.05693149\n",
            " 0.05816775 0.05938604 0.06058663 0.06176977 0.06293572 0.06408472\n",
            " 0.06521702 0.06633287 0.06743251 0.06851616 0.06958406 0.07063645\n",
            " 0.07167354 0.07269556 0.07370273 0.07469526 0.07567337 0.07663726\n",
            " 0.07758715 0.07852323 0.0794457  0.08035477 0.08125063 0.08213348\n",
            " 0.08300349 0.08386085 0.08470576 0.08553839 0.08635892 0.08716753\n",
            " 0.08796438 0.08874965 0.08952351 0.09028613 0.09103766 0.09177827\n",
            " 0.09250812 0.09322736 0.09393615 0.09463464 0.09532298 0.09600131\n",
            " 0.09666979 0.09732855 0.09797774 0.09861749 0.09924795 0.09986924\n",
            " 0.10048151 0.10108488 0.10167948 0.10226544 0.10284288 0.10341193\n",
            " 0.10397271 0.10452534 0.10506995 0.10560663 0.10613552 0.10665672\n",
            " 0.10717035 0.10767651 0.10817532 0.10866687]\n",
            "[0.         0.00206362 0.00409724 0.00610132 0.00807627 0.01002252\n",
            " 0.01194048 0.01383057 0.0156932  0.01752875 0.01933763 0.02112022\n",
            " 0.02287691 0.02460807 0.02631407 0.02799528 0.02965205 0.03128475\n",
            " 0.03289372 0.03447931 0.03604186 0.03758169 0.03909915 0.04059456\n",
            " 0.04206824 0.0435205  0.04495165 0.04636201 0.04775187 0.04912153\n",
            " 0.05047129 0.05180143 0.05311224 0.05440401 0.055677   0.05693149\n",
            " 0.05816775 0.05938604 0.06058663 0.06176977 0.06293572 0.06408472\n",
            " 0.06521702 0.06633287 0.06743251 0.06851616 0.06958406 0.07063645\n",
            " 0.07167354 0.07269556 0.07370273 0.07469526 0.07567337 0.07663726\n",
            " 0.07758715 0.07852323 0.0794457  0.08035477 0.08125063 0.08213348\n",
            " 0.08300349 0.08386085 0.08470576 0.08553839 0.08635892 0.08716753\n",
            " 0.08796438 0.08874965 0.08952351 0.09028613 0.09103766 0.09177827\n",
            " 0.09250812 0.09322736 0.09393615 0.09463464 0.09532298 0.09600131\n",
            " 0.09666979 0.09732855 0.09797774 0.09861749 0.09924795 0.09986924\n",
            " 0.10048151 0.10108488 0.10167948 0.10226544 0.10284288 0.10341193\n",
            " 0.10397271 0.10452534 0.10506995 0.10560663 0.10613552 0.10665672\n",
            " 0.10717035 0.10767651 0.10817532 0.10866687]\n",
            "[0.         0.00206362 0.00409724 0.00610132 0.00807627 0.01002252\n",
            " 0.01194048 0.01383057 0.0156932  0.01752875 0.01933763 0.02112022\n",
            " 0.02287691 0.02460807 0.02631407 0.02799528 0.02965205 0.03128475\n",
            " 0.03289372 0.03447931 0.03604186 0.03758169 0.03909915 0.04059456\n",
            " 0.04206824 0.0435205  0.04495165 0.04636201 0.04775187 0.04912153\n",
            " 0.05047129 0.05180143 0.05311224 0.05440401 0.055677   0.05693149\n",
            " 0.05816775 0.05938604 0.06058663 0.06176977 0.06293572 0.06408472\n",
            " 0.06521702 0.06633287 0.06743251 0.06851616 0.06958406 0.07063645\n",
            " 0.07167354 0.07269556 0.07370273 0.07469526 0.07567337 0.07663726\n",
            " 0.07758715 0.07852323 0.0794457  0.08035477 0.08125063 0.08213348\n",
            " 0.08300349 0.08386085 0.08470576 0.08553839 0.08635892 0.08716753\n",
            " 0.08796438 0.08874965 0.08952351 0.09028613 0.09103766 0.09177827\n",
            " 0.09250812 0.09322736 0.09393615 0.09463464 0.09532298 0.09600131\n",
            " 0.09666979 0.09732855 0.09797774 0.09861749 0.09924795 0.09986924\n",
            " 0.10048151 0.10108488 0.10167948 0.10226544 0.10284288 0.10341193\n",
            " 0.10397271 0.10452534 0.10506995 0.10560663 0.10613552 0.10665672\n",
            " 0.10717035 0.10767651 0.10817532 0.10866687]\n",
            "[0.         0.00206362 0.00409724 0.00610132 0.00807627 0.01002252\n",
            " 0.01194048 0.01383057 0.0156932  0.01752875 0.01933763 0.02112022\n",
            " 0.02287691 0.02460807 0.02631407 0.02799528 0.02965205 0.03128475\n",
            " 0.03289372 0.03447931 0.03604186 0.03758169 0.03909915 0.04059456\n",
            " 0.04206824 0.0435205  0.04495165 0.04636201 0.04775187 0.04912153\n",
            " 0.05047129 0.05180143 0.05311224 0.05440401 0.055677   0.05693149\n",
            " 0.05816775 0.05938604 0.06058663 0.06176977 0.06293572 0.06408472\n",
            " 0.06521702 0.06633287 0.06743251 0.06851616 0.06958406 0.07063645\n",
            " 0.07167354 0.07269556 0.07370273 0.07469526 0.07567337 0.07663726\n",
            " 0.07758715 0.07852323 0.0794457  0.08035477 0.08125063 0.08213348\n",
            " 0.08300349 0.08386085 0.08470576 0.08553839 0.08635892 0.08716753\n",
            " 0.08796438 0.08874965 0.08952351 0.09028613 0.09103766 0.09177827\n",
            " 0.09250812 0.09322736 0.09393615 0.09463464 0.09532298 0.09600131\n",
            " 0.09666979 0.09732855 0.09797774 0.09861749 0.09924795 0.09986924\n",
            " 0.10048151 0.10108488 0.10167948 0.10226544 0.10284288 0.10341193\n",
            " 0.10397271 0.10452534 0.10506995 0.10560663 0.10613552 0.10665672\n",
            " 0.10717035 0.10767651 0.10817532 0.10866687]\n",
            "[0.         0.00206362 0.00409724 0.00610132 0.00807627 0.01002252\n",
            " 0.01194048 0.01383057 0.0156932  0.01752875 0.01933763 0.02112022\n",
            " 0.02287691 0.02460807 0.02631407 0.02799528 0.02965205 0.03128475\n",
            " 0.03289372 0.03447931 0.03604186 0.03758169 0.03909915 0.04059456\n",
            " 0.04206824 0.0435205  0.04495165 0.04636201 0.04775187 0.04912153\n",
            " 0.05047129 0.05180143 0.05311224 0.05440401 0.055677   0.05693149\n",
            " 0.05816775 0.05938604 0.06058663 0.06176977 0.06293572 0.06408472\n",
            " 0.06521702 0.06633287 0.06743251 0.06851616 0.06958406 0.07063645\n",
            " 0.07167354 0.07269556 0.07370273 0.07469526 0.07567337 0.07663726\n",
            " 0.07758715 0.07852323 0.0794457  0.08035477 0.08125063 0.08213348\n",
            " 0.08300349 0.08386085 0.08470576 0.08553839 0.08635892 0.08716753\n",
            " 0.08796438 0.08874965 0.08952351 0.09028613 0.09103766 0.09177827\n",
            " 0.09250812 0.09322736 0.09393615 0.09463464 0.09532298 0.09600131\n",
            " 0.09666979 0.09732855 0.09797774 0.09861749 0.09924795 0.09986924\n",
            " 0.10048151 0.10108488 0.10167948 0.10226544 0.10284288 0.10341193\n",
            " 0.10397271 0.10452534 0.10506995 0.10560663 0.10613552 0.10665672\n",
            " 0.10717035 0.10767651 0.10817532 0.10866687]\n",
            "[0.         0.00206362 0.00409724 0.00610132 0.00807627 0.01002252\n",
            " 0.01194048 0.01383057 0.0156932  0.01752875 0.01933763 0.02112022\n",
            " 0.02287691 0.02460807 0.02631407 0.02799528 0.02965205 0.03128475\n",
            " 0.03289372 0.03447931 0.03604186 0.03758169 0.03909915 0.04059456\n",
            " 0.04206824 0.0435205  0.04495165 0.04636201 0.04775187 0.04912153\n",
            " 0.05047129 0.05180143 0.05311224 0.05440401 0.055677   0.05693149\n",
            " 0.05816775 0.05938604 0.06058663 0.06176977 0.06293572 0.06408472\n",
            " 0.06521702 0.06633287 0.06743251 0.06851616 0.06958406 0.07063645\n",
            " 0.07167354 0.07269556 0.07370273 0.07469526 0.07567337 0.07663726\n",
            " 0.07758715 0.07852323 0.0794457  0.08035477 0.08125063 0.08213348\n",
            " 0.08300349 0.08386085 0.08470576 0.08553839 0.08635892 0.08716753\n",
            " 0.08796438 0.08874965 0.08952351 0.09028613 0.09103766 0.09177827\n",
            " 0.09250812 0.09322736 0.09393615 0.09463464 0.09532298 0.09600131\n",
            " 0.09666979 0.09732855 0.09797774 0.09861749 0.09924795 0.09986924\n",
            " 0.10048151 0.10108488 0.10167948 0.10226544 0.10284288 0.10341193\n",
            " 0.10397271 0.10452534 0.10506995 0.10560663 0.10613552 0.10665672\n",
            " 0.10717035 0.10767651 0.10817532 0.10866687]\n",
            "[0.         0.00206362 0.00409724 0.00610132 0.00807627 0.01002252\n",
            " 0.01194048 0.01383057 0.0156932  0.01752875 0.01933763 0.02112022\n",
            " 0.02287691 0.02460807 0.02631407 0.02799528 0.02965205 0.03128475\n",
            " 0.03289372 0.03447931 0.03604186 0.03758169 0.03909915 0.04059456\n",
            " 0.04206824 0.0435205  0.04495165 0.04636201 0.04775187 0.04912153\n",
            " 0.05047129 0.05180143 0.05311224 0.05440401 0.055677   0.05693149\n",
            " 0.05816775 0.05938604 0.06058663 0.06176977 0.06293572 0.06408472\n",
            " 0.06521702 0.06633287 0.06743251 0.06851616 0.06958406 0.07063645\n",
            " 0.07167354 0.07269556 0.07370273 0.07469526 0.07567337 0.07663726\n",
            " 0.07758715 0.07852323 0.0794457  0.08035477 0.08125063 0.08213348\n",
            " 0.08300349 0.08386085 0.08470576 0.08553839 0.08635892 0.08716753\n",
            " 0.08796438 0.08874965 0.08952351 0.09028613 0.09103766 0.09177827\n",
            " 0.09250812 0.09322736 0.09393615 0.09463464 0.09532298 0.09600131\n",
            " 0.09666979 0.09732855 0.09797774 0.09861749 0.09924795 0.09986924\n",
            " 0.10048151 0.10108488 0.10167948 0.10226544 0.10284288 0.10341193\n",
            " 0.10397271 0.10452534 0.10506995 0.10560663 0.10613552 0.10665672\n",
            " 0.10717035 0.10767651 0.10817532 0.10866687]\n",
            "[0.         0.00206362 0.00409724 0.00610132 0.00807627 0.01002252\n",
            " 0.01194048 0.01383057 0.0156932  0.01752875 0.01933763 0.02112022\n",
            " 0.02287691 0.02460807 0.02631407 0.02799528 0.02965205 0.03128475\n",
            " 0.03289372 0.03447931 0.03604186 0.03758169 0.03909915 0.04059456\n",
            " 0.04206824 0.0435205  0.04495165 0.04636201 0.04775187 0.04912153\n",
            " 0.05047129 0.05180143 0.05311224 0.05440401 0.055677   0.05693149\n",
            " 0.05816775 0.05938604 0.06058663 0.06176977 0.06293572 0.06408472\n",
            " 0.06521702 0.06633287 0.06743251 0.06851616 0.06958406 0.07063645\n",
            " 0.07167354 0.07269556 0.07370273 0.07469526 0.07567337 0.07663726\n",
            " 0.07758715 0.07852323 0.0794457  0.08035477 0.08125063 0.08213348\n",
            " 0.08300349 0.08386085 0.08470576 0.08553839 0.08635892 0.08716753\n",
            " 0.08796438 0.08874965 0.08952351 0.09028613 0.09103766 0.09177827\n",
            " 0.09250812 0.09322736 0.09393615 0.09463464 0.09532298 0.09600131\n",
            " 0.09666979 0.09732855 0.09797774 0.09861749 0.09924795 0.09986924\n",
            " 0.10048151 0.10108488 0.10167948 0.10226544 0.10284288 0.10341193\n",
            " 0.10397271 0.10452534 0.10506995 0.10560663 0.10613552 0.10665672\n",
            " 0.10717035 0.10767651 0.10817532 0.10866687]\n",
            "[0.         0.00206362 0.00409724 0.00610132 0.00807627 0.01002252\n",
            " 0.01194048 0.01383057 0.0156932  0.01752875 0.01933763 0.02112022\n",
            " 0.02287691 0.02460807 0.02631407 0.02799528 0.02965205 0.03128475\n",
            " 0.03289372 0.03447931 0.03604186 0.03758169 0.03909915 0.04059456\n",
            " 0.04206824 0.0435205  0.04495165 0.04636201 0.04775187 0.04912153\n",
            " 0.05047129 0.05180143 0.05311224 0.05440401 0.055677   0.05693149\n",
            " 0.05816775 0.05938604 0.06058663 0.06176977 0.06293572 0.06408472\n",
            " 0.06521702 0.06633287 0.06743251 0.06851616 0.06958406 0.07063645\n",
            " 0.07167354 0.07269556 0.07370273 0.07469526 0.07567337 0.07663726\n",
            " 0.07758715 0.07852323 0.0794457  0.08035477 0.08125063 0.08213348\n",
            " 0.08300349 0.08386085 0.08470576 0.08553839 0.08635892 0.08716753\n",
            " 0.08796438 0.08874965 0.08952351 0.09028613 0.09103766 0.09177827\n",
            " 0.09250812 0.09322736 0.09393615 0.09463464 0.09532298 0.09600131\n",
            " 0.09666979 0.09732855 0.09797774 0.09861749 0.09924795 0.09986924\n",
            " 0.10048151 0.10108488 0.10167948 0.10226544 0.10284288 0.10341193\n",
            " 0.10397271 0.10452534 0.10506995 0.10560663 0.10613552 0.10665672\n",
            " 0.10717035 0.10767651 0.10817532 0.10866687]\n",
            "[0.         0.00206362 0.00409724 0.00610132 0.00807627 0.01002252\n",
            " 0.01194048 0.01383057 0.0156932  0.01752875 0.01933763 0.02112022\n",
            " 0.02287691 0.02460807 0.02631407 0.02799528 0.02965205 0.03128475\n",
            " 0.03289372 0.03447931 0.03604186 0.03758169 0.03909915 0.04059456\n",
            " 0.04206824 0.0435205  0.04495165 0.04636201 0.04775187 0.04912153\n",
            " 0.05047129 0.05180143 0.05311224 0.05440401 0.055677   0.05693149\n",
            " 0.05816775 0.05938604 0.06058663 0.06176977 0.06293572 0.06408472\n",
            " 0.06521702 0.06633287 0.06743251 0.06851616 0.06958406 0.07063645\n",
            " 0.07167354 0.07269556 0.07370273 0.07469526 0.07567337 0.07663726\n",
            " 0.07758715 0.07852323 0.0794457  0.08035477 0.08125063 0.08213348\n",
            " 0.08300349 0.08386085 0.08470576 0.08553839 0.08635892 0.08716753\n",
            " 0.08796438 0.08874965 0.08952351 0.09028613 0.09103766 0.09177827\n",
            " 0.09250812 0.09322736 0.09393615 0.09463464 0.09532298 0.09600131\n",
            " 0.09666979 0.09732855 0.09797774 0.09861749 0.09924795 0.09986924\n",
            " 0.10048151 0.10108488 0.10167948 0.10226544 0.10284288 0.10341193\n",
            " 0.10397271 0.10452534 0.10506995 0.10560663 0.10613552 0.10665672\n",
            " 0.10717035 0.10767651 0.10817532 0.10866687]\n",
            "[0.         0.00206362 0.00409724 0.00610132 0.00807627 0.01002252\n",
            " 0.01194048 0.01383057 0.0156932  0.01752875 0.01933763 0.02112022\n",
            " 0.02287691 0.02460807 0.02631407 0.02799528 0.02965205 0.03128475\n",
            " 0.03289372 0.03447931 0.03604186 0.03758169 0.03909915 0.04059456\n",
            " 0.04206824 0.0435205  0.04495165 0.04636201 0.04775187 0.04912153\n",
            " 0.05047129 0.05180143 0.05311224 0.05440401 0.055677   0.05693149\n",
            " 0.05816775 0.05938604 0.06058663 0.06176977 0.06293572 0.06408472\n",
            " 0.06521702 0.06633287 0.06743251 0.06851616 0.06958406 0.07063645\n",
            " 0.07167354 0.07269556 0.07370273 0.07469526 0.07567337 0.07663726\n",
            " 0.07758715 0.07852323 0.0794457  0.08035477 0.08125063 0.08213348\n",
            " 0.08300349 0.08386085 0.08470576 0.08553839 0.08635892 0.08716753\n",
            " 0.08796438 0.08874965 0.08952351 0.09028613 0.09103766 0.09177827\n",
            " 0.09250812 0.09322736 0.09393615 0.09463464 0.09532298 0.09600131\n",
            " 0.09666979 0.09732855 0.09797774 0.09861749 0.09924795 0.09986924\n",
            " 0.10048151 0.10108488 0.10167948 0.10226544 0.10284288 0.10341193\n",
            " 0.10397271 0.10452534 0.10506995 0.10560663 0.10613552 0.10665672\n",
            " 0.10717035 0.10767651 0.10817532 0.10866687]\n",
            "[0.         0.00206362 0.00409724 0.00610132 0.00807627 0.01002252\n",
            " 0.01194048 0.01383057 0.0156932  0.01752875 0.01933763 0.02112022\n",
            " 0.02287691 0.02460807 0.02631407 0.02799528 0.02965205 0.03128475\n",
            " 0.03289372 0.03447931 0.03604186 0.03758169 0.03909915 0.04059456\n",
            " 0.04206824 0.0435205  0.04495165 0.04636201 0.04775187 0.04912153\n",
            " 0.05047129 0.05180143 0.05311224 0.05440401 0.055677   0.05693149\n",
            " 0.05816775 0.05938604 0.06058663 0.06176977 0.06293572 0.06408472\n",
            " 0.06521702 0.06633287 0.06743251 0.06851616 0.06958406 0.07063645\n",
            " 0.07167354 0.07269556 0.07370273 0.07469526 0.07567337 0.07663726\n",
            " 0.07758715 0.07852323 0.0794457  0.08035477 0.08125063 0.08213348\n",
            " 0.08300349 0.08386085 0.08470576 0.08553839 0.08635892 0.08716753\n",
            " 0.08796438 0.08874965 0.08952351 0.09028613 0.09103766 0.09177827\n",
            " 0.09250812 0.09322736 0.09393615 0.09463464 0.09532298 0.09600131\n",
            " 0.09666979 0.09732855 0.09797774 0.09861749 0.09924795 0.09986924\n",
            " 0.10048151 0.10108488 0.10167948 0.10226544 0.10284288 0.10341193\n",
            " 0.10397271 0.10452534 0.10506995 0.10560663 0.10613552 0.10665672\n",
            " 0.10717035 0.10767651 0.10817532 0.10866687]\n",
            "[0.         0.00206362 0.00409724 0.00610132 0.00807627 0.01002252\n",
            " 0.01194048 0.01383057 0.0156932  0.01752875 0.01933763 0.02112022\n",
            " 0.02287691 0.02460807 0.02631407 0.02799528 0.02965205 0.03128475\n",
            " 0.03289372 0.03447931 0.03604186 0.03758169 0.03909915 0.04059456\n",
            " 0.04206824 0.0435205  0.04495165 0.04636201 0.04775187 0.04912153\n",
            " 0.05047129 0.05180143 0.05311224 0.05440401 0.055677   0.05693149\n",
            " 0.05816775 0.05938604 0.06058663 0.06176977 0.06293572 0.06408472\n",
            " 0.06521702 0.06633287 0.06743251 0.06851616 0.06958406 0.07063645\n",
            " 0.07167354 0.07269556 0.07370273 0.07469526 0.07567337 0.07663726\n",
            " 0.07758715 0.07852323 0.0794457  0.08035477 0.08125063 0.08213348\n",
            " 0.08300349 0.08386085 0.08470576 0.08553839 0.08635892 0.08716753\n",
            " 0.08796438 0.08874965 0.08952351 0.09028613 0.09103766 0.09177827\n",
            " 0.09250812 0.09322736 0.09393615 0.09463464 0.09532298 0.09600131\n",
            " 0.09666979 0.09732855 0.09797774 0.09861749 0.09924795 0.09986924\n",
            " 0.10048151 0.10108488 0.10167948 0.10226544 0.10284288 0.10341193\n",
            " 0.10397271 0.10452534 0.10506995 0.10560663 0.10613552 0.10665672\n",
            " 0.10717035 0.10767651 0.10817532 0.10866687]\n",
            "[0.         0.00206362 0.00409724 0.00610132 0.00807627 0.01002252\n",
            " 0.01194048 0.01383057 0.0156932  0.01752875 0.01933763 0.02112022\n",
            " 0.02287691 0.02460807 0.02631407 0.02799528 0.02965205 0.03128475\n",
            " 0.03289372 0.03447931 0.03604186 0.03758169 0.03909915 0.04059456\n",
            " 0.04206824 0.0435205  0.04495165 0.04636201 0.04775187 0.04912153\n",
            " 0.05047129 0.05180143 0.05311224 0.05440401 0.055677   0.05693149\n",
            " 0.05816775 0.05938604 0.06058663 0.06176977 0.06293572 0.06408472\n",
            " 0.06521702 0.06633287 0.06743251 0.06851616 0.06958406 0.07063645\n",
            " 0.07167354 0.07269556 0.07370273 0.07469526 0.07567337 0.07663726\n",
            " 0.07758715 0.07852323 0.0794457  0.08035477 0.08125063 0.08213348\n",
            " 0.08300349 0.08386085 0.08470576 0.08553839 0.08635892 0.08716753\n",
            " 0.08796438 0.08874965 0.08952351 0.09028613 0.09103766 0.09177827\n",
            " 0.09250812 0.09322736 0.09393615 0.09463464 0.09532298 0.09600131\n",
            " 0.09666979 0.09732855 0.09797774 0.09861749 0.09924795 0.09986924\n",
            " 0.10048151 0.10108488 0.10167948 0.10226544 0.10284288 0.10341193\n",
            " 0.10397271 0.10452534 0.10506995 0.10560663 0.10613552 0.10665672\n",
            " 0.10717035 0.10767651 0.10817532 0.10866687]\n",
            "[0.         0.00206362 0.00409724 0.00610132 0.00807627 0.01002252\n",
            " 0.01194048 0.01383057 0.0156932  0.01752875 0.01933763 0.02112022\n",
            " 0.02287691 0.02460807 0.02631407 0.02799528 0.02965205 0.03128475\n",
            " 0.03289372 0.03447931 0.03604186 0.03758169 0.03909915 0.04059456\n",
            " 0.04206824 0.0435205  0.04495165 0.04636201 0.04775187 0.04912153\n",
            " 0.05047129 0.05180143 0.05311224 0.05440401 0.055677   0.05693149\n",
            " 0.05816775 0.05938604 0.06058663 0.06176977 0.06293572 0.06408472\n",
            " 0.06521702 0.06633287 0.06743251 0.06851616 0.06958406 0.07063645\n",
            " 0.07167354 0.07269556 0.07370273 0.07469526 0.07567337 0.07663726\n",
            " 0.07758715 0.07852323 0.0794457  0.08035477 0.08125063 0.08213348\n",
            " 0.08300349 0.08386085 0.08470576 0.08553839 0.08635892 0.08716753\n",
            " 0.08796438 0.08874965 0.08952351 0.09028613 0.09103766 0.09177827\n",
            " 0.09250812 0.09322736 0.09393615 0.09463464 0.09532298 0.09600131\n",
            " 0.09666979 0.09732855 0.09797774 0.09861749 0.09924795 0.09986924\n",
            " 0.10048151 0.10108488 0.10167948 0.10226544 0.10284288 0.10341193\n",
            " 0.10397271 0.10452534 0.10506995 0.10560663 0.10613552 0.10665672\n",
            " 0.10717035 0.10767651 0.10817532 0.10866687]\n",
            "[0.         0.00206362 0.00409724 0.00610132 0.00807627 0.01002252\n",
            " 0.01194048 0.01383057 0.0156932  0.01752875 0.01933763 0.02112022\n",
            " 0.02287691 0.02460807 0.02631407 0.02799528 0.02965205 0.03128475\n",
            " 0.03289372 0.03447931 0.03604186 0.03758169 0.03909915 0.04059456\n",
            " 0.04206824 0.0435205  0.04495165 0.04636201 0.04775187 0.04912153\n",
            " 0.05047129 0.05180143 0.05311224 0.05440401 0.055677   0.05693149\n",
            " 0.05816775 0.05938604 0.06058663 0.06176977 0.06293572 0.06408472\n",
            " 0.06521702 0.06633287 0.06743251 0.06851616 0.06958406 0.07063645\n",
            " 0.07167354 0.07269556 0.07370273 0.07469526 0.07567337 0.07663726\n",
            " 0.07758715 0.07852323 0.0794457  0.08035477 0.08125063 0.08213348\n",
            " 0.08300349 0.08386085 0.08470576 0.08553839 0.08635892 0.08716753\n",
            " 0.08796438 0.08874965 0.08952351 0.09028613 0.09103766 0.09177827\n",
            " 0.09250812 0.09322736 0.09393615 0.09463464 0.09532298 0.09600131\n",
            " 0.09666979 0.09732855 0.09797774 0.09861749 0.09924795 0.09986924\n",
            " 0.10048151 0.10108488 0.10167948 0.10226544 0.10284288 0.10341193\n",
            " 0.10397271 0.10452534 0.10506995 0.10560663 0.10613552 0.10665672\n",
            " 0.10717035 0.10767651 0.10817532 0.10866687]\n",
            "[0.         0.00206362 0.00409724 0.00610132 0.00807627 0.01002252\n",
            " 0.01194048 0.01383057 0.0156932  0.01752875 0.01933763 0.02112022\n",
            " 0.02287691 0.02460807 0.02631407 0.02799528 0.02965205 0.03128475\n",
            " 0.03289372 0.03447931 0.03604186 0.03758169 0.03909915 0.04059456\n",
            " 0.04206824 0.0435205  0.04495165 0.04636201 0.04775187 0.04912153\n",
            " 0.05047129 0.05180143 0.05311224 0.05440401 0.055677   0.05693149\n",
            " 0.05816775 0.05938604 0.06058663 0.06176977 0.06293572 0.06408472\n",
            " 0.06521702 0.06633287 0.06743251 0.06851616 0.06958406 0.07063645\n",
            " 0.07167354 0.07269556 0.07370273 0.07469526 0.07567337 0.07663726\n",
            " 0.07758715 0.07852323 0.0794457  0.08035477 0.08125063 0.08213348\n",
            " 0.08300349 0.08386085 0.08470576 0.08553839 0.08635892 0.08716753\n",
            " 0.08796438 0.08874965 0.08952351 0.09028613 0.09103766 0.09177827\n",
            " 0.09250812 0.09322736 0.09393615 0.09463464 0.09532298 0.09600131\n",
            " 0.09666979 0.09732855 0.09797774 0.09861749 0.09924795 0.09986924\n",
            " 0.10048151 0.10108488 0.10167948 0.10226544 0.10284288 0.10341193\n",
            " 0.10397271 0.10452534 0.10506995 0.10560663 0.10613552 0.10665672\n",
            " 0.10717035 0.10767651 0.10817532 0.10866687]\n",
            "[0.         0.00206362 0.00409724 0.00610132 0.00807627 0.01002252\n",
            " 0.01194048 0.01383057 0.0156932  0.01752875 0.01933763 0.02112022\n",
            " 0.02287691 0.02460807 0.02631407 0.02799528 0.02965205 0.03128475\n",
            " 0.03289372 0.03447931 0.03604186 0.03758169 0.03909915 0.04059456\n",
            " 0.04206824 0.0435205  0.04495165 0.04636201 0.04775187 0.04912153\n",
            " 0.05047129 0.05180143 0.05311224 0.05440401 0.055677   0.05693149\n",
            " 0.05816775 0.05938604 0.06058663 0.06176977 0.06293572 0.06408472\n",
            " 0.06521702 0.06633287 0.06743251 0.06851616 0.06958406 0.07063645\n",
            " 0.07167354 0.07269556 0.07370273 0.07469526 0.07567337 0.07663726\n",
            " 0.07758715 0.07852323 0.0794457  0.08035477 0.08125063 0.08213348\n",
            " 0.08300349 0.08386085 0.08470576 0.08553839 0.08635892 0.08716753\n",
            " 0.08796438 0.08874965 0.08952351 0.09028613 0.09103766 0.09177827\n",
            " 0.09250812 0.09322736 0.09393615 0.09463464 0.09532298 0.09600131\n",
            " 0.09666979 0.09732855 0.09797774 0.09861749 0.09924795 0.09986924\n",
            " 0.10048151 0.10108488 0.10167948 0.10226544 0.10284288 0.10341193\n",
            " 0.10397271 0.10452534 0.10506995 0.10560663 0.10613552 0.10665672\n",
            " 0.10717035 0.10767651 0.10817532 0.10866687]\n",
            "[0.         0.00206362 0.00409724 0.00610132 0.00807627 0.01002252\n",
            " 0.01194048 0.01383057 0.0156932  0.01752875 0.01933763 0.02112022\n",
            " 0.02287691 0.02460807 0.02631407 0.02799528 0.02965205 0.03128475\n",
            " 0.03289372 0.03447931 0.03604186 0.03758169 0.03909915 0.04059456\n",
            " 0.04206824 0.0435205  0.04495165 0.04636201 0.04775187 0.04912153\n",
            " 0.05047129 0.05180143 0.05311224 0.05440401 0.055677   0.05693149\n",
            " 0.05816775 0.05938604 0.06058663 0.06176977 0.06293572 0.06408472\n",
            " 0.06521702 0.06633287 0.06743251 0.06851616 0.06958406 0.07063645\n",
            " 0.07167354 0.07269556 0.07370273 0.07469526 0.07567337 0.07663726\n",
            " 0.07758715 0.07852323 0.0794457  0.08035477 0.08125063 0.08213348\n",
            " 0.08300349 0.08386085 0.08470576 0.08553839 0.08635892 0.08716753\n",
            " 0.08796438 0.08874965 0.08952351 0.09028613 0.09103766 0.09177827\n",
            " 0.09250812 0.09322736 0.09393615 0.09463464 0.09532298 0.09600131\n",
            " 0.09666979 0.09732855 0.09797774 0.09861749 0.09924795 0.09986924\n",
            " 0.10048151 0.10108488 0.10167948 0.10226544 0.10284288 0.10341193\n",
            " 0.10397271 0.10452534 0.10506995 0.10560663 0.10613552 0.10665672\n",
            " 0.10717035 0.10767651 0.10817532 0.10866687]\n",
            "[0.         0.00206362 0.00409724 0.00610132 0.00807627 0.01002252\n",
            " 0.01194048 0.01383057 0.0156932  0.01752875 0.01933763 0.02112022\n",
            " 0.02287691 0.02460807 0.02631407 0.02799528 0.02965205 0.03128475\n",
            " 0.03289372 0.03447931 0.03604186 0.03758169 0.03909915 0.04059456\n",
            " 0.04206824 0.0435205  0.04495165 0.04636201 0.04775187 0.04912153\n",
            " 0.05047129 0.05180143 0.05311224 0.05440401 0.055677   0.05693149\n",
            " 0.05816775 0.05938604 0.06058663 0.06176977 0.06293572 0.06408472\n",
            " 0.06521702 0.06633287 0.06743251 0.06851616 0.06958406 0.07063645\n",
            " 0.07167354 0.07269556 0.07370273 0.07469526 0.07567337 0.07663726\n",
            " 0.07758715 0.07852323 0.0794457  0.08035477 0.08125063 0.08213348\n",
            " 0.08300349 0.08386085 0.08470576 0.08553839 0.08635892 0.08716753\n",
            " 0.08796438 0.08874965 0.08952351 0.09028613 0.09103766 0.09177827\n",
            " 0.09250812 0.09322736 0.09393615 0.09463464 0.09532298 0.09600131\n",
            " 0.09666979 0.09732855 0.09797774 0.09861749 0.09924795 0.09986924\n",
            " 0.10048151 0.10108488 0.10167948 0.10226544 0.10284288 0.10341193\n",
            " 0.10397271 0.10452534 0.10506995 0.10560663 0.10613552 0.10665672\n",
            " 0.10717035 0.10767651 0.10817532 0.10866687]\n",
            "[0.         0.00206362 0.00409724 0.00610132 0.00807627 0.01002252\n",
            " 0.01194048 0.01383057 0.0156932  0.01752875 0.01933763 0.02112022\n",
            " 0.02287691 0.02460807 0.02631407 0.02799528 0.02965205 0.03128475\n",
            " 0.03289372 0.03447931 0.03604186 0.03758169 0.03909915 0.04059456\n",
            " 0.04206824 0.0435205  0.04495165 0.04636201 0.04775187 0.04912153\n",
            " 0.05047129 0.05180143 0.05311224 0.05440401 0.055677   0.05693149\n",
            " 0.05816775 0.05938604 0.06058663 0.06176977 0.06293572 0.06408472\n",
            " 0.06521702 0.06633287 0.06743251 0.06851616 0.06958406 0.07063645\n",
            " 0.07167354 0.07269556 0.07370273 0.07469526 0.07567337 0.07663726\n",
            " 0.07758715 0.07852323 0.0794457  0.08035477 0.08125063 0.08213348\n",
            " 0.08300349 0.08386085 0.08470576 0.08553839 0.08635892 0.08716753\n",
            " 0.08796438 0.08874965 0.08952351 0.09028613 0.09103766 0.09177827\n",
            " 0.09250812 0.09322736 0.09393615 0.09463464 0.09532298 0.09600131\n",
            " 0.09666979 0.09732855 0.09797774 0.09861749 0.09924795 0.09986924\n",
            " 0.10048151 0.10108488 0.10167948 0.10226544 0.10284288 0.10341193\n",
            " 0.10397271 0.10452534 0.10506995 0.10560663 0.10613552 0.10665672\n",
            " 0.10717035 0.10767651 0.10817532 0.10866687]\n",
            "[0.         0.00206362 0.00409724 0.00610132 0.00807627 0.01002252\n",
            " 0.01194048 0.01383057 0.0156932  0.01752875 0.01933763 0.02112022\n",
            " 0.02287691 0.02460807 0.02631407 0.02799528 0.02965205 0.03128475\n",
            " 0.03289372 0.03447931 0.03604186 0.03758169 0.03909915 0.04059456\n",
            " 0.04206824 0.0435205  0.04495165 0.04636201 0.04775187 0.04912153\n",
            " 0.05047129 0.05180143 0.05311224 0.05440401 0.055677   0.05693149\n",
            " 0.05816775 0.05938604 0.06058663 0.06176977 0.06293572 0.06408472\n",
            " 0.06521702 0.06633287 0.06743251 0.06851616 0.06958406 0.07063645\n",
            " 0.07167354 0.07269556 0.07370273 0.07469526 0.07567337 0.07663726\n",
            " 0.07758715 0.07852323 0.0794457  0.08035477 0.08125063 0.08213348\n",
            " 0.08300349 0.08386085 0.08470576 0.08553839 0.08635892 0.08716753\n",
            " 0.08796438 0.08874965 0.08952351 0.09028613 0.09103766 0.09177827\n",
            " 0.09250812 0.09322736 0.09393615 0.09463464 0.09532298 0.09600131\n",
            " 0.09666979 0.09732855 0.09797774 0.09861749 0.09924795 0.09986924\n",
            " 0.10048151 0.10108488 0.10167948 0.10226544 0.10284288 0.10341193\n",
            " 0.10397271 0.10452534 0.10506995 0.10560663 0.10613552 0.10665672\n",
            " 0.10717035 0.10767651 0.10817532 0.10866687]\n",
            "[0.         0.00206362 0.00409724 0.00610132 0.00807627 0.01002252\n",
            " 0.01194048 0.01383057 0.0156932  0.01752875 0.01933763 0.02112022\n",
            " 0.02287691 0.02460807 0.02631407 0.02799528 0.02965205 0.03128475\n",
            " 0.03289372 0.03447931 0.03604186 0.03758169 0.03909915 0.04059456\n",
            " 0.04206824 0.0435205  0.04495165 0.04636201 0.04775187 0.04912153\n",
            " 0.05047129 0.05180143 0.05311224 0.05440401 0.055677   0.05693149\n",
            " 0.05816775 0.05938604 0.06058663 0.06176977 0.06293572 0.06408472\n",
            " 0.06521702 0.06633287 0.06743251 0.06851616 0.06958406 0.07063645\n",
            " 0.07167354 0.07269556 0.07370273 0.07469526 0.07567337 0.07663726\n",
            " 0.07758715 0.07852323 0.0794457  0.08035477 0.08125063 0.08213348\n",
            " 0.08300349 0.08386085 0.08470576 0.08553839 0.08635892 0.08716753\n",
            " 0.08796438 0.08874965 0.08952351 0.09028613 0.09103766 0.09177827\n",
            " 0.09250812 0.09322736 0.09393615 0.09463464 0.09532298 0.09600131\n",
            " 0.09666979 0.09732855 0.09797774 0.09861749 0.09924795 0.09986924\n",
            " 0.10048151 0.10108488 0.10167948 0.10226544 0.10284288 0.10341193\n",
            " 0.10397271 0.10452534 0.10506995 0.10560663 0.10613552 0.10665672\n",
            " 0.10717035 0.10767651 0.10817532 0.10866687]\n",
            "[0.         0.00206362 0.00409724 0.00610132 0.00807627 0.01002252\n",
            " 0.01194048 0.01383057 0.0156932  0.01752875 0.01933763 0.02112022\n",
            " 0.02287691 0.02460807 0.02631407 0.02799528 0.02965205 0.03128475\n",
            " 0.03289372 0.03447931 0.03604186 0.03758169 0.03909915 0.04059456\n",
            " 0.04206824 0.0435205  0.04495165 0.04636201 0.04775187 0.04912153\n",
            " 0.05047129 0.05180143 0.05311224 0.05440401 0.055677   0.05693149\n",
            " 0.05816775 0.05938604 0.06058663 0.06176977 0.06293572 0.06408472\n",
            " 0.06521702 0.06633287 0.06743251 0.06851616 0.06958406 0.07063645\n",
            " 0.07167354 0.07269556 0.07370273 0.07469526 0.07567337 0.07663726\n",
            " 0.07758715 0.07852323 0.0794457  0.08035477 0.08125063 0.08213348\n",
            " 0.08300349 0.08386085 0.08470576 0.08553839 0.08635892 0.08716753\n",
            " 0.08796438 0.08874965 0.08952351 0.09028613 0.09103766 0.09177827\n",
            " 0.09250812 0.09322736 0.09393615 0.09463464 0.09532298 0.09600131\n",
            " 0.09666979 0.09732855 0.09797774 0.09861749 0.09924795 0.09986924\n",
            " 0.10048151 0.10108488 0.10167948 0.10226544 0.10284288 0.10341193\n",
            " 0.10397271 0.10452534 0.10506995 0.10560663 0.10613552 0.10665672\n",
            " 0.10717035 0.10767651 0.10817532 0.10866687]\n",
            "[0.         0.00206362 0.00409724 0.00610132 0.00807627 0.01002252\n",
            " 0.01194048 0.01383057 0.0156932  0.01752875 0.01933763 0.02112022\n",
            " 0.02287691 0.02460807 0.02631407 0.02799528 0.02965205 0.03128475\n",
            " 0.03289372 0.03447931 0.03604186 0.03758169 0.03909915 0.04059456\n",
            " 0.04206824 0.0435205  0.04495165 0.04636201 0.04775187 0.04912153\n",
            " 0.05047129 0.05180143 0.05311224 0.05440401 0.055677   0.05693149\n",
            " 0.05816775 0.05938604 0.06058663 0.06176977 0.06293572 0.06408472\n",
            " 0.06521702 0.06633287 0.06743251 0.06851616 0.06958406 0.07063645\n",
            " 0.07167354 0.07269556 0.07370273 0.07469526 0.07567337 0.07663726\n",
            " 0.07758715 0.07852323 0.0794457  0.08035477 0.08125063 0.08213348\n",
            " 0.08300349 0.08386085 0.08470576 0.08553839 0.08635892 0.08716753\n",
            " 0.08796438 0.08874965 0.08952351 0.09028613 0.09103766 0.09177827\n",
            " 0.09250812 0.09322736 0.09393615 0.09463464 0.09532298 0.09600131\n",
            " 0.09666979 0.09732855 0.09797774 0.09861749 0.09924795 0.09986924\n",
            " 0.10048151 0.10108488 0.10167948 0.10226544 0.10284288 0.10341193\n",
            " 0.10397271 0.10452534 0.10506995 0.10560663 0.10613552 0.10665672\n",
            " 0.10717035 0.10767651 0.10817532 0.10866687]\n",
            "[0.         0.00206362 0.00409724 0.00610132 0.00807627 0.01002252\n",
            " 0.01194048 0.01383057 0.0156932  0.01752875 0.01933763 0.02112022\n",
            " 0.02287691 0.02460807 0.02631407 0.02799528 0.02965205 0.03128475\n",
            " 0.03289372 0.03447931 0.03604186 0.03758169 0.03909915 0.04059456\n",
            " 0.04206824 0.0435205  0.04495165 0.04636201 0.04775187 0.04912153\n",
            " 0.05047129 0.05180143 0.05311224 0.05440401 0.055677   0.05693149\n",
            " 0.05816775 0.05938604 0.06058663 0.06176977 0.06293572 0.06408472\n",
            " 0.06521702 0.06633287 0.06743251 0.06851616 0.06958406 0.07063645\n",
            " 0.07167354 0.07269556 0.07370273 0.07469526 0.07567337 0.07663726\n",
            " 0.07758715 0.07852323 0.0794457  0.08035477 0.08125063 0.08213348\n",
            " 0.08300349 0.08386085 0.08470576 0.08553839 0.08635892 0.08716753\n",
            " 0.08796438 0.08874965 0.08952351 0.09028613 0.09103766 0.09177827\n",
            " 0.09250812 0.09322736 0.09393615 0.09463464 0.09532298 0.09600131\n",
            " 0.09666979 0.09732855 0.09797774 0.09861749 0.09924795 0.09986924\n",
            " 0.10048151 0.10108488 0.10167948 0.10226544 0.10284288 0.10341193\n",
            " 0.10397271 0.10452534 0.10506995 0.10560663 0.10613552 0.10665672\n",
            " 0.10717035 0.10767651 0.10817532 0.10866687]\n",
            "[0.         0.00206362 0.00409724 0.00610132 0.00807627 0.01002252\n",
            " 0.01194048 0.01383057 0.0156932  0.01752875 0.01933763 0.02112022\n",
            " 0.02287691 0.02460807 0.02631407 0.02799528 0.02965205 0.03128475\n",
            " 0.03289372 0.03447931 0.03604186 0.03758169 0.03909915 0.04059456\n",
            " 0.04206824 0.0435205  0.04495165 0.04636201 0.04775187 0.04912153\n",
            " 0.05047129 0.05180143 0.05311224 0.05440401 0.055677   0.05693149\n",
            " 0.05816775 0.05938604 0.06058663 0.06176977 0.06293572 0.06408472\n",
            " 0.06521702 0.06633287 0.06743251 0.06851616 0.06958406 0.07063645\n",
            " 0.07167354 0.07269556 0.07370273 0.07469526 0.07567337 0.07663726\n",
            " 0.07758715 0.07852323 0.0794457  0.08035477 0.08125063 0.08213348\n",
            " 0.08300349 0.08386085 0.08470576 0.08553839 0.08635892 0.08716753\n",
            " 0.08796438 0.08874965 0.08952351 0.09028613 0.09103766 0.09177827\n",
            " 0.09250812 0.09322736 0.09393615 0.09463464 0.09532298 0.09600131\n",
            " 0.09666979 0.09732855 0.09797774 0.09861749 0.09924795 0.09986924\n",
            " 0.10048151 0.10108488 0.10167948 0.10226544 0.10284288 0.10341193\n",
            " 0.10397271 0.10452534 0.10506995 0.10560663 0.10613552 0.10665672\n",
            " 0.10717035 0.10767651 0.10817532 0.10866687]\n",
            "[0.         0.00206362 0.00409724 0.00610132 0.00807627 0.01002252\n",
            " 0.01194048 0.01383057 0.0156932  0.01752875 0.01933763 0.02112022\n",
            " 0.02287691 0.02460807 0.02631407 0.02799528 0.02965205 0.03128475\n",
            " 0.03289372 0.03447931 0.03604186 0.03758169 0.03909915 0.04059456\n",
            " 0.04206824 0.0435205  0.04495165 0.04636201 0.04775187 0.04912153\n",
            " 0.05047129 0.05180143 0.05311224 0.05440401 0.055677   0.05693149\n",
            " 0.05816775 0.05938604 0.06058663 0.06176977 0.06293572 0.06408472\n",
            " 0.06521702 0.06633287 0.06743251 0.06851616 0.06958406 0.07063645\n",
            " 0.07167354 0.07269556 0.07370273 0.07469526 0.07567337 0.07663726\n",
            " 0.07758715 0.07852323 0.0794457  0.08035477 0.08125063 0.08213348\n",
            " 0.08300349 0.08386085 0.08470576 0.08553839 0.08635892 0.08716753\n",
            " 0.08796438 0.08874965 0.08952351 0.09028613 0.09103766 0.09177827\n",
            " 0.09250812 0.09322736 0.09393615 0.09463464 0.09532298 0.09600131\n",
            " 0.09666979 0.09732855 0.09797774 0.09861749 0.09924795 0.09986924\n",
            " 0.10048151 0.10108488 0.10167948 0.10226544 0.10284288 0.10341193\n",
            " 0.10397271 0.10452534 0.10506995 0.10560663 0.10613552 0.10665672\n",
            " 0.10717035 0.10767651 0.10817532 0.10866687]\n",
            "[0.         0.00206362 0.00409724 0.00610132 0.00807627 0.01002252\n",
            " 0.01194048 0.01383057 0.0156932  0.01752875 0.01933763 0.02112022\n",
            " 0.02287691 0.02460807 0.02631407 0.02799528 0.02965205 0.03128475\n",
            " 0.03289372 0.03447931 0.03604186 0.03758169 0.03909915 0.04059456\n",
            " 0.04206824 0.0435205  0.04495165 0.04636201 0.04775187 0.04912153\n",
            " 0.05047129 0.05180143 0.05311224 0.05440401 0.055677   0.05693149\n",
            " 0.05816775 0.05938604 0.06058663 0.06176977 0.06293572 0.06408472\n",
            " 0.06521702 0.06633287 0.06743251 0.06851616 0.06958406 0.07063645\n",
            " 0.07167354 0.07269556 0.07370273 0.07469526 0.07567337 0.07663726\n",
            " 0.07758715 0.07852323 0.0794457  0.08035477 0.08125063 0.08213348\n",
            " 0.08300349 0.08386085 0.08470576 0.08553839 0.08635892 0.08716753\n",
            " 0.08796438 0.08874965 0.08952351 0.09028613 0.09103766 0.09177827\n",
            " 0.09250812 0.09322736 0.09393615 0.09463464 0.09532298 0.09600131\n",
            " 0.09666979 0.09732855 0.09797774 0.09861749 0.09924795 0.09986924\n",
            " 0.10048151 0.10108488 0.10167948 0.10226544 0.10284288 0.10341193\n",
            " 0.10397271 0.10452534 0.10506995 0.10560663 0.10613552 0.10665672\n",
            " 0.10717035 0.10767651 0.10817532 0.10866687]\n",
            "[0.         0.00206362 0.00409724 0.00610132 0.00807627 0.01002252\n",
            " 0.01194048 0.01383057 0.0156932  0.01752875 0.01933763 0.02112022\n",
            " 0.02287691 0.02460807 0.02631407 0.02799528 0.02965205 0.03128475\n",
            " 0.03289372 0.03447931 0.03604186 0.03758169 0.03909915 0.04059456\n",
            " 0.04206824 0.0435205  0.04495165 0.04636201 0.04775187 0.04912153\n",
            " 0.05047129 0.05180143 0.05311224 0.05440401 0.055677   0.05693149\n",
            " 0.05816775 0.05938604 0.06058663 0.06176977 0.06293572 0.06408472\n",
            " 0.06521702 0.06633287 0.06743251 0.06851616 0.06958406 0.07063645\n",
            " 0.07167354 0.07269556 0.07370273 0.07469526 0.07567337 0.07663726\n",
            " 0.07758715 0.07852323 0.0794457  0.08035477 0.08125063 0.08213348\n",
            " 0.08300349 0.08386085 0.08470576 0.08553839 0.08635892 0.08716753\n",
            " 0.08796438 0.08874965 0.08952351 0.09028613 0.09103766 0.09177827\n",
            " 0.09250812 0.09322736 0.09393615 0.09463464 0.09532298 0.09600131\n",
            " 0.09666979 0.09732855 0.09797774 0.09861749 0.09924795 0.09986924\n",
            " 0.10048151 0.10108488 0.10167948 0.10226544 0.10284288 0.10341193\n",
            " 0.10397271 0.10452534 0.10506995 0.10560663 0.10613552 0.10665672\n",
            " 0.10717035 0.10767651 0.10817532 0.10866687]\n",
            "[0.         0.00206362 0.00409724 0.00610132 0.00807627 0.01002252\n",
            " 0.01194048 0.01383057 0.0156932  0.01752875 0.01933763 0.02112022\n",
            " 0.02287691 0.02460807 0.02631407 0.02799528 0.02965205 0.03128475\n",
            " 0.03289372 0.03447931 0.03604186 0.03758169 0.03909915 0.04059456\n",
            " 0.04206824 0.0435205  0.04495165 0.04636201 0.04775187 0.04912153\n",
            " 0.05047129 0.05180143 0.05311224 0.05440401 0.055677   0.05693149\n",
            " 0.05816775 0.05938604 0.06058663 0.06176977 0.06293572 0.06408472\n",
            " 0.06521702 0.06633287 0.06743251 0.06851616 0.06958406 0.07063645\n",
            " 0.07167354 0.07269556 0.07370273 0.07469526 0.07567337 0.07663726\n",
            " 0.07758715 0.07852323 0.0794457  0.08035477 0.08125063 0.08213348\n",
            " 0.08300349 0.08386085 0.08470576 0.08553839 0.08635892 0.08716753\n",
            " 0.08796438 0.08874965 0.08952351 0.09028613 0.09103766 0.09177827\n",
            " 0.09250812 0.09322736 0.09393615 0.09463464 0.09532298 0.09600131\n",
            " 0.09666979 0.09732855 0.09797774 0.09861749 0.09924795 0.09986924\n",
            " 0.10048151 0.10108488 0.10167948 0.10226544 0.10284288 0.10341193\n",
            " 0.10397271 0.10452534 0.10506995 0.10560663 0.10613552 0.10665672\n",
            " 0.10717035 0.10767651 0.10817532 0.10866687]\n",
            "[0.         0.00206362 0.00409724 0.00610132 0.00807627 0.01002252\n",
            " 0.01194048 0.01383057 0.0156932  0.01752875 0.01933763 0.02112022\n",
            " 0.02287691 0.02460807 0.02631407 0.02799528 0.02965205 0.03128475\n",
            " 0.03289372 0.03447931 0.03604186 0.03758169 0.03909915 0.04059456\n",
            " 0.04206824 0.0435205  0.04495165 0.04636201 0.04775187 0.04912153\n",
            " 0.05047129 0.05180143 0.05311224 0.05440401 0.055677   0.05693149\n",
            " 0.05816775 0.05938604 0.06058663 0.06176977 0.06293572 0.06408472\n",
            " 0.06521702 0.06633287 0.06743251 0.06851616 0.06958406 0.07063645\n",
            " 0.07167354 0.07269556 0.07370273 0.07469526 0.07567337 0.07663726\n",
            " 0.07758715 0.07852323 0.0794457  0.08035477 0.08125063 0.08213348\n",
            " 0.08300349 0.08386085 0.08470576 0.08553839 0.08635892 0.08716753\n",
            " 0.08796438 0.08874965 0.08952351 0.09028613 0.09103766 0.09177827\n",
            " 0.09250812 0.09322736 0.09393615 0.09463464 0.09532298 0.09600131\n",
            " 0.09666979 0.09732855 0.09797774 0.09861749 0.09924795 0.09986924\n",
            " 0.10048151 0.10108488 0.10167948 0.10226544 0.10284288 0.10341193\n",
            " 0.10397271 0.10452534 0.10506995 0.10560663 0.10613552 0.10665672\n",
            " 0.10717035 0.10767651 0.10817532 0.10866687]\n",
            "[0.         0.00206362 0.00409724 0.00610132 0.00807627 0.01002252\n",
            " 0.01194048 0.01383057 0.0156932  0.01752875 0.01933763 0.02112022\n",
            " 0.02287691 0.02460807 0.02631407 0.02799528 0.02965205 0.03128475\n",
            " 0.03289372 0.03447931 0.03604186 0.03758169 0.03909915 0.04059456\n",
            " 0.04206824 0.0435205  0.04495165 0.04636201 0.04775187 0.04912153\n",
            " 0.05047129 0.05180143 0.05311224 0.05440401 0.055677   0.05693149\n",
            " 0.05816775 0.05938604 0.06058663 0.06176977 0.06293572 0.06408472\n",
            " 0.06521702 0.06633287 0.06743251 0.06851616 0.06958406 0.07063645\n",
            " 0.07167354 0.07269556 0.07370273 0.07469526 0.07567337 0.07663726\n",
            " 0.07758715 0.07852323 0.0794457  0.08035477 0.08125063 0.08213348\n",
            " 0.08300349 0.08386085 0.08470576 0.08553839 0.08635892 0.08716753\n",
            " 0.08796438 0.08874965 0.08952351 0.09028613 0.09103766 0.09177827\n",
            " 0.09250812 0.09322736 0.09393615 0.09463464 0.09532298 0.09600131\n",
            " 0.09666979 0.09732855 0.09797774 0.09861749 0.09924795 0.09986924\n",
            " 0.10048151 0.10108488 0.10167948 0.10226544 0.10284288 0.10341193\n",
            " 0.10397271 0.10452534 0.10506995 0.10560663 0.10613552 0.10665672\n",
            " 0.10717035 0.10767651 0.10817532 0.10866687]\n",
            "[0.         0.00206362 0.00409724 0.00610132 0.00807627 0.01002252\n",
            " 0.01194048 0.01383057 0.0156932  0.01752875 0.01933763 0.02112022\n",
            " 0.02287691 0.02460807 0.02631407 0.02799528 0.02965205 0.03128475\n",
            " 0.03289372 0.03447931 0.03604186 0.03758169 0.03909915 0.04059456\n",
            " 0.04206824 0.0435205  0.04495165 0.04636201 0.04775187 0.04912153\n",
            " 0.05047129 0.05180143 0.05311224 0.05440401 0.055677   0.05693149\n",
            " 0.05816775 0.05938604 0.06058663 0.06176977 0.06293572 0.06408472\n",
            " 0.06521702 0.06633287 0.06743251 0.06851616 0.06958406 0.07063645\n",
            " 0.07167354 0.07269556 0.07370273 0.07469526 0.07567337 0.07663726\n",
            " 0.07758715 0.07852323 0.0794457  0.08035477 0.08125063 0.08213348\n",
            " 0.08300349 0.08386085 0.08470576 0.08553839 0.08635892 0.08716753\n",
            " 0.08796438 0.08874965 0.08952351 0.09028613 0.09103766 0.09177827\n",
            " 0.09250812 0.09322736 0.09393615 0.09463464 0.09532298 0.09600131\n",
            " 0.09666979 0.09732855 0.09797774 0.09861749 0.09924795 0.09986924\n",
            " 0.10048151 0.10108488 0.10167948 0.10226544 0.10284288 0.10341193\n",
            " 0.10397271 0.10452534 0.10506995 0.10560663 0.10613552 0.10665672\n",
            " 0.10717035 0.10767651 0.10817532 0.10866687]\n",
            "[0.         0.00206362 0.00409724 0.00610132 0.00807627 0.01002252\n",
            " 0.01194048 0.01383057 0.0156932  0.01752875 0.01933763 0.02112022\n",
            " 0.02287691 0.02460807 0.02631407 0.02799528 0.02965205 0.03128475\n",
            " 0.03289372 0.03447931 0.03604186 0.03758169 0.03909915 0.04059456\n",
            " 0.04206824 0.0435205  0.04495165 0.04636201 0.04775187 0.04912153\n",
            " 0.05047129 0.05180143 0.05311224 0.05440401 0.055677   0.05693149\n",
            " 0.05816775 0.05938604 0.06058663 0.06176977 0.06293572 0.06408472\n",
            " 0.06521702 0.06633287 0.06743251 0.06851616 0.06958406 0.07063645\n",
            " 0.07167354 0.07269556 0.07370273 0.07469526 0.07567337 0.07663726\n",
            " 0.07758715 0.07852323 0.0794457  0.08035477 0.08125063 0.08213348\n",
            " 0.08300349 0.08386085 0.08470576 0.08553839 0.08635892 0.08716753\n",
            " 0.08796438 0.08874965 0.08952351 0.09028613 0.09103766 0.09177827\n",
            " 0.09250812 0.09322736 0.09393615 0.09463464 0.09532298 0.09600131\n",
            " 0.09666979 0.09732855 0.09797774 0.09861749 0.09924795 0.09986924\n",
            " 0.10048151 0.10108488 0.10167948 0.10226544 0.10284288 0.10341193\n",
            " 0.10397271 0.10452534 0.10506995 0.10560663 0.10613552 0.10665672\n",
            " 0.10717035 0.10767651 0.10817532 0.10866687]\n",
            "[0.         0.00206362 0.00409724 0.00610132 0.00807627 0.01002252\n",
            " 0.01194048 0.01383057 0.0156932  0.01752875 0.01933763 0.02112022\n",
            " 0.02287691 0.02460807 0.02631407 0.02799528 0.02965205 0.03128475\n",
            " 0.03289372 0.03447931 0.03604186 0.03758169 0.03909915 0.04059456\n",
            " 0.04206824 0.0435205  0.04495165 0.04636201 0.04775187 0.04912153\n",
            " 0.05047129 0.05180143 0.05311224 0.05440401 0.055677   0.05693149\n",
            " 0.05816775 0.05938604 0.06058663 0.06176977 0.06293572 0.06408472\n",
            " 0.06521702 0.06633287 0.06743251 0.06851616 0.06958406 0.07063645\n",
            " 0.07167354 0.07269556 0.07370273 0.07469526 0.07567337 0.07663726\n",
            " 0.07758715 0.07852323 0.0794457  0.08035477 0.08125063 0.08213348\n",
            " 0.08300349 0.08386085 0.08470576 0.08553839 0.08635892 0.08716753\n",
            " 0.08796438 0.08874965 0.08952351 0.09028613 0.09103766 0.09177827\n",
            " 0.09250812 0.09322736 0.09393615 0.09463464 0.09532298 0.09600131\n",
            " 0.09666979 0.09732855 0.09797774 0.09861749 0.09924795 0.09986924\n",
            " 0.10048151 0.10108488 0.10167948 0.10226544 0.10284288 0.10341193\n",
            " 0.10397271 0.10452534 0.10506995 0.10560663 0.10613552 0.10665672\n",
            " 0.10717035 0.10767651 0.10817532 0.10866687]\n",
            "[0.         0.00206362 0.00409724 0.00610132 0.00807627 0.01002252\n",
            " 0.01194048 0.01383057 0.0156932  0.01752875 0.01933763 0.02112022\n",
            " 0.02287691 0.02460807 0.02631407 0.02799528 0.02965205 0.03128475\n",
            " 0.03289372 0.03447931 0.03604186 0.03758169 0.03909915 0.04059456\n",
            " 0.04206824 0.0435205  0.04495165 0.04636201 0.04775187 0.04912153\n",
            " 0.05047129 0.05180143 0.05311224 0.05440401 0.055677   0.05693149\n",
            " 0.05816775 0.05938604 0.06058663 0.06176977 0.06293572 0.06408472\n",
            " 0.06521702 0.06633287 0.06743251 0.06851616 0.06958406 0.07063645\n",
            " 0.07167354 0.07269556 0.07370273 0.07469526 0.07567337 0.07663726\n",
            " 0.07758715 0.07852323 0.0794457  0.08035477 0.08125063 0.08213348\n",
            " 0.08300349 0.08386085 0.08470576 0.08553839 0.08635892 0.08716753\n",
            " 0.08796438 0.08874965 0.08952351 0.09028613 0.09103766 0.09177827\n",
            " 0.09250812 0.09322736 0.09393615 0.09463464 0.09532298 0.09600131\n",
            " 0.09666979 0.09732855 0.09797774 0.09861749 0.09924795 0.09986924\n",
            " 0.10048151 0.10108488 0.10167948 0.10226544 0.10284288 0.10341193\n",
            " 0.10397271 0.10452534 0.10506995 0.10560663 0.10613552 0.10665672\n",
            " 0.10717035 0.10767651 0.10817532 0.10866687]\n",
            "[0.         0.00206362 0.00409724 0.00610132 0.00807627 0.01002252\n",
            " 0.01194048 0.01383057 0.0156932  0.01752875 0.01933763 0.02112022\n",
            " 0.02287691 0.02460807 0.02631407 0.02799528 0.02965205 0.03128475\n",
            " 0.03289372 0.03447931 0.03604186 0.03758169 0.03909915 0.04059456\n",
            " 0.04206824 0.0435205  0.04495165 0.04636201 0.04775187 0.04912153\n",
            " 0.05047129 0.05180143 0.05311224 0.05440401 0.055677   0.05693149\n",
            " 0.05816775 0.05938604 0.06058663 0.06176977 0.06293572 0.06408472\n",
            " 0.06521702 0.06633287 0.06743251 0.06851616 0.06958406 0.07063645\n",
            " 0.07167354 0.07269556 0.07370273 0.07469526 0.07567337 0.07663726\n",
            " 0.07758715 0.07852323 0.0794457  0.08035477 0.08125063 0.08213348\n",
            " 0.08300349 0.08386085 0.08470576 0.08553839 0.08635892 0.08716753\n",
            " 0.08796438 0.08874965 0.08952351 0.09028613 0.09103766 0.09177827\n",
            " 0.09250812 0.09322736 0.09393615 0.09463464 0.09532298 0.09600131\n",
            " 0.09666979 0.09732855 0.09797774 0.09861749 0.09924795 0.09986924\n",
            " 0.10048151 0.10108488 0.10167948 0.10226544 0.10284288 0.10341193\n",
            " 0.10397271 0.10452534 0.10506995 0.10560663 0.10613552 0.10665672\n",
            " 0.10717035 0.10767651 0.10817532 0.10866687]\n",
            "[0.         0.00206362 0.00409724 0.00610132 0.00807627 0.01002252\n",
            " 0.01194048 0.01383057 0.0156932  0.01752875 0.01933763 0.02112022\n",
            " 0.02287691 0.02460807 0.02631407 0.02799528 0.02965205 0.03128475\n",
            " 0.03289372 0.03447931 0.03604186 0.03758169 0.03909915 0.04059456\n",
            " 0.04206824 0.0435205  0.04495165 0.04636201 0.04775187 0.04912153\n",
            " 0.05047129 0.05180143 0.05311224 0.05440401 0.055677   0.05693149\n",
            " 0.05816775 0.05938604 0.06058663 0.06176977 0.06293572 0.06408472\n",
            " 0.06521702 0.06633287 0.06743251 0.06851616 0.06958406 0.07063645\n",
            " 0.07167354 0.07269556 0.07370273 0.07469526 0.07567337 0.07663726\n",
            " 0.07758715 0.07852323 0.0794457  0.08035477 0.08125063 0.08213348\n",
            " 0.08300349 0.08386085 0.08470576 0.08553839 0.08635892 0.08716753\n",
            " 0.08796438 0.08874965 0.08952351 0.09028613 0.09103766 0.09177827\n",
            " 0.09250812 0.09322736 0.09393615 0.09463464 0.09532298 0.09600131\n",
            " 0.09666979 0.09732855 0.09797774 0.09861749 0.09924795 0.09986924\n",
            " 0.10048151 0.10108488 0.10167948 0.10226544 0.10284288 0.10341193\n",
            " 0.10397271 0.10452534 0.10506995 0.10560663 0.10613552 0.10665672\n",
            " 0.10717035 0.10767651 0.10817532 0.10866687]\n",
            "[0.         0.00206362 0.00409724 0.00610132 0.00807627 0.01002252\n",
            " 0.01194048 0.01383057 0.0156932  0.01752875 0.01933763 0.02112022\n",
            " 0.02287691 0.02460807 0.02631407 0.02799528 0.02965205 0.03128475\n",
            " 0.03289372 0.03447931 0.03604186 0.03758169 0.03909915 0.04059456\n",
            " 0.04206824 0.0435205  0.04495165 0.04636201 0.04775187 0.04912153\n",
            " 0.05047129 0.05180143 0.05311224 0.05440401 0.055677   0.05693149\n",
            " 0.05816775 0.05938604 0.06058663 0.06176977 0.06293572 0.06408472\n",
            " 0.06521702 0.06633287 0.06743251 0.06851616 0.06958406 0.07063645\n",
            " 0.07167354 0.07269556 0.07370273 0.07469526 0.07567337 0.07663726\n",
            " 0.07758715 0.07852323 0.0794457  0.08035477 0.08125063 0.08213348\n",
            " 0.08300349 0.08386085 0.08470576 0.08553839 0.08635892 0.08716753\n",
            " 0.08796438 0.08874965 0.08952351 0.09028613 0.09103766 0.09177827\n",
            " 0.09250812 0.09322736 0.09393615 0.09463464 0.09532298 0.09600131\n",
            " 0.09666979 0.09732855 0.09797774 0.09861749 0.09924795 0.09986924\n",
            " 0.10048151 0.10108488 0.10167948 0.10226544 0.10284288 0.10341193\n",
            " 0.10397271 0.10452534 0.10506995 0.10560663 0.10613552 0.10665672\n",
            " 0.10717035 0.10767651 0.10817532 0.10866687]\n",
            "[0.         0.00206362 0.00409724 0.00610132 0.00807627 0.01002252\n",
            " 0.01194048 0.01383057 0.0156932  0.01752875 0.01933763 0.02112022\n",
            " 0.02287691 0.02460807 0.02631407 0.02799528 0.02965205 0.03128475\n",
            " 0.03289372 0.03447931 0.03604186 0.03758169 0.03909915 0.04059456\n",
            " 0.04206824 0.0435205  0.04495165 0.04636201 0.04775187 0.04912153\n",
            " 0.05047129 0.05180143 0.05311224 0.05440401 0.055677   0.05693149\n",
            " 0.05816775 0.05938604 0.06058663 0.06176977 0.06293572 0.06408472\n",
            " 0.06521702 0.06633287 0.06743251 0.06851616 0.06958406 0.07063645\n",
            " 0.07167354 0.07269556 0.07370273 0.07469526 0.07567337 0.07663726\n",
            " 0.07758715 0.07852323 0.0794457  0.08035477 0.08125063 0.08213348\n",
            " 0.08300349 0.08386085 0.08470576 0.08553839 0.08635892 0.08716753\n",
            " 0.08796438 0.08874965 0.08952351 0.09028613 0.09103766 0.09177827\n",
            " 0.09250812 0.09322736 0.09393615 0.09463464 0.09532298 0.09600131\n",
            " 0.09666979 0.09732855 0.09797774 0.09861749 0.09924795 0.09986924\n",
            " 0.10048151 0.10108488 0.10167948 0.10226544 0.10284288 0.10341193\n",
            " 0.10397271 0.10452534 0.10506995 0.10560663 0.10613552 0.10665672\n",
            " 0.10717035 0.10767651 0.10817532 0.10866687]\n"
          ]
        }
      ]
    },
    {
      "cell_type": "code",
      "source": [
        "operacion=A+B.to_numpy()"
      ],
      "metadata": {
        "id": "84qb95whif9Z"
      },
      "execution_count": null,
      "outputs": []
    },
    {
      "cell_type": "code",
      "source": [
        "plt.plot(data.tiempo, operacion)"
      ],
      "metadata": {
        "colab": {
          "base_uri": "https://localhost:8080/",
          "height": 462
        },
        "id": "jM6usOy_gpJR",
        "outputId": "fa30356a-d972-4912-dfc5-25743de10583"
      },
      "execution_count": null,
      "outputs": [
        {
          "output_type": "execute_result",
          "data": {
            "text/plain": [
              "[<matplotlib.lines.Line2D at 0x7f3f5518c6d0>]"
            ]
          },
          "metadata": {},
          "execution_count": 121
        },
        {
          "output_type": "display_data",
          "data": {
            "text/plain": [
              "<Figure size 640x480 with 1 Axes>"
            ],
            "image/png": "[encoded data removed]"
          },
          "metadata": {}
        }
      ]
    },
    {
      "cell_type": "markdown",
      "metadata": {
        "id": "WV6dMBzK_odZ"
      },
      "source": [
        "\n",
        "\n",
        "\n",
        "# Parte 2\n",
        "\n",
        "1. Escribir en código Markdown la expresión para calcular una integral con la regla del trapecio.\n",
        "\n",
        "2. Escribir en código Markdown la expresión para calcular una integral con la regla del simpson\n",
        "\n",
        "\n",
        "3. Escribir en código Markdown la expresión para calcular una integral con el metodo de cuadratura.\n",
        "\n",
        "4. Calcular una aproximación con el metodo 1,2,3 de las siguientes integrales\n",
        "\n",
        "<!-- \n",
        " $$\n",
        " \\int_0^\\pi e^{1-\\sqrt{x}}\\, dx\n",
        " $$  -->\n",
        "\n",
        "\n",
        "- $$\n",
        " \\int_0^{\\pi/2} \\frac{1}{\\sqrt{\\tan x}}\\, dx\n",
        " $$\n",
        "\n",
        "- \n",
        "$$\n",
        " \\int_{-\\infty}^{\\infty} \\frac{1}{1+x^2} \\, dx\n",
        " $$\n",
        "\n",
        "\n",
        "- \n",
        "\n",
        "$$\n",
        " \\int_{0}^{\\pi/4} \\int_{\\sin x}^{\\cos x} (2y\\sin x +\\cos^2 x)\\, dxdy\n",
        " $$\n",
        "\n",
        "<!-- \n",
        "- \n",
        "$$\n",
        " \\int_{-\\infty}^{\\infty} \\frac{1}{1+x^2} \\, dx\n",
        " $$ -->\n",
        "\n",
        "<!-- \n",
        "- \n",
        "$$\n",
        " \\int_{e}^{2e} \\frac{1}{\\ln x} \\, dx\n",
        " $$ -->\n",
        "\n",
        "\n",
        "garantizando  que el error sea menor a $\\varepsilon=1E-5$.  "
      ]
    },
    {
      "cell_type": "code",
      "source": [
        "#@title Librerias\n",
        "import numpy as np\n",
        "import matplotlib.pyplot as plt\n",
        "from scipy.integrate import trapz\n",
        "from scipy import integrate #Para método de cuadratura y Simpson\n",
        "import sympy as sp\n",
        "from scipy import optimize"
      ],
      "metadata": {
        "id": "nFhPtHC_ZvtH"
      },
      "execution_count": 1,
      "outputs": []
    },
    {
      "cell_type": "markdown",
      "source": [
        "\n",
        "- $$\n",
        " \\int_0^{\\pi/2} \\frac{1}{\\sqrt{\\tan x}}\\, dx\n",
        " $$"
      ],
      "metadata": {
        "id": "U7mZDthra9Qx"
      }
    },
    {
      "cell_type": "code",
      "source": [
        "#@title Regla del trapecio\n",
        "a=0.0000001 #@param\n",
        "b=np.pi/2-0.0000001  #@param\n",
        "N=10000000  #@param\n",
        "h=(b-a)/N\n",
        "x=np.linspace(a,b,N+1)\n",
        "\n",
        "f=lambda x:1/np.sqrt(np.tan(x))\n",
        "def integral_trap(fun,a,b,N=10):\n",
        "  h=(b-a)/N\n",
        "  x=np.linspace(a,b,N+1)\n",
        "  A = (f(x[0])+f(x[-1]))*0.5*h+f(x[1:-1]).sum()*h\n",
        "  return A"
      ],
      "metadata": {
        "id": "c-9cWR8iOgrH"
      },
      "execution_count": null,
      "outputs": []
    },
    {
      "cell_type": "code",
      "source": [
        "trapz(f(x),x,dx=h)"
      ],
      "metadata": {
        "colab": {
          "base_uri": "https://localhost:8080/"
        },
        "id": "onXbmWDlSx1H",
        "outputId": "ba87c8b1-2944-44ac-d43d-391126d282a9"
      },
      "execution_count": null,
      "outputs": [
        {
          "output_type": "execute_result",
          "data": {
            "text/plain": [
              "2.220838398280445"
            ]
          },
          "metadata": {},
          "execution_count": 4
        }
      ]
    },
    {
      "cell_type": "code",
      "source": [
        "#@title Otra forma del trapecio\n",
        "funcion='1/np.sqrt(np.tan(x))'\n",
        "f=lambda x: eval(funcion)\n",
        "\n",
        "print(integral_trap(f,a,b,N))\n",
        "x=np.linspace(a,b,N+1)\n",
        "\n"
      ],
      "metadata": {
        "id": "QR6JB-sKRLtw",
        "colab": {
          "base_uri": "https://localhost:8080/"
        },
        "outputId": "d4eb65fc-c380-4fea-b73d-12b97a930082"
      },
      "execution_count": null,
      "outputs": [
        {
          "output_type": "stream",
          "name": "stdout",
          "text": [
            "2.220838398280449\n"
          ]
        }
      ]
    },
    {
      "cell_type": "code",
      "source": [
        "#@title Método de cuadratura\n",
        "\n",
        "integrate.quad(f, a, b)"
      ],
      "metadata": {
        "id": "Cf586jmDTgXw",
        "colab": {
          "base_uri": "https://localhost:8080/"
        },
        "outputId": "82691219-222b-45c8-86ba-ef513ab6cc74"
      },
      "execution_count": null,
      "outputs": [
        {
          "output_type": "execute_result",
          "data": {
            "text/plain": [
              "(2.221441470456315, 1.8599179973932678e-08)"
            ]
          },
          "metadata": {},
          "execution_count": 7
        }
      ]
    },
    {
      "cell_type": "code",
      "source": [
        "#@title Método de Simpson\n",
        "integrate.simps(f(x), x)"
      ],
      "metadata": {
        "colab": {
          "base_uri": "https://localhost:8080/"
        },
        "id": "Ho5GTEB7Xw83",
        "outputId": "af452cd0-497c-40c3-9d42-b3ccb89a2e87"
      },
      "execution_count": null,
      "outputs": [
        {
          "output_type": "execute_result",
          "data": {
            "text/plain": [
              "2.220814486000679"
            ]
          },
          "metadata": {},
          "execution_count": 6
        }
      ]
    },
    {
      "cell_type": "code",
      "source": [
        "#@title Error para integral de 0 a 1 de log(x**2+1)\n",
        "a=0  #@param\n",
        "b=1   #@param\n",
        "e=1E-5  #@param #error\n",
        "f_error = lambda x: sp.log(1+x**2)\n",
        "x= sp.symbols('x')\n",
        "derivadaerror=sp.diff(f_error(x),x,2)\n"
      ],
      "metadata": {
        "id": "G2BbzqTufY8P"
      },
      "execution_count": null,
      "outputs": []
    },
    {
      "cell_type": "code",
      "source": [
        "fxn5= sp.lambdify(x, derivadaerror, 'numpy')\n",
        "-fxn5(1)"
      ],
      "metadata": {
        "colab": {
          "base_uri": "https://localhost:8080/"
        },
        "id": "pxM_6E7rog2v",
        "outputId": "c28fc3b9-5c52-4f81-a75c-35e5270144b7"
      },
      "execution_count": null,
      "outputs": [
        {
          "output_type": "execute_result",
          "data": {
            "text/plain": [
              "-0.0"
            ]
          },
          "metadata": {},
          "execution_count": 9
        }
      ]
    },
    {
      "cell_type": "code",
      "source": [
        "\n",
        "fp=optimize.fmin_powell(fxn5, 0.1, ftol= 1E-7)\n",
        "\n",
        "x_=np.linspace(-1,1)\n",
        "print(fxn5(x_))\n",
        "\n",
        "plt.figure()\n",
        "plt.plot(x_, fxn5(x_))\n",
        "plt.xlabel('x')\n",
        "plt.ylabel('f(x)')\n",
        "plt.show()"
      ],
      "metadata": {
        "colab": {
          "base_uri": "https://localhost:8080/",
          "height": 675
        },
        "id": "tuLeTdnUi9oe",
        "outputId": "296f6aeb-f574-4303-f16f-d37b301c63e2"
      },
      "execution_count": null,
      "outputs": [
        {
          "output_type": "stream",
          "name": "stdout",
          "text": [
            "Optimization terminated successfully.\n",
            "         Current function value: -0.250000\n",
            "         Iterations: 2\n",
            "         Function evaluations: 34\n",
            "[0.         0.0433832  0.09216949 0.14675178 0.20749549 0.2747196\n",
            " 0.34867367 0.42951059 0.51725552 0.61177148 0.71272293 0.81953924\n",
            " 0.93138078 1.04711109 1.16527943 1.28411812 1.4015594  1.51527551\n",
            " 1.62274433 1.7213407  1.80845033 1.8816     1.9385946  1.97764915\n",
            " 1.99750277 1.99750277 1.97764915 1.9385946  1.8816     1.80845033\n",
            " 1.7213407  1.62274433 1.51527551 1.4015594  1.28411812 1.16527943\n",
            " 1.04711109 0.93138078 0.81953924 0.71272293 0.61177148 0.51725552\n",
            " 0.42951059 0.34867367 0.2747196  0.20749549 0.14675178 0.09216949\n",
            " 0.0433832  0.        ]\n"
          ]
        },
        {
          "output_type": "display_data",
          "data": {
            "text/plain": [
              "<Figure size 640x480 with 1 Axes>"
            ],
            "image/png": "[encoded data removed]"
          },
          "metadata": {}
        }
      ]
    },
    {
      "cell_type": "code",
      "source": [
        "maximo=np.max(fxn5(x_))\n",
        "maximo"
      ],
      "metadata": {
        "colab": {
          "base_uri": "https://localhost:8080/"
        },
        "id": "KSOkNupcpIpO",
        "outputId": "6c966101-b61a-46d9-fa66-5fd0e321de04"
      },
      "execution_count": null,
      "outputs": [
        {
          "output_type": "execute_result",
          "data": {
            "text/plain": [
              "1.99750277488715"
            ]
          },
          "metadata": {},
          "execution_count": 11
        }
      ]
    },
    {
      "cell_type": "code",
      "source": [
        "h=np.sqrt(6*e)\n",
        "print('El tamaño de cada paso es de %.5lf:' %h)\n",
        "print('EL número de intervalos es: %.5lf:' %((b-a)/h))"
      ],
      "metadata": {
        "colab": {
          "base_uri": "https://localhost:8080/"
        },
        "id": "k3cxTPtLqhw-",
        "outputId": "47661c14-bfba-48cf-86bc-02f9b40e50db"
      },
      "execution_count": null,
      "outputs": [
        {
          "output_type": "stream",
          "name": "stdout",
          "text": [
            "El tamaño de cada paso es de 0.00775:\n",
            "EL número de intervalos es: 129.09944:\n"
          ]
        }
      ]
    },
    {
      "cell_type": "markdown",
      "source": [
        "- \n",
        "$$\n",
        " \\int_{-\\infty}^{\\infty} \\frac{1}{1+x^2} \\, dx\n",
        " $$"
      ],
      "metadata": {
        "id": "GQh9N6fObDzA"
      }
    },
    {
      "cell_type": "code",
      "source": [
        "\n",
        "f2=lambda x: 1/(1+x**2)\n",
        "x=np.linspace(-50,50,N+1)\n",
        "plt.plot(x,f2(x))"
      ],
      "metadata": {
        "colab": {
          "base_uri": "https://localhost:8080/",
          "height": 447
        },
        "id": "-YK6Mm64bFrn",
        "outputId": "7f5c2f9e-d244-4c22-e3fe-e36a71acdb2b"
      },
      "execution_count": null,
      "outputs": [
        {
          "output_type": "execute_result",
          "data": {
            "text/plain": [
              "[<matplotlib.lines.Line2D at 0x7f7b90aeaef0>]"
            ]
          },
          "metadata": {},
          "execution_count": 13
        },
        {
          "output_type": "display_data",
          "data": {
            "text/plain": [
              "<Figure size 640x480 with 1 Axes>"
            ],
            "image/png": "[encoded data removed]"
          },
          "metadata": {}
        }
      ]
    },
    {
      "cell_type": "code",
      "source": [
        "#@title Para definir el valor adecuado del intervalo de integración: esta integral debe dar pi, por lo tanto, el eje x de la gráfica indica cuantas veces se debe realizar la particion de la integral\n",
        "f=lambda x:1/(1+x**2)\n",
        "a = np.linspace(20,1500,10)\n",
        "area=[]\n",
        "for a_ in a:\n",
        "  x=np.linspace(-a_,a_, 100000)\n",
        "  area.append(integrate.trapz(f(x), x))\n",
        "\n",
        "plt.plot(a, np.array(area))"
      ],
      "metadata": {
        "colab": {
          "base_uri": "https://localhost:8080/",
          "height": 447
        },
        "id": "aY5WiQnliXX4",
        "outputId": "44bbb900-e44a-4433-c0ff-3ec318069230"
      },
      "execution_count": null,
      "outputs": [
        {
          "output_type": "execute_result",
          "data": {
            "text/plain": [
              "[<matplotlib.lines.Line2D at 0x7f7b8f7c4e20>]"
            ]
          },
          "metadata": {},
          "execution_count": 21
        },
        {
          "output_type": "display_data",
          "data": {
            "text/plain": [
              "<Figure size 640x480 with 1 Axes>"
            ],
            "image/png": "[encoded data removed]"
          },
          "metadata": {}
        }
      ]
    },
    {
      "cell_type": "code",
      "source": [
        "#@title Regla del trapecio\n",
        "a=-1000 #@param\n",
        "b=1000 #@param\n",
        "N=10000000 #@param\n",
        "h=(b-a)/N\n",
        "x=np.linspace(a,b,N+1)\n",
        "\n",
        "f=lambda x:1/(1+x**2)\n",
        "def integral_trap(fun,a,b,N=10):\n",
        "  h=(b-a)/N\n",
        "  x=np.linspace(a,b,N+1)\n",
        "  A = (f(x[0])+f(x[-1]))*0.5*h+f(x[1:-1]).sum()*h\n",
        "  return A\n",
        "\n",
        "\n",
        "trapz(f(x),x,dx=h)"
      ],
      "metadata": {
        "colab": {
          "base_uri": "https://localhost:8080/"
        },
        "id": "40PocGPPdLbS",
        "outputId": "b808d0b2-0d01-4061-d6ab-c8fa4b3d7186"
      },
      "execution_count": null,
      "outputs": [
        {
          "output_type": "execute_result",
          "data": {
            "text/plain": [
              "3.13959265425646"
            ]
          },
          "metadata": {},
          "execution_count": 15
        }
      ]
    },
    {
      "cell_type": "code",
      "source": [
        "#@title Método de cuadratura\n",
        "integrate.quad(f, a, b)"
      ],
      "metadata": {
        "colab": {
          "base_uri": "https://localhost:8080/"
        },
        "id": "V6PIpxKhdqXu",
        "outputId": "4a03f32d-e74a-4cdb-fa40-5b60f41f6aac"
      },
      "execution_count": null,
      "outputs": [
        {
          "output_type": "execute_result",
          "data": {
            "text/plain": [
              "(3.139592654256459, 4.381015884524921e-11)"
            ]
          },
          "metadata": {},
          "execution_count": 16
        }
      ]
    },
    {
      "cell_type": "code",
      "source": [
        "#@title Método de Simpson\n",
        "integrate.simps(f(x), x)"
      ],
      "metadata": {
        "colab": {
          "base_uri": "https://localhost:8080/"
        },
        "id": "QVq99PCLduBo",
        "outputId": "779d0753-59d8-4c52-e548-46b47c83abb6"
      },
      "execution_count": null,
      "outputs": [
        {
          "output_type": "execute_result",
          "data": {
            "text/plain": [
              "3.1395926542564605"
            ]
          },
          "metadata": {},
          "execution_count": 17
        }
      ]
    },
    {
      "cell_type": "markdown",
      "source": [
        "- \n",
        "\n",
        "$$\n",
        " \\int_{0}^{\\pi/4} \\int_{\\sin x}^{\\cos x} (2y\\sin x +\\cos^2 x)\\, dydx\n",
        " $$"
      ],
      "metadata": {
        "id": "sa4AjInFeS6Q"
      }
    },
    {
      "cell_type": "code",
      "source": [
        "x= np.arange(0,np.pi/4,0.1)\n",
        "y= np.arange(-10,10,0.1)\n",
        "x, y = np.meshgrid(x, y)\n",
        "z= 2*y*np.sin(x) + (np.cos(x))**2"
      ],
      "metadata": {
        "id": "2OS3dr6KeSpW"
      },
      "execution_count": null,
      "outputs": []
    },
    {
      "cell_type": "code",
      "source": [
        "import plotly.graph_objects as go\n",
        "import numpy as np\n",
        "  \n",
        "fig = go.Figure(data=[go.Surface(x=x, y=y, z=z)])\n",
        "\n",
        "fig.update_traces(contours_z=dict(show=True, usecolormap=True,\n",
        "                                  highlightcolor=\"limegreen\", project_z=True))\n",
        "\n",
        "fig.update_layout(title='$2ysen(x)+cos²(x)$', autosize=False,\n",
        "                  width=500, height=500,\n",
        "                  margin=dict(l=65, r=50, b=65, t=90)) \n",
        "fig.show()"
      ],
      "metadata": {
        "colab": {
          "base_uri": "https://localhost:8080/",
          "height": 517
        },
        "id": "RCdgyD5ylz2G",
        "outputId": "80136e2d-c34c-4b79-ffc7-16467d26e12e"
      },
      "execution_count": null,
      "outputs": [
        {
          "output_type": "display_data",
          "data": {
            "text/html": [
              "<html>\n",
              "<head><meta charset=\"utf-8\" /></head>\n",
              "<body>\n",
              "    <div>            <script src=\"https://cdnjs.cloudflare.com/ajax/libs/mathjax/2.7.5/MathJax.js?config=TeX-AMS-MML_SVG\"></script><script type=\"text/javascript\">if (window.MathJax && window.MathJax.Hub && window.MathJax.Hub.Config) {window.MathJax.Hub.Config({SVG: {font: \"STIX-Web\"}});}</script>                <script type=\"text/javascript\">window.PlotlyConfig = {MathJaxConfig: 'local'};</script>\n",
              "        <script src=\"https://cdn.plot.ly/plotly-2.18.2.min.js\"></script>                <div id=\"beb608ba-fc03-4f19-a4ce-c5cbf3046eff\" class=\"plotly-graph-div\" style=\"height:500px; width:500px;\"></div>            <script type=\"text/javascript\">                                    window.PLOTLYENV=window.PLOTLYENV || {};                                    if (document.getElementById(\"beb608ba-fc03-4f19-a4ce-c5cbf3046eff\")) {                    Plotly.newPlot(                        \"beb608ba-fc03-4f19-a4ce-c5cbf3046eff\",                        [{\"x\":[[0.0,0.1,0.2,0.30000000000000004,0.4,0.5,0.6000000000000001,0.7000000000000001],[0.0,0.1,0.2,0.30000000000000004,0.4,0.5,0.6000000000000001,0.7000000000000001],[0.0,0.1,0.2,0.30000000000000004,0.4,0.5,0.6000000000000001,0.7000000000000001],[0.0,0.1,0.2,0.30000000000000004,0.4,0.5,0.6000000000000001,0.7000000000000001],[0.0,0.1,0.2,0.30000000000000004,0.4,0.5,0.6000000000000001,0.7000000000000001],[0.0,0.1,0.2,0.30000000000000004,0.4,0.5,0.6000000000000001,0.7000000000000001],[0.0,0.1,0.2,0.30000000000000004,0.4,0.5,0.6000000000000001,0.7000000000000001],[0.0,0.1,0.2,0.30000000000000004,0.4,0.5,0.6000000000000001,0.7000000000000001],[0.0,0.1,0.2,0.30000000000000004,0.4,0.5,0.6000000000000001,0.7000000000000001],[0.0,0.1,0.2,0.30000000000000004,0.4,0.5,0.6000000000000001,0.7000000000000001],[0.0,0.1,0.2,0.30000000000000004,0.4,0.5,0.6000000000000001,0.7000000000000001],[0.0,0.1,0.2,0.30000000000000004,0.4,0.5,0.6000000000000001,0.7000000000000001],[0.0,0.1,0.2,0.30000000000000004,0.4,0.5,0.6000000000000001,0.7000000000000001],[0.0,0.1,0.2,0.30000000000000004,0.4,0.5,0.6000000000000001,0.7000000000000001],[0.0,0.1,0.2,0.30000000000000004,0.4,0.5,0.6000000000000001,0.7000000000000001],[0.0,0.1,0.2,0.30000000000000004,0.4,0.5,0.6000000000000001,0.7000000000000001],[0.0,0.1,0.2,0.30000000000000004,0.4,0.5,0.6000000000000001,0.7000000000000001],[0.0,0.1,0.2,0.30000000000000004,0.4,0.5,0.6000000000000001,0.7000000000000001],[0.0,0.1,0.2,0.30000000000000004,0.4,0.5,0.6000000000000001,0.7000000000000001],[0.0,0.1,0.2,0.30000000000000004,0.4,0.5,0.6000000000000001,0.7000000000000001],[0.0,0.1,0.2,0.30000000000000004,0.4,0.5,0.6000000000000001,0.7000000000000001],[0.0,0.1,0.2,0.30000000000000004,0.4,0.5,0.6000000000000001,0.7000000000000001],[0.0,0.1,0.2,0.30000000000000004,0.4,0.5,0.6000000000000001,0.7000000000000001],[0.0,0.1,0.2,0.30000000000000004,0.4,0.5,0.6000000000000001,0.7000000000000001],[0.0,0.1,0.2,0.30000000000000004,0.4,0.5,0.6000000000000001,0.7000000000000001],[0.0,0.1,0.2,0.30000000000000004,0.4,0.5,0.6000000000000001,0.7000000000000001],[0.0,0.1,0.2,0.30000000000000004,0.4,0.5,0.6000000000000001,0.7000000000000001],[0.0,0.1,0.2,0.30000000000000004,0.4,0.5,0.6000000000000001,0.7000000000000001],[0.0,0.1,0.2,0.30000000000000004,0.4,0.5,0.6000000000000001,0.7000000000000001],[0.0,0.1,0.2,0.30000000000000004,0.4,0.5,0.6000000000000001,0.7000000000000001],[0.0,0.1,0.2,0.30000000000000004,0.4,0.5,0.6000000000000001,0.7000000000000001],[0.0,0.1,0.2,0.30000000000000004,0.4,0.5,0.6000000000000001,0.7000000000000001],[0.0,0.1,0.2,0.30000000000000004,0.4,0.5,0.6000000000000001,0.7000000000000001],[0.0,0.1,0.2,0.30000000000000004,0.4,0.5,0.6000000000000001,0.7000000000000001],[0.0,0.1,0.2,0.30000000000000004,0.4,0.5,0.6000000000000001,0.7000000000000001],[0.0,0.1,0.2,0.30000000000000004,0.4,0.5,0.6000000000000001,0.7000000000000001],[0.0,0.1,0.2,0.30000000000000004,0.4,0.5,0.6000000000000001,0.7000000000000001],[0.0,0.1,0.2,0.30000000000000004,0.4,0.5,0.6000000000000001,0.7000000000000001],[0.0,0.1,0.2,0.30000000000000004,0.4,0.5,0.6000000000000001,0.7000000000000001],[0.0,0.1,0.2,0.30000000000000004,0.4,0.5,0.6000000000000001,0.7000000000000001],[0.0,0.1,0.2,0.30000000000000004,0.4,0.5,0.6000000000000001,0.7000000000000001],[0.0,0.1,0.2,0.30000000000000004,0.4,0.5,0.6000000000000001,0.7000000000000001],[0.0,0.1,0.2,0.30000000000000004,0.4,0.5,0.6000000000000001,0.7000000000000001],[0.0,0.1,0.2,0.30000000000000004,0.4,0.5,0.6000000000000001,0.7000000000000001],[0.0,0.1,0.2,0.30000000000000004,0.4,0.5,0.6000000000000001,0.7000000000000001],[0.0,0.1,0.2,0.30000000000000004,0.4,0.5,0.6000000000000001,0.7000000000000001],[0.0,0.1,0.2,0.30000000000000004,0.4,0.5,0.6000000000000001,0.7000000000000001],[0.0,0.1,0.2,0.30000000000000004,0.4,0.5,0.6000000000000001,0.7000000000000001],[0.0,0.1,0.2,0.30000000000000004,0.4,0.5,0.6000000000000001,0.7000000000000001],[0.0,0.1,0.2,0.30000000000000004,0.4,0.5,0.6000000000000001,0.7000000000000001],[0.0,0.1,0.2,0.30000000000000004,0.4,0.5,0.6000000000000001,0.7000000000000001],[0.0,0.1,0.2,0.30000000000000004,0.4,0.5,0.6000000000000001,0.7000000000000001],[0.0,0.1,0.2,0.30000000000000004,0.4,0.5,0.6000000000000001,0.7000000000000001],[0.0,0.1,0.2,0.30000000000000004,0.4,0.5,0.6000000000000001,0.7000000000000001],[0.0,0.1,0.2,0.30000000000000004,0.4,0.5,0.6000000000000001,0.7000000000000001],[0.0,0.1,0.2,0.30000000000000004,0.4,0.5,0.6000000000000001,0.7000000000000001],[0.0,0.1,0.2,0.30000000000000004,0.4,0.5,0.6000000000000001,0.7000000000000001],[0.0,0.1,0.2,0.30000000000000004,0.4,0.5,0.6000000000000001,0.7000000000000001],[0.0,0.1,0.2,0.30000000000000004,0.4,0.5,0.6000000000000001,0.7000000000000001],[0.0,0.1,0.2,0.30000000000000004,0.4,0.5,0.6000000000000001,0.7000000000000001],[0.0,0.1,0.2,0.30000000000000004,0.4,0.5,0.6000000000000001,0.7000000000000001],[0.0,0.1,0.2,0.30000000000000004,0.4,0.5,0.6000000000000001,0.7000000000000001],[0.0,0.1,0.2,0.30000000000000004,0.4,0.5,0.6000000000000001,0.7000000000000001],[0.0,0.1,0.2,0.30000000000000004,0.4,0.5,0.6000000000000001,0.7000000000000001],[0.0,0.1,0.2,0.30000000000000004,0.4,0.5,0.6000000000000001,0.7000000000000001],[0.0,0.1,0.2,0.30000000000000004,0.4,0.5,0.6000000000000001,0.7000000000000001],[0.0,0.1,0.2,0.30000000000000004,0.4,0.5,0.6000000000000001,0.7000000000000001],[0.0,0.1,0.2,0.30000000000000004,0.4,0.5,0.6000000000000001,0.7000000000000001],[0.0,0.1,0.2,0.30000000000000004,0.4,0.5,0.6000000000000001,0.7000000000000001],[0.0,0.1,0.2,0.30000000000000004,0.4,0.5,0.6000000000000001,0.7000000000000001],[0.0,0.1,0.2,0.30000000000000004,0.4,0.5,0.6000000000000001,0.7000000000000001],[0.0,0.1,0.2,0.30000000000000004,0.4,0.5,0.6000000000000001,0.7000000000000001],[0.0,0.1,0.2,0.30000000000000004,0.4,0.5,0.6000000000000001,0.7000000000000001],[0.0,0.1,0.2,0.30000000000000004,0.4,0.5,0.6000000000000001,0.7000000000000001],[0.0,0.1,0.2,0.30000000000000004,0.4,0.5,0.6000000000000001,0.7000000000000001],[0.0,0.1,0.2,0.30000000000000004,0.4,0.5,0.6000000000000001,0.7000000000000001],[0.0,0.1,0.2,0.30000000000000004,0.4,0.5,0.6000000000000001,0.7000000000000001],[0.0,0.1,0.2,0.30000000000000004,0.4,0.5,0.6000000000000001,0.7000000000000001],[0.0,0.1,0.2,0.30000000000000004,0.4,0.5,0.6000000000000001,0.7000000000000001],[0.0,0.1,0.2,0.30000000000000004,0.4,0.5,0.6000000000000001,0.7000000000000001],[0.0,0.1,0.2,0.30000000000000004,0.4,0.5,0.6000000000000001,0.7000000000000001],[0.0,0.1,0.2,0.30000000000000004,0.4,0.5,0.6000000000000001,0.7000000000000001],[0.0,0.1,0.2,0.30000000000000004,0.4,0.5,0.6000000000000001,0.7000000000000001],[0.0,0.1,0.2,0.30000000000000004,0.4,0.5,0.6000000000000001,0.7000000000000001],[0.0,0.1,0.2,0.30000000000000004,0.4,0.5,0.6000000000000001,0.7000000000000001],[0.0,0.1,0.2,0.30000000000000004,0.4,0.5,0.6000000000000001,0.7000000000000001],[0.0,0.1,0.2,0.30000000000000004,0.4,0.5,0.6000000000000001,0.7000000000000001],[0.0,0.1,0.2,0.30000000000000004,0.4,0.5,0.6000000000000001,0.7000000000000001],[0.0,0.1,0.2,0.30000000000000004,0.4,0.5,0.6000000000000001,0.7000000000000001],[0.0,0.1,0.2,0.30000000000000004,0.4,0.5,0.6000000000000001,0.7000000000000001],[0.0,0.1,0.2,0.30000000000000004,0.4,0.5,0.6000000000000001,0.7000000000000001],[0.0,0.1,0.2,0.30000000000000004,0.4,0.5,0.6000000000000001,0.7000000000000001],[0.0,0.1,0.2,0.30000000000000004,0.4,0.5,0.6000000000000001,0.7000000000000001],[0.0,0.1,0.2,0.30000000000000004,0.4,0.5,0.6000000000000001,0.7000000000000001],[0.0,0.1,0.2,0.30000000000000004,0.4,0.5,0.6000000000000001,0.7000000000000001],[0.0,0.1,0.2,0.30000000000000004,0.4,0.5,0.6000000000000001,0.7000000000000001],[0.0,0.1,0.2,0.30000000000000004,0.4,0.5,0.6000000000000001,0.7000000000000001],[0.0,0.1,0.2,0.30000000000000004,0.4,0.5,0.6000000000000001,0.7000000000000001],[0.0,0.1,0.2,0.30000000000000004,0.4,0.5,0.6000000000000001,0.7000000000000001],[0.0,0.1,0.2,0.30000000000000004,0.4,0.5,0.6000000000000001,0.7000000000000001],[0.0,0.1,0.2,0.30000000000000004,0.4,0.5,0.6000000000000001,0.7000000000000001],[0.0,0.1,0.2,0.30000000000000004,0.4,0.5,0.6000000000000001,0.7000000000000001],[0.0,0.1,0.2,0.30000000000000004,0.4,0.5,0.6000000000000001,0.7000000000000001],[0.0,0.1,0.2,0.30000000000000004,0.4,0.5,0.6000000000000001,0.7000000000000001],[0.0,0.1,0.2,0.30000000000000004,0.4,0.5,0.6000000000000001,0.7000000000000001],[0.0,0.1,0.2,0.30000000000000004,0.4,0.5,0.6000000000000001,0.7000000000000001],[0.0,0.1,0.2,0.30000000000000004,0.4,0.5,0.6000000000000001,0.7000000000000001],[0.0,0.1,0.2,0.30000000000000004,0.4,0.5,0.6000000000000001,0.7000000000000001],[0.0,0.1,0.2,0.30000000000000004,0.4,0.5,0.6000000000000001,0.7000000000000001],[0.0,0.1,0.2,0.30000000000000004,0.4,0.5,0.6000000000000001,0.7000000000000001],[0.0,0.1,0.2,0.30000000000000004,0.4,0.5,0.6000000000000001,0.7000000000000001],[0.0,0.1,0.2,0.30000000000000004,0.4,0.5,0.6000000000000001,0.7000000000000001],[0.0,0.1,0.2,0.30000000000000004,0.4,0.5,0.6000000000000001,0.7000000000000001],[0.0,0.1,0.2,0.30000000000000004,0.4,0.5,0.6000000000000001,0.7000000000000001],[0.0,0.1,0.2,0.30000000000000004,0.4,0.5,0.6000000000000001,0.7000000000000001],[0.0,0.1,0.2,0.30000000000000004,0.4,0.5,0.6000000000000001,0.7000000000000001],[0.0,0.1,0.2,0.30000000000000004,0.4,0.5,0.6000000000000001,0.7000000000000001],[0.0,0.1,0.2,0.30000000000000004,0.4,0.5,0.6000000000000001,0.7000000000000001],[0.0,0.1,0.2,0.30000000000000004,0.4,0.5,0.6000000000000001,0.7000000000000001],[0.0,0.1,0.2,0.30000000000000004,0.4,0.5,0.6000000000000001,0.7000000000000001],[0.0,0.1,0.2,0.30000000000000004,0.4,0.5,0.6000000000000001,0.7000000000000001],[0.0,0.1,0.2,0.30000000000000004,0.4,0.5,0.6000000000000001,0.7000000000000001],[0.0,0.1,0.2,0.30000000000000004,0.4,0.5,0.6000000000000001,0.7000000000000001],[0.0,0.1,0.2,0.30000000000000004,0.4,0.5,0.6000000000000001,0.7000000000000001],[0.0,0.1,0.2,0.30000000000000004,0.4,0.5,0.6000000000000001,0.7000000000000001],[0.0,0.1,0.2,0.30000000000000004,0.4,0.5,0.6000000000000001,0.7000000000000001],[0.0,0.1,0.2,0.30000000000000004,0.4,0.5,0.6000000000000001,0.7000000000000001],[0.0,0.1,0.2,0.30000000000000004,0.4,0.5,0.6000000000000001,0.7000000000000001],[0.0,0.1,0.2,0.30000000000000004,0.4,0.5,0.6000000000000001,0.7000000000000001],[0.0,0.1,0.2,0.30000000000000004,0.4,0.5,0.6000000000000001,0.7000000000000001],[0.0,0.1,0.2,0.30000000000000004,0.4,0.5,0.6000000000000001,0.7000000000000001],[0.0,0.1,0.2,0.30000000000000004,0.4,0.5,0.6000000000000001,0.7000000000000001],[0.0,0.1,0.2,0.30000000000000004,0.4,0.5,0.6000000000000001,0.7000000000000001],[0.0,0.1,0.2,0.30000000000000004,0.4,0.5,0.6000000000000001,0.7000000000000001],[0.0,0.1,0.2,0.30000000000000004,0.4,0.5,0.6000000000000001,0.7000000000000001],[0.0,0.1,0.2,0.30000000000000004,0.4,0.5,0.6000000000000001,0.7000000000000001],[0.0,0.1,0.2,0.30000000000000004,0.4,0.5,0.6000000000000001,0.7000000000000001],[0.0,0.1,0.2,0.30000000000000004,0.4,0.5,0.6000000000000001,0.7000000000000001],[0.0,0.1,0.2,0.30000000000000004,0.4,0.5,0.6000000000000001,0.7000000000000001],[0.0,0.1,0.2,0.30000000000000004,0.4,0.5,0.6000000000000001,0.7000000000000001],[0.0,0.1,0.2,0.30000000000000004,0.4,0.5,0.6000000000000001,0.7000000000000001],[0.0,0.1,0.2,0.30000000000000004,0.4,0.5,0.6000000000000001,0.7000000000000001],[0.0,0.1,0.2,0.30000000000000004,0.4,0.5,0.6000000000000001,0.7000000000000001],[0.0,0.1,0.2,0.30000000000000004,0.4,0.5,0.6000000000000001,0.7000000000000001],[0.0,0.1,0.2,0.30000000000000004,0.4,0.5,0.6000000000000001,0.7000000000000001],[0.0,0.1,0.2,0.30000000000000004,0.4,0.5,0.6000000000000001,0.7000000000000001],[0.0,0.1,0.2,0.30000000000000004,0.4,0.5,0.6000000000000001,0.7000000000000001],[0.0,0.1,0.2,0.30000000000000004,0.4,0.5,0.6000000000000001,0.7000000000000001],[0.0,0.1,0.2,0.30000000000000004,0.4,0.5,0.6000000000000001,0.7000000000000001],[0.0,0.1,0.2,0.30000000000000004,0.4,0.5,0.6000000000000001,0.7000000000000001],[0.0,0.1,0.2,0.30000000000000004,0.4,0.5,0.6000000000000001,0.7000000000000001],[0.0,0.1,0.2,0.30000000000000004,0.4,0.5,0.6000000000000001,0.7000000000000001],[0.0,0.1,0.2,0.30000000000000004,0.4,0.5,0.6000000000000001,0.7000000000000001],[0.0,0.1,0.2,0.30000000000000004,0.4,0.5,0.6000000000000001,0.7000000000000001],[0.0,0.1,0.2,0.30000000000000004,0.4,0.5,0.6000000000000001,0.7000000000000001],[0.0,0.1,0.2,0.30000000000000004,0.4,0.5,0.6000000000000001,0.7000000000000001],[0.0,0.1,0.2,0.30000000000000004,0.4,0.5,0.6000000000000001,0.7000000000000001],[0.0,0.1,0.2,0.30000000000000004,0.4,0.5,0.6000000000000001,0.7000000000000001],[0.0,0.1,0.2,0.30000000000000004,0.4,0.5,0.6000000000000001,0.7000000000000001],[0.0,0.1,0.2,0.30000000000000004,0.4,0.5,0.6000000000000001,0.7000000000000001],[0.0,0.1,0.2,0.30000000000000004,0.4,0.5,0.6000000000000001,0.7000000000000001],[0.0,0.1,0.2,0.30000000000000004,0.4,0.5,0.6000000000000001,0.7000000000000001],[0.0,0.1,0.2,0.30000000000000004,0.4,0.5,0.6000000000000001,0.7000000000000001],[0.0,0.1,0.2,0.30000000000000004,0.4,0.5,0.6000000000000001,0.7000000000000001],[0.0,0.1,0.2,0.30000000000000004,0.4,0.5,0.6000000000000001,0.7000000000000001],[0.0,0.1,0.2,0.30000000000000004,0.4,0.5,0.6000000000000001,0.7000000000000001],[0.0,0.1,0.2,0.30000000000000004,0.4,0.5,0.6000000000000001,0.7000000000000001],[0.0,0.1,0.2,0.30000000000000004,0.4,0.5,0.6000000000000001,0.7000000000000001],[0.0,0.1,0.2,0.30000000000000004,0.4,0.5,0.6000000000000001,0.7000000000000001],[0.0,0.1,0.2,0.30000000000000004,0.4,0.5,0.6000000000000001,0.7000000000000001],[0.0,0.1,0.2,0.30000000000000004,0.4,0.5,0.6000000000000001,0.7000000000000001],[0.0,0.1,0.2,0.30000000000000004,0.4,0.5,0.6000000000000001,0.7000000000000001],[0.0,0.1,0.2,0.30000000000000004,0.4,0.5,0.6000000000000001,0.7000000000000001],[0.0,0.1,0.2,0.30000000000000004,0.4,0.5,0.6000000000000001,0.7000000000000001],[0.0,0.1,0.2,0.30000000000000004,0.4,0.5,0.6000000000000001,0.7000000000000001],[0.0,0.1,0.2,0.30000000000000004,0.4,0.5,0.6000000000000001,0.7000000000000001],[0.0,0.1,0.2,0.30000000000000004,0.4,0.5,0.6000000000000001,0.7000000000000001],[0.0,0.1,0.2,0.30000000000000004,0.4,0.5,0.6000000000000001,0.7000000000000001],[0.0,0.1,0.2,0.30000000000000004,0.4,0.5,0.6000000000000001,0.7000000000000001],[0.0,0.1,0.2,0.30000000000000004,0.4,0.5,0.6000000000000001,0.7000000000000001],[0.0,0.1,0.2,0.30000000000000004,0.4,0.5,0.6000000000000001,0.7000000000000001],[0.0,0.1,0.2,0.30000000000000004,0.4,0.5,0.6000000000000001,0.7000000000000001],[0.0,0.1,0.2,0.30000000000000004,0.4,0.5,0.6000000000000001,0.7000000000000001],[0.0,0.1,0.2,0.30000000000000004,0.4,0.5,0.6000000000000001,0.7000000000000001],[0.0,0.1,0.2,0.30000000000000004,0.4,0.5,0.6000000000000001,0.7000000000000001],[0.0,0.1,0.2,0.30000000000000004,0.4,0.5,0.6000000000000001,0.7000000000000001],[0.0,0.1,0.2,0.30000000000000004,0.4,0.5,0.6000000000000001,0.7000000000000001],[0.0,0.1,0.2,0.30000000000000004,0.4,0.5,0.6000000000000001,0.7000000000000001],[0.0,0.1,0.2,0.30000000000000004,0.4,0.5,0.6000000000000001,0.7000000000000001],[0.0,0.1,0.2,0.30000000000000004,0.4,0.5,0.6000000000000001,0.7000000000000001],[0.0,0.1,0.2,0.30000000000000004,0.4,0.5,0.6000000000000001,0.7000000000000001],[0.0,0.1,0.2,0.30000000000000004,0.4,0.5,0.6000000000000001,0.7000000000000001],[0.0,0.1,0.2,0.30000000000000004,0.4,0.5,0.6000000000000001,0.7000000000000001],[0.0,0.1,0.2,0.30000000000000004,0.4,0.5,0.6000000000000001,0.7000000000000001],[0.0,0.1,0.2,0.30000000000000004,0.4,0.5,0.6000000000000001,0.7000000000000001],[0.0,0.1,0.2,0.30000000000000004,0.4,0.5,0.6000000000000001,0.7000000000000001],[0.0,0.1,0.2,0.30000000000000004,0.4,0.5,0.6000000000000001,0.7000000000000001],[0.0,0.1,0.2,0.30000000000000004,0.4,0.5,0.6000000000000001,0.7000000000000001],[0.0,0.1,0.2,0.30000000000000004,0.4,0.5,0.6000000000000001,0.7000000000000001],[0.0,0.1,0.2,0.30000000000000004,0.4,0.5,0.6000000000000001,0.7000000000000001]],\"y\":[[-10.0,-10.0,-10.0,-10.0,-10.0,-10.0,-10.0,-10.0],[-9.9,-9.9,-9.9,-9.9,-9.9,-9.9,-9.9,-9.9],[-9.8,-9.8,-9.8,-9.8,-9.8,-9.8,-9.8,-9.8],[-9.700000000000001,-9.700000000000001,-9.700000000000001,-9.700000000000001,-9.700000000000001,-9.700000000000001,-9.700000000000001,-9.700000000000001],[-9.600000000000001,-9.600000000000001,-9.600000000000001,-9.600000000000001,-9.600000000000001,-9.600000000000001,-9.600000000000001,-9.600000000000001],[-9.500000000000002,-9.500000000000002,-9.500000000000002,-9.500000000000002,-9.500000000000002,-9.500000000000002,-9.500000000000002,-9.500000000000002],[-9.400000000000002,-9.400000000000002,-9.400000000000002,-9.400000000000002,-9.400000000000002,-9.400000000000002,-9.400000000000002,-9.400000000000002],[-9.300000000000002,-9.300000000000002,-9.300000000000002,-9.300000000000002,-9.300000000000002,-9.300000000000002,-9.300000000000002,-9.300000000000002],[-9.200000000000003,-9.200000000000003,-9.200000000000003,-9.200000000000003,-9.200000000000003,-9.200000000000003,-9.200000000000003,-9.200000000000003],[-9.100000000000003,-9.100000000000003,-9.100000000000003,-9.100000000000003,-9.100000000000003,-9.100000000000003,-9.100000000000003,-9.100000000000003],[-9.000000000000004,-9.000000000000004,-9.000000000000004,-9.000000000000004,-9.000000000000004,-9.000000000000004,-9.000000000000004,-9.000000000000004],[-8.900000000000004,-8.900000000000004,-8.900000000000004,-8.900000000000004,-8.900000000000004,-8.900000000000004,-8.900000000000004,-8.900000000000004],[-8.800000000000004,-8.800000000000004,-8.800000000000004,-8.800000000000004,-8.800000000000004,-8.800000000000004,-8.800000000000004,-8.800000000000004],[-8.700000000000005,-8.700000000000005,-8.700000000000005,-8.700000000000005,-8.700000000000005,-8.700000000000005,-8.700000000000005,-8.700000000000005],[-8.600000000000005,-8.600000000000005,-8.600000000000005,-8.600000000000005,-8.600000000000005,-8.600000000000005,-8.600000000000005,-8.600000000000005],[-8.500000000000005,-8.500000000000005,-8.500000000000005,-8.500000000000005,-8.500000000000005,-8.500000000000005,-8.500000000000005,-8.500000000000005],[-8.400000000000006,-8.400000000000006,-8.400000000000006,-8.400000000000006,-8.400000000000006,-8.400000000000006,-8.400000000000006,-8.400000000000006],[-8.300000000000006,-8.300000000000006,-8.300000000000006,-8.300000000000006,-8.300000000000006,-8.300000000000006,-8.300000000000006,-8.300000000000006],[-8.200000000000006,-8.200000000000006,-8.200000000000006,-8.200000000000006,-8.200000000000006,-8.200000000000006,-8.200000000000006,-8.200000000000006],[-8.100000000000007,-8.100000000000007,-8.100000000000007,-8.100000000000007,-8.100000000000007,-8.100000000000007,-8.100000000000007,-8.100000000000007],[-8.000000000000007,-8.000000000000007,-8.000000000000007,-8.000000000000007,-8.000000000000007,-8.000000000000007,-8.000000000000007,-8.000000000000007],[-7.9000000000000075,-7.9000000000000075,-7.9000000000000075,-7.9000000000000075,-7.9000000000000075,-7.9000000000000075,-7.9000000000000075,-7.9000000000000075],[-7.800000000000008,-7.800000000000008,-7.800000000000008,-7.800000000000008,-7.800000000000008,-7.800000000000008,-7.800000000000008,-7.800000000000008],[-7.700000000000008,-7.700000000000008,-7.700000000000008,-7.700000000000008,-7.700000000000008,-7.700000000000008,-7.700000000000008,-7.700000000000008],[-7.6000000000000085,-7.6000000000000085,-7.6000000000000085,-7.6000000000000085,-7.6000000000000085,-7.6000000000000085,-7.6000000000000085,-7.6000000000000085],[-7.500000000000009,-7.500000000000009,-7.500000000000009,-7.500000000000009,-7.500000000000009,-7.500000000000009,-7.500000000000009,-7.500000000000009],[-7.400000000000009,-7.400000000000009,-7.400000000000009,-7.400000000000009,-7.400000000000009,-7.400000000000009,-7.400000000000009,-7.400000000000009],[-7.30000000000001,-7.30000000000001,-7.30000000000001,-7.30000000000001,-7.30000000000001,-7.30000000000001,-7.30000000000001,-7.30000000000001],[-7.20000000000001,-7.20000000000001,-7.20000000000001,-7.20000000000001,-7.20000000000001,-7.20000000000001,-7.20000000000001,-7.20000000000001],[-7.10000000000001,-7.10000000000001,-7.10000000000001,-7.10000000000001,-7.10000000000001,-7.10000000000001,-7.10000000000001,-7.10000000000001],[-7.000000000000011,-7.000000000000011,-7.000000000000011,-7.000000000000011,-7.000000000000011,-7.000000000000011,-7.000000000000011,-7.000000000000011],[-6.900000000000011,-6.900000000000011,-6.900000000000011,-6.900000000000011,-6.900000000000011,-6.900000000000011,-6.900000000000011,-6.900000000000011],[-6.800000000000011,-6.800000000000011,-6.800000000000011,-6.800000000000011,-6.800000000000011,-6.800000000000011,-6.800000000000011,-6.800000000000011],[-6.700000000000012,-6.700000000000012,-6.700000000000012,-6.700000000000012,-6.700000000000012,-6.700000000000012,-6.700000000000012,-6.700000000000012],[-6.600000000000012,-6.600000000000012,-6.600000000000012,-6.600000000000012,-6.600000000000012,-6.600000000000012,-6.600000000000012,-6.600000000000012],[-6.500000000000012,-6.500000000000012,-6.500000000000012,-6.500000000000012,-6.500000000000012,-6.500000000000012,-6.500000000000012,-6.500000000000012],[-6.400000000000013,-6.400000000000013,-6.400000000000013,-6.400000000000013,-6.400000000000013,-6.400000000000013,-6.400000000000013,-6.400000000000013],[-6.300000000000013,-6.300000000000013,-6.300000000000013,-6.300000000000013,-6.300000000000013,-6.300000000000013,-6.300000000000013,-6.300000000000013],[-6.2000000000000135,-6.2000000000000135,-6.2000000000000135,-6.2000000000000135,-6.2000000000000135,-6.2000000000000135,-6.2000000000000135,-6.2000000000000135],[-6.100000000000014,-6.100000000000014,-6.100000000000014,-6.100000000000014,-6.100000000000014,-6.100000000000014,-6.100000000000014,-6.100000000000014],[-6.000000000000014,-6.000000000000014,-6.000000000000014,-6.000000000000014,-6.000000000000014,-6.000000000000014,-6.000000000000014,-6.000000000000014],[-5.900000000000015,-5.900000000000015,-5.900000000000015,-5.900000000000015,-5.900000000000015,-5.900000000000015,-5.900000000000015,-5.900000000000015],[-5.800000000000015,-5.800000000000015,-5.800000000000015,-5.800000000000015,-5.800000000000015,-5.800000000000015,-5.800000000000015,-5.800000000000015],[-5.700000000000015,-5.700000000000015,-5.700000000000015,-5.700000000000015,-5.700000000000015,-5.700000000000015,-5.700000000000015,-5.700000000000015],[-5.600000000000016,-5.600000000000016,-5.600000000000016,-5.600000000000016,-5.600000000000016,-5.600000000000016,-5.600000000000016,-5.600000000000016],[-5.500000000000016,-5.500000000000016,-5.500000000000016,-5.500000000000016,-5.500000000000016,-5.500000000000016,-5.500000000000016,-5.500000000000016],[-5.400000000000016,-5.400000000000016,-5.400000000000016,-5.400000000000016,-5.400000000000016,-5.400000000000016,-5.400000000000016,-5.400000000000016],[-5.300000000000017,-5.300000000000017,-5.300000000000017,-5.300000000000017,-5.300000000000017,-5.300000000000017,-5.300000000000017,-5.300000000000017],[-5.200000000000017,-5.200000000000017,-5.200000000000017,-5.200000000000017,-5.200000000000017,-5.200000000000017,-5.200000000000017,-5.200000000000017],[-5.100000000000017,-5.100000000000017,-5.100000000000017,-5.100000000000017,-5.100000000000017,-5.100000000000017,-5.100000000000017,-5.100000000000017],[-5.000000000000018,-5.000000000000018,-5.000000000000018,-5.000000000000018,-5.000000000000018,-5.000000000000018,-5.000000000000018,-5.000000000000018],[-4.900000000000018,-4.900000000000018,-4.900000000000018,-4.900000000000018,-4.900000000000018,-4.900000000000018,-4.900000000000018,-4.900000000000018],[-4.8000000000000185,-4.8000000000000185,-4.8000000000000185,-4.8000000000000185,-4.8000000000000185,-4.8000000000000185,-4.8000000000000185,-4.8000000000000185],[-4.700000000000019,-4.700000000000019,-4.700000000000019,-4.700000000000019,-4.700000000000019,-4.700000000000019,-4.700000000000019,-4.700000000000019],[-4.600000000000019,-4.600000000000019,-4.600000000000019,-4.600000000000019,-4.600000000000019,-4.600000000000019,-4.600000000000019,-4.600000000000019],[-4.5000000000000195,-4.5000000000000195,-4.5000000000000195,-4.5000000000000195,-4.5000000000000195,-4.5000000000000195,-4.5000000000000195,-4.5000000000000195],[-4.40000000000002,-4.40000000000002,-4.40000000000002,-4.40000000000002,-4.40000000000002,-4.40000000000002,-4.40000000000002,-4.40000000000002],[-4.30000000000002,-4.30000000000002,-4.30000000000002,-4.30000000000002,-4.30000000000002,-4.30000000000002,-4.30000000000002,-4.30000000000002],[-4.200000000000021,-4.200000000000021,-4.200000000000021,-4.200000000000021,-4.200000000000021,-4.200000000000021,-4.200000000000021,-4.200000000000021],[-4.100000000000021,-4.100000000000021,-4.100000000000021,-4.100000000000021,-4.100000000000021,-4.100000000000021,-4.100000000000021,-4.100000000000021],[-4.000000000000021,-4.000000000000021,-4.000000000000021,-4.000000000000021,-4.000000000000021,-4.000000000000021,-4.000000000000021,-4.000000000000021],[-3.9000000000000217,-3.9000000000000217,-3.9000000000000217,-3.9000000000000217,-3.9000000000000217,-3.9000000000000217,-3.9000000000000217,-3.9000000000000217],[-3.800000000000022,-3.800000000000022,-3.800000000000022,-3.800000000000022,-3.800000000000022,-3.800000000000022,-3.800000000000022,-3.800000000000022],[-3.7000000000000224,-3.7000000000000224,-3.7000000000000224,-3.7000000000000224,-3.7000000000000224,-3.7000000000000224,-3.7000000000000224,-3.7000000000000224],[-3.6000000000000227,-3.6000000000000227,-3.6000000000000227,-3.6000000000000227,-3.6000000000000227,-3.6000000000000227,-3.6000000000000227,-3.6000000000000227],[-3.500000000000023,-3.500000000000023,-3.500000000000023,-3.500000000000023,-3.500000000000023,-3.500000000000023,-3.500000000000023,-3.500000000000023],[-3.4000000000000234,-3.4000000000000234,-3.4000000000000234,-3.4000000000000234,-3.4000000000000234,-3.4000000000000234,-3.4000000000000234,-3.4000000000000234],[-3.300000000000024,-3.300000000000024,-3.300000000000024,-3.300000000000024,-3.300000000000024,-3.300000000000024,-3.300000000000024,-3.300000000000024],[-3.200000000000024,-3.200000000000024,-3.200000000000024,-3.200000000000024,-3.200000000000024,-3.200000000000024,-3.200000000000024,-3.200000000000024],[-3.1000000000000245,-3.1000000000000245,-3.1000000000000245,-3.1000000000000245,-3.1000000000000245,-3.1000000000000245,-3.1000000000000245,-3.1000000000000245],[-3.000000000000025,-3.000000000000025,-3.000000000000025,-3.000000000000025,-3.000000000000025,-3.000000000000025,-3.000000000000025,-3.000000000000025],[-2.9000000000000252,-2.9000000000000252,-2.9000000000000252,-2.9000000000000252,-2.9000000000000252,-2.9000000000000252,-2.9000000000000252,-2.9000000000000252],[-2.8000000000000256,-2.8000000000000256,-2.8000000000000256,-2.8000000000000256,-2.8000000000000256,-2.8000000000000256,-2.8000000000000256,-2.8000000000000256],[-2.700000000000026,-2.700000000000026,-2.700000000000026,-2.700000000000026,-2.700000000000026,-2.700000000000026,-2.700000000000026,-2.700000000000026],[-2.6000000000000263,-2.6000000000000263,-2.6000000000000263,-2.6000000000000263,-2.6000000000000263,-2.6000000000000263,-2.6000000000000263,-2.6000000000000263],[-2.5000000000000266,-2.5000000000000266,-2.5000000000000266,-2.5000000000000266,-2.5000000000000266,-2.5000000000000266,-2.5000000000000266,-2.5000000000000266],[-2.400000000000027,-2.400000000000027,-2.400000000000027,-2.400000000000027,-2.400000000000027,-2.400000000000027,-2.400000000000027,-2.400000000000027],[-2.3000000000000274,-2.3000000000000274,-2.3000000000000274,-2.3000000000000274,-2.3000000000000274,-2.3000000000000274,-2.3000000000000274,-2.3000000000000274],[-2.2000000000000277,-2.2000000000000277,-2.2000000000000277,-2.2000000000000277,-2.2000000000000277,-2.2000000000000277,-2.2000000000000277,-2.2000000000000277],[-2.100000000000028,-2.100000000000028,-2.100000000000028,-2.100000000000028,-2.100000000000028,-2.100000000000028,-2.100000000000028,-2.100000000000028],[-2.0000000000000284,-2.0000000000000284,-2.0000000000000284,-2.0000000000000284,-2.0000000000000284,-2.0000000000000284,-2.0000000000000284,-2.0000000000000284],[-1.9000000000000288,-1.9000000000000288,-1.9000000000000288,-1.9000000000000288,-1.9000000000000288,-1.9000000000000288,-1.9000000000000288,-1.9000000000000288],[-1.8000000000000291,-1.8000000000000291,-1.8000000000000291,-1.8000000000000291,-1.8000000000000291,-1.8000000000000291,-1.8000000000000291,-1.8000000000000291],[-1.7000000000000295,-1.7000000000000295,-1.7000000000000295,-1.7000000000000295,-1.7000000000000295,-1.7000000000000295,-1.7000000000000295,-1.7000000000000295],[-1.6000000000000298,-1.6000000000000298,-1.6000000000000298,-1.6000000000000298,-1.6000000000000298,-1.6000000000000298,-1.6000000000000298,-1.6000000000000298],[-1.5000000000000302,-1.5000000000000302,-1.5000000000000302,-1.5000000000000302,-1.5000000000000302,-1.5000000000000302,-1.5000000000000302,-1.5000000000000302],[-1.4000000000000306,-1.4000000000000306,-1.4000000000000306,-1.4000000000000306,-1.4000000000000306,-1.4000000000000306,-1.4000000000000306,-1.4000000000000306],[-1.300000000000031,-1.300000000000031,-1.300000000000031,-1.300000000000031,-1.300000000000031,-1.300000000000031,-1.300000000000031,-1.300000000000031],[-1.2000000000000313,-1.2000000000000313,-1.2000000000000313,-1.2000000000000313,-1.2000000000000313,-1.2000000000000313,-1.2000000000000313,-1.2000000000000313],[-1.1000000000000316,-1.1000000000000316,-1.1000000000000316,-1.1000000000000316,-1.1000000000000316,-1.1000000000000316,-1.1000000000000316,-1.1000000000000316],[-1.000000000000032,-1.000000000000032,-1.000000000000032,-1.000000000000032,-1.000000000000032,-1.000000000000032,-1.000000000000032,-1.000000000000032],[-0.9000000000000323,-0.9000000000000323,-0.9000000000000323,-0.9000000000000323,-0.9000000000000323,-0.9000000000000323,-0.9000000000000323,-0.9000000000000323],[-0.8000000000000327,-0.8000000000000327,-0.8000000000000327,-0.8000000000000327,-0.8000000000000327,-0.8000000000000327,-0.8000000000000327,-0.8000000000000327],[-0.700000000000033,-0.700000000000033,-0.700000000000033,-0.700000000000033,-0.700000000000033,-0.700000000000033,-0.700000000000033,-0.700000000000033],[-0.6000000000000334,-0.6000000000000334,-0.6000000000000334,-0.6000000000000334,-0.6000000000000334,-0.6000000000000334,-0.6000000000000334,-0.6000000000000334],[-0.5000000000000338,-0.5000000000000338,-0.5000000000000338,-0.5000000000000338,-0.5000000000000338,-0.5000000000000338,-0.5000000000000338,-0.5000000000000338],[-0.4000000000000341,-0.4000000000000341,-0.4000000000000341,-0.4000000000000341,-0.4000000000000341,-0.4000000000000341,-0.4000000000000341,-0.4000000000000341],[-0.30000000000003446,-0.30000000000003446,-0.30000000000003446,-0.30000000000003446,-0.30000000000003446,-0.30000000000003446,-0.30000000000003446,-0.30000000000003446],[-0.20000000000003482,-0.20000000000003482,-0.20000000000003482,-0.20000000000003482,-0.20000000000003482,-0.20000000000003482,-0.20000000000003482,-0.20000000000003482],[-0.10000000000003517,-0.10000000000003517,-0.10000000000003517,-0.10000000000003517,-0.10000000000003517,-0.10000000000003517,-0.10000000000003517,-0.10000000000003517],[-3.552713678800501e-14,-3.552713678800501e-14,-3.552713678800501e-14,-3.552713678800501e-14,-3.552713678800501e-14,-3.552713678800501e-14,-3.552713678800501e-14,-3.552713678800501e-14],[0.09999999999996412,0.09999999999996412,0.09999999999996412,0.09999999999996412,0.09999999999996412,0.09999999999996412,0.09999999999996412,0.09999999999996412],[0.19999999999996376,0.19999999999996376,0.19999999999996376,0.19999999999996376,0.19999999999996376,0.19999999999996376,0.19999999999996376,0.19999999999996376],[0.2999999999999634,0.2999999999999634,0.2999999999999634,0.2999999999999634,0.2999999999999634,0.2999999999999634,0.2999999999999634,0.2999999999999634],[0.39999999999996305,0.39999999999996305,0.39999999999996305,0.39999999999996305,0.39999999999996305,0.39999999999996305,0.39999999999996305,0.39999999999996305],[0.4999999999999627,0.4999999999999627,0.4999999999999627,0.4999999999999627,0.4999999999999627,0.4999999999999627,0.4999999999999627,0.4999999999999627],[0.5999999999999623,0.5999999999999623,0.5999999999999623,0.5999999999999623,0.5999999999999623,0.5999999999999623,0.5999999999999623,0.5999999999999623],[0.699999999999962,0.699999999999962,0.699999999999962,0.699999999999962,0.699999999999962,0.699999999999962,0.699999999999962,0.699999999999962],[0.7999999999999616,0.7999999999999616,0.7999999999999616,0.7999999999999616,0.7999999999999616,0.7999999999999616,0.7999999999999616,0.7999999999999616],[0.8999999999999613,0.8999999999999613,0.8999999999999613,0.8999999999999613,0.8999999999999613,0.8999999999999613,0.8999999999999613,0.8999999999999613],[0.9999999999999609,0.9999999999999609,0.9999999999999609,0.9999999999999609,0.9999999999999609,0.9999999999999609,0.9999999999999609,0.9999999999999609],[1.0999999999999606,1.0999999999999606,1.0999999999999606,1.0999999999999606,1.0999999999999606,1.0999999999999606,1.0999999999999606,1.0999999999999606],[1.1999999999999602,1.1999999999999602,1.1999999999999602,1.1999999999999602,1.1999999999999602,1.1999999999999602,1.1999999999999602,1.1999999999999602],[1.2999999999999599,1.2999999999999599,1.2999999999999599,1.2999999999999599,1.2999999999999599,1.2999999999999599,1.2999999999999599,1.2999999999999599],[1.3999999999999595,1.3999999999999595,1.3999999999999595,1.3999999999999595,1.3999999999999595,1.3999999999999595,1.3999999999999595,1.3999999999999595],[1.4999999999999591,1.4999999999999591,1.4999999999999591,1.4999999999999591,1.4999999999999591,1.4999999999999591,1.4999999999999591,1.4999999999999591],[1.5999999999999588,1.5999999999999588,1.5999999999999588,1.5999999999999588,1.5999999999999588,1.5999999999999588,1.5999999999999588,1.5999999999999588],[1.6999999999999584,1.6999999999999584,1.6999999999999584,1.6999999999999584,1.6999999999999584,1.6999999999999584,1.6999999999999584,1.6999999999999584],[1.799999999999958,1.799999999999958,1.799999999999958,1.799999999999958,1.799999999999958,1.799999999999958,1.799999999999958,1.799999999999958],[1.8999999999999577,1.8999999999999577,1.8999999999999577,1.8999999999999577,1.8999999999999577,1.8999999999999577,1.8999999999999577,1.8999999999999577],[1.9999999999999574,1.9999999999999574,1.9999999999999574,1.9999999999999574,1.9999999999999574,1.9999999999999574,1.9999999999999574,1.9999999999999574],[2.099999999999957,2.099999999999957,2.099999999999957,2.099999999999957,2.099999999999957,2.099999999999957,2.099999999999957,2.099999999999957],[2.1999999999999567,2.1999999999999567,2.1999999999999567,2.1999999999999567,2.1999999999999567,2.1999999999999567,2.1999999999999567,2.1999999999999567],[2.2999999999999563,2.2999999999999563,2.2999999999999563,2.2999999999999563,2.2999999999999563,2.2999999999999563,2.2999999999999563,2.2999999999999563],[2.399999999999956,2.399999999999956,2.399999999999956,2.399999999999956,2.399999999999956,2.399999999999956,2.399999999999956,2.399999999999956],[2.4999999999999556,2.4999999999999556,2.4999999999999556,2.4999999999999556,2.4999999999999556,2.4999999999999556,2.4999999999999556,2.4999999999999556],[2.5999999999999552,2.5999999999999552,2.5999999999999552,2.5999999999999552,2.5999999999999552,2.5999999999999552,2.5999999999999552,2.5999999999999552],[2.699999999999955,2.699999999999955,2.699999999999955,2.699999999999955,2.699999999999955,2.699999999999955,2.699999999999955,2.699999999999955],[2.7999999999999545,2.7999999999999545,2.7999999999999545,2.7999999999999545,2.7999999999999545,2.7999999999999545,2.7999999999999545,2.7999999999999545],[2.899999999999954,2.899999999999954,2.899999999999954,2.899999999999954,2.899999999999954,2.899999999999954,2.899999999999954,2.899999999999954],[2.999999999999954,2.999999999999954,2.999999999999954,2.999999999999954,2.999999999999954,2.999999999999954,2.999999999999954,2.999999999999954],[3.0999999999999535,3.0999999999999535,3.0999999999999535,3.0999999999999535,3.0999999999999535,3.0999999999999535,3.0999999999999535,3.0999999999999535],[3.199999999999953,3.199999999999953,3.199999999999953,3.199999999999953,3.199999999999953,3.199999999999953,3.199999999999953,3.199999999999953],[3.2999999999999527,3.2999999999999527,3.2999999999999527,3.2999999999999527,3.2999999999999527,3.2999999999999527,3.2999999999999527,3.2999999999999527],[3.3999999999999524,3.3999999999999524,3.3999999999999524,3.3999999999999524,3.3999999999999524,3.3999999999999524,3.3999999999999524,3.3999999999999524],[3.499999999999952,3.499999999999952,3.499999999999952,3.499999999999952,3.499999999999952,3.499999999999952,3.499999999999952,3.499999999999952],[3.5999999999999517,3.5999999999999517,3.5999999999999517,3.5999999999999517,3.5999999999999517,3.5999999999999517,3.5999999999999517,3.5999999999999517],[3.6999999999999513,3.6999999999999513,3.6999999999999513,3.6999999999999513,3.6999999999999513,3.6999999999999513,3.6999999999999513,3.6999999999999513],[3.799999999999951,3.799999999999951,3.799999999999951,3.799999999999951,3.799999999999951,3.799999999999951,3.799999999999951,3.799999999999951],[3.8999999999999506,3.8999999999999506,3.8999999999999506,3.8999999999999506,3.8999999999999506,3.8999999999999506,3.8999999999999506,3.8999999999999506],[3.9999999999999503,3.9999999999999503,3.9999999999999503,3.9999999999999503,3.9999999999999503,3.9999999999999503,3.9999999999999503,3.9999999999999503],[4.09999999999995,4.09999999999995,4.09999999999995,4.09999999999995,4.09999999999995,4.09999999999995,4.09999999999995,4.09999999999995],[4.1999999999999496,4.1999999999999496,4.1999999999999496,4.1999999999999496,4.1999999999999496,4.1999999999999496,4.1999999999999496,4.1999999999999496],[4.299999999999949,4.299999999999949,4.299999999999949,4.299999999999949,4.299999999999949,4.299999999999949,4.299999999999949,4.299999999999949],[4.399999999999949,4.399999999999949,4.399999999999949,4.399999999999949,4.399999999999949,4.399999999999949,4.399999999999949,4.399999999999949],[4.4999999999999485,4.4999999999999485,4.4999999999999485,4.4999999999999485,4.4999999999999485,4.4999999999999485,4.4999999999999485,4.4999999999999485],[4.599999999999948,4.599999999999948,4.599999999999948,4.599999999999948,4.599999999999948,4.599999999999948,4.599999999999948,4.599999999999948],[4.699999999999948,4.699999999999948,4.699999999999948,4.699999999999948,4.699999999999948,4.699999999999948,4.699999999999948,4.699999999999948],[4.799999999999947,4.799999999999947,4.799999999999947,4.799999999999947,4.799999999999947,4.799999999999947,4.799999999999947,4.799999999999947],[4.899999999999947,4.899999999999947,4.899999999999947,4.899999999999947,4.899999999999947,4.899999999999947,4.899999999999947,4.899999999999947],[4.999999999999947,4.999999999999947,4.999999999999947,4.999999999999947,4.999999999999947,4.999999999999947,4.999999999999947,4.999999999999947],[5.099999999999946,5.099999999999946,5.099999999999946,5.099999999999946,5.099999999999946,5.099999999999946,5.099999999999946,5.099999999999946],[5.199999999999946,5.199999999999946,5.199999999999946,5.199999999999946,5.199999999999946,5.199999999999946,5.199999999999946,5.199999999999946],[5.299999999999946,5.299999999999946,5.299999999999946,5.299999999999946,5.299999999999946,5.299999999999946,5.299999999999946,5.299999999999946],[5.399999999999945,5.399999999999945,5.399999999999945,5.399999999999945,5.399999999999945,5.399999999999945,5.399999999999945,5.399999999999945],[5.499999999999945,5.499999999999945,5.499999999999945,5.499999999999945,5.499999999999945,5.499999999999945,5.499999999999945,5.499999999999945],[5.599999999999945,5.599999999999945,5.599999999999945,5.599999999999945,5.599999999999945,5.599999999999945,5.599999999999945,5.599999999999945],[5.699999999999944,5.699999999999944,5.699999999999944,5.699999999999944,5.699999999999944,5.699999999999944,5.699999999999944,5.699999999999944],[5.799999999999944,5.799999999999944,5.799999999999944,5.799999999999944,5.799999999999944,5.799999999999944,5.799999999999944,5.799999999999944],[5.8999999999999435,5.8999999999999435,5.8999999999999435,5.8999999999999435,5.8999999999999435,5.8999999999999435,5.8999999999999435,5.8999999999999435],[5.999999999999943,5.999999999999943,5.999999999999943,5.999999999999943,5.999999999999943,5.999999999999943,5.999999999999943,5.999999999999943],[6.099999999999945,6.099999999999945,6.099999999999945,6.099999999999945,6.099999999999945,6.099999999999945,6.099999999999945,6.099999999999945],[6.1999999999999424,6.1999999999999424,6.1999999999999424,6.1999999999999424,6.1999999999999424,6.1999999999999424,6.1999999999999424,6.1999999999999424],[6.29999999999994,6.29999999999994,6.29999999999994,6.29999999999994,6.29999999999994,6.29999999999994,6.29999999999994,6.29999999999994],[6.399999999999942,6.399999999999942,6.399999999999942,6.399999999999942,6.399999999999942,6.399999999999942,6.399999999999942,6.399999999999942],[6.499999999999943,6.499999999999943,6.499999999999943,6.499999999999943,6.499999999999943,6.499999999999943,6.499999999999943,6.499999999999943],[6.599999999999941,6.599999999999941,6.599999999999941,6.599999999999941,6.599999999999941,6.599999999999941,6.599999999999941,6.599999999999941],[6.699999999999939,6.699999999999939,6.699999999999939,6.699999999999939,6.699999999999939,6.699999999999939,6.699999999999939,6.699999999999939],[6.79999999999994,6.79999999999994,6.79999999999994,6.79999999999994,6.79999999999994,6.79999999999994,6.79999999999994,6.79999999999994],[6.899999999999942,6.899999999999942,6.899999999999942,6.899999999999942,6.899999999999942,6.899999999999942,6.899999999999942,6.899999999999942],[6.99999999999994,6.99999999999994,6.99999999999994,6.99999999999994,6.99999999999994,6.99999999999994,6.99999999999994,6.99999999999994],[7.0999999999999375,7.0999999999999375,7.0999999999999375,7.0999999999999375,7.0999999999999375,7.0999999999999375,7.0999999999999375,7.0999999999999375],[7.199999999999939,7.199999999999939,7.199999999999939,7.199999999999939,7.199999999999939,7.199999999999939,7.199999999999939,7.199999999999939],[7.29999999999994,7.29999999999994,7.29999999999994,7.29999999999994,7.29999999999994,7.29999999999994,7.29999999999994,7.29999999999994],[7.399999999999938,7.399999999999938,7.399999999999938,7.399999999999938,7.399999999999938,7.399999999999938,7.399999999999938,7.399999999999938],[7.499999999999936,7.499999999999936,7.499999999999936,7.499999999999936,7.499999999999936,7.499999999999936,7.499999999999936,7.499999999999936],[7.5999999999999375,7.5999999999999375,7.5999999999999375,7.5999999999999375,7.5999999999999375,7.5999999999999375,7.5999999999999375,7.5999999999999375],[7.699999999999939,7.699999999999939,7.699999999999939,7.699999999999939,7.699999999999939,7.699999999999939,7.699999999999939,7.699999999999939],[7.799999999999937,7.799999999999937,7.799999999999937,7.799999999999937,7.799999999999937,7.799999999999937,7.799999999999937,7.799999999999937],[7.899999999999935,7.899999999999935,7.899999999999935,7.899999999999935,7.899999999999935,7.899999999999935,7.899999999999935,7.899999999999935],[7.999999999999936,7.999999999999936,7.999999999999936,7.999999999999936,7.999999999999936,7.999999999999936,7.999999999999936,7.999999999999936],[8.099999999999937,8.099999999999937,8.099999999999937,8.099999999999937,8.099999999999937,8.099999999999937,8.099999999999937,8.099999999999937],[8.199999999999935,8.199999999999935,8.199999999999935,8.199999999999935,8.199999999999935,8.199999999999935,8.199999999999935,8.199999999999935],[8.299999999999933,8.299999999999933,8.299999999999933,8.299999999999933,8.299999999999933,8.299999999999933,8.299999999999933,8.299999999999933],[8.399999999999935,8.399999999999935,8.399999999999935,8.399999999999935,8.399999999999935,8.399999999999935,8.399999999999935,8.399999999999935],[8.499999999999936,8.499999999999936,8.499999999999936,8.499999999999936,8.499999999999936,8.499999999999936,8.499999999999936,8.499999999999936],[8.599999999999934,8.599999999999934,8.599999999999934,8.599999999999934,8.599999999999934,8.599999999999934,8.599999999999934,8.599999999999934],[8.699999999999932,8.699999999999932,8.699999999999932,8.699999999999932,8.699999999999932,8.699999999999932,8.699999999999932,8.699999999999932],[8.799999999999933,8.799999999999933,8.799999999999933,8.799999999999933,8.799999999999933,8.799999999999933,8.799999999999933,8.799999999999933],[8.899999999999935,8.899999999999935,8.899999999999935,8.899999999999935,8.899999999999935,8.899999999999935,8.899999999999935,8.899999999999935],[8.999999999999932,8.999999999999932,8.999999999999932,8.999999999999932,8.999999999999932,8.999999999999932,8.999999999999932,8.999999999999932],[9.09999999999993,9.09999999999993,9.09999999999993,9.09999999999993,9.09999999999993,9.09999999999993,9.09999999999993,9.09999999999993],[9.199999999999932,9.199999999999932,9.199999999999932,9.199999999999932,9.199999999999932,9.199999999999932,9.199999999999932,9.199999999999932],[9.299999999999933,9.299999999999933,9.299999999999933,9.299999999999933,9.299999999999933,9.299999999999933,9.299999999999933,9.299999999999933],[9.399999999999931,9.399999999999931,9.399999999999931,9.399999999999931,9.399999999999931,9.399999999999931,9.399999999999931,9.399999999999931],[9.499999999999929,9.499999999999929,9.499999999999929,9.499999999999929,9.499999999999929,9.499999999999929,9.499999999999929,9.499999999999929],[9.59999999999993,9.59999999999993,9.59999999999993,9.59999999999993,9.59999999999993,9.59999999999993,9.59999999999993,9.59999999999993],[9.699999999999932,9.699999999999932,9.699999999999932,9.699999999999932,9.699999999999932,9.699999999999932,9.699999999999932,9.699999999999932],[9.79999999999993,9.79999999999993,9.79999999999993,9.79999999999993,9.79999999999993,9.79999999999993,9.79999999999993,9.79999999999993],[9.899999999999928,9.899999999999928,9.899999999999928,9.899999999999928,9.899999999999928,9.899999999999928,9.899999999999928,9.899999999999928]],\"z\":[[1.0,-1.0066350440159422,-3.0128561188997818,-4.997736325771953,-6.940013491499428,-8.818359619149991,-10.611670590662373,-12.299370173303702],[1.0,-0.9866683606865767,-2.9731222527407697,-4.938632284439685,-6.862129823037698,-8.72247451142915,-10.498742095983367,-12.170526635856165],[1.0,-0.966701677357211,-2.9333883865817576,-4.879528243107417,-6.7842461545759685,-8.62658940370831,-10.38581360130436,-12.041683098408626],[1.0,-0.9467349940278456,-2.8936545204227455,-4.82042420177515,-6.706362486114238,-8.53070429598747,-10.272885106625353,-11.912839560961089],[1.0,-0.9267683106984799,-2.8539206542637334,-4.7613201604428825,-6.628478817652509,-8.43481918826663,-10.159956611946347,-11.78399602351355],[1.0,-0.9068016273691144,-2.8141867881047213,-4.702216119110615,-6.550595149190779,-8.338934080545789,-10.04702811726734,-11.655152486066013],[1.0,-0.8868349440397487,-2.7744529219457092,-4.643112077778347,-6.472711480729049,-8.24304897282495,-9.934099622588333,-11.526308948618476],[1.0,-0.8668682607103833,-2.734719055786697,-4.584008036446079,-6.3948278122673194,-8.147163865104108,-9.821171127909327,-11.397465411170938],[1.0,-0.8469015773810178,-2.694985189627685,-4.524903995113811,-6.316944143805589,-8.051278757383269,-9.70824263323032,-11.2686218737234],[1.0,-0.8269348940516521,-2.655251323468673,-4.465799953781544,-6.23906047534386,-7.955393649662427,-9.595314138551313,-11.139778336275862],[1.0,-0.8069682107222866,-2.615517457309661,-4.406695912449276,-6.161176806882129,-7.8595085419415875,-9.482385643872307,-11.010934798828325],[1.0,-0.787001527392921,-2.575783591150649,-4.347591871117008,-6.0832931384204,-7.763623434220746,-9.3694571491933,-10.882091261380786],[1.0,-0.7670348440635555,-2.5360497249916367,-4.28848782978474,-6.00540946995867,-7.667738326499907,-9.256528654514293,-10.75324772393325],[1.0,-0.7470681607341898,-2.4963158588326246,-4.2293837884524725,-5.92752580149694,-7.571853218779066,-9.143600159835286,-10.62440418648571],[1.0,-0.7271014774048243,-2.4565819926736125,-4.1702797471202055,-5.849642133035211,-7.475968111058227,-9.03067166515628,-10.495560649038174],[1.0,-0.7071347940754589,-2.4168481265146005,-4.111175705787938,-5.77175846457348,-7.380083003337385,-8.917743170477273,-10.366717111590635],[1.0,-0.6871681107460932,-2.377114260355588,-4.05207166445567,-5.693874796111751,-7.284197895616546,-8.804814675798266,-10.237873574143098],[1.0,-0.6672014274167277,-2.337380394196576,-3.992967623123402,-5.615991127650021,-7.188312787895706,-8.69188618111926,-10.109030036695561],[1.0,-0.647234744087362,-2.2976465280375638,-3.933863581791134,-5.538107459188291,-7.092427680174866,-8.578957686440253,-9.980186499248022],[1.0,-0.6272680607579966,-2.2579126618785517,-3.874759540458867,-5.460223790726562,-6.996542572454025,-8.466029191761246,-9.851342961800485],[1.0,-0.6073013774286309,-2.2181787957195396,-3.815655499126599,-5.382340122264831,-6.900657464733185,-8.35310069708224,-9.722499424352947],[1.0,-0.5873346940992654,-2.1784449295605275,-3.7565514577943313,-5.304456453803102,-6.804772357012345,-8.240172202403233,-9.59365588690541],[1.0,-0.5673680107699,-2.1387110634015154,-3.6974474164620634,-5.2265727853413715,-6.708887249291505,-8.127243707724226,-9.46481234945787],[1.0,-0.5474013274405343,-2.0989771972425033,-3.6383433751297956,-5.148689116879642,-6.613002141570664,-8.014315213045219,-9.335968812010334],[1.0,-0.5274346441111688,-2.0592433310834912,-3.5792393337975277,-5.070805448417913,-6.517117033849824,-7.901386718366213,-9.207125274562795],[1.0,-0.5074679607818031,-2.019509464924479,-3.5201352924652607,-4.992921779956182,-6.421231926128984,-7.788458223687206,-9.078281737115258],[1.0,-0.48750127745243765,-1.979775598765467,-3.461031251132993,-4.915038111494453,-6.325346818408144,-7.675529729008199,-8.94943819966772],[1.0,-0.46753459412307197,-1.940041732606455,-3.401927209800725,-4.8371544430327225,-6.229461710687303,-7.562601234329193,-8.820594662220183],[1.0,-0.4475679107937065,-1.9003078664474429,-3.342823168468457,-4.759270774570993,-6.133576602966463,-7.449672739650186,-8.691751124772646],[1.0,-0.42760122746434104,-1.8605740002884308,-3.283719127136189,-4.681387106109263,-6.037691495245623,-7.336744244971179,-8.562907587325107],[1.0,-0.40763454413497535,-1.8208401341294187,-3.224615085803922,-4.603503437647533,-5.941806387524783,-7.223815750292172,-8.43406404987757],[1.0,-0.3876678608056099,-1.7811062679704066,-3.1655110444716543,-4.525619769185804,-5.8459212798039415,-7.110887255613166,-8.305220512430031],[1.0,-0.3677011774762442,-1.7413724018113945,-3.1064070031393864,-4.447736100724073,-5.750036172083101,-6.997958760934159,-8.176376974982494],[1.0,-0.34773449414687874,-1.7016385356523824,-3.0473029618071186,-4.369852432262344,-5.654151064362261,-6.885030266255152,-8.047533437534955],[1.0,-0.32776781081751305,-1.6619046694933703,-2.9881989204748507,-4.291968763800614,-5.558265956641421,-6.7721017715761445,-7.9186899000874185],[1.0,-0.3078011274881476,-1.6221708033343583,-2.929094879142583,-4.214085095338884,-5.4623808489205805,-6.659173276897139,-7.78984636263988],[1.0,-0.2878344441587821,-1.5824369371753462,-2.869990837810315,-4.136201426877154,-5.36649574119974,-6.546244782218132,-7.661002825192343],[1.0,-0.26786776082941643,-1.542703071016334,-2.810886796478048,-4.058317758415424,-5.2706106334789,-6.4333162875391245,-7.532159287744804],[1.0,-0.24790107750005097,-1.502969204857322,-2.75178275514578,-3.9804340899536945,-5.17472552575806,-6.320387792860119,-7.403315750297267],[1.0,-0.22793439417068528,-1.46323533869831,-2.692678713813512,-3.902550421491964,-5.0788404180372195,-6.207459298181112,-7.274472212849729],[1.0,-0.20796771084131982,-1.4235014725392978,-2.6335746724812443,-3.8246667530302347,-4.982955310316379,-6.094530803502105,-7.145628675402191],[1.0,-0.18800102751195413,-1.3837676063802857,-2.5744706311489765,-3.7467830845685044,-4.887070202595539,-5.981602308823099,-7.0167851379546535],[1.0,-0.16803434418258867,-1.3440337402212736,-2.5153665898167095,-3.668899416106775,-4.791185094874699,-5.868673814144092,-6.887941600507116],[1.0,-0.14806766085322298,-1.3042998740622616,-2.4562625484844416,-3.5910157476450446,-4.6952999871538585,-5.755745319465085,-6.759098063059578],[1.0,-0.12810097752385752,-1.2645660079032495,-2.3971585071521737,-3.513132079183315,-4.599414879433018,-5.6428168247860775,-6.63025452561204],[1.0,-0.10813429419449205,-1.2248321417442374,-2.338054465819906,-3.4352484107215857,-4.503529771712178,-5.529888330107072,-6.501410988164503],[1.0,-0.08816761086512637,-1.1850982755852253,-2.278950424487638,-3.3573647422598554,-4.407644663991338,-5.416959835428065,-6.372567450716965],[1.0,-0.0682009275357609,-1.1453644094262128,-2.219846383155371,-3.279481073798126,-4.311759556270498,-5.304031340749058,-6.243723913269427],[1.0,-0.048234244206395216,-1.1056305432672007,-2.160742341823103,-3.2015974053363956,-4.215874448549657,-5.191102846070052,-6.1148803758218895],[1.0,-0.02826756087702975,-1.0658966771081886,-2.101638300490835,-3.123713736874666,-4.119989340828817,-5.078174351391045,-5.986036838374352],[1.0,-0.008300877547664176,-1.0261628109491767,-2.0425342591585673,-3.0458300684129362,-4.024104233107977,-4.965245856712038,-5.857193300926814],[1.0,0.0116658057817014,-0.9864289447901646,-1.9834302178262997,-2.9679463999512063,-3.9282191253871366,-4.852317362033032,-5.728349763479276],[1.0,0.031632489111066975,-0.9466950786311525,-1.9243261764940318,-2.8900627314894765,-3.8323340176662963,-4.739388867354025,-5.599506226031738],[1.0,0.05159917244043255,-0.9069612124721405,-1.8652221351617644,-2.8121790630277466,-3.736448909945456,-4.626460372675018,-5.4706626885842],[1.0,0.07156585576979801,-0.8672273463131284,-1.8061180938294965,-2.7342953945660167,-3.640563802224616,-4.5135318779960105,-5.341819151136662],[1.0,0.09153253909916359,-0.8274934801541161,-1.747014052497229,-2.656411726104287,-3.5446786945037756,-4.400603383317005,-5.2129756136891245],[1.0,0.11149922242852917,-0.787759613995104,-1.6879100111649612,-2.5785280576425573,-3.4487935867829353,-4.287674888637998,-5.084132076241588],[1.0,0.13146590575789474,-0.7480257478360919,-1.6288059698326933,-2.5006443891808274,-3.352908479062095,-4.174746393958991,-4.95528853879405],[1.0,0.15143258908726032,-0.7082918816770798,-1.569701928500426,-2.4227607207190975,-3.257023371341255,-4.061817899279985,-4.826445001346512],[1.0,0.1713992724166259,-0.6685580155180677,-1.510597887168158,-2.3448770522573676,-3.1611382636204146,-3.9488894046009784,-4.697601463898974],[1.0,0.19136595574599147,-0.6288241493590556,-1.4514938458358901,-2.2669933837956378,-3.0652531558995744,-3.835960909921971,-4.568757926451436],[1.0,0.21133263907535704,-0.5890902832000435,-1.3923898045036227,-2.1891097153339083,-2.969368048178734,-3.723032415242965,-4.439914389003898],[1.0,0.2312993224047225,-0.5493564170410314,-1.3332857631713548,-2.1112260468721784,-2.873482940457894,-3.6101039205639576,-4.3110708515563605],[1.0,0.2512660057340881,-0.5096225508820194,-1.274181721839087,-2.0333423784104485,-2.7775978327370536,-3.4971754258849512,-4.182227314108823],[1.0,0.27123268906345366,-0.46988868472300727,-1.2150776805068195,-1.9554587099487186,-2.6817127250162134,-3.384246931205945,-4.053383776661285],[1.0,0.29119937239281923,-0.4301548185639952,-1.1559736391745516,-1.8775750414869887,-2.585827617295373,-3.2713184365269377,-3.924540239213747],[1.0,0.3111660557221848,-0.3904209524049831,-1.0968695978422842,-1.7996913730252588,-2.489942509574533,-3.158389941847931,-3.795696701766209],[1.0,0.3311327390515504,-0.350687086245971,-1.0377655565100163,-1.721807704563529,-2.3940574018536926,-3.0454614471689245,-3.666853164318672],[1.0,0.35109942238091596,-0.3109532200869589,-0.9786615151777487,-1.6439240361017995,-2.2981722941328524,-2.9325329524899177,-3.5380096268711343],[1.0,0.3710661057102814,-0.2712193539279468,-0.9195574738454808,-1.5660403676400696,-2.202287186412012,-2.819604457810911,-3.409166089423596],[1.0,0.391032789039647,-0.23148548776893474,-0.8604534325132132,-1.4881566991783397,-2.106402078691172,-2.706675963131904,-3.2803225519760586],[1.0,0.4109994723690126,-0.19175162160992243,-0.8013493911809455,-1.4102730307166098,-2.0105169709703317,-2.5937474684528974,-3.1514790145285208],[1.0,0.43096615569837815,-0.15201775545091034,-0.7422453498486778,-1.33238936225488,-1.9146318632494916,-2.480818973773891,-3.022635477080983],[1.0,0.4509328390277437,-0.11228388929189825,-0.68314130851641,-1.25450569379315,-1.8187467555286514,-2.3678904790948843,-2.893791939633445],[1.0,0.4708995223571093,-0.07255002313288617,-0.6240372671841423,-1.1766220253314201,-1.7228616478078111,-2.2549619844158775,-2.764948402185907],[1.0,0.4908662056864748,-0.03281615697387408,-0.5649332258518747,-1.0987383568696907,-1.626976540086971,-2.1420334897368707,-2.63610486473837],[1.0,0.5108328890158405,0.00691770918513801,-0.505829184519607,-1.0208546884079608,-1.5310914323661302,-2.029104995057864,-2.507261327290832],[1.0,0.5307995723452059,0.0466515753441501,-0.44672514318733914,-0.942971019946231,-1.43520632464529,-1.9161765003788576,-2.378417789843294],[1.0,0.5507662556745715,0.08638544150316219,-0.3876211018550715,-0.8650873514845011,-1.3393212169244497,-1.8032480056998508,-2.2495742523957563],[1.0,0.5707329390039371,0.12611930766217427,-0.3285170605228038,-0.7872036830227712,-1.2434361092036095,-1.690319511020844,-2.1207307149482184],[1.0,0.5906996223333026,0.16585317382118636,-0.2694130191905362,-0.7093200145610415,-1.1475510014827695,-1.5773910163418372,-1.9918871775006806],[1.0,0.6106663056626682,0.20558703998019845,-0.2103089778582683,-0.6314363460993117,-1.0516658937619292,-1.4644625216628304,-1.8630436400531432],[1.0,0.6306329889920337,0.24532090613921065,-0.15120493652600064,-0.5535526776375818,-0.955780786041089,-1.351534026983824,-1.7342001026056053],[1.0,0.6505996723213994,0.28505477229822274,-0.09210089519373299,-0.4756690091758521,-0.8598956783202487,-1.2386055323048173,-1.6053565651580675],[1.0,0.6705663556507648,0.3247886384572348,-0.032996853861465225,-0.3977853407141222,-0.7640105705994082,-1.1256770376258105,-1.4765130277105296],[1.0,0.6905330389801304,0.3645225046162469,0.02610718747080243,-0.3199016722523923,-0.668125462878568,-1.012748542946804,-1.347669490262992],[1.0,0.710499722309496,0.404256370775259,0.0852112288030702,-0.2420180037906624,-0.5722403551577278,-0.8998200482677972,-1.2188259528154541],[1.0,0.7304664056388616,0.4439902369342711,0.14431527013533785,-0.16413433532893273,-0.4763552474368875,-0.7868915535887904,-1.0899824153679163],[1.0,0.7504330889682271,0.48372410309328323,0.2034193114676056,-0.08625066686720284,-0.38047013971604726,-0.6739630589097838,-0.9611388779203787],[1.0,0.7703997722975927,0.5234579692522954,0.26252335279987327,-0.008366998405473058,-0.284585031995207,-0.561034564230777,-0.8322953404728408],[1.0,0.7903664556269583,0.5631918354113075,0.32162739413214103,0.06951667005625684,-0.18869992427436677,-0.44810606955177046,-0.7034518030253032],[1.0,0.8103331389563238,0.6029257015703195,0.3807314354644087,0.14740033851798662,-0.09281481655352652,-0.3351775748727637,-0.5746082655777653],[1.0,0.8302998222856893,0.6426595677293316,0.43983547679667645,0.2252840069797165,0.003070291167313721,-0.222249080193757,-0.4457647281302275],[1.0,0.8502665056150549,0.6823934338883437,0.49893951812894416,0.3031676754414463,0.09895539888815397,-0.10932058551475032,-0.31692119068268976],[1.0,0.8702331889444205,0.7221273000473558,0.5580435594612119,0.38105134390317613,0.1948405066089942,0.003607909164256462,-0.18807765323515202],[1.0,0.890199872273786,0.7618611662063679,0.6171476007934795,0.4589350123649059,0.2907256143298345,0.11653640384326314,-0.05923411578761428],[1.0,0.9101665556031516,0.80159503236538,0.6762516421257473,0.5368186808266358,0.38661072205067476,0.2294648985222698,0.06960942165992356],[1.0,0.9301332389325172,0.8413288985243921,0.7353556834580149,0.6147023492883656,0.48249582977151506,0.3423933932012765,0.1984529591074613],[1.0,0.9500999222618827,0.8810627646834043,0.7944597247902827,0.6925860177500954,0.5783809374923553,0.45532188788028316,0.32729649655499904],[1.0,0.9700666055912482,0.9207966308424164,0.8535637661225504,0.7704696862118252,0.6742660452131956,0.56825038255929,0.45614003400253683],[1.0,0.9900332889206138,0.9605304970014285,0.9126678074548181,0.8483533546735551,0.7701511529340358,0.6811788772382966,0.5849835714500746],[1.0,1.0099999722499793,1.0002643631604404,0.9717718487870858,0.9262370231352849,0.866036260654876,0.7941073719173033,0.7138271088976124],[1.0,1.029966655579345,1.0399982293194527,1.0308758901193535,1.0041206915970147,0.9619213683757164,0.90703586659631,0.8426706463451501],[1.0,1.0499333389087104,1.0797320954784648,1.0899799314516212,1.0820043600587446,1.0578064760965566,1.0199643612753166,0.971514183792688],[1.0,1.0699000222380761,1.119465961637477,1.149083972783889,1.1598880285204745,1.153691583817397,1.1328928559543234,1.1003577212402256],[1.0,1.0898667055674416,1.159199827796489,1.2081880141161567,1.2377716969822044,1.2495766915382371,1.2458213506333302,1.2292012586877634],[1.0,1.1098333888968073,1.198933693955501,1.2672920554484244,1.315655365443934,1.3454617992590774,1.3587498453123368,1.3580447961353013],[1.0,1.1298000722261727,1.2386675601145132,1.326396096780692,1.393539033905664,1.4413469069799176,1.4716783399913433,1.4868883335828391],[1.0,1.1497667555555382,1.2784014262735253,1.3855001381129597,1.4714227023673936,1.5372320147007579,1.5846068346703501,1.6157318710303767],[1.0,1.1697334388849039,1.3181352924325374,1.4446041794452276,1.5493063708291235,1.6331171224215981,1.697535329349357,1.7445754084779146],[1.0,1.1897001222142694,1.3578691585915494,1.5037082207774952,1.6271900392908534,1.7290022301424384,1.8104638240283635,1.8734189459254522],[1.0,1.209666805543635,1.3976030247505615,1.5628122621097629,1.7050737077525833,1.8248873378632786,1.9233923187073703,2.00226248337299],[1.0,1.2296334888730005,1.4373368909095736,1.6219163034420307,1.7829573762143132,1.9207724455841189,2.036320813386377,2.131106020820528],[1.0,1.2496001722023662,1.477070757068586,1.6810203447742982,1.860841044676043,2.016657553304959,2.1492493080653836,2.2599495582680653],[1.0,1.2695668555317317,1.516804623227598,1.740124386106566,1.9387247131377725,2.1125426610258,2.2621778027443904,2.388793095715603],[1.0,1.2895335388610971,1.55653848938661,1.7992284274388337,2.0166083815995024,2.20842776874664,2.3751062974233967,2.517636633163141],[1.0,1.3095002221904628,1.5962723555456222,1.8583324687711014,2.0944920500612323,2.3043128764674803,2.488034792102404,2.646480170610679],[1.0,1.3294669055198283,1.6360062217046343,1.9174365101033692,2.172375718522962,2.4001979841883205,2.6009632867814103,2.7753237080582167],[1.0,1.349433588849194,1.6757400878636464,1.976540551435637,2.250259386984692,2.496083091909161,2.713891781460417,2.9041672455057546],[1.0,1.3694002721785594,1.7154739540226585,2.0356445927679045,2.328143055446422,2.591968199630001,2.826820276139424,3.033010782953292],[1.0,1.389366955507925,1.7552078201816705,2.0947486341001724,2.4060267239081514,2.6878533073508413,2.9397487708184307,3.16185432040083],[1.0,1.4093336388372906,1.7949416863406826,2.1538526754324403,2.4839103923698813,2.7837384150716815,3.052677265497437,3.2906978578483677],[1.0,1.429300322166656,1.8346755524996947,2.2129567167647077,2.561794060831611,2.8796235227925218,3.165605760176444,3.4195413952959055],[1.0,1.4492670054960217,1.8744094186587068,2.272060758096975,2.639677729293341,2.975508630513362,3.2785342548554506,3.5483849327434434],[1.0,1.4692336888253874,1.914143284817719,2.331164799429243,2.717561397755071,3.0713937382342023,3.3914627495344574,3.677228470190981],[1.0,1.4892003721547529,1.953877150976731,2.390268840761511,2.795445066216801,3.1672788459550425,3.504391244213464,3.8060720076385186],[1.0,1.5091670554841183,1.993611017135743,2.449372882093779,2.873328734678531,3.2631639536758827,3.6173197388924705,3.9349155450860565],[1.0,1.529133738813484,2.033344883294755,2.5084769234260462,2.9512124031402607,3.359049061396723,3.7302482335714773,4.063759082533594],[1.0,1.5491004221428495,2.0730787494537672,2.567580964758314,3.0290960716019906,3.4549341691175632,3.843176728250484,4.192602619981132],[1.0,1.569067105472215,2.1128126156127793,2.6266850060905815,3.10697974006372,3.5508192768384035,3.956105222929491,4.32144615742867],[1.0,1.5890337888015806,2.1525464817717914,2.6857890474228494,3.18486340852545,3.6467043845592437,4.069033717608498,4.450289694876208],[1.0,1.6090004721309463,2.1922803479308035,2.7448930887551173,3.26274707698718,3.742589492280084,4.1819622122875035,4.579133232323745],[1.0,1.6289671554603118,2.2320142140898156,2.803997130087385,3.3406307454489097,3.838474600000924,4.294890706966511,4.7079767697712835],[1.0,1.6489338387896773,2.2717480802488277,2.8631011714196526,3.4185144139106396,3.9343597077217645,4.407819201645518,4.8368203072188205],[1.0,1.668900522119043,2.3114819464078398,2.92220521275192,3.4963980823723695,4.030244815442605,4.520747696324524,4.965663844666358],[1.0,1.6888672054484084,2.351215812566852,2.981309254084188,3.5742817508340994,4.126129923163445,4.633676191003531,5.094507382113896],[1.0,1.7088338887777739,2.390949678725864,3.0404132954164558,3.652165419295829,4.222015030884285,4.746604685682538,5.223350919561434],[1.0,1.7288005721071396,2.430683544884876,3.0995173367487237,3.7300490877575587,4.3179001386051254,4.859533180361545,5.352194457008972],[1.0,1.7487672554365052,2.470417411043888,3.1586213780809915,3.8079327562192886,4.413785246325966,4.972461675040551,5.48103799445651],[1.0,1.7687339387658707,2.5101512772029,3.2177254194132585,3.8858164246810185,4.509670354046806,5.085390169719558,5.609881531904048],[1.0,1.7887006220952362,2.5498851433619123,3.2768294607455264,3.9637000931427484,4.605555461767646,5.198318664398565,5.738725069351585],[1.0,1.8086673054246019,2.5896190095209244,3.3359335020777943,4.041583761604478,4.701440569488486,5.3112471590775705,5.867568606799123],[1.0,1.8286339887539673,2.6293528756799365,3.395037543410062,4.119467430066208,4.797325677209327,5.424175653756578,5.996412144246661],[1.0,1.8486006720833328,2.6690867418389486,3.45414158474233,4.197351098527937,4.893210784930167,5.537104148435585,6.125255681694199],[1.0,1.8685673554126985,2.7088206079979606,3.513245626074597,4.2752347669896675,4.989095892651007,5.65003264311459,6.254099219141736],[1.0,1.8885340387420642,2.7485544741569727,3.572349667406865,4.353118435451397,5.084981000371847,5.762961137793598,6.382942756589274],[1.0,1.9085007220714296,2.788288340315985,3.6314537087391328,4.431002103913127,5.180866108092688,5.875889632472605,6.511786294036812],[1.0,1.928467405400795,2.828022206474997,3.6905577500714006,4.508885772374857,5.276751215813528,5.988818127151612,6.6406298314843495],[1.0,1.9484340887301608,2.8677560726340094,3.7496617914036685,4.586769440836587,5.372636323534368,6.101746621830618,6.769473368931887],[1.0,1.9684007720595262,2.9074899387930215,3.8087658327359355,4.664653109298317,5.468521431255208,6.214675116509625,6.898316906379425],[1.0,1.9883674553888917,2.9472238049520336,3.8678698740682034,4.742536777760046,5.564406538976049,6.327603611188632,7.027160443826963],[1.0,2.0083341387182574,2.9869576711110457,3.9269739154004712,4.820420446221776,5.660291646696889,6.4405321058676375,7.156003981274501],[1.0,2.0283008220476226,3.026691537270058,3.986077956732739,4.898304114683506,5.75617675441773,6.553460600546645,7.284847518722039],[1.0,2.0482675053769883,3.06642540342907,4.045181998065007,4.976187783145235,5.85206186213857,6.666389095225652,7.413691056169577],[1.0,2.068234188706354,3.106159269588082,4.104286039397275,5.054071451606966,5.9479469698594105,6.779317589904657,7.542534593617114],[1.0,2.0882008720357197,3.145893135747094,4.163390080729542,5.131955120068695,6.043832077580251,6.892246084583665,7.671378131064651],[1.0,2.1081675553650854,3.185627001906106,4.22249412206181,5.209838788530425,6.139717185301091,7.005174579262672,7.800221668512189],[1.0,2.128134238694451,3.2253608680651182,4.281598163394078,5.287722456992155,6.235602293021931,7.118103073941679,7.929065205959727],[1.0,2.1481009220238163,3.2650947342241303,4.3407022047263455,5.365606125453885,6.3314874007427715,7.2310315686206845,8.057908743407264],[1.0,2.1680676053531815,3.3048286003831424,4.399806246058613,5.443489793915615,6.427372508463612,7.343960063299692,8.186752280854803],[1.0,2.1880342886825472,3.3445624665421545,4.45891028739088,5.521373462377344,6.523257616184452,7.456888557978699,8.315595818302342],[1.0,2.2080009720119134,3.3842963327011675,4.518014328723149,5.599257130839075,6.619142723905294,7.569817052657706,8.444439355749882],[1.0,2.2279676553412786,3.4240301988601787,4.577118370055416,5.677140799300804,6.7150278316261325,7.682745547336712,8.573282893197415],[1.0,2.247934338670644,3.4637640650191903,4.636222411387683,5.755024467762532,6.810912939346971,7.795674042015717,8.702126430644952],[1.0,2.26790102200001,3.503497931178203,4.695326452719952,5.832908136224264,6.906798047067813,7.908602536694724,8.830969968092491],[1.0,2.2878677053293757,3.543231797337216,4.754430494052221,5.910791804685995,7.002683154788655,8.021531031373733,8.959813505540032],[1.0,2.3078343886587405,3.582965663496227,4.813534535384487,5.988675473147723,7.0985682625094935,8.134459526052739,9.088657042987567],[1.0,2.327801071988106,3.6226995296552387,4.872638576716754,6.066559141609452,7.194453370230332,8.247388020731742,9.217500580435102],[1.0,2.347767755317472,3.662433395814251,4.9317426180490225,6.144442810071183,7.290338477951174,8.360316515410751,9.346344117882643],[1.0,2.3677344386468375,3.702167261973264,4.990846659381291,6.222326478532914,7.386223585672016,8.47324501008976,9.475187655330183],[1.0,2.387701121976203,3.7419011281322754,5.049950700713557,6.300210146994643,7.4821086933928544,8.586173504768766,9.604031192777718],[1.0,2.407667805305568,3.781634994291287,5.109054742045824,6.3780938154563716,7.577993801113693,8.69910199944777,9.732874730225253],[1.0,2.427634488634934,3.8213688604503,5.168158783378093,6.455977483918103,7.673878908834535,8.812030494126779,9.861718267672794],[1.0,2.4476011719643003,3.8611027266093125,5.227262824710362,6.533861152379833,7.769764016555377,8.924958988805788,9.990561805120334],[1.0,2.467567855293665,3.900836592768324,5.286366866042629,6.611744820841562,7.865649124276215,9.037887483484791,10.11940534256787],[1.0,2.4875345386230308,3.9405704589273354,5.345470907374895,6.68962848930329,7.961534231997054,9.150815978163797,10.248248880015405],[1.0,2.5075012219523964,3.9803043250863483,5.404574948707164,6.7675121577650215,8.057419339717896,9.263744472842806,10.377092417462945],[1.0,2.527467905281762,4.02003819124536,5.4636789900394325,6.845395826226753,8.153304447438737,9.376672967521813,10.505935954910486],[1.0,2.547434588611128,4.0597720574043725,5.5227830313716995,6.923279494688481,8.249189555159576,9.489601462200818,10.634779492358021],[1.0,2.5674012719404926,4.099505923563384,5.581887072703966,7.00116316315021,8.345074662880414,9.602529956879824,10.763623029805556],[1.0,2.5873679552698583,4.139239789722397,5.640991114036234,7.079046831611941,8.440959770601257,9.715458451558831,10.892466567253097],[1.0,2.607334638599225,4.178973655881409,5.700095155368503,7.156930500073672,8.536844878322098,9.82838694623784,11.021310104700635],[1.0,2.6273013219285897,4.218707522040421,5.75919919670077,7.234814168535401,8.632729986042937,9.941315440916846,11.150153642148172],[1.0,2.647268005257955,4.258441388199432,5.818303238033037,7.312697836997129,8.728615093763775,10.05424393559585,11.278997179595708],[1.0,2.667234688587321,4.298175254358445,5.877407279365306,7.390581505458861,8.824500201484618,10.167172430274858,11.407840717043246],[1.0,2.6872013719166867,4.337909120517458,5.936511320697575,7.468465173920592,8.920385309205459,10.280100924953867,11.536684254490787],[1.0,2.707168055246052,4.377642986676469,5.995615362029841,7.5463488423823195,9.016270416926298,10.393029419632873,11.665527791938322],[1.0,2.727134738575417,4.41737685283548,6.054719403362108,7.624232510844048,9.112155524647136,10.505957914311876,11.794371329385859],[1.0,2.747101421904783,4.457110718994493,6.113823444694376,7.702116179305779,9.208040632367979,10.618886408990885,11.923214866833398],[1.0,2.767068105234149,4.496844585153506,6.172927486026645,7.7799998477675105,9.30392574008882,10.731814903669894,12.052058404280938],[1.0,2.7870347885635143,4.536578451312518,6.232031527358912,7.857883516229239,9.39981084780966,10.844743398348898,12.180901941728473],[1.0,2.8070014718928795,4.57631231747153,6.291135568691178,7.935767184690968,9.495695955530497,10.957671893027904,12.309745479176009],[1.0,2.8269681552222456,4.616046183630542,6.350239610023447,8.013650853152699,9.59158106325134,11.070600387706913,12.438589016623549],[1.0,2.8469348385516113,4.655780049789555,6.409343651355716,8.091534521614431,9.687466170972181,11.183528882385922,12.56743255407109],[1.0,2.8669015218809766,4.695513915948566,6.468447692687983,8.16941819007616,9.78335127869302,11.296457377064925,12.696276091518625],[1.0,2.886868205210342,4.735247782107578,6.527551734020249,8.247301858537888,9.879236386413858,11.40938587174393,12.82511962896616],[1.0,2.9068348885397075,4.77498164826659,6.586655775352518,8.325185526999618,9.9751214941347,11.52231436642294,12.9539631664137],[1.0,2.926801571869073,4.814715514425603,6.645759816684786,8.40306919546135,10.071006601855542,11.635242861101947,13.082806703861241],[1.0,2.946768255198439,4.854449380584614,6.704863858017053,8.48095286392308,10.166891709576381,11.748171355780952,13.211650241308776],[1.0,2.9667349385278037,4.894183246743626,6.76396789934932,8.558836532384806,10.262776817297219,11.861099850459958,13.340493778756311]],\"type\":\"surface\",\"contours\":{\"z\":{\"project\":{\"z\":true},\"highlightcolor\":\"limegreen\",\"show\":true,\"usecolormap\":true}}}],                        {\"template\":{\"data\":{\"histogram2dcontour\":[{\"type\":\"histogram2dcontour\",\"colorbar\":{\"outlinewidth\":0,\"ticks\":\"\"},\"colorscale\":[[0.0,\"#0d0887\"],[0.1111111111111111,\"#46039f\"],[0.2222222222222222,\"#7201a8\"],[0.3333333333333333,\"#9c179e\"],[0.4444444444444444,\"#bd3786\"],[0.5555555555555556,\"#d8576b\"],[0.6666666666666666,\"#ed7953\"],[0.7777777777777778,\"#fb9f3a\"],[0.8888888888888888,\"#fdca26\"],[1.0,\"#f0f921\"]]}],\"choropleth\":[{\"type\":\"choropleth\",\"colorbar\":{\"outlinewidth\":0,\"ticks\":\"\"}}],\"histogram2d\":[{\"type\":\"histogram2d\",\"colorbar\":{\"outlinewidth\":0,\"ticks\":\"\"},\"colorscale\":[[0.0,\"#0d0887\"],[0.1111111111111111,\"#46039f\"],[0.2222222222222222,\"#7201a8\"],[0.3333333333333333,\"#9c179e\"],[0.4444444444444444,\"#bd3786\"],[0.5555555555555556,\"#d8576b\"],[0.6666666666666666,\"#ed7953\"],[0.7777777777777778,\"#fb9f3a\"],[0.8888888888888888,\"#fdca26\"],[1.0,\"#f0f921\"]]}],\"heatmap\":[{\"type\":\"heatmap\",\"colorbar\":{\"outlinewidth\":0,\"ticks\":\"\"},\"colorscale\":[[0.0,\"#0d0887\"],[0.1111111111111111,\"#46039f\"],[0.2222222222222222,\"#7201a8\"],[0.3333333333333333,\"#9c179e\"],[0.4444444444444444,\"#bd3786\"],[0.5555555555555556,\"#d8576b\"],[0.6666666666666666,\"#ed7953\"],[0.7777777777777778,\"#fb9f3a\"],[0.8888888888888888,\"#fdca26\"],[1.0,\"#f0f921\"]]}],\"heatmapgl\":[{\"type\":\"heatmapgl\",\"colorbar\":{\"outlinewidth\":0,\"ticks\":\"\"},\"colorscale\":[[0.0,\"#0d0887\"],[0.1111111111111111,\"#46039f\"],[0.2222222222222222,\"#7201a8\"],[0.3333333333333333,\"#9c179e\"],[0.4444444444444444,\"#bd3786\"],[0.5555555555555556,\"#d8576b\"],[0.6666666666666666,\"#ed7953\"],[0.7777777777777778,\"#fb9f3a\"],[0.8888888888888888,\"#fdca26\"],[1.0,\"#f0f921\"]]}],\"contourcarpet\":[{\"type\":\"contourcarpet\",\"colorbar\":{\"outlinewidth\":0,\"ticks\":\"\"}}],\"contour\":[{\"type\":\"contour\",\"colorbar\":{\"outlinewidth\":0,\"ticks\":\"\"},\"colorscale\":[[0.0,\"#0d0887\"],[0.1111111111111111,\"#46039f\"],[0.2222222222222222,\"#7201a8\"],[0.3333333333333333,\"#9c179e\"],[0.4444444444444444,\"#bd3786\"],[0.5555555555555556,\"#d8576b\"],[0.6666666666666666,\"#ed7953\"],[0.7777777777777778,\"#fb9f3a\"],[0.8888888888888888,\"#fdca26\"],[1.0,\"#f0f921\"]]}],\"surface\":[{\"type\":\"surface\",\"colorbar\":{\"outlinewidth\":0,\"ticks\":\"\"},\"colorscale\":[[0.0,\"#0d0887\"],[0.1111111111111111,\"#46039f\"],[0.2222222222222222,\"#7201a8\"],[0.3333333333333333,\"#9c179e\"],[0.4444444444444444,\"#bd3786\"],[0.5555555555555556,\"#d8576b\"],[0.6666666666666666,\"#ed7953\"],[0.7777777777777778,\"#fb9f3a\"],[0.8888888888888888,\"#fdca26\"],[1.0,\"#f0f921\"]]}],\"mesh3d\":[{\"type\":\"mesh3d\",\"colorbar\":{\"outlinewidth\":0,\"ticks\":\"\"}}],\"scatter\":[{\"fillpattern\":{\"fillmode\":\"overlay\",\"size\":10,\"solidity\":0.2},\"type\":\"scatter\"}],\"parcoords\":[{\"type\":\"parcoords\",\"line\":{\"colorbar\":{\"outlinewidth\":0,\"ticks\":\"\"}}}],\"scatterpolargl\":[{\"type\":\"scatterpolargl\",\"marker\":{\"colorbar\":{\"outlinewidth\":0,\"ticks\":\"\"}}}],\"bar\":[{\"error_x\":{\"color\":\"#2a3f5f\"},\"error_y\":{\"color\":\"#2a3f5f\"},\"marker\":{\"line\":{\"color\":\"#E5ECF6\",\"width\":0.5},\"pattern\":{\"fillmode\":\"overlay\",\"size\":10,\"solidity\":0.2}},\"type\":\"bar\"}],\"scattergeo\":[{\"type\":\"scattergeo\",\"marker\":{\"colorbar\":{\"outlinewidth\":0,\"ticks\":\"\"}}}],\"scatterpolar\":[{\"type\":\"scatterpolar\",\"marker\":{\"colorbar\":{\"outlinewidth\":0,\"ticks\":\"\"}}}],\"histogram\":[{\"marker\":{\"pattern\":{\"fillmode\":\"overlay\",\"size\":10,\"solidity\":0.2}},\"type\":\"histogram\"}],\"scattergl\":[{\"type\":\"scattergl\",\"marker\":{\"colorbar\":{\"outlinewidth\":0,\"ticks\":\"\"}}}],\"scatter3d\":[{\"type\":\"scatter3d\",\"line\":{\"colorbar\":{\"outlinewidth\":0,\"ticks\":\"\"}},\"marker\":{\"colorbar\":{\"outlinewidth\":0,\"ticks\":\"\"}}}],\"scattermapbox\":[{\"type\":\"scattermapbox\",\"marker\":{\"colorbar\":{\"outlinewidth\":0,\"ticks\":\"\"}}}],\"scatterternary\":[{\"type\":\"scatterternary\",\"marker\":{\"colorbar\":{\"outlinewidth\":0,\"ticks\":\"\"}}}],\"scattercarpet\":[{\"type\":\"scattercarpet\",\"marker\":{\"colorbar\":{\"outlinewidth\":0,\"ticks\":\"\"}}}],\"carpet\":[{\"aaxis\":{\"endlinecolor\":\"#2a3f5f\",\"gridcolor\":\"white\",\"linecolor\":\"white\",\"minorgridcolor\":\"white\",\"startlinecolor\":\"#2a3f5f\"},\"baxis\":{\"endlinecolor\":\"#2a3f5f\",\"gridcolor\":\"white\",\"linecolor\":\"white\",\"minorgridcolor\":\"white\",\"startlinecolor\":\"#2a3f5f\"},\"type\":\"carpet\"}],\"table\":[{\"cells\":{\"fill\":{\"color\":\"#EBF0F8\"},\"line\":{\"color\":\"white\"}},\"header\":{\"fill\":{\"color\":\"#C8D4E3\"},\"line\":{\"color\":\"white\"}},\"type\":\"table\"}],\"barpolar\":[{\"marker\":{\"line\":{\"color\":\"#E5ECF6\",\"width\":0.5},\"pattern\":{\"fillmode\":\"overlay\",\"size\":10,\"solidity\":0.2}},\"type\":\"barpolar\"}],\"pie\":[{\"automargin\":true,\"type\":\"pie\"}]},\"layout\":{\"autotypenumbers\":\"strict\",\"colorway\":[\"#636efa\",\"#EF553B\",\"#00cc96\",\"#ab63fa\",\"#FFA15A\",\"#19d3f3\",\"#FF6692\",\"#B6E880\",\"#FF97FF\",\"#FECB52\"],\"font\":{\"color\":\"#2a3f5f\"},\"hovermode\":\"closest\",\"hoverlabel\":{\"align\":\"left\"},\"paper_bgcolor\":\"white\",\"plot_bgcolor\":\"#E5ECF6\",\"polar\":{\"bgcolor\":\"#E5ECF6\",\"angularaxis\":{\"gridcolor\":\"white\",\"linecolor\":\"white\",\"ticks\":\"\"},\"radialaxis\":{\"gridcolor\":\"white\",\"linecolor\":\"white\",\"ticks\":\"\"}},\"ternary\":{\"bgcolor\":\"#E5ECF6\",\"aaxis\":{\"gridcolor\":\"white\",\"linecolor\":\"white\",\"ticks\":\"\"},\"baxis\":{\"gridcolor\":\"white\",\"linecolor\":\"white\",\"ticks\":\"\"},\"caxis\":{\"gridcolor\":\"white\",\"linecolor\":\"white\",\"ticks\":\"\"}},\"coloraxis\":{\"colorbar\":{\"outlinewidth\":0,\"ticks\":\"\"}},\"colorscale\":{\"sequential\":[[0.0,\"#0d0887\"],[0.1111111111111111,\"#46039f\"],[0.2222222222222222,\"#7201a8\"],[0.3333333333333333,\"#9c179e\"],[0.4444444444444444,\"#bd3786\"],[0.5555555555555556,\"#d8576b\"],[0.6666666666666666,\"#ed7953\"],[0.7777777777777778,\"#fb9f3a\"],[0.8888888888888888,\"#fdca26\"],[1.0,\"#f0f921\"]],\"sequentialminus\":[[0.0,\"#0d0887\"],[0.1111111111111111,\"#46039f\"],[0.2222222222222222,\"#7201a8\"],[0.3333333333333333,\"#9c179e\"],[0.4444444444444444,\"#bd3786\"],[0.5555555555555556,\"#d8576b\"],[0.6666666666666666,\"#ed7953\"],[0.7777777777777778,\"#fb9f3a\"],[0.8888888888888888,\"#fdca26\"],[1.0,\"#f0f921\"]],\"diverging\":[[0,\"#8e0152\"],[0.1,\"#c51b7d\"],[0.2,\"#de77ae\"],[0.3,\"#f1b6da\"],[0.4,\"#fde0ef\"],[0.5,\"#f7f7f7\"],[0.6,\"#e6f5d0\"],[0.7,\"#b8e186\"],[0.8,\"#7fbc41\"],[0.9,\"#4d9221\"],[1,\"#276419\"]]},\"xaxis\":{\"gridcolor\":\"white\",\"linecolor\":\"white\",\"ticks\":\"\",\"title\":{\"standoff\":15},\"zerolinecolor\":\"white\",\"automargin\":true,\"zerolinewidth\":2},\"yaxis\":{\"gridcolor\":\"white\",\"linecolor\":\"white\",\"ticks\":\"\",\"title\":{\"standoff\":15},\"zerolinecolor\":\"white\",\"automargin\":true,\"zerolinewidth\":2},\"scene\":{\"xaxis\":{\"backgroundcolor\":\"#E5ECF6\",\"gridcolor\":\"white\",\"linecolor\":\"white\",\"showbackground\":true,\"ticks\":\"\",\"zerolinecolor\":\"white\",\"gridwidth\":2},\"yaxis\":{\"backgroundcolor\":\"#E5ECF6\",\"gridcolor\":\"white\",\"linecolor\":\"white\",\"showbackground\":true,\"ticks\":\"\",\"zerolinecolor\":\"white\",\"gridwidth\":2},\"zaxis\":{\"backgroundcolor\":\"#E5ECF6\",\"gridcolor\":\"white\",\"linecolor\":\"white\",\"showbackground\":true,\"ticks\":\"\",\"zerolinecolor\":\"white\",\"gridwidth\":2}},\"shapedefaults\":{\"line\":{\"color\":\"#2a3f5f\"}},\"annotationdefaults\":{\"arrowcolor\":\"#2a3f5f\",\"arrowhead\":0,\"arrowwidth\":1},\"geo\":{\"bgcolor\":\"white\",\"landcolor\":\"#E5ECF6\",\"subunitcolor\":\"white\",\"showland\":true,\"showlakes\":true,\"lakecolor\":\"white\"},\"title\":{\"x\":0.05},\"mapbox\":{\"style\":\"light\"}}},\"margin\":{\"l\":65,\"r\":50,\"b\":65,\"t\":90},\"title\":{\"text\":\"$2ysen(x)+cos\\u00b2(x)$\"},\"autosize\":false,\"width\":500,\"height\":500},                        {\"responsive\": true}                    ).then(function(){\n",
              "                            \n",
              "var gd = document.getElementById('beb608ba-fc03-4f19-a4ce-c5cbf3046eff');\n",
              "var x = new MutationObserver(function (mutations, observer) {{\n",
              "        var display = window.getComputedStyle(gd).display;\n",
              "        if (!display || display === 'none') {{\n",
              "            console.log([gd, 'removed!']);\n",
              "            Plotly.purge(gd);\n",
              "            observer.disconnect();\n",
              "        }}\n",
              "}});\n",
              "\n",
              "// Listen for the removal of the full notebook cells\n",
              "var notebookContainer = gd.closest('#notebook-container');\n",
              "if (notebookContainer) {{\n",
              "    x.observe(notebookContainer, {childList: true});\n",
              "}}\n",
              "\n",
              "// Listen for the clearing of the current output cell\n",
              "var outputEl = gd.closest('.output');\n",
              "if (outputEl) {{\n",
              "    x.observe(outputEl, {childList: true});\n",
              "}}\n",
              "\n",
              "                        })                };                            </script>        </div>\n",
              "</body>\n",
              "</html>"
            ]
          },
          "metadata": {}
        }
      ]
    },
    {
      "cell_type": "code",
      "source": [
        "#@title Método de cuadratura \n",
        "import numpy as np\n",
        "from scipy.integrate import nquad\n",
        "\n",
        "\n",
        "def f(y, x):\n",
        "    return 2*y*np.sin(x) + np.cos(x)**2\n",
        "\n",
        "\n",
        "x_lim = [0, np.pi/4] #@param\n",
        "y_lim = lambda x: [np.sin(x), np.cos(x)] #@param\n",
        "\n",
        "\n",
        "integral= nquad(f, [y_lim, x_lim])\n",
        "\n",
        "print(\"El valor de la integral doble es:\", integral)\n"
      ],
      "metadata": {
        "colab": {
          "base_uri": "https://localhost:8080/"
        },
        "id": "0LDt7uoz8CEx",
        "outputId": "02701ff2-7c5c-4b1c-a59f-3d54765187dd"
      },
      "execution_count": null,
      "outputs": [
        {
          "output_type": "stream",
          "name": "stdout",
          "text": [
            "El valor de la integral doble es: (0.5118446353109126, 1.1102181755259596e-14)\n"
          ]
        }
      ]
    },
    {
      "cell_type": "code",
      "source": [
        "import numpy as np\n",
        "from scipy.integrate import trapz\n",
        "\n",
        "# Definir la función a integrar\n",
        "def f(x, y):\n",
        "    return 2*y*np.sin(x) + np.cos(x)**2\n",
        "\n",
        "# Definir los límites de integración\n",
        "a, b = 0, np.pi/4\n",
        "c = lambda x: np.sin(x)\n",
        "d = lambda x: np.cos(x)\n",
        "\n",
        "# Definir el número de puntos a utilizar para el método del trapecio\n",
        "n = 5000\n",
        "\n",
        "# Calcular los puntos de integración\n",
        "x = np.linspace(a, b, n)\n",
        "y = np.linspace(c(x), d(x), n)\n",
        "\n",
        "# Calcular el valor de la integral utilizando el método del trapecio\n",
        "integral = trapz(trapz(f(x, y), y), x)\n",
        "\n",
        "print(\"El valor de la integral doble es:\", integral)\n",
        "\n",
        "\n",
        "\n"
      ],
      "metadata": {
        "colab": {
          "base_uri": "https://localhost:8080/"
        },
        "id": "1xPV616D9pQs",
        "outputId": "284f952f-1879-4527-a762-d6df090156be"
      },
      "execution_count": null,
      "outputs": [
        {
          "output_type": "stream",
          "name": "stdout",
          "text": [
            "El valor de la integral doble es: 0.18292744153926144\n"
          ]
        }
      ]
    },
    {
      "cell_type": "markdown",
      "source": [
        "5. The next  problems are examples of how elliptic integrals enter into realistic physics problems. It is straightforward to evaluate any integral numerically using the techniques of this chapter, but it may be difficult for you to  know if the answers you obtain are correct. One way to hone your integral\u0002evaluating skills is to compare your answers from quadrature to power series\n",
        "expressions, or to a polynomial approximations of know precision. To help you in this regard, we present here a polynomial approximation for an elliptic integral (Abramowitz and Stegun, 1972):\n",
        "\n",
        "\\begin{equation}\n",
        "K(m)=\\int_{0}^{\\pi/2} \\frac{\\mathrm{d\\phi}}{\\sqrt{1-m\\sin^2\\phi}}\n",
        "\\end{equation}\n",
        "\n",
        "\\begin{equation}\n",
        "\\approx a_0+a_1m_1+a_2m_2 - [ b_0+b_1m_1+b_2m_1^2]\\ln m_1 + \\epsilon(m) \n",
        "\\end{equation}\n",
        "\n",
        "\n",
        "\n",
        "$m_1 = 1-m$, \n",
        "\n",
        "$ 0 \\le m \\le1 $\n",
        "\n",
        "$\\epsilon(m)\\leq 3\\times 10^{-5}$\n",
        "\n",
        "\n",
        "\n",
        "$a_0 = 1.3862944$\n",
        "\n",
        "$b_0 = 0.5$\n",
        "\n",
        "$a_1 = 0.1119723$\n",
        "\n",
        "$b_1 = 0.1213478$\n",
        "\n",
        "$a_2 = 0.00725296$\n",
        "\n",
        "$b_2 = 0.0288729$"
      ],
      "metadata": {
        "id": "TgXABCfG2gPO"
      }
    },
    {
      "cell_type": "code",
      "source": [
        "m=0.1 #@param \n",
        "a=0 + 0.0001 #@param \n",
        "b=np.pi/2- 0.0001 #@param \n",
        "\n",
        "x=np.linspace(-3, 3,200)\n"
      ],
      "metadata": {
        "id": "srB0VUlXvbdN"
      },
      "execution_count": null,
      "outputs": []
    },
    {
      "cell_type": "code",
      "source": [
        "#@title Notemos que a medida que aumentemos la cantidad de pasos en el intervalo de graficación, la función tenderá a infinito en el intervalo de interés. Por esta razón, no es adecuado tomar precisamenteestos valores como límites de integración sino unos aproximados a estos.\n",
        "funcion='1/np.sqrt(1-(m*np.sin(x)**2))'\n",
        "f=lambda x: eval(funcion)\n",
        "\n",
        "plt.plot(x, f(x))\n"
      ],
      "metadata": {
        "colab": {
          "base_uri": "https://localhost:8080/",
          "height": 447
        },
        "outputId": "3553935c-59c2-4bf0-d56e-7985cb6d6f1d",
        "id": "H2rUja94wGW5"
      },
      "execution_count": null,
      "outputs": [
        {
          "output_type": "execute_result",
          "data": {
            "text/plain": [
              "[<matplotlib.lines.Line2D at 0x7f71d548bf70>]"
            ]
          },
          "metadata": {},
          "execution_count": 23
        },
        {
          "output_type": "display_data",
          "data": {
            "text/plain": [
              "<Figure size 640x480 with 1 Axes>"
            ],
            "image/png": "[encoded data removed]"
          },
          "metadata": {}
        }
      ]
    },
    {
      "cell_type": "code",
      "source": [
        "integrate.quad(f, a, b)"
      ],
      "metadata": {
        "colab": {
          "base_uri": "https://localhost:8080/"
        },
        "id": "dZy7IDESxuN_",
        "outputId": "d9ca69e8-bfc3-4f72-8c86-56fd34b27ee6"
      },
      "execution_count": null,
      "outputs": [
        {
          "output_type": "execute_result",
          "data": {
            "text/plain": [
              "(1.6122359394648833, 1.7899414611220836e-14)"
            ]
          },
          "metadata": {},
          "execution_count": 41
        }
      ]
    },
    {
      "cell_type": "markdown",
      "source": [
        "Para verificar el valor de la integral: \n",
        "\\begin{equation}\n",
        "\\approx a_0+a_1m_1+a_2m_2 - [ b_0+b_1m_1+b_2m_1^2]\\ln m_1 + \\epsilon(m) \n",
        "\\end{equation}"
      ],
      "metadata": {
        "id": "R1L1N42Q2yvg"
      }
    },
    {
      "cell_type": "code",
      "source": [
        "\n",
        "a_0 = 1.3862944\n",
        "m_1=1-m\n",
        "b_0 = 0.5\n",
        "a_1 = 0.1119723\n",
        "epsilon=integrate.quad(f, a, b)[1]\n",
        "b_1 = 0.1213478\n",
        "a_2 = 0.00725296\n",
        "b_2 = 0.0288729\n",
        "\n",
        "a_0+(a_1*m_1)+(a_2*m_1**2)-(b_0+b_1*m_1+b_2*m_1**2)*np.log(m_1)+epsilon"
      ],
      "metadata": {
        "colab": {
          "base_uri": "https://localhost:8080/"
        },
        "id": "8cF3AP8fyI30",
        "outputId": "2384ca91-cf44-4ae9-bcfe-4b6e8118cdc0"
      },
      "execution_count": null,
      "outputs": [
        {
          "output_type": "execute_result",
          "data": {
            "text/plain": [
              "1.5595954370750345"
            ]
          },
          "metadata": {},
          "execution_count": 127
        }
      ]
    },
    {
      "cell_type": "markdown",
      "source": [
        "6. Figure 5.7 shows a current loop of radius a carrying a current I. The point P\n",
        "is a distance r from the center of the loop with spherical coordinates (r, θ, φ).\n",
        "Jackson (1988) solves for the φ component of the vector potential at point P\n",
        "in terms of elliptic integrals:\n",
        "\n",
        "\\begin{equation}\n",
        "A_{\\phi}(r, \\theta)=\\frac{\\mu_0}{4\\pi}\\frac{4Ia}{\\sqrt{a^2+r^2+2ar\\sin \\theta}}\\left(\\frac{(2-k^2)K(k)-2E(k)}{k^2} \\right)\n",
        "\\end{equation}\n",
        "\n",
        "\n",
        "where \n",
        "\n",
        "\\begin{equation}\n",
        "K(k)=\\int_{0}^{\\pi/2} \\frac{\\mathrm{d\\phi}}{\\sqrt{1-k^2\\sin^2\\phi}}\n",
        "\\end{equation}\n",
        "\n",
        "\n",
        "\\begin{equation}\n",
        "E(k)=\\int_{0}^{\\pi/2} \\mathrm{d\\phi} \\sqrt{1-k^2\\sin^2\\phi}\n",
        "\\end{equation}\n",
        "\n",
        "\n",
        "\\begin{equation}\n",
        "k^2=\\frac{4ar\\sin\\theta}{a^2+r^2+2ar\\sin\\theta}\n",
        "\\end{equation}\n",
        "\n",
        "\n",
        "\n",
        "Here K(k) is a complete elliptic integral of the first kind and E(k) is a complete\n",
        "elliptic integral of the second kind. For a = 1, I = 3, and μ0∕4π = 1, compute\n",
        "and plot\n",
        "\n",
        "a) Aφ(r = 1.1, θ) vs. θ\n",
        "\n",
        "b) Aφ(r, θ = π∕3) vs. r"
      ],
      "metadata": {
        "id": "X_TwzjQfO5lU"
      }
    },
    {
      "cell_type": "code",
      "source": [
        "I=3\n",
        "a1=1\n",
        "r=1.1\n",
        "tetha=np.linspace(0.1, 3*np.pi, 300)\n",
        "phi=np.linspace(0.1, 3*np.pi, 300)\n",
        "\n",
        "k_cuadrado= 4*a1*r*np.sin(tetha)/(a1**2+r**2+(2*a1*r*np.sin(tetha)))"
      ],
      "metadata": {
        "id": "wZgvjJJs3h_g"
      },
      "execution_count": 18,
      "outputs": []
    },
    {
      "cell_type": "code",
      "source": [
        "a=0\n",
        "b=np.pi/2\n",
        "phi=np.linspace(0.1, 3*np.pi, 300)\n",
        "\n",
        "K=[]\n",
        "for i in k_cuadrado:\n",
        "  K_funcion='1/np.sqrt(1-(i*np.sin(tetha)**2))'\n",
        "  K_=lambda tetha: eval(K_funcion)\n",
        "  K.append(integrate.quad(K_, a, b)[0])\n",
        "\n",
        "K=np.array(K)"
      ],
      "metadata": {
        "id": "SpKCqqPM5mXT"
      },
      "execution_count": 24,
      "outputs": []
    },
    {
      "cell_type": "code",
      "source": [
        "E=[]\n",
        "for i in k_cuadrado:\n",
        "  E_funcion='np.sqrt(1-(i*np.sin(tetha)**2))'\n",
        "  E_=lambda tetha: eval(K_funcion)\n",
        "  E.append(integrate.quad(E_, a, b)[0])\n",
        "\n",
        "\n",
        "E=np.array(E)"
      ],
      "metadata": {
        "id": "rqcI8Sb_8LZ-"
      },
      "execution_count": 20,
      "outputs": []
    },
    {
      "cell_type": "code",
      "source": [
        "A_1=4*I*a1/np.sqrt(a1**1+r**2+(2*a1*r*np.sin(tetha)))\n",
        "A_2=((2-k_cuadrado)*K-(2*E))/k_cuadrado\n",
        "A=A_1*A_2\n"
      ],
      "metadata": {
        "id": "AaDZnqxO5fc_"
      },
      "execution_count": null,
      "outputs": []
    },
    {
      "cell_type": "code",
      "source": [
        "plt.plot(tetha, A, color='tomato')\n",
        "plt.xlim(0.1, 9)\n",
        "plt.xlabel('$θ$')\n",
        "plt.ylabel('$ A_{\\psi}(r=1.1,θ)$')\n",
        "plt.ylim(-25, -12)"
      ],
      "metadata": {
        "colab": {
          "base_uri": "https://localhost:8080/",
          "height": 473
        },
        "id": "4KhvlwuO_EM1",
        "outputId": "d2bd6560-2787-41ca-ba92-46d300a5c674"
      },
      "execution_count": null,
      "outputs": [
        {
          "output_type": "execute_result",
          "data": {
            "text/plain": [
              "(-25.0, -12.0)"
            ]
          },
          "metadata": {},
          "execution_count": 148
        },
        {
          "output_type": "display_data",
          "data": {
            "text/plain": [
              "<Figure size 640x480 with 1 Axes>"
            ],
            "image/png": "[encoded data removed]"
          },
          "metadata": {}
        }
      ]
    },
    {
      "cell_type": "code",
      "source": [
        "tetha=np.pi/3\n",
        "r=np.linspace(0.1, 10,300)\n",
        "\n",
        "k_cuadrado= 4*a1*r*np.sin(tetha)/(a1**2+r**2+(2*a1*r*np.sin(tetha)))\n"
      ],
      "metadata": {
        "id": "EboCGN_RBg6a"
      },
      "execution_count": null,
      "outputs": []
    },
    {
      "cell_type": "code",
      "source": [
        "a=0\n",
        "b=np.pi/2\n",
        "K=[]\n",
        "for i in k_cuadrado:\n",
        "  K_funcion='1/np.sqrt(1-(i*np.sin(tetha)**2))'\n",
        "  K_=lambda tetha: eval(K_funcion)\n",
        "  K.append(integrate.quad(K_, a, b)[0])\n",
        "\n",
        "K=np.array(K)"
      ],
      "metadata": {
        "id": "6ubUz4HLB9cb"
      },
      "execution_count": null,
      "outputs": []
    },
    {
      "cell_type": "code",
      "source": [
        "E=[]\n",
        "for i in k_cuadrado:\n",
        "  E_funcion='np.sqrt(1-(i*np.sin(tetha)**2))'\n",
        "  E_=lambda tetha: eval(K_funcion)\n",
        "  E.append(integrate.quad(E_, a, b)[0])\n",
        "\n",
        "\n",
        "E=np.array(E)"
      ],
      "metadata": {
        "id": "MeTzVo_6CI2i"
      },
      "execution_count": null,
      "outputs": []
    },
    {
      "cell_type": "code",
      "source": [
        "A_1=4*I*a1/np.sqrt(a1**1+r**2+(2*a1*r*np.sin(tetha)))\n",
        "A_2=((2-k_cuadrado)*K-(2*E))/k_cuadrado\n",
        "A=A_1*A_2"
      ],
      "metadata": {
        "id": "ADVZeJtkCOlW"
      },
      "execution_count": null,
      "outputs": []
    },
    {
      "cell_type": "code",
      "source": [
        "plt.plot(r,A, color='brown')\n",
        "plt.xlabel('$r$')\n",
        "plt.ylabel('$ A_{\\psi}(r=,θ=\\pi/3)$')"
      ],
      "metadata": {
        "id": "Jfxpfc4GCZVl",
        "outputId": "e13b4e46-3323-47cc-e06c-ccd8a2b63f8a",
        "colab": {
          "base_uri": "https://localhost:8080/",
          "height": 466
        }
      },
      "execution_count": null,
      "outputs": [
        {
          "output_type": "execute_result",
          "data": {
            "text/plain": [
              "Text(0, 0.5, '$ A_{\\\\psi}(r=,θ=\\\\pi/3)$')"
            ]
          },
          "metadata": {},
          "execution_count": 156
        },
        {
          "output_type": "display_data",
          "data": {
            "text/plain": [
              "<Figure size 640x480 with 1 Axes>"
            ],
            "image/png": "[encoded data removed]"
          },
          "metadata": {}
        }
      ]
    },
    {
      "cell_type": "markdown",
      "metadata": {
        "id": "6hJGsmCkF6Wv"
      },
      "source": [
        "\n",
        "\n",
        "\n",
        "\n",
        "\n",
        "<!-- 7. Suppose a body of mass m is traveling vertically upward starting at the surface of the earth. If all\n",
        "resistance except gravity is neglected, the escape velocity v is given by\n",
        "\n",
        "$$\n",
        "v^2=2gR\\int_1 ^\\infty z^{-2} dz,\n",
        "$$\n",
        "\n",
        "where z=x/R, R is the earth radius and g de gravity aceleration. Approximate the scape velocity -->"
      ]
    },
    {
      "cell_type": "markdown",
      "metadata": {
        "id": "dJVCeEtpX2sJ"
      },
      "source": [
        "\n",
        "7 Write a double precision program to integrate an arbitrary function numerically using the trapezoid rule, the Simpson rule, and Gaussian quadrature. For our assumed problems there is an analytics answer:\n",
        "\n",
        "\\begin{equation}\n",
        "\\frac{\\mathrm{d}N(t)}{\\mathrm{d}t}=e^{-t}\n",
        "\\end{equation}\n",
        "\n",
        "\\begin{equation}\n",
        "N(1)=\\int_0^{1}e^{-t} dt=1-e^{-1}\n",
        "\\end{equation}\n",
        "\n",
        "7.2. Compute the relative error $\\epsilon=|numerical-exact|/exact$ in each case. Present your data in the tabular form \n",
        "with space or tabas seprating the field. Try N values of 2, 10, 20 , 40 , 80, 160\n",
        "\n",
        "| N  |$\\epsilon_T$ | $\\epsilon_S$ | $\\epsilon_G$ |\n",
        "|----|---------------|--------------|--------------|\n",
        "|   2  |...|...|...|\n",
        "|   10  |...|...|...|\n",
        "\n",
        "7.3. Make a log-log plot of relative errore versus. You should observe that \n",
        "$\\epsilon\\approx CN^{\\alpha}$, $\\mathrm{log} \\epsilon =\\alpha \\mathrm{log}N + \\mathrm{constant}$. This mean that a power-law dependence appears as a straight line on a log-log plot, and that if you use $\\log_{10}$, the the ordinate on your log-log plot will be the negative of the numver of decimal places of presicion in your calculation.\n",
        "7.4. Use your plot or table to stimate the power-law dependence of the error $\\epsilon$ on the number of points N and to determine the number of decimal places of presicion in your calculation. Do this for both the trapezoid and simpsons rules and for both the algolrithmic and round-off error regimes. (Note that if may be hard to reach the round-off error regime for the trapezoid rule becasue the aproximation ) error is so large"
      ]
    },
    {
      "cell_type": "markdown",
      "metadata": {
        "id": "hly3b-GsYi-a"
      },
      "source": []
    }
  ]
}