{
  "nbformat": 4,
  "nbformat_minor": 0,
  "metadata": {
    "colab": {
      "provenance": []
    },
    "kernelspec": {
      "name": "python3",
      "display_name": "Python 3"
    },
    "language_info": {
      "name": "python"
    }
  },
  "cells": [
    {
      "cell_type": "markdown",
      "source": [
        "# Autovalores, autovectores, polinomio caracteristico, diagonalización"
      ],
      "metadata": {
        "id": "Qms28ZxFZdXn"
      }
    },
    {
      "cell_type": "markdown",
      "source": [
        "| Librería | Función | Explicación |\n",
        "| --- | --- | --- |\n",
        "| numpy | numpy.linalg.eig | Calcula los autovalores y autovectores derechos de una matriz cuadrada |\n",
        "| numpy | numpy.linalg.eigh | Calcula los autovalores y autovectores de una matriz hermítica compleja o simétrica real |\n",
        "| numpy | numpy.poly | Calcula el polinomio característico de una matriz |\n",
        "| sympy | sympy.Matrix.eigenvals | Calcula los autovalores de una matriz simbólica |\n",
        "| sympy | sympy.Matrix.eigenvects | Calcula los autovalores y autovectores de una matriz simbólica |\n",
        "| sympy | sympy.Matrix.charpoly | Calcula el polinomio característico de una matriz simbólica |"
      ],
      "metadata": {
        "id": "ONmddMM3Youm"
      }
    },
    {
      "cell_type": "markdown",
      "source": [
        "Calcular el polinomio caracteristico, los  autovalores y autvectores propios de la siguiente matrices, comprobar con la solucion analitica:\n",
        "\n",
        "1. \n",
        "\\begin{bmatrix}\n",
        "1 & -1 & 4 \\\\\n",
        "3 & 2 & -1 \\\\\n",
        "2 & 1 & -1\n",
        "\\end{bmatrix}\n",
        "\n",
        "\n",
        "2. \\begin{bmatrix}\n",
        "3 & -5 \\\\\n",
        "1 & -1 \\\\\n",
        "\\end{bmatrix}\n",
        "\n",
        "\n",
        "\n"
      ],
      "metadata": {
        "id": "EwfvC822XBSY"
      }
    },
    {
      "cell_type": "code",
      "source": [
        "import sympy as sp\n",
        "import numpy as np"
      ],
      "metadata": {
        "id": "WkZiORhqvijf"
      },
      "execution_count": 1,
      "outputs": []
    },
    {
      "cell_type": "markdown",
      "source": [
        "1. \n",
        "\\begin{bmatrix}\n",
        "1 & -1 & 4 \\\\\n",
        "3 & 2 & -1 \\\\\n",
        "2 & 1 & -1\n",
        "\\end{bmatrix}"
      ],
      "metadata": {
        "id": "EL6ZyWXb12Kt"
      }
    },
    {
      "cell_type": "code",
      "source": [
        "v1=np.array([1,-1,4])\n",
        "v2=np.array([3,2,-1])\n",
        "v3=np.array([2,1,-1])\n",
        "W=np.array([v1, v2, v3])\n",
        "\n",
        "t=sp.Symbol('t')\n",
        "m=np.identity(3)\n",
        "M=t*m\n",
        "\n",
        "matriz=W-M\n",
        "matriz"
      ],
      "metadata": {
        "colab": {
          "base_uri": "https://localhost:8080/"
        },
        "id": "mZxxAixEvSio",
        "outputId": "a68a4db8-ae22-47b0-daa9-2df251ba78b4"
      },
      "execution_count": 2,
      "outputs": [
        {
          "output_type": "execute_result",
          "data": {
            "text/plain": [
              "array([[1 - 1.0*t, -1, 4],\n",
              "       [3, 2 - 1.0*t, -1],\n",
              "       [2, 1, -1.0*t - 1]], dtype=object)"
            ]
          },
          "metadata": {},
          "execution_count": 2
        }
      ]
    },
    {
      "cell_type": "code",
      "source": [
        "Matriz=sp.Matrix(-1*matriz) "
      ],
      "metadata": {
        "id": "DE8PbZQZ0UU6"
      },
      "execution_count": 3,
      "outputs": []
    },
    {
      "cell_type": "code",
      "source": [
        "#title calculamos el determinante\n",
        "Matriz.det()"
      ],
      "metadata": {
        "colab": {
          "base_uri": "https://localhost:8080/",
          "height": 38
        },
        "id": "DpAZqB3oztM2",
        "outputId": "988f646b-9cc7-4ef2-eede-8ce7f78d9cac"
      },
      "execution_count": 4,
      "outputs": [
        {
          "output_type": "execute_result",
          "data": {
            "text/plain": [
              "1.0*t**3 - 2.0*t**2 - 5.0*t + 6"
            ],
            "text/latex": "$\\displaystyle 1.0 t^{3} - 2.0 t^{2} - 5.0 t + 6$"
          },
          "metadata": {},
          "execution_count": 4
        }
      ]
    },
    {
      "cell_type": "code",
      "source": [
        "np.poly(W) #notemos que tanto con el método largo como con np.poly() da lo mismo"
      ],
      "metadata": {
        "colab": {
          "base_uri": "https://localhost:8080/"
        },
        "id": "nb1N6B1pyy0P",
        "outputId": "97b01db4-22e8-4c22-aba3-0dce40e12788"
      },
      "execution_count": 5,
      "outputs": [
        {
          "output_type": "execute_result",
          "data": {
            "text/plain": [
              "array([ 1., -2., -5.,  6.])"
            ]
          },
          "metadata": {},
          "execution_count": 5
        }
      ]
    },
    {
      "cell_type": "markdown",
      "source": [
        "\n",
        "2. \\begin{bmatrix}\n",
        "3 & -5 \\\\\n",
        "1 & -1 \\\\\n",
        "\\end{bmatrix}"
      ],
      "metadata": {
        "id": "tFFAm1hV1pdG"
      }
    },
    {
      "cell_type": "code",
      "source": [
        "V1=np.array([3, -5])\n",
        "V2=np.array([1, -1])\n",
        "w=np.array([V1,V2])\n",
        "\n",
        "a=sp.Symbol('a')\n",
        "n=np.identity(2)\n",
        "A=a*n\n",
        "\n",
        "matriz2=w-A\n",
        "\n",
        "Matriz2=sp.Matrix(matriz2) #convertir a tipo matriz\n",
        "\n",
        "print('con Matriz.det()', Matriz2.det(), 'con np.poly()',np.poly(w))"
      ],
      "metadata": {
        "colab": {
          "base_uri": "https://localhost:8080/"
        },
        "id": "ruf9AzOI1qou",
        "outputId": "61209d5b-768c-4c5d-a720-61613c82ac10"
      },
      "execution_count": 6,
      "outputs": [
        {
          "output_type": "stream",
          "name": "stdout",
          "text": [
            "con Matriz.det() 1.0*a**2 - 2.0*a + 2 con np.poly() [ 1. -2.  2.]\n"
          ]
        }
      ]
    },
    {
      "cell_type": "markdown",
      "source": [
        "# Diagonalizacion \n",
        "Una matriz cuadrada $A$ es diagonalizable si y solo si cada autovalor $\\lambda$ de multiplicidad $m$ produce exactamente $m$ autovectores básicos; es decir, si y solo si la solución general del sistema $(A-I\\lambda)\\vec{x}=0$ tiene exactamente $m$ parámetros.\n",
        "\n",
        "\n",
        "Para diagonalizar una matriz $A$, se necesita encontrar una matriz invertible $P$ tal que $P^{-1}AP$ sea una matriz diagonal $D$. Esto significa que las columnas de $P$ son los autovectores de $A$ y los elementos de la diagonal de $D$ son los autovalores correspondientes de $A$.\n",
        "\n",
        "Encuentre la matrix diagnonal para las matrices anteriores. \n",
        "\n"
      ],
      "metadata": {
        "id": "FjG0uYQ_ZlFo"
      }
    },
    {
      "cell_type": "code",
      "source": [
        "eigvals, eigvecs = np.linalg.eig(W)\n",
        "\n",
        "print(\"Valores propios:\")\n",
        "print(eigvals)\n",
        "print(\"Vectores propios:\")\n",
        "print(eigvecs)"
      ],
      "metadata": {
        "colab": {
          "base_uri": "https://localhost:8080/"
        },
        "id": "lmy1dh1W3LXA",
        "outputId": "12401eb5-ae6d-44e7-a2f9-4855ffb6b8d1"
      },
      "execution_count": 33,
      "outputs": [
        {
          "output_type": "stream",
          "name": "stdout",
          "text": [
            "Valores propios:\n",
            "[ 3. -2.  1.]\n",
            "Vectores propios:\n",
            "[[ 0.40824829  0.57735027  0.23570226]\n",
            " [ 0.81649658 -0.57735027 -0.94280904]\n",
            " [ 0.40824829 -0.57735027 -0.23570226]]\n"
          ]
        }
      ]
    },
    {
      "cell_type": "code",
      "source": [
        "D = np.diag(eigvals)\n",
        "V = eigvecs\n",
        "A_diag = np.dot(np.dot(V, D), np.linalg.inv(V))\n",
        "print(\"Matriz diagonalizada:\")\n",
        "print(A_diag)"
      ],
      "metadata": {
        "colab": {
          "base_uri": "https://localhost:8080/"
        },
        "id": "uCvxzw-w3oOx",
        "outputId": "78b6caf0-8250-4f63-b372-a3740569940b"
      },
      "execution_count": 34,
      "outputs": [
        {
          "output_type": "stream",
          "name": "stdout",
          "text": [
            "Matriz diagonalizada:\n",
            "[[ 1. -1.  4.]\n",
            " [ 3.  2. -1.]\n",
            " [ 2.  1. -1.]]\n"
          ]
        }
      ]
    },
    {
      "cell_type": "code",
      "source": [
        "eigvals2, eigvecs2 = np.linalg.eig(w)\n",
        "\n",
        "print(\"Valores propios:\")\n",
        "print(eigvals2)\n",
        "print(\"Vectores propios:\")\n",
        "print(eigvecs2)"
      ],
      "metadata": {
        "colab": {
          "base_uri": "https://localhost:8080/"
        },
        "id": "dvalRbYw4LTd",
        "outputId": "82c93a4b-5cfc-44fa-a4bb-329e664e5c67"
      },
      "execution_count": 35,
      "outputs": [
        {
          "output_type": "stream",
          "name": "stdout",
          "text": [
            "Valores propios:\n",
            "[1.+1.j 1.-1.j]\n",
            "Vectores propios:\n",
            "[[0.91287093+0.j         0.91287093-0.j        ]\n",
            " [0.36514837-0.18257419j 0.36514837+0.18257419j]]\n"
          ]
        }
      ]
    },
    {
      "cell_type": "code",
      "source": [
        "D2 = np.diag(eigvals2)\n",
        "V2 = eigvecs2\n",
        "w_diag = np.dot(np.dot(V2, D2), np.linalg.inv(V2))\n",
        "print(\"Matriz diagonalizada:\")\n",
        "print(w_diag)"
      ],
      "metadata": {
        "colab": {
          "base_uri": "https://localhost:8080/"
        },
        "id": "QIXZY9If4Xrm",
        "outputId": "e5fe47d0-0b29-4842-dddb-4778cc8ccc49"
      },
      "execution_count": 36,
      "outputs": [
        {
          "output_type": "stream",
          "name": "stdout",
          "text": [
            "Matriz diagonalizada:\n",
            "[[ 3.-1.96340545e-16j -5.-3.53093375e-16j]\n",
            " [ 1.-9.08473271e-17j -1.-1.90662952e-16j]]\n"
          ]
        }
      ]
    },
    {
      "cell_type": "markdown",
      "source": [
        "Actividad 2. \n",
        "\n",
        "Considere la ecuación cuadrática $x^2-4xy+3y=6$, esta ecuación cuadrática se corresponde a una hiperbola, la cual puede ser escrita en forma matricial como sigue:\n",
        "\n",
        "$A\\vec{v} \\cdot \\vec{v}=6$, donde $\\vec{v}=(x, y)$ y A es una matrix simetrica, \n",
        "\n",
        "\\begin{equation}\n",
        "A=\\begin{bmatrix}\n",
        "1 & -2 \\\\\n",
        "-2 & 3 \\\\\n",
        "\\end{bmatrix}\n",
        "\\end{equation}\n",
        "\n",
        "1. Realice un grafico que represente la hyperbola\n",
        "\n",
        "\n",
        "\n",
        "\n",
        "\n",
        "\n",
        "\n",
        "- Diagonalice A, para ello construya la matrix Q de autovectores ortoganales \n",
        "tal que $D=Q^{T}AQ$, en este caso se dice que A es diagonalizable ortogonalmente, donde $A=QDQ^T$.\n",
        "\n",
        "- Aplique el resultado de la siguiente demostración para encontrar una nueva hyperbola en una  nueva base\n",
        "\n",
        "\\begin{equation}\n",
        "QDQ^T \\vec{v} \\cdot \\vec{v} = d\n",
        "\\end{equation}\n",
        "\n",
        "\n",
        "\\begin{equation}\n",
        "Q(DQ^T\\vec{v}) \\cdot \\vec{v} = (DQ^T\\vec{v}) \\cdot (Q^T\\vec{v})=d\n",
        "\\end{equation}\n",
        "\n",
        "\n",
        "\\begin{equation}\n",
        "(DQ^T\\vec{v}) \\cdot (Q^T\\vec{v})=d\n",
        "\\end{equation}\n",
        "\n",
        "\n",
        "Sea $u=Q^T\\vec{v}$\n",
        "\n",
        "Luego :\n",
        "\n",
        "\n",
        "\\begin{equation}\n",
        "(D\\vec{u}) \\cdot \\vec{u}=d\n",
        "\\end{equation}\n",
        "\n",
        "donde $\\vec{u}=(x', y')$, tal que $D\\vec{u} \\cdot \\vec{u}=d$ es una nueva hyperbola \n",
        "\n",
        "\n",
        "\n",
        "\n",
        "\n",
        "\n",
        "\n"
      ],
      "metadata": {
        "id": "JwPHzdikikzu"
      }
    },
    {
      "cell_type": "code",
      "source": [
        "import matplotlib.pyplot as plt\n",
        "\n",
        "y=np.linspace(-100,100,100)\n",
        "x=np.linspace(-100,100,100)\n",
        "\n",
        "f=lambda x: (2*x+np.sqrt(x**2+18))/3\n",
        "g=lambda x: (2*x-np.sqrt(x**2+18))/3\n",
        "\n",
        "plt.plot(x,f(x), color='indigo')\n",
        "plt.plot(x,g(x), color='indigo')\n",
        "plt.xlim(-100,100)\n",
        "plt.ylim(-100,100)"
      ],
      "metadata": {
        "id": "vyJHxkinijT2",
        "colab": {
          "base_uri": "https://localhost:8080/",
          "height": 452
        },
        "outputId": "6fd2c484-86dd-4039-f82a-35589bd26078"
      },
      "execution_count": 12,
      "outputs": [
        {
          "output_type": "execute_result",
          "data": {
            "text/plain": [
              "(-100.0, 100.0)"
            ]
          },
          "metadata": {},
          "execution_count": 12
        },
        {
          "output_type": "display_data",
          "data": {
            "text/plain": [
              "<Figure size 640x480 with 1 Axes>"
            ],
            "image/png": "[encoded data removed]"
          },
          "metadata": {}
        }
      ]
    },
    {
      "cell_type": "code",
      "source": [
        "#@title Otra forma de graficar esta cónica\n",
        "x,y=np.meshgrid(x,y)\n",
        "plt.contour(x,y, (x**2-4*x*y+3*y**2-6), [0], colors='c')\n",
        "plt.show()"
      ],
      "metadata": {
        "colab": {
          "base_uri": "https://localhost:8080/",
          "height": 435
        },
        "id": "k68YbOPjDDns",
        "outputId": "b8d66568-b2df-4746-85c8-1c9fc7d247fe"
      },
      "execution_count": 13,
      "outputs": [
        {
          "output_type": "display_data",
          "data": {
            "text/plain": [
              "<Figure size 640x480 with 1 Axes>"
            ],
            "image/png": "[encoded data removed]"
          },
          "metadata": {}
        }
      ]
    },
    {
      "cell_type": "markdown",
      "source": [
        "- Diagonalice A, para ello construya la matrix Q de autovectores ortoganales \n",
        "tal que $D=Q^{T}AQ$, en este caso se dice que A es diagonalizable ortogonalmente, donde $A=QDQ^T$."
      ],
      "metadata": {
        "id": "cMnXmI1R5b2z"
      }
    },
    {
      "cell_type": "code",
      "source": [
        "A = np.array([[1, -2], [-2, 3]])\n",
        "\n",
        "eigvals, eigvecs = np.linalg.eigh(A)\n",
        "\n",
        "Q = eigvecs # matriz Q de autovectores ortogonales\n",
        "\n",
        "D = np.diag(eigvals)\n",
        "\n",
        "# Verificar que A = Q*D*Q^T\n",
        "A_diag = np.dot(np.dot(Q, D), Q.T) #np.dot sirve para calcular el producto de matrices\n",
        "print(\"Matriz diagonalizada A:\")\n",
        "print(A_diag)\n"
      ],
      "metadata": {
        "id": "tism8iA2Emlj",
        "colab": {
          "base_uri": "https://localhost:8080/"
        },
        "outputId": "ba86ed4c-ca67-49c5-be22-b97cf32c9ab9"
      },
      "execution_count": 39,
      "outputs": [
        {
          "output_type": "stream",
          "name": "stdout",
          "text": [
            "Matriz diagonalizada A:\n",
            "[[ 1. -2.]\n",
            " [-2.  3.]]\n"
          ]
        }
      ]
    },
    {
      "cell_type": "markdown",
      "source": [
        "- Aplique el resultado de la siguiente demostración para encontrar una nueva hyperbola en una  nueva base\n",
        "\n",
        "\\begin{equation}\n",
        "QDQ^T \\vec{v} \\cdot \\vec{v} = d\n",
        "\\end{equation}\n",
        "\n",
        "\n",
        "\\begin{equation}\n",
        "Q(DQ^T\\vec{v}) \\cdot \\vec{v} = (DQ^T\\vec{v}) \\cdot (Q^T\\vec{v})=d\n",
        "\\end{equation}\n",
        "\n",
        "\n",
        "\\begin{equation}\n",
        "(DQ^T\\vec{v}) \\cdot (Q^T\\vec{v})=d\n",
        "\\end{equation}\n",
        "\n",
        "\n",
        "Sea $u=Q^T\\vec{v}$\n",
        "\n",
        "Luego :\n",
        "\n",
        "\n",
        "\\begin{equation}\n",
        "(D\\vec{u}) \\cdot \\vec{u}=d\n",
        "\\end{equation}\n",
        "\n",
        "donde $\\vec{u}=(x', y')$, tal que $D\\vec{u} \\cdot \\vec{u}=d$ es una nueva hyperbola \n"
      ],
      "metadata": {
        "id": "62esfkho7jWN"
      }
    },
    {
      "cell_type": "code",
      "source": [
        "d=1 #cte hiperbola\n",
        "\n",
        "x = np.linspace(-20, 20, 100)\n",
        "y = np.linspace(-20, 20, 100)\n",
        "X, Y = np.meshgrid(x, y)\n",
        "Z = np.array([X.ravel(), Y.ravel()]).T"
      ],
      "metadata": {
        "id": "jIjrDgY58QHw"
      },
      "execution_count": 51,
      "outputs": []
    },
    {
      "cell_type": "code",
      "source": [
        "u=Q.T@Z.T"
      ],
      "metadata": {
        "id": "uGVzj3YO7lnQ"
      },
      "execution_count": 43,
      "outputs": []
    },
    {
      "cell_type": "code",
      "source": [
        "F = D @ u * u\n",
        "G = np.sum(F, axis=0) - d\n"
      ],
      "metadata": {
        "id": "lgz9EzmM8eqz"
      },
      "execution_count": 46,
      "outputs": []
    },
    {
      "cell_type": "code",
      "source": [
        "plt.contour(X, Y, G.reshape(X.shape), levels=[0])\n",
        "plt.show()\n"
      ],
      "metadata": {
        "colab": {
          "base_uri": "https://localhost:8080/",
          "height": 435
        },
        "id": "NaS4-7ot8x_q",
        "outputId": "decea71c-4df8-4e5a-c108-86f8f81476ea"
      },
      "execution_count": 53,
      "outputs": [
        {
          "output_type": "display_data",
          "data": {
            "text/plain": [
              "<Figure size 640x480 with 1 Axes>"
            ],
            "image/png": "[encoded data removed]"
          },
          "metadata": {}
        }
      ]
    }
  ]
}