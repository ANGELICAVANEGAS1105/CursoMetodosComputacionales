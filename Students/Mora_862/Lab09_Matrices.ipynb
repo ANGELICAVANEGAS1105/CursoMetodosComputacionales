{
  "nbformat": 4,
  "nbformat_minor": 0,
  "metadata": {
    "colab": {
      "provenance": []
    },
    "kernelspec": {
      "name": "python3",
      "display_name": "Python 3"
    },
    "language_info": {
      "name": "python"
    }
  },
  "cells": [
    {
      "cell_type": "code",
      "source": [],
      "metadata": {
        "id": "s6Pu7tu5Yg1U"
      },
      "execution_count": null,
      "outputs": []
    },
    {
      "cell_type": "markdown",
      "source": [
        "<a href=\"https://colab.research.google.com/github/hernansalinas/autogrades/blob/main/Laboratorios_Taller/Lab09_Matrices.ipynb\" target=\"_parent\"><img src=\"https://colab.research.google.com/assets/colab-badge.svg\" alt=\"Open In Colab\"/></a>"
      ],
      "metadata": {
        "id": "zX5mmeZ08lWy"
      }
    },
    {
      "cell_type": "markdown",
      "source": [
        "# Matrices \n",
        "\n",
        "1. **Modelo de población de una especie de pajaros** \n",
        "Se estudiará un modelo de crecimiento de la poblacion para una especie de pájaros. En esta población se supone que el número de pajaros hembras es igual al número de machos.  Sea :\n",
        "- $p_{j,n-1}$ la poblacion juvenil (inmadura) de hembras en el año (n-1) \n",
        "- $p_{a,n-1}$ el numero de hembras adultas en el mismo año.\n",
        "\n",
        "Algunos de los pájaros jóvenes morirán  durante el año. Se suponen que cierta proporción de pájaros $\\alpha$ de los pájaros jovenes sobrevivirán para llegar a adultos en la primavera del año $n$. Cada hembra que sobrevive prdocuce huevos en la primavera, los incupan y producen, en promedio, $k$ pájaros hembras jóvenes en al siguiente primavera. Los adultos también mueren y la proporcion de adultos que sobrevive de una primavera a la siguiente es $\\beta$.\n",
        "\n",
        "Un modelo para el crecimiento poblacional de pajaros \n",
        "\\begin{equation}\n",
        "p_{j,n} = kp_{a, n-1}\n",
        "\\end{equation}\n",
        "\n",
        "\n",
        "\\begin{equation}\n",
        "p_{a,n} =\\alpha p_{j,n-1} + \\beta p_{a, n-1}\n",
        "\\end{equation}\n",
        "\n",
        "Que puede ser escrita como ${\\bf p_n}=A{\\bf p_{n-1}}$, Siendo A la matrix definida en las ecuaciones anteriores, y ${\\bf p_n}$ un vector. Para la evolución temporal se cumple que: \n",
        "\n",
        "- ${\\bf p_1}=A{\\bf p_{0}}$, ${\\bf p_2}=A{\\bf p_{1}}= A(A{\\bf p_0})=A^2{\\bf p_{0}}$ $...$ y asi sucesivamente. Entonces:\n",
        "\n",
        "\\begin{equation}\n",
        "{\\bf p_n} = A^n {\\bf p_{0}}\n",
        "\\end{equation}\n",
        "\n",
        "\n",
        "Supongamos que tenemos 10 hembras  (y 10 machos) adultos y no hay jovenes, la supongmaos que la matriz A viene dada por:\n",
        "\n",
        "\\begin{bmatrix} \n",
        "0 & 2 \\\\\n",
        "0.3 & 0.5 \n",
        "\\end{bmatrix}\n",
        "\n",
        "para la primera poblacion $p_{j,1}=20$, $p_{a,1}=5$, el total de hembras es 25 y la razón jovenes adultas es de 4 a 1. Muestre que la razon $p_{j,n}/p_{a,n}$ converge $1.88$,(como no se puede tener un número racional de pájaros,. aproxime siempre el resultados al menor entero).\n",
        "\n",
        "- Para la  solución general del modelo del problema de valores y vetores propios\n",
        "se tiene que:\n",
        "\\begin{equation}\n",
        "p_n=\\lambda_1^n\\left [ a_1 \\vec{v}_1 +\\left( \\frac{\\lambda_2}{\\lambda_1} \\right)^n \\right]a_2 \\vec{v}_2\n",
        "\\end{equation}\n",
        "\n",
        "Asumiendo que $\\lambda_2/ \\lambda_1 < 1$, entonces $(\\lambda_2/ \\lambda_1)^n << 1$ cuando n crece.  Entonce spara n grande se cumple que:\n",
        "\n",
        "donde $p_n=a_1\\lambda_1^n\\vec{v}_1$\n",
        "\n",
        "\n",
        "donde:\n",
        "\n",
        "${\\bf p_0} = a_1 \\vec{v}_1 + a_2 \\vec{v}_2$, con $v_1$ y $v_2$ vectores propios de A"
      ],
      "metadata": {
        "id": "tOucge4fW3Fc"
      }
    },
    {
      "cell_type": "code",
      "source": [
        "import numpy as np"
      ],
      "metadata": {
        "id": "9IWzf4g1XQOL"
      },
      "execution_count": null,
      "outputs": []
    },
    {
      "cell_type": "code",
      "source": [
        "#@title para el primer caso, en donde hay 10 hembras y no hay jóvenes, el vector p_0 es (0,10), por lo tanto el vector P_n es:\n",
        "\n",
        "v1=np.array([0,2])\n",
        "v2=np.array([0.3, 0.5])\n",
        "A=np.array([v1, v2])\n",
        "A\n",
        "\n",
        "p=np.array([0, 10])\n",
        "\n",
        "P=A@p\n",
        "P"
      ],
      "metadata": {
        "colab": {
          "base_uri": "https://localhost:8080/"
        },
        "id": "o9YeH-EnW6wT",
        "outputId": "37363e48-fb82-4e6f-ce50-9542687ea774"
      },
      "execution_count": null,
      "outputs": [
        {
          "output_type": "execute_result",
          "data": {
            "text/plain": [
              "array([20.,  5.])"
            ]
          },
          "metadata": {},
          "execution_count": 12
        }
      ]
    },
    {
      "cell_type": "code",
      "source": [
        "from numpy.linalg import matrix_power\n",
        "n=100\n",
        "A_power=matrix_power(A, n)\n",
        "producto=A_power@p\n",
        "np.floor(producto)"
      ],
      "metadata": {
        "colab": {
          "base_uri": "https://localhost:8080/"
        },
        "id": "pMMpYg-RfRc8",
        "outputId": "fbf9d426-83d6-4151-c869-40fef03d8fcb"
      },
      "execution_count": null,
      "outputs": [
        {
          "output_type": "execute_result",
          "data": {
            "text/plain": [
              "array([6041., 3214.])"
            ]
          },
          "metadata": {},
          "execution_count": 13
        }
      ]
    },
    {
      "cell_type": "code",
      "source": [
        "N=100\n",
        "n=np.linspace(1,100,N)\n",
        "\n",
        "A_= np.zeros(100)\n",
        "for i in n:\n",
        "  enteroi=int(i)\n",
        "  A_poweri=matrix_power(A,enteroi)\n",
        "  producto=np.floor(A_poweri@p)\n",
        "  div=producto[0]/producto[1]\n",
        "  A_[int(i)-1]=div\n",
        "  \n",
        " \n",
        "\n"
      ],
      "metadata": {
        "id": "zncr-x9Lg77t"
      },
      "execution_count": null,
      "outputs": []
    },
    {
      "cell_type": "code",
      "source": [
        "import matplotlib.pyplot as plt\n",
        "\n",
        "plt.plot(A_, color='orchid')\n",
        "plt.axhline(y=1.88, xmin=0, xmax=1, color='salmon', alpha=0.5)\n",
        "plt.grid()\n",
        "plt.xlim(-0.5,100)\n",
        "plt.title('Convergencia')"
      ],
      "metadata": {
        "colab": {
          "base_uri": "https://localhost:8080/",
          "height": 469
        },
        "id": "GC0KpsfsmQ1Q",
        "outputId": "f70acd6d-0465-475e-83d7-b22cccf9487c"
      },
      "execution_count": null,
      "outputs": [
        {
          "output_type": "execute_result",
          "data": {
            "text/plain": [
              "Text(0.5, 1.0, 'Convergencia')"
            ]
          },
          "metadata": {},
          "execution_count": 15
        },
        {
          "output_type": "display_data",
          "data": {
            "text/plain": [
              "<Figure size 640x480 with 1 Axes>"
            ],
            "image/png": "[encoded data removed]"
          },
          "metadata": {}
        }
      ]
    },
    {
      "cell_type": "markdown",
      "source": [
        "\n",
        "2. **Modelo de encriptación** \n",
        "\n",
        "Un proceso para encriptar un mensaje secreto es usar cierta matrix cuadrada cuyos elementos son enteros con elementos enteros en la inversa. Se recibe un mensaje, se asigna un número a cada letra Por ejemplo, A=1, B=2, C=3, ... etc y espacio=27), se arreglan los números en una matriz de izquierda a derecha en cada fila, donde el número de elementos en la fila es igual al tamano de la matriz de codigo, se multiplica esa matriz por la matriz de código por la derecha, se transcribe el mensaje en una cadena de números y se manda el mensaje. \n",
        "\n",
        "La persona que debe recibir el mensaje conoce la matriz de codigo. El o ellla arrelgan el mensaje encriptado en una matriz de izquierda a derecha en cada fila, en donde el numero de elementos en una fila conicide con el tamano de la matriz de codigo muplicada por la derecha, por el inverso de la matriz de código y puede leer mensaje decodificado.\n",
        "\n",
        "Usted a recibido el siguiente mensaje que fue encriptado usando la matriz A. Decodifiquelo.\n",
        "\n",
        "```\n",
        "matrix([[ 1,  2, -3,  4,  5],\n",
        "        [-2, -5,  8, -8, -9],\n",
        "        [ 1,  2, -2,  7,  9],\n",
        "        [ 1,  1,  0,  6, 12],\n",
        "        [ 2,  4, -6,  8, 11]])\n",
        "```\n",
        "\n",
        "Mensaje\n",
        "\n",
        "47,49,-19,257,487,10,-9,63,137,236, 79,142,-184,372,536,59,70,-40,332,588, \n",
        "\n",
        "la primera fila del mensaje es 47,49,-19,257,487\n",
        "\n",
        "¿Cual es el mensaje?\n",
        "\n",
        "\n",
        "\n"
      ],
      "metadata": {
        "id": "zRInnDiKcbSB"
      }
    },
    {
      "cell_type": "code",
      "source": [
        "mensaje=([47,49,-19,257,487],\n",
        "         [10,-9,63,137,236],\n",
        "         [ 79,142,-184,372,536],\n",
        "         [59,70,-40,332,588]\n",
        "         )"
      ],
      "metadata": {
        "id": "vSfVLVxmjumJ"
      },
      "execution_count": null,
      "outputs": []
    },
    {
      "cell_type": "code",
      "source": [
        "matrix=([[ 1,  2, -3,  4,  5],\n",
        "        [-2, -5,  8, -8, -9],\n",
        "        [ 1,  2, -2,  7,  9],\n",
        "        [ 1,  1,  0,  6, 12],\n",
        "        [ 2,  4, -6,  8, 11]])"
      ],
      "metadata": {
        "id": "KkE9n7VgjbZS"
      },
      "execution_count": null,
      "outputs": []
    },
    {
      "cell_type": "code",
      "source": [
        "matrixinversa = np.linalg.inv(matrix)\n",
        "matrixinversa"
      ],
      "metadata": {
        "id": "08okQLhENTGN",
        "colab": {
          "base_uri": "https://localhost:8080/"
        },
        "outputId": "0f477de2-cff4-40e1-fe86-7b477eef99f4"
      },
      "execution_count": null,
      "outputs": [
        {
          "output_type": "execute_result",
          "data": {
            "text/plain": [
              "array([[ 14.,   1.,  -2.,   1.,  -5.],\n",
              "       [ 22.,  -7.,  -4.,   6., -19.],\n",
              "       [ 13.,  -3.,  -2.,   3., -10.],\n",
              "       [ -2.,   1.,   1.,  -1.,   2.],\n",
              "       [ -2.,  -0.,  -0.,  -0.,   1.]])"
            ]
          },
          "metadata": {},
          "execution_count": 20
        }
      ]
    },
    {
      "cell_type": "code",
      "source": [
        "mensaje@matrixinversa"
      ],
      "metadata": {
        "id": "TuHX17ZhNfSV",
        "colab": {
          "base_uri": "https://localhost:8080/"
        },
        "outputId": "2b0cac24-25b4-4dcd-cde0-ff8f847cf363"
      },
      "execution_count": null,
      "outputs": [
        {
          "output_type": "execute_result",
          "data": {
            "text/plain": [
              "array([[ 1., 18.,  5., 27., 25.],\n",
              "       [15., 21., 27.,  8.,  1.],\n",
              "       [22.,  9., 14.,  7., 27.],\n",
              "       [ 6., 21., 14., 27., 27.]])"
            ]
          },
          "metadata": {},
          "execution_count": 22
        }
      ]
    },
    {
      "cell_type": "code",
      "source": [
        "# AQEZX, ÑTZHA, UINGN, FTNZZ ??"
      ],
      "metadata": {
        "id": "mDHbSzTvJuTp"
      },
      "execution_count": null,
      "outputs": []
    },
    {
      "cell_type": "markdown",
      "source": [
        "\n",
        "\n",
        "3. **Diagonalización**.\n",
        "\n",
        "Se sabe que un sistema físico es gobernado por las ecuaciones,\n",
        "\n",
        "\n",
        "\n",
        "$$\n",
        "\\begin{matrix}\n",
        "x' &=& 2x&-y&+z, \\\\\n",
        "y' &=&   &3y&-1z, \\\\\n",
        "z' &=& 2x&+y&+3z,\n",
        "\\end{matrix}\n",
        "$$\n",
        "\n",
        "donde $x',y',z'$ son las derivadas, en forma vectorial esto se puede representar como $\\mathbf{r}'=A\\mathbf{r}$ que tiene solución analítica general, $\\mathbf{r} = e^{At} \\mathbf{r}(0)$.<br> \n",
        "a) Diagonalize $A$.<br> \n",
        "\n",
        "b) Use el hecho de que $f(A) =U f(D) U^{-1}$ para encontrar $x(t),y(t),z(t)$ en el intervalo de tiempo $[0,2]$.<br>.\n",
        "\n",
        "c) Grafique $x(t),y(t),z(t)$ (use la condición inicial $\\mathbf{r}(0)=(1,1,2))$.<br> \n",
        "d) Compare el resultado a la solución analítica,\n",
        "\n",
        "$$\n",
        "\\begin{align}3. **Diagonalización**.\n",
        "\n",
        "Se sabe que un sistema físico es gobernado por las ecuaciones,\n",
        "\n",
        "\n",
        "\n",
        "$$\n",
        "\\begin{matrix}\n",
        "x' &=& 2x&-y&+z, \\\\\n",
        "y' &=&   &3y&-1z, \\\\\n",
        "…el intervalo de tiempo $[0,2]$.<br>.\n",
        "c) Grafique $x(t),y(t),z(t)$ (use la condición inicial $\\mathbf{r}(0)=(1,1,2))$.<br> \n",
        "d) Compare el resultado a la solución analítica,\n",
        "\n",
        "$$\n",
        "\\begin{align}\n",
        "2x & = x(0)(e^{2t}(1+e^{2t}-2t)) + y(0) (-2te^{2t}) + z(0)(e^{2t}(-1+e^{2t})), \\\\\n",
        "2y & = x(0)(-e^{2t}(-1+e^{2t}-2t)) + y(0)(2(t+1)e^{2t}) + z(0)(-e^{2t}(-1+e^{2t})), \\\\\n",
        "2z & = x(0)(e^{2t}(-1+e^{2t}+2t)) + y(0)(2te^{2t}) + z(0)(e^{2t}(1+e^{2t})).\n",
        "\\end{align}\n",
        "$$"
      ],
      "metadata": {
        "id": "aDq3Lda5sFbM"
      }
    },
    {
      "cell_type": "code",
      "source": [
        "#DIAGONALIZAR A\n",
        "import numpy as np\n",
        "f1=np.array([2,-1,1])\n",
        "f2=np.array([0,3,-1])\n",
        "f3=np.array([2,1,3])\n",
        "\n",
        "A=np.array([f1,f2,f3])\n",
        "\n",
        "Ainversa = np.linalg.inv(A)\n",
        "Ainversa"
      ],
      "metadata": {
        "id": "CDI5UoXmcd6U",
        "colab": {
          "base_uri": "https://localhost:8080/"
        },
        "outputId": "7998f2ad-3dcb-4045-ae61-735c970f3210"
      },
      "execution_count": 1,
      "outputs": [
        {
          "output_type": "execute_result",
          "data": {
            "text/plain": [
              "array([[ 0.625,  0.25 , -0.125],\n",
              "       [-0.125,  0.25 ,  0.125],\n",
              "       [-0.375, -0.25 ,  0.375]])"
            ]
          },
          "metadata": {},
          "execution_count": 1
        }
      ]
    },
    {
      "cell_type": "code",
      "source": [
        "#Use el hecho de que $f(A) =U f(D) U^{-1}$ para encontrar $x(t),y(t),z(t)$ en el intervalo de tiempo $[0,2]$\n",
        "\n",
        "\n",
        "eigenvals, eigenvects = np.linalg.eig(A)\n",
        "\n",
        "\n",
        "U = eigenvects # construir matriz U\n",
        "Uinversa = np.linalg.inv(U)\n",
        "\n",
        "D = np.diag(eigenvals)# matriz diagonal D\n",
        "\n",
        "def f(x):# f(D)\n",
        "    return np.exp(2*x)# f(x)\n",
        "\n",
        "f_D = np.diag(f(np.diag(D)))\n",
        "\n",
        "f_A = U.dot(f_D).dot(Uinversa)# f(A)\n",
        "\n",
        "t = np.linspace(0, 2, 100)  # Intervalo de tiempo [0, 2]\n",
        "r0 = np.array([1, 0, 0])  # Condición inicial r(0)\n",
        "\n",
        "# Calcular las soluciones r(t) para cada componente\n",
        "x = np.exp(2*t) * (f_A[0, 0]*r0[0] + f_A[0, 1]*r0[1] + f_A[0, 2]*r0[2])\n",
        "y = np.exp(2*t) * (f_A[1, 0]*r0[0] + f_A[1, 1]*r0[1] + f_A[1, 2]*r0[2])\n",
        "z = np.exp(2*t) * (f_A[2, 0]*r0[0] + f_A[2, 1]*r0[1] + f_A[2, 2]*r0[2])\n",
        "\n"
      ],
      "metadata": {
        "id": "opkHNJIlYkMk"
      },
      "execution_count": 2,
      "outputs": []
    },
    {
      "cell_type": "code",
      "source": [
        "#c) y d)\n",
        "import matplotlib.pyplot as plt\n",
        "from scipy.integrate import solve_ivp\n",
        "\n",
        "r0 = np.array([1, 1, 2])  #C.I\n",
        "t = np.linspace(0, 2, 100)\n",
        "\n",
        "# función para la derivada\n",
        "def f(t, r):\n",
        "    return A.dot(r)\n",
        "\n",
        "sol = solve_ivp(f, [0, 2], r0, dense_output=True) # Resolver las ecuaciones diferenciales\n",
        "\n",
        "x_= sol.sol(t)[0] # Evaluar las soluciones en t\n",
        "y_= sol.sol(t)[1]\n",
        "z_= sol.sol(t)[2]\n"
      ],
      "metadata": {
        "id": "FJi7uIlebzdA"
      },
      "execution_count": 56,
      "outputs": []
    },
    {
      "cell_type": "code",
      "source": [
        "#para la parte analítica\n",
        "\n",
        "x0 = 1  # Valor inicial de x,y,z\n",
        "y0 = 1 \n",
        "z0 = 2  \n",
        "\n",
        "\n",
        "def x_prima(t, x0, y0, z0):\n",
        "    return x0 * np.exp(2*t) * (1 + np.exp(2*t) - 2*t) + y0 * (-2*t*np.exp(2*t)) + z0 * np.exp(2*t) * (-1 + np.exp(2*t))/2\n",
        "\n",
        "x = x_prima(t, x0, y0, z0)\n",
        "\n",
        "\n",
        "\n",
        "def y_prima(t, y0, z0):\n",
        "    return y0 * 2 * (t + 1) * np.exp(2*t) - x0 * np.exp(2*t) * (-1 + np.exp(2*t) - 2*t) + z0 * (-np.exp(2*t) * (-1 + np.exp(2*t)))/2\n",
        "\n",
        "y = y_prima(t, y0, z0)\n",
        "\n",
        "\n",
        "\n",
        "def z_prima(t, x0, y0, z0):\n",
        "    return x0 * np.exp(2*t) * (-1 + np.exp(2*t) + 2*t) + y0 * 2*t * np.exp(2*t) + z0 * np.exp(2*t) * (1 + np.exp(2*t))/2\n",
        "\n",
        "z = z_prima(t, x0, y0, z0)\n",
        "\n",
        "\n",
        "plt.plot(t, x_, label='x(t)', color='pink')\n",
        "plt.plot(t, y_, label='y(t)', color='c')\n",
        "plt.plot(t, z_, label='z(t)', color='navy')\n",
        "plt.scatter(t, x, s=4, label='x(t) analítica', color='pink')\n",
        "plt.scatter(t, y, s=4, label='y(t) analítica', color='c')\n",
        "plt.scatter(t, z, s=4, label='z(t) analítica', color='navy')\n",
        "plt.xlabel('t')\n",
        "plt.ylabel('Solución')\n",
        "plt.xlim(0,2)\n",
        "plt.ylim(-4000,4000)\n",
        "plt.legend()\n",
        "plt.grid()\n",
        "plt.show()\n"
      ],
      "metadata": {
        "colab": {
          "base_uri": "https://localhost:8080/",
          "height": 455
        },
        "id": "Q5hHUWFj4ejf",
        "outputId": "b6964c36-7960-4fc7-9a45-ab52f2689591"
      },
      "execution_count": 59,
      "outputs": [
        {
          "output_type": "display_data",
          "data": {
            "text/plain": [
              "<Figure size 640x480 with 1 Axes>"
            ],
            "image/png": "[encoded data removed]"
          },
          "metadata": {}
        }
      ]
    }
  ]
}