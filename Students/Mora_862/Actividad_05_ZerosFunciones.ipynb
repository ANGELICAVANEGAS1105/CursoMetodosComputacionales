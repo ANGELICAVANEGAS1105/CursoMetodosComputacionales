{
  "cells": [
    {
      "cell_type": "markdown",
      "id": "3a6dc6a1",
      "metadata": {
        "id": "3a6dc6a1"
      },
      "source": [
        "<a href=\"https://colab.research.google.com/github/hernansalinas/autogrades/blob/main/Actividades_clase/Actividad_05_ZerosFunciones.ipynb\" target=\"_parent\"><img src=\"https://colab.research.google.com/assets/colab-badge.svg\" alt=\"Open In Colab\"/></a>\n",
        "\n",
        "\n",
        "\n",
        "# Actividad 5\n",
        "### Métodos computacionales para físicos  y astrónomos\n",
        "### Universidad de Antioquia\n",
        "### Prof: Hernan D. Salinas Jiménez\n",
        "Ref: https://github.com/restrepo/ComputationalMethods"
      ]
    },
    {
      "cell_type": "markdown",
      "id": "8e59c672",
      "metadata": {
        "id": "8e59c672"
      },
      "source": [
        "\n",
        "In an IPython notebook, use the scipy implementation and find the first solution to the equation, write a function with the bisection methods.\n",
        "\n",
        "What is the solution if a=1, and b=1, what is the solution if a=2 and b=2\n",
        "  \n",
        "1. $ 7 = a\\sqrt{x^2+1}+be^x\\sin x $\n",
        "   \n",
        "\n"
      ]
    },
    {
      "cell_type": "code",
      "source": [
        "from numpy import sqrt\n",
        "import numpy as np\n",
        "from scipy import optimize\n",
        "import math\n",
        "import matplotlib.pyplot as plt"
      ],
      "metadata": {
        "id": "qUhv4ON1NatE"
      },
      "id": "qUhv4ON1NatE",
      "execution_count": null,
      "outputs": []
    },
    {
      "cell_type": "markdown",
      "source": [
        "# 1. $ 7 = a\\sqrt{x^2+1}+be^x\\sin x $\n",
        " con $a=1$ y $b=1$"
      ],
      "metadata": {
        "id": "b75H1xahNmV9"
      },
      "id": "b75H1xahNmV9"
    },
    {
      "cell_type": "code",
      "source": [
        "def f(x, a, b):\n",
        "  return -7+a*sqrt(x**2+1)+(b*math.exp(x)*math.sin(x))\n",
        "\n",
        "root = optimize.bisect(f, 1.5, 2, args=(1,1), xtol=2e-12)\n",
        "root\n",
        "\n",
        "\n",
        "#scipy.optimize.bisect(f, a, b, args=(), xtol=2e-12, rtol=8.881784197001252e-16, maxiter=100, full_output=False, disp=True)"
      ],
      "metadata": {
        "colab": {
          "base_uri": "https://localhost:8080/"
        },
        "id": "B3iDhkmiHLdk",
        "outputId": "153a9fdf-9986-4390-ce4a-f501d222ef7f"
      },
      "id": "B3iDhkmiHLdk",
      "execution_count": null,
      "outputs": [
        {
          "output_type": "execute_result",
          "data": {
            "text/plain": [
              "1.628718494926943"
            ]
          },
          "metadata": {},
          "execution_count": 64
        }
      ]
    },
    {
      "cell_type": "code",
      "source": [
        "def f(x, a, b):\n",
        "  return -7+a*sqrt(x**2+1)+(b*math.exp(x)*math.sin(x))\n",
        "\n",
        "root2 = optimize.bisect(f, 2, 3, args=(1,1), xtol=2e-12)\n",
        "root2"
      ],
      "metadata": {
        "colab": {
          "base_uri": "https://localhost:8080/"
        },
        "id": "owUZHPMaUE3F",
        "outputId": "14624eb2-a662-4217-fafd-4e43a6aad351"
      },
      "id": "owUZHPMaUE3F",
      "execution_count": null,
      "outputs": [
        {
          "output_type": "execute_result",
          "data": {
            "text/plain": [
              "2.9321585327943467"
            ]
          },
          "metadata": {},
          "execution_count": 63
        }
      ]
    },
    {
      "cell_type": "code",
      "source": [
        "def f(x, a, b):\n",
        "  return -7+a*np.sqrt(x**2+1)+(b*np.exp(x)*np.sin(x))"
      ],
      "metadata": {
        "id": "igU46DkaPh6V"
      },
      "id": "igU46DkaPh6V",
      "execution_count": null,
      "outputs": []
    },
    {
      "cell_type": "code",
      "source": [
        "x=np.linspace(0, 4, 100)"
      ],
      "metadata": {
        "id": "v4D4qfeGPm4V"
      },
      "id": "v4D4qfeGPm4V",
      "execution_count": null,
      "outputs": []
    },
    {
      "cell_type": "code",
      "source": [
        "params =(1,1)\n",
        "plt.plot(x, f(x, *params), color='purple')\n",
        "plt.plot(root,0,\"ro\", color='coral')\n",
        "plt.plot(root2,0,\"ro\", color='coral')\n",
        "plt.xlabel('$Eje$ $x$')\n",
        "plt.ylabel('$Eje$ $y$')\n",
        "plt.xlim(0,4)\n",
        "plt.ylim(-20,5)\n",
        "plt.title('ceros de la función $ 7 = a\\sqrt{x^2+1}+be^x\\sin x $ con $a,b=1$')\n",
        "plt.grid()"
      ],
      "metadata": {
        "colab": {
          "base_uri": "https://localhost:8080/",
          "height": 397
        },
        "id": "bLwHJUyTPv20",
        "outputId": "3be9d7cd-dc9e-480b-bdfb-850f64e4c729"
      },
      "id": "bLwHJUyTPv20",
      "execution_count": null,
      "outputs": [
        {
          "output_type": "stream",
          "name": "stderr",
          "text": [
            "<ipython-input-75-d47c7ae0824c>:3: UserWarning: color is redundantly defined by the 'color' keyword argument and the fmt string \"ro\" (-> color='r'). The keyword argument will take precedence.\n",
            "  plt.plot(root,0,\"ro\", color='coral')\n",
            "<ipython-input-75-d47c7ae0824c>:4: UserWarning: color is redundantly defined by the 'color' keyword argument and the fmt string \"ro\" (-> color='r'). The keyword argument will take precedence.\n",
            "  plt.plot(root2,0,\"ro\", color='coral')\n"
          ]
        },
        {
          "output_type": "display_data",
          "data": {
            "text/plain": [
              "<Figure size 432x288 with 1 Axes>"
            ],
            "image/png": "[encoded data removed]"
          },
          "metadata": {
            "needs_background": "light"
          }
        }
      ]
    },
    {
      "cell_type": "markdown",
      "source": [
        "# 1. $ 7 = a\\sqrt{x^2+1}+be^x\\sin x $\n",
        " con $a=2$ y $b=2$\n",
        "\n",
        "\n",
        "\n",
        "\n",
        "\n"
      ],
      "metadata": {
        "id": "ymwsYmPENXVn"
      },
      "id": "ymwsYmPENXVn"
    },
    {
      "cell_type": "code",
      "source": [
        "def f(x, a, b):\n",
        "  return -7+a*sqrt(x**2+1)+(b*math.exp(x)*math.sin(x))\n",
        "\n",
        "root11 = optimize.bisect(f, 0, 2, args=(2,2), xtol=2e-12)\n",
        "root11\n",
        "\n"
      ],
      "metadata": {
        "colab": {
          "base_uri": "https://localhost:8080/"
        },
        "id": "xYx-hfDoKr3I",
        "outputId": "8ba0c3b7-7165-41a0-bf70-f4c33550ff91"
      },
      "id": "xYx-hfDoKr3I",
      "execution_count": null,
      "outputs": [
        {
          "output_type": "execute_result",
          "data": {
            "text/plain": [
              "0.954051251295823"
            ]
          },
          "metadata": {},
          "execution_count": 57
        }
      ]
    },
    {
      "cell_type": "code",
      "source": [
        "def f(x, a, b):\n",
        "  return -7+a*sqrt(x**2+1)+(b*math.exp(x)*math.sin(x))\n",
        "\n",
        "root22 = optimize.bisect(f, 2.5, 3.5, args=(2,2), xtol=2e-12)\n",
        "root22"
      ],
      "metadata": {
        "colab": {
          "base_uri": "https://localhost:8080/"
        },
        "id": "MGAuJmRNLFGH",
        "outputId": "c9d34eb8-7a99-4fdb-e235-7a53a414989b"
      },
      "id": "MGAuJmRNLFGH",
      "execution_count": null,
      "outputs": [
        {
          "output_type": "execute_result",
          "data": {
            "text/plain": [
              "3.1323505942436896"
            ]
          },
          "metadata": {},
          "execution_count": 58
        }
      ]
    },
    {
      "cell_type": "code",
      "source": [
        "def f(x, a, b):\n",
        "  return -7+a*np.sqrt(x**2+1)+(b*np.exp(x)*np.sin(x))\n"
      ],
      "metadata": {
        "id": "Fpe43ewvLB3Q"
      },
      "id": "Fpe43ewvLB3Q",
      "execution_count": null,
      "outputs": []
    },
    {
      "cell_type": "code",
      "source": [
        "x=np.linspace(0, 4, 100)"
      ],
      "metadata": {
        "id": "4lhF9qLcLn_G"
      },
      "id": "4lhF9qLcLn_G",
      "execution_count": null,
      "outputs": []
    },
    {
      "cell_type": "code",
      "source": [
        "params =(2,2)\n",
        "plt.plot(x, f(x, *params), color='purple')\n",
        "plt.plot(root11,0,\"ro\", color='coral')\n",
        "plt.plot(root22,0,\"ro\", color='coral')\n",
        "plt.xlabel('$Eje$ $x$')\n",
        "plt.ylabel('$Eje$ $y$')\n",
        "plt.xlim(0,4)\n",
        "plt.ylim(-40,20)\n",
        "plt.title('ceros de la función $ 7 = a\\sqrt{x^2+1}+be^x\\sin x $ con $a,b=2$')\n",
        "plt.grid()"
      ],
      "metadata": {
        "colab": {
          "base_uri": "https://localhost:8080/",
          "height": 397
        },
        "id": "7Ia3pDv2Lgv7",
        "outputId": "e158c9c2-0916-4322-8583-859c0a30ce3e"
      },
      "id": "7Ia3pDv2Lgv7",
      "execution_count": null,
      "outputs": [
        {
          "output_type": "stream",
          "name": "stderr",
          "text": [
            "<ipython-input-72-6c50d59b6b18>:3: UserWarning: color is redundantly defined by the 'color' keyword argument and the fmt string \"ro\" (-> color='r'). The keyword argument will take precedence.\n",
            "  plt.plot(root11,0,\"ro\", color='coral')\n",
            "<ipython-input-72-6c50d59b6b18>:4: UserWarning: color is redundantly defined by the 'color' keyword argument and the fmt string \"ro\" (-> color='r'). The keyword argument will take precedence.\n",
            "  plt.plot(root22,0,\"ro\", color='coral')\n"
          ]
        },
        {
          "output_type": "display_data",
          "data": {
            "text/plain": [
              "<Figure size 432x288 with 1 Axes>"
            ],
            "image/png": "[encoded data removed]"
          },
          "metadata": {
            "needs_background": "light"
          }
        }
      ]
    },
    {
      "cell_type": "code",
      "source": [
        "#Métododo de Newton-Raphson"
      ],
      "metadata": {
        "id": "DhL5D1GsJgw6"
      },
      "id": "DhL5D1GsJgw6",
      "execution_count": null,
      "outputs": []
    },
    {
      "cell_type": "markdown",
      "id": "ee7acda4",
      "metadata": {
        "id": "ee7acda4"
      },
      "source": [
        "  \n",
        "# 2. $a e^{x}-2= b\\cos(e^x-2)$\n",
        "con $a=1$ y $b=1$\n",
        "\n",
        "\n",
        "\n",
        "\n"
      ]
    },
    {
      "cell_type": "code",
      "source": [
        "def f(x, a, b):\n",
        "  return 2-a*np.exp(x)+b*np.cos(np.exp(x)-2)\n",
        "root11 = optimize.bisect(f, 0, 2, args=(1,1), xtol=2e-12)\n",
        "\n",
        "\n",
        "x=np.linspace(0, 4, 100)\n",
        "params =(1,1)\n",
        "plt.plot(x, f(x, *params), color='lightseagreen')\n",
        "plt.plot(root11,0,\"ro\", color='slateblue')\n",
        "plt.xlabel('$Eje$ $x$')\n",
        "plt.ylabel('$Eje$ $y$')\n",
        "plt.xlim(0,2.5)\n",
        "plt.ylim(-10,2)\n",
        "plt.title('ceros de la función $a e^{x}-2= b\\cos(e^x-2)$ con $a,b=1$')\n",
        "plt.grid()"
      ],
      "metadata": {
        "colab": {
          "base_uri": "https://localhost:8080/",
          "height": 356
        },
        "id": "uWXw-rDGL3O8",
        "outputId": "eb78af85-c41c-4174-cb1d-19140c1c12fd"
      },
      "id": "uWXw-rDGL3O8",
      "execution_count": null,
      "outputs": [
        {
          "output_type": "stream",
          "name": "stderr",
          "text": [
            "<ipython-input-79-0ca16b87c496>:9: UserWarning: color is redundantly defined by the 'color' keyword argument and the fmt string \"ro\" (-> color='r'). The keyword argument will take precedence.\n",
            "  plt.plot(root11,0,\"ro\", color='slateblue')\n"
          ]
        },
        {
          "output_type": "display_data",
          "data": {
            "text/plain": [
              "<Figure size 432x288 with 1 Axes>"
            ],
            "image/png": "[encoded data removed]"
          },
          "metadata": {
            "needs_background": "light"
          }
        }
      ]
    },
    {
      "cell_type": "markdown",
      "source": [
        "  \n",
        "# 2. $a e^{x}-2= b\\cos(e^x-2)$\n",
        "con $a=2$ y $b=2$"
      ],
      "metadata": {
        "id": "c2zA1L-tOouX"
      },
      "id": "c2zA1L-tOouX"
    },
    {
      "cell_type": "code",
      "source": [
        "def f(x, a, b):\n",
        "  return 2-a*np.exp(x)+b*np.cos(np.exp(x)-2)\n",
        "root22 = optimize.bisect(f, 0, 2, args=(2,2), xtol=2e-12)\n",
        "\n",
        "#def f(x, a, b):\n",
        " # return 2-a*np.exp(x)+b*np.cos(np.exp(x)-2)\n",
        "\n",
        "x=np.linspace(0, 4, 1000)\n",
        "params =(2,2)\n",
        "plt.plot(x, f(x, *params), color='lightseagreen')\n",
        "plt.plot(root22,0,\"ro\", color='slateblue')\n",
        "plt.xlabel('$Eje$ $x$')\n",
        "plt.ylabel('$Eje$ $y$')\n",
        "plt.xlim(0,2)\n",
        "plt.ylim(-15,2)\n",
        "plt.title('ceros de la función $a e^{x}-2= b\\cos(e^x-2)$ con $a,b=2$')\n",
        "plt.grid()\n"
      ],
      "metadata": {
        "colab": {
          "base_uri": "https://localhost:8080/",
          "height": 356
        },
        "id": "2_lsFywuMx3j",
        "outputId": "70e3d58b-a071-44ab-f1b3-4c3642111973"
      },
      "id": "2_lsFywuMx3j",
      "execution_count": null,
      "outputs": [
        {
          "output_type": "stream",
          "name": "stderr",
          "text": [
            "<ipython-input-81-412c0474736f>:11: UserWarning: color is redundantly defined by the 'color' keyword argument and the fmt string \"ro\" (-> color='r'). The keyword argument will take precedence.\n",
            "  plt.plot(root22,0,\"ro\", color='slateblue')\n"
          ]
        },
        {
          "output_type": "display_data",
          "data": {
            "text/plain": [
              "<Figure size 432x288 with 1 Axes>"
            ],
            "image/png": "[encoded data removed]"
          },
          "metadata": {
            "needs_background": "light"
          }
        }
      ]
    },
    {
      "cell_type": "markdown",
      "id": "a232ecdd",
      "metadata": {
        "id": "a232ecdd"
      },
      "source": [
        "3. Fixed point methods. \n",
        "\n",
        "When a new planet is discovered, there are different methods to estimate its physical properties. Many times is only possible to estimate either the planet mass or the planet radius and the other property has to be predicted through computer modelling.\n",
        "\n",
        "If one has the planet mass, a very rough way to estimate its radius is to assume certain composition (mean density) and a homogeneous distribution (a very bad assumption!). For example, for the planet [Gliese 832c](http://es.wikipedia.org/wiki/Gliese_832_c) with a mass $M= 5.40 M_{\\oplus}$, if we assume an earth-like composition, i.e. $\\bar \\rho_{\\oplus} = 5520\\ kg/m^3$, we obtain:\n",
        "\n",
        "$$R_{g832c} = \\left( \\frac{3 M_{g832c}}{ 4 \\pi \\bar\\rho_{\\oplus} } \\right)^{1/3} \\approx 1.75 R_{\\oplus}$$\n",
        "\n",
        "That would be the planet radius if the composition where exactly equal to earth's.\n",
        "\n",
        "A more realistic approach is assuming an internal one-layer density profile like:\n",
        "\n",
        "$$\\rho(r) = \\rho_0 \\exp\\left( -\\frac{r}{L} \\right)$$\n",
        "\n",
        "where $\\rho_0$ is the density at planet centre and $L$ is a characteristic lenght depending on the composition. From numerical models of planet interiors, the estimated parameters for a planet of are $M= 5.40 M_{\\oplus}$ are approximately $\\rho_0 = 18000\\ kg/m^3$ and $L = 6500\\ km$.\n",
        "\n",
        "Integrating over the planet volume, we obtain the total mass as\n",
        "\n",
        "$$M = 4\\pi \\int_0^R \\rho(r)r^2dr$$\n",
        "\n",
        "This is a function of the mass in terms of the planet radius. \n",
        "\n",
        "Solving the equation $M(R) = M_{g832c}$ it would be possible to find a more realistic planet radius. However when using numerical models, it is not possible to approach the solution from the left side as a negative mass makes no sense."
      ]
    },
    {
      "cell_type": "markdown",
      "id": "d6060db6",
      "metadata": {
        "id": "d6060db6"
      },
      "source": [
        "3. **ACTIVITY** \n",
        "    \n",
        "In an IPython notebook and based on the routine NewtonRaphson, write your own routine SecantMethod that performs the previous steps for the Secant Method. Test your code with the function $f(x)$:\n",
        "    \n",
        "$f(x) = x - \\cos(x)$\n",
        "</font>"
      ]
    },
    {
      "cell_type": "markdown",
      "source": [
        "**Activity 3**"
      ],
      "metadata": {
        "id": "2VsJRZQAQ-gK"
      },
      "id": "2VsJRZQAQ-gK"
    },
    {
      "cell_type": "code",
      "source": [
        "#Newton-Raphson\n",
        "import sympy as sp\n",
        "import numpy as np\n",
        "from scipy import optimize\n",
        "import matplotlib.pyplot as plt\n",
        "\n",
        "x = sp.symbols('x') #definir las variables"
      ],
      "metadata": {
        "id": "XVeyPBrweict"
      },
      "id": "XVeyPBrweict",
      "execution_count": null,
      "outputs": []
    },
    {
      "cell_type": "code",
      "source": [
        "def funcion(x):\n",
        "  f=x-sp.cos(x)\n",
        "  return f\n",
        "\n"
      ],
      "metadata": {
        "id": "nLwerwbNfvMO"
      },
      "id": "nLwerwbNfvMO",
      "execution_count": null,
      "outputs": []
    },
    {
      "cell_type": "code",
      "source": [
        "#para la derivada\n",
        "fderivada=sp.diff(funcion(x),x)\n",
        "fderivada=str(fderivada)\n",
        "fderivada"
      ],
      "metadata": {
        "colab": {
          "base_uri": "https://localhost:8080/",
          "height": 35
        },
        "id": "S5RK3v8rf8SX",
        "outputId": "2b69c94f-36ee-4f73-f677-462631cab55e"
      },
      "id": "S5RK3v8rf8SX",
      "execution_count": null,
      "outputs": [
        {
          "output_type": "execute_result",
          "data": {
            "text/plain": [
              "'sin(x) + 1'"
            ],
            "application/vnd.google.colaboratory.intrinsic+json": {
              "type": "string"
            }
          },
          "metadata": {},
          "execution_count": 47
        }
      ]
    },
    {
      "cell_type": "code",
      "source": [
        "def funcion(x):\n",
        "  f=x-np.cos(x)\n",
        "  return f\n",
        "\n",
        "def funcionprima(x):\n",
        "  return np.sin(x) + 1\n",
        "  "
      ],
      "metadata": {
        "id": "HXEueN2agIEi"
      },
      "id": "HXEueN2agIEi",
      "execution_count": null,
      "outputs": []
    },
    {
      "cell_type": "code",
      "source": [
        "#Encontrar los ceros de la función\n",
        "f"
      ],
      "metadata": {
        "colab": {
          "base_uri": "https://localhost:8080/"
        },
        "id": "8wpNSeJJh8m2",
        "outputId": "787b6265-79c9-49c2-833c-123f6288c657"
      },
      "id": "8wpNSeJJh8m2",
      "execution_count": null,
      "outputs": [
        {
          "output_type": "execute_result",
          "data": {
            "text/plain": [
              "0.7390851332151607"
            ]
          },
          "metadata": {},
          "execution_count": 49
        }
      ]
    },
    {
      "cell_type": "code",
      "source": [
        "#Método de la secante\n",
        "#En este caso no se necesita la derivada de la función a diferencia del método de Newton-Raphson\n",
        "\n",
        "puntosecante=optimize.newton(funcion, 1)\n",
        "print(puntosecante,\". Notemos que el resultado usando el método de la secante y el de Newton-Paphson es igual.\")"
      ],
      "metadata": {
        "colab": {
          "base_uri": "https://localhost:8080/"
        },
        "id": "HDfFGcjJi5Qa",
        "outputId": "90c7e56d-299c-4411-8bb3-77eeeb288fd3"
      },
      "id": "HDfFGcjJi5Qa",
      "execution_count": null,
      "outputs": [
        {
          "output_type": "stream",
          "name": "stdout",
          "text": [
            "0.7390851332151607 . Notemos que el resultado usando el método de la secante y el de Newton-Paphson es igual.\n"
          ]
        }
      ]
    },
    {
      "cell_type": "code",
      "source": [
        "x=np.linspace(-10,10,100)\n",
        "plt.plot(x, funcion(x), color='hotpink')\n",
        "plt.plot(punto,0,'ro', color='teal')\n",
        "plt.text(punto,1, f'{punto:.4}',)\n",
        "plt.xlim(-4,4)\n",
        "plt.ylim(-5,5)\n",
        "plt.grid()"
      ],
      "metadata": {
        "colab": {
          "base_uri": "https://localhost:8080/",
          "height": 320
        },
        "id": "IOfLhXcFgiaO",
        "outputId": "d6433200-3244-4b7f-df90-f1a6dcccf08b"
      },
      "id": "IOfLhXcFgiaO",
      "execution_count": null,
      "outputs": [
        {
          "output_type": "stream",
          "name": "stderr",
          "text": [
            "<ipython-input-56-c82db09a6819>:3: UserWarning: color is redundantly defined by the 'color' keyword argument and the fmt string \"ro\" (-> color='r'). The keyword argument will take precedence.\n",
            "  plt.plot(punto,0,'ro', color='teal')\n"
          ]
        },
        {
          "output_type": "display_data",
          "data": {
            "text/plain": [
              "<Figure size 432x288 with 1 Axes>"
            ],
            "image/png": "[encoded data removed]"
          },
          "metadata": {
            "needs_background": "light"
          }
        }
      ]
    },
    {
      "cell_type": "markdown",
      "id": "08b04566",
      "metadata": {
        "id": "08b04566"
      },
      "source": [
        "4. **ACTIVITY** \n",
        "\n",
        "\n",
        "It is known that light rays are deflected when they pass near by a gravitational field and that this deviation is proportional to the body mass which the light is interacting with and inversely proportional to the passing distance. \n",
        "Since it is common finding very massive structures in the universe and the measures that are done to study it involve photons, it makes sense to study what happens to a light source image when the rays get close to a grumpy object like a dark matter halo.  \n",
        "\n",
        "\n",
        "In order to study the light deflection in these cases, it will be used the simplest model, gravitational lens theory, where the len is a very massive object. A sketch of a typical system is shown in the figure below. The source plane is the light source or image that is going to be affected,  $\\eta$ is the distance from a image point to the line of sight and $\\beta$ the subtended angle by the point. \n",
        "The lens plane corresponds to the mass that affects the light coming from the source, $\\xi$ is the new image point distance to the line of sight, $\\theta$ is the subtended angle by the new point position. Then, $\\alpha$ is the deflection angle. \n",
        "\n",
        "Since from observations $\\theta$ is known, the problem to be solved per pixel usually is \n",
        "\n",
        "\\begin{equation}\n",
        "\\beta = \\theta - \\hat{\\alpha}(\\theta) \n",
        "\\end{equation}\n",
        "\n",
        "but $\\alpha$ also depends on $\\theta$ besides the len halo properties. This would allow construct the real image\n",
        "from the distorted and magnified one. \n",
        "\n",
        "<img src=\"https://github.com/restrepo/ComputationalMethods/blob/master/material/figures/lente1.png?raw=1\">\n",
        "\n",
        "This equation can also be written in terms of distances \n",
        "\n",
        "\\begin{equation}\n",
        "\\vec{\\eta}  = \\frac{D_s}{D_d} \\vec{\\xi} - D_{ds}\\alpha ( \\vec{\\xi }) \n",
        "\\end{equation}\n",
        "\n",
        "The solution to the lens equation is easier to get if it is assumed that the len is axially symmetric. In this case, the deflection angle  takes the next form\n",
        "\n",
        "$$ \\hat{\\alpha}(\\vec{\\xi}) = \\frac{\\vec{\\xi}}{|\\vec{\\xi}|^2} \\frac{8G\\pi}{c^2} \\int_0^\\xi d\\xi'\\xi'\\Sigma(\\xi')$$\n",
        "\n",
        "The quantity $\\Sigma$ is the surface mass density, i.e., the len's mass enclosed inside $\\xi$ circle per area unit.  \n",
        "It is important to notice that the direction of $\\alpha$ is the same as $\\xi$ and consequently $\\eta$. \n",
        "\n",
        "\n",
        "The problem to be solved is the next: Given the positions of a square find the image distorsion due to gravitational lensing, i.e., find the root of \\xi in the trascendal equation it satisfies. Use the routines given below and all of \n",
        "the data for the len and image that is going to be distorted. \n"
      ]
    },
    {
      "cell_type": "markdown",
      "source": [
        "# **Trabajo en clase**\n"
      ],
      "metadata": {
        "id": "gGUAgdWsmi99"
      },
      "id": "gGUAgdWsmi99"
    },
    {
      "cell_type": "code",
      "source": [
        "import sympy as sp\n",
        "\n",
        "x = sp.symbols('x')\n",
        "a = sp.symbols('a') #definir ctes\n",
        "b = sp.symbols('b')"
      ],
      "metadata": {
        "id": "Nt9TCLvZLH1s"
      },
      "id": "Nt9TCLvZLH1s",
      "execution_count": null,
      "outputs": []
    },
    {
      "cell_type": "code",
      "source": [
        "def funcion(x):\n",
        "  f=-7+sp.sqrt(x**2+1)+(sp.exp(x)*sp.sin(x))\n",
        "  return f"
      ],
      "metadata": {
        "id": "j1jt3wcNWLmX"
      },
      "id": "j1jt3wcNWLmX",
      "execution_count": null,
      "outputs": []
    },
    {
      "cell_type": "code",
      "source": [
        "#para la derivada\n",
        "c=sp.diff(funcion(x),x)\n",
        "c=str(c)\n",
        "c"
      ],
      "metadata": {
        "colab": {
          "base_uri": "https://localhost:8080/",
          "height": 36
        },
        "id": "Ky0mFNHmQz4e",
        "outputId": "38f18e0c-e577-499b-edc9-714bcc0227b6"
      },
      "id": "Ky0mFNHmQz4e",
      "execution_count": null,
      "outputs": [
        {
          "output_type": "execute_result",
          "data": {
            "text/plain": [
              "'x/sqrt(x**2 + 1) + exp(x)*sin(x) + exp(x)*cos(x)'"
            ],
            "application/vnd.google.colaboratory.intrinsic+json": {
              "type": "string"
            }
          },
          "metadata": {},
          "execution_count": 98
        }
      ]
    },
    {
      "cell_type": "code",
      "source": [
        "def funcion(x):\n",
        "  f=-7+np.sqrt(x**2+1)+(np.exp(x)*np.sin(x))\n",
        "  return f\n",
        "\n",
        "def funcionprima(x):\n",
        "  t1=x/np.sqrt(x**2 + 1) \n",
        "  t2=np.exp(x)*np.sin(x)\n",
        "  t3=np.exp(x)*np.cos(x)\n",
        "  return t1+t2+t3"
      ],
      "metadata": {
        "id": "wdxVQEwDNQzI"
      },
      "id": "wdxVQEwDNQzI",
      "execution_count": null,
      "outputs": []
    },
    {
      "cell_type": "code",
      "source": [
        "punto=optimize.newton(funcion, 1, funcionprima)\n",
        "punto"
      ],
      "metadata": {
        "colab": {
          "base_uri": "https://localhost:8080/"
        },
        "id": "YSzS59o9SwkV",
        "outputId": "a58866ec-2d65-4b9d-a2dc-5f65ceaf5186"
      },
      "id": "YSzS59o9SwkV",
      "execution_count": null,
      "outputs": [
        {
          "output_type": "execute_result",
          "data": {
            "text/plain": [
              "1.6287184949270084"
            ]
          },
          "metadata": {},
          "execution_count": 108
        }
      ]
    },
    {
      "cell_type": "code",
      "source": [
        "punto2=optimize.newton(funcion, 3, funcionprima)\n",
        "punto2"
      ],
      "metadata": {
        "colab": {
          "base_uri": "https://localhost:8080/"
        },
        "id": "6XnE5l3nW2lu",
        "outputId": "8528f1f7-0bf8-4175-f773-7411b0356889"
      },
      "id": "6XnE5l3nW2lu",
      "execution_count": null,
      "outputs": [
        {
          "output_type": "execute_result",
          "data": {
            "text/plain": [
              "2.9321585327957487"
            ]
          },
          "metadata": {},
          "execution_count": 109
        }
      ]
    },
    {
      "cell_type": "code",
      "source": [
        "x=np.linspace(-5,4,100)\n",
        "plt.plot(x, funcion(x), color='indigo')\n",
        "plt.plot(punto,0,'ro', color='salmon')\n",
        "plt.text(punto,1, f'{punto:.2}')\n",
        "plt.plot(punto2,0,'ro', color='salmon')\n",
        "plt.text(punto2,1, f'{punto2:.2}')\n",
        "plt.xlim(0,4)\n",
        "plt.grid()"
      ],
      "metadata": {
        "colab": {
          "base_uri": "https://localhost:8080/",
          "height": 354
        },
        "id": "Ny9OlfSnTKFV",
        "outputId": "8ab2f1d2-8a9b-48ff-80e7-e95d511953c1"
      },
      "id": "Ny9OlfSnTKFV",
      "execution_count": null,
      "outputs": [
        {
          "output_type": "stream",
          "name": "stderr",
          "text": [
            "<ipython-input-113-94fda02466ac>:3: UserWarning: color is redundantly defined by the 'color' keyword argument and the fmt string \"ro\" (-> color='r'). The keyword argument will take precedence.\n",
            "  plt.plot(punto,0,'ro', color='salmon')\n",
            "<ipython-input-113-94fda02466ac>:5: UserWarning: color is redundantly defined by the 'color' keyword argument and the fmt string \"ro\" (-> color='r'). The keyword argument will take precedence.\n",
            "  plt.plot(punto2,0,'ro', color='salmon')\n"
          ]
        },
        {
          "output_type": "display_data",
          "data": {
            "text/plain": [
              "<Figure size 432x288 with 1 Axes>"
            ],
            "image/png": "[encoded data removed]"
          },
          "metadata": {
            "needs_background": "light"
          }
        }
      ]
    },
    {
      "cell_type": "code",
      "source": [
        "#para evaluar en un punto\n",
        "f=-7+sp.sqrt(x**2+1)+(sp.exp(x)*sp.sin(x))"
      ],
      "metadata": {
        "id": "wsnXFPtgPLE9"
      },
      "id": "wsnXFPtgPLE9",
      "execution_count": null,
      "outputs": []
    },
    {
      "cell_type": "code",
      "source": [
        "g=sp.lambdify(x, f, 'numpy')"
      ],
      "metadata": {
        "id": "P4x-JEvmPUG8"
      },
      "id": "P4x-JEvmPUG8",
      "execution_count": null,
      "outputs": []
    },
    {
      "cell_type": "code",
      "source": [
        "g(2)"
      ],
      "metadata": {
        "colab": {
          "base_uri": "https://localhost:8080/"
        },
        "id": "4JkgsQ_tPiok",
        "outputId": "5db37a71-dbe2-4df5-af85-fd486d3b3f92"
      },
      "id": "4JkgsQ_tPiok",
      "execution_count": null,
      "outputs": [
        {
          "output_type": "execute_result",
          "data": {
            "text/plain": [
              "1.9549176749280406"
            ]
          },
          "metadata": {},
          "execution_count": 101
        }
      ]
    },
    {
      "cell_type": "code",
      "source": [
        "#Usando la funcion lambda\n",
        "x= sp.symbols('x')\n",
        "def funcion(x):\n",
        "  return -7+sp.sqrt(x**2+1)+(sp.exp(x)*sp.sin(x))\n",
        "\n"
      ],
      "metadata": {
        "id": "X4wZOxhqX5eu"
      },
      "id": "X4wZOxhqX5eu",
      "execution_count": null,
      "outputs": []
    },
    {
      "cell_type": "code",
      "source": [
        "Df=sp.diff(funcion(x),x)"
      ],
      "metadata": {
        "id": "-OVC5BCPY7UJ"
      },
      "id": "-OVC5BCPY7UJ",
      "execution_count": null,
      "outputs": []
    },
    {
      "cell_type": "code",
      "source": [
        "fun=sp.lambdify(x, funcion(x), 'numpy')\n",
        "Df_=sp.lambdify(x,Df, 'numpy')"
      ],
      "metadata": {
        "id": "L90embkCYeQP"
      },
      "id": "L90embkCYeQP",
      "execution_count": null,
      "outputs": []
    },
    {
      "cell_type": "code",
      "source": [
        "optimize.newton(fun, 3, Df_)"
      ],
      "metadata": {
        "colab": {
          "base_uri": "https://localhost:8080/"
        },
        "id": "zUzXEe-5YtpO",
        "outputId": "dc3e8595-53ee-4841-d028-d6d039506ccf"
      },
      "id": "zUzXEe-5YtpO",
      "execution_count": null,
      "outputs": [
        {
          "output_type": "execute_result",
          "data": {
            "text/plain": [
              "2.9321585327957487"
            ]
          },
          "metadata": {},
          "execution_count": 125
        }
      ]
    }
  ],
  "metadata": {
    "kernelspec": {
      "display_name": "Python 3 (ipykernel)",
      "language": "python",
      "name": "python3"
    },
    "language_info": {
      "codemirror_mode": {
        "name": "ipython",
        "version": 3
      },
      "file_extension": ".py",
      "mimetype": "text/x-python",
      "name": "python",
      "nbconvert_exporter": "python",
      "pygments_lexer": "ipython3",
      "version": "3.8.12"
    },
    "colab": {
      "provenance": []
    }
  },
  "nbformat": 4,
  "nbformat_minor": 5
}