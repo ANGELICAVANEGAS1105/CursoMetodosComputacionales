{
  "nbformat": 4,
  "nbformat_minor": 0,
  "metadata": {
    "colab": {
      "provenance": []
    },
    "kernelspec": {
      "name": "python3",
      "display_name": "Python 3"
    },
    "language_info": {
      "name": "python"
    }
  },
  "cells": [
    {
      "cell_type": "code",
      "execution_count": 4,
      "metadata": {
        "id": "xONvi-zF9LqY"
      },
      "outputs": [],
      "source": [
        "import numpy as np\n",
        "class punto:\n",
        "  def __init__(self,x,y):\n",
        "      self.x = x\n",
        "      self.y = y\n",
        "  \n",
        "  def getX(self):\n",
        "      return self.x\n",
        "\n",
        "  def getX(self):\n",
        "      return self.y\n",
        "\n",
        "  def distanciaorigen(self):\n",
        "      d = np.sqrt(self.x+self.y)\n",
        "      return d\n",
        "    \n",
        "  def deplazamientoorigen(self, dx, dy):\n",
        "    self.x = self.x + dx\n",
        "    self.y = self.y + dy\n",
        "\n",
        "\n"
      ]
    },
    {
      "cell_type": "code",
      "source": [
        "p=punto(2,2)\n",
        "p.y"
      ],
      "metadata": {
        "colab": {
          "base_uri": "https://localhost:8080/"
        },
        "id": "ZlBVXSig9kWg",
        "outputId": "dbd0a7c6-407e-4e97-b911-04737f651b65"
      },
      "execution_count": 6,
      "outputs": [
        {
          "output_type": "execute_result",
          "data": {
            "text/plain": [
              "2"
            ]
          },
          "metadata": {},
          "execution_count": 6
        }
      ]
    },
    {
      "cell_type": "code",
      "source": [
        "p.distanciaorigen()"
      ],
      "metadata": {
        "colab": {
          "base_uri": "https://localhost:8080/"
        },
        "id": "rB8zTboj-izo",
        "outputId": "fe2b5eaa-0222-4ac8-8de7-ae2d957991ab"
      },
      "execution_count": 7,
      "outputs": [
        {
          "output_type": "execute_result",
          "data": {
            "text/plain": [
              "2.0"
            ]
          },
          "metadata": {},
          "execution_count": 7
        }
      ]
    },
    {
      "cell_type": "code",
      "source": [
        "p.deplazamientoorigen(0.1, 0.1)"
      ],
      "metadata": {
        "id": "1nsZlz1lCHd-"
      },
      "execution_count": 8,
      "outputs": []
    },
    {
      "cell_type": "code",
      "source": [
        "class carro:\n",
        "  def __init__(self,color, puertas, masa, posx, posy):\n",
        "      self.x = color\n",
        "      self.y = puertas\n",
        "      self.z = masa\n",
        "      self.c = posx\n",
        "      self.a = posy\n",
        "  \n",
        "  def getcolor(self):\n",
        "    return self.x\n",
        "  \n",
        "  def peso(self):\n",
        "    return self.z*9.8\n",
        "\n",
        "  def movx(self):\n",
        "    self.c = self.c + dx\n",
        "\n",
        "  def movx(self):\n",
        "    self.a = self.a + dy\n",
        "\n"
      ],
      "metadata": {
        "id": "RYgXUy-vDhSw"
      },
      "execution_count": 20,
      "outputs": []
    },
    {
      "cell_type": "code",
      "source": [
        "p=carro('azul',2, 260, 4,2)"
      ],
      "metadata": {
        "id": "qcpxmuhxFO2P"
      },
      "execution_count": 35,
      "outputs": []
    },
    {
      "cell_type": "code",
      "source": [
        "p.getcolor()"
      ],
      "metadata": {
        "colab": {
          "base_uri": "https://localhost:8080/",
          "height": 36
        },
        "id": "Pcs5sGCTFX8I",
        "outputId": "0d62033c-df41-49c0-d766-71264ecc9278"
      },
      "execution_count": 36,
      "outputs": [
        {
          "output_type": "execute_result",
          "data": {
            "text/plain": [
              "'azul'"
            ],
            "application/vnd.google.colaboratory.intrinsic+json": {
              "type": "string"
            }
          },
          "metadata": {},
          "execution_count": 36
        }
      ]
    },
    {
      "cell_type": "code",
      "source": [
        "p.peso()"
      ],
      "metadata": {
        "colab": {
          "base_uri": "https://localhost:8080/"
        },
        "id": "3zpat4mDFevv",
        "outputId": "028034fe-82ff-4e3c-9271-22701b35964f"
      },
      "execution_count": 18,
      "outputs": [
        {
          "output_type": "execute_result",
          "data": {
            "text/plain": [
              "2548.0"
            ]
          },
          "metadata": {},
          "execution_count": 18
        }
      ]
    },
    {
      "cell_type": "markdown",
      "source": [
        "objeto que herede estos atributos"
      ],
      "metadata": {
        "id": "Ckba2DTHHM0P"
      }
    },
    {
      "cell_type": "code",
      "source": [
        "class herencia(carro):\n",
        "  def __init__(self,color, puertas, masa, posx, posy, marca):\n",
        "    carro.__init__(self,color, puertas, masa, posx, posy)\n",
        "    self.marca = marca"
      ],
      "metadata": {
        "id": "ARFvCVPRHRYX"
      },
      "execution_count": 41,
      "outputs": []
    },
    {
      "cell_type": "code",
      "source": [
        "otrocarro = herencia('azul',2, 260, 4,2, 'añañai')"
      ],
      "metadata": {
        "id": "udbIg2dEHztH"
      },
      "execution_count": 42,
      "outputs": []
    }
  ]
}