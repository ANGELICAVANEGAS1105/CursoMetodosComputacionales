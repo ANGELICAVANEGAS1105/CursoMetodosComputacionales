{
  "nbformat": 4,
  "nbformat_minor": 0,
  "metadata": {
    "colab": {
      "provenance": []
    },
    "kernelspec": {
      "name": "python3",
      "display_name": "Python 3"
    },
    "language_info": {
      "name": "python"
    }
  },
  "cells": [
    {
      "cell_type": "markdown",
      "source": [
        "<a href=\"https://colab.research.google.com/github/hernansalinas/autogrades/blob/main/Laboratorios_Taller/Lab06_ceros_funciones.ipynb\" target=\"_parent\"><img src=\"https://colab.research.google.com/assets/colab-badge.svg\" alt=\"Open In Colab\"/></a>\n"
      ],
      "metadata": {
        "id": "IgVsqbRHO_tR"
      }
    },
    {
      "cell_type": "markdown",
      "source": [
        "# Codigo Markdown:\n",
        "Los numeras a, b, c y d tiene que ver con escritura en código Markdown y comandos de latex: \n",
        "\n",
        "a. Escriba en pseudocódigo los pasos para aplicar el método de la bisección.\n",
        "\n",
        "b. Realice la deducción del metodo de Newton-Rapshon, se recomienda escribir las ecuaciones en formato latex, para ello puede emplear las siguientes expresiones:\n",
        "\n",
        "c. ¿Cuál es la diferencia del metodo de Newton-Rapson con respecto al de la secante?\n",
        "\n",
        "\n",
        "d. Escriba en pseudocódigo los pasos para aplicar el método Punto Fijo.\n",
        "\n",
        "\n",
        "\n",
        "Comentarios para escribir en latex\n",
        "\n",
        "*   Entre simbolos \\$ \\$, puedes porner expresiones  puede poner expresiones, ejemplo:  $y = a_0 x^2 + b_1$  \n",
        "\n",
        "*  Las funciones pueden ser definidas entre \\\\$,  poniendo un \\\\, antes de la funcion ejemplo: \\\\$ \\\\sinx \\\\$,   asi las funciones quedarian de esta manera : \n",
        "\n",
        "> $\\sin x$, $\\tan x$, $\\sec x$, $\\sqrt{a} $, $\\frac{a}{b}, \\frac{df}{dt}$\n",
        "\n",
        "* Puedes generar tambien escribir ecuaciones con la instrucción:\n",
        "\n",
        "  \\\\begin{equation} \n",
        "\n",
        "    \\\\sin x  \n",
        "  \n",
        "  \\\\end{equation}\n",
        "\n",
        "Ejemplo:\n",
        "\n",
        "  \\begin{equation} \n",
        "    \\frac{df}{dx} = \\sin x  \n",
        "  \\end{equation}\n",
        "\n",
        "\n",
        "\n",
        "\n",
        "\n"
      ],
      "metadata": {
        "id": "HmTyV2-NQKwR"
      }
    },
    {
      "cell_type": "markdown",
      "source": [
        "**a) Pseudocódigo para el método de bisección**\n",
        "\n",
        "Función fun(f, a, b, $ɛ$)   $\\thinspace$$\\thinspace$$\\thinspace$$\\thinspace$$\\thinspace$$\\thinspace$ $\\thinspace$$\\thinspace$  definimos una función, un intervalo $[a,b]$ y un $ɛ$\n",
        "mientras $b-a>$ $ɛ$ \\\\\n",
        "$\\thinspace$ $\\thinspace$ calcular $c=\\frac{a+b}{2}$ \\\\\n",
        "$\\thinspace$ $\\thinspace$ si $f(c)==0$  $\\thinspace$$\\thinspace$$\\thinspace$$\\thinspace$$\\thinspace$$\\thinspace$ $\\thinspace$$\\thinspace$ $\\thinspace$$\\thinspace$$\\thinspace$$\\thinspace$$\\thinspace$$\\thinspace$$\\thinspace$$f(c)==0$ nos indica que se ha encontrado una raíz \\\\\n",
        "$\\thinspace$ $\\thinspace$ imprimir c \\\\\n",
        "$\\thinspace$ $\\thinspace$ sino $f(a)*f(c)<0$ \\\\\n",
        "$\\thinspace$ $\\thinspace$ imprimir c "
      ],
      "metadata": {
        "id": "v925zMWdTjOy"
      }
    },
    {
      "cell_type": "markdown",
      "source": [
        "$\\thinspace$ $\\thinspace$ sino $f(a)*f(c)<0$ \\\\\n",
        "$\\thinspace$ $\\thinspace$ $\\thinspace$ entonces $b=c$\\\n",
        "$\\thinspace$ $\\thinspace$ sino $a=c$"
      ],
      "metadata": {
        "id": "4ro3YVUkXDCJ"
      }
    },
    {
      "cell_type": "markdown",
      "source": [
        "**b) En que consiste el método Newton-Raphson**\n",
        "\n",
        "El método Newton-Raphson sirve para encontrar aproximaciones de los ceros o raíces de una función real.  \n",
        "\n",
        "Para deducir el método, se considera una función $f(x)$ con una aproximación inicial $x_0$ para una raíz de $f(x)$.\n",
        "\n",
        "Luego, se construye recta tangente a la curva de $f(x)$ en el punto $x_0$. La ecuación de esta recta ($y=mx+b$) es: \n",
        "$$y=f(x_0)+f'(x_0)(x-x_0)$$ con $f'(x_0)$ como la pendiente de la recta tangente en $x_0$.\n",
        "\n",
        "El siguiente paso es encontrar $y=0$, es decir, buscar un valor de $x$ donde la recta tangente cruza el eje $x$. Despejando $x$, obtenemos:\n",
        "\n",
        "$$0=f(x_0)+f'(x_0)(x-x_0)$$\n",
        "$$x = x_0 - \\frac{f(x_0)}{f'(x_0)}$$\n",
        "\n",
        "Ahora, $x$ se convierte la aproximación a la raíz de $f(x)$. Este proceso se repite n veces hasta que se alcance una precisión suficiente. Así, la generalización del método de Newton-Raphson es:\n",
        "\n",
        "$$x_{n+1} = x_n - \\frac{f(x_n)}{f'(x_n)}$$\n",
        "\n",
        "donde $x_n$ es la $n$-ésima aproximación a la raíz de $f(x)$.\n",
        "\n",
        "\n",
        "\n",
        "\n",
        "**c. ¿Cuál es la diferencia del metodo de Newton-Rapson con respecto al de la secante?** \n",
        "\n",
        "En el método de Newton-Rapson, uno de los parámetros a ingresar en optimize.newton es la derivada de la función original. Por otro lado, el método de la secante solo necesita conocer la función a la que se le deben calcular los ceros."
      ],
      "metadata": {
        "id": "sOYPezcKGG4s"
      }
    },
    {
      "cell_type": "markdown",
      "source": [
        "# 2. Ceros de funciones\n",
        "*Encontrar* los ceros de $e^{x}-2= \\cos(e^x-2)$ por diferentes metodos, bisection, newton-rapshon, punto fijo.\n",
        "\n",
        "#3. Partícula en reposo\n",
        "Una particula parte del reposo sobre un plano inclinado uniforme, cuyo ángulo \n",
        "$\\theta$ cambia con una rapidez constante de : \n",
        "\n",
        "\\begin{equation}\n",
        "\\frac{\\mathrm{d}\\theta}{\\mathrm{d} t} = \\omega < 0\n",
        "\\end{equation}\n",
        "\n",
        "Al final de t segundos, la posición del objeto esta dada por: \n",
        "\n",
        "\n",
        "\\begin{equation}\n",
        "x(t) = -\\frac{g}{2\\omega^2} \\left( \\frac{e^{\\omega t}-e^{-\\omega t}}{2}-\\sin\\omega t\\right) \n",
        "\\end{equation}\n",
        "\n",
        "\n",
        " "
      ],
      "metadata": {
        "id": "DIOVE0E1XZ1-"
      }
    },
    {
      "cell_type": "markdown",
      "source": [
        "**2. Solución de: Ceros de funciones**\n",
        "\n",
        "Encontrar los ceros de  $e^x−2=cos(e^x−2)$  por diferentes metodos, bisection, newton-rapshon, punto fijo."
      ],
      "metadata": {
        "id": "G0cta8Vh-L5_"
      }
    },
    {
      "cell_type": "code",
      "source": [
        "import numpy as np\n",
        "from scipy import optimize\n",
        "import pandas as pd\n",
        "import matplotlib.pyplot as plt\n",
        "import scipy.optimize as optimize\n",
        "import numpy as np\n",
        "import sympy as sp"
      ],
      "metadata": {
        "id": "H3gGhA3e-pnm"
      },
      "execution_count": null,
      "outputs": []
    },
    {
      "cell_type": "markdown",
      "source": [
        "*Método de bisección*"
      ],
      "metadata": {
        "id": "zjeMbBpanGNt"
      }
    },
    {
      "cell_type": "code",
      "source": [
        "\n",
        "def f(x):\n",
        "  return 2-np.exp(x)+np.cos((np.exp(x))-2)"
      ],
      "metadata": {
        "id": "YY2yK7C2mxpm"
      },
      "execution_count": null,
      "outputs": []
    },
    {
      "cell_type": "code",
      "source": [
        "root22 = optimize.bisect(f, 0, 2, xtol=2e-12)\n",
        "print('El cero encontrado con el método de bisección es:',root22)"
      ],
      "metadata": {
        "colab": {
          "base_uri": "https://localhost:8080/"
        },
        "id": "aGFo2xvim6zv",
        "outputId": "847450ed-793e-4c27-ffb6-bfc1e229ca13"
      },
      "execution_count": null,
      "outputs": [
        {
          "output_type": "stream",
          "name": "stdout",
          "text": [
            "El cero encontrado con el método de bisección es: 1.0076239716563578\n"
          ]
        }
      ]
    },
    {
      "cell_type": "markdown",
      "source": [
        "*Método de Newton-Raphson*"
      ],
      "metadata": {
        "id": "X63930FTnQa_"
      }
    },
    {
      "cell_type": "code",
      "source": [
        "x = sp.symbols('x') #definir las variables\n",
        "\n",
        "def funcion(x):\n",
        "  f=2-sp.exp(x)+sp.cos((sp.exp(x))-2)\n",
        "  return f\n",
        "\n",
        "#para la derivada\n",
        "fderivada=sp.diff(funcion(x),x)\n",
        "fderivada=str(fderivada)\n",
        "fderivada"
      ],
      "metadata": {
        "colab": {
          "base_uri": "https://localhost:8080/",
          "height": 36
        },
        "id": "aOk4yFxdnUqE",
        "outputId": "e400b810-df5f-4214-b4b4-a11160659b00"
      },
      "execution_count": null,
      "outputs": [
        {
          "output_type": "execute_result",
          "data": {
            "text/plain": [
              "'-exp(x)*sin(exp(x) - 2) - exp(x)'"
            ],
            "application/vnd.google.colaboratory.intrinsic+json": {
              "type": "string"
            }
          },
          "metadata": {},
          "execution_count": 74
        }
      ]
    },
    {
      "cell_type": "code",
      "source": [
        "def funcion(x):\n",
        "  f=2-np.exp(x)+np.cos((np.exp(x))-2)\n",
        "  return f\n",
        "\n",
        "def funcionprima(x):\n",
        "  return -np.exp(x)*np.sin(np.exp(x) - 2) - np.exp(x)"
      ],
      "metadata": {
        "id": "NK4e84kyn2AG"
      },
      "execution_count": null,
      "outputs": []
    },
    {
      "cell_type": "code",
      "source": [
        "punto=optimize.newton(funcion, 1, funcionprima)\n",
        "print('El cero encontrado con el método de Newton-Raphson es:', punto)"
      ],
      "metadata": {
        "colab": {
          "base_uri": "https://localhost:8080/"
        },
        "id": "fViDMYVUoC8U",
        "outputId": "198fd2fd-7cd6-4b81-9d5e-ec536aa9b3ac"
      },
      "execution_count": null,
      "outputs": [
        {
          "output_type": "stream",
          "name": "stdout",
          "text": [
            "El cero encontrado con el método de Newton-Raphson es: 1.0076239716581368\n"
          ]
        }
      ]
    },
    {
      "cell_type": "markdown",
      "source": [
        "*Metodo de punto fijo*"
      ],
      "metadata": {
        "id": "niy-sWWfeY-c"
      }
    },
    {
      "cell_type": "code",
      "source": [
        "#scipy.optimize.fixed_point(func, x0, args=(), xtol=1e-08, maxiter=500, method='del2')\n",
        "\n",
        "import numpy as np\n",
        "from scipy import optimize\n",
        "def func(x):\n",
        "   return 2-np.exp(x)+np.cos((np.exp(x))-2)\n",
        "\n",
        "g=lambda x: x-func(x) #generar una función g, la cual es la resta de la recta x con la función\n",
        "raiz=optimize.fixed_point(g, 1)\n",
        "print('El cero encontrado con el método de punto fijo es:', raiz)"
      ],
      "metadata": {
        "colab": {
          "base_uri": "https://localhost:8080/"
        },
        "id": "AM33S-M2ee8z",
        "outputId": "0f62a21c-07b1-4dbe-f4a3-31209442154d"
      },
      "execution_count": null,
      "outputs": [
        {
          "output_type": "stream",
          "name": "stdout",
          "text": [
            "El cero encontrado con el método de punto fijo es: 1.0076239716581366\n"
          ]
        }
      ]
    },
    {
      "cell_type": "code",
      "source": [
        "x=np.linspace(0, 4, 100)\n",
        "plt.plot(x, funcion(x), color='purple')\n",
        "plt.plot(punto,0,\"ro\", color='coral')\n",
        "plt.xlabel('$Eje$ $x$')\n",
        "plt.ylabel('$Eje$ y$')\n",
        "plt.xlim(0,2)\n",
        "plt.ylim(-5,2)\n",
        "plt.title('$e^x−2=cos(e^x−2)$')\n",
        "plt.grid()\n"
      ],
      "metadata": {
        "colab": {
          "base_uri": "https://localhost:8080/",
          "height": 356
        },
        "id": "u0IqxoCzFS3B",
        "outputId": "17466262-0000-4e27-a4c4-800a211764fc"
      },
      "execution_count": null,
      "outputs": [
        {
          "output_type": "stream",
          "name": "stderr",
          "text": [
            "<ipython-input-80-a3261e0bf471>:3: UserWarning: color is redundantly defined by the 'color' keyword argument and the fmt string \"ro\" (-> color='r'). The keyword argument will take precedence.\n",
            "  plt.plot(punto,0,\"ro\", color='coral')\n"
          ]
        },
        {
          "output_type": "display_data",
          "data": {
            "text/plain": [
              "<Figure size 432x288 with 1 Axes>"
            ],
            "image/png": "[encoded data removed]"
          },
          "metadata": {
            "needs_background": "light"
          }
        }
      ]
    },
    {
      "cell_type": "markdown",
      "source": [
        "#3.  Area \n",
        "Hallar el área de un segmento circular cuya area sea igual a una cuarta parte del área del circulo. Para la solución se sugiere lo siguiente:\n",
        "\n",
        "a) Encontrar la ecuacion trascendental.\n",
        "\n",
        "b) Con la ecuación anterior, definir una funcion $f(\\theta)=0$. Emplee la funcion labmda de python.\n",
        "\n",
        "c) Construir una data frame de pandas con la columna \"theta\" con 1000 registros(filas) entre $[-2\\pi, 2\\pi]$. Sugerencia, para construir el data frame emplee la función linspace como sigue : np.linspace(-2*np.pi, 2*np.pi, 1000 )\n",
        "\n",
        "d) Construir una segunda columna titulada \"F_theta\" con los registros f(theta)\n",
        "\n",
        "f) Realice un gráfico de  \"F_theta\" vs \"theta\". Identifique el intervalo de la raiz.\n",
        "\n",
        "Estime el valor del ángulo empleando los siguientes metodos(Emplee  la documentacion):\n",
        "\n",
        "g) [Bisección](https://docs.scipy.org/doc/scipy/reference/generated/scipy.optimize.bisect.html)\n",
        "\n",
        "h) [Newton-Rapshon](https://docs.scipy.org/doc/scipy/reference/generated/scipy.optimize.newton.html)\n",
        "\n",
        "i) [Secante](https://docs.scipy.org/doc/scipy/reference/generated/scipy.optimize.newton.html) \n",
        "\n",
        "j) [Punto Fijo](https://docs.scipy.org/doc/scipy/reference/generated/scipy.optimize.fixed_point.html)\n"
      ],
      "metadata": {
        "id": "3SVJWnEeVcAP"
      }
    },
    {
      "cell_type": "markdown",
      "source": [
        "**Solución de: Área**\n",
        "\n",
        "a)Encontrar la ecuación trascendental.\n"
      ],
      "metadata": {
        "id": "8ZTLuWS1IhGb"
      }
    },
    {
      "cell_type": "code",
      "source": [
        "!pip install Pillow\n"
      ],
      "metadata": {
        "colab": {
          "base_uri": "https://localhost:8080/"
        },
        "id": "mQomeYeyCvkE",
        "outputId": "371a7a01-37ef-4387-d0b5-414212d8f21e"
      },
      "execution_count": null,
      "outputs": [
        {
          "output_type": "stream",
          "name": "stdout",
          "text": [
            "Looking in indexes: https://pypi.org/simple, https://us-python.pkg.dev/colab-wheels/public/simple/\n",
            "Requirement already satisfied: Pillow in /usr/local/lib/python3.9/dist-packages (8.4.0)\n"
          ]
        }
      ]
    },
    {
      "cell_type": "code",
      "source": [
        "from PIL import Image\n",
        "import requests\n",
        "from io import BytesIO\n",
        "\n",
        "url = 'https://economipedia.com/wp-content/uploads/segmento-circular.png'\n",
        "response = requests.get(url)\n",
        "img = Image.open(BytesIO(response.content))"
      ],
      "metadata": {
        "id": "mG8avmcsCrak"
      },
      "execution_count": null,
      "outputs": []
    },
    {
      "cell_type": "code",
      "source": [
        "new_img = img.resize((350, 300))"
      ],
      "metadata": {
        "id": "1ddnROyOC6bi"
      },
      "execution_count": null,
      "outputs": []
    },
    {
      "cell_type": "code",
      "source": [
        "from IPython.display import display\n",
        "display(new_img)"
      ],
      "metadata": {
        "colab": {
          "base_uri": "https://localhost:8080/",
          "height": 317
        },
        "id": "WDSKU6L0C9ac",
        "outputId": "f81b0233-b161-4fc5-b049-545dd4613934"
      },
      "execution_count": null,
      "outputs": [
        {
          "output_type": "display_data",
          "data": {
            "text/plain": [
              "<PIL.Image.Image image mode=RGBA size=350x300 at 0x7F7AF8219CA0>"
            ],
            "image/png": "[encoded data removed]"
          },
          "metadata": {}
        }
      ]
    },
    {
      "cell_type": "markdown",
      "source": [
        "Para encontrar el área del segmento circular que se encuentra entre el arco BC,\n",
        "debemos partir sabiendo que:\n",
        "\n",
        "  \\begin{equation} \n",
        "    A_{Segmento}= A_{Sector circular}-A_{Triángulo}\n",
        "  \\end{equation}\n",
        "\n",
        "Donde el $A_{Sector circular}$ se refiere a un sector del área del círculo, es decir,\n",
        " \\begin{equation} \n",
        "    A_{Sector circular}= A_{o}α \n",
        "  \\end{equation}\n",
        "\n",
        "  \\begin{equation}\n",
        "    A_{Sector circular}=\\frac{πr^2}{2π}α\n",
        "  \\end{equation}\n",
        "\n",
        "Por otro lado, es sabido que el área de un tríangulo se expresa como el producto de la base y la altura dividio en dos. La base de $ΔABC$ es $rsen(α)$, esta ecuación también se puede expresar como $2rsen(\\frac{α}{2})$ y su altura  es $rcos(\\frac{α}{2})$. De esta manera se obtiene:\n",
        "\n",
        "  \\begin{equation}\n",
        "    A_{Triángulo}=\\frac{2r^2sen(\\frac{α}{2})cos(\\frac{α}{2})}{2}\n",
        "  \\end{equation}\n",
        "\n",
        "   \\begin{equation}\n",
        "    A_{Triángulo}=r^2sen(\\frac{α}{2})cos(\\frac{α}{2})\n",
        "  \\end{equation}\n",
        "\n",
        "Haciendo uso de las identidades trigonométricas para productos de seno y coseno\n",
        "\n",
        "  \\begin{equation}\n",
        "    A_{Triángulo}=\\frac{r^2sen(α)}{2}\n",
        "  \\end{equation}\n",
        "\n",
        "Finalmente, se tiene que \n",
        "  \n",
        "  \\begin{equation} \n",
        "    A_{Segmento}= \\frac{r^2α}{2}-\\frac{r^2sen(α)}{2}\n",
        "  \\end{equation}\n",
        "\n",
        "  \\begin{equation} \n",
        "    A_{Segmento}= \\frac{r^2}{2}(α-sen(α))\n",
        "  \\end{equation}\n",
        "\n",
        "Como en el ejercico se pide hallar el área de un segmento circular cuya area sea igual a una cuarta parte del área del circulo, entonces\n",
        "\n",
        "  \\begin{equation} \n",
        "     \\frac{r^2}{2}(α-sen(α))=\\frac{\\pi r^2}{4}\n",
        "  \\end{equation}\n",
        "\n",
        "La ecuación trascendental queda de la forma \n",
        " \\begin{equation} \n",
        "     (α-sen(α))=\\frac{\\pi}{2}\n",
        "  \\end{equation}"
      ],
      "metadata": {
        "id": "qvkSnKxGDNpA"
      }
    },
    {
      "cell_type": "code",
      "source": [
        "#b) Con la ecuación anterior, definir una funcion  f(θ)=0 . Emplee la funcion labmda de python.\n",
        "funcion=lambda t: (2/np.pi)*(t-np.sin(t)-1)\n",
        "\n"
      ],
      "metadata": {
        "id": "Yx7XxPlcLBay"
      },
      "execution_count": null,
      "outputs": []
    },
    {
      "cell_type": "code",
      "source": [
        "#c) Construir una data frame de pandas con la columna \"theta\" con 1000 registros(filas) entre  [−2π,2π] . \n",
        "#Sugerencia, para construir el data frame emplee la función linspace como sigue : np.linspace(-2np.pi, 2np.pi, 1000 )\n",
        "data = np.random.uniform(-2*np.pi, 2*np.pi, size=(1000, 1))\n",
        "df = pd.DataFrame(data)\n",
        "df.columns = ['theta'] #cambiar el nombre de la columna\n"
      ],
      "metadata": {
        "id": "J8Vu67RqOs3h"
      },
      "execution_count": null,
      "outputs": []
    },
    {
      "cell_type": "code",
      "source": [
        "#d) Construir una segunda columna titulada \"F_theta\" con los registros f(theta)\n",
        "df['F_theta'] = df['theta'].apply(lambda t: 2/np.pi*(t-np.sin(t)-1))\n",
        "df"
      ],
      "metadata": {
        "colab": {
          "base_uri": "https://localhost:8080/",
          "height": 424
        },
        "id": "1bzqIPiuWJXm",
        "outputId": "a8a7b4b1-6ea7-4bb7-f37a-bbdd11ccd4b1"
      },
      "execution_count": null,
      "outputs": [
        {
          "output_type": "execute_result",
          "data": {
            "text/plain": [
              "        theta   F_theta\n",
              "0   -3.978671 -3.642332\n",
              "1   -1.120017 -0.776618\n",
              "2   -2.720164 -2.107911\n",
              "3   -3.478676 -3.061766\n",
              "4   -3.758614 -3.397781\n",
              "..        ...       ...\n",
              "995  2.611303  0.703795\n",
              "996  0.431330 -0.628184\n",
              "997 -2.897091 -2.326856\n",
              "998 -0.755102 -0.681017\n",
              "999 -1.714921 -1.098353\n",
              "\n",
              "[1000 rows x 2 columns]"
            ],
            "text/html": [
              "\n",
              "  <div id=\"df-1956f301-6ded-4db9-9844-7d28440c812d\">\n",
              "    <div class=\"colab-df-container\">\n",
              "      <div>\n",
              "<style scoped>\n",
              "    .dataframe tbody tr th:only-of-type {\n",
              "        vertical-align: middle;\n",
              "    }\n",
              "\n",
              "    .dataframe tbody tr th {\n",
              "        vertical-align: top;\n",
              "    }\n",
              "\n",
              "    .dataframe thead th {\n",
              "        text-align: right;\n",
              "    }\n",
              "</style>\n",
              "<table border=\"1\" class=\"dataframe\">\n",
              "  <thead>\n",
              "    <tr style=\"text-align: right;\">\n",
              "      <th></th>\n",
              "      <th>theta</th>\n",
              "      <th>F_theta</th>\n",
              "    </tr>\n",
              "  </thead>\n",
              "  <tbody>\n",
              "    <tr>\n",
              "      <th>0</th>\n",
              "      <td>-3.978671</td>\n",
              "      <td>-3.642332</td>\n",
              "    </tr>\n",
              "    <tr>\n",
              "      <th>1</th>\n",
              "      <td>-1.120017</td>\n",
              "      <td>-0.776618</td>\n",
              "    </tr>\n",
              "    <tr>\n",
              "      <th>2</th>\n",
              "      <td>-2.720164</td>\n",
              "      <td>-2.107911</td>\n",
              "    </tr>\n",
              "    <tr>\n",
              "      <th>3</th>\n",
              "      <td>-3.478676</td>\n",
              "      <td>-3.061766</td>\n",
              "    </tr>\n",
              "    <tr>\n",
              "      <th>4</th>\n",
              "      <td>-3.758614</td>\n",
              "      <td>-3.397781</td>\n",
              "    </tr>\n",
              "    <tr>\n",
              "      <th>...</th>\n",
              "      <td>...</td>\n",
              "      <td>...</td>\n",
              "    </tr>\n",
              "    <tr>\n",
              "      <th>995</th>\n",
              "      <td>2.611303</td>\n",
              "      <td>0.703795</td>\n",
              "    </tr>\n",
              "    <tr>\n",
              "      <th>996</th>\n",
              "      <td>0.431330</td>\n",
              "      <td>-0.628184</td>\n",
              "    </tr>\n",
              "    <tr>\n",
              "      <th>997</th>\n",
              "      <td>-2.897091</td>\n",
              "      <td>-2.326856</td>\n",
              "    </tr>\n",
              "    <tr>\n",
              "      <th>998</th>\n",
              "      <td>-0.755102</td>\n",
              "      <td>-0.681017</td>\n",
              "    </tr>\n",
              "    <tr>\n",
              "      <th>999</th>\n",
              "      <td>-1.714921</td>\n",
              "      <td>-1.098353</td>\n",
              "    </tr>\n",
              "  </tbody>\n",
              "</table>\n",
              "<p>1000 rows × 2 columns</p>\n",
              "</div>\n",
              "      <button class=\"colab-df-convert\" onclick=\"convertToInteractive('df-1956f301-6ded-4db9-9844-7d28440c812d')\"\n",
              "              title=\"Convert this dataframe to an interactive table.\"\n",
              "              style=\"display:none;\">\n",
              "        \n",
              "  <svg xmlns=\"http://www.w3.org/2000/svg\" height=\"24px\"viewBox=\"0 0 24 24\"\n",
              "       width=\"24px\">\n",
              "    <path d=\"M0 0h24v24H0V0z\" fill=\"none\"/>\n",
              "    <path d=\"M18.56 5.44l.94 2.06.94-2.06 2.06-.94-2.06-.94-.94-2.06-.94 2.06-2.06.94zm-11 1L8.5 8.5l.94-2.06 2.06-.94-2.06-.94L8.5 2.5l-.94 2.06-2.06.94zm10 10l.94 2.06.94-2.06 2.06-.94-2.06-.94-.94-2.06-.94 2.06-2.06.94z\"/><path d=\"M17.41 7.96l-1.37-1.37c-.4-.4-.92-.59-1.43-.59-.52 0-1.04.2-1.43.59L10.3 9.45l-7.72 7.72c-.78.78-.78 2.05 0 2.83L4 21.41c.39.39.9.59 1.41.59.51 0 1.02-.2 1.41-.59l7.78-7.78 2.81-2.81c.8-.78.8-2.07 0-2.86zM5.41 20L4 18.59l7.72-7.72 1.47 1.35L5.41 20z\"/>\n",
              "  </svg>\n",
              "      </button>\n",
              "      \n",
              "  <style>\n",
              "    .colab-df-container {\n",
              "      display:flex;\n",
              "      flex-wrap:wrap;\n",
              "      gap: 12px;\n",
              "    }\n",
              "\n",
              "    .colab-df-convert {\n",
              "      background-color: #E8F0FE;\n",
              "      border: none;\n",
              "      border-radius: 50%;\n",
              "      cursor: pointer;\n",
              "      display: none;\n",
              "      fill: #1967D2;\n",
              "      height: 32px;\n",
              "      padding: 0 0 0 0;\n",
              "      width: 32px;\n",
              "    }\n",
              "\n",
              "    .colab-df-convert:hover {\n",
              "      background-color: #E2EBFA;\n",
              "      box-shadow: 0px 1px 2px rgba(60, 64, 67, 0.3), 0px 1px 3px 1px rgba(60, 64, 67, 0.15);\n",
              "      fill: #174EA6;\n",
              "    }\n",
              "\n",
              "    [theme=dark] .colab-df-convert {\n",
              "      background-color: #3B4455;\n",
              "      fill: #D2E3FC;\n",
              "    }\n",
              "\n",
              "    [theme=dark] .colab-df-convert:hover {\n",
              "      background-color: #434B5C;\n",
              "      box-shadow: 0px 1px 3px 1px rgba(0, 0, 0, 0.15);\n",
              "      filter: drop-shadow(0px 1px 2px rgba(0, 0, 0, 0.3));\n",
              "      fill: #FFFFFF;\n",
              "    }\n",
              "  </style>\n",
              "\n",
              "      <script>\n",
              "        const buttonEl =\n",
              "          document.querySelector('#df-1956f301-6ded-4db9-9844-7d28440c812d button.colab-df-convert');\n",
              "        buttonEl.style.display =\n",
              "          google.colab.kernel.accessAllowed ? 'block' : 'none';\n",
              "\n",
              "        async function convertToInteractive(key) {\n",
              "          const element = document.querySelector('#df-1956f301-6ded-4db9-9844-7d28440c812d');\n",
              "          const dataTable =\n",
              "            await google.colab.kernel.invokeFunction('convertToInteractive',\n",
              "                                                     [key], {});\n",
              "          if (!dataTable) return;\n",
              "\n",
              "          const docLinkHtml = 'Like what you see? Visit the ' +\n",
              "            '<a target=\"_blank\" href=https://colab.research.google.com/notebooks/data_table.ipynb>data table notebook</a>'\n",
              "            + ' to learn more about interactive tables.';\n",
              "          element.innerHTML = '';\n",
              "          dataTable['output_type'] = 'display_data';\n",
              "          await google.colab.output.renderOutput(dataTable, element);\n",
              "          const docLink = document.createElement('div');\n",
              "          docLink.innerHTML = docLinkHtml;\n",
              "          element.appendChild(docLink);\n",
              "        }\n",
              "      </script>\n",
              "    </div>\n",
              "  </div>\n",
              "  "
            ]
          },
          "metadata": {},
          "execution_count": 14
        }
      ]
    },
    {
      "cell_type": "code",
      "source": [
        "\n",
        "plt.plot(df['theta'],df['F_theta'],'m.', ms=1)\n",
        "plt.xlim(-5,5)\n",
        "plt.grid()"
      ],
      "metadata": {
        "colab": {
          "base_uri": "https://localhost:8080/",
          "height": 265
        },
        "id": "N1-5v-v_WmO7",
        "outputId": "128e700e-10b3-4eb1-8899-3dbf94a6b11a"
      },
      "execution_count": null,
      "outputs": [
        {
          "output_type": "display_data",
          "data": {
            "text/plain": [
              "<Figure size 432x288 with 1 Axes>"
            ],
            "image/png": "[encoded data removed]"
          },
          "metadata": {
            "needs_background": "light"
          }
        }
      ]
    },
    {
      "cell_type": "code",
      "source": [
        "#metodo de biseccion\n",
        "\n",
        "def f(x):\n",
        "  return 2/np.pi*(x-np.sin(x)-1)\n"
      ],
      "metadata": {
        "id": "wGNX5VOr1osC"
      },
      "execution_count": null,
      "outputs": []
    },
    {
      "cell_type": "code",
      "source": [
        "root22 = optimize.bisect(f, 0, 4, xtol=2e-12)\n",
        "print('El cero encontrado con el método de bisección es:',root22)"
      ],
      "metadata": {
        "colab": {
          "base_uri": "https://localhost:8080/"
        },
        "id": "KjxkkqQr1_C_",
        "outputId": "eb001f9d-690f-41d3-d542-78af8beb90c9"
      },
      "execution_count": null,
      "outputs": [
        {
          "output_type": "stream",
          "name": "stdout",
          "text": [
            "El cero encontrado con el método de bisección es: 1.934563210752458\n"
          ]
        }
      ]
    },
    {
      "cell_type": "markdown",
      "source": [
        "\n",
        "\n",
        "# 4. Movimiento de proyectiles en presencia de viento.\n",
        "\n",
        "Supongamos que un proyectil es lanzado desde el origen con una rapidez $v=vo( \\cos \\theta , \\sin \\theta $. Supongamos además que el efecto del viento sobre el proyectil es el de una fuerza proporcional a la velocidad relativa entre el viento y el proyectil. Teniendo presente que si u es la velocidad del viento y $\\alpha$ el ángulo que hace dirección de esta velocidad con el eje x, se puede entrontrar las siguientes ecuaciones diferenciales, asociada al estado de movimiento del [proyectil](https://iopscience.iop.org/article/10.1088/0143-0807/36/2/025016/meta):\n",
        "\n",
        "\n",
        "\\begin{equation}\n",
        "m\\frac{dv_x}{dt} = -mb(v_x-u\\cos \\alpha )\n",
        "\\end{equation}\n",
        "\n",
        "\\begin{equation}\n",
        "m\\frac{dv_y}{dt} = -mg-mb(v_x-u\\sin \\alpha ),\n",
        "\\end{equation}\n",
        "\n",
        "donde b es el párametro de rozamiento. La soluciones a las ecuaciones anteriores vienen dadas por:\n",
        "\n",
        "Posición en x\n",
        "\\begin{equation}\n",
        "x=(u\\cos \\alpha) t + \\frac{1}{b} (v_0\\cos \\theta_0 -u \\cos\\alpha)(1-\\mathrm{exp}(-bt))\n",
        "\\end{equation}\n",
        "\n",
        "Posicion en y \n",
        "\\begin{equation}\n",
        "y= \\frac{1}{b}\\left(\\frac{g}{b}+v_0 \\sin \\theta_0 -u\\sin\\alpha \\right)(1-\\mathrm{exp}(-bt))-\\left( \\frac{g}{b}-u\\sin\\alpha\\right)t\n",
        "\\end{equation}\n",
        "\n",
        "Ver imagen:  http://www.sc.ehu.es/sbweb/fisica3/fluidos/viento/parabolico.html\n",
        "\n",
        "\n",
        "0. Establezca las siguietnes condiciones inciales.\n",
        "\n",
        "```\n",
        "#Parametros iniciales\n",
        "\n",
        "v0 = 60 #Velocidad en m/s\n",
        "alpha = np.pi #Angulo del viento\n",
        "theta = np.deg2rad(45) #Angulo de lanzamiento\n",
        "u = v0/2             #rapidez del viento\n",
        "b = 0.05             #Parametro de friccion \n",
        "g = 9.8                #Aceleracion de la gravedad m/s2\n",
        "\n",
        "Params = (alpha, v0, b, u,g)  #Parametros en tupla.\n",
        "\n",
        "```\n",
        "\n",
        "\n",
        "\n",
        "1. Defina dos funciones, una para x y otra para y. \n",
        "\n",
        "```\n",
        "\n",
        "#Posicion en x\n",
        "def pos_x(t, theta, alpha, v0, b, u,g):\n",
        "  x = #escriba aca la expresión\n",
        "  return x\n",
        "\n",
        "#Posicion en y\n",
        "def pos_y(t, theta, alpha, v0, b, u,g):\n",
        "\n",
        "\n",
        "  y = #escriba aca la expresión\n",
        "  return y \n",
        "\n",
        "```\n",
        "\n",
        "2. Construya un diccionario con las claves \"X\", \"Y\", \"Tiempo\"\n",
        "\n",
        "3. Con el diccionario construya un data frame de pandas llamado df con los nombres de columnas \"X\", \"Y\", \"Tiempo\"  https://pandas.pydata.org/docs/reference/api/pandas.DataFrame.from_dict.html. Defina 1000 regitros para el intervalo de tiempo elegido.\n",
        "\n",
        "\n",
        "4. Realice un gráfico de x como función del tiempo, de y como función del tiempo y la trayectoria de la partícula (df[\"X\"], df[\"tiempo\"], df[\"Y\"]).\n",
        "\n",
        "\n",
        "5. Determine el alcance máximo de la partícula, para ello tome  la solucion teórica con $y=0$, solucione numéricamente la ecuación para t y remplace este valor en la ecuación para x. Resuelvalo para $\\theta=45^{o}$.  \n",
        "\n",
        "6. Construya una  grafica del alcance máximo R como función de $\\theta$, varie $\\theta$  entre 10 y 80 grados cada 5 grados.\n"
      ],
      "metadata": {
        "id": "zxQOD2FgQIfM"
      }
    },
    {
      "cell_type": "code",
      "source": [
        "# Parametros iniciales\n",
        "\n",
        "v0 = 60 #Velocidad en m/s\n",
        "alpha = np.pi #Angulo del viento\n",
        "theta = np.deg2rad(45) #Angulo de lanzamiento\n",
        "u = v0/2             #rapidez del viento\n",
        "b = 0.05             #Parametro de friccion \n",
        "g = 9.8                #Aceleracion de la gravedad m/s2\n",
        "\n",
        "Params = (alpha, v0, b, u,g)  #Parametros en tupla.\n",
        "Params"
      ],
      "metadata": {
        "colab": {
          "base_uri": "https://localhost:8080/"
        },
        "id": "s5jo_XUW6YHd",
        "outputId": "f788394e-ca7c-4c14-faf1-cc8c98018bea"
      },
      "execution_count": null,
      "outputs": [
        {
          "output_type": "execute_result",
          "data": {
            "text/plain": [
              "(3.141592653589793, 60, 0.05, 30.0, 9.8)"
            ]
          },
          "metadata": {},
          "execution_count": 69
        }
      ]
    },
    {
      "cell_type": "code",
      "source": [
        "# Posicion en x\n",
        "def pos_x(t, theta, alpha, v0, b, u,g):\n",
        "  x1 = (u*np.cos(alpha))*t\n",
        "  x2=1/b*(v0*np.cos(theta)-u*np.cos(alpha))\n",
        "  x3=1-np.exp(-b*t) \n",
        "  return x1+x2*x3\n",
        "\n",
        "# Posicion en y\n",
        "def pos_y(t, theta, alpha, v0, b, u,g):\n",
        "  y1 = 1/b*(g/b+v0*np.sin(theta)-u*np.sin(alpha))\n",
        "  y2=1-np.exp(-b*t) \n",
        "  y3= g/b-u*np.sin(alpha)*t \n",
        "  return y1*y2-y3"
      ],
      "metadata": {
        "id": "lkRBZdwU6jIo"
      },
      "execution_count": null,
      "outputs": []
    },
    {
      "cell_type": "code",
      "source": [
        "#Construya un diccionario con las claves \"X\", \"Y\", \"Tiempo\"\n",
        "t = np.linspace(1,50,1000)\n",
        "\n",
        "x = pos_x(t, theta, alpha, v0, b, u,g)\n",
        "y = pos_y(t, theta, alpha, v0, b, u,g)\n",
        "\n",
        "dicc = {\"X\":x, \"Y\":y, \"Tiempo\":t} "
      ],
      "metadata": {
        "id": "PSXpUm0xs-vV"
      },
      "execution_count": null,
      "outputs": []
    },
    {
      "cell_type": "code",
      "source": [
        "#Con el diccionario construya un data frame de pandas llamado df con los nombres de columnas \"X\", \"Y\", \n",
        "#\"Tiempo\" https://pandas.pydata.org/docs/reference/api/pandas.DataFrame.from_dict.html. Defina 1000 regitros para el intervalo de tiempo elegido.\n",
        "df = pd.DataFrame(dicc)\n",
        "df"
      ],
      "metadata": {
        "colab": {
          "base_uri": "https://localhost:8080/",
          "height": 424
        },
        "id": "3_QD7QpeJ1g1",
        "outputId": "1cf9e620-984a-49f8-d644-b54923873e00"
      },
      "execution_count": null,
      "outputs": [
        {
          "output_type": "execute_result",
          "data": {
            "text/plain": [
              "              X            Y     Tiempo\n",
              "0     40.645551    36.563862   1.000000\n",
              "1     42.549131    47.674469   1.049049\n",
              "2     44.444443    58.757861   1.098098\n",
              "3     46.331509    69.814105   1.147147\n",
              "4     48.210349    80.843267   1.196196\n",
              "..          ...          ...        ...\n",
              "995 -165.660557  4177.244815  49.803804\n",
              "996 -166.837912  4178.213041  49.852853\n",
              "997 -168.015988  4179.178895  49.901902\n",
              "998 -169.194782  4180.142383  49.950951\n",
              "999 -170.374293  4181.103512  50.000000\n",
              "\n",
              "[1000 rows x 3 columns]"
            ],
            "text/html": [
              "\n",
              "  <div id=\"df-16facc03-ff47-44e3-bfe5-c083c1c63f30\">\n",
              "    <div class=\"colab-df-container\">\n",
              "      <div>\n",
              "<style scoped>\n",
              "    .dataframe tbody tr th:only-of-type {\n",
              "        vertical-align: middle;\n",
              "    }\n",
              "\n",
              "    .dataframe tbody tr th {\n",
              "        vertical-align: top;\n",
              "    }\n",
              "\n",
              "    .dataframe thead th {\n",
              "        text-align: right;\n",
              "    }\n",
              "</style>\n",
              "<table border=\"1\" class=\"dataframe\">\n",
              "  <thead>\n",
              "    <tr style=\"text-align: right;\">\n",
              "      <th></th>\n",
              "      <th>X</th>\n",
              "      <th>Y</th>\n",
              "      <th>Tiempo</th>\n",
              "    </tr>\n",
              "  </thead>\n",
              "  <tbody>\n",
              "    <tr>\n",
              "      <th>0</th>\n",
              "      <td>40.645551</td>\n",
              "      <td>36.563862</td>\n",
              "      <td>1.000000</td>\n",
              "    </tr>\n",
              "    <tr>\n",
              "      <th>1</th>\n",
              "      <td>42.549131</td>\n",
              "      <td>47.674469</td>\n",
              "      <td>1.049049</td>\n",
              "    </tr>\n",
              "    <tr>\n",
              "      <th>2</th>\n",
              "      <td>44.444443</td>\n",
              "      <td>58.757861</td>\n",
              "      <td>1.098098</td>\n",
              "    </tr>\n",
              "    <tr>\n",
              "      <th>3</th>\n",
              "      <td>46.331509</td>\n",
              "      <td>69.814105</td>\n",
              "      <td>1.147147</td>\n",
              "    </tr>\n",
              "    <tr>\n",
              "      <th>4</th>\n",
              "      <td>48.210349</td>\n",
              "      <td>80.843267</td>\n",
              "      <td>1.196196</td>\n",
              "    </tr>\n",
              "    <tr>\n",
              "      <th>...</th>\n",
              "      <td>...</td>\n",
              "      <td>...</td>\n",
              "      <td>...</td>\n",
              "    </tr>\n",
              "    <tr>\n",
              "      <th>995</th>\n",
              "      <td>-165.660557</td>\n",
              "      <td>4177.244815</td>\n",
              "      <td>49.803804</td>\n",
              "    </tr>\n",
              "    <tr>\n",
              "      <th>996</th>\n",
              "      <td>-166.837912</td>\n",
              "      <td>4178.213041</td>\n",
              "      <td>49.852853</td>\n",
              "    </tr>\n",
              "    <tr>\n",
              "      <th>997</th>\n",
              "      <td>-168.015988</td>\n",
              "      <td>4179.178895</td>\n",
              "      <td>49.901902</td>\n",
              "    </tr>\n",
              "    <tr>\n",
              "      <th>998</th>\n",
              "      <td>-169.194782</td>\n",
              "      <td>4180.142383</td>\n",
              "      <td>49.950951</td>\n",
              "    </tr>\n",
              "    <tr>\n",
              "      <th>999</th>\n",
              "      <td>-170.374293</td>\n",
              "      <td>4181.103512</td>\n",
              "      <td>50.000000</td>\n",
              "    </tr>\n",
              "  </tbody>\n",
              "</table>\n",
              "<p>1000 rows × 3 columns</p>\n",
              "</div>\n",
              "      <button class=\"colab-df-convert\" onclick=\"convertToInteractive('df-16facc03-ff47-44e3-bfe5-c083c1c63f30')\"\n",
              "              title=\"Convert this dataframe to an interactive table.\"\n",
              "              style=\"display:none;\">\n",
              "        \n",
              "  <svg xmlns=\"http://www.w3.org/2000/svg\" height=\"24px\"viewBox=\"0 0 24 24\"\n",
              "       width=\"24px\">\n",
              "    <path d=\"M0 0h24v24H0V0z\" fill=\"none\"/>\n",
              "    <path d=\"M18.56 5.44l.94 2.06.94-2.06 2.06-.94-2.06-.94-.94-2.06-.94 2.06-2.06.94zm-11 1L8.5 8.5l.94-2.06 2.06-.94-2.06-.94L8.5 2.5l-.94 2.06-2.06.94zm10 10l.94 2.06.94-2.06 2.06-.94-2.06-.94-.94-2.06-.94 2.06-2.06.94z\"/><path d=\"M17.41 7.96l-1.37-1.37c-.4-.4-.92-.59-1.43-.59-.52 0-1.04.2-1.43.59L10.3 9.45l-7.72 7.72c-.78.78-.78 2.05 0 2.83L4 21.41c.39.39.9.59 1.41.59.51 0 1.02-.2 1.41-.59l7.78-7.78 2.81-2.81c.8-.78.8-2.07 0-2.86zM5.41 20L4 18.59l7.72-7.72 1.47 1.35L5.41 20z\"/>\n",
              "  </svg>\n",
              "      </button>\n",
              "      \n",
              "  <style>\n",
              "    .colab-df-container {\n",
              "      display:flex;\n",
              "      flex-wrap:wrap;\n",
              "      gap: 12px;\n",
              "    }\n",
              "\n",
              "    .colab-df-convert {\n",
              "      background-color: #E8F0FE;\n",
              "      border: none;\n",
              "      border-radius: 50%;\n",
              "      cursor: pointer;\n",
              "      display: none;\n",
              "      fill: #1967D2;\n",
              "      height: 32px;\n",
              "      padding: 0 0 0 0;\n",
              "      width: 32px;\n",
              "    }\n",
              "\n",
              "    .colab-df-convert:hover {\n",
              "      background-color: #E2EBFA;\n",
              "      box-shadow: 0px 1px 2px rgba(60, 64, 67, 0.3), 0px 1px 3px 1px rgba(60, 64, 67, 0.15);\n",
              "      fill: #174EA6;\n",
              "    }\n",
              "\n",
              "    [theme=dark] .colab-df-convert {\n",
              "      background-color: #3B4455;\n",
              "      fill: #D2E3FC;\n",
              "    }\n",
              "\n",
              "    [theme=dark] .colab-df-convert:hover {\n",
              "      background-color: #434B5C;\n",
              "      box-shadow: 0px 1px 3px 1px rgba(0, 0, 0, 0.15);\n",
              "      filter: drop-shadow(0px 1px 2px rgba(0, 0, 0, 0.3));\n",
              "      fill: #FFFFFF;\n",
              "    }\n",
              "  </style>\n",
              "\n",
              "      <script>\n",
              "        const buttonEl =\n",
              "          document.querySelector('#df-16facc03-ff47-44e3-bfe5-c083c1c63f30 button.colab-df-convert');\n",
              "        buttonEl.style.display =\n",
              "          google.colab.kernel.accessAllowed ? 'block' : 'none';\n",
              "\n",
              "        async function convertToInteractive(key) {\n",
              "          const element = document.querySelector('#df-16facc03-ff47-44e3-bfe5-c083c1c63f30');\n",
              "          const dataTable =\n",
              "            await google.colab.kernel.invokeFunction('convertToInteractive',\n",
              "                                                     [key], {});\n",
              "          if (!dataTable) return;\n",
              "\n",
              "          const docLinkHtml = 'Like what you see? Visit the ' +\n",
              "            '<a target=\"_blank\" href=https://colab.research.google.com/notebooks/data_table.ipynb>data table notebook</a>'\n",
              "            + ' to learn more about interactive tables.';\n",
              "          element.innerHTML = '';\n",
              "          dataTable['output_type'] = 'display_data';\n",
              "          await google.colab.output.renderOutput(dataTable, element);\n",
              "          const docLink = document.createElement('div');\n",
              "          docLink.innerHTML = docLinkHtml;\n",
              "          element.appendChild(docLink);\n",
              "        }\n",
              "      </script>\n",
              "    </div>\n",
              "  </div>\n",
              "  "
            ]
          },
          "metadata": {},
          "execution_count": 73
        }
      ]
    },
    {
      "cell_type": "code",
      "source": [
        "#Realice un gráfico de x como función del tiempo, de y como función del tiempo y la trayectoria de \n",
        "#la partícula (df[\"X\"], df[\"tiempo\"], df[\"Y\"]). "
      ],
      "metadata": {
        "id": "JTiGHS4VKSvu"
      },
      "execution_count": null,
      "outputs": []
    },
    {
      "cell_type": "code",
      "source": [
        "plt.plot(df['Tiempo'],df['X'],'.', ms=1, color = \"lightcoral\")\n",
        "plt.xlim(1,45)\n",
        "plt.ylim(0,350)\n",
        "plt.title('$X$ $como$ $función$ $del$ $tiempo$')\n",
        "plt.xlabel('$Tiempo$')\n",
        "plt.ylabel('$X$')\n",
        "plt.grid()"
      ],
      "metadata": {
        "colab": {
          "base_uri": "https://localhost:8080/",
          "height": 301
        },
        "id": "XlKfIvxOKZkS",
        "outputId": "dfcad2a9-9e6d-4b6b-99b4-c7b94461b143"
      },
      "execution_count": null,
      "outputs": [
        {
          "output_type": "display_data",
          "data": {
            "text/plain": [
              "<Figure size 432x288 with 1 Axes>"
            ],
            "image/png": "[encoded data removed]"
          },
          "metadata": {
            "needs_background": "light"
          }
        }
      ]
    },
    {
      "cell_type": "code",
      "source": [
        "plt.plot(df['Tiempo'],df['Y'],'.', ms=1, color = \"hotpink\")\n",
        "plt.xlim(0,50)\n",
        "plt.ylim(0,4300)\n",
        "plt.title('$Y$ $como$ $función$ $del$ $tiempo$')\n",
        "plt.xlabel('$Tiempo$')\n",
        "plt.ylabel('$Y$')\n",
        "plt.grid()"
      ],
      "metadata": {
        "colab": {
          "base_uri": "https://localhost:8080/",
          "height": 301
        },
        "id": "-e-IkXhGLh5I",
        "outputId": "888f3391-8c97-4610-d554-dc1a8f1aab22"
      },
      "execution_count": null,
      "outputs": [
        {
          "output_type": "display_data",
          "data": {
            "text/plain": [
              "<Figure size 432x288 with 1 Axes>"
            ],
            "image/png": "[encoded data removed]"
          },
          "metadata": {
            "needs_background": "light"
          }
        }
      ]
    },
    {
      "cell_type": "code",
      "source": [
        "#Determine el alcance máximo de la partícula, para ello tome la solucion teórica con  𝑦=0 , solucione numéricamente \n",
        "#la ecuación para t y remplace este valor en la ecuación para x. Resuelvalo para  𝜃=45𝑜 ."
      ],
      "metadata": {
        "id": "PKKeqxUmL_WV"
      },
      "execution_count": null,
      "outputs": []
    },
    {
      "cell_type": "code",
      "source": [
        "def pos_y(t, theta, alpha, v0, b, u,g):\n",
        "  y1 = 1/b*(g/b+v0*np.sin(theta)-u*np.sin(alpha))\n",
        "  y2=1-np.exp(-b*t) \n",
        "  y3= g/b-u*np.sin(alpha)*t \n",
        "  return y1*y2-y3"
      ],
      "metadata": {
        "id": "VHrL4LSmMR2-"
      },
      "execution_count": null,
      "outputs": []
    },
    {
      "cell_type": "code",
      "source": [
        "root= optimize.bisect(pos_y,  0, 4, args=(45*np.pi/180,np.pi, 60, 0.05, 30,9.8), xtol=2e-12)\n",
        "print('El cero encontrado con el método de bisección es:',root)"
      ],
      "metadata": {
        "colab": {
          "base_uri": "https://localhost:8080/"
        },
        "id": "dyAGTgJtMewx",
        "outputId": "754e92e2-7b74-44ad-9af1-380cf9026318"
      },
      "execution_count": null,
      "outputs": [
        {
          "output_type": "stream",
          "name": "stdout",
          "text": [
            "El cero encontrado con el método de bisección es: 0.8394287164574052\n"
          ]
        }
      ]
    },
    {
      "cell_type": "code",
      "source": [
        "print('El alcance máximo es:', pos_x(root, theta, alpha, v0, b, u,g))"
      ],
      "metadata": {
        "colab": {
          "base_uri": "https://localhost:8080/"
        },
        "id": "TZAjfJ8-OyTC",
        "outputId": "f3f310b5-f513-4b6b-f7c3-4141d52b0666"
      },
      "execution_count": null,
      "outputs": [
        {
          "output_type": "stream",
          "name": "stdout",
          "text": [
            "El alcance máximo es: 34.35574386906751\n"
          ]
        }
      ]
    },
    {
      "cell_type": "code",
      "source": [
        "#Construya una grafica del alcance máximo R como función de  𝜃 , varie  𝜃  entre 10 y 80 grados cada 5 grados.\n",
        "\n",
        "angulo=np.arange(10,85,5)\n",
        "#roots=np.ones_like(angulo)\n",
        "roots=[]\n",
        "for i in range(0, len(angulo)):\n",
        "  root = optimize.bisect(pos_y,  0, 10, args=(angulo[i]*np.pi/180,np.pi, 60, 0.05, 30,9.8), xtol=2e-12)\n",
        "  roots.append(root)\n",
        "maxPos = pos_x(np.asarray(roots), theta, alpha, v0, b, u,g)\n",
        "\n",
        "plt.plot(angulo,maxPos, color='firebrick')\n",
        "plt.xlabel('$Ángulo$')\n",
        "plt.xlim(10,80)\n",
        "plt.ylabel('$Alcance$ $máximo$')\n",
        "plt.title(\"$Alcance$ $máximo$ $para$ $ángulos$ $entre$ $10°$ $y$ $80°$\")\n",
        "plt.grid()"
      ],
      "metadata": {
        "colab": {
          "base_uri": "https://localhost:8080/",
          "height": 303
        },
        "id": "9eDGzKQvP6pw",
        "outputId": "6a57cc33-3225-4782-cc42-34bd92556a11"
      },
      "execution_count": null,
      "outputs": [
        {
          "output_type": "display_data",
          "data": {
            "text/plain": [
              "<Figure size 432x288 with 1 Axes>"
            ],
            "image/png": "[encoded data removed]"
          },
          "metadata": {
            "needs_background": "light"
          }
        }
      ]
    },
    {
      "cell_type": "markdown",
      "source": [
        "\n",
        "# 4. Construir un fractal empleando el metodo de Newton-Raphson, \n",
        "(Reproducir código y entender)\n",
        "\\begin{equation}\n",
        "z_{n+1} = z_n -a \\frac{f(z)}{f'(z)} \n",
        "\\end{equation}\n",
        "\n",
        "\n",
        "\n",
        "\\begin{equation}\n",
        "f'(z) = \\frac{ f(z+h)+f(z) }{h}\n",
        "\\end{equation}"
      ],
      "metadata": {
        "id": "Ok4b668dWU_A"
      }
    },
    {
      "cell_type": "code",
      "source": [
        "import numpy as np\n",
        "import matplotlib.pylab as plt\n",
        "from PIL import Image"
      ],
      "metadata": {
        "id": "FWsiLsg1aLmX"
      },
      "execution_count": null,
      "outputs": []
    },
    {
      "cell_type": "code",
      "source": [
        "Npx_X = 120 #Numero de pixeles en x. Claramente, entre más pixeles, más nítida se va a ver la imagen\n",
        "Npx_Y = 120 #Numero de pixeles en y"
      ],
      "metadata": {
        "id": "OC7Mx3flaNxu"
      },
      "execution_count": null,
      "outputs": []
    },
    {
      "cell_type": "code",
      "source": [
        "image = Image.new(\"RGB\", (Npx_X, Npx_Y)) #Creacion de la imagen inicial"
      ],
      "metadata": {
        "id": "2faSVIqlaSSd"
      },
      "execution_count": null,
      "outputs": []
    },
    {
      "cell_type": "code",
      "source": [
        "#límites en x y y\n",
        "npx = np.arange(0, Npx_X) \n",
        "npy = np.arange(0, Npx_Y)"
      ],
      "metadata": {
        "id": "Mt-CJbqWaUs5"
      },
      "execution_count": null,
      "outputs": []
    },
    {
      "cell_type": "code",
      "source": [
        "xmin = -2\n",
        "xmax = 2\n",
        "ymin = -2\n",
        "ymax = 2\n",
        "# Transformación al plano complejo en un rectangulo (xmin, xmax), (ymin, ymax)\n",
        "zx = npx * (xmax - xmin) / (Npx_X - 1)   + xmin\n",
        "zy = npy * (ymax-ymin) / (Npx_Y - 1) + ymin"
      ],
      "metadata": {
        "id": "LiKMd72vaX4w"
      },
      "execution_count": null,
      "outputs": []
    },
    {
      "cell_type": "code",
      "source": [
        "# Definicion  la funcion y las derivada \n",
        "#se define f(z) para analizar para encontrar sus raíces y su derivada para el método de N-R. \n",
        "\n",
        "def f(z): \n",
        "  return z**3-36"
      ],
      "metadata": {
        "id": "X_XTZcPiabuf"
      },
      "execution_count": null,
      "outputs": []
    },
    {
      "cell_type": "code",
      "source": [
        "#derivada \n",
        "def fp(z): \n",
        "  return 3*z**2"
      ],
      "metadata": {
        "id": "OGHB5aNxaeYE"
      },
      "execution_count": null,
      "outputs": []
    },
    {
      "cell_type": "code",
      "source": [
        "#función que expresa la definición de derivada: Donde f'(a) es la derivada de la función f(x) evaluada en \n",
        "#h es el incremento en el argumento y la expresión (f(a+h) - f(a))/h representa la razón incremental de la función f(x) en el punto x=a.\n",
        "h = 1E-4\n",
        "def fpn(z, h): \n",
        "  return (f(z+h)-f(z))/h"
      ],
      "metadata": {
        "id": "EPqnnj-tahqO"
      },
      "execution_count": null,
      "outputs": []
    },
    {
      "cell_type": "code",
      "source": [
        "a = 0.2\n",
        "Niteraciones = 150 #se itera un gran número de veces a través de cada píxel de la imagen.\n",
        "eps = 1E-8. # tolerancia"
      ],
      "metadata": {
        "id": "nVbYBsubalLt"
      },
      "execution_count": null,
      "outputs": []
    },
    {
      "cell_type": "code",
      "source": [
        "# Bucle para aplicar el método de Newton-Raphson\n",
        "x = - 1\n",
        "for zx_ in zx:\n",
        "  x = x + 1 \n",
        "  y = -1\n",
        "  for zy_ in zy: \n",
        "      y = y + 1\n",
        "      Z_0 = complex(zx_, zy_)\n",
        "\n",
        "      for i in range(0, Niteraciones): \n",
        "        Z = Z_0 - a * f(Z_0)/fp(Z_0)\n",
        "        # Comprobar si z se aproxima a alguna de las raíces\n",
        "        if( abs(Z-Z_0)<= eps):\n",
        "          break           \n",
        "        Z_0 = Z\n",
        "      #print(i)\n",
        "      #print(i)\n",
        "      r, g, b = i % 4 *64 , i % 8 *16, i% 16* 16      \n",
        "      image.putpixel((x,y), (r,g,b) )\n",
        "\n"
      ],
      "metadata": {
        "id": "SIIP8RoEaod7"
      },
      "execution_count": null,
      "outputs": []
    },
    {
      "cell_type": "code",
      "source": [
        "plt.imshow(image)\n"
      ],
      "metadata": {
        "colab": {
          "base_uri": "https://localhost:8080/",
          "height": 285
        },
        "id": "ltn8CaMGarUT",
        "outputId": "b5554b2a-5f3d-4d9f-bc26-1e98f2874199"
      },
      "execution_count": null,
      "outputs": [
        {
          "output_type": "execute_result",
          "data": {
            "text/plain": [
              "<matplotlib.image.AxesImage at 0x7f7ae11a6190>"
            ]
          },
          "metadata": {},
          "execution_count": 68
        },
        {
          "output_type": "display_data",
          "data": {
            "text/plain": [
              "<Figure size 432x288 with 1 Axes>"
            ],
            "image/png": "[encoded data removed]"
          },
          "metadata": {
            "needs_background": "light"
          }
        }
      ]
    },
    {
      "cell_type": "markdown",
      "source": [
        "```\n",
        "import numpy as np\n",
        "import matplotlib.pylab as plt\n",
        "from PIL import Image\n",
        "\n",
        "Npx_X = 80 #Numero de pixeles en x\n",
        "Npx_Y = 80 #Numero de pixeles en y\n",
        "\n",
        "image = Image.new(\"RGB\", (Npx_X, Npx_Y)) #Creacion de la imagen inicial\n",
        "\n",
        "npx = np.arange(0, Npx_X)\n",
        "npy = np.arange(0, Npx_Y)\n",
        "\n",
        "xmin = -1\n",
        "xmax = 1\n",
        "ymin = -1\n",
        "ymax = 1\n",
        "#Transformación al plano complejo en un rectangulo (xmin, xmax), (ymin, ymax)\n",
        "zx = npx * (xmax - xmin) / (Npx_X - 1)   + xmin\n",
        "zy = npy * (ymax-ymin) / (Npx_Y - 1) + ymin\n",
        "\n",
        "#Definicion  la funcion y las derivada \n",
        "def f(z): \n",
        "  return z**3 - 1\n",
        "\n",
        "def fp(z): \n",
        "  return 3*z**2\n",
        "\n",
        "h = 1E-4\n",
        "def fpn(z, h): \n",
        "  return (f(z+h)-f(z))/h\n",
        "  \n",
        "\n",
        "a = 0.2\n",
        "Niteraciones = 120\n",
        "eps = 1E-8\n",
        "\n",
        "x = - 1\n",
        "for zx_ in zx:\n",
        "  x = x + 1 \n",
        "  y = -1\n",
        "  for zy_ in zy: \n",
        "      y = y + 1\n",
        "      Z_0 = complex(zx_, zy_)\n",
        "    \n",
        "      for i in range(0, Niteraciones): \n",
        "        Z = Z_0 - a * f(Z_0)/fp(Z_0)\n",
        "        if( abs(Z-Z_0)<= eps):\n",
        "          break           \n",
        "        Z_0 = Z\n",
        "      #print(i)\n",
        "      #print(i)\n",
        "      r, g, b = i % 4 *64 , i % 8 *16, i% 16* 16      \n",
        "      image.putpixel((x,y), (r,g,b) )\n",
        "\n",
        "plt.imshow(image)\n",
        "#plt.xlim(400, 600)\n",
        "#plt.ylim(400, 523)\n",
        "```"
      ],
      "metadata": {
        "id": "9OaykphcWtaW"
      }
    },
    {
      "cell_type": "code",
      "source": [],
      "metadata": {
        "id": "wkPRq-W4JTiy"
      },
      "execution_count": null,
      "outputs": []
    }
  ]
}