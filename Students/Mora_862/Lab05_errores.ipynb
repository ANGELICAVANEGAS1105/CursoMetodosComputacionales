{
  "cells": [
    {
      "cell_type": "markdown",
      "metadata": {
        "id": "ifkkjBLv1XCU"
      },
      "source": [
        "\n",
        "## Exponencial, serie alternante (serieEn)\n",
        "Objetivo: Analizar el uso de la cancelación substractiva\n",
        "\n",
        "\n",
        "Copia textual del libro  [Computational Physics. ](https://www.dropbox.com/s/n06ul2r4l65khl6/Computational%20Physics%20-%20Problem%20Solving%20with%20Computers%2C%203527406263.pdf?dl=0)\n",
        "\n",
        "- Write a program that calculates $e^{-x}$ \n",
        "\n",
        "\\begin{equation}\n",
        "e^{-x}=\\sum_{n=0}^{N}  (-1)^n \\frac{x^{n}}{n!}\n",
        "\\end{equation}\n",
        "\n",
        "\n",
        "- Calculate your series for $x \\le 1$ and compare it to the built-in function\n",
        "exp(x) (you may assume that the built-in exponential function is exact).\n",
        "You should pick an N for which the next term in the series is no more\n",
        "than $10^{-7}$ of the sum up to that point\n",
        "\n",
        "\\begin{equation}\n",
        "\\left| \\frac{(-x)^{N+1}}{(N+1)!} \\right | \\le \\left| 10^{-7} \\sum_{N=0}^{N} \\frac{(-x)^{n}}{n!} \\right|\n",
        "\\end{equation}\n",
        "\n",
        "- Examine the terms in the series for $x\\approx 10$ and observe the significant subtractive cancellations that occur when large terms add together to give small answers. In particular, print out the near-perfect cancellation\n",
        "at $n \\approx x − 1$.\n",
        "\n",
        "- See if better precision is obtained by being clever and using exp(−x) = 1/ exp(x) for large x values. This eliminates subtractive cancellation, but does not eliminate all roundoff errors\n",
        "\n",
        "- By progressively increasing x from 1 to 10, and then from 10 to 100, use your program to determine experimentally when the series starts to lose accuracy, and when the series no longer converges\n",
        "\n",
        "- Make a series of graphs of the error versus N for different values of x.\n",
        "\n",
        "\n",
        "## Cancelación sustractiva\n",
        "\n",
        "\n",
        "\n",
        "**serieSn**. Un ejemplo de la cancelacion substractiva es en la suma de series alternantes. Considere la serie $\\mathrm{S}_N$,  escrita  matematicamente de tres formas diferentes:\n",
        "\n",
        "- \n",
        "\\begin{equation}\n",
        "\\mathrm{S}_N^{(1)} = \\sum_{n = 1}^{2N} (-1)^n \\frac{n}{n+1} \n",
        "\\end{equation}\n",
        "\n",
        "- Sumando números pares e impares.\n",
        "\n",
        "\\begin{equation}\n",
        "\\mathrm{S}_N^{(2)} = -\\sum_{n = 1}^{N}\\frac{2n-1}{2n} + \\sum_{n=1}^{N} \\frac{2n}{2n+1}\n",
        "\\end{equation}\n",
        "\n",
        "- Combinando las series de una forma analítica\n",
        "\n",
        "\\begin{equation}\n",
        "\\mathrm{S}_N^{(3)} = \\sum_{n = 1}^{N}\\frac{1}{2n(2n+1)}\n",
        "\\end{equation}\n",
        "\n",
        "\n",
        "\n",
        "Las tres sumas $\\mathrm{S}_N^{(1)}$, $\\mathrm{S}_N^{(2)}$ y $\\mathrm{S}_N^{(3)}$ son matemáticamente iguales, pero los resultados  pueden tener resultados numéricos diferentes.\n",
        "\n",
        "\n",
        "- Escribir un programa que realice el cálculo de $\\mathrm{S}_N^{(1)}$, $\\mathrm{S}_N^{(2)}$ y $\\mathrm{S}_N^{(3)}$\n",
        "- Estudiar la convergencia de la serie para los tres casos.\n",
        "- Considere  que $S_N^{(3)}$ es la solución exacta, realizar dos graficos log-log, del error relativo en función \n",
        "del número de términos ($\\mathrm{Log_{10}} E$ VS $\\mathrm{Log_{10}} N$), para $S_N^{(1)}$ y $S_N^{(2)}$. Donde,  $E = |(S_N^{(i)} - S_N^{(3)})/S_N^{(3)}|$, i = 1, 2. Considere valores de $N = 1\\times 10^{6}$.\n",
        "- Analizar y discutir los resultados. Tenga en cuenta la discusión realizada sobre teoría de errores en la página \n",
        "39 del libro del libro [Computational Physics. ](https://www.dropbox.com/s/n06ul2r4l65khl6/Computational%20Physics%20-%20Problem%20Solving%20with%20Computers%2C%203527406263.pdf?dl=0)\n",
        "\n",
        "\n"
      ]
    },
    {
      "cell_type": "markdown",
      "metadata": {
        "id": "eIZ2Sde65031"
      },
      "source": [
        "<a href=\"https://colab.research.google.com/github/hernansalinas/autogrades/blob/main/Laboratorios_Taller/Lab05_errores.ipynb\" target=\"_parent\"><img src=\"https://colab.research.google.com/assets/colab-badge.svg\" alt=\"Open In Colab\"/></a>"
      ]
    },
    {
      "cell_type": "code",
      "source": [
        "import numpy as np\n",
        "\n",
        "\n",
        "def sumatoria(x,n):\n",
        "  suma_e=0\n",
        "  for i in range(n):\n",
        "    term1=(-1)**i\n",
        "    numerador=x**i\n",
        "    factorial=np.math.factorial(i)\n",
        "    term2=term1*numerador/factorial\n",
        "    suma_e +=term2\n",
        "\n",
        "    #print(suma_e)\n",
        "  return suma_e\n",
        "\n",
        "\n",
        "sumatoria(5,15)"
      ],
      "metadata": {
        "colab": {
          "base_uri": "https://localhost:8080/"
        },
        "id": "6lRVThgJyiVb",
        "outputId": "b13460d2-6255-4c88-9ff3-3a94cdf352a7"
      },
      "execution_count": null,
      "outputs": [
        {
          "output_type": "execute_result",
          "data": {
            "text/plain": [
              "0.02445667144483013"
            ]
          },
          "metadata": {},
          "execution_count": 3
        }
      ]
    },
    {
      "cell_type": "code",
      "source": [
        "def sumatoria(x,n):\n",
        "  suma_e=0\n",
        "  for i in range(n):\n",
        "    term1=(-1)**i\n",
        "    numerador=x**i\n",
        "    numerador2=(-x)**n\n",
        "    factorial=np.math.factorial(i)\n",
        "    term2=term1*numerador/factorial\n",
        "    suma_e +=term2\n",
        "\n",
        "    abs1=abs((-x)**(n+1)/np.math.factorial(n+1))\n",
        "    abs2=abs(10**(-7)*numerador2/factorial)\n",
        "\n",
        "    while abs1>abs2:\n",
        "      return suma_e\n",
        "      if abs1<=abs2:\n",
        "        break\n",
        "\n",
        "\n",
        "    #print(abs1,abs2)\n",
        "  #return suma_e\n",
        "\n",
        "\n",
        "sumatoria(1,36)"
      ],
      "metadata": {
        "colab": {
          "base_uri": "https://localhost:8080/"
        },
        "id": "8fdK4G6M9KJA",
        "outputId": "1f8393b1-f7e2-4bf2-82d3-de27853f1e35"
      },
      "execution_count": null,
      "outputs": [
        {
          "output_type": "execute_result",
          "data": {
            "text/plain": [
              "0.36787944117144245"
            ]
          },
          "metadata": {},
          "execution_count": 5
        }
      ]
    },
    {
      "cell_type": "code",
      "source": [
        "def sumatoria(x,n):\n",
        "  suma_e=0\n",
        "  for i in range(n):\n",
        "    term1=(-1)**i\n",
        "    numerador=x**i\n",
        "    numerador2=(-x)**n\n",
        "    factorial=np.math.factorial(i)\n",
        "    term2=term1*numerador/factorial\n",
        "    suma_e +=term2\n",
        "\n",
        "    abs1 = abs((-x)**(i+1)/np.math.factorial(i+1))\n",
        "    #abs2=abs(10**(-7)*numerador2/factorial)\n",
        "    #print (abs1, abs(suma_e*10**(-7)))\n",
        "    \n",
        "    if (abs1<abs(suma_e*10**(-7))):\n",
        "      \n",
        "      return suma_e,abs1, i\n",
        "\n",
        "\n",
        "  # while abs1<abs(suma_e*10**(-7)):\n",
        "  #   return suma_e,abs1, n\n",
        "\n",
        "  #    if suma_e*10**(-7)<=abs1:\n",
        "  #      break\n",
        "\n",
        "\n",
        "    #print(abs1,abs2)\n",
        "  #return suma_e\n",
        "\n",
        "\n",
        "sumatoria(1,200)"
      ],
      "metadata": {
        "colab": {
          "base_uri": "https://localhost:8080/"
        },
        "id": "2I7yXOugDFB2",
        "outputId": "a1cf279b-a954-4f40-f193-c1d6ef5bd85c"
      },
      "execution_count": null,
      "outputs": [
        {
          "output_type": "execute_result",
          "data": {
            "text/plain": [
              "(0.3678794642857144, 2.505210838544172e-08, 10)"
            ]
          },
          "metadata": {},
          "execution_count": 6
        }
      ]
    },
    {
      "cell_type": "code",
      "source": [
        "#See if better precision is obtained by being clever and using exp(−x) = 1/ exp(x) for large x values. \n",
        "#This eliminates subtractive cancellation, but does not eliminate all roundoff errors\n",
        "\n",
        "def sumatoria(x,n):\n",
        "  suma_e=0\n",
        "  for i in range(n):\n",
        "    #term1=(-1)**i\n",
        "    numerador=x**i\n",
        "    numerador2=(-x)**n\n",
        "    factorial=np.math.factorial(i)\n",
        "    term2=numerador/factorial\n",
        "    suma_e +=term2\n",
        "\n",
        "\n",
        "  return 1/suma_e\n",
        "print('La diferencia entre ambos resultados es:', 0.3678794642857144-0.3678794411714423)\n",
        "\n",
        "sumatoria(1,200)"
      ],
      "metadata": {
        "colab": {
          "base_uri": "https://localhost:8080/"
        },
        "id": "XH4Yma_eGMVR",
        "outputId": "072a5b16-3a90-4775-e5d2-93c4fd6f793d"
      },
      "execution_count": null,
      "outputs": [
        {
          "output_type": "stream",
          "name": "stdout",
          "text": [
            "La diferencia entre ambos resultados es: 2.3114272107438438e-08\n"
          ]
        },
        {
          "output_type": "execute_result",
          "data": {
            "text/plain": [
              "0.3678794411714423"
            ]
          },
          "metadata": {},
          "execution_count": 7
        }
      ]
    },
    {
      "cell_type": "code",
      "source": [],
      "metadata": {
        "id": "-iOQEpKuP21Z"
      },
      "execution_count": null,
      "outputs": []
    },
    {
      "cell_type": "markdown",
      "source": [
        "# **Cancelación substractiva**"
      ],
      "metadata": {
        "id": "caifm_YvP2CN"
      }
    },
    {
      "cell_type": "code",
      "source": [
        "#Escribir un programa que realice el cálculo de  S(1)𝑁 ,  S(2)𝑁  y  S(3)𝑁"
      ],
      "metadata": {
        "id": "3e-65UHzMZtJ"
      },
      "execution_count": null,
      "outputs": []
    },
    {
      "cell_type": "code",
      "source": [
        "import numpy as np\n",
        "import matplotlib.pyplot as plt\n",
        "\n",
        "\n",
        "#S(1)𝑁\n",
        "N=1000000\n",
        "def s1_n(n):\n",
        "  suma1=0\n",
        "  for i in range(1,2*N+1):\n",
        "    #term1= (-1)**i\n",
        "    #fraccion1= i/(i+1)\n",
        "    #suma1 += term1*fraccion1\n",
        "    suma1 +=(-1)**i * i/(i+1)\n",
        "  return suma1\n",
        "\n",
        "s1_n(200)\n",
        "\n"
      ],
      "metadata": {
        "colab": {
          "base_uri": "https://localhost:8080/"
        },
        "id": "PGfnbtXkMidp",
        "outputId": "4f2c3394-196d-4ed2-e203-7c98aa0d6526"
      },
      "execution_count": null,
      "outputs": [
        {
          "output_type": "execute_result",
          "data": {
            "text/plain": [
              "0.3068525694401464"
            ]
          },
          "metadata": {},
          "execution_count": 8
        }
      ]
    },
    {
      "cell_type": "code",
      "source": [
        "#S(2)𝑁\n",
        "\n",
        "\n",
        "N=1000000\n",
        "def s2_n(n):\n",
        "  suma2=0\n",
        "  for i in range(1,N+1):\n",
        "    frac1= (-1)*(2*i-1)/(2*i)\n",
        "    frac2= 2*i/(2*i+1)\n",
        "    suma2 += frac1+frac2\n",
        "  return suma2\n",
        "s2_n(200)\n",
        "\n",
        "\n"
      ],
      "metadata": {
        "colab": {
          "base_uri": "https://localhost:8080/"
        },
        "id": "eXa3pBdgPXIv",
        "outputId": "4cd7d802-4108-4986-a168-cfb08170a60b"
      },
      "execution_count": null,
      "outputs": [
        {
          "output_type": "execute_result",
          "data": {
            "text/plain": [
              "0.3068525694401464"
            ]
          },
          "metadata": {},
          "execution_count": 2
        }
      ]
    },
    {
      "cell_type": "code",
      "source": [
        "#S(3)𝑁\n",
        "N=1000000\n",
        "def s3_n(n):\n",
        "  suma3=0\n",
        "  for i in range(1,N+1):\n",
        "    suma3 += 1/(2*i*(2*i+1))\n",
        "  return suma3\n",
        "\n",
        "s3_n(200)\n",
        "\n",
        "\n",
        "\n",
        "\n",
        "\n"
      ],
      "metadata": {
        "colab": {
          "base_uri": "https://localhost:8080/"
        },
        "id": "vZ42hqdnRGud",
        "outputId": "54570085-6077-4841-cf79-e03d25d774d4"
      },
      "execution_count": null,
      "outputs": [
        {
          "output_type": "execute_result",
          "data": {
            "text/plain": [
              "0.306852569440241"
            ]
          },
          "metadata": {},
          "execution_count": 19
        }
      ]
    },
    {
      "cell_type": "code",
      "source": [
        "#Estudiar la convergencia de la serie para los tres casos.\n",
        "#Notemos que S(1)_N y S(2)_N convergen a el mismo punto, mientras que S(3)_N converge de manera distinta pero no muy alejada del los valores de las\n",
        "#primeras dos sumatorias."
      ],
      "metadata": {
        "id": "CAMMQ0FJVtkG"
      },
      "execution_count": null,
      "outputs": []
    },
    {
      "cell_type": "code",
      "source": [
        "N=1000000\n",
        "def s1_s3(N):\n",
        "  sum1_3=0\n",
        "  sum3=0\n",
        "  suma1=0\n",
        "  for i in range (1, N+1):\n",
        "    sum3 += 1/(2*i*(2*i+1))\n",
        "  for m in range(1,2*N+1):\n",
        "    suma1 +=(-1)**m * m/(m+1)\n",
        "  \n",
        "  sum1_3+=abs(suma1-sum3)/sum3\n",
        "  return sum1_3 #sum1_3 es E\n",
        "\n",
        "s1_s3(1)\n",
        "\n",
        "n_values = list(range(1, 1500))\n",
        "\n",
        "# Calcular los valores de la suma de las dos sumatorias para cada valor de n\n",
        "s_values = [s1_s3(n) for n in n_values]\n",
        "\n",
        "# Ajustar una línea a los datos\n",
        "m, b = np.polyfit(n_values, s_values, 1)\n",
        "intercepto = b\n",
        "pendiente=m\n",
        "\n",
        "plt.scatter(n_values, s_values, s=1, color='navy')\n",
        "plt.plot(n_values, np.array(n_values)*m+b, color='lightcoral')\n",
        "plt.xlabel('N')\n",
        "plt.xlim(1,1500)\n",
        "plt.ylabel('E')\n",
        "plt.title('Suma de dos sumatorias')\n",
        "\n",
        "\n",
        "print(\"El intercepto en el eje Y es:\", intercepto, 'y la pendiente es:', pendiente)\n",
        "\n",
        "plt.show()\n",
        "#determinar intercepto y pendiente para escribir la taza de cremicimiento del error\n"
      ],
      "metadata": {
        "colab": {
          "base_uri": "https://localhost:8080/",
          "height": 312
        },
        "id": "HrHxJC5FogPI",
        "outputId": "9d09e3a1-3dc2-4139-d7d8-61cb709a9cc6"
      },
      "execution_count": null,
      "outputs": [
        {
          "output_type": "stream",
          "name": "stdout",
          "text": [
            "El intercepto en el eje Y es: 2.2355005759075246e-15 y la pendiente es: 1.0057484583394999e-17\n"
          ]
        },
        {
          "output_type": "display_data",
          "data": {
            "text/plain": [
              "<Figure size 432x288 with 1 Axes>"
            ],
            "image/png": "[encoded data removed]"
          },
          "metadata": {
            "needs_background": "light"
          }
        }
      ]
    },
    {
      "cell_type": "markdown",
      "source": [
        "Notemos que a simple vista, la mayoría de los datos no están tan alejados de la línea de ajuste de la gráfica anterior. Pero notemos que la pendiente \"m\"  es positiva, significa que la variable dependiente (E) aumenta a medida que la variable independiente (N) aumenta, esto significa que la tasa de error está aumentando a medida que se toman más \"N\" en la sumatoria, esto indicar que la sumatoria pierde precisión a medida que se suman más elementos.\n",
        "\n",
        "\n"
      ],
      "metadata": {
        "id": "mMNwifZ4A9vL"
      }
    },
    {
      "cell_type": "code",
      "source": [
        "N=1000000\n",
        "def s2_s3(N):\n",
        "  sum2_3=0\n",
        "  sum3=0\n",
        "  suma2=0\n",
        "  for i in range (1, N+1):\n",
        "    sum3 += 1/(2*i*(2*i+1))\n",
        "  for m in range(1,N+1):\n",
        "    frac1= (-1)*(2*i-1)/(2*i)\n",
        "    frac2= 2*i/(2*i+1)\n",
        "    suma2 += frac1+frac2\n",
        "  \n",
        "  sum2_3+=abs(suma2-sum3)/sum3\n",
        "  return sum2_3 #sum2_3 es E\n",
        "\n",
        "s2_s3(1)\n",
        "\n",
        "n_values = list(range(1, 1500))\n",
        "\n",
        "# Calcular los valores de la suma de las dos sumatorias para cada valor de n\n",
        "s_values = [s2_s3(n) for n in n_values]\n",
        "\n",
        "# Ajustar una línea a los datos\n",
        "m, b = np.polyfit(n_values, s_values, 1)\n",
        "intercepto = b\n",
        "pendiente=m\n",
        "\n",
        "plt.scatter(n_values, s_values, s=1, color='navy')\n",
        "plt.plot(n_values, np.array(n_values)*m+b, color='lightcoral')\n",
        "\n",
        "plt.xlabel('N')\n",
        "plt.xlim(1,500)\n",
        "plt.ylabel('E')\n",
        "plt.ylim(0.95,1.02)\n",
        "plt.title('Suma de dos sumatorias')\n",
        "\n",
        "\n",
        "print(\"El intercepto en el eje Y es:\", intercepto, 'y la pendiente es:', pendiente)\n",
        "\n",
        "plt.show()\n",
        "#determinar intercepto y pendiente para escribir la taza de cremicimiento del error"
      ],
      "metadata": {
        "colab": {
          "base_uri": "https://localhost:8080/",
          "height": 312
        },
        "id": "QfCLY9w8gbRA",
        "outputId": "f6697025-1846-495e-a066-8f84a6430742"
      },
      "execution_count": null,
      "outputs": [
        {
          "output_type": "stream",
          "name": "stdout",
          "text": [
            "El intercepto en el eje Y es: 0.9852051244738903 y la pendiente es: 1.3711459595555225e-05\n"
          ]
        },
        {
          "output_type": "display_data",
          "data": {
            "text/plain": [
              "<Figure size 432x288 with 1 Axes>"
            ],
            "image/png": "[encoded data removed]"
          },
          "metadata": {
            "needs_background": "light"
          }
        }
      ]
    },
    {
      "cell_type": "markdown",
      "source": [
        "En este caso la disperción de los datos se ve mas ordenada. Pero notemos que la pendiente \"m\"  es positiva, significa que la variable dependiente (E) aumenta a medida que la variable independiente (N) aumenta. Aunque, aumenta menos drástico que el caso anterior."
      ],
      "metadata": {
        "id": "cHsPlOVajzvC"
      }
    }
  ],
  "metadata": {
    "colab": {
      "provenance": []
    },
    "kernelspec": {
      "display_name": "Python 3 (ipykernel)",
      "language": "python",
      "name": "python3"
    },
    "language_info": {
      "codemirror_mode": {
        "name": "ipython",
        "version": 3
      },
      "file_extension": ".py",
      "mimetype": "text/x-python",
      "name": "python",
      "nbconvert_exporter": "python",
      "pygments_lexer": "ipython3",
      "version": "3.8.12"
    }
  },
  "nbformat": 4,
  "nbformat_minor": 0
}