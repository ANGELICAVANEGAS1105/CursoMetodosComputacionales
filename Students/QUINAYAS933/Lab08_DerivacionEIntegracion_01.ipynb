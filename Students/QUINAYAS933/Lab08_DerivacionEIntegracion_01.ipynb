{
  "nbformat": 4,
  "nbformat_minor": 0,
  "metadata": {
    "colab": {
      "provenance": [],
      "collapsed_sections": [
        "8q4c8oS-hpaE",
        "CxheSZe4ieFL",
        "6hJGsmCkF6Wv"
      ]
    },
    "kernelspec": {
      "display_name": "Python 3",
      "language": "python",
      "name": "python3"
    },
    "language_info": {
      "codemirror_mode": {
        "name": "ipython",
        "version": 3
      },
      "file_extension": ".py",
      "mimetype": "text/x-python",
      "name": "python",
      "nbconvert_exporter": "python",
      "pygments_lexer": "ipython3",
      "version": "3.7.2"
    }
  },
  "cells": [
    {
      "cell_type": "markdown",
      "source": [
        "<a href=\"https://colab.research.google.com/github/hernansalinas/autogrades/blob/main/Laboratorios_Taller/Lab08_DerivacionEIntegracion_01.ipynb\" target=\"_parent\"><img src=\"https://colab.research.google.com/assets/colab-badge.svg\" alt=\"Open In Colab\"/></a>\n"
      ],
      "metadata": {
        "id": "mfuoQaq5CYZG"
      }
    },
    {
      "cell_type": "markdown",
      "metadata": {
        "id": "8q4c8oS-hpaE"
      },
      "source": [
        "\n",
        "#1.Parte 1\n",
        "1. En un cirtcuito con un voltaje de  $\\varepsilon(t)$ y una inductancia de L, la primera ley de kirshhoff nos da la siguiente relación \n",
        "\n",
        "\n",
        "\\begin{equation}\n",
        "\\varepsilon(t) = L\\frac{\\mathrm{d}i}{\\mathrm{d}t} + Ri\n",
        "\\end{equation}\n",
        "\n",
        "donde r, es la resistencia del ciruito, i es la corriente. Suponga que medimos la corriente con varios valores de t y obtenemos:\n",
        "\n",
        "t = 1.00, 1.01, 1.02, 1.03, 1.0\n",
        "\n",
        "i = 3.10, 3.12, 3.14, 3.18, 3.24\n",
        "\n",
        "\n",
        "donde t se mide en segundos, i se de en amper, la inductancia L es una constante de 0.98 herios, la resistencia es de 0.142 ohms. Aproxime el votaje  $\\varepsilon(t)$ en los valores t=1.00, 1.01, 1.02, 1.03, 1.04 ,  para ello realice lo siguiente:\n",
        "\n",
        "\n",
        "- Construya un data frame de pandas con los valores de tiempo y corriente \n",
        "- Emplee un metodo calcular la derivada numérica. \n",
        "\n",
        "\n",
        "\n"
      ]
    },
    {
      "cell_type": "code",
      "source": [
        "#@title Librerias\n",
        "import pandas as pd \n",
        "from scipy.interpolate import CubicSpline\n",
        "from scipy.misc import derivative "
      ],
      "metadata": {
        "cellView": "form",
        "id": "_fOODnL3hQNx"
      },
      "execution_count": 202,
      "outputs": []
    },
    {
      "cell_type": "code",
      "source": [
        "#@title Datos iniciales\n",
        "R=0.142 #OHMS\n",
        "L=0.98 #Henrios"
      ],
      "metadata": {
        "id": "Zcre69nLNUwJ",
        "cellView": "form"
      },
      "execution_count": 192,
      "outputs": []
    },
    {
      "cell_type": "code",
      "source": [
        "url=\"https://raw.githubusercontent.com/hernansalinas/autogrades/main/Laboratorios_Taller/dataset/corrienteVstiempo\"\n",
        "data=pd.read_csv(url)"
      ],
      "metadata": {
        "id": "Lr9JjI7WXWp2"
      },
      "execution_count": 193,
      "outputs": []
    },
    {
      "cell_type": "code",
      "source": [
        "I=data['Corriente']\n",
        "t=data['tiempo']"
      ],
      "metadata": {
        "id": "uOTI9RuCXe0u"
      },
      "execution_count": 194,
      "outputs": []
    },
    {
      "cell_type": "code",
      "source": [
        "import matplotlib.pylab as plt\n",
        "plt.figure(figsize=(4,4))\n",
        "plt.plot(t,I,color='lime')\n",
        "plt.xlabel('Tiempo')\n",
        "plt.ylabel('Corriente ')\n",
        "plt.title('Gráfica de I vs t')\n",
        "plt.grid(True)"
      ],
      "metadata": {
        "colab": {
          "base_uri": "https://localhost:8080/",
          "height": 431
        },
        "id": "e9x1qux_YAXY",
        "outputId": "2afb2737-9cd0-4525-9a7d-717d65c7ac86"
      },
      "execution_count": 203,
      "outputs": [
        {
          "output_type": "display_data",
          "data": {
            "text/plain": [
              "<Figure size 400x400 with 1 Axes>"
            ],
            "image/png": "[encoded data removed]"
          },
          "metadata": {}
        }
      ]
    },
    {
      "cell_type": "code",
      "source": [
        "#calculando la derivadad numérica \n",
        "#realizar una interpolacion \n",
        "px=CubicSpline(t,I)\n",
        "# se deriva a traves de misc.derivative\n",
        "dpx=derivative(px,I,dx=0.01) "
      ],
      "metadata": {
        "colab": {
          "base_uri": "https://localhost:8080/"
        },
        "id": "a-yoTOU8OiRh",
        "outputId": "782d09de-4374-445b-f1a6-4ebb5d68dcdc"
      },
      "execution_count": 204,
      "outputs": [
        {
          "output_type": "stream",
          "name": "stderr",
          "text": [
            "<ipython-input-204-c70b4c2e4916>:5: DeprecationWarning: scipy.misc.derivative is deprecated in SciPy v1.10.0; and will be completely removed in SciPy v1.12.0. You may consider using findiff: https://github.com/maroba/findiff or numdifftools: https://github.com/pbrod/numdifftools\n",
            "  dpx=derivative(px,I,dx=0.01)\n"
          ]
        }
      ]
    },
    {
      "cell_type": "code",
      "source": [
        "#visualizando la interpolación\n",
        "import matplotlib.pylab as plt\n",
        "plt.figure(figsize=(4,4))\n",
        "plt.plot(t,px(t),color='chocolate',label='interpolación')\n",
        "plt.xlabel('Tiempo')\n",
        "plt.ylabel('Corriente ')\n",
        "plt.title('Gráfica de I vs t')\n",
        "plt.grid(True)\n",
        "plt.legend(loc='lower center')"
      ],
      "metadata": {
        "colab": {
          "base_uri": "https://localhost:8080/",
          "height": 447
        },
        "id": "K04QkAn5Yjcf",
        "outputId": "111ccf0b-eaf5-48c8-ed3d-9f7551c0feaa"
      },
      "execution_count": 205,
      "outputs": [
        {
          "output_type": "execute_result",
          "data": {
            "text/plain": [
              "<matplotlib.legend.Legend at 0x7f1a6e3e1060>"
            ]
          },
          "metadata": {},
          "execution_count": 205
        },
        {
          "output_type": "display_data",
          "data": {
            "text/plain": [
              "<Figure size 400x400 with 1 Axes>"
            ],
            "image/png": "[encoded data removed]"
          },
          "metadata": {}
        }
      ]
    },
    {
      "cell_type": "markdown",
      "source": [
        "\n",
        "\\begin{equation}\n",
        "\\varepsilon(t) = L\\frac{\\mathrm{d}i}{\\mathrm{d}t} + Ri\n",
        "\\end{equation}"
      ],
      "metadata": {
        "id": "MYkOKOCfSeOO"
      }
    },
    {
      "cell_type": "code",
      "source": [
        "#Hallando el VOLTAJE 𝜀(𝑡)\n",
        "def Voltaje(t):\n",
        "  V=np.zeros(len(I))\n",
        "  for u in range(len(I)):\n",
        "    V[u]=L*dpx[u]+R*I[u]\n",
        "  return V"
      ],
      "metadata": {
        "id": "o5wuAy1iSF4A"
      },
      "execution_count": 209,
      "outputs": []
    },
    {
      "cell_type": "code",
      "source": [
        "Dt=pd.DataFrame({'Voltaje':Voltaje(t)})"
      ],
      "metadata": {
        "id": "hZlhI3VJoxQe"
      },
      "execution_count": 210,
      "outputs": []
    },
    {
      "cell_type": "code",
      "source": [
        "#Graficando el voltaje vs tiempo \n",
        "plt.figure(figsize=(4,4))\n",
        "plt.plot(t,Voltaje(t),color='firebrick')\n",
        "plt.xlabel('Tiempo')\n",
        "plt.ylabel('Voltaje ')\n",
        "plt.title('Gráfica de V vs t')\n",
        "plt.grid(True)"
      ],
      "metadata": {
        "colab": {
          "base_uri": "https://localhost:8080/",
          "height": 431
        },
        "id": "cL2tWoLNZelo",
        "outputId": "673b23ab-cd8f-4217-8473-61ac4ce4f44a"
      },
      "execution_count": 211,
      "outputs": [
        {
          "output_type": "display_data",
          "data": {
            "text/plain": [
              "<Figure size 400x400 with 1 Axes>"
            ],
            "image/png": "[encoded data removed]"
          },
          "metadata": {}
        }
      ]
    },
    {
      "cell_type": "code",
      "source": [
        "#programaDerivada\n",
        "#para ejecutar en el visual studio code\n",
        "import pandas as pd \n",
        "from scipy.interpolate import CubicSpline\n",
        "from scipy.misc import derivative \n",
        "import matplotlib.pylab as plt\n",
        "import numpy as np\n",
        "\n",
        "\n",
        "def read_file(path):\n",
        "  df=pd.read_csv(path)\n",
        "  return df\n",
        "\n",
        "#De forma general (código del profe )\n",
        "def read_filee(path,select):\n",
        "  if (select=='csv'):\n",
        "    df=pd.read_csv(path)\n",
        "  elif (select=='xlsx'):\n",
        "    df=pd.read_excel(path)\n",
        "  else:\n",
        "    print('Problema al leer')\n",
        "    df=None\n",
        "  return df\n",
        "\n",
        "def derivada(df):\n",
        "  I=df['Corriente']\n",
        "  t=df['tiempo'] \n",
        "  #interpolando\n",
        "  px=CubicSpline(t,I)\n",
        "  #derivando \n",
        "  dpx=derivative(px,I,dx=0.01) \n",
        "  return dpx\n",
        "\n",
        "def Voltaje(t):\n",
        "  V=np.zeros(len(I))\n",
        "  for u in range(len(I)):\n",
        "    V[u]=L*dpx[u]+R*I[u]\n",
        "  return V\n",
        "\n",
        "def output(V):\n",
        "  #voltaje.csv\n",
        "  Dt=pd.DataFrame({'Voltaje':Voltaje(t)})\n",
        "  Dt.to_csv('Voltaje.csv', index=False)\n",
        "  #gráfico \n",
        "  plt.plot(t,Voltaje(t),color='firebrick')\n",
        "  plt.xlabel('Tiempo')\n",
        "  plt.ylabel('Voltaje ')\n",
        "  plt.title('Gráfica de V vs t')\n",
        "  plt.grid(True)\n",
        "  return [Dt, plt]\n",
        "\n",
        "#if  __name__== \"__main__\":"
      ],
      "metadata": {
        "id": "p_EveRuiRPUs"
      },
      "execution_count": 212,
      "outputs": []
    },
    {
      "cell_type": "markdown",
      "metadata": {
        "id": "WV6dMBzK_odZ"
      },
      "source": [
        "# Parte 2\n",
        "\n",
        "1. **Escribir en código Markdown la expresión para calcular una integral con la regla del trapecio.**\n",
        "\n",
        "Se utilizan n trapecios  y la fórmula es \n",
        "\n",
        "\\begin{equation}\n",
        "\\int_{a}^{b} f(x) \\cdot dx ≈ \\frac{h}{2}[f(a)+2∑_{i=1}^{n-1}f(x_i)+f(b)]\n",
        "\\end{equation}\n",
        "\n",
        "\n",
        "donde $h$ es el ancho de cada subintervalo\n",
        " $$h=\\frac{b-a}{n}$$ y $$x_i =a+ih$$ \n",
        "son los puntos donde se evalua la función \n",
        "\n",
        "\n",
        "2. **Escribir en código Markdown la expresión para calcular una integral con la regla del simpson**\n",
        "\n",
        "En este método de integración numérica se aproxima la función de polinomios de segundo grado en cada subintervalo.\n",
        "\n",
        "\\begin{equation}\n",
        "\\int_{a}^{b} f(x) \\cdot dx ≈ \\frac{h}{3}[f(a)+4f(x_1)+2f(x_2)+4f(x_3)+...+2f(x_{n-2})+4f(x_{n-1})+f(b)]\n",
        "\\end{equation}\n",
        "\n",
        "\n",
        "donde $h$ es el ancho de cada subintervalo\n",
        " $$h=\\frac{b-a}{n}$$ y $$x_i =a+ih$$ \n",
        "son los puntos donde se evalua la función \n",
        "\n",
        "Nota:Este método es más preciso que el anterior .\n",
        "\n",
        "**3. Escribir en código Markdown la expresión para calcular una integral con el metodo de cuadratura.**\n",
        "\n",
        "$$\\int_{a}^{b} f(x) dx \\approx \\sum_{i=1}^{n} w_i f(x_i)$$\n",
        "\n",
        "donde $x_i$ son los nodos de la cuadratura, $w_i$ son los pesos correspondientes y $n$ es el número de nodos.\n",
        "En este método se utilizan los polinomios de Legendre para hallar los nodos y los pesos, lo que  minimiza el error de aproximación en la integración."
      ]
    },
    {
      "cell_type": "markdown",
      "source": [
        "# **4. Calcular una aproximación con el metodo 1,2,3 de las siguientes integrales**\n",
        "\n",
        "<!-- \n",
        " $$\n",
        " \\int_0^\\pi e^{1-\\sqrt{x}}\\, dx\n",
        " $$  -->\n",
        "\n",
        "\n",
        "- $$\n",
        " \\int_0^{\\pi/2} \\frac{1}{\\sqrt{\\tan x}}\\, dx\n",
        " $$\n",
        "\n",
        "- \n",
        "$$\n",
        " \\int_{-\\infty}^{\\infty} \\frac{1}{1+x^2} \\, dx\n",
        " $$\n",
        "\n",
        "\n",
        "- \n",
        "\n",
        "$$\n",
        " \\int_{0}^{\\pi/4} \\int_{\\sin x}^{\\cos x} (2y\\sin x +\\cos^2 x)\\, dxdy\n",
        " $$\n",
        "\n",
        "<!-- \n",
        "- \n",
        "$$\n",
        " \\int_{-\\infty}^{\\infty} \\frac{1}{1+x^2} \\, dx\n",
        " $$ -->\n",
        "\n",
        "<!-- \n",
        "- \n",
        "$$\n",
        " \\int_{e}^{2e} \\frac{1}{\\ln x} \\, dx\n",
        " $$ -->\n",
        "\n",
        "\n",
        "garantizando  que el error sea menor a $\\varepsilon=1E-5$.  "
      ],
      "metadata": {
        "id": "CxheSZe4ieFL"
      }
    },
    {
      "cell_type": "markdown",
      "source": [
        "**Método del trapecio**"
      ],
      "metadata": {
        "id": "Y5VjAmgdemKm"
      }
    },
    {
      "cell_type": "markdown",
      "source": [
        "\n",
        "- $$\n",
        " \\int_0^{\\pi/2} \\frac{1}{\\sqrt{\\tan x}}\\, dx\n",
        " $$\n"
      ],
      "metadata": {
        "id": "Mjrcn8KwcNx2"
      }
    },
    {
      "cell_type": "code",
      "source": [
        "#@title Librerias\n",
        "from scipy.integrate import trapz\n",
        "from scipy.integrate import simpson\n",
        "from scipy.integrate import quad\n",
        "from scipy.optimize import optimize\n",
        "from scipy.integrate import dblquad\n",
        "import matplotlib.pylab as plt\n",
        "import numpy as np \n",
        "import sympy as sp\n",
        "from scipy.special import ellipk, ellipe"
      ],
      "metadata": {
        "id": "dyMxN27fUWeY",
        "cellView": "form"
      },
      "execution_count": 265,
      "outputs": []
    },
    {
      "cell_type": "code",
      "source": [
        "f1=lambda x:1/(np.sqrt(np.tan(x)))"
      ],
      "metadata": {
        "id": "hzVuqesxewWP"
      },
      "execution_count": 266,
      "outputs": []
    },
    {
      "cell_type": "code",
      "source": [
        "from scipy import integrate\n",
        "import numpy as np\n",
        "import matplotlib.pylab as plt\n",
        "# Se realiza una función con el objetivo de observar el comportamiento de la funció\n",
        "#para diferentes N y epsilon\n",
        "@np.vectorize\n",
        "def integral_trap(N, epsilon):\n",
        "  x = np.linspace(0+epsilon, np.pi/2-epsilon, N)  \n",
        "  area = integrate.trapz(f1(x), x)\n",
        "  return area\n",
        "\n",
        "ep=np.linspace(1E-6, 1E-3, 100)\n",
        "t1=integral_trap(100, ep)\n",
        "t2=integral_trap(500, ep)\n",
        "plt.figure(figsize=(4, 4))\n",
        "plt.plot(ep, t1, label=\"N=100\",color='lime')\n",
        "plt.plot(ep, t2, label=\"N=500\",color='blue')\n",
        "plt.xlabel(\"epsilon\")\n",
        "plt.ylabel(\"Convergencia\")\n",
        "plt.legend()\n",
        "plt.grid()"
      ],
      "metadata": {
        "colab": {
          "base_uri": "https://localhost:8080/",
          "height": 54
        },
        "id": "nokr14X2dLU5",
        "outputId": "7c2112eb-98ee-4fd1-b520-503ceddcd1ec"
      },
      "execution_count": 267,
      "outputs": [
        {
          "output_type": "display_data",
          "data": {
            "text/plain": [
              "<Figure size 400x400 with 1 Axes>"
            ],
            "image/png": "[encoded data removed]"
          },
          "metadata": {}
        }
      ]
    },
    {
      "cell_type": "code",
      "source": [
        "epsilon=1e-09\n",
        "#Se toma el valor para N cuya integral da aproximada a lo esperado (wolfram alpha)\n",
        "N=100000000\n",
        "x_=np.linspace(0+epsilon,np.pi/2-epsilon,N) \n",
        "y=f1(x_)\n",
        "intT=trapz(y,x_,dx=0.000001)\n",
        "print(f\"El valor de la integral con el método del trapecio es {round(intT,3)} \")"
      ],
      "metadata": {
        "id": "HHY8x57OiRsZ",
        "colab": {
          "base_uri": "https://localhost:8080/"
        },
        "outputId": "bd0d5022-5bc9-446e-97e2-b279f070e83f"
      },
      "execution_count": 268,
      "outputs": [
        {
          "output_type": "stream",
          "name": "stdout",
          "text": [
            "El valor de la integral con el método del trapecio es 2.221 \n"
          ]
        }
      ]
    },
    {
      "cell_type": "markdown",
      "source": [
        "\n",
        "**Encontrando N asociado al error menor o igual a  𝜀=1𝐸−5  con el método del trapecio**"
      ],
      "metadata": {
        "id": "yKk0EVmsc5m8"
      }
    },
    {
      "cell_type": "markdown",
      "source": [
        "- $$\n",
        " \\int_0^{1} \\log(1+x^2) dx\n",
        " $$\n"
      ],
      "metadata": {
        "id": "0PJULzDclMQC"
      }
    },
    {
      "cell_type": "code",
      "source": [
        "func=lambda x: np.log(1+x**2)"
      ],
      "metadata": {
        "id": "9YZLznz3l6cq"
      },
      "execution_count": 269,
      "outputs": []
    },
    {
      "cell_type": "code",
      "source": [
        "Error=1e-5\n",
        "x=sp.symbols('x')\n",
        "funcion1=lambda x: sp.log(1+x**2)\n",
        "#se necesita encontrar el maximo \n",
        "derv=sp.diff(funcion1(x),x,2)\n",
        "f=sp.lambdify(x,-derv,'numpy')\n",
        "Dmax=optimize.fmin_powell(f,0.1,ftol=1e-7)"
      ],
      "metadata": {
        "colab": {
          "base_uri": "https://localhost:8080/"
        },
        "id": "sPar-zL2c3dx",
        "outputId": "bb908d2f-fa68-488c-9a79-35c7d3ba7d58"
      },
      "execution_count": 270,
      "outputs": [
        {
          "output_type": "stream",
          "name": "stdout",
          "text": [
            "Optimization terminated successfully.\n",
            "         Current function value: -2.000000\n",
            "         Iterations: 2\n",
            "         Function evaluations: 29\n"
          ]
        },
        {
          "output_type": "stream",
          "name": "stderr",
          "text": [
            "<ipython-input-270-92e1bb40a0d7>:7: DeprecationWarning: Please use `fmin_powell` from the `scipy.optimize` namespace, the `scipy.optimize.optimize` namespace is deprecated.\n",
            "  Dmax=optimize.fmin_powell(f,0.1,ftol=1e-7)\n"
          ]
        }
      ]
    },
    {
      "cell_type": "code",
      "source": [
        "def trapz_n(a, b, error):\n",
        "    h = np.sqrt(6 * error)\n",
        "    N = (b - a) / h\n",
        "    return \"El número de intervalos para el error solicitado es: %.0f\" % np.ceil(N), \"El tamaño de cada paso es: %.5f\" % h\n",
        "\n",
        "# Aplicando \n",
        "a = 0\n",
        "b = 1\n",
        "error = 1e-5\n",
        "trapz_n(a, b, error)"
      ],
      "metadata": {
        "colab": {
          "base_uri": "https://localhost:8080/"
        },
        "id": "4TuQM7fXg5NT",
        "outputId": "09618f63-6729-4ccf-b4d3-530506cde0db"
      },
      "execution_count": 271,
      "outputs": [
        {
          "output_type": "execute_result",
          "data": {
            "text/plain": [
              "('El número de intervalos para el error solicitado es: 130',\n",
              " 'El tamaño de cada paso es: 0.00775')"
            ]
          },
          "metadata": {},
          "execution_count": 271
        }
      ]
    },
    {
      "cell_type": "code",
      "source": [
        "#Calculando la integral con \n",
        "N=130\n",
        "x__=np.linspace(0,1,N)\n",
        "y_=func(x__)\n",
        "val=trapz(y_,x__)\n",
        "print(f\"El valor de la integral con el método del trapecio con {N} intervaloes es {round(val,4)} \")"
      ],
      "metadata": {
        "colab": {
          "base_uri": "https://localhost:8080/"
        },
        "id": "KCq9sFwFeGDM",
        "outputId": "09c97e45-716f-4dd3-eec9-991fac4f6a75"
      },
      "execution_count": 272,
      "outputs": [
        {
          "output_type": "stream",
          "name": "stdout",
          "text": [
            "El valor de la integral con el método del trapecio con 130 intervaloes es 0.2639 \n"
          ]
        }
      ]
    },
    {
      "cell_type": "markdown",
      "source": [
        "**Método de simpson**. \n",
        "- $$\n",
        " \\int_0^{\\pi/2} \\frac{1}{\\sqrt{\\tan x}}\\, dx\n",
        " $$\n",
        "\n",
        "\n"
      ],
      "metadata": {
        "id": "KZJNjLDKeq0W"
      }
    },
    {
      "cell_type": "code",
      "source": [
        "N=100000000\n",
        "x_=np.linspace(0+epsilon,np.pi/2-epsilon,N) \n",
        "y=f1(x_)\n",
        "intS=simpson(y,x_,dx=0.000001)\n",
        "print(f\"El valor de la integral con el método de simpson  es {round(intS,3)} \")"
      ],
      "metadata": {
        "id": "MvXAhQUdew4H",
        "colab": {
          "base_uri": "https://localhost:8080/"
        },
        "outputId": "6699ad54-4b92-44db-86dc-20d20db25fbb"
      },
      "execution_count": 273,
      "outputs": [
        {
          "output_type": "stream",
          "name": "stdout",
          "text": [
            "El valor de la integral con el método de simpson  es 2.221 \n"
          ]
        }
      ]
    },
    {
      "cell_type": "markdown",
      "source": [
        "**Encontrando N asociado al error menor o igual a  𝜀=1𝐸−5  con el método de simpson**"
      ],
      "metadata": {
        "id": "raro847Ftiy0"
      }
    },
    {
      "cell_type": "markdown",
      "source": [
        "$E_s = -\\frac{(b-a)^5}{180n^4}f^{(4)}(\\xi)$\n",
        "\n",
        "donde $E_s$ es el error en la aproximación de la integral, $n$ es el número de subintervalos, $f^{(4)}$ es la cuarta derivada de la función integranda $f(x)$, y $\\xi$ es un punto en el intervalo $[a,b]$ en este caso usamos el máximo."
      ],
      "metadata": {
        "id": "6lvXtyrJlBmb"
      }
    },
    {
      "cell_type": "code",
      "source": [
        "x_=np.linspace(0+epsilon,np.pi/2-epsilon,N) \n",
        "y=f1(x_)\n",
        "Error=1e-5\n",
        "x=sp.symbols('x')\n",
        "f1=lambda x:1/(sp.sqrt(sp.tan(x)))\n",
        "#se necesita encontrar el maximo \n",
        "derv=sp.diff(f1(x),x,4)\n",
        "f=sp.lambdify(x,-derv,'numpy')\n",
        "Dmax=optimize.fmin_powell(f,0.1,ftol=1e-7)"
      ],
      "metadata": {
        "colab": {
          "base_uri": "https://localhost:8080/"
        },
        "id": "D8r5IAr4iKU5",
        "outputId": "52108cab-52b3-4884-98b3-9177994a5008"
      },
      "execution_count": 274,
      "outputs": [
        {
          "output_type": "stream",
          "name": "stderr",
          "text": [
            "<ipython-input-274-2b1f2b474fad>:9: DeprecationWarning: Please use `fmin_powell` from the `scipy.optimize` namespace, the `scipy.optimize.optimize` namespace is deprecated.\n",
            "  Dmax=optimize.fmin_powell(f,0.1,ftol=1e-7)\n",
            "<lambdifygenerated-9>:2: RuntimeWarning: invalid value encountered in power\n",
            "  return -((1/16)*tan(x)**2 + 1/16)*(105*(tan(x)**2 + 1)**3/tan(x)**(9/2) - 264*(tan(x)**2 + 1)**2/tan(x)**(5/2) + 208*(tan(x)**2 + 1)/sqrt(tan(x)) - 64*tan(x)**(3/2))\n",
            "<lambdifygenerated-9>:2: RuntimeWarning: invalid value encountered in sqrt\n",
            "  return -((1/16)*tan(x)**2 + 1/16)*(105*(tan(x)**2 + 1)**3/tan(x)**(9/2) - 264*(tan(x)**2 + 1)**2/tan(x)**(5/2) + 208*(tan(x)**2 + 1)/sqrt(tan(x)) - 64*tan(x)**(3/2))\n",
            "<ipython-input-274-2b1f2b474fad>:9: RuntimeWarning: NaN result encountered.\n",
            "  Dmax=optimize.fmin_powell(f,0.1,ftol=1e-7)\n"
          ]
        }
      ]
    },
    {
      "cell_type": "code",
      "source": [
        "def simpson_n(a, b):\n",
        "    n = (((b - a)**5 *abs(Dmax)) / (180 * abs(Error))) ** (1/4)\n",
        "    return \"El número mínimo de subintervalos es:\", np.ceil(n)[0]"
      ],
      "metadata": {
        "id": "OBP18LO9ZQ_N"
      },
      "execution_count": 275,
      "outputs": []
    },
    {
      "cell_type": "code",
      "source": [
        "simpson_n(epsilon,np.pi/2-epsilon)"
      ],
      "metadata": {
        "colab": {
          "base_uri": "https://localhost:8080/"
        },
        "id": "Rf1GQkRkbXmM",
        "outputId": "49b61128-4bb7-48d7-b20f-e7a4469cd974"
      },
      "execution_count": 276,
      "outputs": [
        {
          "output_type": "execute_result",
          "data": {
            "text/plain": [
              "('El número mínimo de subintervalos es:', 8.0)"
            ]
          },
          "metadata": {},
          "execution_count": 276
        }
      ]
    },
    {
      "cell_type": "code",
      "source": [
        "#si aplicamos esto \n",
        "f1=lambda x:1/(np.sqrt(np.tan(x)))\n",
        "N=8\n",
        "x_=np.linspace(0+epsilon,np.pi/2-epsilon,N) \n",
        "y=f1(x_)\n",
        "intS=simpson(y,x_,dx=0.000001)\n",
        "print(f\"El valor de la integral con el método de simpson  es {round(intS,3)} \")"
      ],
      "metadata": {
        "colab": {
          "base_uri": "https://localhost:8080/"
        },
        "id": "-RXlxOGndGPZ",
        "outputId": "3282978d-1610-400f-baf4-c9b058865384"
      },
      "execution_count": 277,
      "outputs": [
        {
          "output_type": "stream",
          "name": "stdout",
          "text": [
            "El valor de la integral con el método de simpson  es 2958.278 \n"
          ]
        }
      ]
    },
    {
      "cell_type": "markdown",
      "source": [
        "Este valor **No** es el esperado lo cual se debe a que la función tiene asintotas."
      ],
      "metadata": {
        "id": "E3ra-94rjF9B"
      }
    },
    {
      "cell_type": "markdown",
      "source": [
        "**Método de Cuadratura** "
      ],
      "metadata": {
        "id": "7iF3cLrMetMG"
      }
    },
    {
      "cell_type": "code",
      "source": [
        "#retorna el valor y el error absoluto \n",
        "intQ=quad(f1,min(x_),max(x_))\n",
        "print(f\"El valor de la integral con el método de simpson  es {np.round(intQ[0],3)} y su error absoluto es {intQ[1]} \")"
      ],
      "metadata": {
        "id": "D1KMTBJANVit",
        "colab": {
          "base_uri": "https://localhost:8080/"
        },
        "outputId": "5de396ca-c826-4087-d9b7-172cd5522ed9"
      },
      "execution_count": 278,
      "outputs": [
        {
          "output_type": "stream",
          "name": "stdout",
          "text": [
            "El valor de la integral con el método de simpson  es 2.221 y su error absoluto es 1.1013265854842302e-09 \n"
          ]
        }
      ]
    },
    {
      "cell_type": "markdown",
      "source": [
        "\n",
        "- $$\n",
        " \\int_{-\\infty}^{\\infty} \\frac{1}{1+x^2} \\, dx\n",
        " $$\n"
      ],
      "metadata": {
        "id": "xeb2XOA7cR1x"
      }
    },
    {
      "cell_type": "markdown",
      "source": [
        "**Método del trapecio**"
      ],
      "metadata": {
        "id": "o0MZ2e4pccg4"
      }
    },
    {
      "cell_type": "code",
      "source": [
        "from scipy.integrate import trapz\n",
        "f2=lambda x: 1/(1+x**2)\n",
        "#Se necesita redefinir el inf ,el analisis se llevará a cabo con la gráfica \n",
        "#El objetivo es buscar un resultado aproximado al dado por quad,que es π\n",
        "x=np.linspace(-200000.99999999,200000.9999999,10000000)\n",
        "y=f2(x)\n",
        "intt=trapz(y,x,dx=0.0001)\n",
        "print(f\"El valor de la integral con el método del trapecio  es {round(intt,4)}\")"
      ],
      "metadata": {
        "colab": {
          "base_uri": "https://localhost:8080/"
        },
        "id": "0TmceLsccdtJ",
        "outputId": "2bc1466a-9ea8-44dd-b01e-6f4b73c93279"
      },
      "execution_count": 279,
      "outputs": [
        {
          "output_type": "stream",
          "name": "stdout",
          "text": [
            "El valor de la integral con el método del trapecio  es 3.1416\n"
          ]
        }
      ]
    },
    {
      "cell_type": "markdown",
      "source": [
        "**Encontrando N asociado al error menor o igual a  𝜀=1𝐸−5  con el método del trapecio**"
      ],
      "metadata": {
        "id": "AZgzz8FRRjkl"
      }
    },
    {
      "cell_type": "code",
      "source": [
        "def trapz_n(a, b, error):\n",
        "    h = np.sqrt(6 * error)\n",
        "    N = (b - a) / h\n",
        "    return \"El número de intervalos para el error solicitado es: %.0f\" % np.ceil(N), \"El tamaño de cada paso es: %.5f\" % h\n",
        "trapz_n(min(x),max(x),Error)"
      ],
      "metadata": {
        "id": "Ut9cHgxFRpwp",
        "colab": {
          "base_uri": "https://localhost:8080/"
        },
        "outputId": "f7fb0071-0ea2-402d-f137-741ba1730aa9"
      },
      "execution_count": 280,
      "outputs": [
        {
          "output_type": "execute_result",
          "data": {
            "text/plain": [
              "('El número de intervalos para el error solicitado es: 51640037',\n",
              " 'El tamaño de cada paso es: 0.00775')"
            ]
          },
          "metadata": {},
          "execution_count": 280
        }
      ]
    },
    {
      "cell_type": "code",
      "source": [
        "#Aplicando esto \n",
        "N=51640037\n",
        "x=np.linspace(-200000.99999999,200000.9999999,N)\n",
        "y=f2(x)\n",
        "intt=trapz(y,x,dx=0.0001)\n",
        "print(f\"El valor de la integral con el método de simpson  es {intt}\")"
      ],
      "metadata": {
        "colab": {
          "base_uri": "https://localhost:8080/"
        },
        "id": "-yofnL4bl932",
        "outputId": "60eaafaa-8ad6-47a4-e69d-99054a5eebc8"
      },
      "execution_count": 281,
      "outputs": [
        {
          "output_type": "stream",
          "name": "stdout",
          "text": [
            "El valor de la integral con el método de simpson  es 3.1415826536397833\n"
          ]
        }
      ]
    },
    {
      "cell_type": "markdown",
      "source": [
        "**Método de Simpson**"
      ],
      "metadata": {
        "id": "YHPSQ9Ehcd1K"
      }
    },
    {
      "cell_type": "code",
      "source": [
        "Ints=simpson(y,x,dx=0.0001)\n",
        "print(f\"El valor de la integral con el método de simpson  es {round(Ints,4)}\")"
      ],
      "metadata": {
        "colab": {
          "base_uri": "https://localhost:8080/"
        },
        "id": "u33MJcBRcfav",
        "outputId": "12242162-dcb7-40f6-d9fa-1a812a40fe59"
      },
      "execution_count": 282,
      "outputs": [
        {
          "output_type": "stream",
          "name": "stdout",
          "text": [
            "El valor de la integral con el método de simpson  es 3.1416\n"
          ]
        }
      ]
    },
    {
      "cell_type": "markdown",
      "source": [
        "**Encontrando N asociado al error menor o igual a  𝜀=1𝐸−5  con el método de simpson**"
      ],
      "metadata": {
        "id": "rpMJ9d-NhpVR"
      }
    },
    {
      "cell_type": "code",
      "source": [
        "Error=1e-5\n",
        "x=sp.symbols('x')\n",
        "f2=lambda x: 1/(1+x**2)\n",
        "\n",
        "#se necesita encontrar el maximo \n",
        "derv=sp.diff(f2(x),x,4)\n",
        "f=sp.lambdify(x,-derv,'numpy')\n",
        "Dmax=optimize.fmin_powell(f,1,ftol=1e-10)\n",
        "\n",
        "x=np.linspace(-200000.99999999,200000.9999999,N)\n",
        "#\n",
        "def simpson_n(a, b):\n",
        "    n = (((b - a)**5 *abs(Dmax)) / (180 * abs(Error))) ** (1/4)\n",
        "    return \"El número mínimo de subintervalos es:\", np.ceil(n)[0]\n",
        "\n",
        "simpson_n(-200000.99999999,200000.9999999)"
      ],
      "metadata": {
        "colab": {
          "base_uri": "https://localhost:8080/"
        },
        "id": "H_q62wMXhoiw",
        "outputId": "0f8f04f8-4adc-4aff-bb04-f8e4c12f53ac"
      },
      "execution_count": 283,
      "outputs": [
        {
          "output_type": "stream",
          "name": "stdout",
          "text": [
            "Optimization terminated successfully.\n",
            "         Current function value: -0.375000\n",
            "         Iterations: 2\n",
            "         Function evaluations: 44\n"
          ]
        },
        {
          "output_type": "stream",
          "name": "stderr",
          "text": [
            "<ipython-input-283-a6e7c57ef6c9>:8: DeprecationWarning: Please use `fmin_powell` from the `scipy.optimize` namespace, the `scipy.optimize.optimize` namespace is deprecated.\n",
            "  Dmax=optimize.fmin_powell(f,1,ftol=1e-10)\n"
          ]
        },
        {
          "output_type": "execute_result",
          "data": {
            "text/plain": [
              "('El número mínimo de subintervalos es:', 56027306.0)"
            ]
          },
          "metadata": {},
          "execution_count": 283
        }
      ]
    },
    {
      "cell_type": "code",
      "source": [
        "#si aplicamos esto \n",
        "N=56027306\n",
        "x=np.linspace(-200000.99999999,200000.9999999,N)\n",
        "y=f2(x)\n",
        "intt=simpson(y,x,dx=0.0001)\n",
        "print(f\"El valor de la integral con el método de simpson  es {intt}\")"
      ],
      "metadata": {
        "colab": {
          "base_uri": "https://localhost:8080/"
        },
        "id": "49ZQIV2onR4o",
        "outputId": "aab8da5f-cbe8-4965-b94b-ceda4b2afd6a"
      },
      "execution_count": 284,
      "outputs": [
        {
          "output_type": "stream",
          "name": "stdout",
          "text": [
            "El valor de la integral con el método de simpson  es 3.1415826536397984\n"
          ]
        }
      ]
    },
    {
      "cell_type": "markdown",
      "source": [
        "**Método de Cuadratura**"
      ],
      "metadata": {
        "id": "Q-mPcncvcjiU"
      }
    },
    {
      "cell_type": "code",
      "source": [
        "Intq=quad(f2,-np.inf,np.inf)\n",
        "print(f\"El valor de la integral con el método de simpson  es {round(Intq[0],4)} y su Error absoluto es {Intq[1]} \")"
      ],
      "metadata": {
        "colab": {
          "base_uri": "https://localhost:8080/"
        },
        "id": "fi74n4BUQULG",
        "outputId": "b64f8f90-1e67-4004-d6a8-41fc36cd177a"
      },
      "execution_count": 285,
      "outputs": [
        {
          "output_type": "stream",
          "name": "stdout",
          "text": [
            "El valor de la integral con el método de simpson  es 3.1416 y su Error absoluto es 5.155583041103855e-10 \n"
          ]
        }
      ]
    },
    {
      "cell_type": "markdown",
      "source": [
        "\n",
        "- \n",
        "\n",
        "$$\n",
        " \\int_{0}^{\\pi/4} \\int_{\\sin x}^{\\cos x} (2y\\sin x +\\cos^2 x)\\, dxdy $$\n",
        "\n",
        "<!-- \n",
        "- \n",
        "$$\n",
        " \\int_{-\\infty}^{\\infty} \\frac{1}{1+x^2} \\, dx\n",
        " $$ -->\n",
        "\n",
        "<!-- \n",
        "- \n",
        "$$\n",
        " \\int_{e}^{2e} \\frac{1}{\\ln x} \\, dx\n",
        " $$ -->\n",
        "\n"
      ],
      "metadata": {
        "id": "S18Ac0dVcuRX"
      }
    },
    {
      "cell_type": "code",
      "source": [
        "#Encontrando el valor de manera más directa para comparar con los que obtendré con los otros métodos \n",
        "funcion = lambda x,y : 2*y*np.sin(x) + np.cos(x)**2\n",
        "integral, error = dblquad(funcion, 0, np.pi/4, lambda x: np.sin(x), lambda x: np.cos(x))\n",
        "\n",
        "print(\"El valor de la integral con dblquad es\",integral)"
      ],
      "metadata": {
        "colab": {
          "base_uri": "https://localhost:8080/"
        },
        "id": "22wlvJ-82Qcr",
        "outputId": "fdaf45b6-3fe2-438c-f10b-0da354c7a853"
      },
      "execution_count": 286,
      "outputs": [
        {
          "output_type": "stream",
          "name": "stdout",
          "text": [
            "El valor de la integral con dblquad es 0.4041197515454243\n"
          ]
        }
      ]
    },
    {
      "cell_type": "markdown",
      "source": [
        "**Método del trapecio**"
      ],
      "metadata": {
        "id": "OXN9U1rDcvIz"
      }
    },
    {
      "cell_type": "code",
      "source": [
        "# El dominio de integración para x \n",
        "x = np.linspace(0, np.pi/4, 100)\n",
        "def intDouble_trapez(funcion):\n",
        "    x = np.linspace(0, np.pi/4, 100)\n",
        "    y = np.zeros(len(x))\n",
        "    for i in range(len(x)):\n",
        "        integrando_y = lambda y: funcion(x[i], y)\n",
        "        y[i] = trapz([integrando_y(a) for a in np.linspace(np.sin(x[i]), np.cos(x[i]), 100)], np.linspace(np.sin(x[i]), np.cos(x[i]), 100))\n",
        "    resultado = trapz(y, x)\n",
        "    return f'El valor de la integral por el método del trapecio es  {resultado}'\n"
      ],
      "metadata": {
        "id": "ljiM7Jqz3bxK"
      },
      "execution_count": 287,
      "outputs": []
    },
    {
      "cell_type": "code",
      "source": [
        "intDouble_trapez(funcion)"
      ],
      "metadata": {
        "colab": {
          "base_uri": "https://localhost:8080/",
          "height": 1000
        },
        "id": "mXG70JW43eLn",
        "outputId": "2d6d4b6d-6e5c-4d5f-a57d-878eba7e707b"
      },
      "execution_count": 288,
      "outputs": [
        {
          "output_type": "execute_result",
          "data": {
            "text/plain": [
              "'El valor de la integral por el método del trapecio es  0.5118335093392186'"
            ],
            "application/vnd.google.colaboratory.intrinsic+json": {
              "type": "string"
            }
          },
          "metadata": {},
          "execution_count": 288
        }
      ]
    },
    {
      "cell_type": "code",
      "source": [
        "#Usando los métodos quad y trapz\n",
        "def intDouble(funcion,x):\n",
        "  y = np.zeros(len(x))\n",
        "  for i in range(len(x)): \n",
        "     integrando_y = lambda y: funcion(x[i], y)\n",
        "     resultado_y, error = quad(integrando_y, np.sin(x[i]), np.cos(x[i]))\n",
        "     y[i]=resultado_y\n",
        "     valor=trapz(y,x)\n",
        "  return f'El valor de la integral es de {valor}'"
      ],
      "metadata": {
        "id": "dyIOUAgBt9-J"
      },
      "execution_count": 289,
      "outputs": []
    },
    {
      "cell_type": "code",
      "source": [
        "intDouble(funcion,x)"
      ],
      "metadata": {
        "colab": {
          "base_uri": "https://localhost:8080/",
          "height": 882
        },
        "id": "rpTtPnz8znmN",
        "outputId": "93a68fb3-f8fd-4586-c068-854b97d590a6"
      },
      "execution_count": 290,
      "outputs": [
        {
          "output_type": "execute_result",
          "data": {
            "text/plain": [
              "'El valor de la integral es de 0.5118335093392186'"
            ],
            "application/vnd.google.colaboratory.intrinsic+json": {
              "type": "string"
            }
          },
          "metadata": {},
          "execution_count": 290
        }
      ]
    },
    {
      "cell_type": "markdown",
      "source": [
        "**Encontrando N asociado al error menor o igual a  𝜀=1𝐸−5  con el método del trapecio**"
      ],
      "metadata": {
        "id": "N5UMt4j_7W99"
      }
    },
    {
      "cell_type": "code",
      "source": [
        "def trapz_n(a, b, error):\n",
        "    h = np.sqrt(6 * error)\n",
        "    N = (b - a) / h\n",
        "    return \"El número de intervalos para el error solicitado es: %.0f\" % np.ceil(N), \"El tamaño de cada paso es: %.5f\" % h\n",
        "trapz_n(min(x),max(x),Error)"
      ],
      "metadata": {
        "colab": {
          "base_uri": "https://localhost:8080/"
        },
        "id": "vajTumUycQ_y",
        "outputId": "2f775800-ceb6-41c5-f16e-ead02b4a4112"
      },
      "execution_count": 291,
      "outputs": [
        {
          "output_type": "execute_result",
          "data": {
            "text/plain": [
              "('El número de intervalos para el error solicitado es: 102',\n",
              " 'El tamaño de cada paso es: 0.00775')"
            ]
          },
          "metadata": {},
          "execution_count": 291
        }
      ]
    },
    {
      "cell_type": "markdown",
      "source": [
        "**Método de Simpson**\n"
      ],
      "metadata": {
        "id": "ifFD9ohfcyCQ"
      }
    },
    {
      "cell_type": "code",
      "source": [
        "def intDouble_Simp(funcion):\n",
        "    x = np.linspace(0, np.pi/4, 100)\n",
        "    y = np.zeros(len(x))\n",
        "    for i in range(len(x)):\n",
        "        integrando_y = lambda y: funcion(x[i], y)\n",
        "        y[i] = simpson([integrando_y(a) for a in np.linspace(np.sin(x[i]), np.cos(x[i]), 100)], np.linspace(np.sin(x[i]), np.cos(x[i]), 100))\n",
        "    resultado = simpson(y, x)\n",
        "    return f'El valor de la integral por el método de simpson es  {resultado}'"
      ],
      "metadata": {
        "id": "55j4tEiE5x8l"
      },
      "execution_count": 292,
      "outputs": []
    },
    {
      "cell_type": "code",
      "source": [
        "intDouble_Simp(funcion)"
      ],
      "metadata": {
        "colab": {
          "base_uri": "https://localhost:8080/",
          "height": 1000
        },
        "id": "39JMOxQ25-wU",
        "outputId": "907a511e-3f55-4dfc-8e43-bdb8c41feee0"
      },
      "execution_count": 293,
      "outputs": [
        {
          "output_type": "execute_result",
          "data": {
            "text/plain": [
              "'El valor de la integral por el método de simpson es  0.5118445718953843'"
            ],
            "application/vnd.google.colaboratory.intrinsic+json": {
              "type": "string"
            }
          },
          "metadata": {},
          "execution_count": 293
        }
      ]
    },
    {
      "cell_type": "markdown",
      "source": [
        "**Método de Cuadratura**"
      ],
      "metadata": {
        "id": "NzhqU2ZGcz5O"
      }
    },
    {
      "cell_type": "code",
      "source": [
        "def integrando_x(x):\n",
        "    integrando_y = lambda y: funcion(x, y)\n",
        "    resultado_y, error = quad(integrando_y, np.sin(x), np.cos(x))\n",
        "    return resultado_y\n",
        "\n",
        "resultado_x, eError = quad(integrando_x, 0, np.pi/4)\n",
        "\n",
        "print(f\"La integral con el método de Cuadratura es {round(resultado_x,4)} y su error es {eError}\")\n"
      ],
      "metadata": {
        "id": "2Q7X60YJqci2",
        "colab": {
          "base_uri": "https://localhost:8080/"
        },
        "outputId": "41d4cef5-cc02-4661-e212-de7319a80f4e"
      },
      "execution_count": 294,
      "outputs": [
        {
          "output_type": "stream",
          "name": "stdout",
          "text": [
            "La integral con el método de Cuadratura es 0.5118 y su error es 5.682616991530416e-15\n"
          ]
        }
      ]
    },
    {
      "cell_type": "markdown",
      "metadata": {
        "id": "6hJGsmCkF6Wv"
      },
      "source": [
        "# 5. The next  problems are examples of how elliptic integrals enter into realistic physics problems. It is straightforward to evaluate any integral numerically using the techniques of this chapter, but it may be difficult for you to  know if the answers you obtain are correct. One way to hone your integral\u0002evaluating skills is to compare your answers from quadrature to power series\n",
        "expressions, or to a polynomial approximations of know precision. To help you in this regard, we present here a polynomial approximation for an elliptic integral (Abramowitz and Stegun, 1972):\n",
        "\n",
        "\\begin{equation}\n",
        "K(m)=\\int_{0}^{\\pi/2} \\frac{\\mathrm{d\\phi}}{\\sqrt{1-m\\sin^2\\phi}}\n",
        "\\end{equation}\n",
        "\n",
        "\\begin{equation}\n",
        "\\approx a_0+a_1m_1+a_2m_1 - [ b_0+b_1m_1+b_2m_1^2]\\ln m_1 + \\epsilon(m) \n",
        "\\end{equation}\n",
        "\n",
        "\n",
        "\n",
        "$m_1 = 1-m$, \n",
        "\n",
        "$ 0 \\le m \\le1 $\n",
        "\n",
        "$\\epsilon(m)\\leq 3\\times 10^{-5}$\n",
        "\n",
        "\n",
        "\n",
        "$a_0 = 1.3862944$\n",
        "\n",
        "$b_0 = 0.5$\n",
        "\n",
        "$a_1 = 0.1119723$\n",
        "\n",
        "$b_1 = 0.1213478$\n",
        "\n",
        "$a_2 = 0.00725296$\n",
        "\n",
        "$b_2 = 0.0288729$\n",
        "\n",
        "\n",
        "\n",
        "<!-- 7. Suppose a body of mass m is traveling vertically upward starting at the surface of the earth. If all\n",
        "resistance except gravity is neglected, the escape velocity v is given by\n",
        "\n",
        "$$\n",
        "v^2=2gR\\int_1 ^\\infty z^{-2} dz,\n",
        "$$\n",
        "\n",
        "where z=x/R, R is the earth radius and g de gravity aceleration. Approximate the scape velocity -->"
      ]
    },
    {
      "cell_type": "code",
      "source": [
        "#@title Constantes\n",
        "a0=1.3862944 \n",
        "b0=0.5 \n",
        "a1=0.1119723 \n",
        "b1=0.1213478 \n",
        "a2=0.00725296 \n",
        "b2=0.0288729 \n",
        "#m1=1−m\n",
        "#0≤𝑚≤1 \n",
        "#𝜖(𝑚)≤3×10−5 "
      ],
      "metadata": {
        "id": "ge6yr5lPNW5Y",
        "cellView": "form"
      },
      "execution_count": 295,
      "outputs": []
    },
    {
      "cell_type": "code",
      "source": [
        "#Definamos una funcion para la solución de la integral elíptica mediante el polinimio anterior \n",
        "def IntElip(m):\n",
        "  m1=1-m\n",
        "  ε=3e-5\n",
        "  t1=a0+a1*m1+a2*m1\n",
        "  t2=(b0+b1*m1+b2*m1**2)*np.log(m1)\n",
        "  return t1-t2+ε"
      ],
      "metadata": {
        "id": "AUnvVLhphi05"
      },
      "execution_count": 296,
      "outputs": []
    },
    {
      "cell_type": "code",
      "source": [
        "#Comparando la aproximación por el polinomio y la integral por scipy\n",
        "\n",
        "def K(m):\n",
        "    integral = lambda phi: 1 / np.sqrt(1 - m * np.sin(phi)**2)\n",
        "    return quad(integral, 0, np.pi/2)[0]\n",
        "\n",
        "m_val = np.linspace(0, 0.9, num=10) # 10 valores para comparar \n",
        "for i in range(len(m_val)):\n",
        "\n",
        "  print(f\"m = {m_val[i]:.2f}, K_aprox = {IntElip(m_val[i]):.6f}, K_scipy = {K(m_val[i]):.6f},k_ellipe={ellipk(m_val[i])}\")"
      ],
      "metadata": {
        "colab": {
          "base_uri": "https://localhost:8080/"
        },
        "id": "3MNoN9FWWqqw",
        "outputId": "bf889148-b7c8-4fbe-f7cb-9961e0abbe1a"
      },
      "execution_count": 297,
      "outputs": [
        {
          "output_type": "stream",
          "name": "stdout",
          "text": [
            "m = 0.00, K_aprox = 1.505550, K_scipy = 1.570796,k_ellipe=1.5707963267948966\n",
            "m = 0.10, K_aprox = 1.560278, K_scipy = 1.612441,k_ellipe=1.6124413487202192\n",
            "m = 0.20, K_aprox = 1.619062, K_scipy = 1.659624,k_ellipe=1.659623598610528\n",
            "m = 0.30, K_aprox = 1.683463, K_scipy = 1.713889,k_ellipe=1.713889448178791\n",
            "m = 0.40, K_aprox = 1.755775, K_scipy = 1.777519,k_ellipe=1.7775193714912534\n",
            "m = 0.50, K_aprox = 1.839570, K_scipy = 1.854075,k_ellipe=1.8540746773013719\n",
            "m = 0.60, K_aprox = 1.940869, K_scipy = 1.949568,k_ellipe=1.9495677498060258\n",
            "m = 0.70, K_aprox = 2.071037, K_scipy = 2.075363,k_ellipe=2.075363135292469\n",
            "m = 0.80, K_aprox = 2.255808, K_scipy = 2.257205,k_ellipe=2.257205326820854\n",
            "m = 0.90, K_aprox = 2.578146, K_scipy = 2.578092,k_ellipe=2.5780921133481733\n"
          ]
        }
      ]
    },
    {
      "cell_type": "markdown",
      "source": [
        "**Es posible ver que su aproximación es buena  si no se requiere una precisión muy alta.**"
      ],
      "metadata": {
        "id": "qjbMqRUR1HgU"
      }
    },
    {
      "cell_type": "markdown",
      "source": [
        "6. Figure 5.7 shows a current loop of radius a carrying a current I. The point P\n",
        "is a distance r from the center of the loop with spherical coordinates (r, θ, φ).\n",
        "Jackson (1988) solves for the φ component of the vector potential at point P\n",
        "in terms of elliptic integrals:\n",
        "\n",
        "\\begin{equation}\n",
        "A_{\\phi}(r, \\theta)=\\frac{\\mu_0}{4\\pi}\\frac{4Ia}{\\sqrt{a^2+r^2+2ar\\sin \\theta}}\\left(\\frac{(2-k^2)K(k)-2E(k)}{k^2} \\right)\n",
        "\\end{equation}\n",
        "\n",
        "\n",
        "where \n",
        "\n",
        "\\begin{equation}\n",
        "K(k)=\\int_{0}^{\\pi/2} \\frac{\\mathrm{d\\phi}}{\\sqrt{1-k^2\\sin^2\\phi}}\n",
        "\\end{equation}\n",
        "\n",
        "\n",
        "\\begin{equation}\n",
        "E(k)=\\int_{0}^{\\pi/2} \\mathrm{d\\phi} \\sqrt{1-k^2\\sin^2\\phi}\n",
        "\\end{equation}\n",
        "\n",
        "\n",
        "\\begin{equation}\n",
        "k^2=\\frac{4ar\\sin\\theta}{a^2+r^2+2ar\\sin\\theta}\n",
        "\\end{equation}\n",
        "\n",
        "\n",
        "\n",
        "Here K(k) is a complete elliptic integral of the first kind and E(k) is a complete\n",
        "elliptic integral of the second kind. For a = 1, I = 3, and μ0∕4π = 1, compute\n",
        "and plot\n",
        "\n",
        "a) Aφ(r = 1.1, θ) vs. θ\n",
        "\n",
        "b) Aφ(r, θ = π∕3) vs. r"
      ],
      "metadata": {
        "id": "IDBKS4E4knVb"
      }
    },
    {
      "cell_type": "code",
      "source": [
        "#Encontrando E_k con scipy\n",
        "#k=m\n",
        "def E(k):\n",
        "  funcion= lambda phi: np.sqrt(1 - k**2 * np.sin(phi)**2)\n",
        "  return quad(funcion , 0, np.pi/2)[0]\n",
        "#se toman valores en el mismo intervalo de m 0≤𝑚≤1 ??\n",
        "k_val = np.linspace(0, 0.9, num=10) # 10 valores para comparar \n",
        "for i in range(len(k_val)):\n",
        "   print(f\"k = {k_val[i]:.2f}, K_aprox = {IntElip(m_val[i]):.6f}, K_scipy = {E(m_val[i]):.6f},k_ellipe={ellipe(k_val[i])}\")"
      ],
      "metadata": {
        "id": "dVU_eObm2eWq",
        "colab": {
          "base_uri": "https://localhost:8080/"
        },
        "outputId": "cd4ca02e-1645-4724-c415-bff8f7d5256a"
      },
      "execution_count": 298,
      "outputs": [
        {
          "output_type": "stream",
          "name": "stdout",
          "text": [
            "k = 0.00, K_aprox = 1.505550, K_scipy = 1.570796,k_ellipe=1.5707963267948966\n",
            "k = 0.10, K_aprox = 1.560278, K_scipy = 1.566862,k_ellipe=1.5307576368977633\n",
            "k = 0.20, K_aprox = 1.619062, K_scipy = 1.554969,k_ellipe=1.489035058095853\n",
            "k = 0.30, K_aprox = 1.683463, K_scipy = 1.534833,k_ellipe=1.4453630644126654\n",
            "k = 0.40, K_aprox = 1.755775, K_scipy = 1.505942,k_ellipe=1.3993921388974322\n",
            "k = 0.50, K_aprox = 1.839570, K_scipy = 1.467462,k_ellipe=1.3506438810476755\n",
            "k = 0.60, K_aprox = 1.940869, K_scipy = 1.418083,k_ellipe=1.298428035046913\n",
            "k = 0.70, K_aprox = 2.071037, K_scipy = 1.355661,k_ellipe=1.2416705679458226\n",
            "k = 0.80, K_aprox = 2.255808, K_scipy = 1.276350,k_ellipe=1.1784899243278386\n",
            "k = 0.90, K_aprox = 2.578146, K_scipy = 1.171697,k_ellipe=1.1047747327040733\n"
          ]
        }
      ]
    },
    {
      "cell_type": "code",
      "source": [
        "#Debido a la diferencia a medida que aumenta \n",
        "Delta=np.array([abs(E(m_val[i])-IntElip(m_val[i]))for i in range(len(k_val))])\n",
        "\n",
        "plt.figure(figsize=(4,4))\n",
        "plt.title('Gráfica de la diferencia entre el valor aproximado y el exacto',size=10)\n",
        "plt.plot(k_val,Delta,color='red')\n",
        "plt.xlabel('k')\n",
        "plt.ylabel('Δ')\n",
        "plt.grid()"
      ],
      "metadata": {
        "colab": {
          "base_uri": "https://localhost:8080/",
          "height": 54
        },
        "id": "TxHcvSbJeoPs",
        "outputId": "fd3b538b-1649-4e1a-e98d-bfced3adad2b"
      },
      "execution_count": 299,
      "outputs": [
        {
          "output_type": "display_data",
          "data": {
            "text/plain": [
              "<Figure size 400x400 with 1 Axes>"
            ],
            "image/png": "[encoded data removed]"
          },
          "metadata": {}
        }
      ]
    },
    {
      "cell_type": "code",
      "source": [
        "#A medida que k se acerca a 1 el error aumenta ,ya que el valor se aleja del esperado por el método de scipy"
      ],
      "metadata": {
        "id": "2shp6A5MfSgA"
      },
      "execution_count": 300,
      "outputs": []
    },
    {
      "cell_type": "markdown",
      "source": [
        "# a) Aφ(r = 1.1, θ) vs. θ"
      ],
      "metadata": {
        "id": "7PcyR5BxZ8n1"
      }
    },
    {
      "cell_type": "code",
      "source": [
        "#DATOS \n",
        "a=1\n",
        "I=3\n",
        "θ=np.linspace(0.2,np.pi/1.10,100)  \n",
        "r=np.array(1.1)"
      ],
      "metadata": {
        "id": "qqQ6dzu5kouP"
      },
      "execution_count": 301,
      "outputs": []
    },
    {
      "cell_type": "code",
      "source": [
        "#Definir una funcion para Aφ\n",
        "def A_phi(θ,r):\n",
        "  #μ0∕4π = 1\n",
        "  k=np.sqrt((4*a*r*np.sin(θ))/(a**2+r**2+2*a*r*np.sin(θ)))\n",
        "  t1=(4*I*a)/(np.sqrt(a**2+r**2+2*a*r*np.sin(θ)))\n",
        "  t2=((2-k**2)*IntElip(k)-2*E(k))/(k**2)\n",
        "  return t1*t2\n",
        "\n",
        "#Gráfica\n",
        "A=np.array([A_phi(theta,r) for theta in θ])\n",
        "plt.figure(figsize=(5,5))\n",
        "plt.plot(θ,A,color='purple')\n",
        "plt.xlabel('$\\\\theta$')\n",
        "plt.ylabel('$A_{φ}$')\n",
        "plt.title('$A_{φ}(r = 1.1, θ) vs. θ$')\n",
        "plt.grid()"
      ],
      "metadata": {
        "id": "lMDzlSXyrpjH",
        "colab": {
          "base_uri": "https://localhost:8080/",
          "height": 511
        },
        "outputId": "e92dafa9-356e-4e79-95f2-263c599c12b3"
      },
      "execution_count": 302,
      "outputs": [
        {
          "output_type": "display_data",
          "data": {
            "text/plain": [
              "<Figure size 500x500 with 1 Axes>"
            ],
            "image/png": "[encoded data removed]"
          },
          "metadata": {}
        }
      ]
    },
    {
      "cell_type": "markdown",
      "source": [
        "Hay cierto comportamiento extraño en los extremos ,opté por pensar que era debido al valor de las integrales elípticas y las encontré por diferentes métodos ,como ellipk y ellipe ,sin embargo aún tengo ese problema.\n",
        "También cuando θ E [0,2Π] la $A_{Φ}$ se comporta extraño ."
      ],
      "metadata": {
        "id": "cwHljFBw8LKD"
      }
    },
    {
      "cell_type": "markdown",
      "source": [
        "# b) Aφ(r, θ = π∕3) vs. r"
      ],
      "metadata": {
        "id": "13M7k9m-f5_t"
      }
    },
    {
      "cell_type": "code",
      "source": [
        "# DATOS\n",
        "a = 1\n",
        "I = 3\n",
        "θ = np.pi/3 # ángulo fijo\n",
        "r = np.linspace(0.1, 10, 100) # rango de r\n",
        "A=np.array([A_phi(θ,i) for i in r])\n",
        "\n",
        "# Gráfica\n",
        "plt.figure(figsize=(5,5))\n",
        "plt.plot(r, A, color='orange')\n",
        "plt.xlabel('$r$')\n",
        "plt.ylabel('$A_{φ}$')\n",
        "plt.title('$A_{φ}(r, θ = π/3)$ vs. $r$')\n",
        "plt.grid()\n",
        "plt.show()"
      ],
      "metadata": {
        "colab": {
          "base_uri": "https://localhost:8080/",
          "height": 510
        },
        "id": "nJa6-OV1f80H",
        "outputId": "76a41265-08e5-4363-dc10-a1720c2e9611"
      },
      "execution_count": 303,
      "outputs": [
        {
          "output_type": "display_data",
          "data": {
            "text/plain": [
              "<Figure size 500x500 with 1 Axes>"
            ],
            "image/png": "[encoded data removed]"
          },
          "metadata": {}
        }
      ]
    },
    {
      "cell_type": "markdown",
      "source": [
        "**Realizar hasta aquí**"
      ],
      "metadata": {
        "id": "bJFIG7D2RM73"
      }
    },
    {
      "cell_type": "markdown",
      "metadata": {
        "id": "dJVCeEtpX2sJ"
      },
      "source": [
        "\n",
        "7 Write a double precision program to integrate an arbitrary function numerically using the trapezoid rule, the Simpson rule, and Gaussian quadrature. For our assumed problems there is an analytics answer:\n",
        "\n",
        "\\begin{equation}\n",
        "\\frac{\\mathrm{d}N(t)}{\\mathrm{d}t}=e^{-t}\n",
        "\\end{equation}\n",
        "\n",
        "\\begin{equation}\n",
        "N(1)=\\int_0^{1}e^{-t} dt=1-e^{-1}\n",
        "\\end{equation}\n",
        "\n",
        "7.2. Compute the relative error $\\epsilon=|numerical-exact|/exact$ in each case. Present your data in the tabular form \n",
        "with space or tabas seprating the field. Try N values of 2, 10, 20 , 40 , 80, 160\n",
        "\n",
        "| N  |$\\epsilon_T$ | $\\epsilon_S$ | $\\epsilon_G$ |\n",
        "|----|---------------|--------------|--------------|\n",
        "|   2  |...|...|...|\n",
        "|   10  |...|...|...|\n",
        "\n",
        "7.3. Make a log-log plot of relative errore versus. You should observe that \n",
        "$\\epsilon\\approx CN^{\\alpha}$, $\\mathrm{log} \\epsilon =\\alpha \\mathrm{log}N + \\mathrm{constant}$. This mean that a power-law dependence appears as a straight line on a log-log plot, and that if you use $\\log_{10}$, the the ordinate on your log-log plot will be the negative of the numver of decimal places of presicion in your calculation.\n",
        "7.4. Use your plot or table to stimate the power-law dependence of the error $\\epsilon$ on the number of points N and to determine the number of decimal places of presicion in your calculation. Do this for both the trapezoid and simpsons rules and for both the algolrithmic and round-off error regimes. (Note that if may be hard to reach the round-off error regime for the trapezoid rule becasue the aproximation ) error is so large"
      ]
    }
  ]
}