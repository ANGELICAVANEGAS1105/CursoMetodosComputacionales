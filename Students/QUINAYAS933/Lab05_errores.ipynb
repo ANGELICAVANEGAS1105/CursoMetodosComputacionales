{
  "cells": [
    {
      "cell_type": "markdown",
      "metadata": {
        "id": "eIZ2Sde65031"
      },
      "source": [
        "<a href=\"https://colab.research.google.com/github/hernansalinas/autogrades/blob/main/Laboratorios_Taller/Lab05_errores.ipynb\" target=\"_parent\"><img src=\"https://colab.research.google.com/assets/colab-badge.svg\" alt=\"Open In Colab\"/></a>"
      ]
    },
    {
      "cell_type": "markdown",
      "metadata": {
        "id": "ifkkjBLv1XCU"
      },
      "source": [
        "\n",
        "## Exponencial, serie alternante (serieEn)\n",
        "Objetivo: Analizar el uso de la cancelación substractiva\n",
        "\n",
        "\n",
        "Copia textual del libro  [Computational Physics. ](https://www.dropbox.com/s/n06ul2r4l65khl6/Computational%20Physics%20-%20Problem%20Solving%20with%20Computers%2C%203527406263.pdf?dl=0)\n",
        "\n",
        "- Write a program that calculates $e^{-x}$ \n",
        "\n",
        "\\begin{equation}\n",
        "e^{-x}=\\sum_{n=0}^{N}  (-1)^n \\frac{x^{n}}{n!}\n",
        "\\end{equation}\n",
        "\n",
        "\n",
        "\n",
        "\n"
      ]
    },
    {
      "cell_type": "code",
      "source": [
        "import numpy as np \n",
        "import math\n",
        "import matplotlib.pyplot as plt"
      ],
      "metadata": {
        "id": "qG3YCRtx6dyw"
      },
      "execution_count": 85,
      "outputs": []
    },
    {
      "cell_type": "code",
      "source": [
        "def exp(x,N):\n",
        "  suma=0\n",
        "  for u in range(0,N):\n",
        "    exu=(((-1)**u)*(x**u)/math.factorial(u))\n",
        "    suma+=exu\n",
        "  return suma"
      ],
      "metadata": {
        "id": "oEMvntCf-AhH"
      },
      "execution_count": 86,
      "outputs": []
    },
    {
      "cell_type": "markdown",
      "source": [
        "- Calculate your series for $x \\le 1$ and compare it to the built-in function\n",
        "exp(x) (you may assume that the built-in exponential function is exact).\n",
        "You should pick an N for which the next term in the series is no more\n",
        "than $10^{-7}$ of the sum up to that point\n",
        "\n",
        "\\begin{equation}\n",
        "\\left| \\frac{(-x)^{N+1}}{(N+1)!} \\right | \\le \\left| 10^{-7} \\sum_{N=0}^{N} \\frac{(-x)^{n}}{n!} \\right|\n",
        "\\end{equation}\n"
      ],
      "metadata": {
        "id": "ClyiBmlK_tqW"
      }
    },
    {
      "cell_type": "code",
      "source": [
        "#Comparando x<=1 con la funcion exacta\n",
        "xs=np.arange(0.01,1,0.0001)\n",
        "L=[exp(i,100) for i in xs]\n",
        "L1=[math.exp(-i)for i in xs]"
      ],
      "metadata": {
        "id": "fkDrRkFIsfqZ"
      },
      "execution_count": 87,
      "outputs": []
    },
    {
      "cell_type": "code",
      "source": [
        "#Gráficas para visualizarlo  \n",
        "plt.figure(figsize=(10,12))\n",
        "plt.plot(xs,L,color='black',linestyle='--',label=\"exp taylor\")\n",
        "plt.plot(xs,L1,color='y',label=\"exp de math\")\n",
        "plt.xlabel(\"x\",size=12)\n",
        "plt.ylabel(\"$e^{{-x}}$\",size=12)\n",
        "plt.title(\"Gráfica de $e^{{-x}}$\",size=14)\n",
        "plt.legend()\n",
        "plt.grid(True)"
      ],
      "metadata": {
        "colab": {
          "base_uri": "https://localhost:8080/",
          "height": 757
        },
        "id": "--2dUuwHuAxj",
        "outputId": "014d861d-c99e-4d62-e121-f5fe3e2c1907"
      },
      "execution_count": 88,
      "outputs": [
        {
          "output_type": "display_data",
          "data": {
            "text/plain": [
              "<Figure size 720x864 with 1 Axes>"
            ],
            "image/png": "[encoded data removed]"
          },
          "metadata": {
            "needs_background": "light"
          }
        }
      ]
    },
    {
      "cell_type": "code",
      "source": [
        "#Es posible observar  en la gráfica que para cierto valor de x las dos funciones son aproximadamente igual \n",
        "#quizas el problema sea cuando el x es más grande "
      ],
      "metadata": {
        "id": "xoq7u397Bf7D"
      },
      "execution_count": 80,
      "outputs": []
    },
    {
      "cell_type": "code",
      "source": [
        "error=10**-7\n",
        "def find_N(x, error):\n",
        "    N = 1\n",
        "    while abs(exp(x,N+1) - exp(x,N)) > error * abs(exp(x,N)):\n",
        "        N += 1\n",
        "    return N"
      ],
      "metadata": {
        "id": "gQvQdKIRdsw6"
      },
      "execution_count": 89,
      "outputs": []
    },
    {
      "cell_type": "code",
      "source": [
        "find_N(2,error) #se puede probar con x diferentes"
      ],
      "metadata": {
        "id": "5tnKFfTKbuno",
        "colab": {
          "base_uri": "https://localhost:8080/"
        },
        "outputId": "539803f1-7b00-4c77-ec06-ec6cc9561bba"
      },
      "execution_count": 90,
      "outputs": [
        {
          "output_type": "execute_result",
          "data": {
            "text/plain": [
              "16"
            ]
          },
          "metadata": {},
          "execution_count": 90
        }
      ]
    },
    {
      "cell_type": "markdown",
      "source": [
        "- Examine the terms in the series for $x\\approx 10$ and observe the significant subtractive cancellations that occur when large terms add together to give small answers. In particular, print out the near-perfect cancellation\n",
        "at $n \\approx x − 1$.\n",
        "\n"
      ],
      "metadata": {
        "id": "dlgvsDjrAwau"
      }
    },
    {
      "cell_type": "code",
      "source": [
        "lista=[]\n",
        "def exCan(x,N):\n",
        "  sum=0\n",
        "  for u in range(0,N):\n",
        "    exu=(((-1)**u)*(x**u)/math.factorial(u))\n",
        "    lista.append(exu)\n",
        "  return lista"
      ],
      "metadata": {
        "id": "53dvKmgcZiwb"
      },
      "execution_count": 91,
      "outputs": []
    },
    {
      "cell_type": "code",
      "source": [
        "exp(10,100)"
      ],
      "metadata": {
        "colab": {
          "base_uri": "https://localhost:8080/"
        },
        "id": "2xnbQQgQc-Z9",
        "outputId": "73b24eb3-1549-438d-c545-423dcb7f5d01"
      },
      "execution_count": 92,
      "outputs": [
        {
          "output_type": "execute_result",
          "data": {
            "text/plain": [
              "4.5399929433607724e-05"
            ]
          },
          "metadata": {},
          "execution_count": 92
        }
      ]
    },
    {
      "cell_type": "code",
      "source": [
        "#A continuación se puede ver las cancelaciones substractivas\n",
        "Canc=exCan(10,100);Canc"
      ],
      "metadata": {
        "id": "sSS4Ncq8W46W"
      },
      "execution_count": null,
      "outputs": []
    },
    {
      "cell_type": "code",
      "source": [
        "#La cancelación casi perfecta \n",
        "Canc[9:11]"
      ],
      "metadata": {
        "colab": {
          "base_uri": "https://localhost:8080/"
        },
        "id": "TdpIo1NyhGeO",
        "outputId": "09b72735-78b4-4dbb-f68d-fe54333d5898"
      },
      "execution_count": 94,
      "outputs": [
        {
          "output_type": "execute_result",
          "data": {
            "text/plain": [
              "[-2755.731922398589, 2755.731922398589]"
            ]
          },
          "metadata": {},
          "execution_count": 94
        }
      ]
    },
    {
      "cell_type": "markdown",
      "source": [
        "- See if better precision is obtained by being clever and using exp(−x) = 1/ exp(x) for large x values. This eliminates subtractive cancellation, but does not eliminate all roundoff errors\n",
        "\n",
        "\n"
      ],
      "metadata": {
        "id": "DEGSoazeW3xd"
      }
    },
    {
      "cell_type": "code",
      "source": [
        "def exp_taylr(x, N):\n",
        "    suma = 0\n",
        "    for n in range(N):\n",
        "        termino = x**n / math.factorial(n)\n",
        "        suma += termino\n",
        "    return suma\n",
        "\n",
        "def exp1(x, N):\n",
        "   if x<0:\n",
        "      return 1 / exp_taylr(-x, N)\n"
      ],
      "metadata": {
        "id": "Rw6v5ijgXdYN"
      },
      "execution_count": 95,
      "outputs": []
    },
    {
      "cell_type": "code",
      "source": [
        "#comparar la precision para valores grandes de x \n",
        "listaA=[]\n",
        "listaB=[]\n",
        "for i in range(-50,-20):\n",
        "  term1=exp1(i,1000)\n",
        "  term2=exp(i,1000)\n",
        "  delta1=abs(math.exp(i)-term1)\n",
        "  delta2=abs(math.exp(i)-term2)\n",
        "  listaA.append(delta1)\n",
        "  listaB.append(delta2)\n",
        "  \n",
        "  \n",
        "for i in range(0,len(listaA)):\n",
        "  if listaA[i]<listaB[i]:\n",
        "    print(\"El método  1/exp(x) es más preciso \")\n",
        "  else:\n",
        "    print(\"El método exp(-x) es más preciso \")\n",
        "   "
      ],
      "metadata": {
        "colab": {
          "base_uri": "https://localhost:8080/"
        },
        "id": "-nrk9wRwjxIJ",
        "outputId": "bf1beb07-2fa6-4938-f0d6-843b378128bd"
      },
      "execution_count": 96,
      "outputs": [
        {
          "output_type": "stream",
          "name": "stdout",
          "text": [
            "El método  1/exp(x) es más preciso \n",
            "El método  1/exp(x) es más preciso \n",
            "El método  1/exp(x) es más preciso \n",
            "El método  1/exp(x) es más preciso \n",
            "El método  1/exp(x) es más preciso \n",
            "El método  1/exp(x) es más preciso \n",
            "El método  1/exp(x) es más preciso \n",
            "El método  1/exp(x) es más preciso \n",
            "El método  1/exp(x) es más preciso \n",
            "El método  1/exp(x) es más preciso \n",
            "El método  1/exp(x) es más preciso \n",
            "El método  1/exp(x) es más preciso \n",
            "El método  1/exp(x) es más preciso \n",
            "El método  1/exp(x) es más preciso \n",
            "El método  1/exp(x) es más preciso \n",
            "El método  1/exp(x) es más preciso \n",
            "El método  1/exp(x) es más preciso \n",
            "El método  1/exp(x) es más preciso \n",
            "El método  1/exp(x) es más preciso \n",
            "El método  1/exp(x) es más preciso \n",
            "El método  1/exp(x) es más preciso \n",
            "El método  1/exp(x) es más preciso \n",
            "El método  1/exp(x) es más preciso \n",
            "El método  1/exp(x) es más preciso \n",
            "El método  1/exp(x) es más preciso \n",
            "El método  1/exp(x) es más preciso \n",
            "El método  1/exp(x) es más preciso \n",
            "El método  1/exp(x) es más preciso \n",
            "El método  1/exp(x) es más preciso \n",
            "El método  1/exp(x) es más preciso \n"
          ]
        }
      ]
    },
    {
      "cell_type": "code",
      "source": [
        "exp1(-50,1000),exp(50,1000)\n",
        "#incluso con valores de x no tan grandes vemos que el primer método\n",
        "#es mucho menos eficiente que el último donde se halló a través de 1/exp(x)"
      ],
      "metadata": {
        "colab": {
          "base_uri": "https://localhost:8080/"
        },
        "id": "GFwXmNSRn8lX",
        "outputId": "62c812e2-150b-4e13-9e99-f40734b43522"
      },
      "execution_count": 97,
      "outputs": [
        {
          "output_type": "execute_result",
          "data": {
            "text/plain": [
              "(1.9287498479639164e-22, -7015.776232597128)"
            ]
          },
          "metadata": {},
          "execution_count": 97
        }
      ]
    },
    {
      "cell_type": "markdown",
      "source": [
        "- By progressively increasing x from 1 to 10, and then from 10 to  100, use your program to determine experimentally when the series starts to lose accuracy, and when the series no longer converges\n",
        "Make a series of graphs of the error versus N for different values of x."
      ],
      "metadata": {
        "id": "kqPHiD1-XMyO"
      }
    },
    {
      "cell_type": "code",
      "source": [
        "Err = 1e-14  # precisión que puede definirse \n",
        "N = 100\n",
        "for x in range(1,11):\n",
        "   exacto = math.exp(-x)\n",
        "   aproximacion = exp(x, N)\n",
        "   error = abs(exacto - aproximacion)\n",
        "   if error > Err:\n",
        "      print(f\"La serie de Taylor comienza a perder precisión en x = {x}\")\n",
        "      break\n",
        "   x +=1"
      ],
      "metadata": {
        "colab": {
          "base_uri": "https://localhost:8080/"
        },
        "id": "_C5hhJs-uVc_",
        "outputId": "53d09df3-f15a-4bbf-a49b-3064f9b42662"
      },
      "execution_count": 98,
      "outputs": [
        {
          "output_type": "stream",
          "name": "stdout",
          "text": [
            "La serie de Taylor comienza a perder precisión en x = 7\n"
          ]
        }
      ]
    },
    {
      "cell_type": "code",
      "source": [
        "Err = 1e-14  # precisión que puede definirse \n",
        "N = 100 \n",
        "for x in range(10,100,10):\n",
        "   exacto = math.exp(-x)\n",
        "   aproximacion = exp(x, N)\n",
        "   error = abs(exacto - aproximacion)\n",
        "   if error > Err:\n",
        "      print(f\"La serie de Taylor comienza a perder precisión en x = {x}\")\n",
        "      break\n",
        "   x +=10"
      ],
      "metadata": {
        "colab": {
          "base_uri": "https://localhost:8080/"
        },
        "id": "Gw6MW6QcJbOv",
        "outputId": "5103ef10-3bf5-4d7f-fa65-7f699ee5c2ac"
      },
      "execution_count": 99,
      "outputs": [
        {
          "output_type": "stream",
          "name": "stdout",
          "text": [
            "La serie de Taylor comienza a perder precisión en x = 10\n"
          ]
        }
      ]
    },
    {
      "cell_type": "code",
      "source": [
        "def error(x,N):\n",
        "  exacto = math.exp(-x)\n",
        "  aproximacion = exp(x, N)\n",
        "  error = abs(exacto - aproximacion)\n",
        "  return error"
      ],
      "metadata": {
        "id": "wcLv2hIIF7C9"
      },
      "execution_count": 100,
      "outputs": []
    },
    {
      "cell_type": "code",
      "source": [
        "#Gráficas del error versus N para diferentes valores de x\n",
        "import matplotlib.pyplot as plt\n",
        "#La lista x_ tiene los valores de x ,que definí arbitrariamente\n",
        "x_ = [1,4,6,7,8,9]\n",
        "\n",
        "# Valores de N a utilizar para la serie de Taylor\n",
        "valores_N = np.arange(1, 100)\n",
        "plt.figure(figsize=(11, 9))\n",
        "# Graficar el error para cada valor de x\n",
        "for x in x_:\n",
        "    errores = [error(x, N) for N in valores_N]\n",
        "    plt.plot(valores_N, errores,label=f'x={x}')\n",
        "   \n",
        "plt.xlabel('N',size=12)\n",
        "plt.ylabel('Error',size=12)\n",
        "plt.title('Error de la serie de Taylor de $e^{-x}$ para valores de $x$ entre 1 y 9',size=14)\n",
        "plt.grid()\n",
        "plt.legend(fontsize=12)\n",
        "plt.show()\n"
      ],
      "metadata": {
        "colab": {
          "base_uri": "https://localhost:8080/",
          "height": 595
        },
        "id": "0x6ns58IpkNs",
        "outputId": "1c3f697d-44aa-4572-db8c-e48378c1ec25"
      },
      "execution_count": 102,
      "outputs": [
        {
          "output_type": "display_data",
          "data": {
            "text/plain": [
              "<Figure size 792x648 with 1 Axes>"
            ],
            "image/png": "[encoded data removed]"
          },
          "metadata": {
            "needs_background": "light"
          }
        }
      ]
    },
    {
      "cell_type": "code",
      "source": [
        "def converge(x, error):\n",
        "    N = 0\n",
        "    while abs(exp(x, N)) < error:\n",
        "        if exp(x,N)== 0:\n",
        "            N += 1\n",
        "            continue\n",
        "        cociente = exp(x, N) / exp(x, N+1)\n",
        "        if abs(cociente) >= 1:\n",
        "            print(\"La serie diverge\")\n",
        "            break\n",
        "        else:\n",
        "            N += 1\n",
        "    else:\n",
        "        print(\"La serie converge\")\n",
        "    return N"
      ],
      "metadata": {
        "id": "Hm4LOv81-P4p"
      },
      "execution_count": 103,
      "outputs": []
    },
    {
      "cell_type": "markdown",
      "source": [
        "## Cancelación sustractiva\n",
        "\n",
        "\n",
        "\n",
        "**serieSn**. Un ejemplo de la cancelacion substractiva es en la suma de series alternantes. Considere la serie $\\mathrm{S}_N$,  escrita  matematicamente de tres formas diferentes:\n",
        "\n",
        "- \n",
        "\\begin{equation}\n",
        "\\mathrm{S}_N^{(1)} = \\sum_{n = 1}^{2N} (-1)^n \\frac{n}{n+1} \n",
        "\\end{equation}\n",
        "\n",
        "- Sumando números pares e impares.\n",
        "\n",
        "\\begin{equation}\n",
        "\\mathrm{S}_N^{(2)} = -\\sum_{n = 1}^{N}\\frac{2n-1}{2n} + \\sum_{n=1}^{N} \\frac{2n}{2n+1}\n",
        "\\end{equation}\n",
        "\n",
        "- Combinando las series de una forma analítica\n",
        "\n",
        "\\begin{equation}\n",
        "\\mathrm{S}_N^{(3)} = \\sum_{n = 1}^{N}\\frac{1}{2n(2n+1)}\n",
        "\\end{equation}\n",
        "\n",
        "\n",
        "\n",
        "Las tres sumas $\\mathrm{S}_N^{(1)}$, $\\mathrm{S}_N^{(2)}$ y $\\mathrm{S}_N^{(3)}$ son matemáticamente iguales, pero los resultados  pueden tener resultados numéricos diferentes.\n",
        "\n",
        "\n",
        "- Escribir un programa que realice el cálculo de $\\mathrm{S}_N^{(1)}$, $\\mathrm{S}_N^{(2)}$ y $\\mathrm{S}_N^{(3)}$\n"
      ],
      "metadata": {
        "id": "dYSaDaAA6d-s"
      }
    },
    {
      "cell_type": "code",
      "source": [
        "#SN1\n",
        "def sn1(N):\n",
        "  suma=0\n",
        "  for n in range(1,2*N+1):\n",
        "   s=((-1)**n)*(n/(n+1))\n",
        "   suma+=s\n",
        "  return suma"
      ],
      "metadata": {
        "id": "HAIZzBZA6ezo"
      },
      "execution_count": 104,
      "outputs": []
    },
    {
      "cell_type": "code",
      "source": [
        "#SN2\n",
        "def sn2(N):\n",
        "  suma1=0\n",
        "  suma2=0\n",
        "  for n in range(1,N+1):\n",
        "   s1=(2*n-1)/(2*n)\n",
        "   s2=(2*n)/(2*n+1)\n",
        "   suma1+=s1\n",
        "   suma2+=s2\n",
        "   sumat=+suma2-suma1\n",
        "  return sumat"
      ],
      "metadata": {
        "id": "UNVcH3RJRB07"
      },
      "execution_count": 105,
      "outputs": []
    },
    {
      "cell_type": "code",
      "source": [
        "#SN3\n",
        "def sn3(N):\n",
        "  suma=0\n",
        "  for n in range(1,N+1):\n",
        "   s=1/((2*n)*(2*n+1))\n",
        "   suma+=s\n",
        "  return suma"
      ],
      "metadata": {
        "id": "ku2cZVm0TBBe"
      },
      "execution_count": 106,
      "outputs": []
    },
    {
      "cell_type": "markdown",
      "source": [
        "- Estudiar la convergencia de la serie para los tres casos.\n",
        "\n"
      ],
      "metadata": {
        "id": "puICihX4PCit"
      }
    },
    {
      "cell_type": "code",
      "source": [
        "N=[i for i in range(1,1000)]\n",
        "LISTA1=[sn1(i) for i in N  ]\n",
        "LISTA2=[sn2(i) for i in N  ]\n",
        "LISTA3=[sn3(i) for i in N  ]"
      ],
      "metadata": {
        "id": "EbFyrG8Taiz2"
      },
      "execution_count": 107,
      "outputs": []
    },
    {
      "cell_type": "code",
      "source": [
        "error = 1e-19  # Definir el valor de error deseado\n",
        "N = 1          # Iniciar en N = 1\n",
        "iteraciones = 100000  # Definir un número máximo de iteraciones\n",
        "\n",
        "while N < iteraciones:\n",
        "    suc = sn1(N)\n",
        "    v_exct = sn3(N)\n",
        "\n",
        "    if abs(suc - v_exct) < error:\n",
        "        print(\"La serie empieza a converger en\", N)\n",
        "        break  # Salir del ciclo si se encuentra la convergencia\n",
        "\n",
        "    N += 1"
      ],
      "metadata": {
        "colab": {
          "base_uri": "https://localhost:8080/"
        },
        "id": "LFKUsuN8nLjq",
        "outputId": "31480265-3b13-49e4-b2ab-6dae087a9378"
      },
      "execution_count": 108,
      "outputs": [
        {
          "output_type": "stream",
          "name": "stdout",
          "text": [
            "La serie empieza a converger en 2\n"
          ]
        }
      ]
    },
    {
      "cell_type": "code",
      "source": [
        "#Para hallar el valor al que convergen las series sn1,sn2 y sn3 respectivamente \n",
        "for N in [10, 100, 1000, 10000, 100000]:\n",
        "    resultado = sn1(N)\n",
        "    print(f\"N={N}: {resultado:.4f}\")"
      ],
      "metadata": {
        "colab": {
          "base_uri": "https://localhost:8080/"
        },
        "id": "qR6ZhjP7p5o8",
        "outputId": "6a5213b3-7bfd-482b-83eb-ae9b7b8bb859"
      },
      "execution_count": 112,
      "outputs": [
        {
          "output_type": "stream",
          "name": "stdout",
          "text": [
            "N=10: 0.2836\n",
            "N=100: 0.3044\n",
            "N=1000: 0.3066\n",
            "N=10000: 0.3068\n",
            "N=100000: 0.3069\n"
          ]
        }
      ]
    },
    {
      "cell_type": "code",
      "source": [
        "for N in [10, 100, 1000, 10000, 100000]:\n",
        "    resultado = sn2(N)\n",
        "    print(f\"N={N}: {resultado:.4f}\")"
      ],
      "metadata": {
        "colab": {
          "base_uri": "https://localhost:8080/"
        },
        "id": "kFmGObFEqAxO",
        "outputId": "86b5fddb-fe09-43ad-b9cc-94f178f64593"
      },
      "execution_count": 116,
      "outputs": [
        {
          "output_type": "stream",
          "name": "stdout",
          "text": [
            "N=10: 0.2836\n",
            "N=100: 0.3044\n",
            "N=1000: 0.3066\n",
            "N=10000: 0.3068\n",
            "N=100000: 0.3069\n"
          ]
        }
      ]
    },
    {
      "cell_type": "code",
      "source": [
        "for N in [10, 100, 1000, 10000, 100000]:\n",
        "    resultado = sn3(N)\n",
        "    print(f\"N={N}: {resultado:.4f}\")"
      ],
      "metadata": {
        "colab": {
          "base_uri": "https://localhost:8080/"
        },
        "id": "ooKK5YGHsGFs",
        "outputId": "f1809b3e-6862-4300-8c95-661fdd9f1d8d"
      },
      "execution_count": 115,
      "outputs": [
        {
          "output_type": "stream",
          "name": "stdout",
          "text": [
            "N=10: 0.2836\n",
            "N=100: 0.3044\n",
            "N=1000: 0.3066\n",
            "N=10000: 0.3068\n",
            "N=100000: 0.3069\n"
          ]
        }
      ]
    },
    {
      "cell_type": "code",
      "source": [
        "#Gráficas para visualizar de mejor manera si la serie converge o diverge \n",
        "N=np.arange(1,1000)\n",
        "plt.figure(figsize=(10,12))\n",
        "plt.subplot(3,1,1)\n",
        "plt.plot(N,LISTA1,color='r')\n",
        "plt.xlabel(\"N\")\n",
        "plt.ylabel(\"sumatoria\")\n",
        "plt.title(\"Gráfica de Sn1(N)\")\n",
        "plt.grid(True)\n",
        "plt.subplot(3,1,2)\n",
        "plt.plot(N,LISTA2,color='y')\n",
        "plt.xlabel(\"N\")\n",
        "plt.ylabel(\"sumatoria\")\n",
        "plt.title(\"Gráfica de Sn2(N)\")\n",
        "plt.grid(True)\n",
        "plt.subplot(3,1,3)\n",
        "plt.plot(N,LISTA3,color='cyan')\n",
        "plt.xlabel(\"N\")\n",
        "plt.ylabel(\"sumatoria\")\n",
        "plt.title(\"Gráfica de Sn3(N)\")\n",
        "plt.grid(True)"
      ],
      "metadata": {
        "colab": {
          "base_uri": "https://localhost:8080/",
          "height": 751
        },
        "id": "Amy9wAUMVXsR",
        "outputId": "d8cc30b3-335a-40a8-9a0b-30eebef366a3"
      },
      "execution_count": 114,
      "outputs": [
        {
          "output_type": "display_data",
          "data": {
            "text/plain": [
              "<Figure size 720x864 with 3 Axes>"
            ],
            "image/png": "[encoded data removed]"
          },
          "metadata": {
            "needs_background": "light"
          }
        }
      ]
    },
    {
      "cell_type": "markdown",
      "source": [
        "Se puede ver claramente que las 3 sucesiones convergen aproximadamente a 0,31"
      ],
      "metadata": {
        "id": "B4tvhGew9vPQ"
      }
    },
    {
      "cell_type": "markdown",
      "source": [
        "- Considere  que $S_N^{(3)}$ es la solución exacta, realizar dos graficos log-log, del error relativo en función \n",
        "del número de términos ($\\mathrm{Log_{10}} E$ VS $\\mathrm{Log_{10}} N$), para $S_N^{(1)}$ y $S_N^{(2)}$. Donde,  $E = |(S_N^{(i)} - S_N^{(3)})/S_N^{(3)}|$, i = 1, 2. Considere valores de $N = 1\\times 10^{6}$.\n",
        "\n"
      ],
      "metadata": {
        "id": "5g9iiHnNPDfW"
      }
    },
    {
      "cell_type": "code",
      "source": [
        "#Error relativo para la sucesion Sn1\n",
        "import numpy as np\n",
        "N=np.arange(1,1*10**4)\n",
        "E1=[]\n",
        "for i in N:\n",
        " E=abs((sn1(i)-sn3(i))/sn3(i))\n",
        " E1.append(E)"
      ],
      "metadata": {
        "id": "glwo8WyLbZjc"
      },
      "execution_count": 117,
      "outputs": []
    },
    {
      "cell_type": "code",
      "source": [
        "#Error relativo para la sucesion Sn2\n",
        "E2=[]\n",
        "for i in N:\n",
        " Er=abs((sn2(i)-sn3(i))/sn3(i))\n",
        " E2.append(Er)"
      ],
      "metadata": {
        "id": "UGpdQSanfZAb"
      },
      "execution_count": 118,
      "outputs": []
    },
    {
      "cell_type": "code",
      "source": [
        "# Graficar los datos en una escala logarítmica\n",
        "#sucesion Sn1\n",
        "import matplotlib.pyplot as plt\n",
        "plt.figure(figsize=(12,12))\n",
        "plt.subplot(2,1,1)\n",
        "plt.plot(N,E1,color='b')\n",
        "plt.xscale('log')\n",
        "plt.yscale('log')\n",
        "plt.xlabel('N')\n",
        "plt.ylabel('Error relativo ')\n",
        "plt.title('Gráfico $\\log_{10}(E)$ vs $\\log_{10}(N)$', fontsize=16)\n",
        "plt.grid(True)\n",
        "#sucesion Sn2\n",
        "plt.figure(figsize=(12,12))\n",
        "plt.subplot(2,1,2)\n",
        "plt.plot(N,E2,color='r')\n",
        "plt.xscale('log')\n",
        "plt.yscale('log')\n",
        "plt.xlabel('N')\n",
        "plt.ylabel('Error relativo')\n",
        "plt.title('Gráfico $\\log_{10}(E)$ vs $\\log_{10}(N)$', fontsize=16)\n",
        "plt.grid(True)\n",
        "plt.show()"
      ],
      "metadata": {
        "id": "HG3vmGRcPNSb",
        "colab": {
          "base_uri": "https://localhost:8080/",
          "height": 770
        },
        "outputId": "4b0e88e8-32a5-4c33-e7e8-9088a31d0c60"
      },
      "execution_count": 119,
      "outputs": [
        {
          "output_type": "display_data",
          "data": {
            "text/plain": [
              "<Figure size 864x864 with 1 Axes>"
            ],
            "image/png": "[encoded data removed]"
          },
          "metadata": {
            "needs_background": "light"
          }
        },
        {
          "output_type": "display_data",
          "data": {
            "text/plain": [
              "<Figure size 864x864 with 1 Axes>"
            ],
            "image/png": "[encoded data removed]"
          },
          "metadata": {
            "needs_background": "light"
          }
        }
      ]
    },
    {
      "cell_type": "markdown",
      "source": [
        "- Analizar y discutir los resultados. Tenga en cuenta la discusión realizada sobre teoría de errores en la página \n",
        "39 del libro del libro [Computational Physics. ](https://www.dropbox.com/s/n06ul2r4l65khl6/Computational%20Physics%20-%20Problem%20Solving%20with%20Computers%2C%203527406263.pdf?dl=0)"
      ],
      "metadata": {
        "id": "8mRQZG1ZPNaL"
      }
    },
    {
      "cell_type": "markdown",
      "source": [
        "En las dos gráficas se observa que a medida que se usan más términos el Error aumenta de una manera lenta y al azar.\n",
        "Lo cual está relacionado con el error de Redondeo dado por:\n",
        " $$E_r=\\sqrt{N}*E_m$$\n",
        "donde $E_r$ es Error  de redondeo  y $E_m$ es error de máquina\n",
        "\n",
        "Por tanto lo mejor seria que el código diera una aproximación aceptable  de la respuesta con un número de pasos no muy grandes para que así mismo no crezca el error.\n",
        "\n",
        "Es cierto que el error Algorítmico $E_a$ decrece rápidamente con más pasos según \n",
        "$$E_a=\\frac{\\alpha}{N^\\beta }$$ \n",
        "sin embargo el error debido al redondeo es mucho más grande."
      ],
      "metadata": {
        "id": "7pjaLbHrlbpY"
      }
    }
  ],
  "metadata": {
    "colab": {
      "provenance": [],
      "collapsed_sections": [
        "ifkkjBLv1XCU"
      ]
    },
    "kernelspec": {
      "display_name": "Python 3 (ipykernel)",
      "language": "python",
      "name": "python3"
    },
    "language_info": {
      "codemirror_mode": {
        "name": "ipython",
        "version": 3
      },
      "file_extension": ".py",
      "mimetype": "text/x-python",
      "name": "python",
      "nbconvert_exporter": "python",
      "pygments_lexer": "ipython3",
      "version": "3.8.12"
    }
  },
  "nbformat": 4,
  "nbformat_minor": 0
}