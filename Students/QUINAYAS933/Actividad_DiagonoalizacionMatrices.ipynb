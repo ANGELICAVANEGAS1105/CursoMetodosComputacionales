{
  "nbformat": 4,
  "nbformat_minor": 0,
  "metadata": {
    "colab": {
      "provenance": []
    },
    "kernelspec": {
      "name": "python3",
      "display_name": "Python 3"
    },
    "language_info": {
      "name": "python"
    }
  },
  "cells": [
    {
      "cell_type": "markdown",
      "source": [
        "# Autovalores, autovectores, polinomio caracteristico, diagonalización"
      ],
      "metadata": {
        "id": "Qms28ZxFZdXn"
      }
    },
    {
      "cell_type": "markdown",
      "source": [
        "| Librería | Función | Explicación |\n",
        "| --- | --- | --- |\n",
        "| numpy | numpy.linalg.eig | Calcula los autovalores y autovectores derechos de una matriz cuadrada |\n",
        "| numpy | numpy.linalg.eigh | Calcula los autovalores y autovectores de una matriz hermítica compleja o simétrica real |\n",
        "| numpy | numpy.poly | Calcula el polinomio característico de una matriz |\n",
        "| sympy | sympy.Matrix.eigenvals | Calcula los autovalores de una matriz simbólica |\n",
        "| sympy | sympy.Matrix.eigenvects | Calcula los autovalores y autovectores de una matriz simbólica |\n",
        "| sympy | sympy.Matrix.charpoly | Calcula el polinomio característico de una matriz simbólica |"
      ],
      "metadata": {
        "id": "ONmddMM3Youm"
      }
    },
    {
      "cell_type": "markdown",
      "source": [
        "Calcular el polinomio caracteristico, los  autovalores y autovectores propios de la siguiente matrices, comprobar con la solucion analitica:\n",
        "\n",
        "1. \n",
        "\\begin{bmatrix}\n",
        "1 & -1 & 4 \\\\\n",
        "3 & 2 & -1 \\\\\n",
        "2 & 1 & -1\n",
        "\\end{bmatrix}\n",
        "\n",
        "\n",
        "2. \\begin{bmatrix}\n",
        "3 & -5 \\\\\n",
        "1 & -1 \\\\\n",
        "\\end{bmatrix}\n",
        "\n",
        "\n",
        "\n"
      ],
      "metadata": {
        "id": "EwfvC822XBSY"
      }
    },
    {
      "cell_type": "code",
      "source": [
        "#@title Librerias\n",
        "import numpy as np\n",
        "import matplotlib.pylab as plt\n",
        "import sympy as sp "
      ],
      "metadata": {
        "id": "QDFrA_J-q3IN",
        "cellView": "form"
      },
      "execution_count": 42,
      "outputs": []
    },
    {
      "cell_type": "code",
      "source": [
        "A=np.asmatrix([[1,-1,4],[3,2,-1],[2,1,-1]])"
      ],
      "metadata": {
        "id": "R1_xPcKNq0YV"
      },
      "execution_count": 43,
      "outputs": []
    },
    {
      "cell_type": "code",
      "source": [
        "#polinomio caracteristico\n",
        "#retorna los coeficientes del polinomio de mayor grado a menor grado \n",
        "p_x=np.poly(A)\n",
        "#Autovalores y autovectores propios donde  aV[0] es un vector con los valores propios\n",
        "#y aV[1] es una matriz cuyas columnas son los vectores propios  \n",
        "aV=np.linalg.eig(A)\n",
        "\n",
        "print(f'''Los coeficientes del polinomio característico son : {p_x},\n",
        "\n",
        "los autovalores :{aV[0]} con los autovectores : \\n{aV[1]}\n",
        "\n",
        "''')"
      ],
      "metadata": {
        "id": "5UWJPWU0rZw0",
        "colab": {
          "base_uri": "https://localhost:8080/"
        },
        "outputId": "e06ddadc-abf8-44a9-9564-0c13c7b5288a"
      },
      "execution_count": 46,
      "outputs": [
        {
          "output_type": "stream",
          "name": "stdout",
          "text": [
            "Los coeficientes del polinomio característico son : [ 1. -2. -5.  6.],\n",
            "\n",
            "los autovalores :[ 3. -2.  1.] con los autovectores : \n",
            "[[ 0.40824829  0.57735027  0.23570226]\n",
            " [ 0.81649658 -0.57735027 -0.94280904]\n",
            " [ 0.40824829 -0.57735027 -0.23570226]]\n",
            "\n",
            "\n"
          ]
        }
      ]
    },
    {
      "cell_type": "code",
      "source": [
        "B=np.asmatrix([[3,-5],[1,-1]])\n",
        "#polinomio caracteristico\n",
        "p_X=np.poly(B)\n",
        "#Autovalores y autovectores propios, nota aV[0] es \n",
        "a_V=np.linalg.eig(B)\n",
        "\n",
        "print(f'''Los coeficientes del polinomio característico son : {p_X},\n",
        "\n",
        "los autovalores :{a_V[0]} con los autovectores : \\n{a_V[1]}\n",
        "\n",
        "''')"
      ],
      "metadata": {
        "id": "IPvXoCy2sLYZ",
        "colab": {
          "base_uri": "https://localhost:8080/"
        },
        "outputId": "f45d46c2-b634-40c2-94dc-449368617145"
      },
      "execution_count": 47,
      "outputs": [
        {
          "output_type": "stream",
          "name": "stdout",
          "text": [
            "Los coeficientes del polinomio característico son : [ 1. -2.  2.],\n",
            "\n",
            "los autovalores :[1.+1.j 1.-1.j] con los autovectores : \n",
            "[[0.91287093+0.j         0.91287093-0.j        ]\n",
            " [0.36514837-0.18257419j 0.36514837+0.18257419j]]\n",
            "\n",
            "\n"
          ]
        }
      ]
    },
    {
      "cell_type": "markdown",
      "source": [
        "# Diagonalizacion \n",
        "Una matriz cuadrada $A$ es diagonalizable si y solo si cada autovalor $\\lambda$ de multiplicidad $m$ produce exactamente $m$ autovectores básicos; es decir, si y solo si la solución general del sistema $(A-I\\lambda)\\vec{x}=0$ tiene exactamente $m$ parámetros.\n",
        "\n",
        "\n",
        "Para diagonalizar una matriz $A$, se necesita encontrar una matriz invertible $P$ tal que $P^{-1}AP$ sea una matriz diagonal $D$. Esto significa que las columnas de $P$ son los autovectores de $A$ y los elementos de la diagonal de $D$ son los autovalores correspondientes de $A$.\n",
        "\n",
        "Encuentre la matrix diagnonal para las matrices anteriores. \n",
        "\n"
      ],
      "metadata": {
        "id": "FjG0uYQ_ZlFo"
      }
    },
    {
      "cell_type": "markdown",
      "source": [
        "\n",
        "\\begin{bmatrix}\n",
        "1 & -1 & 4 \\\\\n",
        "3 & 2 & -1 \\\\\n",
        "2 & 1 & -1\n",
        "\\end{bmatrix}\n"
      ],
      "metadata": {
        "id": "ySsMZ-vDwpPj"
      }
    },
    {
      "cell_type": "code",
      "source": [
        "P=aV[1]\n",
        "D=P.I@A@P\n",
        "print(f\"La matriz diagonal  es \\n{D}\")"
      ],
      "metadata": {
        "id": "vyq4NC410k5s",
        "colab": {
          "base_uri": "https://localhost:8080/"
        },
        "outputId": "dffefcfe-aaf2-440d-b67c-c70d0dcee891"
      },
      "execution_count": 48,
      "outputs": [
        {
          "output_type": "stream",
          "name": "stdout",
          "text": [
            "La matriz diagonal  es \n",
            "[[ 3.00000000e+00 -1.33226763e-15 -1.66533454e-15]\n",
            " [ 1.11022302e-15 -2.00000000e+00 -2.44249065e-15]\n",
            " [ 3.33066907e-16 -8.88178420e-16  1.00000000e+00]]\n"
          ]
        }
      ]
    },
    {
      "cell_type": "markdown",
      "source": [
        "\\begin{bmatrix}\n",
        "3 & -5 \\\\\n",
        "1 & -1 \\\\\n",
        "\\end{bmatrix}\n",
        "\n"
      ],
      "metadata": {
        "id": "db9Ow1ge1kaS"
      }
    },
    {
      "cell_type": "code",
      "source": [
        "P_=a_V[1]\n",
        "D_=P_.I@B@P_\n",
        "print(f\"La matriz diagonal  es \\n{D_}\")"
      ],
      "metadata": {
        "id": "RbeD6QuM1r5C",
        "colab": {
          "base_uri": "https://localhost:8080/"
        },
        "outputId": "218d8047-be47-4087-f855-9332950b3fc8"
      },
      "execution_count": 49,
      "outputs": [
        {
          "output_type": "stream",
          "name": "stdout",
          "text": [
            "La matriz diagonal  es \n",
            "[[ 1.00000000e+00+1.00000000e+00j -1.11022302e-16-3.88578059e-16j]\n",
            " [-5.55111512e-17+4.99600361e-16j  1.00000000e+00-1.00000000e+00j]]\n"
          ]
        }
      ]
    },
    {
      "cell_type": "markdown",
      "source": [
        "**Actividad 2**\n",
        "\n",
        "Considere la ecuación cuadrática $x^2-4xy+3y^2=6$, esta ecuación cuadrática se corresponde a una hiperbola, la cual puede ser escrita en forma matricial como sigue:\n",
        "\n",
        "$A\\vec{v} \\cdot \\vec{v}=6$, donde $\\vec{v}=(x, y)$ y A es una matrix simetrica, \n",
        "\n",
        "\\begin{equation}\n",
        "A=\\begin{bmatrix}\n",
        "1 & -2 \\\\\n",
        "-2 & 3 \\\\\n",
        "\\end{bmatrix}\n",
        "\\end{equation}\n",
        "\n",
        "1. Realice un grafico que represente la hyperbola\n",
        "\n"
      ],
      "metadata": {
        "id": "JwPHzdikikzu"
      }
    },
    {
      "cell_type": "markdown",
      "source": [
        "**Grafico que represente la hyperbola**"
      ],
      "metadata": {
        "id": "hsk2PSN393et"
      }
    },
    {
      "cell_type": "code",
      "source": [
        "#Graficandola con la ecuación  \n",
        "f = lambda x: (1/3)*(2*x-np.sqrt(x**2+18))\n",
        "g = lambda x: (1/3)*(2*x+np.sqrt(x**2+18))\n",
        "\n",
        "x_vals = np.linspace(-9, 9, 4000)\n",
        "y_vals1 = f(x_vals)\n",
        "y_vals2 = g(x_vals)\n",
        "\n",
        "plt.figure(figsize=(4,4))\n",
        "plt.plot(x_vals, y_vals1, 'blue')\n",
        "plt.plot(x_vals, y_vals2, 'blue')\n",
        "plt.title('Hipérbola')\n",
        "plt.xlabel('x')\n",
        "plt.ylabel('y')\n",
        "plt.xlim(-5.5,5.5) \n",
        "plt.ylim( -5,5)\n",
        "plt.grid()\n",
        "plt.show()\n"
      ],
      "metadata": {
        "colab": {
          "base_uri": "https://localhost:8080/",
          "height": 432
        },
        "id": "CYCwTPl_oElY",
        "outputId": "0eeb0204-b1a1-4a45-d150-f0b318182c10"
      },
      "execution_count": 30,
      "outputs": [
        {
          "output_type": "display_data",
          "data": {
            "text/plain": [
              "<Figure size 400x400 with 1 Axes>"
            ],
            "image/png": "[encoded data removed]"
          },
          "metadata": {}
        }
      ]
    },
    {
      "cell_type": "code",
      "source": [
        "#otra forma es con plt.contour\n",
        "x = np.linspace(-9, 9, 400)\n",
        "y=np.linspace(-5,5,400)\n",
        "x,y=np.meshgrid(x,y)\n",
        "plt.figure(figsize=(4,4))\n",
        "plt.contour(x,y,(x**2-4*x*y+3*y**2-6),[0],colors='lime')\n",
        "plt.title('Hipérbola')\n",
        "plt.xlabel('x')\n",
        "plt.ylabel('y')\n",
        "plt.grid()"
      ],
      "metadata": {
        "id": "vyJHxkinijT2",
        "colab": {
          "base_uri": "https://localhost:8080/",
          "height": 432
        },
        "outputId": "0f6802ba-eb7e-4ad5-c5bb-434c5726429a"
      },
      "execution_count": 25,
      "outputs": [
        {
          "output_type": "display_data",
          "data": {
            "text/plain": [
              "<Figure size 400x400 with 1 Axes>"
            ],
            "image/png": "[encoded data removed]"
          },
          "metadata": {}
        }
      ]
    },
    {
      "cell_type": "markdown",
      "source": [
        "\n",
        "- **Diagonalice A**, para ello construya la matrix Q de autovectores ortoganales \n",
        "tal que $D=Q^{T}AQ$, en este caso se dice que A es diagonalizable ortogonalmente, donde $A=QDQ^T$.\n"
      ],
      "metadata": {
        "id": "tSSXyHeO_rrD"
      }
    },
    {
      "cell_type": "code",
      "source": [
        "a=np.asmatrix([[1,-2],[-2,3]])\n",
        "#diagonalizando \n",
        "A_V=np.linalg.eig(a)\n",
        "Q=A_V[1]\n",
        "DMatrix=Q.T@a@Q\n",
        "print(f\"La matriz diagonal es \\n{DMatrix} \")"
      ],
      "metadata": {
        "id": "Tkg61SFf-nyo",
        "colab": {
          "base_uri": "https://localhost:8080/"
        },
        "outputId": "3efe50d9-28ef-4fa5-fc29-b7353dd9bd27"
      },
      "execution_count": 33,
      "outputs": [
        {
          "output_type": "stream",
          "name": "stdout",
          "text": [
            "La matriz diagonal es \n",
            "[[-2.36067977e-01 -3.46944695e-16]\n",
            " [-2.22044605e-16  4.23606798e+00]] \n"
          ]
        }
      ]
    },
    {
      "cell_type": "code",
      "source": [
        "#comprobando \n",
        "a1=Q@DMatrix@Q.T\n",
        "a1"
      ],
      "metadata": {
        "id": "GeFiqSutA-aL",
        "colab": {
          "base_uri": "https://localhost:8080/"
        },
        "outputId": "9455007d-4fa6-4b61-b850-5ced057ce967"
      },
      "execution_count": 34,
      "outputs": [
        {
          "output_type": "execute_result",
          "data": {
            "text/plain": [
              "matrix([[ 1., -2.],\n",
              "        [-2.,  3.]])"
            ]
          },
          "metadata": {},
          "execution_count": 34
        }
      ]
    },
    {
      "cell_type": "markdown",
      "source": [
        "- Aplique el resultado de la siguiente demostración para encontrar una nueva hyperbola en una  nueva base\n",
        "\n",
        "\\begin{equation}\n",
        "QDQ^T \\vec{v} \\cdot \\vec{v} = d\n",
        "\\end{equation}\n",
        "\n",
        "\n",
        "\\begin{equation}\n",
        "Q(DQ^T\\vec{v}) \\cdot \\vec{v} = (DQ^T\\vec{v}) \\cdot (Q^T\\vec{v})=d\n",
        "\\end{equation}\n",
        "\n",
        "\n",
        "\\begin{equation}\n",
        "(DQ^T\\vec{v}) \\cdot (Q^T\\vec{v})=d\n",
        "\\end{equation}\n",
        "\n",
        "\n",
        "Sea $u=Q^T\\vec{v}$\n",
        "\n",
        "Luego :\n",
        "\n",
        "\n",
        "\\begin{equation}\n",
        "(D\\vec{u}) \\cdot \\vec{u}=d\n",
        "\\end{equation}\n",
        "\n",
        "donde $\\vec{u}=(x', y')$, tal que $D\\vec{u} \\cdot \\vec{u}=d$ es una nueva hyperbola \n",
        "\n"
      ],
      "metadata": {
        "id": "QLdPxQEvBTLA"
      }
    },
    {
      "cell_type": "code",
      "source": [
        "#Definamos el vector u\n",
        "x=sp.symbols('x')\n",
        "y=sp.symbols('y')\n",
        "u=np.array([x,y])\n",
        "a=(DMatrix@u)\n",
        "d=np.dot(a,u)\n",
        "eqn = f\"La nueva hiperbola es  = {d}\"\n",
        "print(eqn)"
      ],
      "metadata": {
        "id": "f_5b3W88Bb1H",
        "colab": {
          "base_uri": "https://localhost:8080/"
        },
        "outputId": "325fde61-4e10-49fa-e96c-26347eb243fe"
      },
      "execution_count": 41,
      "outputs": [
        {
          "output_type": "stream",
          "name": "stdout",
          "text": [
            "La nueva hiperbola es  = [[x*(-0.23606797749979*x - 3.46944695195361e-16*y) + y*(-2.22044604925031e-16*x + 4.23606797749979*y)]]\n"
          ]
        }
      ]
    },
    {
      "cell_type": "code",
      "source": [
        "#Gráfica de la nueva hipérbola\n",
        "Hyp = lambda x, y: x*(-0.23606797749979*x - 3.46944695195361e-16*y) + y*(-2.22044604925031e-16*x + 4.23606797749979*y) - 6\n",
        "\n",
        "# Se crea  una malla de valores para x e y\n",
        "x = np.linspace(-9, 9, 400)\n",
        "y = np.linspace(-5, 5, 400)\n",
        "X, Y = np.meshgrid(x, y)\n",
        "\n",
        "#Se evalua  la función en los puntos de la malla\n",
        "Z = Hyp(X, Y)\n",
        "\n",
        "# Graficando la hipérbola\n",
        "plt.figure(figsize=(4,4))\n",
        "plt.contour(X, Y, Z, [0], colors='chocolate')\n",
        "plt.title('Nueva hipérbola')\n",
        "plt.xlabel('x')\n",
        "plt.ylabel('y')\n",
        "plt.grid()\n",
        "plt.show()"
      ],
      "metadata": {
        "id": "SE-ID7CSEUX3",
        "colab": {
          "base_uri": "https://localhost:8080/",
          "height": 432
        },
        "outputId": "87e0b2e8-04b0-409b-8331-d94c3518a4f4"
      },
      "execution_count": 50,
      "outputs": [
        {
          "output_type": "display_data",
          "data": {
            "text/plain": [
              "<Figure size 400x400 with 1 Axes>"
            ],
            "image/png": "[encoded data removed]"
          },
          "metadata": {}
        }
      ]
    }
  ]
}