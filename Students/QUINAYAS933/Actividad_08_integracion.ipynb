{
  "nbformat": 4,
  "nbformat_minor": 0,
  "metadata": {
    "colab": {
      "provenance": []
    },
    "kernelspec": {
      "name": "python3",
      "display_name": "Python 3"
    },
    "language_info": {
      "name": "python"
    }
  },
  "cells": [
    {
      "cell_type": "markdown",
      "source": [
        "**Actividad**\n",
        "\n",
        "Elaborar un programa en python que permita calcular la integral de una función entre el intervalo a, b. para ello debera realizar lo siguiente:\n",
        "\n",
        "**Realizar en notebook de collab**\n",
        "\n",
        "* Deducir la ecuación general del metodo del trapecio.\n",
        "\n",
        "\n",
        "\n",
        "* Construir un funcion llamada integral_trapz que reciba como argumento una función y el intervalo a, b. El numero de intervalos N será un argumento opcional, defina por defecto N=10. La función deberá retornar el valor de la integral.\n",
        "\n",
        "* Comparar la solución con la libreria de scipy https://docs.scipy.org/doc//scipy-1.4.1/reference/generated/scipy.integrate.trapz.html\n",
        "\n",
        "**Construir un programa en python con la función anterior que realice lo siguiente:**\n",
        "\n",
        "* Generalice el programa para que la funcion pueda ser pasada como parametro en terminal, junto con el parametro a, b. la ejecucion debera ser: python integral func a b, Ejemplo de ejcucion: python x**2+1 1 5\n",
        "\n",
        "Para pasar los parametros consulte la libreria sys de python."
      ],
      "metadata": {
        "id": "kRbn4EwNWo4k"
      }
    },
    {
      "cell_type": "markdown",
      "source": [
        "**Deducción del método del Trapecio**\n",
        "\n",
        "Se utilizan n trapecios  y la fórmula es \n",
        "\n",
        "\\begin{equation}\n",
        "\\int_{a}^{b} f(x) \\cdot dx ≈ \\frac{h}{2}[f(a)+2∑_{i=1}^{n-1}f(x_i)+f(b)]\n",
        "\\end{equation}\n",
        "\n",
        "\n",
        "donde $h$ es el ancho de cada subintervalo\n",
        " $$h=\\frac{b-a}{n}$$ y $$x_i =a+ih$$ \n",
        "son los puntos donde se evalua la función "
      ],
      "metadata": {
        "id": "nfShZtYz7LwK"
      }
    },
    {
      "cell_type": "code",
      "source": [
        "#@title Librerias\n",
        "from scipy.integrate import trapz\n",
        "import numpy as np"
      ],
      "metadata": {
        "cellView": "form",
        "id": "JWzarXGU8t5n"
      },
      "execution_count": 47,
      "outputs": []
    },
    {
      "cell_type": "code",
      "source": [
        "#@title Integral_trapz \n",
        "#N es la cantidad de intervalos ,a mayor cantidad de intervalos más precisión \n",
        "#h= es el ancho de cada uno de estos\n",
        "\n",
        "def integral_trapz (fun,a,b,N=10):\n",
        "  h=(b-a)/N\n",
        "  A=0\n",
        "  for i in range(N):\n",
        "    b=a+h\n",
        "    A+=(h/2)*(fun(a)+fun(b))\n",
        "    a=b\n",
        "  return(A)"
      ],
      "metadata": {
        "id": "3ePm4vEmXGZq",
        "cellView": "form"
      },
      "execution_count": 48,
      "outputs": []
    },
    {
      "cell_type": "code",
      "source": [
        "def func(x):\n",
        "  return(x**2+1)"
      ],
      "metadata": {
        "id": "TH48LnVnbktP"
      },
      "execution_count": 49,
      "outputs": []
    },
    {
      "cell_type": "code",
      "source": [
        "#@title Método realizado por el profesor \n",
        "import numpy as np \n",
        "def integral(fun,a,b,N=10):\n",
        "   h=(b-a)/N\n",
        "   x=np.linspace(a,b,N+1)\n",
        "   A=(fun(x[0])+fun(x[-1]))*0.5*h+fun(x[1:-1]).sum()*h\n",
        "   return A"
      ],
      "metadata": {
        "id": "sNIUvGzjm3cR",
        "cellView": "form"
      },
      "execution_count": 33,
      "outputs": []
    },
    {
      "cell_type": "code",
      "source": [
        "#@title Por  Trapz de scipy\n",
        "#comparando la solución con la libreria de scipy \n",
        "#para la funcion anterior los valores son\n",
        "B=10 #cantidad \n",
        "x=np.arange(1,B+1)\n",
        "y=func(x)\n",
        "IntSC=trapz(y,x,1)"
      ],
      "metadata": {
        "id": "RYR5bAa5bvQg",
        "cellView": "form"
      },
      "execution_count": 38,
      "outputs": []
    },
    {
      "cell_type": "code",
      "source": [
        "#@title Seleccione el método para hallar la integral \n",
        "\n",
        "option1 = \"Librer\\xEDa scipy\"  #@param [\"Integral_trapz\",\"Librería scipy\" ,\"Metodo del profesor\"]\n",
        "if option1== \"Integral_trapz\" :\n",
        "  A1=integral_trapz(func,1,10)\n",
        "  print(f\"La integral encontrada por el método de los trapecios fue {round(A1,3)}\")\n",
        "elif option1==\"Metodo del profesor\":\n",
        "  A2=integral(func,1,10)\n",
        "  print(f\"La integral encontrada por el método de los trapecios  (profesor )fue {round(A2,3)}\")\n",
        "else:\n",
        "  B=10 #cantidad \n",
        "  x=np.arange(1,B+1)\n",
        "  y=func(x)\n",
        "  IntSC=trapz(y,x,1)\n",
        "  print(f'La integral por el método scipy da {IntSC}')\n",
        "  "
      ],
      "metadata": {
        "colab": {
          "base_uri": "https://localhost:8080/"
        },
        "cellView": "form",
        "id": "T-6RUz3C-CPz",
        "outputId": "45ee6ee7-17ae-404e-a087-f080890b4c3c"
      },
      "execution_count": 57,
      "outputs": [
        {
          "output_type": "stream",
          "name": "stdout",
          "text": [
            "La integral por el método scipy da 343.5\n"
          ]
        }
      ]
    },
    {
      "cell_type": "markdown",
      "source": [
        "Al realizar el método a través de la función integral_trapz  hay cierto Δ pequeño en comparación con la función trapz de scipy "
      ],
      "metadata": {
        "id": "RA23Ue2_kpgm"
      }
    },
    {
      "cell_type": "code",
      "source": [
        "#programa para la terminal \n",
        "import numpy as np\n",
        "import sys \n",
        "from scipy.integrate import trapz\n",
        "\n",
        "def integral_(fun,a,b,N=10):\n",
        "   h=(b-a)/N\n",
        "   x=np.linspace(a,b,N+1)\n",
        "   A=(fun(x[0])+fun(x[-1]))*0.5*h+fun(x[1:-1]).sum()*h\n",
        "   return \"El valor de la integral es \",A"
      ],
      "metadata": {
        "id": "hqYSiliegLIG"
      },
      "execution_count": 27,
      "outputs": []
    },
    {
      "cell_type": "markdown",
      "source": [
        "**Libreria Sys de python**\n",
        "\n",
        "Sirve para leer argumentos de línea de comandos: sys.argv es una lista que contiene los argumentos pasados a un programa Python desde la línea de comandos. \n",
        "Por ejemplo: \n",
        "python funcion a b \n",
        "python x**2+1 1 5 "
      ],
      "metadata": {
        "id": "9y5deAEY6qpL"
      }
    }
  ]
}