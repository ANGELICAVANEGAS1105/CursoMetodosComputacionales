{
  "nbformat": 4,
  "nbformat_minor": 0,
  "metadata": {
    "colab": {
      "provenance": []
    },
    "kernelspec": {
      "name": "python3",
      "display_name": "Python 3"
    },
    "language_info": {
      "name": "python"
    }
  },
  "cells": [
    {
      "cell_type": "markdown",
      "source": [
        "<a href=\"https://colab.research.google.com/github/hernansalinas/autogrades/blob/main/Laboratorios_Taller/Lab09_Matrices.ipynb\" target=\"_parent\"><img src=\"https://colab.research.google.com/assets/colab-badge.svg\" alt=\"Open In Colab\"/></a>"
      ],
      "metadata": {
        "id": "zX5mmeZ08lWy"
      }
    },
    {
      "cell_type": "markdown",
      "source": [
        "# Matrices \n",
        "\n",
        "1. **Modelo de población de una especie de pajaros** \n",
        "Se estudiará un modelo de crecimiento de la poblacion para una especie de pájaros. En esta población se supone que el número de pajaros hembras es igual al número de machos.  Sea :\n",
        "- $p_{j,n-1}$ la poblacion juvenil (inmadura) de hembras en el año (n-1) \n",
        "- $p_{a,n-1}$ el numero de hembras adultas en el mismo año.\n",
        "\n",
        "Algunos de los pájaros jóvenes morirán  durante el año. Se suponen que cierta proporción de pájaros $\\alpha$ de los pájaros jovenes sobrevivirán para llegar a adultos en la primavera del año $n$. Cada hembra que sobrevive prdocuce huevos en la primavera, los incupan y producen, en promedio, $k$ pájaros hembras jóvenes en al siguiente primavera. Los adultos también mueren y la proporcion de adultos que sobrevive de una primavera a la siguiente es $\\beta$.\n",
        "\n",
        "Un modelo para el crecimiento poblacional de pajaros \n",
        "\\begin{equation}\n",
        "p_{j,n} = kp_{a, n-1}\n",
        "\\end{equation}\n",
        "\n",
        "\n",
        "\\begin{equation}\n",
        "p_{a,n} =\\alpha p_{j,n-1} + \\beta p_{a, n-1}\n",
        "\\end{equation}\n",
        "\n",
        "Que puede ser escrita como ${\\bf p_n}=A{\\bf p_{n-1}}$, Siendo A la matrix definida en las ecuaciones anteriores, y ${\\bf p_n}$ un vector. Para la evolución temporal se cumple que: \n",
        "\n",
        "- ${\\bf p_1}=A{\\bf p_{0}}$, ${\\bf p_2}=A{\\bf p_{1}}= A(A{\\bf p_0})=A^2{\\bf p_{0}}$ $...$ y asi sucesivamente. Entonces:\n",
        "\n",
        "\\begin{equation}\n",
        "{\\bf p_n} = A^n {\\bf p_{0}}\n",
        "\\end{equation}\n",
        "\n",
        "\n",
        "Supongamos que tenemos 10 hembras  (y 10 machos) adultos y no hay jovenes, la supongmaos que la matriz A viene dada por:\n",
        "\n",
        "\\begin{bmatrix} \n",
        "0 & 2 \\\\\n",
        "0.3 & 0.5 \n",
        "\\end{bmatrix}\n",
        "\n",
        "para la primera poblacion $p_{j,1}=20$, $p_{a,1}=5$, el total de hembras es 25 y la razón jovenes adultas es de 4 a 1. Muestre que la razon $p_{j,n}/p_{a,n}$ converge $1.88$,(como no se puede tener un número racional de pájaros,. aproxime siempre el resultados al menor entero).\n",
        "\n",
        "- Para la  solución general del modelo del problema de valores y vetores propios\n",
        "se tiene que:\n",
        "\n",
        "\n",
        "\\begin{equation}\n",
        "p_n=\\lambda_1^n\\left [ a_1 \\vec{v}_1 +\\left( \\frac{\\lambda_2}{\\lambda_1} \\right)^n a_2 \\vec{v}_2 \\right]\n",
        "\\end{equation}\n",
        "\n",
        "Asumiendo que $\\lambda_2/ \\lambda_1 < 1$, entonces $(\\lambda_2/ \\lambda_1)^n << 1$ cuando n crece.  Entonce spara n grande se cumple que:\n",
        "\n",
        "donde $p_n=a_1\\lambda_1^n\\vec{v}_1$\n",
        "\n",
        "\n",
        "donde:\n",
        "\n",
        "${\\bf p_0} = a_1 \\vec{v}_1 + a_2 \\vec{v}_2$, con $v_1$ y $v_2$ vectores propios de A\n",
        "\n"
      ],
      "metadata": {
        "id": "zRInnDiKcbSB"
      }
    },
    {
      "cell_type": "code",
      "source": [
        "#@title Librerías\n",
        "import numpy as np\n",
        "from numpy.linalg import matrix_power\n",
        "import matplotlib.pylab as plt"
      ],
      "metadata": {
        "id": "IFVRiOY98c6H",
        "cellView": "form"
      },
      "execution_count": 3,
      "outputs": []
    },
    {
      "cell_type": "markdown",
      "source": [
        "\n",
        "**Método 1**\n",
        "\n",
        "\\begin{equation}\n",
        "{\\bf p_n} = A^n {\\bf p_{0}}\n",
        "\\end{equation}\n"
      ],
      "metadata": {
        "id": "czDZfruKdXUJ"
      }
    },
    {
      "cell_type": "code",
      "source": [
        "#10 hembras  y 10 machos  adultos \n",
        "A=np.asmatrix([[0,2],[0.3,0.5]])\n",
        "p_o=np.asmatrix([10,10]).T"
      ],
      "metadata": {
        "id": "CDI5UoXmcd6U"
      },
      "execution_count": 4,
      "outputs": []
    },
    {
      "cell_type": "code",
      "source": [
        "def p_n(n,A):\n",
        "  pn=matrix_power(A,n)@p_o\n",
        "  #se debe tener en cuenta q se redonde al menor entero\n",
        "  conv=pn[0]/pn[1]\n",
        "  pn=np.floor(pn)\n",
        "  return f\"La población está dada por {pn} y converge a {conv}\"\n",
        "#Encontrando la población para n=100  años \n",
        "p_n(100,A)"
      ],
      "metadata": {
        "id": "tKAfEDyMeLG_",
        "colab": {
          "base_uri": "https://localhost:8080/",
          "height": 56
        },
        "outputId": "db3e0984-9808-4ff0-edee-5e61b0fcd972"
      },
      "execution_count": 5,
      "outputs": [
        {
          "output_type": "execute_result",
          "data": {
            "text/plain": [
              "'La población está dada por [[7745.]\\n [4120.]] y converge a [[1.87980343]]'"
            ],
            "application/vnd.google.colaboratory.intrinsic+json": {
              "type": "string"
            }
          },
          "metadata": {},
          "execution_count": 5
        }
      ]
    },
    {
      "cell_type": "code",
      "source": [
        "#@title Condiciones iniciales\n",
        "Av=np.linalg.eig(A) # Autovalores y autovectores \n",
        "vec_1=np.squeeze(np.asarray(Av[1].T[0].T))\n",
        "vec_2= np.squeeze(np.asarray(Av[1].T[1].T))\n",
        "\n",
        "#resultado con np.linalg.solve.\n",
        "a=np.array([[vec_1[0],vec_2[0]],[vec_1[1],vec_2[1]]])\n",
        "b = np.array([[p_o[0, 0]], [p_o[1, 0]]])\n",
        "x=np.linalg.solve(a,b)\n",
        "a1=x[0][0]    #array\n",
        "a2=x[1][0]   #array\n",
        "\n",
        "#Encontrando p0\n",
        "po=a1*vec_1+a2*vec_2\n",
        "#Definiendo los autovalores\n",
        "λ_1=Av[0][0]\n",
        "λ_2=Av[0][1]"
      ],
      "metadata": {
        "id": "E3oX33JwX2QT",
        "cellView": "form"
      },
      "execution_count": 6,
      "outputs": []
    },
    {
      "cell_type": "markdown",
      "source": [
        "***Método 2***\n",
        "\\begin{equation}\n",
        "p_n=\\lambda_1^n\\left [ a_1 \\vec{v}_1 +\\left( \\frac{\\lambda_2}{\\lambda_1} \\right)^n a_2 \\vec{v}_2 \\right]\n",
        "\\end{equation}\n",
        "\n",
        "Asumiendo que $\\lambda_2/ \\lambda_1 < 1$, entonces $(\\lambda_2/ \\lambda_1)^n << 1$ cuando n crece.  Entonce spara n grande se cumple que:\n",
        "donde $p_n=a_1\\lambda_1^n\\vec{v}_1$"
      ],
      "metadata": {
        "id": "tmnnFGgqUnP3"
      }
    },
    {
      "cell_type": "code",
      "source": [
        "def func_pn(n,a1,a2,vec_1,vec_2,λ_1,λ_2):\n",
        "    t1=a1*vec_1\n",
        "    t2=(λ_2/λ_1)**n*a2*vec_2\n",
        "    pn=λ_1**n *(t1+t2)\n",
        "    pn=np.floor(pn)\n",
        "    conv=pn[0]/pn[1]\n",
        "    return f\"La población está dada por {pn} y converge a {conv}\"\n",
        "\n",
        "#aplicando a n=100\n",
        "pn = func_pn(100,a1,a2,vec_1,vec_2,λ_1,λ_2);pn"
      ],
      "metadata": {
        "id": "CPZHdCMDsAQE",
        "colab": {
          "base_uri": "https://localhost:8080/",
          "height": 56
        },
        "outputId": "8f23dcfe-d5ca-4f00-e6f8-46ea9de8fb6a"
      },
      "execution_count": 7,
      "outputs": [
        {
          "output_type": "execute_result",
          "data": {
            "text/plain": [
              "'La población está dada por [7745. 4120.] y converge a 1.8798543689320388'"
            ],
            "application/vnd.google.colaboratory.intrinsic+json": {
              "type": "string"
            }
          },
          "metadata": {},
          "execution_count": 7
        }
      ]
    },
    {
      "cell_type": "markdown",
      "source": [
        "\n",
        "\n",
        "2. **Modelo de encriptación** \n",
        "\n",
        "Un proceso para encriptar un mensaje secreto es usar cierta matrix cuadrada cuyos elementos son enteros con elementos enteros en la inversa. Se recibe un mensaje, se asigna un número a cada letra Por ejemplo, A=1, B=2, C=3, ... etc y espacio=27), se arreglan los números en una matriz de izquierda a derecha en cada fila, donde el número de elementos en la fila es igual al tamano de la matriz de codigo, se multiplica esa matriz por la matriz de código por la derecha, se transcribe el mensaje en una cadena de números y se manda el mensaje. \n",
        "\n",
        "La persona que debe recibir el mensaje conoce la matriz de codigo. El o ellla arrelgan el mensaje encriptado en una matriz de izquierda a derecha en cada fila, en donde el numero de elementos en una fila conicide con el tamano de la matriz de codigo muplicada por la derecha, por el inverso de la matriz de código y puede leer mensaje decodificado.\n",
        "\n",
        "Usted a recibido el siguiente mensaje que fue encriptado usando la matriz A. Decodifiquelo.\n",
        "\n",
        "```\n",
        "matrix([[ 1,  2, -3,  4,  5],\n",
        "        [-2, -5,  8, -8, -9],\n",
        "        [ 1,  2, -2,  7,  9],\n",
        "        [ 1,  1,  0,  6, 12],\n",
        "        [ 2,  4, -6,  8, 11]])\n",
        "```\n",
        "\n",
        "Mensaje\n",
        "\n",
        "47,49,-19,257,487,10,-9,63,137,236, 79,142,-184,372,536,59,70,-40,332,588, \n",
        "\n",
        "la primera fila del mensaje es 47,49,-19,257,487\n",
        "\n",
        "¿Cual es el mensaje?\n"
      ],
      "metadata": {
        "id": "AYsIQdkSV3dI"
      }
    },
    {
      "cell_type": "code",
      "source": [
        "#La matriz de código es \n",
        "A=np.asmatrix([[ 1,  2, -3,  4,  5],\n",
        "        [-2, -5,  8, -8, -9],\n",
        "        [ 1,  2, -2,  7,  9],\n",
        "        [ 1,  1,  0,  6, 12],\n",
        "        [ 2,  4, -6,  8, 11]])\n",
        "\n",
        "#se necesita la matriz inversa de A\n",
        "A_inv=np.linalg.inv(A)\n",
        "\n",
        "#Números encriptados\n",
        "N=np.asmatrix([[  47,   49,  -19,  257,  487],\n",
        " [  10,   -9,   63,  137,  236],\n",
        " [  79,  142, -184,  372,  536],\n",
        " [  59,   70,  -40,  332,  588]])\n",
        "\n",
        "#tenemos que multplicar la anterior martriz por la inversa de A\n",
        "mensaje_d = np.round(N@A_inv).astype(int)"
      ],
      "metadata": {
        "id": "GIp6tP0ugUIC"
      },
      "execution_count": 8,
      "outputs": []
    },
    {
      "cell_type": "code",
      "source": [
        "# Convertir la matriz decodificada en una cadena de caracteres\n",
        "alfabeto = 'ABCDEFGHIJKLMNOPQRSTUVWXYZ '\n",
        "mensaje = ''\n",
        "\n",
        "# Imprimir el mensaje decodificado\n",
        "\n",
        "for fila in range(mensaje_d.shape[0]):\n",
        "    for columna in range(mensaje_d.shape[1]):\n",
        "        numero = mensaje_d[fila, columna]\n",
        "        mensaje += alfabeto[numero-1]\n",
        "print(\"El mensaje decodificado es =\",mensaje)"
      ],
      "metadata": {
        "colab": {
          "base_uri": "https://localhost:8080/"
        },
        "id": "fzeC7Lp1_oBP",
        "outputId": "bf5c8e7c-7765-43f7-ddba-4e60923b19c0"
      },
      "execution_count": 9,
      "outputs": [
        {
          "output_type": "stream",
          "name": "stdout",
          "text": [
            "El mensaje decodificado es = ARE YOU HAVING FUN  \n"
          ]
        }
      ]
    },
    {
      "cell_type": "markdown",
      "source": [
        "\n",
        "\n",
        "\n",
        "3. **Diagonalización**.\n",
        "\n",
        "Se sabe que un sistema físico es gobernado por las ecuaciones,\n",
        "\n",
        "\n",
        "\n",
        "$$\n",
        "\\begin{matrix}\n",
        "x' &=& 2x&-y&+z, \\\\\n",
        "y' &=&   &3y&-1z, \\\\\n",
        "z' &=& 2x&+y&+3z,\n",
        "\\end{matrix}\n",
        "$$\n",
        "\n",
        "donde $x',y',z'$ son las derivadas, en forma vectorial esto se puede representar como $\\mathbf{r}'=A\\mathbf{r}$ que tiene solución analítica general, $\\mathbf{r} = e^{At} \\mathbf{r}(0)$.<br> \n",
        "a) Diagonalize $A$.<br> \n",
        "\n",
        "\n"
      ],
      "metadata": {
        "id": "33gxssGWyiwx"
      }
    },
    {
      "cell_type": "markdown",
      "source": [
        "**Recordemos**\n",
        "Para diagonalizar una matriz $A$, se necesita encontrar una matriz invertible $U$ tal que $U^{-1}AU$ sea una matriz diagonal $D$. Esto significa que las columnas de $U$ son los autovectores de $A$ y los elementos de la diagonal de $D$ son los autovalores correspondientes de $A$.\n",
        "\n"
      ],
      "metadata": {
        "id": "A2YfVYwkBUpq"
      }
    },
    {
      "cell_type": "code",
      "source": [
        "#Se define la matriz de coeficientes \n",
        "A = np.asmatrix([[2, -1, 1], [0, 3, -1], [2, 1, 3]])\n",
        "#Diagonalizando, primero se encuentran las autovectores\n",
        "aV=np.linalg.eig(A)\n",
        "#Matriz de los autovectores\n",
        "U=aV[1]\n",
        "#Matriz diagonal de los autovalores\n",
        "D=U.I@A@U\n",
        "#Comprobando \n",
        "a=U@D@U.I"
      ],
      "metadata": {
        "id": "PS9xN-xa_wXJ"
      },
      "execution_count": 19,
      "outputs": []
    },
    {
      "cell_type": "markdown",
      "source": [
        "b) Use el hecho de que $f(A) =U f(D) U^{-1}$ para encontrar $x(t),y(t),z(t)$ en el intervalo de tiempo $[0,2]$.<br>.\n",
        " $\\mathbf{r} = e^{At} \\mathbf{r}(0)$.<br> \n",
        "\n"
      ],
      "metadata": {
        "id": "CzJDs8A5CqvI"
      }
    },
    {
      "cell_type": "code",
      "source": [
        "#@title Condiciones iniciales\n",
        "time=np.linspace(0,2,1000)\n",
        "#Array de condiciones inciales x0,y0 y z0 respectivamente\n",
        "r0 = np.array([1, 1, 2])"
      ],
      "metadata": {
        "id": "JMI2UWn4WRJl",
        "cellView": "form"
      },
      "execution_count": 20,
      "outputs": []
    },
    {
      "cell_type": "code",
      "source": [
        "#Definamos una función para hallar la solución en el intervalo de tiempo de [0,2]\n",
        "def sln(D, time, U, r0):\n",
        "    sol = np.zeros((len(time), 3))\n",
        "    for i, t in enumerate(time):\n",
        "        r = U @ np.exp(D * t) @ np.linalg.inv(U) @ r0\n",
        "        sol[i] = [r[0,0], r[0,1], r[0,2]]\n",
        "    return sol\n",
        "# ======================\n",
        "#Aplicando \n",
        "sln_1=sln(D, time, U, r0)\n",
        "x=sln_1[0:,0]\n",
        "y=sln_1[0:,1]\n",
        "z=sln_1[0:,2]"
      ],
      "metadata": {
        "id": "Psj-qOlHDIlk",
        "colab": {
          "base_uri": "https://localhost:8080/"
        },
        "outputId": "828c89b3-649f-4ac8-d9a8-0ba3fad973d8"
      },
      "execution_count": 31,
      "outputs": [
        {
          "output_type": "stream",
          "name": "stderr",
          "text": [
            "<ipython-input-31-e634d71c1e66>:6: ComplexWarning: Casting complex values to real discards the imaginary part\n",
            "  sol[i] = [r[0,0], r[0,1], r[0,2]]\n"
          ]
        }
      ]
    },
    {
      "cell_type": "markdown",
      "source": [
        "c) Grafique $x(t),y(t),z(t)$ (use la condición inicial $\\mathbf{r}(0)=(1,1,2))$.<br> \n"
      ],
      "metadata": {
        "id": "yKSPsm3uDFhg"
      }
    },
    {
      "cell_type": "code",
      "source": [
        "#Array de condiciones inciales x0,y0 y z0 respectivamente\n",
        "r0 = np.array([1, 1, 2])\n",
        "plt.figure(figsize=(5,4))\n",
        "plt.plot(time,x,color='blue',label='$x(t)$')\n",
        "plt.plot(time,y,color='orange',label='$y(t)$')\n",
        "plt.plot(time,z,color='green',label='$z(t)$')\n",
        "plt.xlabel('Tiempo')\n",
        "plt.title('Gráfica de $x(t)$,$y(t)$ y $z(t)$',size=11)\n",
        "plt.legend(loc='lower center')\n",
        "plt.grid()\n",
        "plt.show()"
      ],
      "metadata": {
        "id": "udoJjqUIH-Bi",
        "colab": {
          "base_uri": "https://localhost:8080/",
          "height": 432
        },
        "outputId": "7300e4dd-716a-4866-f5f8-0b2d7ae43ef7"
      },
      "execution_count": 32,
      "outputs": [
        {
          "output_type": "display_data",
          "data": {
            "text/plain": [
              "<Figure size 500x400 with 1 Axes>"
            ],
            "image/png": "[encoded data removed]"
          },
          "metadata": {}
        }
      ]
    },
    {
      "cell_type": "markdown",
      "source": [
        "d) Compare el resultado a la solución analítica,\n",
        "\n",
        "$$\n",
        "\\begin{align}\n",
        "2x & = x(0)(e^{2t}(1+e^{2t}-2t)) + y(0) (-2te^{2t}) + z(0)(e^{2t}(-1+e^{2t})), \\\\\n",
        "2y & = x(0)(-e^{2t}(-1+e^{2t}-2t)) + y(0)(2(t+1)e^{2t}) + z(0)(-e^{2t}(-1+e^{2t})), \\\\\n",
        "2z & = x(0)(e^{2t}(-1+e^{2t}+2t)) + y(0)(2te^{2t}) + z(0)(e^{2t}(1+e^{2t})).\n",
        "\\end{align}\n",
        "$$\n"
      ],
      "metadata": {
        "id": "LwQiiIlTH7tp"
      }
    },
    {
      "cell_type": "code",
      "source": [
        "# Calculando  la solución analítica\n",
        "def sln_analytica(time,y0):\n",
        "    x0 = r0[0]\n",
        "    y0 = r0[1]\n",
        "    z0 = r0[2]\n",
        "    sol = np.zeros((len(time), 3))\n",
        "    for i,t in enumerate(time):\n",
        "        x = x0*np.exp(2*t)*(1+np.exp(2*t)-2*t) - y0*2*t*np.exp(2*t) + z0*np.exp(2*t)*(-1+np.exp(2*t))\n",
        "        y = x0*(-np.exp(2*t)*(-1+np.exp(2*t)-2*t)) + y0*2*(t+1)*np.exp(2*t) + z0*(-np.exp(2*t)*(-1+np.exp(2*t)))\n",
        "        z = x0*np.exp(2*t)*(-1+np.exp(2*t)+2*t) + y0*2*t*np.exp(2*t) + z0*np.exp(2*t)*(1+np.exp(2*t))\n",
        "        sol[i] = [x/2, y/2, z/2]\n",
        "    return sol\n",
        "\n",
        "# ======================\n",
        "sln_2=sln_analytica(time,r0)\n",
        "x_=sln_2[0:,0]\n",
        "y_=sln_2[0:,1]\n",
        "z_=x=sln_2[0:,2]"
      ],
      "metadata": {
        "id": "1oZ6IGLan8m5"
      },
      "execution_count": 33,
      "outputs": []
    },
    {
      "cell_type": "code",
      "source": [
        "#Gráfica de la solución analítica\n",
        "plt.figure(figsize=(5,4))\n",
        "plt.plot(time,x_,color='blue',label='$x(t)$')\n",
        "plt.plot(time,y_,color='orange',label='$y(t)$')\n",
        "plt.plot(time,z_,color='green',label='$z(t)$')\n",
        "plt.xlabel('Tiempo')\n",
        "plt.title('Gráfica de las soluciones analíticas',size=11)\n",
        "plt.legend(loc='lower center')\n",
        "plt.grid()\n",
        "plt.show()"
      ],
      "metadata": {
        "colab": {
          "base_uri": "https://localhost:8080/",
          "height": 429
        },
        "id": "P9gKtTMCpUN1",
        "outputId": "2bda7712-4156-4756-c22c-241dce1e62ee"
      },
      "execution_count": 34,
      "outputs": [
        {
          "output_type": "display_data",
          "data": {
            "text/plain": [
              "<Figure size 500x400 with 1 Axes>"
            ],
            "image/png": "[encoded data removed]"
          },
          "metadata": {}
        }
      ]
    }
  ]
}