{
  "cells": [
    {
      "cell_type": "markdown",
      "id": "90baaaf7",
      "metadata": {
        "id": "90baaaf7"
      },
      "source": [
        "<a href=\"https://colab.research.google.com/github/hernansalinas/autogrades/blob/main/Actividades_clase/Actividad_07_derivadas.pynb\" target=\"_parent\"><img src=\"https://colab.research.google.com/assets/colab-badge.svg\" alt=\"Open In Colab\"/></a>\n",
        "\n",
        "\n",
        "\n",
        "# Actividad 7\n",
        "### Métodos computacionales para físicos  y astrónomos\n",
        "### Universidad de Antioquia\n",
        "### Prof: Hernan D. Salinas Jiménez\n",
        "Ref: https://github.com/restrepo/ComputationalMethods"
      ]
    },
    {
      "cell_type": "markdown",
      "id": "494edb2b",
      "metadata": {
        "id": "494edb2b"
      },
      "source": [
        "El potencial eléctrico de un anillo de radio R, en la parte superior z del anillo viene dado por: \n",
        "\n",
        "\n",
        "\\begin{equation}\n",
        "V = \\frac{kq_{tot}z}{\\sqrt{z^2+R^2}}\n",
        "\\end{equation}\n",
        "\n",
        "Calcule el campo eléctrico para z>0 y R=0.1mm. Reescale el problema en unidades de $kq_{top}$ empleando:\n",
        "\n",
        "1. La librearia sympy.\n",
        "\n",
        "2. Calcular el campo en el punto  $z = 0.1mm$ empleando el metodo [misc.derivative](https://docs.scipy.org/doc/scipy/reference/generated/scipy.misc.derivative.html)\n",
        "\n",
        "3. Calcular el campo para diferentes valores de z con z>0,,  empleando misc derivative. Construya un grafico de E vs z.\n",
        "\n",
        "4. Entender la generalizacion de la siguiente función, y aplicarla para calcular la derivada.\n",
        "\n",
        "\n",
        "```python\n",
        "import numpy as np\n",
        "from scipy import misc\n",
        "def derivative(func,x0,**kwargs):\n",
        "    '''\n",
        "    Vectorized replacement of scipy.misc derivative:\n",
        "        from scipy.misc import derivative\n",
        "    For usage check the derivative help, e.g, in jupyter: \n",
        "        from scipy.misc import derivative\n",
        "        derivative?\n",
        "    '''\n",
        "    try:\n",
        "        #x0: can be an array or a list  \n",
        "        nn=np.asarray(x0).shape[0] ## force error if float is used \n",
        "        fp=np.vectorize(misc.derivative)\n",
        "    except IndexError:\n",
        "        fp=misc.derivative\n",
        "        \n",
        "    return fp(func,x0,**kwargs)\n",
        "\n",
        "assert isinstance(derivative(np.sin,1,dx=1E-6),float)\n",
        "\n",
        "```"
      ]
    },
    {
      "cell_type": "markdown",
      "source": [
        "# 1.La libreria sympy.\n"
      ],
      "metadata": {
        "id": "vyzI_Ih-ccph"
      },
      "id": "vyzI_Ih-ccph"
    },
    {
      "cell_type": "code",
      "source": [
        "#El campo eléctrico es -dv/dz\n",
        "#1) con Libreria de Sympy\n",
        "import sympy as sp \n",
        "z=sp.symbols('z')"
      ],
      "metadata": {
        "id": "M93VR9mtaVBX"
      },
      "id": "M93VR9mtaVBX",
      "execution_count": null,
      "outputs": []
    },
    {
      "cell_type": "code",
      "execution_count": null,
      "id": "d9dfaf0f",
      "metadata": {
        "id": "d9dfaf0f"
      },
      "outputs": [],
      "source": [
        "R=0.1e-3 #m\n",
        "def potential(z,R,kq=1):\n",
        "  return z*kq/sp.sqrt(z**2+R**2)"
      ]
    },
    {
      "cell_type": "code",
      "source": [
        "der=sp.diff(potential(z,R),z)\n",
        "E_=-der"
      ],
      "metadata": {
        "id": "8m1DGG0lbeUh"
      },
      "id": "8m1DGG0lbeUh",
      "execution_count": null,
      "outputs": []
    },
    {
      "cell_type": "markdown",
      "source": [
        "# 2) Calcular el campo en el punto  𝑧=0.1𝑚𝑚  empleando el metodo misc.derivative"
      ],
      "metadata": {
        "id": "9F6EpF6ocjk-"
      },
      "id": "9F6EpF6ocjk-"
    },
    {
      "cell_type": "code",
      "source": [
        "import numpy as np\n",
        "import matplotlib.pylab as plt \n",
        "def potential1(z,R,kq=1):\n",
        "  return z*kq/np.sqrt(z**2+R**2)"
      ],
      "metadata": {
        "id": "7EAMWIAXdWHH"
      },
      "id": "7EAMWIAXdWHH",
      "execution_count": null,
      "outputs": []
    },
    {
      "cell_type": "code",
      "source": [
        "z=np.linspace(0,0.002,100)\n",
        "plt.plot(z,potential1(z,R),color='mediumblue')\n",
        "plt.xlabel('Z')\n",
        "plt.ylabel('V')\n",
        "plt.title('Gráfico del Potencial Eléctrico vs Z ')\n",
        "plt.grid()"
      ],
      "metadata": {
        "colab": {
          "base_uri": "https://localhost:8080/",
          "height": 493
        },
        "id": "ttguIXYVdtIU",
        "outputId": "2eb0c3e8-70dd-49b2-a7e4-2d389bbe1e96"
      },
      "id": "ttguIXYVdtIU",
      "execution_count": null,
      "outputs": [
        {
          "output_type": "display_data",
          "data": {
            "text/plain": [
              "<Figure size 640x480 with 1 Axes>"
            ],
            "image/png": "[encoded data removed]"
          },
          "metadata": {}
        }
      ]
    },
    {
      "cell_type": "code",
      "source": [
        "from scipy.misc import derivative\n",
        "Der_V=derivative(potential1,0.1,dx=1,args=(R,))\n",
        "E=-Der_V\n",
        "print(f'El campo Eléctrico en z=0.1 mm es {E}')"
      ],
      "metadata": {
        "colab": {
          "base_uri": "https://localhost:8080/"
        },
        "id": "cc5KujXucths",
        "outputId": "a82e3c35-0434-4989-9d73-2bc484d03669"
      },
      "id": "cc5KujXucths",
      "execution_count": null,
      "outputs": [
        {
          "output_type": "stream",
          "name": "stdout",
          "text": [
            "El campo Eléctrico en z=0.1 mm es -0.9999999948474646\n"
          ]
        },
        {
          "output_type": "stream",
          "name": "stderr",
          "text": [
            "<ipython-input-25-e92982a06191>:2: DeprecationWarning: scipy.misc.derivative is deprecated in SciPy v1.10.0; and will be completely removed in SciPy v1.12.0. You may consider using findiff: https://github.com/maroba/findiff or numdifftools: https://github.com/pbrod/numdifftools\n",
            "  Der_V=derivative(potential1,0.1,dx=1,args=(R,))\n"
          ]
        }
      ]
    },
    {
      "cell_type": "markdown",
      "source": [
        "# 3) Calcular el campo para diferentes valores de z con z>0,, empleando misc derivative. Construya un grafico de E vs z."
      ],
      "metadata": {
        "id": "XOn_MS7VeObQ"
      },
      "id": "XOn_MS7VeObQ"
    },
    {
      "cell_type": "code",
      "source": [
        "z=np.linspace(0,0.002,100)"
      ],
      "metadata": {
        "id": "r66PksVTeT3s"
      },
      "id": "r66PksVTeT3s",
      "execution_count": null,
      "outputs": []
    },
    {
      "cell_type": "code",
      "source": [
        "R=0.1e-3 #m"
      ],
      "metadata": {
        "id": "ZXADWyXljW-X"
      },
      "id": "ZXADWyXljW-X",
      "execution_count": null,
      "outputs": []
    },
    {
      "cell_type": "code",
      "source": [
        "gradV=derivative(potential1,z,dx=1E-06,args=(R,))\n",
        "E_z=-gradV"
      ],
      "metadata": {
        "colab": {
          "base_uri": "https://localhost:8080/"
        },
        "id": "WOa-ATDMeT_O",
        "outputId": "bd13e0da-c8d0-4b4e-c115-3c7736dda663"
      },
      "id": "WOa-ATDMeT_O",
      "execution_count": null,
      "outputs": [
        {
          "output_type": "stream",
          "name": "stderr",
          "text": [
            "<ipython-input-28-2eaf72d04413>:1: DeprecationWarning: scipy.misc.derivative is deprecated in SciPy v1.10.0; and will be completely removed in SciPy v1.12.0. You may consider using findiff: https://github.com/maroba/findiff or numdifftools: https://github.com/pbrod/numdifftools\n",
            "  gradV=derivative(potential1,z,dx=1E-06,args=(R,))\n"
          ]
        }
      ]
    },
    {
      "cell_type": "code",
      "source": [
        "#Gráfica de E vs Z usando misc.derivative sin vectorizar \n",
        "plt.figure(figsize=(6,4))\n",
        "plt.plot(z,E_z,color='red')\n",
        "plt.title('Gráfico del campo Eléctrico $\\\\vec{E}$ con respecto a Z',size=12)  \n",
        "plt.xlabel('Z')\n",
        "plt.ylabel('$\\\\vec{E}$')\n",
        "plt.grid(True)"
      ],
      "metadata": {
        "colab": {
          "base_uri": "https://localhost:8080/",
          "height": 438
        },
        "id": "kDzQeSBfhwul",
        "outputId": "1ca859dc-14d9-46e9-8725-bc7ac04d43c2"
      },
      "id": "kDzQeSBfhwul",
      "execution_count": null,
      "outputs": [
        {
          "output_type": "display_data",
          "data": {
            "text/plain": [
              "<Figure size 600x400 with 1 Axes>"
            ],
            "image/png": "[encoded data removed]"
          },
          "metadata": {}
        }
      ]
    },
    {
      "cell_type": "code",
      "source": [
        "def potential_(z,R,kq=1):\n",
        "  if (z>=0):\n",
        "    V=z*kq/np.sqrt(z**2+R**2)\n",
        "  else:\n",
        "    V=0\n",
        "  return V"
      ],
      "metadata": {
        "id": "Y-E3-aX4p48m"
      },
      "id": "Y-E3-aX4p48m",
      "execution_count": null,
      "outputs": []
    },
    {
      "cell_type": "code",
      "source": [
        "#Vectorizando a través de numpy y se vectoriza es la función derivative\n",
        "derivada=np.vectorize(derivative,excluded=[\"args\"])"
      ],
      "metadata": {
        "id": "mH39tF5Th1zL"
      },
      "id": "mH39tF5Th1zL",
      "execution_count": null,
      "outputs": []
    },
    {
      "cell_type": "code",
      "source": [
        "kq=1.0\n",
        "grad=derivada(potential_,z,dx=1,args=(R,kq))\n",
        "E_=-grad"
      ],
      "metadata": {
        "id": "f0j7k8TpoMQK"
      },
      "id": "f0j7k8TpoMQK",
      "execution_count": null,
      "outputs": []
    },
    {
      "cell_type": "code",
      "source": [
        "#gráfica de potencial\n",
        "#plt.plt(z,potential_(z,R,kq))"
      ],
      "metadata": {
        "id": "VB23Zn_JtRXs"
      },
      "id": "VB23Zn_JtRXs",
      "execution_count": null,
      "outputs": []
    },
    {
      "cell_type": "markdown",
      "source": [
        "DISCO\n",
        "\n",
        "\\begin{equation}\n",
        "V = \\frac{q}{\\pi R^2}2k\\pi \\sqrt{z^2+R^2-z}\n",
        "\\end{equation}"
      ],
      "metadata": {
        "id": "-qfnl6Txu8Cw"
      },
      "id": "-qfnl6Txu8Cw"
    },
    {
      "cell_type": "code",
      "source": [
        "def potencial(z,R,kq,select):\n",
        "  if (select=='anillo'):\n",
        "    V=z*kq/np.sqrt(z**2+R**2)\n",
        "  elif(select=='disco'):\n",
        "    V=(2*kq/R**2)*(np.sqrt(z**2+R**2)-z)\n",
        "  else:\n",
        "    print('Error,la palabra select debe ser anillo o disco')\n",
        "    V=None\n",
        "  return V"
      ],
      "metadata": {
        "id": "KfIxxlPgufNO"
      },
      "id": "KfIxxlPgufNO",
      "execution_count": null,
      "outputs": []
    },
    {
      "cell_type": "code",
      "source": [
        "potencial(0.001,0.1e-03,kq=1,select='otra cosa ')"
      ],
      "metadata": {
        "colab": {
          "base_uri": "https://localhost:8080/"
        },
        "id": "PR24tpteufSw",
        "outputId": "237a6024-53ad-4caf-b2b3-61b85bff7273"
      },
      "id": "PR24tpteufSw",
      "execution_count": null,
      "outputs": [
        {
          "output_type": "stream",
          "name": "stdout",
          "text": [
            "Error,la palabra select debe ser anillo o disco\n"
          ]
        }
      ]
    },
    {
      "cell_type": "code",
      "source": [
        "#Vectorizando a través de numpy y se vectoriza es la función derivative\n",
        "select='other'\n",
        "derivada=np.vectorize(derivative,excluded=[\"args\"])\n",
        "#si select='otra cosa' la funcion fallaria por tanto se deberia usar try-except\n",
        "try: \n",
        "  grad=derivada(potencial,z,dx=1,args=(R,kq,select))\n",
        "  campoElectrico=-grad\n",
        "except:\n",
        "  print('Error, la palabra select debe ser anillo o disco')"
      ],
      "metadata": {
        "colab": {
          "base_uri": "https://localhost:8080/"
        },
        "id": "_hvFmfl0xOEj",
        "outputId": "4096488a-faf4-4cd8-95cc-87ec45801768"
      },
      "id": "_hvFmfl0xOEj",
      "execution_count": null,
      "outputs": [
        {
          "output_type": "stream",
          "name": "stdout",
          "text": [
            "Error,la palabra select debe ser anillo o disco\n",
            "Error, la palabra select debe ser anillo o disco\n"
          ]
        }
      ]
    },
    {
      "cell_type": "code",
      "source": [
        "#Ahora se realiza un ejecutable .py\n",
        "# las variables globales son  z,R,kq y select y nos retorna E"
      ],
      "metadata": {
        "id": "DRwB1GVKzR2V"
      },
      "id": "DRwB1GVKzR2V",
      "execution_count": null,
      "outputs": []
    },
    {
      "cell_type": "code",
      "source": [
        "#programa\n",
        "import numpy as np\n",
        "from scipy.misc import derivative\n",
        "z=np.linspace(0,0.002,100)\n",
        "R=0.1e-03\n",
        "kq=1\n",
        "select='disco'\n",
        "\n",
        "def potencial(z,R,kq,select):\n",
        "  if (select=='anillo'):\n",
        "    V=z*kq/np.sqrt(z**2+R**2)\n",
        "  elif(select=='disco'):\n",
        "    V=(2*kq/R**2)*(np.sqrt(z**2+R**2)-z)\n",
        "  else:\n",
        "    print('Error,la palabra select debe ser anillo o disco')\n",
        "    V=None\n",
        "  return V\n",
        "\n",
        "\n",
        "#Vectorizando a través de numpy y se vectoriza es la función derivative\n",
        "select='other'\n",
        "derivada=np.vectorize(derivative,excluded=[\"args\"])\n",
        "#si select='otra cosa' la funcion fallaria por tanto se deberia usar try-except\n",
        "try: \n",
        "  grad=derivada(potencial,z,dx=1,args=(R,kq,select))\n",
        "  campoElectrico=-grad\n",
        "  np.savetxt('campo_electrico.txt',campoElectrico)\n",
        "except:\n",
        "  print('Error, la palabra select debe ser anillo o disco')"
      ],
      "metadata": {
        "colab": {
          "base_uri": "https://localhost:8080/"
        },
        "id": "82LtBL_R0JXJ",
        "outputId": "e0809728-c69b-40f6-f518-da7d2aa69d55"
      },
      "id": "82LtBL_R0JXJ",
      "execution_count": null,
      "outputs": [
        {
          "output_type": "stream",
          "name": "stdout",
          "text": [
            "Error,la palabra select debe ser anillo o disco\n",
            "Error, la palabra select debe ser anillo o disco\n"
          ]
        }
      ]
    },
    {
      "cell_type": "code",
      "source": [
        "!ls"
      ],
      "metadata": {
        "colab": {
          "base_uri": "https://localhost:8080/"
        },
        "id": "LqT9rAS607qw",
        "outputId": "e7eb49e3-36ff-4168-9083-3a9ef7a96e70"
      },
      "id": "LqT9rAS607qw",
      "execution_count": null,
      "outputs": [
        {
          "output_type": "stream",
          "name": "stdout",
          "text": [
            "sample_data\n"
          ]
        }
      ]
    },
    {
      "cell_type": "markdown",
      "source": [
        "# 4)Entender la generalizacion de la siguiente función, y aplicarla para calcular la derivada."
      ],
      "metadata": {
        "id": "87xQ5TfnkRqy"
      },
      "id": "87xQ5TfnkRqy"
    },
    {
      "cell_type": "code",
      "source": [
        "import numpy as np\n",
        "from scipy import misc\n",
        "\n",
        "def derivative(func,x0,**kwargs):\n",
        "    '''\n",
        "    Vectorized replacement of scipy.misc derivative:\n",
        "        from scipy.misc import derivative\n",
        "    For usage check the derivative help, e.g, in jupyter: \n",
        "        from scipy.misc import derivative\n",
        "        derivative?\n",
        "    '''\n",
        "    try:\n",
        "        #x0: can be an array or a list  \n",
        "        nn=np.asarray(x0).shape[0] ## force error if float is used \n",
        "        fp=np.vectorize(misc.derivative)\n",
        "    except IndexError:\n",
        "        fp=misc.derivative\n",
        "\n",
        "    return fp(func,x0,**kwargs)\n",
        "\n",
        "assert isinstance(derivative(np.sin,1,dx=1E-6),float)"
      ],
      "metadata": {
        "colab": {
          "base_uri": "https://localhost:8080/"
        },
        "id": "WZ3PnQ5-kVA7",
        "outputId": "49a58e81-18f6-47a4-f416-6f15abd53509"
      },
      "id": "WZ3PnQ5-kVA7",
      "execution_count": null,
      "outputs": [
        {
          "output_type": "stream",
          "name": "stderr",
          "text": [
            "<ipython-input-40-e94cb1257445>:19: DeprecationWarning: scipy.misc.derivative is deprecated in SciPy v1.10.0; and will be completely removed in SciPy v1.12.0. You may consider using findiff: https://github.com/maroba/findiff or numdifftools: https://github.com/pbrod/numdifftools\n",
            "  return fp(func,x0,**kwargs)\n"
          ]
        }
      ]
    }
  ],
  "metadata": {
    "kernelspec": {
      "display_name": "Python 3 (ipykernel)",
      "language": "python",
      "name": "python3"
    },
    "language_info": {
      "codemirror_mode": {
        "name": "ipython",
        "version": 3
      },
      "file_extension": ".py",
      "mimetype": "text/x-python",
      "name": "python",
      "nbconvert_exporter": "python",
      "pygments_lexer": "ipython3",
      "version": "3.8.12"
    },
    "colab": {
      "provenance": []
    }
  },
  "nbformat": 4,
  "nbformat_minor": 5
}