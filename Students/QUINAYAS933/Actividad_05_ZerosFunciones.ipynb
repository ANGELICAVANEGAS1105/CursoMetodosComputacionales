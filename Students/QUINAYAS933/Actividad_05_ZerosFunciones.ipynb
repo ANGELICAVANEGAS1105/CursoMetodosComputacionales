{
  "cells": [
    {
      "cell_type": "markdown",
      "id": "3a6dc6a1",
      "metadata": {
        "id": "3a6dc6a1"
      },
      "source": [
        "<a href=\"https://colab.research.google.com/github/hernansalinas/autogrades/blob/main/Actividades_clase/Actividad_05_ZerosFunciones.ipynb\" target=\"_parent\"><img src=\"https://colab.research.google.com/assets/colab-badge.svg\" alt=\"Open In Colab\"/></a>\n",
        "\n",
        "\n",
        "\n",
        "# Actividad 5\n",
        "### Métodos computacionales para físicos  y astrónomos\n",
        "### Universidad de Antioquia\n",
        "### Prof: Hernan D. Salinas Jiménez\n",
        "Ref: https://github.com/restrepo/ComputationalMethods"
      ]
    },
    {
      "cell_type": "markdown",
      "id": "8e59c672",
      "metadata": {
        "id": "8e59c672"
      },
      "source": [
        "\n",
        "In an IPython notebook, use the scipy implementation and find the first solution to the equation, write a function with the bisection methods.\n",
        "\n",
        "# What is the solution if a=1, and b=1, what is the solution if a=2 and b=2\n",
        "  \n",
        "1. $ 7 = a\\sqrt{x^2+1}+be^x\\sin x $\n",
        "   \n",
        "\n"
      ]
    },
    {
      "cell_type": "code",
      "source": [
        "import scipy.optimize as opt\n",
        "import scipy as sc\n",
        "import matplotlib.pylab as plt \n",
        "import numpy as np\n",
        "opt.bisect"
      ],
      "metadata": {
        "id": "YIIs78jCL1Cf",
        "colab": {
          "base_uri": "https://localhost:8080/"
        },
        "outputId": "bba10076-b868-4924-8655-8c65c79f3570"
      },
      "id": "YIIs78jCL1Cf",
      "execution_count": 3,
      "outputs": [
        {
          "output_type": "execute_result",
          "data": {
            "text/plain": [
              "<function scipy.optimize._zeros_py.bisect(f, a, b, args=(), xtol=2e-12, rtol=8.881784197001252e-16, maxiter=100, full_output=False, disp=True)>"
            ]
          },
          "metadata": {},
          "execution_count": 3
        }
      ]
    },
    {
      "cell_type": "code",
      "source": [
        "def f1(x,a1,b1):\n",
        "  return a1*np.sqrt(x**2+1)+b1*np.exp(x)*np.sin(x)-7"
      ],
      "metadata": {
        "id": "nhGD1jZAQsye"
      },
      "id": "nhGD1jZAQsye",
      "execution_count": 4,
      "outputs": []
    },
    {
      "cell_type": "code",
      "source": [
        "#Revisando el gráfico es posible ver que tiene varias raices (Esto depende del dominio)\n",
        "#se agregaron los puntos al gráfico\n",
        "params=(1,1)\n",
        "p1=sc.optimize.bisect(f1,-1,2,args=params)\n",
        "p2=sc.optimize.bisect(f1,2.5,3.5,args=params)\n",
        "p3=sc.optimize.bisect(f1,6.2,6.5,args=params)"
      ],
      "metadata": {
        "id": "kfJI5nT4TXu6"
      },
      "id": "kfJI5nT4TXu6",
      "execution_count": 5,
      "outputs": []
    },
    {
      "cell_type": "code",
      "source": [
        "#primera intuicion\n",
        "plt.figure(figsize=(12,10))\n",
        "x=np.linspace(0,8,1000)\n",
        "plt.plot(x,f1(x,*params),color='b')\n",
        "plt.plot(p1,f1(p1,1,1),marker='o',color='r',label='Punto 1')\n",
        "plt.plot(p2,f1(p2,1,1),marker='o',color='r',label='Punto 2')\n",
        "plt.plot(p3,f1(p3,1,1),marker='o',color='r',label='Punto 3 ')\n",
        "plt.legend()\n",
        "plt.xlabel(\"$x$\",size=12)\n",
        "plt.ylabel(\"$f(x)$\",size=12)\n",
        "plt.title(\"Gráfica de $a_1\\sqrt{x^2+1}+b_1e^x\\sin(x)-7$\",size=14)\n",
        "plt.grid(True)"
      ],
      "metadata": {
        "colab": {
          "base_uri": "https://localhost:8080/",
          "height": 655
        },
        "id": "Q8UylNOsSP8q",
        "outputId": "9bd8c3e4-b333-4f3d-9ec7-c1b9a23c83b8"
      },
      "id": "Q8UylNOsSP8q",
      "execution_count": 6,
      "outputs": [
        {
          "output_type": "display_data",
          "data": {
            "text/plain": [
              "<Figure size 864x720 with 1 Axes>"
            ],
            "image/png": "[encoded data removed]"
          },
          "metadata": {
            "needs_background": "light"
          }
        }
      ]
    },
    {
      "cell_type": "code",
      "source": [
        "print(\"Las raices encontradas por método de bisección  en un intervalo de [0,8] son \",p1,p2,p3)"
      ],
      "metadata": {
        "colab": {
          "base_uri": "https://localhost:8080/"
        },
        "id": "j2RzrgQpIKnO",
        "outputId": "16cc821e-0a9b-4a7a-d2ee-6ff8a720ffa1"
      },
      "id": "j2RzrgQpIKnO",
      "execution_count": 7,
      "outputs": [
        {
          "output_type": "stream",
          "name": "stdout",
          "text": [
            "Las raices encontradas por método de bisección  en un intervalo de [0,8] son  1.6287184949273978 2.9321585327943467 6.284372640484436\n"
          ]
        }
      ]
    },
    {
      "cell_type": "code",
      "source": [
        "#Ahora para los parámetros a=2 y b=2\n",
        "params1=(2,2)\n",
        "p1=sc.optimize.bisect(f1,0.5,1.5,args=params1)\n",
        "p2=sc.optimize.bisect(f1,3,3.5,args=params1)\n",
        "p3=sc.optimize.bisect(f1,6,6.5,args=params1)"
      ],
      "metadata": {
        "id": "KkMc1TY4OLS4"
      },
      "id": "KkMc1TY4OLS4",
      "execution_count": 8,
      "outputs": []
    },
    {
      "cell_type": "code",
      "source": [
        "#primera intuicion\n",
        "plt.figure(figsize=(12,10))\n",
        "x=np.linspace(0,8,1000)\n",
        "plt.plot(x,f1(x,*params1),color='b')\n",
        "plt.plot(p1,f1(p1,2,2),marker='o',color='r',label='Punto 1')\n",
        "plt.plot(p2,f1(p2,2,2),marker='o',color='r',label='Punto 2')\n",
        "plt.plot(p3,f1(p3,2,2),marker='o',color='r',label='Punto 3 ')\n",
        "plt.legend()\n",
        "plt.xlabel(\"$x$\",size=12)\n",
        "plt.ylabel(\"$f(x)$\",size=12)\n",
        "plt.title(\"Gráfica de $a_1\\sqrt{x^2+1}+b_1e^x\\sin(x)-7$\",size=14)\n",
        "plt.grid(True)"
      ],
      "metadata": {
        "colab": {
          "base_uri": "https://localhost:8080/",
          "height": 655
        },
        "id": "TaLXEpfFOWoZ",
        "outputId": "ee4603df-7629-4eb9-b1cc-50cb333874eb"
      },
      "id": "TaLXEpfFOWoZ",
      "execution_count": 9,
      "outputs": [
        {
          "output_type": "display_data",
          "data": {
            "text/plain": [
              "<Figure size 864x720 with 1 Axes>"
            ],
            "image/png": "[encoded data removed]"
          },
          "metadata": {
            "needs_background": "light"
          }
        }
      ]
    },
    {
      "cell_type": "code",
      "source": [
        "print(\"Las raices encontradas por método de bisección  en un intervalo de [0,8] son \",p1,p2,p3)"
      ],
      "metadata": {
        "colab": {
          "base_uri": "https://localhost:8080/"
        },
        "id": "gw0kEvotPy8u",
        "outputId": "ee958cdd-b5e5-4458-8bd6-79158d8d65c7"
      },
      "id": "gw0kEvotPy8u",
      "execution_count": 10,
      "outputs": [
        {
          "output_type": "stream",
          "name": "stdout",
          "text": [
            "Las raices encontradas por método de bisección  en un intervalo de [0,8] son  0.954051251295823 3.1323505942436896 6.277821362758914\n"
          ]
        }
      ]
    },
    {
      "cell_type": "markdown",
      "source": [
        "Método de Newton-Rapshon"
      ],
      "metadata": {
        "id": "1b5ngGk3SKF-"
      },
      "id": "1b5ngGk3SKF-"
    },
    {
      "cell_type": "code",
      "source": [
        "import sympy as sp\n",
        "x=sp.symbols(\"x\")\n",
        "a1=sp.symbols(\"a\")\n",
        "b1=sp.symbols(\"b\")"
      ],
      "metadata": {
        "id": "pezp2D9PNFu-"
      },
      "id": "pezp2D9PNFu-",
      "execution_count": 11,
      "outputs": []
    },
    {
      "cell_type": "code",
      "source": [
        "import sympy as sp\n",
        "def func1(x, a1, b1 ):\n",
        "  return a1*sp.sqrt(x**2+1)+b1*sp.exp(x)*sp.sin(x)-7\n",
        "\n",
        "#calculando la derivada con sympy\n",
        "d=sp.diff(func1(x,a1,b1),x)"
      ],
      "metadata": {
        "id": "I-DF-Y5zOYAB"
      },
      "id": "I-DF-Y5zOYAB",
      "execution_count": 12,
      "outputs": []
    },
    {
      "cell_type": "code",
      "source": [
        "funcion1 =sp.lambdify([x,a1,b1],func1(x,a1,b1),\"numpy\")\n",
        "fderivate=sp.lambdify([x,a1,b1,],d,\"numpy\")"
      ],
      "metadata": {
        "id": "oY-Qz_fFBWSX"
      },
      "id": "oY-Qz_fFBWSX",
      "execution_count": 13,
      "outputs": []
    },
    {
      "cell_type": "code",
      "source": [
        "#Raices para los parametros 1,1\n",
        "root1= opt.newton(funcion1,3, fderivate,args=params)\n",
        "root2=opt.newton(funcion1,2, fderivate,args=params)\n",
        "root3=opt.newton(funcion1,6, fderivate,args=params)\n",
        "\n",
        "#Raices para los parametros 2,2\n",
        "\n",
        "roota= opt.newton(funcion1,1, fderivate,args=params1)\n",
        "rootb= opt.newton(funcion1,3, fderivate,args=params1)\n",
        "rootc= opt.newton(funcion1,6.27, fderivate,args=params1)\n",
        "\n",
        "print(\"Las raices para los parámetros (1,1) son \",root1,root2, root3,\"y para (2,2) son\",roota,rootb,rootc)"
      ],
      "metadata": {
        "colab": {
          "base_uri": "https://localhost:8080/"
        },
        "id": "4iTqCpjvJYHI",
        "outputId": "6beb04d4-b68c-4cc5-82e6-7f50382121ec"
      },
      "id": "4iTqCpjvJYHI",
      "execution_count": 14,
      "outputs": [
        {
          "output_type": "stream",
          "name": "stdout",
          "text": [
            "Las raices para los parámetros (1,1) son  2.9321585327957487 1.6287184949270082 6.2843726404836735 y para (2,2) son 0.9540512512965833 3.1323505942423657 6.277821362757123\n"
          ]
        }
      ]
    },
    {
      "cell_type": "markdown",
      "source": [
        "**Método de la secante :**\n",
        "Se establece a partir del mismo método anterior sin embargo ya no se usa la derivada de la función que estamos analizando."
      ],
      "metadata": {
        "id": "_ws5iIjMK_en"
      },
      "id": "_ws5iIjMK_en"
    },
    {
      "cell_type": "code",
      "source": [
        "#Raices para los parametros 1,1\n",
        "root1= opt.newton(funcion1,3,args=params,x1=4)\n",
        "root2=opt.newton(funcion1,2,args=params,x1=1)\n",
        "root3=opt.newton(funcion1,6,args=params,x1=7)\n",
        "\n",
        "#Raices para los parametros 2,2\n",
        "\n",
        "roota= opt.newton(funcion1,1,args=params1,x1=2)\n",
        "rootb= opt.newton(funcion1,3, args=params1,x1=2)\n",
        "rootc= opt.newton(funcion1,6, args=params1,x1=7)\n",
        "\n",
        "print(\"Las raices para los parámetros (1,1) son \",root1,root2, root3,\"y para (2,2) son\",roota,rootb,rootc)"
      ],
      "metadata": {
        "colab": {
          "base_uri": "https://localhost:8080/"
        },
        "id": "mFUOIAPpJLL2",
        "outputId": "20a1e0ec-ef7a-4099-e00b-7785a6fbcc39"
      },
      "id": "mFUOIAPpJLL2",
      "execution_count": 19,
      "outputs": [
        {
          "output_type": "stream",
          "name": "stdout",
          "text": [
            "Las raices para los parámetros (1,1) son  2.9321585327957487 1.6287184949270028 6.284372640483535 y para (2,2) son 0.9540512512965864 2.5629450962327742 6.277821362756993\n"
          ]
        }
      ]
    },
    {
      "cell_type": "markdown",
      "source": [
        "Es posible ver que los valores de las raíces halladas con el método Newthon_Raphson y la secante son muy aproximados."
      ],
      "metadata": {
        "id": "eFsEQDLIPFo6"
      },
      "id": "eFsEQDLIPFo6"
    },
    {
      "cell_type": "markdown",
      "source": [
        "Método de Punto Fijo "
      ],
      "metadata": {
        "id": "jMQXDXEude4y"
      },
      "id": "jMQXDXEude4y"
    },
    {
      "cell_type": "code",
      "source": [
        "def g(x,a,b):\n",
        "  g=x-f1(x,a,b)\n",
        "  return(g)"
      ],
      "metadata": {
        "id": "n6zhc2iAdiHB"
      },
      "id": "n6zhc2iAdiHB",
      "execution_count": 21,
      "outputs": []
    },
    {
      "cell_type": "code",
      "source": [
        "#Raices para los parámetros (1,1)\n",
        "sol1 = opt.fixed_point(g, 2,args=params)\n",
        "sol2 = opt.fixed_point(g, 3,args=params)\n",
        "sol3 = opt.fixed_point(g, 6,args=params)\n",
        "#Raices para los parámetros (2,2)\n",
        "solu1 = opt.fixed_point(g,1,args=params1)\n",
        "solu2 = opt.fixed_point(g, 3,args=params1)\n",
        "solu3 = opt.fixed_point(g, 6,args=params1)\n",
        "\n",
        "print(\"Las raices para los parámetros (1,1) son \",sol1,sol2, sol3,\"y para (2,2) son\",solu1,solu2,solu3)"
      ],
      "metadata": {
        "colab": {
          "base_uri": "https://localhost:8080/"
        },
        "id": "g74F4XITW2_h",
        "outputId": "b3f605ef-3f66-48db-c413-752abfb464a6"
      },
      "id": "g74F4XITW2_h",
      "execution_count": 22,
      "outputs": [
        {
          "output_type": "stream",
          "name": "stdout",
          "text": [
            "Las raices para los parámetros (1,1) son  1.6287184949270084 2.9321585327957544 6.0 y para (2,2) son 0.9540512512965833 -3.3466223131438624 6.0\n"
          ]
        }
      ]
    },
    {
      "cell_type": "markdown",
      "id": "ee7acda4",
      "metadata": {
        "id": "ee7acda4"
      },
      "source": [
        "  \n",
        " 2. $a e^{x}-2= b\\cos(e^x-2)$"
      ]
    },
    {
      "cell_type": "markdown",
      "source": [
        "Método de la bisección"
      ],
      "metadata": {
        "id": "FyB9y0clKyJd"
      },
      "id": "FyB9y0clKyJd"
    },
    {
      "cell_type": "code",
      "source": [
        "def f2(x,a1,b1):\n",
        "  return a1*np.exp(x)-2-b1*np.cos(np.exp(x)-2)"
      ],
      "metadata": {
        "id": "WodDWEEKFHtV"
      },
      "id": "WodDWEEKFHtV",
      "execution_count": 24,
      "outputs": []
    },
    {
      "cell_type": "code",
      "source": [
        "#Calculando la raiz (ver gráfico)\n",
        "params=(1,1)\n",
        "p1=sc.optimize.bisect(f2,0,2,args=params)\n",
        "print(\"La raiz encontrada por método de bisección es  \",p1)"
      ],
      "metadata": {
        "colab": {
          "base_uri": "https://localhost:8080/"
        },
        "id": "P8dlSuyJU_EX",
        "outputId": "d4dbd4b8-8d52-4dd8-cd87-77eb3eb4588f"
      },
      "id": "P8dlSuyJU_EX",
      "execution_count": 25,
      "outputs": [
        {
          "output_type": "stream",
          "name": "stdout",
          "text": [
            "La raiz encontrada por método de bisección es   1.0076239716563578\n"
          ]
        }
      ]
    },
    {
      "cell_type": "code",
      "source": [
        "#primera intuicion\n",
        "plt.figure(figsize=(12,10))\n",
        "x=np.linspace(0,8,1000)\n",
        "plt.plot(x,f2(x,*params),color='b')\n",
        "plt.plot(p1,f2(p1,1,1),marker='o',color='r',label='Punto 1')\n",
        "plt.legend()\n",
        "plt.xlabel(\"$x$\",size=12)\n",
        "plt.ylabel(\"$f(x)$\",size=12)\n",
        "plt.title(\"Gráfica de $a_1e^x - 2 - b_1\\cos(e^x-2)$\",size=14)\n",
        "plt.grid(True)"
      ],
      "metadata": {
        "id": "SHlKnXCDR1aU",
        "colab": {
          "base_uri": "https://localhost:8080/",
          "height": 650
        },
        "outputId": "b1560811-6c04-443a-e1d7-bb30f10a5ec0"
      },
      "id": "SHlKnXCDR1aU",
      "execution_count": 26,
      "outputs": [
        {
          "output_type": "display_data",
          "data": {
            "text/plain": [
              "<Figure size 864x720 with 1 Axes>"
            ],
            "image/png": "[encoded data removed]"
          },
          "metadata": {
            "needs_background": "light"
          }
        }
      ]
    },
    {
      "cell_type": "code",
      "source": [
        "#Ahora para los parámetros a=2 y b=2\n",
        "params1=(2,2)\n",
        "p1=sc.optimize.bisect(f2,0,1,args=params1)\n",
        "print(\"La raiz encontrada por método de bisección es  \",p1)"
      ],
      "metadata": {
        "colab": {
          "base_uri": "https://localhost:8080/"
        },
        "id": "d1-umW3oVutD",
        "outputId": "20119e61-1133-40b5-c316-1de8cd2f6765"
      },
      "id": "d1-umW3oVutD",
      "execution_count": 27,
      "outputs": [
        {
          "output_type": "stream",
          "name": "stdout",
          "text": [
            "La raiz encontrada por método de bisección es   0.6931471805601177\n"
          ]
        }
      ]
    },
    {
      "cell_type": "code",
      "source": [
        "#primera intuicion\n",
        "plt.figure(figsize=(12,10))\n",
        "x=np.linspace(0,8,1000)\n",
        "plt.plot(x,f2(x,*params1),color='b')\n",
        "plt.plot(p1,f2(p1,2,2),marker='o',color='r',label='Punto 1')\n",
        "plt.legend()\n",
        "plt.xlabel(\"$x$\",size=12)\n",
        "plt.ylabel(\"$f(x)$\",size=12)\n",
        "plt.title(\"Gráfica de $a_1e^x - 2 - b_1\\cos(e^x-2)$\",size=14)\n",
        "plt.grid(True)"
      ],
      "metadata": {
        "id": "ZiPdDaIQV2Lu",
        "colab": {
          "base_uri": "https://localhost:8080/",
          "height": 650
        },
        "outputId": "530383d9-e462-4a62-efe0-615d3841d59b"
      },
      "id": "ZiPdDaIQV2Lu",
      "execution_count": 28,
      "outputs": [
        {
          "output_type": "display_data",
          "data": {
            "text/plain": [
              "<Figure size 864x720 with 1 Axes>"
            ],
            "image/png": "[encoded data removed]"
          },
          "metadata": {
            "needs_background": "light"
          }
        }
      ]
    },
    {
      "cell_type": "markdown",
      "source": [
        "Método de Newton-Rapshon"
      ],
      "metadata": {
        "id": "n1ULK9fOYb4v"
      },
      "id": "n1ULK9fOYb4v"
    },
    {
      "cell_type": "code",
      "source": [
        "def f2(x,a1,b1):\n",
        "  return a1*sp.exp(x)-2-b1*sp.cos(sp.exp(x)-2)"
      ],
      "metadata": {
        "id": "Q9er52cQJTFS"
      },
      "id": "Q9er52cQJTFS",
      "execution_count": 29,
      "outputs": []
    },
    {
      "cell_type": "code",
      "source": [
        "#calculando la derivada con sympy\n",
        "import sympy as sp\n",
        "x=sp.symbols(\"x\")\n",
        "a1=sp.symbols(\"a\")\n",
        "b1=sp.symbols(\"b\")\n",
        "d=sp.diff(f2(x,a1,b1),x)"
      ],
      "metadata": {
        "id": "ksynMTCvQjUk"
      },
      "id": "ksynMTCvQjUk",
      "execution_count": 34,
      "outputs": []
    },
    {
      "cell_type": "code",
      "source": [
        "funcion2 =sp.lambdify([x,a1,b1],f2(x,a1,b1),\"numpy\")\n",
        "fderivat=sp.lambdify([x,a1,b1,],d,\"numpy\")"
      ],
      "metadata": {
        "id": "3jqVr_2FJZ96"
      },
      "id": "3jqVr_2FJZ96",
      "execution_count": 35,
      "outputs": []
    },
    {
      "cell_type": "code",
      "source": [
        "#Raices para los parametros 1,1\n",
        "root1= opt.newton(funcion2,1, fderivat,args=params)\n",
        "\n",
        "#Raices para los parametros 2,2\n",
        "roota= opt.newton(funcion2,1, fderivat,args=params1)\n",
        "\n",
        "print(\"Las raices para los parámetros (1,1) son \",root1,\"y para (2,2) son\",roota)"
      ],
      "metadata": {
        "colab": {
          "base_uri": "https://localhost:8080/"
        },
        "id": "FDQ6IOfuJafi",
        "outputId": "2dda56e4-60ff-4cd8-9b7b-65fb6ea59e48"
      },
      "id": "FDQ6IOfuJafi",
      "execution_count": 36,
      "outputs": [
        {
          "output_type": "stream",
          "name": "stdout",
          "text": [
            "Las raices para los parámetros (1,1) son  1.0076239716581368 y para (2,2) son 0.6931471805599454\n"
          ]
        }
      ]
    },
    {
      "cell_type": "markdown",
      "source": [
        "Método de la secante"
      ],
      "metadata": {
        "id": "cngbCEBRKwNg"
      },
      "id": "cngbCEBRKwNg"
    },
    {
      "cell_type": "code",
      "source": [
        "#Raices para los parametros 1,1\n",
        "root1= opt.newton(funcion2,1,args=params,x1=2)\n",
        "\n",
        "#Raices para los parametros 2,2\n",
        "roota= opt.newton(funcion2,1,args=params1,x1=2)\n",
        "\n",
        "print(\"Las raices para los parámetros (1,1) son \",root1,\"y para (2,2) son\",roota)"
      ],
      "metadata": {
        "colab": {
          "base_uri": "https://localhost:8080/"
        },
        "id": "hkQpOSbuKwWW",
        "outputId": "2abfe9ab-42ff-44cc-bca8-a2f4c014acca"
      },
      "id": "hkQpOSbuKwWW",
      "execution_count": 38,
      "outputs": [
        {
          "output_type": "stream",
          "name": "stdout",
          "text": [
            "Las raices para los parámetros (1,1) son  1.0076239716579765 y para (2,2) son 0.6931471805599888\n"
          ]
        }
      ]
    },
    {
      "cell_type": "markdown",
      "source": [
        "Método de Punto fijo"
      ],
      "metadata": {
        "id": "zyfBV4Y3K6Gj"
      },
      "id": "zyfBV4Y3K6Gj"
    },
    {
      "cell_type": "code",
      "source": [
        "def g1(x,a,b):\n",
        "  g=x-funcion2(x,a,b)\n",
        "  return(g)"
      ],
      "metadata": {
        "id": "FOXBZbvQK6N0"
      },
      "id": "FOXBZbvQK6N0",
      "execution_count": 44,
      "outputs": []
    },
    {
      "cell_type": "code",
      "source": [
        "#Raices para los parámetros (1,1)\n",
        "sol1 = opt.fixed_point(g1, 1,args=params)\n",
        "\n",
        "#Raices para los parámetros (2,2)\n",
        "solu1 = opt.fixed_point(g1,1,args=params1)\n",
        "\n",
        "print(\"Las raices para los parámetros (1,1) son \",sol1,\"y para (2,2) son\",solu1)"
      ],
      "metadata": {
        "colab": {
          "base_uri": "https://localhost:8080/"
        },
        "id": "mWK9fM61qxvz",
        "outputId": "b80b5a51-4182-49f8-bbd3-d0c829433fda"
      },
      "id": "mWK9fM61qxvz",
      "execution_count": 45,
      "outputs": [
        {
          "output_type": "stream",
          "name": "stdout",
          "text": [
            "Las raices para los parámetros (1,1) son  1.0076239716581368 y para (2,2) son 0.6931471805599453\n"
          ]
        }
      ]
    },
    {
      "cell_type": "markdown",
      "id": "a232ecdd",
      "metadata": {
        "id": "a232ecdd"
      },
      "source": [
        "# 3. Fixed point methods. \n",
        "\n",
        "When a new planet is discovered, there are different methods to estimate its physical properties. Many times is only possible to estimate either the planet mass or the planet radius and the other property has to be predicted through computer modelling.\n",
        "\n",
        "If one has the planet mass, a very rough way to estimate its radius is to assume certain composition (mean density) and a homogeneous distribution (a very bad assumption!). For example, for the planet [Gliese 832c](http://es.wikipedia.org/wiki/Gliese_832_c) with a mass $M= 5.40 M_{\\oplus}$, if we assume an earth-like composition, i.e. $\\bar \\rho_{\\oplus} = 5520\\ kg/m^3$, we obtain:\n",
        "\n",
        "$$R_{g832c} = \\left( \\frac{3 M_{g832c}}{ 4 \\pi \\bar\\rho_{\\oplus} } \\right)^{1/3} \\approx 1.75 R_{\\oplus}$$\n",
        "\n",
        "That would be the planet radius if the composition where exactly equal to earth's.\n",
        "\n",
        "A more realistic approach is assuming an internal one-layer density profile like:\n",
        "\n",
        "$$\\rho(r) = \\rho_0 \\exp\\left( -\\frac{r}{L} \\right)$$\n",
        "\n",
        "where $\\rho_0$ is the density at planet centre and $L$ is a characteristic lenght depending on the composition. From numerical models of planet interiors, the estimated parameters for a planet of are $M= 5.40 M_{\\oplus}$ are approximately $\\rho_0 = 18000\\ kg/m^3$ and $L = 6500\\ km$.\n",
        "\n",
        "Integrating over the planet volume, we obtain the total mass as\n",
        "\n",
        "$$M = 4\\pi \\int_0^R \\rho(r)r^2dr$$\n",
        "\n",
        "This is a function of the mass in terms of the planet radius. \n",
        "\n",
        "Solving the equation $M(R) = M_{g832c}$ it would be possible to find a more realistic planet radius. However when using numerical models, it is not possible to approach the solution from the left side as a negative mass makes no sense."
      ]
    },
    {
      "cell_type": "code",
      "source": [
        "import scipy.optimize as opt\n",
        "import scipy as sc\n",
        "import matplotlib.pylab as plt \n",
        "import numpy as np\n",
        "import sympy as sp"
      ],
      "metadata": {
        "id": "S8ke0bi1Zbph"
      },
      "id": "S8ke0bi1Zbph",
      "execution_count": 108,
      "outputs": []
    },
    {
      "cell_type": "code",
      "source": [
        "#definiendo en sympy \n",
        "r=sp.symbols('r')\n",
        "R=sp.symbols('R')\n",
        "rho0=sp.symbols('rho0')\n",
        "L=sp.symbols('L')\n",
        "rho_=sp.symbols('rho_')\n",
        "M = 4*sp.pi*rho0*sp.integrate(r**2*sp.exp(-r/L),(r,0,R))\n",
        "M\n"
      ],
      "metadata": {
        "colab": {
          "base_uri": "https://localhost:8080/",
          "height": 68
        },
        "id": "0e6HrmHU4BLC",
        "outputId": "6fce4940-fba9-425a-e279-32efc8c8dfee"
      },
      "id": "0e6HrmHU4BLC",
      "execution_count": 109,
      "outputs": [
        {
          "output_type": "execute_result",
          "data": {
            "text/plain": [
              "4*pi*rho0*(2*L**3 + (-2*L**3 - 2*L**2*R - L*R**2)*exp(-R/L))"
            ],
            "text/latex": "$\\displaystyle 4 \\pi \\rho_{0} \\cdot \\left(2 L^{3} + \\left(- 2 L^{3} - 2 L^{2} R - L R^{2}\\right) e^{- \\frac{R}{L}}\\right)$"
          },
          "metadata": {},
          "execution_count": 109
        }
      ]
    },
    {
      "cell_type": "code",
      "source": [
        "#Definiendo constantes dadas en el enunciado \n",
        "masa_tierra = 5.97e24  #  kg\n",
        "rho_ = 5520  #densidad de la tierra  en kg/m^3\n",
        "rho= 18000  # Densidad central de  Gliese 832c  en kg/m^3\n",
        "L = 6500e3  # Longitud característica de Gliese 832c en m\n",
        "Rterrestre=6371e3 #en metros "
      ],
      "metadata": {
        "id": "sS8jIqcrZb0T"
      },
      "id": "sS8jIqcrZb0T",
      "execution_count": 110,
      "outputs": []
    },
    {
      "cell_type": "code",
      "source": [
        "#Defino la ecuación de la masa a partir de la integración \n",
        "def mass(R,L,rho):\n",
        "    return 4*np.pi*rho*(2*L**3+(-2*L**3-2*L**2*R-L*R**2)*np.exp(-R/L))\n",
        "\n",
        "#Defino la ecuación de la masa a traves de la primer ecuación\n",
        "\n",
        "def mass_g(Rterrestre,rho_):\n",
        "    return (1.75*Rterrestre)**3*4*np.pi*rho_/3\n"
      ],
      "metadata": {
        "id": "2buX1wXwTzp4"
      },
      "id": "2buX1wXwTzp4",
      "execution_count": 111,
      "outputs": []
    },
    {
      "cell_type": "code",
      "source": [
        "#Defino la ecuación a partir de las otras para encontrar la raiz ya que M(R)= M(R)\n",
        "def f(R,L,rho,Rterrestre,rho_):\n",
        "  t1=mass_g(Rterrestre,rho_)\n",
        "  t2=mass(R,L,rho)\n",
        "  return t1-t2"
      ],
      "metadata": {
        "id": "HW4MtREF_8ia"
      },
      "id": "HW4MtREF_8ia",
      "execution_count": 112,
      "outputs": []
    },
    {
      "cell_type": "code",
      "source": [
        "#Se hace una inspección previa gráfica para tener idea\n",
        "R=np.arange(1e07,13e6)\n",
        "plt.figure(figsize=(8,8))\n",
        "plt.plot(R,f(R,L,rho,Rterrestre,rho_),color='red')\n",
        "plt.xlabel('Rango de Radios (m) ',size=12)\n",
        "plt.ylabel('Radio (m)',size=12)\n",
        "plt.grid()"
      ],
      "metadata": {
        "colab": {
          "base_uri": "https://localhost:8080/",
          "height": 532
        },
        "id": "igUbwvxQ_vBj",
        "outputId": "679d1c43-31d5-46e9-8e0a-cd40fd02aef2"
      },
      "id": "igUbwvxQ_vBj",
      "execution_count": 113,
      "outputs": [
        {
          "output_type": "display_data",
          "data": {
            "text/plain": [
              "<Figure size 576x576 with 1 Axes>"
            ],
            "image/png": "[encoded data removed]"
          },
          "metadata": {
            "needs_background": "light"
          }
        }
      ]
    },
    {
      "cell_type": "code",
      "source": [
        "#como se ncontró un intervalo se puede usar los diferentes métodos usados en clase \n",
        "#Método de la biseccion \n",
        "root=sc.optimize.bisect(f,1.1e7,1.15e7,args=(L,rho,Rterrestre,rho_)) #m\n",
        "#Método de la secante\n",
        "root1=opt.newton(f,1.1e7,args=(L,rho,Rterrestre,rho_),x1=1.2e7)"
      ],
      "metadata": {
        "id": "xZvNwPTXDu6p"
      },
      "id": "xZvNwPTXDu6p",
      "execution_count": 114,
      "outputs": []
    },
    {
      "cell_type": "code",
      "source": [
        "root/Rterrestre"
      ],
      "metadata": {
        "colab": {
          "base_uri": "https://localhost:8080/"
        },
        "id": "bRNQ-M6jNs7F",
        "outputId": "6622037a-8e70-450a-f4b2-a91dd38724a6"
      },
      "id": "bRNQ-M6jNs7F",
      "execution_count": 115,
      "outputs": [
        {
          "output_type": "execute_result",
          "data": {
            "text/plain": [
              "1.7927376998113937"
            ]
          },
          "metadata": {},
          "execution_count": 115
        }
      ]
    },
    {
      "cell_type": "code",
      "source": [
        "#Graficando con la raiz , en este caso el radio de Gliese 832c\n",
        "R=np.arange(1e07,13e6)\n",
        "plt.figure(figsize=(8,8))\n",
        "plt.plot(R,f(R,L,rho,Rterrestre,rho_),color='red')\n",
        "plt.plot(root,f(root,L,rho,Rterrestre,rho_),marker='o',color='blue',label='Radio Mgliese')\n",
        "plt.xlabel('Rango de Radios (m) ',size=12)\n",
        "plt.ylabel('Radio (m)',size=12)\n",
        "plt.title('Gráfica ')\n",
        "plt.grid()\n",
        "plt.legend()\n",
        "plt.show()"
      ],
      "metadata": {
        "id": "ZNfIP81PC4sh",
        "colab": {
          "base_uri": "https://localhost:8080/",
          "height": 537
        },
        "outputId": "c182678f-86b5-47f1-9f07-b1159f02eaf8"
      },
      "id": "ZNfIP81PC4sh",
      "execution_count": 116,
      "outputs": [
        {
          "output_type": "display_data",
          "data": {
            "text/plain": [
              "<Figure size 576x576 with 1 Axes>"
            ],
            "image/png": "[encoded data removed]"
          },
          "metadata": {
            "needs_background": "light"
          }
        }
      ]
    },
    {
      "cell_type": "markdown",
      "source": [
        "Por tanto se puede concluir que el radio del exoplaneta es \n",
        "$$R=11421.5\\hspace{0.4cm}km$$ lo que significa que \n",
        "$$R_{g832c}=1.8*R_{tierra}$$"
      ],
      "metadata": {
        "id": "BQeYIDEdNb8J"
      },
      "id": "BQeYIDEdNb8J"
    }
  ],
  "metadata": {
    "kernelspec": {
      "display_name": "Python 3 (ipykernel)",
      "language": "python",
      "name": "python3"
    },
    "language_info": {
      "codemirror_mode": {
        "name": "ipython",
        "version": 3
      },
      "file_extension": ".py",
      "mimetype": "text/x-python",
      "name": "python",
      "nbconvert_exporter": "python",
      "pygments_lexer": "ipython3",
      "version": "3.8.12"
    },
    "colab": {
      "provenance": [],
      "collapsed_sections": [
        "8e59c672",
        "a232ecdd"
      ]
    }
  },
  "nbformat": 4,
  "nbformat_minor": 5
}