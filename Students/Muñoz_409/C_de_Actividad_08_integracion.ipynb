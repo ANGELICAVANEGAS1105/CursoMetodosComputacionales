{
 "cells": [
  {
   "attachments": {},
   "cell_type": "markdown",
   "metadata": {},
   "source": [
    "# Actividad \n",
    "1. Elaborar un programa en python que permita calcular la integral de una función entre el intervalo a, b. para ello debera realizar lo siguiente:\n",
    "\n",
    "## Realizar en notebook de collab\n",
    "- Deducir la ecuación general del metodo del trapecio.\n",
    "- Construir un funcion llamada integral_trapz que reciba como argumento una función y el intervalo a, b. El numero de intervalos N será un argumento opcional, \n",
    "  defina por defecto N=10. La función deberá retornar el valor de la integral.  \n",
    "- Comparar la solución con la libreria de scipy https://docs.scipy.org/doc//scipy-1.4.1/reference/generated/scipy.integrate.trapz.html"
   ]
  },
  {
   "cell_type": "code",
   "execution_count": 1,
   "metadata": {},
   "outputs": [],
   "source": [
    "from collections.abc import Callable\n",
    "from scipy.integrate import quad\n",
    "import numpy as np\n",
    "import sympy as sp"
   ]
  },
  {
   "attachments": {},
   "cell_type": "markdown",
   "metadata": {},
   "source": [
    "---\n",
    "- Deducir la ecuación general del metodo del trapecio.\n",
    "\n",
    "Consideramos el intervalo $[a, b]$ y dividimos este intervalo en $n$ subintervalos de igual longitud.\n",
    "\n",
    "Sea $$ x_0 = a, x_1, x_2, ..., x_n = b $$ los puntos de división de los subintervalos, donde $$ x_i = a + ih $$\n",
    "Aproximamos la función $f(x)$ por segmentos de recta entre los puntos de división.\n",
    "\n",
    "El área bajo cada trapezoide se puede calcular como el área de un rectángulo más el área de un triángulo:\n",
    "\n",
    "- El área del rectángulo es $h$ multiplicado por el promedio de las alturas de los extremos del trapezoide: $$ \\frac{{f(x_i) + f(x_{i+1})}}{2} $$\n",
    "- El área del triángulo es $$ \\frac{1}{2} \\cdot h \\cdot (f(x_{i+1}) - f(x_i)) $$\n",
    "\n",
    "Sumando las áreas de todos los trapezoides podemos obtener una aproximación del valor de la integral con la siguiente fórmula:\n",
    "\n",
    "\\begin{equation*}\n",
    "\\int_a^b f(x) \\mathrm{d}x \\approx \\frac{h}{2}[f(a)+2 \\sum_{i=1}^{n-1} f(x_i) + f(b)]\n",
    "\\end{equation*}\n"
   ]
  },
  {
   "cell_type": "code",
   "execution_count": 2,
   "metadata": {},
   "outputs": [],
   "source": [
    "#Constructor de la clase Integrate con los atributos f, a, b, n, h, x, y y el método trapz para calcular la integral por el método del trapecio\n",
    "\n",
    "class Integrate:\n",
    "    \"\"\" Clase para integrar por el método del trapecio\"\"\"\n",
    "    \n",
    "    def __init__(self, f: Callable, a: float, b: float, n : int = 10):\n",
    "        self.f = f\n",
    "        self.a = a\n",
    "        self.b = b\n",
    "        self.n = n\n",
    "        self.h = (b-a)/n\n",
    "        self.x = np.linspace(a, b, n+1)\n",
    "        self.y = f(self.x)\n",
    "        \n",
    "    def trapz(self):\n",
    "        return self.h*(self.y[0] + 2*np.sum(self.y[1:-1]) + self.y[-1])/2"
   ]
  },
  {
   "cell_type": "code",
   "execution_count": 3,
   "metadata": {},
   "outputs": [
    {
     "name": "stdout",
     "output_type": "stream",
     "text": [
      "El valor de la integral con mi metodo es: 46.6667\n",
      "El valor de la integral con la libreria de scipy es: 46.6667\n",
      "La diferencia es: 2.08e-05\n"
     ]
    }
   ],
   "source": [
    "#comparamos con el valor dado por la libreria de scipy para la funcion f(x) = x^2 + 1\n",
    "\n",
    "f = lambda x: x**2 + 1 \n",
    "\n",
    "a = 0\n",
    "b = 5\n",
    "n = 1000\n",
    "\n",
    "I = Integrate(f, a, b, n)\n",
    "\n",
    "print(f\"El valor de la integral con mi metodo es: {I.trapz():.4f}\")\n",
    "print(f\"El valor de la integral con la libreria de scipy es: {quad(f, a, b)[0]:.4f}\")\n",
    "print(f\"La diferencia es: {abs(I.trapz() - quad(f, a, b)[0]):.2e}\")"
   ]
  },
  {
   "attachments": {},
   "cell_type": "markdown",
   "metadata": {},
   "source": [
    "## Construir un programa en python con la función anterior que realice lo siguiente:  \n",
    "\n",
    "- Generalice el programa para que la funcion pueda ser pasada como parametro en terminal, junto con el parametro a, b. la ejecucion debera ser:\n",
    "  python integral func a b, Ejemplo de ejcucion:\n",
    "  python x**2+1 1 5  \n",
    "\n",
    "Para pasar los parametros consulte la libreria sys de python."
   ]
  },
  {
   "cell_type": "code",
   "execution_count": 4,
   "metadata": {},
   "outputs": [
    {
     "name": "stdout",
     "output_type": "stream",
     "text": [
      "183.76562500000006\n"
     ]
    }
   ],
   "source": [
    "#Solo funciona para funciones polinomiales\n",
    "\n",
    "Integral = input(\"Ingrese la funcion a integrar (formato LaTeX): \")\n",
    "a = input(\"Ingrese el limite inferior de integracion: \")\n",
    "b = input(\"Ingrese el limite superior de integracion: \")\n",
    "n = input(\"Ingrese el numero de subintervalos: \")\n",
    "\n",
    "f = lambda x: eval(Integral)\n",
    "\n",
    "t = Integrate(f, float(a), float(b), int(n))\n",
    "print(t.trapz())"
   ]
  },
  {
   "attachments": {},
   "cell_type": "markdown",
   "metadata": {},
   "source": [
    "Planteamos una integral doble para resolverla con el metodo del trapecio.\n",
    "\n",
    "Sea\n",
    "$$ f(x) = \\int_{0}^{1} \\int_{\\sqrt{x}}^{1 + x} 2 x y \\, dydx $$"
   ]
  },
  {
   "cell_type": "code",
   "execution_count": 5,
   "metadata": {},
   "outputs": [
    {
     "name": "stdout",
     "output_type": "stream",
     "text": [
      "El valor de la integral f(x) es: 1.083\n"
     ]
    }
   ],
   "source": [
    "#Solucion \n",
    "\n",
    "#Definimos la primer integral\n",
    "x = sp.Symbol('x')\n",
    "y = sp.Symbol('y')\n",
    "\n",
    "h1 = 2*x*y\n",
    "\n",
    "#Resolvemos la primer integral con scipy.integrate\n",
    "int1 = sp.integrate(h1, (y, sp.sqrt(x), 1+x))\n",
    "\n",
    "#Ahora lo convertimos en un objeto de numpy y le aplicamos los diferentes metodos de integracion\n",
    "f = sp.lambdify(x,int1, 'numpy')\n",
    "\n",
    "t = Integrate(f, 0, 1, 1000)\n",
    "print(f'El valor de la integral f(x) es: {t.trapz():.3f}')"
   ]
  }
 ],
 "metadata": {
  "kernelspec": {
   "display_name": "base",
   "language": "python",
   "name": "python3"
  },
  "language_info": {
   "codemirror_mode": {
    "name": "ipython",
    "version": 3
   },
   "file_extension": ".py",
   "mimetype": "text/x-python",
   "name": "python",
   "nbconvert_exporter": "python",
   "pygments_lexer": "ipython3",
   "version": "3.9.16"
  },
  "orig_nbformat": 4
 },
 "nbformat": 4,
 "nbformat_minor": 2
}
