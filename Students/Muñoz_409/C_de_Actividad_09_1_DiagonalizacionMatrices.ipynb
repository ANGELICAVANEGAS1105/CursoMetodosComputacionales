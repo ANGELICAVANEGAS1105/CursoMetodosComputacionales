{
 "cells": [
  {
   "attachments": {},
   "cell_type": "markdown",
   "metadata": {},
   "source": [
    "# Autovalores, autovectores, polinomio caracteristico, diagonalización"
   ]
  },
  {
   "attachments": {},
   "cell_type": "markdown",
   "metadata": {},
   "source": [
    "| Librería | Función | Explicación |\n",
    "| --- | --- | --- |\n",
    "| numpy | numpy.linalg.eig | Calcula los autovalores y autovectores derechos de una matriz cuadrada |\n",
    "| numpy | numpy.linalg.eigh | Calcula los autovalores y autovectores de una matriz hermítica compleja o simétrica real |\n",
    "| numpy | numpy.poly | Calcula el polinomio característico de una matriz |\n",
    "| sympy | sympy.Matrix.eigenvals | Calcula los autovalores de una matriz simbólica |\n",
    "| sympy | sympy.Matrix.eigenvects | Calcula los autovalores y autovectores de una matriz simbólica |\n",
    "| sympy | sympy.Matrix.charpoly | Calcula el polinomio característico de una matriz simbólica |"
   ]
  },
  {
   "attachments": {},
   "cell_type": "markdown",
   "metadata": {},
   "source": [
    "Calcular el polinomio caracteristico, los  autovalores y autvectores propios de la siguiente matrices, comprobar con la solucion analitica:\n",
    "\n",
    "1. \n",
    "\n",
    "\\begin{bmatrix}\n",
    "    1 & -1 & 4 \\\\\n",
    "    3 & 2 & -1 \\\\\n",
    "    2 & 1 & -1\n",
    "\\end{bmatrix}\n",
    "\n",
    "\n",
    "2. \n",
    "\n",
    "\\begin{bmatrix}\n",
    "    3 & -5 \\\\\n",
    "    1 & -1 \\\\\n",
    "\\end{bmatrix}"
   ]
  },
  {
   "cell_type": "code",
   "execution_count": 19,
   "metadata": {},
   "outputs": [],
   "source": [
    "import sympy as sp\n",
    "import numpy as np                                 \n",
    "import matplotlib.pyplot as plt "
   ]
  },
  {
   "cell_type": "code",
   "execution_count": 20,
   "metadata": {},
   "outputs": [
    {
     "data": {
      "text/latex": [
       "$\\displaystyle \\left[\\begin{matrix}1 & -1 & 4\\\\3 & 2 & -1\\\\2 & 1 & -1\\end{matrix}\\right]$"
      ],
      "text/plain": [
       "Matrix([\n",
       "[1, -1,  4],\n",
       "[3,  2, -1],\n",
       "[2,  1, -1]])"
      ]
     },
     "execution_count": 20,
     "metadata": {},
     "output_type": "execute_result"
    }
   ],
   "source": [
    "#1 \n",
    "M1 = sp.Matrix([[1, -1, 4], [3, 2, -1], [2, 1, -1]])\n",
    "M1"
   ]
  },
  {
   "cell_type": "code",
   "execution_count": 21,
   "metadata": {},
   "outputs": [
    {
     "data": {
      "text/latex": [
       "$\\displaystyle \\left(\\lambda - 3\\right) \\left(\\lambda - 1\\right) \\left(\\lambda + 2\\right)$"
      ],
      "text/plain": [
       "(lambda - 3)*(lambda - 1)*(lambda + 2)"
      ]
     },
     "execution_count": 21,
     "metadata": {},
     "output_type": "execute_result"
    }
   ],
   "source": [
    "#polinomio caracteristico\n",
    "sp.factor(M1.charpoly().as_expr())"
   ]
  },
  {
   "cell_type": "code",
   "execution_count": 22,
   "metadata": {},
   "outputs": [
    {
     "data": {
      "text/plain": [
       "{3: 1, 1: 1, -2: 1}"
      ]
     },
     "execution_count": 22,
     "metadata": {},
     "output_type": "execute_result"
    }
   ],
   "source": [
    "#Autovalores \n",
    "M1.eigenvals()"
   ]
  },
  {
   "cell_type": "code",
   "execution_count": 23,
   "metadata": {},
   "outputs": [
    {
     "data": {
      "text/plain": [
       "[(-2,\n",
       "  1,\n",
       "  [Matrix([\n",
       "   [-1],\n",
       "   [ 1],\n",
       "   [ 1]])]),\n",
       " (1,\n",
       "  1,\n",
       "  [Matrix([\n",
       "   [-1],\n",
       "   [ 4],\n",
       "   [ 1]])]),\n",
       " (3,\n",
       "  1,\n",
       "  [Matrix([\n",
       "   [1],\n",
       "   [2],\n",
       "   [1]])])]"
      ]
     },
     "execution_count": 23,
     "metadata": {},
     "output_type": "execute_result"
    }
   ],
   "source": [
    "#autovalores \n",
    "M1.eigenvects()"
   ]
  },
  {
   "cell_type": "code",
   "execution_count": 24,
   "metadata": {},
   "outputs": [
    {
     "data": {
      "text/latex": [
       "$\\displaystyle \\left[\\begin{matrix}3 & -5\\\\1 & -1\\end{matrix}\\right]$"
      ],
      "text/plain": [
       "Matrix([\n",
       "[3, -5],\n",
       "[1, -1]])"
      ]
     },
     "execution_count": 24,
     "metadata": {},
     "output_type": "execute_result"
    }
   ],
   "source": [
    "M2 = sp.Matrix([[3, -5],[1,-1]])\n",
    "M2"
   ]
  },
  {
   "cell_type": "code",
   "execution_count": 25,
   "metadata": {},
   "outputs": [
    {
     "data": {
      "text/latex": [
       "$\\displaystyle \\lambda^{2} - 2 \\lambda + 2$"
      ],
      "text/plain": [
       "lambda**2 - 2*lambda + 2"
      ]
     },
     "execution_count": 25,
     "metadata": {},
     "output_type": "execute_result"
    }
   ],
   "source": [
    "#polinomio caracteristico\n",
    "sp.factor(M2.charpoly().as_expr())"
   ]
  },
  {
   "cell_type": "code",
   "execution_count": 26,
   "metadata": {},
   "outputs": [
    {
     "data": {
      "text/plain": [
       "{1 - I: 1, 1 + I: 1}"
      ]
     },
     "execution_count": 26,
     "metadata": {},
     "output_type": "execute_result"
    }
   ],
   "source": [
    "#Autovalores \n",
    "M2.eigenvals()"
   ]
  },
  {
   "cell_type": "code",
   "execution_count": 27,
   "metadata": {},
   "outputs": [
    {
     "data": {
      "text/plain": [
       "[(1 - I,\n",
       "  1,\n",
       "  [Matrix([\n",
       "   [2 - I],\n",
       "   [    1]])]),\n",
       " (1 + I,\n",
       "  1,\n",
       "  [Matrix([\n",
       "   [2 + I],\n",
       "   [    1]])])]"
      ]
     },
     "execution_count": 27,
     "metadata": {},
     "output_type": "execute_result"
    }
   ],
   "source": [
    "#autovalores \n",
    "M2.eigenvects()"
   ]
  },
  {
   "attachments": {},
   "cell_type": "markdown",
   "metadata": {},
   "source": [
    "Actividad 2. \n",
    "\n",
    "Considere la ecuación cuadrática $x^2-4xy+3y=6$, esta ecuación cuadrática se corresponde a una hiperbola, la cual puede ser escrita en forma matricial como sigue:\n",
    "\n",
    "$A\\vec{v} \\cdot \\vec{v}=6$, donde $\\vec{v}=(x, y)$ y A es una matrix simetrica, \n",
    "\n",
    "\\begin{equation}\n",
    "A=\\begin{bmatrix}\n",
    "1 & -2 \\\\\n",
    "-2 & 3 \\\\\n",
    "\\end{bmatrix}\n",
    "\\end{equation}\n",
    "\n",
    "1. Realice un grafico que represente la hyperbola\n",
    "\n",
    "- Diagonalice A, para ello construya la matrix Q de autovectores ortoganales \n",
    "tal que $D=Q^{T}AQ$, en este caso se dice que A es diagonalizable ortogonalmente, donde $A=QDQ^T$.\n",
    "\n",
    "- Aplique el resultado de la siguiente demostración para encontrar una nueva hyperbola en una  nueva base\n",
    "\n",
    "\\begin{equation}\n",
    "QDQ^T \\vec{v} \\cdot \\vec{v} = d\n",
    "\\end{equation}\n",
    "\n",
    "\n",
    "\\begin{equation}\n",
    "Q(DQ^T\\vec{v}) \\cdot \\vec{v} = (DQ^T\\vec{v}) \\cdot (Q^T\\vec{v})=d\n",
    "\\end{equation}\n",
    "\n",
    "\n",
    "\\begin{equation}\n",
    "(DQ^T\\vec{v}) \\cdot (Q^T\\vec{v})=d\n",
    "\\end{equation}\n",
    "\n",
    "\n",
    "Sea $u=Q^T\\vec{v}$\n",
    "\n",
    "Luego :\n",
    "\n",
    "\n",
    "\\begin{equation}\n",
    "(D\\vec{u}) \\cdot \\vec{u}=d\n",
    "\\end{equation}\n",
    "\n",
    "donde $\\vec{u}=(x', y')$, tal que $D\\vec{u} \\cdot \\vec{u}=d$ es una nueva hyperbola "
   ]
  },
  {
   "cell_type": "code",
   "execution_count": 28,
   "metadata": {},
   "outputs": [],
   "source": [
    "f = lambda x,y : x**2 - 4*x*y + 3*y - 6 "
   ]
  },
  {
   "cell_type": "code",
   "execution_count": 29,
   "metadata": {},
   "outputs": [
    {
     "data": {
      "image/png": "[encoded data removed]",
      "text/plain": [
       "<Figure size 640x480 with 1 Axes>"
      ]
     },
     "metadata": {},
     "output_type": "display_data"
    }
   ],
   "source": [
    "x = np.linspace(-10,10,100)\n",
    "y = np.linspace(-10,10,100)\n",
    "\n",
    "X,Y = np.meshgrid(x,y)\n",
    "\n",
    "plt.contour(X,Y,f(X,Y),levels = [0])\n",
    "plt.title('Grafica de la hyperbola')\n",
    "plt.xlabel('x')\n",
    "plt.ylabel('y')\n",
    "plt.grid()\n",
    "plt.show()"
   ]
  },
  {
   "cell_type": "code",
   "execution_count": 30,
   "metadata": {},
   "outputs": [
    {
     "data": {
      "text/latex": [
       "$\\displaystyle \\left[\\begin{matrix}1 & -2\\\\-2 & 3\\end{matrix}\\right]$"
      ],
      "text/plain": [
       "Matrix([\n",
       "[ 1, -2],\n",
       "[-2,  3]])"
      ]
     },
     "execution_count": 30,
     "metadata": {},
     "output_type": "execute_result"
    }
   ],
   "source": [
    "A = sp.Matrix([[1, -2], [-2, 3]])\n",
    "A"
   ]
  },
  {
   "cell_type": "code",
   "execution_count": 31,
   "metadata": {},
   "outputs": [
    {
     "data": {
      "text/plain": [
       "array([[ 1., -2.],\n",
       "       [-2.,  3.]])"
      ]
     },
     "execution_count": 31,
     "metadata": {},
     "output_type": "execute_result"
    }
   ],
   "source": [
    "A = np.array(A).astype(np.float64)\n",
    "A"
   ]
  },
  {
   "cell_type": "code",
   "execution_count": 32,
   "metadata": {},
   "outputs": [],
   "source": [
    "# Encontrar los autovalores y autovectores\n",
    "autovalores, autovectores = np.linalg.eig(A)"
   ]
  },
  {
   "cell_type": "code",
   "execution_count": 33,
   "metadata": {},
   "outputs": [
    {
     "data": {
      "text/plain": [
       "array([[-0.85065081,  0.52573111],\n",
       "       [-0.52573111, -0.85065081]])"
      ]
     },
     "execution_count": 33,
     "metadata": {},
     "output_type": "execute_result"
    }
   ],
   "source": [
    "#Construimos la matriz ortogonal de autovectores Q \n",
    "\n",
    "Q = np.hstack((autovectores[:,0].reshape(2,1), autovectores[:,1].reshape(2,1)))\n",
    "Q"
   ]
  },
  {
   "cell_type": "code",
   "execution_count": 34,
   "metadata": {},
   "outputs": [
    {
     "data": {
      "text/plain": [
       "array([[-2.36067977e-01, -3.48462032e-16],\n",
       "       [-3.10277310e-16,  4.23606798e+00]])"
      ]
     },
     "execution_count": 34,
     "metadata": {},
     "output_type": "execute_result"
    }
   ],
   "source": [
    "#Construimos la matriz diagonal de autovalores D\n",
    "D = Q.T @ A @ Q\n",
    "D"
   ]
  },
  {
   "cell_type": "code",
   "execution_count": 39,
   "metadata": {},
   "outputs": [
    {
     "data": {
      "image/png": "[encoded data removed]",
      "text/plain": [
       "<Figure size 640x480 with 1 Axes>"
      ]
     },
     "metadata": {},
     "output_type": "display_data"
    }
   ],
   "source": [
    "#Construimos la ecuacion de la hipérbola D*u*u = 6 , donde u = (x,y)]\n",
    "x = sp.Symbol('x')\n",
    "y = sp.Symbol('y')\n",
    "u = sp.Matrix([x,y])\n",
    "\n",
    "f = (D@u).dot(u) - 6 \n",
    "f.simplify()\n",
    "f = sp.lambdify((x,y),f)\n",
    "\n",
    "#Graficamos la hipérbola\n",
    "x = np.linspace(-10,10,100)\n",
    "y = np.linspace(-10,10,100)\n",
    "\n",
    "X,Y = np.meshgrid(x,y)\n",
    "\n",
    "plt.contour(X,Y,f(X,Y),levels = [0])\n",
    "plt.title('Grafica de la hyperbola con cambio de variable')\n",
    "plt.xlabel('X')\n",
    "plt.ylabel('Y')\n",
    "plt.grid()\n",
    "plt.show()\n"
   ]
  }
 ],
 "metadata": {
  "kernelspec": {
   "display_name": "base",
   "language": "python",
   "name": "python3"
  },
  "language_info": {
   "codemirror_mode": {
    "name": "ipython",
    "version": 3
   },
   "file_extension": ".py",
   "mimetype": "text/x-python",
   "name": "python",
   "nbconvert_exporter": "python",
   "pygments_lexer": "ipython3",
   "version": "3.9.16"
  },
  "orig_nbformat": 4
 },
 "nbformat": 4,
 "nbformat_minor": 2
}
