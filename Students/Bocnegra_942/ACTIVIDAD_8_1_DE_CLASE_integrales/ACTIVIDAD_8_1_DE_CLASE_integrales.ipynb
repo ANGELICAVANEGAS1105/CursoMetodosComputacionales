{
  "nbformat": 4,
  "nbformat_minor": 0,
  "metadata": {
    "colab": {
      "provenance": []
    },
    "kernelspec": {
      "name": "python3",
      "display_name": "Python 3"
    },
    "language_info": {
      "name": "python"
    }
  },
  "cells": [
    {
      "cell_type": "code",
      "execution_count": null,
      "metadata": {
        "id": "ny6UMlUWcbeB"
      },
      "outputs": [],
      "source": []
    },
    {
      "cell_type": "code",
      "source": [
        "\n",
        "import numpy as np\n",
        "import matplotlib.pyplot as plt\n",
        "import scipy as sp\n",
        "\n",
        "\n",
        "#************************************\n",
        "#Definición de funciones\n",
        "#************************************\n",
        "#definicion de f(x)\n",
        "def f(x):\n",
        "    return x**2+1\n",
        "\n",
        "\n",
        "\n",
        "#area de un trapecio(metodo simple)\n",
        "def area(a,b):\n",
        "    return ((b-a)/2)*(f(a)+f(b))\n",
        "\n",
        "def integral_trapz(a,b,N):\n",
        "\n",
        "\n",
        "    #suma de todas las areas de los trapecios\n",
        "    suma =0\n",
        "    suma2 =0\n",
        "    valores_x = np.linspace(a,b,N)\n",
        "\n",
        "    for i in range(0,len(valores_x)-1):\n",
        "\n",
        "        suma += area(valores_x[i],valores_x[i+1])\n",
        "        suma2 += f(valores_x[i])\n",
        "\n",
        "    return suma\n",
        "\n",
        "\n",
        "\n",
        "#************************************\n",
        "\n",
        "a=1\n",
        "b=5\n",
        "N = 100000\n",
        "\n",
        "print('El valor de la integral usando trapecio simple es : ',integral_trapz(a,b,N))\n",
        "\n",
        "\n",
        "\n"
      ],
      "metadata": {
        "colab": {
          "base_uri": "https://localhost:8080/"
        },
        "outputId": "402382ca-7dbe-4ca4-f958-68429bed54ad",
        "id": "TOC1X-OI6ire"
      },
      "execution_count": 2,
      "outputs": [
        {
          "output_type": "stream",
          "name": "stdout",
          "text": [
            "El valor de la integral usando trapecio simple es :  45.33333333439996\n"
          ]
        }
      ]
    },
    {
      "cell_type": "code",
      "source": [],
      "metadata": {
        "id": "LI1zNWoLgUI1"
      },
      "execution_count": null,
      "outputs": []
    }
  ]
}