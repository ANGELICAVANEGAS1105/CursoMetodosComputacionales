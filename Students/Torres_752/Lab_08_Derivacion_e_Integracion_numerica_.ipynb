{
  "nbformat": 4,
  "nbformat_minor": 0,
  "metadata": {
    "colab": {
      "provenance": [],
      "collapsed_sections": [
        "sgcNW0-lsF2s",
        "31zdx7s6NeoT",
        "ngpp6pxMOOOg",
        "Pkr3nsTtO2G2",
        "Z1jhSIq_2TqU"
      ]
    },
    "kernelspec": {
      "name": "python3",
      "display_name": "Python 3"
    },
    "language_info": {
      "name": "python"
    }
  },
  "cells": [
    {
      "cell_type": "markdown",
      "metadata": {
        "id": "8q4c8oS-hpaE"
      },
      "source": [
        "\n",
        "#1.Parte 1\n",
        "1. En un cirtcuito con un voltaje de  $\\varepsilon(t)$ y una inductancia de L, la primera ley de kirshhoff nos da la siguiente relación \n",
        "\n",
        "\n",
        "\\begin{equation}\n",
        "\\varepsilon(t) = L\\frac{\\mathrm{d}i}{\\mathrm{d}t} + Ri\n",
        "\\end{equation}\n",
        "\n",
        "donde r, es la resistencia del ciruito, i es la corriente. Suponga que medimos la corriente con varios valores de t y obtenemos:\n",
        "\n",
        "t = 1.00, 1.01, 1.02, 1.03, 1.0\n",
        "\n",
        "i = 3.10, 3.12, 3.14, 3.18, 3.24\n",
        "\n",
        "\n",
        "donde t se mide en segundos, i se de en amper, la inductancia L es una constante de 0.98 herios, la resistencia es de 0.142 ohms. Aproxime el votaje  $\\varepsilon(t)$ en los valores t=1.00, 1.01, 1.02, 1.03, 1.04 ,  para ello realice lo siguiente:\n",
        "\n",
        "\n",
        "- Construya un data frame de pandas con los valores de tiempo y corriente \n",
        "- Emplee un metodo calcular la derivada numérica. \n",
        "\n",
        "\n",
        "\n"
      ]
    },
    {
      "cell_type": "code",
      "source": [
        "import numpy as np\n",
        "import pandas as pd\n",
        "from scipy.misc import derivative\n",
        "import scipy as sc\n",
        "\n",
        "import matplotlib.pyplot as plt"
      ],
      "metadata": {
        "id": "i4YXtWMrNspO"
      },
      "execution_count": 1,
      "outputs": []
    },
    {
      "cell_type": "code",
      "source": [
        "# En primer lugar, \n",
        "url='https://raw.githubusercontent.com/hernansalinas/autogrades/main/Laboratorios_Taller/dataset/corrienteVstiempo'\n",
        "Datos=pd.read_csv(url)\n",
        "\n",
        "Datos"
      ],
      "metadata": {
        "colab": {
          "base_uri": "https://localhost:8080/",
          "height": 423
        },
        "id": "7XQQnTAhYUkC",
        "outputId": "f3e0433a-ec2f-4a18-c1c6-18a08e00e52c"
      },
      "execution_count": 2,
      "outputs": [
        {
          "output_type": "execute_result",
          "data": {
            "text/plain": [
              "    Unnamed: 0  Corriente    tiempo\n",
              "0            0   0.000000   0.00000\n",
              "1            1   0.014533   0.10101\n",
              "2            2   0.028854   0.20202\n",
              "3            3   0.042967   0.30303\n",
              "4            4   0.056875   0.40404\n",
              "..         ...        ...       ...\n",
              "95          95   0.751104   9.59596\n",
              "96          96   0.754721   9.69697\n",
              "97          97   0.758285   9.79798\n",
              "98          98   0.761798   9.89899\n",
              "99          99   0.765260  10.00000\n",
              "\n",
              "[100 rows x 3 columns]"
            ],
            "text/html": [
              "\n",
              "  <div id=\"df-f90612d3-2c4d-402e-a822-1462dc3e41c8\">\n",
              "    <div class=\"colab-df-container\">\n",
              "      <div>\n",
              "<style scoped>\n",
              "    .dataframe tbody tr th:only-of-type {\n",
              "        vertical-align: middle;\n",
              "    }\n",
              "\n",
              "    .dataframe tbody tr th {\n",
              "        vertical-align: top;\n",
              "    }\n",
              "\n",
              "    .dataframe thead th {\n",
              "        text-align: right;\n",
              "    }\n",
              "</style>\n",
              "<table border=\"1\" class=\"dataframe\">\n",
              "  <thead>\n",
              "    <tr style=\"text-align: right;\">\n",
              "      <th></th>\n",
              "      <th>Unnamed: 0</th>\n",
              "      <th>Corriente</th>\n",
              "      <th>tiempo</th>\n",
              "    </tr>\n",
              "  </thead>\n",
              "  <tbody>\n",
              "    <tr>\n",
              "      <th>0</th>\n",
              "      <td>0</td>\n",
              "      <td>0.000000</td>\n",
              "      <td>0.00000</td>\n",
              "    </tr>\n",
              "    <tr>\n",
              "      <th>1</th>\n",
              "      <td>1</td>\n",
              "      <td>0.014533</td>\n",
              "      <td>0.10101</td>\n",
              "    </tr>\n",
              "    <tr>\n",
              "      <th>2</th>\n",
              "      <td>2</td>\n",
              "      <td>0.028854</td>\n",
              "      <td>0.20202</td>\n",
              "    </tr>\n",
              "    <tr>\n",
              "      <th>3</th>\n",
              "      <td>3</td>\n",
              "      <td>0.042967</td>\n",
              "      <td>0.30303</td>\n",
              "    </tr>\n",
              "    <tr>\n",
              "      <th>4</th>\n",
              "      <td>4</td>\n",
              "      <td>0.056875</td>\n",
              "      <td>0.40404</td>\n",
              "    </tr>\n",
              "    <tr>\n",
              "      <th>...</th>\n",
              "      <td>...</td>\n",
              "      <td>...</td>\n",
              "      <td>...</td>\n",
              "    </tr>\n",
              "    <tr>\n",
              "      <th>95</th>\n",
              "      <td>95</td>\n",
              "      <td>0.751104</td>\n",
              "      <td>9.59596</td>\n",
              "    </tr>\n",
              "    <tr>\n",
              "      <th>96</th>\n",
              "      <td>96</td>\n",
              "      <td>0.754721</td>\n",
              "      <td>9.69697</td>\n",
              "    </tr>\n",
              "    <tr>\n",
              "      <th>97</th>\n",
              "      <td>97</td>\n",
              "      <td>0.758285</td>\n",
              "      <td>9.79798</td>\n",
              "    </tr>\n",
              "    <tr>\n",
              "      <th>98</th>\n",
              "      <td>98</td>\n",
              "      <td>0.761798</td>\n",
              "      <td>9.89899</td>\n",
              "    </tr>\n",
              "    <tr>\n",
              "      <th>99</th>\n",
              "      <td>99</td>\n",
              "      <td>0.765260</td>\n",
              "      <td>10.00000</td>\n",
              "    </tr>\n",
              "  </tbody>\n",
              "</table>\n",
              "<p>100 rows × 3 columns</p>\n",
              "</div>\n",
              "      <button class=\"colab-df-convert\" onclick=\"convertToInteractive('df-f90612d3-2c4d-402e-a822-1462dc3e41c8')\"\n",
              "              title=\"Convert this dataframe to an interactive table.\"\n",
              "              style=\"display:none;\">\n",
              "        \n",
              "  <svg xmlns=\"http://www.w3.org/2000/svg\" height=\"24px\"viewBox=\"0 0 24 24\"\n",
              "       width=\"24px\">\n",
              "    <path d=\"M0 0h24v24H0V0z\" fill=\"none\"/>\n",
              "    <path d=\"M18.56 5.44l.94 2.06.94-2.06 2.06-.94-2.06-.94-.94-2.06-.94 2.06-2.06.94zm-11 1L8.5 8.5l.94-2.06 2.06-.94-2.06-.94L8.5 2.5l-.94 2.06-2.06.94zm10 10l.94 2.06.94-2.06 2.06-.94-2.06-.94-.94-2.06-.94 2.06-2.06.94z\"/><path d=\"M17.41 7.96l-1.37-1.37c-.4-.4-.92-.59-1.43-.59-.52 0-1.04.2-1.43.59L10.3 9.45l-7.72 7.72c-.78.78-.78 2.05 0 2.83L4 21.41c.39.39.9.59 1.41.59.51 0 1.02-.2 1.41-.59l7.78-7.78 2.81-2.81c.8-.78.8-2.07 0-2.86zM5.41 20L4 18.59l7.72-7.72 1.47 1.35L5.41 20z\"/>\n",
              "  </svg>\n",
              "      </button>\n",
              "      \n",
              "  <style>\n",
              "    .colab-df-container {\n",
              "      display:flex;\n",
              "      flex-wrap:wrap;\n",
              "      gap: 12px;\n",
              "    }\n",
              "\n",
              "    .colab-df-convert {\n",
              "      background-color: #E8F0FE;\n",
              "      border: none;\n",
              "      border-radius: 50%;\n",
              "      cursor: pointer;\n",
              "      display: none;\n",
              "      fill: #1967D2;\n",
              "      height: 32px;\n",
              "      padding: 0 0 0 0;\n",
              "      width: 32px;\n",
              "    }\n",
              "\n",
              "    .colab-df-convert:hover {\n",
              "      background-color: #E2EBFA;\n",
              "      box-shadow: 0px 1px 2px rgba(60, 64, 67, 0.3), 0px 1px 3px 1px rgba(60, 64, 67, 0.15);\n",
              "      fill: #174EA6;\n",
              "    }\n",
              "\n",
              "    [theme=dark] .colab-df-convert {\n",
              "      background-color: #3B4455;\n",
              "      fill: #D2E3FC;\n",
              "    }\n",
              "\n",
              "    [theme=dark] .colab-df-convert:hover {\n",
              "      background-color: #434B5C;\n",
              "      box-shadow: 0px 1px 3px 1px rgba(0, 0, 0, 0.15);\n",
              "      filter: drop-shadow(0px 1px 2px rgba(0, 0, 0, 0.3));\n",
              "      fill: #FFFFFF;\n",
              "    }\n",
              "  </style>\n",
              "\n",
              "      <script>\n",
              "        const buttonEl =\n",
              "          document.querySelector('#df-f90612d3-2c4d-402e-a822-1462dc3e41c8 button.colab-df-convert');\n",
              "        buttonEl.style.display =\n",
              "          google.colab.kernel.accessAllowed ? 'block' : 'none';\n",
              "\n",
              "        async function convertToInteractive(key) {\n",
              "          const element = document.querySelector('#df-f90612d3-2c4d-402e-a822-1462dc3e41c8');\n",
              "          const dataTable =\n",
              "            await google.colab.kernel.invokeFunction('convertToInteractive',\n",
              "                                                     [key], {});\n",
              "          if (!dataTable) return;\n",
              "\n",
              "          const docLinkHtml = 'Like what you see? Visit the ' +\n",
              "            '<a target=\"_blank\" href=https://colab.research.google.com/notebooks/data_table.ipynb>data table notebook</a>'\n",
              "            + ' to learn more about interactive tables.';\n",
              "          element.innerHTML = '';\n",
              "          dataTable['output_type'] = 'display_data';\n",
              "          await google.colab.output.renderOutput(dataTable, element);\n",
              "          const docLink = document.createElement('div');\n",
              "          docLink.innerHTML = docLinkHtml;\n",
              "          element.appendChild(docLink);\n",
              "        }\n",
              "      </script>\n",
              "    </div>\n",
              "  </div>\n",
              "  "
            ]
          },
          "metadata": {},
          "execution_count": 2
        }
      ]
    },
    {
      "cell_type": "code",
      "source": [
        "t=np.array(Datos.tiempo)\n",
        "i=np.array(Datos.Corriente)\n"
      ],
      "metadata": {
        "id": "ZL0jKAJdYr-d"
      },
      "execution_count": 3,
      "outputs": []
    },
    {
      "cell_type": "code",
      "source": [
        "# Hallar la derivada de la corriente i, con respecto al tiempo:\n",
        "\n",
        "I_cs=sc.interpolate.CubicSpline(t,i) # Interpolamos los datos con el metodod asociado a los splines cubicos\n",
        "\n",
        "di=derivative(I_cs,t,dx=0.1010101010101)\n",
        "\n",
        "plt.plot(t,I_cs(t),label='$ i(t) $') \n",
        "plt.plot(t,di,label='$ di(t)/dt $')\n",
        "plt.xlim(0,10)\n",
        "plt.ylim(0,0.8)\n",
        "plt.legend()\n",
        "plt.grid()\n",
        "\n",
        "\n"
      ],
      "metadata": {
        "colab": {
          "base_uri": "https://localhost:8080/",
          "height": 490
        },
        "id": "44pxpZ6iQoA9",
        "outputId": "7aaa6bb7-f16a-4896-fcca-5ad881410ff0"
      },
      "execution_count": 5,
      "outputs": [
        {
          "output_type": "stream",
          "name": "stderr",
          "text": [
            "<ipython-input-5-4c68620c0efc>:5: DeprecationWarning: scipy.misc.derivative is deprecated in SciPy v1.10.0; and will be completely removed in SciPy v1.12.0. You may consider using findiff: https://github.com/maroba/findiff or numdifftools: https://github.com/pbrod/numdifftools\n",
            "  di=derivative(I_cs,t,dx=0.1010101010101)\n"
          ]
        },
        {
          "output_type": "display_data",
          "data": {
            "text/plain": [
              "<Figure size 640x480 with 1 Axes>"
            ],
            "image/png": "[encoded data removed]"
          },
          "metadata": {}
        }
      ]
    },
    {
      "cell_type": "code",
      "source": [
        "# Ahora pasamos a calcular la fuerza electromotiz\n",
        "\n",
        "L=0.98  # Inductancia en henrios\n",
        "R=0.142 # Resistencia en ohmios\n",
        "\n",
        "fem =L*di + R*i\n",
        "fem"
      ],
      "metadata": {
        "id": "XpLYPqE9aE0r",
        "colab": {
          "base_uri": "https://localhost:8080/"
        },
        "outputId": "b67caa7c-d634-449f-adc3-6db45f06e0fa"
      },
      "execution_count": 6,
      "outputs": [
        {
          "output_type": "execute_result",
          "data": {
            "text/plain": [
              "array([0.14203388, 0.14203356, 0.14203308, 0.1420326 , 0.14203212,\n",
              "       0.14203165, 0.14203119, 0.14203074, 0.14203029, 0.14202985,\n",
              "       0.14202942, 0.14202899, 0.14202857, 0.14202816, 0.14202775,\n",
              "       0.14202734, 0.14202695, 0.14202655, 0.14202617, 0.14202579,\n",
              "       0.14202541, 0.14202504, 0.14202468, 0.14202432, 0.14202397,\n",
              "       0.14202362, 0.14202328, 0.14202294, 0.14202261, 0.14202228,\n",
              "       0.14202195, 0.14202163, 0.14202132, 0.14202101, 0.1420207 ,\n",
              "       0.1420204 , 0.14202011, 0.14201981, 0.14201953, 0.14201924,\n",
              "       0.14201896, 0.14201869, 0.14201842, 0.14201815, 0.14201788,\n",
              "       0.14201762, 0.14201737, 0.14201712, 0.14201687, 0.14201662,\n",
              "       0.14201638, 0.14201614, 0.14201591, 0.14201568, 0.14201545,\n",
              "       0.14201522, 0.142015  , 0.14201479, 0.14201457, 0.14201436,\n",
              "       0.14201415, 0.14201394, 0.14201374, 0.14201354, 0.14201335,\n",
              "       0.14201315, 0.14201296, 0.14201277, 0.14201259, 0.1420124 ,\n",
              "       0.14201222, 0.14201205, 0.14201187, 0.1420117 , 0.14201153,\n",
              "       0.14201136, 0.1420112 , 0.14201103, 0.14201087, 0.14201071,\n",
              "       0.14201056, 0.14201041, 0.14201025, 0.1420101 , 0.14200996,\n",
              "       0.14200981, 0.14200967, 0.14200953, 0.14200939, 0.14200926,\n",
              "       0.14200912, 0.14200899, 0.14200886, 0.14200873, 0.1420086 ,\n",
              "       0.14200848, 0.14200835, 0.14200823, 0.14200811, 0.14200804])"
            ]
          },
          "metadata": {},
          "execution_count": 6
        }
      ]
    },
    {
      "cell_type": "code",
      "source": [
        "plt.plot(t,fem,label='$ ε(t) $')\n",
        "plt.legend()\n",
        "plt.grid()"
      ],
      "metadata": {
        "colab": {
          "base_uri": "https://localhost:8080/",
          "height": 445
        },
        "id": "cyxP0D9VLcsD",
        "outputId": "a07f7aef-0c54-4a14-8098-726f69f0ceaa"
      },
      "execution_count": 8,
      "outputs": [
        {
          "output_type": "display_data",
          "data": {
            "text/plain": [
              "<Figure size 640x480 with 1 Axes>"
            ],
            "image/png": "[encoded data removed]"
          },
          "metadata": {}
        }
      ]
    },
    {
      "cell_type": "markdown",
      "source": [
        "# Parte 2\n"
      ],
      "metadata": {
        "id": "JMsE7uoZraam"
      }
    },
    {
      "cell_type": "markdown",
      "source": [
        "*1. Escribir en código Markdown la expresión para calcular una integral con la regla del trapecio:*\n",
        "\n",
        "**Ecuación del método de los trapecios:**\n",
        "\n",
        "\\begin{equation}\n",
        "T_n =\\frac{h}{2} [f(a)  + 2\\sum_{i=1}^{n-1}f(x_{i}) +f(b) ]\n",
        "\\end{equation}\n",
        "\n",
        "\\begin{equation}\n",
        "h=\\frac{b-a}{n}\n",
        "\\end{equation}\n",
        "\n",
        "\\begin{equation}\n",
        "Error = \\frac{(b-a)^3}{12 n^2}\\max_{a \\leq \\xi \\leq b} f^{''} (\\xi)\n",
        "\\end{equation}\n",
        "\n",
        "\n"
      ],
      "metadata": {
        "id": "XBxEgXHyrezW"
      }
    },
    {
      "cell_type": "markdown",
      "source": [
        "*2. Escribir en código Markdown la expresión para calcular una integral con la regla del simpson*\n",
        "\n",
        "\n",
        "**Ecuación del método de Simpson compuesto:**\n",
        "\n",
        "\\begin{equation}\n",
        "S_n = \\frac{h}{3}\\sum_{i=1}^{n/2}[f(x_{i-1}) + 4f(x_{i}) + f(x_{i+1})]\n",
        "\\end{equation}\n",
        "\n",
        "\\begin{equation}\n",
        "h=\\frac{b-a}{n},\\ n\\  par\n",
        "\\end{equation}\n",
        "\n",
        "\\begin{equation}\n",
        "Error = \\frac{(b-a)^5}{180 n^4}\\max_{a \\leq \\xi \\leq b} f^{(4)} (\\xi)\n",
        "\\end{equation}\n",
        "\n"
      ],
      "metadata": {
        "id": "Swn2uITjro_V"
      }
    },
    {
      "cell_type": "markdown",
      "source": [
        "3. Escribir en código Markdown la expresión para calcular una integral con el metodo de cuadratura.\n",
        "\n",
        "\\begin{equation}\n",
        "Q_n = \\frac{h}{2}\\sum_{i=1}^{n}[w_{i}f(\\frac{b-a}{2}ξ_{i} +\\frac{a+b}{2}) ]\n",
        "\\end{equation}\n",
        "\n",
        "\\begin{equation}\n",
        "h=\\frac{b-a}{n},\\\n",
        "\\end{equation}\n",
        "\n",
        "\n",
        "\\begin{equation}\n",
        "w_i = \\frac{2}{(1-x^2)[P'_n(x_i)]^2}\n",
        "\\end{equation}\n",
        "\n",
        "Donde $x_i$ representa la i-esima raiz delpolinomio de Legendre normalizado"
      ],
      "metadata": {
        "id": "DdXhx7h6rtw9"
      }
    },
    {
      "cell_type": "markdown",
      "source": [
        "##4. Calcular una aproximación con el metodo 1,2,3 de las siguientes integrales,garantizando  que el error sea menor a $\\varepsilon=1E-5$.  \n",
        "\n",
        "<!-- \n",
        " $$\n",
        " \\int_0^\\pi e^{1-\\sqrt{x}}\\, dx\n",
        " $$  -->\n",
        "\n",
        "\n",
        "- $$\n",
        " \\int_0^{\\pi/2} \\frac{1}{\\sqrt{\\tan x}}\\, dx\n",
        " $$\n",
        "\n",
        "- \n",
        "$$\n",
        " \\int_{-\\infty}^{\\infty} \\frac{1}{1+x^2} \\, dx\n",
        " $$\n",
        "\n",
        "\n",
        "- \n",
        "\n",
        "$$\n",
        " \\int_{0}^{\\pi/4} \\int_{\\sin x}^{\\cos x} (2y\\sin x +\\cos^2 x)\\, dxdy\n",
        " $$\n",
        "\n",
        "<!-- \n",
        "- \n",
        "$$\n",
        " \\int_{-\\infty}^{\\infty} \\frac{1}{1+x^2} \\, dx\n",
        " $$ -->\n",
        "\n",
        "<!-- \n",
        "- \n",
        "$$\n",
        " \\int_{e}^{2e} \\frac{1}{\\ln x} \\, dx\n",
        " $$ -->\n",
        "\n",
        "\n"
      ],
      "metadata": {
        "id": "sgcNW0-lsF2s"
      }
    },
    {
      "cell_type": "code",
      "execution_count": 9,
      "metadata": {
        "id": "fNNgUGGerRr3",
        "cellView": "form"
      },
      "outputs": [],
      "source": [
        "#@title Librerias\n",
        "\n",
        "from scipy import integrate\n",
        "from scipy.misc import derivative\n",
        "import numpy as np\n",
        "import matplotlib.pylab as plt\n",
        "import sympy as sp"
      ]
    },
    {
      "cell_type": "code",
      "source": [
        "#@title Definicion de modulos de integracion\n",
        "# Definimos en este bloque los metodos que nos permitiran resolver las integrales:\n",
        "\n",
        "def Integral_Trapz(f,a,b, N=10):\n",
        "  \n",
        "  x=np.linspace(a,b,N+1)                                  \n",
        "  T_n=integrate.trapezoid(f(x),x)\n",
        "\n",
        "  return T_n\n",
        "\n",
        "\n",
        "def Integral_Simpson(f,a,b,N=10):\n",
        "\n",
        "  x=np.linspace(a,b,N+1)                                  \n",
        "  S_n=integrate.simpson(f(x),x)\n",
        "\n",
        "  return S_n\n",
        "\n",
        "\n",
        "def Integral_Quad(f,a,b):\n",
        "  Q_n=integrate.quad(f,a,b)\n",
        "  return Q_n[0]"
      ],
      "metadata": {
        "id": "2kl8-N0_uVda",
        "cellView": "form"
      },
      "execution_count": 10,
      "outputs": []
    },
    {
      "cell_type": "markdown",
      "source": [
        " \n",
        " \n",
        " \n",
        "##-$$\n",
        " I_1 =\\int_0^{\\pi/2} \\frac{1}{\\sqrt{\\tan x}}\\, dx\n",
        " $$\n",
        " \n",
        "\n",
        "\n",
        "\n"
      ],
      "metadata": {
        "id": "31zdx7s6NeoT"
      }
    },
    {
      "cell_type": "code",
      "source": [
        "# Consideremos la primera integral:\n",
        "\n",
        "f1= lambda x: 1/(np.tan(x))**(0.5)\n",
        "a=0\n",
        "b=np.pi/2\n",
        "x=np.linspace(a,b,100)\n",
        "\n",
        "\n",
        "\n",
        "#Como la funcion en el integrando presenta inconvenientes en los extremos del intervalo de integracion, se vuelve necesario analizar el comportamiento de la convergencia de la integral en las cercanias de dichos extremos.\n",
        "\n",
        "N=100 #@param {type:\"number\"}\n",
        "epsilon=1E-4\n",
        "\n",
        "\n",
        "\n",
        "@np.vectorize # Vectorizacion de la funcion de analisis de convergencia de la integral\n",
        "def area_trapecio_f1(N,epsilon):\n",
        "  x=np.linspace(a+epsilon,b-epsilon,100)\n",
        "  area=integrate.trapezoid(f1(x),x)\n",
        "  return area\n",
        "\n",
        "ep=np.linspace(1E-6,1E-3,10)\n",
        "t1=area_trapecio_f1(N,ep)\n",
        "\n",
        "\n",
        "plt.figure(figsize=(3, 3))\n",
        "plt.plot(ep, t1, label=f\"N={N}\")\n",
        "plt.xlabel(\"epsilon\")\n",
        "plt.ylabel(\"Convergencia\")\n",
        "plt.xticks(fontsize=7)\n",
        "plt.legend()"
      ],
      "metadata": {
        "colab": {
          "base_uri": "https://localhost:8080/",
          "height": 0
        },
        "id": "fPOYptZgraSu",
        "outputId": "b3841d73-06d5-4e92-a21a-7138b9180cd5",
        "cellView": "form"
      },
      "execution_count": 11,
      "outputs": [
        {
          "output_type": "execute_result",
          "data": {
            "text/plain": [
              "<matplotlib.legend.Legend at 0x7f2859afe620>"
            ]
          },
          "metadata": {},
          "execution_count": 11
        },
        {
          "output_type": "display_data",
          "data": {
            "text/plain": [
              "<Figure size 300x300 with 1 Axes>"
            ],
            "image/png": "[encoded data removed]"
          },
          "metadata": {}
        }
      ]
    },
    {
      "cell_type": "code",
      "source": [
        "#@title Metodo de los trapecios:\n",
        "\n",
        "f1= lambda x: 1/(np.tan(x))**(0.5)\n",
        "epsilon=1e-3                        # En base al resultado que podemos observar en la grafica de convergencia, escogemos el valor epsilon = 10^-3 \n",
        "a=0\n",
        "b=np.pi/2\n",
        "\n",
        "a=a+epsilon\n",
        "b=b-epsilon\n",
        "\n",
        "x=np.linspace(a,b,100)\n",
        "plt.plot(x,f1(x),label='$ f(x)=1/sqrt(tan(x)) $')\n",
        "plt.legend()\n",
        "\n",
        "\n",
        "Tn1= Integral_Trapz(f1,a,b,N=100)\n",
        "print(f'Tn1={Tn1}')\n",
        "\n",
        "\n",
        "\n",
        "\n",
        "# Numero de subintervalos necesarios para garantizar que el error de la estimacion sea menor que  ϵ=1e-5\n",
        "ϵ=1e-5\n",
        "x=np.linspace(a,b,100)\n",
        "\n",
        "\n",
        "\n",
        "\n",
        "f1_s= lambda X: 1/sp.sqrt(sp.tan(X))\n",
        "X=sp.symbols('X')\n",
        "\n",
        "D1f1_s=sp.diff(f1_s(X),X,1)\n",
        "D2f1_s=sp.diff(f1_s(X),X,2)\n",
        "\n",
        "\n",
        "D2f1_n=sp.lambdify(X,D2f1_s,'numpy')\n",
        "\n",
        "M=D2f1_n(x).max()\n",
        "\n",
        "\n",
        "#N=((M*(b-a)**3)/(12*ϵ))**0.5\n",
        "\n",
        "\n"
      ],
      "metadata": {
        "id": "s_qDql_Nctep",
        "colab": {
          "base_uri": "https://localhost:8080/",
          "height": 0
        },
        "outputId": "892495b4-47c2-4ef1-8a6b-d79fc27a830f",
        "cellView": "form"
      },
      "execution_count": 12,
      "outputs": [
        {
          "output_type": "stream",
          "name": "stdout",
          "text": [
            "Tn1=2.2761406034776708\n"
          ]
        },
        {
          "output_type": "display_data",
          "data": {
            "text/plain": [
              "<Figure size 640x480 with 1 Axes>"
            ],
            "image/png": "[encoded data removed]"
          },
          "metadata": {}
        }
      ]
    },
    {
      "cell_type": "code",
      "source": [
        "#@title Metodo de Simpson:\n",
        "Sn1= Integral_Simpson(f1,a,b,N=100)\n",
        "print(f'Sn1={Sn1}')"
      ],
      "metadata": {
        "id": "05naucjkhcCy",
        "colab": {
          "base_uri": "https://localhost:8080/"
        },
        "cellView": "form",
        "outputId": "5e2ad9ea-e4a4-483c-a6bd-276496fafd8f"
      },
      "execution_count": 13,
      "outputs": [
        {
          "output_type": "stream",
          "name": "stdout",
          "text": [
            "Sn1=2.2179250804585293\n"
          ]
        }
      ]
    },
    {
      "cell_type": "code",
      "source": [
        "#@title Metodo de Cuadratura\n",
        "a=0\n",
        "b=np.pi/2\n",
        "Qn1=Integral_Quad(f1,a,b)\n",
        "print(f'Qn1={Qn1}')"
      ],
      "metadata": {
        "colab": {
          "base_uri": "https://localhost:8080/"
        },
        "cellView": "form",
        "id": "O2mOobyjAvhO",
        "outputId": "9b8c596b-cce4-4968-dce6-3d764e351be8"
      },
      "execution_count": 14,
      "outputs": [
        {
          "output_type": "stream",
          "name": "stdout",
          "text": [
            "Qn1=2.2214414690792026\n"
          ]
        }
      ]
    },
    {
      "cell_type": "code",
      "source": [],
      "metadata": {
        "id": "ZYKq6D_itqiI"
      },
      "execution_count": 14,
      "outputs": []
    },
    {
      "cell_type": "markdown",
      "source": [
        " \n",
        "##$$\n",
        " I_2 =\\int_{-\\infty}^{\\infty} \\frac{1}{1+x^2} \\, dx\n",
        " $$"
      ],
      "metadata": {
        "id": "ngpp6pxMOOOg"
      }
    },
    {
      "cell_type": "code",
      "source": [
        "# Consideremos la SEGUNDA integral:\n",
        "\n",
        "f2= lambda x: 1/(1+x**2)\n",
        "\n",
        "# Antes de encontrar el valor de esta integral,se analiza el comportamiento de la convergencia para varios valores de definición del infinito\n",
        "\n",
        "a=np.linspace(20,2000,10)\n",
        "area=np.zeros(len(a))\n",
        "i=0\n",
        "\n",
        "for t in a:\n",
        "  x=np.linspace(-t,t,10000)\n",
        "  area[i]=integrate.trapz(f2(x),x)\n",
        "  i=i+1\n",
        "\n",
        "\n",
        "\n",
        "\n",
        "\n",
        "\n",
        "plt.plot(a,area)\n",
        "plt.xlabel('Valores de definicion del \"infinito\" ')\n",
        "plt.ylabel('Convergencia de I_2')"
      ],
      "metadata": {
        "colab": {
          "base_uri": "https://localhost:8080/",
          "height": 0
        },
        "id": "DtAWmnhDOebh",
        "outputId": "91f9bd43-6c7c-4aab-a3fc-6efdac4172ff"
      },
      "execution_count": 15,
      "outputs": [
        {
          "output_type": "execute_result",
          "data": {
            "text/plain": [
              "Text(0, 0.5, 'Convergencia de I_2')"
            ]
          },
          "metadata": {},
          "execution_count": 15
        },
        {
          "output_type": "display_data",
          "data": {
            "text/plain": [
              "<Figure size 640x480 with 1 Axes>"
            ],
            "image/png": "[encoded data removed]"
          },
          "metadata": {}
        }
      ]
    },
    {
      "cell_type": "code",
      "source": [
        "#@title Metodo de los trapecios:\n",
        "\n",
        "f2= lambda x: 1/(1+x**2)\n",
        "inf=2000\n",
        "a=-inf\n",
        "b=inf\n",
        "\n",
        "x=np.linspace(-30,30,1000)\n",
        "plt.plot(x,f2(x),label='$ f(x)=1/(x^2 + 1)) $',color='green')\n",
        "plt.legend()\n",
        "\n",
        "\n",
        "Tn2=Integral_Trapz(f2,a,b,10000)\n",
        "print(f'Tn2= {Tn2}')\n",
        "\n",
        "\n",
        "# Numero de subintervalos necesarios para garantizar que el error de la estimacion sea menor que  ϵ=1e-5 (TRAPECIOS)\n",
        "\n",
        "\n",
        "f2_s= lambda X: 1/(1+X**2)\n",
        "X=sp.symbols('X')\n",
        "\n",
        "D1f2_s=sp.diff(f2_s(X),X,1)\n",
        "D2f2_s=sp.diff(f2_s(X),X,2)\n",
        "\n",
        "D2f2_n=sp.lambdify(X,D2f2_s,'numpy')\n",
        "\n",
        "ϵ=1e-5\n",
        "inf=30 # asignamos este valor al infinito,  para poder graficar la segunda derivada del integrandoy obtener su valor maximo en tal intervalo\n",
        "a=-inf\n",
        "b=inf\n",
        "x=np.linspace(a,b,10000)\n",
        "plt.plot(x,D2f2_n(x),label='$ D^2f_2(x)$')\n",
        "plt.legend()\n",
        "\n",
        "\n",
        "\n",
        "Mt=abs(D2f2_n(x).min())\n",
        "\n",
        "N=((Mt*(b-a)**3)/(12*ϵ))**0.5\n",
        "\n",
        "print(f'N={N.round()}')\n"
      ],
      "metadata": {
        "colab": {
          "base_uri": "https://localhost:8080/",
          "height": 0
        },
        "id": "PV7W2fQ3VXnQ",
        "outputId": "a3bd6a1f-2efe-4248-cc7e-b8ac0e79a078",
        "cellView": "form"
      },
      "execution_count": 16,
      "outputs": [
        {
          "output_type": "stream",
          "name": "stdout",
          "text": [
            "Tn2= 3.140593600553483\n",
            "N=59998.0\n"
          ]
        },
        {
          "output_type": "display_data",
          "data": {
            "text/plain": [
              "<Figure size 640x480 with 1 Axes>"
            ],
            "image/png": "[encoded data removed]"
          },
          "metadata": {}
        }
      ]
    },
    {
      "cell_type": "code",
      "source": [
        "#@title Metodo de Simpson:\n",
        "\n",
        "f2= lambda x: 1/(1+x**2)\n",
        "inf=2000\n",
        "a=-inf\n",
        "b=inf\n",
        "\n",
        "Sn2=Integral_Simpson(f2,a,b,300000)\n",
        "print(f'Sn2= {Sn2}')\n",
        "\n",
        "# Numero de subintervalos necesarios para garantizar que el error de la estimacion sea menor que  ϵ=1e-5 (SIMPSON)\n",
        "\n",
        "f2_s= lambda X: 1/(1+X**2)\n",
        "X=sp.symbols('X')\n",
        "D4f2_s=sp.diff(f2_s(X),X,4)\n",
        "\n",
        "D4f2_n=sp.lambdify(X,D4f2_s,'numpy')\n",
        "\n",
        "ϵ=1e-5\n",
        "inf=30 # asignamos este valor al infinito,  para poder graficar la segunda derivada del integrandoy obtener su valor maximo en tal intervalo\n",
        "a=-inf\n",
        "b=inf\n",
        "x=np.linspace(a,b,10000)\n",
        "\n",
        "\n",
        "plt.plot(x,D4f2_n(x),label='$ D^4f_2(x)$')\n",
        "plt.legend()\n",
        "\n",
        "Ms=D4f2_n(x).max()\n",
        "\n",
        "N=((Ms*(2000-(-2000))**5)/(180*ϵ))**0.25\n",
        "print(f'N={N}')"
      ],
      "metadata": {
        "colab": {
          "base_uri": "https://localhost:8080/",
          "height": 0
        },
        "id": "WNiBW4H6ZGaB",
        "outputId": "98eddfa3-8c61-4f26-f251-cecdfcdb622e",
        "cellView": "form"
      },
      "execution_count": 17,
      "outputs": [
        {
          "output_type": "stream",
          "name": "stdout",
          "text": [
            "Sn2= 3.140592653673127\n",
            "N=341818.06596056424\n"
          ]
        },
        {
          "output_type": "display_data",
          "data": {
            "text/plain": [
              "<Figure size 640x480 with 1 Axes>"
            ],
            "image/png": "[encoded data removed]"
          },
          "metadata": {}
        }
      ]
    },
    {
      "cell_type": "code",
      "source": [
        "#@title Metodo de Quadratura:\n",
        "f2= lambda x: 1/(1+x**2)\n",
        "inf=np.inf\n",
        "a=-inf\n",
        "b=inf\n",
        "\n",
        "Qn2=Integral_Quad(f2,a,b)\n",
        "print(f'Qn2= {Qn2}')"
      ],
      "metadata": {
        "colab": {
          "base_uri": "https://localhost:8080/"
        },
        "id": "rFYYoEHtfdjS",
        "outputId": "8c7326c0-19d3-4a03-df5d-ab0cf17375aa",
        "cellView": "form"
      },
      "execution_count": 18,
      "outputs": [
        {
          "output_type": "stream",
          "name": "stdout",
          "text": [
            "Qn2= 3.141592653589793\n"
          ]
        }
      ]
    },
    {
      "cell_type": "markdown",
      "source": [
        "\n",
        "\n",
        "##$$\n",
        " I_3=\\int_{0}^{\\pi/4} \\int_{\\sin x}^{\\cos x} (2y\\sin x +\\cos^2 x)\\, dxdy\n",
        " $$"
      ],
      "metadata": {
        "id": "Pkr3nsTtO2G2"
      }
    },
    {
      "cell_type": "code",
      "source": [
        "def F(x,y):\n",
        "  z=2*y*np.sin(x)+(np.cos(x))**2\n",
        "  return z\n",
        "\n",
        "a=0\n",
        "b=np.pi/4\n",
        "x=np.linspace(a,b,100)\n"
      ],
      "metadata": {
        "id": "vEXGAy1bPB5d"
      },
      "execution_count": 19,
      "outputs": []
    },
    {
      "cell_type": "code",
      "source": [
        "#@title Metodo del trapecio\n",
        "\n",
        "@np.vectorize \n",
        "def area_trapecio_F(x,N=100):\n",
        "  y=np.linspace(np.sin(x),np.cos(x),N)\n",
        "  z=F(x,y)\n",
        "  area=integrate.trapezoid(z,y)\n",
        "  return area\n",
        "\n",
        "a=0\n",
        "b=np.pi/4\n",
        "x=np.linspace(a,b,100)\n",
        "A=area_trapecio_F(x,N=100)\n",
        "\n",
        "Tn3=integrate.trapz(A,x)\n",
        "print(f'Tn3={Tn3}')"
      ],
      "metadata": {
        "colab": {
          "base_uri": "https://localhost:8080/"
        },
        "id": "x8t6aP9gMm5i",
        "outputId": "6da3376a-15a3-4412-838e-074cdc2b556a"
      },
      "execution_count": 20,
      "outputs": [
        {
          "output_type": "stream",
          "name": "stdout",
          "text": [
            "Tn3=0.5118335093392186\n"
          ]
        }
      ]
    },
    {
      "cell_type": "code",
      "source": [
        "#@title Metodo del Simpson\n",
        "@np.vectorize \n",
        "def area_simpson_F(x,N=100):\n",
        "  y=np.linspace(np.sin(x),np.cos(x),N)\n",
        "  z=F(x,y)\n",
        "  area=integrate.simpson(z,y)\n",
        "  return area\n",
        "\n",
        "\n",
        "a=0\n",
        "b=np.pi/4\n",
        "x=np.linspace(a,b,100)\n",
        "A=area_trapecio_F(x,N=100)\n",
        "\n",
        "Sn3=integrate.trapz(A,x)\n",
        "print(f'Sn3={Sn3}')"
      ],
      "metadata": {
        "colab": {
          "base_uri": "https://localhost:8080/"
        },
        "id": "sXtZlaV7TCdM",
        "outputId": "62da94e4-1029-44ca-ce52-63b8c4727523"
      },
      "execution_count": 21,
      "outputs": [
        {
          "output_type": "stream",
          "name": "stdout",
          "text": [
            "Sn3=0.5118335093392186\n"
          ]
        }
      ]
    },
    {
      "cell_type": "code",
      "source": [
        "#@title Metodo de Quadratura\n",
        "\n",
        "from scipy.integrate import dblquad\n",
        "\n",
        "def F(x,y):\n",
        "  z=2*y*np.sin(x)+(np.cos(x))**2\n",
        "  return z\n",
        "a=0\n",
        "b=np.pi/4\n",
        "c=lambda x: np.sin(x)\n",
        "d=lambda x: np.cos(x)\n",
        "\n",
        "Qn3=dblquad(F,a,b,c,d)\n",
        "\n",
        "Qn3"
      ],
      "metadata": {
        "colab": {
          "base_uri": "https://localhost:8080/"
        },
        "id": "byiMogdtUN10",
        "outputId": "4fa4a4fc-4aaa-4226-8183-8cc4e4a1802d"
      },
      "execution_count": 22,
      "outputs": [
        {
          "output_type": "execute_result",
          "data": {
            "text/plain": [
              "(0.4041197515454243, 8.073391512546048e-15)"
            ]
          },
          "metadata": {},
          "execution_count": 22
        }
      ]
    },
    {
      "cell_type": "code",
      "source": [],
      "metadata": {
        "id": "mNVxncjIvR_H"
      },
      "execution_count": 22,
      "outputs": []
    },
    {
      "cell_type": "markdown",
      "source": [
        "\n",
        "##  *5*.\n",
        "Los siguientes problemas son ejemplos de aplicación de integrales elipticas en relacionadas con problemas de fisica.Es sencillo evaluar cualquier integral numericamente con las tecnicas de este capitulo, pero puede ser dificil saber si la respuesta obtenidad es correcta. Una forma de perfeccionar las habilidades de evaluacion de integrales es comparando las respuestas de los metodos de cuadratura y de expresiones de series de potencias o de aproximaciones polinomiales de precision conocida.   \n",
        "Como ayuda en este asunto, se presenta una aproxiimacion polinomial para una integral eliptica (Abramowitz and Stegun, 1972):\n",
        "\n",
        "\\begin{equation}\n",
        "K(m)=\\int_{0}^{\\pi/2} \\frac{\\mathrm{d\\phi}}{\\sqrt{1-m\\sin^2\\phi}}\n",
        "\\end{equation}\n",
        "\n",
        "\\begin{equation}\n",
        "\\approx a_0+a_1m_1+a_2m_2 - [ b_0+b_1m_1+b_2m_1^2]\\ln m_1 + \\epsilon(m) \n",
        "\\end{equation}\n",
        "\n",
        "\n",
        "\n",
        "$m_1 = 1-m$, \n",
        "\n",
        "$ 0 \\le m \\le1 $\n",
        "\n",
        "$\\epsilon(m)\\leq 3\\times 10^{-5}$\n",
        "\n",
        "\n",
        "\n",
        "$a_0 = 1.3862944$\n",
        "\n",
        "$b_0 = 0.5$\n",
        "\n",
        "$a_1 = 0.1119723$\n",
        "\n",
        "$b_1 = 0.1213478$\n",
        "\n",
        "$a_2 = 0.00725296$\n",
        "\n",
        "$b_2 = 0.0288729$\n",
        "\n"
      ],
      "metadata": {
        "id": "Z1jhSIq_2TqU"
      }
    },
    {
      "cell_type": "code",
      "source": [
        "#Definamos los parametros mostrados arriba:\n",
        "\n",
        "a0=1.3862944\n",
        "b0=0.5\n",
        "a1=0.1119723\n",
        "b1=0.1213478 \n",
        "a2=0.00725296 \n",
        "b2=0.0288729\n",
        "\n",
        "ϵ_m=3e-5\n",
        "\n",
        "m=np.linspace(0,1,100)\n",
        "m1=1-m\n",
        "\n",
        "P_K = a0 +a1*m1+ a2*m1 - (b0+b1*m1+b2*m1**2)*np.log(m1+1e-5) + ϵ_m\n",
        "P_K"
      ],
      "metadata": {
        "colab": {
          "base_uri": "https://localhost:8080/"
        },
        "id": "tyniTAeA6aCQ",
        "outputId": "2d44be7f-eeb2-42ca-8f71-bc48b3265264"
      },
      "execution_count": 23,
      "outputs": [
        {
          "output_type": "execute_result",
          "data": {
            "text/plain": [
              "array([1.50554316, 1.51092176, 1.51633114, 1.52177231, 1.52724631,\n",
              "       1.53275421, 1.53829713, 1.54387622, 1.54949265, 1.55514765,\n",
              "       1.56084249, 1.56657847, 1.57235694, 1.57817931, 1.58404703,\n",
              "       1.5899616 , 1.59592457, 1.60193755, 1.60800222, 1.61412032,\n",
              "       1.62029364, 1.62652405, 1.63281351, 1.63916402, 1.6455777 ,\n",
              "       1.65205673, 1.65860338, 1.66522003, 1.67190915, 1.67867332,\n",
              "       1.68551524, 1.69243771, 1.69944366, 1.70653618, 1.71371847,\n",
              "       1.72099389, 1.72836598, 1.73583842, 1.7434151 , 1.75110008,\n",
              "       1.75889766, 1.76681231, 1.7748488 , 1.78301211, 1.79130751,\n",
              "       1.79974056, 1.80831713, 1.81704344, 1.82592607, 1.834972  ,\n",
              "       1.84418863, 1.85358384, 1.86316598, 1.87294399, 1.88292736,\n",
              "       1.89312627, 1.90355157, 1.91421492, 1.92512882, 1.93630668,\n",
              "       1.94776298, 1.95951333, 1.97157458, 1.983965  , 1.99670443,\n",
              "       2.00981442, 2.02331851, 2.0372424 , 2.05161429, 2.06646516,\n",
              "       2.0818292 , 2.0977442 , 2.11425213, 2.13139977, 2.14923942,\n",
              "       2.16782989, 2.18723752, 2.20753759, 2.22881599, 2.25117126,\n",
              "       2.27471725, 2.2995864 , 2.32593406, 2.35394402, 2.38383593,\n",
              "       2.41587523, 2.45038677, 2.48777398, 2.52854628, 2.57335976,\n",
              "       2.62307931, 2.67887756, 2.7424004 , 2.81606101, 2.9036048 ,\n",
              "       3.0113133 , 3.15097496, 3.34908222, 3.69023859, 7.14278713])"
            ]
          },
          "metadata": {},
          "execution_count": 23
        }
      ]
    },
    {
      "cell_type": "code",
      "source": [
        "phi=np.linspace(0+1e-5,np.pi/2 -1e-5,100)\n",
        "m=np.linspace(0,1,100)\n",
        "\n",
        "\n",
        "\n",
        "@np.vectorize\n",
        "def K_m(m):\n",
        "  g= lambda ϕ:1/np.sqrt(1-m*(np.sin(ϕ))**2)\n",
        "  K_m=integrate.trapezoid(g(phi),phi)\n",
        "  #K_mm=integrate.quad(g,0+1e-5,np.pi/2 -1e-5)[0]  analizar depues\n",
        "  return K_m\n",
        "\n",
        "K_m(m)"
      ],
      "metadata": {
        "colab": {
          "base_uri": "https://localhost:8080/"
        },
        "id": "2BbyYGwV8rMo",
        "outputId": "b97c419f-4d75-4b0d-b774-0e842f6318cd"
      },
      "execution_count": 24,
      "outputs": [
        {
          "output_type": "execute_result",
          "data": {
            "text/plain": [
              "array([  1.57077633,   1.57476563,   1.57880097,   1.58288335,\n",
              "         1.58701379,   1.59119336,   1.59542313,   1.59970425,\n",
              "         1.60403788,   1.60842523,   1.61286755,   1.61736613,\n",
              "         1.62192231,   1.62653746,   1.63121304,   1.63595051,\n",
              "         1.64075143,   1.64561739,   1.65055004,   1.65555111,\n",
              "         1.66062238,   1.66576571,   1.67098302,   1.67627633,\n",
              "         1.68164772,   1.68709936,   1.69263352,   1.69825256,\n",
              "         1.70395892,   1.70975519,   1.71564403,   1.72162825,\n",
              "         1.72771077,   1.73389464,   1.74018307,   1.7465794 ,\n",
              "         1.75308716,   1.75971002,   1.76645185,   1.77331672,\n",
              "         1.78030889,   1.78743285,   1.79469333,   1.80209532,\n",
              "         1.80964408,   1.81734515,   1.82520441,   1.83322806,\n",
              "         1.84142268,   1.84979524,   1.85835313,   1.86710422,\n",
              "         1.87605688,   1.88522002,   1.89460314,   1.90421642,\n",
              "         1.91407071,   1.92417765,   1.93454976,   1.94520045,\n",
              "         1.9561442 ,   1.96739662,   1.97897458,   1.99089634,\n",
              "         2.00318175,   2.01585239,   2.02893178,   2.04244566,\n",
              "         2.05642223,   2.0708925 ,   2.08589067,   2.10145455,\n",
              "         2.11762615,   2.13445226,   2.15198522,   2.17028387,\n",
              "         2.18941459,   2.20945272,   2.23048416,   2.25260754,\n",
              "         2.27593675,   2.3006043 ,   2.3267656 ,   2.35460454,\n",
              "         2.38434086,   2.4162401 ,   2.45062725,   2.48790586,\n",
              "         2.52858554,   2.57332258,   2.62298216,   2.67873727,\n",
              "         2.74223432,   2.81588733,   2.90344309,   3.01118595,\n",
              "         3.15091096,   3.34913116,   3.69055877, 798.7342073 ])"
            ]
          },
          "metadata": {},
          "execution_count": 24
        }
      ]
    },
    {
      "cell_type": "code",
      "source": [
        "#Para evitar la division por 0, descartamos el ultimo valor de los arreglos\n",
        "m2=np.delete(m,-1)\n",
        "P_K2=np.delete(P_K,-1)\n",
        "K_m2=np.delete(K_m(m),-1)\n",
        "\n",
        "\n",
        "plt.plot(m2,P_K2,label='aprox. pol. de la int. eliptica')\n",
        "plt.plot(m2,K_m2,label='$ K_m(m) $')\n",
        "plt.legend()"
      ],
      "metadata": {
        "colab": {
          "base_uri": "https://localhost:8080/",
          "height": 0
        },
        "id": "bVfLt9Or_jIQ",
        "outputId": "726c0faf-6566-48ff-9a50-b631de8989fa"
      },
      "execution_count": 25,
      "outputs": [
        {
          "output_type": "execute_result",
          "data": {
            "text/plain": [
              "<matplotlib.legend.Legend at 0x7f288f948d30>"
            ]
          },
          "metadata": {},
          "execution_count": 25
        },
        {
          "output_type": "display_data",
          "data": {
            "text/plain": [
              "<Figure size 640x480 with 1 Axes>"
            ],
            "image/png": "[encoded data removed]"
          },
          "metadata": {}
        }
      ]
    },
    {
      "cell_type": "code",
      "source": [
        "# Mediante sympy\n",
        "\n",
        "#X,Y,Z=sp.symbols('x y z')\n",
        "#pi=sp.pi\n",
        "#sp.integrate( 2*Y*sp.sin(X)+(sp.cos(X))**2,  (Y,sp.sin(x),sp.cos(x)),  (X,0,pi/4)  )"
      ],
      "metadata": {
        "id": "NGOOn0dJhorh"
      },
      "execution_count": 26,
      "outputs": []
    },
    {
      "cell_type": "markdown",
      "source": [
        "##6. \n",
        "Considerar una espira de radio 'a' que transporta una corriente 'I'. El punto P esta a una distancia 'r' del centro de la espira con coordenadas esfericas (r, θ, φ).\n",
        "Hallar la componente φ del potencial vectorial en el punto P, en terminos de las integrales elipticas:\n",
        "\n",
        "\n",
        "\\begin{equation}\n",
        "A_{\\phi}(r, \\theta)=\\frac{\\mu_0}{4\\pi}\\frac{4Ia}{\\sqrt{a^2+r^2+2ar\\sin \\theta}}\\left(\\frac{(2-k^2)K(k)-2E(k)}{k^2} \\right)\n",
        "\\end{equation}\n",
        "\n",
        "\n",
        "donde:\n",
        "\n",
        "\\begin{equation}\n",
        "K(k)=\\int_{0}^{\\pi/2} \\frac{\\mathrm{d\\phi}}{\\sqrt{1-k^2\\sin^2\\phi}}\n",
        "\\end{equation}\n",
        "\n",
        "\n",
        "\\begin{equation}\n",
        "E(k)=\\int_{0}^{\\pi/2} \\mathrm{d\\phi} \\sqrt{1-k^2\\sin^2\\phi}\n",
        "\\end{equation}\n",
        "\n",
        "\n",
        "\\begin{equation}\n",
        "k^2=\\frac{4ar\\sin\\theta}{a^2+r^2+2ar\\sin\\theta}\n",
        "\\end{equation}\n",
        "\n",
        "\n",
        "\n",
        "Aqui K(k) es una integral eliptica completa de primer tipo y  E(k)  es una integral eliptica completa de segundo tipo . \n",
        "Para: a = 1, I = 3, μ_0∕4π = 1, calcular y graficar:\n",
        "\n",
        "a) Aφ(r = 1.1, θ) vs. θ\n",
        "\n",
        "b) Aφ(r, θ = π∕3) vs. r"
      ],
      "metadata": {
        "id": "JaRzLoWg460V"
      }
    },
    {
      "cell_type": "code",
      "source": [
        "#Definicion de los parametros del problema:\n",
        "a=1 \n",
        "I=3 \n",
        "kmag=1, # k_mag = μ_0∕4π \n",
        "\n",
        "\n",
        "r_=np.linspace(0,100,1000)\n",
        "θ_=np.linspace(0,np.pi,1000)\n",
        "k_sq=(4*a*r_*np.sin(θ_))/(a**2 + r_**2 +2*a*r_*np.sin(θ_))\n"
      ],
      "metadata": {
        "id": "tFrt277GDLMp"
      },
      "execution_count": 27,
      "outputs": []
    },
    {
      "cell_type": "code",
      "source": [
        "#Definicion de las integrales elipticas presentes en la componente φ del potencial vectorial:\n",
        "\n",
        "\n",
        "m=np.linspace(0,1,100)\n",
        "\n",
        "\n",
        "#Integral eliptica de 1ra especie:\n",
        "@np.vectorize\n",
        "def K_m(m):\n",
        "  g= lambda ϕ:1/np.sqrt(1-m*(np.sin(ϕ))**2)\n",
        "  K_m=integrate.trapezoid(g(phi),phi)\n",
        "  #K_mm=integrate.quad(g,0+1e-5,np.pi/2 -1e-5)[0]  analizar depues\n",
        "  return K_m\n",
        "\n",
        "\n",
        "\n",
        "#Integral eliptica de 2da especie:\n",
        "@np.vectorize\n",
        "def E_m(m):\n",
        "\n",
        "  phi=np.linspace(0+1e-5,np.pi/2 -1e-5,100)\n",
        "  g= lambda ϕ:np.sqrt(1-m*(np.sin(ϕ))**2)\n",
        "  E_m=integrate.trapezoid(g(phi),phi)\n",
        "  #K_mm=integrate.quad(g,0+1e-5,np.pi/2 -1e-5)[0]  analizar depues\n",
        "  return E_m\n",
        "\n"
      ],
      "metadata": {
        "id": "UoZLVCTWGMNI"
      },
      "execution_count": 28,
      "outputs": []
    },
    {
      "cell_type": "code",
      "source": [
        "\"\"\"\n",
        "\n",
        "#Calculo de la Componente ϕ del potencial vectorial:\n",
        "\n",
        "\n",
        "a1=(np.sqrt(a**2 + r_**2 + 2*a*r_*np.sin(θ_)))\n",
        "a2=((2-k_sq)*K_m(k_sq) - 2*E_m(k_sq))\n",
        "\n",
        "\n",
        "k_sq_v=np.delete(k_sq,0)\n",
        "a1=np.delete(a1,0)\n",
        "a2=np.delete(a2,0)\n",
        "\n",
        "\n",
        "\n",
        "\n",
        "\n",
        "A_ϕ=((4*I*a)/a1)*(a2/k_sq_v)\n",
        "\n",
        "\"\"\""
      ],
      "metadata": {
        "id": "3iUZ-TL42UZz",
        "colab": {
          "base_uri": "https://localhost:8080/",
          "height": 70
        },
        "outputId": "d540b772-a263-4721-dc1a-66522a22f95b"
      },
      "execution_count": 29,
      "outputs": [
        {
          "output_type": "execute_result",
          "data": {
            "text/plain": [
              "'\\n\\n#Calculo de la Componente ϕ del potencial vectorial:\\n\\n\\na1=(np.sqrt(a**2 + r_**2 + 2*a*r_*np.sin(θ_)))\\na2=((2-k_sq)*K_m(k_sq) - 2*E_m(k_sq))\\n\\n\\nk_sq_v=np.delete(k_sq,0)\\na1=np.delete(a1,0)\\na2=np.delete(a2,0)\\n\\n\\n\\n\\n\\nA_ϕ=((4*I*a)/a1)*(a2/k_sq_v)\\n\\n'"
            ],
            "application/vnd.google.colaboratory.intrinsic+json": {
              "type": "string"
            }
          },
          "metadata": {},
          "execution_count": 29
        }
      ]
    },
    {
      "cell_type": "code",
      "source": [
        "#Calculo de la Componente ϕ del potencial vectorial:\n",
        "\n",
        "def A_ϕ(r,θ):\n",
        "  \n",
        "  k_sq=((4*a*r*np.sin(θ))/(a**2 + r**2 +2*a*r*np.sin(θ)))\n",
        "  #k_sq=np.delete(k_sq,0)\n",
        "  \n",
        "  \n",
        "  a1=(np.sqrt(a**2 + r**2 + 2*a*r*np.sin(θ)))\n",
        "  a2=((2-k_sq)*K_m(k_sq) - 2*E_m(k_sq))\n",
        "  #a2=np.delete(a2,0)\n",
        "  \n",
        " \n",
        "  \n",
        "\n",
        "  Aphi=((4*I*a)/a1)*(a2/k_sq)\n",
        "\n",
        "  return Aphi\n",
        "\n",
        "\n",
        "#Arrastramos de nuevo los parametros del problema:\n",
        "a=1 \n",
        "I=3 \n",
        "kmag=1, # k_mag = μ_0∕4π \n",
        "\n",
        "\n",
        "r_=np.linspace(0,100,1000)\n",
        "θ_=np.linspace(0,np.pi,1000)\n",
        "\n"
      ],
      "metadata": {
        "id": "5A0S97P5389P"
      },
      "execution_count": 30,
      "outputs": []
    },
    {
      "cell_type": "code",
      "source": [
        " #len(A_ϕ(1.1,θ_))\n",
        " #len(A_ϕ(r_,np.pi/3))\n",
        "\n",
        "\n",
        "r1=np.delete(r_,0)\n",
        "θ1=np.delete(θ_,0)\n",
        "Aϕ1=np.delete(A_ϕ(1.1,θ_),0)\n",
        "Aϕ2=np.delete(A_ϕ(r_,np.pi/3),0)\n",
        "\n",
        "plt.plot(θ1,Aϕ1,color='blue')\n",
        "plt.xlabel('θ')\n",
        "plt.title('$ A_φ(r = 1.1, θ) vs. θ $')\n",
        "plt.grid()\n",
        "\n"
      ],
      "metadata": {
        "colab": {
          "base_uri": "https://localhost:8080/",
          "height": 509
        },
        "id": "JbSa-S_i7_G6",
        "outputId": "8734d4ca-67b9-46a9-843b-0d0c6f39d9de"
      },
      "execution_count": 41,
      "outputs": [
        {
          "output_type": "stream",
          "name": "stderr",
          "text": [
            "<ipython-input-30-e7120119280e>:16: RuntimeWarning: invalid value encountered in true_divide\n",
            "  Aphi=((4*I*a)/a1)*(a2/k_sq)\n"
          ]
        },
        {
          "output_type": "display_data",
          "data": {
            "text/plain": [
              "<Figure size 640x480 with 1 Axes>"
            ],
            "image/png": "[encoded data removed]"
          },
          "metadata": {}
        }
      ]
    },
    {
      "cell_type": "code",
      "source": [
        "plt.plot(r1,Aϕ2,color='green')\n",
        "plt.xlabel('r')\n",
        "plt.title('$ A_φ(r, θ = π∕3) vs. r $')\n",
        "plt.grid()\n"
      ],
      "metadata": {
        "colab": {
          "base_uri": "https://localhost:8080/",
          "height": 474
        },
        "id": "5PmEhmXtMLcy",
        "outputId": "2ae04194-36fc-46f9-8e08-7395f797ac1e"
      },
      "execution_count": 44,
      "outputs": [
        {
          "output_type": "display_data",
          "data": {
            "text/plain": [
              "<Figure size 640x480 with 1 Axes>"
            ],
            "image/png": "[encoded data removed]"
          },
          "metadata": {}
        }
      ]
    },
    {
      "cell_type": "markdown",
      "source": [
        "\\begin{equation}\n",
        "A_{\\phi}(r, \\theta)=\\frac{\\mu_0}{4\\pi}\\frac{4Ia}{\\sqrt{a^2+r^2+2ar\\sin \\theta}}\\left(\\frac{(2-k^2)K(k)-2E(k)}{k^2} \\right)\n",
        "\\end{equation}\n",
        "\n",
        "\n",
        "\n",
        "\\begin{equation}\n",
        "k^2=\\frac{4ar\\sin\\theta}{a^2+r^2+2ar\\sin\\theta}\n",
        "\\end{equation}"
      ],
      "metadata": {
        "id": "d69lSvz_2miU"
      }
    }
  ]
}