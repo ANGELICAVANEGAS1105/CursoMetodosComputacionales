{
  "cells": [
    {
      "cell_type": "markdown",
      "id": "6d26e874",
      "metadata": {
        "id": "6d26e874"
      },
      "source": [
        "<a href=\"https://colab.research.google.com/github/hernansalinas/autogrades/blob/main/Actividades_clase/Actividad_04_Binarios_Errores.ipynb\" target=\"_parent\"><img src=\"https://colab.research.google.com/assets/colab-badge.svg\" alt=\"Open In Colab\"/></a>\n",
        "\n",
        "\n",
        "\n",
        "# Actividad 4\n",
        "### Métodos computacionales para físicos  y astrónomos\n",
        "### Universidad de Antioquia\n",
        "### Prof: Hernan D. Salinas Jiménez\n"
      ]
    },
    {
      "cell_type": "code",
      "execution_count": null,
      "id": "eae80e3f",
      "metadata": {
        "id": "eae80e3f",
        "outputId": "8319424c-09a7-4925-98f2-2ac98d1ff941",
        "colab": {
          "base_uri": "https://localhost:8080/"
        }
      },
      "outputs": [
        {
          "output_type": "stream",
          "name": "stdout",
          "text": [
            "Cloning into 'autogrades'...\n",
            "remote: Enumerating objects: 353, done.\u001b[K\n",
            "remote: Counting objects: 100% (337/337), done.\u001b[K\n",
            "remote: Compressing objects: 100% (243/243), done.\u001b[K\n",
            "remote: Total 353 (delta 160), reused 243 (delta 86), pack-reused 16\u001b[K\n",
            "Receiving objects: 100% (353/353), 36.88 MiB | 18.57 MiB/s, done.\n",
            "Resolving deltas: 100% (165/165), done.\n"
          ]
        }
      ],
      "source": [
        "!git clone https://github.com/hernansalinas/autogrades.git\n",
        "#path=\"libs\"\n",
        "path=\"autogrades/Actividades_clase/libs\"\n",
        "%run -i {path}/libUnitTest.py"
      ]
    },
    {
      "cell_type": "code",
      "source": [
        "#NOTA:\n",
        "l=[1,2,5,6]\n",
        "st=''.join(map(str, l))      # Este metodo concatena los elementos de una lista , a modo de string.\n",
        "print(type(st))"
      ],
      "metadata": {
        "colab": {
          "base_uri": "https://localhost:8080/"
        },
        "id": "D50xcredE1hY",
        "outputId": "f09baf17-f8f8-42b2-ae70-c071a185d342"
      },
      "id": "D50xcredE1hY",
      "execution_count": null,
      "outputs": [
        {
          "output_type": "stream",
          "name": "stdout",
          "text": [
            "<class 'str'>\n"
          ]
        }
      ]
    },
    {
      "cell_type": "markdown",
      "id": "74f1131a",
      "metadata": {
        "id": "74f1131a"
      },
      "source": [
        "### Activity 1.0: \n",
        "\n",
        "Implement a function that get the binary representation of an integer with name *mybin*. The algorithm should return \n",
        "a string with 8 characters, the maximun number that represents the function is an integer of 8 bit. The name of function should be : \n",
        "*mybin(...)*\n",
        "\n",
        "example : \n",
        "\n",
        "b=mybin(x)\n",
        "\n",
        "b='00101000'"
      ]
    },
    {
      "cell_type": "code",
      "execution_count": null,
      "id": "4c8dabcf",
      "metadata": {
        "id": "4c8dabcf"
      },
      "outputs": [],
      "source": [
        "##!/usr/bin/env python3\n",
        "\n",
        "# SOLUCION PROPIA\n",
        "\n",
        "\n",
        "def mybin(x):\n",
        "    list_bin = []\n",
        "    #print('__name__ = {}'.format(__name__))\n",
        "   \n",
        "   # Write your code here and change the next line as required\n",
        "    \n",
        "    \n",
        "    while x>=1:\n",
        "      c= x//2\n",
        "      list_bin.append(str(x%2))\n",
        "      x=c\n",
        "\n",
        "\n",
        " \n",
        "    while len(list_bin)<8:   # This block ensures that the length of the resulting binary is only of 8 characters.\n",
        "      list_bin.append(\"0\")\n",
        "\n",
        "    list_bin= list_bin[::-1] # the resulting binary number should be the defined list in reversed order.\n",
        "    binary_str = ''.join(map(str, list_bin))  # This turns the final list into a string.\n",
        "\n",
        "\n",
        "\n",
        "    return binary_str "
      ]
    },
    {
      "cell_type": "code",
      "source": [
        "mybin(15)"
      ],
      "metadata": {
        "colab": {
          "base_uri": "https://localhost:8080/",
          "height": 35
        },
        "id": "7pZLA5bUCnBg",
        "outputId": "959915e5-3203-4c3e-b6c7-7a0c25fd9eef"
      },
      "id": "7pZLA5bUCnBg",
      "execution_count": null,
      "outputs": [
        {
          "output_type": "execute_result",
          "data": {
            "text/plain": [
              "'00001111'"
            ],
            "application/vnd.google.colaboratory.intrinsic+json": {
              "type": "string"
            }
          },
          "metadata": {},
          "execution_count": 4
        }
      ]
    },
    {
      "cell_type": "code",
      "source": [
        "mybin(70)"
      ],
      "metadata": {
        "colab": {
          "base_uri": "https://localhost:8080/",
          "height": 35
        },
        "id": "vZqP8qEgITaj",
        "outputId": "4a1cc285-49aa-4fc9-8a9d-537d6d9f938b"
      },
      "id": "vZqP8qEgITaj",
      "execution_count": null,
      "outputs": [
        {
          "output_type": "execute_result",
          "data": {
            "text/plain": [
              "'01000110'"
            ],
            "application/vnd.google.colaboratory.intrinsic+json": {
              "type": "string"
            }
          },
          "metadata": {},
          "execution_count": 5
        }
      ]
    },
    {
      "cell_type": "code",
      "execution_count": null,
      "id": "885be6fb",
      "metadata": {
        "id": "885be6fb",
        "outputId": "a3b4fd04-56a1-4b35-c871-f18c0288a1cb",
        "colab": {
          "base_uri": "https://localhost:8080/",
          "height": 215
        }
      },
      "outputs": [
        {
          "output_type": "display_data",
          "data": {
            "text/plain": [
              "<IPython.core.display.HTML object>"
            ],
            "text/html": [
              "<style>\n",
              "  table { text-align: left; border-collapse: collapse; margin: 1em; caption-side: bottom; font-family: Sans-Serif; font-size: 12px}\n",
              "  caption { text-align: left; padding: 5px }\n",
              "  th, td { border: 2px solid #BFC9CA; padding: 5px }\n",
              "  th { background-color: #BFC9CA }\n",
              "  .passed { background-color: #76D7C4 }\n",
              "  .failed { background-color: #EC7063 }\n",
              "  .skipped { background-color: #EDBB99 }\n",
              "  .score { background-color: #7DCEA0 }\n",
              "  .results .points { display: none }\n",
              "  .results .message { display: block; font-size:smaller; color:#D35400 }\n",
              "  .results .note { display: block; font-size:smaller; font-decoration:italics }\n",
              "  .results .passed::before  { content: \"Passed\" } \n",
              "  .results .skipped::before  { content: \"Skipped\" } \n",
              "  .results .failed::before  { content: \"Failed\" } \n",
              "  .grade .passed  .message:empty::before { content:\"Passed\" }\n",
              "  .grade .failed  .message:empty::before { content:\"Failed\" }\n",
              "  .grade .skipped .message:empty::before { content:\"Skipped\" }   \n",
              "</style>\n",
              "<table class='results'>\n",
              "  <th class='test'>Test</th><th class='result'>Result</th></tr>\n",
              "<tr>\n",
              "  <td class='test'>\n",
              "    La salida debe ser un string \n",
              "    <div class='message'>Done</div>\n",
              "  </td>\n",
              "  <td class='result passed'></td>\n",
              "</tr>\n",
              "<tr>\n",
              "  <td class='test'>\n",
              "    La longitud del string debe ser de 8 \n",
              "    <div class='message'>Done</div>\n",
              "  </td>\n",
              "  <td class='result passed'></td>\n",
              "</tr>\n",
              "<tr>\n",
              "  <td class='test'>\n",
              "    Para el número 140 su representacion es 10001100 \n",
              "    <div class='message'>Done</div>\n",
              "  </td>\n",
              "  <td class='result passed'></td>\n",
              "</tr>  <tr><th class='score'>Total Points</th><th class='score'>3</th></tr></table>\n"
            ]
          },
          "metadata": {}
        }
      ],
      "source": [
        "%run -i {path}/Act_02/test01.py"
      ]
    },
    {
      "cell_type": "code",
      "source": [
        "# SOLUCION DEL LIBRO GUIA\n",
        "\n",
        "x=47\n",
        "b=''\n",
        "while x!=0:\n",
        "    oldx=x\n",
        "    b=str(x%2)+b\n",
        "    x=x//2\n",
        "    print(f'x={oldx}/2={x} → b={b}')"
      ],
      "metadata": {
        "id": "UAYYPpKLZGtt",
        "colab": {
          "base_uri": "https://localhost:8080/"
        },
        "outputId": "48b9c387-bcf6-45a3-f4ee-2d89dbc71163"
      },
      "id": "UAYYPpKLZGtt",
      "execution_count": null,
      "outputs": [
        {
          "output_type": "stream",
          "name": "stdout",
          "text": [
            "x=47/2=23 → b=1\n",
            "x=23/2=11 → b=11\n",
            "x=11/2=5 → b=111\n",
            "x=5/2=2 → b=1111\n",
            "x=2/2=1 → b=01111\n",
            "x=1/2=0 → b=101111\n"
          ]
        }
      ]
    },
    {
      "cell_type": "markdown",
      "id": "e622b7b5",
      "metadata": {
        "id": "e622b7b5"
      },
      "source": [
        "### Activity 2.0: \n",
        "\n",
        "With the binary representation , try to implement the formula to recover the number.\n",
        "\n",
        "*Hint: Use as input the binary representation as a string and invert its order*\n",
        "\n",
        "```\n",
        "number32(BIN):\n",
        "\n",
        "```\n",
        "\n",
        "Where *BIN* is a string with the binary number\n",
        "\n",
        "Example: \n",
        "\n",
        "\n",
        "Test your solution for the next number:\n",
        "\n",
        "number32(\"00111110001000000000001000010000\")"
      ]
    },
    {
      "cell_type": "code",
      "execution_count": null,
      "id": "5f3c6506",
      "metadata": {
        "id": "5f3c6506"
      },
      "outputs": [],
      "source": [
        "\n",
        "\n",
        "def number32(BIN):\n",
        "  BIN_list= [ i for i in BIN] # This takes the string of 1s and 0s and turn it into list.\n",
        "  BIN_list = BIN_list[::-1]   # Reallocates the above variable with the recently created list but reversed, in order to easily manipulate the elements in the way indexes are set up.\n",
        "\n",
        "  BIN_num = [ int(n) for n in BIN_list] # This line convert every character into a integer type.\n",
        "\n",
        "\n",
        "  decimal_num = 0 # Inicializes a varaible with a 0 value, before getting into a loop.\n",
        "\n",
        "  for k in range(len(BIN_num)):\n",
        "\n",
        "    decimal_num  = decimal_num + BIN_num[k]*(2**k)\n",
        "\n",
        "\n",
        "\n",
        "\n",
        "\n",
        "\n",
        "  return float(decimal_num)#BIN_num "
      ]
    },
    {
      "cell_type": "code",
      "source": [
        "number32(\"0000111\")"
      ],
      "metadata": {
        "colab": {
          "base_uri": "https://localhost:8080/"
        },
        "id": "EEvdygq6M17V",
        "outputId": "4acbca56-7cfc-4767-c414-7ab9cec56706"
      },
      "id": "EEvdygq6M17V",
      "execution_count": null,
      "outputs": [
        {
          "output_type": "execute_result",
          "data": {
            "text/plain": [
              "7.0"
            ]
          },
          "metadata": {},
          "execution_count": 6
        }
      ]
    },
    {
      "cell_type": "code",
      "source": [
        "number32(\"00111110001000000000001000010000\")\n"
      ],
      "metadata": {
        "colab": {
          "base_uri": "https://localhost:8080/"
        },
        "id": "YshwVINHO0Xp",
        "outputId": "3a438774-4915-4834-b07d-a76f23b10f33"
      },
      "id": "YshwVINHO0Xp",
      "execution_count": null,
      "outputs": [
        {
          "output_type": "execute_result",
          "data": {
            "text/plain": [
              "1042285072.0"
            ]
          },
          "metadata": {},
          "execution_count": 5
        }
      ]
    },
    {
      "cell_type": "code",
      "source": [
        "# SOLUCION VECTORIZADA POR ARREGLOS NUMPY\n",
        "import numpy as np\n",
        "\n",
        "def numero_32_sp(binario) :\n",
        "    binario=binario[::-1]\n",
        "\n",
        "    fract=binario[0:23]\n",
        "    expon =binario[23:31] \n",
        "    \n",
        "\n",
        "\n",
        "\n",
        "    bi=np.array(list(fract)).astype(int)\n",
        "    ex=np.array(list(expon)).astype(int)\n",
        "    \n",
        "\n",
        "    # Para la mantisa:\n",
        "    a = 23- np.arange(0,23)\n",
        "\n",
        "    m= (bi /(2**a)).sum()\n",
        "\n",
        "\n",
        "    # Para la parte del exponente:\n",
        "\n",
        "    b= np.arange(0,8,1)\n",
        "    e = (ex*(2**b)).sum()\n",
        "\n",
        "    #Para el signo:\n",
        "    s =int((binario[31]))\n",
        "\n",
        "    r= ((-1)**s) /(2**(127-e))  * (1+m)\n",
        "\n",
        "\n",
        "    return r\n",
        "\n"
      ],
      "metadata": {
        "id": "54n14vxd-OZy"
      },
      "id": "54n14vxd-OZy",
      "execution_count": null,
      "outputs": []
    },
    {
      "cell_type": "code",
      "source": [
        "numero_32_sp('00111110001000000000001000010000')"
      ],
      "metadata": {
        "colab": {
          "base_uri": "https://localhost:8080/"
        },
        "id": "BvYY7q_UIn3v",
        "outputId": "3824d3fa-c73b-495e-9751-ca5ff3f49e04"
      },
      "id": "BvYY7q_UIn3v",
      "execution_count": null,
      "outputs": [
        {
          "output_type": "execute_result",
          "data": {
            "text/plain": [
              "0.15625786781311035"
            ]
          },
          "metadata": {},
          "execution_count": 8
        }
      ]
    },
    {
      "cell_type": "code",
      "source": [
        "# SOLUCION CON CICLO for.\n",
        "\n",
        "def convert32bit_to_dec(BIN):\n",
        "\n",
        "    if len(BIN)==32:\n",
        "\n",
        "      Bin= BIN[::-1]\n",
        "\n",
        "      s= int(Bin[31])\n",
        "\n",
        "      # Fractionary part :\n",
        "\n",
        "      d =1\n",
        "      for j in range(0,23):\n",
        "        d= d + (int(Bin[j]) / 2**(23-j))\n",
        "\n",
        "\n",
        "      # Exponent part \n",
        "\n",
        "      e= 0\n",
        "      for k in range(8):\n",
        "        e = e + int(Bin[23+k]) * (2**k)\n",
        "\n",
        "\n",
        "      r =((-1)**s / 2**(127-e))*d\n",
        "\n",
        "      return r\n",
        "\n",
        "\n",
        " \n",
        "      \n",
        "\n",
        "\n",
        "  \n",
        "\n"
      ],
      "metadata": {
        "id": "OqG_Se3qPsOh"
      },
      "id": "OqG_Se3qPsOh",
      "execution_count": null,
      "outputs": []
    },
    {
      "cell_type": "code",
      "source": [
        "convert32bit_to_dec('00111110001000000000001000010000')"
      ],
      "metadata": {
        "colab": {
          "base_uri": "https://localhost:8080/"
        },
        "id": "5BuS180QOreF",
        "outputId": "5d242016-f606-45c0-8014-8f94b6d5db4b"
      },
      "id": "5BuS180QOreF",
      "execution_count": null,
      "outputs": [
        {
          "output_type": "execute_result",
          "data": {
            "text/plain": [
              "0.15625786781311035"
            ]
          },
          "metadata": {},
          "execution_count": 10
        }
      ]
    },
    {
      "cell_type": "code",
      "execution_count": null,
      "id": "155ffd7f",
      "metadata": {
        "id": "155ffd7f",
        "outputId": "ea4d5330-885c-46b0-c12b-61536c23fb77",
        "colab": {
          "base_uri": "https://localhost:8080/",
          "height": 175
        }
      },
      "outputs": [
        {
          "output_type": "display_data",
          "data": {
            "text/plain": [
              "<IPython.core.display.HTML object>"
            ],
            "text/html": [
              "<style>\n",
              "  table { text-align: left; border-collapse: collapse; margin: 1em; caption-side: bottom; font-family: Sans-Serif; font-size: 12px}\n",
              "  caption { text-align: left; padding: 5px }\n",
              "  th, td { border: 2px solid #BFC9CA; padding: 5px }\n",
              "  th { background-color: #BFC9CA }\n",
              "  .passed { background-color: #76D7C4 }\n",
              "  .failed { background-color: #EC7063 }\n",
              "  .skipped { background-color: #EDBB99 }\n",
              "  .score { background-color: #7DCEA0 }\n",
              "  .results .points { display: none }\n",
              "  .results .message { display: block; font-size:smaller; color:#D35400 }\n",
              "  .results .note { display: block; font-size:smaller; font-decoration:italics }\n",
              "  .results .passed::before  { content: \"Passed\" } \n",
              "  .results .skipped::before  { content: \"Skipped\" } \n",
              "  .results .failed::before  { content: \"Failed\" } \n",
              "  .grade .passed  .message:empty::before { content:\"Passed\" }\n",
              "  .grade .failed  .message:empty::before { content:\"Failed\" }\n",
              "  .grade .skipped .message:empty::before { content:\"Skipped\" }   \n",
              "</style>\n",
              "<table class='results'>\n",
              "  <th class='test'>Test</th><th class='result'>Result</th></tr>\n",
              "<tr>\n",
              "  <td class='test'>\n",
              "    La salida debe ser un float \n",
              "    <div class='message'>Done</div>\n",
              "  </td>\n",
              "  <td class='result passed'></td>\n",
              "</tr>\n",
              "<tr>\n",
              "  <td class='test'>\n",
              "    Realizando prueba para un numero binario \n",
              "    <div class='message'>Error: 0.15625405311584473 != 1042284816.0 : #-The expect value is 0.15625405311584473 and the functions test is 1042284816.0\n",
              "</div>\n",
              "  </td>\n",
              "  <td class='result failed'></td>\n",
              "</tr>  <tr><th class='score'>Total Points</th><th class='score'>1</th></tr></table>\n"
            ]
          },
          "metadata": {}
        }
      ],
      "source": [
        "%run -i {path}/Act_02/test02.py"
      ]
    },
    {
      "cell_type": "markdown",
      "id": "d11e596d",
      "metadata": {
        "id": "d11e596d"
      },
      "source": [
        "### Activity 3.0:\n",
        "1. Write a python script that calculates the double precision number represented by a 64-bits binary.\n",
        "\n",
        "the name of function should be: \n",
        "```\n",
        "number64(BIN):\n",
        "\n",
        "```\n",
        "\n",
        "2. What is the number represented by:\n",
        "\n",
        "BIN=\"0 10000000011 1011100100001111111111111111111111111111111111111111\""
      ]
    },
    {
      "cell_type": "code",
      "source": [
        "# SOLUCION VECTORIZADA POR ARREGLOS NUMPY\n",
        "\n",
        "\n",
        "\n",
        "import numpy as np\n",
        "\n",
        "\n",
        "def number64(BIN):\n",
        "\n",
        "\n",
        "    binario=BIN[::-1]\n",
        "\n",
        "    fract=binario[0:52]\n",
        "    exp_ = binario[52:63]\n",
        "    \n",
        "\n",
        "\n",
        "    ex = np.array(list(exp_)).astype(int)\n",
        "    bi=np.array(list(fract)).astype(int)\n",
        " \n",
        "    \n",
        "\n",
        "    # Para la mantisa:\n",
        "    a = 52- np.arange(0,52)\n",
        "\n",
        "    m= (bi /(2**a)).sum()\n",
        "\n",
        "\n",
        "    # Para la parte del exponente:\n",
        "\n",
        "    b= np.arange(0,11, dtype =float)                      # modificacion\n",
        "    e = (ex*(2**b)).sum()\n",
        "\n",
        "    #Para el signo:\n",
        "    s =int((binario[63]))\n",
        "\n",
        "    r= ((-1)**s) /(2**(1023.0-e))  * (1+m)\n",
        "\n",
        "\n",
        "    return r\n"
      ],
      "metadata": {
        "id": "IZkY3ig5P9GG"
      },
      "id": "IZkY3ig5P9GG",
      "execution_count": 20,
      "outputs": []
    },
    {
      "cell_type": "code",
      "source": [
        "number64('0100000000111011100100001111111111111111111111111111111111111111')"
      ],
      "metadata": {
        "colab": {
          "base_uri": "https://localhost:8080/"
        },
        "id": "NsbPZwStR5GO",
        "outputId": "11a46962-eb71-4f5e-964d-fb5b8a35cce4"
      },
      "id": "NsbPZwStR5GO",
      "execution_count": 21,
      "outputs": [
        {
          "output_type": "execute_result",
          "data": {
            "text/plain": [
              "27.566406249999996"
            ]
          },
          "metadata": {},
          "execution_count": 21
        }
      ]
    },
    {
      "cell_type": "code",
      "source": [
        "b= np.arange(0,11)\n",
        "b"
      ],
      "metadata": {
        "colab": {
          "base_uri": "https://localhost:8080/"
        },
        "id": "tG4PpCEIAX1S",
        "outputId": "c457ed60-1e31-4a07-c704-3120d8df539c"
      },
      "id": "tG4PpCEIAX1S",
      "execution_count": 18,
      "outputs": [
        {
          "output_type": "execute_result",
          "data": {
            "text/plain": [
              "array([ 0,  1,  2,  3,  4,  5,  6,  7,  8,  9, 10])"
            ]
          },
          "metadata": {},
          "execution_count": 18
        }
      ]
    },
    {
      "cell_type": "code",
      "execution_count": 19,
      "id": "cd48a992",
      "metadata": {
        "scrolled": false,
        "id": "cd48a992",
        "colab": {
          "base_uri": "https://localhost:8080/"
        },
        "outputId": "3692a35a-7a06-40c0-a396-97217efc1fc8"
      },
      "outputs": [
        {
          "output_type": "stream",
          "name": "stderr",
          "text": [
            "ERROR:root:File `'{path}/Act_02/test03.py'` not found.\n"
          ]
        }
      ],
      "source": [
        "%run -i {path}/Act_02/test03.py"
      ]
    }
  ],
  "metadata": {
    "kernelspec": {
      "display_name": "Python 3 (ipykernel)",
      "language": "python",
      "name": "python3"
    },
    "language_info": {
      "codemirror_mode": {
        "name": "ipython",
        "version": 3
      },
      "file_extension": ".py",
      "mimetype": "text/x-python",
      "name": "python",
      "nbconvert_exporter": "python",
      "pygments_lexer": "ipython3",
      "version": "3.8.12"
    },
    "colab": {
      "provenance": []
    }
  },
  "nbformat": 4,
  "nbformat_minor": 5
}