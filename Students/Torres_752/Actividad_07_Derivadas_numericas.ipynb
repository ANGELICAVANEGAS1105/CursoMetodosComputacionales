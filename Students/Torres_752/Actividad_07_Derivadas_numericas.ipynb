{
  "nbformat": 4,
  "nbformat_minor": 0,
  "metadata": {
    "colab": {
      "provenance": [],
      "collapsed_sections": [
        "rE54ANqy3twJ",
        "p7Hqa6xhBYvy",
        "xXlYcuoLDl-7"
      ]
    },
    "kernelspec": {
      "name": "python3",
      "display_name": "Python 3"
    },
    "language_info": {
      "name": "python"
    }
  },
  "cells": [
    {
      "cell_type": "markdown",
      "source": [
        "<a href=\"https://colab.research.google.com/github/hernansalinas/autogrades/blob/main/Actividades_clase/Actividad_07_derivadas.pynb\" target=\"_parent\"><img src=\"https://colab.research.google.com/assets/colab-badge.svg\" alt=\"Open In Colab\"/></a>\n",
        "\n",
        "\n",
        "\n",
        "# Actividad 7\n",
        "### Métodos computacionales para físicos  y astrónomos\n",
        "### Universidad de Antioquia\n",
        "### Prof: Hernan D. Salinas Jiménez\n",
        "Ref: https://github.com/restrepo/ComputationalMethods"
      ],
      "metadata": {
        "id": "hK8efbtX3V8_"
      }
    },
    {
      "cell_type": "markdown",
      "source": [
        "El potencial eléctrico de un anillo de radio R, en la parte superior z del anillo, viene dado por: \n",
        "\n",
        "\n",
        "\\begin{equation}\n",
        "V = \\frac{kq_{tot}z}{\\sqrt{z^2+R^2}}\n",
        "\\end{equation}\n",
        "\n",
        "Calcule el campo eléctrico para z>0 y R=0.1mm. Reescale el problema en unidades de $kq_{tot}$ empleando:"
      ],
      "metadata": {
        "id": "onnoR_FG3eBw"
      }
    },
    {
      "cell_type": "markdown",
      "source": [
        "#####1. La libreria sympy."
      ],
      "metadata": {
        "id": "rE54ANqy3twJ"
      }
    },
    {
      "cell_type": "code",
      "execution_count": null,
      "metadata": {
        "id": "hWmdM1rf3VO3"
      },
      "outputs": [],
      "source": [
        "import numpy as np\n",
        "import matplotlib.pyplot as plt\n",
        "import sympy  as sp\n",
        "\n",
        "\n"
      ]
    },
    {
      "cell_type": "code",
      "source": [
        "# Definir la función potencial eléctrico reescalado:\n",
        "\n",
        "z=sp.Symbol('z')\n",
        "R_s=sp.Symbol('R')\n",
        "V_s= z/sp.sqrt(z**2 + R_s**2)\n",
        "V_s"
      ],
      "metadata": {
        "colab": {
          "base_uri": "https://localhost:8080/",
          "height": 52
        },
        "id": "At3Hb7_v3VwR",
        "outputId": "925a3877-9582-4d34-fad4-4cdeb04fd2f4"
      },
      "execution_count": null,
      "outputs": [
        {
          "output_type": "execute_result",
          "data": {
            "text/plain": [
              "z/sqrt(R**2 + z**2)"
            ],
            "text/latex": "$\\displaystyle \\frac{z}{\\sqrt{R^{2} + z^{2}}}$"
          },
          "metadata": {},
          "execution_count": 66
        }
      ]
    },
    {
      "cell_type": "code",
      "source": [
        "# Definir la función campo eléctrico reescalado:\n",
        "\n",
        "z=sp.Symbol('z')\n",
        "R_s=sp.Symbol('R')\n",
        "E_s=sp.diff(V_s,z)\n",
        "E_s\n"
      ],
      "metadata": {
        "colab": {
          "base_uri": "https://localhost:8080/",
          "height": 63
        },
        "id": "139rB1XO69J8",
        "outputId": "af493a55-f57f-4c97-80b0-9c0385f7e3bb"
      },
      "execution_count": null,
      "outputs": [
        {
          "output_type": "execute_result",
          "data": {
            "text/plain": [
              "-z**2/(R**2 + z**2)**(3/2) + 1/sqrt(R**2 + z**2)"
            ],
            "text/latex": "$\\displaystyle - \\frac{z^{2}}{\\left(R^{2} + z^{2}\\right)^{\\frac{3}{2}}} + \\frac{1}{\\sqrt{R^{2} + z^{2}}}$"
          },
          "metadata": {},
          "execution_count": 67
        }
      ]
    },
    {
      "cell_type": "code",
      "source": [
        "# Convertimos la función potencial y campo electrico simbolicas en funciones numericas:\n",
        "\n",
        "V_n = sp.lambdify([z,R_s],V_s,'numpy')\n",
        "E_n = sp.lambdify([z, R_s],E_s,'numpy')\n",
        "\n",
        "\n",
        "#Consideremos el siguiente rango de vaores que nos permita graficar la funcion potencial eléctrico:\n",
        "\n",
        "zn = np.linspace(0,3,100)\n",
        "R = 0.1   ## Radio del anillo, en mm\n",
        "Vnn = V_n(zn,R)\n",
        "Enn=E_n(zn,R)\n",
        "\n",
        "Enn"
      ],
      "metadata": {
        "colab": {
          "base_uri": "https://localhost:8080/"
        },
        "id": "Wiba_TVr5E0C",
        "outputId": "d1a3b612-5597-4d14-bc52-8bc17a1466df"
      },
      "execution_count": null,
      "outputs": [
        {
          "output_type": "execute_result",
          "data": {
            "text/plain": [
              "array([1.00000000e+01, 8.76534547e+00, 6.25460335e+00, 4.05125561e+00,\n",
              "       2.57724447e+00, 1.67140475e+00, 1.11923548e+00, 7.75372422e-01,\n",
              "       5.54505775e-01, 4.07980534e-01, 3.07753673e-01, 2.37259722e-01,\n",
              "       1.86426115e-01, 1.48946838e-01, 1.20762632e-01, 9.91922003e-02,\n",
              "       8.24220415e-02, 6.91988446e-02, 5.86392694e-02, 5.01095000e-02,\n",
              "       4.31472839e-02, 3.74104320e-02, 3.26421535e-02, 2.86473131e-02,\n",
              "       2.52759074e-02, 2.24113917e-02, 1.99623207e-02, 1.78562839e-02,\n",
              "       1.60354543e-02, 1.44532841e-02, 1.30720265e-02, 1.18608592e-02,\n",
              "       1.07944504e-02, 9.85185337e-03, 9.01564791e-03, 8.27126799e-03,\n",
              "       7.60647194e-03, 7.01092173e-03, 6.47584703e-03, 5.99377516e-03,\n",
              "       5.55831290e-03, 5.16396909e-03, 4.80600984e-03, 4.48033957e-03,\n",
              "       4.18340295e-03, 3.91210368e-03, 3.66373688e-03, 3.43593261e-03,\n",
              "       3.22660856e-03, 3.03393013e-03, 2.85627678e-03, 2.69221349e-03,\n",
              "       2.54046644e-03, 2.39990234e-03, 2.26951061e-03, 2.14838827e-03,\n",
              "       2.03572672e-03, 1.93080049e-03, 1.83295746e-03, 1.74161031e-03,\n",
              "       1.65622918e-03, 1.57633518e-03, 1.50149481e-03, 1.43131498e-03,\n",
              "       1.36543872e-03, 1.30354134e-03, 1.24532711e-03, 1.19052624e-03,\n",
              "       1.13889234e-03, 1.09020002e-03, 1.04424285e-03, 1.00083156e-03,\n",
              "       9.59792354e-04, 9.20965483e-04, 8.84203927e-04, 8.49372230e-04,\n",
              "       8.16345454e-04, 7.85008241e-04, 7.55253961e-04, 7.26983958e-04,\n",
              "       7.00106858e-04, 6.74537954e-04, 6.50198644e-04, 6.27015922e-04,\n",
              "       6.04921921e-04, 5.83853497e-04, 5.63751846e-04, 5.44562166e-04,\n",
              "       5.26233336e-04, 5.08717638e-04, 4.91970489e-04, 4.75950209e-04,\n",
              "       4.60617798e-04, 4.45936742e-04, 4.31872826e-04, 4.18393970e-04,\n",
              "       4.05470073e-04, 3.93072873e-04, 3.81175817e-04, 3.69753943e-04])"
            ]
          },
          "metadata": {},
          "execution_count": 68
        }
      ]
    },
    {
      "cell_type": "code",
      "source": [
        "#Grafico del campo electrico:\n",
        "\n",
        "plt.plot(zn,-Enn,label='$ E^* = E/(kq_t)$')\n",
        "plt.xlabel('Distancia a lo largo del eje del anilo, [mm]')\n",
        "plt.ylabel('$ E^*$')\n",
        "plt.grid()\n",
        "plt.legend()"
      ],
      "metadata": {
        "colab": {
          "base_uri": "https://localhost:8080/",
          "height": 466
        },
        "id": "aCm9s8Gw-0rx",
        "outputId": "8b2c94d5-8db6-4faf-d708-b621eda1144d"
      },
      "execution_count": null,
      "outputs": [
        {
          "output_type": "execute_result",
          "data": {
            "text/plain": [
              "<matplotlib.legend.Legend at 0x7f2537bc91f0>"
            ]
          },
          "metadata": {},
          "execution_count": 69
        },
        {
          "output_type": "display_data",
          "data": {
            "text/plain": [
              "<Figure size 640x480 with 1 Axes>"
            ],
            "image/png": "[encoded data removed]"
          },
          "metadata": {}
        }
      ]
    },
    {
      "cell_type": "markdown",
      "source": [
        "##### 2. Calcular el campo en el punto  $z = 0.1mm$ empleando el metodo [misc.derivative](https://docs.scipy.org/doc/scipy/reference/generated/scipy.misc.derivative.html)"
      ],
      "metadata": {
        "id": "p7Hqa6xhBYvy"
      }
    },
    {
      "cell_type": "code",
      "source": [
        "import numpy as np\n",
        "import matplotlib.pyplot as plt\n",
        "from scipy.misc import derivative\n",
        "\n",
        "def V(z,R):\n",
        "  return z/np.sqrt(z**2 + R**2)\n",
        "\n",
        "R  = 0.1 ## Radio del anillo, en mm\n",
        "z0 = R   ## Evaluaremos la derivada del potencial a un radio de distancia del centro del anillo cargado electricamente.\n",
        "\n",
        "DV_=derivative(V,z0,1e-3,args=(R,))\n",
        "\n",
        "DV_\n"
      ],
      "metadata": {
        "colab": {
          "base_uri": "https://localhost:8080/"
        },
        "id": "JVnokYYHBdnB",
        "outputId": "f4beff4e-f5b4-4ec1-cc0c-72f1ea79d6dd"
      },
      "execution_count": null,
      "outputs": [
        {
          "output_type": "stream",
          "name": "stderr",
          "text": [
            "<ipython-input-58-2f11a61e0aab>:11: DeprecationWarning: scipy.misc.derivative is deprecated in SciPy v1.10.0; and will be completely removed in SciPy v1.12.0. You may consider using findiff: https://github.com/maroba/findiff or numdifftools: https://github.com/pbrod/numdifftools\n",
            "  DV_=derivative(V,z0,1e-3,args=(R,))\n"
          ]
        },
        {
          "output_type": "execute_result",
          "data": {
            "text/plain": [
              "3.535666485968092"
            ]
          },
          "metadata": {},
          "execution_count": 58
        }
      ]
    },
    {
      "cell_type": "markdown",
      "source": [],
      "metadata": {
        "id": "tgTId4pNF5Vc"
      }
    },
    {
      "cell_type": "markdown",
      "source": [
        "#####3. Calcular el campo para diferentes valores de z con z>0,,  empleando misc derivative. Construya un grafico de E vs z."
      ],
      "metadata": {
        "id": "xXlYcuoLDl-7"
      }
    },
    {
      "cell_type": "code",
      "source": [
        "import numpy as np\n",
        "import matplotlib.pyplot as plt\n",
        "from scipy.misc import derivative\n",
        "\n",
        "\n",
        "\n",
        "\n",
        "#Definimos un areglo de  numpy sobre el cual hallaremos el valor de la derivada de la función potencial.\n",
        "\n",
        "zn=np.linspace(0,3,100)\n",
        "h= zn[1]-zn[0]\n",
        "dV=np.zeros(len(zn))\n",
        "\n",
        "for i in range(len(zn)):\n",
        "  dV[i]=derivative(V,zn[i],dx=h,args=(R,))\n",
        "\n",
        "dV\n"
      ],
      "metadata": {
        "colab": {
          "base_uri": "https://localhost:8080/"
        },
        "id": "jMifE7qmDlhL",
        "outputId": "2713488e-0828-459f-e446-e8d001764cd0"
      },
      "execution_count": null,
      "outputs": [
        {
          "output_type": "stream",
          "name": "stderr",
          "text": [
            "<ipython-input-63-bad659e7f2e5>:15: DeprecationWarning: scipy.misc.derivative is deprecated in SciPy v1.10.0; and will be completely removed in SciPy v1.12.0. You may consider using findiff: https://github.com/maroba/findiff or numdifftools: https://github.com/pbrod/numdifftools\n",
            "  dV[i]=derivative(V,zn[i],dx=h,args=(R,))\n"
          ]
        },
        {
          "output_type": "execute_result",
          "data": {
            "text/plain": [
              "array([9.57024404e+00, 8.55197832e+00, 6.31397908e+00, 4.17568078e+00,\n",
              "       2.67195411e+00, 1.72990340e+00, 1.15361790e+00, 7.95674425e-01,\n",
              "       5.66786103e-01, 4.15635792e-01, 3.12674494e-01, 2.40516271e-01,\n",
              "       1.88639761e-01, 1.50488585e-01, 1.21860234e-01, 9.99892077e-02,\n",
              "       8.30111906e-02, 6.96414223e-02, 5.89766341e-02, 5.03701026e-02,\n",
              "       4.33510438e-02, 3.75715230e-02, 3.27708122e-02, 2.87510351e-02,\n",
              "       2.53602511e-02, 2.24805278e-02, 2.00194128e-02, 1.79037563e-02,\n",
              "       1.60751824e-02, 1.44867313e-02, 1.31003446e-02, 1.18849614e-02,\n",
              "       1.08150662e-02, 9.86956953e-03, 9.03093932e-03, 8.28452145e-03,\n",
              "       7.61800425e-03, 7.02099381e-03, 6.48467486e-03, 6.00153844e-03,\n",
              "       5.56516179e-03, 5.17002965e-03, 4.81138835e-03, 4.48512597e-03,\n",
              "       4.18767367e-03, 3.91592390e-03, 3.66716237e-03, 3.43901127e-03,\n",
              "       3.22938164e-03, 3.03643328e-03, 2.85854089e-03, 2.69426542e-03,\n",
              "       2.54232959e-03, 2.40159714e-03, 2.27105499e-03, 2.14979794e-03,\n",
              "       2.03701553e-03, 1.93198067e-03, 1.83403979e-03, 1.74260437e-03,\n",
              "       1.65714345e-03, 1.57717723e-03, 1.50227137e-03, 1.43203206e-03,\n",
              "       1.36610171e-03, 1.30415505e-03, 1.24589587e-03, 1.19105395e-03,\n",
              "       1.13938250e-03, 1.09065578e-03, 1.04466708e-03, 1.00122683e-03,\n",
              "       9.60161005e-04, 9.21309638e-04, 8.84525511e-04, 8.49672997e-04,\n",
              "       8.16627000e-04, 7.85272019e-04, 7.55501300e-04, 7.27216071e-04,\n",
              "       7.00324857e-04, 6.74742855e-04, 6.50391380e-04, 6.27197349e-04,\n",
              "       6.05092826e-04, 5.84014603e-04, 5.63903821e-04, 5.44705622e-04,\n",
              "       5.26368841e-04, 5.08845713e-04, 4.92091619e-04, 4.76064840e-04,\n",
              "       4.60726344e-04, 4.46039587e-04, 4.31970325e-04, 4.18486453e-04,\n",
              "       4.05557846e-04, 3.93156221e-04, 3.81255006e-04, 3.69829218e-04])"
            ]
          },
          "metadata": {},
          "execution_count": 63
        }
      ]
    },
    {
      "cell_type": "code",
      "source": [
        "# Aunque, segun parece, el metodo misc.derivative nde scipy nos permite insertar arrays para que nos retorne los respectivos valores de la derivada de la funcion de interes\n",
        "\n",
        "dV2=derivative(V,zn,dx=h,args=(R,))\n",
        "dV2"
      ],
      "metadata": {
        "colab": {
          "base_uri": "https://localhost:8080/"
        },
        "id": "iHpKMUF9E7cQ",
        "outputId": "d14a7709-74fd-4b39-9aa8-de83f6bac06a"
      },
      "execution_count": null,
      "outputs": [
        {
          "output_type": "stream",
          "name": "stderr",
          "text": [
            "<ipython-input-64-ec167ae3deb3>:3: DeprecationWarning: scipy.misc.derivative is deprecated in SciPy v1.10.0; and will be completely removed in SciPy v1.12.0. You may consider using findiff: https://github.com/maroba/findiff or numdifftools: https://github.com/pbrod/numdifftools\n",
            "  dV2=derivative(V,zn,dx=h,args=(R,))\n"
          ]
        },
        {
          "output_type": "execute_result",
          "data": {
            "text/plain": [
              "array([9.57024404e+00, 8.55197832e+00, 6.31397908e+00, 4.17568078e+00,\n",
              "       2.67195411e+00, 1.72990340e+00, 1.15361790e+00, 7.95674425e-01,\n",
              "       5.66786103e-01, 4.15635792e-01, 3.12674494e-01, 2.40516271e-01,\n",
              "       1.88639761e-01, 1.50488585e-01, 1.21860234e-01, 9.99892077e-02,\n",
              "       8.30111906e-02, 6.96414223e-02, 5.89766341e-02, 5.03701026e-02,\n",
              "       4.33510438e-02, 3.75715230e-02, 3.27708122e-02, 2.87510351e-02,\n",
              "       2.53602511e-02, 2.24805278e-02, 2.00194128e-02, 1.79037563e-02,\n",
              "       1.60751824e-02, 1.44867313e-02, 1.31003446e-02, 1.18849614e-02,\n",
              "       1.08150662e-02, 9.86956953e-03, 9.03093932e-03, 8.28452145e-03,\n",
              "       7.61800425e-03, 7.02099381e-03, 6.48467486e-03, 6.00153844e-03,\n",
              "       5.56516179e-03, 5.17002965e-03, 4.81138835e-03, 4.48512597e-03,\n",
              "       4.18767367e-03, 3.91592390e-03, 3.66716237e-03, 3.43901127e-03,\n",
              "       3.22938164e-03, 3.03643328e-03, 2.85854089e-03, 2.69426542e-03,\n",
              "       2.54232959e-03, 2.40159714e-03, 2.27105499e-03, 2.14979794e-03,\n",
              "       2.03701553e-03, 1.93198067e-03, 1.83403979e-03, 1.74260437e-03,\n",
              "       1.65714345e-03, 1.57717723e-03, 1.50227137e-03, 1.43203206e-03,\n",
              "       1.36610171e-03, 1.30415505e-03, 1.24589587e-03, 1.19105395e-03,\n",
              "       1.13938250e-03, 1.09065578e-03, 1.04466708e-03, 1.00122683e-03,\n",
              "       9.60161005e-04, 9.21309638e-04, 8.84525511e-04, 8.49672997e-04,\n",
              "       8.16627000e-04, 7.85272019e-04, 7.55501300e-04, 7.27216071e-04,\n",
              "       7.00324857e-04, 6.74742855e-04, 6.50391380e-04, 6.27197349e-04,\n",
              "       6.05092826e-04, 5.84014603e-04, 5.63903821e-04, 5.44705622e-04,\n",
              "       5.26368841e-04, 5.08845713e-04, 4.92091619e-04, 4.76064840e-04,\n",
              "       4.60726344e-04, 4.46039587e-04, 4.31970325e-04, 4.18486453e-04,\n",
              "       4.05557846e-04, 3.93156221e-04, 3.81255006e-04, 3.69829218e-04])"
            ]
          },
          "metadata": {},
          "execution_count": 64
        }
      ]
    },
    {
      "cell_type": "code",
      "source": [
        "plt.title('Campo elctrico de un anillo cargado')\n",
        "plt.plot(zn,-dV2,label='$ E^* = E/(kq_t)$',color='green')\n",
        "plt.xlabel('z, [mm]')\n",
        "plt.ylabel('$ E^*$')\n",
        "plt.grid()\n",
        "plt.legend()"
      ],
      "metadata": {
        "colab": {
          "base_uri": "https://localhost:8080/",
          "height": 489
        },
        "id": "dHC3NYPoFDmY",
        "outputId": "085d856d-a500-49e2-b29d-dc4a8814d3b3"
      },
      "execution_count": null,
      "outputs": [
        {
          "output_type": "execute_result",
          "data": {
            "text/plain": [
              "<matplotlib.legend.Legend at 0x7f2537b2dd00>"
            ]
          },
          "metadata": {},
          "execution_count": 72
        },
        {
          "output_type": "display_data",
          "data": {
            "text/plain": [
              "<Figure size 640x480 with 1 Axes>"
            ],
            "image/png": "[encoded data removed]"
          },
          "metadata": {}
        }
      ]
    },
    {
      "cell_type": "markdown",
      "source": [
        "#####4. Entender la generalizacion de la siguiente función, y aplicarla para calcular la derivada.\n",
        "\n",
        "\n",
        "```python\n",
        "import numpy as np\n",
        "from scipy import misc\n",
        "def derivative(func,x0,**kwargs):\n",
        "    '''\n",
        "    Vectorized replacement of scipy.misc derivative:\n",
        "        from scipy.misc import derivative\n",
        "    For usage check the derivative help, e.g, in jupyter: \n",
        "        from scipy.misc import derivative\n",
        "        derivative?\n",
        "    '''\n",
        "    try:\n",
        "        #x0: can be an array or a list  \n",
        "        nn=np.asarray(x0).shape[0] ## force error if float is used \n",
        "        fp=np.vectorize(misc.derivative)\n",
        "    except IndexError:\n",
        "        fp=misc.derivative\n",
        "        \n",
        "    return fp(func,x0,**kwargs)\n",
        "\n",
        "assert isinstance(derivative(np.sin,1,dx=1E-6),float)\n",
        "```\n"
      ],
      "metadata": {
        "id": "7EkinQyzGQmO"
      }
    },
    {
      "cell_type": "code",
      "source": [
        "import numpy as np\n",
        "from scipy import misc\n",
        "\n",
        "def derivative(func,x0,**kwargs):\n",
        "  try:\n",
        "        #x0: can be an array or a list  \n",
        "        nn=np.asarray(x0).shape[0] ## force error if float is used \n",
        "        fp=np.vectorize(misc.derivative)\n",
        "\n",
        "  except IndexError:\n",
        "        fp=misc.derivative\n",
        "\n",
        "\n",
        "  return fp(func,x0,**kwargs)\n",
        "\n",
        "\n"
      ],
      "metadata": {
        "id": "_Lv-dgAFGeL_"
      },
      "execution_count": null,
      "outputs": []
    },
    {
      "cell_type": "code",
      "source": [
        "derivative(np.sin, [2,1], dx=1E-6)"
      ],
      "metadata": {
        "colab": {
          "base_uri": "https://localhost:8080/"
        },
        "id": "a9GA2qXqHVsK",
        "outputId": "92127c0d-69b2-4f1c-9fc1-a89e1cd44427"
      },
      "execution_count": null,
      "outputs": [
        {
          "output_type": "execute_result",
          "data": {
            "text/plain": [
              "array([-0.41614684,  0.54030231])"
            ]
          },
          "metadata": {},
          "execution_count": 84
        }
      ]
    },
    {
      "cell_type": "code",
      "source": [],
      "metadata": {
        "id": "gYxmv8ERlmlz"
      },
      "execution_count": null,
      "outputs": []
    }
  ]
}