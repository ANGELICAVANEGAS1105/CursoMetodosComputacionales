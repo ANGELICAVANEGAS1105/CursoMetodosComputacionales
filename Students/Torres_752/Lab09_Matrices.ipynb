{
  "nbformat": 4,
  "nbformat_minor": 0,
  "metadata": {
    "colab": {
      "provenance": [],
      "collapsed_sections": [
        "yo2kk2_jWWc8",
        "BMcdBA43scmx",
        "_NtqXK7ijWjA"
      ]
    },
    "kernelspec": {
      "name": "python3",
      "display_name": "Python 3"
    },
    "language_info": {
      "name": "python"
    }
  },
  "cells": [
    {
      "cell_type": "markdown",
      "source": [
        "<a href=\"https://colab.research.google.com/github/hernansalinas/autogrades/blob/main/Laboratorios_Taller/Lab09_Matrices.ipynb\" target=\"_parent\"><img src=\"https://colab.research.google.com/assets/colab-badge.svg\" alt=\"Open In Colab\"/></a>"
      ],
      "metadata": {
        "id": "zX5mmeZ08lWy"
      }
    },
    {
      "cell_type": "code",
      "source": [
        "#@title Librerias\n",
        "\n",
        "import numpy as np\n",
        "import matplotlib.pyplot as plt\n",
        "from numpy import linalg"
      ],
      "metadata": {
        "id": "IFVRiOY98c6H"
      },
      "execution_count": 1,
      "outputs": []
    },
    {
      "cell_type": "markdown",
      "source": [
        "# Problemas con Matrices \n",
        "\n"
      ],
      "metadata": {
        "id": "zRInnDiKcbSB"
      }
    },
    {
      "cell_type": "markdown",
      "source": [
        "##1. **Modelo de población de una especie de pajaros** \n",
        "Se estudiará un modelo de crecimiento de la poblacion para una especie de pájaros. En esta población se supone que el número de pajaros hembras es igual al número de machos.  Sea :\n",
        "- $p_{j,n-1}$ la poblacion juvenil (inmadura) de hembras en el año (n-1) \n",
        "- $p_{a,n-1}$ el numero de hembras adultas en el mismo año.\n",
        "\n",
        "Algunos de los pájaros jóvenes morirán  durante el año. Se suponen que cierta proporción de pájaros $\\alpha$ de los pájaros jovenes sobrevivirán para llegar a adultos en la primavera del año $n$. Cada hembra que sobrevive prdocuce huevos en la primavera, los incupan y producen, en promedio, $k$ pájaros hembras jóvenes en al siguiente primavera. Los adultos también mueren y la proporcion de adultos que sobrevive de una primavera a la siguiente es $\\beta$.\n",
        "\n",
        "Un modelo para el crecimiento poblacional de pajaros \n",
        "\\begin{equation}\n",
        "p_{j,n} = kp_{a, n-1}\n",
        "\\end{equation}\n",
        "\n",
        "\n",
        "\\begin{equation}\n",
        "p_{a,n} =\\alpha p_{j,n-1} + \\beta p_{a, n-1}\n",
        "\\end{equation}\n",
        "\n",
        "Que puede ser escrita como ${\\bf p_n}=A{\\bf p_{n-1}}$, Siendo A la matrix definida en las ecuaciones anteriores, y ${\\bf p_n}$ un vector. Para la evolución temporal se cumple que: \n",
        "\n",
        "- ${\\bf p_1}=A{\\bf p_{0}}$, ${\\bf p_2}=A{\\bf p_{1}}= A(A{\\bf p_0})=A^2{\\bf p_{0}}$ $...$ y asi sucesivamente. Entonces:\n",
        "\n",
        "\\begin{equation}\n",
        "{\\bf p_n} = A^n {\\bf p_{0}}\n",
        "\\end{equation}\n",
        "\n",
        "\n",
        "Supongamos que tenemos 10 hembras  (y 10 machos) adultos y no hay jovenes, la supongmaos que la matriz A viene dada por:\n",
        "\n",
        "\\begin{bmatrix} \n",
        "0 & 2 \\\\\n",
        "0.3 & 0.5 \n",
        "\\end{bmatrix}\n",
        "\n",
        "para la primera poblacion $p_{j,1}=20$, $p_{a,1}=5$, el total de hembras es 25 y la razón jovenes adultas es de 4 a 1. Muestre que la razon $p_{j,n}/p_{a,n}$ converge $1.88$,(como no se puede tener un número racional de pájaros,. aproxime siempre el resultados al menor entero).\n",
        "\n",
        "- Para la  solución general del modelo del problema de valores y vetores propios\n",
        "se tiene que:\n",
        "\\begin{equation}\n",
        "p_n=\\lambda_1^n \\left [ a_1 \\vec{v}_1 +\\left( \\frac{\\lambda_2}{\\lambda_1} \\right)^n a_2 \\vec{v}_2\\right]\n",
        "\\end{equation}\n",
        "\n",
        "Asumiendo que $\\lambda_2/ \\lambda_1 < 1$, entonces $(\\lambda_2/ \\lambda_1)^n << 1$ cuando n crece.  Entonce spara n grande se cumple que:\n",
        "\n",
        "donde $p_n=a_1\\lambda_1^n\\vec{v}_1$\n",
        "\n",
        "\n",
        "donde:\n",
        "\n",
        "${\\bf p_0} = a_1 \\vec{v}_1 + a_2 \\vec{v}_2$, con $v_1$ y $v_2$ vectores propios de A\n",
        "\n"
      ],
      "metadata": {
        "id": "yo2kk2_jWWc8"
      }
    },
    {
      "cell_type": "code",
      "source": [
        "# Matriz del modelo de recimiento de la poblacion de pajaros\n",
        "A=np.array([[0,2],[0.3,0.5]])\n",
        "\n",
        "#Vector de poblacion de hembras jovenes y adultas en el año n=0:\n",
        "p_0=np.array([0,10])\n"
      ],
      "metadata": {
        "id": "CDI5UoXmcd6U"
      },
      "execution_count": 2,
      "outputs": []
    },
    {
      "cell_type": "code",
      "source": [
        "p_1=np.floor(A@p_0) # Vector de poblacion de hembras jovenes y adultas en el año n=1\n",
        "p_1"
      ],
      "metadata": {
        "colab": {
          "base_uri": "https://localhost:8080/"
        },
        "id": "Q-7aFLLicowo",
        "outputId": "187bde43-356b-4e30-962d-1cf20b52cccd"
      },
      "execution_count": 3,
      "outputs": [
        {
          "output_type": "execute_result",
          "data": {
            "text/plain": [
              "array([20.,  5.])"
            ]
          },
          "metadata": {},
          "execution_count": 3
        }
      ]
    },
    {
      "cell_type": "code",
      "source": [
        "k=4\n",
        "p_k = np.floor((linalg.matrix_power(A,k)) @ p_0)\n",
        "\n",
        "print(f'Vector de poblacion de pajaros en el año n = {k}',' :',p_k)\n"
      ],
      "metadata": {
        "colab": {
          "base_uri": "https://localhost:8080/"
        },
        "id": "WBUHzW1LcL3r",
        "outputId": "4d92783b-ed98-40be-f2bb-5260abb4cb95"
      },
      "execution_count": 14,
      "outputs": [
        {
          "output_type": "stream",
          "name": "stdout",
          "text": [
            "Vector de poblacion de pajaros en el año n = 4  : [14.  8.]\n"
          ]
        }
      ]
    },
    {
      "cell_type": "code",
      "source": [
        "# Se define la rutina llamada convergencia como la proporcion entre el numero de pajaros jovenes  y de pajaros adultos.\n",
        "\n",
        "def convergencia(n):\n",
        "\n",
        "  p_0=np.array([0,10])\n",
        "  A=np.array([[0,2],[0.3,0.5]])\n",
        "\n",
        "  q_array=np.zeros(n)\n",
        "\n",
        "  for k in range(n):\n",
        "    \n",
        "    p_k = A@p_0\n",
        "    #p_k=np.array(A@p_0)\n",
        "    q=p_k[0]/p_k[1]\n",
        "    q_array[k]=q\n",
        "    p_0=p_k\n",
        "\n",
        "  return q_array\n",
        "\n",
        "\n",
        "\n",
        "\n",
        "\n",
        "#Rutina para el vector de la poblacion en el enesimo año:\n",
        "\n",
        "def P(n):\n",
        "  p_0=np.array([0,10])\n",
        "  A=np.array([[0,2],[0.3,0.5]])\n",
        " \n",
        "  p_n = np.floor((linalg.matrix_power(A,n)) @ p_0)\n",
        "\n",
        "  return p_n\n",
        "\n",
        "\n"
      ],
      "metadata": {
        "id": "zcvaDXKsc96G"
      },
      "execution_count": 13,
      "outputs": []
    },
    {
      "cell_type": "code",
      "source": [
        "n=50\n",
        "N=np.arange(0,n,1)\n",
        "plt.plot(N,1.88*np.ones(n),'b--')\n",
        "plt.plot(N,convergencia(n),color='green')\n",
        "plt.xlabel('Año n')\n",
        "plt.xlim(0,N[-1])\n",
        "plt.ylabel('Convergencia')\n",
        "plt.grid()\n",
        "\n",
        "print (f'Para el año n = {n} ,',' La razon entre el numero de pajaros jovenes y adultos converge a :', convergencia(n)[-1])\n"
      ],
      "metadata": {
        "colab": {
          "base_uri": "https://localhost:8080/",
          "height": 466
        },
        "id": "KEtnTPJDedab",
        "outputId": "80bac046-e5d0-4d1e-bc08-04981576bce3"
      },
      "execution_count": 24,
      "outputs": [
        {
          "output_type": "stream",
          "name": "stdout",
          "text": [
            "Para el año n = 50 ,  La razon entre el numero de pajaros jovenes y adultos converge a : 1.8798034326832374\n"
          ]
        },
        {
          "output_type": "display_data",
          "data": {
            "text/plain": [
              "<Figure size 640x480 with 1 Axes>"
            ],
            "image/png": "[encoded data removed]"
          },
          "metadata": {}
        }
      ]
    },
    {
      "cell_type": "code",
      "source": [
        "#----------------------------------------------------------\n",
        "#----------------------------------------------------------\n",
        "#Solucion general mediante diagonalizacion matricial:\n",
        "\n",
        "eigen_stuff=np.linalg.eig(A)\n",
        "\n",
        "eigen_values=eigen_stuff[0]\n",
        "eigen_vectors=eigen_stuff[1].T\n",
        "\n",
        "\n",
        "l1, l2 = eigen_values\n",
        "\n",
        "v1, v2 = eigen_vectors\n",
        "\n",
        "print(f'valores propios: l1 = {l1} , l2 = {l2} ','\\n')\n",
        "print('v1=',v1,'\\n','\\n','v2=',v2)"
      ],
      "metadata": {
        "colab": {
          "base_uri": "https://localhost:8080/"
        },
        "id": "gCvHz2MZhl27",
        "outputId": "2e643529-0553-48fb-b10d-e1578d8ddb44"
      },
      "execution_count": 43,
      "outputs": [
        {
          "output_type": "stream",
          "name": "stdout",
          "text": [
            "valores propios: l1 = -0.5639410298049854 , l2 = 1.0639410298049854  \n",
            "\n",
            "v1= [-0.96246998  0.27138816] \n",
            " \n",
            " v2= [-0.88285203 -0.46965125]\n"
          ]
        }
      ]
    },
    {
      "cell_type": "code",
      "source": [
        "# Matriz cuyas que tiene por columnas los vectores propios de la matriz del modelo A:\n",
        "\n",
        "U=np.array([v1,v2]).T\n",
        "\n",
        "U_inv =linalg.inv(U)\n",
        "\n"
      ],
      "metadata": {
        "id": "Xy9vJeBwkg3L"
      },
      "execution_count": null,
      "outputs": []
    },
    {
      "cell_type": "code",
      "source": [
        "#Coeficientes a1 Y a2 en la base formada por el espacio de los vectores propios {v1,v2} :\n",
        "\n",
        "Coef_array=np.linalg.solve(U,p_0)\n",
        "a1, a2 = Coef_array\n",
        "\n"
      ],
      "metadata": {
        "id": "5l_j32G5lAbM"
      },
      "execution_count": null,
      "outputs": []
    },
    {
      "cell_type": "code",
      "source": [
        "def pob_n(n,a1,a2,l1,l2,v1,v2):\n",
        "\n",
        "  T1 = a1*v1 \n",
        "  T2 = ((l2/l1)**n)*a2*v2\n",
        "  T= (l1**n)*(T1 + T2)\n",
        "\n",
        "  return T\n",
        "\n",
        "n=50\n",
        "a1, a2 = Coef_array\n",
        "l1, l2 = eigen_values\n",
        "v1, v2 = eigen_vectors\n",
        "\n",
        "pob_n(n,a1,a2,l1,l2,v1,v2)\n",
        "\n",
        "conv = pob_n(n,a1,a2,l1,l2,v1,v2)[0]/pob_n(n,a1,a2,l1,l2,v1,v2)[1]\n",
        "print (f'Para el año n = {n} ,',' La razon entre el numero de pajaros jovenes y adultos converge a :', conv)"
      ],
      "metadata": {
        "colab": {
          "base_uri": "https://localhost:8080/"
        },
        "id": "y1dNdrXpcjhM",
        "outputId": "e31a3e72-3fb5-4203-a4c6-62a6f0d5ba66"
      },
      "execution_count": 46,
      "outputs": [
        {
          "output_type": "stream",
          "name": "stdout",
          "text": [
            "Para el año n = 50 ,  La razon entre el numero de pajaros jovenes y adultos converge a : 1.8798034326832371\n"
          ]
        }
      ]
    },
    {
      "cell_type": "markdown",
      "source": [
        "##2. **Modelo de encriptación** \n",
        "\n",
        "Un proceso para encriptar un mensaje secreto, es usar cierta matriz cuadrada cuyos elementos sean enteros, con elementos enteros en su inversa.\n",
        " Se recibe un mensaje, se asigna un número a cada letra(por ejemplo: A=1, B=2, C=3, ... etc y espacio=27), se arreglan los números en una matriz de izquierda a derecha en cada fila, donde el número de elementos en la fila es igual al tamano de la matriz de codigo,luego  se multiplica esa matriz por la matriz de código por la derecha, se transcribe el mensaje en una cadena de números y se manda el mensaje. \n",
        "\n",
        "La persona que debe recibir el mensaje conoce la matriz de codigo. El o ella arreglan el mensaje encriptado en una matriz de izquierda a derecha en cada fila,  donde el numero de elementos en una fila conicide con el tamano de la matriz de codigo muplicada por la derecha, por el inverso de la matriz de código y puede leer mensaje decodificado.\n",
        "\n",
        "Usted a recibido el siguiente mensaje que fue encriptado usando la matriz A. Decodifiquelo.\n",
        "\n",
        "```\n",
        "matrix([[ 1,  2, -3,  4,  5],\n",
        "        [-2, -5,  8, -8, -9],\n",
        "        [ 1,  2, -2,  7,  9],\n",
        "        [ 1,  1,  0,  6, 12],\n",
        "        [ 2,  4, -6,  8, 11]])\n",
        "```\n",
        "\n",
        "Mensaje\n",
        "\n",
        "47,49,-19,257,487,10,-9,63,137,236, 79,142,-184,372,536,59,70,-40,332,588, \n",
        "\n",
        "la primera fila del mensaje es 47,49,-19,257,487\n",
        "\n",
        "¿Cual es el mensaje?"
      ],
      "metadata": {
        "id": "BMcdBA43scmx"
      }
    },
    {
      "cell_type": "code",
      "source": [
        "# Asignacion de valores numericos a las letras del alfabeto\n",
        "\n",
        "\n",
        "alfabeto='ABCDEFGHIJKLMNOPQRSTUVWXYZ '\n",
        "\n",
        "indice_a_letra=dict(zip(range(1,len(alfabeto)+1),alfabeto))\n",
        "\n",
        "print(indice_a_letra)\n",
        "\n"
      ],
      "metadata": {
        "id": "u__DOphzfOvM",
        "colab": {
          "base_uri": "https://localhost:8080/"
        },
        "outputId": "f5e7bb34-958c-4432-e399-798392b24c3f"
      },
      "execution_count": null,
      "outputs": [
        {
          "output_type": "stream",
          "name": "stdout",
          "text": [
            "{1: 'A', 2: 'B', 3: 'C', 4: 'D', 5: 'E', 6: 'F', 7: 'G', 8: 'H', 9: 'I', 10: 'J', 11: 'K', 12: 'L', 13: 'M', 14: 'N', 15: 'O', 16: 'P', 17: 'Q', 18: 'R', 19: 'S', 20: 'T', 21: 'U', 22: 'V', 23: 'W', 24: 'X', 25: 'Y', 26: 'Z', 27: ' '}\n"
          ]
        }
      ]
    },
    {
      "cell_type": "code",
      "source": [
        "# Definir la Matriz clave dada en el problema:\n",
        "\n",
        "\n",
        "A=np.array([[ 1,  2, -3,  4,  5],\n",
        "        [-2, -5,  8, -8, -9],\n",
        "        [ 1,  2, -2,  7,  9],\n",
        "        [ 1,  1,  0,  6, 12],\n",
        "        [ 2,  4, -6,  8, 11]])\n",
        "\n",
        "\n",
        "print(A)"
      ],
      "metadata": {
        "colab": {
          "base_uri": "https://localhost:8080/"
        },
        "id": "z-sAyDVI52Gn",
        "outputId": "10681a52-b323-46a7-ab19-37bf726ab857"
      },
      "execution_count": null,
      "outputs": [
        {
          "output_type": "stream",
          "name": "stdout",
          "text": [
            "[[ 1  2 -3  4  5]\n",
            " [-2 -5  8 -8 -9]\n",
            " [ 1  2 -2  7  9]\n",
            " [ 1  1  0  6 12]\n",
            " [ 2  4 -6  8 11]]\n"
          ]
        }
      ]
    },
    {
      "cell_type": "code",
      "source": [
        "# Definir la inversa de la matriz A:\n",
        "\n",
        "inv_A=linalg.inv(A)\n",
        "print(inv_A)"
      ],
      "metadata": {
        "colab": {
          "base_uri": "https://localhost:8080/"
        },
        "id": "gjny9Mp0fJ6C",
        "outputId": "c3036365-ec46-4c71-d945-eca7c7f6758f"
      },
      "execution_count": null,
      "outputs": [
        {
          "output_type": "stream",
          "name": "stdout",
          "text": [
            "[[ 14.   1.  -2.   1.  -5.]\n",
            " [ 22.  -7.  -4.   6. -19.]\n",
            " [ 13.  -3.  -2.   3. -10.]\n",
            " [ -2.   1.   1.  -1.   2.]\n",
            " [ -2.  -0.  -0.  -0.   1.]]\n"
          ]
        }
      ]
    },
    {
      "cell_type": "code",
      "source": [
        "# Tomamos el mensaje encriptado y lo descomponemos en una matriz cuyo numero de columnass coincida con la dimension de la matriz llave, \n",
        "\n",
        "msj=np.array([47,49,-19,257,487,10,-9,63,137,236, 79,142,-184,372,536,59,70,-40,332,588])\n",
        "\n",
        "\n",
        "arrays_enc = np.split(msj,(len(msj)//len(A)))\n",
        "\n",
        "\n",
        "B = np.array([arrays_enc[0],arrays_enc[1],arrays_enc[2],arrays_enc[3]]) # Matriz del mensaje encriptado\n",
        "print(B)"
      ],
      "metadata": {
        "colab": {
          "base_uri": "https://localhost:8080/"
        },
        "id": "K82RimrYAXk6",
        "outputId": "03ff0294-d92e-48fa-a0b4-a1451dd999b0"
      },
      "execution_count": null,
      "outputs": [
        {
          "output_type": "stream",
          "name": "stdout",
          "text": [
            "[[  47   49  -19  257  487]\n",
            " [  10   -9   63  137  236]\n",
            " [  79  142 -184  372  536]\n",
            " [  59   70  -40  332  588]]\n"
          ]
        }
      ]
    },
    {
      "cell_type": "code",
      "source": [
        "# Multiplicamos la matriz b yla inversa de A por derecha:\n",
        "\n",
        "M = B @ inv_A\n",
        "print(M)"
      ],
      "metadata": {
        "colab": {
          "base_uri": "https://localhost:8080/"
        },
        "id": "vNKrqFE0bdCS",
        "outputId": "69d1463b-272b-4731-ce17-233065de36d8"
      },
      "execution_count": null,
      "outputs": [
        {
          "output_type": "stream",
          "name": "stdout",
          "text": [
            "[[ 1. 18.  5. 27. 25.]\n",
            " [15. 21. 27.  8.  1.]\n",
            " [22.  9. 14.  7. 27.]\n",
            " [ 6. 21. 14. 27. 27.]]\n"
          ]
        }
      ]
    },
    {
      "cell_type": "code",
      "source": [
        "M=M.flatten() # Convertimos la matriz resultante del proceso de decodificacion en un arrglo unidimensional:\n",
        "M = np.round(M).astype(int) # Redondear las entradas del array al valor entero mas cercano.\n",
        "M"
      ],
      "metadata": {
        "colab": {
          "base_uri": "https://localhost:8080/"
        },
        "id": "UTj7_X-YTMOY",
        "outputId": "65bdf6a0-f48b-411e-cadd-e1d7feb28518"
      },
      "execution_count": null,
      "outputs": [
        {
          "output_type": "execute_result",
          "data": {
            "text/plain": [
              "array([ 1, 18,  5, 27, 25, 15, 21, 27,  8,  1, 22,  9, 14,  7, 27,  6, 21,\n",
              "       14, 27, 27])"
            ]
          },
          "metadata": {},
          "execution_count": 16
        }
      ]
    },
    {
      "cell_type": "code",
      "source": [
        "msj_txt=[indice_a_letra[k] for k in M]\n",
        "print(msj_txt)\n"
      ],
      "metadata": {
        "colab": {
          "base_uri": "https://localhost:8080/"
        },
        "id": "mi9N1080h2KO",
        "outputId": "754473b4-e930-491c-8a8f-0be282079c74"
      },
      "execution_count": null,
      "outputs": [
        {
          "output_type": "stream",
          "name": "stdout",
          "text": [
            "['A', 'R', 'E', ' ', 'Y', 'O', 'U', ' ', 'H', 'A', 'V', 'I', 'N', 'G', ' ', 'F', 'U', 'N', ' ', ' ']\n"
          ]
        }
      ]
    },
    {
      "cell_type": "markdown",
      "source": [
        "##3. **Diagonalización**.\n",
        "\n",
        "Se sabe que un sistema físico es gobernado por las ecuaciones,\n",
        "\n",
        "\n",
        "\n",
        "$$\n",
        "\\begin{matrix}\n",
        "x' &=& 2x&-y&+z, \\\\\n",
        "y' &=&   &3y&-1z, \\\\\n",
        "z' &=& 2x&+y&+3z,\n",
        "\\end{matrix}\n",
        "$$\n",
        "\n",
        "donde $x',y',z'$ son las derivadas, en forma vectorial esto se puede representar como $\\mathbf{r}'=A\\mathbf{r}$ que tiene solución analítica general, $\\mathbf{r} = e^{At} \\mathbf{r}(0)$.<br> \n",
        "a) Diagonalize $A$.<br> \n",
        "\n",
        "b) Use el hecho de que $f(A) =U f(D) U^{-1}$ para encontrar $x(t),y(t),z(t)$ en el intervalo de tiempo $[0,2]$.<br>.\n",
        "c) Grafique $x(t),y(t),z(t)$ (use la condición inicial $\\mathbf{r}(0)=(1,1,2))$.<br> \n",
        "d) Compare el resultado a la solución analítica,\n",
        "\n",
        "$$\n",
        "\\begin{align}\n",
        "2x & = x(0)(e^{2t}(1+e^{2t}-2t)) + y(0) (-2te^{2t}) + z(0)(e^{2t}(-1+e^{2t})), \\\\\n",
        "2y & = x(0)(-e^{2t}(-1+e^{2t}-2t)) + y(0)(2(t+1)e^{2t}) + z(0)(-e^{2t}(-1+e^{2t})), \\\\\n",
        "2z & = x(0)(e^{2t}(-1+e^{2t}+2t)) + y(0)(2te^{2t}) + z(0)(e^{2t}(1+e^{2t})).\n",
        "\\end{align}\n",
        "$$\n"
      ],
      "metadata": {
        "id": "_NtqXK7ijWjA"
      }
    },
    {
      "cell_type": "code",
      "source": [
        "#Definamos la matriz A de coeficientes del sistema de ecuaciones diferenciales:\n",
        "\n",
        "A=np.array([[2,-1,1],\n",
        "            [0,3,-1],\n",
        "            [2,1,3]])\n",
        "A"
      ],
      "metadata": {
        "colab": {
          "base_uri": "https://localhost:8080/"
        },
        "id": "bnQVUuKjjbSy",
        "outputId": "0df2b7a3-bc5e-4e8b-ea20-5f5c83bfab27"
      },
      "execution_count": null,
      "outputs": [
        {
          "output_type": "execute_result",
          "data": {
            "text/plain": [
              "array([[ 2, -1,  1],\n",
              "       [ 0,  3, -1],\n",
              "       [ 2,  1,  3]])"
            ]
          },
          "metadata": {},
          "execution_count": 24
        }
      ]
    },
    {
      "cell_type": "code",
      "source": [
        "# a) Diagonalizacion de la matriz A :\n",
        "\n",
        "eigvaluesA , eigvectorsA  = np.linalg.eigh(A)\n",
        "\n",
        "U= eigvectorsA  # Matriz cuyas columnas son los vectores propios de A\n",
        "\n",
        "U_inv=np.linalg.inv(U)\n",
        "U_inv\n",
        "\n",
        "D=np.diag(eigvaluesA)\n",
        "D\n",
        "\n"
      ],
      "metadata": {
        "colab": {
          "base_uri": "https://localhost:8080/"
        },
        "id": "Ka5DeT3xmFot",
        "outputId": "191b3900-fce6-4151-ba84-133bb7d3f923"
      },
      "execution_count": null,
      "outputs": [
        {
          "output_type": "execute_result",
          "data": {
            "text/plain": [
              "array([[0.29072464, 0.        , 0.        ],\n",
              "       [0.        , 2.80606343, 0.        ],\n",
              "       [0.        , 0.        , 4.90321193]])"
            ]
          },
          "metadata": {},
          "execution_count": 113
        }
      ]
    },
    {
      "cell_type": "code",
      "source": [
        "# Usar el hecho de que:  f(A) = U f(D) U`−1 ,  para encontrar  x(t),y(t),z(t)  en el intervalo de tiempo  [0,2] .\n",
        "\n",
        "\n",
        "t=np.linspace(0,2,1000)\n",
        "r0=np.array([1,1,2])\n",
        "\n",
        "r_sol=np.zeros((len(t),3))\n",
        "\n",
        "def f(X):\n",
        "  f=np.exp(X)\n",
        "  return f\n",
        "\n",
        "for i,ti in enumerate(t):\n",
        "\n",
        "  f_exp = f(D*ti)\n",
        "  r = (U @ f_exp @ U_inv) @ r0\n",
        "  r_sol[i] = r\n",
        "\n",
        "r_sol                            # vector de solucion con tantas filas como instantes temporales y de 3 columnas\n",
        "\n",
        "\n"
      ],
      "metadata": {
        "colab": {
          "base_uri": "https://localhost:8080/"
        },
        "id": "15t5gs422xuV",
        "outputId": "8e109d4f-9aa8-47de-90cf-045af902ba6c"
      },
      "execution_count": null,
      "outputs": [
        {
          "output_type": "execute_result",
          "data": {
            "text/plain": [
              "array([[-1.83169773e+00,  2.98299412e+00,  3.44779313e+00],\n",
              "       [-1.81962540e+00,  2.99305238e+00,  3.46589961e+00],\n",
              "       [-1.80743163e+00,  3.00320777e+00,  3.48418419e+00],\n",
              "       ...,\n",
              "       [ 2.24941688e+04,  1.71990989e+04,  3.26732039e+04],\n",
              "       [ 2.27161526e+04,  1.73686242e+04,  3.29955168e+04],\n",
              "       [ 2.29403266e+04,  1.75398210e+04,  3.33210093e+04]])"
            ]
          },
          "metadata": {},
          "execution_count": 137
        }
      ]
    },
    {
      "cell_type": "code",
      "source": [
        "x_1 = r_sol[:,0]\n",
        "y_1 = r_sol[:,1]\n",
        "z_1 = r_sol[:,2]\n",
        "\n"
      ],
      "metadata": {
        "id": "-CfeG7kp4QJr"
      },
      "execution_count": null,
      "outputs": []
    },
    {
      "cell_type": "code",
      "source": [
        "#Solucion analitica:\n",
        "\n",
        "t=np.linspace(0,2,1000)\n",
        "r0=np.array([1,1,2])\n",
        "\n",
        "x_2=0.5 *(r0[0]*( np.exp(2*t)*(1 + np.exp(2*t)-2*t))    +  r0[1]*(-2*t*np.exp(2*t))     +   r0[2]*(np.exp(2*t)*(np.exp(2*t) - 1)))\n",
        "y_2=0.5 *(r0[0]*( np.exp(-2*t)*(-1 + np.exp(2*t)-2*t))  +  r0[1]*(2*(t+1)*np.exp(2*t))  +   r0[2]*(np.exp(2*t)*(-np.exp(2*t) +1)))\n",
        "z_2=0.5 *(r0[0]*( np.exp(2*t)*(-1 + np.exp(2*t)-2*t))   +  r0[1]*(2*t*np.exp(2*t))      +   r0[2]*(np.exp(2*t)*(np.exp(2*t) + 1)))"
      ],
      "metadata": {
        "id": "8Gs58Lm4j3S2"
      },
      "execution_count": null,
      "outputs": []
    },
    {
      "cell_type": "code",
      "source": [
        "plt.plot(t,x_1,color='blue',label='$ x $ por diagonalizacion')\n",
        "plt.plot(t,y_1,color='lawngreen',label='$ y $ por diagonalizacion')\n",
        "plt.plot(t,z_1,color='crimson',label='$ z $ por diagonalizacion')\n",
        "plt.plot(t,x_2,'c--',label='$ x $ analitica')\n",
        "plt.plot(t,y_2,'g--',label='$ y $ analitica')\n",
        "plt.plot(t,z_2,'r--',label='$ z $ analitica')\n",
        "plt.grid()\n",
        "plt.legend()"
      ],
      "metadata": {
        "colab": {
          "base_uri": "https://localhost:8080/",
          "height": 451
        },
        "id": "bdBwizNsmxWl",
        "outputId": "d5a05267-d815-4702-d7ef-ff71fc519a22"
      },
      "execution_count": null,
      "outputs": [
        {
          "output_type": "execute_result",
          "data": {
            "text/plain": [
              "<matplotlib.legend.Legend at 0x7f91c4ac8070>"
            ]
          },
          "metadata": {},
          "execution_count": 157
        },
        {
          "output_type": "display_data",
          "data": {
            "text/plain": [
              "<Figure size 640x480 with 1 Axes>"
            ],
            "image/png": "[encoded data removed]"
          },
          "metadata": {}
        }
      ]
    },
    {
      "cell_type": "code",
      "source": [
        "enumerate?"
      ],
      "metadata": {
        "id": "ujZIBI4Vo6Lp"
      },
      "execution_count": null,
      "outputs": []
    },
    {
      "cell_type": "code",
      "source": [],
      "metadata": {
        "id": "SaXBVkPXo89P"
      },
      "execution_count": null,
      "outputs": []
    }
  ]
}