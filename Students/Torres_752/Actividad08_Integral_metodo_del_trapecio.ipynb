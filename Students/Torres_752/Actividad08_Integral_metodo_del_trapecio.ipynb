{
  "nbformat": 4,
  "nbformat_minor": 0,
  "metadata": {
    "colab": {
      "provenance": []
    },
    "kernelspec": {
      "name": "python3",
      "display_name": "Python 3"
    },
    "language_info": {
      "name": "python"
    }
  },
  "cells": [
    {
      "cell_type": "markdown",
      "source": [
        "# Actividad \n",
        "1. Elaborar un programa en python que permita calcular la integral de una función entre el intervalo a, b. para ello debera realizar lo siguiente:\n",
        "\n",
        "## Realizar en notebook de collab\n",
        "- Deducir la ecuación general del metodo del trapecio.\n",
        "- Construir un funcion llamada integral_trapz que reciba como argumento una función y el intervalo a, b. El numero de intervalos N será un argumento opcional, \n",
        "  defina por defecto N=10. La función deberá retornar el valor de la integral.  \n",
        "- Comparar la solución con la libreria de scipy https://docs.scipy.org/doc//scipy-1.4.1/reference/generated/scipy.integrate.trapz.html\n",
        "\n",
        "## Construir un programa en python con la función anterior que realice lo siguiente:  \n",
        "\n",
        "- Generalice el programa para que la funcion pueda ser pasada como parametro en terminal, junto con el parametro a, b. la ejecucion debera ser:\n",
        "  python integral func a b, Ejemplo de ejcucion:\n",
        "  python x**2+1 1 5  \n",
        "\n",
        "Para pasar los parametros consulte la libreria sys de python."
      ],
      "metadata": {
        "id": "wjlafniSdWD-"
      }
    },
    {
      "cell_type": "code",
      "execution_count": 1,
      "metadata": {
        "id": "YahVQ7_8cNvI"
      },
      "outputs": [],
      "source": [
        "import numpy as np\n",
        "import scipy as sc\n",
        "from matplotlib import pyplot as plt"
      ]
    },
    {
      "cell_type": "markdown",
      "source": [
        "\n",
        "\n",
        "\n",
        "**Ecuación del método de los trapecios:**\n",
        "\n",
        "\\begin{equation}\n",
        "T_n =\\frac{h}{2} [f(a)  + 2\\sum_{i=1}^{n-1}f(x_{i}) +f(b) ]\n",
        "\\end{equation}\n",
        "\n",
        "\\begin{equation}\n",
        "h=\\frac{b-a}{n}\n",
        "\\end{equation}\n",
        "\n",
        "\n"
      ],
      "metadata": {
        "id": "gV0skQ0jeTAO"
      }
    },
    {
      "cell_type": "code",
      "source": [
        "def integral_trapz_1(funcion,a,b, N=10):\n",
        "\n",
        "  \n",
        "  A=np.zeros(N)\n",
        "  h=(b-a)/N\n",
        "\n",
        "  for i in range(N):\n",
        "    \n",
        "    xi=a+i*h\n",
        "    xj=xi+h\n",
        "    \n",
        "    yi=funcion(xi)\n",
        "    yj=funcion(xj)\n",
        "\n",
        "    Ai=(h*(yi+yj))/2\n",
        "    A[i]=Ai\n",
        "\n",
        "  T_n = A.sum()\n",
        "\n",
        "  return T_n\n"
      ],
      "metadata": {
        "id": "fpX1HzftfHu5"
      },
      "execution_count": 3,
      "outputs": []
    },
    {
      "cell_type": "code",
      "source": [
        "f=lambda x:x**2 +1\n",
        "a=0\n",
        "b=1\n",
        "N=100\n",
        "h=(b-a)/N\n",
        "\n",
        "print(f'Resultado de la primera \"funcion construida\" para calcular la integral: I1={integral_trapz_1(f,a,b,N)}')"
      ],
      "metadata": {
        "id": "YnOlw0PHjWZh",
        "colab": {
          "base_uri": "https://localhost:8080/"
        },
        "outputId": "2b564e52-7adc-4702-d5e6-c144a50c6366"
      },
      "execution_count": 20,
      "outputs": [
        {
          "output_type": "stream",
          "name": "stdout",
          "text": [
            "Resultado de la primera \"funcion construida\" para calcular la integral: I1=1.3333500000000003\n"
          ]
        }
      ]
    },
    {
      "cell_type": "code",
      "source": [
        "\n",
        "#-------------------------------------------------------------------------------------\n",
        "# SOLUCION ALTERNATIVA (Version vectorizada):\n",
        "\n",
        "a=0\n",
        "b=1\n",
        "N=10\n",
        "h=(b-a)/N\n",
        "\n",
        "\n",
        "x=np.linspace(a,b,N+1)                                  # Se  construye un arreglo con el intervalo particionado segun el numero de puntos N\n",
        "\n",
        "A_t=(  (f(x[0])+f(x[-1]))*(h/2))  +  f(x[1:-1]).sum()*h     # Aplicamos la ecuacion del metodo del trapecio mostrada en la parte superior, a partir del arreglo con nombre 'x', que se definio en la linea anterior\n",
        "\n",
        "A_t\n"
      ],
      "metadata": {
        "id": "NZrpjKv1j4EE"
      },
      "execution_count": null,
      "outputs": []
    },
    {
      "cell_type": "code",
      "source": [
        "def integral_trapz_2(funcion,a,b, N=10):\n",
        "  \n",
        "  h=(b-a)/N\n",
        "  x=np.linspace(a,b,N+1)                                  \n",
        "\n",
        "  A_t=((f(x[0])+f(x[-1]))*(h/2))+  f(x[1:-1]).sum()*h    \n",
        "\n",
        "  return A_t\n"
      ],
      "metadata": {
        "id": "cukiVcxxpxhk"
      },
      "execution_count": 17,
      "outputs": []
    },
    {
      "cell_type": "code",
      "source": [
        "function=\"x**2 +1\"\n",
        "f=lambda x: eval(function)\n",
        "\n",
        "a=0\n",
        "b=1\n",
        "N=100\n",
        "h=(b-a)/N\n",
        "\n",
        "print(f'Resultado de la segunda \"funcion construida\" para calcular la integral: I2={integral_trapz_2(f,a,b,N)}')\n"
      ],
      "metadata": {
        "colab": {
          "base_uri": "https://localhost:8080/"
        },
        "id": "6qNitJuYqK5-",
        "outputId": "3fa3615e-741c-4810-c9de-852c3f7b1f24"
      },
      "execution_count": 22,
      "outputs": [
        {
          "output_type": "stream",
          "name": "stdout",
          "text": [
            "Resultado de la segunda \"funcion construida\" para calcular la integral: I2=1.3333499999999998\n"
          ]
        }
      ]
    },
    {
      "cell_type": "code",
      "source": [
        "## Comparacion con la libreria de scipy\n",
        "\n",
        "function=\"x**2 +1\"\n",
        "f=lambda x: eval(function)\n",
        "\n",
        "a=0\n",
        "b=1\n",
        "N=10\n",
        "h=(b-a)/N\n",
        "\n",
        "x=np.linspace(a,b,N+1)  \n",
        "\n",
        "T_n=sc.integrate.trapz(f(x),x)\n",
        "\n",
        "T_n"
      ],
      "metadata": {
        "colab": {
          "base_uri": "https://localhost:8080/"
        },
        "id": "gHFpbZwHqeKN",
        "outputId": "d1253dbf-aad5-411d-abd9-0b676f1823eb"
      },
      "execution_count": 24,
      "outputs": [
        {
          "output_type": "execute_result",
          "data": {
            "text/plain": [
              "1.3349999999999997"
            ]
          },
          "metadata": {},
          "execution_count": 24
        }
      ]
    },
    {
      "cell_type": "code",
      "source": [
        "# otro metodo para ingresar una funcion\n",
        "\n",
        "function=\"x**2+np.log(x+1)\"\n",
        "f=lambda x: eval(function)"
      ],
      "metadata": {
        "id": "VXTRk5i5pSLT"
      },
      "execution_count": null,
      "outputs": []
    }
  ]
}