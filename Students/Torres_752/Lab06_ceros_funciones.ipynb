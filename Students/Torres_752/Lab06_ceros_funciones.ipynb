{
  "nbformat": 4,
  "nbformat_minor": 0,
  "metadata": {
    "colab": {
      "provenance": [],
      "collapsed_sections": [
        "DIOVE0E1XZ1-",
        "dI-_lFTzBCqU",
        "3SVJWnEeVcAP",
        "zxQOD2FgQIfM",
        "Ok4b668dWU_A"
      ]
    },
    "kernelspec": {
      "name": "python3",
      "display_name": "Python 3"
    },
    "language_info": {
      "name": "python"
    }
  },
  "cells": [
    {
      "cell_type": "markdown",
      "source": [
        "<a href=\"https://colab.research.google.com/github/hernansalinas/autogrades/blob/main/Laboratorios_Taller/Lab06_ceros_funciones.ipynb\" target=\"_parent\"><img src=\"https://colab.research.google.com/assets/colab-badge.svg\" alt=\"Open In Colab\"/></a>\n"
      ],
      "metadata": {
        "id": "IgVsqbRHO_tR"
      }
    },
    {
      "cell_type": "markdown",
      "source": [
        "# Codigo Markdown:\n",
        "Los numeras a, b, c y d tiene que ver con escritura en código Markdown y comandos de latex: \n",
        "\n",
        "a. Escriba en pseudocódigo los pasos para aplicar el método de la bisección.\n",
        "\n",
        "b. Realice la deducción del metodo de Newton-Rapshon, se recomienda escribir las ecuaciones en formato latex, para ello puede emplear las siguientes expresiones:\n",
        "\n",
        "c. ¿Cuál es la diferencia del metodo de Newton-Rapson con respecto al de la secante?\n",
        "\n",
        "\n",
        "d. Escriba en pseudocódigo los pasos para aplicar el método Punto Fijo.\n",
        "\n",
        "\n",
        "\n",
        "Comentarios para escribir en latex\n",
        "\n",
        "*   Entre simbolos \\$ \\$, puedes porner expresiones  puede poner expresiones, ejemplo:  $y = a_0 x^2 + b_1$  \n",
        "\n",
        "*  Las funciones pueden ser definidas entre \\\\$,  poniendo un \\\\, antes de la funcion ejemplo: \\\\$ \\\\sinx \\\\$,   asi las funciones quedarian de esta manera : \n",
        "\n",
        "> $\\sin x$, $\\tan x$, $\\sec x$, $\\sqrt{a} $, $\\frac{a}{b}, \\frac{df}{dt}$\n",
        "\n",
        "* Puedes generar tambien escribir ecuaciones con la instrucción:\n",
        "\n",
        "  \\\\begin{equation} \n",
        "\n",
        "    \\\\sin x  \n",
        "  \n",
        "  \\\\end{equation}\n",
        "\n",
        "Ejemplo:\n",
        "\n",
        "  \\begin{equation} \n",
        "    \\frac{df}{dx} = \\sin x  \n",
        "  \\end{equation}\n",
        "\n",
        "\n",
        "\n",
        "\n",
        "\n"
      ],
      "metadata": {
        "id": "HmTyV2-NQKwR"
      }
    },
    {
      "cell_type": "markdown",
      "source": [
        "# 2. Ceros de funciones\n",
        "*Encontrar* los ceros de $e^{x}-2= \\cos(e^x-2)$ por diferentes metodos, bisection, newton-rapshon, punto fijo."
      ],
      "metadata": {
        "id": "DIOVE0E1XZ1-"
      }
    },
    {
      "cell_type": "code",
      "source": [
        "import numpy as np \n",
        "import matplotlib.pylab as plt\n",
        "import scipy as sc\n",
        "import sympy as sp"
      ],
      "metadata": {
        "id": "XLLctt2k-sWw"
      },
      "execution_count": null,
      "outputs": []
    },
    {
      "cell_type": "code",
      "source": [
        "#---------------------------------------------------------------------------------------------------------\n",
        "# Raíz de la función f(x) = e^x -2 - cos(e^x -2) por el Método de Biseccion.\n",
        "\n",
        "\n",
        "x=np.linspace(-2,2,1000)                             # Dominio de definición de la función.\n",
        "f=lambda x: np.exp(x) - 2 - np.cos(np.exp(x) - 2)\n",
        "\n",
        "\n",
        "\n",
        "\n",
        "\n",
        "x_bis = sc.optimize.bisect(f,-2,2)                   # Cero de la función\n",
        "\n",
        "print(f'x_bis = {x_bis}')\n",
        "\n",
        "\n",
        "\n",
        "#-------------------------------------------------------------\n",
        "\n",
        "plt.plot(x,f(x),c='green',label='f(x) = exp(x) - cos(exp(x) - 2) - 2 ')\n",
        "plt.scatter(x_bis,0)\n",
        "plt.text(x_bis,0,f'({x_bis:.4f},0)')\n",
        "plt.grid()\n",
        "plt.legend()\n",
        "\n"
      ],
      "metadata": {
        "colab": {
          "base_uri": "https://localhost:8080/",
          "height": 302
        },
        "id": "PNK2a1WM_MOw",
        "outputId": "97921947-6329-47f2-f89e-34bac5987966"
      },
      "execution_count": null,
      "outputs": [
        {
          "output_type": "stream",
          "name": "stdout",
          "text": [
            "x_bis = 1.0076239716563578\n"
          ]
        },
        {
          "output_type": "execute_result",
          "data": {
            "text/plain": [
              "<matplotlib.legend.Legend at 0x7ff0f61ecb50>"
            ]
          },
          "metadata": {},
          "execution_count": 2
        },
        {
          "output_type": "display_data",
          "data": {
            "text/plain": [
              "<Figure size 432x288 with 1 Axes>"
            ],
            "image/png": "[encoded data removed]"
          },
          "metadata": {
            "needs_background": "light"
          }
        }
      ]
    },
    {
      "cell_type": "code",
      "source": [
        "#---------------------------------------------------------------------------------------------------------\n",
        "# Raíz de la función f(x) = e^x -2 - cos(e^x -2) por el Método de Newton.\n",
        "\n",
        "# Obtenemos la derivada de la función de interés de forma simbólica a través sympy.\n",
        "\n",
        "\n",
        "x= sp.symbols('x')   \n",
        "\n",
        "F=lambda x: sp.exp(x) - 2 - sp.cos(sp.exp(x) - 2)\n",
        "\n",
        "F_prima = sp.diff(F(x),x)\n",
        "\n",
        "print('f(x) =', F(x),'\\n''g(x) = f`(x) = ',F_prima )\n",
        "\n",
        "\n"
      ],
      "metadata": {
        "colab": {
          "base_uri": "https://localhost:8080/"
        },
        "id": "Mrw9YZ3dl9aO",
        "outputId": "e68ddba3-d837-409f-a8d7-5c2f6b3f9c3a"
      },
      "execution_count": null,
      "outputs": [
        {
          "output_type": "stream",
          "name": "stdout",
          "text": [
            "f(x) = exp(x) - cos(exp(x) - 2) - 2 \n",
            "g(x) = f`(x) =  exp(x)*sin(exp(x) - 2) + exp(x)\n"
          ]
        }
      ]
    },
    {
      "cell_type": "code",
      "source": [
        "# Convertimos f y f´ en funciones operables:\n",
        "\n",
        "\n",
        "f=sp.lambdify(x,F(x),modules='numpy')\n",
        "f_prima=sp.lambdify(x,F_prima,modules='numpy')\n",
        "\n",
        "\n",
        "\n",
        "\n",
        "x_newton = sc.optimize.newton(f,0.7,f_prima) # Cero de la función\n",
        "\n",
        "print(f'x_newton = {x_newton}')\n",
        "\n"
      ],
      "metadata": {
        "colab": {
          "base_uri": "https://localhost:8080/"
        },
        "id": "gmRSmu5ZocBu",
        "outputId": "78ba635f-e314-45ef-f57f-e4fd40808b86"
      },
      "execution_count": null,
      "outputs": [
        {
          "output_type": "stream",
          "name": "stdout",
          "text": [
            "x_newton = 1.0076239716581368\n"
          ]
        }
      ]
    },
    {
      "cell_type": "code",
      "source": [
        "x_=np.linspace(-2,2,1000)   # Dominio de definición de la función.\n",
        "plt.plot(x_,f(x_),c='purple',label='f(x) = exp(x) - cos(exp(x) - 2) - 2 ')\n",
        "plt.scatter(x_newton,0)\n",
        "plt.text(x_newton,0,f'({x_newton:.4f},0)')\n",
        "plt.grid()\n",
        "plt.legend()"
      ],
      "metadata": {
        "colab": {
          "base_uri": "https://localhost:8080/",
          "height": 284
        },
        "id": "SnaNiWNRrtmD",
        "outputId": "8aff90db-fdb5-4b42-cb18-f1f33c35d1e3"
      },
      "execution_count": null,
      "outputs": [
        {
          "output_type": "execute_result",
          "data": {
            "text/plain": [
              "<matplotlib.legend.Legend at 0x7ff0f3f2a640>"
            ]
          },
          "metadata": {},
          "execution_count": 5
        },
        {
          "output_type": "display_data",
          "data": {
            "text/plain": [
              "<Figure size 432x288 with 1 Axes>"
            ],
            "image/png": "[encoded data removed]"
          },
          "metadata": {
            "needs_background": "light"
          }
        }
      ]
    },
    {
      "cell_type": "code",
      "source": [
        "#---------------------------------------------------------------------------------------------------------\n",
        "# Raíz de la función f(x) = e^x -2 - cos(e^x -2) por el Método de la Secante.\n",
        "\n",
        "x=np.linspace(-1,2,1000)                              #  Dominio de definición de la función.\n",
        "f=lambda x: np.exp(x) - 2 - np.cos(np.exp(x) - 2)      # Definición de la función.\n",
        "\n",
        "\n",
        "x_secante = sc.optimize.newton(f,0.7,fprime=None)\n",
        "print(f'x_secante = {x_secante}')"
      ],
      "metadata": {
        "colab": {
          "base_uri": "https://localhost:8080/"
        },
        "id": "_8ieJDzwtdl4",
        "outputId": "212e7747-e3f2-4ea0-ee59-cca7880a7fc4"
      },
      "execution_count": null,
      "outputs": [
        {
          "output_type": "stream",
          "name": "stdout",
          "text": [
            "x_secante = 1.007623971658234\n"
          ]
        }
      ]
    },
    {
      "cell_type": "code",
      "source": [
        "plt.plot(x,f(x),c='orange',label='f(x) = exp(x) - cos(exp(x) - 2) - 2 ')\n",
        "plt.scatter(x_secante,0)\n",
        "plt.text(x_secante,0,f'({x_secante:.4f},0)')\n",
        "plt.grid()\n",
        "plt.legend()"
      ],
      "metadata": {
        "colab": {
          "base_uri": "https://localhost:8080/",
          "height": 284
        },
        "id": "Yyt9uZPwuXuF",
        "outputId": "18146f19-cb96-4e43-f300-5ea9292c5242"
      },
      "execution_count": null,
      "outputs": [
        {
          "output_type": "execute_result",
          "data": {
            "text/plain": [
              "<matplotlib.legend.Legend at 0x7ff0f3ea5ac0>"
            ]
          },
          "metadata": {},
          "execution_count": 7
        },
        {
          "output_type": "display_data",
          "data": {
            "text/plain": [
              "<Figure size 432x288 with 1 Axes>"
            ],
            "image/png": "[encoded data removed]"
          },
          "metadata": {
            "needs_background": "light"
          }
        }
      ]
    },
    {
      "cell_type": "code",
      "source": [
        "#---------------------------------------------------------------------------------------------------------\n",
        "# Raíz de la función f(x) = e^x -2 - cos(e^x -2) por el Método de Punto Fijo.\n",
        "\n",
        "x=np.linspace(-1,2,1000)                              # Dominio de definición de la función.\n",
        "f=lambda x: np.exp(x) - 2 - np.cos(np.exp(x) - 2)     # Definición de la función.\n",
        "f_a=lambda x: x-f(x)                                  # Función auxiliar necesaria para aplicar el método de punto fijo con la libreria de  scipy.\n",
        "\n",
        "plt.plot(x,f_a(x),c='blue',label='y = x - (exp(x) - cos(exp(x) - 2) - 2) ')\n",
        "plt.plot(x,x)\n",
        "plt.grid()\n",
        "plt.legend(loc='best')\n"
      ],
      "metadata": {
        "colab": {
          "base_uri": "https://localhost:8080/",
          "height": 282
        },
        "id": "U8MNFsl6v20F",
        "outputId": "180bf745-9177-4834-990f-b3849679e761"
      },
      "execution_count": null,
      "outputs": [
        {
          "output_type": "execute_result",
          "data": {
            "text/plain": [
              "<matplotlib.legend.Legend at 0x7ff0f3ea5760>"
            ]
          },
          "metadata": {},
          "execution_count": 8
        },
        {
          "output_type": "display_data",
          "data": {
            "text/plain": [
              "<Figure size 432x288 with 1 Axes>"
            ],
            "image/png": "[encoded data removed]"
          },
          "metadata": {
            "needs_background": "light"
          }
        }
      ]
    },
    {
      "cell_type": "code",
      "source": [
        "p_0 = 0.7                             # Escogemos este punto crcano al cero de la función para utilizarlo en el metodo de la siguiente linea.\n",
        "x_pfijo = sc.optimize.fixed_point(f_a, p_0)\n",
        "print(f'x_pfijo = {x_pfijo}') "
      ],
      "metadata": {
        "colab": {
          "base_uri": "https://localhost:8080/"
        },
        "id": "En1OD6Udw356",
        "outputId": "5d26c27a-5b83-4617-f69b-9e841f8cad93"
      },
      "execution_count": null,
      "outputs": [
        {
          "output_type": "stream",
          "name": "stdout",
          "text": [
            "x_pfijo = 1.0076239716581368\n"
          ]
        }
      ]
    },
    {
      "cell_type": "markdown",
      "source": [
        "#3. Partícula en reposo\n",
        "Una particula parte del reposo sobre un plano inclinado uniforme, cuyo ángulo \n",
        "$\\theta$ cambia con una rapidez constante de : \n",
        "\n",
        "\\begin{equation}\n",
        "\\frac{\\mathrm{d}\\theta}{\\mathrm{d} t} = \\omega < 0\n",
        "\\end{equation}\n",
        "\n",
        "Al final de t segundos, la posición del objeto esta dada por: \n",
        "\n",
        "\n",
        "\\begin{equation}\n",
        "x(t) = -\\frac{g}{2\\omega^2} \\left( \\frac{e^{\\omega t}-e^{-\\omega t}}{2}-\\sin\\omega t\\right) \n",
        "\\end{equation}\n",
        "\n",
        "Suponga que la particula se desplazo 0.51m en 1s. Encuentre, con exactitud de $10^{-5}$ la rapidez $\\omega$ con que cambia $\\theta$. Supoga $g=9.76$m/s"
      ],
      "metadata": {
        "id": "dI-_lFTzBCqU"
      }
    },
    {
      "cell_type": "code",
      "source": [
        "import numpy as np\n",
        "import scipy as sc\n",
        "import matplotlib.pyplot as plt\n",
        " \n",
        "\n",
        "# Definicion de parámetros dados en el problema:\n",
        "\n",
        "t1= 1       # Tiempo dado t1, [s]\n",
        "x1= 0.51    # Posición de la partícula en t1, [m]\n",
        "g = 9.76    # Aceleración de la gravedad, [m/s^2]\n",
        "ϵ = 1e-5    # Precisión exigida\n",
        "\n",
        "            # Incognita: ω, [rad/s]\n",
        "\n",
        "\n"
      ],
      "metadata": {
        "id": "s3XgZKToBS7K"
      },
      "execution_count": null,
      "outputs": []
    },
    {
      "cell_type": "markdown",
      "source": [
        "La ecuación trascendente que surge de este problema es la siguiente:\n",
        "\n",
        "\n",
        "\\begin{equation}\n",
        "\\frac{2 x_1\\omega^2}{g} + \\left( \\frac{e^{\\omega t_1}-e^{-\\omega t_1}}{2}-\\sin\\omega t_1\\right) =0\n",
        "\\end{equation}"
      ],
      "metadata": {
        "id": "o7Zq1qP00x-N"
      }
    },
    {
      "cell_type": "code",
      "source": [
        "# Ahora definimos una función a partir de la ecuación anterior, sobre la cual aplicaremos alguno de los métodos de hallazgo de ceros.\n",
        "\n",
        "h=lambda ω :   ((2*x1)/g)*(ω**2) + (np.exp(t1*ω) - np.exp(-t1*ω))/2 - np.sin(t1*ω)\n",
        "\n",
        "\n",
        "\n",
        "\n",
        "\n",
        "\n",
        "# Aplicando el método de la Secante:\n",
        "\n",
        "a0=-2  # Para evitar que el programa nos arroje el valor ω00, ingresamos como punto de estimación inicial para el cero de interes en a = -2.\n",
        "\n",
        "ω_sol=sc.optimize.newton(h, a0, tol=ϵ)\n",
        "\n",
        "# Aplicando el método de la bisección\n",
        "a=-0.4\n",
        "b=-0.2\n",
        "ω_sol=sc.optimize.bisect(h,a,b, xtol=ϵ)\n",
        "\n",
        "\n",
        "\n",
        "\n",
        "print(f'La velocidad angular del plano por el que desciende la partícula sería de ω = {ω_sol:.5f} [rad/s],''\\n'f'de tal modo que: h(ω_sol) = {h(ω_sol):.5}')\n",
        "\n",
        "\n",
        "\n"
      ],
      "metadata": {
        "colab": {
          "base_uri": "https://localhost:8080/"
        },
        "id": "mravYgB61ePq",
        "outputId": "a7fe02fe-1a2f-497c-92e6-f7258f160880"
      },
      "execution_count": null,
      "outputs": [
        {
          "output_type": "stream",
          "name": "stdout",
          "text": [
            "La velocidad angular del plano por el que desciende la partícula sería de ω = -0.31352 [rad/s],\n",
            "de tal modo que: h(ω_sol) = 5.5599e-08\n"
          ]
        }
      ]
    },
    {
      "cell_type": "code",
      "source": [
        "ω = np.linspace(-2,1,100)\n",
        "\n",
        "plt.plot(ω,h(ω),label= 'h(ω) ')\n",
        "plt.xlabel(\"ω\")\n",
        "plt.ylabel(\"h(ω)\")\n",
        "plt.plot(ω_sol,0, \"ro\")\n",
        "\n",
        "plt.grid()\n",
        "plt.legend()"
      ],
      "metadata": {
        "colab": {
          "base_uri": "https://localhost:8080/"
        },
        "id": "e8320Sqb9ixH",
        "outputId": "41c04e08-1dcd-4822-92ef-f47a4a121fb8"
      },
      "execution_count": null,
      "outputs": [
        {
          "output_type": "execute_result",
          "data": {
            "text/plain": [
              "<matplotlib.legend.Legend at 0x7ff0f3e7a3d0>"
            ]
          },
          "metadata": {},
          "execution_count": 12
        },
        {
          "output_type": "display_data",
          "data": {
            "text/plain": [
              "<Figure size 432x288 with 1 Axes>"
            ],
            "image/png": "[encoded data removed]"
          },
          "metadata": {
            "needs_background": "light"
          }
        }
      ]
    },
    {
      "cell_type": "markdown",
      "source": [
        "#4.  Area \n",
        "Hallar el área de un segmento circular cuya area sea igual a una cuarta parte del área del circulo. Para la solución se sugiere lo siguiente:\n",
        "\n",
        "a) Encontrar la ecuacion trascendental.\n",
        "\n",
        "b) Con la ecuación anterior, definir una funcion $g(\\theta)=0$. Emplee la funcion labmda de python.\n",
        "\n",
        "c) Construir una data frame de pandas con la columna \"theta\" con 1000 registros(filas) entre $[-2\\pi, 2\\pi]$. Sugerencia, para construir el data frame emplee la función linspace como sigue : np.linspace(-2*np.pi, 2*np.pi, 1000 )\n",
        "\n",
        "d) Construir una segunda columna titulada \"F_theta\" con los registros f(theta)\n",
        "\n",
        "f) Realice un gráfico de  \"F_theta\" vs \"theta\". Identifique el intervalo de la raiz.\n",
        "\n",
        "Estime el valor del ángulo empleando los siguientes metodos(Emplee  la documentacion):\n",
        "\n",
        "g) [Bisección](https://docs.scipy.org/doc/scipy/reference/generated/scipy.optimize.bisect.html)\n",
        "\n",
        "h) [Newton-Rapshon](https://docs.scipy.org/doc/scipy/reference/generated/scipy.optimize.newton.html)\n",
        "\n",
        "i) [Secante](https://docs.scipy.org/doc/scipy/reference/generated/scipy.optimize.newton.html) \n",
        "\n",
        "j) [Punto Fijo](https://docs.scipy.org/doc/scipy/reference/generated/scipy.optimize.fixed_point.html)\n"
      ],
      "metadata": {
        "id": "3SVJWnEeVcAP"
      }
    },
    {
      "cell_type": "code",
      "source": [
        "import numpy as np\n",
        "import pandas as pd\n",
        "import matplotlib.pyplot as plt\n"
      ],
      "metadata": {
        "id": "bZOXK5lTQhrM"
      },
      "execution_count": null,
      "outputs": []
    },
    {
      "cell_type": "code",
      "source": [
        "# a)  Area de un segmento circular : A_seg = (1/2)R² (θ - sinθ)\n"
      ],
      "metadata": {
        "id": "gRBanwnrC9-d"
      },
      "execution_count": null,
      "outputs": []
    },
    {
      "cell_type": "markdown",
      "source": [
        "*Ecuacion transacendental a resolver:*\n",
        "\n",
        "\n",
        "\\begin{equation}\n",
        "\\frac{R^2 (\\theta - sin\\theta)}{2 } = \\frac{\\pi  R^2 }{4}  \n",
        "\\end{equation}\n",
        "\n",
        "\\begin{equation}\n",
        " \\iff (\\theta - sin\\theta) = \\frac{\\pi}{2} \n",
        "\\end{equation}\n",
        "\n"
      ],
      "metadata": {
        "id": "g6LWWoYQHoDc"
      }
    },
    {
      "cell_type": "code",
      "source": [
        "# b) Definición de la función g(θ)\n",
        "\n",
        "g = lambda θ : θ - np.sin(θ) - np.pi/2\n",
        "dom_θ = np.linspace(-2*np.pi, 2*np.pi,1000)\n",
        "ran_gθ= g(dom_θ ) \n",
        "\n",
        "\n",
        "\n",
        "# c) Data frame de los valores θ\n",
        "\n",
        "df= pd.DataFrame( data = dom_θ, columns= ['θ'])\n",
        "df"
      ],
      "metadata": {
        "colab": {
          "base_uri": "https://localhost:8080/",
          "height": 424
        },
        "id": "I6VRIAzTHcIA",
        "outputId": "d1f41065-4a6e-4bcb-bbe8-c10fe6a147a9"
      },
      "execution_count": null,
      "outputs": [
        {
          "output_type": "execute_result",
          "data": {
            "text/plain": [
              "            θ\n",
              "0   -6.283185\n",
              "1   -6.270606\n",
              "2   -6.258027\n",
              "3   -6.245448\n",
              "4   -6.232870\n",
              "..        ...\n",
              "995  6.232870\n",
              "996  6.245448\n",
              "997  6.258027\n",
              "998  6.270606\n",
              "999  6.283185\n",
              "\n",
              "[1000 rows x 1 columns]"
            ],
            "text/html": [
              "\n",
              "  <div id=\"df-e5ce6e9a-2dc1-4039-a4fd-a891fbd1f18c\">\n",
              "    <div class=\"colab-df-container\">\n",
              "      <div>\n",
              "<style scoped>\n",
              "    .dataframe tbody tr th:only-of-type {\n",
              "        vertical-align: middle;\n",
              "    }\n",
              "\n",
              "    .dataframe tbody tr th {\n",
              "        vertical-align: top;\n",
              "    }\n",
              "\n",
              "    .dataframe thead th {\n",
              "        text-align: right;\n",
              "    }\n",
              "</style>\n",
              "<table border=\"1\" class=\"dataframe\">\n",
              "  <thead>\n",
              "    <tr style=\"text-align: right;\">\n",
              "      <th></th>\n",
              "      <th>θ</th>\n",
              "    </tr>\n",
              "  </thead>\n",
              "  <tbody>\n",
              "    <tr>\n",
              "      <th>0</th>\n",
              "      <td>-6.283185</td>\n",
              "    </tr>\n",
              "    <tr>\n",
              "      <th>1</th>\n",
              "      <td>-6.270606</td>\n",
              "    </tr>\n",
              "    <tr>\n",
              "      <th>2</th>\n",
              "      <td>-6.258027</td>\n",
              "    </tr>\n",
              "    <tr>\n",
              "      <th>3</th>\n",
              "      <td>-6.245448</td>\n",
              "    </tr>\n",
              "    <tr>\n",
              "      <th>4</th>\n",
              "      <td>-6.232870</td>\n",
              "    </tr>\n",
              "    <tr>\n",
              "      <th>...</th>\n",
              "      <td>...</td>\n",
              "    </tr>\n",
              "    <tr>\n",
              "      <th>995</th>\n",
              "      <td>6.232870</td>\n",
              "    </tr>\n",
              "    <tr>\n",
              "      <th>996</th>\n",
              "      <td>6.245448</td>\n",
              "    </tr>\n",
              "    <tr>\n",
              "      <th>997</th>\n",
              "      <td>6.258027</td>\n",
              "    </tr>\n",
              "    <tr>\n",
              "      <th>998</th>\n",
              "      <td>6.270606</td>\n",
              "    </tr>\n",
              "    <tr>\n",
              "      <th>999</th>\n",
              "      <td>6.283185</td>\n",
              "    </tr>\n",
              "  </tbody>\n",
              "</table>\n",
              "<p>1000 rows × 1 columns</p>\n",
              "</div>\n",
              "      <button class=\"colab-df-convert\" onclick=\"convertToInteractive('df-e5ce6e9a-2dc1-4039-a4fd-a891fbd1f18c')\"\n",
              "              title=\"Convert this dataframe to an interactive table.\"\n",
              "              style=\"display:none;\">\n",
              "        \n",
              "  <svg xmlns=\"http://www.w3.org/2000/svg\" height=\"24px\"viewBox=\"0 0 24 24\"\n",
              "       width=\"24px\">\n",
              "    <path d=\"M0 0h24v24H0V0z\" fill=\"none\"/>\n",
              "    <path d=\"M18.56 5.44l.94 2.06.94-2.06 2.06-.94-2.06-.94-.94-2.06-.94 2.06-2.06.94zm-11 1L8.5 8.5l.94-2.06 2.06-.94-2.06-.94L8.5 2.5l-.94 2.06-2.06.94zm10 10l.94 2.06.94-2.06 2.06-.94-2.06-.94-.94-2.06-.94 2.06-2.06.94z\"/><path d=\"M17.41 7.96l-1.37-1.37c-.4-.4-.92-.59-1.43-.59-.52 0-1.04.2-1.43.59L10.3 9.45l-7.72 7.72c-.78.78-.78 2.05 0 2.83L4 21.41c.39.39.9.59 1.41.59.51 0 1.02-.2 1.41-.59l7.78-7.78 2.81-2.81c.8-.78.8-2.07 0-2.86zM5.41 20L4 18.59l7.72-7.72 1.47 1.35L5.41 20z\"/>\n",
              "  </svg>\n",
              "      </button>\n",
              "      \n",
              "  <style>\n",
              "    .colab-df-container {\n",
              "      display:flex;\n",
              "      flex-wrap:wrap;\n",
              "      gap: 12px;\n",
              "    }\n",
              "\n",
              "    .colab-df-convert {\n",
              "      background-color: #E8F0FE;\n",
              "      border: none;\n",
              "      border-radius: 50%;\n",
              "      cursor: pointer;\n",
              "      display: none;\n",
              "      fill: #1967D2;\n",
              "      height: 32px;\n",
              "      padding: 0 0 0 0;\n",
              "      width: 32px;\n",
              "    }\n",
              "\n",
              "    .colab-df-convert:hover {\n",
              "      background-color: #E2EBFA;\n",
              "      box-shadow: 0px 1px 2px rgba(60, 64, 67, 0.3), 0px 1px 3px 1px rgba(60, 64, 67, 0.15);\n",
              "      fill: #174EA6;\n",
              "    }\n",
              "\n",
              "    [theme=dark] .colab-df-convert {\n",
              "      background-color: #3B4455;\n",
              "      fill: #D2E3FC;\n",
              "    }\n",
              "\n",
              "    [theme=dark] .colab-df-convert:hover {\n",
              "      background-color: #434B5C;\n",
              "      box-shadow: 0px 1px 3px 1px rgba(0, 0, 0, 0.15);\n",
              "      filter: drop-shadow(0px 1px 2px rgba(0, 0, 0, 0.3));\n",
              "      fill: #FFFFFF;\n",
              "    }\n",
              "  </style>\n",
              "\n",
              "      <script>\n",
              "        const buttonEl =\n",
              "          document.querySelector('#df-e5ce6e9a-2dc1-4039-a4fd-a891fbd1f18c button.colab-df-convert');\n",
              "        buttonEl.style.display =\n",
              "          google.colab.kernel.accessAllowed ? 'block' : 'none';\n",
              "\n",
              "        async function convertToInteractive(key) {\n",
              "          const element = document.querySelector('#df-e5ce6e9a-2dc1-4039-a4fd-a891fbd1f18c');\n",
              "          const dataTable =\n",
              "            await google.colab.kernel.invokeFunction('convertToInteractive',\n",
              "                                                     [key], {});\n",
              "          if (!dataTable) return;\n",
              "\n",
              "          const docLinkHtml = 'Like what you see? Visit the ' +\n",
              "            '<a target=\"_blank\" href=https://colab.research.google.com/notebooks/data_table.ipynb>data table notebook</a>'\n",
              "            + ' to learn more about interactive tables.';\n",
              "          element.innerHTML = '';\n",
              "          dataTable['output_type'] = 'display_data';\n",
              "          await google.colab.output.renderOutput(dataTable, element);\n",
              "          const docLink = document.createElement('div');\n",
              "          docLink.innerHTML = docLinkHtml;\n",
              "          element.appendChild(docLink);\n",
              "        }\n",
              "      </script>\n",
              "    </div>\n",
              "  </div>\n",
              "  "
            ]
          },
          "metadata": {},
          "execution_count": 15
        }
      ]
    },
    {
      "cell_type": "code",
      "source": [
        "#d) Insertamos la columna con los valores de la función evaluada en el dominio θ\n",
        "\n",
        "df['g(θ)'] = ran_gθ\n",
        "df"
      ],
      "metadata": {
        "colab": {
          "base_uri": "https://localhost:8080/",
          "height": 424
        },
        "id": "_jTUtrKvOcI5",
        "outputId": "5a737cb9-2702-4479-926b-04fca9689e17"
      },
      "execution_count": null,
      "outputs": [
        {
          "output_type": "execute_result",
          "data": {
            "text/plain": [
              "            θ      g(θ)\n",
              "0   -6.283185 -7.853982\n",
              "1   -6.270606 -7.853981\n",
              "2   -6.258027 -7.853979\n",
              "3   -6.245448 -7.853973\n",
              "4   -6.232870 -7.853960\n",
              "..        ...       ...\n",
              "995  6.232870  4.712368\n",
              "996  6.245448  4.712380\n",
              "997  6.258027  4.712386\n",
              "998  6.270606  4.712389\n",
              "999  6.283185  4.712389\n",
              "\n",
              "[1000 rows x 2 columns]"
            ],
            "text/html": [
              "\n",
              "  <div id=\"df-0de4f498-32ac-4b49-8418-9ee7ed05c973\">\n",
              "    <div class=\"colab-df-container\">\n",
              "      <div>\n",
              "<style scoped>\n",
              "    .dataframe tbody tr th:only-of-type {\n",
              "        vertical-align: middle;\n",
              "    }\n",
              "\n",
              "    .dataframe tbody tr th {\n",
              "        vertical-align: top;\n",
              "    }\n",
              "\n",
              "    .dataframe thead th {\n",
              "        text-align: right;\n",
              "    }\n",
              "</style>\n",
              "<table border=\"1\" class=\"dataframe\">\n",
              "  <thead>\n",
              "    <tr style=\"text-align: right;\">\n",
              "      <th></th>\n",
              "      <th>θ</th>\n",
              "      <th>g(θ)</th>\n",
              "    </tr>\n",
              "  </thead>\n",
              "  <tbody>\n",
              "    <tr>\n",
              "      <th>0</th>\n",
              "      <td>-6.283185</td>\n",
              "      <td>-7.853982</td>\n",
              "    </tr>\n",
              "    <tr>\n",
              "      <th>1</th>\n",
              "      <td>-6.270606</td>\n",
              "      <td>-7.853981</td>\n",
              "    </tr>\n",
              "    <tr>\n",
              "      <th>2</th>\n",
              "      <td>-6.258027</td>\n",
              "      <td>-7.853979</td>\n",
              "    </tr>\n",
              "    <tr>\n",
              "      <th>3</th>\n",
              "      <td>-6.245448</td>\n",
              "      <td>-7.853973</td>\n",
              "    </tr>\n",
              "    <tr>\n",
              "      <th>4</th>\n",
              "      <td>-6.232870</td>\n",
              "      <td>-7.853960</td>\n",
              "    </tr>\n",
              "    <tr>\n",
              "      <th>...</th>\n",
              "      <td>...</td>\n",
              "      <td>...</td>\n",
              "    </tr>\n",
              "    <tr>\n",
              "      <th>995</th>\n",
              "      <td>6.232870</td>\n",
              "      <td>4.712368</td>\n",
              "    </tr>\n",
              "    <tr>\n",
              "      <th>996</th>\n",
              "      <td>6.245448</td>\n",
              "      <td>4.712380</td>\n",
              "    </tr>\n",
              "    <tr>\n",
              "      <th>997</th>\n",
              "      <td>6.258027</td>\n",
              "      <td>4.712386</td>\n",
              "    </tr>\n",
              "    <tr>\n",
              "      <th>998</th>\n",
              "      <td>6.270606</td>\n",
              "      <td>4.712389</td>\n",
              "    </tr>\n",
              "    <tr>\n",
              "      <th>999</th>\n",
              "      <td>6.283185</td>\n",
              "      <td>4.712389</td>\n",
              "    </tr>\n",
              "  </tbody>\n",
              "</table>\n",
              "<p>1000 rows × 2 columns</p>\n",
              "</div>\n",
              "      <button class=\"colab-df-convert\" onclick=\"convertToInteractive('df-0de4f498-32ac-4b49-8418-9ee7ed05c973')\"\n",
              "              title=\"Convert this dataframe to an interactive table.\"\n",
              "              style=\"display:none;\">\n",
              "        \n",
              "  <svg xmlns=\"http://www.w3.org/2000/svg\" height=\"24px\"viewBox=\"0 0 24 24\"\n",
              "       width=\"24px\">\n",
              "    <path d=\"M0 0h24v24H0V0z\" fill=\"none\"/>\n",
              "    <path d=\"M18.56 5.44l.94 2.06.94-2.06 2.06-.94-2.06-.94-.94-2.06-.94 2.06-2.06.94zm-11 1L8.5 8.5l.94-2.06 2.06-.94-2.06-.94L8.5 2.5l-.94 2.06-2.06.94zm10 10l.94 2.06.94-2.06 2.06-.94-2.06-.94-.94-2.06-.94 2.06-2.06.94z\"/><path d=\"M17.41 7.96l-1.37-1.37c-.4-.4-.92-.59-1.43-.59-.52 0-1.04.2-1.43.59L10.3 9.45l-7.72 7.72c-.78.78-.78 2.05 0 2.83L4 21.41c.39.39.9.59 1.41.59.51 0 1.02-.2 1.41-.59l7.78-7.78 2.81-2.81c.8-.78.8-2.07 0-2.86zM5.41 20L4 18.59l7.72-7.72 1.47 1.35L5.41 20z\"/>\n",
              "  </svg>\n",
              "      </button>\n",
              "      \n",
              "  <style>\n",
              "    .colab-df-container {\n",
              "      display:flex;\n",
              "      flex-wrap:wrap;\n",
              "      gap: 12px;\n",
              "    }\n",
              "\n",
              "    .colab-df-convert {\n",
              "      background-color: #E8F0FE;\n",
              "      border: none;\n",
              "      border-radius: 50%;\n",
              "      cursor: pointer;\n",
              "      display: none;\n",
              "      fill: #1967D2;\n",
              "      height: 32px;\n",
              "      padding: 0 0 0 0;\n",
              "      width: 32px;\n",
              "    }\n",
              "\n",
              "    .colab-df-convert:hover {\n",
              "      background-color: #E2EBFA;\n",
              "      box-shadow: 0px 1px 2px rgba(60, 64, 67, 0.3), 0px 1px 3px 1px rgba(60, 64, 67, 0.15);\n",
              "      fill: #174EA6;\n",
              "    }\n",
              "\n",
              "    [theme=dark] .colab-df-convert {\n",
              "      background-color: #3B4455;\n",
              "      fill: #D2E3FC;\n",
              "    }\n",
              "\n",
              "    [theme=dark] .colab-df-convert:hover {\n",
              "      background-color: #434B5C;\n",
              "      box-shadow: 0px 1px 3px 1px rgba(0, 0, 0, 0.15);\n",
              "      filter: drop-shadow(0px 1px 2px rgba(0, 0, 0, 0.3));\n",
              "      fill: #FFFFFF;\n",
              "    }\n",
              "  </style>\n",
              "\n",
              "      <script>\n",
              "        const buttonEl =\n",
              "          document.querySelector('#df-0de4f498-32ac-4b49-8418-9ee7ed05c973 button.colab-df-convert');\n",
              "        buttonEl.style.display =\n",
              "          google.colab.kernel.accessAllowed ? 'block' : 'none';\n",
              "\n",
              "        async function convertToInteractive(key) {\n",
              "          const element = document.querySelector('#df-0de4f498-32ac-4b49-8418-9ee7ed05c973');\n",
              "          const dataTable =\n",
              "            await google.colab.kernel.invokeFunction('convertToInteractive',\n",
              "                                                     [key], {});\n",
              "          if (!dataTable) return;\n",
              "\n",
              "          const docLinkHtml = 'Like what you see? Visit the ' +\n",
              "            '<a target=\"_blank\" href=https://colab.research.google.com/notebooks/data_table.ipynb>data table notebook</a>'\n",
              "            + ' to learn more about interactive tables.';\n",
              "          element.innerHTML = '';\n",
              "          dataTable['output_type'] = 'display_data';\n",
              "          await google.colab.output.renderOutput(dataTable, element);\n",
              "          const docLink = document.createElement('div');\n",
              "          docLink.innerHTML = docLinkHtml;\n",
              "          element.appendChild(docLink);\n",
              "        }\n",
              "      </script>\n",
              "    </div>\n",
              "  </div>\n",
              "  "
            ]
          },
          "metadata": {},
          "execution_count": 16
        }
      ]
    },
    {
      "cell_type": "code",
      "source": [
        "# f) Gráfico de g(θ) vs θ\n",
        "\n",
        "plt.figure(figsize=(7,5))\n",
        "plt.title('g(θ) v.s. θ')\n",
        "plt.plot(dom_θ ,g(dom_θ ), label = '$ g(θ)= θ -sinθ -(π/2)$')\n",
        "#plt.xlabel('$ θ$', fontsize = 10)\n",
        "#plt.ylabel('$ g(θ)$',fontsize = 10)\n",
        "\n",
        "plt.legend()\n",
        "plt.grid()"
      ],
      "metadata": {
        "colab": {
          "base_uri": "https://localhost:8080/",
          "height": 336
        },
        "id": "jhZEX04iMWw5",
        "outputId": "1dc17a4e-a054-4b4b-b54b-a03e0ea194a3"
      },
      "execution_count": null,
      "outputs": [
        {
          "output_type": "display_data",
          "data": {
            "text/plain": [
              "<Figure size 504x360 with 1 Axes>"
            ],
            "image/png": "[encoded data removed]"
          },
          "metadata": {
            "needs_background": "light"
          }
        }
      ]
    },
    {
      "cell_type": "code",
      "source": [
        "# g),h),i),j)\n",
        "#Raíces dela ecuación\n",
        "\n",
        "# Método de Bisección:\n",
        "\n",
        "θ_bis= sc.optimize.bisect(g,-2*np.pi,2*np.pi)\n",
        "print(f'θ_bis = {θ_bis}')"
      ],
      "metadata": {
        "colab": {
          "base_uri": "https://localhost:8080/"
        },
        "id": "QDSTpFcJQ-8O",
        "outputId": "e63887c4-a308-40cd-8197-2e17a96f812c"
      },
      "execution_count": null,
      "outputs": [
        {
          "output_type": "stream",
          "name": "stdout",
          "text": [
            "θ_bis = 2.3098814600101703\n"
          ]
        }
      ]
    },
    {
      "cell_type": "code",
      "source": [
        "# Método de Newton-Raphson:( Antes de  aplicar este método , debemos definir la función derivada de g(θ) )\n",
        "\n",
        "# Detivada de g(θ):\n",
        "\n",
        "gprima= lambda θ: 1- np.cos(θ)\n",
        "\n",
        "θ_newton=sc.optimize.newton(g,2,gprima)\n",
        "\n",
        "print(f'θ_newton = {θ_newton}')"
      ],
      "metadata": {
        "id": "Zp83kAMSRdPT",
        "colab": {
          "base_uri": "https://localhost:8080/"
        },
        "outputId": "3e1e67da-b653-4e59-db1b-4ab2613d5c42"
      },
      "execution_count": null,
      "outputs": [
        {
          "output_type": "stream",
          "name": "stdout",
          "text": [
            "θ_newton = 2.3098814600100575\n"
          ]
        }
      ]
    },
    {
      "cell_type": "code",
      "source": [
        "# Método de la secante:\n",
        "\n",
        "θ_secante=sc.optimize.newton(g,2,None)\n",
        "\n",
        "print(f'θ_secante = {θ_secante}')\n"
      ],
      "metadata": {
        "id": "pVDsl61QRmMZ",
        "colab": {
          "base_uri": "https://localhost:8080/"
        },
        "outputId": "3232cb0f-af64-4d02-d813-7c0c654cd11e"
      },
      "execution_count": null,
      "outputs": [
        {
          "output_type": "stream",
          "name": "stdout",
          "text": [
            "θ_secante = 2.309881460010033\n"
          ]
        }
      ]
    },
    {
      "cell_type": "code",
      "source": [
        "# Método de Punto fijo:( Como requisito para aplicar este método, se debe definir una función auxiliar g_a(θ) = θ - g(θ) )\n",
        "\n",
        "g_a= lambda θ: θ-g(θ)\n",
        "\n",
        "θ_pfijo= sc.optimize.fixed_point(g_a,2)\n",
        "print(f'θ_pfijo = {θ_pfijo}')\n"
      ],
      "metadata": {
        "id": "n0muGRJ5Rpux",
        "colab": {
          "base_uri": "https://localhost:8080/"
        },
        "outputId": "da4332b8-bd13-476d-b92b-e696d3d3980a"
      },
      "execution_count": null,
      "outputs": [
        {
          "output_type": "stream",
          "name": "stdout",
          "text": [
            "θ_pfijo = 2.3098814600100575\n"
          ]
        }
      ]
    },
    {
      "cell_type": "markdown",
      "source": [
        "\n",
        "\n",
        "# 5. Movimiento de proyectiles en presencia de viento.\n",
        "\n",
        "Supongamos que un proyectil es lanzado desde el origen con una rapidez $v=vo( \\cos \\theta , \\sin \\theta $). Supongamos, además, que el efecto del viento sobre el proyectil es el de una fuerza proporcional a la velocidad relativa entre el viento y el proyectil. Teniendo presente que si $\\ u$ es la velocidad del viento y $\\alpha$ el ángulo que hace la dirección de esta velocidad con el eje x, se puede encontrar las siguientes ecuaciones diferenciales asociadas al estado de movimiento del [proyectil](https://iopscience.iop.org/article/10.1088/0143-0807/36/2/025016/meta):\n",
        "\n",
        "\n",
        "\n",
        "\n",
        "*   \\begin{equation}\n",
        "m\\frac{dv_x}{dt} = -mb(v_x-u\\cos \\alpha )\n",
        "\\end{equation}\n",
        "\n",
        "*  \\begin{equation}\n",
        "m\\frac{dv_y}{dt} = -mg-mb(v_x-u\\sin \\alpha ),\n",
        "\\end{equation}\n",
        " \n",
        "\n",
        "\n",
        "\n",
        "\n",
        "\n",
        "\n",
        "\n",
        "donde $\\ b$  es el párametro de rozamiento. \n",
        "\n",
        "Las soluciones a las ecuaciones anteriores vienen dadas por:\n",
        "\n",
        "\n",
        "***Posición en x***\n",
        "\\begin{equation}\n",
        "x=(u\\cos \\alpha) t + \\frac{1}{b} (v_0\\cos \\theta_0 -u \\cos\\alpha)(1-\\mathrm{exp}(-bt))\n",
        "\\end{equation}\n",
        "\n",
        "***Posicion en y ***\n",
        "\\begin{equation}\n",
        "y= \\frac{1}{b}\\left(\\frac{g}{b}+v_0 \\sin \\theta_0 -u\\sin\\alpha \\right)(1-\\mathrm{exp}(-bt))-\\left( \\frac{g}{b}-u\\sin\\alpha\\right)t\n",
        "\\end{equation}\n",
        "\n",
        "Ver imagen:  http://www.sc.ehu.es/sbweb/fisica3/fluidos/viento/parabolico.html\n",
        "\n",
        "\n",
        "0. Establezca las siguientes condiciones inciales:\n",
        "\n",
        "```\n",
        "#Parametros iniciales\n",
        "\n",
        "v0 = 60 #Velocidad en m/s\n",
        "alpha = np.pi #Angulo del viento\n",
        "theta = np.deg2rad(45) #Angulo de lanzamiento\n",
        "u = v0/2             #rapidez del viento\n",
        "b = 0.05             #Parametro de friccion \n",
        "g = 9.8                #Aceleracion de la gravedad m/s2\n",
        "\n",
        "Params = (alpha, v0, b, u,g)  #Parametros en tupla.\n",
        "\n",
        "```\n",
        "\n",
        "\n",
        "\n",
        "1. Defina dos funciones, una para x y otra para y. \n",
        "\n",
        "```\n",
        "\n",
        "#Posicion en x\n",
        "def pos_x(t, theta, alpha, v0, b, u,g):\n",
        "  x = #escriba aca la expresión\n",
        "  return x\n",
        "\n",
        "#Posicion en y\n",
        "def pos_y(t, theta, alpha, v0, b, u,g):\n",
        "\n",
        "\n",
        "  y = #escriba aca la expresión\n",
        "  return y \n",
        "\n",
        "```\n",
        "\n",
        "2. Construya un diccionario con las claves \"X\", \"Y\", \"Tiempo\"\n",
        "\n",
        "3. Con el diccionario construya un data frame de pandas llamado df con los nombres de columnas \"X\", \"Y\", \"Tiempo\"  https://pandas.pydata.org/docs/reference/api/pandas.DataFrame.from_dict.html. Defina 1000 regitros para el intervalo de tiempo elegido.\n",
        "\n",
        "\n",
        "4. Realice un gráfico de x como función del tiempo, de y como función del tiempo y la trayectoria de la partícula (df[\"X\"], df[\"tiempo\"], df[\"Y\"]).\n",
        "\n",
        "\n",
        "5. Determine el alcance máximo de la partícula. Para ello tome  la solucion teórica con $y=0$, solucione numéricamente la ecuación para t y remplace este valor en la ecuación para x. Resuelvalo para $\\theta=45^{o}$.  \n",
        "\n",
        "6. Construya una  grafica del alcance máximo R como función de $\\theta$, varie $\\theta$  entre 10° y 80°, cada 5°.\n"
      ],
      "metadata": {
        "id": "zxQOD2FgQIfM"
      }
    },
    {
      "cell_type": "code",
      "source": [
        "import numpy as np\n",
        "import matplotlib.pyplot as plt\n",
        "import pandas as pd\n",
        "import scipy as sc\n",
        "\n",
        "\n",
        "#0. Asignación de las condiciones y parámetros iniciales :\n",
        "\n",
        "v0 = 60                #Velocidad en m/s\n",
        "α = np.pi              #Angulo del viento\n",
        "θi = np.deg2rad(45)    #Angulo de lanzamiento\n",
        "u = v0/2               #rapidez del viento [m/s]\n",
        "b = 0.05               #Parametro de friccion \n",
        "g = 9.8                #Aceleracion de la gravedad [m/s2]\n",
        "\n",
        "\n",
        "\n",
        "Params = (α, v0, b, u,g) "
      ],
      "metadata": {
        "id": "Hht2OxMD-M6T"
      },
      "execution_count": null,
      "outputs": []
    },
    {
      "cell_type": "code",
      "source": [
        "1. #Componentes del vector posición del proyectil:\n",
        "\n",
        "# Posicion en x\n",
        "def pos_x(t, θi, α, v0, b, u,g):\n",
        "\n",
        "  T1= u*(np.cos(α))*t\n",
        "  T2= v0*(np.cos(θi)) - u*(np.cos(α))\n",
        "  T3= (1- np.exp(-b*t))\n",
        "\n",
        "  x = T1 + (T2*T3)/b\n",
        "\n",
        "  return x\n",
        "\n",
        "\n",
        "\n",
        "# Posicion en y\n",
        "def pos_y(t, θi, α, v0, b, u,g):\n",
        "  T1= (g/b) + v0*(np.sin(θi)) -u*(np.sin(α))\n",
        "  T2= ((g/b) -  u*(np.sin(α)))*t\n",
        "  T3= (1- np.exp(-b*t))\n",
        "  y =  (T1*T3)/b -T2\n",
        "  return y"
      ],
      "metadata": {
        "id": "TxPbtUzLxjpb"
      },
      "execution_count": null,
      "outputs": []
    },
    {
      "cell_type": "code",
      "source": [
        "# 2.Diccionario:\n",
        "\n",
        "dom_tiempo=np.linspace(0,8.1,1000)\n",
        "\n",
        "dic= {\"X\":pos_x(dom_tiempo,θi,*Params) , \"Y\":pos_y(dom_tiempo,θi,*Params), \"Tiempo\":dom_tiempo}\n",
        "\n",
        "\n",
        "\n",
        "\n",
        "\n"
      ],
      "metadata": {
        "id": "XgOeXuB30nAw"
      },
      "execution_count": null,
      "outputs": []
    },
    {
      "cell_type": "code",
      "source": [
        "#3. Dataframe generado desde el diccionario anterior:\n",
        "\n",
        "df=pd.DataFrame.from_dict(dic)\n",
        "df"
      ],
      "metadata": {
        "colab": {
          "base_uri": "https://localhost:8080/",
          "height": 424
        },
        "id": "ES0eO3qg2zMN",
        "outputId": "2c9285d5-90b0-4392-dc52-c9e1415dfca2"
      },
      "execution_count": null,
      "outputs": [
        {
          "output_type": "execute_result",
          "data": {
            "text/plain": [
              "              X         Y    Tiempo\n",
              "0      0.000000  0.000000  0.000000\n",
              "1      0.343879  0.343606  0.008108\n",
              "2      0.687520  0.686429  0.016216\n",
              "3      1.030923  1.028468  0.024324\n",
              "4      1.374088  1.369725  0.032432\n",
              "..          ...       ...       ...\n",
              "995  238.798457  1.625457  8.067568\n",
              "996  238.947446  1.327489  8.075676\n",
              "997  239.096276  1.028999  8.083784\n",
              "998  239.244948  0.729985  8.091892\n",
              "999  239.393460  0.430448  8.100000\n",
              "\n",
              "[1000 rows x 3 columns]"
            ],
            "text/html": [
              "\n",
              "  <div id=\"df-12a35e85-08f8-4c6b-862a-1f8b0a3df70d\">\n",
              "    <div class=\"colab-df-container\">\n",
              "      <div>\n",
              "<style scoped>\n",
              "    .dataframe tbody tr th:only-of-type {\n",
              "        vertical-align: middle;\n",
              "    }\n",
              "\n",
              "    .dataframe tbody tr th {\n",
              "        vertical-align: top;\n",
              "    }\n",
              "\n",
              "    .dataframe thead th {\n",
              "        text-align: right;\n",
              "    }\n",
              "</style>\n",
              "<table border=\"1\" class=\"dataframe\">\n",
              "  <thead>\n",
              "    <tr style=\"text-align: right;\">\n",
              "      <th></th>\n",
              "      <th>X</th>\n",
              "      <th>Y</th>\n",
              "      <th>Tiempo</th>\n",
              "    </tr>\n",
              "  </thead>\n",
              "  <tbody>\n",
              "    <tr>\n",
              "      <th>0</th>\n",
              "      <td>0.000000</td>\n",
              "      <td>0.000000</td>\n",
              "      <td>0.000000</td>\n",
              "    </tr>\n",
              "    <tr>\n",
              "      <th>1</th>\n",
              "      <td>0.343879</td>\n",
              "      <td>0.343606</td>\n",
              "      <td>0.008108</td>\n",
              "    </tr>\n",
              "    <tr>\n",
              "      <th>2</th>\n",
              "      <td>0.687520</td>\n",
              "      <td>0.686429</td>\n",
              "      <td>0.016216</td>\n",
              "    </tr>\n",
              "    <tr>\n",
              "      <th>3</th>\n",
              "      <td>1.030923</td>\n",
              "      <td>1.028468</td>\n",
              "      <td>0.024324</td>\n",
              "    </tr>\n",
              "    <tr>\n",
              "      <th>4</th>\n",
              "      <td>1.374088</td>\n",
              "      <td>1.369725</td>\n",
              "      <td>0.032432</td>\n",
              "    </tr>\n",
              "    <tr>\n",
              "      <th>...</th>\n",
              "      <td>...</td>\n",
              "      <td>...</td>\n",
              "      <td>...</td>\n",
              "    </tr>\n",
              "    <tr>\n",
              "      <th>995</th>\n",
              "      <td>238.798457</td>\n",
              "      <td>1.625457</td>\n",
              "      <td>8.067568</td>\n",
              "    </tr>\n",
              "    <tr>\n",
              "      <th>996</th>\n",
              "      <td>238.947446</td>\n",
              "      <td>1.327489</td>\n",
              "      <td>8.075676</td>\n",
              "    </tr>\n",
              "    <tr>\n",
              "      <th>997</th>\n",
              "      <td>239.096276</td>\n",
              "      <td>1.028999</td>\n",
              "      <td>8.083784</td>\n",
              "    </tr>\n",
              "    <tr>\n",
              "      <th>998</th>\n",
              "      <td>239.244948</td>\n",
              "      <td>0.729985</td>\n",
              "      <td>8.091892</td>\n",
              "    </tr>\n",
              "    <tr>\n",
              "      <th>999</th>\n",
              "      <td>239.393460</td>\n",
              "      <td>0.430448</td>\n",
              "      <td>8.100000</td>\n",
              "    </tr>\n",
              "  </tbody>\n",
              "</table>\n",
              "<p>1000 rows × 3 columns</p>\n",
              "</div>\n",
              "      <button class=\"colab-df-convert\" onclick=\"convertToInteractive('df-12a35e85-08f8-4c6b-862a-1f8b0a3df70d')\"\n",
              "              title=\"Convert this dataframe to an interactive table.\"\n",
              "              style=\"display:none;\">\n",
              "        \n",
              "  <svg xmlns=\"http://www.w3.org/2000/svg\" height=\"24px\"viewBox=\"0 0 24 24\"\n",
              "       width=\"24px\">\n",
              "    <path d=\"M0 0h24v24H0V0z\" fill=\"none\"/>\n",
              "    <path d=\"M18.56 5.44l.94 2.06.94-2.06 2.06-.94-2.06-.94-.94-2.06-.94 2.06-2.06.94zm-11 1L8.5 8.5l.94-2.06 2.06-.94-2.06-.94L8.5 2.5l-.94 2.06-2.06.94zm10 10l.94 2.06.94-2.06 2.06-.94-2.06-.94-.94-2.06-.94 2.06-2.06.94z\"/><path d=\"M17.41 7.96l-1.37-1.37c-.4-.4-.92-.59-1.43-.59-.52 0-1.04.2-1.43.59L10.3 9.45l-7.72 7.72c-.78.78-.78 2.05 0 2.83L4 21.41c.39.39.9.59 1.41.59.51 0 1.02-.2 1.41-.59l7.78-7.78 2.81-2.81c.8-.78.8-2.07 0-2.86zM5.41 20L4 18.59l7.72-7.72 1.47 1.35L5.41 20z\"/>\n",
              "  </svg>\n",
              "      </button>\n",
              "      \n",
              "  <style>\n",
              "    .colab-df-container {\n",
              "      display:flex;\n",
              "      flex-wrap:wrap;\n",
              "      gap: 12px;\n",
              "    }\n",
              "\n",
              "    .colab-df-convert {\n",
              "      background-color: #E8F0FE;\n",
              "      border: none;\n",
              "      border-radius: 50%;\n",
              "      cursor: pointer;\n",
              "      display: none;\n",
              "      fill: #1967D2;\n",
              "      height: 32px;\n",
              "      padding: 0 0 0 0;\n",
              "      width: 32px;\n",
              "    }\n",
              "\n",
              "    .colab-df-convert:hover {\n",
              "      background-color: #E2EBFA;\n",
              "      box-shadow: 0px 1px 2px rgba(60, 64, 67, 0.3), 0px 1px 3px 1px rgba(60, 64, 67, 0.15);\n",
              "      fill: #174EA6;\n",
              "    }\n",
              "\n",
              "    [theme=dark] .colab-df-convert {\n",
              "      background-color: #3B4455;\n",
              "      fill: #D2E3FC;\n",
              "    }\n",
              "\n",
              "    [theme=dark] .colab-df-convert:hover {\n",
              "      background-color: #434B5C;\n",
              "      box-shadow: 0px 1px 3px 1px rgba(0, 0, 0, 0.15);\n",
              "      filter: drop-shadow(0px 1px 2px rgba(0, 0, 0, 0.3));\n",
              "      fill: #FFFFFF;\n",
              "    }\n",
              "  </style>\n",
              "\n",
              "      <script>\n",
              "        const buttonEl =\n",
              "          document.querySelector('#df-12a35e85-08f8-4c6b-862a-1f8b0a3df70d button.colab-df-convert');\n",
              "        buttonEl.style.display =\n",
              "          google.colab.kernel.accessAllowed ? 'block' : 'none';\n",
              "\n",
              "        async function convertToInteractive(key) {\n",
              "          const element = document.querySelector('#df-12a35e85-08f8-4c6b-862a-1f8b0a3df70d');\n",
              "          const dataTable =\n",
              "            await google.colab.kernel.invokeFunction('convertToInteractive',\n",
              "                                                     [key], {});\n",
              "          if (!dataTable) return;\n",
              "\n",
              "          const docLinkHtml = 'Like what you see? Visit the ' +\n",
              "            '<a target=\"_blank\" href=https://colab.research.google.com/notebooks/data_table.ipynb>data table notebook</a>'\n",
              "            + ' to learn more about interactive tables.';\n",
              "          element.innerHTML = '';\n",
              "          dataTable['output_type'] = 'display_data';\n",
              "          await google.colab.output.renderOutput(dataTable, element);\n",
              "          const docLink = document.createElement('div');\n",
              "          docLink.innerHTML = docLinkHtml;\n",
              "          element.appendChild(docLink);\n",
              "        }\n",
              "      </script>\n",
              "    </div>\n",
              "  </div>\n",
              "  "
            ]
          },
          "metadata": {},
          "execution_count": 25
        }
      ]
    },
    {
      "cell_type": "code",
      "source": [
        "# 4.\n",
        "# Posición en x en términos del tiempo\n",
        "\n",
        "plt.figure(figsize=(7,5),)\n",
        "plt.title('x(t) v.s. t')\n",
        "plt.plot(df['Tiempo'] ,df['X'],color=\"blue\")\n",
        "plt.xlim(0,8.1)\n",
        "plt.ylim(0,250)\n",
        "plt.xlabel('$ t [s]$', fontsize = 10)\n",
        "plt.ylabel('$ x [m]$',fontsize = 10)\n",
        "\n",
        "\n",
        "plt.grid()\n",
        "\n"
      ],
      "metadata": {
        "colab": {
          "base_uri": "https://localhost:8080/",
          "height": 354
        },
        "id": "Qk0nDe707OCL",
        "outputId": "41d6ea91-8cfd-4b33-82af-4344e5bcd37a"
      },
      "execution_count": null,
      "outputs": [
        {
          "output_type": "display_data",
          "data": {
            "text/plain": [
              "<Figure size 504x360 with 1 Axes>"
            ],
            "image/png": "[encoded data removed]"
          },
          "metadata": {
            "needs_background": "light"
          }
        }
      ]
    },
    {
      "cell_type": "code",
      "source": [
        "# Posición en y en términos del tiempo\n",
        "\n",
        "plt.figure(figsize=(7,5))\n",
        "plt.title('y(t) v.s. t')\n",
        "plt.plot(df['Tiempo'] ,df['Y'], color=\"red\")\n",
        "plt.xlim(0,8.1)\n",
        "plt.ylim(0,90)\n",
        "plt.xlabel('$ t [s]$', fontsize = 10)\n",
        "plt.ylabel('$ y [m]$',fontsize = 10)\n",
        "\n",
        "\n",
        "plt.grid()"
      ],
      "metadata": {
        "colab": {
          "base_uri": "https://localhost:8080/",
          "height": 354
        },
        "id": "5LHBxKKmFqgi",
        "outputId": "67009638-4a42-453c-b8b3-71137fab7bbf"
      },
      "execution_count": null,
      "outputs": [
        {
          "output_type": "display_data",
          "data": {
            "text/plain": [
              "<Figure size 504x360 with 1 Axes>"
            ],
            "image/png": "[encoded data removed]"
          },
          "metadata": {
            "needs_background": "light"
          }
        }
      ]
    },
    {
      "cell_type": "code",
      "source": [
        "# Gráfica de la trayectoria del proyectil\n",
        "\n",
        "plt.figure(figsize=(7,5))\n",
        "plt.title('Trayectoria de la bala')\n",
        "plt.plot(df['X'] ,df['Y'], color=\"purple\")\n",
        "plt.xlim(0,240)\n",
        "plt.ylim(0,90)\n",
        "plt.xlabel(\"$ x [m]$\")\n",
        "plt.ylabel(\"$ y [m]$\")\n",
        "\n",
        "plt.grid()"
      ],
      "metadata": {
        "colab": {
          "base_uri": "https://localhost:8080/",
          "height": 354
        },
        "id": "SJsl-v0jFxDw",
        "outputId": "3480b7d3-f348-49b1-9931-758b6eca1a60"
      },
      "execution_count": null,
      "outputs": [
        {
          "output_type": "display_data",
          "data": {
            "text/plain": [
              "<Figure size 504x360 with 1 Axes>"
            ],
            "image/png": "[encoded data removed]"
          },
          "metadata": {
            "needs_background": "light"
          }
        }
      ]
    },
    {
      "cell_type": "code",
      "source": [
        "#5. Determinación del alcance máximo del proyectil:\n",
        "# Consideremos la ecuación y = 0, y encontremos el tiempo para el cual el proyectil vuelve a estar a ras de suelo:\n",
        "\n",
        "\n",
        "# Posicion en y\n",
        "def y(t, θi, α, v0, b, u,g):\n",
        "  T1= (g/b) + v0*(np.sin(θi)) -u*(np.sin(α))\n",
        "  T2= ((g/b) -  u*(np.sin(α)))*t\n",
        "  T3= (1- np.exp(-b*t))\n",
        "  y =  (T1*T3)/b -T2\n",
        "  return y\n",
        "\n",
        "#-----------------------------------\n",
        "\n",
        "\n",
        "t0= 8                  # Valor cercano a la raiz verdaera de la funcion y.\n",
        "\n",
        "\n",
        "\n",
        "# Apliquemos el método de la secante:\n",
        "t_f= sc.optimize.newton(y, t0, args=Params)\n",
        "\n",
        "print(f'Tiempo de vuelo: t_f = {t_f:.4f} s')\n",
        "\n",
        "\n"
      ],
      "metadata": {
        "colab": {
          "base_uri": "https://localhost:8080/"
        },
        "id": "kb3mpOZzIA4E",
        "outputId": "86e495a5-ca37-4740-f9ca-8812ff3eaaed"
      },
      "execution_count": null,
      "outputs": [
        {
          "output_type": "stream",
          "name": "stdout",
          "text": [
            "Tiempo de vuelo: t_f = 8.1116 s\n"
          ]
        }
      ]
    },
    {
      "cell_type": "code",
      "source": [
        "#  Ahora sustituimos el valor del tiempo de vuelo de la bala en la ecuación de posición x, para encontrar el  alcance máximo:\n",
        "\n",
        "x_max = pos_x(t_f,*Params)\n",
        "print(f'Alcance máximo bajo las condiciones dadas: x_max = {x_max:.4f} m')"
      ],
      "metadata": {
        "colab": {
          "base_uri": "https://localhost:8080/"
        },
        "id": "2RLED2yjK2Ce",
        "outputId": "0e7298da-c5f7-46bc-9df0-d7554a1b7727"
      },
      "execution_count": null,
      "outputs": [
        {
          "output_type": "stream",
          "name": "stdout",
          "text": [
            "Alcance máximo bajo las condiciones dadas: x_max = 239.6061 m\n"
          ]
        }
      ]
    },
    {
      "cell_type": "code",
      "source": [
        "\n",
        "#6. Construya una  grafica del alcance máximo R como función de $\\theta$, varie $\\theta$  entre 10° y 80°, cada 5°.\n",
        "\n",
        "\n",
        "\n",
        "\n",
        "\n",
        "v0 = 60                #Velocidad en m/s\n",
        "α = np.pi              #Angulo del viento\n",
        "θi = np.deg2rad(45)    #Angulo de lanzamiento\n",
        "u = v0/2               #rapidez del viento [m/s]\n",
        "b = 0.05               #Parametro de friccion \n",
        "g = 9.8                #Aceleracion de la gravedad [m/s2]\n",
        "\n",
        "\n",
        "R= lambda θ: pos_x(t_f,θ,α, v0, b, u,g)  # Función alcance máximo en términos del ángulo de disparo\n",
        "\n",
        "rang_θ_deg=np.arange(10,80,5)\n",
        "rang_θ=np.arange(np.deg2rad(10),np.deg2rad(80),np.deg2rad(5))\n",
        "\n",
        "\n",
        "\n",
        "plt.figure(figsize=(7,5))\n",
        "plt.title('Alcance máximo en términos de θ')\n",
        "plt.plot(rang_θ_deg ,R(rang_θ), color=\"green\")\n",
        "\n",
        "plt.xlabel(\"$ θ [°]$\")\n",
        "plt.ylabel(\"$ R [m]$\")\n",
        "\n",
        "plt.grid()"
      ],
      "metadata": {
        "colab": {
          "base_uri": "https://localhost:8080/",
          "height": 354
        },
        "id": "vkeEC_qYMFeV",
        "outputId": "a28b1ced-87f9-48f6-86a5-7d65c169c69f"
      },
      "execution_count": null,
      "outputs": [
        {
          "output_type": "display_data",
          "data": {
            "text/plain": [
              "<Figure size 504x360 with 1 Axes>"
            ],
            "image/png": "[encoded data removed]"
          },
          "metadata": {
            "needs_background": "light"
          }
        }
      ]
    },
    {
      "cell_type": "markdown",
      "source": [
        "\n",
        "# 6. Construir un fractal empleando el metodo de Newton-Raphson, \n",
        "(Reproducir código y entender)\n",
        "\\begin{equation}\n",
        "z_{n+1} = z_n -a \\frac{f(z)}{f'(z)} \n",
        "\\end{equation}\n",
        "\n",
        "\n",
        "\n",
        "\\begin{equation}\n",
        "f'(z) = \\frac{ f(z+h)+f(z) }{h}\n",
        "\\end{equation}"
      ],
      "metadata": {
        "id": "Ok4b668dWU_A"
      }
    },
    {
      "cell_type": "markdown",
      "source": [
        "```\n",
        "import numpy as np\n",
        "import matplotlib.pylab as plt\n",
        "from PIL import Image\n",
        "\n",
        "Npx_X = 80 #Numero de pixeles en x\n",
        "Npx_Y = 80 #Numero de pixeles en y\n",
        "\n",
        "image = Image.new(\"RGB\", (Npx_X, Npx_Y)) #Creacion de la imagen inicial\n",
        "\n",
        "npx = np.arange(0, Npx_X)\n",
        "npy = np.arange(0, Npx_Y)\n",
        "\n",
        "xmin = -1\n",
        "xmax = 1\n",
        "ymin = -1\n",
        "ymax = 1\n",
        "#Transformación al plano complejo en un rectangulo (xmin, xmax), (ymin, ymax)\n",
        "zx = npx * (xmax - xmin) / (Npx_X - 1)   + xmin\n",
        "zy = npy * (ymax-ymin) / (Npx_Y - 1) + ymin\n",
        "\n",
        "#Definicion  la funcion y las derivada \n",
        "def f(z): \n",
        "  return z**3 - 1\n",
        "\n",
        "def fp(z): \n",
        "  return 3*z**2\n",
        "\n",
        "h = 1E-4\n",
        "def fpn(z, h): \n",
        "  return (f(z+h)-f(z))/h\n",
        "  \n",
        "\n",
        "a = 0.2\n",
        "Niteraciones = 120\n",
        "eps = 1E-8\n",
        "\n",
        "x = - 1\n",
        "for zx_ in zx:\n",
        "  x = x + 1 \n",
        "  y = -1\n",
        "  for zy_ in zy: \n",
        "      y = y + 1\n",
        "      Z_0 = complex(zx_, zy_)\n",
        "    \n",
        "      for i in range(0, Niteraciones): \n",
        "        Z = Z_0 - a * f(Z_0)/fp(Z_0)\n",
        "        if( abs(Z-Z_0)<= eps):\n",
        "          break           \n",
        "        Z_0 = Z\n",
        "      #print(i)\n",
        "      #print(i)\n",
        "      r, g, b = i % 4 *64 , i % 8 *16, i% 16* 16      \n",
        "      image.putpixel((x,y), (r,g,b) )\n",
        "\n",
        "plt.imshow(image)\n",
        "#plt.xlim(400, 600)\n",
        "#plt.ylim(400, 523)\n",
        "```"
      ],
      "metadata": {
        "id": "9OaykphcWtaW"
      }
    },
    {
      "cell_type": "code",
      "source": [
        "import numpy as np\n",
        "import matplotlib.pylab as plt\n",
        "from PIL import Image\n",
        "\n",
        "#----------------------------------------------------------------------------\n",
        "#Inicialización\n",
        "\n",
        "Npx_X = 80 #Numero de pixeles en x\n",
        "Npx_Y = 80 #Numero de pixeles en y\n",
        "\n",
        "image = Image.new(\"RGB\", (Npx_X, Npx_Y)) #Creacion de la imagen inicial\n",
        "\n",
        "npx = np.arange(0, Npx_X)\n",
        "npy = np.arange(0, Npx_Y)\n",
        "\n",
        "xmin = -1\n",
        "xmax = 1\n",
        "ymin = -1\n",
        "ymax = 1\n",
        "\n",
        "#----------------------------------------------------------------------------\n",
        "# Transformación al plano complejo en un rectangulo (xmin, xmax), (ymin, ymax)\n",
        "\n",
        "zx = npx * (xmax - xmin) / (Npx_X - 1)   + xmin\n",
        "zy = npy * (ymax-ymin) / (Npx_Y - 1) + ymin\n",
        "\n",
        "# Definicion  la funcion y las derivada \n",
        "def f(z): \n",
        "  return z**3 - 1\n",
        "\n",
        "def fp(z): \n",
        "  return 3*z**2\n",
        "\n",
        "h = 1E-4        # incremento de la variable z\n",
        "def fpn(z, h):  # aproximación de la derivada de f(z)\n",
        "  return (f(z+h)-f(z))/h\n",
        "\n",
        "\n",
        "a = 0.2\n",
        "Niteraciones = 555\n",
        "eps = 1E-8\n",
        "\n",
        "x = - 1\n",
        "for zx_ in zx:\n",
        "  x = x + 1 \n",
        "  y = -1\n",
        "  for zy_ in zy: \n",
        "      y = y + 1\n",
        "      Z_0 = complex(zx_, zy_)\n",
        "\n",
        "      for i in range(0, Niteraciones):     # Metodo de Newton-Raphson par a la función compleja f(z)\n",
        "        Z = Z_0 - a * f(Z_0)/fp(Z_0)\n",
        "        if( abs(Z-Z_0)<= eps):\n",
        "          break           \n",
        "        Z_0 = Z\n",
        "      #print(i)\n",
        "      #print(i)\n",
        "      r, g, b = i % 4 *64 , i % 8 *16, i% 16* 16      \n",
        "      image.putpixel((x,y), (r,g,b) )\n",
        "\n",
        "plt.imshow(image)\n",
        "#plt.xlim(400, 600)\n",
        "#plt.ylim(400, 523)"
      ],
      "metadata": {
        "colab": {
          "base_uri": "https://localhost:8080/",
          "height": 285
        },
        "id": "J_siqX-CO7yW",
        "outputId": "e4a6e990-3415-4228-a66a-12086f4d985d"
      },
      "execution_count": null,
      "outputs": [
        {
          "output_type": "execute_result",
          "data": {
            "text/plain": [
              "<matplotlib.image.AxesImage at 0x7ff0e99d3820>"
            ]
          },
          "metadata": {},
          "execution_count": 64
        },
        {
          "output_type": "display_data",
          "data": {
            "text/plain": [
              "<Figure size 432x288 with 1 Axes>"
            ],
            "image/png": "[encoded data removed]"
          },
          "metadata": {
            "needs_background": "light"
          }
        }
      ]
    }
  ]
}