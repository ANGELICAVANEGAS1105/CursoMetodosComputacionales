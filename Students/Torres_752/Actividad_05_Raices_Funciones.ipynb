{
  "nbformat": 4,
  "nbformat_minor": 0,
  "metadata": {
    "colab": {
      "provenance": [],
      "collapsed_sections": [
        "NBHm1o8z6PX0",
        "PGtAj8Md_A09"
      ]
    },
    "kernelspec": {
      "name": "python3",
      "display_name": "Python 3"
    },
    "language_info": {
      "name": "python"
    }
  },
  "cells": [
    {
      "cell_type": "markdown",
      "source": [
        "<a href=\"https://colab.research.google.com/github/hernansalinas/autogrades/blob/main/Actividades_clase/Actividad_05_ZerosFunciones.ipynb\" target=\"_parent\"><img src=\"https://colab.research.google.com/assets/colab-badge.svg\" alt=\"Open In Colab\"/></a>\n",
        "\n",
        "\n",
        "\n",
        "# Actividad 5\n",
        "### Métodos computacionales para físicos  y astrónomos\n",
        "### Universidad de Antioquia\n",
        "### Prof: Hernan D. Salinas Jiménez\n",
        "Ref: https://github.com/restrepo/ComputationalMethods"
      ],
      "metadata": {
        "id": "NBHm1o8z6PX0"
      }
    },
    {
      "cell_type": "markdown",
      "source": [
        "\n",
        "In an IPython notebook, use the scipy implementation and find the first solution to the equation, write a function with the bisection methods.\n",
        "\n",
        "What is the solution if a=1, and b=1, what is the solution if a=2 and b=2\n",
        "  \n",
        "1. $ 7 = a\\sqrt{x^2+1}+be^x\\sin x $\n",
        "\n",
        "2. $a e^{x}-2= b\\cos(e^x-2)$"
      ],
      "metadata": {
        "id": "_Wrqimjh6j1c"
      }
    },
    {
      "cell_type": "code",
      "execution_count": null,
      "metadata": {
        "id": "iJU7I_kG5qmF"
      },
      "outputs": [],
      "source": [
        "import numpy as np\n",
        "import scipy as sc\n",
        "import matplotlib.pylab as plt\n",
        "\n",
        "import sympy as sp"
      ]
    },
    {
      "cell_type": "code",
      "source": [
        "# Definamos las  funciones y un arreglo de numpy como su dominio.\n",
        "\n",
        "a=1\n",
        "b=1\n",
        "\n",
        "x=np.linspace(0,3,1000)\n",
        "f = lambda x:a* np.sqrt(x**2 +1) + b*np.exp(x)*np.sin(x) - 7\n",
        "g= lambda s: a*np.exp(s) - b*np.cos(np.exp(s) -2 ) -2"
      ],
      "metadata": {
        "id": "fCq3DhtP515-"
      },
      "execution_count": null,
      "outputs": []
    },
    {
      "cell_type": "code",
      "source": [
        "# Graficamos las curvas de ambas funciones para tener una idea de la ubicacion desus raices.\n",
        "\n",
        "plt.plot(x,f(x),label='f(x)')\n",
        "plt.plot(x,g(x),label='g(x)')\n",
        "plt.grid()\n",
        "plt.legend()"
      ],
      "metadata": {
        "colab": {
          "base_uri": "https://localhost:8080/",
          "height": 282
        },
        "id": "HBCbhW536GiE",
        "outputId": "e3a08290-9aeb-49e2-daf5-f98c2316c486"
      },
      "execution_count": null,
      "outputs": [
        {
          "output_type": "execute_result",
          "data": {
            "text/plain": [
              "<matplotlib.legend.Legend at 0x7fe670d7ec70>"
            ]
          },
          "metadata": {},
          "execution_count": 3
        },
        {
          "output_type": "display_data",
          "data": {
            "text/plain": [
              "<Figure size 432x288 with 1 Axes>"
            ],
            "image/png": "[encoded data removed]"
          },
          "metadata": {
            "needs_background": "light"
          }
        }
      ]
    },
    {
      "cell_type": "code",
      "source": [
        "# RAÍCES POR EL MÉTODO DE LA BISECCIÓN:\n",
        "\n",
        "raiz_bis_f=sc.optimize.bisect(f,1.5,2)\n",
        "raiz_bis_g=sc.optimize.bisect(g,0.7,1.2)\n",
        "raiz_bis_f\n"
      ],
      "metadata": {
        "colab": {
          "base_uri": "https://localhost:8080/"
        },
        "id": "KjJfqVyM7fzj",
        "outputId": "578ed07d-8648-4e0b-d505-7f2192b3bac1"
      },
      "execution_count": null,
      "outputs": [
        {
          "output_type": "execute_result",
          "data": {
            "text/plain": [
              "1.628718494926943"
            ]
          },
          "metadata": {},
          "execution_count": 4
        }
      ]
    },
    {
      "cell_type": "code",
      "source": [
        "## Grafica con loas raices de cada funcion ( Bisección)\n",
        "\n",
        "plt.plot(x,f(x),label='f(x)')\n",
        "plt.scatter(raiz_bis_f,0,c='red',)\n",
        "plt.text(raiz_bis_f,0,f'({raiz_bis_f:.3f},0)')\n",
        "\n",
        "plt.plot(x,g(x),label='g(x)')\n",
        "plt.scatter(raiz_bis_g,0,c='green')\n",
        "plt.text(raiz_bis_g,0,f'({raiz_bis_g :.3f},0)')\n",
        "\n",
        "\n",
        "plt.grid()\n",
        "plt.legend()"
      ],
      "metadata": {
        "colab": {
          "base_uri": "https://localhost:8080/",
          "height": 282
        },
        "id": "3o1-2VBK608x",
        "outputId": "4de57841-ca34-47a8-b132-a0f6eb7f98bd"
      },
      "execution_count": null,
      "outputs": [
        {
          "output_type": "execute_result",
          "data": {
            "text/plain": [
              "<matplotlib.legend.Legend at 0x7fe670d7e6d0>"
            ]
          },
          "metadata": {},
          "execution_count": 5
        },
        {
          "output_type": "display_data",
          "data": {
            "text/plain": [
              "<Figure size 432x288 with 1 Axes>"
            ],
            "image/png": "[encoded data removed]"
          },
          "metadata": {
            "needs_background": "light"
          }
        }
      ]
    },
    {
      "cell_type": "code",
      "source": [
        "# RAÍCES POR EL MÉTODO DE NEWTON-RAPHSON:\n",
        "#Como paso intermedio, debemos calcular las derivadas de f y g\n",
        "\n",
        "x,a,b=sp.symbols(\"x,a,b\")\n",
        "\n",
        "def _f(x):\n",
        "  k = a*sp.sqrt(x**2 +1) + b*sp.exp(x)*sp.sin(x) - 7\n",
        "  return k\n",
        "\n",
        "\n",
        "\n",
        "def _g(x):\n",
        "  k = a*sp.exp(x) - b*sp.cos(sp.exp(x) -2 ) -2\n",
        "  return k\n",
        "\n",
        "\n",
        "h= sp.diff(_f(x),x)\n",
        "j= sp.diff(_g(x),x)\n",
        "\n",
        "print(\"df/dx = \",h,'\\n',\"dg/dx = \",j)\n",
        "\n",
        "\n",
        "\n"
      ],
      "metadata": {
        "colab": {
          "base_uri": "https://localhost:8080/"
        },
        "id": "DNrlgARo85sy",
        "outputId": "46be4fc8-654a-4e93-e938-a88bfbb4e53d"
      },
      "execution_count": null,
      "outputs": [
        {
          "output_type": "stream",
          "name": "stdout",
          "text": [
            "df/dx =  a*x/sqrt(x**2 + 1) + b*exp(x)*sin(x) + b*exp(x)*cos(x) \n",
            " dg/dx =  a*exp(x) + b*exp(x)*sin(exp(x) - 2)\n"
          ]
        }
      ]
    },
    {
      "cell_type": "code",
      "source": [
        "# Derivadas:\n",
        "\n",
        "x  = np.linspace(0,3,1000)\n",
        "a=1\n",
        "b=1\n",
        "\n",
        "\n",
        "f = lambda x: np.sqrt(x**2 +1) + (np.exp(x))*np.sin(x) - 7\n",
        "\n",
        "g= lambda s: np.exp(s) - np.cos(np.exp(s) -2 ) -2\n",
        "\n",
        "Df= lambda x: x/np.sqrt(x**2 + 1) + np.exp(x)*np.sin(x) + np.exp(x)*np.cos(x)\n",
        "\n",
        "Dg= lambda s: np.exp(s)*np.sin(np.exp(s) - 2) + np.exp(s)\n",
        "\n"
      ],
      "metadata": {
        "id": "zkyOExNt95fQ"
      },
      "execution_count": null,
      "outputs": []
    },
    {
      "cell_type": "code",
      "source": [
        "\n",
        "x_f0= 1.5    # Punto inicial del método, para f(x)\n",
        "x_g0=  1.5     # Punto inicial del método, para g(x)\n",
        "\n",
        "\n",
        "raiz_new_f=sc.optimize.newton(f, x_f0,fprime = Df,)\n",
        "raiz_new_g=sc.optimize.newton(g, x_g0, fprime = Dg, )"
      ],
      "metadata": {
        "id": "nD8wRNtz-MPl"
      },
      "execution_count": null,
      "outputs": []
    },
    {
      "cell_type": "code",
      "source": [
        "raiz_new_f"
      ],
      "metadata": {
        "colab": {
          "base_uri": "https://localhost:8080/"
        },
        "id": "Ii8-Er8eJGtf",
        "outputId": "b630cb41-903d-4864-8f11-813cd02146b4"
      },
      "execution_count": null,
      "outputs": [
        {
          "output_type": "execute_result",
          "data": {
            "text/plain": [
              "1.6287184949270082"
            ]
          },
          "metadata": {},
          "execution_count": 9
        }
      ]
    },
    {
      "cell_type": "code",
      "source": [
        "# Grafica con loas raices de cada funcion ( Newton-Raphson)\n",
        "\n",
        "plt.plot(x,f(x),label='f(x)')\n",
        "plt.scatter(raiz_new_f,0,c='black',)\n",
        "plt.text(raiz_new_f,0,f'({raiz_new_f:.3f},0)')\n",
        "\n",
        "plt.plot(x,g(x),label='g(x)')\n",
        "plt.scatter(raiz_new_g,0,c='black')\n",
        "plt.text(raiz_new_g,0,f'({raiz_new_g :.3f},0)')\n",
        "\n",
        "\n",
        "plt.grid()\n",
        "plt.legend()"
      ],
      "metadata": {
        "colab": {
          "base_uri": "https://localhost:8080/",
          "height": 282
        },
        "id": "9LWzTSQ09zA2",
        "outputId": "8397e481-2c1e-4201-fe68-8a22e08acf9c"
      },
      "execution_count": null,
      "outputs": [
        {
          "output_type": "execute_result",
          "data": {
            "text/plain": [
              "<matplotlib.legend.Legend at 0x7fe65cff2e50>"
            ]
          },
          "metadata": {},
          "execution_count": 10
        },
        {
          "output_type": "display_data",
          "data": {
            "text/plain": [
              "<Figure size 432x288 with 1 Axes>"
            ],
            "image/png": "[encoded data removed]"
          },
          "metadata": {
            "needs_background": "light"
          }
        }
      ]
    },
    {
      "cell_type": "code",
      "source": [
        "# RAÍCES POR EL MÉTODO DE PUNTO FIJO:\n",
        "\n",
        "# Definir las fuciones auxiliares asociadas a f y g para aplicar el método de punto fijo:\n",
        "\n",
        "f = lambda x: np.sqrt(x**2 +1) + (np.exp(x))*np.sin(x) - 7\n",
        "g = lambda x: np.exp(x) - np.cos(np.exp(x) -2 ) -2\n",
        "\n",
        "f_a = lambda x: x - f(x)\n",
        "g_a = lambda x: x - g(x)\n",
        "\n",
        "\n"
      ],
      "metadata": {
        "id": "MGMsaiwAdXo-"
      },
      "execution_count": null,
      "outputs": []
    },
    {
      "cell_type": "code",
      "source": [
        "plt.figure(figsize=(8,7))\n",
        "plt.plot(x,f_a(x),label='y = x-f(x)')\n",
        "plt.plot(x,g_a(x),label='y = x-g(x)')\n",
        "plt.plot(x,x,label ='y = x')\n",
        "plt.grid()\n",
        "plt.legend(loc='best')"
      ],
      "metadata": {
        "colab": {
          "base_uri": "https://localhost:8080/",
          "height": 445
        },
        "id": "Ir87Pr5rewjl",
        "outputId": "b0701ac1-9397-47d0-dfd7-a70e7acc9cd0"
      },
      "execution_count": null,
      "outputs": [
        {
          "output_type": "execute_result",
          "data": {
            "text/plain": [
              "<matplotlib.legend.Legend at 0x7fe65cebb1f0>"
            ]
          },
          "metadata": {},
          "execution_count": 12
        },
        {
          "output_type": "display_data",
          "data": {
            "text/plain": [
              "<Figure size 576x504 with 1 Axes>"
            ],
            "image/png": "[encoded data removed]"
          },
          "metadata": {
            "needs_background": "light"
          }
        }
      ]
    },
    {
      "cell_type": "code",
      "source": [
        "raiz_pf_f =sc.optimize.fixed_point(f_a,1.5)\n",
        "raiz_pf_g =sc.optimize.fixed_point(g_a,0)\n",
        "\n",
        "\n",
        "raiz_pf_f"
      ],
      "metadata": {
        "colab": {
          "base_uri": "https://localhost:8080/"
        },
        "id": "B-FSAfuGfpZu",
        "outputId": "d9c920eb-0061-4f38-82a0-76c1d812e445"
      },
      "execution_count": null,
      "outputs": [
        {
          "output_type": "execute_result",
          "data": {
            "text/plain": [
              "array(1.62871849)"
            ]
          },
          "metadata": {},
          "execution_count": 13
        }
      ]
    },
    {
      "cell_type": "markdown",
      "source": [
        "# 3. Activity\n",
        "    \n",
        "In an IPython notebook and based on the routine NewtonRaphson, write your own routine SecantMethod that performs the previous steps for the Secant Method. Test your code with the function $f(x)$:\n",
        "    \n",
        "$f(x) = x - \\cos(x)$\n",
        "</font>"
      ],
      "metadata": {
        "id": "PGtAj8Md_A09"
      }
    },
    {
      "cell_type": "code",
      "source": [
        "# Definamos la funcion dada por el enunciado:\n",
        "\n",
        "x= np.linspace(-np.pi,np.pi)\n",
        "f = lambda x: x - np.cos(x)\n",
        "\n",
        "plt.plot(x,f(x))\n",
        "plt.grid()\n"
      ],
      "metadata": {
        "colab": {
          "base_uri": "https://localhost:8080/"
        },
        "id": "ayFtgxe9_EDT",
        "outputId": "15ab04b7-5142-49c0-e6a4-f18ac1b838f1"
      },
      "execution_count": null,
      "outputs": [
        {
          "output_type": "display_data",
          "data": {
            "text/plain": [
              "<Figure size 432x288 with 1 Axes>"
            ],
            "image/png": "[encoded data removed]"
          },
          "metadata": {
            "needs_background": "light"
          }
        }
      ]
    },
    {
      "cell_type": "code",
      "source": [
        "raiz_sec_f= sc.optimize.newton(f,0.5)\n",
        "raiz_sec_f\n"
      ],
      "metadata": {
        "colab": {
          "base_uri": "https://localhost:8080/"
        },
        "id": "GjI2YCB4_7Wz",
        "outputId": "ded02bd8-5a1a-4fb2-b1a3-da0422841f39"
      },
      "execution_count": null,
      "outputs": [
        {
          "output_type": "execute_result",
          "data": {
            "text/plain": [
              "0.7390851332151601"
            ]
          },
          "metadata": {},
          "execution_count": 15
        }
      ]
    },
    {
      "cell_type": "code",
      "source": [
        "plt.plot(x,f(x), color = 'green',label='$ f(x)=x - cos(x)$')\n",
        "plt.scatter(raiz_sec_f,0, c= 'black')\n",
        "plt.text(raiz_sec_f,0, f'({raiz_sec_f :.3f},0)')\n",
        "\n",
        "\n",
        "plt.legend()\n",
        "plt.grid()"
      ],
      "metadata": {
        "colab": {
          "base_uri": "https://localhost:8080/"
        },
        "id": "K-n5CvZlA-Z5",
        "outputId": "79d2e31a-c9a9-4df2-c3f1-e065c4f1d1cf"
      },
      "execution_count": null,
      "outputs": [
        {
          "output_type": "display_data",
          "data": {
            "text/plain": [
              "<Figure size 432x288 with 1 Axes>"
            ],
            "image/png": "[encoded data removed]"
          },
          "metadata": {
            "needs_background": "light"
          }
        }
      ]
    },
    {
      "cell_type": "markdown",
      "source": [
        "# 4. Fixed point methods. \n",
        "\n",
        "When a new planet is discovered, there are different methods to estimate its physical properties. Many times is only possible to estimate either the planet mass or the planet radius and the other property has to be predicted through computer modelling.\n",
        "\n",
        "If one has the planet mass, a very rough way to estimate its radius is to assume certain composition (mean density) and a homogeneous distribution (a very bad assumption!). For example, for the planet [Gliese 832c](http://es.wikipedia.org/wiki/Gliese_832_c) with a mass $M= 5.40 M_{\\oplus}$, if we assume an earth-like composition, i.e. $\\bar \\rho_{\\oplus} = 5520\\ kg/m^3$, we obtain:\n",
        "\n",
        "$$R_{g832c} = \\left( \\frac{3 M_{g832c}}{ 4 \\pi \\bar\\rho_{\\oplus} } \\right)^{1/3} \\approx 1.75 R_{\\oplus}$$\n",
        "\n",
        "That would be the planet radius if the composition where exactly equal to earth's.\n",
        "\n",
        "A more realistic approach is assuming an internal one-layer density profile like:\n",
        "\n",
        "$$\\rho(r) = \\rho_0 \\exp\\left( -\\frac{r}{L} \\right)$$\n",
        "\n",
        "where $\\rho_0$ is the density at planet centre and $L$ is a characteristic lenght depending on the composition. From numerical models of planet interiors, the estimated parameters for a planet of are $M= 5.40 M_{\\oplus}$ are approximately $\\rho_0 = 18000\\ kg/m^3$ and $L = 6500\\ km$.\n",
        "\n",
        "Integrating over the planet volume, we obtain the total mass as\n",
        "\n",
        "$$M = 4\\pi \\int_0^R \\rho(r)r^2dr$$\n",
        "\n",
        "This is a function of the mass in terms of the planet radius. \n",
        "\n",
        "Solving the equation $M(R) = M_{g832c}$ it would be possible to find a more realistic planet radius. However when using numerical models, it is not possible to approach the solution from the left side as a negative mass makes no sense."
      ],
      "metadata": {
        "id": "L6N-q47bxo4B"
      }
    },
    {
      "cell_type": "code",
      "source": [
        "import numpy as np\n",
        "import matplotlib.pyplot as plt\n",
        "import scipy as sc\n",
        "\n",
        "\n",
        "#Parámetros del problema:\n",
        "\n",
        "π  = np.pi \n",
        "ρ_0= 18000      # Densidad en el núcleo del planeta, [kg/m^3]\n",
        "L  = 6500e3     # Longitud característica, [m]\n",
        "M_earth= 5.972e24     # Masa terrestre\n",
        "ρ_earth=5520    # Densidad media de la Tierra [kg/m^3]\n",
        "R_earth =6371e3 # Radio terrestre [m]\n",
        "Mg832c=5.40*M_earth # Masa del planeta Gliese832c\n",
        "Rg832c=1.75*R_earth\n",
        "\n"
      ],
      "metadata": {
        "id": "4FrHZ_noVrWN"
      },
      "execution_count": 10,
      "outputs": []
    },
    {
      "cell_type": "markdown",
      "source": [
        "Al resolver la integral: \n",
        "$$M = 4\\pi \\int_0^R \\rho(r)r^2dr$$\n",
        "\n",
        "Se obtiene la masa del planeta como función de su radio:\n",
        "\n",
        "$$ M(R) = 4\\pi \\rho_0 L[2 L^2 - e^\\frac{-R}{L}(L^2 +(L+R)^2)] $$"
      ],
      "metadata": {
        "id": "V1e6IIovX7WA"
      }
    },
    {
      "cell_type": "code",
      "source": [
        "# Función M:\n",
        "M= lambda R: ( 2*L**2 - np.exp(-R/L)*(L**2 +(L+R)**2)) - (Mg832c/(4*π*ρ_0*L))\n",
        "\n",
        "\n",
        "\n",
        "\n",
        "# Función auxiliar M_a(R):\n",
        "\n",
        "M_a= lambda R: R- M(R)\n",
        "\n",
        "# Funcion de masa aproximada para Gliese832c:\n",
        "\n",
        "def mass_g(R_earth,ρ_earth):                      \n",
        "  return ((4*π *(1.75*R_earth)**3)*ρ_earth)/3"
      ],
      "metadata": {
        "id": "BH2P_jLCY1Ow"
      },
      "execution_count": 16,
      "outputs": []
    },
    {
      "cell_type": "code",
      "source": [
        "ratio= mass_g(R_earth,ρ_earth)/M_earth\n",
        "print(f'M_g832/M_earth = {ratio}') # Este resultado nos indica la razón entre las masas de ambos planetas, que rresulta ser muy cercano al  valor del enunciado\n"
      ],
      "metadata": {
        "colab": {
          "base_uri": "https://localhost:8080/"
        },
        "id": "aPtrxflsaTI7",
        "outputId": "11f61c70-7f93-400a-f86b-1f9994124437"
      },
      "execution_count": 18,
      "outputs": [
        {
          "output_type": "stream",
          "name": "stdout",
          "text": [
            "M_g832/M_earth = 5.365928102182779\n"
          ]
        }
      ]
    },
    {
      "cell_type": "code",
      "source": [
        "R= np.linspace(1,17000e3,1000)\n",
        "f= lambda R: (mass_g(R_earth,ρ_earth) -M(R))/M_earth\n",
        "\n",
        "x0=1.695e7\n",
        "plt.plot(R,f(R))\n",
        "plt.plot(x0,f(x0),'ro')\n",
        "\n",
        "plt.xlabel('Radio R, [m]')\n",
        "plt.grid()"
      ],
      "metadata": {
        "colab": {
          "base_uri": "https://localhost:8080/",
          "height": 290
        },
        "id": "YizgmvDliWg-",
        "outputId": "e7be9b2e-2683-4e63-c214-967371300c06"
      },
      "execution_count": 76,
      "outputs": [
        {
          "output_type": "display_data",
          "data": {
            "text/plain": [
              "<Figure size 432x288 with 1 Axes>"
            ],
            "image/png": "[encoded data removed]"
          },
          "metadata": {
            "needs_background": "light"
          }
        }
      ]
    },
    {
      "cell_type": "code",
      "source": [
        "\n",
        "# Función auxiliar M_a(R):\n",
        "R= np.linspace(1,17000e3,1000)\n",
        "M_a= lambda R: R-f(R)\n",
        "\n",
        "\n",
        "f(x0)"
      ],
      "metadata": {
        "colab": {
          "base_uri": "https://localhost:8080/"
        },
        "id": "vjK5jHJimzV4",
        "outputId": "6ef7bc39-2e9d-4935-b1fe-c6de87259201"
      },
      "execution_count": 77,
      "outputs": [
        {
          "output_type": "execute_result",
          "data": {
            "text/plain": [
              "5.365928102179611"
            ]
          },
          "metadata": {},
          "execution_count": 77
        }
      ]
    }
  ]
}