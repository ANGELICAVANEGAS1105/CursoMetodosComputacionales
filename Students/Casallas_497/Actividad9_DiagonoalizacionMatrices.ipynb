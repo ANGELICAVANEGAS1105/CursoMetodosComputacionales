{
  "nbformat": 4,
  "nbformat_minor": 0,
  "metadata": {
    "colab": {
      "provenance": []
    },
    "kernelspec": {
      "name": "python3",
      "display_name": "Python 3"
    },
    "language_info": {
      "name": "python"
    }
  },
  "cells": [
    {
      "cell_type": "markdown",
      "source": [
        "# Autovalores, autovectores, polinomio caracteristico, diagonalización"
      ],
      "metadata": {
        "id": "Qms28ZxFZdXn"
      }
    },
    {
      "cell_type": "markdown",
      "source": [
        "| Librería | Función | Explicación |\n",
        "| --- | --- | --- |\n",
        "| numpy | numpy.linalg.eig | Calcula los autovalores y autovectores derechos de una matriz cuadrada |\n",
        "| numpy | numpy.linalg.eigh | Calcula los autovalores y autovectores de una matriz hermítica compleja o simétrica real |\n",
        "| numpy | numpy.poly | Calcula el polinomio característico de una matriz |\n",
        "| sympy | sympy.Matrix.eigenvals | Calcula los autovalores de una matriz simbólica |\n",
        "| sympy | sympy.Matrix.eigenvects | Calcula los autovalores y autovectores de una matriz simbólica |\n",
        "| sympy | sympy.Matrix.charpoly | Calcula el polinomio característico de una matriz simbólica |"
      ],
      "metadata": {
        "id": "ONmddMM3Youm"
      }
    },
    {
      "cell_type": "markdown",
      "source": [
        "Calcular el polinomio caracteristico, los  autovalores y autvectores propios de la siguiente matrices, comprobar con la solucion analitica:\n",
        "\n",
        "1. \n",
        "\\begin{bmatrix}\n",
        "1 & -1 & 4 \\\\\n",
        "3 & 2 & -1 \\\\\n",
        "2 & 1 & -1\n",
        "\\end{bmatrix}\n",
        "\n"
      ],
      "metadata": {
        "id": "EwfvC822XBSY"
      }
    },
    {
      "cell_type": "code",
      "source": [
        "import numpy as np\n",
        "import sympy as sp"
      ],
      "metadata": {
        "id": "r6xaERkgy3vy"
      },
      "execution_count": 2,
      "outputs": []
    },
    {
      "cell_type": "markdown",
      "source": [
        "*Polinomio característico:*"
      ],
      "metadata": {
        "id": "hQSNodbK3rpe"
      }
    },
    {
      "cell_type": "code",
      "source": [
        "t=sp.symbols('t')\n",
        "f1=np.array([1,-1,4])\n",
        "f2=np.array([3,2,-1])\n",
        "f3=np.array([2,1,-1])\n",
        "m1=np.array([f1,f2,f3])\n",
        "I=np.identity(3)\n",
        "M=m1-t*I\n",
        "M_=sp.Matrix(M)\n",
        "M_.det()"
      ],
      "metadata": {
        "colab": {
          "base_uri": "https://localhost:8080/",
          "height": 39
        },
        "id": "dMJfXEteyiFN",
        "outputId": "dd81afc3-6065-4965-c946-738bb2ceea72"
      },
      "execution_count": 3,
      "outputs": [
        {
          "output_type": "execute_result",
          "data": {
            "text/plain": [
              "-1.0*t**3 + 2.0*t**2 + 5.0*t - 6"
            ],
            "text/latex": "$\\displaystyle - 1.0 t^{3} + 2.0 t^{2} + 5.0 t - 6$"
          },
          "metadata": {},
          "execution_count": 3
        }
      ]
    },
    {
      "cell_type": "code",
      "source": [
        "#Forma analíica:\n",
        "poly=np.poly(m1)\n",
        "poly"
      ],
      "metadata": {
        "colab": {
          "base_uri": "https://localhost:8080/"
        },
        "id": "rQ3EjUnQ0Ffq",
        "outputId": "d17fa1d2-b759-4df6-9a6f-00944c75473c"
      },
      "execution_count": 4,
      "outputs": [
        {
          "output_type": "execute_result",
          "data": {
            "text/plain": [
              "array([ 1., -2., -5.,  6.])"
            ]
          },
          "metadata": {},
          "execution_count": 4
        }
      ]
    },
    {
      "cell_type": "markdown",
      "source": [
        "*Autovalores*"
      ],
      "metadata": {
        "id": "7HmhbJuK3xQD"
      }
    },
    {
      "cell_type": "code",
      "source": [
        "raices=sp.roots(poly)\n",
        "raices"
      ],
      "metadata": {
        "colab": {
          "base_uri": "https://localhost:8080/"
        },
        "id": "TzmvYsO57wlT",
        "outputId": "d136e0e1-e519-423b-a93b-c1c01ae118d8"
      },
      "execution_count": 5,
      "outputs": [
        {
          "output_type": "execute_result",
          "data": {
            "text/plain": [
              "{}"
            ]
          },
          "metadata": {},
          "execution_count": 5
        }
      ]
    },
    {
      "cell_type": "code",
      "source": [
        "sp.Matrix.eigenvects(M_)"
      ],
      "metadata": {
        "colab": {
          "base_uri": "https://localhost:8080/"
        },
        "id": "7g0F26k-8sQz",
        "outputId": "5922f434-b675-45ce-817b-54216ffa8df0"
      },
      "execution_count": 6,
      "outputs": [
        {
          "output_type": "execute_result",
          "data": {
            "text/plain": [
              "[(1.0 - t,\n",
              "  1,\n",
              "  [Matrix([\n",
              "   [-1.0],\n",
              "   [ 4.0],\n",
              "   [ 1.0]])]),\n",
              " (3.0 - t,\n",
              "  1,\n",
              "  [Matrix([\n",
              "   [1.0],\n",
              "   [2.0],\n",
              "   [1.0]])]),\n",
              " (-t - 2.0,\n",
              "  1,\n",
              "  [Matrix([\n",
              "   [-1.0],\n",
              "   [ 1.0],\n",
              "   [ 1.0]])])]"
            ]
          },
          "metadata": {},
          "execution_count": 6
        }
      ]
    },
    {
      "cell_type": "code",
      "source": [
        "#inversaP*A*P y P= matriz de autovectores"
      ],
      "metadata": {
        "id": "POhXIVMyrZsf"
      },
      "execution_count": 7,
      "outputs": []
    },
    {
      "cell_type": "markdown",
      "source": [
        "2. \\begin{bmatrix}\n",
        "3 & -5 \\\\\n",
        "1 & -1 \\\\\n",
        "\\end{bmatrix}\n",
        "\n",
        "\n"
      ],
      "metadata": {
        "id": "sdiu4Nwqy1CE"
      }
    },
    {
      "cell_type": "code",
      "source": [
        "t=sp.symbols('t')\n",
        "f1=np.array([3,-5])\n",
        "f2=np.array([1,-1])\n",
        "m2=np.array([f1,f2])\n",
        "I=np.identity(2)\n",
        "M=m2-t*I\n",
        "M_=sp.Matrix(M)\n",
        "M_.det()"
      ],
      "metadata": {
        "colab": {
          "base_uri": "https://localhost:8080/",
          "height": 39
        },
        "id": "gY7NSN1L3HBB",
        "outputId": "bf312a32-fa9e-4f58-a517-7b3442d8aabe"
      },
      "execution_count": 8,
      "outputs": [
        {
          "output_type": "execute_result",
          "data": {
            "text/plain": [
              "1.0*t**2 - 2.0*t + 2"
            ],
            "text/latex": "$\\displaystyle 1.0 t^{2} - 2.0 t + 2$"
          },
          "metadata": {},
          "execution_count": 8
        }
      ]
    },
    {
      "cell_type": "code",
      "source": [
        "#Forma analíica:\n",
        "poly2=np.poly(m2)\n",
        "poly2"
      ],
      "metadata": {
        "colab": {
          "base_uri": "https://localhost:8080/"
        },
        "id": "O12Uku8X3jwj",
        "outputId": "aba13460-1284-4ae8-fd8f-66f2675c23e6"
      },
      "execution_count": 9,
      "outputs": [
        {
          "output_type": "execute_result",
          "data": {
            "text/plain": [
              "array([ 1., -2.,  2.])"
            ]
          },
          "metadata": {},
          "execution_count": 9
        }
      ]
    },
    {
      "cell_type": "markdown",
      "source": [
        "*Autovalores*"
      ],
      "metadata": {
        "id": "r7og9KvF8UL8"
      }
    },
    {
      "cell_type": "code",
      "source": [
        "raices=np.roots(poly2)\n",
        "raices"
      ],
      "metadata": {
        "colab": {
          "base_uri": "https://localhost:8080/"
        },
        "outputId": "4b766196-4d94-47a3-db25-76e2d8b9d8c5",
        "id": "7LTREyfD8UL9"
      },
      "execution_count": 10,
      "outputs": [
        {
          "output_type": "execute_result",
          "data": {
            "text/plain": [
              "array([1.+1.j, 1.-1.j])"
            ]
          },
          "metadata": {},
          "execution_count": 10
        }
      ]
    },
    {
      "cell_type": "code",
      "source": [
        "sp.Matrix.eigenvects(M_)"
      ],
      "metadata": {
        "colab": {
          "base_uri": "https://localhost:8080/"
        },
        "outputId": "526e8c34-826a-4cb1-c3e0-1dc0ae5f7d12",
        "id": "2RAtFPmP8UL-"
      },
      "execution_count": 11,
      "outputs": [
        {
          "output_type": "execute_result",
          "data": {
            "text/plain": [
              "[(-t + 1.0 - I,\n",
              "  1,\n",
              "  [Matrix([\n",
              "   [2.0 - 1.0*I],\n",
              "   [        1.0]])]),\n",
              " (-t + 1.0 + I,\n",
              "  1,\n",
              "  [Matrix([\n",
              "   [2.0 + 1.0*I],\n",
              "   [        1.0]])])]"
            ]
          },
          "metadata": {},
          "execution_count": 11
        }
      ]
    },
    {
      "cell_type": "markdown",
      "source": [
        "# Diagonalizacion \n",
        "Una matriz cuadrada $A$ es diagonalizable si y solo si cada autovalor $\\lambda$ de multiplicidad $m$ produce exactamente $m$ autovectores básicos; es decir, si y solo si la solución general del sistema $(A-I\\lambda)\\vec{x}=0$ tiene exactamente $m$ parámetros.\n",
        "\n",
        "\n",
        "Para diagonalizar una matriz $A$, se necesita encontrar una matriz invertible $P$ tal que $P^{-1}AP$ sea una matriz diagonal $D$. Esto significa que las columnas de $P$ son los autovectores de $A$ y los elementos de la diagonal de $D$ son los autovalores correspondientes de $A$.\n",
        "\n",
        "Encuentre la matrix diagnonal para las matrices anteriores. \n",
        "\n"
      ],
      "metadata": {
        "id": "FjG0uYQ_ZlFo"
      }
    },
    {
      "cell_type": "markdown",
      "source": [
        "1. \n",
        "\\begin{bmatrix}\n",
        "1 & -1 & 4 \\\\\n",
        "3 & 2 & -1 \\\\\n",
        "2 & 1 & -1\n",
        "\\end{bmatrix}"
      ],
      "metadata": {
        "id": "lhLLVr6kOF38"
      }
    },
    {
      "cell_type": "code",
      "source": [
        "A= np.array([[1, -1, 4],\n",
        "            [3, 2, -1],\n",
        "            [2, 1, -1]])\n",
        "\n",
        "#a) Polinomio característico:\n",
        "poly=np.poly(A)\n",
        "print('Polinomio característico:',poly)\n",
        "\n",
        "# b) Encontrar los autovalores y autovectores\n",
        "eva, eve = np.linalg.eigh(A)\n",
        "print('Autovalores:', eva)\n",
        "print('Autovectores:', eve)\n",
        "\n",
        "#c) Matriz diagonal:\n",
        "P=np.transpose(eve)\n",
        "Pinv=np.linalg.inv(P)\n",
        "\n",
        "M=P @ A @ Pinv\n",
        "\n",
        "print('Matriz diagonal:',M)"
      ],
      "metadata": {
        "colab": {
          "base_uri": "https://localhost:8080/"
        },
        "id": "wT8ahVp4NpmE",
        "outputId": "118df031-4500-4495-8710-4b428bafbec3"
      },
      "execution_count": 13,
      "outputs": [
        {
          "output_type": "stream",
          "name": "stdout",
          "text": [
            "Polinomio característico: [ 1. -2. -5.  6.]\n",
            "Autovalores: [-2.45302863 -0.77914023  5.23216886]\n",
            "Autovectores: [[ 0.65210556  0.40047657 -0.6437211 ]\n",
            " [-0.28121878 -0.66073891 -0.69594547]\n",
            " [-0.70404143  0.63485637 -0.31824999]]\n",
            "Matriz diagonal: [[-3.03368932  2.90853989  1.22125873]\n",
            " [-1.04379319  1.62674039  0.43937579]\n",
            " [-0.79764208 -1.63501634  3.40694893]]\n"
          ]
        }
      ]
    },
    {
      "cell_type": "markdown",
      "source": [
        "\n",
        "\n",
        "2. \\begin{bmatrix}\n",
        "3 & -5 \\\\\n",
        "1 & -1 \\\\\n",
        "\\end{bmatrix}\n"
      ],
      "metadata": {
        "id": "9qvlpObPOkpr"
      }
    },
    {
      "cell_type": "code",
      "source": [
        "B = np.array([[3, -5],\n",
        "            [1, -1]])\n",
        "\n",
        "#a) Polinomio característico:\n",
        "polyB=np.poly(B)\n",
        "print('Polinomio característico:',polyB)\n",
        "\n",
        "# b) Encontrar los autovalores y autovectores\n",
        "evab, eveb = np.linalg.eigh(B)\n",
        "print('Autovalores:', evab)\n",
        "print('Autovectores:', eveb)\n",
        "\n",
        "#c) Matriz diagonal:\n",
        "Pb=np.transpose(eveb)\n",
        "Pinvb=np.linalg.inv(Pb)\n",
        "\n",
        "Mb=Pb @ B @ Pinvb\n",
        "\n",
        "print('Matriz diagonal:',Mb)"
      ],
      "metadata": {
        "colab": {
          "base_uri": "https://localhost:8080/"
        },
        "id": "39bpFXdAOcSt",
        "outputId": "c3024f04-2019-4123-9d0f-106d7f7748f0"
      },
      "execution_count": 15,
      "outputs": [
        {
          "output_type": "stream",
          "name": "stdout",
          "text": [
            "Polinomio característico: [ 1. -2.  2.]\n",
            "Autovalores: [-1.23606798  3.23606798]\n",
            "Autovectores: [[ 0.22975292 -0.97324899]\n",
            " [-0.97324899 -0.22975292]]\n",
            "Matriz diagonal: [[ 0.10557281  0.31671843]\n",
            " [-5.68328157  1.89442719]]\n"
          ]
        }
      ]
    },
    {
      "cell_type": "markdown",
      "source": [
        "# **Actividad 2.**\n",
        "\n",
        "Considere la ecuación cuadrática $x^2-4xy+3y=6$, esta ecuación cuadrática se corresponde a una hiperbola, la cual puede ser escrita en forma matricial como sigue:\n",
        "\n",
        "$A\\vec{v} \\cdot \\vec{v}=6$, donde $\\vec{v}=(x, y)$ y A es una matrix simetrica, \n",
        "\n",
        "\\begin{equation}\n",
        "A=\\begin{bmatrix}\n",
        "1 & -2 \\\\\n",
        "-2 & 3 \\\\\n",
        "\\end{bmatrix}\n",
        "\\end{equation}\n",
        "\n",
        "1. Realice un grafico que represente la hyperbola\n",
        "\n",
        "\n",
        "\n",
        "\n",
        "\n",
        "\n",
        "\n",
        "- Diagonalice A, para ello construya la matrix Q de autovectores ortoganales \n",
        "tal que $D=Q^{T}AQ$, en este caso se dice que A es diagonalizable ortogonalmente, donde $A=QDQ^T$.\n",
        "\n",
        "- Aplique el resultado de la siguiente demostración para encontrar una nueva hyperbola en una  nueva base\n",
        "\n",
        "\\begin{equation}\n",
        "QDQ^T \\vec{v} \\cdot \\vec{v} = d\n",
        "\\end{equation}\n",
        "\n",
        "\n",
        "\\begin{equation}\n",
        "Q(DQ^T\\vec{v}) \\cdot \\vec{v} = (DQ^T\\vec{v}) \\cdot (Q^T\\vec{v})=d\n",
        "\\end{equation}\n",
        "\n",
        "\n",
        "\\begin{equation}\n",
        "(DQ^T\\vec{v}) \\cdot (Q^T\\vec{v})=d\n",
        "\\end{equation}\n",
        "\n",
        "\n",
        "Sea $u=Q^T\\vec{v}$\n",
        "\n",
        "Luego :\n",
        "\n",
        "\n",
        "\\begin{equation}\n",
        "(D\\vec{u}) \\cdot \\vec{u}=d\n",
        "\\end{equation}\n",
        "\n",
        "donde $\\vec{u}=(x', y')$, tal que $D\\vec{u} \\cdot \\vec{u}=d$ es una nueva hyperbola \n",
        "\n",
        "\n",
        "\n",
        "\n",
        "\n",
        "\n",
        "\n"
      ],
      "metadata": {
        "id": "JwPHzdikikzu"
      }
    },
    {
      "cell_type": "code",
      "source": [
        "import matplotlib.pyplot as plt\n",
        "\n",
        "f1= lambda x: (2*x+np.sqrt(x**2+18))/3\n",
        "f2= lambda x: (2*x-np.sqrt(x**2+18))/3"
      ],
      "metadata": {
        "id": "vyJHxkinijT2"
      },
      "execution_count": 16,
      "outputs": []
    },
    {
      "cell_type": "code",
      "source": [
        "x=np.linspace(-100,100,100)\n",
        "y=np.linspace(-100,100,100)\n"
      ],
      "metadata": {
        "id": "bEiHVWyy_C55"
      },
      "execution_count": 17,
      "outputs": []
    },
    {
      "cell_type": "code",
      "source": [
        "plt.plot(x,f1(x), 'c')\n",
        "plt.plot(x,f2(x),'c')\n",
        "plt.xlim(-100,100)\n",
        "plt.ylim(-100,100)\n",
        "plt.title('f(x)')\n",
        "plt.grid()"
      ],
      "metadata": {
        "colab": {
          "base_uri": "https://localhost:8080/",
          "height": 452
        },
        "id": "LhRT_9W0_Lda",
        "outputId": "d67ef781-8011-495e-82b7-d4818d9f9a01"
      },
      "execution_count": 18,
      "outputs": [
        {
          "output_type": "display_data",
          "data": {
            "text/plain": [
              "<Figure size 640x480 with 1 Axes>"
            ],
            "image/png": "[encoded data removed]"
          },
          "metadata": {}
        }
      ]
    },
    {
      "cell_type": "code",
      "source": [
        "x,y=np.meshgrid(x,y)\n",
        "plt.contour(x,y,(x**2-4*x*y+3*y**2-6),[0],colors='purple')\n",
        "plt.title('f(x)')\n",
        "plt.grid()\n",
        "plt.show()"
      ],
      "metadata": {
        "colab": {
          "base_uri": "https://localhost:8080/",
          "height": 452
        },
        "id": "uhsbj6B-_Tkp",
        "outputId": "068aba4d-9d16-4efb-9bfe-231b0d6b0fb8"
      },
      "execution_count": 19,
      "outputs": [
        {
          "output_type": "display_data",
          "data": {
            "text/plain": [
              "<Figure size 640x480 with 1 Axes>"
            ],
            "image/png": "[encoded data removed]"
          },
          "metadata": {}
        }
      ]
    }
  ]
}