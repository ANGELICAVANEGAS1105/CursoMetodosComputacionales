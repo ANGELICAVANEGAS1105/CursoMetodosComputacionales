{
  "cells": [
    {
      "cell_type": "markdown",
      "id": "90baaaf7",
      "metadata": {
        "id": "90baaaf7"
      },
      "source": [
        "<a href=\"https://colab.research.google.com/github/hernansalinas/autogrades/blob/main/Actividades_clase/Actividad_07_derivadas.pynb\" target=\"_parent\"><img src=\"https://colab.research.google.com/assets/colab-badge.svg\" alt=\"Open In Colab\"/></a>\n",
        "\n",
        "\n",
        "\n",
        "# Actividad 7\n",
        "### Métodos computacionales para físicos  y astrónomos\n",
        "### Universidad de Antioquia\n",
        "### Prof: Hernan D. Salinas Jiménez\n",
        "Ref: https://github.com/restrepo/ComputationalMethods"
      ]
    },
    {
      "cell_type": "markdown",
      "id": "494edb2b",
      "metadata": {
        "id": "494edb2b"
      },
      "source": [
        "El potencial eléctrico de un anillo de radio R, en la parte superior z del anillo viene dado por: \n",
        "\n",
        "\n",
        "\\begin{equation}\n",
        "V = \\frac{kq_{tot}z}{\\sqrt{z^2+R^2}}\n",
        "\\end{equation}\n",
        "\n",
        "Calcule el campo eléctrico para z>0 y R=0.1mm. Reescale el problema en unidades de $kq_{top}$ empleando:\n",
        "\n",
        "1. La librearia sympy.\n",
        "\n",
        "2. Calcular el campo en el punto  $z = 0.1mm$ empleando el metodo [misc.derivative](https://docs.scipy.org/doc/scipy/reference/generated/scipy.misc.derivative.html)\n",
        "\n",
        "3. Calcular el campo para diferentes valores de z con z>0,,  empleando misc derivative. Construya un grafico de E vs z.\n",
        "\n",
        "4. Entender la generalizacion de la siguiente función, y aplicarla para calcular la derivada.\n",
        "\n",
        "\n",
        "```python\n",
        "import numpy as np\n",
        "from scipy import misc\n",
        "def derivative(func,x0,**kwargs):\n",
        "    '''\n",
        "    Vectorized replacement of scipy.misc derivative:\n",
        "        from scipy.misc import derivative\n",
        "    For usage check the derivative help, e.g, in jupyter: \n",
        "        from scipy.misc import derivative\n",
        "        derivative?\n",
        "    '''\n",
        "    try:\n",
        "        #x0: can be an array or a list  \n",
        "        nn=np.asarray(x0).shape[0] ## force error if float is used \n",
        "        fp=np.vectorize(misc.derivative)\n",
        "    except IndexError:\n",
        "        fp=misc.derivative\n",
        "        \n",
        "    return fp(func,x0,**kwargs)\n",
        "\n",
        "assert isinstance(derivative(np.sin,1,dx=1E-6),float)\n",
        "\n",
        "```"
      ]
    },
    {
      "cell_type": "markdown",
      "source": [
        "1) \n",
        "\\begin{equation}\n",
        "V = \\frac{kq_{tot}z}{\\sqrt{z^2+R^2}}\n",
        "\\end{equation}\n",
        "Tomando k=q=1\n",
        "\\begin{equation}\n",
        "V_ = \\frac{z}{\\sqrt{z^2+R^2}}\n",
        "\\end{equation}\n",
        "\n"
      ],
      "metadata": {
        "id": "CtSyUz8NW_Yz"
      },
      "id": "CtSyUz8NW_Yz"
    },
    {
      "cell_type": "code",
      "source": [
        "import sympy as sp\n",
        "import numpy as np\n",
        "import matplotlib.pyplot as plt\n",
        "from scipy.misc import derivative\n",
        "R=0.1e-3\n",
        "z=sp.symbols('z')\n",
        "def v(z):\n",
        "  return z/sp.sqrt(z**2+R**2)\n",
        "\n",
        "v_=sp.diff(v(z),z)\n",
        "v_"
      ],
      "metadata": {
        "colab": {
          "base_uri": "https://localhost:8080/",
          "height": 63
        },
        "id": "KuVrV3KtW38z",
        "outputId": "b9d2ae27-55ca-4e49-bb32-eac28f278804"
      },
      "id": "KuVrV3KtW38z",
      "execution_count": null,
      "outputs": [
        {
          "output_type": "execute_result",
          "data": {
            "text/plain": [
              "-z**2/(z**2 + 1.0e-8)**(3/2) + 1/sqrt(z**2 + 1.0e-8)"
            ],
            "text/latex": "$\\displaystyle - \\frac{z^{2}}{\\left(z^{2} + 1.0 \\cdot 10^{-8}\\right)^{\\frac{3}{2}}} + \\frac{1}{\\sqrt{z^{2} + 1.0 \\cdot 10^{-8}}}$"
          },
          "metadata": {},
          "execution_count": 3
        }
      ]
    },
    {
      "cell_type": "code",
      "source": [
        "e=sp.lambdify(z,v_,'numpy')\n",
        "\n",
        "v_n=sp.lambdify(z,v(z),'numpy')"
      ],
      "metadata": {
        "id": "-wfL8Y_occmD"
      },
      "id": "-wfL8Y_occmD",
      "execution_count": null,
      "outputs": []
    },
    {
      "cell_type": "code",
      "source": [
        "z_=np.linspace(0,0.001,1000)"
      ],
      "metadata": {
        "id": "_b5gGkX9dX1_"
      },
      "id": "_b5gGkX9dX1_",
      "execution_count": null,
      "outputs": []
    },
    {
      "cell_type": "code",
      "source": [
        "plt.plot(z_,v_n(z_),'r',label=('Potencial'))\n",
        "plt.legend()\n",
        "plt.grid()"
      ],
      "metadata": {
        "colab": {
          "base_uri": "https://localhost:8080/",
          "height": 430
        },
        "id": "gTD5BHIRkIJH",
        "outputId": "bcd294eb-a0e6-4622-8730-3ed3dcc86ebd"
      },
      "id": "gTD5BHIRkIJH",
      "execution_count": null,
      "outputs": [
        {
          "output_type": "display_data",
          "data": {
            "text/plain": [
              "<Figure size 640x480 with 1 Axes>"
            ],
            "image/png": "[encoded data removed]"
          },
          "metadata": {}
        }
      ]
    },
    {
      "cell_type": "markdown",
      "source": [
        "Evaluamos la función derivada con sympy (e) y comparamos con la función derivative *con z=0.002*"
      ],
      "metadata": {
        "id": "-bViPMAsl8B3"
      },
      "id": "-bViPMAsl8B3"
    },
    {
      "cell_type": "code",
      "source": [
        "d_e=-e(0.0002)\n",
        "d_e"
      ],
      "metadata": {
        "id": "eRM_oahEiJnX",
        "colab": {
          "base_uri": "https://localhost:8080/"
        },
        "outputId": "14a3e2e5-249e-409c-af75-c98ad22df1c5"
      },
      "id": "eRM_oahEiJnX",
      "execution_count": null,
      "outputs": [
        {
          "output_type": "execute_result",
          "data": {
            "text/plain": [
              "-894.4271909999161"
            ]
          },
          "metadata": {},
          "execution_count": 7
        }
      ]
    },
    {
      "cell_type": "code",
      "source": [
        "d_d=derivative(v_n,0.0002,dx=1e-8)"
      ],
      "metadata": {
        "colab": {
          "base_uri": "https://localhost:8080/"
        },
        "id": "i1WCH0ITgrH-",
        "outputId": "6a1cb0c8-e951-41bf-bc7a-f565fc5b3ee2"
      },
      "id": "i1WCH0ITgrH-",
      "execution_count": null,
      "outputs": [
        {
          "output_type": "stream",
          "name": "stderr",
          "text": [
            "<ipython-input-8-6ab3f19d6ea3>:1: DeprecationWarning: scipy.misc.derivative is deprecated in SciPy v1.10.0; and will be completely removed in SciPy v1.12.0. You may consider using findiff: https://github.com/maroba/findiff or numdifftools: https://github.com/pbrod/numdifftools\n",
            "  d_d=derivative(v_n,0.0002,dx=1e-8)\n"
          ]
        }
      ]
    },
    {
      "cell_type": "code",
      "source": [
        "D=[]\n",
        "for i in z_:\n",
        "  d=derivative(v_n,i,dx=1e-8)\n",
        "  D.append(-d)\n",
        "  print(-d)"
      ],
      "metadata": {
        "colab": {
          "base_uri": "https://localhost:8080/"
        },
        "id": "zfVFeeqhg_5e",
        "outputId": "c131baf9-0e05-42c6-d93c-5f58ea42f58c"
      },
      "id": "zfVFeeqhg_5e",
      "execution_count": null,
      "outputs": [
        {
          "output_type": "stream",
          "name": "stderr",
          "text": [
            "<ipython-input-9-9460a9012e45>:3: DeprecationWarning: scipy.misc.derivative is deprecated in SciPy v1.10.0; and will be completely removed in SciPy v1.12.0. You may consider using findiff: https://github.com/maroba/findiff or numdifftools: https://github.com/pbrod/numdifftools\n",
            "  d=derivative(v_n,i,dx=1e-8)\n"
          ]
        },
        {
          "output_type": "stream",
          "name": "stdout",
          "text": [
            "-9999.999950000001\n",
            "-9998.497133761364\n",
            "-9993.990942748325\n",
            "-9986.488142158662\n",
            "-9975.9999810059\n",
            "-9962.542152817943\n",
            "-9946.134740962398\n",
            "-9926.80214893793\n",
            "-9904.573016072254\n",
            "-9879.480119135558\n",
            "-9851.56026049247\n",
            "-9820.854143452461\n",
            "-9787.406235588907\n",
            "-9751.2646208317\n",
            "-9712.480841204962\n",
            "-9671.109729134098\n",
            "-9627.20923127075\n",
            "-9580.840224837628\n",
            "-9532.066327498645\n",
            "-9480.953701786199\n",
            "-9427.570855097267\n",
            "-9371.988436344958\n",
            "-9314.279030202266\n",
            "-9254.516950042702\n",
            "-9192.778030446547\n",
            "-9129.139420351039\n",
            "-9063.67937761332\n",
            "-8996.477065986719\n",
            "-8927.612355261183\n",
            "-8857.165625328345\n",
            "-8785.217574977522\n",
            "-8711.849035980546\n",
            "-8637.140793127384\n",
            "-8561.173410742695\n",
            "-8484.027066182898\n",
            "-8405.781390655176\n",
            "-8326.515317857997\n",
            "-8246.306940590253\n",
            "-8165.233375642678\n",
            "-8083.370637190778\n",
            "-8000.793518703197\n",
            "-7917.575483532002\n",
            "-7833.78856419048\n",
            "-7749.503270237934\n",
            "-7664.788504774256\n",
            "-7579.711489394403\n",
            "-7494.337697452891\n",
            "-7408.730795452345\n",
            "-7322.952592406229\n",
            "-7237.062996814924\n",
            "-7151.119981130271\n",
            "-7065.179553283896\n",
            "-6979.2957351294535\n",
            "-6893.520547340826\n",
            "-6807.90400053588\n",
            "-6722.4940922400165\n",
            "-6637.336809414695\n",
            "-6552.476136076346\n",
            "-6467.9540658418855\n",
            "-6383.8106188984775\n",
            "-6300.083863147732\n",
            "-6216.809939169066\n",
            "-6134.023088660845\n",
            "-6051.755686048432\n",
            "-5970.038272951061\n",
            "-5888.899595224429\n",
            "-5808.3666421682165\n",
            "-5728.464687931867\n",
            "-5649.217334358081\n",
            "-5570.646555541625\n",
            "-5492.772743470598\n",
            "-5415.6147546613465\n",
            "-5339.189957703771\n",
            "-5263.514281195203\n",
            "-5188.6022622404935\n",
            "-5114.467095052033\n",
            "-5041.120679660782\n",
            "-4968.573670516285\n",
            "-4896.835524831333\n",
            "-4825.91455060466\n",
            "-4755.817954132935\n",
            "-4686.551886956547\n",
            "-4618.121492122596\n",
            "-4550.53094968183\n",
            "-4483.783521436191\n",
            "-4417.881594598327\n",
            "-4352.826724740577\n",
            "-4288.619677528249\n",
            "-4225.260469536973\n",
            "-4162.748407937622\n",
            "-4101.082129109867\n",
            "-4040.2596360400444\n",
            "-3980.27833471426\n",
            "-3921.135069229198\n",
            "-3862.8261558038002\n",
            "-3805.3474155974595\n",
            "-3748.6942064068885\n",
            "-3692.86145315284\n",
            "-3637.843677262165\n",
            "-3583.6350248952263\n",
            "-3530.2292940408984\n",
            "-3477.619960523537\n",
            "-3425.8002029607937\n",
            "-3374.762926533492\n",
            "-3324.5007858728745\n",
            "-3275.006206809872\n",
            "-3226.2714071695787\n",
            "-3178.288416627595\n",
            "-3131.0490955394066\n",
            "-3084.5451529371016\n",
            "-3038.768163593497\n",
            "-2993.709584253601\n",
            "-2949.3607689889955\n",
            "-2905.7129837584125\n",
            "-2862.75742022446\n",
            "-2820.485208804291\n",
            "-2778.887430948673\n",
            "-2737.955130771574\n",
            "-2697.6793260247155\n",
            "-2658.051018383789\n",
            "-2619.0612031296023\n",
            "-2580.7008782408047\n",
            "-2542.961052942605\n",
            "-2505.832755661519\n",
            "-2469.3070414860686\n",
            "-2433.3749991667373\n",
            "-2398.0277575608166\n",
            "-2363.2564916775677\n",
            "-2329.0524283015034\n",
            "-2295.4068511715773\n",
            "-2262.311105777348\n",
            "-2229.7566037610127\n",
            "-2197.7348270696416\n",
            "-2166.2373315689542\n",
            "-2135.255750590481\n",
            "-2104.7817979347183\n",
            "-2074.8072707410524\n",
            "-2045.3240520690308\n",
            "-2016.3241131354591\n",
            "-1987.7995154016226\n",
            "-1959.7424123996009\n",
            "-1932.1450513254401\n",
            "-1904.9997744158275\n",
            "-1878.2990202248495\n",
            "-1852.0353245954357\n",
            "-1826.2013215086802\n",
            "-1800.7897438165887\n",
            "-1775.7934237860873\n",
            "-1751.2052934764988\n",
            "-1727.0183850059962\n",
            "-1703.2258307625448\n",
            "-1679.820863381698\n",
            "-1656.7968156466773\n",
            "-1634.1471203940027\n",
            "-1611.8653102081826\n",
            "-1589.9450170164807\n",
            "-1568.3799717669533\n",
            "-1547.1640037956201\n",
            "-1526.2910403046615\n",
            "-1505.7551057462426\n",
            "-1485.5503210786658\n",
            "-1465.6709030003155\n",
            "-1446.111163211361\n",
            "-1426.8655074756164\n",
            "-1407.9284348045285\n",
            "-1389.29453648573\n",
            "-1370.958495150454\n",
            "-1352.9150837465752\n",
            "-1335.1591645338613\n",
            "-1317.6856880681153\n",
            "-1300.4896921187114\n",
            "-1283.5663005417164\n",
            "-1266.9107222806897\n",
            "-1250.518250145438\n",
            "-1234.3842597795085\n",
            "-1218.5042084500442\n",
            "-1202.8736339653178\n",
            "-1187.4881535145487\n",
            "-1172.3434624799634\n",
            "-1157.4353333154706\n",
            "-1142.759614425337\n",
            "-1128.3122289429402\n",
            "-1114.0891736205472\n",
            "-1100.08651766913\n",
            "-1086.3004016037348\n",
            "-1072.7270361277074\n",
            "-1059.362700961408\n",
            "-1046.2037437652948\n",
            "-1033.2465789519852\n",
            "-1020.487686648197\n",
            "-1007.9236115068113\n",
            "-995.5509616910163\n",
            "-983.3664077696369\n",
            "-971.3666815680533\n",
            "-959.5485752245114\n",
            "-947.9089400632467\n",
            "-936.4446855619768\n",
            "-925.1527783360469\n",
            "-914.0302411336787\n",
            "-903.0741517923601\n",
            "-892.2816422951563\n",
            "-881.6498977770592\n",
            "-871.1761555202369\n",
            "-860.8577040714049\n",
            "-850.6918822759335\n",
            "-840.6760783008505\n",
            "-830.807728841032\n",
            "-821.0843180977978\n",
            "-811.5033769684476\n",
            "-802.0624821691857\n",
            "-792.7592553413909\n",
            "-783.5913622689094\n",
            "-774.55651200653\n",
            "-765.6524560306632\n",
            "-756.8769875565539\n",
            "-748.2279406001435\n",
            "-739.7031893285888\n",
            "-731.3006472053906\n",
            "-723.0182662965045\n",
            "-714.8540365320422\n",
            "-706.8059849513197\n",
            "-698.8721750034176\n",
            "-691.0507058643933\n",
            "-683.3397117489426\n",
            "-675.7373612109596\n",
            "-668.241856532914\n",
            "-660.8514330208592\n",
            "-653.5643583882588\n",
            "-646.3789321620172\n",
            "-639.2934850052434\n",
            "-632.3063781898952\n",
            "-625.4160029195432\n",
            "-618.6207798464238\n",
            "-611.9191584330607\n",
            "-605.3096164027049\n",
            "-598.7906592064273\n",
            "-592.360819495763\n",
            "-586.0186565731507\n",
            "-579.7627558756791\n",
            "-573.5917284976911\n",
            "-567.5042106578765\n",
            "-561.4988632274276\n",
            "-555.5743712637451\n",
            "-549.7294434997357\n",
            "-543.9628119885409\n",
            "-538.2732314651583\n",
            "-532.6594791355\n",
            "-527.1203540657688\n",
            "-521.6546767994323\n",
            "-516.2612890408092\n",
            "-510.9390530777524\n",
            "-505.68685155960577\n",
            "-500.5035869309893\n",
            "-495.388181215306\n",
            "-490.33957551514186\n",
            "-485.35672969585164\n",
            "-480.43862203028806\n",
            "-475.5842488046724\n",
            "-470.79262401328316\n",
            "-466.06277900873573\n",
            "-461.39376214671125\n",
            "-456.78463849729843\n",
            "-452.23448946751785\n",
            "-447.7424125459706\n",
            "-443.30752098642455\n",
            "-438.92894344144116\n",
            "-434.6058237902906\n",
            "-430.33732072261796\n",
            "-426.1226075108482\n",
            "-421.9608717603851\n",
            "-417.8513151098517\n",
            "-413.79315291467657\n",
            "-409.7856141083156\n",
            "-405.82794080257224\n",
            "-401.91938813216586\n",
            "-398.0592240049319\n",
            "-394.2467288076123\n",
            "-390.48119523377164\n",
            "-386.76192797848506\n",
            "-383.08824357735637\n",
            "-379.45947015671777\n",
            "-375.87494723378967\n",
            "-372.3340254557783\n",
            "-368.83606644444455\n",
            "-365.3804425740592\n",
            "-361.96653676601187\n",
            "-358.59374228341954\n",
            "-355.26146254238887\n",
            "-351.96911095658476\n",
            "-348.71611068187923\n",
            "-345.50189453863567\n",
            "-342.3259047008464\n",
            "-339.18759265172406\n",
            "-336.0864189005941\n",
            "-333.0218529329354\n",
            "-329.9933729439264\n",
            "-327.00046571632055\n",
            "-324.04262646501536\n",
            "-321.1193586760697\n",
            "-318.23017398457944\n",
            "-315.3745919859396\n",
            "-312.5521400859643\n",
            "-309.76235340096633\n",
            "-307.00477459677523\n",
            "-304.27895374995904\n",
            "-301.58444817574014\n",
            "-298.92082240023933\n",
            "-296.28764791067573\n",
            "-293.6845030887536\n",
            "-291.1109731218442\n",
            "-288.5666497920436\n",
            "-286.05113142066153\n",
            "-283.5640227516478\n",
            "-281.1049348072636\n",
            "-278.67348478261\n",
            "-276.26929596236135\n",
            "-273.89199756533424\n",
            "-271.54122470007815\n",
            "-269.2166181927913\n",
            "-266.9178245484627\n",
            "-264.64449580099193\n",
            "-262.39628943547365\n",
            "-260.1728683049309\n",
            "-257.97390051929267\n",
            "-255.79905934547398\n",
            "-253.64802315186452\n",
            "-251.52047529175547\n",
            "-249.41610399786816\n",
            "-247.3346023212919\n",
            "-245.27566807597267\n",
            "-243.2390037165888\n",
            "-241.2243162386307\n",
            "-239.23131713954325\n",
            "-237.25972237431668\n",
            "-235.30925217229992\n",
            "-233.37963106495607\n",
            "-231.4705877470846\n",
            "-229.58185503796358\n",
            "-227.7131698147361\n",
            "-225.86427291804156\n",
            "-224.03490909650435\n",
            "-222.22482696787614\n",
            "-220.43377887470683\n",
            "-218.66152091765122\n",
            "-216.9078128388957\n",
            "-215.17241793334028\n",
            "-213.4551030819054\n",
            "-211.75563858499834\n",
            "-210.07379815696225\n",
            "-208.40935889832045\n",
            "-206.76210116810088\n",
            "-205.13180858938716\n",
            "-203.51826796050076\n",
            "-201.92126920504094\n",
            "-200.34060533857811\n",
            "-198.77607240759153\n",
            "-197.2274694395093\n",
            "-195.69459837609492\n",
            "-194.17726406234513\n",
            "-192.67527415212092\n",
            "-191.18843912480088\n",
            "-189.71657214095217\n",
            "-188.25948911449507\n",
            "-186.81700859057847\n",
            "-185.3889517122731\n",
            "-183.9751422150204\n",
            "-182.57540632671265\n",
            "-181.18957276769265\n",
            "-179.81747272854952\n",
            "-178.45893977019855\n",
            "-177.11380981833003\n",
            "-175.78192115230706\n",
            "-174.46311432189887\n",
            "-173.15723211952516\n",
            "-171.86411956915393\n",
            "-170.58362386523916\n",
            "-169.31559435606758\n",
            "-168.05988250490066\n",
            "-166.81634182891258\n",
            "-165.58482790474116\n",
            "-164.36519833518125\n",
            "-163.15731266036693\n",
            "-161.9610324132825\n",
            "-160.77622101429156\n",
            "-159.6027438099945\n",
            "-158.4404679455531\n",
            "-157.28926244240603\n",
            "-156.14899811500214\n",
            "-155.01954752639156\n",
            "-153.90078498822567\n",
            "-152.79258656630822\n",
            "-151.69482995847082\n",
            "-150.60739457228854\n",
            "-149.53016143626206\n",
            "-148.46301317761322\n",
            "-147.40583403893837\n",
            "-146.3585098060438\n",
            "-145.3209278079459\n",
            "-144.29297688356434\n",
            "-143.27454737617094\n",
            "-142.26553108898088\n",
            "-141.2658212796014\n",
            "-140.27531260452085\n",
            "-139.2939011746197\n",
            "-138.3214844274949\n",
            "-137.3579611996245\n",
            "-136.4032316208963\n",
            "-135.45719720897685\n",
            "-134.5197607249826\n",
            "-133.59082622899086\n",
            "-132.67029905228432\n",
            "-131.75808573628876\n",
            "-130.85409408253312\n",
            "-129.95823307493382\n",
            "-129.07041289089705\n",
            "-128.1905448846654\n",
            "-127.318541542909\n",
            "-126.45431651248096\n",
            "-125.59778451715076\n",
            "-124.74886144087094\n",
            "-123.90746418344811\n",
            "-123.07351078266748\n",
            "-122.2469202810661\n",
            "-121.42761277589287\n",
            "-120.6155093858019\n",
            "-119.81053224530136\n",
            "-119.01260444924233\n",
            "-118.2216501194322\n",
            "-117.43759430471457\n",
            "-116.6603630309293\n",
            "-115.88988321764582\n",
            "-115.12608275587866\n",
            "-114.36889042482079\n",
            "-113.61823587519027\n",
            "-112.87404968474135\n",
            "-112.13626328054893\n",
            "-111.40480895566185\n",
            "-110.67961982469399\n",
            "-109.96062986268207\n",
            "-109.24777385512563\n",
            "-108.54098739798701\n",
            "-107.84020688658913\n",
            "-107.14536951006437\n",
            "-106.456413223599\n",
            "-105.77327675398429\n",
            "-105.0958995552076\n",
            "-104.42422187506573\n",
            "-103.75818466634712\n",
            "-103.09772958683183\n",
            "-102.44279904370046\n",
            "-101.7933361047163\n",
            "-101.14928458149208\n",
            "-100.51058892401876\n",
            "-99.87719427062558\n",
            "-99.2490464313267\n",
            "-98.626091876719\n",
            "-98.008277688022\n",
            "-97.3955516292424\n",
            "-96.7878620528051\n",
            "-96.18515794951321\n",
            "-95.58738894299701\n",
            "-94.99450520089603\n",
            "-94.40645753477916\n",
            "-93.8231973390824\n",
            "-93.24467655780211\n",
            "-92.670847728904\n",
            "-92.10166393991415\n",
            "-91.53707883347018\n",
            "-90.97704662397454\n",
            "-90.42152203653231\n",
            "-89.87046032360446\n",
            "-89.32381729831462\n",
            "-88.78154925118231\n",
            "-88.24361301673633\n",
            "-87.70996592910585\n",
            "-87.1805657887137\n",
            "-86.65537091778752\n",
            "-86.134340121502\n",
            "-85.61743266022326\n",
            "-85.10460829946886\n",
            "-84.59582724884562\n",
            "-84.09105016760066\n",
            "-83.59023818127476\n",
            "-83.09335286504904\n",
            "-82.60035623264272\n",
            "-82.11121074741534\n",
            "-81.62587925020226\n",
            "-81.14432507033698\n",
            "-80.6665119090777\n",
            "-80.19240390622073\n",
            "-79.72196559569156\n",
            "-79.25516192219817\n",
            "-78.7919582079244\n",
            "-78.33232021914327\n",
            "-77.87621402743916\n",
            "-77.42360615403676\n",
            "-76.97446346988102\n",
            "-76.52875320673935\n",
            "-76.08644300716172\n",
            "-75.64750080235605\n",
            "-75.21189495651726\n",
            "-74.77959413915158\n",
            "-74.35056738613888\n",
            "-73.92478407752812\n",
            "-73.50221392643519\n",
            "-73.08282697349178\n",
            "-72.66659361460093\n",
            "-72.25348455652814\n",
            "-71.84347081135023\n",
            "-71.43652377417098\n",
            "-71.03261505103653\n",
            "-70.63171665322443\n",
            "-70.23380086401687\n",
            "-69.8388402442518\n",
            "-69.44680768228295\n",
            "-69.05767636622429\n",
            "-68.67141976729663\n",
            "-68.28801162872544\n",
            "-67.90742599349642\n",
            "-67.52963718215099\n",
            "-67.15461979278636\n",
            "-66.78234871215771\n",
            "-66.41279906016706\n",
            "-66.04594625092552\n",
            "-65.68176597054887\n",
            "-65.3202341438508\n",
            "-64.96132695099632\n",
            "-64.60502084970621\n",
            "-64.25129253639916\n",
            "-63.90011894619185\n",
            "-63.55147726400112\n",
            "-63.20534491899288\n",
            "-62.86169959568433\n",
            "-62.520519172881706\n",
            "-62.181781801395886\n",
            "-61.845465848531234\n",
            "-61.511549898085605\n",
            "-61.18001277810592\n",
            "-60.85083352203036\n",
            "-60.52399139644393\n",
            "-60.19946588997627\n",
            "-59.87723666334155\n",
            "-59.55728364370749\n",
            "-59.23958692477527\n",
            "-58.92412682784176\n",
            "-58.61088388514624\n",
            "-58.29983879546141\n",
            "-57.99097250736018\n",
            "-57.68426612484667\n",
            "-57.37970095731626\n",
            "-57.077258497351124\n",
            "-56.77692047068028\n",
            "-56.47866873070839\n",
            "-56.182485363986956\n",
            "-55.88835260694758\n",
            "-55.59625290141312\n",
            "-55.30616883353545\n",
            "-55.018083211511026\n",
            "-54.73197899341642\n",
            "-54.44783929831054\n",
            "-54.16564746174579\n",
            "-53.88538691364353\n",
            "-53.607041328174176\n",
            "-53.330594496081574\n",
            "-53.0560303690919\n",
            "-52.78333309877148\n",
            "-52.51248696436228\n",
            "-52.2434764005375\n",
            "-51.976286002952676\n",
            "-51.71090054489902\n",
            "-51.447304905138935\n",
            "-51.18548415672386\n",
            "-50.92542350038087\n",
            "-50.667108275614936\n",
            "-50.41052397736223\n",
            "-50.155656255990166\n",
            "-49.90249088399068\n",
            "-49.65101376153136\n",
            "-49.40121097196659\n",
            "-49.153068698570834\n",
            "-48.906573274498655\n",
            "-48.66171115502915\n",
            "-48.41846895087265\n",
            "-48.176833361557314\n",
            "-47.93679128645145\n",
            "-47.69832966378118\n",
            "-47.46143563161276\n",
            "-47.22609641127917\n",
            "-46.9922993684424\n",
            "-46.7600319686845\n",
            "-46.52928183301874\n",
            "-46.300036693480706\n",
            "-46.07228435982158\n",
            "-45.84601279167266\n",
            "-45.6212100763409\n",
            "-45.39786438995108\n",
            "-45.17596402520141\n",
            "-44.9554974246702\n",
            "-44.736453075344684\n",
            "-44.518819608541094\n",
            "-44.30258578880242\n",
            "-44.087740441733914\n",
            "-43.874272509514256\n",
            "-43.66217107865111\n",
            "-43.45142528561219\n",
            "-43.24202440009195\n",
            "-43.03395777505159\n",
            "-42.827214874474606\n",
            "-42.62178528446903\n",
            "-42.4176586355518\n",
            "-42.21482469701776\n",
            "-42.01327332142846\n",
            "-41.8129944557144\n",
            "-41.61397813562395\n",
            "-41.41621449682553\n",
            "-41.21969377490764\n",
            "-41.024406272072156\n",
            "-40.83034239599215\n",
            "-40.637492654260754\n",
            "-40.44584762663561\n",
            "-40.25539794838551\n",
            "-40.06613444351714\n",
            "-39.87804787497495\n",
            "-39.69112922774798\n",
            "-39.50536947572303\n",
            "-39.32075973156479\n",
            "-39.137291152346876\n",
            "-38.95495499506296\n",
            "-38.77374258887123\n",
            "-38.59364536284993\n",
            "-38.41465477383288\n",
            "-38.236762422982906\n",
            "-38.05995992811617\n",
            "-37.88423901252003\n",
            "-37.70959149385078\n",
            "-37.53600922307143\n",
            "-37.363484123309476\n",
            "-37.19200823426583\n",
            "-37.021573634499205\n",
            "-36.852172474732825\n",
            "-36.683796994507745\n",
            "-36.51643947777394\n",
            "-36.350092302850356\n",
            "-36.18474789801596\n",
            "-36.0203987581631\n",
            "-35.85703746700197\n",
            "-35.69465663044724\n",
            "-35.53324897653809\n",
            "-35.37280727772263\n",
            "-35.21332432310231\n",
            "-35.054793029454245\n",
            "-34.89720634686222\n",
            "-34.740557297574526\n",
            "-34.584838948248375\n",
            "-34.43004445990994\n",
            "-34.27616699358538\n",
            "-34.12319984352763\n",
            "-33.97113632064297\n",
            "-33.81996978579771\n",
            "-33.669693688676006\n",
            "-33.52030152337093\n",
            "-33.37178682283337\n",
            "-33.224143197729816\n",
            "-33.07736430313568\n",
            "-32.93144386629088\n",
            "-32.78637564219089\n",
            "-32.64215347464905\n",
            "-32.4987712130298\n",
            "-32.35622280106654\n",
            "-32.21450222135047\n",
            "-32.073603506432846\n",
            "-31.93352073882494\n",
            "-31.79424805654918\n",
            "-31.65577963093469\n",
            "-31.5181097110262\n",
            "-31.38123258472625\n",
            "-31.245142578795182\n",
            "-31.109834064402264\n",
            "-30.975301490432372\n",
            "-30.841539327974843\n",
            "-30.70854207587459\n",
            "-30.576304338447713\n",
            "-30.444820708908082\n",
            "-30.31408585818518\n",
            "-30.184094507168524\n",
            "-30.0548413656454\n",
            "-29.92632125997652\n",
            "-29.79852902762481\n",
            "-29.6714595393599\n",
            "-29.545107727013686\n",
            "-29.419468550173633\n",
            "-29.294537029489476\n",
            "-29.170308202264295\n",
            "-29.04677719461901\n",
            "-28.923939088265627\n",
            "-28.801789087040675\n",
            "-28.680322411434034\n",
            "-28.5595342874867\n",
            "-28.43942003560862\n",
            "-28.31997497620975\n",
            "-28.201194479660074\n",
            "-28.083073944085157\n",
            "-27.965608834223943\n",
            "-27.848794625917606\n",
            "-27.73262683941624\n",
            "-27.617101017174406\n",
            "-27.502212779362267\n",
            "-27.38795774059888\n",
            "-27.274331571014443\n",
            "-27.16132996849474\n",
            "-27.048948680885587\n",
            "-26.9371834560328\n",
            "-26.826030113946686\n",
            "-26.71548450239314\n",
            "-26.605542469138044\n",
            "-26.496199945214016\n",
            "-26.387452856102556\n",
            "-26.279297177245198\n",
            "-26.171728922941284\n",
            "-26.064744096387926\n",
            "-25.958338811804538\n",
            "-25.852509155654957\n",
            "-25.747251242158598\n",
            "-25.642561241046025\n",
            "-25.538435355354494\n",
            "-25.434869793672377\n",
            "-25.331860820099195\n",
            "-25.22940473204116\n",
            "-25.127497815802258\n",
            "-25.02613642429985\n",
            "-24.92531694375799\n",
            "-24.825035760400738\n",
            "-24.725289293758834\n",
            "-24.626074013323063\n",
            "-24.527386410788665\n",
            "-24.42922300560646\n",
            "-24.33158030057392\n",
            "-24.2344549039597\n",
            "-24.137843385174662\n",
            "-24.041742380243036\n",
            "-23.946148519637944\n",
            "-23.851058505997003\n",
            "-23.756469014202253\n",
            "-23.662376780198002\n",
            "-23.568778556581904\n",
            "-23.47567111815607\n",
            "-23.383051267478194\n",
            "-23.29091582931042\n",
            "-23.199261650619363\n",
            "-23.10808562278055\n",
            "-23.0173846316184\n",
            "-22.92715561291736\n",
            "-22.837395496910773\n",
            "-22.74810127489424\n",
            "-22.659269932612247\n",
            "-22.570898478013746\n",
            "-22.48298396900772\n",
            "-22.395523463503153\n",
            "-22.308514036062377\n",
            "-22.221952816758872\n",
            "-22.13583691346166\n",
            "-22.05016347844868\n",
            "-21.964929725060145\n",
            "-21.880132794471763\n",
            "-21.795769944432664\n",
            "-21.71183838273194\n",
            "-21.6283353948743\n",
            "-21.545258238608866\n",
            "-21.462604238298155\n",
            "-21.3803706905491\n",
            "-21.29855496413313\n",
            "-21.217154383412762\n",
            "-21.136166356017227\n",
            "-21.05558827292242\n",
            "-20.97541756396204\n",
            "-20.895651658969783\n",
            "-20.816288021086038\n",
            "-20.73732413010454\n",
            "-20.658757482472367\n",
            "-20.580585580187716\n",
            "-20.50280598075993\n",
            "-20.425416213942782\n",
            "-20.348413870552307\n",
            "-20.271796524751196\n",
            "-20.195561778457716\n",
            "-20.11970728355017\n",
            "-20.04423065860017\n",
            "-19.969129561037136\n",
            "-19.894401681597174\n",
            "-19.820044699914163\n",
            "-19.746056351133134\n",
            "-19.67243433154131\n",
            "-19.599176415141528\n",
            "-19.52628034262993\n",
            "-19.453743888009356\n",
            "-19.38156486969156\n",
            "-19.309741072781605\n",
            "-19.238270332344598\n",
            "-19.167150500098984\n",
            "-19.096379411109865\n",
            "-19.025954967055725\n",
            "-18.95587504185947\n",
            "-18.886137531648473\n",
            "-18.816740360305673\n",
            "-18.747681473918476\n",
            "-18.678958807472057\n",
            "-18.61057032925828\n",
            "-18.542514024222356\n",
            "-18.474787888411726\n",
            "-18.4073899067716\n",
            "-18.340318136411682\n",
            "-18.27357057893053\n",
            "-18.2071453080912\n",
            "-18.141040386554508\n",
            "-18.07525387698128\n",
            "-18.009783897543485\n",
            "-17.94462853310641\n",
            "-17.879785912944257\n",
            "-17.815254160780114\n",
            "-17.75103142254153\n",
            "-17.687115877462745\n",
            "-17.62350566592019\n",
            "-17.560199006005917\n",
            "-17.497194082505274\n",
            "-17.43448910240808\n",
            "-17.372082289357493\n",
            "-17.309971878098906\n",
            "-17.2481561366844\n",
            "-17.18663330541048\n",
            "-17.12540166343146\n",
            "-17.06445950100388\n",
            "-17.00380510283317\n",
            "-16.943436792482558\n",
            "-16.88335289351528\n",
            "-16.823551723943453\n",
            "-16.764031646188116\n",
            "-16.70479099491473\n",
            "-16.645828149197683\n",
            "-16.58714149366247\n",
            "-16.52872941848571\n",
            "-16.470590324946244\n",
            "-16.412722614322917\n",
            "-16.35512471565015\n",
            "-16.29779506906459\n",
            "-16.240732125805124\n",
            "-16.183934331559513\n",
            "-16.1274001597711\n",
            "-16.071128072780994\n",
            "-16.015116577339228\n",
            "-15.959364180195834\n",
            "-15.903869349243038\n",
            "-15.848630646742023\n",
            "-15.793646579442822\n",
            "-15.738915687402155\n",
            "-15.684436538432323\n",
            "-15.630207667038931\n",
            "-15.57622767434097\n",
            "-15.522495089292931\n",
            "-15.469008557422725\n",
            "-15.415766629889305\n",
            "-15.362767946669464\n",
            "-15.310011108882193\n",
            "-15.257494750953171\n",
            "-15.205217496205847\n",
            "-15.153178001270362\n",
            "-15.101374933879086\n",
            "-15.049806928457699\n",
            "-14.9984726638408\n",
            "-14.947370841067453\n",
            "-14.896500133421142\n",
            "-14.845859247492044\n",
            "-14.795446895421449\n",
            "-14.745261772697305\n",
            "-14.695302624767592\n",
            "-14.645568180426949\n",
            "-14.596057185123357\n",
            "-14.546768378753683\n",
            "-14.497700534521485\n",
            "-14.44885240342586\n",
            "-14.400222775323712\n",
            "-14.351810423418598\n",
            "-14.303614154220767\n",
            "-14.255632746484892\n",
            "-14.207865028925681\n",
            "-14.160309796951154\n",
            "-14.112965890378248\n",
            "-14.06583213237056\n",
            "-14.018907362745026\n",
            "-13.972190437971932\n",
            "-13.925680192317103\n",
            "-13.879375498904167\n",
            "-13.833275236407871\n",
            "-13.787378277951845\n",
            "-13.741683485557488\n",
            "-13.696189771206235\n",
            "-13.650896035777293\n",
            "-13.605801169047638\n",
            "-13.56090411075428\n",
            "-13.516203750674194\n",
            "-13.471699028544393\n",
            "-13.427388889653002\n",
            "-13.38327225708369\n",
            "-13.339348092777925\n",
            "-13.295615342023837\n",
            "-13.25207296121178\n",
            "-13.20871993448769\n",
            "-13.16555522934415\n",
            "-13.12257783547821\n",
            "-13.079786731484688\n",
            "-13.03718090706063\n",
            "-12.99475936855643\n",
            "-12.95252113342471\n",
            "-12.91046520246475\n",
            "-12.8685906042314\n",
            "-12.826896361728402\n",
            "-12.785381514612837\n",
            "-12.744045085888445\n",
            "-12.702886137416769\n",
            "-12.661903719957124\n",
            "-12.621096873166593\n",
            "-12.58046468111118\n",
            "-12.540006205652432\n",
            "-12.49972051975412\n",
            "-12.459606701931136\n",
            "-12.41966385290283\n",
            "-12.379891051184089\n",
            "-12.34028740304538\n",
            "-12.300852009206054\n",
            "-12.261583970385459\n",
            "-12.222482426160752\n",
            "-12.183546477251284\n",
            "-12.144775263234209\n",
            "-12.106167912584453\n",
            "-12.067723553776943\n",
            "-12.029441337491065\n",
            "-11.991320414406204\n",
            "-11.953359940752861\n",
            "-11.915559061659309\n",
            "-11.877916955560508\n",
            "-11.84043278978919\n",
            "-11.803105737229203\n",
            "-11.765934965213276\n",
            "-11.728919685483064\n",
            "-11.692059070922411\n",
            "-11.655352322170742\n",
            "-11.618798634316363\n",
            "-11.582397213549811\n",
            "-11.546147277163854\n",
            "-11.51004803134903\n",
            "-11.47409869894922\n",
            "-11.438298508359424\n",
            "-11.402646682423523\n",
            "-11.367142471740976\n",
            "-11.331785088053437\n",
            "-11.296573798613707\n",
            "-11.261507837367901\n",
            "-11.226586460466592\n",
            "-11.191808935162584\n",
            "-11.15717451760645\n",
            "-11.122682463948763\n",
            "-11.088332069197904\n",
            "-11.05412258395333\n",
            "-11.020053308774536\n",
            "-10.986123510914325\n",
            "-10.952332490932193\n",
            "-10.918679532734288\n",
            "-10.885163936880105\n",
            "-10.851785015031368\n",
            "-10.818542062196457\n",
            "-10.785434378934866\n",
            "-10.752461310215011\n",
            "-10.719622156596387\n",
            "-10.686916229740717\n",
            "-10.654342857963073\n",
            "-10.62190141953856\n",
            "-10.589591176168867\n",
            "-10.55741149502687\n",
            "-10.525361754387674\n",
            "-10.493441260361891\n",
            "-10.461649380122395\n",
            "-10.429985447535373\n",
            "-10.398448857529274\n",
            "-10.36703893841917\n",
            "-10.335755068480168\n",
            "-10.304596631538487\n",
            "-10.273562994767005\n",
            "-10.242653514236366\n",
            "-10.211867590426138\n",
            "-10.181204601611427\n",
            "-10.150663953822914\n",
            "-10.120245003131245\n",
            "-10.089947177771563\n",
            "-10.05976987267232\n",
            "-10.029712471659735\n",
            "-9.999774408520068\n",
            "-9.969955067079539\n",
            "-9.940253881124406\n",
            "-9.910670251134235\n",
            "-9.881203605344169\n",
            "-9.85185337198935\n"
          ]
        }
      ]
    },
    {
      "cell_type": "code",
      "source": [
        "plt.plot(z_,D,\"r\",label=('Derivadas'))\n",
        "plt.plot(z_,-e(z_),\"c-\",label=('Campo Electrico'))\n",
        "plt.legend()\n",
        "plt.grid()"
      ],
      "metadata": {
        "colab": {
          "base_uri": "https://localhost:8080/",
          "height": 430
        },
        "id": "vRS-x9nXh6rP",
        "outputId": "99cad7f8-6e96-4e2d-8571-279755592d8d"
      },
      "id": "vRS-x9nXh6rP",
      "execution_count": null,
      "outputs": [
        {
          "output_type": "display_data",
          "data": {
            "text/plain": [
              "<Figure size 640x480 with 1 Axes>"
            ],
            "image/png": "[encoded data removed]"
          },
          "metadata": {}
        }
      ]
    },
    {
      "cell_type": "markdown",
      "source": [
        "Lo hacemos vectorizado\n",
        "\n"
      ],
      "metadata": {
        "id": "e9axeWdwoTFV"
      },
      "id": "e9axeWdwoTFV"
    },
    {
      "cell_type": "code",
      "source": [
        "vect=np.vectorize(derivative)\n",
        "dv=vect(v_n,z_,dx=1e-8)"
      ],
      "metadata": {
        "id": "jSys5nMflM5g"
      },
      "id": "jSys5nMflM5g",
      "execution_count": null,
      "outputs": []
    },
    {
      "cell_type": "code",
      "source": [
        "plt.plot(z_,-dv)\n",
        "plt.grid()"
      ],
      "metadata": {
        "colab": {
          "base_uri": "https://localhost:8080/",
          "height": 430
        },
        "id": "IqjMMQatngwu",
        "outputId": "43aaf263-a06a-45a9-a592-01dfd1c44cba"
      },
      "id": "IqjMMQatngwu",
      "execution_count": null,
      "outputs": [
        {
          "output_type": "display_data",
          "data": {
            "text/plain": [
              "<Figure size 640x480 with 1 Axes>"
            ],
            "image/png": "[encoded data removed]"
          },
          "metadata": {}
        }
      ]
    },
    {
      "cell_type": "markdown",
      "source": [
        "Usando kq=1 y a R como un argumento de la función:"
      ],
      "metadata": {
        "id": "Zb8_hulIozQo"
      },
      "id": "Zb8_hulIozQo"
    },
    {
      "cell_type": "code",
      "source": [
        "def potencial(z,R,kq):\n",
        "  if (z>=0):\n",
        "    V= z*kq/np.sqrt(z**2+R**2)\n",
        "  else:\n",
        "    V=0\n",
        "  return V"
      ],
      "metadata": {
        "id": "t6R12SLOmYUk"
      },
      "id": "t6R12SLOmYUk",
      "execution_count": null,
      "outputs": []
    },
    {
      "cell_type": "code",
      "source": [
        "z=np.linspace(0,0.002,100)\n",
        "#z0=0.002\n",
        "kq=1\n",
        "R=0.1E-3"
      ],
      "metadata": {
        "id": "dr1u5rJkngXC"
      },
      "id": "dr1u5rJkngXC",
      "execution_count": null,
      "outputs": []
    },
    {
      "cell_type": "code",
      "source": [
        "pot=np.vectorize(potencial)\n",
        "plt.plot(z,pot(z,R,kq))\n",
        "plt.grid()"
      ],
      "metadata": {
        "colab": {
          "base_uri": "https://localhost:8080/",
          "height": 430
        },
        "id": "7L0oGprTujEm",
        "outputId": "b6987134-ea1e-4f64-eb2f-3cdf51580c3f"
      },
      "id": "7L0oGprTujEm",
      "execution_count": null,
      "outputs": [
        {
          "output_type": "display_data",
          "data": {
            "text/plain": [
              "<Figure size 640x480 with 1 Axes>"
            ],
            "image/png": "[encoded data removed]"
          },
          "metadata": {}
        }
      ]
    },
    {
      "cell_type": "code",
      "source": [
        "derivative_=np.vectorize(derivative,excluded=['args'])"
      ],
      "metadata": {
        "id": "WSFfc0pfnL1q"
      },
      "id": "WSFfc0pfnL1q",
      "execution_count": null,
      "outputs": []
    },
    {
      "cell_type": "code",
      "source": [
        "grad=derivative_(potencial,z,dx=1E-6,args=(R,kq))\n",
        "campo=-grad\n",
        "plt.plot(z,campo)\n",
        "plt.title('Campo Eléctrico con kq=1 y R=1e-4')\n",
        "plt.grid()"
      ],
      "metadata": {
        "colab": {
          "base_uri": "https://localhost:8080/",
          "height": 453
        },
        "id": "PUpmOO2NoDeq",
        "outputId": "7f3d6e78-36c4-4568-b9f1-efc10d5f59ac"
      },
      "id": "PUpmOO2NoDeq",
      "execution_count": null,
      "outputs": [
        {
          "output_type": "display_data",
          "data": {
            "text/plain": [
              "<Figure size 640x480 with 1 Axes>"
            ],
            "image/png": "[encoded data removed]"
          },
          "metadata": {}
        }
      ]
    },
    {
      "cell_type": "markdown",
      "source": [
        "Ahora definimos una función que nos diga e potencial de un disco y de un anillo\\:\n",
        "Disco:\n",
        "\\begin{equation}\n",
        "V_ = \\frac{q}{\\pi R^2}2k\\pi\\sqrt{z^2+R^2}-z\n",
        "\\end{equation}"
      ],
      "metadata": {
        "id": "N5W3ez4zu04z"
      },
      "id": "N5W3ez4zu04z"
    },
    {
      "cell_type": "code",
      "source": [
        "def potencial_s(z,R,kq,select):\n",
        "  if(select=='anillo'):\n",
        "    V= z*kq/np.sqrt(z**2+R**2)\n",
        "  elif(select=='disco'):\n",
        "    V=(2*kq/R**2)*(np.sqrt(z**2+R**2)-z)\n",
        "  else:\n",
        "    print('Error, la palabra debe ser anillo o disco')\n",
        "    V= None\n",
        "  return V"
      ],
      "metadata": {
        "id": "6Z6MM0l7u0sA"
      },
      "id": "6Z6MM0l7u0sA",
      "execution_count": null,
      "outputs": []
    },
    {
      "cell_type": "code",
      "source": [
        "print('El potencia de un anillo en 0.001 es de:', potencial_s(0.001,0.1E-3,kq=1,select='anillo'))"
      ],
      "metadata": {
        "colab": {
          "base_uri": "https://localhost:8080/"
        },
        "id": "cryeqkberY5d",
        "outputId": "6c97a425-e128-44db-e1a2-9408b700461f"
      },
      "id": "cryeqkberY5d",
      "execution_count": null,
      "outputs": [
        {
          "output_type": "stream",
          "name": "stdout",
          "text": [
            "El potencia de un anillo en 0.001 es de: 0.9950371902099892\n"
          ]
        }
      ]
    },
    {
      "cell_type": "code",
      "source": [
        "z=np.linspace(0,0.002,100)\n",
        "#z0=0.002\n",
        "kq=1\n",
        "R=0.1E-3"
      ],
      "metadata": {
        "id": "VpgAr1C_zbuL"
      },
      "id": "VpgAr1C_zbuL",
      "execution_count": null,
      "outputs": []
    },
    {
      "cell_type": "markdown",
      "source": [
        "Anillo"
      ],
      "metadata": {
        "id": "RTRtkhG9yreR"
      },
      "id": "RTRtkhG9yreR"
    },
    {
      "cell_type": "code",
      "source": [
        "select1 = 'anillo'\n",
        "grad1=derivative_(potencial_s,z,dx=1E-6,args=(R,kq,select1))\n",
        "campo1=-grad1\n",
        "\n",
        "plt.plot(z,campo1,label='Anillo')\n",
        "plt.legend()\n",
        "plt.grid()"
      ],
      "metadata": {
        "colab": {
          "base_uri": "https://localhost:8080/",
          "height": 430
        },
        "id": "6mgMB4BWw9s7",
        "outputId": "51fc989c-9e1a-4a81-bd73-d828f6a76e42"
      },
      "id": "6mgMB4BWw9s7",
      "execution_count": null,
      "outputs": [
        {
          "output_type": "display_data",
          "data": {
            "text/plain": [
              "<Figure size 640x480 with 1 Axes>"
            ],
            "image/png": "[encoded data removed]"
          },
          "metadata": {}
        }
      ]
    },
    {
      "cell_type": "markdown",
      "source": [
        "Disco"
      ],
      "metadata": {
        "id": "_2YWPEyhyseA"
      },
      "id": "_2YWPEyhyseA"
    },
    {
      "cell_type": "code",
      "source": [
        "select2 = 'disco'\n",
        "grad2=derivative_(potencial_s,z,dx=1E-6,args=(R,kq,select2))\n",
        "campo2=-grad2\n",
        "\n",
        "plt.plot(z,campo2,label='Disco')\n",
        "plt.legend()\n",
        "plt.grid()"
      ],
      "metadata": {
        "colab": {
          "base_uri": "https://localhost:8080/",
          "height": 445
        },
        "id": "gj8s2Q2ox0dq",
        "outputId": "abbc6691-26cd-4c92-b127-d3343c7e4dec"
      },
      "id": "gj8s2Q2ox0dq",
      "execution_count": null,
      "outputs": [
        {
          "output_type": "display_data",
          "data": {
            "text/plain": [
              "<Figure size 640x480 with 1 Axes>"
            ],
            "image/png": "[encoded data removed]"
          },
          "metadata": {}
        }
      ]
    },
    {
      "cell_type": "markdown",
      "source": [
        "Otra cosa:\n"
      ],
      "metadata": {
        "id": "oYFeyCbrytOg"
      },
      "id": "oYFeyCbrytOg"
    },
    {
      "cell_type": "code",
      "source": [
        "select='otra cosa'\n",
        "try:\n",
        "  gradiente=derivative_(potencial_s,z,dx=1E-6,args=(R,kq,select))\n",
        "  campoelect=-gradiente\n",
        "except:\n",
        "  print('Error')"
      ],
      "metadata": {
        "colab": {
          "base_uri": "https://localhost:8080/"
        },
        "id": "Yt5pbWWYyudZ",
        "outputId": "0d0e6f91-47e9-4079-dcb5-ceec8dd1b190"
      },
      "id": "Yt5pbWWYyudZ",
      "execution_count": null,
      "outputs": [
        {
          "output_type": "stream",
          "name": "stdout",
          "text": [
            "Error, la palabra debe ser anillo o disco\n",
            "Error\n"
          ]
        }
      ]
    },
    {
      "cell_type": "markdown",
      "source": [
        "Programa:"
      ],
      "metadata": {
        "id": "r-pal2Dr0xCy"
      },
      "id": "r-pal2Dr0xCy"
    },
    {
      "cell_type": "code",
      "source": [
        "np.savetxt('campo_electrico_anillo.txt',campo1)\n",
        "np.savetxt('campo_electrico_disco.txt',campo2)"
      ],
      "metadata": {
        "id": "_rGgdMvy1M_P"
      },
      "id": "_rGgdMvy1M_P",
      "execution_count": null,
      "outputs": []
    },
    {
      "cell_type": "code",
      "source": [
        "!ls"
      ],
      "metadata": {
        "colab": {
          "base_uri": "https://localhost:8080/"
        },
        "id": "2TcKkHx_1vLs",
        "outputId": "2d11f62f-95d6-4448-e361-c4d7733bad52"
      },
      "id": "2TcKkHx_1vLs",
      "execution_count": null,
      "outputs": [
        {
          "output_type": "stream",
          "name": "stdout",
          "text": [
            "campo_electrico_anillo.txt  campo_electrico_disco.txt  sample_data\n"
          ]
        }
      ]
    }
  ],
  "metadata": {
    "kernelspec": {
      "display_name": "Python 3 (ipykernel)",
      "language": "python",
      "name": "python3"
    },
    "language_info": {
      "codemirror_mode": {
        "name": "ipython",
        "version": 3
      },
      "file_extension": ".py",
      "mimetype": "text/x-python",
      "name": "python",
      "nbconvert_exporter": "python",
      "pygments_lexer": "ipython3",
      "version": "3.8.12"
    },
    "colab": {
      "provenance": []
    }
  },
  "nbformat": 4,
  "nbformat_minor": 5
}