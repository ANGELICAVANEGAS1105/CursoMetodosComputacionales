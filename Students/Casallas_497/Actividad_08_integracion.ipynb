{
  "nbformat": 4,
  "nbformat_minor": 0,
  "metadata": {
    "colab": {
      "provenance": []
    },
    "kernelspec": {
      "name": "python3",
      "display_name": "Python 3"
    },
    "language_info": {
      "name": "python"
    }
  },
  "cells": [
    {
      "cell_type": "markdown",
      "source": [
        "# Actividad \n",
        "1. Elaborar un programa en python que permita calcular la integral de una función entre el intervalo a, b. para ello debera realizar lo siguiente:\n",
        "\n",
        "## Realizar en notebook de collab\n",
        "- Deducir la ecuación general del metodo del trapecio.\n",
        "- Construir un funcion llamada integral_trapz que reciba como argumento una función y el intervalo a, b. El numero de intervalos N será un argumento opcional, \n",
        "  defina por defecto N=10. La función deberá retornar el valor de la integral.  \n",
        "- Comparar la solución con la libreria de scipy https://docs.scipy.org/doc//scipy-1.4.1/reference/generated/scipy.integrate.trapz.html\n"
      ],
      "metadata": {
        "id": "jXCeeuvHYiUB"
      }
    },
    {
      "cell_type": "code",
      "source": [
        "import numpy as np\n",
        "import matplotlib.pyplot as plt\n",
        "from scipy.integrate import trapz"
      ],
      "metadata": {
        "id": "LMNFNgEhcyFl"
      },
      "execution_count": 1,
      "outputs": []
    },
    {
      "cell_type": "code",
      "source": [
        "#trapecio\n",
        "f=lambda x:x**2\n",
        "a=0\n",
        "b=1\n",
        "N=5\n",
        "h=(b-a)/N\n",
        "x=np.linspace(a,b,N+1)\n",
        "\n",
        "A= (f(x[0])+f(x[-1]))*0.5*h+f(x[1:-1]).sum()*h\n",
        "print(h,A)"
      ],
      "metadata": {
        "colab": {
          "base_uri": "https://localhost:8080/"
        },
        "id": "Ionzb1J2dlgE",
        "outputId": "22ca5207-a116-4e52-ef93-8735cd8e3c16"
      },
      "execution_count": 2,
      "outputs": [
        {
          "output_type": "stream",
          "name": "stdout",
          "text": [
            "0.2 0.3400000000000001\n"
          ]
        }
      ]
    },
    {
      "cell_type": "code",
      "source": [
        "trapz(f(x),x)"
      ],
      "metadata": {
        "colab": {
          "base_uri": "https://localhost:8080/"
        },
        "id": "H-t2F9F-n5X0",
        "outputId": "2a140d7e-db5e-4727-ead4-f7b238cf4fe7"
      },
      "execution_count": 3,
      "outputs": [
        {
          "output_type": "execute_result",
          "data": {
            "text/plain": [
              "0.34"
            ]
          },
          "metadata": {},
          "execution_count": 3
        }
      ]
    },
    {
      "cell_type": "code",
      "source": [
        "def integral_trap(fun,a,b,N=10):\n",
        "  h=(b-a)/N\n",
        "  x=np.linspace(a,b,N+1)\n",
        "  A = (f(x[0])+f(x[-1]))*0.5*h+f(x[1:-1]).sum()*h\n",
        "  return A"
      ],
      "metadata": {
        "id": "lDvIY1KEoe_g"
      },
      "execution_count": 4,
      "outputs": []
    },
    {
      "cell_type": "code",
      "source": [
        "funcion='x**2+np.log(x**2+1)'\n",
        "f=lambda x: eval(funcion)"
      ],
      "metadata": {
        "id": "LAyjkBN9okrP"
      },
      "execution_count": 5,
      "outputs": []
    },
    {
      "cell_type": "code",
      "source": [
        "print(integral_trap(f,0.1,1,N=5))\n",
        "x=np.linspace(0.1,1,N+1)"
      ],
      "metadata": {
        "colab": {
          "base_uri": "https://localhost:8080/"
        },
        "id": "3AgWh3ZMqCDy",
        "outputId": "d4724ffe-7799-4de3-ab7b-dd062781ae62"
      },
      "execution_count": 6,
      "outputs": [
        {
          "output_type": "stream",
          "name": "stdout",
          "text": [
            "0.6036362484756226\n"
          ]
        }
      ]
    },
    {
      "cell_type": "code",
      "source": [
        "trapz(f(x),x,dx=h)"
      ],
      "metadata": {
        "colab": {
          "base_uri": "https://localhost:8080/"
        },
        "id": "0lXl_0swqNIP",
        "outputId": "806752e1-086f-404e-845a-748033a96a15"
      },
      "execution_count": 7,
      "outputs": [
        {
          "output_type": "execute_result",
          "data": {
            "text/plain": [
              "0.6036362484756225"
            ]
          },
          "metadata": {},
          "execution_count": 7
        }
      ]
    },
    {
      "cell_type": "markdown",
      "source": [
        "\n",
        "## Construir un programa en python con la función anterior que realice lo siguiente:  \n",
        "\n",
        "- Generalice el programa para que la funcion pueda ser pasada como parametro en terminal, junto con el parametro a, b. la ejecucion debera ser:\n",
        "  python integral func a b, Ejemplo de ejcucion:\n",
        "  python x**2+1 1 5  \n",
        "\n",
        "Para pasar los parametros consulte la libreria sys de python."
      ],
      "metadata": {
        "id": "BPqvek19zPkX"
      }
    },
    {
      "cell_type": "code",
      "source": [
        "#@title En Visual Studio:\n",
        "import sys\n",
        "from scipy.integrate import trapz\n",
        "import numpy as np\n",
        "\n",
        "error=\"\"\"Este programa calcula la integral de una funcion \n",
        "Param1:expresar función\n",
        "Param2:a\n",
        "Param3:b\n",
        "El programa se ejecuta así\n",
        "python expr a b\n",
        "\"\"\"\n",
        "#Trapecio:\n",
        "func= sys.argv[1]\n",
        "a=sys.argv[2]\n",
        "b=sys.argv[3]\n",
        "N=30\n",
        "if(len(sys.argv)!=4):\n",
        "    print(error)\n",
        "    exit(1)\n",
        "\n",
        "a=eval(a)\n",
        "b=eval(b)\n",
        "f=lambda x:eval(func)\n",
        "\n",
        "x=np.linspace(a,b,N+1)\n",
        "\n",
        "print(trapz(f(x),x))"
      ],
      "metadata": {
        "id": "3CnrxBhmcKDg"
      },
      "execution_count": null,
      "outputs": []
    }
  ]
}