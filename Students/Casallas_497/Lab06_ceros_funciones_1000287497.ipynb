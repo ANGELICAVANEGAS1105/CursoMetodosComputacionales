{
  "nbformat": 4,
  "nbformat_minor": 0,
  "metadata": {
    "colab": {
      "provenance": []
    },
    "kernelspec": {
      "name": "python3",
      "display_name": "Python 3"
    },
    "language_info": {
      "name": "python"
    }
  },
  "cells": [
    {
      "cell_type": "markdown",
      "source": [
        "<a href=\"https://colab.research.google.com/github/hernansalinas/autogrades/blob/main/Laboratorios_Taller/Lab06_ceros_funciones.ipynb\" target=\"_parent\"><img src=\"https://colab.research.google.com/assets/colab-badge.svg\" alt=\"Open In Colab\"/></a>\n"
      ],
      "metadata": {
        "id": "IgVsqbRHO_tR"
      }
    },
    {
      "cell_type": "code",
      "source": [
        "import numpy as np\n",
        "import pandas as pd\n",
        "import matplotlib.pyplot as plt\n",
        "import scipy.optimize as optimize\n",
        "import sympy as sp"
      ],
      "metadata": {
        "id": "H3gGhA3e-pnm"
      },
      "execution_count": 1,
      "outputs": []
    },
    {
      "cell_type": "markdown",
      "source": [
        "# Codigo Markdown:\n",
        "Los numeras a, b, c y d tiene que ver con escritura en código Markdown y comandos de latex: \n",
        "\n",
        "a. Escriba en pseudocódigo los pasos para aplicar el método de la bisección.\n",
        "\n",
        "b. Realice la deducción del metodo de Newton-Rapshon, se recomienda escribir las ecuaciones en formato latex, para ello puede emplear las siguientes expresiones:\n",
        "\n",
        "c. ¿Cuál es la diferencia del metodo de Newton-Rapson con respecto al de la secante?\n",
        "\n",
        "\n",
        "d. Escriba en pseudocódigo los pasos para aplicar el método Punto Fijo.\n",
        "\n",
        "\n",
        "\n",
        "Comentarios para escribir en latex\n",
        "\n",
        "*   Entre simbolos \\$ \\$, puedes porner expresiones  puede poner expresiones, ejemplo:  $y = a_0 x^2 + b_1$  \n",
        "\n",
        "*  Las funciones pueden ser definidas entre \\\\$,  poniendo un \\\\, antes de la funcion ejemplo: \\\\$ \\\\sinx \\\\$,   asi las funciones quedarian de esta manera : \n",
        "\n",
        "> $\\sin x$, $\\tan x$, $\\sec x$, $\\sqrt{a} $, $\\frac{a}{b}, \\frac{df}{dt}$\n",
        "\n",
        "* Puedes generar tambien escribir ecuaciones con la instrucción:\n",
        "\n",
        "  \\\\begin{equation} \n",
        "\n",
        "    \\\\sin x  \n",
        "  \n",
        "  \\\\end{equation}\n",
        "\n",
        "Ejemplo:\n",
        "\n",
        "  \\begin{equation} \n",
        "    \\frac{df}{dx} = \\sin x  \n",
        "  \\end{equation}\n",
        "\n",
        "\n",
        "\n",
        "\n",
        "\n"
      ],
      "metadata": {
        "id": "HmTyV2-NQKwR"
      }
    },
    {
      "cell_type": "markdown",
      "source": [
        "# **Respuesta:**\n",
        "\n",
        "a. Pseudocódigo del método de la bisección:\n",
        "\n",
        "*  Definir una función f(x) continua en el intervalo [a,b] tal que f(a) y f(b) \n",
        "tengan signos opuestos.\n",
        "*  Calcular el punto medio c en el intervalo\n",
        "*  Evaluar f(c) y determinar si tiene el mismo signo que f(a) o f(b).\n",
        "**  Si f(c) tiene el mismo signo que f(a), entonces se reemplaza a por c.\n",
        "**  Si f(c) tiene el mismo signo que f(b), entonces se reemplaza b por c.\n",
        "*  Repetir desde el segundo paso hasta que la solución sea suficientemente precisa.\n",
        "\n",
        "\\\n",
        "b. Deducción del método de Newton-Raphson:\n",
        "\n",
        "La fórmula general del método de Newton-Raphson es:\n",
        "\\begin{equation} \n",
        "    x_{n+1} = x_n - \\frac{f(x_n)}{f'(x_n)}\n",
        "\\end{equation}\n",
        "\n",
        "*  Empezamos con una estimación inicial x0 de la raíz.\n",
        "*  Calculamos f'(x0).\n",
        "*  La ecuación de la recta de la derivada es y = f(x0) + f'(x0) * (x - x0).\n",
        "*  Encontramos el valor de x donde la recta intersecta el eje x\n",
        "*  Este valor es nuestra nueva estimación x1.\n",
        "*  Repetimos desde el segundo paso hasta hasta que la solución sea suficientemente precisa.\n",
        "\n",
        "\n",
        "c. Diferencia entre el método de Newton-Raphson y el de la secante:\n",
        "\n",
        "La principal diferencia entre los dos métodos es cómo se calcula la pendiente de la tangente. En el método de Newton-Raphson, la pendiente de la tangente se calcula usando la derivada de la función. En el método de la secante, la pendiente se calcula aproximando la derivada usando dos puntos cercanos a la raíz.\n",
        "\n",
        "d. Pseudocódigo del método del Punto Fijo:\n",
        "\n",
        "*  Escribir la función f(x) como x=g(x)\n",
        "*  Escoger un valor inicial x0\n",
        "*  Calcular la siguiente aproximación x1=g(x0)\n",
        "*  Si la aproximación es suficientemente precisa, detener el proceso y reportar la solución\n",
        "*  Si no es suficientemente precisa, reemplazar x0 por x1 y repetir desde el tercer paso."
      ],
      "metadata": {
        "id": "ugey5sVeCj8X"
      }
    },
    {
      "cell_type": "markdown",
      "source": [
        "# 2. Ceros de funciones\n",
        "*Encontrar* los ceros de $e^{x}-2= \\cos(e^x-2)$ por diferentes metodos, bisection, newton-rapshon, punto fijo.\n",
        "\n",
        "\n",
        "\n",
        "\n",
        " "
      ],
      "metadata": {
        "id": "DIOVE0E1XZ1-"
      }
    },
    {
      "cell_type": "code",
      "source": [
        "#Función para hallar las raíces:\n",
        "def f(x):\n",
        "  return -2+np.exp(x)-np.cos((np.exp(x))-2)\n",
        "x_=np.linspace(0,2,1000)\n",
        "plt.plot(x_,f(x_))\n",
        "plt.title('$e^{x}-2= \\cos(e^x-2)$')\n",
        "plt.grid()"
      ],
      "metadata": {
        "id": "YY2yK7C2mxpm",
        "colab": {
          "base_uri": "https://localhost:8080/",
          "height": 454
        },
        "outputId": "32f80787-115e-4575-9616-baaf502402c2"
      },
      "execution_count": 234,
      "outputs": [
        {
          "output_type": "display_data",
          "data": {
            "text/plain": [
              "<Figure size 640x480 with 1 Axes>"
            ],
            "image/png": "[encoded data removed]"
          },
          "metadata": {}
        }
      ]
    },
    {
      "cell_type": "markdown",
      "source": [
        "**Bisección**"
      ],
      "metadata": {
        "id": "zjeMbBpanGNt"
      }
    },
    {
      "cell_type": "code",
      "source": [
        "#elegimos el intervalo a conveniencia por la gráfica:\n",
        "(a,b)=(0.75,1.25)\n",
        "P_b= optimize.bisect(f, a, b, xtol=2e-12)\n",
        "print('La raiz hallada por bisección es:',P_b)"
      ],
      "metadata": {
        "colab": {
          "base_uri": "https://localhost:8080/"
        },
        "id": "aGFo2xvim6zv",
        "outputId": "af1cc784-8bdb-471e-dbf7-1c5ce44360da"
      },
      "execution_count": 3,
      "outputs": [
        {
          "output_type": "stream",
          "name": "stdout",
          "text": [
            "La raiz hallada por bisección es: 1.0076239716563578\n"
          ]
        }
      ]
    },
    {
      "cell_type": "markdown",
      "source": [
        "**Newton-Raphson**"
      ],
      "metadata": {
        "id": "X63930FTnQa_"
      }
    },
    {
      "cell_type": "code",
      "source": [
        "x=sp.symbols('x')\n",
        "\n",
        "def fun_s(x):\n",
        "  return -2+sp.exp(x)-sp.cos((sp.exp(x))-2)\n",
        "\n",
        "dev_s=sp.diff(fun_s(x),x)\n",
        "print(dev_s)"
      ],
      "metadata": {
        "id": "OOo4ovT76shA",
        "colab": {
          "base_uri": "https://localhost:8080/"
        },
        "outputId": "4523f628-db19-43ef-cdaa-a3e713ef2c45"
      },
      "execution_count": 4,
      "outputs": [
        {
          "output_type": "stream",
          "name": "stdout",
          "text": [
            "exp(x)*sin(exp(x) - 2) + exp(x)\n"
          ]
        }
      ]
    },
    {
      "cell_type": "code",
      "source": [
        "f_p=sp.lambdify(x,dev_s,'numpy')"
      ],
      "metadata": {
        "id": "qXDhojNN6xI1"
      },
      "execution_count": 5,
      "outputs": []
    },
    {
      "cell_type": "code",
      "source": [
        "P_n=optimize.newton(f,1,f_p)\n",
        "print('La raiz hallada por Newton-Raphson es :', P_n)"
      ],
      "metadata": {
        "colab": {
          "base_uri": "https://localhost:8080/"
        },
        "id": "T2yNxyrN6xY3",
        "outputId": "0691ebf4-a9da-4b0a-82bd-89ef943bfe36"
      },
      "execution_count": 6,
      "outputs": [
        {
          "output_type": "stream",
          "name": "stdout",
          "text": [
            "La raiz hallada por Newton-Raphson es : 1.0076239716581368\n"
          ]
        }
      ]
    },
    {
      "cell_type": "code",
      "source": [
        "plt.figure(facecolor=\"w\")\n",
        "plt.plot(P_n,0,\"ro\")\n",
        "plt.title('$e^{x}-2= \\cos(e^x-2)$')\n",
        "plt.text(P_n,0.2,f'{P_n:.4}')\n",
        "plt.plot(x_,f(x_),\"c\")\n",
        "plt.grid()"
      ],
      "metadata": {
        "colab": {
          "base_uri": "https://localhost:8080/",
          "height": 454
        },
        "id": "pbuOhqJjEwfz",
        "outputId": "3433f246-ec02-4ff5-e404-06bc00407f60"
      },
      "execution_count": 236,
      "outputs": [
        {
          "output_type": "display_data",
          "data": {
            "text/plain": [
              "<Figure size 640x480 with 1 Axes>"
            ],
            "image/png": "[encoded data removed]"
          },
          "metadata": {}
        }
      ]
    },
    {
      "cell_type": "markdown",
      "source": [
        "**Punto fijo**"
      ],
      "metadata": {
        "id": "niy-sWWfeY-c"
      }
    },
    {
      "cell_type": "code",
      "source": [
        "def g(x):\n",
        "  return x-f(x)\n",
        "x=np.linspace(-2,2,1000)\n",
        "P_p=optimize.fixed_point(g,0.5)\n",
        "print('La raiz hallada por punto fijo es :', P_p)"
      ],
      "metadata": {
        "colab": {
          "base_uri": "https://localhost:8080/"
        },
        "id": "Kz4VC-ftGwE0",
        "outputId": "2e6d67aa-5570-4da1-b448-dcc1294844e5"
      },
      "execution_count": 238,
      "outputs": [
        {
          "output_type": "stream",
          "name": "stdout",
          "text": [
            "La raiz hallada por punto fijo es : 1.0076239716581368\n"
          ]
        }
      ]
    },
    {
      "cell_type": "code",
      "source": [
        "plt.plot(P_p,P_p,'ro')\n",
        "plt.text(P_p-0.1,1.3,f'{P_p:.4}')\n",
        "plt.plot(x,x,'k',label='x=y')\n",
        "plt.title('$e^{x}-2= \\cos(e^x-2)$')\n",
        "plt.plot(x,g(x),'orange',label='g(x)')\n",
        "plt.plot(x,f(x),'purple',label='f(x)')\n",
        "plt.legend()\n",
        "plt.grid()"
      ],
      "metadata": {
        "colab": {
          "base_uri": "https://localhost:8080/",
          "height": 454
        },
        "id": "Go9DiPl1KGcY",
        "outputId": "52220bb2-f331-4df4-a69a-d879225ff66e"
      },
      "execution_count": 240,
      "outputs": [
        {
          "output_type": "display_data",
          "data": {
            "text/plain": [
              "<Figure size 640x480 with 1 Axes>"
            ],
            "image/png": "[encoded data removed]"
          },
          "metadata": {}
        }
      ]
    },
    {
      "cell_type": "markdown",
      "source": [
        "#3. Partícula en reposo\n",
        "Una particula parte del reposo sobre un plano inclinado uniforme, cuyo ángulo \n",
        "$\\theta$ cambia con una rapidez constante de : \n",
        "\n",
        "\\begin{equation}\n",
        "\\frac{\\mathrm{d}\\theta}{\\mathrm{d} t} = \\omega < 0\n",
        "\\end{equation}\n",
        "\n",
        "Al final de t segundos, la posición del objeto esta dada por: \n",
        "\n",
        "\n",
        "\\begin{equation}\n",
        "x(t) = -\\frac{g}{2\\omega^2} \\left( \\frac{e^{\\omega t}-e^{-\\omega t}}{2}-\\sin\\omega t\\right) \n",
        "\\end{equation}\n",
        "\n",
        "\n",
        "Suponga que la particula se desplazo 0.51m en 1s. Encuentre, con exactitud de $10^{-5}$ la rapidez $\\omega$ con que cambia $\\theta$. Supoga $g=9.76$m/s"
      ],
      "metadata": {
        "id": "PuM2UAax0ss3"
      }
    },
    {
      "cell_type": "code",
      "source": [
        "#Las condiciones iniciales son de t= 1 s, con x(1)=0.51 m y la gravedad de g=9.76 m/s^2\n",
        "def posicion_t(omega):\n",
        "  return ((-9.76/(2*omega**2))*((np.exp(omega) - np.exp(-omega))/2 - np.sin(omega)))-0.51"
      ],
      "metadata": {
        "id": "AyM1jP-KJ00l"
      },
      "execution_count": 10,
      "outputs": []
    },
    {
      "cell_type": "code",
      "source": [
        "raiz = optimize.newton(posicion_t, -0.2, tol=1e-05)\n",
        "print(\"La rapidez ω con que cambia θ es de\", raiz)"
      ],
      "metadata": {
        "colab": {
          "base_uri": "https://localhost:8080/"
        },
        "id": "5eSMcWoiKRDh",
        "outputId": "3d196177-43d0-4971-d049-50387ffc6c3a"
      },
      "execution_count": 11,
      "outputs": [
        {
          "output_type": "stream",
          "name": "stdout",
          "text": [
            "La rapidez ω con que cambia θ es de -0.3135209838641948\n"
          ]
        }
      ]
    },
    {
      "cell_type": "code",
      "source": [
        "x= np.linspace(-1,0.4 ,1000)\n",
        "plt.title('Posición de la particula')\n",
        "plt.plot(x,posicion_t(x),'c')\n",
        "plt.plot(raiz,0,'ko')\n",
        "plt.text(raiz-0.1,0.2,f'{raiz:.5}')\n",
        "plt.xlabel(\"t\")\n",
        "plt.ylabel(\"x(t)\")\n",
        "plt.grid()\n",
        "plt.show()"
      ],
      "metadata": {
        "colab": {
          "base_uri": "https://localhost:8080/",
          "height": 472
        },
        "id": "0VhBnNA3Mz7i",
        "outputId": "9eefe3d7-4fa5-4369-ded7-e40df65f8ac2"
      },
      "execution_count": 231,
      "outputs": [
        {
          "output_type": "display_data",
          "data": {
            "text/plain": [
              "<Figure size 640x480 with 1 Axes>"
            ],
            "image/png": "[encoded data removed]"
          },
          "metadata": {}
        }
      ]
    },
    {
      "cell_type": "markdown",
      "source": [
        "#4.  Area \n",
        "Hallar el área de un segmento circular cuya area sea igual a una cuarta parte del área del circulo. Para la solución se sugiere lo siguiente:\n",
        "\n",
        "\n"
      ],
      "metadata": {
        "id": "3SVJWnEeVcAP"
      }
    },
    {
      "cell_type": "markdown",
      "source": [
        "# **Respuesta**\n",
        "a) Encontrar la ecuación trascendental.\n"
      ],
      "metadata": {
        "id": "8ZTLuWS1IhGb"
      }
    },
    {
      "cell_type": "markdown",
      "source": [
        "**R\\:**\n",
        "\n",
        "A partir del área de un círculo de radio r es (1):\n",
        "\\begin{equation}\n",
        "    πr^2\n",
        "\\end{equation}\n",
        "\n",
        "Y conociendo que el área de un segmento circular de radio r y ángulo θ es (2):\n",
        "\n",
        "\\begin{equation} \n",
        "    A = (1/2) r^2 (θ - sinθ)\n",
        "\\end{equation}\n",
        "\n",
        "Como buscamos el área de un segmento circular cuya area sea igual a una cuarta parte del área del circulo, entonces (3):\n",
        "\n",
        "\\begin{equation} \n",
        "    A_{segmento} = (1/4) A_{circulo}\n",
        "\\end{equation}\n",
        "\n",
        "Igualamos la fórmula (1) y (2) haciendo uso de la (3)\n",
        "\n",
        "\\begin{equation} \n",
        "    (1/2) r^2 (θ - sinθ) = (1/4) πr^2\n",
        "\\end{equation}\n",
        "\n",
        "\n",
        "Simplificando:\n",
        "\n",
        "\\begin{equation} \n",
        "    f(θ)= θ - sinθ - (1/2) π\n",
        "\\end{equation}\n",
        "\n",
        "\n",
        "Esta es la ecuación trascendental que se debe resolver para encontrar a θ del segmento circular."
      ],
      "metadata": {
        "id": "2wbWuBESQstK"
      }
    },
    {
      "cell_type": "markdown",
      "source": [
        "b) Con la ecuación anterior, definir una funcion $f(\\theta)=0$. Emplee la funcion labmda de python."
      ],
      "metadata": {
        "id": "bE_CKfhy-yVk"
      }
    },
    {
      "cell_type": "code",
      "source": [
        "funcion= lambda t: t - np.sin(t) - np.pi/2"
      ],
      "metadata": {
        "id": "3o5a1ZEjSsMF"
      },
      "execution_count": 223,
      "outputs": []
    },
    {
      "cell_type": "markdown",
      "source": [
        "c) Construir una data frame de pandas con la columna \"theta\" con 1000 registros(filas) entre $[-2\\pi, 2\\pi]$. Sugerencia, para construir el data frame emplee la función linspace como sigue : np.linspace(-2*np.pi, 2*np.pi, 1000 )"
      ],
      "metadata": {
        "id": "B3wk-zT--2yv"
      }
    },
    {
      "cell_type": "code",
      "source": [
        "datos= np.linspace(-2*np.pi, 2*np.pi,1000)"
      ],
      "metadata": {
        "id": "ylITmh_-TKob"
      },
      "execution_count": 224,
      "outputs": []
    },
    {
      "cell_type": "code",
      "source": [
        "df = pd.DataFrame(datos)\n",
        "df.columns = ['theta'] \n",
        "df"
      ],
      "metadata": {
        "colab": {
          "base_uri": "https://localhost:8080/",
          "height": 423
        },
        "id": "TXt8_TlITSSq",
        "outputId": "a9cdbd3c-a8a4-497b-d5ee-d0ea69c8b9d3"
      },
      "execution_count": 225,
      "outputs": [
        {
          "output_type": "execute_result",
          "data": {
            "text/plain": [
              "        theta\n",
              "0   -6.283185\n",
              "1   -6.270606\n",
              "2   -6.258027\n",
              "3   -6.245448\n",
              "4   -6.232870\n",
              "..        ...\n",
              "995  6.232870\n",
              "996  6.245448\n",
              "997  6.258027\n",
              "998  6.270606\n",
              "999  6.283185\n",
              "\n",
              "[1000 rows x 1 columns]"
            ],
            "text/html": [
              "\n",
              "  <div id=\"df-681a8328-1f2f-4843-9891-50fc9831b596\">\n",
              "    <div class=\"colab-df-container\">\n",
              "      <div>\n",
              "<style scoped>\n",
              "    .dataframe tbody tr th:only-of-type {\n",
              "        vertical-align: middle;\n",
              "    }\n",
              "\n",
              "    .dataframe tbody tr th {\n",
              "        vertical-align: top;\n",
              "    }\n",
              "\n",
              "    .dataframe thead th {\n",
              "        text-align: right;\n",
              "    }\n",
              "</style>\n",
              "<table border=\"1\" class=\"dataframe\">\n",
              "  <thead>\n",
              "    <tr style=\"text-align: right;\">\n",
              "      <th></th>\n",
              "      <th>theta</th>\n",
              "    </tr>\n",
              "  </thead>\n",
              "  <tbody>\n",
              "    <tr>\n",
              "      <th>0</th>\n",
              "      <td>-6.283185</td>\n",
              "    </tr>\n",
              "    <tr>\n",
              "      <th>1</th>\n",
              "      <td>-6.270606</td>\n",
              "    </tr>\n",
              "    <tr>\n",
              "      <th>2</th>\n",
              "      <td>-6.258027</td>\n",
              "    </tr>\n",
              "    <tr>\n",
              "      <th>3</th>\n",
              "      <td>-6.245448</td>\n",
              "    </tr>\n",
              "    <tr>\n",
              "      <th>4</th>\n",
              "      <td>-6.232870</td>\n",
              "    </tr>\n",
              "    <tr>\n",
              "      <th>...</th>\n",
              "      <td>...</td>\n",
              "    </tr>\n",
              "    <tr>\n",
              "      <th>995</th>\n",
              "      <td>6.232870</td>\n",
              "    </tr>\n",
              "    <tr>\n",
              "      <th>996</th>\n",
              "      <td>6.245448</td>\n",
              "    </tr>\n",
              "    <tr>\n",
              "      <th>997</th>\n",
              "      <td>6.258027</td>\n",
              "    </tr>\n",
              "    <tr>\n",
              "      <th>998</th>\n",
              "      <td>6.270606</td>\n",
              "    </tr>\n",
              "    <tr>\n",
              "      <th>999</th>\n",
              "      <td>6.283185</td>\n",
              "    </tr>\n",
              "  </tbody>\n",
              "</table>\n",
              "<p>1000 rows × 1 columns</p>\n",
              "</div>\n",
              "      <button class=\"colab-df-convert\" onclick=\"convertToInteractive('df-681a8328-1f2f-4843-9891-50fc9831b596')\"\n",
              "              title=\"Convert this dataframe to an interactive table.\"\n",
              "              style=\"display:none;\">\n",
              "        \n",
              "  <svg xmlns=\"http://www.w3.org/2000/svg\" height=\"24px\"viewBox=\"0 0 24 24\"\n",
              "       width=\"24px\">\n",
              "    <path d=\"M0 0h24v24H0V0z\" fill=\"none\"/>\n",
              "    <path d=\"M18.56 5.44l.94 2.06.94-2.06 2.06-.94-2.06-.94-.94-2.06-.94 2.06-2.06.94zm-11 1L8.5 8.5l.94-2.06 2.06-.94-2.06-.94L8.5 2.5l-.94 2.06-2.06.94zm10 10l.94 2.06.94-2.06 2.06-.94-2.06-.94-.94-2.06-.94 2.06-2.06.94z\"/><path d=\"M17.41 7.96l-1.37-1.37c-.4-.4-.92-.59-1.43-.59-.52 0-1.04.2-1.43.59L10.3 9.45l-7.72 7.72c-.78.78-.78 2.05 0 2.83L4 21.41c.39.39.9.59 1.41.59.51 0 1.02-.2 1.41-.59l7.78-7.78 2.81-2.81c.8-.78.8-2.07 0-2.86zM5.41 20L4 18.59l7.72-7.72 1.47 1.35L5.41 20z\"/>\n",
              "  </svg>\n",
              "      </button>\n",
              "      \n",
              "  <style>\n",
              "    .colab-df-container {\n",
              "      display:flex;\n",
              "      flex-wrap:wrap;\n",
              "      gap: 12px;\n",
              "    }\n",
              "\n",
              "    .colab-df-convert {\n",
              "      background-color: #E8F0FE;\n",
              "      border: none;\n",
              "      border-radius: 50%;\n",
              "      cursor: pointer;\n",
              "      display: none;\n",
              "      fill: #1967D2;\n",
              "      height: 32px;\n",
              "      padding: 0 0 0 0;\n",
              "      width: 32px;\n",
              "    }\n",
              "\n",
              "    .colab-df-convert:hover {\n",
              "      background-color: #E2EBFA;\n",
              "      box-shadow: 0px 1px 2px rgba(60, 64, 67, 0.3), 0px 1px 3px 1px rgba(60, 64, 67, 0.15);\n",
              "      fill: #174EA6;\n",
              "    }\n",
              "\n",
              "    [theme=dark] .colab-df-convert {\n",
              "      background-color: #3B4455;\n",
              "      fill: #D2E3FC;\n",
              "    }\n",
              "\n",
              "    [theme=dark] .colab-df-convert:hover {\n",
              "      background-color: #434B5C;\n",
              "      box-shadow: 0px 1px 3px 1px rgba(0, 0, 0, 0.15);\n",
              "      filter: drop-shadow(0px 1px 2px rgba(0, 0, 0, 0.3));\n",
              "      fill: #FFFFFF;\n",
              "    }\n",
              "  </style>\n",
              "\n",
              "      <script>\n",
              "        const buttonEl =\n",
              "          document.querySelector('#df-681a8328-1f2f-4843-9891-50fc9831b596 button.colab-df-convert');\n",
              "        buttonEl.style.display =\n",
              "          google.colab.kernel.accessAllowed ? 'block' : 'none';\n",
              "\n",
              "        async function convertToInteractive(key) {\n",
              "          const element = document.querySelector('#df-681a8328-1f2f-4843-9891-50fc9831b596');\n",
              "          const dataTable =\n",
              "            await google.colab.kernel.invokeFunction('convertToInteractive',\n",
              "                                                     [key], {});\n",
              "          if (!dataTable) return;\n",
              "\n",
              "          const docLinkHtml = 'Like what you see? Visit the ' +\n",
              "            '<a target=\"_blank\" href=https://colab.research.google.com/notebooks/data_table.ipynb>data table notebook</a>'\n",
              "            + ' to learn more about interactive tables.';\n",
              "          element.innerHTML = '';\n",
              "          dataTable['output_type'] = 'display_data';\n",
              "          await google.colab.output.renderOutput(dataTable, element);\n",
              "          const docLink = document.createElement('div');\n",
              "          docLink.innerHTML = docLinkHtml;\n",
              "          element.appendChild(docLink);\n",
              "        }\n",
              "      </script>\n",
              "    </div>\n",
              "  </div>\n",
              "  "
            ]
          },
          "metadata": {},
          "execution_count": 225
        }
      ]
    },
    {
      "cell_type": "markdown",
      "source": [
        "d) Construir una segunda columna titulada \"F_theta\" con los registros f(theta)"
      ],
      "metadata": {
        "id": "BzxxX08w-8nY"
      }
    },
    {
      "cell_type": "code",
      "source": [
        "df['F_theta'] = df['theta'].apply(funcion)\n",
        "df"
      ],
      "metadata": {
        "colab": {
          "base_uri": "https://localhost:8080/",
          "height": 423
        },
        "id": "1bzqIPiuWJXm",
        "outputId": "0fa1e414-9465-4eed-e337-6c5409ea02c1"
      },
      "execution_count": 226,
      "outputs": [
        {
          "output_type": "execute_result",
          "data": {
            "text/plain": [
              "        theta   F_theta\n",
              "0   -6.283185 -7.853982\n",
              "1   -6.270606 -7.853981\n",
              "2   -6.258027 -7.853979\n",
              "3   -6.245448 -7.853973\n",
              "4   -6.232870 -7.853960\n",
              "..        ...       ...\n",
              "995  6.232870  4.712368\n",
              "996  6.245448  4.712380\n",
              "997  6.258027  4.712386\n",
              "998  6.270606  4.712389\n",
              "999  6.283185  4.712389\n",
              "\n",
              "[1000 rows x 2 columns]"
            ],
            "text/html": [
              "\n",
              "  <div id=\"df-e762dcd8-9b41-4e50-a050-0e34cf0e5f9c\">\n",
              "    <div class=\"colab-df-container\">\n",
              "      <div>\n",
              "<style scoped>\n",
              "    .dataframe tbody tr th:only-of-type {\n",
              "        vertical-align: middle;\n",
              "    }\n",
              "\n",
              "    .dataframe tbody tr th {\n",
              "        vertical-align: top;\n",
              "    }\n",
              "\n",
              "    .dataframe thead th {\n",
              "        text-align: right;\n",
              "    }\n",
              "</style>\n",
              "<table border=\"1\" class=\"dataframe\">\n",
              "  <thead>\n",
              "    <tr style=\"text-align: right;\">\n",
              "      <th></th>\n",
              "      <th>theta</th>\n",
              "      <th>F_theta</th>\n",
              "    </tr>\n",
              "  </thead>\n",
              "  <tbody>\n",
              "    <tr>\n",
              "      <th>0</th>\n",
              "      <td>-6.283185</td>\n",
              "      <td>-7.853982</td>\n",
              "    </tr>\n",
              "    <tr>\n",
              "      <th>1</th>\n",
              "      <td>-6.270606</td>\n",
              "      <td>-7.853981</td>\n",
              "    </tr>\n",
              "    <tr>\n",
              "      <th>2</th>\n",
              "      <td>-6.258027</td>\n",
              "      <td>-7.853979</td>\n",
              "    </tr>\n",
              "    <tr>\n",
              "      <th>3</th>\n",
              "      <td>-6.245448</td>\n",
              "      <td>-7.853973</td>\n",
              "    </tr>\n",
              "    <tr>\n",
              "      <th>4</th>\n",
              "      <td>-6.232870</td>\n",
              "      <td>-7.853960</td>\n",
              "    </tr>\n",
              "    <tr>\n",
              "      <th>...</th>\n",
              "      <td>...</td>\n",
              "      <td>...</td>\n",
              "    </tr>\n",
              "    <tr>\n",
              "      <th>995</th>\n",
              "      <td>6.232870</td>\n",
              "      <td>4.712368</td>\n",
              "    </tr>\n",
              "    <tr>\n",
              "      <th>996</th>\n",
              "      <td>6.245448</td>\n",
              "      <td>4.712380</td>\n",
              "    </tr>\n",
              "    <tr>\n",
              "      <th>997</th>\n",
              "      <td>6.258027</td>\n",
              "      <td>4.712386</td>\n",
              "    </tr>\n",
              "    <tr>\n",
              "      <th>998</th>\n",
              "      <td>6.270606</td>\n",
              "      <td>4.712389</td>\n",
              "    </tr>\n",
              "    <tr>\n",
              "      <th>999</th>\n",
              "      <td>6.283185</td>\n",
              "      <td>4.712389</td>\n",
              "    </tr>\n",
              "  </tbody>\n",
              "</table>\n",
              "<p>1000 rows × 2 columns</p>\n",
              "</div>\n",
              "      <button class=\"colab-df-convert\" onclick=\"convertToInteractive('df-e762dcd8-9b41-4e50-a050-0e34cf0e5f9c')\"\n",
              "              title=\"Convert this dataframe to an interactive table.\"\n",
              "              style=\"display:none;\">\n",
              "        \n",
              "  <svg xmlns=\"http://www.w3.org/2000/svg\" height=\"24px\"viewBox=\"0 0 24 24\"\n",
              "       width=\"24px\">\n",
              "    <path d=\"M0 0h24v24H0V0z\" fill=\"none\"/>\n",
              "    <path d=\"M18.56 5.44l.94 2.06.94-2.06 2.06-.94-2.06-.94-.94-2.06-.94 2.06-2.06.94zm-11 1L8.5 8.5l.94-2.06 2.06-.94-2.06-.94L8.5 2.5l-.94 2.06-2.06.94zm10 10l.94 2.06.94-2.06 2.06-.94-2.06-.94-.94-2.06-.94 2.06-2.06.94z\"/><path d=\"M17.41 7.96l-1.37-1.37c-.4-.4-.92-.59-1.43-.59-.52 0-1.04.2-1.43.59L10.3 9.45l-7.72 7.72c-.78.78-.78 2.05 0 2.83L4 21.41c.39.39.9.59 1.41.59.51 0 1.02-.2 1.41-.59l7.78-7.78 2.81-2.81c.8-.78.8-2.07 0-2.86zM5.41 20L4 18.59l7.72-7.72 1.47 1.35L5.41 20z\"/>\n",
              "  </svg>\n",
              "      </button>\n",
              "      \n",
              "  <style>\n",
              "    .colab-df-container {\n",
              "      display:flex;\n",
              "      flex-wrap:wrap;\n",
              "      gap: 12px;\n",
              "    }\n",
              "\n",
              "    .colab-df-convert {\n",
              "      background-color: #E8F0FE;\n",
              "      border: none;\n",
              "      border-radius: 50%;\n",
              "      cursor: pointer;\n",
              "      display: none;\n",
              "      fill: #1967D2;\n",
              "      height: 32px;\n",
              "      padding: 0 0 0 0;\n",
              "      width: 32px;\n",
              "    }\n",
              "\n",
              "    .colab-df-convert:hover {\n",
              "      background-color: #E2EBFA;\n",
              "      box-shadow: 0px 1px 2px rgba(60, 64, 67, 0.3), 0px 1px 3px 1px rgba(60, 64, 67, 0.15);\n",
              "      fill: #174EA6;\n",
              "    }\n",
              "\n",
              "    [theme=dark] .colab-df-convert {\n",
              "      background-color: #3B4455;\n",
              "      fill: #D2E3FC;\n",
              "    }\n",
              "\n",
              "    [theme=dark] .colab-df-convert:hover {\n",
              "      background-color: #434B5C;\n",
              "      box-shadow: 0px 1px 3px 1px rgba(0, 0, 0, 0.15);\n",
              "      filter: drop-shadow(0px 1px 2px rgba(0, 0, 0, 0.3));\n",
              "      fill: #FFFFFF;\n",
              "    }\n",
              "  </style>\n",
              "\n",
              "      <script>\n",
              "        const buttonEl =\n",
              "          document.querySelector('#df-e762dcd8-9b41-4e50-a050-0e34cf0e5f9c button.colab-df-convert');\n",
              "        buttonEl.style.display =\n",
              "          google.colab.kernel.accessAllowed ? 'block' : 'none';\n",
              "\n",
              "        async function convertToInteractive(key) {\n",
              "          const element = document.querySelector('#df-e762dcd8-9b41-4e50-a050-0e34cf0e5f9c');\n",
              "          const dataTable =\n",
              "            await google.colab.kernel.invokeFunction('convertToInteractive',\n",
              "                                                     [key], {});\n",
              "          if (!dataTable) return;\n",
              "\n",
              "          const docLinkHtml = 'Like what you see? Visit the ' +\n",
              "            '<a target=\"_blank\" href=https://colab.research.google.com/notebooks/data_table.ipynb>data table notebook</a>'\n",
              "            + ' to learn more about interactive tables.';\n",
              "          element.innerHTML = '';\n",
              "          dataTable['output_type'] = 'display_data';\n",
              "          await google.colab.output.renderOutput(dataTable, element);\n",
              "          const docLink = document.createElement('div');\n",
              "          docLink.innerHTML = docLinkHtml;\n",
              "          element.appendChild(docLink);\n",
              "        }\n",
              "      </script>\n",
              "    </div>\n",
              "  </div>\n",
              "  "
            ]
          },
          "metadata": {},
          "execution_count": 226
        }
      ]
    },
    {
      "cell_type": "markdown",
      "source": [
        "e) Realice un gráfico de  \"F_theta\" vs \"theta\". Identifique el intervalo de la raiz."
      ],
      "metadata": {
        "id": "FqMqx--V_Nib"
      }
    },
    {
      "cell_type": "code",
      "source": [
        "plt.plot(df['theta'],df['F_theta'])\n",
        "plt.title('Intervalo de la raiz de F(θ) vs θ')\n",
        "plt.xlabel('θ')\n",
        "plt.ylabel('F(θ)')\n",
        "plt.xlim(1,3.5)\n",
        "plt.ylim(-2,3)\n",
        "plt.grid()"
      ],
      "metadata": {
        "colab": {
          "base_uri": "https://localhost:8080/",
          "height": 472
        },
        "id": "N1-5v-v_WmO7",
        "outputId": "231a99dc-9475-4848-cd80-12d988b853fc"
      },
      "execution_count": 229,
      "outputs": [
        {
          "output_type": "display_data",
          "data": {
            "text/plain": [
              "<Figure size 640x480 with 1 Axes>"
            ],
            "image/png": "[encoded data removed]"
          },
          "metadata": {}
        }
      ]
    },
    {
      "cell_type": "markdown",
      "source": [
        "\n",
        "f) [Bisección](https://docs.scipy.org/doc/scipy/reference/generated/scipy.optimize.bisect.html)\n",
        "\n"
      ],
      "metadata": {
        "id": "TwhDsS-H_gio"
      }
    },
    {
      "cell_type": "code",
      "source": [
        "r_b = optimize.bisect(funcion, 2, 3)\n",
        "print('El valor del ángulo estimado por bisección es:',r_b)"
      ],
      "metadata": {
        "colab": {
          "base_uri": "https://localhost:8080/"
        },
        "id": "KjxkkqQr1_C_",
        "outputId": "6a70cb3c-f8f3-441a-d342-f7a7e4e446a6"
      },
      "execution_count": 18,
      "outputs": [
        {
          "output_type": "stream",
          "name": "stdout",
          "text": [
            "El valor del ángulo estimado por bisección es: 2.309881460010729\n"
          ]
        }
      ]
    },
    {
      "cell_type": "markdown",
      "source": [
        "g) [Newton-Rapshon](https://docs.scipy.org/doc/scipy/reference/generated/scipy.optimize.newton.html)"
      ],
      "metadata": {
        "id": "q-yM_wpw_jT3"
      }
    },
    {
      "cell_type": "code",
      "source": [
        "t=sp.symbols('t')\n",
        "\n",
        "def funcionprima(x):\n",
        "  return t - sp.sin(t) - sp.pi/2\n",
        "\n",
        "dev_t=sp.diff(funcionprima(t),t)\n",
        "dev_t"
      ],
      "metadata": {
        "colab": {
          "base_uri": "https://localhost:8080/",
          "height": 39
        },
        "id": "kdDvPRtNbEqY",
        "outputId": "956ad2a1-c4ff-492a-d32c-9c3a95be0ed9"
      },
      "execution_count": 19,
      "outputs": [
        {
          "output_type": "execute_result",
          "data": {
            "text/plain": [
              "1 - cos(t)"
            ],
            "text/latex": "$\\displaystyle 1 - \\cos{\\left(t \\right)}$"
          },
          "metadata": {},
          "execution_count": 19
        }
      ]
    },
    {
      "cell_type": "code",
      "source": [
        "funcion_p=sp.lambdify(t,dev_t,'numpy')\n",
        "r_n=optimize.newton(funcion,1,funcion_p)\n",
        "print('El valor del ángulo estimado por Newton-Raphson es:', r_n)"
      ],
      "metadata": {
        "colab": {
          "base_uri": "https://localhost:8080/"
        },
        "id": "huw0OGwzb9sW",
        "outputId": "10ed8feb-1624-4f50-a308-6cd7ccfb53d1"
      },
      "execution_count": 20,
      "outputs": [
        {
          "output_type": "stream",
          "name": "stdout",
          "text": [
            "El valor del ángulo estimado por Newton-Raphson es: 2.309881460010057\n"
          ]
        }
      ]
    },
    {
      "cell_type": "markdown",
      "source": [
        "\n",
        "\n",
        "h) [Secante](https://docs.scipy.org/doc/scipy/reference/generated/scipy.optimize.newton.html) \n",
        "\n"
      ],
      "metadata": {
        "id": "erCuZETn_q0K"
      }
    },
    {
      "cell_type": "code",
      "source": [
        "r_s = optimize.newton(funcion, 2)\n",
        "print('El valor del ángulo estimado por secante es:',r_s)"
      ],
      "metadata": {
        "colab": {
          "base_uri": "https://localhost:8080/"
        },
        "id": "X1LnpJnjbFAU",
        "outputId": "9dfd8655-8e15-4e39-9e1e-cc4a9e2d3248"
      },
      "execution_count": 21,
      "outputs": [
        {
          "output_type": "stream",
          "name": "stdout",
          "text": [
            "El valor del ángulo estimado por secante es: 2.309881460010033\n"
          ]
        }
      ]
    },
    {
      "cell_type": "markdown",
      "source": [
        "i) [Punto Fijo](https://docs.scipy.org/doc/scipy/reference/generated/scipy.optimize.fixed_point.html)"
      ],
      "metadata": {
        "id": "hS2h6bHl_txG"
      }
    },
    {
      "cell_type": "code",
      "source": [
        "def g(x):\n",
        "  return x-funcion(x)\n",
        "\n",
        "r_p=optimize.fixed_point(g,0.5)\n",
        "print('El valor del ángulo estimado por punto fijo es:', r_p)"
      ],
      "metadata": {
        "colab": {
          "base_uri": "https://localhost:8080/"
        },
        "id": "KJ-IC8AfbFT5",
        "outputId": "6ea56d10-8419-4999-f990-311dea6986ca"
      },
      "execution_count": 22,
      "outputs": [
        {
          "output_type": "stream",
          "name": "stdout",
          "text": [
            "El valor del ángulo estimado por punto fijo es: 2.309881460010057\n"
          ]
        }
      ]
    },
    {
      "cell_type": "markdown",
      "source": [
        "En los últimos tres métodos las raices son iguales hasta el decimal $10^-13$, mientras que comparten decimales con la bisección hasta el decimal  $10^-11$."
      ],
      "metadata": {
        "id": "3wtotFhCc93E"
      }
    },
    {
      "cell_type": "markdown",
      "source": [
        "\n",
        "\n",
        "# 5. Movimiento de proyectiles en presencia de viento.\n",
        "\n",
        "Supongamos que un proyectil es lanzado desde el origen con una rapidez $v=vo( \\cos \\theta , \\sin \\theta $. Supongamos además que el efecto del viento sobre el proyectil es el de una fuerza proporcional a la velocidad relativa entre el viento y el proyectil. Teniendo presente que si u es la velocidad del viento y $\\alpha$ el ángulo que hace dirección de esta velocidad con el eje x, se puede entrontrar las siguientes ecuaciones diferenciales, asociada al estado de movimiento del [proyectil](https://iopscience.iop.org/article/10.1088/0143-0807/36/2/025016/meta):\n",
        "\n",
        "\n",
        "\\begin{equation}\n",
        "m\\frac{dv_x}{dt} = -mb(v_x-u\\cos \\alpha )\n",
        "\\end{equation}\n",
        "\n",
        "\\begin{equation}\n",
        "m\\frac{dv_y}{dt} = -mg-mb(v_x-u\\sin \\alpha ),\n",
        "\\end{equation}\n",
        "\n",
        "donde b es el párametro de rozamiento. La soluciones a las ecuaciones anteriores vienen dadas por:\n",
        "\n",
        "Posición en x\n",
        "\\begin{equation}\n",
        "x=(u\\cos \\alpha) t + \\frac{1}{b} (v_0\\cos \\theta_0 -u \\cos\\alpha)(1-\\mathrm{exp}(-bt))\n",
        "\\end{equation}\n",
        "\n",
        "Posicion en y \n",
        "\\begin{equation}\n",
        "y= \\frac{1}{b}\\left(\\frac{g}{b}+v_0 \\sin \\theta_0 -u\\sin\\alpha \\right)(1-\\mathrm{exp}(-bt))-\\left( \\frac{g}{b}-u\\sin\\alpha\\right)t\n",
        "\\end{equation}\n",
        "\n",
        "Ver imagen:  http://www.sc.ehu.es/sbweb/fisica3/fluidos/viento/parabolico.html\n",
        "\n",
        "\n",
        "0. Establezca las siguietnes condiciones inciales.\n",
        "\n",
        "```\n",
        "#Parametros iniciales\n",
        "\n",
        "v0 = 60 #Velocidad en m/s\n",
        "alpha = np.pi #Angulo del viento\n",
        "theta = np.deg2rad(45) #Angulo de lanzamiento\n",
        "u = v0/2             #rapidez del viento\n",
        "b = 0.05             #Parametro de friccion \n",
        "g = 9.8                #Aceleracion de la gravedad m/s2\n",
        "\n",
        "Params = (alpha, v0, b, u,g)  #Parametros en tupla.\n",
        "\n",
        "```\n",
        "\n",
        "\n",
        "\n",
        "1. Defina dos funciones, una para x y otra para y. \n",
        "\n",
        "```\n",
        "\n",
        "#Posicion en x\n",
        "def pos_x(t, theta, alpha, v0, b, u,g):\n",
        "  x = #escriba aca la expresión\n",
        "  return x\n",
        "\n",
        "#Posicion en y\n",
        "def pos_y(t, theta, alpha, v0, b, u,g):\n",
        "\n",
        "\n",
        "  y = #escriba aca la expresión\n",
        "  return y \n",
        "\n",
        "```\n",
        "\n"
      ],
      "metadata": {
        "id": "zxQOD2FgQIfM"
      }
    },
    {
      "cell_type": "code",
      "source": [
        "# Parametros iniciales\n",
        "\n",
        "v0 = 60 #Velocidad en m/s\n",
        "alpha = np.pi #Angulo del viento\n",
        "theta = np.deg2rad(45) #Angulo de lanzamiento\n",
        "u = 30             #rapidez del viento\n",
        "b = 0.05             #Parametro de friccion \n",
        "g = 9.8                #Aceleracion de la gravedad m/s2\n",
        "\n",
        "Params = (alpha, v0, b, u,g)  #Parametros en tupla."
      ],
      "metadata": {
        "id": "wR6mFDJZvW81"
      },
      "execution_count": 111,
      "outputs": []
    },
    {
      "cell_type": "markdown",
      "source": [
        "Posición en x\n",
        "\\begin{equation}\n",
        "x=(u\\cos \\alpha) t + \\frac{1}{b} (v_0\\cos \\theta_0 -u \\cos\\alpha)(1-\\mathrm{exp}(-bt))\n",
        "\\end{equation}\n",
        "\n",
        "Posicion en y \n",
        "\\begin{equation}\n",
        "y= \\frac{1}{b}\\left(\\frac{g}{b}+v_0 \\sin \\theta_0 -u\\sin\\alpha \\right)(1-\\mathrm{exp}(-bt))-\\left( \\frac{g}{b}-u\\sin\\alpha\\right)t\n",
        "\\end{equation}"
      ],
      "metadata": {
        "id": "NcQx71e5x2Vd"
      }
    },
    {
      "cell_type": "code",
      "source": [
        "# Posicion en x\n",
        "def pos_x(t, theta, alpha, v0, b, u,g):\n",
        "  x =((u*np.cos(alpha))*t)+((1/b)*(v0*np.cos(theta)-u*np.cos(alpha)))*(1-np.exp(-b*t))\n",
        "  return x\n",
        "\n",
        "# Posicion en y\n",
        "def pos_y(t, theta, alpha, v0, b, u,g):\n",
        "  y1 = 1/b*(g/b+v0*np.sin(theta)-u*np.sin(alpha))\n",
        "  y2=1-np.exp(-b*t) \n",
        "  y3= (g/b-u*np.sin(alpha))*t \n",
        "  return y1*y2-y3"
      ],
      "metadata": {
        "id": "QZr92KP2vZAS"
      },
      "execution_count": 199,
      "outputs": []
    },
    {
      "cell_type": "markdown",
      "source": [
        "2. Construya un diccionario con las claves \"X\", \"Y\", \"Tiempo\"\n"
      ],
      "metadata": {
        "id": "UWfAq6rhxe7z"
      }
    },
    {
      "cell_type": "code",
      "source": [
        "x = pos_x(t, theta, alpha, v0, b, u,g)\n",
        "y = pos_y(t, theta, alpha, v0, b, u,g)\n",
        "t = np.linspace(0,100,1000)"
      ],
      "metadata": {
        "id": "PSXpUm0xs-vV"
      },
      "execution_count": 201,
      "outputs": []
    },
    {
      "cell_type": "code",
      "source": [
        "dicc = {\"X\":x, \"Y\":y, \"Tiempo\":t} "
      ],
      "metadata": {
        "id": "VJcc3RFaK6t1"
      },
      "execution_count": 202,
      "outputs": []
    },
    {
      "cell_type": "markdown",
      "source": [
        "\n",
        "3. Con el diccionario construya un data frame de pandas llamado df con los nombres de columnas \"X\", \"Y\", \"Tiempo\"  https://pandas.pydata.org/docs/reference/api/pandas.DataFrame.from_dict.html. Defina 1000 regitros para el intervalo de tiempo elegido.\n"
      ],
      "metadata": {
        "id": "DKep1_zExgwl"
      }
    },
    {
      "cell_type": "code",
      "source": [
        "df = pd.DataFrame(dicc)\n",
        "df"
      ],
      "metadata": {
        "colab": {
          "base_uri": "https://localhost:8080/",
          "height": 423
        },
        "id": "3_QD7QpeJ1g1",
        "outputId": "cce74d60-be33-4d9b-8760-6ddf87302435"
      },
      "execution_count": 203,
      "outputs": [
        {
          "output_type": "execute_result",
          "data": {
            "text/plain": [
              "               X             Y    Tiempo\n",
              "0       0.000000      0.000000    0.0000\n",
              "1       4.228775      4.187261    0.1001\n",
              "2       8.421445      8.255666    0.2002\n",
              "3      12.578191     12.205809    0.3003\n",
              "4      16.699192     16.038280    0.4004\n",
              "..           ...           ...       ...\n",
              "995 -1549.417323 -14785.773201   99.5996\n",
              "996 -1552.370613 -14805.229167   99.6997\n",
              "997 -1555.324152 -14824.685951   99.7998\n",
              "998 -1558.277937 -14844.143547   99.8999\n",
              "999 -1561.231968 -14863.601952  100.0000\n",
              "\n",
              "[1000 rows x 3 columns]"
            ],
            "text/html": [
              "\n",
              "  <div id=\"df-05a551d4-b64a-4963-a54b-903eabb553f8\">\n",
              "    <div class=\"colab-df-container\">\n",
              "      <div>\n",
              "<style scoped>\n",
              "    .dataframe tbody tr th:only-of-type {\n",
              "        vertical-align: middle;\n",
              "    }\n",
              "\n",
              "    .dataframe tbody tr th {\n",
              "        vertical-align: top;\n",
              "    }\n",
              "\n",
              "    .dataframe thead th {\n",
              "        text-align: right;\n",
              "    }\n",
              "</style>\n",
              "<table border=\"1\" class=\"dataframe\">\n",
              "  <thead>\n",
              "    <tr style=\"text-align: right;\">\n",
              "      <th></th>\n",
              "      <th>X</th>\n",
              "      <th>Y</th>\n",
              "      <th>Tiempo</th>\n",
              "    </tr>\n",
              "  </thead>\n",
              "  <tbody>\n",
              "    <tr>\n",
              "      <th>0</th>\n",
              "      <td>0.000000</td>\n",
              "      <td>0.000000</td>\n",
              "      <td>0.0000</td>\n",
              "    </tr>\n",
              "    <tr>\n",
              "      <th>1</th>\n",
              "      <td>4.228775</td>\n",
              "      <td>4.187261</td>\n",
              "      <td>0.1001</td>\n",
              "    </tr>\n",
              "    <tr>\n",
              "      <th>2</th>\n",
              "      <td>8.421445</td>\n",
              "      <td>8.255666</td>\n",
              "      <td>0.2002</td>\n",
              "    </tr>\n",
              "    <tr>\n",
              "      <th>3</th>\n",
              "      <td>12.578191</td>\n",
              "      <td>12.205809</td>\n",
              "      <td>0.3003</td>\n",
              "    </tr>\n",
              "    <tr>\n",
              "      <th>4</th>\n",
              "      <td>16.699192</td>\n",
              "      <td>16.038280</td>\n",
              "      <td>0.4004</td>\n",
              "    </tr>\n",
              "    <tr>\n",
              "      <th>...</th>\n",
              "      <td>...</td>\n",
              "      <td>...</td>\n",
              "      <td>...</td>\n",
              "    </tr>\n",
              "    <tr>\n",
              "      <th>995</th>\n",
              "      <td>-1549.417323</td>\n",
              "      <td>-14785.773201</td>\n",
              "      <td>99.5996</td>\n",
              "    </tr>\n",
              "    <tr>\n",
              "      <th>996</th>\n",
              "      <td>-1552.370613</td>\n",
              "      <td>-14805.229167</td>\n",
              "      <td>99.6997</td>\n",
              "    </tr>\n",
              "    <tr>\n",
              "      <th>997</th>\n",
              "      <td>-1555.324152</td>\n",
              "      <td>-14824.685951</td>\n",
              "      <td>99.7998</td>\n",
              "    </tr>\n",
              "    <tr>\n",
              "      <th>998</th>\n",
              "      <td>-1558.277937</td>\n",
              "      <td>-14844.143547</td>\n",
              "      <td>99.8999</td>\n",
              "    </tr>\n",
              "    <tr>\n",
              "      <th>999</th>\n",
              "      <td>-1561.231968</td>\n",
              "      <td>-14863.601952</td>\n",
              "      <td>100.0000</td>\n",
              "    </tr>\n",
              "  </tbody>\n",
              "</table>\n",
              "<p>1000 rows × 3 columns</p>\n",
              "</div>\n",
              "      <button class=\"colab-df-convert\" onclick=\"convertToInteractive('df-05a551d4-b64a-4963-a54b-903eabb553f8')\"\n",
              "              title=\"Convert this dataframe to an interactive table.\"\n",
              "              style=\"display:none;\">\n",
              "        \n",
              "  <svg xmlns=\"http://www.w3.org/2000/svg\" height=\"24px\"viewBox=\"0 0 24 24\"\n",
              "       width=\"24px\">\n",
              "    <path d=\"M0 0h24v24H0V0z\" fill=\"none\"/>\n",
              "    <path d=\"M18.56 5.44l.94 2.06.94-2.06 2.06-.94-2.06-.94-.94-2.06-.94 2.06-2.06.94zm-11 1L8.5 8.5l.94-2.06 2.06-.94-2.06-.94L8.5 2.5l-.94 2.06-2.06.94zm10 10l.94 2.06.94-2.06 2.06-.94-2.06-.94-.94-2.06-.94 2.06-2.06.94z\"/><path d=\"M17.41 7.96l-1.37-1.37c-.4-.4-.92-.59-1.43-.59-.52 0-1.04.2-1.43.59L10.3 9.45l-7.72 7.72c-.78.78-.78 2.05 0 2.83L4 21.41c.39.39.9.59 1.41.59.51 0 1.02-.2 1.41-.59l7.78-7.78 2.81-2.81c.8-.78.8-2.07 0-2.86zM5.41 20L4 18.59l7.72-7.72 1.47 1.35L5.41 20z\"/>\n",
              "  </svg>\n",
              "      </button>\n",
              "      \n",
              "  <style>\n",
              "    .colab-df-container {\n",
              "      display:flex;\n",
              "      flex-wrap:wrap;\n",
              "      gap: 12px;\n",
              "    }\n",
              "\n",
              "    .colab-df-convert {\n",
              "      background-color: #E8F0FE;\n",
              "      border: none;\n",
              "      border-radius: 50%;\n",
              "      cursor: pointer;\n",
              "      display: none;\n",
              "      fill: #1967D2;\n",
              "      height: 32px;\n",
              "      padding: 0 0 0 0;\n",
              "      width: 32px;\n",
              "    }\n",
              "\n",
              "    .colab-df-convert:hover {\n",
              "      background-color: #E2EBFA;\n",
              "      box-shadow: 0px 1px 2px rgba(60, 64, 67, 0.3), 0px 1px 3px 1px rgba(60, 64, 67, 0.15);\n",
              "      fill: #174EA6;\n",
              "    }\n",
              "\n",
              "    [theme=dark] .colab-df-convert {\n",
              "      background-color: #3B4455;\n",
              "      fill: #D2E3FC;\n",
              "    }\n",
              "\n",
              "    [theme=dark] .colab-df-convert:hover {\n",
              "      background-color: #434B5C;\n",
              "      box-shadow: 0px 1px 3px 1px rgba(0, 0, 0, 0.15);\n",
              "      filter: drop-shadow(0px 1px 2px rgba(0, 0, 0, 0.3));\n",
              "      fill: #FFFFFF;\n",
              "    }\n",
              "  </style>\n",
              "\n",
              "      <script>\n",
              "        const buttonEl =\n",
              "          document.querySelector('#df-05a551d4-b64a-4963-a54b-903eabb553f8 button.colab-df-convert');\n",
              "        buttonEl.style.display =\n",
              "          google.colab.kernel.accessAllowed ? 'block' : 'none';\n",
              "\n",
              "        async function convertToInteractive(key) {\n",
              "          const element = document.querySelector('#df-05a551d4-b64a-4963-a54b-903eabb553f8');\n",
              "          const dataTable =\n",
              "            await google.colab.kernel.invokeFunction('convertToInteractive',\n",
              "                                                     [key], {});\n",
              "          if (!dataTable) return;\n",
              "\n",
              "          const docLinkHtml = 'Like what you see? Visit the ' +\n",
              "            '<a target=\"_blank\" href=https://colab.research.google.com/notebooks/data_table.ipynb>data table notebook</a>'\n",
              "            + ' to learn more about interactive tables.';\n",
              "          element.innerHTML = '';\n",
              "          dataTable['output_type'] = 'display_data';\n",
              "          await google.colab.output.renderOutput(dataTable, element);\n",
              "          const docLink = document.createElement('div');\n",
              "          docLink.innerHTML = docLinkHtml;\n",
              "          element.appendChild(docLink);\n",
              "        }\n",
              "      </script>\n",
              "    </div>\n",
              "  </div>\n",
              "  "
            ]
          },
          "metadata": {},
          "execution_count": 203
        }
      ]
    },
    {
      "cell_type": "markdown",
      "source": [
        "\n",
        "\n",
        "4. Realice un gráfico de x como función del tiempo, de y como función del tiempo y la trayectoria de la partícula (df[\"X\"], df[\"tiempo\"], df[\"Y\"]).\n",
        "\n",
        "\n"
      ],
      "metadata": {
        "id": "uTTp-aQjxise"
      }
    },
    {
      "cell_type": "code",
      "source": [
        "fig,axs=plt.subplots(1,2,figsize=(16,6))\n",
        "\n",
        "axs[0].set_title('Posición en x contra el tiempo')\n",
        "axs[0].plot(df['Tiempo'],df['X'],color='darkmagenta',label='x(t)')\n",
        "axs[0].set_xlabel('t')\n",
        "axs[0].set_ylabel('x(t)')\n",
        "\n",
        "axs[1].set_title('Posición en y contra el tiempo')\n",
        "axs[1].plot(df['Tiempo'],df['Y'],color='crimson',label='y(t)')\n",
        "axs[1].set_xlabel('t')\n",
        "axs[1].set_ylabel('y(t)')\n",
        "\n",
        "axs[0].grid()\n",
        "axs[1].grid()\n",
        "\n",
        "fig.subplots_adjust(wspace=0.2)\n",
        "fig.subplots_adjust(hspace=0.2)"
      ],
      "metadata": {
        "colab": {
          "base_uri": "https://localhost:8080/",
          "height": 565
        },
        "id": "znMRypZe2KDx",
        "outputId": "65095080-b7c5-453d-e4bf-05609a939804"
      },
      "execution_count": 204,
      "outputs": [
        {
          "output_type": "display_data",
          "data": {
            "text/plain": [
              "<Figure size 1600x600 with 2 Axes>"
            ],
            "image/png": "[encoded data removed]"
          },
          "metadata": {}
        }
      ]
    },
    {
      "cell_type": "code",
      "source": [
        "plt.plot(df['X'],df['Y'],color='orangered')\n",
        "plt.title('Trayectoria del proyectil')\n",
        "plt.xlabel('X(m)')\n",
        "plt.ylabel('Y(m)')\n",
        "plt.xlim(0,250)\n",
        "plt.ylim(0,85)\n",
        "plt.grid()"
      ],
      "metadata": {
        "colab": {
          "base_uri": "https://localhost:8080/",
          "height": 472
        },
        "id": "He1RHyJHC8PL",
        "outputId": "af7421e4-710a-42f3-8771-1c4c39d7bc89"
      },
      "execution_count": 205,
      "outputs": [
        {
          "output_type": "display_data",
          "data": {
            "text/plain": [
              "<Figure size 640x480 with 1 Axes>"
            ],
            "image/png": "[encoded data removed]"
          },
          "metadata": {}
        }
      ]
    },
    {
      "cell_type": "markdown",
      "source": [
        "5. Determine el alcance máximo de la partícula, para ello tome  la solucion teórica con $y=0$, solucione numéricamente la ecuación para t y remplace este valor en la ecuación para x. Resuelvalo para $\\theta=45^{o}$.  \n"
      ],
      "metadata": {
        "id": "gWh7BzyAxk2v"
      }
    },
    {
      "cell_type": "code",
      "source": [
        "def pos_y2(t, theta, alpha, v0, b, u,g):\n",
        "  y1 = 1/b*(g/b+v0*np.sin(theta)-u*np.sin(alpha))\n",
        "  y2=1-np.exp(-b*t) \n",
        "  y3= g/b-u*np.sin(alpha)*t \n",
        "  return y1*y2-y3"
      ],
      "metadata": {
        "id": "0nw_UAa0_rHK"
      },
      "execution_count": 206,
      "outputs": []
    },
    {
      "cell_type": "code",
      "source": [
        "r_m= optimize.newton(pos_y2, 1,args=(theta,alpha, v0, b, u ,g))\n",
        "print('La raíz hallada por método de la secante es:',r_m)\n",
        "print('El alcance máximo es de', pos_x(r_m, theta, alpha, v0, b, u,g).round(decimals=4),'m con θ=45°')"
      ],
      "metadata": {
        "colab": {
          "base_uri": "https://localhost:8080/"
        },
        "id": "dyAGTgJtMewx",
        "outputId": "d8985341-9d2b-458d-b09a-fbc36b6dda04"
      },
      "execution_count": 207,
      "outputs": [
        {
          "output_type": "stream",
          "name": "stdout",
          "text": [
            "La raíz hallada por método de la secante es: 0.8394287164563136\n",
            "El alcance máximo es de 34.3557 m con θ=45°\n"
          ]
        }
      ]
    },
    {
      "cell_type": "markdown",
      "source": [
        "\n",
        "6. Construya una  grafica del alcance máximo R como función de $\\theta$, varie $\\theta$  entre 10 y 80 grados cada 5 grados.\n"
      ],
      "metadata": {
        "id": "CkQnW-tbxmMR"
      }
    },
    {
      "cell_type": "code",
      "source": [
        "def R(theta):\n",
        "  return pos_x(r_m,theta,alpha, v0, b, u,g)\n",
        "\n",
        "val_t=np.arange(10,80,5)\n",
        "rad_t=np.deg2rad(val_t)"
      ],
      "metadata": {
        "id": "H5MFayUM_5vL"
      },
      "execution_count": 208,
      "outputs": []
    },
    {
      "cell_type": "code",
      "source": [
        "plt.plot(val_t ,R(rad_t),color='purple')\n",
        "plt.xlabel('θ')\n",
        "plt.ylabel('R')\n",
        "plt.title('Alcance máximo')\n",
        "plt.grid()"
      ],
      "metadata": {
        "colab": {
          "base_uri": "https://localhost:8080/",
          "height": 472
        },
        "id": "O46RvISnFtX2",
        "outputId": "2970b1f5-35cd-46d0-994e-1fd3e82c83e2"
      },
      "execution_count": 210,
      "outputs": [
        {
          "output_type": "display_data",
          "data": {
            "text/plain": [
              "<Figure size 640x480 with 1 Axes>"
            ],
            "image/png": "[encoded data removed]"
          },
          "metadata": {}
        }
      ]
    },
    {
      "cell_type": "markdown",
      "source": [
        "\n",
        "# 6. Construir un fractal empleando el metodo de Newton-Raphson, \n",
        "(Reproducir código y entender)\n",
        "\\begin{equation}\n",
        "z_{n+1} = z_n -a \\frac{f(z)}{f'(z)} \n",
        "\\end{equation}\n",
        "\n",
        "\n",
        "\n",
        "\\begin{equation}\n",
        "f'(z) = \\frac{ f(z+h)+f(z) }{h}\n",
        "\\end{equation}"
      ],
      "metadata": {
        "id": "Ok4b668dWU_A"
      }
    },
    {
      "cell_type": "code",
      "source": [
        "import numpy as np\n",
        "import matplotlib.pylab as plt\n",
        "from PIL import Image"
      ],
      "metadata": {
        "id": "FWsiLsg1aLmX"
      },
      "execution_count": 211,
      "outputs": []
    },
    {
      "cell_type": "code",
      "source": [
        "Npx_X = 120 \n",
        "Npx_Y = 120 "
      ],
      "metadata": {
        "id": "OC7Mx3flaNxu"
      },
      "execution_count": 212,
      "outputs": []
    },
    {
      "cell_type": "code",
      "source": [
        "image = Image.new(\"RGB\", (Npx_X, Npx_Y))   #Creacion de la imagen inicial"
      ],
      "metadata": {
        "id": "2faSVIqlaSSd"
      },
      "execution_count": 213,
      "outputs": []
    },
    {
      "cell_type": "code",
      "source": [
        "npx = np.arange(0, Npx_X) \n",
        "npy = np.arange(0, Npx_Y)"
      ],
      "metadata": {
        "id": "Mt-CJbqWaUs5"
      },
      "execution_count": 214,
      "outputs": []
    },
    {
      "cell_type": "code",
      "source": [
        "xmin = -2\n",
        "xmax = 2\n",
        "ymin = -2\n",
        "ymax = 2\n",
        "# Transformación al plano complejo en un rectangulo (xmin, xmax), (ymin, ymax)\n",
        "zx = npx * (xmax - xmin) / (Npx_X - 1)   + xmin\n",
        "zy = npy * (ymax-ymin) / (Npx_Y - 1) + ymin"
      ],
      "metadata": {
        "id": "LiKMd72vaX4w"
      },
      "execution_count": 215,
      "outputs": []
    },
    {
      "cell_type": "code",
      "source": [
        "def f(z): \n",
        "  return z**3-36"
      ],
      "metadata": {
        "id": "X_XTZcPiabuf"
      },
      "execution_count": 216,
      "outputs": []
    },
    {
      "cell_type": "code",
      "source": [
        "def fp(z): \n",
        "  return 3*z**2"
      ],
      "metadata": {
        "id": "OGHB5aNxaeYE"
      },
      "execution_count": 217,
      "outputs": []
    },
    {
      "cell_type": "code",
      "source": [
        "h = 1E-4\n",
        "def fpn(z, h): \n",
        "  return (f(z+h)-f(z))/h"
      ],
      "metadata": {
        "id": "EPqnnj-tahqO"
      },
      "execution_count": 218,
      "outputs": []
    },
    {
      "cell_type": "code",
      "source": [
        "a = 0.2\n",
        "Niteraciones = 150 \n",
        "eps = 1E-8 #"
      ],
      "metadata": {
        "id": "nVbYBsubalLt"
      },
      "execution_count": 219,
      "outputs": []
    },
    {
      "cell_type": "code",
      "source": [
        "x = - 1\n",
        "for zx_ in zx:\n",
        "  x = x + 1 \n",
        "  y = -1\n",
        "  for zy_ in zy: \n",
        "      y = y + 1\n",
        "      Z_0 = complex(zx_, zy_)\n",
        "\n",
        "      for i in range(0, Niteraciones): \n",
        "        Z = Z_0 - a * f(Z_0)/fp(Z_0)\n",
        "        if( abs(Z-Z_0)<= eps):\n",
        "          break           \n",
        "        Z_0 = Z\n",
        "      r, g, b = i % 4 *64 , i % 8 *16, i% 16* 16      \n",
        "      image.putpixel((x,y), (r,g,b) )"
      ],
      "metadata": {
        "id": "SIIP8RoEaod7"
      },
      "execution_count": 220,
      "outputs": []
    },
    {
      "cell_type": "code",
      "source": [
        "plt.imshow(image)"
      ],
      "metadata": {
        "id": "ltn8CaMGarUT",
        "colab": {
          "base_uri": "https://localhost:8080/",
          "height": 451
        },
        "outputId": "2dcc9dc2-70df-4c98-cff5-73a3d8aafaad"
      },
      "execution_count": 221,
      "outputs": [
        {
          "output_type": "execute_result",
          "data": {
            "text/plain": [
              "<matplotlib.image.AxesImage at 0x7f75d21f62b0>"
            ]
          },
          "metadata": {},
          "execution_count": 221
        },
        {
          "output_type": "display_data",
          "data": {
            "text/plain": [
              "<Figure size 640x480 with 1 Axes>"
            ],
            "image/png": "[encoded data removed]"
          },
          "metadata": {}
        }
      ]
    },
    {
      "cell_type": "markdown",
      "source": [
        "```\n",
        "import numpy as np\n",
        "import matplotlib.pylab as plt\n",
        "from PIL import Image\n",
        "\n",
        "Npx_X = 80 #Numero de pixeles en x\n",
        "Npx_Y = 80 #Numero de pixeles en y\n",
        "\n",
        "image = Image.new(\"RGB\", (Npx_X, Npx_Y)) #Creacion de la imagen inicial\n",
        "\n",
        "npx = np.arange(0, Npx_X)\n",
        "npy = np.arange(0, Npx_Y)\n",
        "\n",
        "xmin = -1\n",
        "xmax = 1\n",
        "ymin = -1\n",
        "ymax = 1\n",
        "#Transformación al plano complejo en un rectangulo (xmin, xmax), (ymin, ymax)\n",
        "zx = npx * (xmax - xmin) / (Npx_X - 1)   + xmin\n",
        "zy = npy * (ymax-ymin) / (Npx_Y - 1) + ymin\n",
        "\n",
        "#Definicion  la funcion y las derivada \n",
        "def f(z): \n",
        "  return z**3 - 1\n",
        "\n",
        "def fp(z): \n",
        "  return 3*z**2\n",
        "\n",
        "h = 1E-4\n",
        "def fpn(z, h): \n",
        "  return (f(z+h)-f(z))/h\n",
        "  \n",
        "\n",
        "a = 0.2\n",
        "Niteraciones = 120\n",
        "eps = 1E-8\n",
        "\n",
        "x = - 1\n",
        "for zx_ in zx:\n",
        "  x = x + 1 \n",
        "  y = -1\n",
        "  for zy_ in zy: \n",
        "      y = y + 1\n",
        "      Z_0 = complex(zx_, zy_)\n",
        "    \n",
        "      for i in range(0, Niteraciones): \n",
        "        Z = Z_0 - a * f(Z_0)/fp(Z_0)\n",
        "        if( abs(Z-Z_0)<= eps):\n",
        "          break           \n",
        "        Z_0 = Z\n",
        "      #print(i)\n",
        "      #print(i)\n",
        "      r, g, b = i % 4 *64 , i % 8 *16, i% 16* 16      \n",
        "      image.putpixel((x,y), (r,g,b) )\n",
        "\n",
        "plt.imshow(image)\n",
        "#plt.xlim(400, 600)\n",
        "#plt.ylim(400, 523)\n",
        "```"
      ],
      "metadata": {
        "id": "9OaykphcWtaW"
      }
    }
  ]
}