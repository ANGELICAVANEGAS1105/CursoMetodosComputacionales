{
  "cells": [
    {
      "cell_type": "markdown",
      "id": "3a6dc6a1",
      "metadata": {
        "id": "3a6dc6a1"
      },
      "source": [
        "<a href=\"https://colab.research.google.com/github/hernansalinas/autogrades/blob/main/Actividades_clase/Actividad_05_ZerosFunciones.ipynb\" target=\"_parent\"><img src=\"https://colab.research.google.com/assets/colab-badge.svg\" alt=\"Open In Colab\"/></a>\n",
        "\n",
        "\n",
        "\n",
        "# Actividad 5\n",
        "### Métodos computacionales para físicos  y astrónomos\n",
        "### Universidad de Antioquia\n",
        "### Prof: Hernan D. Salinas Jiménez\n",
        "Ref: https://github.com/restrepo/ComputationalMethods"
      ]
    },
    {
      "cell_type": "markdown",
      "id": "8e59c672",
      "metadata": {
        "id": "8e59c672"
      },
      "source": [
        "\n",
        "In an IPython notebook, use the scipy implementation and find the first solution to the equation, write a function with the bisection methods.\n",
        "\n",
        "What is the solution if a=1, and b=1, what is the solution if a=2 and b=2\n",
        "  \n",
        "1. $ 7 = a\\sqrt{x^2+1}+be^x\\sin x $\n",
        "   \n",
        "\n"
      ]
    },
    {
      "cell_type": "markdown",
      "id": "ee7acda4",
      "metadata": {
        "id": "ee7acda4"
      },
      "source": [
        "  \n",
        " 2. $a e^{x}-2= b\\cos(e^x-2)$"
      ]
    },
    {
      "cell_type": "markdown",
      "id": "a232ecdd",
      "metadata": {
        "id": "a232ecdd"
      },
      "source": [
        "3. Fixed point methods. \n",
        "\n",
        "When a new planet is discovered, there are different methods to estimate its physical properties. Many times is only possible to estimate either the planet mass or the planet radius and the other property has to be predicted through computer modelling.\n",
        "\n",
        "If one has the planet mass, a very rough way to estimate its radius is to assume certain composition (mean density) and a homogeneous distribution (a very bad assumption!). For example, for the planet [Gliese 832c](http://es.wikipedia.org/wiki/Gliese_832_c) with a mass $M= 5.40 M_{\\oplus}$, if we assume an earth-like composition, i.e. $\\bar \\rho_{\\oplus} = 5520\\ kg/m^3$, we obtain:\n",
        "\n",
        "$$R_{g832c} = \\left( \\frac{3 M_{g832c}}{ 4 \\pi \\bar\\rho_{\\oplus} } \\right)^{1/3} \\approx 1.75 R_{\\oplus}$$\n",
        "\n",
        "That would be the planet radius if the composition where exactly equal to earth's.\n",
        "\n",
        "A more realistic approach is assuming an internal one-layer density profile like:\n",
        "\n",
        "$$\\rho(r) = \\rho_0 \\exp\\left( -\\frac{r}{L} \\right)$$\n",
        "\n",
        "where $\\rho_0$ is the density at planet centre and $L$ is a characteristic lenght depending on the composition. From numerical models of planet interiors, the estimated parameters for a planet of are $M= 5.40 M_{\\oplus}$ are approximately $\\rho_0 = 18000\\ kg/m^3$ and $L = 6500\\ km$.\n",
        "\n",
        "Integrating over the planet volume, we obtain the total mass as\n",
        "\n",
        "$$M = 4\\pi \\int_0^R \\rho(r)r^2dr$$\n",
        "\n",
        "This is a function of the mass in terms of the planet radius. \n",
        "\n",
        "Solving the equation $M(R) = M_{g832c}$ it would be possible to find a more realistic planet radius. However when using numerical models, it is not possible to approach the solution from the left side as a negative mass makes no sense."
      ]
    },
    {
      "cell_type": "markdown",
      "id": "d6060db6",
      "metadata": {
        "id": "d6060db6"
      },
      "source": [
        "3. **ACTIVITY** \n",
        "    \n",
        "In an IPython notebook and based on the routine NewtonRaphson, write your own routine SecantMethod that performs the previous steps for the Secant Method. Test your code with the function $f(x)$:\n",
        "    \n",
        "$f(x) = x - \\cos(x)$\n",
        "</font>"
      ]
    },
    {
      "cell_type": "markdown",
      "id": "08b04566",
      "metadata": {
        "id": "08b04566"
      },
      "source": [
        "4. **ACTIVITY** \n",
        "\n",
        "\n",
        "It is known that light rays are deflected when they pass near by a gravitational field and that this deviation is proportional to the body mass which the light is interacting with and inversely proportional to the passing distance. \n",
        "Since it is common finding very massive structures in the universe and the measures that are done to study it involve photons, it makes sense to study what happens to a light source image when the rays get close to a grumpy object like a dark matter halo.  \n",
        "\n",
        "\n",
        "In order to study the light deflection in these cases, it will be used the simplest model, gravitational lens theory, where the len is a very massive object. A sketch of a typical system is shown in the figure below. The source plane is the light source or image that is going to be affected,  $\\eta$ is the distance from a image point to the line of sight and $\\beta$ the subtended angle by the point. \n",
        "The lens plane corresponds to the mass that affects the light coming from the source, $\\xi$ is the new image point distance to the line of sight, $\\theta$ is the subtended angle by the new point position. Then, $\\alpha$ is the deflection angle. \n",
        "\n",
        "Since from observations $\\theta$ is known, the problem to be solved per pixel usually is \n",
        "\n",
        "\\begin{equation}\n",
        "\\beta = \\theta - \\hat{\\alpha}(\\theta) \n",
        "\\end{equation}\n",
        "\n",
        "but $\\alpha$ also depends on $\\theta$ besides the len halo properties. This would allow construct the real image\n",
        "from the distorted and magnified one. \n",
        "\n",
        "<img src=\"https://github.com/restrepo/ComputationalMethods/blob/master/material/figures/lente1.png?raw=1\">\n",
        "\n",
        "This equation can also be written in terms of distances \n",
        "\n",
        "\\begin{equation}\n",
        "\\vec{\\eta}  = \\frac{D_s}{D_d} \\vec{\\xi} - D_{ds}\\alpha ( \\vec{\\xi }) \n",
        "\\end{equation}\n",
        "\n",
        "The solution to the lens equation is easier to get if it is assumed that the len is axially symmetric. In this case, the deflection angle  takes the next form\n",
        "\n",
        "$$ \\hat{\\alpha}(\\vec{\\xi}) = \\frac{\\vec{\\xi}}{|\\vec{\\xi}|^2} \\frac{8G\\pi}{c^2} \\int_0^\\xi d\\xi'\\xi'\\Sigma(\\xi')$$\n",
        "\n",
        "The quantity $\\Sigma$ is the surface mass density, i.e., the len's mass enclosed inside $\\xi$ circle per area unit.  \n",
        "It is important to notice that the direction of $\\alpha$ is the same as $\\xi$ and consequently $\\eta$. \n",
        "\n",
        "\n",
        "The problem to be solved is the next: Given the positions of a square find the image distorsion due to gravitational lensing, i.e., find the root of \\xi in the trascendal equation it satisfies. Use the routines given below and all of \n",
        "the data for the len and image that is going to be distorted. \n"
      ]
    },
    {
      "cell_type": "markdown",
      "source": [
        "# **Actividad 1**"
      ],
      "metadata": {
        "id": "wPpC6vjge26P"
      },
      "id": "wPpC6vjge26P"
    },
    {
      "cell_type": "markdown",
      "source": [
        "In an IPython notebook, use the scipy implementation and find the first solution to the equation, write a function with the bisection methods.\n",
        "\n",
        "What is the solution if a=1, and b=1, what is the solution if a=2 and b=2\n",
        "  \n",
        "1. $ 7 = a\\sqrt{x^2+1}+be^x\\sin x $\n",
        "\n",
        "2. $a e^{x}-2= b\\cos(e^x-2)$"
      ],
      "metadata": {
        "id": "e44JMPHNJctc"
      },
      "id": "e44JMPHNJctc"
    },
    {
      "cell_type": "code",
      "source": [
        "\n",
        "from scipy import linalg, optimize\n",
        "import numpy as np\n",
        "import matplotlib.pyplot as plt"
      ],
      "metadata": {
        "id": "6x7wStp8JyvR"
      },
      "id": "6x7wStp8JyvR",
      "execution_count": null,
      "outputs": []
    },
    {
      "cell_type": "code",
      "source": [
        "def f(x):\n",
        "  a= 1\n",
        "  b= 1\n",
        "  T1=a*(np.sqrt((x**2)+1))\n",
        "  T2=b*((np.exp(x))*(np.sin(x)))\n",
        "\n",
        "  return T1+ T2 - 7\n",
        "\n",
        "\n",
        "x= np.linspace(0,10,100)\n",
        "x\n",
        "f(x)\n",
        "plt.figure(figsize=(5,5))\n",
        "plt.plot(x,f(x))\n",
        "plt.xlim(4.5,6.5)\n",
        "plt.grid()"
      ],
      "metadata": {
        "colab": {
          "base_uri": "https://localhost:8080/",
          "height": 320
        },
        "id": "roT0rwfjO7Cj",
        "outputId": "d2c0087b-8e79-4e6b-b1ba-741268f24947"
      },
      "id": "roT0rwfjO7Cj",
      "execution_count": null,
      "outputs": [
        {
          "output_type": "display_data",
          "data": {
            "text/plain": [
              "<Figure size 360x360 with 1 Axes>"
            ],
            "image/png": "[encoded data removed]"
          },
          "metadata": {
            "needs_background": "light"
          }
        }
      ]
    },
    {
      "cell_type": "code",
      "source": [
        "from scipy import optimize"
      ],
      "metadata": {
        "id": "ZBKbgmvFU61C"
      },
      "id": "ZBKbgmvFU61C",
      "execution_count": null,
      "outputs": []
    },
    {
      "cell_type": "code",
      "source": [
        "root = optimize.bisect(f, 4, 8)\n",
        "root"
      ],
      "metadata": {
        "colab": {
          "base_uri": "https://localhost:8080/"
        },
        "id": "u4tppsozNfe7",
        "outputId": "3d154cf8-d2b9-49d8-89dc-cf5a94071eff"
      },
      "id": "u4tppsozNfe7",
      "execution_count": null,
      "outputs": [
        {
          "output_type": "execute_result",
          "data": {
            "text/plain": [
              "6.284372640484435"
            ]
          },
          "metadata": {},
          "execution_count": 18
        }
      ]
    },
    {
      "cell_type": "code",
      "source": [
        "raiz= optimize.bisect(f,4.5,6.5)\n",
        "print(f(raiz))\n"
      ],
      "metadata": {
        "colab": {
          "base_uri": "https://localhost:8080/"
        },
        "id": "aJqxt5ktNljG",
        "outputId": "365a5c4f-008d-47a7-9012-d853394897e7"
      },
      "id": "aJqxt5ktNljG",
      "execution_count": null,
      "outputs": [
        {
          "output_type": "stream",
          "name": "stdout",
          "text": [
            "4.0948755497538514e-10\n"
          ]
        }
      ]
    },
    {
      "cell_type": "code",
      "source": [
        "def f(x):\n",
        "  return 2*(np.sqrt((x**2)+1))+ 2*((np.exp(x))*(np.sin(x))) - 7"
      ],
      "metadata": {
        "id": "XkJ1YUaJPlIa"
      },
      "id": "XkJ1YUaJPlIa",
      "execution_count": null,
      "outputs": []
    },
    {
      "cell_type": "code",
      "source": [
        "raiz= optimize.bisect(f,9,10)\n",
        "print(raiz)"
      ],
      "metadata": {
        "colab": {
          "base_uri": "https://localhost:8080/"
        },
        "id": "OUiCELFIQF-j",
        "outputId": "8e72099b-7131-4494-d405-063dcb5df99f"
      },
      "id": "OUiCELFIQF-j",
      "execution_count": null,
      "outputs": [
        {
          "output_type": "stream",
          "name": "stdout",
          "text": [
            "9.4252601628923\n"
          ]
        }
      ]
    },
    {
      "cell_type": "code",
      "source": [
        "f(raiz)"
      ],
      "metadata": {
        "colab": {
          "base_uri": "https://localhost:8080/"
        },
        "id": "AD1JWJ1OQwwy",
        "outputId": "d4496b20-2434-445f-893f-557514ede4fa"
      },
      "id": "AD1JWJ1OQwwy",
      "execution_count": null,
      "outputs": [
        {
          "output_type": "execute_result",
          "data": {
            "text/plain": [
              "1.2681308447781703e-08"
            ]
          },
          "metadata": {},
          "execution_count": 22
        }
      ]
    },
    {
      "cell_type": "code",
      "source": [
        "\n",
        "def g(x):\n",
        "  a=2\n",
        "  b=2\n",
        "  return b*np.cos(np.exp(x)-2)-a*np.exp(x)+2\n",
        "\n"
      ],
      "metadata": {
        "id": "4WYaYqAPQ_kW"
      },
      "id": "4WYaYqAPQ_kW",
      "execution_count": null,
      "outputs": []
    },
    {
      "cell_type": "code",
      "source": [
        "x= np.linspace(0,2,1000)\n",
        "\n",
        "plt.figure(figsize=(5,5))\n",
        "plt.plot(x,g(x))\n",
        "plt.hlines(0,0,2,'k')\n",
        "plt.grid()"
      ],
      "metadata": {
        "colab": {
          "base_uri": "https://localhost:8080/",
          "height": 320
        },
        "id": "cAeh7QoXSzox",
        "outputId": "a264f976-a0a5-43c6-8d32-af0971242601"
      },
      "id": "cAeh7QoXSzox",
      "execution_count": null,
      "outputs": [
        {
          "output_type": "display_data",
          "data": {
            "text/plain": [
              "<Figure size 360x360 with 1 Axes>"
            ],
            "image/png": "[encoded data removed]"
          },
          "metadata": {
            "needs_background": "light"
          }
        }
      ]
    },
    {
      "cell_type": "code",
      "source": [
        "g(x)\n",
        "\n",
        "raiz= optimize.bisect(g,0,5)\n",
        "print(raiz)"
      ],
      "metadata": {
        "colab": {
          "base_uri": "https://localhost:8080/"
        },
        "id": "hZQHxuQpTQa1",
        "outputId": "d101c2b4-f01e-4563-a77d-8c1a959574bc"
      },
      "id": "hZQHxuQpTQa1",
      "execution_count": null,
      "outputs": [
        {
          "output_type": "stream",
          "name": "stdout",
          "text": [
            "0.6931471805603451\n"
          ]
        }
      ]
    },
    {
      "cell_type": "code",
      "source": [
        "plt.figure(figsize=(5,5))\n",
        "plt.plot(x,g(x))\n",
        "plt.hlines(0,0,2,'k')\n",
        "plt.plot(raiz,g(raiz),'ro')\n",
        "plt.grid()"
      ],
      "metadata": {
        "colab": {
          "base_uri": "https://localhost:8080/",
          "height": 320
        },
        "id": "0U72yl4VDzEy",
        "outputId": "66c3229a-3a3d-4edf-db30-948e222ca3da"
      },
      "id": "0U72yl4VDzEy",
      "execution_count": null,
      "outputs": [
        {
          "output_type": "display_data",
          "data": {
            "text/plain": [
              "<Figure size 360x360 with 1 Axes>"
            ],
            "image/png": "[encoded data removed]"
          },
          "metadata": {
            "needs_background": "light"
          }
        }
      ]
    },
    {
      "cell_type": "code",
      "source": [
        "def g(x):\n",
        "  a=2\n",
        "  b=2\n",
        "  return b*np.cos(np.exp(x)-2)-a*np.exp(x)+2"
      ],
      "metadata": {
        "id": "dWbLrmtdTzK8"
      },
      "id": "dWbLrmtdTzK8",
      "execution_count": null,
      "outputs": []
    },
    {
      "cell_type": "code",
      "source": [
        "raiz= optimize.bisect(g,0,5)\n",
        "print(g(raiz))"
      ],
      "metadata": {
        "colab": {
          "base_uri": "https://localhost:8080/"
        },
        "id": "QniBsoaNT54N",
        "outputId": "07548eca-3573-400e-d450-edc1d4361b8d"
      },
      "id": "QniBsoaNT54N",
      "execution_count": null,
      "outputs": [
        {
          "output_type": "stream",
          "name": "stdout",
          "text": [
            "-1.5987211554602254e-12\n"
          ]
        }
      ]
    },
    {
      "cell_type": "markdown",
      "source": [
        "# **Actividad 3**"
      ],
      "metadata": {
        "id": "BZOxNrcIfXKO"
      },
      "id": "BZOxNrcIfXKO"
    },
    {
      "cell_type": "markdown",
      "source": [
        "3. **ACTIVITY** \n",
        "    \n",
        "In an IPython notebook and based on the routine NewtonRaphson, write your own routine SecantMethod that performs the previous steps for the Secant Method. Test your code with the function $f(x)$:\n",
        "    \n",
        "$f(x) = x - \\cos(x)$\n",
        "</font>"
      ],
      "metadata": {
        "id": "vUQqVukpUQ7x"
      },
      "id": "vUQqVukpUQ7x"
    },
    {
      "cell_type": "code",
      "source": [
        "def f2(x):\n",
        "  return x- np.cos(x)\n",
        "\n",
        "ejex = np.linspace(0,10,100)\n",
        "\n",
        "plt.figure(figsize=(5,5))\n",
        "#plt.xlim(0,2.0)# con una aproximacion a la grafica sé que la raiz debe de estar cerca de 0.75\n",
        "plt.plot(ejex,f2(ejex))\n",
        "plt.grid()\n",
        "\n"
      ],
      "metadata": {
        "colab": {
          "base_uri": "https://localhost:8080/",
          "height": 320
        },
        "id": "EW26MXTqaUdi",
        "outputId": "749c007c-057f-422f-dbf3-c485191967a2"
      },
      "id": "EW26MXTqaUdi",
      "execution_count": null,
      "outputs": [
        {
          "output_type": "display_data",
          "data": {
            "text/plain": [
              "<Figure size 360x360 with 1 Axes>"
            ],
            "image/png": "[encoded data removed]"
          },
          "metadata": {
            "needs_background": "light"
          }
        }
      ]
    },
    {
      "cell_type": "code",
      "source": [
        "def Df(x): #La derivada de la funcion f2\n",
        "  return 1 + np.sin(x)"
      ],
      "metadata": {
        "id": "LlD9Do3wawvm"
      },
      "id": "LlD9Do3wawvm",
      "execution_count": null,
      "outputs": []
    },
    {
      "cell_type": "code",
      "source": [
        "plt.figure(figsize=(5,5))\n",
        "plt.plot(ejex,Df(ejex))\n",
        "plt.grid()\n"
      ],
      "metadata": {
        "colab": {
          "base_uri": "https://localhost:8080/",
          "height": 320
        },
        "id": "iXT3NqXmbXDL",
        "outputId": "8425db4d-0176-4e70-af41-e0acb877cd59"
      },
      "id": "iXT3NqXmbXDL",
      "execution_count": null,
      "outputs": [
        {
          "output_type": "display_data",
          "data": {
            "text/plain": [
              "<Figure size 360x360 with 1 Axes>"
            ],
            "image/png": "[encoded data removed]"
          },
          "metadata": {
            "needs_background": "light"
          }
        }
      ]
    },
    {
      "cell_type": "code",
      "source": [
        "\n",
        "x0=0\n",
        "def Newton_raphson(x0): #Metodo de Newton _raphson\n",
        "\n",
        "  x_n= np.zeros(10)\n",
        "  i=1\n",
        "  x_n[0]= x0\n",
        "  while True: \n",
        "    x_n[i]= x_n[i-1]-(f2(x_n[i-1])/Df(x_n[i-1])) \n",
        "    if round(x_n[i],5) == round(x_n[i-1],5):\n",
        "      break\n",
        "    else:\n",
        "      i += 1\n",
        "  return x_n[i]\n",
        "\n",
        "Newton_raphson(x0)  \n",
        "f2(Newton_raphson(x0))\n",
        "\n",
        "\n"
      ],
      "metadata": {
        "colab": {
          "base_uri": "https://localhost:8080/"
        },
        "id": "mhMUzmOGbX87",
        "outputId": "7a011288-fe10-4a6b-d14d-dc5c829b1dd3"
      },
      "id": "mhMUzmOGbX87",
      "execution_count": null,
      "outputs": [
        {
          "output_type": "execute_result",
          "data": {
            "text/plain": [
              "0.0"
            ]
          },
          "metadata": {},
          "execution_count": 32
        }
      ]
    },
    {
      "cell_type": "code",
      "source": [
        "\n",
        "def method_secan(x0,x1): # este es el Metodo de la secante\n",
        "  x_n2= np.zeros(10)\n",
        "  x_n2[0]=x0\n",
        "  x_n2[1]= x1\n",
        "  i=3\n",
        "  \n",
        "  while True:\n",
        "    \n",
        "    x_n2[i-1]= x_n2[i-2]-((x_n2[i-2]-x_n2[i-3])/(f2(x_n2[i-2])-f2(x_n2[i-3])))*f2(x_n2[i-2])\n",
        "\n",
        "    if round(x_n2[i-1],5) == round(x_n2[i-2],5):\n",
        "        break\n",
        "    else:\n",
        "        i += 1\n",
        "  return x_n2[i-1]\n",
        "\n",
        "\n",
        "\n",
        "f2(method_secan(0,0.5))\n"
      ],
      "metadata": {
        "id": "gzKYm4aHdViT",
        "colab": {
          "base_uri": "https://localhost:8080/"
        },
        "outputId": "54626acd-9802-4fc8-b408-ad7e31e7cc0c"
      },
      "id": "gzKYm4aHdViT",
      "execution_count": null,
      "outputs": [
        {
          "output_type": "execute_result",
          "data": {
            "text/plain": [
              "-7.890355036010988e-13"
            ]
          },
          "metadata": {},
          "execution_count": 33
        }
      ]
    },
    {
      "cell_type": "markdown",
      "source": [
        "# **Actividad 4**"
      ],
      "metadata": {
        "id": "14FSxVJxfcRe"
      },
      "id": "14FSxVJxfcRe"
    },
    {
      "cell_type": "code",
      "source": [
        "import sympy as sp #Aquì usamos sympy para usar el calculo simbolico\n"
      ],
      "metadata": {
        "id": "i32Hjjkofb9l"
      },
      "id": "i32Hjjkofb9l",
      "execution_count": null,
      "outputs": []
    },
    {
      "cell_type": "code",
      "source": [
        "x = sp.symbols(\"x\")\n",
        "\n",
        "def f(x):\n",
        "  T1= sp.sqrt(x**2+1)\n",
        "  T2= sp.exp(x)*sp.sin(x)\n",
        "  return T1+T2-7\n",
        " "
      ],
      "metadata": {
        "id": "vSvIOMd7YZhx"
      },
      "id": "vSvIOMd7YZhx",
      "execution_count": null,
      "outputs": []
    },
    {
      "cell_type": "code",
      "source": [
        "def fp(x):\n",
        "  T1= x*(sp.sqrt(x**2+1))\n",
        "  T2= sp.exp(x)*sp.sin(x)\n",
        "  T3= sp.exp(x)*sp.cos(x)\n",
        "  return T1+T2+T3\n"
      ],
      "metadata": {
        "id": "iGvCvTgOaBPM"
      },
      "id": "iGvCvTgOaBPM",
      "execution_count": null,
      "outputs": []
    },
    {
      "cell_type": "code",
      "source": [
        "sp.diff(f(x),x)\n"
      ],
      "metadata": {
        "colab": {
          "base_uri": "https://localhost:8080/",
          "height": 52
        },
        "id": "5i1u9q62aGVD",
        "outputId": "4bd6a4b4-5bb5-4ab8-8f3d-a956e7c1defe"
      },
      "id": "5i1u9q62aGVD",
      "execution_count": null,
      "outputs": [
        {
          "output_type": "execute_result",
          "data": {
            "text/plain": [
              "x/sqrt(x**2 + 1) + exp(x)*sin(x) + exp(x)*cos(x)"
            ],
            "text/latex": "$\\displaystyle \\frac{x}{\\sqrt{x^{2} + 1}} + e^{x} \\sin{\\left(x \\right)} + e^{x} \\cos{\\left(x \\right)}$"
          },
          "metadata": {},
          "execution_count": 37
        }
      ]
    },
    {
      "cell_type": "code",
      "source": [
        "\n",
        "fun=sp.lambdify(x,f(x),\"numpy\")\n",
        "Df_= sp.lambdify(x,fp(x),\"numpy\")"
      ],
      "metadata": {
        "id": "H0Zay5gkaL9J"
      },
      "id": "H0Zay5gkaL9J",
      "execution_count": null,
      "outputs": []
    },
    {
      "cell_type": "code",
      "source": [
        "fun(2)"
      ],
      "metadata": {
        "colab": {
          "base_uri": "https://localhost:8080/"
        },
        "id": "7KvyfgrliEDu",
        "outputId": "9948f9cb-bd30-44d5-b44f-278f19b388b1"
      },
      "id": "7KvyfgrliEDu",
      "execution_count": null,
      "outputs": [
        {
          "output_type": "execute_result",
          "data": {
            "text/plain": [
              "1.9549176749280406"
            ]
          },
          "metadata": {},
          "execution_count": 39
        }
      ]
    },
    {
      "cell_type": "code",
      "source": [
        "def h(x):            #Metodo de punto fijo\n",
        "  return x-fun(x)\n",
        "\n",
        "x0=1\n",
        "\n",
        "root= optimize.fixed_point(h,x0)\n",
        "fun(root)"
      ],
      "metadata": {
        "colab": {
          "base_uri": "https://localhost:8080/"
        },
        "id": "Dxdhk6ocerEW",
        "outputId": "fe95e231-c76e-4524-d2f1-4239c38ece82"
      },
      "id": "Dxdhk6ocerEW",
      "execution_count": null,
      "outputs": [
        {
          "output_type": "execute_result",
          "data": {
            "text/plain": [
              "-8.881784197001252e-16"
            ]
          },
          "metadata": {},
          "execution_count": 40
        }
      ]
    },
    {
      "cell_type": "code",
      "source": [],
      "metadata": {
        "id": "Suzxp28VgGC5"
      },
      "id": "Suzxp28VgGC5",
      "execution_count": null,
      "outputs": []
    }
  ],
  "metadata": {
    "kernelspec": {
      "display_name": "Python 3 (ipykernel)",
      "language": "python",
      "name": "python3"
    },
    "language_info": {
      "codemirror_mode": {
        "name": "ipython",
        "version": 3
      },
      "file_extension": ".py",
      "mimetype": "text/x-python",
      "name": "python",
      "nbconvert_exporter": "python",
      "pygments_lexer": "ipython3",
      "version": "3.8.12"
    },
    "colab": {
      "provenance": [],
      "toc_visible": true
    }
  },
  "nbformat": 4,
  "nbformat_minor": 5
}