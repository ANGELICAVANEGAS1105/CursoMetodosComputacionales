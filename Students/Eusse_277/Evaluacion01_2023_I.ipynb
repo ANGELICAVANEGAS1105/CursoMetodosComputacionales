{
  "nbformat": 4,
  "nbformat_minor": 0,
  "metadata": {
    "colab": {
      "provenance": []
    },
    "kernelspec": {
      "name": "python3",
      "display_name": "Python 3"
    },
    "language_info": {
      "name": "python"
    }
  },
  "cells": [
    {
      "cell_type": "markdown",
      "source": [
        "<a href=\"https://github.com/hernansalinas/autogrades/tree/main/Evaluaciones/Evaluacion01_2023_I.ipynb\" target=\"_parent\"><img src=\"https://colab.research.google.com/assets/colab-badge.svg\" alt=\"Open In Colab\"/></a>\n"
      ],
      "metadata": {
        "id": "8ip-OkFt90Vf"
      }
    },
    {
      "cell_type": "markdown",
      "source": [
        "\n",
        "# Parcial 01: Metodos computacionales para fisicos \n",
        "### Fecha 3/30/23\n",
        "\n",
        "La entrega del examen es a través del github en la página del curso, en el directorio asociado a cada uno. \n",
        "\n",
        "## 1. (50%). Movimiento de una esfera de radio r en un fluido.\n",
        "\n",
        " Una esfera de radio $R$ que asciende o desciende por un fluido puede ser modelada a través de un modelo de partícula, sometida a tres fuerzas: el peso, el empuje y la fuerza rozamiento. Las  ecuaciones de posición (x) y velocidad (v) para un sistema de refencia úbicado en la base del fluido, pueden ser escritas como:\n",
        "\n",
        "\\begin{equation}\n",
        "x = \\frac{G}{\\alpha} \\left( 1+\\frac{\\alpha v_0}{G} \\right)(1-e^{-\\alpha t}) - \\frac{G}{\\alpha}t\n",
        "\\end{equation}\n",
        "\n",
        "\\begin{equation}\n",
        "v= \\left ( v_0 +\\frac{G}{\\alpha} \\right )e^{-\\alpha t} - \\frac{G}{\\alpha}\n",
        "\\end{equation}\n",
        "\n",
        "\n",
        "\n",
        "donde $G=\\left( 1-\\frac{\\rho_f}{\\rho} \\right)g$, con $\\rho_f$, $\\rho$ la densidad del fluido y la esfera respectivamente y $g=9.8$ la aceleración de la gravedad y $\\alpha$  una constante que depende del radio de la esfera, la viscosidad y la densidad.\n",
        "$\\alpha=\\frac{9\\eta}{2R^2\\rho}$.\n",
        "\n",
        "Suponga que una esferita de radio $R=2\\times10^{-5}m$ es lanzada verticalmente hacia arriba en el agua, con una rapidez de $v_0=0.01$m/s.\n",
        "Tomando la densidad del agua en  $\\rho_f =10000 kg/m^3$,  la densidad de la esfera en $\\rho=2670 kg/m^3$ y la viscosidad en $\\eta=0.001 kg/ms$.  Determine: \n",
        "\n",
        "1. El tiempo total en que la esfera asciende  y desciende. \n",
        "\n",
        "2. Determine la rapidez final, con la que llega nuevamente de donde fue lanzada. \n",
        "\n",
        "\n",
        "\n",
        "Para ello construya un programa en python que:\n",
        "- Permita calcular la posición como función del tiempo\n",
        "- Permita calcular la rapidez como función del tiempo\n",
        "- Cálcule  el tiempo total de subida y bajada empleando el método de la secante.\n",
        "\n",
        " \n",
        "\n",
        "\n",
        "\n",
        "## 2. (50%). Interpolación\n",
        "Para los siguientes datos de temperatura media como función del tiempo de los últimos años de  Bogotá y Barcelona ([Temperature_Bogota_Barcelona](https://raw.githubusercontent.com/hernansalinas/autogrades/main/Evaluaciones/dataset/Temperature_Bogota_Barcelona.csv)). Aplique el método de  hermite y spline cúbicos. Para ello realice lo siguiente:\n",
        "\n",
        "1. Leer el dataset desde la url, con el comando pd.read_csv.\n",
        "2. Adicionar una nueva columna AvgTempCelcius con la temperatura en grados celcius. $ C=(F-32)/1.8$\n",
        "3. Realizar un gráfico de AvgTempCelcius como función del año para la ciudad de Bogotá.\n",
        "4. Realizar un gráfico de AvgTempCelcius como función del año para la ciudad de Barcelona.\n",
        "4. Aplique el  metodos de interpolación de hermite para Bogotá y el metodo de interpolación de splines cubicos para Barcelona. \n",
        "\n",
        "\n",
        "Ayuda :\n",
        "\n",
        "| Comando | Descripción |\n",
        "| --- | --- |\n",
        "| pd.read_csv() | Lee un archivo CSV y lo convierte en un DataFrame de Pandas |\n",
        "| pd.read_excel() | Lee un archivo de Excel y lo convierte en un DataFrame de Pandas |\n",
        "| pd.read_json() | Lee un archivo JSON y lo convierte en un DataFrame de Pandas |\n",
        "| df.head() | Muestra las primeras filas del DataFrame |\n",
        "| df.tail() | Muestra las últimas filas del DataFrame |\n",
        "| df.info() | Muestra información sobre el DataFrame |\n",
        "| df.describe() | Muestra estadísticas descriptivas del DataFrame |\n",
        "| df.dropna() | Elimina filas con valores faltantes |\n",
        "| df.drop_duplicates() | Elimina filas duplicadas |\n",
        "| df.groupby() | Agrupa el DataFrame por una o más columnas |\n",
        "| df.sort_values() | Ordena el DataFrame por una o más columnas |\n",
        "| df.to_csv() | Guarda el DataFrame como un archivo CSV |\n",
        "| df.loc[condicion] | Crea una máscara booleana para seleccionar filas que cumplan con ciertas condiciones |\n",
        "| df[df[\"columna\"]== x] | Crea una máscara booleana y a la aplica al dataframe en caso de el valor de la columna coincida con la variable |\n",
        "\n",
        "\n",
        "Referencias: \n",
        "\n",
        "- Dataset tomado y modificado de : https://www.kaggle.com/sudalairajkumar/daily-temperature-of-major-cities\n",
        "\n",
        "- http://www.sc.ehu.es/sbweb/fisica3/fluidos/stokes_1/stokes_1.html\n",
        "- Lindemuth J. The effect of air resistance on falling balls. Am. J. Phys. 39, July 1971, pp. 757-759\n"
      ],
      "metadata": {
        "id": "Z0hjB-L8iuVi"
      }
    },
    {
      "cell_type": "markdown",
      "source": [
        "# Punto 1"
      ],
      "metadata": {
        "id": "ZQ09Hx8zfJ67"
      }
    },
    {
      "cell_type": "code",
      "source": [
        "import numpy as np # Llamar la libreria\n",
        "import matplotlib.pyplot as plt \n",
        "from scipy.optimize import newton,bisect\n",
        "import pandas as pd\n",
        "from scipy.interpolate import CubicHermiteSpline"
      ],
      "metadata": {
        "id": "7_v72JR-jGbl"
      },
      "execution_count": null,
      "outputs": []
    },
    {
      "cell_type": "markdown",
      "source": [
        "\\begin{equation}\n",
        "x = \\frac{G}{\\alpha^{2}} \\left( 1+\\frac{\\alpha v_0}{G} \\right)(1-e^{-\\alpha t}) - \\frac{G}{\\alpha}t\n",
        "\\end{equation}\n",
        "\n",
        "\\begin{equation}\n",
        "v= \\left ( v_0 +\\frac{G}{\\alpha} \\right )e^{-\\alpha t} - \\frac{G}{\\alpha}\n",
        "\\end{equation}"
      ],
      "metadata": {
        "id": "W98iqQGjsdxx"
      }
    },
    {
      "cell_type": "code",
      "source": [
        "def x_fluid(t,rho,rhof,R,v0,eta):# Funcion de la posicion en un fluido\n",
        "\n",
        "  T1= (G/(alpha**2))*(1+((alpha*v0)/G))\n",
        "  T2 = (1-(np.exp(-alpha*t)))\n",
        "  T3= (G/alpha)*t\n",
        "\n",
        "  return (T1*T2)-T3 \n",
        "\n",
        "\n"
      ],
      "metadata": {
        "id": "k3VfGk_vJKAS"
      },
      "execution_count": null,
      "outputs": []
    },
    {
      "cell_type": "code",
      "source": [
        "rho= 2670 #parametros\n",
        "rhof= 1000\n",
        "R= 2E-5\n",
        "v0= 0.01\n",
        "eta= 0.001\n",
        "\n",
        "G= (1-(rhof/rho))*(9.8)\n",
        "alpha = (9*eta)/ (2*(R**2)*rho)\n",
        "t= np.linspace(0,0.01,100)\n",
        "\n",
        "params = (t,rho,rhof,R,v0,eta)\n"
      ],
      "metadata": {
        "id": "oxaza2Hpgr4I"
      },
      "execution_count": null,
      "outputs": []
    },
    {
      "cell_type": "code",
      "source": [
        "plt.plot(t,x_fluid(*params))# Grafica"
      ],
      "metadata": {
        "colab": {
          "base_uri": "https://localhost:8080/",
          "height": 463
        },
        "id": "tSSRg9-5q7kb",
        "outputId": "f82ac441-ea2f-48d8-fa94-0c5b0c42aee0"
      },
      "execution_count": null,
      "outputs": [
        {
          "output_type": "execute_result",
          "data": {
            "text/plain": [
              "[<matplotlib.lines.Line2D at 0x7f77e4a8b8b0>]"
            ]
          },
          "metadata": {},
          "execution_count": 119
        },
        {
          "output_type": "display_data",
          "data": {
            "text/plain": [
              "<Figure size 640x480 with 1 Axes>"
            ],
            "image/png": "[encoded data removed]"
          },
          "metadata": {}
        }
      ]
    },
    {
      "cell_type": "markdown",
      "source": [],
      "metadata": {
        "id": "GEzWW6bpmOs4"
      }
    },
    {
      "cell_type": "code",
      "source": [
        "def v_fluid(t,rho,rhof,R,v0,eta):#Funcion de rapidez\n",
        "\n",
        "\n",
        "  G= (1-(rhof/rho))*(9.8)\n",
        "  alpha = (9*eta)/ (2*(R**2)*rho)\n",
        "\n",
        "\n",
        "  T1= (v0+(G/alpha))*(np.exp(-1*alpha*t))\n",
        "  T2= G/alpha\n",
        "\n",
        "  return T1-T2\n",
        "\n",
        "\n",
        "\n"
      ],
      "metadata": {
        "id": "DUVojmEGguhC"
      },
      "execution_count": null,
      "outputs": []
    },
    {
      "cell_type": "code",
      "source": [
        "\n",
        "# Sabemos que el tiempo total en el que la esfera asciende es el tiempo en el Vf= 0\n",
        "# Asi debemos encontrar un cero para la formula de la velocidad\n",
        "plt.plot(t,v_fluid(*params))"
      ],
      "metadata": {
        "colab": {
          "base_uri": "https://localhost:8080/",
          "height": 448
        },
        "id": "WijfS4NvkvvK",
        "outputId": "3ca7ac66-5ddd-4c9b-edd9-b4986d5ece30"
      },
      "execution_count": null,
      "outputs": [
        {
          "output_type": "execute_result",
          "data": {
            "text/plain": [
              "[<matplotlib.lines.Line2D at 0x7f77e47bbfd0>]"
            ]
          },
          "metadata": {},
          "execution_count": 121
        },
        {
          "output_type": "display_data",
          "data": {
            "text/plain": [
              "<Figure size 640x480 with 1 Axes>"
            ],
            "image/png": "[encoded data removed]"
          },
          "metadata": {}
        }
      ]
    },
    {
      "cell_type": "code",
      "source": [
        "type(v_fluid(*params))"
      ],
      "metadata": {
        "colab": {
          "base_uri": "https://localhost:8080/"
        },
        "id": "w7tnl9xCoVgW",
        "outputId": "1aa2bea0-c468-405f-aed1-ec7abd0b76bc"
      },
      "execution_count": null,
      "outputs": [
        {
          "output_type": "execute_result",
          "data": {
            "text/plain": [
              "numpy.ndarray"
            ]
          },
          "metadata": {},
          "execution_count": 122
        }
      ]
    },
    {
      "cell_type": "code",
      "source": [
        "# Con el metodo de Secante sacaremos el cero de la funcion velocidad\n",
        "x0= 0\n",
        "root= newton(v_fluid,x0,args=(rho,rhof,R,v0,eta))\n",
        "root # Este es el Tiempo desubida\n",
        "print(\"El tiempo de subida es \",root,\"segundos\")"
      ],
      "metadata": {
        "colab": {
          "base_uri": "https://localhost:8080/"
        },
        "id": "hGB8y9Wel17C",
        "outputId": "31084e1e-3d48-48ab-9cf5-b87f0fb4667c"
      },
      "execution_count": null,
      "outputs": [
        {
          "output_type": "stream",
          "name": "stdout",
          "text": [
            "El tiempo de subida es  0.0004897532566284483 segundos\n"
          ]
        }
      ]
    },
    {
      "cell_type": "code",
      "source": [
        "# Con el metodo de la Secante Sacaremos entonces los ceros de la posicion cuando esta regresa a 0\n",
        "x0_1= 0.001\n",
        "rootx= newton(x_fluid,x0_1,args=(rho,rhof,R,v0,eta))\n",
        "rootx"
      ],
      "metadata": {
        "colab": {
          "base_uri": "https://localhost:8080/"
        },
        "id": "wVTy5oArn5Tf",
        "outputId": "031c57db-e595-4f4e-a04e-a0ec516715de"
      },
      "execution_count": null,
      "outputs": [
        {
          "output_type": "execute_result",
          "data": {
            "text/plain": [
              "0.0018680511316362463"
            ]
          },
          "metadata": {},
          "execution_count": 132
        }
      ]
    },
    {
      "cell_type": "code",
      "source": [
        "print(\"El tiempo en el que regresa a 0 es \",rootx,\"segundos\")"
      ],
      "metadata": {
        "colab": {
          "base_uri": "https://localhost:8080/"
        },
        "id": "YgBLTppExSmf",
        "outputId": "5505cbc2-f9b7-47d9-c97b-ac52732fa803"
      },
      "execution_count": null,
      "outputs": [
        {
          "output_type": "stream",
          "name": "stdout",
          "text": [
            "El tiempo en el que regresa a 0 es  0.0018680511316362463 segundos\n"
          ]
        }
      ]
    },
    {
      "cell_type": "code",
      "source": [
        "# La rapidez con la que llega es\n",
        "params2= (rho,rhof,R,v0,eta)\n",
        "vf= v_fluid(rootx,*params2)\n",
        "vf"
      ],
      "metadata": {
        "colab": {
          "base_uri": "https://localhost:8080/"
        },
        "id": "rN__Bo71yGG-",
        "outputId": "12643f77-bdf6-43dc-bc6d-945c85fcc584"
      },
      "execution_count": null,
      "outputs": [
        {
          "output_type": "execute_result",
          "data": {
            "text/plain": [
              "-0.00145038382781048"
            ]
          },
          "metadata": {},
          "execution_count": 136
        }
      ]
    },
    {
      "cell_type": "markdown",
      "source": [
        "# Punto 2"
      ],
      "metadata": {
        "id": "7TWu-UP7yzh1"
      }
    },
    {
      "cell_type": "code",
      "source": [
        "url = \"https://raw.githubusercontent.com/hernansalinas/autogrades/main/Evaluaciones/dataset/Temperature_Bogota_Barcelona.csv\"\n",
        "datos= pd.read_csv(url)\n",
        "df= datos"
      ],
      "metadata": {
        "id": "iUotMG2py2Su"
      },
      "execution_count": null,
      "outputs": []
    },
    {
      "cell_type": "code",
      "source": [
        "df[\"AvgTempCelcius\"]= (df['AvgTemperature']-32)/1.8"
      ],
      "metadata": {
        "id": "ZD84BT6hzIW0"
      },
      "execution_count": null,
      "outputs": []
    },
    {
      "cell_type": "code",
      "source": [
        "df"
      ],
      "metadata": {
        "colab": {
          "base_uri": "https://localhost:8080/",
          "height": 1000
        },
        "id": "Qnxj8iTe1uJa",
        "outputId": "7a9d791c-386a-458c-e92d-224f9bc0fce1"
      },
      "execution_count": null,
      "outputs": [
        {
          "output_type": "execute_result",
          "data": {
            "text/plain": [
              "    Unnamed: 0  Year       City     Month        Day  AvgTemperature  \\\n",
              "0            0  1995  Barcelona  6.526027  15.720548       62.019178   \n",
              "1            1  1995     Bogota  6.526027  15.720548       54.963014   \n",
              "2            2  1996  Barcelona  6.513661  15.756831       61.125956   \n",
              "3            3  1996     Bogota  6.513661  15.756831       55.083333   \n",
              "4            4  1997  Barcelona  6.526027  15.720548       62.612329   \n",
              "5            5  1997     Bogota  6.526027  15.720548       56.231507   \n",
              "6            6  1998  Barcelona  6.526027  15.720548       60.273973   \n",
              "7            7  1998     Bogota  6.526027  15.720548       49.642466   \n",
              "8            8  1999  Barcelona  6.526027  15.720548       61.204658   \n",
              "9            9  1999     Bogota  6.526027  15.720548       52.231781   \n",
              "10          10  2000  Barcelona  6.513661  15.756831       60.069399   \n",
              "11          11  2000     Bogota  6.513661  15.756831       54.918579   \n",
              "12          12  2001  Barcelona  6.526027  15.720548       59.279452   \n",
              "13          13  2001     Bogota  6.526027  15.720548       55.416164   \n",
              "14          14  2002  Barcelona  6.526027  15.720548       58.044110   \n",
              "15          15  2002     Bogota  6.526027  15.720548       54.686849   \n",
              "16          16  2003  Barcelona  6.526027  15.720548       63.139452   \n",
              "17          17  2003     Bogota  6.526027  15.720548       54.973425   \n",
              "18          18  2004  Barcelona  6.513661  15.756831       62.875137   \n",
              "19          19  2004     Bogota  6.513661  15.756831       55.598087   \n",
              "20          20  2005  Barcelona  6.526027  15.720548       62.041918   \n",
              "21          21  2005     Bogota  6.526027  15.720548       56.010685   \n",
              "22          22  2006  Barcelona  6.526027  15.720548       61.985479   \n",
              "23          23  2006     Bogota  6.526027  15.720548       55.415890   \n",
              "24          24  2007  Barcelona  6.526027  15.720548       60.556164   \n",
              "25          25  2007     Bogota  6.526027  15.720548       54.667671   \n",
              "26          26  2008  Barcelona  6.513661  15.756831       59.651913   \n",
              "27          27  2008     Bogota  6.513661  15.756831       51.011475   \n",
              "28          28  2009  Barcelona  6.526027  15.720548       61.552055   \n",
              "29          29  2009     Bogota  6.526027  15.720548       56.073151   \n",
              "30          30  2010  Barcelona  6.526027  15.720548       60.667945   \n",
              "31          31  2010     Bogota  6.526027  15.720548       56.933699   \n",
              "32          32  2011  Barcelona  6.526027  15.720548       62.834795   \n",
              "33          33  2011     Bogota  6.526027  15.720548       56.803562   \n",
              "34          34  2012  Barcelona  6.513661  15.756831       63.032240   \n",
              "35          35  2012     Bogota  6.513661  15.756831       56.354645   \n",
              "36          36  2013  Barcelona  6.526027  15.720548       62.246575   \n",
              "37          37  2013     Bogota  6.526027  15.720548       56.840274   \n",
              "38          38  2014  Barcelona  6.526027  15.720548       62.437260   \n",
              "39          39  2014     Bogota  6.526027  15.720548       56.435616   \n",
              "40          40  2015  Barcelona  6.540984  15.759563       61.795082   \n",
              "41          41  2015     Bogota  6.540984  15.759563       56.621038   \n",
              "42          42  2016  Barcelona  6.513661  15.756831       60.800820   \n",
              "43          43  2016     Bogota  6.513661  15.756831       56.113388   \n",
              "44          44  2017  Barcelona  6.526027  15.720548       62.514795   \n",
              "45          45  2017     Bogota  6.526027  15.720548       57.110411   \n",
              "46          46  2018  Barcelona  6.526027  15.720548       61.391507   \n",
              "47          47  2018     Bogota  6.526027  15.720548       54.839726   \n",
              "48          48  2019  Barcelona  6.526027  15.720548       59.719178   \n",
              "49          49  2019     Bogota  6.526027  15.720548       55.087671   \n",
              "50          50  2020  Barcelona  2.738806  14.798507       55.437313   \n",
              "51          51  2020     Bogota  2.738806  14.798507       58.070149   \n",
              "\n",
              "    AvgTempCelcius  \n",
              "0        16.677321  \n",
              "1        12.757230  \n",
              "2        16.181087  \n",
              "3        12.824074  \n",
              "4        17.006849  \n",
              "5        13.461948  \n",
              "6        15.707763  \n",
              "7         9.801370  \n",
              "8        16.224810  \n",
              "9        11.239878  \n",
              "10       15.594111  \n",
              "11       12.732544  \n",
              "12       15.155251  \n",
              "13       13.008980  \n",
              "14       14.468950  \n",
              "15       12.603805  \n",
              "16       17.299696  \n",
              "17       12.763014  \n",
              "18       17.152854  \n",
              "19       13.110049  \n",
              "20       16.689954  \n",
              "21       13.339269  \n",
              "22       16.658600  \n",
              "23       13.008828  \n",
              "24       15.864536  \n",
              "25       12.593151  \n",
              "26       15.362174  \n",
              "27       10.561931  \n",
              "28       16.417808  \n",
              "29       13.373973  \n",
              "30       15.926636  \n",
              "31       13.852055  \n",
              "32       17.130441  \n",
              "33       13.779756  \n",
              "34       17.240134  \n",
              "35       13.530358  \n",
              "36       16.803653  \n",
              "37       13.800152  \n",
              "38       16.909589  \n",
              "39       13.575342  \n",
              "40       16.552823  \n",
              "41       13.678355  \n",
              "42       16.000455  \n",
              "43       13.396327  \n",
              "44       16.952664  \n",
              "45       13.950228  \n",
              "46       16.328615  \n",
              "47       12.688737  \n",
              "48       15.399543  \n",
              "49       12.826484  \n",
              "50       13.020730  \n",
              "51       14.483416  "
            ],
            "text/html": [
              "\n",
              "  <div id=\"df-30751c96-49dc-4e5d-ae77-5239a2dafda0\">\n",
              "    <div class=\"colab-df-container\">\n",
              "      <div>\n",
              "<style scoped>\n",
              "    .dataframe tbody tr th:only-of-type {\n",
              "        vertical-align: middle;\n",
              "    }\n",
              "\n",
              "    .dataframe tbody tr th {\n",
              "        vertical-align: top;\n",
              "    }\n",
              "\n",
              "    .dataframe thead th {\n",
              "        text-align: right;\n",
              "    }\n",
              "</style>\n",
              "<table border=\"1\" class=\"dataframe\">\n",
              "  <thead>\n",
              "    <tr style=\"text-align: right;\">\n",
              "      <th></th>\n",
              "      <th>Unnamed: 0</th>\n",
              "      <th>Year</th>\n",
              "      <th>City</th>\n",
              "      <th>Month</th>\n",
              "      <th>Day</th>\n",
              "      <th>AvgTemperature</th>\n",
              "      <th>AvgTempCelcius</th>\n",
              "    </tr>\n",
              "  </thead>\n",
              "  <tbody>\n",
              "    <tr>\n",
              "      <th>0</th>\n",
              "      <td>0</td>\n",
              "      <td>1995</td>\n",
              "      <td>Barcelona</td>\n",
              "      <td>6.526027</td>\n",
              "      <td>15.720548</td>\n",
              "      <td>62.019178</td>\n",
              "      <td>16.677321</td>\n",
              "    </tr>\n",
              "    <tr>\n",
              "      <th>1</th>\n",
              "      <td>1</td>\n",
              "      <td>1995</td>\n",
              "      <td>Bogota</td>\n",
              "      <td>6.526027</td>\n",
              "      <td>15.720548</td>\n",
              "      <td>54.963014</td>\n",
              "      <td>12.757230</td>\n",
              "    </tr>\n",
              "    <tr>\n",
              "      <th>2</th>\n",
              "      <td>2</td>\n",
              "      <td>1996</td>\n",
              "      <td>Barcelona</td>\n",
              "      <td>6.513661</td>\n",
              "      <td>15.756831</td>\n",
              "      <td>61.125956</td>\n",
              "      <td>16.181087</td>\n",
              "    </tr>\n",
              "    <tr>\n",
              "      <th>3</th>\n",
              "      <td>3</td>\n",
              "      <td>1996</td>\n",
              "      <td>Bogota</td>\n",
              "      <td>6.513661</td>\n",
              "      <td>15.756831</td>\n",
              "      <td>55.083333</td>\n",
              "      <td>12.824074</td>\n",
              "    </tr>\n",
              "    <tr>\n",
              "      <th>4</th>\n",
              "      <td>4</td>\n",
              "      <td>1997</td>\n",
              "      <td>Barcelona</td>\n",
              "      <td>6.526027</td>\n",
              "      <td>15.720548</td>\n",
              "      <td>62.612329</td>\n",
              "      <td>17.006849</td>\n",
              "    </tr>\n",
              "    <tr>\n",
              "      <th>5</th>\n",
              "      <td>5</td>\n",
              "      <td>1997</td>\n",
              "      <td>Bogota</td>\n",
              "      <td>6.526027</td>\n",
              "      <td>15.720548</td>\n",
              "      <td>56.231507</td>\n",
              "      <td>13.461948</td>\n",
              "    </tr>\n",
              "    <tr>\n",
              "      <th>6</th>\n",
              "      <td>6</td>\n",
              "      <td>1998</td>\n",
              "      <td>Barcelona</td>\n",
              "      <td>6.526027</td>\n",
              "      <td>15.720548</td>\n",
              "      <td>60.273973</td>\n",
              "      <td>15.707763</td>\n",
              "    </tr>\n",
              "    <tr>\n",
              "      <th>7</th>\n",
              "      <td>7</td>\n",
              "      <td>1998</td>\n",
              "      <td>Bogota</td>\n",
              "      <td>6.526027</td>\n",
              "      <td>15.720548</td>\n",
              "      <td>49.642466</td>\n",
              "      <td>9.801370</td>\n",
              "    </tr>\n",
              "    <tr>\n",
              "      <th>8</th>\n",
              "      <td>8</td>\n",
              "      <td>1999</td>\n",
              "      <td>Barcelona</td>\n",
              "      <td>6.526027</td>\n",
              "      <td>15.720548</td>\n",
              "      <td>61.204658</td>\n",
              "      <td>16.224810</td>\n",
              "    </tr>\n",
              "    <tr>\n",
              "      <th>9</th>\n",
              "      <td>9</td>\n",
              "      <td>1999</td>\n",
              "      <td>Bogota</td>\n",
              "      <td>6.526027</td>\n",
              "      <td>15.720548</td>\n",
              "      <td>52.231781</td>\n",
              "      <td>11.239878</td>\n",
              "    </tr>\n",
              "    <tr>\n",
              "      <th>10</th>\n",
              "      <td>10</td>\n",
              "      <td>2000</td>\n",
              "      <td>Barcelona</td>\n",
              "      <td>6.513661</td>\n",
              "      <td>15.756831</td>\n",
              "      <td>60.069399</td>\n",
              "      <td>15.594111</td>\n",
              "    </tr>\n",
              "    <tr>\n",
              "      <th>11</th>\n",
              "      <td>11</td>\n",
              "      <td>2000</td>\n",
              "      <td>Bogota</td>\n",
              "      <td>6.513661</td>\n",
              "      <td>15.756831</td>\n",
              "      <td>54.918579</td>\n",
              "      <td>12.732544</td>\n",
              "    </tr>\n",
              "    <tr>\n",
              "      <th>12</th>\n",
              "      <td>12</td>\n",
              "      <td>2001</td>\n",
              "      <td>Barcelona</td>\n",
              "      <td>6.526027</td>\n",
              "      <td>15.720548</td>\n",
              "      <td>59.279452</td>\n",
              "      <td>15.155251</td>\n",
              "    </tr>\n",
              "    <tr>\n",
              "      <th>13</th>\n",
              "      <td>13</td>\n",
              "      <td>2001</td>\n",
              "      <td>Bogota</td>\n",
              "      <td>6.526027</td>\n",
              "      <td>15.720548</td>\n",
              "      <td>55.416164</td>\n",
              "      <td>13.008980</td>\n",
              "    </tr>\n",
              "    <tr>\n",
              "      <th>14</th>\n",
              "      <td>14</td>\n",
              "      <td>2002</td>\n",
              "      <td>Barcelona</td>\n",
              "      <td>6.526027</td>\n",
              "      <td>15.720548</td>\n",
              "      <td>58.044110</td>\n",
              "      <td>14.468950</td>\n",
              "    </tr>\n",
              "    <tr>\n",
              "      <th>15</th>\n",
              "      <td>15</td>\n",
              "      <td>2002</td>\n",
              "      <td>Bogota</td>\n",
              "      <td>6.526027</td>\n",
              "      <td>15.720548</td>\n",
              "      <td>54.686849</td>\n",
              "      <td>12.603805</td>\n",
              "    </tr>\n",
              "    <tr>\n",
              "      <th>16</th>\n",
              "      <td>16</td>\n",
              "      <td>2003</td>\n",
              "      <td>Barcelona</td>\n",
              "      <td>6.526027</td>\n",
              "      <td>15.720548</td>\n",
              "      <td>63.139452</td>\n",
              "      <td>17.299696</td>\n",
              "    </tr>\n",
              "    <tr>\n",
              "      <th>17</th>\n",
              "      <td>17</td>\n",
              "      <td>2003</td>\n",
              "      <td>Bogota</td>\n",
              "      <td>6.526027</td>\n",
              "      <td>15.720548</td>\n",
              "      <td>54.973425</td>\n",
              "      <td>12.763014</td>\n",
              "    </tr>\n",
              "    <tr>\n",
              "      <th>18</th>\n",
              "      <td>18</td>\n",
              "      <td>2004</td>\n",
              "      <td>Barcelona</td>\n",
              "      <td>6.513661</td>\n",
              "      <td>15.756831</td>\n",
              "      <td>62.875137</td>\n",
              "      <td>17.152854</td>\n",
              "    </tr>\n",
              "    <tr>\n",
              "      <th>19</th>\n",
              "      <td>19</td>\n",
              "      <td>2004</td>\n",
              "      <td>Bogota</td>\n",
              "      <td>6.513661</td>\n",
              "      <td>15.756831</td>\n",
              "      <td>55.598087</td>\n",
              "      <td>13.110049</td>\n",
              "    </tr>\n",
              "    <tr>\n",
              "      <th>20</th>\n",
              "      <td>20</td>\n",
              "      <td>2005</td>\n",
              "      <td>Barcelona</td>\n",
              "      <td>6.526027</td>\n",
              "      <td>15.720548</td>\n",
              "      <td>62.041918</td>\n",
              "      <td>16.689954</td>\n",
              "    </tr>\n",
              "    <tr>\n",
              "      <th>21</th>\n",
              "      <td>21</td>\n",
              "      <td>2005</td>\n",
              "      <td>Bogota</td>\n",
              "      <td>6.526027</td>\n",
              "      <td>15.720548</td>\n",
              "      <td>56.010685</td>\n",
              "      <td>13.339269</td>\n",
              "    </tr>\n",
              "    <tr>\n",
              "      <th>22</th>\n",
              "      <td>22</td>\n",
              "      <td>2006</td>\n",
              "      <td>Barcelona</td>\n",
              "      <td>6.526027</td>\n",
              "      <td>15.720548</td>\n",
              "      <td>61.985479</td>\n",
              "      <td>16.658600</td>\n",
              "    </tr>\n",
              "    <tr>\n",
              "      <th>23</th>\n",
              "      <td>23</td>\n",
              "      <td>2006</td>\n",
              "      <td>Bogota</td>\n",
              "      <td>6.526027</td>\n",
              "      <td>15.720548</td>\n",
              "      <td>55.415890</td>\n",
              "      <td>13.008828</td>\n",
              "    </tr>\n",
              "    <tr>\n",
              "      <th>24</th>\n",
              "      <td>24</td>\n",
              "      <td>2007</td>\n",
              "      <td>Barcelona</td>\n",
              "      <td>6.526027</td>\n",
              "      <td>15.720548</td>\n",
              "      <td>60.556164</td>\n",
              "      <td>15.864536</td>\n",
              "    </tr>\n",
              "    <tr>\n",
              "      <th>25</th>\n",
              "      <td>25</td>\n",
              "      <td>2007</td>\n",
              "      <td>Bogota</td>\n",
              "      <td>6.526027</td>\n",
              "      <td>15.720548</td>\n",
              "      <td>54.667671</td>\n",
              "      <td>12.593151</td>\n",
              "    </tr>\n",
              "    <tr>\n",
              "      <th>26</th>\n",
              "      <td>26</td>\n",
              "      <td>2008</td>\n",
              "      <td>Barcelona</td>\n",
              "      <td>6.513661</td>\n",
              "      <td>15.756831</td>\n",
              "      <td>59.651913</td>\n",
              "      <td>15.362174</td>\n",
              "    </tr>\n",
              "    <tr>\n",
              "      <th>27</th>\n",
              "      <td>27</td>\n",
              "      <td>2008</td>\n",
              "      <td>Bogota</td>\n",
              "      <td>6.513661</td>\n",
              "      <td>15.756831</td>\n",
              "      <td>51.011475</td>\n",
              "      <td>10.561931</td>\n",
              "    </tr>\n",
              "    <tr>\n",
              "      <th>28</th>\n",
              "      <td>28</td>\n",
              "      <td>2009</td>\n",
              "      <td>Barcelona</td>\n",
              "      <td>6.526027</td>\n",
              "      <td>15.720548</td>\n",
              "      <td>61.552055</td>\n",
              "      <td>16.417808</td>\n",
              "    </tr>\n",
              "    <tr>\n",
              "      <th>29</th>\n",
              "      <td>29</td>\n",
              "      <td>2009</td>\n",
              "      <td>Bogota</td>\n",
              "      <td>6.526027</td>\n",
              "      <td>15.720548</td>\n",
              "      <td>56.073151</td>\n",
              "      <td>13.373973</td>\n",
              "    </tr>\n",
              "    <tr>\n",
              "      <th>30</th>\n",
              "      <td>30</td>\n",
              "      <td>2010</td>\n",
              "      <td>Barcelona</td>\n",
              "      <td>6.526027</td>\n",
              "      <td>15.720548</td>\n",
              "      <td>60.667945</td>\n",
              "      <td>15.926636</td>\n",
              "    </tr>\n",
              "    <tr>\n",
              "      <th>31</th>\n",
              "      <td>31</td>\n",
              "      <td>2010</td>\n",
              "      <td>Bogota</td>\n",
              "      <td>6.526027</td>\n",
              "      <td>15.720548</td>\n",
              "      <td>56.933699</td>\n",
              "      <td>13.852055</td>\n",
              "    </tr>\n",
              "    <tr>\n",
              "      <th>32</th>\n",
              "      <td>32</td>\n",
              "      <td>2011</td>\n",
              "      <td>Barcelona</td>\n",
              "      <td>6.526027</td>\n",
              "      <td>15.720548</td>\n",
              "      <td>62.834795</td>\n",
              "      <td>17.130441</td>\n",
              "    </tr>\n",
              "    <tr>\n",
              "      <th>33</th>\n",
              "      <td>33</td>\n",
              "      <td>2011</td>\n",
              "      <td>Bogota</td>\n",
              "      <td>6.526027</td>\n",
              "      <td>15.720548</td>\n",
              "      <td>56.803562</td>\n",
              "      <td>13.779756</td>\n",
              "    </tr>\n",
              "    <tr>\n",
              "      <th>34</th>\n",
              "      <td>34</td>\n",
              "      <td>2012</td>\n",
              "      <td>Barcelona</td>\n",
              "      <td>6.513661</td>\n",
              "      <td>15.756831</td>\n",
              "      <td>63.032240</td>\n",
              "      <td>17.240134</td>\n",
              "    </tr>\n",
              "    <tr>\n",
              "      <th>35</th>\n",
              "      <td>35</td>\n",
              "      <td>2012</td>\n",
              "      <td>Bogota</td>\n",
              "      <td>6.513661</td>\n",
              "      <td>15.756831</td>\n",
              "      <td>56.354645</td>\n",
              "      <td>13.530358</td>\n",
              "    </tr>\n",
              "    <tr>\n",
              "      <th>36</th>\n",
              "      <td>36</td>\n",
              "      <td>2013</td>\n",
              "      <td>Barcelona</td>\n",
              "      <td>6.526027</td>\n",
              "      <td>15.720548</td>\n",
              "      <td>62.246575</td>\n",
              "      <td>16.803653</td>\n",
              "    </tr>\n",
              "    <tr>\n",
              "      <th>37</th>\n",
              "      <td>37</td>\n",
              "      <td>2013</td>\n",
              "      <td>Bogota</td>\n",
              "      <td>6.526027</td>\n",
              "      <td>15.720548</td>\n",
              "      <td>56.840274</td>\n",
              "      <td>13.800152</td>\n",
              "    </tr>\n",
              "    <tr>\n",
              "      <th>38</th>\n",
              "      <td>38</td>\n",
              "      <td>2014</td>\n",
              "      <td>Barcelona</td>\n",
              "      <td>6.526027</td>\n",
              "      <td>15.720548</td>\n",
              "      <td>62.437260</td>\n",
              "      <td>16.909589</td>\n",
              "    </tr>\n",
              "    <tr>\n",
              "      <th>39</th>\n",
              "      <td>39</td>\n",
              "      <td>2014</td>\n",
              "      <td>Bogota</td>\n",
              "      <td>6.526027</td>\n",
              "      <td>15.720548</td>\n",
              "      <td>56.435616</td>\n",
              "      <td>13.575342</td>\n",
              "    </tr>\n",
              "    <tr>\n",
              "      <th>40</th>\n",
              "      <td>40</td>\n",
              "      <td>2015</td>\n",
              "      <td>Barcelona</td>\n",
              "      <td>6.540984</td>\n",
              "      <td>15.759563</td>\n",
              "      <td>61.795082</td>\n",
              "      <td>16.552823</td>\n",
              "    </tr>\n",
              "    <tr>\n",
              "      <th>41</th>\n",
              "      <td>41</td>\n",
              "      <td>2015</td>\n",
              "      <td>Bogota</td>\n",
              "      <td>6.540984</td>\n",
              "      <td>15.759563</td>\n",
              "      <td>56.621038</td>\n",
              "      <td>13.678355</td>\n",
              "    </tr>\n",
              "    <tr>\n",
              "      <th>42</th>\n",
              "      <td>42</td>\n",
              "      <td>2016</td>\n",
              "      <td>Barcelona</td>\n",
              "      <td>6.513661</td>\n",
              "      <td>15.756831</td>\n",
              "      <td>60.800820</td>\n",
              "      <td>16.000455</td>\n",
              "    </tr>\n",
              "    <tr>\n",
              "      <th>43</th>\n",
              "      <td>43</td>\n",
              "      <td>2016</td>\n",
              "      <td>Bogota</td>\n",
              "      <td>6.513661</td>\n",
              "      <td>15.756831</td>\n",
              "      <td>56.113388</td>\n",
              "      <td>13.396327</td>\n",
              "    </tr>\n",
              "    <tr>\n",
              "      <th>44</th>\n",
              "      <td>44</td>\n",
              "      <td>2017</td>\n",
              "      <td>Barcelona</td>\n",
              "      <td>6.526027</td>\n",
              "      <td>15.720548</td>\n",
              "      <td>62.514795</td>\n",
              "      <td>16.952664</td>\n",
              "    </tr>\n",
              "    <tr>\n",
              "      <th>45</th>\n",
              "      <td>45</td>\n",
              "      <td>2017</td>\n",
              "      <td>Bogota</td>\n",
              "      <td>6.526027</td>\n",
              "      <td>15.720548</td>\n",
              "      <td>57.110411</td>\n",
              "      <td>13.950228</td>\n",
              "    </tr>\n",
              "    <tr>\n",
              "      <th>46</th>\n",
              "      <td>46</td>\n",
              "      <td>2018</td>\n",
              "      <td>Barcelona</td>\n",
              "      <td>6.526027</td>\n",
              "      <td>15.720548</td>\n",
              "      <td>61.391507</td>\n",
              "      <td>16.328615</td>\n",
              "    </tr>\n",
              "    <tr>\n",
              "      <th>47</th>\n",
              "      <td>47</td>\n",
              "      <td>2018</td>\n",
              "      <td>Bogota</td>\n",
              "      <td>6.526027</td>\n",
              "      <td>15.720548</td>\n",
              "      <td>54.839726</td>\n",
              "      <td>12.688737</td>\n",
              "    </tr>\n",
              "    <tr>\n",
              "      <th>48</th>\n",
              "      <td>48</td>\n",
              "      <td>2019</td>\n",
              "      <td>Barcelona</td>\n",
              "      <td>6.526027</td>\n",
              "      <td>15.720548</td>\n",
              "      <td>59.719178</td>\n",
              "      <td>15.399543</td>\n",
              "    </tr>\n",
              "    <tr>\n",
              "      <th>49</th>\n",
              "      <td>49</td>\n",
              "      <td>2019</td>\n",
              "      <td>Bogota</td>\n",
              "      <td>6.526027</td>\n",
              "      <td>15.720548</td>\n",
              "      <td>55.087671</td>\n",
              "      <td>12.826484</td>\n",
              "    </tr>\n",
              "    <tr>\n",
              "      <th>50</th>\n",
              "      <td>50</td>\n",
              "      <td>2020</td>\n",
              "      <td>Barcelona</td>\n",
              "      <td>2.738806</td>\n",
              "      <td>14.798507</td>\n",
              "      <td>55.437313</td>\n",
              "      <td>13.020730</td>\n",
              "    </tr>\n",
              "    <tr>\n",
              "      <th>51</th>\n",
              "      <td>51</td>\n",
              "      <td>2020</td>\n",
              "      <td>Bogota</td>\n",
              "      <td>2.738806</td>\n",
              "      <td>14.798507</td>\n",
              "      <td>58.070149</td>\n",
              "      <td>14.483416</td>\n",
              "    </tr>\n",
              "  </tbody>\n",
              "</table>\n",
              "</div>\n",
              "      <button class=\"colab-df-convert\" onclick=\"convertToInteractive('df-30751c96-49dc-4e5d-ae77-5239a2dafda0')\"\n",
              "              title=\"Convert this dataframe to an interactive table.\"\n",
              "              style=\"display:none;\">\n",
              "        \n",
              "  <svg xmlns=\"http://www.w3.org/2000/svg\" height=\"24px\"viewBox=\"0 0 24 24\"\n",
              "       width=\"24px\">\n",
              "    <path d=\"M0 0h24v24H0V0z\" fill=\"none\"/>\n",
              "    <path d=\"M18.56 5.44l.94 2.06.94-2.06 2.06-.94-2.06-.94-.94-2.06-.94 2.06-2.06.94zm-11 1L8.5 8.5l.94-2.06 2.06-.94-2.06-.94L8.5 2.5l-.94 2.06-2.06.94zm10 10l.94 2.06.94-2.06 2.06-.94-2.06-.94-.94-2.06-.94 2.06-2.06.94z\"/><path d=\"M17.41 7.96l-1.37-1.37c-.4-.4-.92-.59-1.43-.59-.52 0-1.04.2-1.43.59L10.3 9.45l-7.72 7.72c-.78.78-.78 2.05 0 2.83L4 21.41c.39.39.9.59 1.41.59.51 0 1.02-.2 1.41-.59l7.78-7.78 2.81-2.81c.8-.78.8-2.07 0-2.86zM5.41 20L4 18.59l7.72-7.72 1.47 1.35L5.41 20z\"/>\n",
              "  </svg>\n",
              "      </button>\n",
              "      \n",
              "  <style>\n",
              "    .colab-df-container {\n",
              "      display:flex;\n",
              "      flex-wrap:wrap;\n",
              "      gap: 12px;\n",
              "    }\n",
              "\n",
              "    .colab-df-convert {\n",
              "      background-color: #E8F0FE;\n",
              "      border: none;\n",
              "      border-radius: 50%;\n",
              "      cursor: pointer;\n",
              "      display: none;\n",
              "      fill: #1967D2;\n",
              "      height: 32px;\n",
              "      padding: 0 0 0 0;\n",
              "      width: 32px;\n",
              "    }\n",
              "\n",
              "    .colab-df-convert:hover {\n",
              "      background-color: #E2EBFA;\n",
              "      box-shadow: 0px 1px 2px rgba(60, 64, 67, 0.3), 0px 1px 3px 1px rgba(60, 64, 67, 0.15);\n",
              "      fill: #174EA6;\n",
              "    }\n",
              "\n",
              "    [theme=dark] .colab-df-convert {\n",
              "      background-color: #3B4455;\n",
              "      fill: #D2E3FC;\n",
              "    }\n",
              "\n",
              "    [theme=dark] .colab-df-convert:hover {\n",
              "      background-color: #434B5C;\n",
              "      box-shadow: 0px 1px 3px 1px rgba(0, 0, 0, 0.15);\n",
              "      filter: drop-shadow(0px 1px 2px rgba(0, 0, 0, 0.3));\n",
              "      fill: #FFFFFF;\n",
              "    }\n",
              "  </style>\n",
              "\n",
              "      <script>\n",
              "        const buttonEl =\n",
              "          document.querySelector('#df-30751c96-49dc-4e5d-ae77-5239a2dafda0 button.colab-df-convert');\n",
              "        buttonEl.style.display =\n",
              "          google.colab.kernel.accessAllowed ? 'block' : 'none';\n",
              "\n",
              "        async function convertToInteractive(key) {\n",
              "          const element = document.querySelector('#df-30751c96-49dc-4e5d-ae77-5239a2dafda0');\n",
              "          const dataTable =\n",
              "            await google.colab.kernel.invokeFunction('convertToInteractive',\n",
              "                                                     [key], {});\n",
              "          if (!dataTable) return;\n",
              "\n",
              "          const docLinkHtml = 'Like what you see? Visit the ' +\n",
              "            '<a target=\"_blank\" href=https://colab.research.google.com/notebooks/data_table.ipynb>data table notebook</a>'\n",
              "            + ' to learn more about interactive tables.';\n",
              "          element.innerHTML = '';\n",
              "          dataTable['output_type'] = 'display_data';\n",
              "          await google.colab.output.renderOutput(dataTable, element);\n",
              "          const docLink = document.createElement('div');\n",
              "          docLink.innerHTML = docLinkHtml;\n",
              "          element.appendChild(docLink);\n",
              "        }\n",
              "      </script>\n",
              "    </div>\n",
              "  </div>\n",
              "  "
            ]
          },
          "metadata": {},
          "execution_count": 157
        }
      ]
    },
    {
      "cell_type": "code",
      "source": [
        "copia = df.copy()\n",
        "\n",
        "Bogota_df= copia[copia['City']== \"Bogota\"]\n",
        "\n",
        "\n"
      ],
      "metadata": {
        "id": "scf7QEPw1u3I"
      },
      "execution_count": null,
      "outputs": []
    },
    {
      "cell_type": "code",
      "source": [
        "plt.plot(Bogota_df['Year'],Bogota_df['AvgTempCelcius'])"
      ],
      "metadata": {
        "colab": {
          "base_uri": "https://localhost:8080/",
          "height": 448
        },
        "id": "FqnXy-JP2mEa",
        "outputId": "5db3fe3a-d52c-40e2-857d-2c0c40d1f0d9"
      },
      "execution_count": null,
      "outputs": [
        {
          "output_type": "execute_result",
          "data": {
            "text/plain": [
              "[<matplotlib.lines.Line2D at 0x7f77e4be1310>]"
            ]
          },
          "metadata": {},
          "execution_count": 159
        },
        {
          "output_type": "display_data",
          "data": {
            "text/plain": [
              "<Figure size 640x480 with 1 Axes>"
            ],
            "image/png": "[encoded data removed]"
          },
          "metadata": {}
        }
      ]
    },
    {
      "cell_type": "code",
      "source": [
        "Barcelona_Df= copia[copia['City']== \"Barcelona\"]\n",
        "plt.plot(Barcelona_Df['Year'],Barcelona_Df['AvgTempCelcius'])"
      ],
      "metadata": {
        "colab": {
          "base_uri": "https://localhost:8080/",
          "height": 448
        },
        "id": "ApP1leKO3g5f",
        "outputId": "c6f5f2cc-9a44-4e1c-cb57-5310b549a487"
      },
      "execution_count": null,
      "outputs": [
        {
          "output_type": "execute_result",
          "data": {
            "text/plain": [
              "[<matplotlib.lines.Line2D at 0x7f77e449f820>]"
            ]
          },
          "metadata": {},
          "execution_count": 162
        },
        {
          "output_type": "display_data",
          "data": {
            "text/plain": [
              "<Figure size 640x480 with 1 Axes>"
            ],
            "image/png": "[encoded data removed]"
          },
          "metadata": {}
        }
      ]
    },
    {
      "cell_type": "code",
      "source": [],
      "metadata": {
        "id": "bSS1AtOF4f4V"
      },
      "execution_count": null,
      "outputs": []
    }
  ]
}