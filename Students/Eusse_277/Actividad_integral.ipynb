{
  "nbformat": 4,
  "nbformat_minor": 0,
  "metadata": {
    "colab": {
      "provenance": []
    },
    "kernelspec": {
      "name": "python3",
      "display_name": "Python 3"
    },
    "language_info": {
      "name": "python"
    }
  },
  "cells": [
    {
      "cell_type": "markdown",
      "source": [
        "# Actividad\n",
        "Elaborar un programa en python que permita calcular la integral de una función entre el intervalo a, b. para ello debera realizar lo siguiente:\n",
        "## Realizar en notebook de collab\n",
        "Deducir la ecuación general del metodo del trapecio.\n",
        "Construir un funcion llamada integral_trapz que reciba como argumento una función y el intervalo a, b. El numero de intervalos N será un argumento opcional, defina por defecto N=10. La función deberá retornar el valor de la integral.\n",
        "Comparar la solución con la libreria de scipy https://docs.scipy.org/doc//scipy-1.4.1/reference/generated/scipy.integrate.trapz.html\n",
        "### Construir un programa en python con la función anterior que realice lo siguiente:\n",
        "Generalice el programa para que la funcion pueda ser pasada como parametro en terminal, junto con el parametro a, b. la ejecucion debera ser: python integral func a b, Ejemplo de ejcucion: python x**2+1 1 5\n",
        "Para pasar los parametros consulte la libreria sys de python."
      ],
      "metadata": {
        "id": "e4S0f0aIYcLb"
      }
    },
    {
      "cell_type": "code",
      "source": [
        "import numpy as np\n",
        "from scipy.integrate import trapz\n"
      ],
      "metadata": {
        "id": "jPIuA7TYYpjR"
      },
      "execution_count": null,
      "outputs": []
    },
    {
      "cell_type": "code",
      "execution_count": null,
      "metadata": {
        "id": "0M779PARYbPj"
      },
      "outputs": [],
      "source": [
        "f = lambda x: x**2\n",
        "\n",
        "def integral(f,a,b,N=10):\n",
        "\n",
        "\n",
        "  h= (b-a)/N\n",
        "  interval = np.arange(a,b,h)\n",
        "\n",
        "  F= f(interval)\n",
        "  suma = np.sum(F)\n",
        "  suma\n",
        "  Area= (h/2)*(f(a)+f(b))+h*suma\n",
        "  return Area"
      ]
    },
    {
      "cell_type": "code",
      "source": [
        "integral(f,0,1,10)"
      ],
      "metadata": {
        "colab": {
          "base_uri": "https://localhost:8080/"
        },
        "id": "h7bw3050qSqp",
        "outputId": "f6fae3fc-b289-4d30-fa9d-0ad69c32ea34"
      },
      "execution_count": null,
      "outputs": [
        {
          "output_type": "execute_result",
          "data": {
            "text/plain": [
              "0.3350000000000001"
            ]
          },
          "metadata": {},
          "execution_count": 3
        }
      ]
    },
    {
      "cell_type": "code",
      "source": [
        "a= 0\n",
        "b= 1\n",
        "N = 10\n",
        "x = np.linspace(a,b,N)\n",
        "integ= trapz(f(x),x)\n",
        "integ\n"
      ],
      "metadata": {
        "colab": {
          "base_uri": "https://localhost:8080/"
        },
        "id": "2CrzQzOviPvU",
        "outputId": "83298669-911e-4c69-b150-d602700cf5cb"
      },
      "execution_count": null,
      "outputs": [
        {
          "output_type": "execute_result",
          "data": {
            "text/plain": [
              "0.33539094650205764"
            ]
          },
          "metadata": {},
          "execution_count": 4
        }
      ]
    }
  ]
}