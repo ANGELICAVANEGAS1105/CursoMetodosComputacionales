{
  "cells": [
    {
      "cell_type": "markdown",
      "metadata": {
        "id": "eIZ2Sde65031"
      },
      "source": [
        "<a href=\"https://colab.research.google.com/github/hernansalinas/autogrades/blob/main/Laboratorios_Taller/Lab05_errores.ipynb\" target=\"_parent\"><img src=\"https://colab.research.google.com/assets/colab-badge.svg\" alt=\"Open In Colab\"/></a>"
      ]
    },
    {
      "cell_type": "markdown",
      "metadata": {
        "id": "ifkkjBLv1XCU"
      },
      "source": [
        "\n",
        "## Exponencial, serie alternante (serieEn)\n",
        "Objetivo: Analizar el uso de la cancelación substractiva\n",
        "\n",
        "\n",
        "Copia textual del libro  [Computational Physics. ](https://www.dropbox.com/s/n06ul2r4l65khl6/Computational%20Physics%20-%20Problem%20Solving%20with%20Computers%2C%203527406263.pdf?dl=0)\n",
        "\n",
        "- Write a program that calculates $e^{-x}$ \n",
        "\n",
        "\\begin{equation}\n",
        "e^{-x}=\\sum_{n=0}^{N}  (-1)^n \\frac{x^{n}}{n!}\n",
        "\\end{equation}\n",
        "\n",
        "\n",
        "- Calculate your series for $x \\le 1$ and compare it to the built-in function\n",
        "exp(x) (you may assume that the built-in exponential function is exact).\n",
        "You should pick an N for which the next term in the series is no more\n",
        "than $10^{-7}$ of the sum up to that point\n",
        "\n",
        "\\begin{equation}\n",
        "\\left| \\frac{(-x)^{N+1}}{(N+1)!} \\right | \\le \\left| 10^{-7} \\sum_{N=0}^{N} \\frac{(-x)^{n}}{n!} \\right|\n",
        "\\end{equation}\n",
        "\n",
        "- Examine the terms in the series for $x\\approx 10$ and observe the significant subtractive cancellations that occur when large terms add together to give small answers. In particular, print out the near-perfect cancellation\n",
        "at $n \\approx x − 1$.\n",
        "\n",
        "- See if better precision is obtained by being clever and using exp(−x) = 1/ exp(x) for large x values. This eliminates subtractive cancellation, but does not eliminate all roundoff errors\n",
        "\n",
        "- By progressively increasing x from 1 to 10, and then from 10 to 100, use your program to determine experimentally when the series starts to lose accuracy, and when the series no longer converges\n",
        "\n",
        "- Make a series of graphs of the error versus N for different values of x.\n",
        "\n",
        "\n",
        "## Cancelación sustractiva\n",
        "\n",
        "\n",
        "\n",
        "**serieSn**. Un ejemplo de la cancelacion substractiva es en la suma de series alternantes. Considere la serie $\\mathrm{S}_N$,  escrita  matematicamente de tres formas diferentes:\n",
        "\n",
        "- \n",
        "\\begin{equation}\n",
        "\\mathrm{S}_N^{(1)} = \\sum_{n = 1}^{2N} (-1)^n \\frac{n}{n+1} \n",
        "\\end{equation}\n",
        "\n",
        "- Sumando números pares e impares.\n",
        "\n",
        "\\begin{equation}\n",
        "\\mathrm{S}_N^{(2)} = -\\sum_{n = 1}^{N}\\frac{2n-1}{2n} + \\sum_{n=1}^{N} \\frac{2n}{2n+1}\n",
        "\\end{equation}\n",
        "\n",
        "- Combinando las series de una forma analítica\n",
        "\n",
        "\\begin{equation}\n",
        "\\mathrm{S}_N^{(3)} = \\sum_{n = 1}^{N}\\frac{1}{2n(2n+1)}\n",
        "\\end{equation}\n",
        "\n",
        "\n",
        "\n",
        "Las tres sumas $\\mathrm{S}_N^{(1)}$, $\\mathrm{S}_N^{(2)}$ y $\\mathrm{S}_N^{(3)}$ son matemáticamente iguales, pero los resultados  pueden tener resultados numéricos diferentes.\n",
        "\n",
        "\n",
        "- Escribir un programa que realice el cálculo de $\\mathrm{S}_N^{(1)}$, $\\mathrm{S}_N^{(2)}$ y $\\mathrm{S}_N^{(3)}$\n",
        "- Estudiar la convergencia de la serie para los tres casos.\n",
        "- Considere  que $S_N^{(3)}$ es la solución exacta, realizar dos graficos log-log, del error relativo en función \n",
        "del número de términos ($\\mathrm{Log_{10}} E$ VS $\\mathrm{Log_{10}} N$), para $S_N^{(1)}$ y $S_N^{(2)}$. Donde,  $E = |(S_N^{(i)} - S_N^{(3)})/S_N^{(3)}|$, i = 1, 2. Considere valores de $N = 1\\times 10^{6}$.\n",
        "- Analizar y discutir los resultados. Tenga en cuenta la discusión realizada sobre teoría de errores en la página \n",
        "39 del libro del libro [Computational Physics. ](https://www.dropbox.com/s/n06ul2r4l65khl6/Computational%20Physics%20-%20Problem%20Solving%20with%20Computers%2C%203527406263.pdf?dl=0)\n",
        "\n",
        "\n"
      ]
    },
    {
      "cell_type": "code",
      "source": [
        "import matplotlib.pyplot as plt\n",
        "import numpy as np\n",
        "def expo(x,N): # esta funcion acepta un numero para x y otro para N que es el numero de sumas que se hacen dentro de la sumatoria\n",
        "  \n",
        "  n= np.arange(0,N).astype(int) #Genera un vector con el numero de potencias que se van a usar en la serie en funcion de N\n",
        "  S= ((-1)**n)# Genero el vector que alterna los signos\n",
        "  pot_x= x**n # saco las potencias para los diferentes n\n",
        "  fac_= []#Genero una lista vacia\n",
        "  for i in range(0,len(n)): #Saco el factorial para cada numero entre cero y el numero de n\n",
        "    fact= np.math.factorial(i)\n",
        "    fac_.append(fact)# agrego el resultado a la lista vacia\n",
        "\n",
        "  v_arra = np.array(fac_) #lo transformo en un vector\n",
        "  suma = ((S*pot_x)/(v_arra)).sum() #hago la sumatoria\n",
        "  return suma\n"
      ],
      "metadata": {
        "id": "sh17hNM76wjt"
      },
      "execution_count": null,
      "outputs": []
    },
    {
      "cell_type": "code",
      "source": [
        "expo(2,13)\n"
      ],
      "metadata": {
        "colab": {
          "base_uri": "https://localhost:8080/"
        },
        "id": "3H2WYKe18Im4",
        "outputId": "8acb750e-008f-471f-a55b-9dab064a3ccb"
      },
      "execution_count": null,
      "outputs": [
        {
          "output_type": "execute_result",
          "data": {
            "text/plain": [
              "0.13533643311421095"
            ]
          },
          "metadata": {},
          "execution_count": 91
        }
      ]
    },
    {
      "cell_type": "code",
      "source": [
        "e= np.exp(-2)\n",
        "e"
      ],
      "metadata": {
        "colab": {
          "base_uri": "https://localhost:8080/"
        },
        "id": "RYFS4UujDhSc",
        "outputId": "877a9f57-591c-4b71-e360-369b162a04b2"
      },
      "execution_count": null,
      "outputs": [
        {
          "output_type": "execute_result",
          "data": {
            "text/plain": [
              "0.1353352832366127"
            ]
          },
          "metadata": {},
          "execution_count": 92
        }
      ]
    },
    {
      "cell_type": "code",
      "source": [
        "def presi_exp(x): # esta funcion saca los valores de N para los cuales la presicion es de almenos 1E(-7) comparada con la funcion np.exp(x)\n",
        "  N=0\n",
        "  while True: # estra al ciclo\n",
        "\n",
        "    A= abs((-x)**N+1)/abs(np.math.factorial(N+1))# a la variable A se le cuarda la operacion de la formula\n",
        "    B= abs((10**-7)*expo(x,N)) # a la variable B guarda el producto de mi funcion por el error sugerido\n",
        "    if A <= B:# hago la desigualdad si se cumple rompe el siclo\n",
        "      break\n",
        "    else:  #sino entonces a lo que hay en N sumarle 1\n",
        "      N += 1\n",
        "  return N\n",
        "   \n",
        "presi_exp(-2)"
      ],
      "metadata": {
        "colab": {
          "base_uri": "https://localhost:8080/"
        },
        "id": "jWmxn3CbFdDR",
        "outputId": "ec273cc0-b25a-4b19-93ec-41efde357308"
      },
      "execution_count": null,
      "outputs": [
        {
          "output_type": "execute_result",
          "data": {
            "text/plain": [
              "12"
            ]
          },
          "metadata": {},
          "execution_count": 93
        }
      ]
    },
    {
      "cell_type": "code",
      "source": [
        "print(expo(3,23)) # se calcula con la serie y con la funcion de numpy la misma exponencial y se muestra\n",
        "a= np.exp(-3)\n",
        "a\n",
        "error= expo(3,15)-np.exp(-3)\n",
        "error"
      ],
      "metadata": {
        "colab": {
          "base_uri": "https://localhost:8080/"
        },
        "id": "KAN6IKQp2t7D",
        "outputId": "9d3bc0f7-6647-42e6-ffb3-ce19a83d83f8"
      },
      "execution_count": null,
      "outputs": [
        {
          "output_type": "stream",
          "name": "stdout",
          "text": [
            "0.049787068371099356\n"
          ]
        },
        {
          "output_type": "execute_result",
          "data": {
            "text/plain": [
              "9.226297292365404e-06"
            ]
          },
          "metadata": {},
          "execution_count": 94
        }
      ]
    },
    {
      "cell_type": "code",
      "source": [
        "\n",
        "x= np.linspace(0,10,100)\n",
        "lista = [expo(i,presi_exp(i))for i in x ]\n",
        "lista\n",
        "\n"
      ],
      "metadata": {
        "id": "Ol9vHTH2HjMl",
        "colab": {
          "base_uri": "https://localhost:8080/"
        },
        "outputId": "83ba63db-e955-4cdb-e353-c789ff750a12"
      },
      "execution_count": null,
      "outputs": [
        {
          "output_type": "execute_result",
          "data": {
            "text/plain": [
              "[1.0,\n",
              " 0.9039239022952824,\n",
              " 0.8170784211407007,\n",
              " 0.7385767149170471,\n",
              " 0.6676171462630145,\n",
              " 0.6034750958327012,\n",
              " 0.5454955620744008,\n",
              " 0.4930864706482456,\n",
              " 0.4457126235588303,\n",
              " 0.4028902234428212,\n",
              " 0.3641849293380613,\n",
              " 0.32919306083311084,\n",
              " 0.29756559884722844,\n",
              " 0.2689764369203202,\n",
              " 0.24313415516517864,\n",
              " 0.21977491521746587,\n",
              " 0.19865984379270016,\n",
              " 0.1795734758132057,\n",
              " 0.16232056707549528,\n",
              " 0.14672538682741812,\n",
              " 0.13262869455266868,\n",
              " 0.11988627720652857,\n",
              " 0.10836812998998556,\n",
              " 0.09795641617436956,\n",
              " 0.08854511384372143,\n",
              " 0.08003798491045822,\n",
              " 0.07234838338544955,\n",
              " 0.06539746555192333,\n",
              " 0.05911425771243999,\n",
              " 0.05343477288033575,\n",
              " 0.04830093676474081,\n",
              " 0.043660446346680225,\n",
              " 0.039465738101044284,\n",
              " 0.035674053912332505,\n",
              " 0.032246556887423734,\n",
              " 0.02914841746055923,\n",
              " 0.026347990787945398,\n",
              " 0.023816587295956267,\n",
              " 0.021528397360765505,\n",
              " 0.019459995572996738,\n",
              " 0.017590347170641844,\n",
              " 0.015900321798852767,\n",
              " 0.014372715594041166,\n",
              " 0.01299184839283612,\n",
              " 0.011743623632411276,\n",
              " 0.01061533821688367,\n",
              " 0.00959545147343708,\n",
              " 0.008673574970187213,\n",
              " 0.007840255213782532,\n",
              " 0.0070869998224061875,\n",
              " 0.006406093187943109,\n",
              " 0.005790617666733648,\n",
              " 0.005234272681626106,\n",
              " 0.004731397875227666,\n",
              " 0.00427682634429765,\n",
              " 0.0038659181818544185,\n",
              " 0.003494494385788276,\n",
              " 0.003158754633118897,\n",
              " 0.002855280340956378,\n",
              " 0.0025809574266950582,\n",
              " 0.002332991163408845,\n",
              " 0.0021088407442543455,\n",
              " 0.0019062304440482256,\n",
              " 0.0017230854890096198,\n",
              " 0.0015575431618937438,\n",
              " 0.0014079014525968775,\n",
              " 0.0012726330691442862,\n",
              " 0.0011503629302111362,\n",
              " 0.001039839723508531,\n",
              " 0.0009399383320533224,\n",
              " 0.0008496331727762802,\n",
              " 0.0007680044400085714,\n",
              " 0.0006942155368539435,\n",
              " 0.0006275176330446154,\n",
              " 0.0005672275841892181,\n",
              " 0.0005127323226622256,\n",
              " 0.00046347133027124397,\n",
              " 0.0004189433267291328,\n",
              " 0.0003786913843615892,\n",
              " 0.00034230791404994524,\n",
              " 0.0003094211226870877,\n",
              " 0.00027969330102114743,\n",
              " 0.0002528216977569437,\n",
              " 0.00022853087594634463,\n",
              " 0.00020657439161535498,\n",
              " 0.00018672732871586025,\n",
              " 0.00016878789284299569,\n",
              " 0.0001525715210386046,\n",
              " 0.00013791321455788565,\n",
              " 0.00012466254263900368,\n",
              " 0.00011268535913493766,\n",
              " 0.0001018592670693706,\n",
              " 9.207307714704535e-05,\n",
              " 8.322713413196951e-05,\n",
              " 7.523075967355796e-05,\n",
              " 6.800283856793619e-05,\n",
              " 6.146932506670007e-05,\n",
              " 5.556379301918744e-05,\n",
              " 5.022547632941276e-05,\n",
              " 4.540006419840281e-05]"
            ]
          },
          "metadata": {},
          "execution_count": 95
        }
      ]
    },
    {
      "cell_type": "code",
      "source": [
        "\n",
        "x= np.linspace(0,39,100) # A medida que voy metiendo numeros grandes para obtener numeros pequeños comienza a diverger.\n",
        "plt.plot(x,np.exp(-x),\"o\",label= \"Exponencial\")# Diverge para x cercanos a 39\n",
        "plt.plot(x,[expo(i,presi_exp(i))for i in x ],\"--\",label= \"Serie\")\n",
        "plt.legend()\n",
        "\n"
      ],
      "metadata": {
        "colab": {
          "base_uri": "https://localhost:8080/",
          "height": 282
        },
        "id": "lBwxurIlHp9E",
        "outputId": "eea7a8fb-89f3-418b-a5cb-c0e8a37c6bbc"
      },
      "execution_count": null,
      "outputs": [
        {
          "output_type": "execute_result",
          "data": {
            "text/plain": [
              "<matplotlib.legend.Legend at 0x7f3bfc65edc0>"
            ]
          },
          "metadata": {},
          "execution_count": 96
        },
        {
          "output_type": "display_data",
          "data": {
            "text/plain": [
              "<Figure size 432x288 with 1 Axes>"
            ],
            "image/png": "[encoded data removed]"
          },
          "metadata": {
            "needs_background": "light"
          }
        }
      ]
    },
    {
      "cell_type": "code",
      "source": [
        "x= 9.99 #Pero para valores con las condiciones puestas en el ejercicio las cosas cambian\n",
        "n= x-1\n",
        "expo(x,n)"
      ],
      "metadata": {
        "colab": {
          "base_uri": "https://localhost:8080/"
        },
        "id": "wtSmHWX84nji",
        "outputId": "ad153c15-025f-4759-a531-0eba1238c93f"
      },
      "execution_count": null,
      "outputs": [
        {
          "output_type": "execute_result",
          "data": {
            "text/plain": [
              "1331.2538248116216"
            ]
          },
          "metadata": {},
          "execution_count": 97
        }
      ]
    },
    {
      "cell_type": "code",
      "source": [
        "b= 1/np.exp(x) # se obtienen valores diferentes \n",
        "b"
      ],
      "metadata": {
        "colab": {
          "base_uri": "https://localhost:8080/"
        },
        "id": "ZwsFE2_x4zeT",
        "outputId": "9c9b39ff-ed72-44a3-81ca-93a71dd68a15"
      },
      "execution_count": null,
      "outputs": [
        {
          "output_type": "execute_result",
          "data": {
            "text/plain": [
              "4.585620664220731e-05"
            ]
          },
          "metadata": {},
          "execution_count": 98
        }
      ]
    },
    {
      "cell_type": "code",
      "source": [
        "diff= b-expo(x,n) # el numero de sumas debe ser mayor para acercarnos un poco al valor deseado\n",
        "diff"
      ],
      "metadata": {
        "colab": {
          "base_uri": "https://localhost:8080/"
        },
        "id": "JiUJZNv__T6Z",
        "outputId": "27a45863-ed3e-4ec7-c042-61a6510d34da"
      },
      "execution_count": null,
      "outputs": [
        {
          "output_type": "execute_result",
          "data": {
            "text/plain": [
              "-1331.2537789554149"
            ]
          },
          "metadata": {},
          "execution_count": 99
        }
      ]
    },
    {
      "cell_type": "code",
      "source": [
        "n= presi_exp(x) #vemos que usando el codigo del error se aproxima más al valor deseado\n",
        "expo(x,n)\n"
      ],
      "metadata": {
        "colab": {
          "base_uri": "https://localhost:8080/"
        },
        "id": "kl-2OaKc_3Ii",
        "outputId": "04a049ee-cc78-4416-b1ce-0b0f5b0df05b"
      },
      "execution_count": null,
      "outputs": [
        {
          "output_type": "execute_result",
          "data": {
            "text/plain": [
              "4.585633562396293e-05"
            ]
          },
          "metadata": {},
          "execution_count": 100
        }
      ]
    },
    {
      "cell_type": "code",
      "source": [
        "diff= expo(x,n)-b # El error se reduce sustancialmente\n",
        "diff"
      ],
      "metadata": {
        "colab": {
          "base_uri": "https://localhost:8080/"
        },
        "id": "HB2SkScdAR-Q",
        "outputId": "f93eabfb-2f06-4b4e-af67-36ab22198a96"
      },
      "execution_count": null,
      "outputs": [
        {
          "output_type": "execute_result",
          "data": {
            "text/plain": [
              "1.289817556213613e-10"
            ]
          },
          "metadata": {},
          "execution_count": 101
        }
      ]
    },
    {
      "cell_type": "code",
      "source": [
        "x= np.linspace(0,39,100)\n",
        "Ns=[presi_exp(i)for i in x] # N necesarios para 100 valores de x en el intervalo(0,39)\n",
        "N_vector= np.array(Ns)        #la lista en array\n",
        "npexp= [np.exp(-i) for i in x]   #saco la lista de los diferentes valores de x evaluados en el mismo intervalo\n",
        "serien=[expo(i,presi_exp(i)) for i in x] # evaluo los mismos valores para la serie\n",
        "error = (np.array(serien)-np.array(npexp))/ np.array(np.array(npexp))  #convierto las listas en arrays y los resto para saber la difernecia\n",
        "# Grafico\n",
        "plt.figure(figsize=(10,5))\n",
        "plt.plot(N_vector,error,\"o\")\n",
        "plt.title(\"Grafica de N vs error\")\n",
        "plt.xlabel(\"N\")\n",
        "plt.ylabel(\"Error\")\n"
      ],
      "metadata": {
        "colab": {
          "base_uri": "https://localhost:8080/",
          "height": 367
        },
        "id": "F78kPySI6Dd9",
        "outputId": "6ec06b8c-c60a-4a60-8dfa-cb3d731631dd"
      },
      "execution_count": null,
      "outputs": [
        {
          "output_type": "execute_result",
          "data": {
            "text/plain": [
              "Text(0, 0.5, 'Error')"
            ]
          },
          "metadata": {},
          "execution_count": 102
        },
        {
          "output_type": "display_data",
          "data": {
            "text/plain": [
              "<Figure size 720x360 with 1 Axes>"
            ],
            "image/png": "[encoded data removed]"
          },
          "metadata": {
            "needs_background": "light"
          }
        }
      ]
    },
    {
      "cell_type": "markdown",
      "source": [
        "## Cancelación sustractiva\n",
        "\n",
        "\n",
        "\n",
        "**serieSn**. Un ejemplo de la cancelacion substractiva es en la suma de series alternantes. Considere la serie $\\mathrm{S}_N$,  escrita  matematicamente de tres formas diferentes:\n",
        "\n",
        "- \n",
        "\\begin{equation}\n",
        "\\mathrm{S}_N^{(1)} = \\sum_{n = 1}^{2N} (-1)^n \\frac{n}{n+1} \n",
        "\\end{equation}\n",
        "\n",
        "- Sumando números pares e impares.\n",
        "\n",
        "\\begin{equation}\n",
        "\\mathrm{S}_N^{(2)} = -\\sum_{n = 1}^{N}\\frac{2n-1}{2n} + \\sum_{n=1}^{N} \\frac{2n}{2n+1}\n",
        "\\end{equation}\n",
        "\n",
        "- Combinando las series de una forma analítica\n",
        "\n",
        "\\begin{equation}\n",
        "\\mathrm{S}_N^{(3)} = \\sum_{n = 1}^{N}\\frac{1}{2n(2n+1)}\n",
        "\\end{equation}\n",
        "\n",
        "\n",
        "\n",
        "Las tres sumas $\\mathrm{S}_N^{(1)}$, $\\mathrm{S}_N^{(2)}$ y $\\mathrm{S}_N^{(3)}$ son matemáticamente iguales, pero los resultados  pueden tener resultados numéricos diferentes.\n",
        "\n",
        "\n",
        "- Escribir un programa que realice el cálculo de $\\mathrm{S}_N^{(1)}$, $\\mathrm{S}_N^{(2)}$ y $\\mathrm{S}_N^{(3)}$\n",
        "- Estudiar la convergencia de la serie para los tres casos.\n",
        "- Considere  que $S_N^{(3)}$ es la solución exacta, realizar dos graficos log-log, del error relativo en función \n",
        "del número de términos ($\\mathrm{Log_{10}} E$ VS $\\mathrm{Log_{10}} N$), para $S_N^{(1)}$ y $S_N^{(2)}$. Donde,  $E = |(S_N^{(i)} - S_N^{(3)})/S_N^{(3)}|$, i = 1, 2. Considere valores de $N = 1\\times 10^{6}$.\n",
        "- Analizar y discutir los resultados. Tenga en cuenta la discusión realizada sobre teoría de errores en la página \n",
        "39 del libro del libro [Computational Physics. ](https://www.dropbox.com/s/n06ul2r4l65khl6/Computational%20Physics%20-%20Problem%20Solving%20with%20Computers%2C%203527406263.pdf?dl=0)"
      ],
      "metadata": {
        "id": "iERNG4LJ2jpp"
      }
    },
    {
      "cell_type": "code",
      "source": [
        "def serie1(N):\n",
        "  n= np.arange(1,2*N+1)\n",
        "  S1= ((((-1)**n)*n)/(n+1)).sum()\n",
        "  return S1\n",
        "serie1(100000)"
      ],
      "metadata": {
        "id": "hyJXj_xg2mv1",
        "colab": {
          "base_uri": "https://localhost:8080/"
        },
        "outputId": "34c2ed53-57c2-4cba-8423-1b9bbac71cf0"
      },
      "execution_count": null,
      "outputs": [
        {
          "output_type": "execute_result",
          "data": {
            "text/plain": [
              "0.3068503194587304"
            ]
          },
          "metadata": {},
          "execution_count": 103
        }
      ]
    },
    {
      "cell_type": "code",
      "source": [
        "def serie2(N):\n",
        "  n=np.arange(1,N+1)\n",
        "  A= (-1)*((((2*n)-1)/(2*n)).sum())\n",
        "  B= ((2*n)/((2*n)+1)).sum()\n",
        "  S2= A+B\n",
        "  return S2\n",
        "serie2(100000)"
      ],
      "metadata": {
        "colab": {
          "base_uri": "https://localhost:8080/"
        },
        "id": "PoIc8JxAywM4",
        "outputId": "8692947a-1e6a-4492-e97e-c8019ce7847e"
      },
      "execution_count": null,
      "outputs": [
        {
          "output_type": "execute_result",
          "data": {
            "text/plain": [
              "0.3068503194517689"
            ]
          },
          "metadata": {},
          "execution_count": 104
        }
      ]
    },
    {
      "cell_type": "code",
      "source": [
        "def serie3(N):\n",
        "  n= np.arange(1,N+1)\n",
        "\n",
        "  serie3=(1/((2*n)*((2*n)+1))).sum()\n",
        "\n",
        "  return serie3\n",
        "\n",
        "serie3(100000)"
      ],
      "metadata": {
        "colab": {
          "base_uri": "https://localhost:8080/"
        },
        "id": "OyWusi624k8j",
        "outputId": "e49d8ea8-972f-4963-dd43-cde22b6ff865"
      },
      "execution_count": null,
      "outputs": [
        {
          "output_type": "execute_result",
          "data": {
            "text/plain": [
              "0.30685031945880453"
            ]
          },
          "metadata": {},
          "execution_count": 105
        }
      ]
    },
    {
      "cell_type": "code",
      "source": [
        "def Error1(N):\n",
        "  Error= (serie1(N)-serie3(N))/(serie3(N))\n",
        "  return Error\n",
        "\n",
        "def Error2(N):\n",
        "  Error= (serie2(N)-serie3(N))/(serie3(N))\n",
        "  return Error"
      ],
      "metadata": {
        "id": "n3Utq4Hv_sUQ"
      },
      "execution_count": null,
      "outputs": []
    },
    {
      "cell_type": "code",
      "source": [
        "N= np.logspace(1,6,100)\n",
        "y1 = [Error1(i)for i in N]\n",
        "y1_= np.array(y1)\n",
        "y1_abs= np.abs(y1_)\n",
        "\n",
        "fig, ax = plt.subplots()\n",
        "ax.loglog(N, y1_abs,'o')\n",
        "ax.set_xlabel('N')\n",
        "ax.set_ylabel('Error')\n",
        "plt.show()"
      ],
      "metadata": {
        "colab": {
          "base_uri": "https://localhost:8080/",
          "height": 285
        },
        "id": "XrhwBt10TmlP",
        "outputId": "ed875fd0-2a2a-4bff-dd9c-c29cac0c100a"
      },
      "execution_count": null,
      "outputs": [
        {
          "output_type": "display_data",
          "data": {
            "text/plain": [
              "<Figure size 432x288 with 1 Axes>"
            ],
            "image/png": "[encoded data removed]"
          },
          "metadata": {
            "needs_background": "light"
          }
        }
      ]
    },
    {
      "cell_type": "code",
      "source": [
        "N= np.logspace(1,6,100)\n",
        "y2 = [Error2(i)for i in N]\n",
        "y2_= np.array(y2)\n",
        "y2_abs= np.abs(y2_)\n",
        "#y2_abs\n",
        "\n",
        "fig, ax = plt.subplots()\n",
        "ax.loglog(N, y2_abs,'o')\n",
        "ax.set_xlabel('N')\n",
        "ax.set_ylabel('Error')\n",
        "plt.show()"
      ],
      "metadata": {
        "colab": {
          "base_uri": "https://localhost:8080/",
          "height": 283
        },
        "id": "7H6C7KBVXKtB",
        "outputId": "685b6d26-7ddf-4ef9-ef2a-7fe8a66b4b55"
      },
      "execution_count": null,
      "outputs": [
        {
          "output_type": "display_data",
          "data": {
            "text/plain": [
              "<Figure size 432x288 with 1 Axes>"
            ],
            "image/png": "[encoded data removed]"
          },
          "metadata": {
            "needs_background": "light"
          }
        }
      ]
    }
  ],
  "metadata": {
    "colab": {
      "provenance": []
    },
    "kernelspec": {
      "display_name": "Python 3 (ipykernel)",
      "language": "python",
      "name": "python3"
    },
    "language_info": {
      "codemirror_mode": {
        "name": "ipython",
        "version": 3
      },
      "file_extension": ".py",
      "mimetype": "text/x-python",
      "name": "python",
      "nbconvert_exporter": "python",
      "pygments_lexer": "ipython3",
      "version": "3.8.12"
    }
  },
  "nbformat": 4,
  "nbformat_minor": 0
}