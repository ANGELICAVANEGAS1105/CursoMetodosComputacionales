{
  "nbformat": 4,
  "nbformat_minor": 0,
  "metadata": {
    "colab": {
      "provenance": []
    },
    "kernelspec": {
      "name": "python3",
      "display_name": "Python 3"
    },
    "language_info": {
      "name": "python"
    }
  },
  "cells": [
    {
      "cell_type": "code",
      "execution_count": 1,
      "metadata": {
        "id": "pW0PWDFAJd3F"
      },
      "outputs": [],
      "source": [
        "import numpy as np\n",
        "import matplotlib.pyplot as plt"
      ]
    },
    {
      "cell_type": "markdown",
      "source": [
        "**1. Deducir el método del trapecio:**"
      ],
      "metadata": {
        "id": "PQxVgEp1J7lA"
      }
    },
    {
      "cell_type": "markdown",
      "source": [
        "\n",
        "\n",
        "```\n",
        "Sea una f(x) función continua en un intervalo xϵ[a,b], con a<b.\n",
        "\n",
        "Dividimos el área de la función en N partes con forma de trapecio en donde \n",
        "x(0) = a y x(N) = b (x inicial y x final respectivamente). Cada trapecio, en \n",
        "orden, tiene por base x(n+1)-x(n), con altura de cada coordenada f(x(n+1)), \n",
        "f(x(n)).\n",
        "El área del enésimo trapecio, de manera general, definiendo al \n",
        "primer trapecio como el trapecio número 0, estará dada por, dada la fórmula\n",
        "general para los trapecios:\n",
        "A(n) = [x(n+1) - x(n)]*[f(x(n+1)) + f(x(n))]/2\n",
        "\n",
        "Luego el área bajo la curva estará dada por:\n",
        "ΣA(n), desde n = 0, hasta n = N-1\n",
        "```\n",
        "\n"
      ],
      "metadata": {
        "id": "N30BvXFYKCFQ"
      }
    },
    {
      "cell_type": "markdown",
      "source": [
        "**2. Construir un funcion llamada integral_trapz que reciba como argumento una función y el intervalo a, b. El numero de intervalos N será un argumento opcional, defina por defecto N=10. La función deberá retornar el valor de la integral.**"
      ],
      "metadata": {
        "id": "_G0iIprqN8CP"
      }
    },
    {
      "cell_type": "code",
      "source": [
        "def integral_trapz(f,a,b,N=10):\n",
        "  x = np.linspace(a,b,N)\n",
        "  A = np.zeros(N-1)\n",
        "  for n in range(N-1):\n",
        "    A[n] = (x[n+1] - x[n])*(f(x[n+1]) + f(x[n]))/2\n",
        "  \n",
        "  return sum(A)"
      ],
      "metadata": {
        "id": "-P787upvJ4Vy"
      },
      "execution_count": 7,
      "outputs": []
    },
    {
      "cell_type": "code",
      "source": [
        "f = lambda x: np.cos(x)\n",
        "N = 10\n",
        "integral_trapz(f,0,np.pi/2,N)"
      ],
      "metadata": {
        "colab": {
          "base_uri": "https://localhost:8080/"
        },
        "id": "XWlxldFcP4OA",
        "outputId": "b89046de-7919-43ae-9f44-5b4e6de6dc4c"
      },
      "execution_count": 8,
      "outputs": [
        {
          "output_type": "execute_result",
          "data": {
            "text/plain": [
              "0.997460231791726"
            ]
          },
          "metadata": {},
          "execution_count": 8
        }
      ]
    },
    {
      "cell_type": "markdown",
      "source": [
        "**3. Comparar la solución con scipy.integrate.trapz**"
      ],
      "metadata": {
        "id": "fgCJWNuZQ7bw"
      }
    },
    {
      "cell_type": "code",
      "source": [
        "from scipy.integrate import trapz"
      ],
      "metadata": {
        "id": "kem6bZaTQjW3"
      },
      "execution_count": 4,
      "outputs": []
    },
    {
      "cell_type": "code",
      "source": [
        "f = lambda x: np.cos(x)\n",
        "N = 10\n",
        "a = 0\n",
        "b = np.pi/2\n",
        "dom = np.linspace(a,b,N)\n",
        "y = f(dom)\n",
        "\n",
        "trapecio_scipy = trapz(y,dom)\n",
        "mi_trapecio = integral_trapz(f,a,b,N)\n",
        "\n",
        "print(f'''Para a = {a}, b = π/2 = {round(b,3)}, N = {N} \\n\\nMétodo de trapecio scipy: Área = {trapecio_scipy}\n",
        "Mi método: Área = {mi_trapecio}.\\n\\nLa diferencia entre las dos es de {abs(trapecio_scipy - mi_trapecio)}''')"
      ],
      "metadata": {
        "colab": {
          "base_uri": "https://localhost:8080/"
        },
        "id": "9Fg1edJaReyK",
        "outputId": "a0fbeafc-900b-45a9-872a-c084dade1591"
      },
      "execution_count": 5,
      "outputs": [
        {
          "output_type": "stream",
          "name": "stdout",
          "text": [
            "Para a = 0, b = π/2 = 1.571, N = 10 \n",
            "\n",
            "Método de trapecio scipy: Área = 0.9974602317917259\n",
            "Mi método: Área = 0.997460231791726.\n",
            "\n",
            "La diferencia entre las dos es de 1.1102230246251565e-16\n"
          ]
        }
      ]
    },
    {
      "cell_type": "code",
      "source": [
        "def integral_trapz(f,a,b,N):\n",
        "  h = (b-a)/N\n",
        "  x = np.linspace(a,b,N)\n",
        "  A = ( (f(x[0]) + f(x[-1]))*(1/2)*h + f(x[1:-1]) ).sum()*h\n",
        "  return A\n",
        "\n",
        "integral_trapz(f,0,np.pi/2,N=10)"
      ],
      "metadata": {
        "colab": {
          "base_uri": "https://localhost:8080/"
        },
        "id": "Fp2HnHuGUzEH",
        "outputId": "2609fb2e-8321-4b96-acfd-ec4ddd1a6c67"
      },
      "execution_count": 6,
      "outputs": [
        {
          "output_type": "execute_result",
          "data": {
            "text/plain": [
              "0.917870436283702"
            ]
          },
          "metadata": {},
          "execution_count": 6
        }
      ]
    }
  ]
}