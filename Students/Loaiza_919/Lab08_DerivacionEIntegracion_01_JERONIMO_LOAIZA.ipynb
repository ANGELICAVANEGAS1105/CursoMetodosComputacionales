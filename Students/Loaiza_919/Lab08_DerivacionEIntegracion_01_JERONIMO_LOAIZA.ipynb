{
  "nbformat": 4,
  "nbformat_minor": 0,
  "metadata": {
    "colab": {
      "provenance": []
    },
    "kernelspec": {
      "display_name": "Python 3",
      "language": "python",
      "name": "python3"
    },
    "language_info": {
      "codemirror_mode": {
        "name": "ipython",
        "version": 3
      },
      "file_extension": ".py",
      "mimetype": "text/x-python",
      "name": "python",
      "nbconvert_exporter": "python",
      "pygments_lexer": "ipython3",
      "version": "3.7.2"
    }
  },
  "cells": [
    {
      "cell_type": "markdown",
      "source": [
        "<a href=\"https://colab.research.google.com/github/hernansalinas/autogrades/blob/main/Laboratorios_Taller/Lab08_DerivacionEIntegracion_01.ipynb\" target=\"_parent\"><img src=\"https://colab.research.google.com/assets/colab-badge.svg\" alt=\"Open In Colab\"/></a>\n"
      ],
      "metadata": {
        "id": "mfuoQaq5CYZG"
      }
    },
    {
      "cell_type": "markdown",
      "metadata": {
        "id": "8q4c8oS-hpaE"
      },
      "source": [
        "\n",
        "#1.Parte 1\n",
        "1. En un cirtcuito con un voltaje de  $\\varepsilon(t)$ y una inductancia de L, la primera ley de kirshhoff nos da la siguiente relación \n",
        "\n",
        "\n",
        "\\begin{equation}\n",
        "\\varepsilon(t) = L\\frac{\\mathrm{d}i}{\\mathrm{d}t} + Ri\n",
        "\\end{equation}\n",
        "\n",
        "donde r, es la resistencia del ciruito, i es la corriente. Suponga que medimos la corriente con varios valores de t y obtenemos:\n",
        "\n",
        "t = 1.00, 1.01, 1.02, 1.03, 1.0\n",
        "\n",
        "i = 3.10, 3.12, 3.14, 3.18, 3.24\n",
        "\n",
        "\n",
        "donde t se mide en segundos, i se de en amper, la inductancia L es una constante de 0.98 herios, la resistencia es de 0.142 ohms. Aproxime el votaje  $\\varepsilon(t)$ en los valores t=1.00, 1.01, 1.02, 1.03, 1.04 ,  para ello realice lo siguiente:\n",
        "\n",
        "\n",
        "- Construya un data frame de pandas con los valores de tiempo y corriente \n",
        "- Emplee un metodo calcular la derivada numérica. \n",
        "\n",
        "\n",
        "\n"
      ]
    },
    {
      "cell_type": "code",
      "source": [
        "import numpy as np\n",
        "import pandas as pd\n",
        "import matplotlib.pyplot as plt\n",
        "from scipy import misc\n",
        "from scipy.interpolate import CubicSpline as Cubic"
      ],
      "metadata": {
        "id": "pnUE4GtI_wVZ"
      },
      "execution_count": 11,
      "outputs": []
    },
    {
      "cell_type": "code",
      "source": [
        "df = pd.read_csv('https://raw.githubusercontent.com/hernansalinas/autogrades/main/Laboratorios_Taller/dataset/corrienteVstiempo')"
      ],
      "metadata": {
        "id": "fUSlEDPUEA-a"
      },
      "execution_count": 12,
      "outputs": []
    },
    {
      "cell_type": "code",
      "source": [
        "df"
      ],
      "metadata": {
        "colab": {
          "base_uri": "https://localhost:8080/",
          "height": 423
        },
        "id": "AeBQjWFgEYK7",
        "outputId": "5cf3c04a-5a2d-4af7-e133-880fb72fefb4"
      },
      "execution_count": 13,
      "outputs": [
        {
          "output_type": "execute_result",
          "data": {
            "text/plain": [
              "    Unnamed: 0  Corriente    tiempo\n",
              "0            0   0.000000   0.00000\n",
              "1            1   0.014533   0.10101\n",
              "2            2   0.028854   0.20202\n",
              "3            3   0.042967   0.30303\n",
              "4            4   0.056875   0.40404\n",
              "..         ...        ...       ...\n",
              "95          95   0.751104   9.59596\n",
              "96          96   0.754721   9.69697\n",
              "97          97   0.758285   9.79798\n",
              "98          98   0.761798   9.89899\n",
              "99          99   0.765260  10.00000\n",
              "\n",
              "[100 rows x 3 columns]"
            ],
            "text/html": [
              "\n",
              "  <div id=\"df-28d62240-2d36-4d8f-859a-422472cc3002\">\n",
              "    <div class=\"colab-df-container\">\n",
              "      <div>\n",
              "<style scoped>\n",
              "    .dataframe tbody tr th:only-of-type {\n",
              "        vertical-align: middle;\n",
              "    }\n",
              "\n",
              "    .dataframe tbody tr th {\n",
              "        vertical-align: top;\n",
              "    }\n",
              "\n",
              "    .dataframe thead th {\n",
              "        text-align: right;\n",
              "    }\n",
              "</style>\n",
              "<table border=\"1\" class=\"dataframe\">\n",
              "  <thead>\n",
              "    <tr style=\"text-align: right;\">\n",
              "      <th></th>\n",
              "      <th>Unnamed: 0</th>\n",
              "      <th>Corriente</th>\n",
              "      <th>tiempo</th>\n",
              "    </tr>\n",
              "  </thead>\n",
              "  <tbody>\n",
              "    <tr>\n",
              "      <th>0</th>\n",
              "      <td>0</td>\n",
              "      <td>0.000000</td>\n",
              "      <td>0.00000</td>\n",
              "    </tr>\n",
              "    <tr>\n",
              "      <th>1</th>\n",
              "      <td>1</td>\n",
              "      <td>0.014533</td>\n",
              "      <td>0.10101</td>\n",
              "    </tr>\n",
              "    <tr>\n",
              "      <th>2</th>\n",
              "      <td>2</td>\n",
              "      <td>0.028854</td>\n",
              "      <td>0.20202</td>\n",
              "    </tr>\n",
              "    <tr>\n",
              "      <th>3</th>\n",
              "      <td>3</td>\n",
              "      <td>0.042967</td>\n",
              "      <td>0.30303</td>\n",
              "    </tr>\n",
              "    <tr>\n",
              "      <th>4</th>\n",
              "      <td>4</td>\n",
              "      <td>0.056875</td>\n",
              "      <td>0.40404</td>\n",
              "    </tr>\n",
              "    <tr>\n",
              "      <th>...</th>\n",
              "      <td>...</td>\n",
              "      <td>...</td>\n",
              "      <td>...</td>\n",
              "    </tr>\n",
              "    <tr>\n",
              "      <th>95</th>\n",
              "      <td>95</td>\n",
              "      <td>0.751104</td>\n",
              "      <td>9.59596</td>\n",
              "    </tr>\n",
              "    <tr>\n",
              "      <th>96</th>\n",
              "      <td>96</td>\n",
              "      <td>0.754721</td>\n",
              "      <td>9.69697</td>\n",
              "    </tr>\n",
              "    <tr>\n",
              "      <th>97</th>\n",
              "      <td>97</td>\n",
              "      <td>0.758285</td>\n",
              "      <td>9.79798</td>\n",
              "    </tr>\n",
              "    <tr>\n",
              "      <th>98</th>\n",
              "      <td>98</td>\n",
              "      <td>0.761798</td>\n",
              "      <td>9.89899</td>\n",
              "    </tr>\n",
              "    <tr>\n",
              "      <th>99</th>\n",
              "      <td>99</td>\n",
              "      <td>0.765260</td>\n",
              "      <td>10.00000</td>\n",
              "    </tr>\n",
              "  </tbody>\n",
              "</table>\n",
              "<p>100 rows × 3 columns</p>\n",
              "</div>\n",
              "      <button class=\"colab-df-convert\" onclick=\"convertToInteractive('df-28d62240-2d36-4d8f-859a-422472cc3002')\"\n",
              "              title=\"Convert this dataframe to an interactive table.\"\n",
              "              style=\"display:none;\">\n",
              "        \n",
              "  <svg xmlns=\"http://www.w3.org/2000/svg\" height=\"24px\"viewBox=\"0 0 24 24\"\n",
              "       width=\"24px\">\n",
              "    <path d=\"M0 0h24v24H0V0z\" fill=\"none\"/>\n",
              "    <path d=\"M18.56 5.44l.94 2.06.94-2.06 2.06-.94-2.06-.94-.94-2.06-.94 2.06-2.06.94zm-11 1L8.5 8.5l.94-2.06 2.06-.94-2.06-.94L8.5 2.5l-.94 2.06-2.06.94zm10 10l.94 2.06.94-2.06 2.06-.94-2.06-.94-.94-2.06-.94 2.06-2.06.94z\"/><path d=\"M17.41 7.96l-1.37-1.37c-.4-.4-.92-.59-1.43-.59-.52 0-1.04.2-1.43.59L10.3 9.45l-7.72 7.72c-.78.78-.78 2.05 0 2.83L4 21.41c.39.39.9.59 1.41.59.51 0 1.02-.2 1.41-.59l7.78-7.78 2.81-2.81c.8-.78.8-2.07 0-2.86zM5.41 20L4 18.59l7.72-7.72 1.47 1.35L5.41 20z\"/>\n",
              "  </svg>\n",
              "      </button>\n",
              "      \n",
              "  <style>\n",
              "    .colab-df-container {\n",
              "      display:flex;\n",
              "      flex-wrap:wrap;\n",
              "      gap: 12px;\n",
              "    }\n",
              "\n",
              "    .colab-df-convert {\n",
              "      background-color: #E8F0FE;\n",
              "      border: none;\n",
              "      border-radius: 50%;\n",
              "      cursor: pointer;\n",
              "      display: none;\n",
              "      fill: #1967D2;\n",
              "      height: 32px;\n",
              "      padding: 0 0 0 0;\n",
              "      width: 32px;\n",
              "    }\n",
              "\n",
              "    .colab-df-convert:hover {\n",
              "      background-color: #E2EBFA;\n",
              "      box-shadow: 0px 1px 2px rgba(60, 64, 67, 0.3), 0px 1px 3px 1px rgba(60, 64, 67, 0.15);\n",
              "      fill: #174EA6;\n",
              "    }\n",
              "\n",
              "    [theme=dark] .colab-df-convert {\n",
              "      background-color: #3B4455;\n",
              "      fill: #D2E3FC;\n",
              "    }\n",
              "\n",
              "    [theme=dark] .colab-df-convert:hover {\n",
              "      background-color: #434B5C;\n",
              "      box-shadow: 0px 1px 3px 1px rgba(0, 0, 0, 0.15);\n",
              "      filter: drop-shadow(0px 1px 2px rgba(0, 0, 0, 0.3));\n",
              "      fill: #FFFFFF;\n",
              "    }\n",
              "  </style>\n",
              "\n",
              "      <script>\n",
              "        const buttonEl =\n",
              "          document.querySelector('#df-28d62240-2d36-4d8f-859a-422472cc3002 button.colab-df-convert');\n",
              "        buttonEl.style.display =\n",
              "          google.colab.kernel.accessAllowed ? 'block' : 'none';\n",
              "\n",
              "        async function convertToInteractive(key) {\n",
              "          const element = document.querySelector('#df-28d62240-2d36-4d8f-859a-422472cc3002');\n",
              "          const dataTable =\n",
              "            await google.colab.kernel.invokeFunction('convertToInteractive',\n",
              "                                                     [key], {});\n",
              "          if (!dataTable) return;\n",
              "\n",
              "          const docLinkHtml = 'Like what you see? Visit the ' +\n",
              "            '<a target=\"_blank\" href=https://colab.research.google.com/notebooks/data_table.ipynb>data table notebook</a>'\n",
              "            + ' to learn more about interactive tables.';\n",
              "          element.innerHTML = '';\n",
              "          dataTable['output_type'] = 'display_data';\n",
              "          await google.colab.output.renderOutput(dataTable, element);\n",
              "          const docLink = document.createElement('div');\n",
              "          docLink.innerHTML = docLinkHtml;\n",
              "          element.appendChild(docLink);\n",
              "        }\n",
              "      </script>\n",
              "    </div>\n",
              "  </div>\n",
              "  "
            ]
          },
          "metadata": {},
          "execution_count": 13
        }
      ]
    },
    {
      "cell_type": "code",
      "source": [
        "t = np.array(df['tiempo'])\n",
        "i = np.array(df['Corriente'])\n",
        "L = 0.98\n",
        "R = 0.142\n",
        "\n",
        "cubic = Cubic(t,i)\n",
        "t_ = np.linspace(np.min(t), np.max(t),1000)\n",
        "\n",
        "di = misc.derivative(cubic, t, dx=1e-6)\n",
        "\n",
        "fem = L*di + R*i\n",
        "\n",
        "\n",
        "fig, (ax1,ax2,ax3) = plt.subplots(3, sharex=True)\n",
        "\n",
        "ax1.plot(t, cubic(t))\n",
        "ax1.set_title('Corriente')\n",
        "ax1.set(ylabel = 'Corriente $[A]$')\n",
        "ax1.grid()\n",
        "\n",
        "ax2.plot(t, di, color ='orange')\n",
        "ax2.set_title('Derivada de la corriente')\n",
        "ax2.grid()\n",
        "\n",
        "ax3.plot(t, fem, color ='green')\n",
        "ax3.set_title(f'Fuerza electromotriz')\n",
        "ax3.set(xlabel = 'Tiempo $[s]$' , ylabel = '$ε(t)$')\n",
        "ax3.grid()\n",
        "\n",
        "\n",
        "print('-----------------------------------------------------------')\n",
        "print(f'Para cada valor de t, la fem es igual a:\\n\\n {fem}')\n",
        "print('-----------------------------------------------------------')\n"
      ],
      "metadata": {
        "colab": {
          "base_uri": "https://localhost:8080/",
          "height": 895
        },
        "id": "nFwSbsK3_nTL",
        "outputId": "ce73de8b-649c-4881-bed7-1ffad0f6b7e3"
      },
      "execution_count": 14,
      "outputs": [
        {
          "output_type": "stream",
          "name": "stderr",
          "text": [
            "<ipython-input-14-c573f4dc5c2b>:9: DeprecationWarning: scipy.misc.derivative is deprecated in SciPy v1.10.0; and will be completely removed in SciPy v1.12.0. You may consider using findiff: https://github.com/maroba/findiff or numdifftools: https://github.com/pbrod/numdifftools\n",
            "  di = misc.derivative(cubic, t, dx=1e-6)\n"
          ]
        },
        {
          "output_type": "stream",
          "name": "stdout",
          "text": [
            "-----------------------------------------------------------\n",
            "Para cada valor de t, la fem es igual a:\n",
            "\n",
            " [0.14202891 0.14202859 0.14202814 0.14202774 0.14202734 0.14202694\n",
            " 0.14202655 0.14202616 0.14202578 0.14202541 0.14202504 0.14202467\n",
            " 0.14202432 0.14202396 0.14202361 0.14202327 0.14202293 0.1420226\n",
            " 0.14202227 0.14202195 0.14202163 0.14202131 0.142021   0.1420207\n",
            " 0.1420204  0.1420201  0.14201981 0.14201952 0.14201924 0.14201896\n",
            " 0.14201868 0.14201841 0.14201814 0.14201788 0.14201762 0.14201736\n",
            " 0.14201711 0.14201686 0.14201662 0.14201638 0.14201614 0.1420159\n",
            " 0.14201567 0.14201545 0.14201522 0.142015   0.14201478 0.14201457\n",
            " 0.14201436 0.14201415 0.14201394 0.14201374 0.14201354 0.14201334\n",
            " 0.14201315 0.14201296 0.14201277 0.14201258 0.1420124  0.14201222\n",
            " 0.14201204 0.14201187 0.1420117  0.14201153 0.14201136 0.14201119\n",
            " 0.14201103 0.14201087 0.14201071 0.14201056 0.1420104  0.14201025\n",
            " 0.1420101  0.14200996 0.14200981 0.14200967 0.14200953 0.14200939\n",
            " 0.14200925 0.14200912 0.14200899 0.14200886 0.14200873 0.1420086\n",
            " 0.14200847 0.14200835 0.14200823 0.14200811 0.14200799 0.14200788\n",
            " 0.14200776 0.14200765 0.14200754 0.14200743 0.14200732 0.14200721\n",
            " 0.14200711 0.14200701 0.1420069  0.14200682]\n",
            "-----------------------------------------------------------\n"
          ]
        },
        {
          "output_type": "display_data",
          "data": {
            "text/plain": [
              "<Figure size 640x480 with 3 Axes>"
            ],
            "image/png": "[encoded data removed]"
          },
          "metadata": {}
        }
      ]
    },
    {
      "cell_type": "code",
      "source": [
        "def read_file(path,select):\n",
        "  if select == 'csv':\n",
        "    df = pd.read_csv(path)\n",
        "  elif select == 'xlsx':\n",
        "    df = pd.read_excel(path)\n",
        "  else:\n",
        "    print('El argumento select debe ser csv o xlsx')"
      ],
      "metadata": {
        "id": "wvDUF7lPRRFC"
      },
      "execution_count": 15,
      "outputs": []
    },
    {
      "cell_type": "markdown",
      "metadata": {
        "id": "WV6dMBzK_odZ"
      },
      "source": [
        "\n",
        "\n",
        "\n",
        "# Parte 2\n",
        "\n",
        "1. Escribir en código Markdown la expresión para calcular una integral con la regla del trapecio.\n",
        "\n",
        "2. Escribir en código Markdown la expresión para calcular una integral con la regla del simpson\n",
        "\n",
        "\n",
        "3. Escribir en código Markdown la expresión para calcular una integral con el metodo de cuadratura.\n",
        "\n",
        "4. Calcular una aproximación con el metodo 1,2,3 de las siguientes integrales\n",
        "\n",
        "<!-- \n",
        " $$\n",
        " \\int_0^\\pi e^{1-\\sqrt{x}}\\, dx\n",
        " $$  -->\n",
        "\n",
        "\n",
        "- $$\n",
        " \\int_0^{\\pi/2} \\frac{1}{\\sqrt{\\tan x}}\\, dx\n",
        " $$\n",
        "\n",
        "- \n",
        "$$\n",
        " \\int_{-\\infty}^{\\infty} \\frac{1}{1+x^2} \\, dx\n",
        " $$\n",
        "\n",
        "\n",
        "- \n",
        "\n",
        "$$\n",
        " \\int_{0}^{\\pi/4} \\int_{\\sin x}^{\\cos x} (2y\\sin x +\\cos^2 x)\\, dxdy\n",
        " $$\n",
        "\n",
        "<!-- \n",
        "- \n",
        "$$\n",
        " \\int_{-\\infty}^{\\infty} \\frac{1}{1+x^2} \\, dx\n",
        " $$ -->\n",
        "\n",
        "<!-- \n",
        "- \n",
        "$$\n",
        " \\int_{e}^{2e} \\frac{1}{\\ln x} \\, dx\n",
        " $$ -->\n",
        "\n",
        "\n",
        "garantizando  que el error sea menor a $\\varepsilon=1E-5$.  "
      ]
    },
    {
      "cell_type": "code",
      "source": [
        "import numpy as np\n",
        "from scipy.integrate import trapz"
      ],
      "metadata": {
        "id": "P0qFHp-IC7AV"
      },
      "execution_count": 16,
      "outputs": []
    },
    {
      "cell_type": "code",
      "source": [
        "#@title Funciones:\n",
        "\n",
        "#Función 1 \n",
        "f1 = lambda x: 1/np.sqrt(np.tan(x))\n",
        "a1 = 0\n",
        "b1 = np.pi/2\n",
        "\n",
        "#Función 2\n",
        "f2 = lambda x: 1/(1+x**2)\n",
        "a2 = -100000\n",
        "b2 = 100000"
      ],
      "metadata": {
        "id": "RJZBm_qeIdop"
      },
      "execution_count": 17,
      "outputs": []
    },
    {
      "cell_type": "code",
      "source": [
        "#@title **Método del trapecio con scipy**\n",
        "\n",
        "#Número de pasos para las funciones 1, 2\n",
        "N1 = 100000\n",
        "N2 = 1000000\n",
        "\n",
        "#Dominio funciones 1 y 2\n",
        "dom1 = np.linspace(a1,b1,N1)\n",
        "dom2 = np.linspace(a2,b2,N2)\n",
        "\n",
        "#Los 'y' de cada función\n",
        "y1 = f1(dom1[1:-1]) #Excluimos el primer elemento y el último porque la función 1 tiene problemas ahí\n",
        "y2 = f2(dom2)\n",
        "\n",
        "#Método de trapecio de scipy \n",
        "trapz_f1 = trapz(y1,dom1[1:-1])  #Func 1\n",
        "trapz_f2 = trapz(y2,dom2)        #Func 2\n",
        "\n",
        "print(f'Primera función, de 0 hasta π/2, con N={N1}, integral igual a {trapz_f1}\\n')\n",
        "print(f'Segunda función, de {a2} hasta {b2}, con N={N2}, integral igual a {trapz_f2}\\n')"
      ],
      "metadata": {
        "colab": {
          "base_uri": "https://localhost:8080/"
        },
        "id": "LzGKBH0RDVGO",
        "outputId": "57d80eb0-fed0-4b45-bd97-d7140cf7076e"
      },
      "execution_count": 18,
      "outputs": [
        {
          "output_type": "stream",
          "name": "stdout",
          "text": [
            "Primera función, de 0 hasta π/2, con N=100000, integral igual a 2.2136718596229104\n",
            "\n",
            "Segunda función, de -100000 hasta 100000, con N=1000000, integral igual a 3.1415726535895487\n",
            "\n"
          ]
        }
      ]
    },
    {
      "cell_type": "code",
      "source": [
        "#@title Integral doble $ \\int_{0}^{\\pi/4} \\int_{\\sin x}^{\\cos x} (2y\\sin x +\\cos^2 x)\\, dydx$\n",
        "\n",
        "N3 = 100\n",
        "f3 = lambda x,y: (2*y*np.sin(x) + np.cos(x)**2) #Función\n",
        "\n",
        "g1 = lambda x: np.sin(x) #Cota inferior\n",
        "g2 = lambda x: np.cos(x) #Cota superior\n",
        "\n",
        "a3 = 0        #Punto inicial\n",
        "b3 = np.pi/4  #Punto final\n",
        "\n",
        "\n",
        "#Dominio de x\n",
        "domx = np.linspace(a3,b3,N3)\n",
        "\n",
        "integral = np.zeros(N3)     #Array de ceros que contendrá las áreas\n",
        "\n",
        "for i in range(N3):\n",
        "  domy = np.linspace(g1(domx[i]),g2(domx[i]), N3) #Se define un domino en y para cada valor del domino de x\n",
        "  y3 = f3(domx[i], domy)                          #Se encuentran las alturas para cada x fijo y los distintos valores de y\n",
        "  area_i = trapz(y3,domy)                         #Se halla el área para cada dominio de y\n",
        "  integral[i] = area_i                            #Cada área se agrega en la integral\n",
        "\n",
        "trapz_f3 = trapz(integral,domx)                   #Con los valores de las áreas se realiza el método del trapecio ahora con el dominio de x\n",
        "print(f'''Tercera función, integral doble. Límites de x de\n",
        "0 a π/4. Límites de y de senx a cosx. Con N={N3}, integrando primero respecto de y\n",
        "y luego de x. Integral igual a: {trapz_f3} ''')"
      ],
      "metadata": {
        "colab": {
          "base_uri": "https://localhost:8080/"
        },
        "id": "nrkaMqiaZHzd",
        "outputId": "65537fa9-140e-4317-85d5-b04d6aced30c"
      },
      "execution_count": 19,
      "outputs": [
        {
          "output_type": "stream",
          "name": "stdout",
          "text": [
            "Tercera función, integral doble. Límites de x de\n",
            "0 a π/4. Límites de y de senx a cosx. Con N=100, integrando primero respecto de y\n",
            "y luego de x. Integral igual a: 0.5118335093392186 \n"
          ]
        }
      ]
    },
    {
      "cell_type": "code",
      "source": [
        "#@title *Markdown para el método de simpson, trapecio*\n",
        "\n",
        "#MÉTODO DE SIMPSON\n",
        "def simpson(f, a, b, n):\n",
        "  h = (b-a)/n # Calculamos un dx\n",
        "  sum_imp = 0\n",
        "  for i in range(1, n, 2): #Calculamos la suma de los impares\n",
        "    x = a + i * h\n",
        "    sum_imp += f(x)\n",
        "  sum_par = 0\n",
        "  for i in range(2, n, 2): #Calculamos la suma de los pares\n",
        "    x = a + i * h\n",
        "    sum_par += f(x)\n",
        "  integral = (h/3)*(f(a) + 4*sum_imp + 2*sum_par + f(b)) #Fórmula de simpson\n",
        "  return integral\n",
        "\n",
        "#MÉTODO DEL TRAPECIO\n",
        "def trapecio(f, a, b, n):\n",
        "  h = (b-a)/n\n",
        "  pasos = 0\n",
        "  for i in range(1, n):\n",
        "    x = a + i*h\n",
        "    pasos += f(x)\n",
        "  integral = h*(0.5*(f(a) + f(b)) + pasos)\n",
        "  return integral\n",
        "\n",
        "\n",
        "#Primera función\n",
        "simpson1 = simpson(f1, dom1[1], dom1[-1], N1)\n",
        "trapecio1 = trapecio(f1, dom1[1], dom1[-1], N1)\n",
        "print(f'Para la primera función, de 0 a pi/2, con N={N1}:\\n\\nSimpson: {simpson1}, Trapecio: {trapecio1}\\n\\n')\n",
        "\n",
        "#Segunda función\n",
        "simpson2 = simpson(f2, a2, b2, N2)\n",
        "trapecio2 = trapecio(f2, a2, b2, N2)\n",
        "print(f'Para la segunda función, de {a2} a {b2}, con N={N2}:\\n\\nSimpson: {simpson2}, Trapecio: {trapecio2}')"
      ],
      "metadata": {
        "colab": {
          "base_uri": "https://localhost:8080/"
        },
        "id": "Dt9vEx79gLir",
        "outputId": "37ee7012-a802-4c6a-c8ab-aef1ca49e839"
      },
      "execution_count": 48,
      "outputs": [
        {
          "output_type": "stream",
          "name": "stdout",
          "text": [
            "Para la primera función, de 0 a pi/2, con N=100000:\n",
            "\n",
            "Simpson: 2.213533314257888, Trapecio: 2.213671884726712\n",
            "\n",
            "\n",
            "Para la segunda función, de -100000 a 100000, con N=1000000:\n",
            "\n",
            "Simpson: 3.1415723379607052, Trapecio: 3.141572653589794\n"
          ]
        }
      ]
    },
    {
      "cell_type": "code",
      "source": [
        "import sympy as sp\n",
        "from scipy.optimize import fmin_powell"
      ],
      "metadata": {
        "id": "Lb0YlzfvQe8Z"
      },
      "execution_count": 21,
      "outputs": []
    },
    {
      "cell_type": "code",
      "source": [
        "#@title Error de $ \\int_0^{1} \\log(1+x^2)\\, dx$ con el método del trapecio\n",
        "\n",
        "x = sp.Symbol('x')\n",
        "\n",
        "f = lambda x: sp.log(1+x**2)\n",
        "derivada = sp.diff(f(x),x,2)\n",
        "\n",
        "func = sp.lambdify(x, f(x), 'numpy')\n",
        "fprime = sp.lambdify(x, derivada, 'numpy')\n",
        "\n",
        "#GRAFICACIÓN--------------------------\n",
        "z = np.linspace(-5,5,100)\n",
        "\n",
        "fig, (ax1,ax2) = plt.subplots(2, sharex=True)\n",
        "\n",
        "ax1.plot(z, func(z))\n",
        "ax1.set_title('Función $log(1+x**2)$')\n",
        "ax1.set(ylabel = 'y')\n",
        "ax1.grid();\n",
        "\n",
        "ax2.plot(z,fprime(z), color ='orange')\n",
        "ax2.set_title('Derivada')\n",
        "ax2.set(ylabel = 'y')\n",
        "ax2.set(xlabel = 'x')\n",
        "ax2.grid();\n",
        "\n",
        "#---------------------------------------\n",
        "#Calcular el máximo de la segunda derivada\n",
        "negative_fprime = sp.lambdify(x, -derivada, 'numpy')\n",
        "\n",
        "\n",
        "max = fmin_powell(negative_fprime, 0.5);\n",
        "print(f'\\nMáximo encontrado con fmin_powell: {float(max)}')\n",
        "print(f'''\\nEl máximo de la segunda derivada de la función \n",
        "está dado en x = {round(float(max),3)}, en fonde f⁽²⁾({round(float(max))}) = {fprime(round(float(max)))}\\n''')\n",
        "\n",
        "#Calcular el N para un error de 1e-7\n",
        "a = 0 #Lim inferior\n",
        "b = 1 #Lim superior\n",
        "error = 1e-7\n",
        "\n",
        "n = np.sqrt( abs(-( ((b-a)**3)/(12*error) )*fprime(max) ) )\n",
        "print(f'El n número de trapecios obtenido para un error de 1e-7 es de {int(n)}')\n",
        "\n",
        "#Calcular la integral\n",
        "N = int(n)\n",
        "domx = np.linspace(0,1,N)\n",
        "integral = trapz(func(domx),domx)\n",
        "print(f'\\nLa integral de {a} hasta {b} es igual a {round(integral,7)}, con un error de {error}');"
      ],
      "metadata": {
        "colab": {
          "base_uri": "https://localhost:8080/",
          "height": 701
        },
        "id": "p4JuBLU5PPN3",
        "outputId": "5cd4d2fc-1a8e-43ab-f0da-572359ebc26c"
      },
      "execution_count": 22,
      "outputs": [
        {
          "output_type": "stream",
          "name": "stdout",
          "text": [
            "Optimization terminated successfully.\n",
            "         Current function value: -2.000000\n",
            "         Iterations: 2\n",
            "         Function evaluations: 39\n",
            "\n",
            "Máximo encontrado con fmin_powell: 1.4802608155917146e-09\n",
            "\n",
            "El máximo de la segunda derivada de la función \n",
            "está dado en x = 0.0, en fonde f⁽²⁾(0) = 2.0\n",
            "\n",
            "El n número de trapecios obtenido para un error de 1e-7 es de 1290\n",
            "\n",
            "La integral de 0 hasta 1 es igual a 0.2639436, con un error de 1e-07\n"
          ]
        },
        {
          "output_type": "display_data",
          "data": {
            "text/plain": [
              "<Figure size 640x480 with 2 Axes>"
            ],
            "image/png": "[encoded data removed]"
          },
          "metadata": {}
        }
      ]
    },
    {
      "cell_type": "markdown",
      "metadata": {
        "id": "6hJGsmCkF6Wv"
      },
      "source": [
        "5. The next  problems are examples of how elliptic integrals enter into realistic physics problems. It is straightforward to evaluate any integral numerically using the techniques of this chapter, but it may be difficult for you to  know if the answers you obtain are correct. One way to hone your integral\u0002evaluating skills is to compare your answers from quadrature to power series\n",
        "expressions, or to a polynomial approximations of know precision. To help you in this regard, we present here a polynomial approximation for an elliptic integral (Abramowitz and Stegun, 1972):\n",
        "\n",
        "\\begin{equation}\n",
        "K(m)=\\int_{0}^{\\pi/2} \\frac{\\mathrm{d\\phi}}{\\sqrt{1-m\\sin^2\\phi}}\n",
        "\\end{equation}\n",
        "\n",
        "\\begin{equation}\n",
        "\\approx a_0+a_1m_1+a_2m_2 - [ b_0+b_1m_1+b_2m_1^2]\\ln m_1 + \\epsilon(m) \n",
        "\\end{equation}\n",
        "\n",
        "\n",
        "\n",
        "$m_1 = 1-m$, \n",
        "\n",
        "$ 0 \\le m \\le1 $\n",
        "\n",
        "$\\epsilon(m)\\leq 3\\times 10^{-5}$\n",
        "\n",
        "\n",
        "\n",
        "$a_0 = 1.3862944$\n",
        "\n",
        "$b_0 = 0.5$\n",
        "\n",
        "$a_1 = 0.1119723$\n",
        "\n",
        "$b_1 = 0.1213478$\n",
        "\n",
        "$a_2 = 0.00725296$\n",
        "\n",
        "$b_2 = 0.0288729$\n",
        "\n"
      ]
    },
    {
      "cell_type": "code",
      "source": [
        "from scipy.integrate import trapz"
      ],
      "metadata": {
        "id": "MvZOKjTr6KWp"
      },
      "execution_count": 22,
      "outputs": []
    },
    {
      "cell_type": "code",
      "source": [
        "#Valores dados de la aproximación de la integral:\n",
        "m = 0.5\n",
        "m_1 = 1 - m\n",
        "a_0 = 1.3862944\n",
        "b_0 = 0.5\n",
        "a_1 = 0.1119723\n",
        "b_1 = 0.1213478\n",
        "a_2 = 0.00725296\n",
        "b_2 = 0.0288729\n",
        "\n",
        "aproximacion = a_0 + a_1*m_1 + a_2*m_1 - (b_0 + b_1*m_1 + b_2*(m_1**2))*np.log(m_1) + 3e-5\n",
        "print(f'Aproximación dada por el ejercicio: {aproximacion}')\n",
        "\n",
        "funcion = lambda x: 1/np.sqrt(1-m*(np.sin(x)**2))  #Función a integrar\n",
        "n = 1000                                        #Número de trapecios\n",
        "dominio = np.linspace(0, np.pi/2, n)            #Dominio de integración\n",
        "\n",
        "trapecio_eliptica = trapz(funcion(dominio), dominio)   #Método del trapecio con scipy\n",
        "simpson_eliptica = simpson(funcion, 0, np.pi/2, n)  #Método de Simpson hecho códigos atrás\n",
        "\n",
        "print(f'''\\nIntegración hecha con el método de:\n",
        "Trapecio: {trapecio_eliptica}\n",
        "Simpson: {simpson_eliptica}\n",
        "      \n",
        "Valor dado por Wolfram-Alpha: 1.85407''')"
      ],
      "metadata": {
        "colab": {
          "base_uri": "https://localhost:8080/"
        },
        "id": "tYf0Qpkt6t9G",
        "outputId": "4bfd66a5-5aa5-4902-a89a-aa8287396dab"
      },
      "execution_count": 53,
      "outputs": [
        {
          "output_type": "stream",
          "name": "stdout",
          "text": [
            "Aproximación dada por el ejercicio: 1.839569855305946\n",
            "\n",
            "Integración hecha con el método de:\n",
            "Trapecio: 1.8540746773013717\n",
            "Simpson: 1.854074677301373\n",
            "      \n",
            "Valor dado por Wolfram-Alpha: 1.85407\n"
          ]
        }
      ]
    },
    {
      "cell_type": "markdown",
      "metadata": {
        "id": "hly3b-GsYi-a"
      },
      "source": [
        "6. Figure 5.7 shows a current loop of radius a carrying a current I. The point P\n",
        "is a distance r from the center of the loop with spherical coordinates (r, θ, φ).\n",
        "Jackson (1988) solves for the φ component of the vector potential at point P\n",
        "in terms of elliptic integrals:\n",
        "\n",
        "\\begin{equation}\n",
        "A_{\\phi}(r, \\theta)=\\frac{\\mu_0}{4\\pi}\\frac{4Ia}{\\sqrt{a^2+r^2+2ar\\sin \\theta}}\\left(\\frac{(2-k^2)K(k)-2E(k)}{k^2} \\right)\n",
        "\\end{equation}\n",
        "\n",
        "\n",
        "where \n",
        "\n",
        "\\begin{equation}\n",
        "K(k)=\\int_{0}^{\\pi/2} \\frac{\\mathrm{d\\phi}}{\\sqrt{1-k^2\\sin^2\\phi}}\n",
        "\\end{equation}\n",
        "\n",
        "\n",
        "\\begin{equation}\n",
        "E(k)=\\int_{0}^{\\pi/2} \\mathrm{d\\phi} \\sqrt{1-k^2\\sin^2\\phi}\n",
        "\\end{equation}\n",
        "\n",
        "\n",
        "\\begin{equation}\n",
        "k^2=\\frac{4ar\\sin\\theta}{a^2+r^2+2ar\\sin\\theta}\n",
        "\\end{equation}\n",
        "\n",
        "\n",
        "\n",
        "Here K(k) is a complete elliptic integral of the first kind and E(k) is a complete\n",
        "elliptic integral of the second kind. For a = 1, I = 3, and μ0∕4π = 1, compute\n",
        "and plot\n",
        "\n",
        "a) Aφ(r = 1.1, θ) vs. θ\n",
        "\n",
        "b) Aφ(r, θ = π∕3) vs. r\n",
        "\n",
        "\n",
        "\n",
        "<!-- 7. Suppose a body of mass m is traveling vertically upward starting at the surface of the earth. If all\n",
        "resistance except gravity is neglected, the escape velocity v is given by\n",
        "\n",
        "$$\n",
        "v^2=2gR\\int_1 ^\\infty z^{-2} dz,\n",
        "$$\n",
        "\n",
        "where z=x/R, R is the earth radius and g de gravity aceleration. Approximate the scape velocity -->"
      ]
    },
    {
      "cell_type": "code",
      "source": [
        "K = lambda phi, kcuadrado: 1/np.sqrt(1-(kcuadrado)*(np.sin(phi)**2))\n",
        "E = lambda phi, kcuadrado: np.sqrt(1-(kcuadrado)*(np.sin(phi)**2))\n",
        "\n",
        "def A(R,theta,K_i,E_i, kcuadrado):\n",
        "  return ( 4*I*a/np.sqrt(a**2 + R**2 + 2*a*R*np.sin(theta)) ) * ((2-kcuadrado)*K_i - 2*E_i)/(kcuadrado)\n",
        "\n",
        "\n",
        "a = 1\n",
        "I = 3\n",
        "n = 1000      #Número de trapecios\n",
        "phi = np.linspace(0,np.pi/2,n)  #Dominio de integración de Phi\n",
        "theta = np.linspace(0.01,np.pi-0.01, n)\n",
        "r = np.linspace(0.01, 2*np.pi, n)\n",
        "kcuadrado =  lambda r,theta : 4*a*r*np.sin(theta)/(a**2 + r**2 + 2*a*r*np.sin(theta))\n",
        "\n",
        "K_integral = np.zeros(n)\n",
        "E_integral = np.zeros(n)\n",
        "punto_a = np.zeros(n)\n",
        "punto_b = np.zeros(n)\n",
        "for i in range(n):\n",
        "  #Para la resolución del punto a)\n",
        "  K_integral[i] = trapz(K(phi,kcuadrado(1.1,theta[i])), phi)\n",
        "  E_integral[i] = trapz(E(phi,kcuadrado(1.1,theta[i])), phi)\n",
        "  punto_a[i] = A(1.1, theta[i], K_integral[i], E_integral[i], kcuadrado(1.1,theta[i]))\n",
        "\n",
        "  #Para la resolución del punto b)\n",
        "  K_integral[i] = trapz(K(phi,kcuadrado(r[i],np.pi/3)), phi)\n",
        "  E_integral[i] = trapz(E(phi,kcuadrado(r[i],np.pi/3)), phi)\n",
        "  punto_b[i] = A(r[i], np.pi/3, K_integral[i], E_integral[i], kcuadrado(r[i],np.pi/3))\n",
        "\n",
        "\n",
        "fig, (ax1,ax2) = plt.subplots(2, sharex=True, figsize=(6,4))\n",
        "\n",
        "ax1.plot(theta, punto_a)\n",
        "ax1.set_title('Aφ(r = 1.1, θ) vs θ')\n",
        "ax1.set(ylabel = 'Aφ')\n",
        "ax1.set(xlabel = 'θ[rad]')\n",
        "ax1.grid()\n",
        "\n",
        "ax2.plot(r, punto_b, color ='orange')\n",
        "ax2.set_title('Aφ(r, θ=π/3) vs r')\n",
        "ax2.set(ylabel = 'Aφ')\n",
        "ax2.set(xlabel = 'r[distancia]')\n",
        "ax2.grid()\n",
        "fig.tight_layout();"
      ],
      "metadata": {
        "colab": {
          "base_uri": "https://localhost:8080/",
          "height": 407
        },
        "id": "9BiaVDTQ6JFU",
        "outputId": "2bf06cf5-e42d-4e57-897a-d66308764473"
      },
      "execution_count": 161,
      "outputs": [
        {
          "output_type": "display_data",
          "data": {
            "text/plain": [
              "<Figure size 600x400 with 2 Axes>"
            ],
            "image/png": "[encoded data removed]"
          },
          "metadata": {}
        }
      ]
    },
    {
      "cell_type": "code",
      "source": [],
      "metadata": {
        "id": "6S4UjqJxM7vO"
      },
      "execution_count": null,
      "outputs": []
    }
  ]
}