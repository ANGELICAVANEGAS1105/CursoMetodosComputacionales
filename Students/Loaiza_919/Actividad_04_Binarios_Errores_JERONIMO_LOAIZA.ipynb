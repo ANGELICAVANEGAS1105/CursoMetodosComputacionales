{
  "cells": [
    {
      "cell_type": "markdown",
      "id": "6d26e874",
      "metadata": {
        "id": "6d26e874"
      },
      "source": [
        "<a href=\"https://colab.research.google.com/github/hernansalinas/autogrades/blob/main/Actividades_clase/Actividad_04_Binarios_Errores.ipynb\" target=\"_parent\"><img src=\"https://colab.research.google.com/assets/colab-badge.svg\" alt=\"Open In Colab\"/></a>\n",
        "\n",
        "\n",
        "\n",
        "# Actividad 4\n",
        "### Métodos computacionales para físicos  y astrónomos\n",
        "### Universidad de Antioquia\n",
        "### Prof: Hernan D. Salinas Jiménez\n"
      ]
    },
    {
      "cell_type": "code",
      "execution_count": null,
      "id": "eae80e3f",
      "metadata": {
        "id": "eae80e3f",
        "outputId": "10e3a7a6-ebf2-49b5-d3ba-b7b95633b0bc",
        "colab": {
          "base_uri": "https://localhost:8080/"
        }
      },
      "outputs": [
        {
          "output_type": "stream",
          "name": "stdout",
          "text": [
            "Cloning into 'autogrades'...\n",
            "remote: Enumerating objects: 302, done.\u001b[K\n",
            "remote: Counting objects: 100% (286/286), done.\u001b[K\n",
            "remote: Compressing objects: 100% (204/204), done.\u001b[K\n",
            "remote: Total 302 (delta 126), reused 221 (delta 75), pack-reused 16\u001b[K\n",
            "Receiving objects: 100% (302/302), 36.64 MiB | 20.12 MiB/s, done.\n",
            "Resolving deltas: 100% (131/131), done.\n"
          ]
        }
      ],
      "source": [
        "!git clone https://github.com/hernansalinas/autogrades.git\n",
        "#path=\"libs\"\n",
        "path=\"autogrades/Actividades_clase/libs\"\n",
        "%run -i {path}/libUnitTest.py"
      ]
    },
    {
      "cell_type": "markdown",
      "id": "74f1131a",
      "metadata": {
        "id": "74f1131a"
      },
      "source": [
        "### Activity 1.0: \n",
        "\n",
        "Implement a function that get the binary representation of an integer with name mybin, the algorithm should return \n",
        "a string with 8 characters, the maximun number that represent the funcition is integer of 8 bit. The name of function is \n",
        "mybin\n",
        "\n",
        "Ejexample : \n",
        "\n",
        "b=mybin(x)\n",
        "\n",
        "b='00101000'"
      ]
    },
    {
      "cell_type": "code",
      "execution_count": null,
      "id": "4c8dabcf",
      "metadata": {
        "id": "4c8dabcf"
      },
      "outputs": [],
      "source": [
        "##!/usr/bin/env python3\n",
        "def mybin(x):\n",
        "  s = ''\n",
        "  while x != 0:\n",
        "    s = str(x%2)+s\n",
        "    x = x//2\n",
        "  s=s.rjust(8,'0')\n",
        "\n",
        "  return s"
      ]
    },
    {
      "cell_type": "code",
      "execution_count": null,
      "id": "885be6fb",
      "metadata": {
        "id": "885be6fb",
        "outputId": "9b40f01a-0d7b-44e0-8f30-17120c32c1e7",
        "colab": {
          "base_uri": "https://localhost:8080/",
          "height": 215
        }
      },
      "outputs": [
        {
          "output_type": "display_data",
          "data": {
            "text/plain": [
              "<IPython.core.display.HTML object>"
            ],
            "text/html": [
              "<style>\n",
              "  table { text-align: left; border-collapse: collapse; margin: 1em; caption-side: bottom; font-family: Sans-Serif; font-size: 12px}\n",
              "  caption { text-align: left; padding: 5px }\n",
              "  th, td { border: 2px solid #BFC9CA; padding: 5px }\n",
              "  th { background-color: #BFC9CA }\n",
              "  .passed { background-color: #76D7C4 }\n",
              "  .failed { background-color: #EC7063 }\n",
              "  .skipped { background-color: #EDBB99 }\n",
              "  .score { background-color: #7DCEA0 }\n",
              "  .results .points { display: none }\n",
              "  .results .message { display: block; font-size:smaller; color:#D35400 }\n",
              "  .results .note { display: block; font-size:smaller; font-decoration:italics }\n",
              "  .results .passed::before  { content: \"Passed\" } \n",
              "  .results .skipped::before  { content: \"Skipped\" } \n",
              "  .results .failed::before  { content: \"Failed\" } \n",
              "  .grade .passed  .message:empty::before { content:\"Passed\" }\n",
              "  .grade .failed  .message:empty::before { content:\"Failed\" }\n",
              "  .grade .skipped .message:empty::before { content:\"Skipped\" }   \n",
              "</style>\n",
              "<table class='results'>\n",
              "  <th class='test'>Test</th><th class='result'>Result</th></tr>\n",
              "<tr>\n",
              "  <td class='test'>\n",
              "    La salida debe ser un string \n",
              "    <div class='message'>Done</div>\n",
              "  </td>\n",
              "  <td class='result passed'></td>\n",
              "</tr>\n",
              "<tr>\n",
              "  <td class='test'>\n",
              "    La longitud del string debe ser de 8 \n",
              "    <div class='message'>Done</div>\n",
              "  </td>\n",
              "  <td class='result passed'></td>\n",
              "</tr>\n",
              "<tr>\n",
              "  <td class='test'>\n",
              "    Para el número 110 su representacion es 01101110 \n",
              "    <div class='message'>Done</div>\n",
              "  </td>\n",
              "  <td class='result passed'></td>\n",
              "</tr>  <tr><th class='score'>Total Points</th><th class='score'>3</th></tr></table>\n"
            ]
          },
          "metadata": {}
        }
      ],
      "source": [
        "%run -i {path}/Act_02/test01.py"
      ]
    },
    {
      "cell_type": "markdown",
      "id": "e622b7b5",
      "metadata": {
        "id": "e622b7b5"
      },
      "source": [
        "### Activity 2.0: \n",
        "\n",
        "With the binary representation please try to implement the formula to recover the number.\n",
        "\n",
        "Hint: Use as input the binary representation as a string and invert its order\n",
        "\n",
        "```\n",
        "number32(BIN):\n",
        "\n",
        "```\n",
        "\n",
        "Where BIN is a string with the binary number\n",
        "\n",
        "Example: \n",
        "\n",
        "\n",
        "Test your solution for the next number:\n",
        "\n",
        "number32(\"00111110001000000000001000010000\")"
      ]
    },
    {
      "cell_type": "code",
      "source": [
        "import numpy as np"
      ],
      "metadata": {
        "id": "jOpee_VnSUCg"
      },
      "id": "jOpee_VnSUCg",
      "execution_count": null,
      "outputs": []
    },
    {
      "cell_type": "code",
      "source": [
        "def number32(BIN):\n",
        "  strBIN = str(BIN)\n",
        "  s = int(strBIN[0])\n",
        "  reversedBIN = np.array(list(strBIN)[::-1]).astype(int)\n",
        "  entero = reversedBIN[23:31]\n",
        "  potencia = np.arange(entero.size)\n",
        "  \n",
        "  e = (entero*(2**potencia)).sum()\n",
        "\n",
        "  fraccion = reversedBIN[0:23]\n",
        "  reversedfrac = np.arange(1,fraccion.size+1)[::-1]\n",
        "\n",
        "  num = ( (-1)**s/2**(127-e)  )*( 1 + (fraccion/2**reversedfrac).sum() ) \n",
        "  return float(num)  \n",
        "\n",
        "number32('00111110001000000000001000010000')"
      ],
      "metadata": {
        "colab": {
          "base_uri": "https://localhost:8080/"
        },
        "id": "ipOez-UVHi4p",
        "outputId": "85bf42b5-7a28-4cd7-80f3-ea4d3c313ba3"
      },
      "id": "ipOez-UVHi4p",
      "execution_count": null,
      "outputs": [
        {
          "output_type": "execute_result",
          "data": {
            "text/plain": [
              "0.15625786781311035"
            ]
          },
          "metadata": {},
          "execution_count": 306
        }
      ]
    },
    {
      "cell_type": "code",
      "execution_count": null,
      "id": "155ffd7f",
      "metadata": {
        "id": "155ffd7f",
        "outputId": "e6ea4555-2ef6-48ff-c345-f8b9b8e538de",
        "colab": {
          "base_uri": "https://localhost:8080/",
          "height": 210
        }
      },
      "outputs": [
        {
          "output_type": "stream",
          "name": "stderr",
          "text": [
            "<ipython-input-303-8bdf9e3f4200>:13: RuntimeWarning: divide by zero encountered in long_scalars\n",
            "  num = ( (-1)**s/2**(127-e)  )*( 1 + (fraccion/2**reversedfrac).sum() )\n"
          ]
        },
        {
          "output_type": "display_data",
          "data": {
            "text/plain": [
              "<IPython.core.display.HTML object>"
            ],
            "text/html": [
              "<style>\n",
              "  table { text-align: left; border-collapse: collapse; margin: 1em; caption-side: bottom; font-family: Sans-Serif; font-size: 12px}\n",
              "  caption { text-align: left; padding: 5px }\n",
              "  th, td { border: 2px solid #BFC9CA; padding: 5px }\n",
              "  th { background-color: #BFC9CA }\n",
              "  .passed { background-color: #76D7C4 }\n",
              "  .failed { background-color: #EC7063 }\n",
              "  .skipped { background-color: #EDBB99 }\n",
              "  .score { background-color: #7DCEA0 }\n",
              "  .results .points { display: none }\n",
              "  .results .message { display: block; font-size:smaller; color:#D35400 }\n",
              "  .results .note { display: block; font-size:smaller; font-decoration:italics }\n",
              "  .results .passed::before  { content: \"Passed\" } \n",
              "  .results .skipped::before  { content: \"Skipped\" } \n",
              "  .results .failed::before  { content: \"Failed\" } \n",
              "  .grade .passed  .message:empty::before { content:\"Passed\" }\n",
              "  .grade .failed  .message:empty::before { content:\"Failed\" }\n",
              "  .grade .skipped .message:empty::before { content:\"Skipped\" }   \n",
              "</style>\n",
              "<table class='results'>\n",
              "  <th class='test'>Test</th><th class='result'>Result</th></tr>\n",
              "<tr>\n",
              "  <td class='test'>\n",
              "    La salida debe ser un float \n",
              "    <div class='message'>Done</div>\n",
              "  </td>\n",
              "  <td class='result passed'></td>\n",
              "</tr>\n",
              "<tr>\n",
              "  <td class='test'>\n",
              "    Realizando prueba para un numero binario \n",
              "    <div class='message'>Done</div>\n",
              "  </td>\n",
              "  <td class='result passed'></td>\n",
              "</tr>  <tr><th class='score'>Total Points</th><th class='score'>2</th></tr></table>\n"
            ]
          },
          "metadata": {}
        }
      ],
      "source": [
        "%run -i {path}/Act_02/test02.py"
      ]
    },
    {
      "cell_type": "markdown",
      "id": "d11e596d",
      "metadata": {
        "id": "d11e596d"
      },
      "source": [
        "### Activity 3.0:\n",
        "1. Write a python script that calculates the double precision number represented by a 64-bits binary.\n",
        "\n",
        "the name of function should be: \n",
        "```\n",
        "number64(BIN):\n",
        "\n",
        "```\n",
        "\n",
        "2. What is the number represented by:\n",
        "\n",
        "BIN=\"0 10000000011 1011100100001111111111111111111111111111111111111111\""
      ]
    },
    {
      "cell_type": "code",
      "source": [
        "\n",
        "BIN = \"0011111110001000000000000000000000000000000000000000000000000000\"\n",
        "\n",
        "strBIN = str(BIN)\n",
        "s = int(strBIN[0])\n",
        "reversedBIN = np.array(list(strBIN)[::-1]).astype(int)\n",
        "entero = reversedBIN[52:63]\n",
        "potencia = np.arange(entero.size) \n",
        "e = (entero*(2**potencia)).sum()\n",
        "print(e)\n",
        "k = int(e-1023)\n",
        "print(k)\n",
        "print(2**k)\n",
        "fraccion = reversedBIN[0:52]\n",
        "reversedfrac = np.arange(1,fraccion.size+1)[::-1]\n",
        "num = ( (-1)**s )*( 1 + (fraccion*(2**reversedfrac)).sum() )\n",
        "num"
      ],
      "metadata": {
        "colab": {
          "base_uri": "https://localhost:8080/"
        },
        "id": "QN3mhRHNKkDS",
        "outputId": "e55f5a15-aecf-4489-d85c-2209ea6d5b99"
      },
      "id": "QN3mhRHNKkDS",
      "execution_count": null,
      "outputs": [
        {
          "output_type": "stream",
          "name": "stdout",
          "text": [
            "1016\n",
            "-7\n",
            "0.0078125\n"
          ]
        },
        {
          "output_type": "execute_result",
          "data": {
            "text/plain": [
              "3"
            ]
          },
          "metadata": {},
          "execution_count": 247
        }
      ]
    },
    {
      "cell_type": "code",
      "execution_count": null,
      "id": "b0922a1d",
      "metadata": {
        "id": "b0922a1d",
        "colab": {
          "base_uri": "https://localhost:8080/"
        },
        "outputId": "2cec8957-b1d5-465b-bc7a-77aceb96cbc6"
      },
      "outputs": [
        {
          "output_type": "execute_result",
          "data": {
            "text/plain": [
              "27.566406249999996"
            ]
          },
          "metadata": {},
          "execution_count": 315
        }
      ],
      "source": [
        "def number64(BIN):\n",
        "  strBIN = str(BIN)\n",
        "  s = int(strBIN[0])\n",
        "  reversedBIN = np.array(list(strBIN)[::-1]).astype(int)\n",
        "  entero = reversedBIN[52:63]\n",
        "\n",
        "  potencia = np.arange(entero.size)\n",
        "  \n",
        "  e = int( (entero*(2**potencia)).sum() )\n",
        "\n",
        "  fraccion = reversedBIN[0:52][::-1]\n",
        "\n",
        "  posicionfrac = np.arange(1,fraccion.size+1)\n",
        "\n",
        "  num = ( (-1)**s )*( 1 + (fraccion/(2**posicionfrac)).sum() )*(2**(e-1023))\n",
        "  return float(num)  \n",
        "\n",
        "number64(\"0100000000111011100100001111111111111111111111111111111111111111\")"
      ]
    },
    {
      "cell_type": "code",
      "execution_count": null,
      "id": "cd48a992",
      "metadata": {
        "scrolled": false,
        "id": "cd48a992",
        "outputId": "657dac23-42c9-43f9-e685-a688c392c237",
        "colab": {
          "base_uri": "https://localhost:8080/",
          "height": 175
        }
      },
      "outputs": [
        {
          "output_type": "display_data",
          "data": {
            "text/plain": [
              "<IPython.core.display.HTML object>"
            ],
            "text/html": [
              "<style>\n",
              "  table { text-align: left; border-collapse: collapse; margin: 1em; caption-side: bottom; font-family: Sans-Serif; font-size: 12px}\n",
              "  caption { text-align: left; padding: 5px }\n",
              "  th, td { border: 2px solid #BFC9CA; padding: 5px }\n",
              "  th { background-color: #BFC9CA }\n",
              "  .passed { background-color: #76D7C4 }\n",
              "  .failed { background-color: #EC7063 }\n",
              "  .skipped { background-color: #EDBB99 }\n",
              "  .score { background-color: #7DCEA0 }\n",
              "  .results .points { display: none }\n",
              "  .results .message { display: block; font-size:smaller; color:#D35400 }\n",
              "  .results .note { display: block; font-size:smaller; font-decoration:italics }\n",
              "  .results .passed::before  { content: \"Passed\" } \n",
              "  .results .skipped::before  { content: \"Skipped\" } \n",
              "  .results .failed::before  { content: \"Failed\" } \n",
              "  .grade .passed  .message:empty::before { content:\"Passed\" }\n",
              "  .grade .failed  .message:empty::before { content:\"Failed\" }\n",
              "  .grade .skipped .message:empty::before { content:\"Skipped\" }   \n",
              "</style>\n",
              "<table class='results'>\n",
              "  <th class='test'>Test</th><th class='result'>Result</th></tr>\n",
              "<tr>\n",
              "  <td class='test'>\n",
              "    La salida debe ser un float \n",
              "    <div class='message'>Done</div>\n",
              "  </td>\n",
              "  <td class='result passed'></td>\n",
              "</tr>\n",
              "<tr>\n",
              "  <td class='test'>\n",
              "    Realizando prueba para un numero binario \n",
              "    <div class='message'>Done</div>\n",
              "  </td>\n",
              "  <td class='result passed'></td>\n",
              "</tr>  <tr><th class='score'>Total Points</th><th class='score'>2</th></tr></table>\n"
            ]
          },
          "metadata": {}
        }
      ],
      "source": [
        "%run -i {path}/Act_02/test03.py"
      ]
    }
  ],
  "metadata": {
    "kernelspec": {
      "display_name": "Python 3 (ipykernel)",
      "language": "python",
      "name": "python3"
    },
    "language_info": {
      "codemirror_mode": {
        "name": "ipython",
        "version": 3
      },
      "file_extension": ".py",
      "mimetype": "text/x-python",
      "name": "python",
      "nbconvert_exporter": "python",
      "pygments_lexer": "ipython3",
      "version": "3.8.12"
    },
    "colab": {
      "provenance": []
    }
  },
  "nbformat": 4,
  "nbformat_minor": 5
}