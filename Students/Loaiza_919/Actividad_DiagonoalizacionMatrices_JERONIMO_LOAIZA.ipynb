{
  "nbformat": 4,
  "nbformat_minor": 0,
  "metadata": {
    "colab": {
      "provenance": []
    },
    "kernelspec": {
      "name": "python3",
      "display_name": "Python 3"
    },
    "language_info": {
      "name": "python"
    }
  },
  "cells": [
    {
      "cell_type": "markdown",
      "source": [
        "# Autovalores, autovectores, polinomio caracteristico, diagonalización"
      ],
      "metadata": {
        "id": "Qms28ZxFZdXn"
      }
    },
    {
      "cell_type": "markdown",
      "source": [
        "| Librería | Función | Explicación |\n",
        "| --- | --- | --- |\n",
        "| numpy | numpy.linalg.eig | Calcula los autovalores y autovectores derechos de una matriz cuadrada |\n",
        "| numpy | numpy.linalg.eigh | Calcula los autovalores y autovectores de una matriz hermítica compleja o simétrica real |\n",
        "| numpy | numpy.poly | Calcula el polinomio característico de una matriz |\n",
        "| sympy | sympy.Matrix.eigenvals | Calcula los autovalores de una matriz simbólica |\n",
        "| sympy | sympy.Matrix.eigenvects | Calcula los autovalores y autovectores de una matriz simbólica |\n",
        "| sympy | sympy.Matrix.charpoly | Calcula el polinomio característico de una matriz simbólica |"
      ],
      "metadata": {
        "id": "ONmddMM3Youm"
      }
    },
    {
      "cell_type": "markdown",
      "source": [
        "Calcular el polinomio caracteristico, los  autovalores y autvectores propios de la siguiente matrices, comprobar con la solucion analitica:\n",
        "\n",
        "1. \n",
        "\\begin{bmatrix}\n",
        "1 & -1 & 4 \\\\\n",
        "3 & 2 & -1 \\\\\n",
        "2 & 1 & -1\n",
        "\\end{bmatrix}\n",
        "\n",
        "\n",
        "2. \\begin{bmatrix}\n",
        "3 & -5 \\\\\n",
        "1 & -1 \\\\\n",
        "\\end{bmatrix}\n",
        "\n",
        "\n",
        "\n"
      ],
      "metadata": {
        "id": "EwfvC822XBSY"
      }
    },
    {
      "cell_type": "code",
      "source": [
        "#@title Librerías\n",
        "import numpy as np\n",
        "import matplotlib.pyplot as plt\n",
        "import sympy as  sp"
      ],
      "metadata": {
        "cellView": "form",
        "id": "XqBPJdE7ljPq"
      },
      "execution_count": null,
      "outputs": []
    },
    {
      "cell_type": "code",
      "source": [
        "#@title _Solución con numpy_\n",
        "M1_np = np.array([[1,-1,4],\n",
        "               [3,2,-1],\n",
        "               [2,1,-1]])\n",
        "\n",
        "poly1_np = np.poly(M1_np)\n",
        "autoval1_np, autovec1_np = np.linalg.eig(M1_np)\n",
        "\n",
        "m2_np = np.array([[3,-5],\n",
        "                  [1,-1]])\n",
        "\n",
        "poly2_np = np.poly(m2_np)\n",
        "autoval2_np, autovec2_np = np.linalg.eig(m2_np)\n",
        "\n",
        "\n",
        "print(f'Matriz 1: \\n{M1_np}')\n",
        "print(f'Polinomio característico con coeficientes: {poly1_np}')\n",
        "print(f'Autovalores: {autoval1_np}')\n",
        "print(f'Autovec_np: \\n{autovec1_np}')\n",
        "print('------------------------------------')\n",
        "print(f'Matriz 2: \\n{m2_np}')\n",
        "print(f'Polinomio característico con coeficientes: {poly2_np}')\n",
        "print(f'Autovalores: {autoval2_np}')\n",
        "print(f'Autovec_np: \\n{autovec2_np}')"
      ],
      "metadata": {
        "colab": {
          "base_uri": "https://localhost:8080/"
        },
        "id": "kAFedHlVlMC-",
        "outputId": "08398ac7-26ab-427c-a616-499c90d89d96"
      },
      "execution_count": null,
      "outputs": [
        {
          "output_type": "stream",
          "name": "stdout",
          "text": [
            "Matriz 1: \n",
            "[[ 1 -1  4]\n",
            " [ 3  2 -1]\n",
            " [ 2  1 -1]]\n",
            "Polinomio característico con coeficientes: [ 1. -2. -5.  6.]\n",
            "Autovalores: [ 3. -2.  1.]\n",
            "Autovec_np: \n",
            "[[ 0.40824829  0.57735027  0.23570226]\n",
            " [ 0.81649658 -0.57735027 -0.94280904]\n",
            " [ 0.40824829 -0.57735027 -0.23570226]]\n",
            "------------------------------------\n",
            "Matriz 2: \n",
            "[[ 3 -5]\n",
            " [ 1 -1]]\n",
            "Polinomio característico con coeficientes: [ 1. -2.  2.]\n",
            "Autovalores: [1.+1.j 1.-1.j]\n",
            "Autovec_np: \n",
            "[[0.91287093+0.j         0.91287093-0.j        ]\n",
            " [0.36514837-0.18257419j 0.36514837+0.18257419j]]\n"
          ]
        }
      ]
    },
    {
      "cell_type": "code",
      "source": [
        "#@title _Solución con sympy_\n",
        "M1_sp = sp.Matrix(M1_np)\n",
        "\n",
        "poly1_sp = sp.Matrix.charpoly(M1_sp)\n",
        "autovec1_sp = sp.Matrix.eigenvects(M1_sp)\n",
        "autoval1_sp = sp.Matrix.eigenvals(M1_sp)\n",
        "\n",
        "\n",
        "m2_sp = sp.Matrix(m2_np)\n",
        "\n",
        "poly2_sp = sp.Matrix.charpoly(m2_sp)\n",
        "autovec2_sp = sp.Matrix.eigenvects(m2_sp)\n",
        "autoval2_sp = sp.Matrix.eigenvals(m2_sp)\n",
        "\n",
        "\n",
        "print(f'Matriz 1: \\n{M1_sp}')\n",
        "print(f'Polinomio característico con coeficientes: {poly1_sp}')\n",
        "print(f'Autovalores: {autoval1_sp}')\n",
        "print(f'Autovec_np: \\n{autovec1_sp}')\n",
        "print('------------------------------------')\n",
        "print(f'Matriz 2: \\n{m2_sp}')\n",
        "print(f'Polinomio característico con coeficientes: {poly2_sp}')\n",
        "print(f'Autovalores: {autoval2_sp}')\n",
        "print(f'Autovec_np: \\n{autovec2_sp}')"
      ],
      "metadata": {
        "colab": {
          "base_uri": "https://localhost:8080/"
        },
        "id": "yhr5WEsCoPHx",
        "outputId": "a9c9b3d9-f2a3-44c2-a6de-2ef42d69fbe0"
      },
      "execution_count": null,
      "outputs": [
        {
          "output_type": "stream",
          "name": "stdout",
          "text": [
            "Matriz 1: \n",
            "Matrix([[1, -1, 4], [3, 2, -1], [2, 1, -1]])\n",
            "Polinomio característico con coeficientes: PurePoly(lambda**3 - 2*lambda**2 - 5*lambda + 6, lambda, domain='ZZ')\n",
            "Autovalores: {3: 1, 1: 1, -2: 1}\n",
            "Autovec_np: \n",
            "[(-2, 1, [Matrix([\n",
            "[-1],\n",
            "[ 1],\n",
            "[ 1]])]), (1, 1, [Matrix([\n",
            "[-1],\n",
            "[ 4],\n",
            "[ 1]])]), (3, 1, [Matrix([\n",
            "[1],\n",
            "[2],\n",
            "[1]])])]\n",
            "------------------------------------\n",
            "Matriz 2: \n",
            "Matrix([[3, -5], [1, -1]])\n",
            "Polinomio característico con coeficientes: PurePoly(lambda**2 - 2*lambda + 2, lambda, domain='ZZ')\n",
            "Autovalores: {1 - I: 1, 1 + I: 1}\n",
            "Autovec_np: \n",
            "[(1 - I, 1, [Matrix([\n",
            "[2 - I],\n",
            "[    1]])]), (1 + I, 1, [Matrix([\n",
            "[2 + I],\n",
            "[    1]])])]\n"
          ]
        }
      ]
    },
    {
      "cell_type": "markdown",
      "source": [
        "# Diagonalizacion \n",
        "Una matriz cuadrada $A$ es diagonalizable si y solo si cada autovalor $\\lambda$ de multiplicidad $m$ produce exactamente $m$ autovectores básicos; es decir, si y solo si la solución general del sistema $(A-I\\lambda)\\vec{x}=0$ tiene exactamente $m$ parámetros.\n",
        "\n",
        "\n",
        "Para diagonalizar una matriz $A$, se necesita encontrar una matriz invertible $P$ tal que $P^{-1}AP$ sea una matriz diagonal $D$. Esto significa que las columnas de $P$ son los autovectores de $A$ y los elementos de la diagonal de $D$ son los autovalores correspondientes de $A$.\n",
        "\n",
        "Encuentre la matrix diagnonal para las matrices anteriores. \n",
        "\n"
      ],
      "metadata": {
        "id": "FjG0uYQ_ZlFo"
      }
    },
    {
      "cell_type": "code",
      "source": [
        "#@title _Diagonalización de las matrices anteriores_\n",
        "P1 = autovec1_np\n",
        "P2 = autovec2_np\n",
        "\n",
        "D1 = np.linalg.inv(P1) @ M1_np @ P1\n",
        "D2 = np.linalg.inv(P2) @ m2_np @ P2\n",
        "\n",
        "print(f'Matriz 1: \\n{M1_np}')\n",
        "print(f'Autovectores: \\n{autovec1_np}')\n",
        "print(f'Diagonalización: \\n{D1}')\n",
        "print('-----------------------------------------------------')\n",
        "print(f'Matriz 2: \\n{m2_np}')\n",
        "print(f'Autovectores: \\n{autovec2_np}')\n",
        "print(f'Diagonalización: \\n{D2}')"
      ],
      "metadata": {
        "colab": {
          "base_uri": "https://localhost:8080/"
        },
        "id": "BBmzxdLGyMQK",
        "outputId": "e127c397-b30d-4647-fce2-19c25dba15fb"
      },
      "execution_count": null,
      "outputs": [
        {
          "output_type": "stream",
          "name": "stdout",
          "text": [
            "Matriz 1: \n",
            "[[ 1 -1  4]\n",
            " [ 3  2 -1]\n",
            " [ 2  1 -1]]\n",
            "Autovectores: \n",
            "[[ 0.40824829  0.57735027  0.23570226]\n",
            " [ 0.81649658 -0.57735027 -0.94280904]\n",
            " [ 0.40824829 -0.57735027 -0.23570226]]\n",
            "Diagonalización: \n",
            "[[ 3.00000000e+00 -1.33226763e-15 -1.66533454e-15]\n",
            " [ 1.11022302e-15 -2.00000000e+00 -2.44249065e-15]\n",
            " [ 3.33066907e-16 -8.88178420e-16  1.00000000e+00]]\n",
            "-----------------------------------------------------\n",
            "Matriz 2: \n",
            "[[ 3 -5]\n",
            " [ 1 -1]]\n",
            "Autovectores: \n",
            "[[0.91287093+0.j         0.91287093-0.j        ]\n",
            " [0.36514837-0.18257419j 0.36514837+0.18257419j]]\n",
            "Diagonalización: \n",
            "[[ 1.00000000e+00+1.00000000e+00j -1.11022302e-16-3.88578059e-16j]\n",
            " [-5.55111512e-17+4.99600361e-16j  1.00000000e+00-1.00000000e+00j]]\n"
          ]
        }
      ]
    },
    {
      "cell_type": "markdown",
      "source": [
        "Actividad 2. \n",
        "\n",
        "Considere la ecuación cuadrática $x^2-4xy+3y^2=6$, esta ecuación cuadrática se corresponde a una hiperbola, la cual puede ser escrita en forma matricial como sigue:\n",
        "\n",
        "$A\\vec{v} \\cdot \\vec{v}=6$, donde $\\vec{v}=(x, y)$ y A es una matrix simetrica, \n",
        "\n",
        "\\begin{equation}\n",
        "A=\\begin{bmatrix}\n",
        "1 & -2 \\\\\n",
        "-2 & 3 \\\\\n",
        "\\end{bmatrix}\n",
        "\\end{equation}\n",
        "\n",
        "1. Realice un grafico que represente la hyperbola\n",
        "\n",
        "\n",
        "\n",
        "\n",
        "\n",
        "\n",
        "\n",
        "- Diagonalice A, para ello construya la matrix Q de autovectores ortoganales \n",
        "tal que $D=Q^{T}AQ$, en este caso se dice que A es diagonalizable ortogonalmente, donde $A=QDQ^T$.\n",
        "\n",
        "- Aplique el resultado de la siguiente demostración para encontrar una nueva hyperbola en una  nueva base\n",
        "\n",
        "\\begin{equation}\n",
        "QDQ^T \\vec{v} \\cdot \\vec{v} = d\n",
        "\\end{equation}\n",
        "\n",
        "\n",
        "\\begin{equation}\n",
        "Q(DQ^T\\vec{v}) \\cdot \\vec{v} = (DQ^T\\vec{v}) \\cdot (Q^T\\vec{v})=d\n",
        "\\end{equation}\n",
        "\n",
        "\n",
        "\\begin{equation}\n",
        "(DQ^T\\vec{v}) \\cdot (Q^T\\vec{v})=d\n",
        "\\end{equation}\n",
        "\n",
        "\n",
        "Sea $u=Q^T\\vec{v}$\n",
        "\n",
        "Luego :\n",
        "\n",
        "\n",
        "\\begin{equation}\n",
        "(D\\vec{u}) \\cdot \\vec{u}=d\n",
        "\\end{equation}\n",
        "\n",
        "donde $\\vec{u}=(x', y')$, tal que $D\\vec{u} \\cdot \\vec{u}=d$ es una nueva hyperbola \n",
        "\n",
        "\n",
        "\n",
        "\n",
        "\n",
        "\n",
        "\n"
      ],
      "metadata": {
        "id": "JwPHzdikikzu"
      }
    },
    {
      "cell_type": "code",
      "source": [
        "A = np.array([[1,-2],\n",
        "              [-2,3]])\n",
        "\n",
        "x = np.linspace(-5,5,1000) \n",
        "y = np.linspace(-5,,1000)\n",
        "\n",
        "x, y = np.meshgrid(x,y)"
      ],
      "metadata": {
        "id": "vyJHxkinijT2"
      },
      "execution_count": null,
      "outputs": []
    },
    {
      "cell_type": "code",
      "source": [
        "plt.contour(x,y, (x**2 - 4*x*y + 3*y**2 - 6), [0])\n",
        "plt.grid()"
      ],
      "metadata": {
        "colab": {
          "base_uri": "https://localhost:8080/",
          "height": 430
        },
        "id": "_7BleQDk2VKI",
        "outputId": "f924ba13-1e2c-44e8-9ae5-22d549fdd305"
      },
      "execution_count": null,
      "outputs": [
        {
          "output_type": "display_data",
          "data": {
            "text/plain": [
              "<Figure size 640x480 with 1 Axes>"
            ],
            "image/png": "[encoded data removed]"
          },
          "metadata": {}
        }
      ]
    },
    {
      "cell_type": "code",
      "source": [],
      "metadata": {
        "id": "ygyTovvA2x-6"
      },
      "execution_count": null,
      "outputs": []
    }
  ]
}