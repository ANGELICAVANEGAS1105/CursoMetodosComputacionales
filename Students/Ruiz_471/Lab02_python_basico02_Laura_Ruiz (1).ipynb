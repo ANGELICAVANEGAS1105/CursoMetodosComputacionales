{
  "nbformat": 4,
  "nbformat_minor": 0,
  "metadata": {
    "colab": {
      "provenance": []
    },
    "kernelspec": {
      "name": "python3",
      "display_name": "Python 3"
    },
    "language_info": {
      "name": "python"
    }
  },
  "cells": [
    {
      "cell_type": "markdown",
      "source": [
        "# Laboratorio 02\n",
        "### Métodos computacionales para físicos  y astrónomos\n",
        "### Universidad de Antioquia\n",
        "### Prof: Hernan D. Salinas Jiménez\n",
        "\n"
      ],
      "metadata": {
        "id": "kKNBYkSAIO_-"
      }
    },
    {
      "cell_type": "code",
      "source": [
        "!git clone https://github.com/hernansalinas/autogrades.git"
      ],
      "metadata": {
        "colab": {
          "base_uri": "https://localhost:8080/"
        },
        "id": "TFmOxrpqWCiE",
        "outputId": "22a68fac-7b16-460b-86ed-4393cc67e914"
      },
      "execution_count": null,
      "outputs": [
        {
          "output_type": "stream",
          "name": "stdout",
          "text": [
            "fatal: destination path 'autogrades' already exists and is not an empty directory.\n"
          ]
        }
      ]
    },
    {
      "cell_type": "code",
      "source": [
        "# Ejecutar esta celda antes de cada laboratorio\n",
        "path=\"autogrades/Laboratorios_Taller/libs\"\n",
        "pathL=\"autogrades/Laboratorios_Taller/libs/Lab_02\"\n",
        "%run -i {path}/libUnitTest.py"
      ],
      "metadata": {
        "id": "5tCaVJVzIRe3"
      },
      "execution_count": null,
      "outputs": []
    },
    {
      "cell_type": "markdown",
      "source": [
        "## Problemas\n",
        "\n",
        "### Factorial\n",
        "1. Elaborar un algoritmo e implementar en python, el factorial de un número entero `n` ingresado por el usuario.\n",
        "\n",
        "1. Si el número es un entero deberá retornal el factorial del número.\n",
        "2. Si el número es negativo deberá aparecer un mensaje tipo string con el mensaje  \"el número no puede ser negativo\"\n",
        "\n",
        "3. Si el número es pertenece a los reales(float) el mensaje será, el número no puede ser real.\n",
        "\n",
        "\n",
        "     ### Ejemplo de Ejecución\n",
        "    ```python\n",
        "\n",
        "    >>> factorial(3)\n",
        "        6\n",
        "\n",
        "    >>> factorial(1987123)\n",
        "        =???\n",
        "```\n"
      ],
      "metadata": {
        "id": "l--LTzupJe4I"
      }
    },
    {
      "cell_type": "code",
      "source": [
        "%run -i {pathL}/test01.py"
      ],
      "metadata": {
        "colab": {
          "base_uri": "https://localhost:8080/"
        },
        "id": "Z_yv_5NEMRqp",
        "outputId": "a59425fa-212e-4bf4-dd34-51d05e1e4672"
      },
      "execution_count": null,
      "outputs": [
        {
          "output_type": "stream",
          "name": "stdout",
          "text": [
            "La función no ha sido definda o el numero de argumento no es el adecuado\n"
          ]
        }
      ]
    },
    {
      "cell_type": "code",
      "source": [
        "n = int(input(\"Ingrese un número entero:\"))\n",
        "\n",
        "for i in range (n,1,-1):\n",
        "  n = n*(i-1)\n",
        "print(n)\n",
        "\n",
        "if n == 0:\n",
        "  print(1)\n",
        "\n",
        "elif n < 0:\n",
        "  print(\"El número no puede ser negativo\")\n",
        "\n",
        "elif type(n) == float:\n",
        "  print(\"El número no puede ser real\")"
      ],
      "metadata": {
        "colab": {
          "base_uri": "https://localhost:8080/"
        },
        "id": "eNvbAFWXCYq0",
        "outputId": "c28f26b2-7351-43d9-bfcb-f63c4ee676f5"
      },
      "execution_count": null,
      "outputs": [
        {
          "output_type": "stream",
          "name": "stdout",
          "text": [
            "Ingrese un número entero:5\n",
            "120\n"
          ]
        }
      ]
    },
    {
      "cell_type": "markdown",
      "source": [
        "### Teoria de números\n",
        "\n",
        "Los enunciados 2 y 3 se refieren a la siguiente información:\n",
        "\n",
        "Diseñar un programa en el que entrado  un numero `a`  retorne una variable booleana True or false si cumple que es:\n",
        "\n",
        "2. [Números defectivo](https://es.wikipedia.org/wiki/Número_defectivo) : la suma de los divisores propios es menor que el número. \n",
        "\n",
        "  La rutina se deberá llamar números_defectivos\n",
        "\n",
        "\n",
        "\n",
        "3. [Números abundantes](https://es.wikipedia.org/wiki/Número_abundante): la suma de los divisores es mayor que el número.\n",
        "\n",
        "  La rutina se deberá llamar números_abundantes\n",
        "\n",
        "\n",
        "\n",
        "4. [Números semiperfectos](https://es.wikipedia.org/wiki/N%C3%BAmero_semiperfecto) la suma de todos o algunos de los divisores propios es igual al número.\n",
        "\n",
        "  La rutina se debera llamar numeros_semiperfectos\n",
        "\n",
        "5. [Números perfectos](https://es.wikipedia.org/wiki/N%C3%BAmero_perfecto) la suma de todos sus divisores propios, excepto el mismo numero, es igual al número.\n",
        "\n",
        "   La rutina se deberá llamar numeros_perfectos\n",
        "\n",
        "\n",
        "6. [Números primos](https://es.wikipedia.org/wiki/N%C3%BAmero_primo) el número es divisible unicamente por sí mismo y por 1.\n",
        "   La rutina se deberá llamar numeros_primos\n",
        "\n",
        "\n",
        "Problema no obligatorio: \n",
        "\n",
        "P1. Retornar los 30 primeros números de cada clase"
      ],
      "metadata": {
        "id": "Y94jQ_tzdU6l"
      }
    },
    {
      "cell_type": "code",
      "source": [
        "%run -i {pathL}/test02.py\n",
        "\n",
        "#NUMEROS DEFECTIVOS Y ABUNDANTES\n",
        "\n",
        "n  = int(input(\"Ingrese un número:\"))\n",
        "a=1\n",
        "list=[]\n",
        "\n",
        "for i in range (1,n):\n",
        "  if n % a == 0:\n",
        "    list.append(a)\n",
        "    a += 1\n",
        "  else:\n",
        "    a += 1\n",
        "    #print(list)\n",
        "\n",
        "sum = 0\n",
        "for number in list:\n",
        "  sum += number\n",
        "#print(sum)\n",
        "\n",
        "El_numero_es_defectivo = True\n",
        "El_numero_es_abundante = False\n",
        "\n",
        "if sum < n:\n",
        "  print(El_numero_es_defectivo)\n",
        "\n",
        "else:\n",
        "  print(El_numero_es_abundante)\n",
        "\n",
        " "
      ],
      "metadata": {
        "colab": {
          "base_uri": "https://localhost:8080/"
        },
        "id": "XSyDVlnzi9KL",
        "outputId": "8528e232-5633-4a7d-9cf1-0624004e3fee"
      },
      "execution_count": null,
      "outputs": [
        {
          "output_type": "stream",
          "name": "stderr",
          "text": [
            "ERROR:root:File `'{pathL}/test02.py'` not found.\n"
          ]
        }
      ]
    },
    {
      "cell_type": "code",
      "source": [
        "#NUMEROS SEMIPERFECTOS\n",
        "\n",
        "n_principal  = int(input(\"Ingrese un número:\"))\n",
        "a=1\n",
        "list5=[]\n",
        "\n",
        "for i in range (1,n_principal):\n",
        "  if n_principal % a == 0:\n",
        "    list5.append(a)\n",
        "    a += 1\n",
        "  else:\n",
        "    a += 1\n",
        "\n",
        "n = len(list5)\n",
        "suma = 0\n",
        "\n",
        "for j in range(n):\n",
        "  suma += list5[j]\n",
        "\n",
        "contador = 0\n",
        "\n",
        "for k in range(n):\n",
        "  if suma - list5[k] == n_principal or suma + list5[k] == n_principal:\n",
        "    contador += 1\n",
        "  elif suma == n_principal:\n",
        "    contador += 1\n",
        "  else:\n",
        "    contador = contador\n",
        "\n",
        "if contador >= 1:\n",
        "  print(True)\n",
        "else:\n",
        "  print(False)"
      ],
      "metadata": {
        "colab": {
          "base_uri": "https://localhost:8080/"
        },
        "id": "ojtGVKuCEkeZ",
        "outputId": "8081c342-a0ff-45a6-df31-555c41a59287"
      },
      "execution_count": 120,
      "outputs": [
        {
          "output_type": "stream",
          "name": "stdout",
          "text": [
            "Ingrese un número:104\n",
            "True\n"
          ]
        }
      ]
    },
    {
      "cell_type": "code",
      "source": [
        "#NUMEROS PERFECTOS\n",
        "\n",
        "n  = int(input(\"Ingrese un número:\"))\n",
        "a=1\n",
        "list=[]\n",
        "\n",
        "for i in range (1,n):\n",
        "  if n % a == 0:\n",
        "    list.append(a)\n",
        "    a += 1\n",
        "  else:\n",
        "    a += 1\n",
        "    #print(list)\n",
        "\n",
        "sum = 0\n",
        "for number in list:\n",
        "  sum += number\n",
        "#print(sum)\n",
        "\n",
        "El_numero_es_perfecto = True\n",
        "El_numero_no_es_perfecto = False\n",
        "\n",
        "if sum == n:\n",
        "  print(El_numero_es_perfecto)\n",
        "\n",
        "else:\n",
        "  print(El_numero_no_es_perfecto)"
      ],
      "metadata": {
        "colab": {
          "base_uri": "https://localhost:8080/"
        },
        "id": "rIvGWXhbTvk5",
        "outputId": "a6629b94-fc87-4d02-9399-02aace28946f"
      },
      "execution_count": 123,
      "outputs": [
        {
          "output_type": "stream",
          "name": "stdout",
          "text": [
            "Ingrese un número:28\n",
            "True\n"
          ]
        }
      ]
    },
    {
      "cell_type": "code",
      "source": [
        "#NUMEROS PRIMOS\n",
        "\n",
        "n  = int(input(\"Ingrese un número:\"))\n",
        "\n",
        "divisible_por_si_mismo  = True\n",
        "divisible_por_uno = True\n",
        "no_cumple  = False\n",
        "\n",
        "if n%n == 0:\n",
        "  print(divisible_por_si_mismo)\n",
        "elif n%1 == 0:\n",
        "  print(divisible_por_uno)\n",
        "else:\n",
        "  print(no_cumple)\n",
        "\n"
      ],
      "metadata": {
        "colab": {
          "base_uri": "https://localhost:8080/"
        },
        "id": "H6hsGoEDUM4s",
        "outputId": "3b02df76-dd85-43b8-f800-8fab95bd5b33"
      },
      "execution_count": 126,
      "outputs": [
        {
          "output_type": "stream",
          "name": "stdout",
          "text": [
            "Ingrese un número:5\n",
            "True\n"
          ]
        }
      ]
    },
    {
      "cell_type": "code",
      "source": [
        "%run -i {pathL}/test03.py\n"
      ],
      "metadata": {
        "colab": {
          "base_uri": "https://localhost:8080/"
        },
        "id": "DfHfIk0DkQev",
        "outputId": "44023410-1a94-4c95-e2c1-625af08db682"
      },
      "execution_count": null,
      "outputs": [
        {
          "output_type": "stream",
          "name": "stdout",
          "text": [
            "La función no ha sido definda o el numero de argumento no es el adecuado\n"
          ]
        }
      ]
    },
    {
      "cell_type": "code",
      "source": [
        "%run -i {pathL}/test04.py"
      ],
      "metadata": {
        "id": "MJzLOXxHqKrz"
      },
      "execution_count": null,
      "outputs": []
    },
    {
      "cell_type": "code",
      "source": [
        "%run -i {pathL}/test05.py"
      ],
      "metadata": {
        "id": "m9bNF9I6qMnD",
        "colab": {
          "base_uri": "https://localhost:8080/"
        },
        "outputId": "89faf98c-4352-484c-df4f-8bba44616e49"
      },
      "execution_count": null,
      "outputs": [
        {
          "output_type": "stream",
          "name": "stderr",
          "text": [
            "ERROR:root:File `'autogrades/Laboratorios_Taller/libs/Lab_02/test05.py'` not found.\n"
          ]
        }
      ]
    },
    {
      "cell_type": "code",
      "source": [
        "%run -i {pathL}/test06.py"
      ],
      "metadata": {
        "id": "4uRbgtG8qN25",
        "colab": {
          "base_uri": "https://localhost:8080/"
        },
        "outputId": "ae697fc1-d60e-44c5-bf89-74acecb5daf4"
      },
      "execution_count": null,
      "outputs": [
        {
          "output_type": "stream",
          "name": "stderr",
          "text": [
            "ERROR:root:File `'autogrades/Laboratorios_Taller/libs/Lab_02/test06.py'` not found.\n"
          ]
        }
      ]
    },
    {
      "cell_type": "markdown",
      "source": [
        "\n",
        "7. Diseñar un programa en el que entrado dos números `a`  y `b` retorne una variable booleana **True** o **false**.\n",
        "\n",
        "  [Números amigos](https://es.wikipedia.org/wiki/N%C3%BAmeros_amigos) `a` y `b` tales que a es la suma de los divisores propios de `b` y viceversa.\n",
        "    La rutina se debera llamar numeros_amigos\n",
        " \n",
        "\n",
        "\n",
        "\n",
        "P2. Retornar los 10 primeros pares de numeros perfectos, semiperfectos, amigos \n",
        "\n"
      ],
      "metadata": {
        "id": "WXOT_ssoJh8x"
      }
    },
    {
      "cell_type": "code",
      "source": [
        "%run -i {pathL}/test07.py\n",
        "\n",
        "#NUMEROS AMIGOS \n",
        "\n",
        "n  = int(input())\n",
        "m = int(input())\n",
        "\n",
        "a=1\n",
        "b=1\n",
        "list_a=[]\n",
        "list_b=[]\n",
        "\n",
        "for i in range (1,n):\n",
        "  if n % a == 0:\n",
        "    list_a.append(a)\n",
        "    a += 1\n",
        "  else:\n",
        "    a += 1\n",
        "    #print(list)\n",
        "\n",
        "for i in range (1,m):\n",
        "  if m % b == 0:\n",
        "    list_b.append(b)\n",
        "    b += 1\n",
        "  else:\n",
        "    b += 1\n",
        "\n",
        "sum_a = 0\n",
        "for number in list_a:\n",
        "  sum_a += number\n",
        "#print(sum)\n",
        "\n",
        "sum_b = 0\n",
        "for number in list_b:\n",
        "  sum_b += number\n",
        "\n",
        "son_amigos = True\n",
        "no_son_amigos = False\n",
        "\n",
        "if sum_a == m and sum_b == n:\n",
        "  print(son_amigos)\n",
        "else:\n",
        "  print(no_son_amigos)\n",
        "\n"
      ],
      "metadata": {
        "colab": {
          "base_uri": "https://localhost:8080/"
        },
        "id": "VKsxuvsll5gm",
        "outputId": "356b2b46-cf40-4801-cb0b-5edde561a2b1"
      },
      "execution_count": null,
      "outputs": [
        {
          "output_type": "stream",
          "name": "stdout",
          "text": [
            "La función no ha sido definda o el numero de argumento no es el adecuado\n",
            "118\n",
            "110\n",
            "False\n"
          ]
        }
      ]
    },
    {
      "cell_type": "markdown",
      "source": [
        "3. Determine si un número `n` entero ingresado por el usuario es un [palíndromo](https://en.wikipedia.org/wiki/Palindromic_number), (Retorne `True` en caso afirmativo y `False` en caso contrario) \n",
        "\n",
        "```python\n",
        "\n",
        "\n",
        "    >>> palindromo(3333333)\n",
        "        True\n",
        "\n",
        "    >>> palindromo(2323)\n",
        "        True\n",
        "        \n",
        "    >>> palindromo(1111349111111)\n",
        "        False\n",
        "```\n",
        "\n",
        "\n"
      ],
      "metadata": {
        "id": "CTw0tXZlJoDp"
      }
    },
    {
      "cell_type": "code",
      "source": [
        "#NUMEROS PALINDROMOS\n",
        "\n",
        "n=int(input(\"Ingrese un número:\"))\n",
        "\n",
        "number = str(n)\n",
        "\n",
        "digits_sep=[]\n",
        "\n",
        "for digit_sep in number:\n",
        "  digit = int(digit_sep)\n",
        "  digits_sep.append(digit)\n",
        "\n",
        "if digits_sep[::1] == digits_sep[::-1]:\n",
        "  print(True)\n",
        "else:\n",
        "  print(False)\n",
        "\n",
        "#print(digits_sep[::1])\n",
        "#print(digits_sep[::-1])1"
      ],
      "metadata": {
        "id": "dMNHcQ7CY2uc",
        "colab": {
          "base_uri": "https://localhost:8080/"
        },
        "outputId": "26ebd472-9773-4378-98bb-3f0c14be9a96"
      },
      "execution_count": 128,
      "outputs": [
        {
          "output_type": "stream",
          "name": "stdout",
          "text": [
            "Ingrese un número:34543\n",
            "True\n"
          ]
        }
      ]
    },
    {
      "cell_type": "markdown",
      "source": [
        "8 Construir un programa en el que  entrado un arreglo de números se  ordenen de forma ascendente, Ver algoritmo\n",
        "[Quicksort](https://es.wikipedia.org/wiki/Quicksort). \n",
        "\n",
        "\n",
        "```python\n",
        "\n",
        "\n",
        "<<< v = [22, 32, 42, 12, 22, 31, 41, 11, 12, 232, 24, 12, 22]\n",
        "<<< def quicksort(v):\n",
        "\n",
        "<<<     return v\n",
        "<<< w = print(quicksort(v))\n",
        "<<< [11, 12, 12, 12, 22, 22, 22, 24, 31, 32, 41, 42, 232]\n",
        "\n",
        "```\n",
        "\n",
        "Sólo para comprobar tu código,  puedes hacer uso del comando sort de python. \n",
        "```python\n",
        "<<< b = [22, 32, 42, 12, 22, 31, 41, 11, 12, 232, 24, 12, 22]\n",
        "\n",
        "<<< print(b.sort())\n",
        "\n",
        "<<< [11, 12, 12, 12, 22, 22, 22, 24, 31, 32, 41, 42, 232]\n",
        "```"
      ],
      "metadata": {
        "id": "hBsfPzh_JuZg"
      }
    },
    {
      "cell_type": "code",
      "source": [
        "#ORDENANDO LISTAS\n",
        "\n",
        "mi_lista = input(\"Ingrese un arreglo de números:\")\n",
        "mi_lista = mi_lista.split(',')\n",
        "\n",
        "mi_lista1 = []\n",
        "\n",
        "for i in mi_lista:\n",
        "  entero  = int(i)\n",
        "  mi_lista1.append(entero)\n",
        "\n",
        "\n",
        "n = len(mi_lista1)\n",
        "\n",
        "for m in range(n):\n",
        "  mini = m\n",
        "  for j in range(m+1, n):\n",
        "    if mi_lista1[j] < mi_lista1[mini]:\n",
        "      mini = j\n",
        "  mi_lista1[m], mi_lista1[mini] = mi_lista1[mini],mi_lista1[m]\n",
        "mi_lista1\n",
        "\n"
      ],
      "metadata": {
        "colab": {
          "base_uri": "https://localhost:8080/"
        },
        "id": "7zSA7wxT4lrW",
        "outputId": "04b39cc1-cca4-4aec-da39-dca0c48063f0"
      },
      "execution_count": 129,
      "outputs": [
        {
          "name": "stdout",
          "output_type": "stream",
          "text": [
            "Ingrese un arreglo de números:5,3,4,1\n"
          ]
        },
        {
          "output_type": "execute_result",
          "data": {
            "text/plain": [
              "[1, 3, 4, 5]"
            ]
          },
          "metadata": {},
          "execution_count": 129
        }
      ]
    }
  ]
}