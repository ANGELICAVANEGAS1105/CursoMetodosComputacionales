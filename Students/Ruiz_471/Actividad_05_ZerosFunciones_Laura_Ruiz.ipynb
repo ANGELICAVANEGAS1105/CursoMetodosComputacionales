{
  "cells": [
    {
      "cell_type": "markdown",
      "metadata": {
        "id": "3a6dc6a1"
      },
      "source": [
        "<a href=\"https://colab.research.google.com/github/hernansalinas/autogrades/blob/main/Actividades_clase/Actividad_05_ZerosFunciones.ipynb\" target=\"_parent\"><img src=\"https://colab.research.google.com/assets/colab-badge.svg\" alt=\"Open In Colab\"/></a>\n",
        "\n",
        "\n",
        "\n",
        "# Actividad 5\n",
        "### Métodos computacionales para físicos  y astrónomos\n",
        "### Universidad de Antioquia\n",
        "### Prof: Hernan D. Salinas Jiménez\n",
        "Ref: https://github.com/restrepo/ComputationalMethods"
      ],
      "id": "3a6dc6a1"
    },
    {
      "cell_type": "markdown",
      "metadata": {
        "id": "8e59c672"
      },
      "source": [
        "\n",
        "In an IPython notebook, use the scipy implementation and find the first solution to the equation, write a function with the bisection methods.\n",
        "\n",
        "What is the solution if a=1, and b=1, what is the solution if a=2 and b=2\n",
        "  \n",
        "1. $ 7 = a\\sqrt{x^2+1}+be^x\\sin x $\n",
        "   \n",
        "\n"
      ],
      "id": "8e59c672"
    },
    {
      "cell_type": "markdown",
      "metadata": {
        "id": "ee7acda4"
      },
      "source": [
        "  \n",
        " 2. $a e^{x}-2= b\\cos(e^x-2)$"
      ],
      "id": "ee7acda4"
    },
    {
      "cell_type": "markdown",
      "metadata": {
        "id": "a232ecdd"
      },
      "source": [
        "3. Fixed point methods. \n",
        "\n",
        "When a new planet is discovered, there are different methods to estimate its physical properties. Many times is only possible to estimate either the planet mass or the planet radius and the other property has to be predicted through computer modelling.\n",
        "\n",
        "If one has the planet mass, a very rough way to estimate its radius is to assume certain composition (mean density) and a homogeneous distribution (a very bad assumption!). For example, for the planet [Gliese 832c](http://es.wikipedia.org/wiki/Gliese_832_c) with a mass $M= 5.40 M_{\\oplus}$, if we assume an earth-like composition, i.e. $\\bar \\rho_{\\oplus} = 5520\\ kg/m^3$, we obtain:\n",
        "\n",
        "$$R_{g832c} = \\left( \\frac{3 M_{g832c}}{ 4 \\pi \\bar\\rho_{\\oplus} } \\right)^{1/3} \\approx 1.75 R_{\\oplus}$$\n",
        "\n",
        "That would be the planet radius if the composition where exactly equal to earth's.\n",
        "\n",
        "A more realistic approach is assuming an internal one-layer density profile like:\n",
        "\n",
        "$$\\rho(r) = \\rho_0 \\exp\\left( -\\frac{r}{L} \\right)$$\n",
        "\n",
        "where $\\rho_0$ is the density at planet centre and $L$ is a characteristic lenght depending on the composition. From numerical models of planet interiors, the estimated parameters for a planet of are $M= 5.40 M_{\\oplus}$ are approximately $\\rho_0 = 18000\\ kg/m^3$ and $L = 6500\\ km$.\n",
        "\n",
        "Integrating over the planet volume, we obtain the total mass as\n",
        "\n",
        "$$M = 4\\pi \\int_0^R \\rho(r)r^2dr$$\n",
        "\n",
        "This is a function of the mass in terms of the planet radius. \n",
        "\n",
        "Solving the equation $M(R) = M_{g832c}$ it would be possible to find a more realistic planet radius. However when using numerical models, it is not possible to approach the solution from the left side as a negative mass makes no sense."
      ],
      "id": "a232ecdd"
    },
    {
      "cell_type": "markdown",
      "metadata": {
        "id": "d6060db6"
      },
      "source": [
        "3. **ACTIVITY** \n",
        "    \n",
        "In an IPython notebook and based on the routine NewtonRaphson, write your own routine SecantMethod that performs the previous steps for the Secant Method. Test your code with the function $f(x)$:\n",
        "    \n",
        "$f(x) = x - \\cos(x)$\n",
        "</font>"
      ],
      "id": "d6060db6"
    },
    {
      "cell_type": "markdown",
      "metadata": {
        "id": "08b04566"
      },
      "source": [
        "4. **ACTIVITY** \n",
        "\n",
        "\n",
        "It is known that light rays are deflected when they pass near by a gravitational field and that this deviation is proportional to the body mass which the light is interacting with and inversely proportional to the passing distance. \n",
        "Since it is common finding very massive structures in the universe and the measures that are done to study it involve photons, it makes sense to study what happens to a light source image when the rays get close to a grumpy object like a dark matter halo.  \n",
        "\n",
        "\n",
        "In order to study the light deflection in these cases, it will be used the simplest model, gravitational lens theory, where the len is a very massive object. A sketch of a typical system is shown in the figure below. The source plane is the light source or image that is going to be affected,  $\\eta$ is the distance from a image point to the line of sight and $\\beta$ the subtended angle by the point. \n",
        "The lens plane corresponds to the mass that affects the light coming from the source, $\\xi$ is the new image point distance to the line of sight, $\\theta$ is the subtended angle by the new point position. Then, $\\alpha$ is the deflection angle. \n",
        "\n",
        "Since from observations $\\theta$ is known, the problem to be solved per pixel usually is \n",
        "\n",
        "\\begin{equation}\n",
        "\\beta = \\theta - \\hat{\\alpha}(\\theta) \n",
        "\\end{equation}\n",
        "\n",
        "but $\\alpha$ also depends on $\\theta$ besides the len halo properties. This would allow construct the real image\n",
        "from the distorted and magnified one. \n",
        "\n",
        "<img src=\"https://github.com/restrepo/ComputationalMethods/blob/master/material/figures/lente1.png?raw=1\">\n",
        "\n",
        "This equation can also be written in terms of distances \n",
        "\n",
        "\\begin{equation}\n",
        "\\vec{\\eta}  = \\frac{D_s}{D_d} \\vec{\\xi} - D_{ds}\\alpha ( \\vec{\\xi }) \n",
        "\\end{equation}\n",
        "\n",
        "The solution to the lens equation is easier to get if it is assumed that the len is axially symmetric. In this case, the deflection angle  takes the next form\n",
        "\n",
        "$$ \\hat{\\alpha}(\\vec{\\xi}) = \\frac{\\vec{\\xi}}{|\\vec{\\xi}|^2} \\frac{8G\\pi}{c^2} \\int_0^\\xi d\\xi'\\xi'\\Sigma(\\xi')$$\n",
        "\n",
        "The quantity $\\Sigma$ is the surface mass density, i.e., the len's mass enclosed inside $\\xi$ circle per area unit.  \n",
        "It is important to notice that the direction of $\\alpha$ is the same as $\\xi$ and consequently $\\eta$. \n",
        "\n",
        "\n",
        "The problem to be solved is the next: Given the positions of a square find the image distorsion due to gravitational lensing, i.e., find the root of \\xi in the trascendal equation it satisfies. Use the routines given below and all of \n",
        "the data for the len and image that is going to be distorted. \n"
      ],
      "id": "08b04566"
    },
    {
      "cell_type": "markdown",
      "metadata": {
        "id": "OTHxkg7Pyyu_"
      },
      "source": [
        "# **Trabajo en clase**"
      ],
      "id": "OTHxkg7Pyyu_"
    },
    {
      "cell_type": "code",
      "execution_count": null,
      "metadata": {
        "id": "JuZMHIq3Negb"
      },
      "outputs": [],
      "source": [
        "import numpy as np\n",
        "import matplotlib.pylab as plt"
      ],
      "id": "JuZMHIq3Negb"
    },
    {
      "cell_type": "code",
      "execution_count": null,
      "metadata": {
        "id": "uIqzThplLh1u"
      },
      "outputs": [],
      "source": [
        "# Dada una función específica, usar el método de bisección\n",
        "\n",
        "def fun(x, a, b, c):\n",
        "  return a*(x-b)**2+c"
      ],
      "id": "uIqzThplLh1u"
    },
    {
      "cell_type": "code",
      "execution_count": null,
      "metadata": {
        "colab": {
          "base_uri": "https://localhost:8080/",
          "height": 265
        },
        "id": "PD9H9IoqT9Yq",
        "outputId": "96f409c7-f3a0-44e6-880b-87e0e63c992b"
      },
      "outputs": [
        {
          "output_type": "display_data",
          "data": {
            "text/plain": [
              "<Figure size 432x288 with 1 Axes>"
            ],
            "image/png": "[encoded data removed]"
          },
          "metadata": {
            "needs_background": "light"
          }
        }
      ],
      "source": [
        "x = np.linspace(0,4,100)\n",
        "parametros = (1,1,-1) #tuplas\n",
        "plt.plot(x,fun(x, *parametros), color='red')\n",
        "plt.grid()"
      ],
      "id": "PD9H9IoqT9Yq"
    },
    {
      "cell_type": "code",
      "execution_count": null,
      "metadata": {
        "colab": {
          "base_uri": "https://localhost:8080/"
        },
        "id": "QMCDZ9R8Vlkn",
        "outputId": "528eb5d9-78d5-448d-a467-601235a707e7"
      },
      "outputs": [
        {
          "output_type": "execute_result",
          "data": {
            "text/plain": [
              "2.0000000000004547"
            ]
          },
          "metadata": {},
          "execution_count": 4
        }
      ],
      "source": [
        "from scipy.optimize import bisect\n",
        "\n",
        "bisect(fun, 1, 2.5, args = parametros)"
      ],
      "id": "QMCDZ9R8Vlkn"
    },
    {
      "cell_type": "markdown",
      "metadata": {
        "id": "ALiJwUeILbB3"
      },
      "source": [
        "## **Solución actividad 01:**"
      ],
      "id": "ALiJwUeILbB3"
    },
    {
      "cell_type": "markdown",
      "metadata": {
        "id": "ewjhOB4eMCh2"
      },
      "source": [
        "$ 7 = a\\sqrt{x^2+1}+be^x\\sin x $"
      ],
      "id": "ewjhOB4eMCh2"
    },
    {
      "cell_type": "code",
      "execution_count": null,
      "metadata": {
        "id": "-zDwY_BDUXvQ"
      },
      "outputs": [],
      "source": [
        "def fun1(x,a,b):\n",
        "  return  7 - (b*np.exp(x)*np.sin(x)) - (a*np.sqrt(x**2 + 1))"
      ],
      "id": "-zDwY_BDUXvQ"
    },
    {
      "cell_type": "code",
      "execution_count": null,
      "metadata": {
        "colab": {
          "base_uri": "https://localhost:8080/"
        },
        "id": "QujG2UPQ5Ktl",
        "outputId": "db9d68ff-443c-4f1f-d44f-c0931b112e19"
      },
      "outputs": [
        {
          "output_type": "execute_result",
          "data": {
            "text/plain": [
              "1.628718494926943"
            ]
          },
          "metadata": {},
          "execution_count": 6
        }
      ],
      "source": [
        "a=1\n",
        "b=2\n",
        "q = bisect(fun1, a, b, args=(1,1))\n",
        "q"
      ],
      "id": "QujG2UPQ5Ktl"
    },
    {
      "cell_type": "code",
      "execution_count": null,
      "metadata": {
        "colab": {
          "base_uri": "https://localhost:8080/",
          "height": 286
        },
        "id": "3eAVW76e7JLI",
        "outputId": "448341cf-c1dd-4645-ea5b-56cb1cfab175"
      },
      "outputs": [
        {
          "output_type": "execute_result",
          "data": {
            "text/plain": [
              "Text(1.628718494926943, 0, '1.63')"
            ]
          },
          "metadata": {},
          "execution_count": 7
        },
        {
          "output_type": "display_data",
          "data": {
            "text/plain": [
              "<Figure size 432x288 with 1 Axes>"
            ],
            "image/png": "[encoded data removed]"
          },
          "metadata": {
            "needs_background": "light"
          }
        }
      ],
      "source": [
        "plt.plot(x,fun1(x,1 ,1), color='red')\n",
        "plt.grid()\n",
        "\n",
        "# Raíz encontrada por el método de la bisección\n",
        "root_ = q\n",
        "\n",
        "# Línea horizontal que indica la raíz\n",
        "plt.axhline(y=0, color='b', linestyle='--')\n",
        "\n",
        "plt.xlim(0.0, 3.5)\n",
        "plt.ylim(-30, 30)\n",
        "\n",
        "\n",
        "plt.plot(q,0,\"go\")\n",
        "plt.text(q,0,f\"{q:.3}\")"
      ],
      "id": "3eAVW76e7JLI"
    },
    {
      "cell_type": "code",
      "execution_count": null,
      "metadata": {
        "colab": {
          "base_uri": "https://localhost:8080/"
        },
        "id": "vdEe7Vsj2iUL",
        "outputId": "e15e7de3-8d08-4556-d08b-2144fe161b0c"
      },
      "outputs": [
        {
          "output_type": "execute_result",
          "data": {
            "text/plain": [
              "0.954051251295823"
            ]
          },
          "metadata": {},
          "execution_count": 8
        }
      ],
      "source": [
        "a=0.5\n",
        "b=1.5\n",
        "p = bisect(fun1, a, b, args=(2,2))\n",
        "p"
      ],
      "id": "vdEe7Vsj2iUL"
    },
    {
      "cell_type": "code",
      "execution_count": null,
      "metadata": {
        "colab": {
          "base_uri": "https://localhost:8080/",
          "height": 286
        },
        "id": "OAIIgrh57kmZ",
        "outputId": "5b92510c-8bcb-4882-c792-0ee472ed9e33"
      },
      "outputs": [
        {
          "output_type": "execute_result",
          "data": {
            "text/plain": [
              "Text(0.954051251295823, 0, '0.954')"
            ]
          },
          "metadata": {},
          "execution_count": 9
        },
        {
          "output_type": "display_data",
          "data": {
            "text/plain": [
              "<Figure size 432x288 with 1 Axes>"
            ],
            "image/png": "[encoded data removed]"
          },
          "metadata": {
            "needs_background": "light"
          }
        }
      ],
      "source": [
        "plt.plot(x,fun1(x,2 ,2), color='red')\n",
        "plt.grid()\n",
        "\n",
        "# Raíz encontrada por el método de la bisección\n",
        "root2 = p\n",
        "\n",
        "# Línea horizontal que indica la raíz\n",
        "plt.axhline(y=0, color='b', linestyle='--')\n",
        "\n",
        "plt.xlim(0.0, 3.5)\n",
        "plt.ylim(-30, 30)\n",
        "\n",
        "\n",
        "plt.plot(p,0,\"go\")\n",
        "plt.text(p,0,f\"{p:.3}\")"
      ],
      "id": "OAIIgrh57kmZ"
    },
    {
      "cell_type": "markdown",
      "metadata": {
        "id": "9GRC2pHozJcl"
      },
      "source": [
        "# **Solución actividad 02:**"
      ],
      "id": "9GRC2pHozJcl"
    },
    {
      "cell_type": "markdown",
      "metadata": {
        "id": "r8-ex-E0y93h"
      },
      "source": [
        "$ ae^x-2 = bcos(e^x-2) $"
      ],
      "id": "r8-ex-E0y93h"
    },
    {
      "cell_type": "code",
      "execution_count": null,
      "metadata": {
        "id": "bqX3pu43zNm9"
      },
      "outputs": [],
      "source": [
        "def fun_1(x,a,b):\n",
        "  return (a*(np.exp(x))) - 2 - (b*np.cos((np.exp(x))-2))"
      ],
      "id": "bqX3pu43zNm9"
    },
    {
      "cell_type": "code",
      "execution_count": null,
      "metadata": {
        "colab": {
          "base_uri": "https://localhost:8080/",
          "height": 265
        },
        "id": "nqu8OH_O07r3",
        "outputId": "989cfe23-d11c-493a-ae44-a3f0ead70531"
      },
      "outputs": [
        {
          "output_type": "display_data",
          "data": {
            "text/plain": [
              "<Figure size 432x288 with 1 Axes>"
            ],
            "image/png": "[encoded data removed]"
          },
          "metadata": {
            "needs_background": "light"
          }
        }
      ],
      "source": [
        "plt.plot(x,fun_1(x,1 ,1), color='green')\n",
        "plt.plot(x,fun_1(x,2 ,2), color='red')\n",
        "plt.grid()"
      ],
      "id": "nqu8OH_O07r3"
    },
    {
      "cell_type": "code",
      "execution_count": null,
      "metadata": {
        "colab": {
          "base_uri": "https://localhost:8080/"
        },
        "id": "LXRz_McE9vAb",
        "outputId": "5119f27f-eb98-484a-821c-1cba8d7485e6"
      },
      "outputs": [
        {
          "output_type": "execute_result",
          "data": {
            "text/plain": [
              "1.0076239716563578"
            ]
          },
          "metadata": {},
          "execution_count": 12
        }
      ],
      "source": [
        "a=0.5\n",
        "b=1.5\n",
        "w = bisect(fun_1, a, b, args=(1,1))\n",
        "w"
      ],
      "id": "LXRz_McE9vAb"
    },
    {
      "cell_type": "code",
      "execution_count": null,
      "metadata": {
        "colab": {
          "base_uri": "https://localhost:8080/",
          "height": 286
        },
        "id": "S2axn7KA9ssv",
        "outputId": "8a9f0502-234c-4dd8-8622-374bb9580ee5"
      },
      "outputs": [
        {
          "output_type": "execute_result",
          "data": {
            "text/plain": [
              "(-30.0, 30.0)"
            ]
          },
          "metadata": {},
          "execution_count": 13
        },
        {
          "output_type": "display_data",
          "data": {
            "text/plain": [
              "<Figure size 432x288 with 1 Axes>"
            ],
            "image/png": "[encoded data removed]"
          },
          "metadata": {
            "needs_background": "light"
          }
        }
      ],
      "source": [
        "plt.plot(x,fun_1(x,1 ,1), color='red')\n",
        "plt.grid()\n",
        "\n",
        "# Raíz encontrada por el método de la bisección\n",
        "root1 = 1.0220861045975198\n",
        "#root_ = 1.3300070385648723\n",
        "\n",
        "# Línea horizontal que indica la raíz\n",
        "plt.axhline(y=0, color='b', linestyle='--')\n",
        "\n",
        "\n",
        "plt.plot(w,0,\"go\")\n",
        "plt.text(w,0,f\"{w:.3}\")\n",
        "\n",
        "plt.xlim(0.0, 2.5)\n",
        "plt.ylim(-30, 30)"
      ],
      "id": "S2axn7KA9ssv"
    },
    {
      "cell_type": "code",
      "execution_count": null,
      "metadata": {
        "colab": {
          "base_uri": "https://localhost:8080/"
        },
        "id": "D6OkTbv-BLjj",
        "outputId": "eaa62120-a7d5-4ddb-9537-a179b7192511"
      },
      "outputs": [
        {
          "output_type": "execute_result",
          "data": {
            "text/plain": [
              "0.6931471805605725"
            ]
          },
          "metadata": {},
          "execution_count": 14
        }
      ],
      "source": [
        "a=0.5\n",
        "b=2\n",
        "z = bisect(fun_1, a, b, args=(2,2))\n",
        "z"
      ],
      "id": "D6OkTbv-BLjj"
    },
    {
      "cell_type": "code",
      "execution_count": null,
      "metadata": {
        "colab": {
          "base_uri": "https://localhost:8080/",
          "height": 286
        },
        "id": "yD_BQFRy9ijQ",
        "outputId": "a12d3c80-db69-4758-8f2b-7e7c532e19e1"
      },
      "outputs": [
        {
          "output_type": "execute_result",
          "data": {
            "text/plain": [
              "(-30.0, 30.0)"
            ]
          },
          "metadata": {},
          "execution_count": 15
        },
        {
          "output_type": "display_data",
          "data": {
            "text/plain": [
              "<Figure size 432x288 with 1 Axes>"
            ],
            "image/png": "[encoded data removed]"
          },
          "metadata": {
            "needs_background": "light"
          }
        }
      ],
      "source": [
        "plt.plot(x,fun_1(x,2 ,2), color='green')\n",
        "plt.grid()\n",
        "\n",
        "# Raíz encontrada por el método de la bisección\n",
        "root_3 = z\n",
        "\n",
        "# Línea horizontal que indica la raíz\n",
        "plt.axhline(y=0, color='b', linestyle='--')\n",
        "\n",
        "plt.plot(z,0,\"go\")\n",
        "plt.text(z,0.2,f\"{z:.3}\")\n",
        "\n",
        "plt.xlim(0.0, 2.5)\n",
        "plt.ylim(-30, 30)"
      ],
      "id": "yD_BQFRy9ijQ"
    },
    {
      "cell_type": "markdown",
      "metadata": {
        "id": "JrThYjDfcL3b"
      },
      "source": [
        "# **Solución actividad 03:**"
      ],
      "id": "JrThYjDfcL3b"
    },
    {
      "cell_type": "markdown",
      "metadata": {
        "id": "iFwcCMPvFhU2"
      },
      "source": [
        "**3.** Based on the routine NewtonRaphson, write your own routine SecantMethod"
      ],
      "id": "iFwcCMPvFhU2"
    },
    {
      "cell_type": "code",
      "execution_count": null,
      "metadata": {
        "id": "j3-a9cENKko_"
      },
      "outputs": [],
      "source": [
        "import sympy as sp\n",
        "import numpy as np\n",
        "import matplotlib.pylab as plt"
      ],
      "id": "j3-a9cENKko_"
    },
    {
      "cell_type": "code",
      "execution_count": null,
      "metadata": {
        "colab": {
          "base_uri": "https://localhost:8080/",
          "height": 265
        },
        "id": "bpOEXLreFmlN",
        "outputId": "40bffaa4-193e-46ff-bd98-6e34c4b63a63"
      },
      "outputs": [
        {
          "output_type": "display_data",
          "data": {
            "text/plain": [
              "<Figure size 432x288 with 1 Axes>"
            ],
            "image/png": "[encoded data removed]"
          },
          "metadata": {
            "needs_background": "light"
          }
        }
      ],
      "source": [
        "def funt(x):\n",
        "  f = x-np.cos(x)\n",
        "  return f\n",
        "\n",
        "x = np.linspace(-0.5,2,100)\n",
        "plt.plot(x, funt(x))\n",
        "plt.grid()"
      ],
      "id": "bpOEXLreFmlN"
    },
    {
      "cell_type": "code",
      "execution_count": null,
      "metadata": {
        "colab": {
          "base_uri": "https://localhost:8080/"
        },
        "id": "eWHorFV6Hr6t",
        "outputId": "b7baf4bc-ec4f-4e8f-a4a7-9df8d0813724"
      },
      "outputs": [
        {
          "output_type": "execute_result",
          "data": {
            "text/plain": [
              "-0.06484218728448854"
            ]
          },
          "metadata": {},
          "execution_count": 18
        }
      ],
      "source": [
        "# valor inicial de x, donde se espera que haya una raíz\n",
        "\n",
        "funt(0.7)"
      ],
      "id": "eWHorFV6Hr6t"
    },
    {
      "cell_type": "code",
      "execution_count": null,
      "metadata": {
        "colab": {
          "base_uri": "https://localhost:8080/",
          "height": 39
        },
        "id": "dfsEqnERJaEB",
        "outputId": "66d0f3ba-b05f-4588-e626-ddfc51e235fc"
      },
      "outputs": [
        {
          "output_type": "execute_result",
          "data": {
            "text/plain": [
              "sin(x) + 1"
            ],
            "text/latex": "$\\displaystyle \\sin{\\left(x \\right)} + 1$"
          },
          "metadata": {},
          "execution_count": 19
        }
      ],
      "source": [
        "# Definir función como objeto de sympy\n",
        "\n",
        "x = sp.symbols('x')\n",
        "\n",
        "def funt(x):\n",
        "  return x - sp.cos(x)\n",
        "\n",
        "# Derivada de la función\n",
        "\n",
        "fprima = sp.diff(funt(x), x)\n",
        "fprima"
      ],
      "id": "dfsEqnERJaEB"
    },
    {
      "cell_type": "code",
      "execution_count": null,
      "metadata": {
        "id": "p5jRjf4QOSYA"
      },
      "outputs": [],
      "source": [
        "from scipy import optimize"
      ],
      "id": "p5jRjf4QOSYA"
    },
    {
      "cell_type": "code",
      "execution_count": null,
      "metadata": {
        "id": "nx-auEEJTlZy"
      },
      "outputs": [],
      "source": [
        "funt_ = sp.lambdify(x,funt(x), \"numpy\")\n",
        "fprima_ = sp.lambdify(x, fprima,\"numpy\")"
      ],
      "id": "nx-auEEJTlZy"
    },
    {
      "cell_type": "code",
      "execution_count": null,
      "metadata": {
        "colab": {
          "base_uri": "https://localhost:8080/",
          "height": 265
        },
        "id": "77EGiUGYPwwF",
        "outputId": "23c15bd2-834c-4e48-8939-24e9174d1d4a"
      },
      "outputs": [
        {
          "output_type": "display_data",
          "data": {
            "text/plain": [
              "<Figure size 432x288 with 1 Axes>"
            ],
            "image/png": "[encoded data removed]"
          },
          "metadata": {
            "needs_background": "light"
          }
        }
      ],
      "source": [
        "x = np.linspace(0,2,100)\n",
        "plt.plot(x, funt_(x))\n",
        "P = optimize.newton(funt_,0.7, fprima_)\n",
        "plt.plot(P,0,\"go\")\n",
        "plt.text(P,0.2,f\"{P:.3}\")\n",
        "plt.grid()"
      ],
      "id": "77EGiUGYPwwF"
    },
    {
      "cell_type": "code",
      "execution_count": null,
      "metadata": {
        "colab": {
          "base_uri": "https://localhost:8080/"
        },
        "id": "w7K0zm-MUz_t",
        "outputId": "2d2cdba6-6533-4113-d70b-fb4ec8eedb4c"
      },
      "outputs": [
        {
          "output_type": "execute_result",
          "data": {
            "text/plain": [
              "0.7390851332163493"
            ]
          },
          "metadata": {},
          "execution_count": 23
        }
      ],
      "source": [
        "from scipy.optimize import bisect\n",
        "\n",
        "# Verificación con el método de bisección\n",
        "bisect(funt, 1, -2.5)"
      ],
      "id": "w7K0zm-MUz_t"
    },
    {
      "cell_type": "markdown",
      "metadata": {
        "id": "W6PrSWUiSSV6"
      },
      "source": [
        "# **Ejercicio Punto fijo:**"
      ],
      "id": "W6PrSWUiSSV6"
    },
    {
      "cell_type": "code",
      "execution_count": null,
      "metadata": {
        "id": "zCP9U2Wpe6nF"
      },
      "outputs": [],
      "source": [
        "from scipy.optimize import fixed_point\n",
        "\n",
        "#Punto fijo\n",
        "\n",
        "x = np.linspace(-10,8,100)\n",
        "\n",
        "def f_2(x):\n",
        "  return  7 - np.exp(x)*np.sin(x)-np.sqrt(x**2 + 1) \n",
        "\n",
        "def g(x):\n",
        "  g = x-(f_2(x))\n",
        "\n",
        "  return g\n",
        "\n",
        "a = fixed_point(g,2.5)"
      ],
      "id": "zCP9U2Wpe6nF"
    },
    {
      "cell_type": "code",
      "execution_count": null,
      "metadata": {
        "colab": {
          "base_uri": "https://localhost:8080/"
        },
        "id": "cmEozmHvW7r3",
        "outputId": "c24bc8b8-b110-4413-85a1-1a265dfe67e1"
      },
      "outputs": [
        {
          "output_type": "execute_result",
          "data": {
            "text/plain": [
              "array(-6.92879849)"
            ]
          },
          "metadata": {},
          "execution_count": 25
        }
      ],
      "source": [
        "# Defino un punto x_o y lo evaluo en g(x) \n",
        "x_o = 1\n",
        "\n",
        "g(x_o)\n",
        "\n",
        "point = fixed_point(g, x_o)\n",
        "point"
      ],
      "id": "cmEozmHvW7r3"
    },
    {
      "cell_type": "code",
      "execution_count": null,
      "metadata": {
        "id": "BFLQzQDgYncb"
      },
      "outputs": [],
      "source": [
        "def recta(x,m):\n",
        "  y = x*m\n",
        "  return y"
      ],
      "id": "BFLQzQDgYncb"
    },
    {
      "cell_type": "code",
      "execution_count": null,
      "metadata": {
        "id": "gXlcBPTQd25H"
      },
      "outputs": [],
      "source": [
        "x1 = np.linspace(-200,200,100)"
      ],
      "id": "gXlcBPTQd25H"
    },
    {
      "cell_type": "code",
      "execution_count": null,
      "metadata": {
        "colab": {
          "base_uri": "https://localhost:8080/",
          "height": 286
        },
        "id": "HhP1J8SnWjXB",
        "outputId": "71e09e4e-fdf0-4918-8c85-201fad30975f"
      },
      "outputs": [
        {
          "output_type": "execute_result",
          "data": {
            "text/plain": [
              "Text(0, -6.928798494348503, '-6.93')"
            ]
          },
          "metadata": {},
          "execution_count": 28
        },
        {
          "output_type": "display_data",
          "data": {
            "text/plain": [
              "<Figure size 432x288 with 1 Axes>"
            ],
            "image/png": "[encoded data removed]"
          },
          "metadata": {
            "needs_background": "light"
          }
        }
      ],
      "source": [
        "\n",
        "plt.plot(x,f_2(x), color='red')\n",
        "plt.plot(x1,recta(x1,20))\n",
        "\n",
        "plt.grid()\n",
        "\n",
        "plt.xlim(-1,10)\n",
        "plt.ylim(-200,200)\n",
        "\n",
        "plt.plot(point,0,\"go\")\n",
        "plt.text(0,point,f\"{point:.3}\")"
      ],
      "id": "HhP1J8SnWjXB"
    },
    {
      "cell_type": "code",
      "execution_count": null,
      "metadata": {
        "colab": {
          "base_uri": "https://localhost:8080/",
          "height": 286
        },
        "id": "IPfP-IaXWH49",
        "outputId": "d4053ae2-7cdf-48e3-9dcb-3cd4fbe3b5a7"
      },
      "outputs": [
        {
          "output_type": "execute_result",
          "data": {
            "text/plain": [
              "(-1000.0, 1000.0)"
            ]
          },
          "metadata": {},
          "execution_count": 29
        },
        {
          "output_type": "display_data",
          "data": {
            "text/plain": [
              "<Figure size 432x288 with 1 Axes>"
            ],
            "image/png": "[encoded data removed]"
          },
          "metadata": {
            "needs_background": "light"
          }
        }
      ],
      "source": [
        "plt.plot(x,f_2(x), color='red')\n",
        "plt.plot(x,g(x), color='blue')\n",
        "plt.grid()\n",
        "plt.xlim(0,8)\n",
        "plt.ylim(-1000,1000)"
      ],
      "id": "IPfP-IaXWH49"
    },
    {
      "cell_type": "markdown",
      "metadata": {
        "id": "0OfBsJDVcTpu"
      },
      "source": [
        "# **Solucion actividad 04:**"
      ],
      "id": "0OfBsJDVcTpu"
    },
    {
      "cell_type": "code",
      "execution_count": null,
      "metadata": {
        "id": "ll5MDZzykIzO"
      },
      "outputs": [],
      "source": [
        "from scipy import integrate"
      ],
      "id": "ll5MDZzykIzO"
    },
    {
      "cell_type": "code",
      "execution_count": null,
      "metadata": {
        "id": "YJ0wOmc1M2Kf"
      },
      "outputs": [],
      "source": [
        "from scipy.integrate import quad"
      ],
      "id": "YJ0wOmc1M2Kf"
    },
    {
      "cell_type": "code",
      "execution_count": null,
      "metadata": {
        "id": "aSOcPZDRcXKR"
      },
      "outputs": [],
      "source": [
        "#Datos iniciales\n",
        "\n",
        "m_tie  = 5.972 * (10**24)\n",
        "m_pla = 5.40 * m_tie\n",
        "\n",
        "rho = 5520\n",
        "\n",
        "L = 6500 #Km\n",
        "\n",
        "rho_0 = 18000"
      ],
      "id": "aSOcPZDRcXKR"
    },
    {
      "cell_type": "code",
      "source": [
        "#Funcion ya integrada\n",
        "\n",
        "def finte(r):\n",
        "\n",
        "  return (-468000000 * np.exp(-r/6500)*np.pi *(84500000 + 13000*r + r**2)) - 3.2045E25\n",
        " "
      ],
      "metadata": {
        "id": "tjfCvVlG78Cf"
      },
      "id": "tjfCvVlG78Cf",
      "execution_count": null,
      "outputs": []
    },
    {
      "cell_type": "code",
      "source": [
        "#Por el emtodo de punto fijo encontraremos los ceros\n",
        "\n",
        "r = np.linspace(1,16000E3,10000)\n",
        "\n",
        "def g(r):\n",
        "\n",
        "  g = r - (finte(r))\n",
        "\n",
        "  return g"
      ],
      "metadata": {
        "id": "Jd8Cbkqv8cGx"
      },
      "id": "Jd8Cbkqv8cGx",
      "execution_count": null,
      "outputs": []
    },
    {
      "cell_type": "code",
      "source": [
        "fixed_point(g,63710)"
      ],
      "metadata": {
        "colab": {
          "base_uri": "https://localhost:8080/"
        },
        "id": "IR5OfFO49Z1T",
        "outputId": "c64f7e86-1e9d-45bc-978e-9427077cddbf"
      },
      "id": "IR5OfFO49Z1T",
      "execution_count": null,
      "outputs": [
        {
          "output_type": "execute_result",
          "data": {
            "text/plain": [
              "array(2.53729813e+36)"
            ]
          },
          "metadata": {},
          "execution_count": 35
        }
      ]
    },
    {
      "cell_type": "code",
      "source": [
        "po = fixed_point(g,63710)\n",
        "\n",
        "print(\"El radio del planeta Mg832c es:\", po, \"metros\")"
      ],
      "metadata": {
        "colab": {
          "base_uri": "https://localhost:8080/"
        },
        "id": "G_ilIOKY-JM-",
        "outputId": "60a572f6-bcd6-451f-928a-b8cbbf078ee8"
      },
      "id": "G_ilIOKY-JM-",
      "execution_count": null,
      "outputs": [
        {
          "output_type": "stream",
          "name": "stdout",
          "text": [
            "El radio del planeta Mg832c es: 2.5372981310310385e+36 metros\n"
          ]
        }
      ]
    },
    {
      "cell_type": "code",
      "source": [
        "x1 = np.linspace(-200,200,100)"
      ],
      "metadata": {
        "id": "OJ6tUPwU-CGJ"
      },
      "id": "OJ6tUPwU-CGJ",
      "execution_count": null,
      "outputs": []
    },
    {
      "cell_type": "code",
      "execution_count": null,
      "metadata": {
        "id": "hLLQeyKiizNN"
      },
      "outputs": [],
      "source": [
        "#Funcion para la densidad\n",
        "\n",
        "def densidad(rho_0,r,L):\n",
        "\n",
        "  f = rho_0 * np.exp(-r/L)\n",
        "\n",
        "  return f"
      ],
      "id": "hLLQeyKiizNN"
    },
    {
      "cell_type": "code",
      "source": [
        "#Funcion de la masa\n",
        "import sympy \n",
        "\n",
        "def masa(r):\n",
        "\n",
        "  f1 = 4*np.pi\n",
        "  r = sympy.Symbol('r')\n",
        "  f = 8000 * (sympy.exp(-r/6500)) * (r**2)\n",
        "\n",
        "  # Integrar\n",
        "  f2 = sympy.integrate(f, (r, 0, r))\n",
        "\n",
        "  f3 = 3.02*(10**16)\n",
        "\n",
        "  y = (f1 * (f2)) - f3\n",
        "\n",
        "  return y"
      ],
      "metadata": {
        "id": "jTgPgHzY-IQG"
      },
      "id": "jTgPgHzY-IQG",
      "execution_count": null,
      "outputs": []
    },
    {
      "cell_type": "code",
      "source": [
        "masa(r)"
      ],
      "metadata": {
        "colab": {
          "base_uri": "https://localhost:8080/",
          "height": 39
        },
        "id": "B7V6V-6S-v7Y",
        "outputId": "c29be3cf-c9fd-4ff6-e05c-92fcd69fdd96"
      },
      "id": "B7V6V-6S-v7Y",
      "execution_count": null,
      "outputs": [
        {
          "output_type": "execute_result",
          "data": {
            "text/plain": [
              "12.5663706143592*(-52000000*r**2 - 676000000000*r - 4394000000000000)*exp(-r/6500) + 2.50166324794942e+16"
            ],
            "text/latex": "$\\displaystyle 12.5663706143592 \\left(- 52000000 r^{2} - 676000000000 r - 4394000000000000\\right) e^{- \\frac{r}{6500}} + 2.50166324794942 \\cdot 10^{16}$"
          },
          "metadata": {},
          "execution_count": 41
        }
      ]
    },
    {
      "cell_type": "code",
      "source": [
        "from sympy.utilities.lambdify import lambdify"
      ],
      "metadata": {
        "id": "ELdTRRO-CgWm"
      },
      "id": "ELdTRRO-CgWm",
      "execution_count": null,
      "outputs": []
    },
    {
      "cell_type": "code",
      "execution_count": null,
      "metadata": {
        "colab": {
          "base_uri": "https://localhost:8080/"
        },
        "id": "-VOf8rNYNxI5",
        "outputId": "54931820-bf48-4ea3-f2eb-219309f16494"
      },
      "outputs": [
        {
          "output_type": "stream",
          "name": "stdout",
          "text": [
            "(-52000000*r**2 - 676000000000*r - 4394000000000000)*exp(-r/6500) + 4394000000000000\n"
          ]
        }
      ],
      "source": [
        "import sympy\n",
        "\n",
        "#Definir la funcion\n",
        "\n",
        "r = sympy.Symbol('r')\n",
        "f = 8000 * (sympy.exp(-r/6500)) * (r**2)\n",
        "\n",
        "# Integrar\n",
        "F = sympy.integrate(f, (r, 0, r))\n",
        "\n",
        "print(F)"
      ],
      "id": "-VOf8rNYNxI5"
    },
    {
      "cell_type": "code",
      "execution_count": null,
      "metadata": {
        "colab": {
          "base_uri": "https://localhost:8080/",
          "height": 39
        },
        "id": "Nu3yjUBbOsUe",
        "outputId": "2db6ae54-799a-4f08-8273-33508ce37753"
      },
      "outputs": [
        {
          "output_type": "execute_result",
          "data": {
            "text/plain": [
              "(-52000000*r**2 - 676000000000*r - 4394000000000000)*exp(-r/6500) + 4394000000000000"
            ],
            "text/latex": "$\\displaystyle \\left(- 52000000 r^{2} - 676000000000 r - 4394000000000000\\right) e^{- \\frac{r}{6500}} + 4394000000000000$"
          },
          "metadata": {},
          "execution_count": 44
        }
      ],
      "source": [
        "r = sympy.Symbol('r')\n",
        "\n",
        "inte = ((-52000000*r**2 - 676000000000*r - 4394000000000000)*sympy.exp(-r/6500) + 4394000000000000)\n",
        "\n",
        "inte"
      ],
      "id": "Nu3yjUBbOsUe"
    },
    {
      "cell_type": "code",
      "source": [
        "# Convertir la función simbólica en una función numérica\n",
        "func_num = lambdify(r, inte, \"numpy\")\n",
        "\n",
        "# Agregar un término lineal a la función numérica\n",
        "func_num_mod = lambda r: 4*np.pi*(func_num(r)) + 3.02*(10**16)"
      ],
      "metadata": {
        "id": "XJMOV_AiDjks"
      },
      "id": "XJMOV_AiDjks",
      "execution_count": null,
      "outputs": []
    },
    {
      "cell_type": "code",
      "source": [
        "# Vectorizamos la función lambda para obtener una función en forma de arreglo numpy\n",
        "#funcion_numpy = np.vectorize(F)\n",
        "\n",
        "funcion_numpy = sp.lambdify(r, inte)"
      ],
      "metadata": {
        "id": "q7HCdU0t6S6F"
      },
      "id": "q7HCdU0t6S6F",
      "execution_count": null,
      "outputs": []
    },
    {
      "cell_type": "code",
      "source": [
        "import numpy as np\n",
        "from scipy.optimize import fsolve\n",
        "\n",
        "# Utilizamos la función fsolve() de scipy.optimize para encontrar las raíces\n",
        "raices2 = fsolve(funcion_numpy, 1)\n",
        "print(raices2)\n"
      ],
      "metadata": {
        "colab": {
          "base_uri": "https://localhost:8080/"
        },
        "id": "58AuutZa9BKA",
        "outputId": "f65748d2-14d1-41b3-8ec7-3f0495bce007"
      },
      "id": "58AuutZa9BKA",
      "execution_count": null,
      "outputs": [
        {
          "output_type": "stream",
          "name": "stdout",
          "text": [
            "[0.99987265]\n"
          ]
        },
        {
          "output_type": "stream",
          "name": "stderr",
          "text": [
            "/usr/local/lib/python3.9/dist-packages/scipy/optimize/_minpack_py.py:178: RuntimeWarning: The iteration is not making good progress, as measured by the \n",
            "  improvement from the last ten iterations.\n",
            "  warnings.warn(msg, RuntimeWarning)\n"
          ]
        }
      ]
    }
  ],
  "metadata": {
    "colab": {
      "provenance": []
    },
    "kernelspec": {
      "display_name": "Python 3 (ipykernel)",
      "language": "python",
      "name": "python3"
    },
    "language_info": {
      "codemirror_mode": {
        "name": "ipython",
        "version": 3
      },
      "file_extension": ".py",
      "mimetype": "text/x-python",
      "name": "python",
      "nbconvert_exporter": "python",
      "pygments_lexer": "ipython3",
      "version": "3.8.12"
    }
  },
  "nbformat": 4,
  "nbformat_minor": 5
}