{
  "cells": [
    {
      "cell_type": "markdown",
      "metadata": {
        "id": "view-in-github",
        "colab_type": "text"
      },
      "source": [
        "<a href=\"https://colab.research.google.com/github/Elizajr/CursoMetodosComputacionales/blob/main/Lab09_Matrices.ipynb\" target=\"_parent\"><img src=\"https://colab.research.google.com/assets/colab-badge.svg\" alt=\"Open In Colab\"/></a>"
      ]
    },
    {
      "cell_type": "markdown",
      "metadata": {
        "id": "zX5mmeZ08lWy"
      },
      "source": [
        "<a href=\"https://colab.research.google.com/github/hernansalinas/autogrades/blob/main/Laboratorios_Taller/Lab09_Matrices_v0.ipynb\" target=\"_parent\"><img src=\"https://colab.research.google.com/assets/colab-badge.svg\" alt=\"Open In Colab\"/></a>"
      ]
    },
    {
      "cell_type": "code",
      "source": [
        "import numpy as np\n",
        "from numpy import linalg\n",
        "import sympy as sy\n",
        "import pylab as plt"
      ],
      "metadata": {
        "id": "MB0oTdsFf3FF"
      },
      "execution_count": null,
      "outputs": []
    },
    {
      "cell_type": "markdown",
      "metadata": {
        "id": "zRInnDiKcbSB"
      },
      "source": [
        "# Matrices\n",
        "\n",
        "1. **Modelo de encriptación**\n",
        "\n",
        "Un proceso para encriptar un mensaje secreto es usar cierta matrix cuadrada cuyos elementos son enteros con elementos enteros en la inversa. Se recibe un mensaje, se asigna un número a cada letra Por ejemplo, A=1, B=2, C=3, ... etc y espacio=27), se arreglan los números en una matriz de izquierda a derecha en cada fila, donde el número de elementos en la fila es igual al tamaño de la matriz de código, se multiplica esa matriz por la matriz de código por la derecha, se transcribe el mensaje en una cadena de números y se manda el mensaje.\n",
        "\n",
        "La persona que debe recibir el mensaje conoce la matriz de código. El o ella arrglan el mensaje encriptado en una matriz de izquierda a derecha en cada fila, en donde el número de elementos en una fila conicide con el tamaño de la matriz de código multiplicada por la derecha, por el inverso de la matriz de código y puede leer mensaje decodificado.\n",
        "\n",
        "Usted a recibido el siguiente mensaje que fue encriptado usando la matriz A. Decodifiquelo.\n",
        "\n",
        "```\n",
        "matrix([[ 1,  2, -3,  4,  5],\n",
        "        [-2, -5,  8, -8, -9],\n",
        "        [ 1,  2, -2,  7,  9],\n",
        "        [ 1,  1,  0,  6, 12],\n",
        "        [ 2,  4, -6,  8, 11]])\n",
        "```\n",
        "\n",
        "Mensaje\n",
        "\n",
        "47,49,-19,257,487,10,-9,63,137,236, 79,142,-184,372,536,59,70,-40,332,588,\n",
        "\n",
        "la primera fila del mensaje es 47,49,-19,257,487\n",
        "\n",
        "¿Cual es el mensaje?\n",
        "\n"
      ]
    },
    {
      "cell_type": "code",
      "source": [
        "m = np.matrix([[ 1,  2, -3,  4,  5],\n",
        "              [-2, -5,  8, -8, -9],\n",
        "              [ 1,  2, -2,  7,  9],\n",
        "              [ 1,  1,  0,  6, 12],\n",
        "              [ 2,  4, -6,  8, 11]])\n",
        "m"
      ],
      "metadata": {
        "colab": {
          "base_uri": "https://localhost:8080/"
        },
        "id": "JJTUJixRfvA1",
        "outputId": "1819792f-2ab8-40be-8121-dd70f73f4aad"
      },
      "execution_count": null,
      "outputs": [
        {
          "output_type": "execute_result",
          "data": {
            "text/plain": [
              "matrix([[ 1,  2, -3,  4,  5],\n",
              "        [-2, -5,  8, -8, -9],\n",
              "        [ 1,  2, -2,  7,  9],\n",
              "        [ 1,  1,  0,  6, 12],\n",
              "        [ 2,  4, -6,  8, 11]])"
            ]
          },
          "metadata": {},
          "execution_count": 191
        }
      ]
    },
    {
      "cell_type": "code",
      "source": [
        "inversa = np.linalg.inv(m)\n",
        "#np.shape(inversa)\n",
        "inversa"
      ],
      "metadata": {
        "colab": {
          "base_uri": "https://localhost:8080/"
        },
        "id": "nLW_qVOSgKm-",
        "outputId": "c701267c-4eda-4d0b-e542-bba8e24c28c9"
      },
      "execution_count": null,
      "outputs": [
        {
          "output_type": "execute_result",
          "data": {
            "text/plain": [
              "matrix([[ 14.,   1.,  -2.,   1.,  -5.],\n",
              "        [ 22.,  -7.,  -4.,   6., -19.],\n",
              "        [ 13.,  -3.,  -2.,   3., -10.],\n",
              "        [ -2.,   1.,   1.,  -1.,   2.],\n",
              "        [ -2.,  -0.,  -0.,  -0.,   1.]])"
            ]
          },
          "metadata": {},
          "execution_count": 192
        }
      ]
    },
    {
      "cell_type": "code",
      "source": [
        "mensaje = np.matrix([[47,49,-19,257,487],\n",
        "                    [10,-9,63,137,236],\n",
        "                    [79,142,-184,372,536],\n",
        "                    [59,70,-40,332,588]])\n",
        "#np.shape(mensaje)\n",
        "mensaje"
      ],
      "metadata": {
        "colab": {
          "base_uri": "https://localhost:8080/"
        },
        "id": "ENb2hGgBgUfL",
        "outputId": "0e02143e-1b5d-41fa-977d-753ba03a57a2"
      },
      "execution_count": null,
      "outputs": [
        {
          "output_type": "execute_result",
          "data": {
            "text/plain": [
              "matrix([[  47,   49,  -19,  257,  487],\n",
              "        [  10,   -9,   63,  137,  236],\n",
              "        [  79,  142, -184,  372,  536],\n",
              "        [  59,   70,  -40,  332,  588]])"
            ]
          },
          "metadata": {},
          "execution_count": 193
        }
      ]
    },
    {
      "cell_type": "code",
      "source": [
        "descrip = np.matmul(mensaje,inversa)\n",
        "#descrip = descrip.astype(int)+1\n",
        "descrip = descrip.reshape(1,20)\n",
        "descrip"
      ],
      "metadata": {
        "colab": {
          "base_uri": "https://localhost:8080/"
        },
        "id": "Qm01KU1bg4xG",
        "outputId": "56e57604-135c-4064-ffa4-80f35defeae3"
      },
      "execution_count": null,
      "outputs": [
        {
          "output_type": "execute_result",
          "data": {
            "text/plain": [
              "matrix([[ 1., 18.,  5., 27., 25., 15., 21., 27.,  8.,  1., 22.,  9., 14.,\n",
              "          7., 27.,  6., 21., 14., 27., 27.]])"
            ]
          },
          "metadata": {},
          "execution_count": 194
        }
      ]
    },
    {
      "cell_type": "code",
      "source": [
        "letras = [\"a\", \"b\", \"c\", \"d\", \"e\", \"f\", \"g\", \"h\", \"i\", \"j\", \"k\", \"l\", \"m\", \"n\", \"o\", \"p\", \"q\", \"r\", \"s\", \"t\", \"u\", \"v\", \"w\", \"x\", \"y\", \"z\", \" \"]\n",
        "dicc ={}\n",
        "for i,e in enumerate(letras):\n",
        "  dicc[i+1] = e\n",
        "dicc"
      ],
      "metadata": {
        "colab": {
          "base_uri": "https://localhost:8080/"
        },
        "id": "x7ysoPHOhkMf",
        "outputId": "b0811892-1ca7-45cf-d182-8c86d5b885c5"
      },
      "execution_count": null,
      "outputs": [
        {
          "output_type": "execute_result",
          "data": {
            "text/plain": [
              "{1: 'a',\n",
              " 2: 'b',\n",
              " 3: 'c',\n",
              " 4: 'd',\n",
              " 5: 'e',\n",
              " 6: 'f',\n",
              " 7: 'g',\n",
              " 8: 'h',\n",
              " 9: 'i',\n",
              " 10: 'j',\n",
              " 11: 'k',\n",
              " 12: 'l',\n",
              " 13: 'm',\n",
              " 14: 'n',\n",
              " 15: 'o',\n",
              " 16: 'p',\n",
              " 17: 'q',\n",
              " 18: 'r',\n",
              " 19: 's',\n",
              " 20: 't',\n",
              " 21: 'u',\n",
              " 22: 'v',\n",
              " 23: 'w',\n",
              " 24: 'x',\n",
              " 25: 'y',\n",
              " 26: 'z',\n",
              " 27: ' '}"
            ]
          },
          "metadata": {},
          "execution_count": 195
        }
      ]
    },
    {
      "cell_type": "code",
      "source": [
        "arreglo = np.array(descrip)\n",
        "salida = \"\"\n",
        "for i,m in enumerate(arreglo[0]):\n",
        "  #print(round(m))\n",
        "  salida += (dicc[round(m)])"
      ],
      "metadata": {
        "id": "U9NiUE1fizhG"
      },
      "execution_count": null,
      "outputs": []
    },
    {
      "cell_type": "code",
      "source": [
        "arreglo[0]"
      ],
      "metadata": {
        "colab": {
          "base_uri": "https://localhost:8080/"
        },
        "id": "WCpE_rJWseoN",
        "outputId": "49dec2a2-871c-4038-9336-5c85a09886c7"
      },
      "execution_count": null,
      "outputs": [
        {
          "output_type": "execute_result",
          "data": {
            "text/plain": [
              "array([ 1., 18.,  5., 27., 25., 15., 21., 27.,  8.,  1., 22.,  9., 14.,\n",
              "        7., 27.,  6., 21., 14., 27., 27.])"
            ]
          },
          "metadata": {},
          "execution_count": 197
        }
      ]
    },
    {
      "cell_type": "code",
      "source": [
        "salida"
      ],
      "metadata": {
        "colab": {
          "base_uri": "https://localhost:8080/",
          "height": 35
        },
        "id": "b3oeDrRmm6EL",
        "outputId": "71873799-2314-4ca0-c6db-299e05ede999"
      },
      "execution_count": null,
      "outputs": [
        {
          "output_type": "execute_result",
          "data": {
            "text/plain": [
              "'are you having fun  '"
            ],
            "application/vnd.google.colaboratory.intrinsic+json": {
              "type": "string"
            }
          },
          "metadata": {},
          "execution_count": 198
        }
      ]
    },
    {
      "cell_type": "code",
      "source": [
        "def desencriptar(entrada, contraseña):\n",
        "  letras = {1: 'a',2: 'b', 3: 'c', 4: 'd', 5: 'e', 6: 'f', 7: 'g', 8: 'h', 9: 'i', 10: 'j', 11: 'k', 12: 'l', 13: 'm', 14: 'n', 15: 'o', 16: 'p', 17: 'q', 18: 'r', 19: 's', 20: 't', 21: 'u', 22: 'v', 23: 'w', 24: 'x', 25: 'y', 26: 'z', 27: ' '}\n",
        "  inversa = np.linalg.inv(contraseña)\n",
        "  mensaje = np.matmul(entrada , inversa)\n",
        "  mensaje = np.array(mensaje)\n",
        "  salida = \"\"\n",
        "  for i in range(len(mensaje)):\n",
        "    for m in mensaje[i]:\n",
        "      salida += letras[round(m)]\n",
        "\n",
        "  return salida"
      ],
      "metadata": {
        "id": "Rhkw9Xipow7O"
      },
      "execution_count": null,
      "outputs": []
    },
    {
      "cell_type": "code",
      "source": [
        "contraseña = np.matrix([[ 1,  2, -3,  4,  5],\n",
        "              [-2, -5,  8, -8, -9],\n",
        "              [ 1,  2, -2,  7,  9],\n",
        "              [ 1,  1,  0,  6, 12],\n",
        "              [ 2,  4, -6,  8, 11]])"
      ],
      "metadata": {
        "id": "d9NAlyIgqdFg"
      },
      "execution_count": null,
      "outputs": []
    },
    {
      "cell_type": "code",
      "source": [
        "mensaje"
      ],
      "metadata": {
        "colab": {
          "base_uri": "https://localhost:8080/"
        },
        "id": "w3-ueqiGqxfY",
        "outputId": "8e622aa4-1d1a-4614-f719-42598df1b560"
      },
      "execution_count": null,
      "outputs": [
        {
          "output_type": "execute_result",
          "data": {
            "text/plain": [
              "matrix([[  47,   49,  -19,  257,  487],\n",
              "        [  10,   -9,   63,  137,  236],\n",
              "        [  79,  142, -184,  372,  536],\n",
              "        [  59,   70,  -40,  332,  588]])"
            ]
          },
          "metadata": {},
          "execution_count": 201
        }
      ]
    },
    {
      "cell_type": "code",
      "source": [
        "desencriptar(mensaje,contraseña)\n",
        "# No se porque solo me lee la primera fila"
      ],
      "metadata": {
        "colab": {
          "base_uri": "https://localhost:8080/",
          "height": 35
        },
        "id": "5VPjfFHLp7s5",
        "outputId": "80d34469-3b42-458e-d58f-e4b87ee54ff2"
      },
      "execution_count": null,
      "outputs": [
        {
          "output_type": "execute_result",
          "data": {
            "text/plain": [
              "'are you having fun  '"
            ],
            "application/vnd.google.colaboratory.intrinsic+json": {
              "type": "string"
            }
          },
          "metadata": {},
          "execution_count": 202
        }
      ]
    },
    {
      "cell_type": "markdown",
      "metadata": {
        "id": "EWkTmx0pfb3G"
      },
      "source": [
        "2. Operaciones matricial con regresión lineal.\n",
        "\n",
        "Cuando se desea hacer una regresión lineal multivariada, existen diferentes formas de realizar la regresión, una de ellas es encontrar el error cuadrático medio y miniminzar el conjunto de parámetros de la regresión emplando algún metodo de minimización, otra forma es encontrar la expresión analítica en forma matricial, para determinar el conjunto de parámetros de la regresión. En este último caso, la regresión lineal viene dada por la siguiente expresion generalizada:\n",
        "\n",
        "\n",
        "- $\\Theta = (X^T X)^{-1} X^T y$\n",
        "\n",
        "donte $\\Theta$ es la matriz de parametros asociados a la regresión lineal, X la matriz de características y $y$ los valores esperados, así, si tenemos una conjunto de datos en N dimensiones; la recta, plano o hyperplano puede ser calculado como:\n",
        "\n",
        "$Y=\\Theta^T X$\n",
        "\n",
        "\n",
        "En el caso de dos dimensiones, supongamos que X, y Y presentan un comportamiento lineal, y vienen dados por ( En este caso el super indice es :\n",
        "\n",
        "\n",
        "- Sea $\\vec{X}=x^{(1)}, x^{(2)}, x^{(3)}, x^{(4)}, ..., x^{(m)}$\n",
        "- Sea $\\vec{Y}=y^{(1)}, y^{(2)}, y^{(3)}, y^{(4)}, ..., y^{(m)}$\n",
        "\n",
        "Para determinar la ecuación de la recta, hay que conocer los párametros $\\theta_0 $, $\\theta_1$, que cumplen que :   $y^{(i)} = \\theta_1 x^{(i)} + \\theta_0$ la anterior expresión puede ser escrita como:\n",
        "\n",
        "\\begin{equation}\n",
        "\\begin{bmatrix}\n",
        "y^{(1)}\\\\\n",
        "y^{(2)}\\\\\n",
        "\\vdots\\\\\n",
        "y^{(m)}\\\\\n",
        "\\end{bmatrix}=\n",
        "\\begin{bmatrix}\n",
        "\\theta_0 & \\theta_1 \\\\\n",
        "\\end{bmatrix}\n",
        "\\begin{bmatrix}\n",
        "1 & 1 & \\cdots & 1 \\\\\n",
        "x_1^{(1)} & x_1^{(2)} & \\cdots & x_1^{(m)} \\\\\n",
        "\\end{bmatrix}\n",
        "\\end{equation}\n",
        "\n",
        "\n",
        "Para determinar la matriz de theta entonces se puede aplicar la ecuación:\n",
        "\n",
        "- $\\Theta = (X^T X)^{-1} X^T y$\n",
        "\n",
        "donde:\n",
        "\\begin{equation}\n",
        "X=\n",
        "\\begin{bmatrix}\n",
        "1 & x_1^{(1)} \\\\\n",
        "1 & x_1^{(2)} \\\\\n",
        "\\vdots & \\vdots \\\\\n",
        "1 & x_1^{(m)}\n",
        "\\end{bmatrix}\n",
        "\\end{equation}\n",
        "\n",
        "y\n",
        "\n",
        "\n",
        "\\begin{equation}\n",
        "y=\n",
        "\\begin{bmatrix}\n",
        "y^{(1)} \\\\\n",
        "y^{(2)} \\\\\n",
        "\\vdots\\\\\n",
        "y^{(m)}\n",
        "\\end{bmatrix}\n",
        "\\end{equation}\n",
        "\n",
        "Su tarea será construir un programa que realice la regresión lineal para los siguientes puntos:\n",
        "```python\n",
        "N = 10\n",
        "x1 = np.linspace(0, 10, N)\n",
        "noise=2*np.random.random(N)-1\n",
        "y = 0.9*x1 + noise\n",
        "```\n",
        "\n",
        "\n",
        "\n",
        "Generalice para el siguiente problema bidimensional:\n",
        "\n",
        "\n",
        "```python\n",
        "N = 10\n",
        "x1 = np.linspace(-1, 1, N)\n",
        "x2 = np.linspace(-2, 2, N)\n",
        "noise1=2*np.random.random(N)-1\n",
        "noise2=2*np.random.random(N)-1\n",
        "y = 2*(x1+noise1) - 3*(x2+noise2) + 0.0 #+ 4*np.random.random(100)\n",
        "\n",
        "N = 10\n",
        "X1, X2 = np.meshgrid(x1,x2)\n",
        "Y = 2*X1 - 3*X2 + 0.0\n",
        "fig, ax = plt.subplots(subplot_kw={\"projection\": \"3d\"})\n",
        "surf = ax.plot_surface(X1, X2, Y)\n",
        "#scatter = ax.scatter(x1, x2, y,\"-\")\n",
        "```\n"
      ]
    },
    {
      "cell_type": "code",
      "execution_count": null,
      "metadata": {
        "id": "KswExEHkfb3H"
      },
      "outputs": [],
      "source": [
        "N = 10\n",
        "x0 = np.ones(N).reshape(1,N)\n",
        "x1 = np.linspace(0, 10, N).reshape(1,N)\n",
        "noise=2*np.random.random(N)-1\n",
        "y = 0.9*x1 + noise"
      ]
    },
    {
      "cell_type": "code",
      "source": [
        "y"
      ],
      "metadata": {
        "colab": {
          "base_uri": "https://localhost:8080/"
        },
        "id": "66SwhzQzvZNL",
        "outputId": "ecd4475a-4245-4ca0-f8b3-af32d844e456"
      },
      "execution_count": null,
      "outputs": [
        {
          "output_type": "execute_result",
          "data": {
            "text/plain": [
              "array([[0.90244921, 0.03482142, 2.75991369, 2.35934467, 4.6702373 ,\n",
              "        5.06134346, 6.77352722, 7.71493619, 8.31216774, 8.14535235]])"
            ]
          },
          "metadata": {},
          "execution_count": 204
        }
      ]
    },
    {
      "cell_type": "code",
      "source": [
        "result = np.zeros((2,N))\n",
        "result[0:1,0:] = x0\n",
        "result[1:,:]=x1\n",
        "Xt = result\n"
      ],
      "metadata": {
        "id": "6JJdaFlkuEI6"
      },
      "execution_count": null,
      "outputs": []
    },
    {
      "cell_type": "code",
      "source": [
        "np.matmul(y,multiplicacion1.T)"
      ],
      "metadata": {
        "colab": {
          "base_uri": "https://localhost:8080/"
        },
        "id": "Q69yDnh4zhhW",
        "outputId": "d0573968-feb6-4fd6-9954-707c47e0315e"
      },
      "execution_count": null,
      "outputs": [
        {
          "output_type": "execute_result",
          "data": {
            "text/plain": [
              "array([[0.26787336, 0.88110719]])"
            ]
          },
          "metadata": {},
          "execution_count": 206
        }
      ]
    },
    {
      "cell_type": "code",
      "source": [
        "X"
      ],
      "metadata": {
        "colab": {
          "base_uri": "https://localhost:8080/"
        },
        "id": "qLuBd-He0Bwm",
        "outputId": "a274f35e-a078-4768-ffdb-a7dfdcf89b06"
      },
      "execution_count": null,
      "outputs": [
        {
          "output_type": "execute_result",
          "data": {
            "text/plain": [
              "array([[ 1.        ,  0.        ],\n",
              "       [ 1.        ,  1.11111111],\n",
              "       [ 1.        ,  2.22222222],\n",
              "       [ 1.        ,  3.33333333],\n",
              "       [ 1.        ,  4.44444444],\n",
              "       [ 1.        ,  5.55555556],\n",
              "       [ 1.        ,  6.66666667],\n",
              "       [ 1.        ,  7.77777778],\n",
              "       [ 1.        ,  8.88888889],\n",
              "       [ 1.        , 10.        ]])"
            ]
          },
          "metadata": {},
          "execution_count": 207
        }
      ]
    },
    {
      "cell_type": "code",
      "source": [
        "X = Xt.T\n",
        "parentesis = np.matmul(Xt,X)\n",
        "inversa = np.linalg.inv(parentesis)\n",
        "multiplicacion1 = np.matmul(inversa, Xt)\n",
        "multiplicacion2 = np.matmul(y,multiplicacion1.T)\n",
        "theta = multiplicacion2\n",
        "\n",
        "Y = y.T\n",
        "Y\n",
        "#theta = np.matmul(np.matmul(np.linalg.inv(np.matmul(Xt,X)),Xt),y)"
      ],
      "metadata": {
        "colab": {
          "base_uri": "https://localhost:8080/"
        },
        "id": "mhzvl5RDsztm",
        "outputId": "0979d792-5c9d-4cea-c887-2e8727c82387"
      },
      "execution_count": null,
      "outputs": [
        {
          "output_type": "execute_result",
          "data": {
            "text/plain": [
              "array([[0.90244921],\n",
              "       [0.03482142],\n",
              "       [2.75991369],\n",
              "       [2.35934467],\n",
              "       [4.6702373 ],\n",
              "       [5.06134346],\n",
              "       [6.77352722],\n",
              "       [7.71493619],\n",
              "       [8.31216774],\n",
              "       [8.14535235]])"
            ]
          },
          "metadata": {},
          "execution_count": 208
        }
      ]
    },
    {
      "cell_type": "code",
      "source": [
        "theta[0]"
      ],
      "metadata": {
        "colab": {
          "base_uri": "https://localhost:8080/"
        },
        "id": "xMmQ1_SS0X1-",
        "outputId": "b45c36cf-eec9-475a-e75c-1e2e0068bad3"
      },
      "execution_count": null,
      "outputs": [
        {
          "output_type": "execute_result",
          "data": {
            "text/plain": [
              "array([0.26787336, 0.88110719])"
            ]
          },
          "metadata": {},
          "execution_count": 209
        }
      ]
    },
    {
      "cell_type": "code",
      "source": [
        "intercepto = theta[0][0]\n",
        "pendiente = theta[0][1]"
      ],
      "metadata": {
        "id": "bhJQU0KK0XwX"
      },
      "execution_count": null,
      "outputs": []
    },
    {
      "cell_type": "code",
      "source": [
        "f = lambda x: pendiente*x+intercepto"
      ],
      "metadata": {
        "id": "Q9xn3Q9-1RIy"
      },
      "execution_count": null,
      "outputs": []
    },
    {
      "cell_type": "code",
      "source": [
        "x = np.linspace(0,10,100)"
      ],
      "metadata": {
        "id": "gRxlURun1d0B"
      },
      "execution_count": null,
      "outputs": []
    },
    {
      "cell_type": "code",
      "source": [
        "plt.figure()\n",
        "plt.plot(x,f(x), c=\"pink\")\n",
        "plt.scatter(x1,y,c=\"lavenderblush\")\n",
        "plt.grid(c=\"paleturquoise\",alpha=0.4,linestyle=\":\")\n",
        "plt.title(\"Regresión lineal puntos dados\")\n",
        "plt.xlabel(\"x\")\n",
        "plt.ylabel(\"y\")\n",
        "plt.show()"
      ],
      "metadata": {
        "colab": {
          "base_uri": "https://localhost:8080/",
          "height": 472
        },
        "id": "ouPhHORj1bkb",
        "outputId": "09a2452e-6d31-4133-890c-60b44ee3cae3"
      },
      "execution_count": null,
      "outputs": [
        {
          "output_type": "display_data",
          "data": {
            "text/plain": [
              "<Figure size 640x480 with 1 Axes>"
            ],
            "image/png": "[encoded data removed]"
          },
          "metadata": {}
        }
      ]
    }
  ],
  "metadata": {
    "colab": {
      "provenance": [],
      "include_colab_link": true
    },
    "kernelspec": {
      "display_name": "Python 3 (ipykernel)",
      "language": "python",
      "name": "python3"
    },
    "language_info": {
      "codemirror_mode": {
        "name": "ipython",
        "version": 3
      },
      "file_extension": ".py",
      "mimetype": "text/x-python",
      "name": "python",
      "nbconvert_exporter": "python",
      "pygments_lexer": "ipython3",
      "version": "3.10.9"
    }
  },
  "nbformat": 4,
  "nbformat_minor": 0
}