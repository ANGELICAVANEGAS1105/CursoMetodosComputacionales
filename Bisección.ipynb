{
  "cells": [
    {
      "cell_type": "markdown",
      "metadata": {
        "id": "view-in-github",
        "colab_type": "text"
      },
      "source": [
        "<a href=\"https://colab.research.google.com/github/Elizajr/CursoMetodosComputacionales/blob/main/Bisecci%C3%B3n.ipynb\" target=\"_parent\"><img src=\"https://colab.research.google.com/assets/colab-badge.svg\" alt=\"Open In Colab\"/></a>"
      ]
    },
    {
      "cell_type": "markdown",
      "metadata": {
        "id": "JvhPRdFUpgnQ"
      },
      "source": [
        "Esta es la segunda vez que lo hago porque se me borró por error 😭😭😭😭"
      ]
    },
    {
      "cell_type": "code",
      "execution_count": null,
      "metadata": {
        "id": "sCMRfptbpgnX"
      },
      "outputs": [],
      "source": [
        "from scipy import optimize\n",
        "import matplotlib.pyplot as plt\n",
        "import numpy as np"
      ]
    },
    {
      "cell_type": "code",
      "execution_count": null,
      "metadata": {
        "id": "BIjPh4Pepgna"
      },
      "outputs": [],
      "source": [
        "def bisection(f,a,b,N):\n",
        "    p=1\n",
        "    for n in range(N):\n",
        "        p=(a+b)/2\n",
        "        if f(p)==0:\n",
        "            return p\n",
        "        if f(p)*f(a)>0:\n",
        "            a=p\n",
        "        if f(p)*f(a) < 0:\n",
        "            b=p\n",
        "    return p"
      ]
    },
    {
      "cell_type": "code",
      "execution_count": null,
      "metadata": {
        "id": "4W5G4FuBpgnb",
        "outputId": "9e03e0ae-5ea3-4f8f-a1ba-ace4a2cfc192"
      },
      "outputs": [
        {
          "name": "stdout",
          "output_type": "stream",
          "text": [
            "Valor para 0 iteraciones: 1\n",
            "Valor para 1 iteraciones: 1.0\n",
            "Valor para 2 iteraciones: 1.5\n",
            "Valor para 3 iteraciones: 1.25\n",
            "Valor para 4 iteraciones: 1.375\n",
            "Valor para 5 iteraciones: 1.3125\n",
            "Valor para 6 iteraciones: 1.28125\n",
            "Valor para 7 iteraciones: 1.265625\n",
            "Valor para 8 iteraciones: 1.2578125\n",
            "Valor para 9 iteraciones: 1.26171875\n",
            "Valor para 10 iteraciones: 1.259765625\n",
            "Valor para 11 iteraciones: 1.2607421875\n",
            "Valor para 12 iteraciones: 1.26025390625\n",
            "Valor para 13 iteraciones: 1.260009765625\n",
            "Valor para 14 iteraciones: 1.2598876953125\n",
            "Valor para 15 iteraciones: 1.25994873046875\n",
            "Valor para 16 iteraciones: 1.259918212890625\n",
            "Valor para 17 iteraciones: 1.2599334716796875\n",
            "Valor para 18 iteraciones: 1.2599258422851562\n",
            "Valor para 19 iteraciones: 1.2599220275878906\n",
            "Valor real:  1.2599210498948732\n",
            "Error absoluto:  9.296556153781665e-07\n"
          ]
        }
      ],
      "source": [
        "f= lambda x: x**3-2\n",
        "a=0\n",
        "b= 2\n",
        "N=20\n",
        "for n in range(N):\n",
        "    print(f\"Valor para {n} iteraciones: {bisection(f,a,b,n)}\")\n",
        "result=bisection(f,a,b,N)\n",
        "print(\"Valor real: \",2**(1/3))\n",
        "print(\"Error absoluto: \",abs((2**(1/3)-result)))\n"
      ]
    },
    {
      "cell_type": "code",
      "execution_count": null,
      "metadata": {
        "id": "Cok3SNx0pgnd",
        "outputId": "0c2fa978-f8ff-4e72-d937-40f0fb742416"
      },
      "outputs": [
        {
          "name": "stdout",
          "output_type": "stream",
          "text": [
            "Raíz de la función: 1.628718494926943\n"
          ]
        },
        {
          "data": {
            "image/png": "[encoded data removed]",
            "text/plain": [
              "<Figure size 432x288 with 1 Axes>"
            ]
          },
          "metadata": {
            "needs_background": "light"
          },
          "output_type": "display_data"
        }
      ],
      "source": [
        "def g(x):\n",
        "    return np.sqrt(x**2+1)+np.exp(x)*np.sin(x)-7\n",
        "a=0\n",
        "b=2\n",
        "X=np.linspace(-0.4,2.4)\n",
        "Y=g(X)\n",
        "r, result= optimize.bisect(g,a,b,full_output=True)\n",
        "print(f\"Raíz de la función: {r}\")\n",
        "plt.figure()\n",
        "plt.plot(X,Y,c=\"m\")\n",
        "plt.plot(r,g(r),\"o\",c=\"c\")\n",
        "plt.grid()\n",
        "plt.show()"
      ]
    }
  ],
  "metadata": {
    "kernelspec": {
      "display_name": "Python 3",
      "language": "python",
      "name": "python3"
    },
    "language_info": {
      "codemirror_mode": {
        "name": "ipython",
        "version": 3
      },
      "file_extension": ".py",
      "mimetype": "text/x-python",
      "name": "python",
      "nbconvert_exporter": "python",
      "pygments_lexer": "ipython3",
      "version": "3.10.2"
    },
    "orig_nbformat": 4,
    "colab": {
      "provenance": [],
      "include_colab_link": true
    }
  },
  "nbformat": 4,
  "nbformat_minor": 0
}